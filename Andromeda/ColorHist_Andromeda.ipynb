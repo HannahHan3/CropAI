{
 "cells": [
  {
   "cell_type": "markdown",
   "metadata": {},
   "source": [
    "# Andromeda in Jupyter\n",
    "\n",
    "### Interactive Inverse Dimension Reduction \n",
    "\n",
    "This notebook implements interactive dimension reduction (DR) for exploratory analysis of high-dimensional data.\n",
    "It uses a Multi-Dimensional Scaling (MDS) algorithm with a weighted distance metric. It enables both forward and inverse DR interaction. \n",
    "\n",
    "**MDS** projects high-dimensional data to a 2D scatterplot. A **weighted distance function** with user-specified weights on each dimension enables alternative projections that emphasize different dimensions. An **Inverse-DR** algorithm learns distance function weights for  user-constructed layouts of the data points.\n",
    "\n",
    "### Instructions:\n",
    "\n",
    "1. Run All\n",
    "1. Proceed to the interactive plots near the bottom\n",
    "1. There are three kinds of interactions:\n",
    "    1. Select points in the DR plot and click Details to see data values.\n",
    "    1. **Parametric interaction:** Adjust the weight sliders and click Apply to alter the projection plot.\n",
    "    1. **Projection interaction:** Drag points in the projection plot, then click Learn to see learned weights, and click Copy to see the updated projection plot.\n",
    "1. Be patient, its interactive matplotlib in python and Jupyter!\n",
    "\n",
    "### Credits:\n",
    "\n",
    "Authors: Han Liu and Chris North, Dept of Computer Science, Virginia Tech.\n",
    "\n",
    "Based on: *Self JZ, Dowling M, Wenskovitch J, Crandell I, Wang M, House L, Leman S, North C. Observation-Level and Parametric Interaction for High-Dimensional Data Analysis. ACM Transactions on Interactive Intelligent Systems.  8(2), 2018.* https://infovis.cs.vt.edu/sites/default/files/observation-level-parametric_first_look_version.pdf\n"
   ]
  },
  {
   "cell_type": "code",
   "execution_count": 1,
   "metadata": {},
   "outputs": [],
   "source": [
    "%matplotlib notebook\n",
    "# interactive notebook format is required for the interactive plot\n",
    "\n",
    "import numpy as np\n",
    "import pandas as pd\n",
    "import math\n",
    "import random\n",
    "\n",
    "from sklearn.decomposition import PCA\n",
    "from sklearn.manifold import MDS\n",
    "import sklearn.metrics.pairwise\n",
    "\n",
    "import matplotlib\n",
    "import matplotlib.pyplot as plt\n",
    "import ipywidgets as widgets\n",
    "from IPython.display import display"
   ]
  },
  {
   "cell_type": "markdown",
   "metadata": {},
   "source": [
    "# Load and Pre-process Data\n",
    "\n",
    "Change the **filename** to load a dataset.  CSV data file is expected to have a first column 'Name' that is used as the index, and header row of column names.  Numeric columns are used for projection."
   ]
  },
  {
   "cell_type": "code",
   "execution_count": 2,
   "metadata": {},
   "outputs": [
    {
     "name": "stdout",
     "output_type": "stream",
     "text": [
      "ColorHist_Andromeda.ipynb OppSift_Andromeda.ipynb\r\n",
      "DNN_Andromeda.ipynb       Sift_Andromeda.ipynb\r\n"
     ]
    }
   ],
   "source": [
    "! ls "
   ]
  },
  {
   "cell_type": "code",
   "execution_count": 3,
   "metadata": {},
   "outputs": [],
   "source": [
    "# filename = 'Animal_Data_Andromeda.csv'\n",
    "#filename = 'InfoVis_Fall_2015_Survey.csv'\n",
    "filename = '../csvFiles/ColorHistFeatures.csv'\n",
    "df = pd.read_csv(filename)"
   ]
  },
  {
   "cell_type": "code",
   "execution_count": 4,
   "metadata": {},
   "outputs": [
    {
     "data": {
      "text/plain": [
       "(67, 513)"
      ]
     },
     "metadata": {},
     "output_type": "display_data"
    },
    {
     "data": {
      "text/html": [
       "<div>\n",
       "<style scoped>\n",
       "    .dataframe tbody tr th:only-of-type {\n",
       "        vertical-align: middle;\n",
       "    }\n",
       "\n",
       "    .dataframe tbody tr th {\n",
       "        vertical-align: top;\n",
       "    }\n",
       "\n",
       "    .dataframe thead th {\n",
       "        text-align: right;\n",
       "    }\n",
       "</style>\n",
       "<table border=\"1\" class=\"dataframe\">\n",
       "  <thead>\n",
       "    <tr style=\"text-align: right;\">\n",
       "      <th></th>\n",
       "      <th>Image</th>\n",
       "      <th>(1, 'R=000-031', 'G=000-031', 'B=000-031')</th>\n",
       "      <th>(2, 'R=032-063', 'G=000-031', 'B=000-031')</th>\n",
       "      <th>(3, 'R=064-095', 'G=000-031', 'B=000-031')</th>\n",
       "      <th>(4, 'R=096-127', 'G=000-031', 'B=000-031')</th>\n",
       "      <th>(5, 'R=128-159', 'G=000-031', 'B=000-031')</th>\n",
       "      <th>(6, 'R=160-191', 'G=000-031', 'B=000-031')</th>\n",
       "      <th>(7, 'R=192-223', 'G=000-031', 'B=000-031')</th>\n",
       "      <th>(8, 'R=224-255', 'G=000-031', 'B=000-031')</th>\n",
       "      <th>(9, 'R=000-031', 'G=032-063', 'B=000-031')</th>\n",
       "      <th>...</th>\n",
       "      <th>(503, 'R=192-223', 'G=192-223', 'B=224-255')</th>\n",
       "      <th>(504, 'R=224-255', 'G=192-223', 'B=224-255')</th>\n",
       "      <th>(505, 'R=000-031', 'G=224-255', 'B=224-255')</th>\n",
       "      <th>(506, 'R=032-063', 'G=224-255', 'B=224-255')</th>\n",
       "      <th>(507, 'R=064-095', 'G=224-255', 'B=224-255')</th>\n",
       "      <th>(508, 'R=096-127', 'G=224-255', 'B=224-255')</th>\n",
       "      <th>(509, 'R=128-159', 'G=224-255', 'B=224-255')</th>\n",
       "      <th>(510, 'R=160-191', 'G=224-255', 'B=224-255')</th>\n",
       "      <th>(511, 'R=192-223', 'G=224-255', 'B=224-255')</th>\n",
       "      <th>(512, 'R=224-255', 'G=224-255', 'B=224-255')</th>\n",
       "    </tr>\n",
       "  </thead>\n",
       "  <tbody>\n",
       "    <tr>\n",
       "      <th>0</th>\n",
       "      <td>1802late90</td>\n",
       "      <td>0.040208</td>\n",
       "      <td>0.002873</td>\n",
       "      <td>0.0</td>\n",
       "      <td>0.0</td>\n",
       "      <td>0.0</td>\n",
       "      <td>0.0</td>\n",
       "      <td>0.0</td>\n",
       "      <td>0.0</td>\n",
       "      <td>0.000083</td>\n",
       "      <td>...</td>\n",
       "      <td>0.0</td>\n",
       "      <td>0.0</td>\n",
       "      <td>0.0</td>\n",
       "      <td>0.0</td>\n",
       "      <td>0.0</td>\n",
       "      <td>0.0</td>\n",
       "      <td>0.0</td>\n",
       "      <td>0.0</td>\n",
       "      <td>0.0</td>\n",
       "      <td>0.000000</td>\n",
       "    </tr>\n",
       "    <tr>\n",
       "      <th>1</th>\n",
       "      <td>1802late80</td>\n",
       "      <td>0.032241</td>\n",
       "      <td>0.004755</td>\n",
       "      <td>0.0</td>\n",
       "      <td>0.0</td>\n",
       "      <td>0.0</td>\n",
       "      <td>0.0</td>\n",
       "      <td>0.0</td>\n",
       "      <td>0.0</td>\n",
       "      <td>0.000000</td>\n",
       "      <td>...</td>\n",
       "      <td>0.0</td>\n",
       "      <td>0.0</td>\n",
       "      <td>0.0</td>\n",
       "      <td>0.0</td>\n",
       "      <td>0.0</td>\n",
       "      <td>0.0</td>\n",
       "      <td>0.0</td>\n",
       "      <td>0.0</td>\n",
       "      <td>0.0</td>\n",
       "      <td>0.000000</td>\n",
       "    </tr>\n",
       "    <tr>\n",
       "      <th>2</th>\n",
       "      <td>1793ready74</td>\n",
       "      <td>0.020282</td>\n",
       "      <td>0.000195</td>\n",
       "      <td>0.0</td>\n",
       "      <td>0.0</td>\n",
       "      <td>0.0</td>\n",
       "      <td>0.0</td>\n",
       "      <td>0.0</td>\n",
       "      <td>0.0</td>\n",
       "      <td>0.000684</td>\n",
       "      <td>...</td>\n",
       "      <td>0.0</td>\n",
       "      <td>0.0</td>\n",
       "      <td>0.0</td>\n",
       "      <td>0.0</td>\n",
       "      <td>0.0</td>\n",
       "      <td>0.0</td>\n",
       "      <td>0.0</td>\n",
       "      <td>0.0</td>\n",
       "      <td>0.0</td>\n",
       "      <td>0.000000</td>\n",
       "    </tr>\n",
       "    <tr>\n",
       "      <th>3</th>\n",
       "      <td>1793ready80</td>\n",
       "      <td>0.025474</td>\n",
       "      <td>0.000056</td>\n",
       "      <td>0.0</td>\n",
       "      <td>0.0</td>\n",
       "      <td>0.0</td>\n",
       "      <td>0.0</td>\n",
       "      <td>0.0</td>\n",
       "      <td>0.0</td>\n",
       "      <td>0.000309</td>\n",
       "      <td>...</td>\n",
       "      <td>0.0</td>\n",
       "      <td>0.0</td>\n",
       "      <td>0.0</td>\n",
       "      <td>0.0</td>\n",
       "      <td>0.0</td>\n",
       "      <td>0.0</td>\n",
       "      <td>0.0</td>\n",
       "      <td>0.0</td>\n",
       "      <td>0.0</td>\n",
       "      <td>0.000000</td>\n",
       "    </tr>\n",
       "    <tr>\n",
       "      <th>4</th>\n",
       "      <td>1793ready90</td>\n",
       "      <td>0.025508</td>\n",
       "      <td>0.000735</td>\n",
       "      <td>0.0</td>\n",
       "      <td>0.0</td>\n",
       "      <td>0.0</td>\n",
       "      <td>0.0</td>\n",
       "      <td>0.0</td>\n",
       "      <td>0.0</td>\n",
       "      <td>0.000205</td>\n",
       "      <td>...</td>\n",
       "      <td>0.0</td>\n",
       "      <td>0.0</td>\n",
       "      <td>0.0</td>\n",
       "      <td>0.0</td>\n",
       "      <td>0.0</td>\n",
       "      <td>0.0</td>\n",
       "      <td>0.0</td>\n",
       "      <td>0.0</td>\n",
       "      <td>0.0</td>\n",
       "      <td>0.000462</td>\n",
       "    </tr>\n",
       "  </tbody>\n",
       "</table>\n",
       "<p>5 rows × 513 columns</p>\n",
       "</div>"
      ],
      "text/plain": [
       "         Image  (1, 'R=000-031', 'G=000-031', 'B=000-031')  \\\n",
       "0   1802late90                                    0.040208   \n",
       "1   1802late80                                    0.032241   \n",
       "2  1793ready74                                    0.020282   \n",
       "3  1793ready80                                    0.025474   \n",
       "4  1793ready90                                    0.025508   \n",
       "\n",
       "   (2, 'R=032-063', 'G=000-031', 'B=000-031')  \\\n",
       "0                                    0.002873   \n",
       "1                                    0.004755   \n",
       "2                                    0.000195   \n",
       "3                                    0.000056   \n",
       "4                                    0.000735   \n",
       "\n",
       "   (3, 'R=064-095', 'G=000-031', 'B=000-031')  \\\n",
       "0                                         0.0   \n",
       "1                                         0.0   \n",
       "2                                         0.0   \n",
       "3                                         0.0   \n",
       "4                                         0.0   \n",
       "\n",
       "   (4, 'R=096-127', 'G=000-031', 'B=000-031')  \\\n",
       "0                                         0.0   \n",
       "1                                         0.0   \n",
       "2                                         0.0   \n",
       "3                                         0.0   \n",
       "4                                         0.0   \n",
       "\n",
       "   (5, 'R=128-159', 'G=000-031', 'B=000-031')  \\\n",
       "0                                         0.0   \n",
       "1                                         0.0   \n",
       "2                                         0.0   \n",
       "3                                         0.0   \n",
       "4                                         0.0   \n",
       "\n",
       "   (6, 'R=160-191', 'G=000-031', 'B=000-031')  \\\n",
       "0                                         0.0   \n",
       "1                                         0.0   \n",
       "2                                         0.0   \n",
       "3                                         0.0   \n",
       "4                                         0.0   \n",
       "\n",
       "   (7, 'R=192-223', 'G=000-031', 'B=000-031')  \\\n",
       "0                                         0.0   \n",
       "1                                         0.0   \n",
       "2                                         0.0   \n",
       "3                                         0.0   \n",
       "4                                         0.0   \n",
       "\n",
       "   (8, 'R=224-255', 'G=000-031', 'B=000-031')  \\\n",
       "0                                         0.0   \n",
       "1                                         0.0   \n",
       "2                                         0.0   \n",
       "3                                         0.0   \n",
       "4                                         0.0   \n",
       "\n",
       "   (9, 'R=000-031', 'G=032-063', 'B=000-031')  ...  \\\n",
       "0                                    0.000083  ...   \n",
       "1                                    0.000000  ...   \n",
       "2                                    0.000684  ...   \n",
       "3                                    0.000309  ...   \n",
       "4                                    0.000205  ...   \n",
       "\n",
       "   (503, 'R=192-223', 'G=192-223', 'B=224-255')  \\\n",
       "0                                           0.0   \n",
       "1                                           0.0   \n",
       "2                                           0.0   \n",
       "3                                           0.0   \n",
       "4                                           0.0   \n",
       "\n",
       "   (504, 'R=224-255', 'G=192-223', 'B=224-255')  \\\n",
       "0                                           0.0   \n",
       "1                                           0.0   \n",
       "2                                           0.0   \n",
       "3                                           0.0   \n",
       "4                                           0.0   \n",
       "\n",
       "   (505, 'R=000-031', 'G=224-255', 'B=224-255')  \\\n",
       "0                                           0.0   \n",
       "1                                           0.0   \n",
       "2                                           0.0   \n",
       "3                                           0.0   \n",
       "4                                           0.0   \n",
       "\n",
       "   (506, 'R=032-063', 'G=224-255', 'B=224-255')  \\\n",
       "0                                           0.0   \n",
       "1                                           0.0   \n",
       "2                                           0.0   \n",
       "3                                           0.0   \n",
       "4                                           0.0   \n",
       "\n",
       "   (507, 'R=064-095', 'G=224-255', 'B=224-255')  \\\n",
       "0                                           0.0   \n",
       "1                                           0.0   \n",
       "2                                           0.0   \n",
       "3                                           0.0   \n",
       "4                                           0.0   \n",
       "\n",
       "   (508, 'R=096-127', 'G=224-255', 'B=224-255')  \\\n",
       "0                                           0.0   \n",
       "1                                           0.0   \n",
       "2                                           0.0   \n",
       "3                                           0.0   \n",
       "4                                           0.0   \n",
       "\n",
       "   (509, 'R=128-159', 'G=224-255', 'B=224-255')  \\\n",
       "0                                           0.0   \n",
       "1                                           0.0   \n",
       "2                                           0.0   \n",
       "3                                           0.0   \n",
       "4                                           0.0   \n",
       "\n",
       "   (510, 'R=160-191', 'G=224-255', 'B=224-255')  \\\n",
       "0                                           0.0   \n",
       "1                                           0.0   \n",
       "2                                           0.0   \n",
       "3                                           0.0   \n",
       "4                                           0.0   \n",
       "\n",
       "   (511, 'R=192-223', 'G=224-255', 'B=224-255')  \\\n",
       "0                                           0.0   \n",
       "1                                           0.0   \n",
       "2                                           0.0   \n",
       "3                                           0.0   \n",
       "4                                           0.0   \n",
       "\n",
       "   (512, 'R=224-255', 'G=224-255', 'B=224-255')  \n",
       "0                                      0.000000  \n",
       "1                                      0.000000  \n",
       "2                                      0.000000  \n",
       "3                                      0.000000  \n",
       "4                                      0.000462  \n",
       "\n",
       "[5 rows x 513 columns]"
      ]
     },
     "execution_count": 4,
     "metadata": {},
     "output_type": "execute_result"
    }
   ],
   "source": [
    "display(df.shape)\n",
    "df.head(5)"
   ]
  },
  {
   "cell_type": "code",
   "execution_count": 5,
   "metadata": {},
   "outputs": [
    {
     "name": "stdout",
     "output_type": "stream",
     "text": [
      "Data size (r,c) = (67, 512)\n"
     ]
    },
    {
     "data": {
      "text/html": [
       "<div>\n",
       "<style scoped>\n",
       "    .dataframe tbody tr th:only-of-type {\n",
       "        vertical-align: middle;\n",
       "    }\n",
       "\n",
       "    .dataframe tbody tr th {\n",
       "        vertical-align: top;\n",
       "    }\n",
       "\n",
       "    .dataframe thead th {\n",
       "        text-align: right;\n",
       "    }\n",
       "</style>\n",
       "<table border=\"1\" class=\"dataframe\">\n",
       "  <thead>\n",
       "    <tr style=\"text-align: right;\">\n",
       "      <th></th>\n",
       "      <th>(1, 'R=000-031', 'G=000-031', 'B=000-031')</th>\n",
       "      <th>(2, 'R=032-063', 'G=000-031', 'B=000-031')</th>\n",
       "      <th>(3, 'R=064-095', 'G=000-031', 'B=000-031')</th>\n",
       "      <th>(4, 'R=096-127', 'G=000-031', 'B=000-031')</th>\n",
       "      <th>(5, 'R=128-159', 'G=000-031', 'B=000-031')</th>\n",
       "      <th>(6, 'R=160-191', 'G=000-031', 'B=000-031')</th>\n",
       "      <th>(7, 'R=192-223', 'G=000-031', 'B=000-031')</th>\n",
       "      <th>(8, 'R=224-255', 'G=000-031', 'B=000-031')</th>\n",
       "      <th>(9, 'R=000-031', 'G=032-063', 'B=000-031')</th>\n",
       "      <th>(10, 'R=032-063', 'G=032-063', 'B=000-031')</th>\n",
       "      <th>...</th>\n",
       "      <th>(503, 'R=192-223', 'G=192-223', 'B=224-255')</th>\n",
       "      <th>(504, 'R=224-255', 'G=192-223', 'B=224-255')</th>\n",
       "      <th>(505, 'R=000-031', 'G=224-255', 'B=224-255')</th>\n",
       "      <th>(506, 'R=032-063', 'G=224-255', 'B=224-255')</th>\n",
       "      <th>(507, 'R=064-095', 'G=224-255', 'B=224-255')</th>\n",
       "      <th>(508, 'R=096-127', 'G=224-255', 'B=224-255')</th>\n",
       "      <th>(509, 'R=128-159', 'G=224-255', 'B=224-255')</th>\n",
       "      <th>(510, 'R=160-191', 'G=224-255', 'B=224-255')</th>\n",
       "      <th>(511, 'R=192-223', 'G=224-255', 'B=224-255')</th>\n",
       "      <th>(512, 'R=224-255', 'G=224-255', 'B=224-255')</th>\n",
       "    </tr>\n",
       "    <tr>\n",
       "      <th>Image</th>\n",
       "      <th></th>\n",
       "      <th></th>\n",
       "      <th></th>\n",
       "      <th></th>\n",
       "      <th></th>\n",
       "      <th></th>\n",
       "      <th></th>\n",
       "      <th></th>\n",
       "      <th></th>\n",
       "      <th></th>\n",
       "      <th></th>\n",
       "      <th></th>\n",
       "      <th></th>\n",
       "      <th></th>\n",
       "      <th></th>\n",
       "      <th></th>\n",
       "      <th></th>\n",
       "      <th></th>\n",
       "      <th></th>\n",
       "      <th></th>\n",
       "      <th></th>\n",
       "    </tr>\n",
       "  </thead>\n",
       "  <tbody>\n",
       "    <tr>\n",
       "      <th>1793ready73</th>\n",
       "      <td>0.034346</td>\n",
       "      <td>0.000345</td>\n",
       "      <td>0.0</td>\n",
       "      <td>0.0</td>\n",
       "      <td>0.0</td>\n",
       "      <td>0.0</td>\n",
       "      <td>0.0</td>\n",
       "      <td>0.0</td>\n",
       "      <td>0.000632</td>\n",
       "      <td>0.005402</td>\n",
       "      <td>...</td>\n",
       "      <td>0.0</td>\n",
       "      <td>0.0</td>\n",
       "      <td>0.0</td>\n",
       "      <td>0.0</td>\n",
       "      <td>0.0</td>\n",
       "      <td>0.0</td>\n",
       "      <td>0.0</td>\n",
       "      <td>0.0</td>\n",
       "      <td>0.0</td>\n",
       "      <td>0.000000</td>\n",
       "    </tr>\n",
       "    <tr>\n",
       "      <th>1793ready74</th>\n",
       "      <td>0.020282</td>\n",
       "      <td>0.000195</td>\n",
       "      <td>0.0</td>\n",
       "      <td>0.0</td>\n",
       "      <td>0.0</td>\n",
       "      <td>0.0</td>\n",
       "      <td>0.0</td>\n",
       "      <td>0.0</td>\n",
       "      <td>0.000684</td>\n",
       "      <td>0.006445</td>\n",
       "      <td>...</td>\n",
       "      <td>0.0</td>\n",
       "      <td>0.0</td>\n",
       "      <td>0.0</td>\n",
       "      <td>0.0</td>\n",
       "      <td>0.0</td>\n",
       "      <td>0.0</td>\n",
       "      <td>0.0</td>\n",
       "      <td>0.0</td>\n",
       "      <td>0.0</td>\n",
       "      <td>0.000000</td>\n",
       "    </tr>\n",
       "    <tr>\n",
       "      <th>1793ready75</th>\n",
       "      <td>0.019038</td>\n",
       "      <td>0.000957</td>\n",
       "      <td>0.0</td>\n",
       "      <td>0.0</td>\n",
       "      <td>0.0</td>\n",
       "      <td>0.0</td>\n",
       "      <td>0.0</td>\n",
       "      <td>0.0</td>\n",
       "      <td>0.000103</td>\n",
       "      <td>0.007789</td>\n",
       "      <td>...</td>\n",
       "      <td>0.0</td>\n",
       "      <td>0.0</td>\n",
       "      <td>0.0</td>\n",
       "      <td>0.0</td>\n",
       "      <td>0.0</td>\n",
       "      <td>0.0</td>\n",
       "      <td>0.0</td>\n",
       "      <td>0.0</td>\n",
       "      <td>0.0</td>\n",
       "      <td>0.000000</td>\n",
       "    </tr>\n",
       "    <tr>\n",
       "      <th>1793ready76</th>\n",
       "      <td>0.035828</td>\n",
       "      <td>0.000133</td>\n",
       "      <td>0.0</td>\n",
       "      <td>0.0</td>\n",
       "      <td>0.0</td>\n",
       "      <td>0.0</td>\n",
       "      <td>0.0</td>\n",
       "      <td>0.0</td>\n",
       "      <td>0.000989</td>\n",
       "      <td>0.007192</td>\n",
       "      <td>...</td>\n",
       "      <td>0.0</td>\n",
       "      <td>0.0</td>\n",
       "      <td>0.0</td>\n",
       "      <td>0.0</td>\n",
       "      <td>0.0</td>\n",
       "      <td>0.0</td>\n",
       "      <td>0.0</td>\n",
       "      <td>0.0</td>\n",
       "      <td>0.0</td>\n",
       "      <td>0.002930</td>\n",
       "    </tr>\n",
       "    <tr>\n",
       "      <th>1793ready77</th>\n",
       "      <td>0.024311</td>\n",
       "      <td>0.000280</td>\n",
       "      <td>0.0</td>\n",
       "      <td>0.0</td>\n",
       "      <td>0.0</td>\n",
       "      <td>0.0</td>\n",
       "      <td>0.0</td>\n",
       "      <td>0.0</td>\n",
       "      <td>0.000573</td>\n",
       "      <td>0.004649</td>\n",
       "      <td>...</td>\n",
       "      <td>0.0</td>\n",
       "      <td>0.0</td>\n",
       "      <td>0.0</td>\n",
       "      <td>0.0</td>\n",
       "      <td>0.0</td>\n",
       "      <td>0.0</td>\n",
       "      <td>0.0</td>\n",
       "      <td>0.0</td>\n",
       "      <td>0.0</td>\n",
       "      <td>0.000293</td>\n",
       "    </tr>\n",
       "  </tbody>\n",
       "</table>\n",
       "<p>5 rows × 512 columns</p>\n",
       "</div>"
      ],
      "text/plain": [
       "             (1, 'R=000-031', 'G=000-031', 'B=000-031')  \\\n",
       "Image                                                     \n",
       "1793ready73                                    0.034346   \n",
       "1793ready74                                    0.020282   \n",
       "1793ready75                                    0.019038   \n",
       "1793ready76                                    0.035828   \n",
       "1793ready77                                    0.024311   \n",
       "\n",
       "             (2, 'R=032-063', 'G=000-031', 'B=000-031')  \\\n",
       "Image                                                     \n",
       "1793ready73                                    0.000345   \n",
       "1793ready74                                    0.000195   \n",
       "1793ready75                                    0.000957   \n",
       "1793ready76                                    0.000133   \n",
       "1793ready77                                    0.000280   \n",
       "\n",
       "             (3, 'R=064-095', 'G=000-031', 'B=000-031')  \\\n",
       "Image                                                     \n",
       "1793ready73                                         0.0   \n",
       "1793ready74                                         0.0   \n",
       "1793ready75                                         0.0   \n",
       "1793ready76                                         0.0   \n",
       "1793ready77                                         0.0   \n",
       "\n",
       "             (4, 'R=096-127', 'G=000-031', 'B=000-031')  \\\n",
       "Image                                                     \n",
       "1793ready73                                         0.0   \n",
       "1793ready74                                         0.0   \n",
       "1793ready75                                         0.0   \n",
       "1793ready76                                         0.0   \n",
       "1793ready77                                         0.0   \n",
       "\n",
       "             (5, 'R=128-159', 'G=000-031', 'B=000-031')  \\\n",
       "Image                                                     \n",
       "1793ready73                                         0.0   \n",
       "1793ready74                                         0.0   \n",
       "1793ready75                                         0.0   \n",
       "1793ready76                                         0.0   \n",
       "1793ready77                                         0.0   \n",
       "\n",
       "             (6, 'R=160-191', 'G=000-031', 'B=000-031')  \\\n",
       "Image                                                     \n",
       "1793ready73                                         0.0   \n",
       "1793ready74                                         0.0   \n",
       "1793ready75                                         0.0   \n",
       "1793ready76                                         0.0   \n",
       "1793ready77                                         0.0   \n",
       "\n",
       "             (7, 'R=192-223', 'G=000-031', 'B=000-031')  \\\n",
       "Image                                                     \n",
       "1793ready73                                         0.0   \n",
       "1793ready74                                         0.0   \n",
       "1793ready75                                         0.0   \n",
       "1793ready76                                         0.0   \n",
       "1793ready77                                         0.0   \n",
       "\n",
       "             (8, 'R=224-255', 'G=000-031', 'B=000-031')  \\\n",
       "Image                                                     \n",
       "1793ready73                                         0.0   \n",
       "1793ready74                                         0.0   \n",
       "1793ready75                                         0.0   \n",
       "1793ready76                                         0.0   \n",
       "1793ready77                                         0.0   \n",
       "\n",
       "             (9, 'R=000-031', 'G=032-063', 'B=000-031')  \\\n",
       "Image                                                     \n",
       "1793ready73                                    0.000632   \n",
       "1793ready74                                    0.000684   \n",
       "1793ready75                                    0.000103   \n",
       "1793ready76                                    0.000989   \n",
       "1793ready77                                    0.000573   \n",
       "\n",
       "             (10, 'R=032-063', 'G=032-063', 'B=000-031')  ...  \\\n",
       "Image                                                     ...   \n",
       "1793ready73                                     0.005402  ...   \n",
       "1793ready74                                     0.006445  ...   \n",
       "1793ready75                                     0.007789  ...   \n",
       "1793ready76                                     0.007192  ...   \n",
       "1793ready77                                     0.004649  ...   \n",
       "\n",
       "             (503, 'R=192-223', 'G=192-223', 'B=224-255')  \\\n",
       "Image                                                       \n",
       "1793ready73                                           0.0   \n",
       "1793ready74                                           0.0   \n",
       "1793ready75                                           0.0   \n",
       "1793ready76                                           0.0   \n",
       "1793ready77                                           0.0   \n",
       "\n",
       "             (504, 'R=224-255', 'G=192-223', 'B=224-255')  \\\n",
       "Image                                                       \n",
       "1793ready73                                           0.0   \n",
       "1793ready74                                           0.0   \n",
       "1793ready75                                           0.0   \n",
       "1793ready76                                           0.0   \n",
       "1793ready77                                           0.0   \n",
       "\n",
       "             (505, 'R=000-031', 'G=224-255', 'B=224-255')  \\\n",
       "Image                                                       \n",
       "1793ready73                                           0.0   \n",
       "1793ready74                                           0.0   \n",
       "1793ready75                                           0.0   \n",
       "1793ready76                                           0.0   \n",
       "1793ready77                                           0.0   \n",
       "\n",
       "             (506, 'R=032-063', 'G=224-255', 'B=224-255')  \\\n",
       "Image                                                       \n",
       "1793ready73                                           0.0   \n",
       "1793ready74                                           0.0   \n",
       "1793ready75                                           0.0   \n",
       "1793ready76                                           0.0   \n",
       "1793ready77                                           0.0   \n",
       "\n",
       "             (507, 'R=064-095', 'G=224-255', 'B=224-255')  \\\n",
       "Image                                                       \n",
       "1793ready73                                           0.0   \n",
       "1793ready74                                           0.0   \n",
       "1793ready75                                           0.0   \n",
       "1793ready76                                           0.0   \n",
       "1793ready77                                           0.0   \n",
       "\n",
       "             (508, 'R=096-127', 'G=224-255', 'B=224-255')  \\\n",
       "Image                                                       \n",
       "1793ready73                                           0.0   \n",
       "1793ready74                                           0.0   \n",
       "1793ready75                                           0.0   \n",
       "1793ready76                                           0.0   \n",
       "1793ready77                                           0.0   \n",
       "\n",
       "             (509, 'R=128-159', 'G=224-255', 'B=224-255')  \\\n",
       "Image                                                       \n",
       "1793ready73                                           0.0   \n",
       "1793ready74                                           0.0   \n",
       "1793ready75                                           0.0   \n",
       "1793ready76                                           0.0   \n",
       "1793ready77                                           0.0   \n",
       "\n",
       "             (510, 'R=160-191', 'G=224-255', 'B=224-255')  \\\n",
       "Image                                                       \n",
       "1793ready73                                           0.0   \n",
       "1793ready74                                           0.0   \n",
       "1793ready75                                           0.0   \n",
       "1793ready76                                           0.0   \n",
       "1793ready77                                           0.0   \n",
       "\n",
       "             (511, 'R=192-223', 'G=224-255', 'B=224-255')  \\\n",
       "Image                                                       \n",
       "1793ready73                                           0.0   \n",
       "1793ready74                                           0.0   \n",
       "1793ready75                                           0.0   \n",
       "1793ready76                                           0.0   \n",
       "1793ready77                                           0.0   \n",
       "\n",
       "             (512, 'R=224-255', 'G=224-255', 'B=224-255')  \n",
       "Image                                                      \n",
       "1793ready73                                      0.000000  \n",
       "1793ready74                                      0.000000  \n",
       "1793ready75                                      0.000000  \n",
       "1793ready76                                      0.002930  \n",
       "1793ready77                                      0.000293  \n",
       "\n",
       "[5 rows x 512 columns]"
      ]
     },
     "execution_count": 5,
     "metadata": {},
     "output_type": "execute_result"
    }
   ],
   "source": [
    "# Use 'Name' column as index\n",
    "#df.rename(columns={df.columns[0]:'Name'}, inplace=True)\n",
    "df.set_index('Image', inplace=True)\n",
    "\n",
    "# Sort rows and columns\n",
    "# df.sort_index(axis=1, inplace=True)\n",
    "df.sort_index(inplace=True)\n",
    "\n",
    "df_numeric = df.select_dtypes(include='number')  #'int32' or 'int64' or 'float32' or 'float64'\n",
    "df_category = df.select_dtypes(exclude='number') #'object'\n",
    "\n",
    "# Z-score normalization\n",
    "#normalized_df = (df_numeric - df_numeric.mean()) / df_numeric.std()\n",
    "normalized_df = df_numeric  # do not normalize animal dataset, all columns are 0-100 scale\n",
    "\n",
    "print('Data size (r,c) =', df_numeric.shape)\n",
    "df_numeric.head(5)"
   ]
  },
  {
   "cell_type": "markdown",
   "metadata": {},
   "source": [
    "#  Dimension Reduction Model:  Weighted MDS\n",
    "\n",
    "For DR, we use the Multi-Dimensional Scaling (MDS) algorithm on a weighted data space. **Dimension weights** are applied to the high-dimensional (HD) data.  Weights are normalized to sum to 1, so as to normalize the HD distances to roughly constant size space independent of p.\n",
    "\n",
    "The **distance function for the high-dimensional (HD) data** is L1 manhattan distance. L1 is good for general purpose use with multi-dimensional quantitative datasets. \n",
    "\n",
    "The **distance function for the 2D projected points** is L2 Euclidean distance, which makes sense for human percpetion in the plot."
   ]
  },
  {
   "cell_type": "code",
   "execution_count": 6,
   "metadata": {},
   "outputs": [],
   "source": [
    "# Compute the distance matrix for the weighted high-dimensional data using L1 distance function.\n",
    "#  Input HD data should already be weighted.\n",
    "def distance_matrix_HD(dataHDw):  # dataHDw (pandas or numpy) -> distance matrix (numpy)\n",
    "    dist_matrix = sklearn.metrics.pairwise.manhattan_distances(dataHDw)\n",
    "    #m = pd.DataFrame(m, columns=dataHD.index, index=dataHD.index)  # keep as np array for performance\n",
    "    return dist_matrix\n",
    "\n",
    "# Compute the distance matrix for 2D projected data using L2 distance function.\n",
    "def distance_matrix_2D(data2D):  # data2d (pandas or numpy) -> distance matrix (numpy)\n",
    "    dist_matrix = sklearn.metrics.pairwise.euclidean_distances(data2D) \n",
    "    #m = pd.DataFrame(m, columns=data2D.index, index=data2D.index) # keep as np array for performance\n",
    "    return dist_matrix\n",
    "\n",
    "#def dist(x,y):\n",
    "#    return np.linalg.norm(x-y, ord=2)"
   ]
  },
  {
   "cell_type": "markdown",
   "metadata": {},
   "source": [
    "**MDS** projects the weighted high-dimensional data to 2D. Tune the algorithm's parameters for performance."
   ]
  },
  {
   "cell_type": "code",
   "execution_count": 7,
   "metadata": {},
   "outputs": [],
   "source": [
    "# Calculate the MDS stress metric between HD and 2D distances.  Uses numpy for efficiency.\n",
    "def stress(distHD, dist2D):  #  distHD, dist2D (numpy) -> stress (float)\n",
    "    #s = np.sqrt((distHD-dist2D).pow(2).sum().sum() / distHD.pow(2).sum().sum())  # pandas\n",
    "    #s = np.sqrt(((distHD-dist2D)**2).sum() / (distHD**2).sum())   # numpy\n",
    "    s = ((distHD-dist2D)**2).sum() / (distHD**2).sum()   # numpy, eliminate sqrt for efficiency\n",
    "    return s\n",
    "\n",
    "def compute_mds(dataHDw):  # dataHDw -> data2D (pandas)\n",
    "    distHD = distance_matrix_HD(dataHDw)\n",
    "    # Adjust these parameters for performance/accuracy tradeoff\n",
    "    mds = sklearn.manifold.MDS(n_components=2, dissimilarity='precomputed', n_init=10, max_iter=1000)\n",
    "    # Reduction algorithm happens here:  data2D is nx2 matrix\n",
    "    data2D = mds.fit_transform(distHD)\n",
    "    \n",
    "    # Rotate the resulting 2D projection to make it more consistent across multiple runs.\n",
    "    # Set the 1st PC to the y axis, plot looks better to spread data vertically with horizontal text labels\n",
    "    pca = sklearn.decomposition.PCA(n_components=2)\n",
    "    data2D = pca.fit_transform(data2D)\n",
    "    data2D = pd.DataFrame(data2D, columns=['y','x'], index=dataHDw.index)\n",
    "    \n",
    "    data2D.stress_value = stress(distHD, distance_matrix_2D(data2D))\n",
    "    return data2D\n",
    "\n",
    "def dimension_reduction(dataHD, wts): # dataHD, wts -> data2D (pandas)\n",
    "    # Normalize the weights to sum to 1\n",
    "    wts = wts/wts.sum()\n",
    "    \n",
    "    # Apply weights to the HD data \n",
    "    dataHDw = dataHD * wts\n",
    "    \n",
    "    # DR algorithm\n",
    "    data2D = compute_mds(dataHDw)\n",
    "\n",
    "    # Compute row relevances as:  data dot weights\n",
    "    # High relevance means large values in upweighted dimensions\n",
    "    data2D['relevance'] = dataHDw.sum(axis=1)\n",
    "    return data2D\n",
    "\n",
    "\n",
    "min_weight, max_weight = 0.00001, 0.9999\n",
    "init_weight = min_weight  # 1.0/len(normalized_df.columns) # initialize to min to make the sliders easier to use.\n",
    "weights = pd.Series(init_weight, index=normalized_df.columns, name=\"Weight\")  # the current weight list\n",
    "\n",
    "df_2D = dimension_reduction(normalized_df, weights)   # the current projected data"
   ]
  },
  {
   "cell_type": "code",
   "execution_count": 8,
   "metadata": {},
   "outputs": [
    {
     "data": {
      "text/plain": [
       "(1, 'R=000-031', 'G=000-031', 'B=000-031')    0.00001\n",
       "(2, 'R=032-063', 'G=000-031', 'B=000-031')    0.00001\n",
       "Name: Weight, dtype: float64"
      ]
     },
     "execution_count": 8,
     "metadata": {},
     "output_type": "execute_result"
    }
   ],
   "source": [
    "weights.head(2)"
   ]
  },
  {
   "cell_type": "code",
   "execution_count": 9,
   "metadata": {},
   "outputs": [
    {
     "data": {
      "text/html": [
       "<div>\n",
       "<style scoped>\n",
       "    .dataframe tbody tr th:only-of-type {\n",
       "        vertical-align: middle;\n",
       "    }\n",
       "\n",
       "    .dataframe tbody tr th {\n",
       "        vertical-align: top;\n",
       "    }\n",
       "\n",
       "    .dataframe thead th {\n",
       "        text-align: right;\n",
       "    }\n",
       "</style>\n",
       "<table border=\"1\" class=\"dataframe\">\n",
       "  <thead>\n",
       "    <tr style=\"text-align: right;\">\n",
       "      <th>Image</th>\n",
       "      <th>1793ready73</th>\n",
       "      <th>1793ready74</th>\n",
       "      <th>1793ready75</th>\n",
       "      <th>1793ready76</th>\n",
       "      <th>1793ready77</th>\n",
       "      <th>1793ready78</th>\n",
       "      <th>1793ready80</th>\n",
       "      <th>1793ready81</th>\n",
       "      <th>1793ready82</th>\n",
       "      <th>1793ready83</th>\n",
       "      <th>...</th>\n",
       "      <th>1804lateDisease9</th>\n",
       "      <th>1808readyDisease1</th>\n",
       "      <th>1808readyDisease2</th>\n",
       "      <th>1808readyDisease3</th>\n",
       "      <th>1808readyDisease4</th>\n",
       "      <th>1808readyDisease5</th>\n",
       "      <th>1808readyDisease6</th>\n",
       "      <th>1808readyDisease7</th>\n",
       "      <th>1808readyDisease8</th>\n",
       "      <th>1808readyDisease9</th>\n",
       "    </tr>\n",
       "    <tr>\n",
       "      <th>Image</th>\n",
       "      <th></th>\n",
       "      <th></th>\n",
       "      <th></th>\n",
       "      <th></th>\n",
       "      <th></th>\n",
       "      <th></th>\n",
       "      <th></th>\n",
       "      <th></th>\n",
       "      <th></th>\n",
       "      <th></th>\n",
       "      <th></th>\n",
       "      <th></th>\n",
       "      <th></th>\n",
       "      <th></th>\n",
       "      <th></th>\n",
       "      <th></th>\n",
       "      <th></th>\n",
       "      <th></th>\n",
       "      <th></th>\n",
       "      <th></th>\n",
       "      <th></th>\n",
       "    </tr>\n",
       "  </thead>\n",
       "  <tbody>\n",
       "    <tr>\n",
       "      <th>1793ready73</th>\n",
       "      <td>0.000000</td>\n",
       "      <td>0.004489</td>\n",
       "      <td>0.004358</td>\n",
       "      <td>0.004289</td>\n",
       "      <td>0.001712</td>\n",
       "      <td>0.006634</td>\n",
       "      <td>0.005805</td>\n",
       "      <td>0.002660</td>\n",
       "      <td>0.006035</td>\n",
       "      <td>0.001884</td>\n",
       "      <td>...</td>\n",
       "      <td>0.008288</td>\n",
       "      <td>0.006292</td>\n",
       "      <td>0.002311</td>\n",
       "      <td>0.002531</td>\n",
       "      <td>0.004307</td>\n",
       "      <td>0.005152</td>\n",
       "      <td>0.005666</td>\n",
       "      <td>0.004032</td>\n",
       "      <td>0.006096</td>\n",
       "      <td>0.002940</td>\n",
       "    </tr>\n",
       "    <tr>\n",
       "      <th>1793ready74</th>\n",
       "      <td>0.004489</td>\n",
       "      <td>0.000000</td>\n",
       "      <td>0.005697</td>\n",
       "      <td>0.001883</td>\n",
       "      <td>0.005345</td>\n",
       "      <td>0.004098</td>\n",
       "      <td>0.001752</td>\n",
       "      <td>0.005455</td>\n",
       "      <td>0.002505</td>\n",
       "      <td>0.003844</td>\n",
       "      <td>...</td>\n",
       "      <td>0.007275</td>\n",
       "      <td>0.003576</td>\n",
       "      <td>0.004985</td>\n",
       "      <td>0.004488</td>\n",
       "      <td>0.006168</td>\n",
       "      <td>0.005140</td>\n",
       "      <td>0.002117</td>\n",
       "      <td>0.004504</td>\n",
       "      <td>0.005396</td>\n",
       "      <td>0.002876</td>\n",
       "    </tr>\n",
       "  </tbody>\n",
       "</table>\n",
       "<p>2 rows × 67 columns</p>\n",
       "</div>"
      ],
      "text/plain": [
       "Image        1793ready73  1793ready74  1793ready75  1793ready76  1793ready77  \\\n",
       "Image                                                                          \n",
       "1793ready73     0.000000     0.004489     0.004358     0.004289     0.001712   \n",
       "1793ready74     0.004489     0.000000     0.005697     0.001883     0.005345   \n",
       "\n",
       "Image        1793ready78  1793ready80  1793ready81  1793ready82  1793ready83  \\\n",
       "Image                                                                          \n",
       "1793ready73     0.006634     0.005805     0.002660     0.006035     0.001884   \n",
       "1793ready74     0.004098     0.001752     0.005455     0.002505     0.003844   \n",
       "\n",
       "Image        ...  1804lateDisease9  1808readyDisease1  1808readyDisease2  \\\n",
       "Image        ...                                                           \n",
       "1793ready73  ...          0.008288           0.006292           0.002311   \n",
       "1793ready74  ...          0.007275           0.003576           0.004985   \n",
       "\n",
       "Image        1808readyDisease3  1808readyDisease4  1808readyDisease5  \\\n",
       "Image                                                                  \n",
       "1793ready73           0.002531           0.004307           0.005152   \n",
       "1793ready74           0.004488           0.006168           0.005140   \n",
       "\n",
       "Image        1808readyDisease6  1808readyDisease7  1808readyDisease8  \\\n",
       "Image                                                                  \n",
       "1793ready73           0.005666           0.004032           0.006096   \n",
       "1793ready74           0.002117           0.004504           0.005396   \n",
       "\n",
       "Image        1808readyDisease9  \n",
       "Image                           \n",
       "1793ready73           0.002940  \n",
       "1793ready74           0.002876  \n",
       "\n",
       "[2 rows x 67 columns]"
      ]
     },
     "execution_count": 9,
     "metadata": {},
     "output_type": "execute_result"
    }
   ],
   "source": [
    "pd.DataFrame(distance_matrix_HD(normalized_df * (weights/weights.sum())), \n",
    "             columns=normalized_df.index, index=normalized_df.index).head(2)"
   ]
  },
  {
   "cell_type": "code",
   "execution_count": 10,
   "metadata": {},
   "outputs": [
    {
     "name": "stdout",
     "output_type": "stream",
     "text": [
      "0.035164483032133695\n"
     ]
    },
    {
     "data": {
      "text/html": [
       "<div>\n",
       "<style scoped>\n",
       "    .dataframe tbody tr th:only-of-type {\n",
       "        vertical-align: middle;\n",
       "    }\n",
       "\n",
       "    .dataframe tbody tr th {\n",
       "        vertical-align: top;\n",
       "    }\n",
       "\n",
       "    .dataframe thead th {\n",
       "        text-align: right;\n",
       "    }\n",
       "</style>\n",
       "<table border=\"1\" class=\"dataframe\">\n",
       "  <thead>\n",
       "    <tr style=\"text-align: right;\">\n",
       "      <th></th>\n",
       "      <th>y</th>\n",
       "      <th>x</th>\n",
       "      <th>relevance</th>\n",
       "    </tr>\n",
       "    <tr>\n",
       "      <th>Image</th>\n",
       "      <th></th>\n",
       "      <th></th>\n",
       "      <th></th>\n",
       "    </tr>\n",
       "  </thead>\n",
       "  <tbody>\n",
       "    <tr>\n",
       "      <th>1793ready73</th>\n",
       "      <td>-0.004397</td>\n",
       "      <td>0.001860</td>\n",
       "      <td>0.004762</td>\n",
       "    </tr>\n",
       "    <tr>\n",
       "      <th>1793ready74</th>\n",
       "      <td>-0.004329</td>\n",
       "      <td>-0.001554</td>\n",
       "      <td>0.003962</td>\n",
       "    </tr>\n",
       "  </tbody>\n",
       "</table>\n",
       "</div>"
      ],
      "text/plain": [
       "                    y         x  relevance\n",
       "Image                                     \n",
       "1793ready73 -0.004397  0.001860   0.004762\n",
       "1793ready74 -0.004329 -0.001554   0.003962"
      ]
     },
     "execution_count": 10,
     "metadata": {},
     "output_type": "execute_result"
    }
   ],
   "source": [
    "print(df_2D.stress_value)\n",
    "df_2D.head(2)"
   ]
  },
  {
   "cell_type": "markdown",
   "metadata": {},
   "source": [
    "# Inverse Dimension-Reduction Learning Algorithm\n",
    "\n",
    "Computes the inverse-Dimension-Reduction: given input 2D points, compute new weights.\n",
    "Optimizes the MDS stress function that compares 2D pairwise distances (||$x_i-x_j||$) to weighted HD pairwise distances ($d_{ij}$):\n",
    "![Stress](https://wikimedia.org/api/rest_v1/media/math/render/svg/7989b3afc0d8795a78c1631c7e807f260d9cfe68)\n",
    "\n",
    "Technically, we compute the inverse weighted distance function. We shortcut the optimization by eliminating MDS from the process, and assume that the user input 2D distances are actually the desired HD distances, not the 2D distances after re-projection. Thus, given the input (HD) distances, we find weights that would produce these distances in the HD space."
   ]
  },
  {
   "cell_type": "code",
   "execution_count": 11,
   "metadata": {},
   "outputs": [],
   "source": [
    "# This method is used to propose a new weight for current column in a smart fashion\n",
    "def new_proposal(current, step, direction):\n",
    "    return np.clip(current + direction*step*random.random(), 0.00001, 0.9999)\n",
    "\n",
    "# Repeatedly tries to modify each dim weight to see if it improves the stress, thus\n",
    "# getting the weighted high-dim distances to more closely match the input 2D distances.\n",
    "#   dataHD = high-dim data, as pandas\n",
    "#   data2D = 2D data input, as pandas\n",
    "#   weights = as pandas series, or None for weights[i]=1/p\n",
    "def inverse_DR(dataHD, data2D, curWeights=None):  # -> new weights, as Series\n",
    "    dist2D = distance_matrix_2D(data2D)  # compute 2D distances only once\n",
    "    col_names = dataHD.columns\n",
    "    dataHD = dataHD.to_numpy()  # use numpy for efficiency\n",
    "    row, col = dataHD.shape\n",
    "    \n",
    "    if curWeights==None:\n",
    "        curWeights = np.array([1.0/col]*col)  # default weights = 1/p\n",
    "    else:\n",
    "        curWeights = curWeights.to_numpy()\n",
    "        curWeights = curWeights / curWeights.sum()  # Normalize weights to sum to 1\n",
    "    newWeights = curWeights.copy()  # re-use this array for efficiency\n",
    "    \n",
    "    # Initialize state\n",
    "    flag = [0]*col         # degree of success of a weight change\n",
    "    direction = [1]*col  # direction to move a weight, pos or neg\n",
    "    step = [1.0/col]*col   # how much to change each weight\n",
    "    \n",
    "    dataHDw = dataHD * curWeights   # weighted space, re-use this array for efficiency\n",
    "    distHD = distance_matrix_HD(dataHDw)\n",
    "    curStress = stress(distHD, dist2D)\n",
    "    print('Starting stress =', curStress, 'Processing...')\n",
    "\n",
    "    MAX = 500   # default setting of the number of iterations\n",
    "\n",
    "    # Try to minorly adjust each weight to see if it reduces stress\n",
    "    for i in range(MAX):\n",
    "        for dim in range(col):            \n",
    "            # Get a new weight for current column\n",
    "            nw = new_proposal(curWeights[dim], step[dim], direction[dim])\n",
    "            \n",
    "            # Scale the weight list such that it sums to 1\n",
    "            #newWeights = curWeights.copy()  # avoid extra copy op using math below\n",
    "            #newWeights[dim] = nw\n",
    "            #newWeights = newWeights / s\n",
    "            s = 1.0  + nw - curWeights[dim]   # 1.0 == curWeights.sum()\n",
    "            np.true_divide(curWeights, s, out=newWeights)  # transfers to other array, while doing /\n",
    "            newWeights[dim] = nw / s\n",
    "            \n",
    "            # Apply new weights to HD data\n",
    "            np.multiply(dataHD, newWeights, out=dataHDw)  # dataHDw = dataHD * newWeights; efficiently reuses dataHDw array\n",
    "            distHD = distance_matrix_HD(dataHDw)\n",
    "\n",
    "            # Get the new stress\n",
    "            newStress = stress(distHD, dist2D)\n",
    "            \n",
    "            # If new stress is lower, then update weights and flag this success\n",
    "            if newStress < curStress:\n",
    "                temp = curWeights\n",
    "                curWeights = newWeights\n",
    "                newWeights = temp   # reuse the old array next iteration\n",
    "                curStress = newStress\n",
    "                flag[dim] = flag[dim] + 1\n",
    "            else:\n",
    "                flag[dim] = flag[dim] - 1\n",
    "                direction[dim] = -direction[dim]  # Reverse course\n",
    "    \n",
    "            # If recent success, then speed up the step rate\n",
    "            if flag[dim] >= 5:\n",
    "                step[dim] = step[dim] * 2\n",
    "                flag[dim] = 0\n",
    "            elif flag[dim] <= -5:\n",
    "                step[dim] = step[dim] / 2\n",
    "                flag[dim] = 0\n",
    "                \n",
    "    print('Solution stress =', curStress, 'Done.')\n",
    "    #print(\"weight\", curWeights)\n",
    "    #print(\"flag\", flag)\n",
    "    #print(\"dir\", direction)\n",
    "    #print(\"step\", step)\n",
    "    return pd.Series(curWeights, index=col_names, name=\"Weight\")\n"
   ]
  },
  {
   "cell_type": "markdown",
   "metadata": {},
   "source": [
    "# Visualization and UI code\n",
    "\n",
    "Use these functions to create the GUI components in any cell."
   ]
  },
  {
   "cell_type": "markdown",
   "metadata": {},
   "source": [
    "## Sliders"
   ]
  },
  {
   "cell_type": "code",
   "execution_count": 12,
   "metadata": {},
   "outputs": [],
   "source": [
    "def create_sliders(wts):\n",
    "    # Create sliders, one for each dimension weight\n",
    "    sliders = [widgets.FloatSlider(min=min_weight, max=max_weight, step=0.01, value=value, \n",
    "                                       description=label, \n",
    "                                   style={'description_width': 'initial'},\n",
    "                                   layout=widgets.Layout(width='50%'),\n",
    "                                   continuous_update=False, readout_format='.5f')\n",
    "                   for (label, value) in wts.iteritems()]\n",
    "    # Display sliders\n",
    "    for s in sliders:\n",
    "        #s.observe(sliderchange, names='value')\n",
    "        display(s)\n",
    "        \n",
    "    create_slider_buttons(sliders)\n",
    "    return sliders\n",
    "\n",
    "def create_slider_buttons(sliders):    \n",
    "    apply_button = widgets.Button(description='Apply Slider Weights')\n",
    "    reset_button = widgets.Button(description='Reset Plot')\n",
    "\n",
    "    # Callback functions\n",
    "    def apply_button_clicked(change):\n",
    "        # Use the slider values to re compute the DR and redraw the plot\n",
    "        global weights, df_2D   # Update weights and df_2D globals\n",
    "        weights = pd.Series([s.value for s in sliders], index=normalized_df.columns, name='Weight')\n",
    "        df_2D = dimension_reduction(normalized_df, weights)   \n",
    "        \n",
    "        # Re-draw the plot\n",
    "        draw_plot(plot_ax, df_2D)\n",
    "    apply_button.on_click(apply_button_clicked)\n",
    "\n",
    "    def reset_button_clicked(change):\n",
    "        # Reset all sliders to initial value and re-compute DR and re-draw the plot\n",
    "        for s in sliders:\n",
    "            s.value = init_weight\n",
    "        apply_button_clicked(change)\n",
    "    reset_button.on_click(reset_button_clicked)\n",
    "    \n",
    "    # Display buttons\n",
    "    display(apply_button)\n",
    "    display(reset_button)\n",
    "    return apply_button, reset_button\n"
   ]
  },
  {
   "cell_type": "markdown",
   "metadata": {},
   "source": [
    "## Print Details Button"
   ]
  },
  {
   "cell_type": "code",
   "execution_count": 13,
   "metadata": {},
   "outputs": [],
   "source": [
    "def create_detail_display():\n",
    "    # Print selected points\n",
    "    print_button = widgets.Button(description='Print selected points')\n",
    "    print_output = widgets.Output()\n",
    "\n",
    "    def print_button_clicked(change):\n",
    "        print_output.clear_output()\n",
    "        # Get list of selected points and print their source data values\n",
    "        selset = [c.index for c in plot_ax.circles if c.selected]\n",
    "        with print_output:\n",
    "            if len(selset) > 0:\n",
    "                print(df.iloc[selset, :].transpose())\n",
    "            else:\n",
    "                print('Select points in the plot to see details here')\n",
    "    print_button.on_click(print_button_clicked)\n",
    "\n",
    "    display(print_button)\n",
    "    display(print_output)\n",
    "    return print_button, print_output\n"
   ]
  },
  {
   "cell_type": "markdown",
   "metadata": {},
   "source": [
    "## Inverse DR Button and Plot"
   ]
  },
  {
   "cell_type": "code",
   "execution_count": 14,
   "metadata": {},
   "outputs": [],
   "source": [
    "def create_inverse_button():\n",
    "    inverse_button = widgets.Button(description='Learn New Weights')\n",
    "    copy_button = widgets.Button(description='Copy to Sliders')\n",
    "\n",
    "    def inverse_button_clicked(change):\n",
    "        ax.clear()\n",
    "\n",
    "        # Check minimum number of points moved\n",
    "        n = len([1 for c in plot_ax.circles if c.selected])\n",
    "        if n < 2:\n",
    "            print('Need to select or move at least 2 points in the plot first.')\n",
    "            return\n",
    "\n",
    "        # Get selected data points\n",
    "        data2Dnew = pd.DataFrame([c.center for c in plot_ax.circles if c.selected], columns=['x','y'], \n",
    "                                index=[c.label for c in plot_ax.circles if c.selected])\n",
    "        dataHDpart = normalized_df.loc[data2Dnew.index]\n",
    "\n",
    "        # Learn new weights\n",
    "        global weights\n",
    "        weights = inverse_DR(dataHDpart, data2Dnew)\n",
    "        \n",
    "        # Display new weights as a bar chart\n",
    "        weights.sort_index(ascending=False).plot.barh(ax=ax)\n",
    "        ax.set_xlabel(\"Weight\")\n",
    "        fig.tight_layout()\n",
    "    inverse_button.on_click(inverse_button_clicked)\n",
    "\n",
    "    def copy_button_clicked(change):\n",
    "        # Set sliders to reflect the learned weights and update the DR and plot accordingly\n",
    "        global df_2D\n",
    "        for i,s in enumerate(sliders):\n",
    "            s.value = weights[i]\n",
    "        df_2D = dimension_reduction(normalized_df, weights)   \n",
    "        draw_plot(plot_ax, df_2D)\n",
    "    copy_button.on_click(copy_button_clicked)\n",
    "    display(inverse_button)\n",
    "    display(copy_button)\n",
    "    fig, ax = plt.subplots(figsize=(5,7))   # reserve a fig for the weights bar chart\n",
    "    return inverse_button, copy_button, ax\n"
   ]
  },
  {
   "cell_type": "markdown",
   "metadata": {},
   "source": [
    "## Draggable Dimension-Reduction 2D Plot"
   ]
  },
  {
   "cell_type": "code",
   "execution_count": 15,
   "metadata": {},
   "outputs": [],
   "source": [
    "# Handles mouse drag interaction events in the plot, users can select and drag points.\n",
    "class DraggablePoints(object):\n",
    "    def __init__(self, ax, artists):\n",
    "        self.ax = ax\n",
    "        self.artists = artists\n",
    "        self.current_artist = None\n",
    "        self.last_selected = None\n",
    "        ax.selected_text.set_text('Selected: none')\n",
    "        self.offset = (0, 0)\n",
    "        # Set up mouse listeners\n",
    "        ax.figure.canvas.mpl_connect('pick_event', self.on_pick)\n",
    "        ax.figure.canvas.mpl_connect('motion_notify_event', self.on_motion)\n",
    "        ax.figure.canvas.mpl_connect('button_release_event', self.on_release)\n",
    "\n",
    "    def on_pick(self, event):\n",
    "        # When point is clicked on (mouse down), select it and start the drag\n",
    "        if self.current_artist is None:  # clicking on overlapped points sends multiple events\n",
    "            self.last_selected = event.artist.index  # event.ind\n",
    "            self.current_artist = event.artist\n",
    "            event.artist.selected = True\n",
    "            event.artist.savecolor = event.artist.get_facecolor()\n",
    "            event.artist.set_facecolor('green')\n",
    "            #event.artist.set_alpha(1.0)\n",
    "            self.ax.selected_text.set_text(\"Selected: \" + event.artist.label)\n",
    "            x0, y0 = event.artist.center\n",
    "            self.offset = (x0 - event.mouseevent.xdata), (y0 - event.mouseevent.ydata)\n",
    "\n",
    "    def on_motion(self, event):\n",
    "        # When dragging, check if point is selected and valid mouse coordinates\n",
    "        if (self.current_artist is not None) and (event.xdata is not None) and (event.ydata is not None):\n",
    "            # Drag the point and its text label\n",
    "            dx, dy = self.offset\n",
    "            self.current_artist.center = x0, y0 = event.xdata + dx, event.ydata + dy\n",
    "            self.current_artist.text.set_position((x0 - self.current_artist.radius/2, \n",
    "                                                   y0 - self.current_artist.radius/2))\n",
    "            #self.ax.figure.canvas.draw()  # slow\n",
    "        \n",
    "    def on_release(self, event):\n",
    "        # When mouse is released, stop the drag\n",
    "        self.current_artist = None\n",
    "        #self.ax.figure.canvas.draw()"
   ]
  },
  {
   "cell_type": "code",
   "execution_count": 16,
   "metadata": {
    "scrolled": false
   },
   "outputs": [],
   "source": [
    "def create_plot(data2D):\n",
    "    # Initialize DR plot figure\n",
    "    fig, ax = plt.subplots(figsize= (8,7))\n",
    "    ax.selected_text = ax.figure.text(0,0.005, 'Selected: none', wrap=True, color='green')\n",
    "    fig.colorbar(plt.cm.ScalarMappable(norm=matplotlib.colors.Normalize(), cmap=plt.cm.plasma), ax=ax, label=\"Relevance\", ticks=[], shrink=0.5, aspect=40, fraction=0.05)\n",
    "    # ax = data2D.plot.scatter(x=\"x\", y=\"y\", alpha=0.5, c=\"relevance\", s=75, ax=ax\n",
    "    #                   colormap=plt.cm.plasma, sharex=False, figsize=(8, 6), picker=True)\n",
    "    # ax.collections[0].get_offsets());   set_offsets(data2D[['y','x']]);   .get_facecolors()\n",
    "    \n",
    "    # Clean up the plot\n",
    "    ax.set_xticks([])\n",
    "    ax.set_yticks([])\n",
    "    ax.figure.tight_layout()\n",
    "    #plt.show()\n",
    "    \n",
    "    # Store state data:\n",
    "    ax.circles = None\n",
    "    ax.dragpoint = None\n",
    "    \n",
    "    draw_plot(ax, data2D)\n",
    "    return ax\n",
    "\n",
    "def draw_plot(ax, data2D):\n",
    "    # Re-draws the DR plot in the axes with the updated data2D\n",
    "    ax.clear()\n",
    "    # Map data to circles, with x, y, and relevance->color\n",
    "    wid = max(data2D.x.max() - data2D.x.min(), data2D.y.max() - data2D.y.min())  # max range of x,y axes\n",
    "    cnorm = matplotlib.colors.Normalize(vmin=data2D.relevance.min(), vmax=data2D.relevance.max())\n",
    "    ax.circles = data2D.apply(axis=1, func=lambda row: \n",
    "        matplotlib.patches.Circle(xy=(row.x, row.y), radius=wid/70, alpha=0.5, \n",
    "                                  color=plt.cm.plasma(cnorm(row.relevance)), picker=True))\n",
    "    for i,c in enumerate(ax.circles):\n",
    "        # Store state data:\n",
    "        c.index, c.label, c.selected = i, data2D.index[i], False\n",
    "        # Draw circles and text labels in plot\n",
    "        ax.add_patch(c)\n",
    "        c.text = ax.text(c.center[0]-c.radius/2, c.center[1]-c.radius/2, c.label)\n",
    "    # Make plot circles draggable\n",
    "    ax.dragpoint = DraggablePoints(ax, ax.circles)\n",
    "    \n",
    "    # Clean up the plot\n",
    "    ax.set_xticks([])\n",
    "    ax.set_yticks([])\n",
    "    ax.axis('equal')\n",
    "    #plt.show()\n"
   ]
  },
  {
   "cell_type": "markdown",
   "metadata": {},
   "source": [
    "# Interactive Visualization"
   ]
  },
  {
   "cell_type": "markdown",
   "metadata": {},
   "source": [
    "## Sliders\n",
    "Use the sliders to control the **dimension weights** for the input HD data. The weights indicate which dimensions are given more emphasis in the DR plot distances.  For computational reasons, weights cannot go to absolute zero. When used in DR, the weights are first normalized such that they sum to 1.\n",
    "\n",
    "After adjusting the sliders, click the **Apply** button to show the results in the DR plot.\n",
    "\n",
    "To reset the sliders to their default values, click the **Reset** button."
   ]
  },
  {
   "cell_type": "code",
   "execution_count": 17,
   "metadata": {
    "scrolled": true
   },
   "outputs": [
    {
     "data": {
      "application/vnd.jupyter.widget-view+json": {
       "model_id": "c56ca07dc44248659fca8ba64443c3ec",
       "version_major": 2,
       "version_minor": 0
      },
      "text/plain": [
       "FloatSlider(value=1e-05, continuous_update=False, description=\"(1, 'R=000-031', 'G=000-031', 'B=000-031')\", la…"
      ]
     },
     "metadata": {},
     "output_type": "display_data"
    },
    {
     "data": {
      "application/vnd.jupyter.widget-view+json": {
       "model_id": "780bba30f18344f9b219c1f08890d49a",
       "version_major": 2,
       "version_minor": 0
      },
      "text/plain": [
       "FloatSlider(value=1e-05, continuous_update=False, description=\"(2, 'R=032-063', 'G=000-031', 'B=000-031')\", la…"
      ]
     },
     "metadata": {},
     "output_type": "display_data"
    },
    {
     "data": {
      "application/vnd.jupyter.widget-view+json": {
       "model_id": "56861cafe1de49ce8e1fcb76acf2aa59",
       "version_major": 2,
       "version_minor": 0
      },
      "text/plain": [
       "FloatSlider(value=1e-05, continuous_update=False, description=\"(3, 'R=064-095', 'G=000-031', 'B=000-031')\", la…"
      ]
     },
     "metadata": {},
     "output_type": "display_data"
    },
    {
     "data": {
      "application/vnd.jupyter.widget-view+json": {
       "model_id": "c9cf5be158414f9bab48033464a635a6",
       "version_major": 2,
       "version_minor": 0
      },
      "text/plain": [
       "FloatSlider(value=1e-05, continuous_update=False, description=\"(4, 'R=096-127', 'G=000-031', 'B=000-031')\", la…"
      ]
     },
     "metadata": {},
     "output_type": "display_data"
    },
    {
     "data": {
      "application/vnd.jupyter.widget-view+json": {
       "model_id": "693349adbe8243fc8b0eef2892a4a3cb",
       "version_major": 2,
       "version_minor": 0
      },
      "text/plain": [
       "FloatSlider(value=1e-05, continuous_update=False, description=\"(5, 'R=128-159', 'G=000-031', 'B=000-031')\", la…"
      ]
     },
     "metadata": {},
     "output_type": "display_data"
    },
    {
     "data": {
      "application/vnd.jupyter.widget-view+json": {
       "model_id": "508c477e90f5420596130b5e474da185",
       "version_major": 2,
       "version_minor": 0
      },
      "text/plain": [
       "FloatSlider(value=1e-05, continuous_update=False, description=\"(6, 'R=160-191', 'G=000-031', 'B=000-031')\", la…"
      ]
     },
     "metadata": {},
     "output_type": "display_data"
    },
    {
     "data": {
      "application/vnd.jupyter.widget-view+json": {
       "model_id": "c889ef4016664765a0228ef66ec8183f",
       "version_major": 2,
       "version_minor": 0
      },
      "text/plain": [
       "FloatSlider(value=1e-05, continuous_update=False, description=\"(7, 'R=192-223', 'G=000-031', 'B=000-031')\", la…"
      ]
     },
     "metadata": {},
     "output_type": "display_data"
    },
    {
     "data": {
      "application/vnd.jupyter.widget-view+json": {
       "model_id": "b5bdc71d8ea5402c9b197c7b8fc211e1",
       "version_major": 2,
       "version_minor": 0
      },
      "text/plain": [
       "FloatSlider(value=1e-05, continuous_update=False, description=\"(8, 'R=224-255', 'G=000-031', 'B=000-031')\", la…"
      ]
     },
     "metadata": {},
     "output_type": "display_data"
    },
    {
     "data": {
      "application/vnd.jupyter.widget-view+json": {
       "model_id": "efb9b124c1444c5c878f260a8917ec2a",
       "version_major": 2,
       "version_minor": 0
      },
      "text/plain": [
       "FloatSlider(value=1e-05, continuous_update=False, description=\"(9, 'R=000-031', 'G=032-063', 'B=000-031')\", la…"
      ]
     },
     "metadata": {},
     "output_type": "display_data"
    },
    {
     "data": {
      "application/vnd.jupyter.widget-view+json": {
       "model_id": "5161c440f8d549e5b5705f8df83e551c",
       "version_major": 2,
       "version_minor": 0
      },
      "text/plain": [
       "FloatSlider(value=1e-05, continuous_update=False, description=\"(10, 'R=032-063', 'G=032-063', 'B=000-031')\", l…"
      ]
     },
     "metadata": {},
     "output_type": "display_data"
    },
    {
     "data": {
      "application/vnd.jupyter.widget-view+json": {
       "model_id": "bd4573bbd6554e9690847794e6741996",
       "version_major": 2,
       "version_minor": 0
      },
      "text/plain": [
       "FloatSlider(value=1e-05, continuous_update=False, description=\"(11, 'R=064-095', 'G=032-063', 'B=000-031')\", l…"
      ]
     },
     "metadata": {},
     "output_type": "display_data"
    },
    {
     "data": {
      "application/vnd.jupyter.widget-view+json": {
       "model_id": "09881f12059540598b882531615ec741",
       "version_major": 2,
       "version_minor": 0
      },
      "text/plain": [
       "FloatSlider(value=1e-05, continuous_update=False, description=\"(12, 'R=096-127', 'G=032-063', 'B=000-031')\", l…"
      ]
     },
     "metadata": {},
     "output_type": "display_data"
    },
    {
     "data": {
      "application/vnd.jupyter.widget-view+json": {
       "model_id": "af0925cd4268444784f9095fe9ff1c8c",
       "version_major": 2,
       "version_minor": 0
      },
      "text/plain": [
       "FloatSlider(value=1e-05, continuous_update=False, description=\"(13, 'R=128-159', 'G=032-063', 'B=000-031')\", l…"
      ]
     },
     "metadata": {},
     "output_type": "display_data"
    },
    {
     "data": {
      "application/vnd.jupyter.widget-view+json": {
       "model_id": "92cc9e64839249ce9e895172bc48437c",
       "version_major": 2,
       "version_minor": 0
      },
      "text/plain": [
       "FloatSlider(value=1e-05, continuous_update=False, description=\"(14, 'R=160-191', 'G=032-063', 'B=000-031')\", l…"
      ]
     },
     "metadata": {},
     "output_type": "display_data"
    },
    {
     "data": {
      "application/vnd.jupyter.widget-view+json": {
       "model_id": "07440ff24db5474692d62145e98682f1",
       "version_major": 2,
       "version_minor": 0
      },
      "text/plain": [
       "FloatSlider(value=1e-05, continuous_update=False, description=\"(15, 'R=192-223', 'G=032-063', 'B=000-031')\", l…"
      ]
     },
     "metadata": {},
     "output_type": "display_data"
    },
    {
     "data": {
      "application/vnd.jupyter.widget-view+json": {
       "model_id": "0b73cf52703140f9b306900b1d40caaf",
       "version_major": 2,
       "version_minor": 0
      },
      "text/plain": [
       "FloatSlider(value=1e-05, continuous_update=False, description=\"(16, 'R=224-255', 'G=032-063', 'B=000-031')\", l…"
      ]
     },
     "metadata": {},
     "output_type": "display_data"
    },
    {
     "data": {
      "application/vnd.jupyter.widget-view+json": {
       "model_id": "b9c7b611b038454ca1207887b101ff00",
       "version_major": 2,
       "version_minor": 0
      },
      "text/plain": [
       "FloatSlider(value=1e-05, continuous_update=False, description=\"(17, 'R=000-031', 'G=064-095', 'B=000-031')\", l…"
      ]
     },
     "metadata": {},
     "output_type": "display_data"
    },
    {
     "data": {
      "application/vnd.jupyter.widget-view+json": {
       "model_id": "e6dbb95d7699403cbfd098abcb6e00ea",
       "version_major": 2,
       "version_minor": 0
      },
      "text/plain": [
       "FloatSlider(value=1e-05, continuous_update=False, description=\"(18, 'R=032-063', 'G=064-095', 'B=000-031')\", l…"
      ]
     },
     "metadata": {},
     "output_type": "display_data"
    },
    {
     "data": {
      "application/vnd.jupyter.widget-view+json": {
       "model_id": "8118867190d94b97b4c3705636869f5f",
       "version_major": 2,
       "version_minor": 0
      },
      "text/plain": [
       "FloatSlider(value=1e-05, continuous_update=False, description=\"(19, 'R=064-095', 'G=064-095', 'B=000-031')\", l…"
      ]
     },
     "metadata": {},
     "output_type": "display_data"
    },
    {
     "data": {
      "application/vnd.jupyter.widget-view+json": {
       "model_id": "057cbad158e44d5b872fe344243ee4ad",
       "version_major": 2,
       "version_minor": 0
      },
      "text/plain": [
       "FloatSlider(value=1e-05, continuous_update=False, description=\"(20, 'R=096-127', 'G=064-095', 'B=000-031')\", l…"
      ]
     },
     "metadata": {},
     "output_type": "display_data"
    },
    {
     "data": {
      "application/vnd.jupyter.widget-view+json": {
       "model_id": "06cf76d5ede441499cb3822afdc9c9e4",
       "version_major": 2,
       "version_minor": 0
      },
      "text/plain": [
       "FloatSlider(value=1e-05, continuous_update=False, description=\"(21, 'R=128-159', 'G=064-095', 'B=000-031')\", l…"
      ]
     },
     "metadata": {},
     "output_type": "display_data"
    },
    {
     "data": {
      "application/vnd.jupyter.widget-view+json": {
       "model_id": "6721e93156a8426b8e9b442503c93a6c",
       "version_major": 2,
       "version_minor": 0
      },
      "text/plain": [
       "FloatSlider(value=1e-05, continuous_update=False, description=\"(22, 'R=160-191', 'G=064-095', 'B=000-031')\", l…"
      ]
     },
     "metadata": {},
     "output_type": "display_data"
    },
    {
     "data": {
      "application/vnd.jupyter.widget-view+json": {
       "model_id": "cd1b67fccdf34879bb89eedf980448e6",
       "version_major": 2,
       "version_minor": 0
      },
      "text/plain": [
       "FloatSlider(value=1e-05, continuous_update=False, description=\"(23, 'R=192-223', 'G=064-095', 'B=000-031')\", l…"
      ]
     },
     "metadata": {},
     "output_type": "display_data"
    },
    {
     "data": {
      "application/vnd.jupyter.widget-view+json": {
       "model_id": "9a335a857cb74d6f8a13269b3c2d1c5f",
       "version_major": 2,
       "version_minor": 0
      },
      "text/plain": [
       "FloatSlider(value=1e-05, continuous_update=False, description=\"(24, 'R=224-255', 'G=064-095', 'B=000-031')\", l…"
      ]
     },
     "metadata": {},
     "output_type": "display_data"
    },
    {
     "data": {
      "application/vnd.jupyter.widget-view+json": {
       "model_id": "bb0c8b755c7340a5bb51c214e27fae2f",
       "version_major": 2,
       "version_minor": 0
      },
      "text/plain": [
       "FloatSlider(value=1e-05, continuous_update=False, description=\"(25, 'R=000-031', 'G=096-127', 'B=000-031')\", l…"
      ]
     },
     "metadata": {},
     "output_type": "display_data"
    },
    {
     "data": {
      "application/vnd.jupyter.widget-view+json": {
       "model_id": "b5bbc814c133433794e0ccfe457bf049",
       "version_major": 2,
       "version_minor": 0
      },
      "text/plain": [
       "FloatSlider(value=1e-05, continuous_update=False, description=\"(26, 'R=032-063', 'G=096-127', 'B=000-031')\", l…"
      ]
     },
     "metadata": {},
     "output_type": "display_data"
    },
    {
     "data": {
      "application/vnd.jupyter.widget-view+json": {
       "model_id": "d326eab368ef4a45b363b90c5bafebda",
       "version_major": 2,
       "version_minor": 0
      },
      "text/plain": [
       "FloatSlider(value=1e-05, continuous_update=False, description=\"(27, 'R=064-095', 'G=096-127', 'B=000-031')\", l…"
      ]
     },
     "metadata": {},
     "output_type": "display_data"
    },
    {
     "data": {
      "application/vnd.jupyter.widget-view+json": {
       "model_id": "d05e0129da124f3d86e91ee49ec4c26f",
       "version_major": 2,
       "version_minor": 0
      },
      "text/plain": [
       "FloatSlider(value=1e-05, continuous_update=False, description=\"(28, 'R=096-127', 'G=096-127', 'B=000-031')\", l…"
      ]
     },
     "metadata": {},
     "output_type": "display_data"
    },
    {
     "data": {
      "application/vnd.jupyter.widget-view+json": {
       "model_id": "7f8a8a8555934fdaad06f7dd0ba7c63b",
       "version_major": 2,
       "version_minor": 0
      },
      "text/plain": [
       "FloatSlider(value=1e-05, continuous_update=False, description=\"(29, 'R=128-159', 'G=096-127', 'B=000-031')\", l…"
      ]
     },
     "metadata": {},
     "output_type": "display_data"
    },
    {
     "data": {
      "application/vnd.jupyter.widget-view+json": {
       "model_id": "7d050b2342224527ba84167bcbe2edd8",
       "version_major": 2,
       "version_minor": 0
      },
      "text/plain": [
       "FloatSlider(value=1e-05, continuous_update=False, description=\"(30, 'R=160-191', 'G=096-127', 'B=000-031')\", l…"
      ]
     },
     "metadata": {},
     "output_type": "display_data"
    },
    {
     "data": {
      "application/vnd.jupyter.widget-view+json": {
       "model_id": "9d60a9052d254fc19eccbb5bc9463e49",
       "version_major": 2,
       "version_minor": 0
      },
      "text/plain": [
       "FloatSlider(value=1e-05, continuous_update=False, description=\"(31, 'R=192-223', 'G=096-127', 'B=000-031')\", l…"
      ]
     },
     "metadata": {},
     "output_type": "display_data"
    },
    {
     "data": {
      "application/vnd.jupyter.widget-view+json": {
       "model_id": "458f4f84f733471e960850f69d2f7d20",
       "version_major": 2,
       "version_minor": 0
      },
      "text/plain": [
       "FloatSlider(value=1e-05, continuous_update=False, description=\"(32, 'R=224-255', 'G=096-127', 'B=000-031')\", l…"
      ]
     },
     "metadata": {},
     "output_type": "display_data"
    },
    {
     "data": {
      "application/vnd.jupyter.widget-view+json": {
       "model_id": "b878c4e8a9da4e47b0d93f0f45a8f629",
       "version_major": 2,
       "version_minor": 0
      },
      "text/plain": [
       "FloatSlider(value=1e-05, continuous_update=False, description=\"(33, 'R=000-031', 'G=128-159', 'B=000-031')\", l…"
      ]
     },
     "metadata": {},
     "output_type": "display_data"
    },
    {
     "data": {
      "application/vnd.jupyter.widget-view+json": {
       "model_id": "b790b342ecde46c3b8ea8fbd1e038967",
       "version_major": 2,
       "version_minor": 0
      },
      "text/plain": [
       "FloatSlider(value=1e-05, continuous_update=False, description=\"(34, 'R=032-063', 'G=128-159', 'B=000-031')\", l…"
      ]
     },
     "metadata": {},
     "output_type": "display_data"
    },
    {
     "data": {
      "application/vnd.jupyter.widget-view+json": {
       "model_id": "9672720e58f942c1bbe470e3e8895aa2",
       "version_major": 2,
       "version_minor": 0
      },
      "text/plain": [
       "FloatSlider(value=1e-05, continuous_update=False, description=\"(35, 'R=064-095', 'G=128-159', 'B=000-031')\", l…"
      ]
     },
     "metadata": {},
     "output_type": "display_data"
    },
    {
     "data": {
      "application/vnd.jupyter.widget-view+json": {
       "model_id": "53bcf25098794ccdb52cc5621f3439a6",
       "version_major": 2,
       "version_minor": 0
      },
      "text/plain": [
       "FloatSlider(value=1e-05, continuous_update=False, description=\"(36, 'R=096-127', 'G=128-159', 'B=000-031')\", l…"
      ]
     },
     "metadata": {},
     "output_type": "display_data"
    },
    {
     "data": {
      "application/vnd.jupyter.widget-view+json": {
       "model_id": "40d2c2fa8e50469ebee2283a90f41f37",
       "version_major": 2,
       "version_minor": 0
      },
      "text/plain": [
       "FloatSlider(value=1e-05, continuous_update=False, description=\"(37, 'R=128-159', 'G=128-159', 'B=000-031')\", l…"
      ]
     },
     "metadata": {},
     "output_type": "display_data"
    },
    {
     "data": {
      "application/vnd.jupyter.widget-view+json": {
       "model_id": "d5245d701baa483abf3dcc5e5642488c",
       "version_major": 2,
       "version_minor": 0
      },
      "text/plain": [
       "FloatSlider(value=1e-05, continuous_update=False, description=\"(38, 'R=160-191', 'G=128-159', 'B=000-031')\", l…"
      ]
     },
     "metadata": {},
     "output_type": "display_data"
    },
    {
     "data": {
      "application/vnd.jupyter.widget-view+json": {
       "model_id": "88a1d4afe1ac4e6d868136e0b91678be",
       "version_major": 2,
       "version_minor": 0
      },
      "text/plain": [
       "FloatSlider(value=1e-05, continuous_update=False, description=\"(39, 'R=192-223', 'G=128-159', 'B=000-031')\", l…"
      ]
     },
     "metadata": {},
     "output_type": "display_data"
    },
    {
     "data": {
      "application/vnd.jupyter.widget-view+json": {
       "model_id": "046fe98d3a224d77a417e2ee4ef82fa3",
       "version_major": 2,
       "version_minor": 0
      },
      "text/plain": [
       "FloatSlider(value=1e-05, continuous_update=False, description=\"(40, 'R=224-255', 'G=128-159', 'B=000-031')\", l…"
      ]
     },
     "metadata": {},
     "output_type": "display_data"
    },
    {
     "data": {
      "application/vnd.jupyter.widget-view+json": {
       "model_id": "3b2fdfef9dbe4137857bc0493f73a8b7",
       "version_major": 2,
       "version_minor": 0
      },
      "text/plain": [
       "FloatSlider(value=1e-05, continuous_update=False, description=\"(41, 'R=000-031', 'G=160-191', 'B=000-031')\", l…"
      ]
     },
     "metadata": {},
     "output_type": "display_data"
    },
    {
     "data": {
      "application/vnd.jupyter.widget-view+json": {
       "model_id": "2167767b0c8b4b3eb9ec57f9daa959e6",
       "version_major": 2,
       "version_minor": 0
      },
      "text/plain": [
       "FloatSlider(value=1e-05, continuous_update=False, description=\"(42, 'R=032-063', 'G=160-191', 'B=000-031')\", l…"
      ]
     },
     "metadata": {},
     "output_type": "display_data"
    },
    {
     "data": {
      "application/vnd.jupyter.widget-view+json": {
       "model_id": "c20a43055b6449e7986c140a099f6f91",
       "version_major": 2,
       "version_minor": 0
      },
      "text/plain": [
       "FloatSlider(value=1e-05, continuous_update=False, description=\"(43, 'R=064-095', 'G=160-191', 'B=000-031')\", l…"
      ]
     },
     "metadata": {},
     "output_type": "display_data"
    },
    {
     "data": {
      "application/vnd.jupyter.widget-view+json": {
       "model_id": "4f5ed8665d9c4ee0964786fc03a4a3a8",
       "version_major": 2,
       "version_minor": 0
      },
      "text/plain": [
       "FloatSlider(value=1e-05, continuous_update=False, description=\"(44, 'R=096-127', 'G=160-191', 'B=000-031')\", l…"
      ]
     },
     "metadata": {},
     "output_type": "display_data"
    },
    {
     "data": {
      "application/vnd.jupyter.widget-view+json": {
       "model_id": "98e6febc7e6f4de9b9f9789a74779a2f",
       "version_major": 2,
       "version_minor": 0
      },
      "text/plain": [
       "FloatSlider(value=1e-05, continuous_update=False, description=\"(45, 'R=128-159', 'G=160-191', 'B=000-031')\", l…"
      ]
     },
     "metadata": {},
     "output_type": "display_data"
    },
    {
     "data": {
      "application/vnd.jupyter.widget-view+json": {
       "model_id": "657ae25618e3464aad89bed2dd07cb25",
       "version_major": 2,
       "version_minor": 0
      },
      "text/plain": [
       "FloatSlider(value=1e-05, continuous_update=False, description=\"(46, 'R=160-191', 'G=160-191', 'B=000-031')\", l…"
      ]
     },
     "metadata": {},
     "output_type": "display_data"
    },
    {
     "data": {
      "application/vnd.jupyter.widget-view+json": {
       "model_id": "fd67877565a148089ac5c2bbe006bf60",
       "version_major": 2,
       "version_minor": 0
      },
      "text/plain": [
       "FloatSlider(value=1e-05, continuous_update=False, description=\"(47, 'R=192-223', 'G=160-191', 'B=000-031')\", l…"
      ]
     },
     "metadata": {},
     "output_type": "display_data"
    },
    {
     "data": {
      "application/vnd.jupyter.widget-view+json": {
       "model_id": "2ff00643fb8843579c46e6271f997abe",
       "version_major": 2,
       "version_minor": 0
      },
      "text/plain": [
       "FloatSlider(value=1e-05, continuous_update=False, description=\"(48, 'R=224-255', 'G=160-191', 'B=000-031')\", l…"
      ]
     },
     "metadata": {},
     "output_type": "display_data"
    },
    {
     "data": {
      "application/vnd.jupyter.widget-view+json": {
       "model_id": "88ff47ac29ea428d8b40661518a90381",
       "version_major": 2,
       "version_minor": 0
      },
      "text/plain": [
       "FloatSlider(value=1e-05, continuous_update=False, description=\"(49, 'R=000-031', 'G=192-223', 'B=000-031')\", l…"
      ]
     },
     "metadata": {},
     "output_type": "display_data"
    },
    {
     "data": {
      "application/vnd.jupyter.widget-view+json": {
       "model_id": "909e3f0884a940a0a3174ce4a04d6e37",
       "version_major": 2,
       "version_minor": 0
      },
      "text/plain": [
       "FloatSlider(value=1e-05, continuous_update=False, description=\"(50, 'R=032-063', 'G=192-223', 'B=000-031')\", l…"
      ]
     },
     "metadata": {},
     "output_type": "display_data"
    },
    {
     "data": {
      "application/vnd.jupyter.widget-view+json": {
       "model_id": "bdf7620a6d72472caef28c9db3afee6e",
       "version_major": 2,
       "version_minor": 0
      },
      "text/plain": [
       "FloatSlider(value=1e-05, continuous_update=False, description=\"(51, 'R=064-095', 'G=192-223', 'B=000-031')\", l…"
      ]
     },
     "metadata": {},
     "output_type": "display_data"
    },
    {
     "data": {
      "application/vnd.jupyter.widget-view+json": {
       "model_id": "159467faf0e34de7ac0b4c78447095af",
       "version_major": 2,
       "version_minor": 0
      },
      "text/plain": [
       "FloatSlider(value=1e-05, continuous_update=False, description=\"(52, 'R=096-127', 'G=192-223', 'B=000-031')\", l…"
      ]
     },
     "metadata": {},
     "output_type": "display_data"
    },
    {
     "data": {
      "application/vnd.jupyter.widget-view+json": {
       "model_id": "ba07e6e9f4264f3ca9561776f9fe72b8",
       "version_major": 2,
       "version_minor": 0
      },
      "text/plain": [
       "FloatSlider(value=1e-05, continuous_update=False, description=\"(53, 'R=128-159', 'G=192-223', 'B=000-031')\", l…"
      ]
     },
     "metadata": {},
     "output_type": "display_data"
    },
    {
     "data": {
      "application/vnd.jupyter.widget-view+json": {
       "model_id": "360fed6456ec439fae27fe37b253cf5a",
       "version_major": 2,
       "version_minor": 0
      },
      "text/plain": [
       "FloatSlider(value=1e-05, continuous_update=False, description=\"(54, 'R=160-191', 'G=192-223', 'B=000-031')\", l…"
      ]
     },
     "metadata": {},
     "output_type": "display_data"
    },
    {
     "data": {
      "application/vnd.jupyter.widget-view+json": {
       "model_id": "6c9535e1b3b948a49cc62b466fa3babe",
       "version_major": 2,
       "version_minor": 0
      },
      "text/plain": [
       "FloatSlider(value=1e-05, continuous_update=False, description=\"(55, 'R=192-223', 'G=192-223', 'B=000-031')\", l…"
      ]
     },
     "metadata": {},
     "output_type": "display_data"
    },
    {
     "data": {
      "application/vnd.jupyter.widget-view+json": {
       "model_id": "1ad798f0207146bbba5b28d7ddb56d77",
       "version_major": 2,
       "version_minor": 0
      },
      "text/plain": [
       "FloatSlider(value=1e-05, continuous_update=False, description=\"(56, 'R=224-255', 'G=192-223', 'B=000-031')\", l…"
      ]
     },
     "metadata": {},
     "output_type": "display_data"
    },
    {
     "data": {
      "application/vnd.jupyter.widget-view+json": {
       "model_id": "bf8d887f185240b099b8112a75aec985",
       "version_major": 2,
       "version_minor": 0
      },
      "text/plain": [
       "FloatSlider(value=1e-05, continuous_update=False, description=\"(57, 'R=000-031', 'G=224-255', 'B=000-031')\", l…"
      ]
     },
     "metadata": {},
     "output_type": "display_data"
    },
    {
     "data": {
      "application/vnd.jupyter.widget-view+json": {
       "model_id": "9b2503adc34d4dc193b7437418b37a35",
       "version_major": 2,
       "version_minor": 0
      },
      "text/plain": [
       "FloatSlider(value=1e-05, continuous_update=False, description=\"(58, 'R=032-063', 'G=224-255', 'B=000-031')\", l…"
      ]
     },
     "metadata": {},
     "output_type": "display_data"
    },
    {
     "data": {
      "application/vnd.jupyter.widget-view+json": {
       "model_id": "9893f3dc351e4119ad76fcb265ce1be1",
       "version_major": 2,
       "version_minor": 0
      },
      "text/plain": [
       "FloatSlider(value=1e-05, continuous_update=False, description=\"(59, 'R=064-095', 'G=224-255', 'B=000-031')\", l…"
      ]
     },
     "metadata": {},
     "output_type": "display_data"
    },
    {
     "data": {
      "application/vnd.jupyter.widget-view+json": {
       "model_id": "11721b3358364e7bb6264db13361088f",
       "version_major": 2,
       "version_minor": 0
      },
      "text/plain": [
       "FloatSlider(value=1e-05, continuous_update=False, description=\"(60, 'R=096-127', 'G=224-255', 'B=000-031')\", l…"
      ]
     },
     "metadata": {},
     "output_type": "display_data"
    },
    {
     "data": {
      "application/vnd.jupyter.widget-view+json": {
       "model_id": "21c2863049574bf49e63a8916f0f504f",
       "version_major": 2,
       "version_minor": 0
      },
      "text/plain": [
       "FloatSlider(value=1e-05, continuous_update=False, description=\"(61, 'R=128-159', 'G=224-255', 'B=000-031')\", l…"
      ]
     },
     "metadata": {},
     "output_type": "display_data"
    },
    {
     "data": {
      "application/vnd.jupyter.widget-view+json": {
       "model_id": "d7ef685ca33949ee81143ad34e0459d5",
       "version_major": 2,
       "version_minor": 0
      },
      "text/plain": [
       "FloatSlider(value=1e-05, continuous_update=False, description=\"(62, 'R=160-191', 'G=224-255', 'B=000-031')\", l…"
      ]
     },
     "metadata": {},
     "output_type": "display_data"
    },
    {
     "data": {
      "application/vnd.jupyter.widget-view+json": {
       "model_id": "1c9e70c5fb3841e0a72df288f8c2ffb8",
       "version_major": 2,
       "version_minor": 0
      },
      "text/plain": [
       "FloatSlider(value=1e-05, continuous_update=False, description=\"(63, 'R=192-223', 'G=224-255', 'B=000-031')\", l…"
      ]
     },
     "metadata": {},
     "output_type": "display_data"
    },
    {
     "data": {
      "application/vnd.jupyter.widget-view+json": {
       "model_id": "a1bf716159a342edbe77015017b208d0",
       "version_major": 2,
       "version_minor": 0
      },
      "text/plain": [
       "FloatSlider(value=1e-05, continuous_update=False, description=\"(64, 'R=224-255', 'G=224-255', 'B=000-031')\", l…"
      ]
     },
     "metadata": {},
     "output_type": "display_data"
    },
    {
     "data": {
      "application/vnd.jupyter.widget-view+json": {
       "model_id": "1dfbdce8522f4a44a6159a0cfe96fb7b",
       "version_major": 2,
       "version_minor": 0
      },
      "text/plain": [
       "FloatSlider(value=1e-05, continuous_update=False, description=\"(65, 'R=000-031', 'G=000-031', 'B=032-063')\", l…"
      ]
     },
     "metadata": {},
     "output_type": "display_data"
    },
    {
     "data": {
      "application/vnd.jupyter.widget-view+json": {
       "model_id": "bfa8b533b5f6456a9e3fd6f8317961d1",
       "version_major": 2,
       "version_minor": 0
      },
      "text/plain": [
       "FloatSlider(value=1e-05, continuous_update=False, description=\"(66, 'R=032-063', 'G=000-031', 'B=032-063')\", l…"
      ]
     },
     "metadata": {},
     "output_type": "display_data"
    },
    {
     "data": {
      "application/vnd.jupyter.widget-view+json": {
       "model_id": "8a79aaf0247d4fe38cd1e29a31fc8a01",
       "version_major": 2,
       "version_minor": 0
      },
      "text/plain": [
       "FloatSlider(value=1e-05, continuous_update=False, description=\"(67, 'R=064-095', 'G=000-031', 'B=032-063')\", l…"
      ]
     },
     "metadata": {},
     "output_type": "display_data"
    },
    {
     "data": {
      "application/vnd.jupyter.widget-view+json": {
       "model_id": "9977019e51b54a69a26c95137b86b109",
       "version_major": 2,
       "version_minor": 0
      },
      "text/plain": [
       "FloatSlider(value=1e-05, continuous_update=False, description=\"(68, 'R=096-127', 'G=000-031', 'B=032-063')\", l…"
      ]
     },
     "metadata": {},
     "output_type": "display_data"
    },
    {
     "data": {
      "application/vnd.jupyter.widget-view+json": {
       "model_id": "ce82a64ffe324917985244d9ac48303c",
       "version_major": 2,
       "version_minor": 0
      },
      "text/plain": [
       "FloatSlider(value=1e-05, continuous_update=False, description=\"(69, 'R=128-159', 'G=000-031', 'B=032-063')\", l…"
      ]
     },
     "metadata": {},
     "output_type": "display_data"
    },
    {
     "data": {
      "application/vnd.jupyter.widget-view+json": {
       "model_id": "2ccef9e439d449c3bfd918ec6c94d496",
       "version_major": 2,
       "version_minor": 0
      },
      "text/plain": [
       "FloatSlider(value=1e-05, continuous_update=False, description=\"(70, 'R=160-191', 'G=000-031', 'B=032-063')\", l…"
      ]
     },
     "metadata": {},
     "output_type": "display_data"
    },
    {
     "data": {
      "application/vnd.jupyter.widget-view+json": {
       "model_id": "b249942dc76644eda36be2c9ac75d911",
       "version_major": 2,
       "version_minor": 0
      },
      "text/plain": [
       "FloatSlider(value=1e-05, continuous_update=False, description=\"(71, 'R=192-223', 'G=000-031', 'B=032-063')\", l…"
      ]
     },
     "metadata": {},
     "output_type": "display_data"
    },
    {
     "data": {
      "application/vnd.jupyter.widget-view+json": {
       "model_id": "9a648f4a139a43dfae3f37dad7ccd95a",
       "version_major": 2,
       "version_minor": 0
      },
      "text/plain": [
       "FloatSlider(value=1e-05, continuous_update=False, description=\"(72, 'R=224-255', 'G=000-031', 'B=032-063')\", l…"
      ]
     },
     "metadata": {},
     "output_type": "display_data"
    },
    {
     "data": {
      "application/vnd.jupyter.widget-view+json": {
       "model_id": "22e75e75f0064f7d83b33a618e2e4fc8",
       "version_major": 2,
       "version_minor": 0
      },
      "text/plain": [
       "FloatSlider(value=1e-05, continuous_update=False, description=\"(73, 'R=000-031', 'G=032-063', 'B=032-063')\", l…"
      ]
     },
     "metadata": {},
     "output_type": "display_data"
    },
    {
     "data": {
      "application/vnd.jupyter.widget-view+json": {
       "model_id": "99c6718f65be49cb9bdb94784c1bb82a",
       "version_major": 2,
       "version_minor": 0
      },
      "text/plain": [
       "FloatSlider(value=1e-05, continuous_update=False, description=\"(74, 'R=032-063', 'G=032-063', 'B=032-063')\", l…"
      ]
     },
     "metadata": {},
     "output_type": "display_data"
    },
    {
     "data": {
      "application/vnd.jupyter.widget-view+json": {
       "model_id": "a64e71727acf4cc9a95e01edd7a9d5b7",
       "version_major": 2,
       "version_minor": 0
      },
      "text/plain": [
       "FloatSlider(value=1e-05, continuous_update=False, description=\"(75, 'R=064-095', 'G=032-063', 'B=032-063')\", l…"
      ]
     },
     "metadata": {},
     "output_type": "display_data"
    },
    {
     "data": {
      "application/vnd.jupyter.widget-view+json": {
       "model_id": "c9aecccb533b4d109f222c5cf298fd5f",
       "version_major": 2,
       "version_minor": 0
      },
      "text/plain": [
       "FloatSlider(value=1e-05, continuous_update=False, description=\"(76, 'R=096-127', 'G=032-063', 'B=032-063')\", l…"
      ]
     },
     "metadata": {},
     "output_type": "display_data"
    },
    {
     "data": {
      "application/vnd.jupyter.widget-view+json": {
       "model_id": "572ecdee052e402cbf41448571b84c55",
       "version_major": 2,
       "version_minor": 0
      },
      "text/plain": [
       "FloatSlider(value=1e-05, continuous_update=False, description=\"(77, 'R=128-159', 'G=032-063', 'B=032-063')\", l…"
      ]
     },
     "metadata": {},
     "output_type": "display_data"
    },
    {
     "data": {
      "application/vnd.jupyter.widget-view+json": {
       "model_id": "6a07359350564a2493a576b1bb8c9b7e",
       "version_major": 2,
       "version_minor": 0
      },
      "text/plain": [
       "FloatSlider(value=1e-05, continuous_update=False, description=\"(78, 'R=160-191', 'G=032-063', 'B=032-063')\", l…"
      ]
     },
     "metadata": {},
     "output_type": "display_data"
    },
    {
     "data": {
      "application/vnd.jupyter.widget-view+json": {
       "model_id": "b3bd102e4d9f4e5dbfec645b31d4e22d",
       "version_major": 2,
       "version_minor": 0
      },
      "text/plain": [
       "FloatSlider(value=1e-05, continuous_update=False, description=\"(79, 'R=192-223', 'G=032-063', 'B=032-063')\", l…"
      ]
     },
     "metadata": {},
     "output_type": "display_data"
    },
    {
     "data": {
      "application/vnd.jupyter.widget-view+json": {
       "model_id": "59c472de872442589c7883468ec776c7",
       "version_major": 2,
       "version_minor": 0
      },
      "text/plain": [
       "FloatSlider(value=1e-05, continuous_update=False, description=\"(80, 'R=224-255', 'G=032-063', 'B=032-063')\", l…"
      ]
     },
     "metadata": {},
     "output_type": "display_data"
    },
    {
     "data": {
      "application/vnd.jupyter.widget-view+json": {
       "model_id": "43525ea8d5214053819b4faed4e9c242",
       "version_major": 2,
       "version_minor": 0
      },
      "text/plain": [
       "FloatSlider(value=1e-05, continuous_update=False, description=\"(81, 'R=000-031', 'G=064-095', 'B=032-063')\", l…"
      ]
     },
     "metadata": {},
     "output_type": "display_data"
    },
    {
     "data": {
      "application/vnd.jupyter.widget-view+json": {
       "model_id": "d136b0d7a1aa42fca3f26e64901782fd",
       "version_major": 2,
       "version_minor": 0
      },
      "text/plain": [
       "FloatSlider(value=1e-05, continuous_update=False, description=\"(82, 'R=032-063', 'G=064-095', 'B=032-063')\", l…"
      ]
     },
     "metadata": {},
     "output_type": "display_data"
    },
    {
     "data": {
      "application/vnd.jupyter.widget-view+json": {
       "model_id": "b64d9436d97b490aa0384416719cc611",
       "version_major": 2,
       "version_minor": 0
      },
      "text/plain": [
       "FloatSlider(value=1e-05, continuous_update=False, description=\"(83, 'R=064-095', 'G=064-095', 'B=032-063')\", l…"
      ]
     },
     "metadata": {},
     "output_type": "display_data"
    },
    {
     "data": {
      "application/vnd.jupyter.widget-view+json": {
       "model_id": "e2e6224b161149a39f3545869bafa79b",
       "version_major": 2,
       "version_minor": 0
      },
      "text/plain": [
       "FloatSlider(value=1e-05, continuous_update=False, description=\"(84, 'R=096-127', 'G=064-095', 'B=032-063')\", l…"
      ]
     },
     "metadata": {},
     "output_type": "display_data"
    },
    {
     "data": {
      "application/vnd.jupyter.widget-view+json": {
       "model_id": "f03b8942ddfa4beda3616283c4f72cce",
       "version_major": 2,
       "version_minor": 0
      },
      "text/plain": [
       "FloatSlider(value=1e-05, continuous_update=False, description=\"(85, 'R=128-159', 'G=064-095', 'B=032-063')\", l…"
      ]
     },
     "metadata": {},
     "output_type": "display_data"
    },
    {
     "data": {
      "application/vnd.jupyter.widget-view+json": {
       "model_id": "43a6ebf2481f4c069ec77e453be89d7e",
       "version_major": 2,
       "version_minor": 0
      },
      "text/plain": [
       "FloatSlider(value=1e-05, continuous_update=False, description=\"(86, 'R=160-191', 'G=064-095', 'B=032-063')\", l…"
      ]
     },
     "metadata": {},
     "output_type": "display_data"
    },
    {
     "data": {
      "application/vnd.jupyter.widget-view+json": {
       "model_id": "9e63e2f5d33d4e1caa7a898d115db49a",
       "version_major": 2,
       "version_minor": 0
      },
      "text/plain": [
       "FloatSlider(value=1e-05, continuous_update=False, description=\"(87, 'R=192-223', 'G=064-095', 'B=032-063')\", l…"
      ]
     },
     "metadata": {},
     "output_type": "display_data"
    },
    {
     "data": {
      "application/vnd.jupyter.widget-view+json": {
       "model_id": "0bc42e5600f14c50933b3b49da36d814",
       "version_major": 2,
       "version_minor": 0
      },
      "text/plain": [
       "FloatSlider(value=1e-05, continuous_update=False, description=\"(88, 'R=224-255', 'G=064-095', 'B=032-063')\", l…"
      ]
     },
     "metadata": {},
     "output_type": "display_data"
    },
    {
     "data": {
      "application/vnd.jupyter.widget-view+json": {
       "model_id": "84a49c88cdd84559b62224047d00bf5e",
       "version_major": 2,
       "version_minor": 0
      },
      "text/plain": [
       "FloatSlider(value=1e-05, continuous_update=False, description=\"(89, 'R=000-031', 'G=096-127', 'B=032-063')\", l…"
      ]
     },
     "metadata": {},
     "output_type": "display_data"
    },
    {
     "data": {
      "application/vnd.jupyter.widget-view+json": {
       "model_id": "d287d3d2348c42ca878a1d326a64d6a9",
       "version_major": 2,
       "version_minor": 0
      },
      "text/plain": [
       "FloatSlider(value=1e-05, continuous_update=False, description=\"(90, 'R=032-063', 'G=096-127', 'B=032-063')\", l…"
      ]
     },
     "metadata": {},
     "output_type": "display_data"
    },
    {
     "data": {
      "application/vnd.jupyter.widget-view+json": {
       "model_id": "0fb07ef3398647f0928df26b2c4d9ff9",
       "version_major": 2,
       "version_minor": 0
      },
      "text/plain": [
       "FloatSlider(value=1e-05, continuous_update=False, description=\"(91, 'R=064-095', 'G=096-127', 'B=032-063')\", l…"
      ]
     },
     "metadata": {},
     "output_type": "display_data"
    },
    {
     "data": {
      "application/vnd.jupyter.widget-view+json": {
       "model_id": "f01258640d2a4614826e4c7d4af9c08a",
       "version_major": 2,
       "version_minor": 0
      },
      "text/plain": [
       "FloatSlider(value=1e-05, continuous_update=False, description=\"(92, 'R=096-127', 'G=096-127', 'B=032-063')\", l…"
      ]
     },
     "metadata": {},
     "output_type": "display_data"
    },
    {
     "data": {
      "application/vnd.jupyter.widget-view+json": {
       "model_id": "ae65e6c22311444cac516142888924fa",
       "version_major": 2,
       "version_minor": 0
      },
      "text/plain": [
       "FloatSlider(value=1e-05, continuous_update=False, description=\"(93, 'R=128-159', 'G=096-127', 'B=032-063')\", l…"
      ]
     },
     "metadata": {},
     "output_type": "display_data"
    },
    {
     "data": {
      "application/vnd.jupyter.widget-view+json": {
       "model_id": "f22a2dc6c09d49b193c946daa5b2b914",
       "version_major": 2,
       "version_minor": 0
      },
      "text/plain": [
       "FloatSlider(value=1e-05, continuous_update=False, description=\"(94, 'R=160-191', 'G=096-127', 'B=032-063')\", l…"
      ]
     },
     "metadata": {},
     "output_type": "display_data"
    },
    {
     "data": {
      "application/vnd.jupyter.widget-view+json": {
       "model_id": "3e6a401834d1460595d4815a472e74df",
       "version_major": 2,
       "version_minor": 0
      },
      "text/plain": [
       "FloatSlider(value=1e-05, continuous_update=False, description=\"(95, 'R=192-223', 'G=096-127', 'B=032-063')\", l…"
      ]
     },
     "metadata": {},
     "output_type": "display_data"
    },
    {
     "data": {
      "application/vnd.jupyter.widget-view+json": {
       "model_id": "48ca6919c1684fa49e8eeb7926ff2f14",
       "version_major": 2,
       "version_minor": 0
      },
      "text/plain": [
       "FloatSlider(value=1e-05, continuous_update=False, description=\"(96, 'R=224-255', 'G=096-127', 'B=032-063')\", l…"
      ]
     },
     "metadata": {},
     "output_type": "display_data"
    },
    {
     "data": {
      "application/vnd.jupyter.widget-view+json": {
       "model_id": "22b81000f9834ae1a146c688d884a2fa",
       "version_major": 2,
       "version_minor": 0
      },
      "text/plain": [
       "FloatSlider(value=1e-05, continuous_update=False, description=\"(97, 'R=000-031', 'G=128-159', 'B=032-063')\", l…"
      ]
     },
     "metadata": {},
     "output_type": "display_data"
    },
    {
     "data": {
      "application/vnd.jupyter.widget-view+json": {
       "model_id": "c35fb44fc1f94babb89d357d1c292c9b",
       "version_major": 2,
       "version_minor": 0
      },
      "text/plain": [
       "FloatSlider(value=1e-05, continuous_update=False, description=\"(98, 'R=032-063', 'G=128-159', 'B=032-063')\", l…"
      ]
     },
     "metadata": {},
     "output_type": "display_data"
    },
    {
     "data": {
      "application/vnd.jupyter.widget-view+json": {
       "model_id": "b824e138efe54b228298de13407470a0",
       "version_major": 2,
       "version_minor": 0
      },
      "text/plain": [
       "FloatSlider(value=1e-05, continuous_update=False, description=\"(99, 'R=064-095', 'G=128-159', 'B=032-063')\", l…"
      ]
     },
     "metadata": {},
     "output_type": "display_data"
    },
    {
     "data": {
      "application/vnd.jupyter.widget-view+json": {
       "model_id": "aaa7377c4082449c9820167cdc3b7068",
       "version_major": 2,
       "version_minor": 0
      },
      "text/plain": [
       "FloatSlider(value=1e-05, continuous_update=False, description=\"(100, 'R=096-127', 'G=128-159', 'B=032-063')\", …"
      ]
     },
     "metadata": {},
     "output_type": "display_data"
    },
    {
     "data": {
      "application/vnd.jupyter.widget-view+json": {
       "model_id": "81728fef9e0f4b2f8dbbda7480754a1c",
       "version_major": 2,
       "version_minor": 0
      },
      "text/plain": [
       "FloatSlider(value=1e-05, continuous_update=False, description=\"(101, 'R=128-159', 'G=128-159', 'B=032-063')\", …"
      ]
     },
     "metadata": {},
     "output_type": "display_data"
    },
    {
     "data": {
      "application/vnd.jupyter.widget-view+json": {
       "model_id": "08bc0a52486c4c0fb1b9781bbe57f545",
       "version_major": 2,
       "version_minor": 0
      },
      "text/plain": [
       "FloatSlider(value=1e-05, continuous_update=False, description=\"(102, 'R=160-191', 'G=128-159', 'B=032-063')\", …"
      ]
     },
     "metadata": {},
     "output_type": "display_data"
    },
    {
     "data": {
      "application/vnd.jupyter.widget-view+json": {
       "model_id": "c576c7a974c0405da5a8e0524dfb8c25",
       "version_major": 2,
       "version_minor": 0
      },
      "text/plain": [
       "FloatSlider(value=1e-05, continuous_update=False, description=\"(103, 'R=192-223', 'G=128-159', 'B=032-063')\", …"
      ]
     },
     "metadata": {},
     "output_type": "display_data"
    },
    {
     "data": {
      "application/vnd.jupyter.widget-view+json": {
       "model_id": "0caabfb6ed4d4fb4ad02e776808aef64",
       "version_major": 2,
       "version_minor": 0
      },
      "text/plain": [
       "FloatSlider(value=1e-05, continuous_update=False, description=\"(104, 'R=224-255', 'G=128-159', 'B=032-063')\", …"
      ]
     },
     "metadata": {},
     "output_type": "display_data"
    },
    {
     "data": {
      "application/vnd.jupyter.widget-view+json": {
       "model_id": "23ea5f5b2c8c410790331cb3f9a82a7a",
       "version_major": 2,
       "version_minor": 0
      },
      "text/plain": [
       "FloatSlider(value=1e-05, continuous_update=False, description=\"(105, 'R=000-031', 'G=160-191', 'B=032-063')\", …"
      ]
     },
     "metadata": {},
     "output_type": "display_data"
    },
    {
     "data": {
      "application/vnd.jupyter.widget-view+json": {
       "model_id": "502b6d1393b444c09cf826c7f75bb4a2",
       "version_major": 2,
       "version_minor": 0
      },
      "text/plain": [
       "FloatSlider(value=1e-05, continuous_update=False, description=\"(106, 'R=032-063', 'G=160-191', 'B=032-063')\", …"
      ]
     },
     "metadata": {},
     "output_type": "display_data"
    },
    {
     "data": {
      "application/vnd.jupyter.widget-view+json": {
       "model_id": "112c0e1a78dd48c78fbd27fc33f7cd45",
       "version_major": 2,
       "version_minor": 0
      },
      "text/plain": [
       "FloatSlider(value=1e-05, continuous_update=False, description=\"(107, 'R=064-095', 'G=160-191', 'B=032-063')\", …"
      ]
     },
     "metadata": {},
     "output_type": "display_data"
    },
    {
     "data": {
      "application/vnd.jupyter.widget-view+json": {
       "model_id": "ffce966e7e0746fdb9a3b4adc4708a02",
       "version_major": 2,
       "version_minor": 0
      },
      "text/plain": [
       "FloatSlider(value=1e-05, continuous_update=False, description=\"(108, 'R=096-127', 'G=160-191', 'B=032-063')\", …"
      ]
     },
     "metadata": {},
     "output_type": "display_data"
    },
    {
     "data": {
      "application/vnd.jupyter.widget-view+json": {
       "model_id": "cc8d08c5501b4ad9bf6fa9b7ce6e4a52",
       "version_major": 2,
       "version_minor": 0
      },
      "text/plain": [
       "FloatSlider(value=1e-05, continuous_update=False, description=\"(109, 'R=128-159', 'G=160-191', 'B=032-063')\", …"
      ]
     },
     "metadata": {},
     "output_type": "display_data"
    },
    {
     "data": {
      "application/vnd.jupyter.widget-view+json": {
       "model_id": "8a089c24c43d4dc9ab359217c3202d9f",
       "version_major": 2,
       "version_minor": 0
      },
      "text/plain": [
       "FloatSlider(value=1e-05, continuous_update=False, description=\"(110, 'R=160-191', 'G=160-191', 'B=032-063')\", …"
      ]
     },
     "metadata": {},
     "output_type": "display_data"
    },
    {
     "data": {
      "application/vnd.jupyter.widget-view+json": {
       "model_id": "99eda1e96f79413b9ee5156b61398490",
       "version_major": 2,
       "version_minor": 0
      },
      "text/plain": [
       "FloatSlider(value=1e-05, continuous_update=False, description=\"(111, 'R=192-223', 'G=160-191', 'B=032-063')\", …"
      ]
     },
     "metadata": {},
     "output_type": "display_data"
    },
    {
     "data": {
      "application/vnd.jupyter.widget-view+json": {
       "model_id": "6ae70ecf93144edc9e6cc7086fc3dc7d",
       "version_major": 2,
       "version_minor": 0
      },
      "text/plain": [
       "FloatSlider(value=1e-05, continuous_update=False, description=\"(112, 'R=224-255', 'G=160-191', 'B=032-063')\", …"
      ]
     },
     "metadata": {},
     "output_type": "display_data"
    },
    {
     "data": {
      "application/vnd.jupyter.widget-view+json": {
       "model_id": "6ead2dc2e18b44c9bf300538c2bb9333",
       "version_major": 2,
       "version_minor": 0
      },
      "text/plain": [
       "FloatSlider(value=1e-05, continuous_update=False, description=\"(113, 'R=000-031', 'G=192-223', 'B=032-063')\", …"
      ]
     },
     "metadata": {},
     "output_type": "display_data"
    },
    {
     "data": {
      "application/vnd.jupyter.widget-view+json": {
       "model_id": "5d4e614c209841a380017cbe55eadb66",
       "version_major": 2,
       "version_minor": 0
      },
      "text/plain": [
       "FloatSlider(value=1e-05, continuous_update=False, description=\"(114, 'R=032-063', 'G=192-223', 'B=032-063')\", …"
      ]
     },
     "metadata": {},
     "output_type": "display_data"
    },
    {
     "data": {
      "application/vnd.jupyter.widget-view+json": {
       "model_id": "943d3b0520cc490e88cc2b198c3d1e8e",
       "version_major": 2,
       "version_minor": 0
      },
      "text/plain": [
       "FloatSlider(value=1e-05, continuous_update=False, description=\"(115, 'R=064-095', 'G=192-223', 'B=032-063')\", …"
      ]
     },
     "metadata": {},
     "output_type": "display_data"
    },
    {
     "data": {
      "application/vnd.jupyter.widget-view+json": {
       "model_id": "9498ed0159614303ace7cada924c81f3",
       "version_major": 2,
       "version_minor": 0
      },
      "text/plain": [
       "FloatSlider(value=1e-05, continuous_update=False, description=\"(116, 'R=096-127', 'G=192-223', 'B=032-063')\", …"
      ]
     },
     "metadata": {},
     "output_type": "display_data"
    },
    {
     "data": {
      "application/vnd.jupyter.widget-view+json": {
       "model_id": "4e1a29d6fc294f948be6c757cce12635",
       "version_major": 2,
       "version_minor": 0
      },
      "text/plain": [
       "FloatSlider(value=1e-05, continuous_update=False, description=\"(117, 'R=128-159', 'G=192-223', 'B=032-063')\", …"
      ]
     },
     "metadata": {},
     "output_type": "display_data"
    },
    {
     "data": {
      "application/vnd.jupyter.widget-view+json": {
       "model_id": "6155d33ac40d4ba2b860598d8f0e6906",
       "version_major": 2,
       "version_minor": 0
      },
      "text/plain": [
       "FloatSlider(value=1e-05, continuous_update=False, description=\"(118, 'R=160-191', 'G=192-223', 'B=032-063')\", …"
      ]
     },
     "metadata": {},
     "output_type": "display_data"
    },
    {
     "data": {
      "application/vnd.jupyter.widget-view+json": {
       "model_id": "c0d18de9fe744de598955355fa34510a",
       "version_major": 2,
       "version_minor": 0
      },
      "text/plain": [
       "FloatSlider(value=1e-05, continuous_update=False, description=\"(119, 'R=192-223', 'G=192-223', 'B=032-063')\", …"
      ]
     },
     "metadata": {},
     "output_type": "display_data"
    },
    {
     "data": {
      "application/vnd.jupyter.widget-view+json": {
       "model_id": "5c9db2c81fb142d4bf78dc71802e35c6",
       "version_major": 2,
       "version_minor": 0
      },
      "text/plain": [
       "FloatSlider(value=1e-05, continuous_update=False, description=\"(120, 'R=224-255', 'G=192-223', 'B=032-063')\", …"
      ]
     },
     "metadata": {},
     "output_type": "display_data"
    },
    {
     "data": {
      "application/vnd.jupyter.widget-view+json": {
       "model_id": "f61c34517d2643cd8ec17f99e9434dc5",
       "version_major": 2,
       "version_minor": 0
      },
      "text/plain": [
       "FloatSlider(value=1e-05, continuous_update=False, description=\"(121, 'R=000-031', 'G=224-255', 'B=032-063')\", …"
      ]
     },
     "metadata": {},
     "output_type": "display_data"
    },
    {
     "data": {
      "application/vnd.jupyter.widget-view+json": {
       "model_id": "a9f7dfc879234d4384d96ff2a4f14394",
       "version_major": 2,
       "version_minor": 0
      },
      "text/plain": [
       "FloatSlider(value=1e-05, continuous_update=False, description=\"(122, 'R=032-063', 'G=224-255', 'B=032-063')\", …"
      ]
     },
     "metadata": {},
     "output_type": "display_data"
    },
    {
     "data": {
      "application/vnd.jupyter.widget-view+json": {
       "model_id": "accc2965e84449c09c4608bb6c20619a",
       "version_major": 2,
       "version_minor": 0
      },
      "text/plain": [
       "FloatSlider(value=1e-05, continuous_update=False, description=\"(123, 'R=064-095', 'G=224-255', 'B=032-063')\", …"
      ]
     },
     "metadata": {},
     "output_type": "display_data"
    },
    {
     "data": {
      "application/vnd.jupyter.widget-view+json": {
       "model_id": "cd2162f7acd143b0b9a3a2798cf1059a",
       "version_major": 2,
       "version_minor": 0
      },
      "text/plain": [
       "FloatSlider(value=1e-05, continuous_update=False, description=\"(124, 'R=096-127', 'G=224-255', 'B=032-063')\", …"
      ]
     },
     "metadata": {},
     "output_type": "display_data"
    },
    {
     "data": {
      "application/vnd.jupyter.widget-view+json": {
       "model_id": "aa8b107624234007ae8396a52fe15dec",
       "version_major": 2,
       "version_minor": 0
      },
      "text/plain": [
       "FloatSlider(value=1e-05, continuous_update=False, description=\"(125, 'R=128-159', 'G=224-255', 'B=032-063')\", …"
      ]
     },
     "metadata": {},
     "output_type": "display_data"
    },
    {
     "data": {
      "application/vnd.jupyter.widget-view+json": {
       "model_id": "fb7d26242ffb4dbe9fbae3f7fc1add2e",
       "version_major": 2,
       "version_minor": 0
      },
      "text/plain": [
       "FloatSlider(value=1e-05, continuous_update=False, description=\"(126, 'R=160-191', 'G=224-255', 'B=032-063')\", …"
      ]
     },
     "metadata": {},
     "output_type": "display_data"
    },
    {
     "data": {
      "application/vnd.jupyter.widget-view+json": {
       "model_id": "7790e375009a46aeaee371d4b18c43d2",
       "version_major": 2,
       "version_minor": 0
      },
      "text/plain": [
       "FloatSlider(value=1e-05, continuous_update=False, description=\"(127, 'R=192-223', 'G=224-255', 'B=032-063')\", …"
      ]
     },
     "metadata": {},
     "output_type": "display_data"
    },
    {
     "data": {
      "application/vnd.jupyter.widget-view+json": {
       "model_id": "71fe02770e24497b88c93d70e88f0ee7",
       "version_major": 2,
       "version_minor": 0
      },
      "text/plain": [
       "FloatSlider(value=1e-05, continuous_update=False, description=\"(128, 'R=224-255', 'G=224-255', 'B=032-063')\", …"
      ]
     },
     "metadata": {},
     "output_type": "display_data"
    },
    {
     "data": {
      "application/vnd.jupyter.widget-view+json": {
       "model_id": "a04291a08a134034b88dd60e119d2eb2",
       "version_major": 2,
       "version_minor": 0
      },
      "text/plain": [
       "FloatSlider(value=1e-05, continuous_update=False, description=\"(129, 'R=000-031', 'G=000-031', 'B=064-095')\", …"
      ]
     },
     "metadata": {},
     "output_type": "display_data"
    },
    {
     "data": {
      "application/vnd.jupyter.widget-view+json": {
       "model_id": "3707f8e011874648b918402b36f3c7eb",
       "version_major": 2,
       "version_minor": 0
      },
      "text/plain": [
       "FloatSlider(value=1e-05, continuous_update=False, description=\"(130, 'R=032-063', 'G=000-031', 'B=064-095')\", …"
      ]
     },
     "metadata": {},
     "output_type": "display_data"
    },
    {
     "data": {
      "application/vnd.jupyter.widget-view+json": {
       "model_id": "9c3dde1f6c824c29b64f8d643845d4b8",
       "version_major": 2,
       "version_minor": 0
      },
      "text/plain": [
       "FloatSlider(value=1e-05, continuous_update=False, description=\"(131, 'R=064-095', 'G=000-031', 'B=064-095')\", …"
      ]
     },
     "metadata": {},
     "output_type": "display_data"
    },
    {
     "data": {
      "application/vnd.jupyter.widget-view+json": {
       "model_id": "8ec78c4a75384fa3aa6524588cf3d8f7",
       "version_major": 2,
       "version_minor": 0
      },
      "text/plain": [
       "FloatSlider(value=1e-05, continuous_update=False, description=\"(132, 'R=096-127', 'G=000-031', 'B=064-095')\", …"
      ]
     },
     "metadata": {},
     "output_type": "display_data"
    },
    {
     "data": {
      "application/vnd.jupyter.widget-view+json": {
       "model_id": "c365487d347947e883ee45c7a62fdf5b",
       "version_major": 2,
       "version_minor": 0
      },
      "text/plain": [
       "FloatSlider(value=1e-05, continuous_update=False, description=\"(133, 'R=128-159', 'G=000-031', 'B=064-095')\", …"
      ]
     },
     "metadata": {},
     "output_type": "display_data"
    },
    {
     "data": {
      "application/vnd.jupyter.widget-view+json": {
       "model_id": "db154621536a415592c592c74849e9cf",
       "version_major": 2,
       "version_minor": 0
      },
      "text/plain": [
       "FloatSlider(value=1e-05, continuous_update=False, description=\"(134, 'R=160-191', 'G=000-031', 'B=064-095')\", …"
      ]
     },
     "metadata": {},
     "output_type": "display_data"
    },
    {
     "data": {
      "application/vnd.jupyter.widget-view+json": {
       "model_id": "4d1b12bd1ddd407fabd86c66020ee760",
       "version_major": 2,
       "version_minor": 0
      },
      "text/plain": [
       "FloatSlider(value=1e-05, continuous_update=False, description=\"(135, 'R=192-223', 'G=000-031', 'B=064-095')\", …"
      ]
     },
     "metadata": {},
     "output_type": "display_data"
    },
    {
     "data": {
      "application/vnd.jupyter.widget-view+json": {
       "model_id": "d9b01f770d734358ab50792c1044054d",
       "version_major": 2,
       "version_minor": 0
      },
      "text/plain": [
       "FloatSlider(value=1e-05, continuous_update=False, description=\"(136, 'R=224-255', 'G=000-031', 'B=064-095')\", …"
      ]
     },
     "metadata": {},
     "output_type": "display_data"
    },
    {
     "data": {
      "application/vnd.jupyter.widget-view+json": {
       "model_id": "2bd776c1b1034c329aeae60cb2fe3a2d",
       "version_major": 2,
       "version_minor": 0
      },
      "text/plain": [
       "FloatSlider(value=1e-05, continuous_update=False, description=\"(137, 'R=000-031', 'G=032-063', 'B=064-095')\", …"
      ]
     },
     "metadata": {},
     "output_type": "display_data"
    },
    {
     "data": {
      "application/vnd.jupyter.widget-view+json": {
       "model_id": "a5b189942d1a41d2b1093505312e5363",
       "version_major": 2,
       "version_minor": 0
      },
      "text/plain": [
       "FloatSlider(value=1e-05, continuous_update=False, description=\"(138, 'R=032-063', 'G=032-063', 'B=064-095')\", …"
      ]
     },
     "metadata": {},
     "output_type": "display_data"
    },
    {
     "data": {
      "application/vnd.jupyter.widget-view+json": {
       "model_id": "ba0073f224314664b1963a46cb4585bc",
       "version_major": 2,
       "version_minor": 0
      },
      "text/plain": [
       "FloatSlider(value=1e-05, continuous_update=False, description=\"(139, 'R=064-095', 'G=032-063', 'B=064-095')\", …"
      ]
     },
     "metadata": {},
     "output_type": "display_data"
    },
    {
     "data": {
      "application/vnd.jupyter.widget-view+json": {
       "model_id": "6ddf570a16374a8598ed67a47bc0b5a5",
       "version_major": 2,
       "version_minor": 0
      },
      "text/plain": [
       "FloatSlider(value=1e-05, continuous_update=False, description=\"(140, 'R=096-127', 'G=032-063', 'B=064-095')\", …"
      ]
     },
     "metadata": {},
     "output_type": "display_data"
    },
    {
     "data": {
      "application/vnd.jupyter.widget-view+json": {
       "model_id": "d4f0757d8c8f4abe954925bf403de955",
       "version_major": 2,
       "version_minor": 0
      },
      "text/plain": [
       "FloatSlider(value=1e-05, continuous_update=False, description=\"(141, 'R=128-159', 'G=032-063', 'B=064-095')\", …"
      ]
     },
     "metadata": {},
     "output_type": "display_data"
    },
    {
     "data": {
      "application/vnd.jupyter.widget-view+json": {
       "model_id": "0dde72e763a84070b6ac9b30e20b7fac",
       "version_major": 2,
       "version_minor": 0
      },
      "text/plain": [
       "FloatSlider(value=1e-05, continuous_update=False, description=\"(142, 'R=160-191', 'G=032-063', 'B=064-095')\", …"
      ]
     },
     "metadata": {},
     "output_type": "display_data"
    },
    {
     "data": {
      "application/vnd.jupyter.widget-view+json": {
       "model_id": "3259c5f6e3af42e2ab9e4043a9a3bb48",
       "version_major": 2,
       "version_minor": 0
      },
      "text/plain": [
       "FloatSlider(value=1e-05, continuous_update=False, description=\"(143, 'R=192-223', 'G=032-063', 'B=064-095')\", …"
      ]
     },
     "metadata": {},
     "output_type": "display_data"
    },
    {
     "data": {
      "application/vnd.jupyter.widget-view+json": {
       "model_id": "95014fe59ff845479f35470b66d56307",
       "version_major": 2,
       "version_minor": 0
      },
      "text/plain": [
       "FloatSlider(value=1e-05, continuous_update=False, description=\"(144, 'R=224-255', 'G=032-063', 'B=064-095')\", …"
      ]
     },
     "metadata": {},
     "output_type": "display_data"
    },
    {
     "data": {
      "application/vnd.jupyter.widget-view+json": {
       "model_id": "82cadf7d41f14e9db824650e2ef1e599",
       "version_major": 2,
       "version_minor": 0
      },
      "text/plain": [
       "FloatSlider(value=1e-05, continuous_update=False, description=\"(145, 'R=000-031', 'G=064-095', 'B=064-095')\", …"
      ]
     },
     "metadata": {},
     "output_type": "display_data"
    },
    {
     "data": {
      "application/vnd.jupyter.widget-view+json": {
       "model_id": "5169eb54c0454516b6167f660d0bd576",
       "version_major": 2,
       "version_minor": 0
      },
      "text/plain": [
       "FloatSlider(value=1e-05, continuous_update=False, description=\"(146, 'R=032-063', 'G=064-095', 'B=064-095')\", …"
      ]
     },
     "metadata": {},
     "output_type": "display_data"
    },
    {
     "data": {
      "application/vnd.jupyter.widget-view+json": {
       "model_id": "bff1b758ac6844e6808b2706d6af5946",
       "version_major": 2,
       "version_minor": 0
      },
      "text/plain": [
       "FloatSlider(value=1e-05, continuous_update=False, description=\"(147, 'R=064-095', 'G=064-095', 'B=064-095')\", …"
      ]
     },
     "metadata": {},
     "output_type": "display_data"
    },
    {
     "data": {
      "application/vnd.jupyter.widget-view+json": {
       "model_id": "2fa1e17348c245018dac0f67705470b7",
       "version_major": 2,
       "version_minor": 0
      },
      "text/plain": [
       "FloatSlider(value=1e-05, continuous_update=False, description=\"(148, 'R=096-127', 'G=064-095', 'B=064-095')\", …"
      ]
     },
     "metadata": {},
     "output_type": "display_data"
    },
    {
     "data": {
      "application/vnd.jupyter.widget-view+json": {
       "model_id": "4968c6f67ee94958a0ad10efdc461f68",
       "version_major": 2,
       "version_minor": 0
      },
      "text/plain": [
       "FloatSlider(value=1e-05, continuous_update=False, description=\"(149, 'R=128-159', 'G=064-095', 'B=064-095')\", …"
      ]
     },
     "metadata": {},
     "output_type": "display_data"
    },
    {
     "data": {
      "application/vnd.jupyter.widget-view+json": {
       "model_id": "b5e315f1b2584fd287ae812afe3f79b0",
       "version_major": 2,
       "version_minor": 0
      },
      "text/plain": [
       "FloatSlider(value=1e-05, continuous_update=False, description=\"(150, 'R=160-191', 'G=064-095', 'B=064-095')\", …"
      ]
     },
     "metadata": {},
     "output_type": "display_data"
    },
    {
     "data": {
      "application/vnd.jupyter.widget-view+json": {
       "model_id": "aef2d0928fc14c998eae6f2de900c70b",
       "version_major": 2,
       "version_minor": 0
      },
      "text/plain": [
       "FloatSlider(value=1e-05, continuous_update=False, description=\"(151, 'R=192-223', 'G=064-095', 'B=064-095')\", …"
      ]
     },
     "metadata": {},
     "output_type": "display_data"
    },
    {
     "data": {
      "application/vnd.jupyter.widget-view+json": {
       "model_id": "34c5e49c82ee4cc0be4376c16ed621b1",
       "version_major": 2,
       "version_minor": 0
      },
      "text/plain": [
       "FloatSlider(value=1e-05, continuous_update=False, description=\"(152, 'R=224-255', 'G=064-095', 'B=064-095')\", …"
      ]
     },
     "metadata": {},
     "output_type": "display_data"
    },
    {
     "data": {
      "application/vnd.jupyter.widget-view+json": {
       "model_id": "21cc69741ff44bc38795badbc72d2dca",
       "version_major": 2,
       "version_minor": 0
      },
      "text/plain": [
       "FloatSlider(value=1e-05, continuous_update=False, description=\"(153, 'R=000-031', 'G=096-127', 'B=064-095')\", …"
      ]
     },
     "metadata": {},
     "output_type": "display_data"
    },
    {
     "data": {
      "application/vnd.jupyter.widget-view+json": {
       "model_id": "a5dc926742ff4ebaa89cb615f1bb3ca5",
       "version_major": 2,
       "version_minor": 0
      },
      "text/plain": [
       "FloatSlider(value=1e-05, continuous_update=False, description=\"(154, 'R=032-063', 'G=096-127', 'B=064-095')\", …"
      ]
     },
     "metadata": {},
     "output_type": "display_data"
    },
    {
     "data": {
      "application/vnd.jupyter.widget-view+json": {
       "model_id": "380476cca6224e82b35bced5518e18f2",
       "version_major": 2,
       "version_minor": 0
      },
      "text/plain": [
       "FloatSlider(value=1e-05, continuous_update=False, description=\"(155, 'R=064-095', 'G=096-127', 'B=064-095')\", …"
      ]
     },
     "metadata": {},
     "output_type": "display_data"
    },
    {
     "data": {
      "application/vnd.jupyter.widget-view+json": {
       "model_id": "817bd66bb7834ec69b0a0f0e9535d9b2",
       "version_major": 2,
       "version_minor": 0
      },
      "text/plain": [
       "FloatSlider(value=1e-05, continuous_update=False, description=\"(156, 'R=096-127', 'G=096-127', 'B=064-095')\", …"
      ]
     },
     "metadata": {},
     "output_type": "display_data"
    },
    {
     "data": {
      "application/vnd.jupyter.widget-view+json": {
       "model_id": "a0ecc36011ff4f2ea5ef20f7ba3a355e",
       "version_major": 2,
       "version_minor": 0
      },
      "text/plain": [
       "FloatSlider(value=1e-05, continuous_update=False, description=\"(157, 'R=128-159', 'G=096-127', 'B=064-095')\", …"
      ]
     },
     "metadata": {},
     "output_type": "display_data"
    },
    {
     "data": {
      "application/vnd.jupyter.widget-view+json": {
       "model_id": "48b047e49d3048cf824a8db54de94ba4",
       "version_major": 2,
       "version_minor": 0
      },
      "text/plain": [
       "FloatSlider(value=1e-05, continuous_update=False, description=\"(158, 'R=160-191', 'G=096-127', 'B=064-095')\", …"
      ]
     },
     "metadata": {},
     "output_type": "display_data"
    },
    {
     "data": {
      "application/vnd.jupyter.widget-view+json": {
       "model_id": "58514c3e810245e69246eee6881c4c21",
       "version_major": 2,
       "version_minor": 0
      },
      "text/plain": [
       "FloatSlider(value=1e-05, continuous_update=False, description=\"(159, 'R=192-223', 'G=096-127', 'B=064-095')\", …"
      ]
     },
     "metadata": {},
     "output_type": "display_data"
    },
    {
     "data": {
      "application/vnd.jupyter.widget-view+json": {
       "model_id": "142876a5b7204b868708d9f54a14a1b4",
       "version_major": 2,
       "version_minor": 0
      },
      "text/plain": [
       "FloatSlider(value=1e-05, continuous_update=False, description=\"(160, 'R=224-255', 'G=096-127', 'B=064-095')\", …"
      ]
     },
     "metadata": {},
     "output_type": "display_data"
    },
    {
     "data": {
      "application/vnd.jupyter.widget-view+json": {
       "model_id": "8ef2d0cf06d5413b957e3f449ad3cfc2",
       "version_major": 2,
       "version_minor": 0
      },
      "text/plain": [
       "FloatSlider(value=1e-05, continuous_update=False, description=\"(161, 'R=000-031', 'G=128-159', 'B=064-095')\", …"
      ]
     },
     "metadata": {},
     "output_type": "display_data"
    },
    {
     "data": {
      "application/vnd.jupyter.widget-view+json": {
       "model_id": "20071dc6abad424bbc5b4e4940135177",
       "version_major": 2,
       "version_minor": 0
      },
      "text/plain": [
       "FloatSlider(value=1e-05, continuous_update=False, description=\"(162, 'R=032-063', 'G=128-159', 'B=064-095')\", …"
      ]
     },
     "metadata": {},
     "output_type": "display_data"
    },
    {
     "data": {
      "application/vnd.jupyter.widget-view+json": {
       "model_id": "fef22b07fab44c46a3979d71a7a687ea",
       "version_major": 2,
       "version_minor": 0
      },
      "text/plain": [
       "FloatSlider(value=1e-05, continuous_update=False, description=\"(163, 'R=064-095', 'G=128-159', 'B=064-095')\", …"
      ]
     },
     "metadata": {},
     "output_type": "display_data"
    },
    {
     "data": {
      "application/vnd.jupyter.widget-view+json": {
       "model_id": "736c74e1ec5d45f9b8a2e93c37afc114",
       "version_major": 2,
       "version_minor": 0
      },
      "text/plain": [
       "FloatSlider(value=1e-05, continuous_update=False, description=\"(164, 'R=096-127', 'G=128-159', 'B=064-095')\", …"
      ]
     },
     "metadata": {},
     "output_type": "display_data"
    },
    {
     "data": {
      "application/vnd.jupyter.widget-view+json": {
       "model_id": "1af7db43d8e247ff848da80daa28198c",
       "version_major": 2,
       "version_minor": 0
      },
      "text/plain": [
       "FloatSlider(value=1e-05, continuous_update=False, description=\"(165, 'R=128-159', 'G=128-159', 'B=064-095')\", …"
      ]
     },
     "metadata": {},
     "output_type": "display_data"
    },
    {
     "data": {
      "application/vnd.jupyter.widget-view+json": {
       "model_id": "61c62903c8d04f7189e92319d09e97f0",
       "version_major": 2,
       "version_minor": 0
      },
      "text/plain": [
       "FloatSlider(value=1e-05, continuous_update=False, description=\"(166, 'R=160-191', 'G=128-159', 'B=064-095')\", …"
      ]
     },
     "metadata": {},
     "output_type": "display_data"
    },
    {
     "data": {
      "application/vnd.jupyter.widget-view+json": {
       "model_id": "c6638574dbc447ce977272825cfb65ef",
       "version_major": 2,
       "version_minor": 0
      },
      "text/plain": [
       "FloatSlider(value=1e-05, continuous_update=False, description=\"(167, 'R=192-223', 'G=128-159', 'B=064-095')\", …"
      ]
     },
     "metadata": {},
     "output_type": "display_data"
    },
    {
     "data": {
      "application/vnd.jupyter.widget-view+json": {
       "model_id": "d4f2d73447d347be9ab90334ddd17caf",
       "version_major": 2,
       "version_minor": 0
      },
      "text/plain": [
       "FloatSlider(value=1e-05, continuous_update=False, description=\"(168, 'R=224-255', 'G=128-159', 'B=064-095')\", …"
      ]
     },
     "metadata": {},
     "output_type": "display_data"
    },
    {
     "data": {
      "application/vnd.jupyter.widget-view+json": {
       "model_id": "403abcfd07f7423887af5178e38bf80d",
       "version_major": 2,
       "version_minor": 0
      },
      "text/plain": [
       "FloatSlider(value=1e-05, continuous_update=False, description=\"(169, 'R=000-031', 'G=160-191', 'B=064-095')\", …"
      ]
     },
     "metadata": {},
     "output_type": "display_data"
    },
    {
     "data": {
      "application/vnd.jupyter.widget-view+json": {
       "model_id": "be8d1478a4264b18aab252d673ea218f",
       "version_major": 2,
       "version_minor": 0
      },
      "text/plain": [
       "FloatSlider(value=1e-05, continuous_update=False, description=\"(170, 'R=032-063', 'G=160-191', 'B=064-095')\", …"
      ]
     },
     "metadata": {},
     "output_type": "display_data"
    },
    {
     "data": {
      "application/vnd.jupyter.widget-view+json": {
       "model_id": "b09adfa29d2e42979ad4430f0a2c739b",
       "version_major": 2,
       "version_minor": 0
      },
      "text/plain": [
       "FloatSlider(value=1e-05, continuous_update=False, description=\"(171, 'R=064-095', 'G=160-191', 'B=064-095')\", …"
      ]
     },
     "metadata": {},
     "output_type": "display_data"
    },
    {
     "data": {
      "application/vnd.jupyter.widget-view+json": {
       "model_id": "8a21eda1064f4f5caaea92a862322548",
       "version_major": 2,
       "version_minor": 0
      },
      "text/plain": [
       "FloatSlider(value=1e-05, continuous_update=False, description=\"(172, 'R=096-127', 'G=160-191', 'B=064-095')\", …"
      ]
     },
     "metadata": {},
     "output_type": "display_data"
    },
    {
     "data": {
      "application/vnd.jupyter.widget-view+json": {
       "model_id": "6b451fa4a9174736adb1fb641d6d10f1",
       "version_major": 2,
       "version_minor": 0
      },
      "text/plain": [
       "FloatSlider(value=1e-05, continuous_update=False, description=\"(173, 'R=128-159', 'G=160-191', 'B=064-095')\", …"
      ]
     },
     "metadata": {},
     "output_type": "display_data"
    },
    {
     "data": {
      "application/vnd.jupyter.widget-view+json": {
       "model_id": "1ed0bc51f0454c529ab484c5b9bd2ae4",
       "version_major": 2,
       "version_minor": 0
      },
      "text/plain": [
       "FloatSlider(value=1e-05, continuous_update=False, description=\"(174, 'R=160-191', 'G=160-191', 'B=064-095')\", …"
      ]
     },
     "metadata": {},
     "output_type": "display_data"
    },
    {
     "data": {
      "application/vnd.jupyter.widget-view+json": {
       "model_id": "4821b0db16d64e66bd8b3bb2b6e40da4",
       "version_major": 2,
       "version_minor": 0
      },
      "text/plain": [
       "FloatSlider(value=1e-05, continuous_update=False, description=\"(175, 'R=192-223', 'G=160-191', 'B=064-095')\", …"
      ]
     },
     "metadata": {},
     "output_type": "display_data"
    },
    {
     "data": {
      "application/vnd.jupyter.widget-view+json": {
       "model_id": "0aec182bdf3442a891075ffbcffd5ad0",
       "version_major": 2,
       "version_minor": 0
      },
      "text/plain": [
       "FloatSlider(value=1e-05, continuous_update=False, description=\"(176, 'R=224-255', 'G=160-191', 'B=064-095')\", …"
      ]
     },
     "metadata": {},
     "output_type": "display_data"
    },
    {
     "data": {
      "application/vnd.jupyter.widget-view+json": {
       "model_id": "a21d490885994593aee0024e259b58ee",
       "version_major": 2,
       "version_minor": 0
      },
      "text/plain": [
       "FloatSlider(value=1e-05, continuous_update=False, description=\"(177, 'R=000-031', 'G=192-223', 'B=064-095')\", …"
      ]
     },
     "metadata": {},
     "output_type": "display_data"
    },
    {
     "data": {
      "application/vnd.jupyter.widget-view+json": {
       "model_id": "bc58fd7f088e4ccb92092dc9b83c1ca3",
       "version_major": 2,
       "version_minor": 0
      },
      "text/plain": [
       "FloatSlider(value=1e-05, continuous_update=False, description=\"(178, 'R=032-063', 'G=192-223', 'B=064-095')\", …"
      ]
     },
     "metadata": {},
     "output_type": "display_data"
    },
    {
     "data": {
      "application/vnd.jupyter.widget-view+json": {
       "model_id": "ff44c7e3f1d940c09d4aba8553074639",
       "version_major": 2,
       "version_minor": 0
      },
      "text/plain": [
       "FloatSlider(value=1e-05, continuous_update=False, description=\"(179, 'R=064-095', 'G=192-223', 'B=064-095')\", …"
      ]
     },
     "metadata": {},
     "output_type": "display_data"
    },
    {
     "data": {
      "application/vnd.jupyter.widget-view+json": {
       "model_id": "45eeb4995ba243d48bcb5709d5ae0424",
       "version_major": 2,
       "version_minor": 0
      },
      "text/plain": [
       "FloatSlider(value=1e-05, continuous_update=False, description=\"(180, 'R=096-127', 'G=192-223', 'B=064-095')\", …"
      ]
     },
     "metadata": {},
     "output_type": "display_data"
    },
    {
     "data": {
      "application/vnd.jupyter.widget-view+json": {
       "model_id": "7d06730deb004bd5b6f72be0bed04eca",
       "version_major": 2,
       "version_minor": 0
      },
      "text/plain": [
       "FloatSlider(value=1e-05, continuous_update=False, description=\"(181, 'R=128-159', 'G=192-223', 'B=064-095')\", …"
      ]
     },
     "metadata": {},
     "output_type": "display_data"
    },
    {
     "data": {
      "application/vnd.jupyter.widget-view+json": {
       "model_id": "0aabc3e482304ad6b9d3199e480fe706",
       "version_major": 2,
       "version_minor": 0
      },
      "text/plain": [
       "FloatSlider(value=1e-05, continuous_update=False, description=\"(182, 'R=160-191', 'G=192-223', 'B=064-095')\", …"
      ]
     },
     "metadata": {},
     "output_type": "display_data"
    },
    {
     "data": {
      "application/vnd.jupyter.widget-view+json": {
       "model_id": "8e4a6248660b48a88d56da4795eda578",
       "version_major": 2,
       "version_minor": 0
      },
      "text/plain": [
       "FloatSlider(value=1e-05, continuous_update=False, description=\"(183, 'R=192-223', 'G=192-223', 'B=064-095')\", …"
      ]
     },
     "metadata": {},
     "output_type": "display_data"
    },
    {
     "data": {
      "application/vnd.jupyter.widget-view+json": {
       "model_id": "e9e8c535f4c544c1a067743b1b38074c",
       "version_major": 2,
       "version_minor": 0
      },
      "text/plain": [
       "FloatSlider(value=1e-05, continuous_update=False, description=\"(184, 'R=224-255', 'G=192-223', 'B=064-095')\", …"
      ]
     },
     "metadata": {},
     "output_type": "display_data"
    },
    {
     "data": {
      "application/vnd.jupyter.widget-view+json": {
       "model_id": "9649e99ddaef4b9b8345f56552a04449",
       "version_major": 2,
       "version_minor": 0
      },
      "text/plain": [
       "FloatSlider(value=1e-05, continuous_update=False, description=\"(185, 'R=000-031', 'G=224-255', 'B=064-095')\", …"
      ]
     },
     "metadata": {},
     "output_type": "display_data"
    },
    {
     "data": {
      "application/vnd.jupyter.widget-view+json": {
       "model_id": "541e0afd77ea41b38855e6498ed38601",
       "version_major": 2,
       "version_minor": 0
      },
      "text/plain": [
       "FloatSlider(value=1e-05, continuous_update=False, description=\"(186, 'R=032-063', 'G=224-255', 'B=064-095')\", …"
      ]
     },
     "metadata": {},
     "output_type": "display_data"
    },
    {
     "data": {
      "application/vnd.jupyter.widget-view+json": {
       "model_id": "63ab5a28b98c49a0bc4b13bd3116ad21",
       "version_major": 2,
       "version_minor": 0
      },
      "text/plain": [
       "FloatSlider(value=1e-05, continuous_update=False, description=\"(187, 'R=064-095', 'G=224-255', 'B=064-095')\", …"
      ]
     },
     "metadata": {},
     "output_type": "display_data"
    },
    {
     "data": {
      "application/vnd.jupyter.widget-view+json": {
       "model_id": "4aedbbb70d014194b1fb032b39db1d54",
       "version_major": 2,
       "version_minor": 0
      },
      "text/plain": [
       "FloatSlider(value=1e-05, continuous_update=False, description=\"(188, 'R=096-127', 'G=224-255', 'B=064-095')\", …"
      ]
     },
     "metadata": {},
     "output_type": "display_data"
    },
    {
     "data": {
      "application/vnd.jupyter.widget-view+json": {
       "model_id": "c9a6192e5f274e078fc3272da42e1425",
       "version_major": 2,
       "version_minor": 0
      },
      "text/plain": [
       "FloatSlider(value=1e-05, continuous_update=False, description=\"(189, 'R=128-159', 'G=224-255', 'B=064-095')\", …"
      ]
     },
     "metadata": {},
     "output_type": "display_data"
    },
    {
     "data": {
      "application/vnd.jupyter.widget-view+json": {
       "model_id": "c35d514e831f4a639c7f644d43c9f3ed",
       "version_major": 2,
       "version_minor": 0
      },
      "text/plain": [
       "FloatSlider(value=1e-05, continuous_update=False, description=\"(190, 'R=160-191', 'G=224-255', 'B=064-095')\", …"
      ]
     },
     "metadata": {},
     "output_type": "display_data"
    },
    {
     "data": {
      "application/vnd.jupyter.widget-view+json": {
       "model_id": "4a4634f8ac5c49e0bba012ad58b2bd55",
       "version_major": 2,
       "version_minor": 0
      },
      "text/plain": [
       "FloatSlider(value=1e-05, continuous_update=False, description=\"(191, 'R=192-223', 'G=224-255', 'B=064-095')\", …"
      ]
     },
     "metadata": {},
     "output_type": "display_data"
    },
    {
     "data": {
      "application/vnd.jupyter.widget-view+json": {
       "model_id": "d80e974aa2bf48ff8c449697e6c32256",
       "version_major": 2,
       "version_minor": 0
      },
      "text/plain": [
       "FloatSlider(value=1e-05, continuous_update=False, description=\"(192, 'R=224-255', 'G=224-255', 'B=064-095')\", …"
      ]
     },
     "metadata": {},
     "output_type": "display_data"
    },
    {
     "data": {
      "application/vnd.jupyter.widget-view+json": {
       "model_id": "99c9a8493e8c4f15878bf73e0302f748",
       "version_major": 2,
       "version_minor": 0
      },
      "text/plain": [
       "FloatSlider(value=1e-05, continuous_update=False, description=\"(193, 'R=000-031', 'G=000-031', 'B=096-127')\", …"
      ]
     },
     "metadata": {},
     "output_type": "display_data"
    },
    {
     "data": {
      "application/vnd.jupyter.widget-view+json": {
       "model_id": "da65e95726634d99b816ef79b2020386",
       "version_major": 2,
       "version_minor": 0
      },
      "text/plain": [
       "FloatSlider(value=1e-05, continuous_update=False, description=\"(194, 'R=032-063', 'G=000-031', 'B=096-127')\", …"
      ]
     },
     "metadata": {},
     "output_type": "display_data"
    },
    {
     "data": {
      "application/vnd.jupyter.widget-view+json": {
       "model_id": "2e4b02562d92441aa405ecae08086131",
       "version_major": 2,
       "version_minor": 0
      },
      "text/plain": [
       "FloatSlider(value=1e-05, continuous_update=False, description=\"(195, 'R=064-095', 'G=000-031', 'B=096-127')\", …"
      ]
     },
     "metadata": {},
     "output_type": "display_data"
    },
    {
     "data": {
      "application/vnd.jupyter.widget-view+json": {
       "model_id": "63607cb1e09344efaf6ebd3a9061aa6c",
       "version_major": 2,
       "version_minor": 0
      },
      "text/plain": [
       "FloatSlider(value=1e-05, continuous_update=False, description=\"(196, 'R=096-127', 'G=000-031', 'B=096-127')\", …"
      ]
     },
     "metadata": {},
     "output_type": "display_data"
    },
    {
     "data": {
      "application/vnd.jupyter.widget-view+json": {
       "model_id": "712dd8eb802c4c679ddbc67574415750",
       "version_major": 2,
       "version_minor": 0
      },
      "text/plain": [
       "FloatSlider(value=1e-05, continuous_update=False, description=\"(197, 'R=128-159', 'G=000-031', 'B=096-127')\", …"
      ]
     },
     "metadata": {},
     "output_type": "display_data"
    },
    {
     "data": {
      "application/vnd.jupyter.widget-view+json": {
       "model_id": "8d562ff9fb0548af8e69a692f8b3e100",
       "version_major": 2,
       "version_minor": 0
      },
      "text/plain": [
       "FloatSlider(value=1e-05, continuous_update=False, description=\"(198, 'R=160-191', 'G=000-031', 'B=096-127')\", …"
      ]
     },
     "metadata": {},
     "output_type": "display_data"
    },
    {
     "data": {
      "application/vnd.jupyter.widget-view+json": {
       "model_id": "05549c6a25cf401d983ee12c98a4c77e",
       "version_major": 2,
       "version_minor": 0
      },
      "text/plain": [
       "FloatSlider(value=1e-05, continuous_update=False, description=\"(199, 'R=192-223', 'G=000-031', 'B=096-127')\", …"
      ]
     },
     "metadata": {},
     "output_type": "display_data"
    },
    {
     "data": {
      "application/vnd.jupyter.widget-view+json": {
       "model_id": "bf1ae5771209446da13989670ede74d7",
       "version_major": 2,
       "version_minor": 0
      },
      "text/plain": [
       "FloatSlider(value=1e-05, continuous_update=False, description=\"(200, 'R=224-255', 'G=000-031', 'B=096-127')\", …"
      ]
     },
     "metadata": {},
     "output_type": "display_data"
    },
    {
     "data": {
      "application/vnd.jupyter.widget-view+json": {
       "model_id": "eb5d475cfdfc4f738714650c0e58a3de",
       "version_major": 2,
       "version_minor": 0
      },
      "text/plain": [
       "FloatSlider(value=1e-05, continuous_update=False, description=\"(201, 'R=000-031', 'G=032-063', 'B=096-127')\", …"
      ]
     },
     "metadata": {},
     "output_type": "display_data"
    },
    {
     "data": {
      "application/vnd.jupyter.widget-view+json": {
       "model_id": "66f6b97138a04561853023b3ed0701e4",
       "version_major": 2,
       "version_minor": 0
      },
      "text/plain": [
       "FloatSlider(value=1e-05, continuous_update=False, description=\"(202, 'R=032-063', 'G=032-063', 'B=096-127')\", …"
      ]
     },
     "metadata": {},
     "output_type": "display_data"
    },
    {
     "data": {
      "application/vnd.jupyter.widget-view+json": {
       "model_id": "d4d7f223241542a6b4214dad78f6c4d2",
       "version_major": 2,
       "version_minor": 0
      },
      "text/plain": [
       "FloatSlider(value=1e-05, continuous_update=False, description=\"(203, 'R=064-095', 'G=032-063', 'B=096-127')\", …"
      ]
     },
     "metadata": {},
     "output_type": "display_data"
    },
    {
     "data": {
      "application/vnd.jupyter.widget-view+json": {
       "model_id": "7e323c70567d43baa75653f8a6262269",
       "version_major": 2,
       "version_minor": 0
      },
      "text/plain": [
       "FloatSlider(value=1e-05, continuous_update=False, description=\"(204, 'R=096-127', 'G=032-063', 'B=096-127')\", …"
      ]
     },
     "metadata": {},
     "output_type": "display_data"
    },
    {
     "data": {
      "application/vnd.jupyter.widget-view+json": {
       "model_id": "e0424f91c92e4c518dfd23919ee928c3",
       "version_major": 2,
       "version_minor": 0
      },
      "text/plain": [
       "FloatSlider(value=1e-05, continuous_update=False, description=\"(205, 'R=128-159', 'G=032-063', 'B=096-127')\", …"
      ]
     },
     "metadata": {},
     "output_type": "display_data"
    },
    {
     "data": {
      "application/vnd.jupyter.widget-view+json": {
       "model_id": "270f013e48594b6e8c5ea9cca8fec26b",
       "version_major": 2,
       "version_minor": 0
      },
      "text/plain": [
       "FloatSlider(value=1e-05, continuous_update=False, description=\"(206, 'R=160-191', 'G=032-063', 'B=096-127')\", …"
      ]
     },
     "metadata": {},
     "output_type": "display_data"
    },
    {
     "data": {
      "application/vnd.jupyter.widget-view+json": {
       "model_id": "1a94d1047c3d4fcc80863c330938d0fb",
       "version_major": 2,
       "version_minor": 0
      },
      "text/plain": [
       "FloatSlider(value=1e-05, continuous_update=False, description=\"(207, 'R=192-223', 'G=032-063', 'B=096-127')\", …"
      ]
     },
     "metadata": {},
     "output_type": "display_data"
    },
    {
     "data": {
      "application/vnd.jupyter.widget-view+json": {
       "model_id": "d5f8129d3141431a86fd584278bd62ac",
       "version_major": 2,
       "version_minor": 0
      },
      "text/plain": [
       "FloatSlider(value=1e-05, continuous_update=False, description=\"(208, 'R=224-255', 'G=032-063', 'B=096-127')\", …"
      ]
     },
     "metadata": {},
     "output_type": "display_data"
    },
    {
     "data": {
      "application/vnd.jupyter.widget-view+json": {
       "model_id": "9936efe097624fc997731c37309e9e5c",
       "version_major": 2,
       "version_minor": 0
      },
      "text/plain": [
       "FloatSlider(value=1e-05, continuous_update=False, description=\"(209, 'R=000-031', 'G=064-095', 'B=096-127')\", …"
      ]
     },
     "metadata": {},
     "output_type": "display_data"
    },
    {
     "data": {
      "application/vnd.jupyter.widget-view+json": {
       "model_id": "08e77870d6cf4b0085e6a5edea9360f5",
       "version_major": 2,
       "version_minor": 0
      },
      "text/plain": [
       "FloatSlider(value=1e-05, continuous_update=False, description=\"(210, 'R=032-063', 'G=064-095', 'B=096-127')\", …"
      ]
     },
     "metadata": {},
     "output_type": "display_data"
    },
    {
     "data": {
      "application/vnd.jupyter.widget-view+json": {
       "model_id": "996a48dc21024d288a6d04307f98de39",
       "version_major": 2,
       "version_minor": 0
      },
      "text/plain": [
       "FloatSlider(value=1e-05, continuous_update=False, description=\"(211, 'R=064-095', 'G=064-095', 'B=096-127')\", …"
      ]
     },
     "metadata": {},
     "output_type": "display_data"
    },
    {
     "data": {
      "application/vnd.jupyter.widget-view+json": {
       "model_id": "7e0ddf965f054c25a94aef47e3b00ab2",
       "version_major": 2,
       "version_minor": 0
      },
      "text/plain": [
       "FloatSlider(value=1e-05, continuous_update=False, description=\"(212, 'R=096-127', 'G=064-095', 'B=096-127')\", …"
      ]
     },
     "metadata": {},
     "output_type": "display_data"
    },
    {
     "data": {
      "application/vnd.jupyter.widget-view+json": {
       "model_id": "9605cbe627d14275b3ce9b5747ad5de8",
       "version_major": 2,
       "version_minor": 0
      },
      "text/plain": [
       "FloatSlider(value=1e-05, continuous_update=False, description=\"(213, 'R=128-159', 'G=064-095', 'B=096-127')\", …"
      ]
     },
     "metadata": {},
     "output_type": "display_data"
    },
    {
     "data": {
      "application/vnd.jupyter.widget-view+json": {
       "model_id": "5818c32b864b48fda5b91ebb4e8ab2bb",
       "version_major": 2,
       "version_minor": 0
      },
      "text/plain": [
       "FloatSlider(value=1e-05, continuous_update=False, description=\"(214, 'R=160-191', 'G=064-095', 'B=096-127')\", …"
      ]
     },
     "metadata": {},
     "output_type": "display_data"
    },
    {
     "data": {
      "application/vnd.jupyter.widget-view+json": {
       "model_id": "55e9ab14ff43423281d25b8f35284864",
       "version_major": 2,
       "version_minor": 0
      },
      "text/plain": [
       "FloatSlider(value=1e-05, continuous_update=False, description=\"(215, 'R=192-223', 'G=064-095', 'B=096-127')\", …"
      ]
     },
     "metadata": {},
     "output_type": "display_data"
    },
    {
     "data": {
      "application/vnd.jupyter.widget-view+json": {
       "model_id": "a2f72af2c9be418db71eeaba64f21f53",
       "version_major": 2,
       "version_minor": 0
      },
      "text/plain": [
       "FloatSlider(value=1e-05, continuous_update=False, description=\"(216, 'R=224-255', 'G=064-095', 'B=096-127')\", …"
      ]
     },
     "metadata": {},
     "output_type": "display_data"
    },
    {
     "data": {
      "application/vnd.jupyter.widget-view+json": {
       "model_id": "55598ad93e3f4d98a26de84fcbc206b2",
       "version_major": 2,
       "version_minor": 0
      },
      "text/plain": [
       "FloatSlider(value=1e-05, continuous_update=False, description=\"(217, 'R=000-031', 'G=096-127', 'B=096-127')\", …"
      ]
     },
     "metadata": {},
     "output_type": "display_data"
    },
    {
     "data": {
      "application/vnd.jupyter.widget-view+json": {
       "model_id": "92af62fe94ae4e22a03747c90fd343cc",
       "version_major": 2,
       "version_minor": 0
      },
      "text/plain": [
       "FloatSlider(value=1e-05, continuous_update=False, description=\"(218, 'R=032-063', 'G=096-127', 'B=096-127')\", …"
      ]
     },
     "metadata": {},
     "output_type": "display_data"
    },
    {
     "data": {
      "application/vnd.jupyter.widget-view+json": {
       "model_id": "a8342f8039cd4425a3cdf64f7decd6cb",
       "version_major": 2,
       "version_minor": 0
      },
      "text/plain": [
       "FloatSlider(value=1e-05, continuous_update=False, description=\"(219, 'R=064-095', 'G=096-127', 'B=096-127')\", …"
      ]
     },
     "metadata": {},
     "output_type": "display_data"
    },
    {
     "data": {
      "application/vnd.jupyter.widget-view+json": {
       "model_id": "b8277e6812464a6d97a6e6f2d5b1b7f3",
       "version_major": 2,
       "version_minor": 0
      },
      "text/plain": [
       "FloatSlider(value=1e-05, continuous_update=False, description=\"(220, 'R=096-127', 'G=096-127', 'B=096-127')\", …"
      ]
     },
     "metadata": {},
     "output_type": "display_data"
    },
    {
     "data": {
      "application/vnd.jupyter.widget-view+json": {
       "model_id": "4aa7ce6d84a447c2b71e7525bb8ae577",
       "version_major": 2,
       "version_minor": 0
      },
      "text/plain": [
       "FloatSlider(value=1e-05, continuous_update=False, description=\"(221, 'R=128-159', 'G=096-127', 'B=096-127')\", …"
      ]
     },
     "metadata": {},
     "output_type": "display_data"
    },
    {
     "data": {
      "application/vnd.jupyter.widget-view+json": {
       "model_id": "cdd7884265a54125b943c073a2ef9635",
       "version_major": 2,
       "version_minor": 0
      },
      "text/plain": [
       "FloatSlider(value=1e-05, continuous_update=False, description=\"(222, 'R=160-191', 'G=096-127', 'B=096-127')\", …"
      ]
     },
     "metadata": {},
     "output_type": "display_data"
    },
    {
     "data": {
      "application/vnd.jupyter.widget-view+json": {
       "model_id": "2e70bc0cbb52411e8ed40e2cb75e9bf3",
       "version_major": 2,
       "version_minor": 0
      },
      "text/plain": [
       "FloatSlider(value=1e-05, continuous_update=False, description=\"(223, 'R=192-223', 'G=096-127', 'B=096-127')\", …"
      ]
     },
     "metadata": {},
     "output_type": "display_data"
    },
    {
     "data": {
      "application/vnd.jupyter.widget-view+json": {
       "model_id": "0f12ccc8f9ae4f45bc77c10116de16d1",
       "version_major": 2,
       "version_minor": 0
      },
      "text/plain": [
       "FloatSlider(value=1e-05, continuous_update=False, description=\"(224, 'R=224-255', 'G=096-127', 'B=096-127')\", …"
      ]
     },
     "metadata": {},
     "output_type": "display_data"
    },
    {
     "data": {
      "application/vnd.jupyter.widget-view+json": {
       "model_id": "6895e6ccd04e493197265dcf77e6c9a6",
       "version_major": 2,
       "version_minor": 0
      },
      "text/plain": [
       "FloatSlider(value=1e-05, continuous_update=False, description=\"(225, 'R=000-031', 'G=128-159', 'B=096-127')\", …"
      ]
     },
     "metadata": {},
     "output_type": "display_data"
    },
    {
     "data": {
      "application/vnd.jupyter.widget-view+json": {
       "model_id": "a220b9ab12d2411aa4f2609e97959b65",
       "version_major": 2,
       "version_minor": 0
      },
      "text/plain": [
       "FloatSlider(value=1e-05, continuous_update=False, description=\"(226, 'R=032-063', 'G=128-159', 'B=096-127')\", …"
      ]
     },
     "metadata": {},
     "output_type": "display_data"
    },
    {
     "data": {
      "application/vnd.jupyter.widget-view+json": {
       "model_id": "2043a54a7a374fb69c00f511536fdbc0",
       "version_major": 2,
       "version_minor": 0
      },
      "text/plain": [
       "FloatSlider(value=1e-05, continuous_update=False, description=\"(227, 'R=064-095', 'G=128-159', 'B=096-127')\", …"
      ]
     },
     "metadata": {},
     "output_type": "display_data"
    },
    {
     "data": {
      "application/vnd.jupyter.widget-view+json": {
       "model_id": "34d74ee0d26740939c62bfd49e1f06ef",
       "version_major": 2,
       "version_minor": 0
      },
      "text/plain": [
       "FloatSlider(value=1e-05, continuous_update=False, description=\"(228, 'R=096-127', 'G=128-159', 'B=096-127')\", …"
      ]
     },
     "metadata": {},
     "output_type": "display_data"
    },
    {
     "data": {
      "application/vnd.jupyter.widget-view+json": {
       "model_id": "a1f388a19b644ceeb4c5ca820b53a1d2",
       "version_major": 2,
       "version_minor": 0
      },
      "text/plain": [
       "FloatSlider(value=1e-05, continuous_update=False, description=\"(229, 'R=128-159', 'G=128-159', 'B=096-127')\", …"
      ]
     },
     "metadata": {},
     "output_type": "display_data"
    },
    {
     "data": {
      "application/vnd.jupyter.widget-view+json": {
       "model_id": "8c62a3b330e842c8a9dc1123fe4c8a12",
       "version_major": 2,
       "version_minor": 0
      },
      "text/plain": [
       "FloatSlider(value=1e-05, continuous_update=False, description=\"(230, 'R=160-191', 'G=128-159', 'B=096-127')\", …"
      ]
     },
     "metadata": {},
     "output_type": "display_data"
    },
    {
     "data": {
      "application/vnd.jupyter.widget-view+json": {
       "model_id": "418a394f878749e7838703dd0f73efe1",
       "version_major": 2,
       "version_minor": 0
      },
      "text/plain": [
       "FloatSlider(value=1e-05, continuous_update=False, description=\"(231, 'R=192-223', 'G=128-159', 'B=096-127')\", …"
      ]
     },
     "metadata": {},
     "output_type": "display_data"
    },
    {
     "data": {
      "application/vnd.jupyter.widget-view+json": {
       "model_id": "05286acc03f8421eb89ffd502e1ec821",
       "version_major": 2,
       "version_minor": 0
      },
      "text/plain": [
       "FloatSlider(value=1e-05, continuous_update=False, description=\"(232, 'R=224-255', 'G=128-159', 'B=096-127')\", …"
      ]
     },
     "metadata": {},
     "output_type": "display_data"
    },
    {
     "data": {
      "application/vnd.jupyter.widget-view+json": {
       "model_id": "2219ae2a478e4863aaf76b619043f42a",
       "version_major": 2,
       "version_minor": 0
      },
      "text/plain": [
       "FloatSlider(value=1e-05, continuous_update=False, description=\"(233, 'R=000-031', 'G=160-191', 'B=096-127')\", …"
      ]
     },
     "metadata": {},
     "output_type": "display_data"
    },
    {
     "data": {
      "application/vnd.jupyter.widget-view+json": {
       "model_id": "19315a3f30964af58cd2a5939da07600",
       "version_major": 2,
       "version_minor": 0
      },
      "text/plain": [
       "FloatSlider(value=1e-05, continuous_update=False, description=\"(234, 'R=032-063', 'G=160-191', 'B=096-127')\", …"
      ]
     },
     "metadata": {},
     "output_type": "display_data"
    },
    {
     "data": {
      "application/vnd.jupyter.widget-view+json": {
       "model_id": "921f1d9de4de43009e028631969ea14d",
       "version_major": 2,
       "version_minor": 0
      },
      "text/plain": [
       "FloatSlider(value=1e-05, continuous_update=False, description=\"(235, 'R=064-095', 'G=160-191', 'B=096-127')\", …"
      ]
     },
     "metadata": {},
     "output_type": "display_data"
    },
    {
     "data": {
      "application/vnd.jupyter.widget-view+json": {
       "model_id": "4f5e304be6e84c139ac5d9707c349768",
       "version_major": 2,
       "version_minor": 0
      },
      "text/plain": [
       "FloatSlider(value=1e-05, continuous_update=False, description=\"(236, 'R=096-127', 'G=160-191', 'B=096-127')\", …"
      ]
     },
     "metadata": {},
     "output_type": "display_data"
    },
    {
     "data": {
      "application/vnd.jupyter.widget-view+json": {
       "model_id": "444435e6e02d4b3cbb38ccb7c7296574",
       "version_major": 2,
       "version_minor": 0
      },
      "text/plain": [
       "FloatSlider(value=1e-05, continuous_update=False, description=\"(237, 'R=128-159', 'G=160-191', 'B=096-127')\", …"
      ]
     },
     "metadata": {},
     "output_type": "display_data"
    },
    {
     "data": {
      "application/vnd.jupyter.widget-view+json": {
       "model_id": "cd4f8d6d33e9488c983ede3cc8cce115",
       "version_major": 2,
       "version_minor": 0
      },
      "text/plain": [
       "FloatSlider(value=1e-05, continuous_update=False, description=\"(238, 'R=160-191', 'G=160-191', 'B=096-127')\", …"
      ]
     },
     "metadata": {},
     "output_type": "display_data"
    },
    {
     "data": {
      "application/vnd.jupyter.widget-view+json": {
       "model_id": "d461507152d04317870428b8f83138b0",
       "version_major": 2,
       "version_minor": 0
      },
      "text/plain": [
       "FloatSlider(value=1e-05, continuous_update=False, description=\"(239, 'R=192-223', 'G=160-191', 'B=096-127')\", …"
      ]
     },
     "metadata": {},
     "output_type": "display_data"
    },
    {
     "data": {
      "application/vnd.jupyter.widget-view+json": {
       "model_id": "2439aca7efa44d02bdb8327d9e13431c",
       "version_major": 2,
       "version_minor": 0
      },
      "text/plain": [
       "FloatSlider(value=1e-05, continuous_update=False, description=\"(240, 'R=224-255', 'G=160-191', 'B=096-127')\", …"
      ]
     },
     "metadata": {},
     "output_type": "display_data"
    },
    {
     "data": {
      "application/vnd.jupyter.widget-view+json": {
       "model_id": "165aa9afcf054216a4c8f00be42ba2ea",
       "version_major": 2,
       "version_minor": 0
      },
      "text/plain": [
       "FloatSlider(value=1e-05, continuous_update=False, description=\"(241, 'R=000-031', 'G=192-223', 'B=096-127')\", …"
      ]
     },
     "metadata": {},
     "output_type": "display_data"
    },
    {
     "data": {
      "application/vnd.jupyter.widget-view+json": {
       "model_id": "278b13ce401f4440a4e6f5a7b8bb9ac9",
       "version_major": 2,
       "version_minor": 0
      },
      "text/plain": [
       "FloatSlider(value=1e-05, continuous_update=False, description=\"(242, 'R=032-063', 'G=192-223', 'B=096-127')\", …"
      ]
     },
     "metadata": {},
     "output_type": "display_data"
    },
    {
     "data": {
      "application/vnd.jupyter.widget-view+json": {
       "model_id": "0fd13711e3334f8b829cf53c7aba0781",
       "version_major": 2,
       "version_minor": 0
      },
      "text/plain": [
       "FloatSlider(value=1e-05, continuous_update=False, description=\"(243, 'R=064-095', 'G=192-223', 'B=096-127')\", …"
      ]
     },
     "metadata": {},
     "output_type": "display_data"
    },
    {
     "data": {
      "application/vnd.jupyter.widget-view+json": {
       "model_id": "574026acf08f4700ac91f16ad410301c",
       "version_major": 2,
       "version_minor": 0
      },
      "text/plain": [
       "FloatSlider(value=1e-05, continuous_update=False, description=\"(244, 'R=096-127', 'G=192-223', 'B=096-127')\", …"
      ]
     },
     "metadata": {},
     "output_type": "display_data"
    },
    {
     "data": {
      "application/vnd.jupyter.widget-view+json": {
       "model_id": "774adf70f42d4f488eb44170102a87f3",
       "version_major": 2,
       "version_minor": 0
      },
      "text/plain": [
       "FloatSlider(value=1e-05, continuous_update=False, description=\"(245, 'R=128-159', 'G=192-223', 'B=096-127')\", …"
      ]
     },
     "metadata": {},
     "output_type": "display_data"
    },
    {
     "data": {
      "application/vnd.jupyter.widget-view+json": {
       "model_id": "e83ab2d719d640b1ae04a48b085f7c04",
       "version_major": 2,
       "version_minor": 0
      },
      "text/plain": [
       "FloatSlider(value=1e-05, continuous_update=False, description=\"(246, 'R=160-191', 'G=192-223', 'B=096-127')\", …"
      ]
     },
     "metadata": {},
     "output_type": "display_data"
    },
    {
     "data": {
      "application/vnd.jupyter.widget-view+json": {
       "model_id": "89e2a7a235a24820a74d84a190c45dc0",
       "version_major": 2,
       "version_minor": 0
      },
      "text/plain": [
       "FloatSlider(value=1e-05, continuous_update=False, description=\"(247, 'R=192-223', 'G=192-223', 'B=096-127')\", …"
      ]
     },
     "metadata": {},
     "output_type": "display_data"
    },
    {
     "data": {
      "application/vnd.jupyter.widget-view+json": {
       "model_id": "6c1c279bc4284bb0adc4efdc0f15660b",
       "version_major": 2,
       "version_minor": 0
      },
      "text/plain": [
       "FloatSlider(value=1e-05, continuous_update=False, description=\"(248, 'R=224-255', 'G=192-223', 'B=096-127')\", …"
      ]
     },
     "metadata": {},
     "output_type": "display_data"
    },
    {
     "data": {
      "application/vnd.jupyter.widget-view+json": {
       "model_id": "80a4312dba794177a8597f9a0b2a83c6",
       "version_major": 2,
       "version_minor": 0
      },
      "text/plain": [
       "FloatSlider(value=1e-05, continuous_update=False, description=\"(249, 'R=000-031', 'G=224-255', 'B=096-127')\", …"
      ]
     },
     "metadata": {},
     "output_type": "display_data"
    },
    {
     "data": {
      "application/vnd.jupyter.widget-view+json": {
       "model_id": "bc441d1e4ff94d2d971ee63ace0194e8",
       "version_major": 2,
       "version_minor": 0
      },
      "text/plain": [
       "FloatSlider(value=1e-05, continuous_update=False, description=\"(250, 'R=032-063', 'G=224-255', 'B=096-127')\", …"
      ]
     },
     "metadata": {},
     "output_type": "display_data"
    },
    {
     "data": {
      "application/vnd.jupyter.widget-view+json": {
       "model_id": "333f62dd27e14d4a925a8e03cad9fbe8",
       "version_major": 2,
       "version_minor": 0
      },
      "text/plain": [
       "FloatSlider(value=1e-05, continuous_update=False, description=\"(251, 'R=064-095', 'G=224-255', 'B=096-127')\", …"
      ]
     },
     "metadata": {},
     "output_type": "display_data"
    },
    {
     "data": {
      "application/vnd.jupyter.widget-view+json": {
       "model_id": "37b44afc537143968722fc7914c8a87d",
       "version_major": 2,
       "version_minor": 0
      },
      "text/plain": [
       "FloatSlider(value=1e-05, continuous_update=False, description=\"(252, 'R=096-127', 'G=224-255', 'B=096-127')\", …"
      ]
     },
     "metadata": {},
     "output_type": "display_data"
    },
    {
     "data": {
      "application/vnd.jupyter.widget-view+json": {
       "model_id": "416cde724074444db6d570e41595e265",
       "version_major": 2,
       "version_minor": 0
      },
      "text/plain": [
       "FloatSlider(value=1e-05, continuous_update=False, description=\"(253, 'R=128-159', 'G=224-255', 'B=096-127')\", …"
      ]
     },
     "metadata": {},
     "output_type": "display_data"
    },
    {
     "data": {
      "application/vnd.jupyter.widget-view+json": {
       "model_id": "06bbe0fab96e459b915d1af04a59d01e",
       "version_major": 2,
       "version_minor": 0
      },
      "text/plain": [
       "FloatSlider(value=1e-05, continuous_update=False, description=\"(254, 'R=160-191', 'G=224-255', 'B=096-127')\", …"
      ]
     },
     "metadata": {},
     "output_type": "display_data"
    },
    {
     "data": {
      "application/vnd.jupyter.widget-view+json": {
       "model_id": "8b4ec65147ef49bdb894cf55316f3656",
       "version_major": 2,
       "version_minor": 0
      },
      "text/plain": [
       "FloatSlider(value=1e-05, continuous_update=False, description=\"(255, 'R=192-223', 'G=224-255', 'B=096-127')\", …"
      ]
     },
     "metadata": {},
     "output_type": "display_data"
    },
    {
     "data": {
      "application/vnd.jupyter.widget-view+json": {
       "model_id": "2ae596963bbf4e8ab6d71a95abdbd458",
       "version_major": 2,
       "version_minor": 0
      },
      "text/plain": [
       "FloatSlider(value=1e-05, continuous_update=False, description=\"(256, 'R=224-255', 'G=224-255', 'B=096-127')\", …"
      ]
     },
     "metadata": {},
     "output_type": "display_data"
    },
    {
     "data": {
      "application/vnd.jupyter.widget-view+json": {
       "model_id": "37df955ef5e14450a9ac268894c77952",
       "version_major": 2,
       "version_minor": 0
      },
      "text/plain": [
       "FloatSlider(value=1e-05, continuous_update=False, description=\"(257, 'R=000-031', 'G=000-031', 'B=128-159')\", …"
      ]
     },
     "metadata": {},
     "output_type": "display_data"
    },
    {
     "data": {
      "application/vnd.jupyter.widget-view+json": {
       "model_id": "d5dfc3bb41ca49cab39756623d08817a",
       "version_major": 2,
       "version_minor": 0
      },
      "text/plain": [
       "FloatSlider(value=1e-05, continuous_update=False, description=\"(258, 'R=032-063', 'G=000-031', 'B=128-159')\", …"
      ]
     },
     "metadata": {},
     "output_type": "display_data"
    },
    {
     "data": {
      "application/vnd.jupyter.widget-view+json": {
       "model_id": "2dab30b105274757a307222755c0c7d7",
       "version_major": 2,
       "version_minor": 0
      },
      "text/plain": [
       "FloatSlider(value=1e-05, continuous_update=False, description=\"(259, 'R=064-095', 'G=000-031', 'B=128-159')\", …"
      ]
     },
     "metadata": {},
     "output_type": "display_data"
    },
    {
     "data": {
      "application/vnd.jupyter.widget-view+json": {
       "model_id": "7db77ff3d38545e794809dbb517dbf9e",
       "version_major": 2,
       "version_minor": 0
      },
      "text/plain": [
       "FloatSlider(value=1e-05, continuous_update=False, description=\"(260, 'R=096-127', 'G=000-031', 'B=128-159')\", …"
      ]
     },
     "metadata": {},
     "output_type": "display_data"
    },
    {
     "data": {
      "application/vnd.jupyter.widget-view+json": {
       "model_id": "232538a6a1a6412b976e5cf2ee38c8e7",
       "version_major": 2,
       "version_minor": 0
      },
      "text/plain": [
       "FloatSlider(value=1e-05, continuous_update=False, description=\"(261, 'R=128-159', 'G=000-031', 'B=128-159')\", …"
      ]
     },
     "metadata": {},
     "output_type": "display_data"
    },
    {
     "data": {
      "application/vnd.jupyter.widget-view+json": {
       "model_id": "1a18b143962c4e35a03a386225725cca",
       "version_major": 2,
       "version_minor": 0
      },
      "text/plain": [
       "FloatSlider(value=1e-05, continuous_update=False, description=\"(262, 'R=160-191', 'G=000-031', 'B=128-159')\", …"
      ]
     },
     "metadata": {},
     "output_type": "display_data"
    },
    {
     "data": {
      "application/vnd.jupyter.widget-view+json": {
       "model_id": "5b77dceafab0401fa17162a9759b235e",
       "version_major": 2,
       "version_minor": 0
      },
      "text/plain": [
       "FloatSlider(value=1e-05, continuous_update=False, description=\"(263, 'R=192-223', 'G=000-031', 'B=128-159')\", …"
      ]
     },
     "metadata": {},
     "output_type": "display_data"
    },
    {
     "data": {
      "application/vnd.jupyter.widget-view+json": {
       "model_id": "3448ed4ba46a4a8680043841e9f90fbd",
       "version_major": 2,
       "version_minor": 0
      },
      "text/plain": [
       "FloatSlider(value=1e-05, continuous_update=False, description=\"(264, 'R=224-255', 'G=000-031', 'B=128-159')\", …"
      ]
     },
     "metadata": {},
     "output_type": "display_data"
    },
    {
     "data": {
      "application/vnd.jupyter.widget-view+json": {
       "model_id": "d1fd1cec3e414ea0afee288c12079c41",
       "version_major": 2,
       "version_minor": 0
      },
      "text/plain": [
       "FloatSlider(value=1e-05, continuous_update=False, description=\"(265, 'R=000-031', 'G=032-063', 'B=128-159')\", …"
      ]
     },
     "metadata": {},
     "output_type": "display_data"
    },
    {
     "data": {
      "application/vnd.jupyter.widget-view+json": {
       "model_id": "f9c6a50acb3c434fabbeb61c4e2bd6c0",
       "version_major": 2,
       "version_minor": 0
      },
      "text/plain": [
       "FloatSlider(value=1e-05, continuous_update=False, description=\"(266, 'R=032-063', 'G=032-063', 'B=128-159')\", …"
      ]
     },
     "metadata": {},
     "output_type": "display_data"
    },
    {
     "data": {
      "application/vnd.jupyter.widget-view+json": {
       "model_id": "813a238c5f6f4a5fb801f4534996103e",
       "version_major": 2,
       "version_minor": 0
      },
      "text/plain": [
       "FloatSlider(value=1e-05, continuous_update=False, description=\"(267, 'R=064-095', 'G=032-063', 'B=128-159')\", …"
      ]
     },
     "metadata": {},
     "output_type": "display_data"
    },
    {
     "data": {
      "application/vnd.jupyter.widget-view+json": {
       "model_id": "989b6243fefd4102a61030a44f8577cb",
       "version_major": 2,
       "version_minor": 0
      },
      "text/plain": [
       "FloatSlider(value=1e-05, continuous_update=False, description=\"(268, 'R=096-127', 'G=032-063', 'B=128-159')\", …"
      ]
     },
     "metadata": {},
     "output_type": "display_data"
    },
    {
     "data": {
      "application/vnd.jupyter.widget-view+json": {
       "model_id": "ee7d01aff46044eeb3bb610d9ab1b77e",
       "version_major": 2,
       "version_minor": 0
      },
      "text/plain": [
       "FloatSlider(value=1e-05, continuous_update=False, description=\"(269, 'R=128-159', 'G=032-063', 'B=128-159')\", …"
      ]
     },
     "metadata": {},
     "output_type": "display_data"
    },
    {
     "data": {
      "application/vnd.jupyter.widget-view+json": {
       "model_id": "feed4d5f0fe14baba586e4f3d24ead3d",
       "version_major": 2,
       "version_minor": 0
      },
      "text/plain": [
       "FloatSlider(value=1e-05, continuous_update=False, description=\"(270, 'R=160-191', 'G=032-063', 'B=128-159')\", …"
      ]
     },
     "metadata": {},
     "output_type": "display_data"
    },
    {
     "data": {
      "application/vnd.jupyter.widget-view+json": {
       "model_id": "3a7182ba80834a3ca06097d098805368",
       "version_major": 2,
       "version_minor": 0
      },
      "text/plain": [
       "FloatSlider(value=1e-05, continuous_update=False, description=\"(271, 'R=192-223', 'G=032-063', 'B=128-159')\", …"
      ]
     },
     "metadata": {},
     "output_type": "display_data"
    },
    {
     "data": {
      "application/vnd.jupyter.widget-view+json": {
       "model_id": "1d8f17fa034e44db99932506f242dc3e",
       "version_major": 2,
       "version_minor": 0
      },
      "text/plain": [
       "FloatSlider(value=1e-05, continuous_update=False, description=\"(272, 'R=224-255', 'G=032-063', 'B=128-159')\", …"
      ]
     },
     "metadata": {},
     "output_type": "display_data"
    },
    {
     "data": {
      "application/vnd.jupyter.widget-view+json": {
       "model_id": "eeb5afb245d64e4c9469dbf81fe37807",
       "version_major": 2,
       "version_minor": 0
      },
      "text/plain": [
       "FloatSlider(value=1e-05, continuous_update=False, description=\"(273, 'R=000-031', 'G=064-095', 'B=128-159')\", …"
      ]
     },
     "metadata": {},
     "output_type": "display_data"
    },
    {
     "data": {
      "application/vnd.jupyter.widget-view+json": {
       "model_id": "de70c99db2754f7b96d930118a499343",
       "version_major": 2,
       "version_minor": 0
      },
      "text/plain": [
       "FloatSlider(value=1e-05, continuous_update=False, description=\"(274, 'R=032-063', 'G=064-095', 'B=128-159')\", …"
      ]
     },
     "metadata": {},
     "output_type": "display_data"
    },
    {
     "data": {
      "application/vnd.jupyter.widget-view+json": {
       "model_id": "cb16ec855e4a4c928ba0a01760e0be49",
       "version_major": 2,
       "version_minor": 0
      },
      "text/plain": [
       "FloatSlider(value=1e-05, continuous_update=False, description=\"(275, 'R=064-095', 'G=064-095', 'B=128-159')\", …"
      ]
     },
     "metadata": {},
     "output_type": "display_data"
    },
    {
     "data": {
      "application/vnd.jupyter.widget-view+json": {
       "model_id": "393855ccdf654085ac01eaf3e8c1ce23",
       "version_major": 2,
       "version_minor": 0
      },
      "text/plain": [
       "FloatSlider(value=1e-05, continuous_update=False, description=\"(276, 'R=096-127', 'G=064-095', 'B=128-159')\", …"
      ]
     },
     "metadata": {},
     "output_type": "display_data"
    },
    {
     "data": {
      "application/vnd.jupyter.widget-view+json": {
       "model_id": "bb9406969c564ca3b7c63bf7733dee48",
       "version_major": 2,
       "version_minor": 0
      },
      "text/plain": [
       "FloatSlider(value=1e-05, continuous_update=False, description=\"(277, 'R=128-159', 'G=064-095', 'B=128-159')\", …"
      ]
     },
     "metadata": {},
     "output_type": "display_data"
    },
    {
     "data": {
      "application/vnd.jupyter.widget-view+json": {
       "model_id": "9740fa357de843b8a8552d23c1a59a2e",
       "version_major": 2,
       "version_minor": 0
      },
      "text/plain": [
       "FloatSlider(value=1e-05, continuous_update=False, description=\"(278, 'R=160-191', 'G=064-095', 'B=128-159')\", …"
      ]
     },
     "metadata": {},
     "output_type": "display_data"
    },
    {
     "data": {
      "application/vnd.jupyter.widget-view+json": {
       "model_id": "6aae15c15e5b4deca3d6ca6e2d63c904",
       "version_major": 2,
       "version_minor": 0
      },
      "text/plain": [
       "FloatSlider(value=1e-05, continuous_update=False, description=\"(279, 'R=192-223', 'G=064-095', 'B=128-159')\", …"
      ]
     },
     "metadata": {},
     "output_type": "display_data"
    },
    {
     "data": {
      "application/vnd.jupyter.widget-view+json": {
       "model_id": "705e94c5eafe468e9d13e803795dda4f",
       "version_major": 2,
       "version_minor": 0
      },
      "text/plain": [
       "FloatSlider(value=1e-05, continuous_update=False, description=\"(280, 'R=224-255', 'G=064-095', 'B=128-159')\", …"
      ]
     },
     "metadata": {},
     "output_type": "display_data"
    },
    {
     "data": {
      "application/vnd.jupyter.widget-view+json": {
       "model_id": "79aa7d6349f74a258490f3bc0c720cf9",
       "version_major": 2,
       "version_minor": 0
      },
      "text/plain": [
       "FloatSlider(value=1e-05, continuous_update=False, description=\"(281, 'R=000-031', 'G=096-127', 'B=128-159')\", …"
      ]
     },
     "metadata": {},
     "output_type": "display_data"
    },
    {
     "data": {
      "application/vnd.jupyter.widget-view+json": {
       "model_id": "806f2ab729334dd28900a22cb26d7023",
       "version_major": 2,
       "version_minor": 0
      },
      "text/plain": [
       "FloatSlider(value=1e-05, continuous_update=False, description=\"(282, 'R=032-063', 'G=096-127', 'B=128-159')\", …"
      ]
     },
     "metadata": {},
     "output_type": "display_data"
    },
    {
     "data": {
      "application/vnd.jupyter.widget-view+json": {
       "model_id": "20cd3e36cf504599940af4f02de32937",
       "version_major": 2,
       "version_minor": 0
      },
      "text/plain": [
       "FloatSlider(value=1e-05, continuous_update=False, description=\"(283, 'R=064-095', 'G=096-127', 'B=128-159')\", …"
      ]
     },
     "metadata": {},
     "output_type": "display_data"
    },
    {
     "data": {
      "application/vnd.jupyter.widget-view+json": {
       "model_id": "2ecc260cf1f14b189859c7396ee9f6b6",
       "version_major": 2,
       "version_minor": 0
      },
      "text/plain": [
       "FloatSlider(value=1e-05, continuous_update=False, description=\"(284, 'R=096-127', 'G=096-127', 'B=128-159')\", …"
      ]
     },
     "metadata": {},
     "output_type": "display_data"
    },
    {
     "data": {
      "application/vnd.jupyter.widget-view+json": {
       "model_id": "db63224e29294049965e010d2a764530",
       "version_major": 2,
       "version_minor": 0
      },
      "text/plain": [
       "FloatSlider(value=1e-05, continuous_update=False, description=\"(285, 'R=128-159', 'G=096-127', 'B=128-159')\", …"
      ]
     },
     "metadata": {},
     "output_type": "display_data"
    },
    {
     "data": {
      "application/vnd.jupyter.widget-view+json": {
       "model_id": "c9eba32f337d49a597be440fdedf89d1",
       "version_major": 2,
       "version_minor": 0
      },
      "text/plain": [
       "FloatSlider(value=1e-05, continuous_update=False, description=\"(286, 'R=160-191', 'G=096-127', 'B=128-159')\", …"
      ]
     },
     "metadata": {},
     "output_type": "display_data"
    },
    {
     "data": {
      "application/vnd.jupyter.widget-view+json": {
       "model_id": "ec791a7784f5430d8d0b0ecd696fec93",
       "version_major": 2,
       "version_minor": 0
      },
      "text/plain": [
       "FloatSlider(value=1e-05, continuous_update=False, description=\"(287, 'R=192-223', 'G=096-127', 'B=128-159')\", …"
      ]
     },
     "metadata": {},
     "output_type": "display_data"
    },
    {
     "data": {
      "application/vnd.jupyter.widget-view+json": {
       "model_id": "69f119d7b49046beaad8fde14cffaa7b",
       "version_major": 2,
       "version_minor": 0
      },
      "text/plain": [
       "FloatSlider(value=1e-05, continuous_update=False, description=\"(288, 'R=224-255', 'G=096-127', 'B=128-159')\", …"
      ]
     },
     "metadata": {},
     "output_type": "display_data"
    },
    {
     "data": {
      "application/vnd.jupyter.widget-view+json": {
       "model_id": "8a1f8257cd9a4fd2a62df9e4cfb3893c",
       "version_major": 2,
       "version_minor": 0
      },
      "text/plain": [
       "FloatSlider(value=1e-05, continuous_update=False, description=\"(289, 'R=000-031', 'G=128-159', 'B=128-159')\", …"
      ]
     },
     "metadata": {},
     "output_type": "display_data"
    },
    {
     "data": {
      "application/vnd.jupyter.widget-view+json": {
       "model_id": "7d7aeb0c738a420dbcdd78df38fc0146",
       "version_major": 2,
       "version_minor": 0
      },
      "text/plain": [
       "FloatSlider(value=1e-05, continuous_update=False, description=\"(290, 'R=032-063', 'G=128-159', 'B=128-159')\", …"
      ]
     },
     "metadata": {},
     "output_type": "display_data"
    },
    {
     "data": {
      "application/vnd.jupyter.widget-view+json": {
       "model_id": "3b2c8d19187c49a987dd451c81ece739",
       "version_major": 2,
       "version_minor": 0
      },
      "text/plain": [
       "FloatSlider(value=1e-05, continuous_update=False, description=\"(291, 'R=064-095', 'G=128-159', 'B=128-159')\", …"
      ]
     },
     "metadata": {},
     "output_type": "display_data"
    },
    {
     "data": {
      "application/vnd.jupyter.widget-view+json": {
       "model_id": "a99843b56a6f484697b4b9639b4371ee",
       "version_major": 2,
       "version_minor": 0
      },
      "text/plain": [
       "FloatSlider(value=1e-05, continuous_update=False, description=\"(292, 'R=096-127', 'G=128-159', 'B=128-159')\", …"
      ]
     },
     "metadata": {},
     "output_type": "display_data"
    },
    {
     "data": {
      "application/vnd.jupyter.widget-view+json": {
       "model_id": "2cf424811cc5405386d1707e03f2be59",
       "version_major": 2,
       "version_minor": 0
      },
      "text/plain": [
       "FloatSlider(value=1e-05, continuous_update=False, description=\"(293, 'R=128-159', 'G=128-159', 'B=128-159')\", …"
      ]
     },
     "metadata": {},
     "output_type": "display_data"
    },
    {
     "data": {
      "application/vnd.jupyter.widget-view+json": {
       "model_id": "f792a56c70d74337882c37d789970bf7",
       "version_major": 2,
       "version_minor": 0
      },
      "text/plain": [
       "FloatSlider(value=1e-05, continuous_update=False, description=\"(294, 'R=160-191', 'G=128-159', 'B=128-159')\", …"
      ]
     },
     "metadata": {},
     "output_type": "display_data"
    },
    {
     "data": {
      "application/vnd.jupyter.widget-view+json": {
       "model_id": "dcd998121cc041038f895bea6d9b74ec",
       "version_major": 2,
       "version_minor": 0
      },
      "text/plain": [
       "FloatSlider(value=1e-05, continuous_update=False, description=\"(295, 'R=192-223', 'G=128-159', 'B=128-159')\", …"
      ]
     },
     "metadata": {},
     "output_type": "display_data"
    },
    {
     "data": {
      "application/vnd.jupyter.widget-view+json": {
       "model_id": "35e30330c27f490b95dff9d5d16483a7",
       "version_major": 2,
       "version_minor": 0
      },
      "text/plain": [
       "FloatSlider(value=1e-05, continuous_update=False, description=\"(296, 'R=224-255', 'G=128-159', 'B=128-159')\", …"
      ]
     },
     "metadata": {},
     "output_type": "display_data"
    },
    {
     "data": {
      "application/vnd.jupyter.widget-view+json": {
       "model_id": "7f2cd525c4014cf6b31daabd212a48ea",
       "version_major": 2,
       "version_minor": 0
      },
      "text/plain": [
       "FloatSlider(value=1e-05, continuous_update=False, description=\"(297, 'R=000-031', 'G=160-191', 'B=128-159')\", …"
      ]
     },
     "metadata": {},
     "output_type": "display_data"
    },
    {
     "data": {
      "application/vnd.jupyter.widget-view+json": {
       "model_id": "d0e7dcc178184665b64af33edca3142f",
       "version_major": 2,
       "version_minor": 0
      },
      "text/plain": [
       "FloatSlider(value=1e-05, continuous_update=False, description=\"(298, 'R=032-063', 'G=160-191', 'B=128-159')\", …"
      ]
     },
     "metadata": {},
     "output_type": "display_data"
    },
    {
     "data": {
      "application/vnd.jupyter.widget-view+json": {
       "model_id": "91699fff735f487e8b5c6283ec85dc14",
       "version_major": 2,
       "version_minor": 0
      },
      "text/plain": [
       "FloatSlider(value=1e-05, continuous_update=False, description=\"(299, 'R=064-095', 'G=160-191', 'B=128-159')\", …"
      ]
     },
     "metadata": {},
     "output_type": "display_data"
    },
    {
     "data": {
      "application/vnd.jupyter.widget-view+json": {
       "model_id": "a58570c932604230bbff3be345d061a7",
       "version_major": 2,
       "version_minor": 0
      },
      "text/plain": [
       "FloatSlider(value=1e-05, continuous_update=False, description=\"(300, 'R=096-127', 'G=160-191', 'B=128-159')\", …"
      ]
     },
     "metadata": {},
     "output_type": "display_data"
    },
    {
     "data": {
      "application/vnd.jupyter.widget-view+json": {
       "model_id": "1280ecf8c24c4ac1bc70c0a15fea7f28",
       "version_major": 2,
       "version_minor": 0
      },
      "text/plain": [
       "FloatSlider(value=1e-05, continuous_update=False, description=\"(301, 'R=128-159', 'G=160-191', 'B=128-159')\", …"
      ]
     },
     "metadata": {},
     "output_type": "display_data"
    },
    {
     "data": {
      "application/vnd.jupyter.widget-view+json": {
       "model_id": "607e0038b2bc4255b49726095d7b7259",
       "version_major": 2,
       "version_minor": 0
      },
      "text/plain": [
       "FloatSlider(value=1e-05, continuous_update=False, description=\"(302, 'R=160-191', 'G=160-191', 'B=128-159')\", …"
      ]
     },
     "metadata": {},
     "output_type": "display_data"
    },
    {
     "data": {
      "application/vnd.jupyter.widget-view+json": {
       "model_id": "7459bd67f949445083b4b55240317dc5",
       "version_major": 2,
       "version_minor": 0
      },
      "text/plain": [
       "FloatSlider(value=1e-05, continuous_update=False, description=\"(303, 'R=192-223', 'G=160-191', 'B=128-159')\", …"
      ]
     },
     "metadata": {},
     "output_type": "display_data"
    },
    {
     "data": {
      "application/vnd.jupyter.widget-view+json": {
       "model_id": "135933c459c44f49bfeb08ff0a95c584",
       "version_major": 2,
       "version_minor": 0
      },
      "text/plain": [
       "FloatSlider(value=1e-05, continuous_update=False, description=\"(304, 'R=224-255', 'G=160-191', 'B=128-159')\", …"
      ]
     },
     "metadata": {},
     "output_type": "display_data"
    },
    {
     "data": {
      "application/vnd.jupyter.widget-view+json": {
       "model_id": "a81dc82096dd45ba9475dc32f69cff09",
       "version_major": 2,
       "version_minor": 0
      },
      "text/plain": [
       "FloatSlider(value=1e-05, continuous_update=False, description=\"(305, 'R=000-031', 'G=192-223', 'B=128-159')\", …"
      ]
     },
     "metadata": {},
     "output_type": "display_data"
    },
    {
     "data": {
      "application/vnd.jupyter.widget-view+json": {
       "model_id": "2d237a5296b6423cb0b1fb73d4541595",
       "version_major": 2,
       "version_minor": 0
      },
      "text/plain": [
       "FloatSlider(value=1e-05, continuous_update=False, description=\"(306, 'R=032-063', 'G=192-223', 'B=128-159')\", …"
      ]
     },
     "metadata": {},
     "output_type": "display_data"
    },
    {
     "data": {
      "application/vnd.jupyter.widget-view+json": {
       "model_id": "f13a383749304711993612e9fff1b97d",
       "version_major": 2,
       "version_minor": 0
      },
      "text/plain": [
       "FloatSlider(value=1e-05, continuous_update=False, description=\"(307, 'R=064-095', 'G=192-223', 'B=128-159')\", …"
      ]
     },
     "metadata": {},
     "output_type": "display_data"
    },
    {
     "data": {
      "application/vnd.jupyter.widget-view+json": {
       "model_id": "263e2d370dcf487e934e1b7ded83660c",
       "version_major": 2,
       "version_minor": 0
      },
      "text/plain": [
       "FloatSlider(value=1e-05, continuous_update=False, description=\"(308, 'R=096-127', 'G=192-223', 'B=128-159')\", …"
      ]
     },
     "metadata": {},
     "output_type": "display_data"
    },
    {
     "data": {
      "application/vnd.jupyter.widget-view+json": {
       "model_id": "fa1dbb3744fb4a4c92cc7d78832da23f",
       "version_major": 2,
       "version_minor": 0
      },
      "text/plain": [
       "FloatSlider(value=1e-05, continuous_update=False, description=\"(309, 'R=128-159', 'G=192-223', 'B=128-159')\", …"
      ]
     },
     "metadata": {},
     "output_type": "display_data"
    },
    {
     "data": {
      "application/vnd.jupyter.widget-view+json": {
       "model_id": "b8e9ba485f434da68842944490cc17a6",
       "version_major": 2,
       "version_minor": 0
      },
      "text/plain": [
       "FloatSlider(value=1e-05, continuous_update=False, description=\"(310, 'R=160-191', 'G=192-223', 'B=128-159')\", …"
      ]
     },
     "metadata": {},
     "output_type": "display_data"
    },
    {
     "data": {
      "application/vnd.jupyter.widget-view+json": {
       "model_id": "37b293dbfe2144ab8f4ca52ef76b125d",
       "version_major": 2,
       "version_minor": 0
      },
      "text/plain": [
       "FloatSlider(value=1e-05, continuous_update=False, description=\"(311, 'R=192-223', 'G=192-223', 'B=128-159')\", …"
      ]
     },
     "metadata": {},
     "output_type": "display_data"
    },
    {
     "data": {
      "application/vnd.jupyter.widget-view+json": {
       "model_id": "bf403a9eda884efdb9b9318b14aded8b",
       "version_major": 2,
       "version_minor": 0
      },
      "text/plain": [
       "FloatSlider(value=1e-05, continuous_update=False, description=\"(312, 'R=224-255', 'G=192-223', 'B=128-159')\", …"
      ]
     },
     "metadata": {},
     "output_type": "display_data"
    },
    {
     "data": {
      "application/vnd.jupyter.widget-view+json": {
       "model_id": "74fc5225a2dc491cbc687c222f7ee3c9",
       "version_major": 2,
       "version_minor": 0
      },
      "text/plain": [
       "FloatSlider(value=1e-05, continuous_update=False, description=\"(313, 'R=000-031', 'G=224-255', 'B=128-159')\", …"
      ]
     },
     "metadata": {},
     "output_type": "display_data"
    },
    {
     "data": {
      "application/vnd.jupyter.widget-view+json": {
       "model_id": "b50160fed2ad4641b0976ef5493b4d1d",
       "version_major": 2,
       "version_minor": 0
      },
      "text/plain": [
       "FloatSlider(value=1e-05, continuous_update=False, description=\"(314, 'R=032-063', 'G=224-255', 'B=128-159')\", …"
      ]
     },
     "metadata": {},
     "output_type": "display_data"
    },
    {
     "data": {
      "application/vnd.jupyter.widget-view+json": {
       "model_id": "f7da113ed3094bfaba9b81223546be55",
       "version_major": 2,
       "version_minor": 0
      },
      "text/plain": [
       "FloatSlider(value=1e-05, continuous_update=False, description=\"(315, 'R=064-095', 'G=224-255', 'B=128-159')\", …"
      ]
     },
     "metadata": {},
     "output_type": "display_data"
    },
    {
     "data": {
      "application/vnd.jupyter.widget-view+json": {
       "model_id": "3eed7e6351364109820b0ddbe0916919",
       "version_major": 2,
       "version_minor": 0
      },
      "text/plain": [
       "FloatSlider(value=1e-05, continuous_update=False, description=\"(316, 'R=096-127', 'G=224-255', 'B=128-159')\", …"
      ]
     },
     "metadata": {},
     "output_type": "display_data"
    },
    {
     "data": {
      "application/vnd.jupyter.widget-view+json": {
       "model_id": "f4350bfec9f248a3b226a01bb605ce84",
       "version_major": 2,
       "version_minor": 0
      },
      "text/plain": [
       "FloatSlider(value=1e-05, continuous_update=False, description=\"(317, 'R=128-159', 'G=224-255', 'B=128-159')\", …"
      ]
     },
     "metadata": {},
     "output_type": "display_data"
    },
    {
     "data": {
      "application/vnd.jupyter.widget-view+json": {
       "model_id": "9a40231a9dfe4557bddbd78d1c64dddc",
       "version_major": 2,
       "version_minor": 0
      },
      "text/plain": [
       "FloatSlider(value=1e-05, continuous_update=False, description=\"(318, 'R=160-191', 'G=224-255', 'B=128-159')\", …"
      ]
     },
     "metadata": {},
     "output_type": "display_data"
    },
    {
     "data": {
      "application/vnd.jupyter.widget-view+json": {
       "model_id": "fc2d2498512840999f41fb444ce1fc65",
       "version_major": 2,
       "version_minor": 0
      },
      "text/plain": [
       "FloatSlider(value=1e-05, continuous_update=False, description=\"(319, 'R=192-223', 'G=224-255', 'B=128-159')\", …"
      ]
     },
     "metadata": {},
     "output_type": "display_data"
    },
    {
     "data": {
      "application/vnd.jupyter.widget-view+json": {
       "model_id": "b783ec9b58894163818fc56243219dd4",
       "version_major": 2,
       "version_minor": 0
      },
      "text/plain": [
       "FloatSlider(value=1e-05, continuous_update=False, description=\"(320, 'R=224-255', 'G=224-255', 'B=128-159')\", …"
      ]
     },
     "metadata": {},
     "output_type": "display_data"
    },
    {
     "data": {
      "application/vnd.jupyter.widget-view+json": {
       "model_id": "4fcd1a20ea6a463283b5d60ce6d8c208",
       "version_major": 2,
       "version_minor": 0
      },
      "text/plain": [
       "FloatSlider(value=1e-05, continuous_update=False, description=\"(321, 'R=000-031', 'G=000-031', 'B=160-191')\", …"
      ]
     },
     "metadata": {},
     "output_type": "display_data"
    },
    {
     "data": {
      "application/vnd.jupyter.widget-view+json": {
       "model_id": "de040bde3b0e48289cd17c6b13fef858",
       "version_major": 2,
       "version_minor": 0
      },
      "text/plain": [
       "FloatSlider(value=1e-05, continuous_update=False, description=\"(322, 'R=032-063', 'G=000-031', 'B=160-191')\", …"
      ]
     },
     "metadata": {},
     "output_type": "display_data"
    },
    {
     "data": {
      "application/vnd.jupyter.widget-view+json": {
       "model_id": "aa9b717d038c496d8b4e5011370cf43b",
       "version_major": 2,
       "version_minor": 0
      },
      "text/plain": [
       "FloatSlider(value=1e-05, continuous_update=False, description=\"(323, 'R=064-095', 'G=000-031', 'B=160-191')\", …"
      ]
     },
     "metadata": {},
     "output_type": "display_data"
    },
    {
     "data": {
      "application/vnd.jupyter.widget-view+json": {
       "model_id": "6d8b7def429344128eac3d74785f8324",
       "version_major": 2,
       "version_minor": 0
      },
      "text/plain": [
       "FloatSlider(value=1e-05, continuous_update=False, description=\"(324, 'R=096-127', 'G=000-031', 'B=160-191')\", …"
      ]
     },
     "metadata": {},
     "output_type": "display_data"
    },
    {
     "data": {
      "application/vnd.jupyter.widget-view+json": {
       "model_id": "75b9565dd5224d27b2fe512d7c7af02b",
       "version_major": 2,
       "version_minor": 0
      },
      "text/plain": [
       "FloatSlider(value=1e-05, continuous_update=False, description=\"(325, 'R=128-159', 'G=000-031', 'B=160-191')\", …"
      ]
     },
     "metadata": {},
     "output_type": "display_data"
    },
    {
     "data": {
      "application/vnd.jupyter.widget-view+json": {
       "model_id": "bc1e9e6df1664f65bb00fffbaac6ea50",
       "version_major": 2,
       "version_minor": 0
      },
      "text/plain": [
       "FloatSlider(value=1e-05, continuous_update=False, description=\"(326, 'R=160-191', 'G=000-031', 'B=160-191')\", …"
      ]
     },
     "metadata": {},
     "output_type": "display_data"
    },
    {
     "data": {
      "application/vnd.jupyter.widget-view+json": {
       "model_id": "ca8a05baeb4b41199074f66870d045a9",
       "version_major": 2,
       "version_minor": 0
      },
      "text/plain": [
       "FloatSlider(value=1e-05, continuous_update=False, description=\"(327, 'R=192-223', 'G=000-031', 'B=160-191')\", …"
      ]
     },
     "metadata": {},
     "output_type": "display_data"
    },
    {
     "data": {
      "application/vnd.jupyter.widget-view+json": {
       "model_id": "47934400947a424ead9cd42495dfe387",
       "version_major": 2,
       "version_minor": 0
      },
      "text/plain": [
       "FloatSlider(value=1e-05, continuous_update=False, description=\"(328, 'R=224-255', 'G=000-031', 'B=160-191')\", …"
      ]
     },
     "metadata": {},
     "output_type": "display_data"
    },
    {
     "data": {
      "application/vnd.jupyter.widget-view+json": {
       "model_id": "95e73c2416d64135ac27003b15bc3a75",
       "version_major": 2,
       "version_minor": 0
      },
      "text/plain": [
       "FloatSlider(value=1e-05, continuous_update=False, description=\"(329, 'R=000-031', 'G=032-063', 'B=160-191')\", …"
      ]
     },
     "metadata": {},
     "output_type": "display_data"
    },
    {
     "data": {
      "application/vnd.jupyter.widget-view+json": {
       "model_id": "3b72c66474e44b63a382ae904c831873",
       "version_major": 2,
       "version_minor": 0
      },
      "text/plain": [
       "FloatSlider(value=1e-05, continuous_update=False, description=\"(330, 'R=032-063', 'G=032-063', 'B=160-191')\", …"
      ]
     },
     "metadata": {},
     "output_type": "display_data"
    },
    {
     "data": {
      "application/vnd.jupyter.widget-view+json": {
       "model_id": "d93b37a019c3444d88b4c8d20255624e",
       "version_major": 2,
       "version_minor": 0
      },
      "text/plain": [
       "FloatSlider(value=1e-05, continuous_update=False, description=\"(331, 'R=064-095', 'G=032-063', 'B=160-191')\", …"
      ]
     },
     "metadata": {},
     "output_type": "display_data"
    },
    {
     "data": {
      "application/vnd.jupyter.widget-view+json": {
       "model_id": "8c3b8c2b2dae40d1a9b7b77335a9089f",
       "version_major": 2,
       "version_minor": 0
      },
      "text/plain": [
       "FloatSlider(value=1e-05, continuous_update=False, description=\"(332, 'R=096-127', 'G=032-063', 'B=160-191')\", …"
      ]
     },
     "metadata": {},
     "output_type": "display_data"
    },
    {
     "data": {
      "application/vnd.jupyter.widget-view+json": {
       "model_id": "5e7e689378a04ac0b1cd377eb92b640b",
       "version_major": 2,
       "version_minor": 0
      },
      "text/plain": [
       "FloatSlider(value=1e-05, continuous_update=False, description=\"(333, 'R=128-159', 'G=032-063', 'B=160-191')\", …"
      ]
     },
     "metadata": {},
     "output_type": "display_data"
    },
    {
     "data": {
      "application/vnd.jupyter.widget-view+json": {
       "model_id": "95125488f59a4c8fb836c2371e947668",
       "version_major": 2,
       "version_minor": 0
      },
      "text/plain": [
       "FloatSlider(value=1e-05, continuous_update=False, description=\"(334, 'R=160-191', 'G=032-063', 'B=160-191')\", …"
      ]
     },
     "metadata": {},
     "output_type": "display_data"
    },
    {
     "data": {
      "application/vnd.jupyter.widget-view+json": {
       "model_id": "9c2e35677fd040ddaacbc35fa002fdd2",
       "version_major": 2,
       "version_minor": 0
      },
      "text/plain": [
       "FloatSlider(value=1e-05, continuous_update=False, description=\"(335, 'R=192-223', 'G=032-063', 'B=160-191')\", …"
      ]
     },
     "metadata": {},
     "output_type": "display_data"
    },
    {
     "data": {
      "application/vnd.jupyter.widget-view+json": {
       "model_id": "f582844a77fb4a308a2e2400972bb647",
       "version_major": 2,
       "version_minor": 0
      },
      "text/plain": [
       "FloatSlider(value=1e-05, continuous_update=False, description=\"(336, 'R=224-255', 'G=032-063', 'B=160-191')\", …"
      ]
     },
     "metadata": {},
     "output_type": "display_data"
    },
    {
     "data": {
      "application/vnd.jupyter.widget-view+json": {
       "model_id": "b68d791a97304cb49087525e1053307d",
       "version_major": 2,
       "version_minor": 0
      },
      "text/plain": [
       "FloatSlider(value=1e-05, continuous_update=False, description=\"(337, 'R=000-031', 'G=064-095', 'B=160-191')\", …"
      ]
     },
     "metadata": {},
     "output_type": "display_data"
    },
    {
     "data": {
      "application/vnd.jupyter.widget-view+json": {
       "model_id": "a7ac7b3318ae42e189fb21a459eca3e7",
       "version_major": 2,
       "version_minor": 0
      },
      "text/plain": [
       "FloatSlider(value=1e-05, continuous_update=False, description=\"(338, 'R=032-063', 'G=064-095', 'B=160-191')\", …"
      ]
     },
     "metadata": {},
     "output_type": "display_data"
    },
    {
     "data": {
      "application/vnd.jupyter.widget-view+json": {
       "model_id": "7b6a0f4b56534e58a8674947628a16be",
       "version_major": 2,
       "version_minor": 0
      },
      "text/plain": [
       "FloatSlider(value=1e-05, continuous_update=False, description=\"(339, 'R=064-095', 'G=064-095', 'B=160-191')\", …"
      ]
     },
     "metadata": {},
     "output_type": "display_data"
    },
    {
     "data": {
      "application/vnd.jupyter.widget-view+json": {
       "model_id": "432e5dbea87a48a3af8755b633aedd9f",
       "version_major": 2,
       "version_minor": 0
      },
      "text/plain": [
       "FloatSlider(value=1e-05, continuous_update=False, description=\"(340, 'R=096-127', 'G=064-095', 'B=160-191')\", …"
      ]
     },
     "metadata": {},
     "output_type": "display_data"
    },
    {
     "data": {
      "application/vnd.jupyter.widget-view+json": {
       "model_id": "e4c3b01eef5a4ef98ab05680af6c538c",
       "version_major": 2,
       "version_minor": 0
      },
      "text/plain": [
       "FloatSlider(value=1e-05, continuous_update=False, description=\"(341, 'R=128-159', 'G=064-095', 'B=160-191')\", …"
      ]
     },
     "metadata": {},
     "output_type": "display_data"
    },
    {
     "data": {
      "application/vnd.jupyter.widget-view+json": {
       "model_id": "02b0dd2ed6284ab79592a2f2ba5aca23",
       "version_major": 2,
       "version_minor": 0
      },
      "text/plain": [
       "FloatSlider(value=1e-05, continuous_update=False, description=\"(342, 'R=160-191', 'G=064-095', 'B=160-191')\", …"
      ]
     },
     "metadata": {},
     "output_type": "display_data"
    },
    {
     "data": {
      "application/vnd.jupyter.widget-view+json": {
       "model_id": "38e3926fd9814ac490a8fd77b1428758",
       "version_major": 2,
       "version_minor": 0
      },
      "text/plain": [
       "FloatSlider(value=1e-05, continuous_update=False, description=\"(343, 'R=192-223', 'G=064-095', 'B=160-191')\", …"
      ]
     },
     "metadata": {},
     "output_type": "display_data"
    },
    {
     "data": {
      "application/vnd.jupyter.widget-view+json": {
       "model_id": "f37a46b4befe4246aa7fe1100e807f83",
       "version_major": 2,
       "version_minor": 0
      },
      "text/plain": [
       "FloatSlider(value=1e-05, continuous_update=False, description=\"(344, 'R=224-255', 'G=064-095', 'B=160-191')\", …"
      ]
     },
     "metadata": {},
     "output_type": "display_data"
    },
    {
     "data": {
      "application/vnd.jupyter.widget-view+json": {
       "model_id": "e77d8af4d82c4a2ea695ec63790a676a",
       "version_major": 2,
       "version_minor": 0
      },
      "text/plain": [
       "FloatSlider(value=1e-05, continuous_update=False, description=\"(345, 'R=000-031', 'G=096-127', 'B=160-191')\", …"
      ]
     },
     "metadata": {},
     "output_type": "display_data"
    },
    {
     "data": {
      "application/vnd.jupyter.widget-view+json": {
       "model_id": "608f62b664ed42e3a93c3301c2c31594",
       "version_major": 2,
       "version_minor": 0
      },
      "text/plain": [
       "FloatSlider(value=1e-05, continuous_update=False, description=\"(346, 'R=032-063', 'G=096-127', 'B=160-191')\", …"
      ]
     },
     "metadata": {},
     "output_type": "display_data"
    },
    {
     "data": {
      "application/vnd.jupyter.widget-view+json": {
       "model_id": "e7ee9e8d9cba4093ac46648f70ad8554",
       "version_major": 2,
       "version_minor": 0
      },
      "text/plain": [
       "FloatSlider(value=1e-05, continuous_update=False, description=\"(347, 'R=064-095', 'G=096-127', 'B=160-191')\", …"
      ]
     },
     "metadata": {},
     "output_type": "display_data"
    },
    {
     "data": {
      "application/vnd.jupyter.widget-view+json": {
       "model_id": "7f69e65964f843978db2f70f45ff4585",
       "version_major": 2,
       "version_minor": 0
      },
      "text/plain": [
       "FloatSlider(value=1e-05, continuous_update=False, description=\"(348, 'R=096-127', 'G=096-127', 'B=160-191')\", …"
      ]
     },
     "metadata": {},
     "output_type": "display_data"
    },
    {
     "data": {
      "application/vnd.jupyter.widget-view+json": {
       "model_id": "9b9b596e19b944d382e70a382ecc7499",
       "version_major": 2,
       "version_minor": 0
      },
      "text/plain": [
       "FloatSlider(value=1e-05, continuous_update=False, description=\"(349, 'R=128-159', 'G=096-127', 'B=160-191')\", …"
      ]
     },
     "metadata": {},
     "output_type": "display_data"
    },
    {
     "data": {
      "application/vnd.jupyter.widget-view+json": {
       "model_id": "4a71a82996d547fdbac8b7e55d41eb5a",
       "version_major": 2,
       "version_minor": 0
      },
      "text/plain": [
       "FloatSlider(value=1e-05, continuous_update=False, description=\"(350, 'R=160-191', 'G=096-127', 'B=160-191')\", …"
      ]
     },
     "metadata": {},
     "output_type": "display_data"
    },
    {
     "data": {
      "application/vnd.jupyter.widget-view+json": {
       "model_id": "17e0c4e8bd934c439f8ec7249e47fc89",
       "version_major": 2,
       "version_minor": 0
      },
      "text/plain": [
       "FloatSlider(value=1e-05, continuous_update=False, description=\"(351, 'R=192-223', 'G=096-127', 'B=160-191')\", …"
      ]
     },
     "metadata": {},
     "output_type": "display_data"
    },
    {
     "data": {
      "application/vnd.jupyter.widget-view+json": {
       "model_id": "c1b0ea232d024109ab8ab2fe2d082d4e",
       "version_major": 2,
       "version_minor": 0
      },
      "text/plain": [
       "FloatSlider(value=1e-05, continuous_update=False, description=\"(352, 'R=224-255', 'G=096-127', 'B=160-191')\", …"
      ]
     },
     "metadata": {},
     "output_type": "display_data"
    },
    {
     "data": {
      "application/vnd.jupyter.widget-view+json": {
       "model_id": "9bd1c307d8cf451ab1c0b4ba1f66a45b",
       "version_major": 2,
       "version_minor": 0
      },
      "text/plain": [
       "FloatSlider(value=1e-05, continuous_update=False, description=\"(353, 'R=000-031', 'G=128-159', 'B=160-191')\", …"
      ]
     },
     "metadata": {},
     "output_type": "display_data"
    },
    {
     "data": {
      "application/vnd.jupyter.widget-view+json": {
       "model_id": "c8d092b411774c8c97470e6f360ac683",
       "version_major": 2,
       "version_minor": 0
      },
      "text/plain": [
       "FloatSlider(value=1e-05, continuous_update=False, description=\"(354, 'R=032-063', 'G=128-159', 'B=160-191')\", …"
      ]
     },
     "metadata": {},
     "output_type": "display_data"
    },
    {
     "data": {
      "application/vnd.jupyter.widget-view+json": {
       "model_id": "3a6660b2cbe74e66a89e91292eb8b51c",
       "version_major": 2,
       "version_minor": 0
      },
      "text/plain": [
       "FloatSlider(value=1e-05, continuous_update=False, description=\"(355, 'R=064-095', 'G=128-159', 'B=160-191')\", …"
      ]
     },
     "metadata": {},
     "output_type": "display_data"
    },
    {
     "data": {
      "application/vnd.jupyter.widget-view+json": {
       "model_id": "a6492bb09bf741958a0505bcf694d052",
       "version_major": 2,
       "version_minor": 0
      },
      "text/plain": [
       "FloatSlider(value=1e-05, continuous_update=False, description=\"(356, 'R=096-127', 'G=128-159', 'B=160-191')\", …"
      ]
     },
     "metadata": {},
     "output_type": "display_data"
    },
    {
     "data": {
      "application/vnd.jupyter.widget-view+json": {
       "model_id": "92cea3782aec4f61b03a0c4f2ccbb739",
       "version_major": 2,
       "version_minor": 0
      },
      "text/plain": [
       "FloatSlider(value=1e-05, continuous_update=False, description=\"(357, 'R=128-159', 'G=128-159', 'B=160-191')\", …"
      ]
     },
     "metadata": {},
     "output_type": "display_data"
    },
    {
     "data": {
      "application/vnd.jupyter.widget-view+json": {
       "model_id": "ed1cf66079fc4d13964174579c19bbaa",
       "version_major": 2,
       "version_minor": 0
      },
      "text/plain": [
       "FloatSlider(value=1e-05, continuous_update=False, description=\"(358, 'R=160-191', 'G=128-159', 'B=160-191')\", …"
      ]
     },
     "metadata": {},
     "output_type": "display_data"
    },
    {
     "data": {
      "application/vnd.jupyter.widget-view+json": {
       "model_id": "0b562d187ca347d0a1db5117a560cf78",
       "version_major": 2,
       "version_minor": 0
      },
      "text/plain": [
       "FloatSlider(value=1e-05, continuous_update=False, description=\"(359, 'R=192-223', 'G=128-159', 'B=160-191')\", …"
      ]
     },
     "metadata": {},
     "output_type": "display_data"
    },
    {
     "data": {
      "application/vnd.jupyter.widget-view+json": {
       "model_id": "fb3acbe3d65843a9ac509d7f6cbe05a5",
       "version_major": 2,
       "version_minor": 0
      },
      "text/plain": [
       "FloatSlider(value=1e-05, continuous_update=False, description=\"(360, 'R=224-255', 'G=128-159', 'B=160-191')\", …"
      ]
     },
     "metadata": {},
     "output_type": "display_data"
    },
    {
     "data": {
      "application/vnd.jupyter.widget-view+json": {
       "model_id": "b0daa9b4507e4d8586891e17acd951cb",
       "version_major": 2,
       "version_minor": 0
      },
      "text/plain": [
       "FloatSlider(value=1e-05, continuous_update=False, description=\"(361, 'R=000-031', 'G=160-191', 'B=160-191')\", …"
      ]
     },
     "metadata": {},
     "output_type": "display_data"
    },
    {
     "data": {
      "application/vnd.jupyter.widget-view+json": {
       "model_id": "02f20a59d61a4e78aed36f6832ce9a62",
       "version_major": 2,
       "version_minor": 0
      },
      "text/plain": [
       "FloatSlider(value=1e-05, continuous_update=False, description=\"(362, 'R=032-063', 'G=160-191', 'B=160-191')\", …"
      ]
     },
     "metadata": {},
     "output_type": "display_data"
    },
    {
     "data": {
      "application/vnd.jupyter.widget-view+json": {
       "model_id": "6eb3b9cda1cf499e9821e8cdb7645cf2",
       "version_major": 2,
       "version_minor": 0
      },
      "text/plain": [
       "FloatSlider(value=1e-05, continuous_update=False, description=\"(363, 'R=064-095', 'G=160-191', 'B=160-191')\", …"
      ]
     },
     "metadata": {},
     "output_type": "display_data"
    },
    {
     "data": {
      "application/vnd.jupyter.widget-view+json": {
       "model_id": "1ecb6fbd44d64dbeb6c74ca098a09171",
       "version_major": 2,
       "version_minor": 0
      },
      "text/plain": [
       "FloatSlider(value=1e-05, continuous_update=False, description=\"(364, 'R=096-127', 'G=160-191', 'B=160-191')\", …"
      ]
     },
     "metadata": {},
     "output_type": "display_data"
    },
    {
     "data": {
      "application/vnd.jupyter.widget-view+json": {
       "model_id": "0dffbbf10a3d4666bff620c6106378df",
       "version_major": 2,
       "version_minor": 0
      },
      "text/plain": [
       "FloatSlider(value=1e-05, continuous_update=False, description=\"(365, 'R=128-159', 'G=160-191', 'B=160-191')\", …"
      ]
     },
     "metadata": {},
     "output_type": "display_data"
    },
    {
     "data": {
      "application/vnd.jupyter.widget-view+json": {
       "model_id": "67229fbc46ca4c728d152251a6ea8779",
       "version_major": 2,
       "version_minor": 0
      },
      "text/plain": [
       "FloatSlider(value=1e-05, continuous_update=False, description=\"(366, 'R=160-191', 'G=160-191', 'B=160-191')\", …"
      ]
     },
     "metadata": {},
     "output_type": "display_data"
    },
    {
     "data": {
      "application/vnd.jupyter.widget-view+json": {
       "model_id": "cb9d15637e1f42fa830152c6a6b14d36",
       "version_major": 2,
       "version_minor": 0
      },
      "text/plain": [
       "FloatSlider(value=1e-05, continuous_update=False, description=\"(367, 'R=192-223', 'G=160-191', 'B=160-191')\", …"
      ]
     },
     "metadata": {},
     "output_type": "display_data"
    },
    {
     "data": {
      "application/vnd.jupyter.widget-view+json": {
       "model_id": "a5839efb74d3416381369f0fb342c5e7",
       "version_major": 2,
       "version_minor": 0
      },
      "text/plain": [
       "FloatSlider(value=1e-05, continuous_update=False, description=\"(368, 'R=224-255', 'G=160-191', 'B=160-191')\", …"
      ]
     },
     "metadata": {},
     "output_type": "display_data"
    },
    {
     "data": {
      "application/vnd.jupyter.widget-view+json": {
       "model_id": "41524922fa5943dd8b56f3c32cae0f9c",
       "version_major": 2,
       "version_minor": 0
      },
      "text/plain": [
       "FloatSlider(value=1e-05, continuous_update=False, description=\"(369, 'R=000-031', 'G=192-223', 'B=160-191')\", …"
      ]
     },
     "metadata": {},
     "output_type": "display_data"
    },
    {
     "data": {
      "application/vnd.jupyter.widget-view+json": {
       "model_id": "48628caafbe64893ba119643fb9e6e9c",
       "version_major": 2,
       "version_minor": 0
      },
      "text/plain": [
       "FloatSlider(value=1e-05, continuous_update=False, description=\"(370, 'R=032-063', 'G=192-223', 'B=160-191')\", …"
      ]
     },
     "metadata": {},
     "output_type": "display_data"
    },
    {
     "data": {
      "application/vnd.jupyter.widget-view+json": {
       "model_id": "ac31719781ac43a487b1bfc1c4c6ba4d",
       "version_major": 2,
       "version_minor": 0
      },
      "text/plain": [
       "FloatSlider(value=1e-05, continuous_update=False, description=\"(371, 'R=064-095', 'G=192-223', 'B=160-191')\", …"
      ]
     },
     "metadata": {},
     "output_type": "display_data"
    },
    {
     "data": {
      "application/vnd.jupyter.widget-view+json": {
       "model_id": "e0956b38137a4faa91fb616a5a8196eb",
       "version_major": 2,
       "version_minor": 0
      },
      "text/plain": [
       "FloatSlider(value=1e-05, continuous_update=False, description=\"(372, 'R=096-127', 'G=192-223', 'B=160-191')\", …"
      ]
     },
     "metadata": {},
     "output_type": "display_data"
    },
    {
     "data": {
      "application/vnd.jupyter.widget-view+json": {
       "model_id": "0c23afc64dda471989cdaf15fb12ce14",
       "version_major": 2,
       "version_minor": 0
      },
      "text/plain": [
       "FloatSlider(value=1e-05, continuous_update=False, description=\"(373, 'R=128-159', 'G=192-223', 'B=160-191')\", …"
      ]
     },
     "metadata": {},
     "output_type": "display_data"
    },
    {
     "data": {
      "application/vnd.jupyter.widget-view+json": {
       "model_id": "b1cedd18d6f84cbbbaa3ea1c9bfffeb2",
       "version_major": 2,
       "version_minor": 0
      },
      "text/plain": [
       "FloatSlider(value=1e-05, continuous_update=False, description=\"(374, 'R=160-191', 'G=192-223', 'B=160-191')\", …"
      ]
     },
     "metadata": {},
     "output_type": "display_data"
    },
    {
     "data": {
      "application/vnd.jupyter.widget-view+json": {
       "model_id": "6ceb98eb7e8f4854ad261cafdbe9276d",
       "version_major": 2,
       "version_minor": 0
      },
      "text/plain": [
       "FloatSlider(value=1e-05, continuous_update=False, description=\"(375, 'R=192-223', 'G=192-223', 'B=160-191')\", …"
      ]
     },
     "metadata": {},
     "output_type": "display_data"
    },
    {
     "data": {
      "application/vnd.jupyter.widget-view+json": {
       "model_id": "0b4e5c41f9dd4987b59eda24d3a0ecb5",
       "version_major": 2,
       "version_minor": 0
      },
      "text/plain": [
       "FloatSlider(value=1e-05, continuous_update=False, description=\"(376, 'R=224-255', 'G=192-223', 'B=160-191')\", …"
      ]
     },
     "metadata": {},
     "output_type": "display_data"
    },
    {
     "data": {
      "application/vnd.jupyter.widget-view+json": {
       "model_id": "03ebd2a8fb70430a997cb6233cfab680",
       "version_major": 2,
       "version_minor": 0
      },
      "text/plain": [
       "FloatSlider(value=1e-05, continuous_update=False, description=\"(377, 'R=000-031', 'G=224-255', 'B=160-191')\", …"
      ]
     },
     "metadata": {},
     "output_type": "display_data"
    },
    {
     "data": {
      "application/vnd.jupyter.widget-view+json": {
       "model_id": "a6af02d0950e4a2f8811da7e5356150f",
       "version_major": 2,
       "version_minor": 0
      },
      "text/plain": [
       "FloatSlider(value=1e-05, continuous_update=False, description=\"(378, 'R=032-063', 'G=224-255', 'B=160-191')\", …"
      ]
     },
     "metadata": {},
     "output_type": "display_data"
    },
    {
     "data": {
      "application/vnd.jupyter.widget-view+json": {
       "model_id": "07f072c889ff4be492062cc6c887a253",
       "version_major": 2,
       "version_minor": 0
      },
      "text/plain": [
       "FloatSlider(value=1e-05, continuous_update=False, description=\"(379, 'R=064-095', 'G=224-255', 'B=160-191')\", …"
      ]
     },
     "metadata": {},
     "output_type": "display_data"
    },
    {
     "data": {
      "application/vnd.jupyter.widget-view+json": {
       "model_id": "5d1e172700f84b47a026623a6291d060",
       "version_major": 2,
       "version_minor": 0
      },
      "text/plain": [
       "FloatSlider(value=1e-05, continuous_update=False, description=\"(380, 'R=096-127', 'G=224-255', 'B=160-191')\", …"
      ]
     },
     "metadata": {},
     "output_type": "display_data"
    },
    {
     "data": {
      "application/vnd.jupyter.widget-view+json": {
       "model_id": "713988c5eeee4f28a66b520f1ee03711",
       "version_major": 2,
       "version_minor": 0
      },
      "text/plain": [
       "FloatSlider(value=1e-05, continuous_update=False, description=\"(381, 'R=128-159', 'G=224-255', 'B=160-191')\", …"
      ]
     },
     "metadata": {},
     "output_type": "display_data"
    },
    {
     "data": {
      "application/vnd.jupyter.widget-view+json": {
       "model_id": "a410250b4bdf40a6b0eedb866276641e",
       "version_major": 2,
       "version_minor": 0
      },
      "text/plain": [
       "FloatSlider(value=1e-05, continuous_update=False, description=\"(382, 'R=160-191', 'G=224-255', 'B=160-191')\", …"
      ]
     },
     "metadata": {},
     "output_type": "display_data"
    },
    {
     "data": {
      "application/vnd.jupyter.widget-view+json": {
       "model_id": "770daa731f234a939e7126ddc59fa522",
       "version_major": 2,
       "version_minor": 0
      },
      "text/plain": [
       "FloatSlider(value=1e-05, continuous_update=False, description=\"(383, 'R=192-223', 'G=224-255', 'B=160-191')\", …"
      ]
     },
     "metadata": {},
     "output_type": "display_data"
    },
    {
     "data": {
      "application/vnd.jupyter.widget-view+json": {
       "model_id": "07d36a2ec48f49aba74dd7a88184e4c9",
       "version_major": 2,
       "version_minor": 0
      },
      "text/plain": [
       "FloatSlider(value=1e-05, continuous_update=False, description=\"(384, 'R=224-255', 'G=224-255', 'B=160-191')\", …"
      ]
     },
     "metadata": {},
     "output_type": "display_data"
    },
    {
     "data": {
      "application/vnd.jupyter.widget-view+json": {
       "model_id": "ffdf230e1bef47208977ff72da4817cf",
       "version_major": 2,
       "version_minor": 0
      },
      "text/plain": [
       "FloatSlider(value=1e-05, continuous_update=False, description=\"(385, 'R=000-031', 'G=000-031', 'B=192-223')\", …"
      ]
     },
     "metadata": {},
     "output_type": "display_data"
    },
    {
     "data": {
      "application/vnd.jupyter.widget-view+json": {
       "model_id": "d577e98f832a41bfacadfba45927ba4c",
       "version_major": 2,
       "version_minor": 0
      },
      "text/plain": [
       "FloatSlider(value=1e-05, continuous_update=False, description=\"(386, 'R=032-063', 'G=000-031', 'B=192-223')\", …"
      ]
     },
     "metadata": {},
     "output_type": "display_data"
    },
    {
     "data": {
      "application/vnd.jupyter.widget-view+json": {
       "model_id": "df91a8f139e9459ab7a31d1d078feae6",
       "version_major": 2,
       "version_minor": 0
      },
      "text/plain": [
       "FloatSlider(value=1e-05, continuous_update=False, description=\"(387, 'R=064-095', 'G=000-031', 'B=192-223')\", …"
      ]
     },
     "metadata": {},
     "output_type": "display_data"
    },
    {
     "data": {
      "application/vnd.jupyter.widget-view+json": {
       "model_id": "8d7409163f554dbf966a2c2cff9a4087",
       "version_major": 2,
       "version_minor": 0
      },
      "text/plain": [
       "FloatSlider(value=1e-05, continuous_update=False, description=\"(388, 'R=096-127', 'G=000-031', 'B=192-223')\", …"
      ]
     },
     "metadata": {},
     "output_type": "display_data"
    },
    {
     "data": {
      "application/vnd.jupyter.widget-view+json": {
       "model_id": "150b8ac0129b4e568e52adebd69cbeb7",
       "version_major": 2,
       "version_minor": 0
      },
      "text/plain": [
       "FloatSlider(value=1e-05, continuous_update=False, description=\"(389, 'R=128-159', 'G=000-031', 'B=192-223')\", …"
      ]
     },
     "metadata": {},
     "output_type": "display_data"
    },
    {
     "data": {
      "application/vnd.jupyter.widget-view+json": {
       "model_id": "cf1452cf4b8345f3a4d8b37c2a16695e",
       "version_major": 2,
       "version_minor": 0
      },
      "text/plain": [
       "FloatSlider(value=1e-05, continuous_update=False, description=\"(390, 'R=160-191', 'G=000-031', 'B=192-223')\", …"
      ]
     },
     "metadata": {},
     "output_type": "display_data"
    },
    {
     "data": {
      "application/vnd.jupyter.widget-view+json": {
       "model_id": "c1be65f5bfa74692b48633a0bc2fe206",
       "version_major": 2,
       "version_minor": 0
      },
      "text/plain": [
       "FloatSlider(value=1e-05, continuous_update=False, description=\"(391, 'R=192-223', 'G=000-031', 'B=192-223')\", …"
      ]
     },
     "metadata": {},
     "output_type": "display_data"
    },
    {
     "data": {
      "application/vnd.jupyter.widget-view+json": {
       "model_id": "510504ee5599438289984bbca7f48f9d",
       "version_major": 2,
       "version_minor": 0
      },
      "text/plain": [
       "FloatSlider(value=1e-05, continuous_update=False, description=\"(392, 'R=224-255', 'G=000-031', 'B=192-223')\", …"
      ]
     },
     "metadata": {},
     "output_type": "display_data"
    },
    {
     "data": {
      "application/vnd.jupyter.widget-view+json": {
       "model_id": "84629ee6474c4bf98f6486018df58ad7",
       "version_major": 2,
       "version_minor": 0
      },
      "text/plain": [
       "FloatSlider(value=1e-05, continuous_update=False, description=\"(393, 'R=000-031', 'G=032-063', 'B=192-223')\", …"
      ]
     },
     "metadata": {},
     "output_type": "display_data"
    },
    {
     "data": {
      "application/vnd.jupyter.widget-view+json": {
       "model_id": "45cd3fa59a0b4787ac41fa85b11fe481",
       "version_major": 2,
       "version_minor": 0
      },
      "text/plain": [
       "FloatSlider(value=1e-05, continuous_update=False, description=\"(394, 'R=032-063', 'G=032-063', 'B=192-223')\", …"
      ]
     },
     "metadata": {},
     "output_type": "display_data"
    },
    {
     "data": {
      "application/vnd.jupyter.widget-view+json": {
       "model_id": "2e57707750ad44b1bf13e8366739022c",
       "version_major": 2,
       "version_minor": 0
      },
      "text/plain": [
       "FloatSlider(value=1e-05, continuous_update=False, description=\"(395, 'R=064-095', 'G=032-063', 'B=192-223')\", …"
      ]
     },
     "metadata": {},
     "output_type": "display_data"
    },
    {
     "data": {
      "application/vnd.jupyter.widget-view+json": {
       "model_id": "c3808f03f62042ea878c5144af6bcd5e",
       "version_major": 2,
       "version_minor": 0
      },
      "text/plain": [
       "FloatSlider(value=1e-05, continuous_update=False, description=\"(396, 'R=096-127', 'G=032-063', 'B=192-223')\", …"
      ]
     },
     "metadata": {},
     "output_type": "display_data"
    },
    {
     "data": {
      "application/vnd.jupyter.widget-view+json": {
       "model_id": "6f6f3ca7752a4a258856fba7d8b726d5",
       "version_major": 2,
       "version_minor": 0
      },
      "text/plain": [
       "FloatSlider(value=1e-05, continuous_update=False, description=\"(397, 'R=128-159', 'G=032-063', 'B=192-223')\", …"
      ]
     },
     "metadata": {},
     "output_type": "display_data"
    },
    {
     "data": {
      "application/vnd.jupyter.widget-view+json": {
       "model_id": "4c433e5b32454389a293d10245bc8f28",
       "version_major": 2,
       "version_minor": 0
      },
      "text/plain": [
       "FloatSlider(value=1e-05, continuous_update=False, description=\"(398, 'R=160-191', 'G=032-063', 'B=192-223')\", …"
      ]
     },
     "metadata": {},
     "output_type": "display_data"
    },
    {
     "data": {
      "application/vnd.jupyter.widget-view+json": {
       "model_id": "802db38b420e4578abec877f8bb6fc81",
       "version_major": 2,
       "version_minor": 0
      },
      "text/plain": [
       "FloatSlider(value=1e-05, continuous_update=False, description=\"(399, 'R=192-223', 'G=032-063', 'B=192-223')\", …"
      ]
     },
     "metadata": {},
     "output_type": "display_data"
    },
    {
     "data": {
      "application/vnd.jupyter.widget-view+json": {
       "model_id": "1f89b1abeb8d46aa9525b012dd118514",
       "version_major": 2,
       "version_minor": 0
      },
      "text/plain": [
       "FloatSlider(value=1e-05, continuous_update=False, description=\"(400, 'R=224-255', 'G=032-063', 'B=192-223')\", …"
      ]
     },
     "metadata": {},
     "output_type": "display_data"
    },
    {
     "data": {
      "application/vnd.jupyter.widget-view+json": {
       "model_id": "7afe4a71c2204836b3fc953284941235",
       "version_major": 2,
       "version_minor": 0
      },
      "text/plain": [
       "FloatSlider(value=1e-05, continuous_update=False, description=\"(401, 'R=000-031', 'G=064-095', 'B=192-223')\", …"
      ]
     },
     "metadata": {},
     "output_type": "display_data"
    },
    {
     "data": {
      "application/vnd.jupyter.widget-view+json": {
       "model_id": "80adc1ca6020437c8f52ab53472e85dd",
       "version_major": 2,
       "version_minor": 0
      },
      "text/plain": [
       "FloatSlider(value=1e-05, continuous_update=False, description=\"(402, 'R=032-063', 'G=064-095', 'B=192-223')\", …"
      ]
     },
     "metadata": {},
     "output_type": "display_data"
    },
    {
     "data": {
      "application/vnd.jupyter.widget-view+json": {
       "model_id": "d809232f60184d0db9e6f44367ab2cec",
       "version_major": 2,
       "version_minor": 0
      },
      "text/plain": [
       "FloatSlider(value=1e-05, continuous_update=False, description=\"(403, 'R=064-095', 'G=064-095', 'B=192-223')\", …"
      ]
     },
     "metadata": {},
     "output_type": "display_data"
    },
    {
     "data": {
      "application/vnd.jupyter.widget-view+json": {
       "model_id": "dcf710b0668e49398efd4d055d21e655",
       "version_major": 2,
       "version_minor": 0
      },
      "text/plain": [
       "FloatSlider(value=1e-05, continuous_update=False, description=\"(404, 'R=096-127', 'G=064-095', 'B=192-223')\", …"
      ]
     },
     "metadata": {},
     "output_type": "display_data"
    },
    {
     "data": {
      "application/vnd.jupyter.widget-view+json": {
       "model_id": "edaa874008774848b71419b2ce27a1fd",
       "version_major": 2,
       "version_minor": 0
      },
      "text/plain": [
       "FloatSlider(value=1e-05, continuous_update=False, description=\"(405, 'R=128-159', 'G=064-095', 'B=192-223')\", …"
      ]
     },
     "metadata": {},
     "output_type": "display_data"
    },
    {
     "data": {
      "application/vnd.jupyter.widget-view+json": {
       "model_id": "05004695fccf4b39989ef1e20889773f",
       "version_major": 2,
       "version_minor": 0
      },
      "text/plain": [
       "FloatSlider(value=1e-05, continuous_update=False, description=\"(406, 'R=160-191', 'G=064-095', 'B=192-223')\", …"
      ]
     },
     "metadata": {},
     "output_type": "display_data"
    },
    {
     "data": {
      "application/vnd.jupyter.widget-view+json": {
       "model_id": "5a2c3207b4e94953b95480e97d9c8411",
       "version_major": 2,
       "version_minor": 0
      },
      "text/plain": [
       "FloatSlider(value=1e-05, continuous_update=False, description=\"(407, 'R=192-223', 'G=064-095', 'B=192-223')\", …"
      ]
     },
     "metadata": {},
     "output_type": "display_data"
    },
    {
     "data": {
      "application/vnd.jupyter.widget-view+json": {
       "model_id": "8e1d5d4da3c84301b9d6e7810dd92bc6",
       "version_major": 2,
       "version_minor": 0
      },
      "text/plain": [
       "FloatSlider(value=1e-05, continuous_update=False, description=\"(408, 'R=224-255', 'G=064-095', 'B=192-223')\", …"
      ]
     },
     "metadata": {},
     "output_type": "display_data"
    },
    {
     "data": {
      "application/vnd.jupyter.widget-view+json": {
       "model_id": "cc4c068192d64a2b8911065b2b3692cf",
       "version_major": 2,
       "version_minor": 0
      },
      "text/plain": [
       "FloatSlider(value=1e-05, continuous_update=False, description=\"(409, 'R=000-031', 'G=096-127', 'B=192-223')\", …"
      ]
     },
     "metadata": {},
     "output_type": "display_data"
    },
    {
     "data": {
      "application/vnd.jupyter.widget-view+json": {
       "model_id": "c254b3df4f81477aa5bc0cb9680dacdc",
       "version_major": 2,
       "version_minor": 0
      },
      "text/plain": [
       "FloatSlider(value=1e-05, continuous_update=False, description=\"(410, 'R=032-063', 'G=096-127', 'B=192-223')\", …"
      ]
     },
     "metadata": {},
     "output_type": "display_data"
    },
    {
     "data": {
      "application/vnd.jupyter.widget-view+json": {
       "model_id": "9f18598eb3e945c99a2e1700c1711596",
       "version_major": 2,
       "version_minor": 0
      },
      "text/plain": [
       "FloatSlider(value=1e-05, continuous_update=False, description=\"(411, 'R=064-095', 'G=096-127', 'B=192-223')\", …"
      ]
     },
     "metadata": {},
     "output_type": "display_data"
    },
    {
     "data": {
      "application/vnd.jupyter.widget-view+json": {
       "model_id": "71517b639bfd4a26b93b85d224daa535",
       "version_major": 2,
       "version_minor": 0
      },
      "text/plain": [
       "FloatSlider(value=1e-05, continuous_update=False, description=\"(412, 'R=096-127', 'G=096-127', 'B=192-223')\", …"
      ]
     },
     "metadata": {},
     "output_type": "display_data"
    },
    {
     "data": {
      "application/vnd.jupyter.widget-view+json": {
       "model_id": "e61b8066e73a4313a66f5cb7bd97cd43",
       "version_major": 2,
       "version_minor": 0
      },
      "text/plain": [
       "FloatSlider(value=1e-05, continuous_update=False, description=\"(413, 'R=128-159', 'G=096-127', 'B=192-223')\", …"
      ]
     },
     "metadata": {},
     "output_type": "display_data"
    },
    {
     "data": {
      "application/vnd.jupyter.widget-view+json": {
       "model_id": "a7ec6bb5f5654453b6a273d77a20dda7",
       "version_major": 2,
       "version_minor": 0
      },
      "text/plain": [
       "FloatSlider(value=1e-05, continuous_update=False, description=\"(414, 'R=160-191', 'G=096-127', 'B=192-223')\", …"
      ]
     },
     "metadata": {},
     "output_type": "display_data"
    },
    {
     "data": {
      "application/vnd.jupyter.widget-view+json": {
       "model_id": "606c4c03b7384be9978006d3b6d1651e",
       "version_major": 2,
       "version_minor": 0
      },
      "text/plain": [
       "FloatSlider(value=1e-05, continuous_update=False, description=\"(415, 'R=192-223', 'G=096-127', 'B=192-223')\", …"
      ]
     },
     "metadata": {},
     "output_type": "display_data"
    },
    {
     "data": {
      "application/vnd.jupyter.widget-view+json": {
       "model_id": "71cecb282e7749ca96dd3353416852a5",
       "version_major": 2,
       "version_minor": 0
      },
      "text/plain": [
       "FloatSlider(value=1e-05, continuous_update=False, description=\"(416, 'R=224-255', 'G=096-127', 'B=192-223')\", …"
      ]
     },
     "metadata": {},
     "output_type": "display_data"
    },
    {
     "data": {
      "application/vnd.jupyter.widget-view+json": {
       "model_id": "cce8f4e2eae942699bf0786d2fd0fda7",
       "version_major": 2,
       "version_minor": 0
      },
      "text/plain": [
       "FloatSlider(value=1e-05, continuous_update=False, description=\"(417, 'R=000-031', 'G=128-159', 'B=192-223')\", …"
      ]
     },
     "metadata": {},
     "output_type": "display_data"
    },
    {
     "data": {
      "application/vnd.jupyter.widget-view+json": {
       "model_id": "cdfe0470b071499ebd6e8d72902d2747",
       "version_major": 2,
       "version_minor": 0
      },
      "text/plain": [
       "FloatSlider(value=1e-05, continuous_update=False, description=\"(418, 'R=032-063', 'G=128-159', 'B=192-223')\", …"
      ]
     },
     "metadata": {},
     "output_type": "display_data"
    },
    {
     "data": {
      "application/vnd.jupyter.widget-view+json": {
       "model_id": "80a7ada773dd4e5196ca7eb178b43415",
       "version_major": 2,
       "version_minor": 0
      },
      "text/plain": [
       "FloatSlider(value=1e-05, continuous_update=False, description=\"(419, 'R=064-095', 'G=128-159', 'B=192-223')\", …"
      ]
     },
     "metadata": {},
     "output_type": "display_data"
    },
    {
     "data": {
      "application/vnd.jupyter.widget-view+json": {
       "model_id": "096e8c82191f4ef6bea0ac6ca8e6fe70",
       "version_major": 2,
       "version_minor": 0
      },
      "text/plain": [
       "FloatSlider(value=1e-05, continuous_update=False, description=\"(420, 'R=096-127', 'G=128-159', 'B=192-223')\", …"
      ]
     },
     "metadata": {},
     "output_type": "display_data"
    },
    {
     "data": {
      "application/vnd.jupyter.widget-view+json": {
       "model_id": "e8cf1431809e4c8082d7b3de8213cd59",
       "version_major": 2,
       "version_minor": 0
      },
      "text/plain": [
       "FloatSlider(value=1e-05, continuous_update=False, description=\"(421, 'R=128-159', 'G=128-159', 'B=192-223')\", …"
      ]
     },
     "metadata": {},
     "output_type": "display_data"
    },
    {
     "data": {
      "application/vnd.jupyter.widget-view+json": {
       "model_id": "8b47f91aaaac45d9a3859f4304c135bd",
       "version_major": 2,
       "version_minor": 0
      },
      "text/plain": [
       "FloatSlider(value=1e-05, continuous_update=False, description=\"(422, 'R=160-191', 'G=128-159', 'B=192-223')\", …"
      ]
     },
     "metadata": {},
     "output_type": "display_data"
    },
    {
     "data": {
      "application/vnd.jupyter.widget-view+json": {
       "model_id": "21834b6c58284b028731ea06402b859d",
       "version_major": 2,
       "version_minor": 0
      },
      "text/plain": [
       "FloatSlider(value=1e-05, continuous_update=False, description=\"(423, 'R=192-223', 'G=128-159', 'B=192-223')\", …"
      ]
     },
     "metadata": {},
     "output_type": "display_data"
    },
    {
     "data": {
      "application/vnd.jupyter.widget-view+json": {
       "model_id": "58f9510ea4d148a18e9cab8ae669f25e",
       "version_major": 2,
       "version_minor": 0
      },
      "text/plain": [
       "FloatSlider(value=1e-05, continuous_update=False, description=\"(424, 'R=224-255', 'G=128-159', 'B=192-223')\", …"
      ]
     },
     "metadata": {},
     "output_type": "display_data"
    },
    {
     "data": {
      "application/vnd.jupyter.widget-view+json": {
       "model_id": "46397eae354f479986fce46fb3fd0f61",
       "version_major": 2,
       "version_minor": 0
      },
      "text/plain": [
       "FloatSlider(value=1e-05, continuous_update=False, description=\"(425, 'R=000-031', 'G=160-191', 'B=192-223')\", …"
      ]
     },
     "metadata": {},
     "output_type": "display_data"
    },
    {
     "data": {
      "application/vnd.jupyter.widget-view+json": {
       "model_id": "6c92b215542744d1970cfca5546b9fdc",
       "version_major": 2,
       "version_minor": 0
      },
      "text/plain": [
       "FloatSlider(value=1e-05, continuous_update=False, description=\"(426, 'R=032-063', 'G=160-191', 'B=192-223')\", …"
      ]
     },
     "metadata": {},
     "output_type": "display_data"
    },
    {
     "data": {
      "application/vnd.jupyter.widget-view+json": {
       "model_id": "b34551a8cfce4af181938c6ae9d32b38",
       "version_major": 2,
       "version_minor": 0
      },
      "text/plain": [
       "FloatSlider(value=1e-05, continuous_update=False, description=\"(427, 'R=064-095', 'G=160-191', 'B=192-223')\", …"
      ]
     },
     "metadata": {},
     "output_type": "display_data"
    },
    {
     "data": {
      "application/vnd.jupyter.widget-view+json": {
       "model_id": "297048f4ebab42caa2b92e9c41d6bd0a",
       "version_major": 2,
       "version_minor": 0
      },
      "text/plain": [
       "FloatSlider(value=1e-05, continuous_update=False, description=\"(428, 'R=096-127', 'G=160-191', 'B=192-223')\", …"
      ]
     },
     "metadata": {},
     "output_type": "display_data"
    },
    {
     "data": {
      "application/vnd.jupyter.widget-view+json": {
       "model_id": "27ebc946e13a48faa4e65171bad9899c",
       "version_major": 2,
       "version_minor": 0
      },
      "text/plain": [
       "FloatSlider(value=1e-05, continuous_update=False, description=\"(429, 'R=128-159', 'G=160-191', 'B=192-223')\", …"
      ]
     },
     "metadata": {},
     "output_type": "display_data"
    },
    {
     "data": {
      "application/vnd.jupyter.widget-view+json": {
       "model_id": "62703f66f0ab4756953aa8bdeaf625ca",
       "version_major": 2,
       "version_minor": 0
      },
      "text/plain": [
       "FloatSlider(value=1e-05, continuous_update=False, description=\"(430, 'R=160-191', 'G=160-191', 'B=192-223')\", …"
      ]
     },
     "metadata": {},
     "output_type": "display_data"
    },
    {
     "data": {
      "application/vnd.jupyter.widget-view+json": {
       "model_id": "17f32526b9bb4ae2b8fcec9ecc8b71de",
       "version_major": 2,
       "version_minor": 0
      },
      "text/plain": [
       "FloatSlider(value=1e-05, continuous_update=False, description=\"(431, 'R=192-223', 'G=160-191', 'B=192-223')\", …"
      ]
     },
     "metadata": {},
     "output_type": "display_data"
    },
    {
     "data": {
      "application/vnd.jupyter.widget-view+json": {
       "model_id": "6e3c59f107be4146ba3b727529e4ed71",
       "version_major": 2,
       "version_minor": 0
      },
      "text/plain": [
       "FloatSlider(value=1e-05, continuous_update=False, description=\"(432, 'R=224-255', 'G=160-191', 'B=192-223')\", …"
      ]
     },
     "metadata": {},
     "output_type": "display_data"
    },
    {
     "data": {
      "application/vnd.jupyter.widget-view+json": {
       "model_id": "fbf63e91bf5d4038ae4831e33b81fe85",
       "version_major": 2,
       "version_minor": 0
      },
      "text/plain": [
       "FloatSlider(value=1e-05, continuous_update=False, description=\"(433, 'R=000-031', 'G=192-223', 'B=192-223')\", …"
      ]
     },
     "metadata": {},
     "output_type": "display_data"
    },
    {
     "data": {
      "application/vnd.jupyter.widget-view+json": {
       "model_id": "86df98fe712844f08bdc3b3bbf91dd39",
       "version_major": 2,
       "version_minor": 0
      },
      "text/plain": [
       "FloatSlider(value=1e-05, continuous_update=False, description=\"(434, 'R=032-063', 'G=192-223', 'B=192-223')\", …"
      ]
     },
     "metadata": {},
     "output_type": "display_data"
    },
    {
     "data": {
      "application/vnd.jupyter.widget-view+json": {
       "model_id": "c22d7fbaaa4641a592516ee39f1ab0c5",
       "version_major": 2,
       "version_minor": 0
      },
      "text/plain": [
       "FloatSlider(value=1e-05, continuous_update=False, description=\"(435, 'R=064-095', 'G=192-223', 'B=192-223')\", …"
      ]
     },
     "metadata": {},
     "output_type": "display_data"
    },
    {
     "data": {
      "application/vnd.jupyter.widget-view+json": {
       "model_id": "0c9a6b32432344c4b2b53d3892b7cd48",
       "version_major": 2,
       "version_minor": 0
      },
      "text/plain": [
       "FloatSlider(value=1e-05, continuous_update=False, description=\"(436, 'R=096-127', 'G=192-223', 'B=192-223')\", …"
      ]
     },
     "metadata": {},
     "output_type": "display_data"
    },
    {
     "data": {
      "application/vnd.jupyter.widget-view+json": {
       "model_id": "dc10fa4293904f77b67503501c6eefa8",
       "version_major": 2,
       "version_minor": 0
      },
      "text/plain": [
       "FloatSlider(value=1e-05, continuous_update=False, description=\"(437, 'R=128-159', 'G=192-223', 'B=192-223')\", …"
      ]
     },
     "metadata": {},
     "output_type": "display_data"
    },
    {
     "data": {
      "application/vnd.jupyter.widget-view+json": {
       "model_id": "9cf31c1c210648ca9f0ea45fc16e6187",
       "version_major": 2,
       "version_minor": 0
      },
      "text/plain": [
       "FloatSlider(value=1e-05, continuous_update=False, description=\"(438, 'R=160-191', 'G=192-223', 'B=192-223')\", …"
      ]
     },
     "metadata": {},
     "output_type": "display_data"
    },
    {
     "data": {
      "application/vnd.jupyter.widget-view+json": {
       "model_id": "942dd3b86eb64f7dbb3bba33c2bcedc9",
       "version_major": 2,
       "version_minor": 0
      },
      "text/plain": [
       "FloatSlider(value=1e-05, continuous_update=False, description=\"(439, 'R=192-223', 'G=192-223', 'B=192-223')\", …"
      ]
     },
     "metadata": {},
     "output_type": "display_data"
    },
    {
     "data": {
      "application/vnd.jupyter.widget-view+json": {
       "model_id": "41cc1a9c03e240909be3e06ca195e205",
       "version_major": 2,
       "version_minor": 0
      },
      "text/plain": [
       "FloatSlider(value=1e-05, continuous_update=False, description=\"(440, 'R=224-255', 'G=192-223', 'B=192-223')\", …"
      ]
     },
     "metadata": {},
     "output_type": "display_data"
    },
    {
     "data": {
      "application/vnd.jupyter.widget-view+json": {
       "model_id": "eba9fdbff0fc4a6e9adb111878ac96f2",
       "version_major": 2,
       "version_minor": 0
      },
      "text/plain": [
       "FloatSlider(value=1e-05, continuous_update=False, description=\"(441, 'R=000-031', 'G=224-255', 'B=192-223')\", …"
      ]
     },
     "metadata": {},
     "output_type": "display_data"
    },
    {
     "data": {
      "application/vnd.jupyter.widget-view+json": {
       "model_id": "d00c8bc6454f4c3e88526d4bd895430a",
       "version_major": 2,
       "version_minor": 0
      },
      "text/plain": [
       "FloatSlider(value=1e-05, continuous_update=False, description=\"(442, 'R=032-063', 'G=224-255', 'B=192-223')\", …"
      ]
     },
     "metadata": {},
     "output_type": "display_data"
    },
    {
     "data": {
      "application/vnd.jupyter.widget-view+json": {
       "model_id": "bed838bcba09401ca2e7f681f5b549d7",
       "version_major": 2,
       "version_minor": 0
      },
      "text/plain": [
       "FloatSlider(value=1e-05, continuous_update=False, description=\"(443, 'R=064-095', 'G=224-255', 'B=192-223')\", …"
      ]
     },
     "metadata": {},
     "output_type": "display_data"
    },
    {
     "data": {
      "application/vnd.jupyter.widget-view+json": {
       "model_id": "24aac31ccc484624a9e540a79a1e4750",
       "version_major": 2,
       "version_minor": 0
      },
      "text/plain": [
       "FloatSlider(value=1e-05, continuous_update=False, description=\"(444, 'R=096-127', 'G=224-255', 'B=192-223')\", …"
      ]
     },
     "metadata": {},
     "output_type": "display_data"
    },
    {
     "data": {
      "application/vnd.jupyter.widget-view+json": {
       "model_id": "d75d555df6a94ce7964a1238f5d5dca9",
       "version_major": 2,
       "version_minor": 0
      },
      "text/plain": [
       "FloatSlider(value=1e-05, continuous_update=False, description=\"(445, 'R=128-159', 'G=224-255', 'B=192-223')\", …"
      ]
     },
     "metadata": {},
     "output_type": "display_data"
    },
    {
     "data": {
      "application/vnd.jupyter.widget-view+json": {
       "model_id": "836e79f44e1e46d298cb39c02dd47d0b",
       "version_major": 2,
       "version_minor": 0
      },
      "text/plain": [
       "FloatSlider(value=1e-05, continuous_update=False, description=\"(446, 'R=160-191', 'G=224-255', 'B=192-223')\", …"
      ]
     },
     "metadata": {},
     "output_type": "display_data"
    },
    {
     "data": {
      "application/vnd.jupyter.widget-view+json": {
       "model_id": "bb39c6e4de82428db842421d3cfb3837",
       "version_major": 2,
       "version_minor": 0
      },
      "text/plain": [
       "FloatSlider(value=1e-05, continuous_update=False, description=\"(447, 'R=192-223', 'G=224-255', 'B=192-223')\", …"
      ]
     },
     "metadata": {},
     "output_type": "display_data"
    },
    {
     "data": {
      "application/vnd.jupyter.widget-view+json": {
       "model_id": "da9ed67d79f6489e9d70d263b0560f6d",
       "version_major": 2,
       "version_minor": 0
      },
      "text/plain": [
       "FloatSlider(value=1e-05, continuous_update=False, description=\"(448, 'R=224-255', 'G=224-255', 'B=192-223')\", …"
      ]
     },
     "metadata": {},
     "output_type": "display_data"
    },
    {
     "data": {
      "application/vnd.jupyter.widget-view+json": {
       "model_id": "2211db8d78a84adeaf4387c856eb1575",
       "version_major": 2,
       "version_minor": 0
      },
      "text/plain": [
       "FloatSlider(value=1e-05, continuous_update=False, description=\"(449, 'R=000-031', 'G=000-031', 'B=224-255')\", …"
      ]
     },
     "metadata": {},
     "output_type": "display_data"
    },
    {
     "data": {
      "application/vnd.jupyter.widget-view+json": {
       "model_id": "bb07708b066d485880e0658b952d397a",
       "version_major": 2,
       "version_minor": 0
      },
      "text/plain": [
       "FloatSlider(value=1e-05, continuous_update=False, description=\"(450, 'R=032-063', 'G=000-031', 'B=224-255')\", …"
      ]
     },
     "metadata": {},
     "output_type": "display_data"
    },
    {
     "data": {
      "application/vnd.jupyter.widget-view+json": {
       "model_id": "db4ae390fbe94268b64c973a46ea2833",
       "version_major": 2,
       "version_minor": 0
      },
      "text/plain": [
       "FloatSlider(value=1e-05, continuous_update=False, description=\"(451, 'R=064-095', 'G=000-031', 'B=224-255')\", …"
      ]
     },
     "metadata": {},
     "output_type": "display_data"
    },
    {
     "data": {
      "application/vnd.jupyter.widget-view+json": {
       "model_id": "667399dd422443e5995663ae0337135b",
       "version_major": 2,
       "version_minor": 0
      },
      "text/plain": [
       "FloatSlider(value=1e-05, continuous_update=False, description=\"(452, 'R=096-127', 'G=000-031', 'B=224-255')\", …"
      ]
     },
     "metadata": {},
     "output_type": "display_data"
    },
    {
     "data": {
      "application/vnd.jupyter.widget-view+json": {
       "model_id": "3993676b6c084185bb8435a4dfd37d37",
       "version_major": 2,
       "version_minor": 0
      },
      "text/plain": [
       "FloatSlider(value=1e-05, continuous_update=False, description=\"(453, 'R=128-159', 'G=000-031', 'B=224-255')\", …"
      ]
     },
     "metadata": {},
     "output_type": "display_data"
    },
    {
     "data": {
      "application/vnd.jupyter.widget-view+json": {
       "model_id": "d0e99c3d00d848a2b1919566a2c2d231",
       "version_major": 2,
       "version_minor": 0
      },
      "text/plain": [
       "FloatSlider(value=1e-05, continuous_update=False, description=\"(454, 'R=160-191', 'G=000-031', 'B=224-255')\", …"
      ]
     },
     "metadata": {},
     "output_type": "display_data"
    },
    {
     "data": {
      "application/vnd.jupyter.widget-view+json": {
       "model_id": "8522148af9714973b77227746954fdbd",
       "version_major": 2,
       "version_minor": 0
      },
      "text/plain": [
       "FloatSlider(value=1e-05, continuous_update=False, description=\"(455, 'R=192-223', 'G=000-031', 'B=224-255')\", …"
      ]
     },
     "metadata": {},
     "output_type": "display_data"
    },
    {
     "data": {
      "application/vnd.jupyter.widget-view+json": {
       "model_id": "b735de10c6e348e5921b9b6b5c24d194",
       "version_major": 2,
       "version_minor": 0
      },
      "text/plain": [
       "FloatSlider(value=1e-05, continuous_update=False, description=\"(456, 'R=224-255', 'G=000-031', 'B=224-255')\", …"
      ]
     },
     "metadata": {},
     "output_type": "display_data"
    },
    {
     "data": {
      "application/vnd.jupyter.widget-view+json": {
       "model_id": "96e54c0b84c44350838202f26f1642bb",
       "version_major": 2,
       "version_minor": 0
      },
      "text/plain": [
       "FloatSlider(value=1e-05, continuous_update=False, description=\"(457, 'R=000-031', 'G=032-063', 'B=224-255')\", …"
      ]
     },
     "metadata": {},
     "output_type": "display_data"
    },
    {
     "data": {
      "application/vnd.jupyter.widget-view+json": {
       "model_id": "6c29d2adb33748da840f6f08c22df8be",
       "version_major": 2,
       "version_minor": 0
      },
      "text/plain": [
       "FloatSlider(value=1e-05, continuous_update=False, description=\"(458, 'R=032-063', 'G=032-063', 'B=224-255')\", …"
      ]
     },
     "metadata": {},
     "output_type": "display_data"
    },
    {
     "data": {
      "application/vnd.jupyter.widget-view+json": {
       "model_id": "5c033c57c26d466d86619a7fa93f90bb",
       "version_major": 2,
       "version_minor": 0
      },
      "text/plain": [
       "FloatSlider(value=1e-05, continuous_update=False, description=\"(459, 'R=064-095', 'G=032-063', 'B=224-255')\", …"
      ]
     },
     "metadata": {},
     "output_type": "display_data"
    },
    {
     "data": {
      "application/vnd.jupyter.widget-view+json": {
       "model_id": "dfda9dd73a944524a68bc6fa013fd620",
       "version_major": 2,
       "version_minor": 0
      },
      "text/plain": [
       "FloatSlider(value=1e-05, continuous_update=False, description=\"(460, 'R=096-127', 'G=032-063', 'B=224-255')\", …"
      ]
     },
     "metadata": {},
     "output_type": "display_data"
    },
    {
     "data": {
      "application/vnd.jupyter.widget-view+json": {
       "model_id": "b493f27787ab4423ad1601a2be176873",
       "version_major": 2,
       "version_minor": 0
      },
      "text/plain": [
       "FloatSlider(value=1e-05, continuous_update=False, description=\"(461, 'R=128-159', 'G=032-063', 'B=224-255')\", …"
      ]
     },
     "metadata": {},
     "output_type": "display_data"
    },
    {
     "data": {
      "application/vnd.jupyter.widget-view+json": {
       "model_id": "34ef0097c7684a88aa0656113eb702ac",
       "version_major": 2,
       "version_minor": 0
      },
      "text/plain": [
       "FloatSlider(value=1e-05, continuous_update=False, description=\"(462, 'R=160-191', 'G=032-063', 'B=224-255')\", …"
      ]
     },
     "metadata": {},
     "output_type": "display_data"
    },
    {
     "data": {
      "application/vnd.jupyter.widget-view+json": {
       "model_id": "9e7930deb31b401c8a58f6f892b471a2",
       "version_major": 2,
       "version_minor": 0
      },
      "text/plain": [
       "FloatSlider(value=1e-05, continuous_update=False, description=\"(463, 'R=192-223', 'G=032-063', 'B=224-255')\", …"
      ]
     },
     "metadata": {},
     "output_type": "display_data"
    },
    {
     "data": {
      "application/vnd.jupyter.widget-view+json": {
       "model_id": "d93048bb37be47c48b52ca995ccd0b76",
       "version_major": 2,
       "version_minor": 0
      },
      "text/plain": [
       "FloatSlider(value=1e-05, continuous_update=False, description=\"(464, 'R=224-255', 'G=032-063', 'B=224-255')\", …"
      ]
     },
     "metadata": {},
     "output_type": "display_data"
    },
    {
     "data": {
      "application/vnd.jupyter.widget-view+json": {
       "model_id": "bd6afc7815784abebb38c6acfc949ed0",
       "version_major": 2,
       "version_minor": 0
      },
      "text/plain": [
       "FloatSlider(value=1e-05, continuous_update=False, description=\"(465, 'R=000-031', 'G=064-095', 'B=224-255')\", …"
      ]
     },
     "metadata": {},
     "output_type": "display_data"
    },
    {
     "data": {
      "application/vnd.jupyter.widget-view+json": {
       "model_id": "419f7514d17740d3b5ba9de036a51fed",
       "version_major": 2,
       "version_minor": 0
      },
      "text/plain": [
       "FloatSlider(value=1e-05, continuous_update=False, description=\"(466, 'R=032-063', 'G=064-095', 'B=224-255')\", …"
      ]
     },
     "metadata": {},
     "output_type": "display_data"
    },
    {
     "data": {
      "application/vnd.jupyter.widget-view+json": {
       "model_id": "5efe38c0a53a43f1ace2eb0e9ae8bc9d",
       "version_major": 2,
       "version_minor": 0
      },
      "text/plain": [
       "FloatSlider(value=1e-05, continuous_update=False, description=\"(467, 'R=064-095', 'G=064-095', 'B=224-255')\", …"
      ]
     },
     "metadata": {},
     "output_type": "display_data"
    },
    {
     "data": {
      "application/vnd.jupyter.widget-view+json": {
       "model_id": "355c1c46ec57456bbeafd39c68c9bf7d",
       "version_major": 2,
       "version_minor": 0
      },
      "text/plain": [
       "FloatSlider(value=1e-05, continuous_update=False, description=\"(468, 'R=096-127', 'G=064-095', 'B=224-255')\", …"
      ]
     },
     "metadata": {},
     "output_type": "display_data"
    },
    {
     "data": {
      "application/vnd.jupyter.widget-view+json": {
       "model_id": "f55d29d6f6024624917bcc11b68ae612",
       "version_major": 2,
       "version_minor": 0
      },
      "text/plain": [
       "FloatSlider(value=1e-05, continuous_update=False, description=\"(469, 'R=128-159', 'G=064-095', 'B=224-255')\", …"
      ]
     },
     "metadata": {},
     "output_type": "display_data"
    },
    {
     "data": {
      "application/vnd.jupyter.widget-view+json": {
       "model_id": "f14e9c0579ce42bca843294c55512c3f",
       "version_major": 2,
       "version_minor": 0
      },
      "text/plain": [
       "FloatSlider(value=1e-05, continuous_update=False, description=\"(470, 'R=160-191', 'G=064-095', 'B=224-255')\", …"
      ]
     },
     "metadata": {},
     "output_type": "display_data"
    },
    {
     "data": {
      "application/vnd.jupyter.widget-view+json": {
       "model_id": "a5c30313bd2d4de8b87efef2973ad6c1",
       "version_major": 2,
       "version_minor": 0
      },
      "text/plain": [
       "FloatSlider(value=1e-05, continuous_update=False, description=\"(471, 'R=192-223', 'G=064-095', 'B=224-255')\", …"
      ]
     },
     "metadata": {},
     "output_type": "display_data"
    },
    {
     "data": {
      "application/vnd.jupyter.widget-view+json": {
       "model_id": "54a582883ebd465c9fe1d88704f18dac",
       "version_major": 2,
       "version_minor": 0
      },
      "text/plain": [
       "FloatSlider(value=1e-05, continuous_update=False, description=\"(472, 'R=224-255', 'G=064-095', 'B=224-255')\", …"
      ]
     },
     "metadata": {},
     "output_type": "display_data"
    },
    {
     "data": {
      "application/vnd.jupyter.widget-view+json": {
       "model_id": "6e1f351b65404afbb75118cda54e1bf4",
       "version_major": 2,
       "version_minor": 0
      },
      "text/plain": [
       "FloatSlider(value=1e-05, continuous_update=False, description=\"(473, 'R=000-031', 'G=096-127', 'B=224-255')\", …"
      ]
     },
     "metadata": {},
     "output_type": "display_data"
    },
    {
     "data": {
      "application/vnd.jupyter.widget-view+json": {
       "model_id": "0237c1bd5f7a44c29fe24b3b542186e4",
       "version_major": 2,
       "version_minor": 0
      },
      "text/plain": [
       "FloatSlider(value=1e-05, continuous_update=False, description=\"(474, 'R=032-063', 'G=096-127', 'B=224-255')\", …"
      ]
     },
     "metadata": {},
     "output_type": "display_data"
    },
    {
     "data": {
      "application/vnd.jupyter.widget-view+json": {
       "model_id": "439cad51ce5a4d7fb4b08fb1ab34effd",
       "version_major": 2,
       "version_minor": 0
      },
      "text/plain": [
       "FloatSlider(value=1e-05, continuous_update=False, description=\"(475, 'R=064-095', 'G=096-127', 'B=224-255')\", …"
      ]
     },
     "metadata": {},
     "output_type": "display_data"
    },
    {
     "data": {
      "application/vnd.jupyter.widget-view+json": {
       "model_id": "dd0cfa6ead5c47fdbbae878ae1baad62",
       "version_major": 2,
       "version_minor": 0
      },
      "text/plain": [
       "FloatSlider(value=1e-05, continuous_update=False, description=\"(476, 'R=096-127', 'G=096-127', 'B=224-255')\", …"
      ]
     },
     "metadata": {},
     "output_type": "display_data"
    },
    {
     "data": {
      "application/vnd.jupyter.widget-view+json": {
       "model_id": "345a9c66e9ed40b3b43b17d8f5c27719",
       "version_major": 2,
       "version_minor": 0
      },
      "text/plain": [
       "FloatSlider(value=1e-05, continuous_update=False, description=\"(477, 'R=128-159', 'G=096-127', 'B=224-255')\", …"
      ]
     },
     "metadata": {},
     "output_type": "display_data"
    },
    {
     "data": {
      "application/vnd.jupyter.widget-view+json": {
       "model_id": "53a4caff922c44c8a05c1fa063bbf442",
       "version_major": 2,
       "version_minor": 0
      },
      "text/plain": [
       "FloatSlider(value=1e-05, continuous_update=False, description=\"(478, 'R=160-191', 'G=096-127', 'B=224-255')\", …"
      ]
     },
     "metadata": {},
     "output_type": "display_data"
    },
    {
     "data": {
      "application/vnd.jupyter.widget-view+json": {
       "model_id": "25e45b5323734148a1c54bdfbe10f247",
       "version_major": 2,
       "version_minor": 0
      },
      "text/plain": [
       "FloatSlider(value=1e-05, continuous_update=False, description=\"(479, 'R=192-223', 'G=096-127', 'B=224-255')\", …"
      ]
     },
     "metadata": {},
     "output_type": "display_data"
    },
    {
     "data": {
      "application/vnd.jupyter.widget-view+json": {
       "model_id": "8d1914be2ed04abe914c8d2d50460f02",
       "version_major": 2,
       "version_minor": 0
      },
      "text/plain": [
       "FloatSlider(value=1e-05, continuous_update=False, description=\"(480, 'R=224-255', 'G=096-127', 'B=224-255')\", …"
      ]
     },
     "metadata": {},
     "output_type": "display_data"
    },
    {
     "data": {
      "application/vnd.jupyter.widget-view+json": {
       "model_id": "bb6096341b8942eb8828141aa044ea8f",
       "version_major": 2,
       "version_minor": 0
      },
      "text/plain": [
       "FloatSlider(value=1e-05, continuous_update=False, description=\"(481, 'R=000-031', 'G=128-159', 'B=224-255')\", …"
      ]
     },
     "metadata": {},
     "output_type": "display_data"
    },
    {
     "data": {
      "application/vnd.jupyter.widget-view+json": {
       "model_id": "aa3b9cffe56a44f68760be97712dcdf5",
       "version_major": 2,
       "version_minor": 0
      },
      "text/plain": [
       "FloatSlider(value=1e-05, continuous_update=False, description=\"(482, 'R=032-063', 'G=128-159', 'B=224-255')\", …"
      ]
     },
     "metadata": {},
     "output_type": "display_data"
    },
    {
     "data": {
      "application/vnd.jupyter.widget-view+json": {
       "model_id": "3f39d87044cb47898967b497019f4bc4",
       "version_major": 2,
       "version_minor": 0
      },
      "text/plain": [
       "FloatSlider(value=1e-05, continuous_update=False, description=\"(483, 'R=064-095', 'G=128-159', 'B=224-255')\", …"
      ]
     },
     "metadata": {},
     "output_type": "display_data"
    },
    {
     "data": {
      "application/vnd.jupyter.widget-view+json": {
       "model_id": "5caca386bb5044c2ab0937db452ea91a",
       "version_major": 2,
       "version_minor": 0
      },
      "text/plain": [
       "FloatSlider(value=1e-05, continuous_update=False, description=\"(484, 'R=096-127', 'G=128-159', 'B=224-255')\", …"
      ]
     },
     "metadata": {},
     "output_type": "display_data"
    },
    {
     "data": {
      "application/vnd.jupyter.widget-view+json": {
       "model_id": "e32472f560a348dd88db4cfa45a8ff75",
       "version_major": 2,
       "version_minor": 0
      },
      "text/plain": [
       "FloatSlider(value=1e-05, continuous_update=False, description=\"(485, 'R=128-159', 'G=128-159', 'B=224-255')\", …"
      ]
     },
     "metadata": {},
     "output_type": "display_data"
    },
    {
     "data": {
      "application/vnd.jupyter.widget-view+json": {
       "model_id": "633f3b83bf794391bb1c4e355c451613",
       "version_major": 2,
       "version_minor": 0
      },
      "text/plain": [
       "FloatSlider(value=1e-05, continuous_update=False, description=\"(486, 'R=160-191', 'G=128-159', 'B=224-255')\", …"
      ]
     },
     "metadata": {},
     "output_type": "display_data"
    },
    {
     "data": {
      "application/vnd.jupyter.widget-view+json": {
       "model_id": "45adef7092c14c20a39a21d5020295d0",
       "version_major": 2,
       "version_minor": 0
      },
      "text/plain": [
       "FloatSlider(value=1e-05, continuous_update=False, description=\"(487, 'R=192-223', 'G=128-159', 'B=224-255')\", …"
      ]
     },
     "metadata": {},
     "output_type": "display_data"
    },
    {
     "data": {
      "application/vnd.jupyter.widget-view+json": {
       "model_id": "b94bf25c934d472487962cbc4178f04d",
       "version_major": 2,
       "version_minor": 0
      },
      "text/plain": [
       "FloatSlider(value=1e-05, continuous_update=False, description=\"(488, 'R=224-255', 'G=128-159', 'B=224-255')\", …"
      ]
     },
     "metadata": {},
     "output_type": "display_data"
    },
    {
     "data": {
      "application/vnd.jupyter.widget-view+json": {
       "model_id": "f87f418054ac48af9b8dc1d8c6495a93",
       "version_major": 2,
       "version_minor": 0
      },
      "text/plain": [
       "FloatSlider(value=1e-05, continuous_update=False, description=\"(489, 'R=000-031', 'G=160-191', 'B=224-255')\", …"
      ]
     },
     "metadata": {},
     "output_type": "display_data"
    },
    {
     "data": {
      "application/vnd.jupyter.widget-view+json": {
       "model_id": "e77badb80dde4c508280d2ddf6ba0b29",
       "version_major": 2,
       "version_minor": 0
      },
      "text/plain": [
       "FloatSlider(value=1e-05, continuous_update=False, description=\"(490, 'R=032-063', 'G=160-191', 'B=224-255')\", …"
      ]
     },
     "metadata": {},
     "output_type": "display_data"
    },
    {
     "data": {
      "application/vnd.jupyter.widget-view+json": {
       "model_id": "d9fd1b0b593841d7ad01fd3080969963",
       "version_major": 2,
       "version_minor": 0
      },
      "text/plain": [
       "FloatSlider(value=1e-05, continuous_update=False, description=\"(491, 'R=064-095', 'G=160-191', 'B=224-255')\", …"
      ]
     },
     "metadata": {},
     "output_type": "display_data"
    },
    {
     "data": {
      "application/vnd.jupyter.widget-view+json": {
       "model_id": "7f7213936b244269afcc26d14fd343e5",
       "version_major": 2,
       "version_minor": 0
      },
      "text/plain": [
       "FloatSlider(value=1e-05, continuous_update=False, description=\"(492, 'R=096-127', 'G=160-191', 'B=224-255')\", …"
      ]
     },
     "metadata": {},
     "output_type": "display_data"
    },
    {
     "data": {
      "application/vnd.jupyter.widget-view+json": {
       "model_id": "b4d6c2a23012449e84ba1fe5b79797f3",
       "version_major": 2,
       "version_minor": 0
      },
      "text/plain": [
       "FloatSlider(value=1e-05, continuous_update=False, description=\"(493, 'R=128-159', 'G=160-191', 'B=224-255')\", …"
      ]
     },
     "metadata": {},
     "output_type": "display_data"
    },
    {
     "data": {
      "application/vnd.jupyter.widget-view+json": {
       "model_id": "dd0160ba217643d0a36490754d012835",
       "version_major": 2,
       "version_minor": 0
      },
      "text/plain": [
       "FloatSlider(value=1e-05, continuous_update=False, description=\"(494, 'R=160-191', 'G=160-191', 'B=224-255')\", …"
      ]
     },
     "metadata": {},
     "output_type": "display_data"
    },
    {
     "data": {
      "application/vnd.jupyter.widget-view+json": {
       "model_id": "78b84e67c73743efa5b9bfd3711446c8",
       "version_major": 2,
       "version_minor": 0
      },
      "text/plain": [
       "FloatSlider(value=1e-05, continuous_update=False, description=\"(495, 'R=192-223', 'G=160-191', 'B=224-255')\", …"
      ]
     },
     "metadata": {},
     "output_type": "display_data"
    },
    {
     "data": {
      "application/vnd.jupyter.widget-view+json": {
       "model_id": "e58831520a134cd9b8ceafd420742d10",
       "version_major": 2,
       "version_minor": 0
      },
      "text/plain": [
       "FloatSlider(value=1e-05, continuous_update=False, description=\"(496, 'R=224-255', 'G=160-191', 'B=224-255')\", …"
      ]
     },
     "metadata": {},
     "output_type": "display_data"
    },
    {
     "data": {
      "application/vnd.jupyter.widget-view+json": {
       "model_id": "c59daa6d63de4192af71e5c7fc0da0cd",
       "version_major": 2,
       "version_minor": 0
      },
      "text/plain": [
       "FloatSlider(value=1e-05, continuous_update=False, description=\"(497, 'R=000-031', 'G=192-223', 'B=224-255')\", …"
      ]
     },
     "metadata": {},
     "output_type": "display_data"
    },
    {
     "data": {
      "application/vnd.jupyter.widget-view+json": {
       "model_id": "309ccaac83b0421c841e7783584f7492",
       "version_major": 2,
       "version_minor": 0
      },
      "text/plain": [
       "FloatSlider(value=1e-05, continuous_update=False, description=\"(498, 'R=032-063', 'G=192-223', 'B=224-255')\", …"
      ]
     },
     "metadata": {},
     "output_type": "display_data"
    },
    {
     "data": {
      "application/vnd.jupyter.widget-view+json": {
       "model_id": "ca621dad6b3348e7b3ce367f02cdebe1",
       "version_major": 2,
       "version_minor": 0
      },
      "text/plain": [
       "FloatSlider(value=1e-05, continuous_update=False, description=\"(499, 'R=064-095', 'G=192-223', 'B=224-255')\", …"
      ]
     },
     "metadata": {},
     "output_type": "display_data"
    },
    {
     "data": {
      "application/vnd.jupyter.widget-view+json": {
       "model_id": "f8f60057b8db4bff9be9c786c1ff3b00",
       "version_major": 2,
       "version_minor": 0
      },
      "text/plain": [
       "FloatSlider(value=1e-05, continuous_update=False, description=\"(500, 'R=096-127', 'G=192-223', 'B=224-255')\", …"
      ]
     },
     "metadata": {},
     "output_type": "display_data"
    },
    {
     "data": {
      "application/vnd.jupyter.widget-view+json": {
       "model_id": "a8f54ec9b21c4432a1badce6020a3ba8",
       "version_major": 2,
       "version_minor": 0
      },
      "text/plain": [
       "FloatSlider(value=1e-05, continuous_update=False, description=\"(501, 'R=128-159', 'G=192-223', 'B=224-255')\", …"
      ]
     },
     "metadata": {},
     "output_type": "display_data"
    },
    {
     "data": {
      "application/vnd.jupyter.widget-view+json": {
       "model_id": "ece2dc69179a4ebcb83717759281105d",
       "version_major": 2,
       "version_minor": 0
      },
      "text/plain": [
       "FloatSlider(value=1e-05, continuous_update=False, description=\"(502, 'R=160-191', 'G=192-223', 'B=224-255')\", …"
      ]
     },
     "metadata": {},
     "output_type": "display_data"
    },
    {
     "data": {
      "application/vnd.jupyter.widget-view+json": {
       "model_id": "d3bed093efd74bb18bb67eb25967923a",
       "version_major": 2,
       "version_minor": 0
      },
      "text/plain": [
       "FloatSlider(value=1e-05, continuous_update=False, description=\"(503, 'R=192-223', 'G=192-223', 'B=224-255')\", …"
      ]
     },
     "metadata": {},
     "output_type": "display_data"
    },
    {
     "data": {
      "application/vnd.jupyter.widget-view+json": {
       "model_id": "1028a79c44404c09a52d3f3b7078cbf8",
       "version_major": 2,
       "version_minor": 0
      },
      "text/plain": [
       "FloatSlider(value=1e-05, continuous_update=False, description=\"(504, 'R=224-255', 'G=192-223', 'B=224-255')\", …"
      ]
     },
     "metadata": {},
     "output_type": "display_data"
    },
    {
     "data": {
      "application/vnd.jupyter.widget-view+json": {
       "model_id": "bd73da576abe4556bb308acd18e529d3",
       "version_major": 2,
       "version_minor": 0
      },
      "text/plain": [
       "FloatSlider(value=1e-05, continuous_update=False, description=\"(505, 'R=000-031', 'G=224-255', 'B=224-255')\", …"
      ]
     },
     "metadata": {},
     "output_type": "display_data"
    },
    {
     "data": {
      "application/vnd.jupyter.widget-view+json": {
       "model_id": "3e1b53a99d2f4b26b69a631bdff772ff",
       "version_major": 2,
       "version_minor": 0
      },
      "text/plain": [
       "FloatSlider(value=1e-05, continuous_update=False, description=\"(506, 'R=032-063', 'G=224-255', 'B=224-255')\", …"
      ]
     },
     "metadata": {},
     "output_type": "display_data"
    },
    {
     "data": {
      "application/vnd.jupyter.widget-view+json": {
       "model_id": "dd499bb190314979ac62532b1369f0a5",
       "version_major": 2,
       "version_minor": 0
      },
      "text/plain": [
       "FloatSlider(value=1e-05, continuous_update=False, description=\"(507, 'R=064-095', 'G=224-255', 'B=224-255')\", …"
      ]
     },
     "metadata": {},
     "output_type": "display_data"
    },
    {
     "data": {
      "application/vnd.jupyter.widget-view+json": {
       "model_id": "7122679073ef428f85bc855b479dbfc8",
       "version_major": 2,
       "version_minor": 0
      },
      "text/plain": [
       "FloatSlider(value=1e-05, continuous_update=False, description=\"(508, 'R=096-127', 'G=224-255', 'B=224-255')\", …"
      ]
     },
     "metadata": {},
     "output_type": "display_data"
    },
    {
     "data": {
      "application/vnd.jupyter.widget-view+json": {
       "model_id": "b27252d1675841648df5d334cb67c147",
       "version_major": 2,
       "version_minor": 0
      },
      "text/plain": [
       "FloatSlider(value=1e-05, continuous_update=False, description=\"(509, 'R=128-159', 'G=224-255', 'B=224-255')\", …"
      ]
     },
     "metadata": {},
     "output_type": "display_data"
    },
    {
     "data": {
      "application/vnd.jupyter.widget-view+json": {
       "model_id": "1aeb8e9e67ff4b5aa3ee6f88df37600f",
       "version_major": 2,
       "version_minor": 0
      },
      "text/plain": [
       "FloatSlider(value=1e-05, continuous_update=False, description=\"(510, 'R=160-191', 'G=224-255', 'B=224-255')\", …"
      ]
     },
     "metadata": {},
     "output_type": "display_data"
    },
    {
     "data": {
      "application/vnd.jupyter.widget-view+json": {
       "model_id": "c99d91dfa0dd4801824197e182beb7c4",
       "version_major": 2,
       "version_minor": 0
      },
      "text/plain": [
       "FloatSlider(value=1e-05, continuous_update=False, description=\"(511, 'R=192-223', 'G=224-255', 'B=224-255')\", …"
      ]
     },
     "metadata": {},
     "output_type": "display_data"
    },
    {
     "data": {
      "application/vnd.jupyter.widget-view+json": {
       "model_id": "4ac8151a278b47eaa972e740302b2095",
       "version_major": 2,
       "version_minor": 0
      },
      "text/plain": [
       "FloatSlider(value=1e-05, continuous_update=False, description=\"(512, 'R=224-255', 'G=224-255', 'B=224-255')\", …"
      ]
     },
     "metadata": {},
     "output_type": "display_data"
    },
    {
     "data": {
      "application/vnd.jupyter.widget-view+json": {
       "model_id": "00e5a28605ed4fa1b940a8898d6beab6",
       "version_major": 2,
       "version_minor": 0
      },
      "text/plain": [
       "Button(description='Apply Slider Weights', style=ButtonStyle())"
      ]
     },
     "metadata": {},
     "output_type": "display_data"
    },
    {
     "data": {
      "application/vnd.jupyter.widget-view+json": {
       "model_id": "33914cbd8f8641eca42a04bce26bf647",
       "version_major": 2,
       "version_minor": 0
      },
      "text/plain": [
       "Button(description='Reset Plot', style=ButtonStyle())"
      ]
     },
     "metadata": {},
     "output_type": "display_data"
    }
   ],
   "source": [
    "sliders = create_sliders(weights)"
   ]
  },
  {
   "cell_type": "markdown",
   "metadata": {},
   "source": [
    "## Dimension Reduction Plot\n",
    "This shows the HD data in 2D form, such that **proximity == similarity**, based on the current slider weights.  Distances between points in the plot approximately reflect their distances in the weighted HD data.  Thus points near each other have similar HD data values in the up-weighted dimensions, and points far away have very different HD data values in those dimensions.\n",
    "\n",
    "The color represents the **relevance** of each point to the current slider weights. Yellower points have larger values in up-weighted dimensions.\n",
    "\n",
    "Points can be **selected** to highlight in Green and view their details below.  Points can be **dragged** to specify a new projection for learning weights, see below. To reset the plot and clear the selections, click the **Reset** button above."
   ]
  },
  {
   "cell_type": "code",
   "execution_count": 18,
   "metadata": {
    "scrolled": false
   },
   "outputs": [
    {
     "data": {
      "application/javascript": [
       "/* Put everything inside the global mpl namespace */\n",
       "/* global mpl */\n",
       "window.mpl = {};\n",
       "\n",
       "mpl.get_websocket_type = function () {\n",
       "    if (typeof WebSocket !== 'undefined') {\n",
       "        return WebSocket;\n",
       "    } else if (typeof MozWebSocket !== 'undefined') {\n",
       "        return MozWebSocket;\n",
       "    } else {\n",
       "        alert(\n",
       "            'Your browser does not have WebSocket support. ' +\n",
       "                'Please try Chrome, Safari or Firefox ≥ 6. ' +\n",
       "                'Firefox 4 and 5 are also supported but you ' +\n",
       "                'have to enable WebSockets in about:config.'\n",
       "        );\n",
       "    }\n",
       "};\n",
       "\n",
       "mpl.figure = function (figure_id, websocket, ondownload, parent_element) {\n",
       "    this.id = figure_id;\n",
       "\n",
       "    this.ws = websocket;\n",
       "\n",
       "    this.supports_binary = this.ws.binaryType !== undefined;\n",
       "\n",
       "    if (!this.supports_binary) {\n",
       "        var warnings = document.getElementById('mpl-warnings');\n",
       "        if (warnings) {\n",
       "            warnings.style.display = 'block';\n",
       "            warnings.textContent =\n",
       "                'This browser does not support binary websocket messages. ' +\n",
       "                'Performance may be slow.';\n",
       "        }\n",
       "    }\n",
       "\n",
       "    this.imageObj = new Image();\n",
       "\n",
       "    this.context = undefined;\n",
       "    this.message = undefined;\n",
       "    this.canvas = undefined;\n",
       "    this.rubberband_canvas = undefined;\n",
       "    this.rubberband_context = undefined;\n",
       "    this.format_dropdown = undefined;\n",
       "\n",
       "    this.image_mode = 'full';\n",
       "\n",
       "    this.root = document.createElement('div');\n",
       "    this.root.setAttribute('style', 'display: inline-block');\n",
       "    this._root_extra_style(this.root);\n",
       "\n",
       "    parent_element.appendChild(this.root);\n",
       "\n",
       "    this._init_header(this);\n",
       "    this._init_canvas(this);\n",
       "    this._init_toolbar(this);\n",
       "\n",
       "    var fig = this;\n",
       "\n",
       "    this.waiting = false;\n",
       "\n",
       "    this.ws.onopen = function () {\n",
       "        fig.send_message('supports_binary', { value: fig.supports_binary });\n",
       "        fig.send_message('send_image_mode', {});\n",
       "        if (fig.ratio !== 1) {\n",
       "            fig.send_message('set_dpi_ratio', { dpi_ratio: fig.ratio });\n",
       "        }\n",
       "        fig.send_message('refresh', {});\n",
       "    };\n",
       "\n",
       "    this.imageObj.onload = function () {\n",
       "        if (fig.image_mode === 'full') {\n",
       "            // Full images could contain transparency (where diff images\n",
       "            // almost always do), so we need to clear the canvas so that\n",
       "            // there is no ghosting.\n",
       "            fig.context.clearRect(0, 0, fig.canvas.width, fig.canvas.height);\n",
       "        }\n",
       "        fig.context.drawImage(fig.imageObj, 0, 0);\n",
       "    };\n",
       "\n",
       "    this.imageObj.onunload = function () {\n",
       "        fig.ws.close();\n",
       "    };\n",
       "\n",
       "    this.ws.onmessage = this._make_on_message_function(this);\n",
       "\n",
       "    this.ondownload = ondownload;\n",
       "};\n",
       "\n",
       "mpl.figure.prototype._init_header = function () {\n",
       "    var titlebar = document.createElement('div');\n",
       "    titlebar.classList =\n",
       "        'ui-dialog-titlebar ui-widget-header ui-corner-all ui-helper-clearfix';\n",
       "    var titletext = document.createElement('div');\n",
       "    titletext.classList = 'ui-dialog-title';\n",
       "    titletext.setAttribute(\n",
       "        'style',\n",
       "        'width: 100%; text-align: center; padding: 3px;'\n",
       "    );\n",
       "    titlebar.appendChild(titletext);\n",
       "    this.root.appendChild(titlebar);\n",
       "    this.header = titletext;\n",
       "};\n",
       "\n",
       "mpl.figure.prototype._canvas_extra_style = function (_canvas_div) {};\n",
       "\n",
       "mpl.figure.prototype._root_extra_style = function (_canvas_div) {};\n",
       "\n",
       "mpl.figure.prototype._init_canvas = function () {\n",
       "    var fig = this;\n",
       "\n",
       "    var canvas_div = (this.canvas_div = document.createElement('div'));\n",
       "    canvas_div.setAttribute(\n",
       "        'style',\n",
       "        'border: 1px solid #ddd;' +\n",
       "            'box-sizing: content-box;' +\n",
       "            'clear: both;' +\n",
       "            'min-height: 1px;' +\n",
       "            'min-width: 1px;' +\n",
       "            'outline: 0;' +\n",
       "            'overflow: hidden;' +\n",
       "            'position: relative;' +\n",
       "            'resize: both;'\n",
       "    );\n",
       "\n",
       "    function on_keyboard_event_closure(name) {\n",
       "        return function (event) {\n",
       "            return fig.key_event(event, name);\n",
       "        };\n",
       "    }\n",
       "\n",
       "    canvas_div.addEventListener(\n",
       "        'keydown',\n",
       "        on_keyboard_event_closure('key_press')\n",
       "    );\n",
       "    canvas_div.addEventListener(\n",
       "        'keyup',\n",
       "        on_keyboard_event_closure('key_release')\n",
       "    );\n",
       "\n",
       "    this._canvas_extra_style(canvas_div);\n",
       "    this.root.appendChild(canvas_div);\n",
       "\n",
       "    var canvas = (this.canvas = document.createElement('canvas'));\n",
       "    canvas.classList.add('mpl-canvas');\n",
       "    canvas.setAttribute('style', 'box-sizing: content-box;');\n",
       "\n",
       "    this.context = canvas.getContext('2d');\n",
       "\n",
       "    var backingStore =\n",
       "        this.context.backingStorePixelRatio ||\n",
       "        this.context.webkitBackingStorePixelRatio ||\n",
       "        this.context.mozBackingStorePixelRatio ||\n",
       "        this.context.msBackingStorePixelRatio ||\n",
       "        this.context.oBackingStorePixelRatio ||\n",
       "        this.context.backingStorePixelRatio ||\n",
       "        1;\n",
       "\n",
       "    this.ratio = (window.devicePixelRatio || 1) / backingStore;\n",
       "    if (this.ratio !== 1) {\n",
       "        fig.send_message('set_dpi_ratio', { dpi_ratio: this.ratio });\n",
       "    }\n",
       "\n",
       "    var rubberband_canvas = (this.rubberband_canvas = document.createElement(\n",
       "        'canvas'\n",
       "    ));\n",
       "    rubberband_canvas.setAttribute(\n",
       "        'style',\n",
       "        'box-sizing: content-box; position: absolute; left: 0; top: 0; z-index: 1;'\n",
       "    );\n",
       "\n",
       "    var resizeObserver = new ResizeObserver(function (entries) {\n",
       "        var nentries = entries.length;\n",
       "        for (var i = 0; i < nentries; i++) {\n",
       "            var entry = entries[i];\n",
       "            var width, height;\n",
       "            if (entry.contentBoxSize) {\n",
       "                if (entry.contentBoxSize instanceof Array) {\n",
       "                    // Chrome 84 implements new version of spec.\n",
       "                    width = entry.contentBoxSize[0].inlineSize;\n",
       "                    height = entry.contentBoxSize[0].blockSize;\n",
       "                } else {\n",
       "                    // Firefox implements old version of spec.\n",
       "                    width = entry.contentBoxSize.inlineSize;\n",
       "                    height = entry.contentBoxSize.blockSize;\n",
       "                }\n",
       "            } else {\n",
       "                // Chrome <84 implements even older version of spec.\n",
       "                width = entry.contentRect.width;\n",
       "                height = entry.contentRect.height;\n",
       "            }\n",
       "\n",
       "            // Keep the size of the canvas and rubber band canvas in sync with\n",
       "            // the canvas container.\n",
       "            if (entry.devicePixelContentBoxSize) {\n",
       "                // Chrome 84 implements new version of spec.\n",
       "                canvas.setAttribute(\n",
       "                    'width',\n",
       "                    entry.devicePixelContentBoxSize[0].inlineSize\n",
       "                );\n",
       "                canvas.setAttribute(\n",
       "                    'height',\n",
       "                    entry.devicePixelContentBoxSize[0].blockSize\n",
       "                );\n",
       "            } else {\n",
       "                canvas.setAttribute('width', width * fig.ratio);\n",
       "                canvas.setAttribute('height', height * fig.ratio);\n",
       "            }\n",
       "            canvas.setAttribute(\n",
       "                'style',\n",
       "                'width: ' + width + 'px; height: ' + height + 'px;'\n",
       "            );\n",
       "\n",
       "            rubberband_canvas.setAttribute('width', width);\n",
       "            rubberband_canvas.setAttribute('height', height);\n",
       "\n",
       "            // And update the size in Python. We ignore the initial 0/0 size\n",
       "            // that occurs as the element is placed into the DOM, which should\n",
       "            // otherwise not happen due to the minimum size styling.\n",
       "            if (width != 0 && height != 0) {\n",
       "                fig.request_resize(width, height);\n",
       "            }\n",
       "        }\n",
       "    });\n",
       "    resizeObserver.observe(canvas_div);\n",
       "\n",
       "    function on_mouse_event_closure(name) {\n",
       "        return function (event) {\n",
       "            return fig.mouse_event(event, name);\n",
       "        };\n",
       "    }\n",
       "\n",
       "    rubberband_canvas.addEventListener(\n",
       "        'mousedown',\n",
       "        on_mouse_event_closure('button_press')\n",
       "    );\n",
       "    rubberband_canvas.addEventListener(\n",
       "        'mouseup',\n",
       "        on_mouse_event_closure('button_release')\n",
       "    );\n",
       "    // Throttle sequential mouse events to 1 every 20ms.\n",
       "    rubberband_canvas.addEventListener(\n",
       "        'mousemove',\n",
       "        on_mouse_event_closure('motion_notify')\n",
       "    );\n",
       "\n",
       "    rubberband_canvas.addEventListener(\n",
       "        'mouseenter',\n",
       "        on_mouse_event_closure('figure_enter')\n",
       "    );\n",
       "    rubberband_canvas.addEventListener(\n",
       "        'mouseleave',\n",
       "        on_mouse_event_closure('figure_leave')\n",
       "    );\n",
       "\n",
       "    canvas_div.addEventListener('wheel', function (event) {\n",
       "        if (event.deltaY < 0) {\n",
       "            event.step = 1;\n",
       "        } else {\n",
       "            event.step = -1;\n",
       "        }\n",
       "        on_mouse_event_closure('scroll')(event);\n",
       "    });\n",
       "\n",
       "    canvas_div.appendChild(canvas);\n",
       "    canvas_div.appendChild(rubberband_canvas);\n",
       "\n",
       "    this.rubberband_context = rubberband_canvas.getContext('2d');\n",
       "    this.rubberband_context.strokeStyle = '#000000';\n",
       "\n",
       "    this._resize_canvas = function (width, height, forward) {\n",
       "        if (forward) {\n",
       "            canvas_div.style.width = width + 'px';\n",
       "            canvas_div.style.height = height + 'px';\n",
       "        }\n",
       "    };\n",
       "\n",
       "    // Disable right mouse context menu.\n",
       "    this.rubberband_canvas.addEventListener('contextmenu', function (_e) {\n",
       "        event.preventDefault();\n",
       "        return false;\n",
       "    });\n",
       "\n",
       "    function set_focus() {\n",
       "        canvas.focus();\n",
       "        canvas_div.focus();\n",
       "    }\n",
       "\n",
       "    window.setTimeout(set_focus, 100);\n",
       "};\n",
       "\n",
       "mpl.figure.prototype._init_toolbar = function () {\n",
       "    var fig = this;\n",
       "\n",
       "    var toolbar = document.createElement('div');\n",
       "    toolbar.classList = 'mpl-toolbar';\n",
       "    this.root.appendChild(toolbar);\n",
       "\n",
       "    function on_click_closure(name) {\n",
       "        return function (_event) {\n",
       "            return fig.toolbar_button_onclick(name);\n",
       "        };\n",
       "    }\n",
       "\n",
       "    function on_mouseover_closure(tooltip) {\n",
       "        return function (event) {\n",
       "            if (!event.currentTarget.disabled) {\n",
       "                return fig.toolbar_button_onmouseover(tooltip);\n",
       "            }\n",
       "        };\n",
       "    }\n",
       "\n",
       "    fig.buttons = {};\n",
       "    var buttonGroup = document.createElement('div');\n",
       "    buttonGroup.classList = 'mpl-button-group';\n",
       "    for (var toolbar_ind in mpl.toolbar_items) {\n",
       "        var name = mpl.toolbar_items[toolbar_ind][0];\n",
       "        var tooltip = mpl.toolbar_items[toolbar_ind][1];\n",
       "        var image = mpl.toolbar_items[toolbar_ind][2];\n",
       "        var method_name = mpl.toolbar_items[toolbar_ind][3];\n",
       "\n",
       "        if (!name) {\n",
       "            /* Instead of a spacer, we start a new button group. */\n",
       "            if (buttonGroup.hasChildNodes()) {\n",
       "                toolbar.appendChild(buttonGroup);\n",
       "            }\n",
       "            buttonGroup = document.createElement('div');\n",
       "            buttonGroup.classList = 'mpl-button-group';\n",
       "            continue;\n",
       "        }\n",
       "\n",
       "        var button = (fig.buttons[name] = document.createElement('button'));\n",
       "        button.classList = 'mpl-widget';\n",
       "        button.setAttribute('role', 'button');\n",
       "        button.setAttribute('aria-disabled', 'false');\n",
       "        button.addEventListener('click', on_click_closure(method_name));\n",
       "        button.addEventListener('mouseover', on_mouseover_closure(tooltip));\n",
       "\n",
       "        var icon_img = document.createElement('img');\n",
       "        icon_img.src = '_images/' + image + '.png';\n",
       "        icon_img.srcset = '_images/' + image + '_large.png 2x';\n",
       "        icon_img.alt = tooltip;\n",
       "        button.appendChild(icon_img);\n",
       "\n",
       "        buttonGroup.appendChild(button);\n",
       "    }\n",
       "\n",
       "    if (buttonGroup.hasChildNodes()) {\n",
       "        toolbar.appendChild(buttonGroup);\n",
       "    }\n",
       "\n",
       "    var fmt_picker = document.createElement('select');\n",
       "    fmt_picker.classList = 'mpl-widget';\n",
       "    toolbar.appendChild(fmt_picker);\n",
       "    this.format_dropdown = fmt_picker;\n",
       "\n",
       "    for (var ind in mpl.extensions) {\n",
       "        var fmt = mpl.extensions[ind];\n",
       "        var option = document.createElement('option');\n",
       "        option.selected = fmt === mpl.default_extension;\n",
       "        option.innerHTML = fmt;\n",
       "        fmt_picker.appendChild(option);\n",
       "    }\n",
       "\n",
       "    var status_bar = document.createElement('span');\n",
       "    status_bar.classList = 'mpl-message';\n",
       "    toolbar.appendChild(status_bar);\n",
       "    this.message = status_bar;\n",
       "};\n",
       "\n",
       "mpl.figure.prototype.request_resize = function (x_pixels, y_pixels) {\n",
       "    // Request matplotlib to resize the figure. Matplotlib will then trigger a resize in the client,\n",
       "    // which will in turn request a refresh of the image.\n",
       "    this.send_message('resize', { width: x_pixels, height: y_pixels });\n",
       "};\n",
       "\n",
       "mpl.figure.prototype.send_message = function (type, properties) {\n",
       "    properties['type'] = type;\n",
       "    properties['figure_id'] = this.id;\n",
       "    this.ws.send(JSON.stringify(properties));\n",
       "};\n",
       "\n",
       "mpl.figure.prototype.send_draw_message = function () {\n",
       "    if (!this.waiting) {\n",
       "        this.waiting = true;\n",
       "        this.ws.send(JSON.stringify({ type: 'draw', figure_id: this.id }));\n",
       "    }\n",
       "};\n",
       "\n",
       "mpl.figure.prototype.handle_save = function (fig, _msg) {\n",
       "    var format_dropdown = fig.format_dropdown;\n",
       "    var format = format_dropdown.options[format_dropdown.selectedIndex].value;\n",
       "    fig.ondownload(fig, format);\n",
       "};\n",
       "\n",
       "mpl.figure.prototype.handle_resize = function (fig, msg) {\n",
       "    var size = msg['size'];\n",
       "    if (size[0] !== fig.canvas.width || size[1] !== fig.canvas.height) {\n",
       "        fig._resize_canvas(size[0], size[1], msg['forward']);\n",
       "        fig.send_message('refresh', {});\n",
       "    }\n",
       "};\n",
       "\n",
       "mpl.figure.prototype.handle_rubberband = function (fig, msg) {\n",
       "    var x0 = msg['x0'] / fig.ratio;\n",
       "    var y0 = (fig.canvas.height - msg['y0']) / fig.ratio;\n",
       "    var x1 = msg['x1'] / fig.ratio;\n",
       "    var y1 = (fig.canvas.height - msg['y1']) / fig.ratio;\n",
       "    x0 = Math.floor(x0) + 0.5;\n",
       "    y0 = Math.floor(y0) + 0.5;\n",
       "    x1 = Math.floor(x1) + 0.5;\n",
       "    y1 = Math.floor(y1) + 0.5;\n",
       "    var min_x = Math.min(x0, x1);\n",
       "    var min_y = Math.min(y0, y1);\n",
       "    var width = Math.abs(x1 - x0);\n",
       "    var height = Math.abs(y1 - y0);\n",
       "\n",
       "    fig.rubberband_context.clearRect(\n",
       "        0,\n",
       "        0,\n",
       "        fig.canvas.width / fig.ratio,\n",
       "        fig.canvas.height / fig.ratio\n",
       "    );\n",
       "\n",
       "    fig.rubberband_context.strokeRect(min_x, min_y, width, height);\n",
       "};\n",
       "\n",
       "mpl.figure.prototype.handle_figure_label = function (fig, msg) {\n",
       "    // Updates the figure title.\n",
       "    fig.header.textContent = msg['label'];\n",
       "};\n",
       "\n",
       "mpl.figure.prototype.handle_cursor = function (fig, msg) {\n",
       "    var cursor = msg['cursor'];\n",
       "    switch (cursor) {\n",
       "        case 0:\n",
       "            cursor = 'pointer';\n",
       "            break;\n",
       "        case 1:\n",
       "            cursor = 'default';\n",
       "            break;\n",
       "        case 2:\n",
       "            cursor = 'crosshair';\n",
       "            break;\n",
       "        case 3:\n",
       "            cursor = 'move';\n",
       "            break;\n",
       "    }\n",
       "    fig.rubberband_canvas.style.cursor = cursor;\n",
       "};\n",
       "\n",
       "mpl.figure.prototype.handle_message = function (fig, msg) {\n",
       "    fig.message.textContent = msg['message'];\n",
       "};\n",
       "\n",
       "mpl.figure.prototype.handle_draw = function (fig, _msg) {\n",
       "    // Request the server to send over a new figure.\n",
       "    fig.send_draw_message();\n",
       "};\n",
       "\n",
       "mpl.figure.prototype.handle_image_mode = function (fig, msg) {\n",
       "    fig.image_mode = msg['mode'];\n",
       "};\n",
       "\n",
       "mpl.figure.prototype.handle_history_buttons = function (fig, msg) {\n",
       "    for (var key in msg) {\n",
       "        if (!(key in fig.buttons)) {\n",
       "            continue;\n",
       "        }\n",
       "        fig.buttons[key].disabled = !msg[key];\n",
       "        fig.buttons[key].setAttribute('aria-disabled', !msg[key]);\n",
       "    }\n",
       "};\n",
       "\n",
       "mpl.figure.prototype.handle_navigate_mode = function (fig, msg) {\n",
       "    if (msg['mode'] === 'PAN') {\n",
       "        fig.buttons['Pan'].classList.add('active');\n",
       "        fig.buttons['Zoom'].classList.remove('active');\n",
       "    } else if (msg['mode'] === 'ZOOM') {\n",
       "        fig.buttons['Pan'].classList.remove('active');\n",
       "        fig.buttons['Zoom'].classList.add('active');\n",
       "    } else {\n",
       "        fig.buttons['Pan'].classList.remove('active');\n",
       "        fig.buttons['Zoom'].classList.remove('active');\n",
       "    }\n",
       "};\n",
       "\n",
       "mpl.figure.prototype.updated_canvas_event = function () {\n",
       "    // Called whenever the canvas gets updated.\n",
       "    this.send_message('ack', {});\n",
       "};\n",
       "\n",
       "// A function to construct a web socket function for onmessage handling.\n",
       "// Called in the figure constructor.\n",
       "mpl.figure.prototype._make_on_message_function = function (fig) {\n",
       "    return function socket_on_message(evt) {\n",
       "        if (evt.data instanceof Blob) {\n",
       "            /* FIXME: We get \"Resource interpreted as Image but\n",
       "             * transferred with MIME type text/plain:\" errors on\n",
       "             * Chrome.  But how to set the MIME type?  It doesn't seem\n",
       "             * to be part of the websocket stream */\n",
       "            evt.data.type = 'image/png';\n",
       "\n",
       "            /* Free the memory for the previous frames */\n",
       "            if (fig.imageObj.src) {\n",
       "                (window.URL || window.webkitURL).revokeObjectURL(\n",
       "                    fig.imageObj.src\n",
       "                );\n",
       "            }\n",
       "\n",
       "            fig.imageObj.src = (window.URL || window.webkitURL).createObjectURL(\n",
       "                evt.data\n",
       "            );\n",
       "            fig.updated_canvas_event();\n",
       "            fig.waiting = false;\n",
       "            return;\n",
       "        } else if (\n",
       "            typeof evt.data === 'string' &&\n",
       "            evt.data.slice(0, 21) === 'data:image/png;base64'\n",
       "        ) {\n",
       "            fig.imageObj.src = evt.data;\n",
       "            fig.updated_canvas_event();\n",
       "            fig.waiting = false;\n",
       "            return;\n",
       "        }\n",
       "\n",
       "        var msg = JSON.parse(evt.data);\n",
       "        var msg_type = msg['type'];\n",
       "\n",
       "        // Call the  \"handle_{type}\" callback, which takes\n",
       "        // the figure and JSON message as its only arguments.\n",
       "        try {\n",
       "            var callback = fig['handle_' + msg_type];\n",
       "        } catch (e) {\n",
       "            console.log(\n",
       "                \"No handler for the '\" + msg_type + \"' message type: \",\n",
       "                msg\n",
       "            );\n",
       "            return;\n",
       "        }\n",
       "\n",
       "        if (callback) {\n",
       "            try {\n",
       "                // console.log(\"Handling '\" + msg_type + \"' message: \", msg);\n",
       "                callback(fig, msg);\n",
       "            } catch (e) {\n",
       "                console.log(\n",
       "                    \"Exception inside the 'handler_\" + msg_type + \"' callback:\",\n",
       "                    e,\n",
       "                    e.stack,\n",
       "                    msg\n",
       "                );\n",
       "            }\n",
       "        }\n",
       "    };\n",
       "};\n",
       "\n",
       "// from http://stackoverflow.com/questions/1114465/getting-mouse-location-in-canvas\n",
       "mpl.findpos = function (e) {\n",
       "    //this section is from http://www.quirksmode.org/js/events_properties.html\n",
       "    var targ;\n",
       "    if (!e) {\n",
       "        e = window.event;\n",
       "    }\n",
       "    if (e.target) {\n",
       "        targ = e.target;\n",
       "    } else if (e.srcElement) {\n",
       "        targ = e.srcElement;\n",
       "    }\n",
       "    if (targ.nodeType === 3) {\n",
       "        // defeat Safari bug\n",
       "        targ = targ.parentNode;\n",
       "    }\n",
       "\n",
       "    // pageX,Y are the mouse positions relative to the document\n",
       "    var boundingRect = targ.getBoundingClientRect();\n",
       "    var x = e.pageX - (boundingRect.left + document.body.scrollLeft);\n",
       "    var y = e.pageY - (boundingRect.top + document.body.scrollTop);\n",
       "\n",
       "    return { x: x, y: y };\n",
       "};\n",
       "\n",
       "/*\n",
       " * return a copy of an object with only non-object keys\n",
       " * we need this to avoid circular references\n",
       " * http://stackoverflow.com/a/24161582/3208463\n",
       " */\n",
       "function simpleKeys(original) {\n",
       "    return Object.keys(original).reduce(function (obj, key) {\n",
       "        if (typeof original[key] !== 'object') {\n",
       "            obj[key] = original[key];\n",
       "        }\n",
       "        return obj;\n",
       "    }, {});\n",
       "}\n",
       "\n",
       "mpl.figure.prototype.mouse_event = function (event, name) {\n",
       "    var canvas_pos = mpl.findpos(event);\n",
       "\n",
       "    if (name === 'button_press') {\n",
       "        this.canvas.focus();\n",
       "        this.canvas_div.focus();\n",
       "    }\n",
       "\n",
       "    var x = canvas_pos.x * this.ratio;\n",
       "    var y = canvas_pos.y * this.ratio;\n",
       "\n",
       "    this.send_message(name, {\n",
       "        x: x,\n",
       "        y: y,\n",
       "        button: event.button,\n",
       "        step: event.step,\n",
       "        guiEvent: simpleKeys(event),\n",
       "    });\n",
       "\n",
       "    /* This prevents the web browser from automatically changing to\n",
       "     * the text insertion cursor when the button is pressed.  We want\n",
       "     * to control all of the cursor setting manually through the\n",
       "     * 'cursor' event from matplotlib */\n",
       "    event.preventDefault();\n",
       "    return false;\n",
       "};\n",
       "\n",
       "mpl.figure.prototype._key_event_extra = function (_event, _name) {\n",
       "    // Handle any extra behaviour associated with a key event\n",
       "};\n",
       "\n",
       "mpl.figure.prototype.key_event = function (event, name) {\n",
       "    // Prevent repeat events\n",
       "    if (name === 'key_press') {\n",
       "        if (event.which === this._key) {\n",
       "            return;\n",
       "        } else {\n",
       "            this._key = event.which;\n",
       "        }\n",
       "    }\n",
       "    if (name === 'key_release') {\n",
       "        this._key = null;\n",
       "    }\n",
       "\n",
       "    var value = '';\n",
       "    if (event.ctrlKey && event.which !== 17) {\n",
       "        value += 'ctrl+';\n",
       "    }\n",
       "    if (event.altKey && event.which !== 18) {\n",
       "        value += 'alt+';\n",
       "    }\n",
       "    if (event.shiftKey && event.which !== 16) {\n",
       "        value += 'shift+';\n",
       "    }\n",
       "\n",
       "    value += 'k';\n",
       "    value += event.which.toString();\n",
       "\n",
       "    this._key_event_extra(event, name);\n",
       "\n",
       "    this.send_message(name, { key: value, guiEvent: simpleKeys(event) });\n",
       "    return false;\n",
       "};\n",
       "\n",
       "mpl.figure.prototype.toolbar_button_onclick = function (name) {\n",
       "    if (name === 'download') {\n",
       "        this.handle_save(this, null);\n",
       "    } else {\n",
       "        this.send_message('toolbar_button', { name: name });\n",
       "    }\n",
       "};\n",
       "\n",
       "mpl.figure.prototype.toolbar_button_onmouseover = function (tooltip) {\n",
       "    this.message.textContent = tooltip;\n",
       "};\n",
       "mpl.toolbar_items = [[\"Home\", \"Reset original view\", \"fa fa-home icon-home\", \"home\"], [\"Back\", \"Back to previous view\", \"fa fa-arrow-left icon-arrow-left\", \"back\"], [\"Forward\", \"Forward to next view\", \"fa fa-arrow-right icon-arrow-right\", \"forward\"], [\"\", \"\", \"\", \"\"], [\"Pan\", \"Left button pans, Right button zooms\\nx/y fixes axis, CTRL fixes aspect\", \"fa fa-arrows icon-move\", \"pan\"], [\"Zoom\", \"Zoom to rectangle\\nx/y fixes axis, CTRL fixes aspect\", \"fa fa-square-o icon-check-empty\", \"zoom\"], [\"\", \"\", \"\", \"\"], [\"Download\", \"Download plot\", \"fa fa-floppy-o icon-save\", \"download\"]];\n",
       "\n",
       "mpl.extensions = [\"eps\", \"jpeg\", \"pdf\", \"png\", \"ps\", \"raw\", \"svg\", \"tif\"];\n",
       "\n",
       "mpl.default_extension = \"png\";/* global mpl */\n",
       "\n",
       "var comm_websocket_adapter = function (comm) {\n",
       "    // Create a \"websocket\"-like object which calls the given IPython comm\n",
       "    // object with the appropriate methods. Currently this is a non binary\n",
       "    // socket, so there is still some room for performance tuning.\n",
       "    var ws = {};\n",
       "\n",
       "    ws.close = function () {\n",
       "        comm.close();\n",
       "    };\n",
       "    ws.send = function (m) {\n",
       "        //console.log('sending', m);\n",
       "        comm.send(m);\n",
       "    };\n",
       "    // Register the callback with on_msg.\n",
       "    comm.on_msg(function (msg) {\n",
       "        //console.log('receiving', msg['content']['data'], msg);\n",
       "        // Pass the mpl event to the overridden (by mpl) onmessage function.\n",
       "        ws.onmessage(msg['content']['data']);\n",
       "    });\n",
       "    return ws;\n",
       "};\n",
       "\n",
       "mpl.mpl_figure_comm = function (comm, msg) {\n",
       "    // This is the function which gets called when the mpl process\n",
       "    // starts-up an IPython Comm through the \"matplotlib\" channel.\n",
       "\n",
       "    var id = msg.content.data.id;\n",
       "    // Get hold of the div created by the display call when the Comm\n",
       "    // socket was opened in Python.\n",
       "    var element = document.getElementById(id);\n",
       "    var ws_proxy = comm_websocket_adapter(comm);\n",
       "\n",
       "    function ondownload(figure, _format) {\n",
       "        window.open(figure.canvas.toDataURL());\n",
       "    }\n",
       "\n",
       "    var fig = new mpl.figure(id, ws_proxy, ondownload, element);\n",
       "\n",
       "    // Call onopen now - mpl needs it, as it is assuming we've passed it a real\n",
       "    // web socket which is closed, not our websocket->open comm proxy.\n",
       "    ws_proxy.onopen();\n",
       "\n",
       "    fig.parent_element = element;\n",
       "    fig.cell_info = mpl.find_output_cell(\"<div id='\" + id + \"'></div>\");\n",
       "    if (!fig.cell_info) {\n",
       "        console.error('Failed to find cell for figure', id, fig);\n",
       "        return;\n",
       "    }\n",
       "    fig.cell_info[0].output_area.element.one(\n",
       "        'cleared',\n",
       "        { fig: fig },\n",
       "        fig._remove_fig_handler\n",
       "    );\n",
       "};\n",
       "\n",
       "mpl.figure.prototype.handle_close = function (fig, msg) {\n",
       "    var width = fig.canvas.width / fig.ratio;\n",
       "    fig.cell_info[0].output_area.element.off(\n",
       "        'cleared',\n",
       "        fig._remove_fig_handler\n",
       "    );\n",
       "\n",
       "    // Update the output cell to use the data from the current canvas.\n",
       "    fig.push_to_output();\n",
       "    var dataURL = fig.canvas.toDataURL();\n",
       "    // Re-enable the keyboard manager in IPython - without this line, in FF,\n",
       "    // the notebook keyboard shortcuts fail.\n",
       "    IPython.keyboard_manager.enable();\n",
       "    fig.parent_element.innerHTML =\n",
       "        '<img src=\"' + dataURL + '\" width=\"' + width + '\">';\n",
       "    fig.close_ws(fig, msg);\n",
       "};\n",
       "\n",
       "mpl.figure.prototype.close_ws = function (fig, msg) {\n",
       "    fig.send_message('closing', msg);\n",
       "    // fig.ws.close()\n",
       "};\n",
       "\n",
       "mpl.figure.prototype.push_to_output = function (_remove_interactive) {\n",
       "    // Turn the data on the canvas into data in the output cell.\n",
       "    var width = this.canvas.width / this.ratio;\n",
       "    var dataURL = this.canvas.toDataURL();\n",
       "    this.cell_info[1]['text/html'] =\n",
       "        '<img src=\"' + dataURL + '\" width=\"' + width + '\">';\n",
       "};\n",
       "\n",
       "mpl.figure.prototype.updated_canvas_event = function () {\n",
       "    // Tell IPython that the notebook contents must change.\n",
       "    IPython.notebook.set_dirty(true);\n",
       "    this.send_message('ack', {});\n",
       "    var fig = this;\n",
       "    // Wait a second, then push the new image to the DOM so\n",
       "    // that it is saved nicely (might be nice to debounce this).\n",
       "    setTimeout(function () {\n",
       "        fig.push_to_output();\n",
       "    }, 1000);\n",
       "};\n",
       "\n",
       "mpl.figure.prototype._init_toolbar = function () {\n",
       "    var fig = this;\n",
       "\n",
       "    var toolbar = document.createElement('div');\n",
       "    toolbar.classList = 'btn-toolbar';\n",
       "    this.root.appendChild(toolbar);\n",
       "\n",
       "    function on_click_closure(name) {\n",
       "        return function (_event) {\n",
       "            return fig.toolbar_button_onclick(name);\n",
       "        };\n",
       "    }\n",
       "\n",
       "    function on_mouseover_closure(tooltip) {\n",
       "        return function (event) {\n",
       "            if (!event.currentTarget.disabled) {\n",
       "                return fig.toolbar_button_onmouseover(tooltip);\n",
       "            }\n",
       "        };\n",
       "    }\n",
       "\n",
       "    fig.buttons = {};\n",
       "    var buttonGroup = document.createElement('div');\n",
       "    buttonGroup.classList = 'btn-group';\n",
       "    var button;\n",
       "    for (var toolbar_ind in mpl.toolbar_items) {\n",
       "        var name = mpl.toolbar_items[toolbar_ind][0];\n",
       "        var tooltip = mpl.toolbar_items[toolbar_ind][1];\n",
       "        var image = mpl.toolbar_items[toolbar_ind][2];\n",
       "        var method_name = mpl.toolbar_items[toolbar_ind][3];\n",
       "\n",
       "        if (!name) {\n",
       "            /* Instead of a spacer, we start a new button group. */\n",
       "            if (buttonGroup.hasChildNodes()) {\n",
       "                toolbar.appendChild(buttonGroup);\n",
       "            }\n",
       "            buttonGroup = document.createElement('div');\n",
       "            buttonGroup.classList = 'btn-group';\n",
       "            continue;\n",
       "        }\n",
       "\n",
       "        button = fig.buttons[name] = document.createElement('button');\n",
       "        button.classList = 'btn btn-default';\n",
       "        button.href = '#';\n",
       "        button.title = name;\n",
       "        button.innerHTML = '<i class=\"fa ' + image + ' fa-lg\"></i>';\n",
       "        button.addEventListener('click', on_click_closure(method_name));\n",
       "        button.addEventListener('mouseover', on_mouseover_closure(tooltip));\n",
       "        buttonGroup.appendChild(button);\n",
       "    }\n",
       "\n",
       "    if (buttonGroup.hasChildNodes()) {\n",
       "        toolbar.appendChild(buttonGroup);\n",
       "    }\n",
       "\n",
       "    // Add the status bar.\n",
       "    var status_bar = document.createElement('span');\n",
       "    status_bar.classList = 'mpl-message pull-right';\n",
       "    toolbar.appendChild(status_bar);\n",
       "    this.message = status_bar;\n",
       "\n",
       "    // Add the close button to the window.\n",
       "    var buttongrp = document.createElement('div');\n",
       "    buttongrp.classList = 'btn-group inline pull-right';\n",
       "    button = document.createElement('button');\n",
       "    button.classList = 'btn btn-mini btn-primary';\n",
       "    button.href = '#';\n",
       "    button.title = 'Stop Interaction';\n",
       "    button.innerHTML = '<i class=\"fa fa-power-off icon-remove icon-large\"></i>';\n",
       "    button.addEventListener('click', function (_evt) {\n",
       "        fig.handle_close(fig, {});\n",
       "    });\n",
       "    button.addEventListener(\n",
       "        'mouseover',\n",
       "        on_mouseover_closure('Stop Interaction')\n",
       "    );\n",
       "    buttongrp.appendChild(button);\n",
       "    var titlebar = this.root.querySelector('.ui-dialog-titlebar');\n",
       "    titlebar.insertBefore(buttongrp, titlebar.firstChild);\n",
       "};\n",
       "\n",
       "mpl.figure.prototype._remove_fig_handler = function (event) {\n",
       "    var fig = event.data.fig;\n",
       "    fig.close_ws(fig, {});\n",
       "};\n",
       "\n",
       "mpl.figure.prototype._root_extra_style = function (el) {\n",
       "    el.style.boxSizing = 'content-box'; // override notebook setting of border-box.\n",
       "};\n",
       "\n",
       "mpl.figure.prototype._canvas_extra_style = function (el) {\n",
       "    // this is important to make the div 'focusable\n",
       "    el.setAttribute('tabindex', 0);\n",
       "    // reach out to IPython and tell the keyboard manager to turn it's self\n",
       "    // off when our div gets focus\n",
       "\n",
       "    // location in version 3\n",
       "    if (IPython.notebook.keyboard_manager) {\n",
       "        IPython.notebook.keyboard_manager.register_events(el);\n",
       "    } else {\n",
       "        // location in version 2\n",
       "        IPython.keyboard_manager.register_events(el);\n",
       "    }\n",
       "};\n",
       "\n",
       "mpl.figure.prototype._key_event_extra = function (event, _name) {\n",
       "    var manager = IPython.notebook.keyboard_manager;\n",
       "    if (!manager) {\n",
       "        manager = IPython.keyboard_manager;\n",
       "    }\n",
       "\n",
       "    // Check for shift+enter\n",
       "    if (event.shiftKey && event.which === 13) {\n",
       "        this.canvas_div.blur();\n",
       "        // select the cell after this one\n",
       "        var index = IPython.notebook.find_cell_index(this.cell_info[0]);\n",
       "        IPython.notebook.select(index + 1);\n",
       "    }\n",
       "};\n",
       "\n",
       "mpl.figure.prototype.handle_save = function (fig, _msg) {\n",
       "    fig.ondownload(fig, null);\n",
       "};\n",
       "\n",
       "mpl.find_output_cell = function (html_output) {\n",
       "    // Return the cell and output element which can be found *uniquely* in the notebook.\n",
       "    // Note - this is a bit hacky, but it is done because the \"notebook_saving.Notebook\"\n",
       "    // IPython event is triggered only after the cells have been serialised, which for\n",
       "    // our purposes (turning an active figure into a static one), is too late.\n",
       "    var cells = IPython.notebook.get_cells();\n",
       "    var ncells = cells.length;\n",
       "    for (var i = 0; i < ncells; i++) {\n",
       "        var cell = cells[i];\n",
       "        if (cell.cell_type === 'code') {\n",
       "            for (var j = 0; j < cell.output_area.outputs.length; j++) {\n",
       "                var data = cell.output_area.outputs[j];\n",
       "                if (data.data) {\n",
       "                    // IPython >= 3 moved mimebundle to data attribute of output\n",
       "                    data = data.data;\n",
       "                }\n",
       "                if (data['text/html'] === html_output) {\n",
       "                    return [cell, data, j];\n",
       "                }\n",
       "            }\n",
       "        }\n",
       "    }\n",
       "};\n",
       "\n",
       "// Register the function which deals with the matplotlib target/channel.\n",
       "// The kernel may be null if the page has been refreshed.\n",
       "if (IPython.notebook.kernel !== null) {\n",
       "    IPython.notebook.kernel.comm_manager.register_target(\n",
       "        'matplotlib',\n",
       "        mpl.mpl_figure_comm\n",
       "    );\n",
       "}\n"
      ],
      "text/plain": [
       "<IPython.core.display.Javascript object>"
      ]
     },
     "metadata": {},
     "output_type": "display_data"
    },
    {
     "data": {
      "text/html": [
       "<img src=\"data:image/png;base64,iVBORw0KGgoAAAANSUhEUgAABOIAAARGCAYAAACVCx++AAAgAElEQVR4XuzdCXRW1b338d95khCQSQaZ5xkZRLSKgggq2mvF4ixaK6wXJ6iiWAegvSoV50qRqqBc0feFa62gqGhRK0OZtIAgo1CQeZ4lBDM9513/HRNIeJKc5AkZv3stl5rsc84+n7PLvf31v/f2fN/3RUMAAQQQQAABBBBAAAEEEEAAAQQQQACB0yrgEcSdVl9ujgACCCCAAAIIIIAAAggggAACCCCAgBMgiGMiIIAAAggggAACCCCAAAIIIIAAAgggUAQCBHFFgMwjEEAAAQQQQAABBBBAAAEEEEAAAQQQIIhjDiCAAAIIIIAAAggggAACCCCAAAIIIFAEAgRxRYDMIxBAAAEEEEAAAQQQQAABBBBAAAEEECCIYw4ggAACCCCAAAIIIIAAAggggAACCCBQBAIEcUWAzCMQQAABBBBAAAEEEEAAAQQQQAABBBAgiGMOIIAAAggggAACCCCAAAIIIIAAAgggUAQCBHFFgMwjEEAAAQQQQAABBBBAAAEEEEAAAQQQIIhjDiCAAAIIIIAAAggggAACCCCAAAIIIFAEAgRxRYDMIxBAAAEEEEAAAQQQQAABBBBAAAEEECCIYw4ggAACCCCAAAIIIIAAAggggAACCCBQBAIEcUWAzCMQQAABBBBAAAEEEEAAAQQQQAABBBAgiGMOIIAAAggggAACCCCAAAIIIIAAAgggUAQCBHFFgMwjEEAAAQQQQAABBBBAAAEEEEAAAQQQIIhjDiCAAAIIIIAAAggggAACCCCAAAIIIFAEAgRxRYDMIxBAAAEEEEAAAQQQQAABBBBAAAEEECCIYw4ggAACCCCAAAIIIIAAAggggAACCCBQBAIEcUWAzCMQQAABBBBAAAEEEEAAAQQQQAABBBAgiGMOIIAAAggggAACCCCAAAIIIIAAAgggUAQCBHFFgMwjEEAAAQQQQAABBBBAAAEEEEAAAQQQKLYgbv/+/fr888/VrFkzVapUiS+BAAIIIIAAAggggAACCCCAAAIIlHiB48ePa/PmzbrqqqtUu3btEj9eBliyBIotiJsyZYp+85vflCwNRoMAAggggAACCCCAAAIIIIAAAggEEJg8ebJuv/32AD3pgsAJgWIL4hYsWKAePXrIJm779u35JggggAACCCCAAAIIIIAAAggggECJF1i7dq0rLJo/f766d+9e4sfLAEuWQLEFcd9++63OO+88LV26VF27di1ZKowGAQQQQAABBBBAAAEEEEAAAQQQiCBAnsG0iEaAIC4aPa5FAAEEEEAAAQQQQAABBBBAAIFyJUAQV64+d6G/LEFcoZNyQwQQQAABBBBAAAEEEEAAAQQQKKsCBHFl9csWzXsRxBWNM09BAAEEEEAAAQQQQAABBBBAAIEyIEAQVwY+YjG+AkFcMeLzaAQQQAABBBBAAAEEEEAAAQQQKF0CBHGl63uVtNESxJW0L8J4EEAAAQQQQAABBBBAAAEEEECgxAoQxJXYT1MqBkYQVyo+E4NEAAEEEEAAAQQQQAABBBBAAIGSIEAQVxK+QukdA0Fc6f12jBwBBBBAAAEEEEAAAQQQQAABBIpYgCCuiMHL2OMI4srYB+V1EEAAAQQQQAABBBBAAAEEEEDg9AkQxJ0+2/JwZ4K48vCVeUcEEEAAAQQQQAABBBBAAAEEECgUAYK4QmEstzchiCu3n54XRwABBBBAAAEEEEAAAQQQQACB/AoQxOVXjP4nCxDEMR8QQAABBBBAAAEEEEAAAQQQQACBgAIEcQGh6BZRgCCOiYEAAggggAACCCCAAAIIIIAAAggEFCCICwhFN4I45gACCCCAAAIIIIAAAggggAACCCAQjQBBXDR6XEtFHHMAAQQQQAABBBBAAAEEEEAAAQQQCChAEBcQim4RBQjimBgIIIAAAggggAACCCCAAAIIIIBAQAGCuIBQdCOIYw4ggAACCCCAAAIIIIAAAggggAAC0QgQxEWjx7VUxDEHEEAAAQQQQAABBBBAAAEEEEAAgYACBHEBoegWUYAgjomBAAIIIIAAAggggAACCCCAAAIIBBQgiAsIRTeCOOYAAggggAACCCCAAAIIIIAAAgggEI0AQVw0elxLRRxzAAEEEEAAAQQQQAABBBBAAAEEEAgoQBAXEIpuEQUI4pgYCCCAAAIIIIAAAggggAACCCCAQEABgriAUHQjiGMOIIAAAggggAACCCCAAAIIIIAAAtEIEMRFo8e1VMQxBxBAAAEEEEAAAQQQQAABBBBAAIGAAgRxAaHoFlGAII6JgQACCCCAAAIIIIAAAggggAACCAQUIIgLCEU3gjjmAAIIIIAAAggggAACCCCAAAIIIBCNAEFcNHpcS0UccwABBBBAAAEEEEAAAQQQQAABBBAIKEAQFxCKbhEFCOKYGAgggAACCCCAAAIIIIAAAggggEBAAYK4gFB0I4hjDiCAAAIIIIAAAggggAACCCCAAALRCBDERaPHtVTEMQcQQAABBBBAAAEEEEAAAQQQQACBgAIEcQGh6BZRgCCOiYEAAggggAACCCCAAAIIIIAAAggEFCCICwhFN4I45gACCCCAAAIIIIAAAggggAACCCAQjQBBXDR6XEtFHHMAAQQQQAABBBBAAAEEEEAAAQQQCChAEBcQim4RBQjimBgIIIAAAggggAACCCCAAAIIIIBAQAGCuIBQdCOIYw4ggAACCCCAAAIIIIAAAggggAAC0QgQxEWjx7VUxDEHEEAAAQQQQAABBBBAAAEEEEAAgYACBHEBoegWUYAgjomBAAIIIIAAAggggAACCCCAAAIIBBQgiAsIRTeCOOYAAggggAACCCCAAAIIIIAAAgggEI0AQVw0elxLRRxzAAEEEEAAAQQQQAABBBBAAAEEEAgoQBAXEIpuEQUI4pgYCCCAAAIIIIAAAggggAACCCCAQEABgriAUHQjiGMOIIAAAggggAACCCCAAAIIIIAAAtEIEMRFo8e1VMQxBxBAAAEEEEAAAQQQQAABBBBAAIGAAgRxAaHoFlGAII6JgQACCCCAAAIIIIAAAggggAACCAQUIIgLCEU3gjjmAAIIIIAAAggggAACCCCAAAIIIBCNAEFcNHpcS0UccwABBBBAAAEEEEAAAQQQKAYB3z+iNH+jfO1ROLxXvhIk+ZIqKuTVVsiro5DXRJ4ayvO8Yhghj0QAgUgCBHHMi2gECOKi0eNaBBBAAAEEEEAAAQQQQCCfAmF/u1LDS5Xmr1HY3ycpQb6S5ClGkidfaZJC8lRZnldDMWqhmFAXxXid5HnWh4YAAsUpQBBXnPql/9kEcaX/G/IGCCCAAAIIIIAAAgggUAoEfD9Jqf48pYYXKexvdSP2VEeeqkqKz1L15vupLqAL64Cko/JUzwVxcTFXKuSdVQreliEiUHYFCOLK7rctijcjiCsKZZ6BAAIIIIAAAggggAAC5Vog7B9Scto0pfmrXbAWUjN5XpVAJr6forC2S0pUyGulCqG+igmdHehaOiGAQOELEMQVvml5uiNBXHn62rwrAggggAACCCCAAAIIFLlAegj3N6X538pTtZ/3fAvlexxuTzltUozXUhVC1ykm1DHf9+ACBBCIXoAgLnrD8nwHgrjy/PV5dwQQQAABBBBAAAEEEDitAr6frOS0KUr1F8lTLYW8ulE9z/cTlab/KMZro/iY3yrkNYzqflyMAAL5FyCIy78ZV5wQIIhjNiCAAAIIIIAAAggggAACp0kgJTxHKWmfuNNQ7QTUwmi+f1RhbVaMd7HiY+6Q51UojNtyDwQQCChAEBcQim4RBQjimBgIIIAAAggggAACCCCAwGkQCPt7lJQ2UWH/B4XUQZ6X/+WoOQ0r7G9zv6oQc51iQz1Ow+iz3vLtt9/WwIEDtWnTJjVr1uy0P48HIFCSBQjiSvLXKfljI4gr+d+IESKAAAIIIIAAAggggEApFEgJf67ktOkKqZ48r/opb5CQkKS/vDxby77dpm+XbtPu3Uf1mzt+oTffuu2Uvtu2HdKzT3+h2bPXa/euo6pTt4q6X1JTw4ffpo7t/yjPi8u8Ji0tTS+++KImTpyobdu2qXHjxho0aJAeeeQRxcTEZPZbsmSJJk+erFmzZrmArXLlyurQoYOGDx+uK664IssYogniwuGwRo0apS5duqhfv35RfUl7H7vXV199pV27dqlu3bq69NJLNXLkSLVp0ybLvYM6RDUgLi6XAgRx5fKzF9pLE8QVGiU3QgABBBBAAAEEEEAAAQTSBXz/uJLSXlOav0YhdZTneafQbNl8UO1a/0n16ldT166N9NmnayIGcQcOHNP5XZ5XcnKa7rqnu5o1q6mNG/frzQnzZbdd/t2natrk8sz7Dx48WK+//rqrYLv44ou1cOFCTZo0SfbzV199NbPfjTfeqLlz5+qGG25Q165dlZCQ4PqtWrVKr732mu67777MvtEEcampqYqLi9Odd94pu09B24EDB9SxY0clJye7sTVv3lwbNmxw72q+K1euVKNGjfLtUNDxcF35FSCIK7/fvjDenCCuMBS5BwIIIIAAAggggAACCCBwkkBa+HslpU1yPwl59SPaJCWlav/+BDVseKZSU9NUtdLvIwZxE16frwcfmKapH/4f/eqaEyelfjhtiW67dYpe/PP/0e+HTXTPsDDqnHPO0f3336+xY8dmPnfo0KEaN26cvvvuO3Xq1Mn9fMGCBTr//PMVHx+f2e/48eOucm3fvn3au3evYmNj3e9KQhBn4eCQIUP08ccfq2/fvpljnjZtmixUHDNmjB588MF8OzBxEcivAEFcfsXof7IAQRzzAQEEEEAAAQQQQAABBBAoZIGU8Dwlp/3t52WpVfO8e25B3Isv/FP/PfJTzV/0kM47/8SBD18v2qzePcfqr6/doSH3/V/3DFui+cwzz+iHH35wFWMZzZaetmjRQiNGjNDo0aNzHc/DDz+sl19+WVu3bnXLWnMK4ubNm+eq0RYtWuSWiVapUsUtE7Xnt23b1l23efPmLOPIeLD1mzNnjvtXW0L6yiuvuGq89evXq1KlSurVq5e7T/v27TPH+txzz7lls4sXL3YBYkaz51vl34QJE3T33XcXmkOeH40O5VaAIK7cfvpCeXGCuEJh5CYIIIAAAggggAACCCCAwAmB5LRpSgnP+HlZ6ol92XIyyi2IW7J4qy65eIwuuLCpnn3+WjVtVlM/bNyvx37/kRISjmre1/erTo0R8rxKuuqqq1zV2+7du095lO2ndu6552rmzJm5fqr+/ftr6tSpOnz4sNs3zlqkijirurMKPAvNGjZs6II7C8N839fq1atVp04dHTt2TFaxZstSL7nkksygzMbSp08fd++bbrpJ06dP1x133KELLrhAtgTVqt/sWgvdWrdu7frZP9vvu3XrppdeeskdGmFLU4cNG+aW1drvq1Wr5voWhgPzGYGcBAjimBvRCBDERaPHtQgggAACCCCAAAIIIIBABIGktP9VSvgLxXpdAvnkFsTZDf7nzYV64o+fyfaLy2g9LmmpKX/vrdq1G6lizFCFvDPdstMKFSpo6dKlpzzX9oFLSUlx4VlObe3atW5p6jXXXOMCtIwWKYizoCwjqMvoZxVtNoYnn3zSVa9Zy22PuPfff18333yz7O+2vDSj7dixQ2effbauvvpqvfvuu5k/f+ONN1xVn4V1Ga1nz5764IMPVKtWrcyfResQ6KPRqdwKEMSV209fKC9OEFcojNwEAQQQQAABBBBAAAEEEDghkJQ2RSnhLwstiPto+gpNfGOhrujTTi1b1dbqVbs05s+zdHaHGvros4GqVe33Cnk11LJlS3eSqB3QkL3Z8k3b982qyCK1I0eO6KKLLnLLTK2qrkmTE8tg89ojzirSkpKSXDXcZZddplatWrlwLK8g7vrrr9fXX3+tFStWnDKk22+/XRZ42H51Ge3DDz/U+PHjXcWbPcNCRTsh1g5x+PzzzzODwWgcmMcI5CVAEJeXEL/PTYAgjvmBAAIIIIAAAggggAACCBSyQHLaVKWEP1VIneR5oTzvnltF3PQPV+iO297Ron8/rI6dGmTe659ffq++V0/Q089eqRGPfSjPO6PAFXF2SIOFW7a805au2h5uJ7dIQZwFdo8//rg++eQTHTp0KEv/3r17a9asWXkGcVb1ZlV4uTXbQy4UCrlg75ZbbnHhXMaBE3bdF1984cb+/PPP69FHH3W3oiIuzylHhygECOKiwONSEcQxCRBAAAEEEEAAAQQQQACBQhZICc9RctrfFVIDeV6VPO+eWxDX57K/utNVl614/JT71Kn5qHpc0k6ffZpeUVaQvdGSk5N17bXXuuDMwi5blpq9ZQ/iwuGwW8K6fft2PfTQQ+rQoYM7rMECMzu5tHbt2pmHMeS2NLVdu3ay59uS05za5ZdfLs/zXDho1XFr1qw5pavtDWdLVGfMmFFghzw/Eh0Q+FmAII6pEI0AQVw0elyLAAIIIIAAAggggAACCEQQSAuvVVLaW5JiFPLq5WmUWxDXucMz7voVq0dkuU84nKw6NUfq4u6d9MXn37rf2f5pzz77bOBTUy0ks73ZrKptypQpuvXWWyOONXsQZ0tXLYizk04HDBiQ5ZoGDRqoTZs2WU5FjY2NdQc22H1Obn379nX9Dh48qLi4uFydMk5iXbduXZZ+thy2atWq6tGjR+ZBFPl1yPMD0QGBkwQI4pgO0QgQxEWjx7UIIIAAAggggAACCCCAQAQB30/QT2mvKuz/RzFexzyNcgvibrr+f/TpjNWaNfcBdbuoWea9pk2drd/0/1jDRwzSM6PfdD+3gMxORrUTTceOHZvZd+jQoRo3bpyWL1+uzp07u59bVdttt92m9957z1Wk3XXXXTmOM3sQt2rVKrf886233tLAgQMzr3vnnXdcMGfVaxawZbSKFSu6ar2PPvooyzPsIAYbwxNPPOEOeMjebE87O33V2q9//WsXGC5YsMDtZZfR7IRXO3l15MiRevrpp/PtkOfHoQMC2QQI4pgS0QgQxEWjx7UIIIAAAggggAACCCCAQA4CyWmfKiX8sUJqJM+rGrHX66/O05EjxxUO+/rTUzPVpUtD/fq69KDsV9d0VKfODbRo4SZddcWrio+P1d33dleLFrW0atUuvTVxoWrWrKxvv12p+vWbZt7/3nvv1YQJE1xA1r17dxdcWeXaPffc4w46yGjDhg3TmDFjXGg2aNCgU8bXp08fd/CDtexBnFXSWRC3Z88ePfDAA6pfv76++eYbTZ8+XTVq1FDjxo2zBHFWrbZs2TI99dRTatSokQvX7FAHq2br37+/CwOvvPJK2TOtum3Lli2uus32kJs8ebIbgx1A0atXL8XHx2vw4MHuYAo7rMFCxJo1a7r716t3ovowqAMTGIH8ChDE5VeM/icLEMQxHxBAAAEEEEAAAQQQQACB0yAQ9re75alhf5tCOtvtc5a9tW01Slu3ZD3oIKPPGxP76447L3D/unLFTj0z+nN9u3Sbdu38UTVqxuuyyxvrT08/oVbN+2e5rYVkL7zwgiZOnOj2cLPgy4I2O8jAlohmNAu15s6dm+Obz5492wVf1iId1rBx40a3P9z8+fOVkpKibt26uRNMbY84aydXxFlgNmTIEC1dulSJiYlZKuYsjLMwzarrVq9e7cI5W95q4Z1V6dlprxnNTlcdNWqUlixZop07d7oAzsI7q4Rr2vREGGn9gzqchk/PLcu4AEFcGf/Ap/n1COJOMzC3RwABBBBAAAEEEEAAgfIrkBL+XMlpn8lTvELeiRNPoxHx/USFZUteL1R8zAB5XsVobse1CCCQTwGCuHyC0T2LAEEcEwIBBBBAAAEEEEAAAQQQOE0Cvv+TktLeVpq/WJ4aKOTViupJvp+kNK1TjNdcFWJuV4zXIqr7cTECCORfgCAu/2ZccUKAII7ZgAACCCCAAAIIIIAAAgicRoGwv1fJae8qzV8hT3XS/4qwTDWvIfj+MaVpo0JeE1UIXa3YUPqyVRoCCBStAEFc0XqXtacRxJW1L8r7IIAAAggggAACCCCAQIkTCPu7lZw2TWn+Gtu9TCG1kOfFBxqn74fla6d8HVTIa6G40FWKDf0i0LV0QgCBwhcgiCt80/J0R4K48vS1eVcEEEAAAQQQQAABBBAoNgHfT1BK+Cul+kvl+9slVVRIdSRVlefFZBmXHVggHZev/QpbAKeaCnlnq0LMla4ijoYAAsUnQBBXfPZl4ckEcWXhK/IOCCCAAAIIIIAAAgggUCoELGAL++uVGl6iNG2Q7++TdEySnaga9/PfUyWlSKokTzUU8horNnSOYrzzA1fRlQoMBolAKRUgiCulH66EDJsgroR8CIaBAAIIIIAAAggggAAC5UfAAjlfu5XmWxi3V2F/l3wlSPLlKU6eV18hr65CaqSQ10qeF1t+cHhTBEq4AEFcCf9AJXx4BHEl/AMxPAQQQAABBBBAAAEEECgfArYXnGR/xRToMIfyocRbIlD8AgRxxf8NSvMICOJK89dj7AgggAACCCCAAAIIIIAAAgggUKQCBHFFyl3mHkYQV+Y+KS+EAAIIIIAAAggggAACCCCAAAKnS4Ag7nTJlo/7EsSVj+/MWyKAAAIIIIAAAggggAACCCCAQCEIEMQVAmI5vgVBXDn++Lw6AggggAACCCCAAAIIIIAAAgjkT4AgLn9e9M4qQBDHjEAAAQQQQAABBBBAAAEEEEAAAQQCChDEBYSiW0QBgjgmBgIIIIAAAggggAACCCCAAAIIIBBQgCAuIBTdCOKYAwgggAACCCCAAAIIIIAAAggggEA0AgRx0ehxLRVxzAEEEEAAAQQQQAABBBBAAAEEEEAgoABBXEAoukUUIIhjYiCAAAIIIIAAAggggAACCCCAAAIBBQjiAkLRjSCOOYAAAggggAACCCCAAAIIIIAAAghEI0AQF40e11IRxxxAAAEEEEAAAQQQQAABBBBAAAEEAgoQxAWEoltEAYI4JgYCCCCAAAIIIIAAAggggAACCCAQUIAgLiAU3QjimAMIIIAAAggggAACCCCAAAIIIIBANAIEcdHocS0VccwBBBBAAAEEEEAAAQQQQAABBBBAIKAAQVxAKLpFFCCIY2IggAACCCCAAAIIIIAAAggggAACAQUI4gJC0Y0gjjmAAAIIIIAAAggggAACCCCAAAIIRCNAEBeNHtdSEcccQAABBBBAAAEEEEAAAQQQQAABBAIKEMQFhKJbRAGCOCYGAggggAACCCCAAAIIIIAAAgggEFCAIC4gFN0I4pgDCCCAAAIIIIAAAggggAACCCCAQDQCBHHR6HEtFXHMAQQQQAABBBBAAAEEEEAAAQQQQCCgAEFcQCi6RRQgiGNiIIAAAggggAACCCCAAAIIIIAAAgEFCOICQtGNII45gAACCCCAAAIIIIAAAggggAACCEQjQBAXjR7XUhHHHEAAAQQQQAABBBBAAAEEEEAAAQQCChDEBYSiW0QBgjgmBgIIIIAAAggggAACCCCAAAIIIBBQgCAuIBTdCOKYAwgggAACCCCAAAIIIIAAAggggEA0AgRx0ehxLRVxzAEEEEAAAQQQQAABBBBAAAEEEEAgoABBXEAoukUUIIhjYiCAAAIIIIAAAggggAACCCCAAAIBBQjiAkLRjSCOOYAAAggggAACCCCAAAIIIIAAAghEI0AQF40e11IRxxxAAAEEEEAAAQQQQAABBBBAAAEEAgoQxAWEoltEAYI4JgYCCCCAAAIIIIAAAggggAACCCAQUIAgLiAU3QjimAMIIIAAAggggAACCCCAAAIIIIBANAIEcdHocS0VccwBBBBAAAEEEEAAAQQQQAABBBBAIKAAQVxAKLpFFCCIY2IggAACCCCAAAIIIIAAAggggAACAQUI4gJC0Y0gjjmAAAIIIIAAAggggAACCCCAAAIIRCNAEBeNHtdSEcccQAABBBBAAAEEEEAAAQQQQAABBAIKEMQFhKJbRAGCOCYGAggggAACCCCAAAIIIIAAAgggEFCAIC4gFN0I4pgDCCCAAAIIIIAAAggggAACCCCAQDQCBHHR6HEtFXHMAQQQQAABBBBAAAEEEEAAAQQQQCCgAEFcQCi6RRQgiGNiIIAAAggggAACCCCAAAIIIIAAAgEFCOICQtGNII45gAACCCCAAAIIIIAAAggggAACCEQjQBAXjR7XUhHHHEAAAQQQQAABBBBAAAEEEEAAAQQCChDEBYSiW0QBgjgmBgIIIIAAAggggAACCCCAAAIIIBBQgCAuIBTdCOKYAwgggAACCCCAAAIIIIAAAggggEA0AgRx0ehxLRVxzAEEEEAAAQQQQAABBBBAAAEEEEAgoABBXEAoukUUIIhjYiCAAAIIIIAAAggggAACCCCAAAIBBQjiAkLRjSCOOYAAAggggAACCCCAAAIIIIAAAghEI0AQF40e11IRxxxAAAEEEEAAAQQQQAABBBBAAAEEAgoQxAWEoltEAYI4JgYCCCCAAAIIIIAAAggggAACCCAQUIAgLiAU3QjimAMIIIAAAggggAACCCCAAAIIIIBANAIEcdHocS0VccwBBBBAAAEEEEAAAQQQQAABBBBAIKAAQVxAKLpFFCCIY2IggAACCCCAAAIIIIAAAggggAACAQUI4gJC0Y0gjjmAAAIIIIAAAggggAACCCCAAAIIRCNAEBeNHtdSEcccQAABBBBAAAEEEEAAAQQQQAABBAIKEMQFhKJbRAGCOCYGAggggAACCCCAAAIIIIAAAgggEFCAIC4gFN0I4pgDCCCAAAIIIIAAAggggAACCCCAQDQCBHHR6HEtFXHMAQQQQAABBBBAAAEEEEAAAQQQQCCgAEFcQCi6RRQgiGNiIIAAAggggAACRSzgpyZKiXukpH1S0mHJT5W8GCm2slSxtlSpjlShhjzPK+KR8TgEEEAAAQQQyEuAIC4vIX6fmwBBHPMDAQQQQAABBEbNl/8AACAASURBVBAoAgHf96Vj26XDa+Qf/l5KPiJZIJf6k6SwJE8KVZDizpBiq0hVm8mr0UGq3lpeKK4IRsgjEEAAAQQQQCCIAEFcECX65CRAEMfcQAABBBBAAAEETrOAn5Ig7f6X/AMrpeN7JPlShTOlWAvdKqVXw1lQF06SUo9JyUfTQzqrjqvWXF6Dy+RVbnSaR8ntEUAAAQQQQCCIAEFcECX6EMQxBxBAAAEEEEAAgWIQ8I9ukr/9S+nHDZIfls5oIMVVznsk4RTp+F4p+bBUpam8uhdJdbrJ80J5X0sPBBBAAAEEEDhtAgRxp422XNyYirhy8Zl5SQQQQAABBBAoDgH/xw3yt8yQftwonVFPiq8l5XffN6uMO7rZVcd5dS+WGvQmjCuOj8kzEUAAAQQQ+FmAII6pEI0AQVw0elyLAAIIIIAAAgjkIOAf2yl/01TpyH+kqs2DVcHlpBlOS6+oi68hr+Hl6YEcDQEEEEAAAQSKRYAgrljYy8xDCeLKzKfkRRBAAAEEEECgpAj44RT5G/8m7VvslpUqrkr0Q7Mw7si69GWqLW+VV7lB9PfkDggggAACCCCQbwGCuHyTccFJAgRxTAcEEEAAAQQQQKCQBfzd8+Vv/1xSSCrMwCzlmJSwRTrrF+lhXCi2kEd+6u3efvttDRw4UJs2bVKzZs1O+/N4AAIIIIAAAiVdgCCupH+hkj0+griS/X0YHQIIIIAAAgiUMgE/9bj89W9Jh9dJZ7aXIhyukHDsJ/150pdaumarlq7aot37f9Rv+3XTpGcGnPK223Yd1J9e/1Szvl6nXfuOqG7NM9Sza3ONfOo5tT3vqiz909LS9OKLL2rixInatm2bGjdurEGDBumRRx5RTExMZt8lS5Zo8uTJmjVrlgvYKleurA4dOmj48OG64oorstwzmiAuHA5r1KhR6tKli/r16xfVl7T3sXt99dVX2rVrl+rWratLL71UI0eOVJs2bTLvvXbtWj311FNaunSp6xcKhdSiRQsNGDBA9913n+Lj46MaBxcjgAACCCBAEMcciEaAIC4aPa5FAAEEEEAAAQSyCfgHlsvf9IEUipMq1Ynos3nHfrXs8wfVP6u6unZook/nrIwYxB04nKDO145Sckqa7r21p5o1qq2Nm3dp/Hv/kheK08rV36tRo0aZzxg8eLBef/11V8F28cUXa+HChZo0aZLs56+++mpmvxtvvFFz587VDTfcoK5duyohIcH1W7VqlV577TUXWGW0aIK41NRUxcXF6c4775Tdp6DtwIED6tixo5KTk93Ymjdvrg0bNrh39TxPK1euzHT44osv9NJLL+nCCy90P7NwcsGCBXr33Xf1q1/9Sp988klBh8F1CCCAAAIIOAGCOCZCNAIEcdHocS0CCCCAAAIIIJA9iNs0Tf7O2enVcDksHU1KTtH+QwlqWLeGUlPTFN95SMQg7vV35+h3f/qbpr86WH17d8580rTpn+nmER/r5Ref1UO/f9z93MKoc845R/fff7/Gjh2b2Xfo0KEaN26cvvvuO3Xq1Mn93IKp888/P0t12PHjx13l2r59+7R3717FxqYvey0JQZyFg0OGDNHHH3+svn37nnCYNk0WKo4ZM0YPPvhgrnPxd7/7nQsjv//+e7Vt25Z5iwACCCCAQIEFCOIKTMeFkgjimAYIIIAAAggggEAhCfjhVPlrx0s/bpTObBforrkFcc+/OVMjxkzXN38frvM7Ns2836JvlqjHwIka/5endc/Qke7ntkTzmWee0Q8//OAqxjKaLT21pZkjRozQ6NGjcx3Tww8/rJdffllbt251y1pzCuLmzZvnqtEWLVrkln9WqVLFLRO152eEXJs3b84yjowHW785c+a4f7VqtVdeecVV461fv16VKlVSr1693H3at2+fOdbnnnvOLZtdvHixCxAzmj3fKv8mTJigu+++O9d3syo5W6L79ddfu2o5GgIIIIAAAgUVIIgrqBzXmQBBHPMAAQQQQAABBBAoJAH/+F75696SUhKkKulBVl4ttyBu8crN6nbLc+p2TnO98MgNatawljZs3affP/eeEo4d179nva/qLS9zj7jqqqtc1dvu3btPeaTtp3buuedq5syZuQ6nf//+mjp1qg4fPuz2jbMWqSLOqu6sAs9Cs4YNG7rgzsIw3/e1evVq1alTR8eOHdO0adPcstRLLrkkMyizsfTp08fd+6abbtL06dN1xx136IILLpAtQbXqN7vWQrfWrVu7fvbP9vtu3bq5Zad2aIQtTR02bJhbVmu/r1atWpZ3S0xMlP1l9/r3v//tKupsmaxdZ4EfDQEEEEAAgYIKEMQVVI7rTIAgjnmAAAIIIIAAAggUkoB/dLP8//zf9LtVqhvorrkFcXaDN/4+T3/4y3QdOHws8349z2upqU/3Ue3ON8tr0Nv93JadVqhQwR1SkL3ZPnApKSkuPMup2SEHtjT1mmuucQFaRosUxFm4lRHUZfSzijYbw5NPPumq16zltkfc+++/r5tvvln2d1temtF27Nihs88+W1dffbXb1y2jvfHGG66qz8K6jNazZ0998MEHqlWr1imvZeOwQxsymlXB2T06dz6xxDfQB6ITAggggAAC2QQI4pgS0QgQxEWjx7UIIIAAAggggMBJAv6Pm9KDODspNYeDGrKD5RXEffjPZZrw3jxd1f1stWxyllat36GXJn2pjs1raObUCarS+hp3y5YtW7qTRO2AhuzNlm/avm9WDRapHTlyRBdddJFbZmpVdU2aNMnsltcecVaRlpSU5KrhLrvsMrVq1cqFY9ZyC+Kuv/56t0x0xYoVpwzp9ttvdxth2351Ge3DDz/U+PHjXeWfPcNCRTsh1g5x+Pzzz08JBm2Jrv1lwZ2dDmvPefbZZ10VHw0BBBBAAIFoBAjiotHjWoI45gACCCCAAAIIIFBIAn7CNvnr35H8VOmM+oHumlsQ98GXy9T/4Te1ZOpIdWrTMPN+X/xruf7r3vF6buQ9euzp8e7nBa2Is0MaLNyy5Z22dNX2cDu5RQriLLB7/PHH3Qmkhw4dytK/d+/eLvjKK4izqjerwsut2R5yoVDIBXu33HKLC+cyDpyw6+yEVBv7888/r0cffTTXe9mBDo899pgLGk/efy7QR6ITAggggAACJwkQxDEdohEgiItGj2sRQAABBBBAAIGTBPzko/K/nyAd3ydVaxHIJrcgrvdv/6x9B49q1Ywns94r6aDO7PGkel58oWZ88S/3u4LsEZecnKxrr73WBWcWdtmy1OwtexAXDofdEtbt27froYceUocOHdxhDRaY2cmltWvXzjyMIbeKuHbt2smeb8tFc2qXX365PM9z4aBVx61Zs+aUrrY3nC1RnTFjRq7ee/bsUb169QIdWhHow9EJAQQQQKDcChDEldtPXygvThBXKIzcBIGyI+CnHJMSd0o/7ZeSDkrhFNtOUoqtKMXXkiqeJVVuIC8UV3ZemjdBAAEECknAlmf66ydJ+5dJNTsGumtuQVz7q59w91j72Ym9zuzfrfKu+qUvqkf3izXzy9muj+2fZksvg56aaiGZ7c1mVW1TpkzRrbfeGnG82YM4qyizIM5OOh0wYECWaxo0aKA2bdpkORU1NjbWHdhg9zm59e3b1/U7ePCgO0Qht5ZxEuu6deuydDPvqlWrqkePHnkeRJFxiut9993nDoSgIYAAAgggUFABgriCynGdCRDEMQ8QQMAJ+Md2SodWyT/8vZR0SEpNTP9LfrqQFyPFniHFVpbOqCuvRgepRgd5FaojiAACCCBwkoC//Qv522amn5pqf27m0XIL4voNeU0z5qzUvCmP6KIuP1fY+b6mfviRbvnDTI0Y8bhGj37WPcECMjsZ1U40HTt2bOZThw4dqnHjxmn58uWZBxVYVdttt92m9957z1Wk3XXXXTmOMnsQt2rVKrc89K233tLAgQMzr3vnnXdcMGfVaxawZbSKFSu6ar2PPvooyzPsIAYbwxNPPOEOeMjebE87O33V2q9//WsXGC5YsMDtZZfR7IRXO3l15MiRevrpp92PT77u5Hva0lXbU87ex4JBGgIIIIAAAgUVIIgrqBzXmQBBHPMAgXIu4Kcel/YslL//W+n4bimcJlWsmR64xVZKD+CsWWWcBXMpCVLyofTfV24kr253qdY58mxjchoCCCCAgKtW8zdMlpKPSlWb5ijy6pTZOnz0uMJhX0/+9ROd276xrutzruvft3dndW7bSAuXbdRld76s+Aqxuq//pWrR+Cyt+n6T3pz2jWrWqK5l3612yy0z2r333qsJEya4gKx79+4uuLLKtXvuuccddJDRhg0bJtszzUKzQYMGnTLGPn36uIMfrGUP4qySzoI4W+r5wAMPqH79+vrmm280ffp01ahRQ40bN84SxFm12rJly9wJpo0aNXLhmh3qYNVs/fv3d2HglVdeKXumVbdt2bLFVbfZHnKTJ092Y7ADKOyQhfj4eA0ePNgdTGGHNViIWLNmTXf/DIfrrrvOHdBg/W0shw8fdoc5fPXVV65ybvbs2bIqPRoCCCCAAAIFFSCIK6gc15kAQRzzAIFyLOAn7pa/7R/Skf9IacddsOYCNs/LXcUPS8mH05ew2lLVGh3lNf6lvACVH+WYm1dHAIFyIuCWp258V9qzSKrWMv1/1IjQWlwxQlt2Hoz4u/8Z/VsNuO5i97sV67brT69/qqWrtmjn3iOqWS1eV1zUTk//eaKatU0P7jKahWQvvPCCJk6c6PZws+DLgjarBjs5fLKQau7cuTl+EQurMk4XjXRYw8aNG93+cPPnz1dKSoq6devmqs1sjzhrJ1fEWWA2ZMgQLV26VImJiVkq5szKwjSrrlu9erUL52x5qwVmVqVnp71mNDv1dNSoUVqyZIl27tzpAjgL76wSrmnTE4GnBXs2Zutv+8pZeGf70dlhD1YtaP9OQwABBBBAIBoBgrho9LiWII45gEA5FfATd8nfPF2ypajxNaVKdfMO4LJbhVOlY9skC+ZqdZHXrB9hXDmdT7w2AghkFfCPbpH/w/tS4g6petv8//maE2jiLleh7DXsI69BL9gRQAABBBBAoBgECOKKAb0MPZIgrgx9TF4FgaACfvIR+Rvfc3vCqXJDqcKZQS89tZ/vp/8XzbQkqc6F6WFcxnLWgt+VKxFAAIFSL+DvnC1/x1fpe21Wbhx9GJd8RDq2Xap9nryWt8qLobKr1E8SXgABBBBAoFQKEMSVys9WYgZNEFdiPgUDQaBoBGzZj7Z+In/Xv9Ir4SrWiv7Bds+ELVJMRXlNfiXvrPOjvyd3QAABBEq5gJ+WLH/Lx9K+xVIoNn35f0H300yy7QB2SGe2k9fsenlnnNgXrpQzMXwEEEAAAQRKnQBBXKn7ZCVqwARxJepzMBgETr+Af2iN/M0fSsk/StV+PoGvMB5rhzwcWStVay2v9W/kWch3mlukfYtO8yO5PQIIIJAvATsQx9/6qXRgefphN3Z4Q37207Q/W20LgLSf3BJXr2lfeVbJTEMAAQQQQACBYhMgiCs2+jLxYIK4MvEZeQkEggmc2EB8oauqUCjulAsTjv2kP0/6UkvXbHUbg+/e/6N+26+bJj0z4JS+23YddBuIz/p6nXbtO6K6NSur57kNNXL442rb4zdZ+qelpbmNvG0D8W3btrmT7GwD8UceeUQxMT+fzCq5TbjtlLxZs2Zp06ZNqly5sjp06KDhw4friiuuyHLPaIK4cDjsNv3u0qWL+vXrFwwwh172PnYvO5Fv165d7qRBO4lw5MiRatOmTeZV+Xm3qAbExQggUKIErDJOe7+Wv+/fUsLW9CDODrrJ7XAcu+an/VLSwZ8PxTlbXsPLiuR/5ChReAwGAQQQQACBEihAEFcCP0opGhJBXCn6WAwVgWgF/IRt8jdMlpKPpldlRGibd+xXyz5/UP2zqqtrhyb6dM7KiEHcgcMJ6nztKCWnpOneW3uqWaPa2rhlr8b/bba8UIxWrFipxk1bZj5h8ODBev311zVw4EB3Ct7ChQs1adIk2c9fffXVzH433nijO8nvhhtuUNeuXZWQkOD6rVq1Sq+99pruu+++zL7RBHF2smBcXJzuvPNOd7peQduBAwfUsWNHJScnu7E1b95cGzZscO/qeZ7stEA7tdBaft6toOPhOgQQKLkC7s9gO0n16Cbpp33pVW4xlaTYipLtrWnL/MNJUmqiHWyfvnXAGQ3k1T5PqtWZ/TdL7qdlZAgggAAC5UyAIK6cffBCfl2CuEIG5XYIlGQBf+cc+VtnuP9ip7jKEYealJyi/YcS1LBuDaWmpim+85CIQdzr787R7/70N01/dbD69u6cea9pn8zSzY/9XS8/M0IPDR/tfm5h1DnnnKP7779fY8eOzew7dOhQjRs3Tt999506derkfr5gwQKdf/75io8/sQn58ePHXeXavn37tHfvXsXGxrq+JSGIs3BwyJAh+vjjj9W3b98TDtOmueBtzJgxevDBB/P9biV5HjE2BBAouIDbp/P4bunQWvmJO9MDudTjksLp4VsoXoo/M30PuGqt3RYCXoTq5YKPgCsRQAABBBBAIFoBgrhoBcv39QRx5fv78/blTMD/4X35u+ZINToFOr0vtyDu+TdnasSY6frm78N1fscT1XWLlqxSj9/+VeNffFT3/P55J2xLNJ955hn98MMPrmIso9nS0xYtWmjEiBEaPTo9tMupPfzww3r55Ze1detWt6zVWqQgbt68ea4abdGiRW6ZaJUqVdwyUXt+27Zt3XWbN2/OMo6MZ1q/OXPmuH+1pbSvvPKKq8Zbv369KlWqpF69ern7tG/fPnOYzz33nFs2u3jxYhcgZjR7vlX+TZgwQXfffXe+362cTU1eF4FyK2B7yMlOQ/VT06vibNlqXDVXUUtDAAEEEEAAgZIpQBBXMr9LaRkVQVxp+VKME4EoBfxwqvy146UfN6bvDxeg5RbELV65Wd1ueU7dzmmuFx65Qc0a1tKGrfv0++ffV8LRo/r3Z6+resdb3VOuuuoqV/W2e/fuU55q+6mde+65mjlzZq4j6t+/v6ZOnarDhw+7feOsRQrirOrOKvAsNGvYsKEL7iwMsyqU1atXq06dOjp27JimTZvmlqVecsklmUGZjaVPnz7u3jfddJOmT5+uO+64QxdccIFsCapVv9m1Frq1bt3a9bN/tt9369ZNL730kpo1a+aWpg4bNswtq7XfV6tWLd/vFuDz0AUBBBBAAAEEEEAAAQSKQYAgrhjQy9AjCeLK0MfkVRDITcBPOZYexB3fG/i01NyCOHvWG3+fpz/8ZboOHD6W+eie57fW1Kd6qnbbPvJa3uJ+bstOK1SooKVLl54yRNsHLiUlxYVnObW1a9e6panXXHONC9AyWqQgzoKyjKAuo59VtNkYnnzySVe9Zi23PeLef/993XzzzbK/2/LSjLZjxw6dffbZuvrqq/Xuu+9m/vyNN95wVX0W1mW0nj176oMPPlCtWrVynZg5vRuzGQEEEEAAAQQQQAABBEqmAEFcyfwupWVUBHGl5UsxTgSiFPBTEtKDODuFr+qJ5aG53TavIO7Dfy7ThPfm6aruZ6tlk7O0av0OvTTpS3VsdqZmThmtKp0Gutu3bNnSnSRqBzRkb7Z80/Z9syqySO3IkSO66KKL3DJTq6pr0qRJZre89oizirSkpCRXDXfZZZepVatWLhyzllsQd/311+vrr7/WihUrThnS7bffLvs/vLZfXUb78MMPNX78eFf5Z8+wUNFOiLVDHD7//PNTgsGM63J7tyg/N5cjgAACCCCAAAIIIIDAaRIgiDtNsOXktgRx5eRD85oI+Gk/yV/zumSbg1drFQgktyDugy+Xqf/Db2rJ1JHq1KZh5v2+mL9a/3X3OD332G/02HP/z/28oBVxdkiDhVu2vNOWrtoebie3SEGcBXaPP/64PvnkEx06dChL/969e2vWrFl5BnFW9WaVark120MuFAq5YO+WW25x4VzGgRN23RdffOHG/vzzz+vRRx895VZ5vVugD0QnBBBAAAEEEEAAAQQQKHIBgrgiJy9TDySIK1Ofk5dBIHeB8Pp3pH2LpZrpJ5Tm1XIL4nr/9s/ad/CoVs14Mutt0n7SmRc+qp4XnasZ//za/a4ge8QlJyfr2muvdcGZhV22LDV7yx7EhcNht4R1+/bteuihh9ShQwd3WIMFZnZyae3atTMPY8itIq5du3ay59uS05za5Zdf7jZTt3DQquPWrFlzSlfbG86WqM6YMSPL74K8W17fht8jgAACCCCAAAIIIIBA8QgQxBWPe1l5KkFcWfmSvAcCAQT8bf+Qv22mVL21FIrL84rcgrj2Vz/hrl/72VNZ7uP/dEDVuz+pHhf9QjO/WuB+Z/unPfvss4FPTbWQzPZms6q2KVOm6NZb0w99yN6yB3G2dNWCODvpdMCAAVm6N2jQQG3atMlyKmpsbKw7sMHuc3Lr27ev63fw4EHFxeXulHES67p167I6+L6qVq2qHj16ZDmIIui75flx6IAAAggggAACCCCAAALFIkAQVyzsZeahBHFl5lPyIgjkLeAfWCF/09T0EK5SnTwvyC2I6zfkNc2Ys1Lzpjyii7q0yLzX1Omf6pYRn2jEYw9p9HMvu59bQGYno9qJpmPHjs3sO3ToUI0bN07Lly9X586d3c+tqu22227Te++95yrS7rrrrhzHmT2IW7VqlVse+tZbb2ngwPT96ay98847Lpiz6jUL2DJaxYoVXbXeRx99lOUZdhCDjeGJJ55wBzxkb7annZ2+au3Xv/61CwwXLFjg9rLLaHbCq528OnLkSD399NP5frc8Pw4dEEAAAQQQQAABBBBAoFgECOKKhb3MPJQgrsx8Sl4EgbwF/NTj8tdPkg5/L515tuR5ES96dcpsHT56XOGwryf/+onObd9Y1/U51/Xt27uzOrdtpIXLNuqyO19WfIVY3df/UrVofJZWrdumN6fOV80zq2nZirWqV69e5v3vvfdeTZgwwQVk3bt3d8GVVa7dc8897qCDjDZs2DCNGTPGhWaDBg06ZXx9+vRxBz9Yyx7EWbWZBXF79uzRAw88oPr16+ubb77R9OnTVaNGDTVu3DhLEGfVasuWLdNTTz2lRo0auXDNDnWwwx369+/vwsArr7xS9kyrbtuyZYurbrM95CZPnuzGYAdQ9OrVS/Hx8Ro8eLA7mMIOa7AQsWbNmu7+GQ75ebe8vyY9EEAAAQQQQAABBBBAoDgECOKKQ73sPJMgrux8S94EgUAC/s458rfPlOKqShVrR7ymxRUjtGXnwYi/+5/Rv9WA6y52v1uxbrv+9PqnWrpqi3buPaKa1Srqim6t9PRzf1GzTr2yXG8h2QsvvKCJEye6Pdws+LKgzQ4ysCWiGc1Crblz5+b4LrNnz3bBV6Qgzn62ceNGtz/c/PnzlZKSom7durkTTG2POGsnV8RZYDZkyBAtXbpUiYmJWSrmLIyzMM2q61avXu3COVveauGdVenZaa8ZzU5XHTVqlJYsWaKdO3e6AM7CO6uEa9q0aYHeLdDHpBMCCCCAAAIIIIAAAggUuQBBXJGTl6kHEsSVqc/JyyCQt4Cfckz+hinSwZVS9TZSTIW8LwrSI+mQ9NM+efV6Sk37yvNCQa6iDwIIIIAAAggggAACCCBQqgQI4krV5ypxgyWIK3GfhAEhcPoF/CPr5W/6UErc9fPBDScq0gr09NRE6ccfpBrt5LW8XV78mQW6DRchgAACCCCAAAIIIIAAAiVdgCCupH+hkj0+griS/X0YHQKnRcCWWWrPfPm7/iUd3ydVa1nwyriUBOnoZqlaC3lWCVet1WkZMzdFAAEEEEAAAQQQQAABBEqCAEFcSfgKpXcMBHGl99sxcgSiEnBh3O558vcslI7tkM6oL8XXzPEAh1Me5oelxJ1S8o8uyPMa/5e86q2jGhMXI4AAAggggAACCCCAAAIlXYAgrqR/oZI9PoK4kv19GB0Cp1XAhXFHvpe/a5704wYpLVmqdJYUX0PyYiI/2/ok7ZeSDkoVakhntpPXoLc8C/JoCCCAAAIIIIAAAggggEAZFyCIK+Mf+DS/HkHcaQbm9giUBgE/5ai09xv5h9dKiXuk5COSHbYQe8aJQC6cLKUdlxSS4mtJlevLq9lZqt1VXiiuNLwmY0QAAQQQQAABBBBAAAEEohYgiIuasFzfgCCuXH9+Xh6BrAJ2oqpVyNlSVd8OcrBlp36aJE8KxUoVa8mrVEeq2lyq1ooAjgmEAAIIIIAAAggggAAC5U6AIK7cffJCfWGCuELl5GYIlB0B3/aAs0q5cEp6EBdT0VXIeZ5Xdl6SN0EAAQQQQAABBBBAAAEE8ilAEJdPMLpnESCIY0IggAACCCCAAAIIIIAAAggggAACAQUI4gJC0S2iAEEcEwMBBBBAAAEEEEAAAQQQQAABBBAIKEAQFxCKbgRxzAEEEEAAAQQQQAABBBBAAAEEEEAgGgGCuGj0uJaKOOYAAggggAACCCCAAAIIIIAAAgggEFCAIC4gFN0iChDEMTEQQAABBBBAAAEEEEAAAQQQQACBgAIEcQGh6EYQxxxAAAEEEEAAAQQQQAABBBBAAAEEohEgiItGj2upiGMOIIAAAggggAACCCCAAAIIIIAAAgEFCOICQtEtogBBHBMDAQQQQAABBBBAAAEEEEAAAQQQCChAEBcQim4EccwBBBBAAAEEEEAAAQQQQAABBBBAIBoBgrho9LiWijjmAAIIIIAAAggggAACCCCAAAIIIBBQgCAuIBTdIgoQxDExEEAAAQQQQAABBBBAAAEEEEAAgYACBHEBoehGEMccQAABBBBAAAEEEEAAAQQQQAABBKIRIIiLRo9rqYhjDiCAAAIIIIAAAggggAACCCCAAAIBBQjiAkLRLaIAQRwTAwEEEEAAAQQQQAABBBBAAAEEEAgoQBAXEIpuBHHMAQQQZGaJwwAAIABJREFUQAABBBBAAAEEEEAAAQQQQCAaAYK4aPS4loo45gACCCCAAAIIIIAAAggggAACCCAQUIAgLiAU3SIKEMQxMRBAAAEEEEAAAQQQQAABBBBAAIGAAgRxAaHoRhDHHEAAAQQQQAABBBBAAAEEEEAAAQSiESCIi0aPa6mIYw4ggAACCCCAAAIIIIAAAggggAACAQUI4gJC0S2iAEEcEwMBBBBAAAEEEEAAAQQQQAABBBAIKEAQFxCKbgRxzAEEEEAAAQQQQAABBBBAAAEEEEAgGgGCuGj0uJaKOOYAAggggAACCCCAAAIIIIAAAgggEFCAIC4gFN0iChDEMTEQQAABBBBAAAEEEEAAAQQQQACBgAIEcQGh6EYQxxxAAAEEEEAAAQQQQAABBBBAAAEEohEgiItGj2upiGMOIIAAAggggAACCCCAAAIIIIAAAgEFCOICQtEtogBBHBMDAQQQQAABBBBAAAEEEEAAAQQQCChAEBcQim4EccwBBBBAAAEEEEAAAQQQQAABBBBAIBoBgrho9LiWijjmAAIIIIAAAggggAACCCCAAAIIIBBQgCAuIBTdIgoQxDExEEAAAQQQQAABBBBAAAEEEEAAgYACBHEBoehGEMccQAABBBBAAAEEEEAAAQQQQAABBKIRIIiLRo9rqYhjDiCAAAIIIIAAAggggAACCCCAAAIBBQjiAkLRLaIAQRwTAwEEEEAAAQQQQAABBBBAAAEEEAgoQBAXEIpuBHHMAQQQQAABBBBAAAEEEEAAAQQQQCAaAYK4aPS4loo45gACCCCAAAIIIIAAAggggAACCCAQUIAgLiAU3SIKEMQxMRBAAAEEEEAAAQQQQAABBBBAAIGAAgRxAaHoRhDHHEAAAQQQQAABBBBAAAEEEEAAAQSiESCIi0aPa6mIYw4ggAACCCCAAAIIIIAAAggggAACAQUI4gJC0S2iAEEcEwMBBBBAAAEEEEAAAQQQQAABBBAIKEAQFxCKbgRxzAEEEEAAAQQQQAABBBBAAAEEEEAgGgGCuGj0uJaKOOYAAggggAACCCCAAAIIIIAAAgggEFCAIC4gFN0iChDEMTEQQAABBBBAAAEEEEAAAQQQQACBgAIEcQGh6EYQxxxAAAEEEEAAAQQQQAABBBBAAAEEohEgiItGj2upiGMOIIAAAggggAACCCCAAAIIIIAAAgEFCOICQtEtogBBHBMDAQQQQAABBBBAAAEEEEAAAQQQCChAEBcQim4EccwBBBBAAAEEEEAAAQQQQAABBBBAIBoBgrho9LiWijjmAAIIIIAAAggggAACCCCAAAIIIBBQgCAuIBTdIgoQxDExEEAAAQQQQAABBBBAAAEEEEAAgYACBHEBoehGEMccQAABBBBAAAEEEEAAAQQQQAABBKIRIIiLRo9rqYhjDiCAAAIIIIAAAggggAACCCCAAAIBBQjiAkLRLaIAQRwTAwEEEEAAAQQQQAABBBBAAAEEEAgoQBAXEIpuBHHMAQQQQAABBBBAAAEEEEAAAQQQQCAaAYK4aPS4loo45gACCCCAAAIIIIAAAggggAACCCAQUIAgLiAU3SIKEMQxMRBAAAEEEEAAAQQQQAABBBBAAIGAAgRxAaHoRhDHHEAAAQQQQAABBBBAAAEEEEAAAQSiESCIi0aPa6mIYw4ggAACCCCAAAIIIIAAAggggAACAQUI4gJC0S2iAEEcEwMBBBBAAAEEEEAAAQQQQAABBBAIKEAQFxCKbgRxzAEEEEAAAQQQQAABBBBAAAEEEEAgGgGCuGj0uJaKOOYAAggggAACCCCAAAIIIIAAAgggEFCAIC4gFN0iChDEMTEQQACBAgj44TQpJUnyw1IoVoqLl+d5BbgTlyCAAAIIIIAAAggggEBpEiCIK01fq+SNlSCu5H0TRoQAAiVQwPd9+Yd3K7x/s/yEg/J/3Cs/JTl9pF5I3hnVFapWW171ugrVaSGvQqUS+BYMCQEEEEAAAQQQQAABBKIVIIiLVrB8X08QV76/P2+PAAJ5CFgAF96zUWnbV8s/sF3+sUPyU36SFxsnxVZIvzoclp+alJ7JVayqULWzFKrXSjFNu8irWAVjBBBAAAEEEEAAAQQQKEMCBHFl6GMWw6sQxBUDOo9EAIHSIeD/lKDUDd8ovGOt/CN7pPjK8qrUlCpUirgM1U9LlZ94xFXMebEVFDqrqWJaXqBQvdYsWy0dn5xRIoAAAggggAACCCCQpwBBXJ5EdMhFgCCO6YEAAghEEAj/uF+pK79QeO8P7rdezYbyYuICWVkVnRKPKHxkj0LV6ymm+bmKad1NnhcKdD2dEEAAAQQQQAABBBBAoOQKEMSV3G9TGkZGEFcavhJjRACBIhUIHz2g1O9mKrxrvbyqtaTKNQpU0eanpcjfv1WqVF2xLX+hmDYXF+g+RfryPAwBBBBAAAEEEEAAAQRyFSCIY4JEI0AQF40e1yKAQJkT8FOTlbL0Y4W3rZRXrY47hCGaZqer+vs2y6tSS7Edr1BMw3bR3I5rEUAAAQQQQAABBBBAoJgFCOKK+QOU8scTxJXyD8jwEUCgcAVS//O1Ur//lxSKVah6nUK5ue0dZwc+xNRvrbjz+8mrVK1Q7pvXTd5++20NHDhQmzZtUrNmzfLqzu8RQAABBBBAAAEEEEAggABBXAAkuuQoQBDH5EAAAQR+Fggf3a+Uf38g/9BOeXVbRlxGmpD4k8b87TN9u26Tvv1+k3YfPKI7ftlDE0fec4rjtj0H9Mzb0zVr6WrtPnBYdapXVs+LLtAfXxynNm3aZOmflpamF198URMnTtS2bdvUuHFjDRo0SI888ohiYmIy+y5ZskSTJ0/WrFmzXMBWuXJldejQQcOHD9cVV1yR5Z7RBHHhcFijRo1Sly5d1K9fv6jmiL3PH/7wB82cOVOHDx9Wy5Ytde+99+r+++/PYpyQkKCXXnpJS5culb3n7t27deedd8reg4YAAggggAACCCCAQEkRIIgrKV+idI6DIK50fjdGjQACp0Egdf1Cpa6e7faF8ypWifiEzbv2qe3Nw1S/1pk6t20zfbZwecQg7sCRo+r62+FKTk3T3f0uU7P6Z2nD+nV684ul8uLitXLlSjVq1CjzGYMHD9brr7/uKtguvvhiLVy4UJMmTZL9/NVXX83sd+ONN2ru3Lm64YYb1LVrV1l4Zf1WrVql1157Tffdd19m32iCuNTUVMXFxUUdhO3cuVPnn3++G+fvfvc7NWnSRF999ZWmTp2qhx9+2AVvGW3z5s1q3ry56tevr/POO08zZsyI+vmnYZpwSwQQQAABBBBAAIFyLkAQV84nQJSvTxAXJSCXI4BA2RDwU5KUsug9pe3ZqFC9VjkeqpCUnKL9R46q4Vk1lZqapsq9B0QM4sZ/+E8NffkdTXvuIV3TvatD8o8d1gezv9Ztz0/RmDFj9OCDD7qfWyh3zjnnuAqxsWPHZoIOHTpU48aN03fffadOnTq5ny9YsMAFW/Hx8Zn9jh8/7irX9u3bp7179yo2Ntb9riQEcfZOFiTOmzdP3bt3zxzzkCFDNH78eBcgtm/f3v08KSlJ+/fvV8OGDVVYQWDZmJ28BQIIIIAAAggggEBJEiCIK0lfo/SNhSCu9H0zRowAAqdBIHxgu5L/PU0KpwXeGy63IO7FyZ/oDxP+roVvPqXz2rVID+L8sBbNnaXef3xHEyZM0N133+1+PnLkSD3zzDP64YcfXEVYRrOlpy1atNCIESM0evToXN/aqstefvllbd261S1rzSmIs0DMKu8WLVqkXbt2qUqVKrr00kvd89u2beuuy6hMy/5A6zdnzhz3Y1tK+8orr7hqvPXr16tSpUrq1auXu09GsGb9OnfurMTERG3YsCHL7RYvXqwLLrhAf/zjH90S2OyNIO40THJuiQACCCCAAAIIIFAoAgRxhcJYbm9CEFduPz0vjgACJwukbflOKcv/4U5J9SpVDYSTWxC3ZO0P6n73E7qwQys9N7i/mtavrY3b9+jRv0xSQoqvxSvWqPqZNdxzrrrqKlf1ZnuiZW9169bVueee6/ZXy63179/fLfe0Pdhs3zhrkSrirELNKvAsNLPKMwvuLBT0fV+rV69WnTp1dOzYMU2bNs0tC73kkksyA0MbS58+fdy9b7rpJk2fPl133HGHC9QOHDjglsbatRaytW7d2vVr166dKlSooBUrVmQZvj2rY8eO+uUvf6l//OMfp7waQVygKUgnBBBAAAEEEEAAgWIQIIgrBvQy9EiCuDL0MXkVBBAouEDqmrlKWTNLobOay4tJX9qZV8stiLNrJ348S//9xvs6cCQh81Y9OjTXe0/dq/q/vEte5fQgzpadWlhlhxRkb7YPXEpKigvPcmpr1651S1OvueYaF6BltEhBnAVlGUFdRj+raLMxPPnkk+7QB2u5BWHvv/++br75Ztnfbc+6jLZjxw6dffbZuvrqq/Xuu++6H1933XUuaLPqPtv7LaP99a9/dUtx7bnZQ7q8np/Xd+H3CCCAAAIIIIAAAgicTgGCuNOpW/bvTRBX9r8xb4gAAgEEUlZ9pdQ1cxSq3ybH/eGy3yavIO6jfy3RG9Nnqc8FndSyUV2t/mGbXv7fGTq7aQN9/s9/qmr99GWodoqoVZvZAQ3Zmx3cYPu+ZV/amdHvyJEjuuiii9wyU6uqs8MQMlpee8TZAQq2L5tVw1122WVq1aqVPvjgA3d5bkHc9ddfr6+//jpigHb77bfL/h8T26/Omp3uaqe5/uIXv9Cf//xnd0DF7Nmz9dBDD7nquaZNm0Z8NyriAkxauiCAAAIIIIAAAggUiwBBXLGwl5mHEsSVmU/JiyCAQDQChR3ETZ+7WLc/8aq++Z8/qWPL9D3brH0xa676PjFRzz3133rsv59yPytoRZwd0mDLWm0pqC1dtT3cTm6RgjgL7B5//HF98sknOnToUJb+vXv3dsGZtdyCMKt6syq83JrtIRcKhVyXd955R8OGDdPBgwfdv9t+cnZaqlXg2fLYZcuWnXIrgrhoZjPXIoAAAggggAACCJxOAYK406lb9u9NEFf2vzFviAACAQRS182XhXGhWo3lxVYIcIWFVTmfmnrF757WvsNH9d3k57PcK3xgm+rcNko9e16qGf9I3/etIHvEJScn69prr3XBmVWx2bLU7C17EBcOh90S1u3bt7uKtA4dOrjDGiwwsxNca9eunXkYQ25BmO37Zs9/4403cnS6/PLLs1QWWn9bgmp/t73h7GTXqlWrur3m/va3vxHEBZpxdEIAAQQQQAABBBAoCQIEcSXhK5TeMRDEld5vx8gRQKAQBdK2r1HKshny4iu7AxuCtNyCuI63PeJusep/X8xyq9Sd61VnwAvq0bNX5gEMdirqs88+G/jUVAvJbG82q2qbMmWKbr311ojDzR7E2dJVC+LspNMBAwZkuaZBgwZq06ZNllNRLSyzAxvsPie3vn37un5W4RYXFxeE6pQ+dtCD7R8XaSzWmYq4ArFyEQIIIIAAAggggEARCBDEFQFyGX4EQVwZ/ri8GgIIBBcIH9mjlK/fl5+cqFCNBoEuzC2Iu2H4GH26YJnmvPZHdeuYfoKon5aqaR/P0O0vT9PIkSP19NNPu59bQGYno9rhBWPHjs189tChQzVu3DgtX75cnTt3dj+3qrbbbrtN7733nqtIu+uuu3Ica/YgbtWqVW4Z7FtvvaWBAwdmXmdLRy2Ys6WtFrBltIoVK7pqvY8++ijLM+wgBhvDE0884ZaXZm+2p52dvppTs33tbO+7xMRErVmzxi1Vzd4I4gJNQTohgAACCCCAAAIIFIMAQVwxoJehRxLElaGPyasggEDBBfxwmlK+maq0bSsVqtdG3s/7m0W642vTvtSRhGMKh32NeusDdWndVP0uPd91vaZ7V3Vq1USLVq5XnweeUXxcnO657nK1aFhHK9f+R2/NXKSaNWto2XcrVa9evczb33vvvZowYYILyLp3764FCxa4arF77rlH48ePz+xne62NGTPGhWaDBg06ZXh9+vRxBz9Yyx7EWbhlQdyePXv0wAMPuFNMv/nmG1l1Wo0aNdS4ceMsQVyPHj3c/m1PPfWUO2TBwjU71MEOd+jfv78LA6+88krZM22Z6ZYtW1yVn+0hN3nyZDeG3bt365e//KX69evn7m971E2cONFV03355Ze68MILs7yDnaZ6+PBhFzha0GcBpR0OYc2W4mYEkgX/0lyJAAIIIIAAAggggEB0AgRx0fmV96sJ4sr7DOD9EUAgUyBty3KlfPeFvAoV5VWpmaNMm5se0pbd+yP+/s3hd+m3V/d0v1u5YatGvz1d367bpJ37D6lG5Yq64sIuGv3aJDVrmV4ll9EsJHvhhRdcSGV7uFnwZUHbo48+6vZTy2i9evXS3LlzcxybnUhqfaxFOqxh48aNbn+4+fPnKyUlRd26ddOLL77o9oizdnJF3MqVKzVkyBAtXbrUVa+dXDFnYZxV5Fl13erVq104Z8tbLbyzKj2reLNmJ7NatZ0FfhYA1qxZ0wV3FrLZKa3ZW7NmzVygF6nltIyVKYwAAggggAACCCCAQFEKEMQVpXbZexZBXNn7prwRAggUUMBPSlTKv6cpbdd6heq2lBdzIgAr4C0zLwsf3iP5YcV26K3YFunVczQEEEAAAQQQQAABBBAofQIEcaXvm5WkERPElaSvwVgQQKDYBdJ2fq+UFV9Kx3+UV7tJlpM/Czo4C/j8gzsUanqO4rr2lRdbsAMOCvp8rkMAAQQQQAABBBBAAIHCEyCIKzzL8ngngrjy+NV5ZwQQyFHAllimrvpKaT8slryQvBoNogrj/OSfFD6wVaFaTRTX9RqFzjyxLxyfAQEEEEAAAQQQQAABBEqfAEFc6ftmJWnEBHEl6WswFgQQKBECfkqSUlZ+qfC2lZLvp4dxBVim6h//UeFDuxSq1VixHS5TTL1T90QrES/MIBBAAAEEEEAAAQQQQCCwQHkM4rZu3ar9+yPvk50TXO3atdWkSZPAruWlI0FcefnSvCcCCORLwMK41DVzZEtV/YQDClWvI1WqHqg6zk9Nln9kj/zUFMWc1VQx7S5RTJ0W+Xo+nRFAAAEEEEAAAQQQQKBkCpS3IM5CuPbtmykx0c/XBznjjDO0du1awrhsagRx+ZpGdEYAgfIk4PthhXesdctUwwd3yU9JlHfGmfLiq0h2smooxnHYclalJkvJx+UnHk7/56q1FVOvjWLbXCTvjOrliY13RQABBBBAAAEEEECgTAuUtyAu433fePsstWkXbL/r9d+n6O4B+7R06VJ17dq1TM+H/L4cQVx+xeiPAALlTsCWmKbtXKfw7vUK/7hPSkqUUn6SBXWy/1HIkxRTQV6FSvIqVVXorGYK1W/j/u55oXLnxQsjgAACCCCAAAIIIFCWBcprEDdnYSN1ObdioE+7fNlP6nXxdoK4CFoEcYGmEJ0QQAAByU9LkX9wp1uqGj52yFXA2R5yiomRZ8tWq9SSV72OQlVqwoUAAggggAACCCCAAAJlVIAgLu8PSxCXsxFBXN7zhx4IIIAAAggggAACCCCAAAIIIICAEyivQdzc+Y3zVRF3aY9tVMRF+M8MQRx/kCCAAAIIIIAAAggggAACCCCAAAIBBQji8oayijiCuMhOBHF5zx96IIAAAggggAACCCCAAAIIIIAAAk6g/AZxTdSlS8A94pZbELeVirgI/5khiOMPEgQQQAABBBBAAAEEEEAAAQQQQCCgAEFc3lDLCeJyRCKIy3v+0AMBBBBAAAEEEEAAAQQQQAABBBBwAuU1iPvXv5rmqyKuZ88tVMRF+M8MQRx/kCCAAAIIIIAAAggggAACCCCAAAIBBQji8oayijiCuMhOBHF5zx96/H/27gM8yipt4/g9kwqhhd6bNAWkiEhVLNjWttZV11VWRYVV7A13VQQbLiyiIoptF9e1o9hQqjSRjiCi9N4hgSQkmcx813P4JiZhkpmQoIT5n+vygk3OvPPOb87Mp/f3nPMggAACCCCAAAIIIIAAAggggAACTiBag7jpU4tXEdezFxVxoT4yBHF8kSCAAAIIIIAAAggggAACCCCAAAIRChDEhYeyijiCuNBOBHHh1w8zEEAAAQQQQAABBBBAAAEEEEAAAScQtUHclEZq3y7CrqmLD6jn6VTEhfrIEMTxRYIAAggggAACCCCAAAIIIIAAAghEKEAQFx5qEUFcoUgEceHXDzMQQAABBBBAAAEEjgKBQGaaAqk7FEjbpUBGqpTjkzweKb6cPBWqyZNUTZ6K1eTxeI+Cu+UWEEAAAQSOVYFoDeJmTC5eRVyPM6iIC/UZIIg7Vr8ZeF0IIIAAAggggMAxIBAIBBTYu1n+rT/Lv22VAgdSFcjKkLIPSAH/wVcYEy9PfDkpoby8VerKW6elvDWbyROXcAwI8BIQQAABBI42AYK48O+IVcQRxIV2IogLv36YgQACCCCAAAIIIPA7CFgFXM6q75Sz+ScF9u1wd+ApV9lVwCkuUQpWvvmypOwMBQ7slzLT5ClfWZ6q9RXbrKu81Rv/DnfOUyKAAAIIHMsCURvETWykDhGeEbfQgrizqIgL9TkgiDuWvx14bQgggAACCCCAQBkV8O/aIN9P0+TfudZVvnkq1z5Y9RZmBPw5UtpuBdJ2y1OlrmIanKiYZl3l8caEeyi/RwABBBBAICIBgrjwTARxhRsRxIVfP8xAAAEEEEAAAQQQ+A0FLHzzLZsk/4418lSqKZWvIo+dBVeMEcjOVGDPRnkSKyimUQfFtOpFGFcMP6YigAACCBQuELVB3DcN1eHEyLqmLlxyQD16r9f8+fPVsWNHllMeAYI4lgMCCCCAAAIIIIDAUSPgT90u38LxB0O4qg3kSSh/2PcWCPgV2LXeVdJZVVxs8+6HfS0eiAACCCCAQFCAIC78WiCIK9yIIC78+mEGAggggAACCCCAwG8gEMjxuRAuZ90CeZLrypNQocTP6sK47avlqVxLce0vkLdawxJfkwsggAACCES3QLQGcTO/Ll5FXPezqYgL9UkhiIvu7w9ePQIIIIAAAgggcNQI5KydL9+Pk2WdUr1V6pTafbltqjvXylu/jeI6XSpPbHypXbuwC7355pvq06eP1qxZo8aNaRhxxMF5AgQQQOA3FCCIC49tFXEEcaGdCOLCrx9mIIAAAggggAACCBxhgYAvS9lz/if/1p/lqdVcnmBH1DzPuz/9gIa/84UWrFirBSvWaOuuFF13Xg+NGdj3kLvbsG2XnnxznCbP+1Fbd+1VzSoV1LNtUw187Akd3+O8fPNzcnI0dOhQjRkzRhs2bFCDBg1000036b777lNMzK9NHubNm6exY8dq8uTJLmBLSkpS69at9dBDD+mss87Kd82SBHF+v1+DBg1S+/btdckll5RI3l6PXWvSpEnasmWLatWqpdNOO00DBw5UixYtDrm2zbH5n3/+ubZt26Zq1aqpc+fOGj16tHssAwEEEEBAitog7qtiVsSdS0VcqM8LQRzfIggggAACCCCAAAK/u0DOlp/kW/S5uw/XoCHEWLtlh1pecY/qVKuiDi0b64tZi0IGcbtS9qnjXx5WVrZPfS85U43r1tDKDVv06seT5ImJ1ZJly13YFhz9+vXTqFGjXAVbt27dNGvWLL3xxhuyn7/44ou58y6//HJNmzZNl112mTt4ev/+/W7e0qVL9dJLL+m2227LnVuSIM7n8ykuLk7XX3+97DqHO3bt2qU2bdooKyvL3VuTJk20cuVK91qt+cUPP/yg+vXr517+l19+0amnnqpy5crphhtucL/bsWOHZs+e7YLK5s2bH+6t8DgEEEDgmBIgiAv/drqKOIK4kFAEceHXDzMQQAABBBBAAAEEjrCA74cJ8v08XZ4ax7mwLNTIzMrWzpR9qlejqny+HCX16hMyiHv5o4kaMOzf+vDpu3RBjw65l/pw/Je65pl3NOyZIbrr/ofdzy2MateunW6//XaNGDEid+6AAQM0cuRILV68WG3btnU/nzlzpjp16qSEhITceRkZGa5yzQKr7du3Kzb24L0fDUGchYP9+/fXp59+qgsvvPBXhw8/lIWKw4cP15133ul+btuBTznlFFl1oIWNFSqU/Hy+I7xkuDwCCCDwuwlEaxA368sG6tA2wq6pPxxQt/M20DU1xColiPvdPro8MQIIIIAAAggggMDBEMiv7Flvy7/tF3lrRVZ1VVQQN/Q/4/XI6Pc1a8xjOqlV01zk2d/PV6+7R2jU0EG69d6/u5/bFs0nn3xSq1evdhVjwWFbT5s2baqHH35YQ4YMKfKNuueeezRs2DCtX78+t9IuVBA3ffp0V41mFWa2BdTCLtsmas/fsmVL9xxr167Ndx/BJ7Z5U6dOdf/TwrLnn3/eVeP9/PPProKtV69e7jrHH3987r0+/fTTbtvs3LlzXYAYHPb8Vvln20379j24rde225555pkaP368LrjgAh04cEBer1fx8Uf+PD0+BQgggEBZEyCIC/+OLSSIKxSJIC78+mEGAggggAACCCCAwBEUCKTtVdZ3/1UgPUXeqr9ulSzqKYsK4uYtX63uNz+mU1ofp6f7X61Gdapr1cbtuv/5sdqflqY5n7+n5PZnuMufc845rupt69athzydnYnWoUMHffXVV0W++quvvloffPCB9u7d686NsxEqiLOqO6vAs9CsXr16LrizMMyq0ZYtW6aaNWsqLS1NH374oduW2rNnz9ygzO6ld+/e7tpXXHGFxo0bp+uuu86d32ZbUK36zR5roVtwC6n93X7fpUsXPffcc65phG1Nvfvuu922Wvt9pUqV3DXvv/9+t/3Uwj4LH217rm1ftSo5Cxm7du16BFcAl0YAAQTKlkDUBnGfF7Mi7g9UxIVa2QRxZevzzt0igAACCCCAAALHnIB/71Zlf/+ulJMtT6XIGgIUFcQZ0JhPpugfr7yvXSnGWSQyAAAgAElEQVT7c716tGup/911gWqdcqFiW53mfm7bTq3qa/78+Ye42jlw2dnZLjwrbCxfvtxtTbUqMgvQgiNUEGdBWTCoC86zija7h8cee8xVr9ko6oy4999/X1deeaXsT9teGhybNm3SCSecoPPPP1/vvPNO7s9feeUVF6xZWBccdg7cRx995BoxBIc1hfjkk09UvXp1FwBauLh582bXuCE9PV3ff/997hbdY24B8oIQQACBYgoQxIUHcxVxBHEhoQjiwq8fZiCAAAIIIIAAAggcQQH/3s3KnvO+5PcV2qih4NOHC+I+mTZPr3wyWb07t9Vx9Wtp2aqNGvbO5zqhfjV9OXa0Kp90vrvkcccd57qBWgVYwWHbN+3cN6siCzVSUlJcpZhtM7WquoYNG+ZOC3dGnFWkZWZmumq4M844Q82aNXPhmI2igrhLL71U3333nZYsWXLILV177bWuk5+dVxccH3/8sV5++WVX+WfPYaGiVb5ZE4cJEybkBoPW9dU6q9r21IkTJ+Y+3rbTWnBnVXjvvffeEVwFXBoBBBAoOwLRGsTN/qx4FXFdL6AiLtSqJogrO5917hQBBBBAAAEEEDgmBfyp25U9510Fsg/IW7l2RK+xqCBu3LS5uvYfL2nO64PU5rhfu6N+PXuhLrxvuJ6691Y9OHSUe57DrYizJg0Wbtn2Ttu6ame45R2hgjgL7B588EF3DtuePXvyzT/99NPdOW3hgjirerMqvKKGnSFn57tZsHfVVVe5cC7YcMIe9/XXX7t7f+aZZ9yWVBvWzOGzzz5zW2ptW2zeYVta7fVu27YtoveGSQgggMCxLkAQF/4dtoo4grjQTgRx4dcPMxBAAAEEEEAAAQSOoEAgO1PZM/8t/94t8tb4tWFCUU9ZVBB31t+GaMfefVo89ul8lwhkpKrGRfeoZ9dT9Pmkae53h3NGXFZWli666CIXnFnYZdtSC46CQZzf73dbWDdu3Ki77rpLrVu3ds0aLDCzzqW2JTTYjKGoirhWrVrJnt+2nBY2rKrNznezcNCq43788cdDptrZcFbpZuGbjVtvvdWdV/fll1/q3HPPzTffzpiz/+i052UggAACCMh9J5500klR0xE0+Hpnj2+gDm0i7Jq69IC6XkhFXKjPC0Ec3yIIIIAAAggggAACv7tA9vyPlLNmvjy1W7oQKdwoKohrc/XBKq+l7zyb7zI5e7eqxuWPqHu3rpow6WAHUjs/7amnnoq4a6qFZHY2m1W1vf322/rTn/4U8lYLBnG2ddWCOOt0esMNN+R7TN26ddWiRYt8XVFjY2NdZZpdJ++wyjUL7Hbv3q24uLgimYKdWFesWJFvnm2HrVixonr06JHbiOK1117TTTfdpFdffdX9mXfUr3+wgYaFiAwEEEAAAYK4SNbAQoK4QpkI4iJZQcxBAAEEEEAAAQQQOKICvpWz5Vs2SZ4K1eRJrBD2uYoK4i57cLg+n7lIU0c9oi5tmrtrWfj04bhPde0/P9TDDz6gIU8drJazgMw6o1pH0xEjRuQ+74ABAzRy5EgtWrRIJ554ovu5VbVdc801evfdd11F2s0331zofRYM4pYuXeq2h77++uvq06dP7uPeeustF8xZ9VqwIs5+mZiY6Kr1rIFC3mGNGOweHn30UdfgoeCwM+2s+6qNiy++2AWGM2fOzNf11Dq82plvAwcO1ODBg93cnTt3qlGjRu4ebX5MTIz7uVXMWfh34403asyYMWHfFyYggAAC0SAQrRVx331SvIq4LhdTERfq80AQFw3fErxGBBBAAAEEEEDgKBfw79up7O/fU2D/bnmrNyr0bl/68Bul7EuXPxDQoNc+UvsWjXTJqZ3c/At6dFDbZg01+4df1Pv2J5UQF6db/nimmtarqaU/r9Zrn89Q1eQqWrhkqWrX/vUsuuC2TAvIunfv7oIoq1y75ZZbXKOD4Lj77rs1fPhwF5oVrBqzOb1793aNH2wUDOKsks5CLjtn7Y477lCdOnU0Z84cjRs3TsnJyWrQoEG+IM6q1RYuXKjHH39cVpFm4Zo1dbBA0TqaWhh49tlnu+e06rZ169a56jY7Q27s2LHuHqwBRa9evZSQkKB+/fq5xhTWrMFCxKpVq7rr53WwINK2yVrXVOvMap1Yn3/+edfQwbrK2j0yEEAAAQSityKOIK50Vj9BXOk4chUEEEAAAQQQQACBEghYwORb8oVyVs2Rp0pdeRKSQl6txeV3a93WnSF/9+rDN+sv5/d0v/th5XoNefMTLfhpjTbv3KOqFRJ1RqfWGvKvUWrSumO+x1tI9uyzz7qKL9t+acGXBW3WyMC2iAaHhVrTph08Wy7UmDJligu+bIRq1rBq1Sp3PtyMGTOUnZ0tO3vNOpha+GUjb0WcBWb9+/d3AVh6enq+ijmzsjDNquuWLVvmwjnb3mrhnVXpWbfX4LDuqoMGDdK8efO0efNmF8BZeGeVcFYBV3BYiDds2DB3rlz58uXdXNu627Rp0xK8uzwUAQQQOLYEqIgL/37a1lQq4kI7EcSFXz/MQAABBBBAAAEEEPgNBPypO+RbME7+XevlqdlMHq+3VJ41kLpdyslWTMueim3evVSuyUUQQAABBKJXIGqDuHH1i9WsocslG6OmoUVxPg0EccXRYi4CCCCAAAIIIIDAERXIWTNPvp+mKZCdIU/VhhE1bijqhgIH9ilg3Vjrt1Fcx0vkiUs4ovfPxRFAAAEEjn0Bgrjw77GriCOICwlFEBd+/TADAQQQQAABBBBA4DcSCPhzlPPjJOWsXaiAP1ue5AaHXRkXSE9RIHWbvLWaKfbE8+StdLCJAQMBBBBAAIGSCERrEDfn4/rq0DoxIrqFyw7olD9SERcKiyAuoiXEJAQQQAABBBBAAIHfSiDgy1LOT9OUs2GJAul75UmuV+iZcaHuycK8wN7Nki9L3ppNFdv6bHmr/Nqc4bd6HTwPAggggMCxKUAQF/59JYgr3IggLvz6YQYCCCCAAAIIIIDAbyxgYZp/w2LlrJmvwJ6NCnhi5KlQTUqsWOh2VQvwAvt3SRkp8lSoLm+dFopt1l2epCq/8d3zdAgggAACx7JA1AZxHxazIu4yKuJCfQ4I4o7lbwdeGwIIIIAAAgggUMYF/Pt2yL92gXJ2rDkYsmWlSzFxUlyi5I2RAgFX+absA5LXK09SVXkq11ZM/Tby1jtBHk/pNHwo44zcPgIIIIBAKQoQxIXHdBVxBHEhoQjiwq8fZiCAAAIIIIAAAgj8zgKBtN3yb/1FFswFUra7Zg4K+A/eVWy8POWT5a1UQ97qjeWp1lAeC+kYCCCAAAIIHAGBqA3iPqivjhGeEbfAgrjLqYgLtfwI4o7Ah5JLIoAAAggggAACCBw5gUCOTzqQqkBOzsEqOKuOiy9f4g6rR+6OuTICCCCAwLEkQBAX/t0kiCvciCAu/PphBgIIIIAAAggggAACCCCAAAIIIOAEojaIe7++Op4QWdfUBT8e0ClXUBEX6iNDEMcXCQIIIIAAAggggAACCCCAAAIIIBChAEFceCiCuMKNCOLCrx9mIIAAAggggAACCCCAAAIIIIAAAk4gaoO4d4tZEXcVFXGhPjIEcXyRIIAAAggggAACCCCAAAIIIIAAAhEKEMSFh3IVcQRxIaEI4sKvH2YggAACCCCAAAIIIIAAAggggAACTiBag7jv/9egWGfEdf7TBs2fP18dO3Zk5eQRIIhjOSCAAAIIIIAAAggggAACCCCAAAIRChDEhYeyijiCuNBOBHHh1w8zEEAAAQQQQAABBBBAAAEEEEAAAScQtUHcOw3U8fgIu6YuP6DOV1MRF+ojQxDHFwkCCCCAAAIIIIAAAggggAACCCAQoQBBXHioBQRxhSIRxIVfP8xAAAEEEEAAAQQQQAABBBBAAAEEnEDUBnFvF7Mi7loq4kJ9ZAji+CJBAAEEEEAAAQQQQAABBBBAAAEEIhQgiAsP5SriCOJCQhHEhV8/zEAAAQQQQAABBBBAAAEEEEAAAQScQNQGcWOLWRH3ZyriQn1kCOL4IkEAAQQQQAABBBBAAAEEEEAAAQQiFCCICw/lKuII4kJCEcSFXz/MQAABBBBAAAEEEEAAAQQQQAABBJxAtAZxc//TUB1bRdg19acDOvm69Zo/f746duzIyskjQBDHckAAAQQQQAABBBBAAAEEEEAAAQQiFCCICw+1gCCuUCSCuPDrhxkIIIAAAggggAACCCCAAAIIIICAE4jaIO7fxayI+wsVcaE+MgRxfJEggAACCCCAAAIIIIAAAggggAACEQoQxIWHchVxBHEhoQjiwq8fZiCAAAIIIIAAAggggAACCCCAAAJOIGqDuDcbFe+MuBvWcUZciM8MQRxfJAgggAACCCCAAAIIIIAAAggggECEAgRx4aFcRRxBXEgogrjw64cZCCCAAAIIIIAAAggggAACCCCAgBOI2iDujUbq2DLCrqkrDujkPlTEhfrIEMTxRYIAAggggAACCCCAAAIIIIAAAghEKEAQFx5qAUFcoUgEceHXDzMQQAABBBBAAAEEEEAAAQQQQAABJxC1QdzrxayI+ysVcaE+MgRxfJEggAACCCCAAAIIIIAAAggggAACEQoQxIWHchVxBHEhoQjiwq8fZiCAAAIIIIAAAggggAACCCCAAAJOIGqDuDGNi3dG3E1r6Zoa4jNDEMcXCQIIIFCKAv7MA/Jt2yx/yl7lpOxRICNdAX9AnthYeStVVkylKoqpWl0x1WvK4/GU4jNzKQQQQAABBBBAAAEEEPgtBAjiwiu7ijiCuJBQBHHh1w8zEEAAgbACOSl7lbXmF2WvX3MwgDuQoUBWluT1yuK2QCAgeTzyJiTKk5Sk2Jp1FN+oqeIaNZUnJjbs9ZmAAAIIIIAAAggggAACR4dA1AZxr1pFXLmI3oQFKzJ08s1UxIXCIoiLaAkxCQEEEAgtEMjJUdYvy5X50w/y7dwuZWfLW7mKvOWSpPj4fFVvNjeQeUD+fanyZ6S56rjY+o1Url0nxSRXgxgBBBBAAAEEEEAAAQTKgABBXPg3iSCucCOCuPDrhxkIIIBASAHbhpoxZ4ay1q924VpsjVrylCsf0ZZTC+Vydu90W1dja9VRYvuTFd+kOdIIIIAAAggggAACCCBwlAtEaxA375XG6tgiwoq4nzPUqS8VcaGWMkHcUf4B5/YQQODoFLAQLn32NGWtXCFPTIxiLITzeot9s/6MdPm2b1Fs9Voq1/EUxR/XstjX4AEIIIAAAggggAACCCDw2wkQxIW3XkAQVygSQVz49cMMBBBAIJ9AwO9X+nffKnP5Enni4hVTrUZEVXCFMQays5W9eb07N65899MVV7se4ggggAACCCCAAAIIIHCUCkRtEPdyk+JVxN26hq6pIdYwQdxR+sHmthBA4OgVyFr9s9K/m67AgXTF1KpbohAu+CoDWZnK3rJRCU1bKun0c+SJTzh6AbgzBBBAAAEEEEAAAQSiWIAgLvyb7yriCOJCQhHEhV8/zEAAAQRyBfzpado/6Qv5NqxVbIPGbltqaY2cPbtlgZxtUU1s16m0Llvkdd5880316dNHa9asUePGjX+T5yytJ/F4PHr00Uf12GOPldYluQ4CCCCAAAIIIIAAAmEFojaIG1XMirjbqIgLtZgI4sJ+xJiAAAII/CqQ+dNSty3Vk1hOMZUqh6TZn5Gh5z/6VItWrtLCX1Zp2569uubMXnr57tsPmb9xx0498877mrZoibbu2asaFZLUo11b/eP5F9SqTdt883NycjR06FCNGTNGGzZsUIMGDXTTTTfpvvvuU0yeQHD58uV6/PHHXRn4li1b5PV61bRpU91www267bbblJDwa7VdSYI4v9+vQYMGqX379rrkkksOe5lMnTpVp59+eu7jY2NjVblyZXfP3bt314033qg2bdoccv1jOYgLvi+hUP/zn//oz3/+82F7F3xgwOdTzr5U5ezdq0B6umzrtQXM3qQkxVgH4EqVDuv8w1K7QS6EAAIIIIAAAggcZQIEceHfEFcRRxAXEoogLvz6YQYCCCDgBKzT6f6Jnyt71QrFNmxSaDixbtt2tf3rbapdNVntmzXVV9/PDxnE7Urdpy797lSWz6cbzz9HjWvV1Mq1a/X6xKnyxsbph2XLVL9+/Vz9fv36adSoUa6CrVu3bpo1a5beeOMN2c9ffPHF3Hlff/21nnvuOZ1yyinu8RbgzZw5U++8847+8Ic/aPz48blzSxLE+Xw+xcXF6frrr5dd53BHMIizwK1Xr16ygC8lJUVLlizRhx9+6P7+97///ZDKt/379ys+Pt79c6yN4Pvy4IMPqnXr1vlenoWTTZo0KdFLDgQCytm7R1lr1yhr/Tr596cpcOCA7LzCQMDv1radf+hJTFRMhQqKb9zE/RNTqVKJnpcHI4AAAggggAACx4JA1AZxLzVVx+YRdk39JUOd+q3mjLgQC54g7lj4FuA1IIDAbyLg27VD+yd+5gKL2Bq1Cn3OzOxs7UpJVd3q1eTLyVHVi64MGcS9+tlXumfUq3r3Hw/qvFNOzg37Pvr0U/UZM1bDhw/XnXfe6X7+ww8/qF27drr99ts1YsSI3OceMGCARo4cqcWLF6tt2/wVdAVv8G9/+5sL7H766Se1bHmwO+vRFMS9+uqrrsIv77AQ7qqrrtKECRP0+uuvuxAyGkbwffnmm2901llnlepL9mdkKGPJImWtWS3fnj2SzydvufLyJCYcPJvQI8kfUCArS/4DB2Tbsb0WyCUnK6FZCyW2aSvvMRh+lioyF0MAAQQQQACBY1qAIC7827uAIK5QJIK48OuHGQgggIATyFrzi9K+nShvYjl5K0ZWGVRUEDfsvY/02Ftva+q/nlHH5s1ylWdNnaJzh76gl0eN0i233up+PnDgQD355JNavXp1vmooO9vNtnA+/PDDGjJkSJHvlFXJ2TbW7777zlXLFRbETZ8+3VXezZ49221trVChgk477TT3/MEAb+3atSGrsmyeVbjZsEq8559/3lXt/fzzzypXrpyreLPrHH/88bn3GqyICxXE2SQL4+z8Otuuaq/XtqTaKLg11Z7vn//8p9566y3Z/Vm1XsOGDXXppZceUk1ncyyUXLZsmdu626VLF7fNtmvXrrn3tXv3bj3zzDOyCkNzz8rK0gknnKC77rrrkK2h9nxWtTdlyhTt2LFDycnJrpLN3rczzjgj95q7du3SE088oXHjxmnz5s2qUaOG/vjHP2rw4MGqUqVK7ry8QZy9V4mJie71lHRkbdqojAXzlb1po9uCGlu1mjzlyhXZcMSq5/xpacrZvUuehATF12+g8p1OVmyNmiW9HR6PAAIIIIAAAgiUSYGoDeJePK54FXH9V1ERF2KFE8SVyY89N40AAr+HQMaiucr4foZia9Vx2/YiGUUFcfN/XqnT73pAJ7dqoSE3Xq+GNWto9ZatemjUq0rLytb3c79Xcr0G7mnOOeccV/W2devWQ562Vq1a6tChg7766qt8v0tPT5f9k5aWpu+//179+/d3Yc7KlStdKGYjVEWcVd1ZBZ6FZvXq1dP69es1evRoWSBjwVXNmjXdNW3bqG1L7dmzp/r27euuZ/fSu3dv9/crrrjCBU7XXXedOnfuLAuhXnrpJffYuXPnqnnz5m5euCDO5vz1r391gd6PP/6YG+IVDOKsaYOdjWdn4VmgZsHZL7/84tyC4aBd695779WwYcN02WWXuddoRlZtZ2HbpEmT1KNHD3df8+bNcyGZzWvRooUyMzP10UcfacaMGXrttdfcPdnIzs52oVtqaqpuvfVWF/5ZGGfmdh/2fDb27NnjAtCdO3c6LwtQrTrRQk8LJi34DJ7fF3xfKlasqH379rmw0B5rId6ZZ54ZydI7ZE7m2jVK//47ZW/dqtjkqgfPfvv/UDOSC7rtrHv2yJ+aorj6DZTUtZvi6tSN5KHMQQABBBBAAAEEjikBgrjwb6eriCOICwlFEBd+/TADAQQQcAIZc2cqfe4sxRVxPlxBqqKCOJv7xpdf6/F//1e7U/flPrRby+b6zz1/U8PLrlFs1eru57bt1M5CswYMBUfHjh1dGGThWd4RDKaCP7Mg55VXXtGJJ56YOy1UEGdBWVJSUr5rWUWb3YNd86GHHnK/K+qMuPfff19XXnml7M/LL78891qbNm1yVWXnn3++O7PORiRBnG3Tvfvuu/XJJ5/ooosuco8rGMRZGFmnTh198cUXha5YCwAtFLSmF8GAzCbbeXPWEMIeb4GYDQverHFE3kYYFkbZVtGNGzdqxYoVbp4Ffdaw4t1333WvubBhQejYsWNl/+J23HHH5U777LPPdOGFF+rll1/WLbfc4n7+3nvv6dNPP3WhW7Vq1dxzWXi4fft2ffzxx7kGhT5ZgV9YJVzazOnybdmq2Lp15c3TsCPSawTn+TPSlb1tm6uMq3BqL8VWP7hGGQgggAACCCCAQLQIRG0QN7KYFXG3UxEX6jNBEBct3xS8TgQQKLHAkQjixs+ao9e+nKCzOrZX0zp1tGztOo34cJyOb1BPE76ZqMoNGrn7tuDGqs2sQUPBYY0bLKCxSre8wyq87B+rRJs8ebJrfvDUU0+5KrDgCHdGnAVUFkhZAGVbLJs1a+aqwmwUFcTZdlDbAmvPWXBce+21LoyyqjEbkQRx1in25ptvdkGWPd5GwSDOOq/a67UgrmCDg+A9WJj3wgsvaNWqVblVgcHfWWMEq4yzrbBWiZZ3WHWdWVgjCdtCa1uBbV6lSpXcNlhrnmCVeHZ+n/2s4DA/24ZqhlYVWHDY1tvzzjvPBZeFjW3btrkQ065vrzPSajY7E27fxG+UuXql4urWK1EIF7w3f3q6fNu3K6HV8ap4+hnylMK22RJ/QLkAAggggAACCCDwGwkQxIWHdhVxBHEhoQjiwq8fZiCAAAJOIGPh9we3ptauF3HwUFRF3Kczv9MNzwzT9OeHqnXjg4Gbja8nT9Hl/3xBTz3+mB78x6PuZ4dTEVfwbbOqsgceeMBVcAXPaAsVxNm5cBZKWXdV206Zd1jYZaGejaKCOAuMli9fXuTKsTPdbMtlJEFcsCLOqsSsesxGwSDOOsNecsklbuunBYZ2r7a11AKu4LBKvC+//LLI+wqew2fhmQVrVqlmFYH2v/OOdevWuW2oNszr2WefdRV0VnFnW4mvvvpqdx82LCi1ILWoceqpp2ratGlFzrnnnntcZZxVyNl22UhG2pzvlLFwgbxJSYqpXDmSh0Q0x7dzpxTwq/zJnVXuxPYRPaakk8IFxyW9Po9HAAEEEEAAAQQiEYjeIK6ZOjaLsGvqSgviVnJGXIgFRRAXyaeMOQgggIA1a1i5QmkzJslbPkneCvkrpgoDKiqIO++Bv2tnSqrmvvxrF1S7TvaGtWp81yM69fTT9dnnn7tLH84ZcQXvySqqateuna+xQ8Fgwyq+bJulbb20pgRWWWbNGiwwsw6u1atXzz1vraggrlWrVu6MNtsKW9iwbZcWpkUSxFm3VLtXC/fs2jYKBnH2MztPzSriLCy0jqPW3OGCCy5wW1rtNZx77rmyZhT2vwsb3bt3d9Vytn31/vvvdxV45m8VbRa02fUtGLRrWyVbcNh5dBZefvvtt5o4caLbLmwVdvZ4O9vPtr1aUGhbVEMNa9bQqVOnIj9r1vzCOuVa6GiVkOGGdUXdN+FL+XbvUly9+iGr6PZnZGjkuE+0aNUqLVq5Stv27NHVZ5yuUQPuOOTyG3fs1LPvvqtpS35w82pUSFL3tm316PMj1SrPlmd7oAWtZmjVjBs2bFCDBg1cV1xrGJJ3u6+dxWeVjvaemalti7Z1Z1ugC3aMLUkQZ2vbGnLY+rb3oSTDXo9dy84UtODaQlZrVGLNOQoGpDb3kUcecWc47t2711W32lmCdhZjpFWNJblXHosAAggggAACpS9AEBfedAFBXKFIBHHh1w8zEEAAASfg27FN+yd+roAvW7HVakSkUlQQ17Hv7e4aC14ZmXst62SZtXaVGt//mHqcelpuAwbbCmnbSkvSNTW4hfK2227L3R5ZMNgInndmjRFsq2XeUbduXRcy5O2KasGUNWyw6+QdVrVm86zzaLhun+GCONsC2qhRI1WtWtW9/uAIFcTlvQerYLPQxzqpWshjFXIWftjWVAtPLJQsatiZc9apNW+jB5tvAdHTTz99SBCX91pWSXjyySe7MM4q5yyUsrPerDtrwaYaES2k/590xx13aOTIkW4bct5z5gq7RsaihUr7bpZiKldxFXGhxrpt29Wu7y2qnZysds2O04S580IGcbtTU9X1jjuV5cvWjeeeq4a1amnV2rV6Y9JkeePi9MOyZapfv37uU/Tr1881orAQ1UJD21Zt68p+bh1rg8POELRKQGuKYecd2hZgm7d06VK3Tm29BkdJgriiguPivAe21dvOE7Sg2e7NtiXb+2Gv1dakndUYdLDOuBau2mv629/+5iooLbz74IMPZNWN1smYgQACCCCAAAJlTyBag7i5I6wirnxEb9iClek6eQAVcaGwCOIiWkJMQgABBKSAz6f9X3+irHWrFdewaUTVLEUFcX8a9LS+/H6evh46RKcc39IR5+xL0bhvZ6rPS6+56prBgwe7n1tAZsGQBUm2XTI4rDrKgplFixblNmGwbZDW2bTgsOouq1CyMMPCMxsFgw0LP2wbrFVyWYASHG+99ZYL5qzqJ28wlZiY6KrFClaYWSOGa665Ro8++qhr8FBw5L3HooI460RqDRAmTJggu4e//OUvuZcqGMTZllSr2Ms7rNLKurYGm0ZYIwYLhey1WefTghVJee/LAhSrzsq7XdTOtbNqLfszWBFnQWH58uUPCRytmsvOybMQxoY1YrDz5axazs6KyzssqLPrWNhowwLM4N+D8yzssTVgnWyt22q4EcjJUern45W1do3iGjUudL1mZmdrV2qq6larJluv1Rx5FOsAACAASURBVC+9PGQQN+aLL3Xv6Ff0zsCHdV7nk93TW3D80Sef6sY333JVglY1acPCqHbt2hW6Xm092zqzYdV9Zh3sGGs/y8jIcJVr5mzviQW+odZrOIO8vy+tIM7CQatqzLtN2p7HughbqJjXwT6vFjpaFaZVWgaHPd62PNvnLbhNvDivhbkIIIAAAggg8PsKEMSF9yeIK9yIIC78+mEGAgggkCtwYOkipX8/XTEVKhW5PXX0+C+UkpbuDvd/8u131e64JrqwWxd3nfNP6aQ2TRprzo8/6fyHHlVCXKxuOv9cNa5Ty/2H+b9nzFHVatW0cNGifFVbtp1t9OjRLkSy/6i3AMMqhyzgsf+oDw47F82qdqwpg20HtO1wFmRZJU6PHj00ZcqUQoMNCyssILFtrFZ9Zdsp58yZo3Hjxik5OdldL28QZ9dbuHChHn/8cVcFZAGghUxWjWZnpFkn0bPPPlu9e/d2DRCsOswqwuwMOQvJbASDuBtvvNHdsz3WQilr9GCVQ/Z3C/P+/ve/51uJBYM42zpqLlaJZvdtFYAWmlhFnm1pta2fNuycPDvPzbrIXnzxxS68s+2Ddh/23Baa2LAQ1J7TXodV01l1k/nbte1fvoJBnNnYe2MVXS1btpSFkxbe/fe//8333li4ZvdngZqFgyeddJKrlLP/bQ0w7DXa1k0bZmkWVnlllXQWvFmIZ1VY5pe34UZhH8+cvXuU8sXn8qelKS7M+XTBaxQVxA3/4EM9/p+xmvLcUHVofvDsOxuzpk/X+c8N06gXXtCt/7/t1kLkJ598skQVnMHz8NavX+/WnY1QFXH2flk1moWsVuloW6ktMLbnt/fDRrAatKBV3mDZ3gvb+mufKTsT0LYnm7NdJ29YZtWQVhVpHXjzbiUOhry2Rvr27eueyjoUp6enH9JIJdi919aXbXFlIIAAAggggEDZEojaIO5fzYtXEXfnL5wRF2JpE8SVrc87d4sAAr+zQM6+VKVN/FzZWzcprkFjebzekHfUps+tWr/9YFfQgmPUnf11be+DFVFL16zVM++8r4W/rNKWXbuVnFReZ3bvpqdGjXbbMfMOC8ksQLIzt+wMNwtrLLixSrdgxZDNt/DLAgsLsqyiyCqN7Fy1q666ylUo5a08ChVsWEdROx9uxowZbmulbae0SrpgtVPeIM4qn6y6Z/78+S5wyBtsWKhlZ8RZdd2yZctcyGXbWy28sw6owTPOgkFc8LXa+WHWGbRp06Zurr1GC6QKjoJBnG3d/eyzz1wjAzsrzgIzCwAtFMp7lptdxyrkrFLJQkQLt2yuBXhW9Rds7mDeTzzxhKvEszPebAuivVYLeiwMDQZx9qc9t4VvmzZtcmfR2b3bHJuf972xUPGZZ55x1VMWSlrYY9sVrarQ5gbfc+vuaoGpBUhWUWdhodnaFmULdyIZWevWat+kia6xSKRNGooK4hb88ovOuPd+ndyyhZ7oc4Ma1qyp1Vu26OFXXlVaZpbmzJiuascdDOhK40xDC0AtiLUg2SoTbYRar7ambR1aaGbVghbcWRhm683WnYXDaWlpztwqQXv27JkblNnZbrZGbFxxxRUucLaQ1BpuWJhtQa491oKz5s2bu3nBEM0+F7a11NaWhan2ntl7Zb8Pds61z118fPwh3YPtvmxN25mF4ZqHRPJeMwcBBBBAAAEEflsBgrjw3q4ijiAuJBRBXPj1wwwEEEAgn0Dm8h+UPm+W5PcrtkbRnTAjpbNtr9kb1ym+UVMlnX6uawjBQKAkAgeW/6j9305VTJVkectF1t2qqCDOBWETvtag/4zV7n37cm+tW8uWevO2W9To4ksU37iJ+3lJu/xaBaNtTbVGGxagBUeoIM6CsmBQF5xnFW12D1ZlaNVrNorammrBrG2BDm5hDl7HglWr3rRuu7bdOjgsYLZQ1MK64LCut1bZaBWMwWHVqRa0WVhrYW9w2DmFFiDaPVpgzkAAAQQQQACBsiUQtUHc8ObqeFyEZ8StStfJd1ERF2plE8SVrc87d4sAAkeBQCDHp7Tpk5T184/yVqykmMrJJborO8vLt2m9vFWrqXyXUxXfsGmJrseDETCBA8uWav/0aYqpWk3exMSIUMIFceNnf6c3vpqgMzq2V9PadfTjunV6/uNxalW3jr78+GNVbXPw3DdrJGHVZtagoeCwSkg7982qyEINqxrs2rWr22ZqZ8lZxWBwhGvWYBVpmZmZrhrOtkg3a9bMhWM2igriLr30UneeX6hQzLre2r9sW3VpcHz88cduO7hV/tlzWEWeVY1alZttAw8Gg9YkxM4KtGpLaxpiVaxW6WgVpxYgWgVkYQ4RvWFMQgABBBBAAIHfRYAgLjz7AoK4QpEI4sKvH2YggAAChwj40/YpfcYUZa1dKW9SBXmTq0XUvKHghQLZWfJt2SRv5WQltu2ohNbtDus6vEUIFBQ48NNy7Z821W1L9ZaP7P9zWVQQ9+ns2frr0H9q2rB/qnXjX7dNT5w5U5c/+5yGPPiAHn7qaXcbh1sRZ00aLNyy7Z12Fp5tx807QgVxFtg9+OCDGj9+vKxbbd5hZ/tZGBYuiLOqN6vCK2rYGXK27diCPdvmbf8CHmw4YY/7+uuv3b3b1mPbLh4ctrXZtq3aGYE2bDuybWm1aj3bSmvboxkIIIAAAgggULYEojaIG9aieBVxd//MGXEhljZBXNn6vHO3CCBwFAnYeXEZc6Yre8NaBbIyFVurjjzxCRHdoVXs+FP2yA7Ut+2tCSecqIQTCOEiwmNSRAJZG9Zr38Rv5ImJUcz/N6oI98CigrjzHx6oXSmpmvPiyHyX8e3cocb979CpPXvq86+/dr87nDPi7Ky+iy66yAVnFnbZttSCo2AQZ81QbAurnZloVWbW0dbO8LPAzM40tLP1gmcaFlURZ2e52fPbltPCxplnnulCcgsHrTruxx9/PGSqnQ1nW1TtrMK8w65t1Xb2p1XN2bmB1rzEzqX73//+F+5t4fcIIIAAAgggcJQJEMSFf0NcRRxBXEgogrjw64cZCCCAQKECFsAdWLZYWSt/Us7O7ZI7GD9ZnnLlD2nkYOGbfNny70tVzr4UeRPLK7ZufVcJF1unPpVwrLNSFchJTVXK5+Pl37dPcbVrR3TtooK4Trf1d9eYN+rFfNfK3LBeTe+5Xz1OO01fTZjgfmfnp1kDi9WrV7smF8FhZ6VZIwv7/ZAhQ3J/biHZ5Zdf7qra3n77bf3pT38Keb8FgzjbumpBnHU6tUYbeYc1BmnRokVuEGcVbRaAWcMGu07eceGFF7p5VrVmXXaLGsFOrNYUJO+wz7eFa9ZgxKr5ihrWFMLOjwt13xG9UUxCAAEEEEAAgd9VIGqDuOdaFq8i7t4VVMSFWKkEcb/rx5cnRwCBY0XAt22LslavUPamDfKnpiiQmaGAJE9svOSRa+wQ8GXLExvnGjHEVKuhuIZNFN+slbwJkZ3fdaxY8Tp+G4GA36/ULz9X1spfFNe4SURBb1FB3NVDntRXc+dpwtNPqnOrVu5F2PmGH336qW5889+uO+3gwYPdzy0g69Chg2tIMGLEiNwXPGDAAI0cOVKLFi3K7f5qVW3XXHON6/ZrFWnWUbewUTCIW7p0qdseap15rUttcNh2UAvm8nbxtd8lJia6ar1PPvkk31NYIwa7h0cffdRtGS047Ew7675q4+KLL3aB4cyZM91ZdsFhHV6twi2vQ6jXYWfg2Tl51mXYqupsqyoDAQQQQAABBMqWAEFc+PfLVcQRxIWEIogLv36YgQACCEQskJO6V77NG5WTslc5e3bKn5FhcYU83hh5qyS7arnYqtUPVsCFqbyJ+EmZiEAhAhnLlipt5gx5k5IUU7FioU6vfP6FUtLSZKHYU+/8Tyc2baoLu3Zx88/rfLLaNG6sOct/0gWP/F0JsbG68fzz1KR2bS1dsUL/nvatqiYna+GSJaqdp/Lu1ltv1ejRo11A1r17dxdcWQXYLbfc4hodBIednzZ8+HAXmt10002H3GPv3r1d4wcbBYM4q6SzIG7btm264447XGfSOXPmyCrOkpOT1aBBg9yKOHu8VavZmWyPP/64a5xg4Zo1dbBqtquvvtqFgWeffbbsOa26bd26da66zc6QGzt2rLsHa0DRq1cvJSQkqF+/fq4xhTVrsBCxatWq7vpBh61bt+rcc8/VJZdc4u7FzrMbM2aMq7z75ptvdMopp7B2EUAAAQQQQKAMCkRtEDe0VfEq4u77iYq4EOubIK4Mfui5ZQQQKBsCbiuq3y/Zn17vIVtVy8ar4C7LskDO/v2uKs63dYviGjYqtCqu7c19tWH7r11B877mF++4XdeeeYb70dK1a/Xs/97TwlUrtXX3HlUpV06nd+yop199VU2aN89HZSHZs88+64InO8PNgi8L2qyRgW0RDQ4LtaZNm1Yos3UZtTmhgjj72apVq9z5cDNmzFB2dra6dOniOpjaGXE2gmfE2d8tMOvfv7/7F0KrSMtbMWefVwvTrLpu2bJlLpyz7a0W3lmVnlWxBYed9zZo0CDNmzdPmzdvdgGchXdWEWidUIPDurhaZZ6FgxYWBudZ5Z11W2UggAACCCCAQNkUIIgL/765ijiCuJBQBHHh1w8zEEAAAQQQKLMCGYsWKm3eXNe0IbZatVJ7HdnbtsoTH6+kLt2V2LJlqV2XCyGAAAIIIIAAAke7QNQGcc8er45Ny0f09ixYna6T719ORVwILYK4iJYQkxBAAAEEECibAoHsbO2bPFGZK1YotkYNt021pCMnNUU5KSlKbNNWFXqeRrVnSUF5PAIIIIAAAgiUKQGCuPBvF0Fc4UYEceHXDzMQQAABBBAo0wK+XTu1f/q3yl6/TrE1apYojHMh3J49im/SVBVO66WYipXKtA03jwACCCCAAAIIFFcgaoO4Z4pZEfcAFXGh1hZBXHE/ccxHAAEEEECgDApkb9umtNkzlb1hvbzlyyumWvViVbJZh1Tfjh0KZGcpvlFjJXXvqdjk5DIowS0jgAACCCCAAAIlEyCIC+/nKuII4kJCEcSFXz/MQAABBBBA4JgQ8O3ZrfT585S9fr38+/cppkoVeStWcufHFTYCOT63DdWfkuI6/8Y3bqzyHU+iEu6YWBG8CAQQQAABBBA4HIFoDeK+f8oq4iI75mTB6jR1foiKuFDriyDucD51PAYBBBBAAIEyKhDw+XRgxU/K/HmFcnbvVs7+ffLExcmbmOiaL8jjkfwBBbIy5T9wQPLlyFupkmv0kNDqeCU0a16sSroyysRtI4AAAggggAAChQoQxIVfHARxhRsRxIVfP8xAAAEEEEDgmBPwZ2a6M+Oy1q+Xb/cuBTIPKJCVLQUCktcjT1y8vOXKuS2s8Y0aKb5+AxfYMRBAAAEEEEAAgWgXiN4g7gR1bBJhRdwaq4j7ka6pIT4sBHHR/g3C60cAAQQQiHoB66yak7JX/vR0ye+XvF55kyoopnJleWJjo94HAAQQQAABBBBAIK8AQVz49bCAIK5QJIK48OuHGQgggAACCCCAAAIIIIAAAggggIATIIgLvxAI4go3IogLv36YgQACCCCAAAIIIIAAAggggAACCER3EDekdfG2pg5cxtbUEJ8Zgji+SBBAAAEEEEAAAQQQQAABBBBAAIEIBaK2Io4gLsIVUvQ0grhSYeQiCCCAAAIIIIAAAggggAACCCAQDQJRG8QNblO8irhHllIRF+IDQRAXDd8SvEYEEEAAAQQQQAABBBBAAAEEECgVAYK48IzujDiCuJBQBHHh1w8zEEAAAQQQQAABBBBAAAEEEEAAAScQtUHcE23VsXFSRKtgwdo0df77D1TEhdAiiItoCTEJAQQQQAABBBBAAAEEEEAAAQQQIIiLZA0QxBWuRBAXyQpiDgIIIIAAAggggAACCCCAAAIIIBDFFXFzBhWvIu6Uf1ARF+oDQxDH1wgCCCCAAAIIIIAAAggggAACCCAQoUC0bk0liItwgYSZRhBXOo5cBQEEEEAAAQQQQAABBBBAAAEEokAgaoO4x60irkJE7/CCtft1yqNUxIXCIoiLaAkxCQEEEEAAAQQQQAABBBBAAAEEEIjeM+LmEMSVyvIniCsVRi6CAAIIIIAAAggggAACCCCAAALRIBC1FXGPnli8irjHl9A1NcQHgiAuGr4leI0IIIAAAggggAACCCCAAAIIIFAqAgRx4Rnd1lSCuJBQBHHh1w8zEEAAAQQQQAABBBBAAAEEEEAAAScQvUFcO3VoFNkZcQvXWRC3mIq4EJ8Zgji+SBBAAAEEEEAAAQQQQAABBBBAAIEIBQjiwkMRxBVuRBAXfv0wAwEEEEAAAQQQQAABBBBAAAEEEHACURvE/b198SrinlhERVyIzwxBHF8kCCCAAAIIIIAAAggggAACCCCAQIQCBHHhoVxFHEFcSCiCuPDrhxkIIIAAAggggAACCCCAAAIIIICAE4jaIO6RDsWriBu8kIq4EJ8Zgji+SBBAAAEEEEAAAQQQQAABBBBAAIEIBQjiwkO5ijiCuJBQBHHh1w8zEEAAAQQQQAABBBBAAAEEEEAAAScQrUHcdwOtIq5iRKtg4bp96jKEirhQWARxES0hJiGAAAIIIIAAAggggAACCCCAAAIEcZGsAYK4wpUI4iJZQcxBAAEEEEAAAQQQQAABBBBAAAEEorki7uEO6tAwwoq49fvU5Ukq4kJ9YAji+BpBAAEEEEAAAQQQQAABBBBAAAEEIhSI2q2pBHERrpCipxHElQojF0EAAQQQQAABBBBAAAEEEEAAgWgQiNog7qGOxauIe2oBXVNDfCAI4qLhW4LXiAACCCCAAAIIIIAAAggggAACpSJAEBeecaFtTSWICwlFEBd+/TADAQQQQAABBBBAAAEEEEAAAQQQcALRGsTNfuCkYlXEdX1mPhVxIT4zBHF8kSCAAAIIIIAAAggggAACCCCAAAIRChDEhYeyijiCuNBOBHHh1w8zEEAAAQQQQAABBBBAAAEEEEAAAScQvUFcJ3VoEGHX1A0WxM2jIi7EZ4Ygji8SBBBAAAEEEEAAAQQQQAABBBBAIEIBgrjwUAsJ4gpFIogLv36YgQACCCCAAAIIIIAAAggggAACCDiBaA3iZt1/crEq4ro9O5eKuBCfGYI4vkgQQAABBBBAAAEEEEAAAQQQQACBCAUI4sJDWUUcQVxoJ4K48OuHGQgggAACCCCAAAIIIIAAAggggIATiNog7l6riKsU0SpYuCFV3Z6jIi4UFkFcREuISQgggAACCCCAAAIIIIAAAggggABBXCRrgCCucCWCuEhWEHMQQAABBBBAAAEEEEAAAQQQQACBaK6Iu6dz8Sri/vk9Z8SF+MQQxPE1ggACCCCAAAIIHCUCgUBAvl27lb19h3L2pMi3d68Cmdnu7jzlEhSbXEWxVSorrk5txVaObGvIUfLSuA0EEEAAAQSOGYGo3ZpKEFcqa5ggrlQYuQgCCCCAAAIIIHD4AgG/X1nrNihj1Rplb96qnH375M84cDCA83rdn4GcHHliYuRJTFBMpUpKaFBPic2aKq5ubXk8nsN/ch6JAAIIIIAAAsUSiNYgbubdxauI6z6MirhQC4sgrlgfNyYjgAACCCCAAAKlK5Czb7/2z1uozDXr5Nu1R95yCYqpXEnexEQXvOUdAZ9P/owM5exNlf09tno1JbZopqT2beUtl1i6N8bVEEAAAQQQQCCkAEFc+IVhZ8QRxIV2IogLv36YgQACCCCAAAIIHBGBrE1btG/W98ratFme2BjF1awhT2xsRM/lz8pS9tbt7nHxDeqpUs9uiq2aHNFjmYQAAggggAAChy8QtUHcXaeoQ/3IjsZYuDFV3YfP4Yy4EMuMIO7wP3s8EgEEEEAAAQQQOGwBC99Sv52t7E2bFVujumIqVij2texMuZy9Ke6fhMaNVOn0HoRxxVbkAQgggAACCBRPgCAuvBdBXOFGBHHh1w8zEEAAAQQQQACBUhXwpaQq5evJyly7QfF1a5d4W6ltb/Xt3KWEZsepyjmnu22tDAQQQAABBBA4MgLRGsTNuLNLsSrievzrOyriQixBgrgj87nkqggggAACCCCAQEgBa8yQOnWG0hcvVWy1qoqpkFQqUr49e+U/cEAVTuqgpFNOooFDqahyEQQQQAABBA4VIIgLvyqsIo4gLrQTQVz49cMMBBBAAAEEEECg1AQO/LJaqdNmyJ+Zpfg6tUrturZNNWv9RhfuVe7dS/F1apfatQu70Jtvvqk+ffpozZo1aty48RF/Pp4AAQQQQACBo0EgaoO4AV2LVxE3YjYVcSEWLEHc0fAp5h4QQAABBBBAICoErBouZcIkpS9droTGDQ/pimoI+zMy9OKnH2vxqlVatGqltu3doz/1OkMv3n7nIUabdu7Q0Pff1bdLFrt5NSpVVpfGTfTgXfeo4zVX5pufk5OjoUOHasyYMdqwYYMaNGigm266Sffdd59i8nRnnTdvnsaOHavJkye7gC0pKUmtW7fWQw89pLPOOivfNUsSxPn9fg0aNEjt27fXJZdcUqL3316PXWvSpEnasmWLatWqpdNOO00DBw5UixYtcq99ww036K233ir0uQYPHuwew0AAAQQQQKAoAYK48OvDVcQRxIWEIogLv36YgQACCCCAAAIIlIpA1pZt2vvVRAUyMhRXO3Q13Prt29ThtptVK7mq2jc9ThPmzw0ZxO3el6oed96uLJ9Pfc45T41q1tTqrVv0xpdfyOP1avH8+WrUqmXufffr10+jRo1yFWzdunXTrFmz9MYbb8h+/uKLL+bOu/zyyzVt2jRddtll6tixo/bv3+/mLV26VC+99JJuu+223LklCeJ8Pp/i4uJ0/fXXy65zuGPXrl1q06aNsrKy3L01adJEK1eudK/V4/Hohx9+UP369d3lZ8+erVWrVh3yVCNGjJAFkPPnz3evmYEAAggggABB3K8CweBxxh1d1b5e5YgWx6JNKerxPBVxobAI4iJaQkxCAAEEEEAAAQRKLpC2cIlSv52luOrVCm3QkJmdrV2pqapbrZp8OTmqdeUfQwZxr331he5/9WW9/eAjOvfkzrk3N27SRN340vN69uFHdN+QJ9zPLYxq166dbr/9dlnoFBwDBgzQyJEjtXjxYrVt29b9eObMmerUqZMSEhJy52VkZLjKtR07dmj79u2KjY11vzsagjgLB/v3769PP/1UF154Ye49f/jhh7JQcfjw4brzzkOrCYMT09PTVbt2bbe1dsmSJSV/k7kCAggggMAxLxC1FXEEcaWytgniSoWRiyCAAAIIIIAAAuEFUqdM1/55C5XQtHFEzRSKCuL+9dEHeuLtf2viM/9Uh2bNc598ztKlOv/RhzXioYG648nB7ue23fLJJ5/U6tWrXcVYcNjW06ZNm+rhhx/WkCFDinwB99xzj4YNG6b169e7ba2FBXHTp0931WhWfWbbRCtUqOC2idrzt2x5sEJv7dq1+e4j+MQ2b+rUqe5/2lba559/3lXj/fzzzypXrpx69erlrnP88cfn3uvTTz/tts3OnTvXBYjBYc9vlX+jR49W3759C31tb7/9tv785z/rueeek71GBgIIIIAAAuEEojaIu71b8SriRs6i2jzEYiKIC/cJ4/cIIIAAAggggEApCNj5cLs/Gu8aKtj5cJGMooK4BSt/Ue8H7lGnFi016Po+alCjltZs3aJH3nxN+1P3aeqY19Xg4j+4pznnnHNc1dvWrVsPeVo7T61Dhw766quvirylq6++Wh988IH27t3rzo2zEaoizqrurALPQrN69eq54M7CMGsmsWzZMtWsWVNpaWmyijXbltqzZ8/coMzupXfv3u7aV1xxhcaNG6frrrtOnTt3lm1Bteo3e6yFbs2bHwwf7e/2+y5durgwzSrbbGvq3Xff7bbV2u8rVapU6Gs7++yzNWXKFG3cuNGdLcdAAAEEEEAgnABBXDghyW1NJYgLCUUQF379MAMBBBBAAAEEECixQMDn0673x8m3Y6fi69eL6HpFBXF2gbe+/kqD//sf7d63L/d63U5ordFX/ln1OnVQ8h/OcT+3bafx8fHu/ytdcNiZaNnZ2S48K2wsX77cbU294IILXIAWHKGCOAvKgkFdcJ5VtNk9PPbYY656zUZRZ8S9//77uvLKK2V/2vbS4Ni0aZNOOOEEnX/++XrnnXdyf/7KK6+4qj4L64Lj1FNP1UcffaRq1aoV+rrseg0bNtR5552nzz77LKL3hEkIIIAAAghEaxA3/W/di1UR1/OFmVTEhfi4EMTxHYIAAggggAACCPwGAgE7++2DT+TbsUvx9etG9IzhgrjP5szWmxO+0hntO6hJnTr6cd06vfDJx2pZs5Y+GjpM9S+/2D3Pcccd56q9rEFDwWHbN+3cN6siCzVSUlLUtWtXt83UquosuAqOcGfEWUVaZmamq4Y744wz1KxZMxeO2SgqiLv00kv13XffhTyz7dprr5X9B5CdVxccH3/8sV5++WVX+WfPYaGidYi1Jg4TJkw4JBgMPi64rbVg4BfRm8MkBBBAAIGoFSCIC//WW0UcQVxoJ4K48OuHGQgggAACCCCAQIkFSntr6vjvZummYUM1ZehwndCoce79TV64QFcMfkyP3dhXj44Z7X5+uBVx1qTBwi3b3mlbV+0Mt7wjVBBngd2DDz6o8ePHa8+ePfnmn3766Zo8eXLYIM6q3qwKr6hhZ8h5vV4X7F111VUunAs2nLDHff311+7en3nmGd1///0hL2XPY9t17Z7zNqco8ZvNBRBAAAEEjmmBqA3i+vUoXkXcSzOoiAvxSSCIO6a/HnhxCCCAAAIIIHA0CaRM/lZp8xeVSrOGC//+kHampmr2iBfzvUSrvGt8/bXq3qmTvpox3f3ucM6Iy8rK0kUXXeSCMwu7bFtqwVEwiPP7/W4Lq523dtddd6l169auWYMFZta5tHr16rnNaMOCmgAAIABJREFUGIqqiGvVqpXs+W3LaWHjzDPPdA0vLBy06rgff/zxkKl2NpxtUQ217TR4tly/fv304ov5DY+mNcO9IIAAAggcfQIEceHfE1cRRxAXEoogLvz6YQYCCCCAAAIIIFAqAmkLFit1+mzF1agmb2Ji2GsWtTW18+23ucd/P3JUvuv4UlLV5LYb1e3kzvpm+rfud3Z+2lNPPRVx11QLyexsNqtqs66if/rTn0Lea8EgzrauWhBnnU5vuOGGfI+pW7euWrRoka8ramxsrGvYYNfJOy688EI3b/fu3YqLiyvSKdiJdcWKFfnm2XbYihUrqkePHiEbUfztb39zAdycOXNcswcGAggggAACkQpEaxD3rVXE1a0cEdOizSk6lSCOIC6i1cIkBBBAAAEEEEDgCAlkbdqivRMmKZCZqbhaNcM+S1FB3LVPD9aEeXP15ZBndHLLVrnX+nD8ePV981U9dO+9enLoUPdzC8isM6p1NB0xYkTu3AEDBmjkyJFatGiRTjzxRPdzq2q75ppr9O6777qKtJtvvrnQ+ywYxC1dutRtD3399dfVp0+f3Me99dZbLpiz6jUL2IIjMTHRVet98skn+Z7DGjHYPTz66KOuwUPBYWfaWfdVGxdffLELDGfOnOnOsgsO6/BqnVcHDhyowYMH57uEVdtZMGjXCFVJF/aNYQICCCCAQFQLEMSFf/sJ4go3oiIu/PphBgIIIIAAAgggUCoCdk7c3i++UcbyFUpo0kgerzfkdV/94jOlpKcp4A/o6Xf/qxObNNUfuhwMmc7r1FmtGzfR9z8t10WPDlR8bJz+eu55alKrtpatWaP/TPpGyZUra9Gypapdu3bu9W+99VaNHj3aBWTdu3d3wZVVrt1yyy2u0UFw3H333Ro+fLgLzW666aZD7q93796u8YONgkGcVdJZELdt2zbdcccdqlOnjqs4GzdunJKTk9WgQYN8QZxVqy1cuFCPP/646tev74Ixa+pg1WxXX321CwPPPvts2XNaddu6detcdZud7TZ27Fh3D9aAolevXu6MN9tmao0prFmDhYhVq1Z118/rYI+xrbaXXXaZrFnDAw88UCrvLRdBAAEEEIgegWgN4qbd1rNYFXGnjZrOGXEhPhYEcdHzXcErRQABBBBAAIGjQCBjxS9K/XaWtQ0ttCqu/a03acOO7SHvdmT/AbrmjDPd75atXaOh77+rRatWauue3apSrrxOa9NWTw4fpuan5N9uaSHZs88+qzFjxrgz3Cz4sqDNGhnYFtHgsFBr2rRphUpNmTLFBV+hgjj72apVq9z5cDNmzFB2dra6dOniOpjaGXE28lbEWWDWv39/9y/p6enp+SrmLIyzMM2q65YtW+bCOatis/DOqvSs22twLFmyRIMGDdK8efO0efNmF8BZeGeVcI0aNTrktVgVnZ0bt2HDBndNBgIIIIAAAsURIIgLr2UVcQRxoZ0I4sKvH2YggAACCCCAAAKlJhDIyVHKpG+VsfRHxdaorpik8qVybd/eFPnT0pV0UjtV6NrZNTJgIIAAAggggEDpC0RtEHeLVcRViQh00ea9Om00FXGhsAjiIlpCTEIAAQQQQAABBEpPwLd7j1K+maLMDZsUX6+OvAkJJbp4Tlq6srdtV2KzpqpyzhnylitXouvxYAQQQAABBBAoXIAgLvzqIIgr3IggLvz6YQYCCCCAAAIIIFDqApnrN2rf9NnK2rxVcbVrHlZlnG3XzEndJ9+u3Upo1FCVenVXXI3qpX6vXBABBBBAAAEEfhWI1iBuat9Ti1UR1+uVbzkjLsQHhyCObxMEEEAAAQQQQOB3ErAwbv/s72XdVL2JCW6rqicmJqK7CWT7XBVcQFJCg7qq2KMrIVxEckxCAAEEEECgZAIEceH9rCKOIC60E0Fc+PXDDAQQQAABBBBA4IgJ2NluafMWKnPtevn27JU3qbxiK1eSJyHhkK6q1nXVn3FAOXYeXGamYqtVddtRkzq2O6yKuiP2orgwAggggAACx7BA9AZxp6l9nQjPiNtiQdw0KuJCfA4I4o7hLwdeGgIIIIAAAgiUDQEL2DJXrdGBlWuUtW27/Kn7XNDm8Xql/6+QsyYPnkBAnsRExVSqqPi6tZXY/DjFN6xPY4ay8TZzlwgggAACx4gAQVz4N3IRQVyhSARx4dcPMxBAAAEEEEAAgd9EwAK57O07lL1th6t6s6YO/qws99wxFsBVTVZscmXF1a6t2GrJBHC/ybvCkyCAAAIIIJBfIGqDuJt7qV2EFXGLLYh7dSoVcSE+PARxfKMggAACCCCAAAJHsYA1ZLDh8XiO4rvk1hBAAAEEEIgeAYK48O81QVzhRgRx4dcPMxBAAAEEEEAAAQQQQAABBBBAAAEnELVB3I2nF68i7rUpVMSF+MwQxPFFggACCCCAAAIIIIAAAggggAACCEQoQBAXHspVxBHEhYQiiAu/fpiBAAIIIIAAAggggAACCCCAAAIIOIFoDeKm/LV4FXGnv05FXKiPDEEcXyQIIIAAAggggAACCCCAAAIIIIBAhAIEceGhrCKOIC60E0Fc+PXDDAQQQAABBBBAAAEEEEAAAQQQQMAJEMSFXwgEcYUbEcSFXz/MQAABBBBAAAEEEEAAAQQQQAABBKI6iJtsW1NrJ0e0ChZv3aMz2Joa0oogLqIlxCQEEEAAAQQQQAABBBBAAAEEEEAgeiviCOJKZ/UTxJWOI1dBAAEEEEAAAQQQQAABBBBAAIEoEIjWramT+5xRvIq4NyZr/vz56tixYxSsishfIkFc5FbMRAABBBBAAAEEEEAAAQQQQACBKBcgiAu/ANzWVIK4kFAEceHXDzMQQAABBBBAAAEEEEAAAQQQQAABJxCtQdyk688sVkXcmW9NoiIuxGeGII4vEgQQQAABBBBAAAEEEEAAAQQQQCBCAYK48FBWEUcQF9qJIC78+mEGAgggcMwJ5GRkKnt3qrJ375M/I1OBQECemBjFVamguKoVFVu5gjwx3mPudfOCEEAAAQQQQAABBBAoqUC0BnET/3JWsSrizvr3RCriQiw2griSfgJ5PAIIIFBGBAI5fh3YuF3pP29UxrqtyknPlAVygWzfwVfg9SgmIV7e8gmKq1pJSS3qq3yz+oqtWL6MvEJuEwEEEEAAAQQQQACBIy9AEBfe2CriCOJCOxHEhV8/zEAAAQTKvEDWjr3aO2upMtZvU/auVFftFlOhnLzlEuSNi5U8UiAnIP8BC+ey5N+fLm9SOcXXqKxK7ZqpYrtm8sTGlHkHXgACCCCAAAIIIIAAAiUViN4grrfa1UqOiG/xNgvivqEiLoQWQVxES4hJCCCAQNkUsC2n+xatVOr8FTqwcYdiyicqrnpleRPiinxBAX9AvtQ0Ze/Yo9iKSSrfrJ6ST22nuOSKZROCu0YAAQQQQAABBBBAoJQECOLCQxLEFW5EEBd+/TADAQQQKJMCFsKlzF6mlPkrlL0zRQn1a7ggrjgj4Pcra9se+dMOqFzz+qp+9smKr165OJdgLgIIIIAAAggggAACx5RA1AZx1/XWibWqRvReLtm2W2f9h4q4UFgEcREtISYhgAACZU8gZd4Ktx01e+8+lWtc2zVjONyRvXe/snfsVVLLhqpxQVfOjTtcSB6HAAIIIIAAAgggUOYFCOLCv4UEcYUbEcSFXz/MQAABBMqcQOaWXdo+fpYyN+9QuaZ1SxTCBV+8dVn1paSpyinHq+pZneTxeMqcCzeMAAIIIIAAAggggEBJBaI1iPvm2uJVxPV+m4q4UGuNIK6kn0AejwACCBxlAv5sn3aMn6l9i1cpoUFNxZRLKLU7zFi3TbEVy6n62Z2V1LJBqV23qAu9+eab6tOnj9asWaPGjRv/Js/JkyCAAAIIIIAAAgggUJgAQVz4tWEVcQRxoZ0I4sKvH2YggAACZUog7ecN2vH5bFnDhYTaoc9wSDuQoZc/f19L1v6iJat/0faU3bqiZ2/965b7Dnmtm3Zt178+flszli3Utr27Vb18RXVrf5KeGDVCLY9vlW9+Tk6Ohg4dqjFjxmjDhg1q0KCBbrrpJt13332KybM1dt68eRo7dqwmT57sArakpCS1bt1aDz30kM4666x81yxJEOf3+zVo0CC1b99el1xySYneR3s9dq1JkyZpy5YtqlWrlk477TQNHDhQLVq0yL322rVr1aRJk5DPdeONNzobBgIIIIAAAggggEDZFYjaIO6as4t1Rlzv/35N19QQy5wgrux+9rlzBBBA4BABa9BgIVzq98uVeFw9eWNDnwu3YcdWdbnrL6pVparaNmmuiQvnhAzidu9L1ZkP9lVWTrb+cuYFalijtlauWqW3v5uomLg4/bBsqerXr597H/369dOoUaNcBVu3bt00a9YsvfHGG7Kfv/jii7nzLr/8ck2bNk2XXXaZOnbsqP3797t5S5cu1UsvvaTbbrstd25Jgjifz6e4uDhdf/31susc7ti1a5fatGmjrKwsd28WtK1cudK9Vtui+8MPP+Q6BIO4iy++WPY6845mzZqpS5cuh3sbPA4BBBBAAAEEEEDgKBAgiAv/JriKOIK4kFAEceHXDzMQQACBMiNg57hteW+KfHv2KbFhrULvOzM7Sxay1alaXb6cHDW6/ryQQdyb33yqgW+9oDfuflxnd+zqrufPzNK4CV/q9vde1PDhw3XnnXe6n1sY1a5dO91+++0aMWJE7nMPGDBAI0eO1OLFi9W2bVv385kzZ6pTp05KSPh122xGRoarXNuxY4e2b9+u2NhYN/doCOIsHOzfv78+/fRTXXjhhbmv7cMPP3RhW16HYBBnlXKDBw8uM2uHG0UAAQQQQAABBBCITCBag7ivrzlHJ9aMsGvq9t06+78TqIgLsaQI4iL7nDELAQQQKBMCab9s1I5PZ8qTEKe45IoR3XNRQdwLn/5PT733ur4Y9ILaNf11++XMSVN05RtPafTo0erbt697HguennzySa1evTrf1kzbetq0aVM9/PDDGjJkSJH3dM8992jYsGFav36929Zq5929/vKruvmOfvrpu4Vq0uw4xVUprxmzZrlqtNmzZ7ttohUqVHDbRO35W7Zs6Z6jsC2iNm/q1Klujm2lff7551013s8//6xy5cqpV69e7jrHH3987r0+/fTTbtvs3LlzXYAYHPb8VvmX1yFvEGcmNuy6DAQQQAABBBBAAIFjQ4AgLvz7uIQgrlAkgrjw64cZCCCAQJkR2DvnR+36Zp7i61RTTGJ8RPddVBC3aNUK/eHR29Wx2fH6xzV9Vb96La3dtlmPvvGCMnKyNW/RQiXXruGe55xzznFVb1u3bj3kee08tQ4dOuirr74q8p6uvvpqffDBB1o7aZ5idmcoa0eK3p36he7/7/OaNnC0GtSsrZikRD3+8Rit2LpeZ5x9lho0aeSCOwvDbGvusmXLVLNmTaWlpckq1mxbas+ePXMDQ7uX3r17u/u44oorNG7cOF133XXq3LmzbAuqVb/ZYy10a968uZtnf7ff27bS5557zjWNsK2pd999t9tWa7+vVKmSmxsM4iwctN/ZsC2pVjloVXUMBBBAAAEEEEAAgbItEK1B3ISrzy1WRdw573xFRVyIpU4QV7Y//9w9AgggkE9g1+QF2j11kco3ryeP1xuRTlFBnF1g7OTP9fR7b2jP/tTc63Vu2kqv9H1Ix994seKrV3Y/t22n8fHx7v/YFhx2Dlx2drbbvlrY+GHuAnXq3kVntD5Zz192h3L2Z8gTH6txP87Sgx+O0tQHXlK9StWUk5HlgrJK1ZMVX6OyklrWU5WTm2vVhnXuHh577DFXvWajqDPi3n//fV155ZWyP/Oe5bZp0yadcMIJOv/88/XOO+/k3u4rr7ziqvosrAuOU089VR999JGqVauW+zMLBf/617+65hCNGjXS5s2bXYMGa1Bx7733umYWDAQQQAABBBBAAIGyK0AQF/69s4o4grjQTgRx4dcPMxBAAIEyI7Dr/9g7D+ioqq+L70x6r4QkJPQWeu9dQIoURaliAwRRASn+EZAmXRRBFAsgCEoT6b33LjWhlwCB9N4zmXxr33wTU4YUBE3IOWtlQTL3vXfvvi/Jy2/2OWffOYQdugCril6qiUBeIjcQt+PMUazYvw0tq9dFmeIlcPXhXSzashaVPEpi9949cCyT1qyhXLlyqpMoGzRkDaZvsu4bXWRZgy62R2d80ap7JwSFh2Dj+9NRumxZmNhZwUhjhLVHdmHUki9x/MuV8Crmpg5P1emQHBGL5JBoxBulwKSEA+zqV8Ar7/VR7jPCMUZOIO61117DyZMncenSpWxz6tevH/iAxXp1+tiwYQN++OEH5fzjNQgVCdXYxGHXrl2q8+uTgimwbdq0wdGjR1UKLLWSEAVEAVFAFBAFRAFRQBQonAoUWRDXu2P+HHGrd4gjzsAtLiCucH7fy6xFAVFAFDCoQNjB8wg7cB6W5UrAyPifO+K2nzmKDxZOx85p38Pbq0z6NfcePIC3F8/E9IlTMG7KRPX1p3HEEcI9PnQR3Qf0w6X7N7FsyGQ0q9cw09oMgbjAiFDMWrcYey6cRGRsdKbxrVu3xv79+3MFcXS9Xb16Ncc7iQBNo9EosNerVy8F5/QNJ3jg7t27FZibPXs2Pv300xzPtWXLFnTt2jVTPTm5jUUBUUAUEAVEAVFAFBAFCp8CAuJy3zPliBMQZ1AoAXG53z8yQhQQBUSBQqNA1LnrCNl1BqbF7GFsZZGneefkiOsxbRRCoyJxcM7iTOeKv/sYtaYPQYvWrbFt+zb1Wn5rxBHCBR29gjcGvY2TNy/hx6ET0a5e02xzzgridDodXp44GI/DQzCwfQ9UKlEKlsamSA6KwqyDq+Fawh1HzpzMFcRVrlwZSUlJYMrpk+Kll15SzkI2eKA7ztfXN9tQ1oZjiurWrVtz1JvOO3aVZcMKprhKiAKigCggCogCooAoIAoUTgWKKojb2ZOOuL9LsuS0e5eCQtFhrTjiDGkkIK5wft/LrEUBUUAUMKhA3N3HCNp4BNBo0mu35SZVTiCu+ej31OFH5i5NPw0BWuy1+6j91TA0b9kivQED4dLMmTPz3DU16sZDVZtt35XTWDBoLLo1ecngVLOCON/7txWI+2rAGPRs/nL6MeywWu+T3ijr7oVDhw/B3M1RdUU1MTFRDRuWLVuW6fxdunRR3VPDwsJgamqao0z6TqzXr1/PNI5a2NraolmzZrk2oqCrrkePHqpe3IABA3LbFnldFBAFRAFRQBQQBUQBUaCAKiAgLveNERD3ZI0ExOV+/8gIUUAUEAUKjQLa6DgErNmPxMehsCzrkad55wTi3v16EvacP4mNE+ehXoUq6nwpsfHYdGAPPl69EOPHj8e0adPU19kxlZ1RP/74Y8yfPz/92sOHD8e3336LCxcuoEaNGurrybHxeP2lzth86gBm9R+Gfi91feJcs4K4aw/vot2EQZg7YDR6Ne+Qfty6o7sxcvEc1C9ZGZu++hnFuzWCxtQEFhYWyq23adOmTNdgI4a+ffti0qRJqsFD1mBNO3ZfZXTr1g1MLT127BgaN26cPpQdXtl5lXH37l3VTZVgz8nJKdPp4uPj0bRpU1y5cgW3b9+Gl5dXnvZGBokCooAoIAqIAqKAKCAKFDwFii6I64TqxfLmiLscTEfcdqkRZ+D2FRBX8L6nZUaigCggCvwjBdiwIfzoJVh4ukJjYfbEc/2yexMi42JAV9fc9b+iWqny6Fg/LTW0fZ3GqFKyLM7c8MEb08fAzNQUb7ftglKu7rji64s1Zw/AyckZ5y9egJtbWgMFxpAhQ1QNtHfffVeBJ4KrX375BYMHD1aNDvQxtM87WLR6ORqWrYq+bbtkm2Pd8lWw/tgeXL53E6duXEZ0fCw61m2Onz6eBIJDgrjgqHC817Y7zEzNsPbITvgFPYIuNRVmxqboXLMJJkyeiDpd2ii32vnz5zFlyhR4eHjgwIED6oPdTc3NzRETE4N27dqhffv2yt3m5+eX3uyBXWAJ2OiYi4iIUFCPoJHNFtisgWmtlpaWiIyMTAdxbAIRFxeHRo0awdPTU3VNXb58uXIK0jE4duzY9PUyzXbq1KmoVauW6rL6T+LBgwfqXPv27cPjx49V4wym1BKWVqxYMf3UXO/cuXPVQxE7uQYEBBh0DP6TucixooAoIAqIAqKAKCAKvMgKCIjLfXcFxD1ZIwFxud8/MkIUEAVEgUKlQPz9QARvOQZtVBwsShZ/4twbjuiPhyGBBl//+v3R6NWivXrN9/4dzNuwEpfu3kRgeCjsLazQqkFjfLn0B+UAyxjsUjpnzhyVfvnw4UMFogYOHKgaGTBFlKFL0qJpjbo4eT17t1L9uRYOGYePfpgBVwdnuNjaw/fBnXQQxzH3gh5hyu+LcJqQLi4GxhpjvN6svfo8ISkR0bEx0JgY47KvDyIiI/Hhhx8q8ERAxiAoZCdXgkKmrNL5Fhsbq6AkYV1ycrICb71790adOnUUrFu0aJHq+kq3W3R0tPqXAI9138aMGZMO4pYsWaLAG9NY6Y6zsbFR56AzkM0asupFyGcodTY/N11oaKjq3sqadx988AHKlCmj5so5s8YdoSH3Qml375563d3dHXXr1lW17f7p9fMzVxkrCogCooAoIAqIAqJAYVegyIK4N/LpiFsnjjhD97qAuML+E0DmLwqIAqJAFgVSdTqE7j2HyNNXYepkBxN762eiUaouFfF3/GHu7gzXLk3Vv08TsTf8EbAprZmCuauDwVMkJichLCYK7o4uygFXZsDLeL1pe8wblLkz6fJ9mzBhxbdYOvwLtKv9d8roxl3b8fGqrzFn0hcYM3mCugZhFKHZk1JnmVqr74hKQFevXj3lmNMH00vpXGPTBqat6sEiQR7Bnj41NT+aEFw+CxD3/fffK9i4efNmsPadPtavX6/q8M2bNw8jRoxQX05MTERISAhKlCiBZ3X9/KxZxooCooAoIAqIAqKAKFDYFRAQl/sOKkecgDiDQgmIy/3+kRGigCggChQ6BbRRsappQ+wtf1iWcssxRTUvi6NTLOlRKKAxgmPzGnBomFYv7mki7IgPgvech6WnCzTmOTdJ4PlzAnHfbV2FWX8swdZJ36FmmUrp0zl96Tx6fD0G34z7AsOnp4E4pmjOmDEjz80kDK1t1KhR+Prrr1Vaq77OmyEQd+TIEeVGO3HihEoTpSuOaaK8vr7xg96ZlvU6HMcmEgw2m1iwYIFK771x44ZKg23VqpU6j7e3d/qhs2bNwmeffYYzZ84ogKgPXp/OP6YLv//++9mWJCDuae5gOUYUEAVEAVFAFBAFiroCRRXE7Xi9c75qxHX8Y5vUiDPwzSIgrqj/BJH1iwKiwAurQNztR2C9uET/YJh7ucLY8m93V34WrSDc41CkJqfAtmY5OLevr5ogPG0EbDyJ8BPXYOPtqdImc4ucQNyFO9fQZepHqFPOGxN6D4anixvuBfpj6qpFiImOwb7Fa1H21ebqEmzYQNcba6JlDdZTY6OJnTt35jidPn36gA0amLZqbZ3mNDQE4ui6owOP0IzOM4I7wjBq6ePjk54KS8ca00KbN2+eDso4F6a8MtgIYuPGjejfvz8aNGgApqDS/cY0WkK3ChUqqHH8P19nXTrWf2PKMFNTR44cqdJq+bqdnZ2AuNxuNnldFBAFRAFRQBQQBUSBPCggIC53keiIExBnWCcBcbnfPzJCFBAFRIFCq0DsjQcIO3QBCQ+CYepkC1MX+zzBL/2CdYlJSHgYDGMLc1hXKQXntvVgnEMDiNyEIoh6sGQ34v2CYV3ePbfh6vWcQBxf/+3gVsz+YynCY6LSz9ewUg3M6/A+SjWpAY+eaSCOaadsvsBacVmDNdxYF47w7Elx9epVlZr6yiuvgABNH4ZAHEGZHtTpx9HRxjmwQyvda2ptOaSmrlu3Dj179gT/ZXqpPvz9/VGlShV06tQJ7PyqDzaOGDdunIJ1+mjRooVqPOHsbDiNWBxxeboFZZAoIAqIAqKAKCAKiAKZFCiqIG57j1fy5YjrtH6rOOIMfO8IiJMfKKKAKCAK5KJASmw84v0CkRwahaTQSKREx4H10ugKU3DLyQ5mrg6w8HKFkbFxgdOTIC3i+BXE3X0MXXyignGsG2ek0TxxrrqEJLXelJh4mHs4w6Z6WdjXrwyNWe6ppDkJoNOm4MGSPUh8FAqrsn93W83pmNxA3I5zR7HywBa0rFYfpYt74NqDu/hxx1qUd/bA6snfoMKATur07HRKt9nx48ezXY7pm6z7RheZoWBX1MaNG6s0U7rqSpYsmT4stxpxdKSxLhshZJs2bVC+fPn0rqw5gTB2Xz158iQuXcre1KJfv37gAyDr1eljw4YNqjMtnX+8BqHil19+qZo47Nq1KxsY5HEC4grct6tMSBQQBUQBUUAUEAUKgQIC4nLfJDriBMQZ1klAXO73j4wQBUSBIqpAUkgEYq7cQ+w1PyQGhKkupKnJWsDYSEEsQjcjYw2MbSxhYmsFMzcnWFf0hI136X9ck+1ZS06wFvXXDcRc80NySBS00XGqPpvG0hwaMxPAyAipKTroEhKhi09Sn5s628HCwxl29SrDMofuq/mZK69xf8luJPo/GxC34+wRDF00DdsnL4K3V9n0qRy6chZvzh2LcX0GY/rvP6ivP60jjk0aCLeY3snUVdZwyxiGQByB3dixY7FlyxaEh4dnGt+6dWvs379ffS0nEEbXG114OQVryGk0GgX2evXqpeCcvuEEj9u9e7ea++zZs1Xn2qwhIC4/d6+MFQVEAVFAFBAFRAFRIE2Bogritr3WBdVd8taw7XJIKDr/uUUccQa+aQTEyU8SUUAUEAWyKJCqTUHkXzcQfugi4u89Rkp8IoyMCatSkZpKRmWU9mFiDJholEuMH0ZIhYmDDSxLu8GhUVXlkCtoQXdf3C1/5Y5Tjre4RKQzqwdSAAAgAElEQVRqtVAL02hU2imhormHC6zKl4B5CZccnXNPsz7/3w8i+rIfbCp75unwnBxxr88cibDoCOyfsTTTueg+8x7cBY1r1MWeM0fVa09TIy4pKQldu3ZV4Iywi2mpWSMriNPpdCqF9eHDh/jkk09QtWpV1ayBwIydS11cXNKbMeQEwipXrgxenymnT4qXXnpJ3YuEg3TH+fr6ZhvK2nBMUd26dauAuDzdcTJIFBAFRAFRQBQQBUSBnBUQEJf7HSIg7skaCYjL/f6REaKAKPAEBVg/TBseheTwSOhi45Gq0/2/Q8waJo52MHG0/0dF/f8L4QmmAv44iMgz15ASGavcbxozMxiZmSjwRgecCl0qCOx0yVrokpLT3WUmNpbqNYsSLiqV07ZOxXzVZPs318x5J4dFKxccU225PqasEsTllLb6T+fIjqmhBy6pGnF5SeXNCcS1HPuOms6hWcsyTUsbn4iqw15Do9r1se/UEfUa66fNnDkzz11TCclYm42utt9++w29e/c2uPSsII6pqwRx7HT6zjtp89OHh4cHKlasmKkrqomJiWrYwPNkjC5duqhxYWFhMDXNOSVY34n1+vXrmc5BIGlra4tmzZoZbEQhjrh/ejfL8aKAKCAKiAKigChQFBUosiDuVTriXPK05ZdDQtB5gzjiDIklIC5Pt5AMEgVEAb0C/MM+OSAE8bfvI+GeP1Ji41TdMUKdNFdVGrhiyqOxrTUsy3rBslxJmDg7FFggpV+bNiYODxdvQ8zlO9AlJsPYzhrGVuZ/w7cn3QapqdAlJCMlLuH/120FjcZIpao6NKwCu3qVCvza/807PPL8bQRtOwsTO0uY2qd1Hs0pcgJx783/HHsvnMSG8fNRt3yV9NNs2rcTH62YizGDP8acHxaorxOQsTMqO5rOnz8/fezw4cPx7bff4sKFC6hRo4b6Ol1tffv2xZo1a5QjbdCgQU+cYlYQd+XKFZUeunTpUrz77rvpxy1fvlyBObrXCNj0YWFhodx6mzZtynQNNmLgHCZNmqQaPGQN1rRzdU1zXXbr1k0Bw2PHjqladvpgh1d2Xh0/fjymTZuW7RwC4nK7++R1UUAUEAVEAVFAFBAFsisgIC73u0JA3JM1EhCX+/0jI0QBUeD/FdBGxyL69CUk3HmI5LAIBd40NlYwtrSAEYv4Gxmpr9Epp+BcdKxykpk4OcCqYmnY1K2qxhbEIEh88P1GRF24pZx9pi4O0Jjms/GCLhXamHhVa41NHDQmxqrRATuNWlf0KojL/k/mlBweA/9Vh5AUGJFjw4ZlezciMi5GNTn4asNyVCtVHh3qNlNzbl+7iaoJd/amD3rOGgUzU1O81aYrSrm6q2YNvx3cBgcbO5w/fx4lyvzdWGHIkCH48ccfFSBr2rSpAld0rg0ePFg1OtDHyJEjMW/ePAXNBg4cmE2ndu3aqcYPjKwgjnCLIC4wMBDDhg2Du7s7Tp06hY0bN8LR0RFeXl6ZQBzdapznlClT4OnpqeAamzpw3X369FEwsH379uA16W7z8/NT7jbWkFu5cqWaAxtQtGrVCubm5hg6dKhqTMFmDYSITk5O6vxubn83x1i4cCEiIiIUcCToI6BkcwgGU3H1QPI/uUHkoqKAKCAKiAKigCggChRwBYoqiNvavWu+HHGvbNwsNeIM3MsC4gr4N7hMTxQoKArQAacg3IMAlU6oQFUuUI0gQReXgOTgMJX2aFHSA3aNa8G8RBrAKCjBeT5etQ9h+/9STjg62Yw0Rk89Paa3sjmCqbO9ctPZeJeEa7dmKuVTIk2B4J3nEHbEFxZeLjC2NDMoS+NR/fAwNNDga18NGIOezV9Wr119cAffbFqBS3dvIDAiFPZWNmhSpiqmjp+Emj3bZTqekGzOnDlYvHixquFG8EXQxkYGTBHVB6HWoUOHnrhdBw4cUOCLYahZw+3bt1V9uKNHjyI5ORmNGjVSHUxZI46R0RFHYPbhhx+qh5S4uLhMjjnem4RpdNf5+PgoOMf0VsI7uvTY7VUf7K46depUnD17Fo8ePVIAjvCOTrhSpUplWkvp0qUV0DMUhlJq5b4VBUQBUUAUEAVEAVFAFPhbAQFxud8NdMQJiDOsk4C43O8fGSEKFHkFYq/eRtSJC0h6HAzT4s4wsbPJlyaEBykRUdCGRsDc0w32LevDolSJfJ3jeQ6OvnIHD37copoX0MGWXgfuH1w0JTZBOePMnO2gsTSDY9PqcGpV+x+cMe+HGgJDeT/63xmZ4B+KgI0nkfg4DFasFUc35TMIah576xGsyrjB7bUmMHO2fQZnlVOIAqKAKCAKiAKigCggCogCAuK2duuGanmsEXeFIG7TJnHEGfjGERAnP01EAVEgRwXi7zxAxMHTSAoIhnlJD9Ud9GkjJT4BSQ8DYVHKHY5tm8LMLW+FPp/2enk5jnXd7v+wGdF/3VAdT42tDafOxiYlYOnpvfAJvA+fAD8Ex0ahe7VGmNXp7WyXeRwVhu+Pb8fxu1cREhcNF2s7NK5aE1MWfoUqdWplGp+SkqKcUnRoPXjwQKUt0qE1ZswYGBv/nRpLlxPTENm98+7du7C2tlbdOD/77DO0bdtWnVMP4Hg+Hs9xdD7lJ5iqSFcVmw107949P4dmG8v1TJgwQaVRMg2S6ZJMDWWNNoK3sGO+CDt0RYHPUNNk5Wo7dvU8AiPCUMzOEY0q18DHXfqhrFveuqsS+CY8DIXG3AQubWvBvna5fzR/OVgUEAVEAVFAFBAFRAFRQBQwpECRdcQJiHsm3xAC4p6JjHISUeDFVCAlOhah2w4h/rYfzEuV+EcQTq+QgnH+gbCuUh5OnVo+k3P+E/Ujz16H/y87wLWaMiU1izNLD+DOPryFU/fTOlIWt3VAYHRENhBHADfv8CZsvXoGutRU2JhZoJyDKyq6l8TO63+pDrJXfH1UOqQewLGLZ1RUlKr9xTRCOzs7BdRY5+u7775TaYYEcEwX5DhLS0uULFlSpUWyvhkbA3z//ff44IMP/hGI0wM41jZjp1BDXTzzqjMBHGus/fnnn6oGmbOzc3rNMzYPGDVqFObOnYs7N26iXKWKBk/L+m/+IYFqP/ZM+xnuTsVyvDwhXOLjcOiStLCvXRaunevlqSNrXtck40QBUUAUEAVEAVFAFBAFRAG9AkUVxG3pmj9HXJfN4ogz9F0jIE5+logCooBBBQg2Ig+eRvTZKzB2sIWJ/bNL8WPNuFStFvZN6sC2fvV/ZQcMpWumpqTA/9fdCDt4XnVHNbHL3sHzYWQo2v44AS5WdqhQzAMn/K6ha9WG2OxzKhOIC4+PQdelXyA6MQEJ2iS8WacVLE3Nsfr8IQWTRrd8FRN3/64aALBOGEHbokWL1NpfeuklBdcI2/h11ipjF092+WQBf9YqY2MBgrrExEQ1jgDum2++URAuODgY7KBJYMcmBE/jiNN3z+zfvz9WrFjx1CCOtcnq1auHkJAQVRtt9OjRuHfvHvQALj4+XjVF4PwJFcuUKQPvkuVw9f5tvNukE2pWqQYjjQalXT0QEB6Cwd9NxaQ+H2Dgyz2eeJ/otClI9A9FKgC7aqVRrGMdGFua/yv3lVxEFBAFRAFRQBQQBUQBUaDoKSAgLvc9Z2qqgDjDOgmIy/3+kRGiQJFUICk4DKGb90MbHqlSUg1FbEI8vt+yHhfv3MLFOzcRFBGOXi3bYsHQkdmG+4cE46v1v+PIlYsICg+Di7XN/6drfgPvWjUyjX+W6Zr6ExsCcQkPgvBw2Q7E330MYxtLg/AmSZuM0Lho/HHpOCoW88DwTT8bBHG/nz+EqXtWo1vVhtjkcwrr+o9FdfdS2OlzFiO2LUH/Wq2w4sJBzJg2HSdOncSWLVvS1zxx4kRMnjxZAToCuG3btqFTp04YO3YswsPDsWfPHtVYQJ+2+tFHH6Fu3boKwNG5RiB3//597Nu374kg7siRIwr8nThxAo8fP4aNjY1qCjBjxgxUqlQJehBnaJ85Tt9cgHuzYMECBQNv3LihYBrdeTyPt7e3Sjulk69s2bLqVLdu3VL/shkBAdyqVavQq1cvfP7553jvvfcUiGvVvAUOHjmMDR/PQmUbN5gXd4SJnRX+unMV3acNw6x3RqBfq1eyTY3dbZMjYpEUFAkzV3vYenvBqWX1JzZ/KJLfyLJoUUAUEAVEAVFAFBAFRIFnrkBRBXGbu3TPV424rls2So04A3efgLhn/i0pJxQFXgwF2Jwh8ug5mBRzhLGVpcFF3Q8KRP2P30VxRyfUKFMee/46bRDEhUVHoeXoD5Cs1eLtdp1Q0tUNd/zu4deDu6ExNcXl/0/X1F9E7xaju4tdIY8fP57uFiPk0QdTKOkW69GjB+rUqYOYmJh0t5g+XTMnEBd14RYe/bYHyWFRMHWwUZ1dDYVWl4Jqcz9KB3CGHHE/ndyFrw9vxMyOb+OzHctR06MM/teqB8LjYvDhxh/gbusIU3MzJBqlIjwyAklJSShfvryqC0eXG9M1CasIsMaNG6dqxpmbm6vXDelgYWGBr7/+Gl27dsX27dtVDbZ169ZlA3E8ngBu69atSh8eV7lyZdXFky41Oh937NiB+vXrZ1s6x40fPx7FixdXqaUEcASGTJE1MzNT4I2QjueJjY3FmTNn1F6w8yddfRzDTp4MvtagQQMMHjwYP/74Izp06KDmRRDH9RHs1a1WE591eguuqZa4638fcw6uQVxyIraMXwA7WzsAqdAlp0AXnwR2ptVGxSlgZ+7uBIeGlWDj7fnMmj68GN/FsgpRQBQQBUQBUUAUEAVEgeehgIC43FWlI05AnGGdBMTlfv/ICFGgyCmQqk1B0LodSLznD/OyXk+EG4nJyQiLjoS7kwu0KSko0beLQRD3y66tGLv0e/z66SS8XLeh0pNupg2bN+GDVT+np2vy65cvX0bNmjWVs2r+/Pnp2g8fPjw9XZN1zBiskcY0SAIrfTD1kY0G9OmaBEIMQ4640P3nEbjhMHTxiTBxtFEpkU8L4i4/voc3VsxWAK6eZ3n8cekYIhPi0k9X260MKpQqg3WnDyjo5efnh2LFiilYRSimT9eku6x27drq9WvXrmHYsGEGdXj55ZeVU44NHV555RWsX7/eYI24r776SmlKoEnoReccQRgB3ObNm5WbjeCPr9Fd16xZMxw9elT9S6ce02EZb7zxRnrNt0GDBqFUqVIqLZYAju4+zoEuvvPnz6s1sTEDAR8bRri7u8PHxwfVqlVT8O7q1avgHvL6vC7deYSEWaNBuapY2Gck7IzMVAdaBmGpsaWZSiU2c3WATWVPWFfwgMkTmmwUuW9eWbAoIAqIAqKAKCAKiAKiwHNXoMiCuFdeRTXnvDXcuxIagq5bN4gjzsDdKCDuuX+LygVEgcKnQHJIOII37IEuPgFmbjkXydevLicQt2DjWkxftQy7ZnyDWuX+Ls5//PARvPrdTCxauBBDPvxQnYoOLKY53rlzR0EafRDo6N1i06dPz1FUusvoFiN0YjonwxCI2zx7EX5cshgXH99FcHw0rMzMUd+rAj5p3g1lnd3UcfoacYYuqO+amqLTYcW5A1h6Zi+CYiIyDS3v7I7WJb2x2uc4tKmpKO5WHDb2dgpW0cVGtxmBI91iTNekc4211ZiS6u/v/0QdNBqN6pxKEMdacqwxZ6hrKmEfx2UMwrKGDRvi008/VTCMzry1a9fC1NQUhmrE0WnXs2dPNUc67PQuN6a4EvAR1hHI8YGEAI8AjnXmmIJK6EgYyLRZuuk4b34Q5LEDLNNT2Z2VteU2bdqk3HZMw2VNvCuXL8O7XEWsnb0IViZmxHAwMjOBmbMtTJ1sYOZspzquSogCooAoIAqIAqKAKCAKiAL/pgIC4nJXW0DckzUSEJf7/SMjRIEip0D8TT+E7jwMjYV5nps05ATizt+6gQ7jR6BuhcqY/OYAeLkWx92Ax5i4dBFiExNx8sgRFKtYTulMpxfBUkBAQDbdCa3oFtu5c2eOe9KnTx+VLknQpYdQhkDcgFdex+XzF1DPrSzcnFwQEBuBNRePIDUV2Pre53C2tkNcUiJ23ziPsduXo26Jcjjnfxt1SpTFX/530ps1sG7cvpsXUNezPO6FBSkYZ21mgaQULUyNTVDRyQ3vVG+F4XuWobirK6xtbBSAi46OVkDu119/VW4xpmtGRkaqxgv8oLuPUC5j8HUnJyfVjZROwF27dqn00Iyw0VCzBkIzAkpCMuqSMVq3bo3du3c/EcS99tprOHnypOrsyrpwOQVdeu3bt1cArm3btso1l/F6Li4uymFZokQJ5Z5jsLsqoR0faKpUqaLSYOnKW7JkiUpbnT17toKGEqKAKCAKiAKigCggCogCokBBUKCogrhNnV/LlyOu27Y/n8oRxwwa/j3ETCkHB4eCsOXPdA4C4p6pnHIyUeDFUCDm0nWE7zkOExcHGFta5GlROYE4nuDXvTswc/VysF6cPhpV8MZP732E8m90gWW5NOcaUxYJp86dO5ftuqwDRzDFVMsnBX9oMzVVn66pH2cIxN1bfwAJR32RkpgEIxONatZwNywQXX+Zho+adsbgRh3U4TnViGtVthpGbF6Md+u3xYpz+1GpmKfqmrq053B0XjIF3sW9cObBTXxSryMW/LVLdfasWLEirKysQChF6DhhwgSVisu1M5WWa+Q6CBEJ3vRBMEf3GVNyGfqU0KxrzAjiCOv+97//4ffffwcbLWQM/mJjkwbOY+/evU8EcYRjnE9OQSBIpxs7wBIsjhw5EmFhYeoQzoENJrgHBHDsmMpU19WrV6vXCRKZSuzr65u+Lta+Ywotu662aNFCOQUlRAFRQBQQBUQBUUAUEAVEgYKggIC43HeBjrj8gjhm6fD5n5lBDL7Jzzfp+bcCs3P4Bj0zdQp7CIgr7Dso8xcFnoMCMReuInzvCZgWc4TmGYG47aePY/me7Whdsw5Ku3ng6v17+H7zH6jkVgLbN2yCS01vtRLWFqNbjA0asgbTIPnOiL4TZ9bXCa0aN26suoLq0zX1YwyBuPAjlxC88zS0UbGITYhDiqUp+wHg7TXfoJRDMXz76mB1eE4gLjYxARce3UUJe2dExMdARzsdgDVvforRW5fCN/AB2Hm1TvHSOBN0FwlJSbCzs1PArXfv3soxRqcZIRvTNemSYxdTdjkltGKaJoPNHQgXCcxY383V1RWBgYGZJMiamnr79m2V9nnv3j11XjaDIOAiMGOHVgI4OtwIBnMCcWzawOtzX6grHWz62nv6CRDA0emmD45nCiv/pduP47lO7g9BIpszvPPOO2o418u4fv26+pfHERJOmzYNM2fOVOmuubkgn8O3gZxSFBAFRAFRQBQQBUQBUUAUMKhAUQVxGzvREZe30kVXQoPRfXveHXFsQNelSxeVWdO5c2dMmjRJ/Y1CEMfg11hKZ+PGjYX+rhQQV+i3UBYgCjx7BWIu/78jzsn+iR1Ts141J0fctlPH8P78WdgzawGqlPy77tu+40fQd/5MTPvfOIyflVb37WkdcQRZTGtld05CG326pn6ehkDcrYOn8emo0djvcw6RiX83VuAxDUtWxPLen6jDcwJxbNJwOzR7Gm1GfSxNzBTYuxbir3658J2dhISE9CFsmMBmBgRjdJ6xAcXZs2dVd1N+Ttcau5GynhuDde/s7e2zOQOzgrht27apX1hffPGFqj+3dOlSlerJ8PDwUECQ8ItasYYbYRkbNtCpRi1Zs43BOR88eFBBw7feekv9UmS9t6xBSEpAaCj4C/PVV19V16Xjke43S8u0brzdunVT7j4COoI6gj6ud8iQIaqJBesGEspJiAKigCggCogCooAoIAqIAgVBAQFxue9CfkEca0TTcMC/CZhZw1rXGUEc/6Zh6RqaDAp7CIgr7Dso8xcFnoMCCff8EbrtIGBsDFMn+zxdIScQ133ypwiNisSRr3/MdK6kgBB4/28wWjRvjm27d6nXnqZGHF1XdHqx+D8hDp1jWSMriGONtZrVquOB3328Xac1ylo7wcrCEibmZpi5fx0cLG2wos9IdRo9iKvuVgqXA/xQ2dUT14IeooqrFx5Fh6l6be52TrgR7I/+dVvjt/OHYKIxRptyNRCbEI/Dfr7QGGng6loM5y9cUC43Wqtff/111TGU7jAGIRZhFsPT01OlqLKJQd++fbFmzRr1dUIz1lajey5j3TSmrLL+G0GbPjWVQJJ1537++WfVMIEOOnZh5S+v5cuXK/DGJg8EewRtFhYWSv/Q0FB1jSlTpqh5MJWUDTLYRZXgjnNhHTheky43QjU6+JjCunLlSjVP1vjjtenIc3Z2VjCQv1CZkksQyWYR/Jz17uh+JIxkCuv7778PNoegHZ3z4+uci5tbWvMMCVFAFBAFRAFRQBQQBUQBUeC/VqDIgriOPVA1j444HzridqzPc404luWZNWuWKtnDv0eygjhCOJa7oQGjsIeAuMK+gzJ/UeA5KKCNjEbwH7ugjY6FuYdhh1PWy+YE4pqMGKSGH//m50yHxd99iCqThqF5yxbYuSsNxI0bN06lI+a1ayrdYgRadFT99ttvKt3TUGQFcUyxZC25+cPGoYN1aeiSkqGNiIGJow1aLBqH0k6u6SDu17P7MWP/OgXXCOUMxaAGL2PZ2b2qOcPLlergetBD+EUEITYpkb0+0blpKyz87RcF0Bh0e7EGGh1o165dw6lTp9TXCbbGjh2ruoeyBgK7itLJRgdcxnpxWedw4MABBdgygribN28qNxsB3JtvvolDhw6paxFc0o1GcEYQyCCIYwoooRfnRms4z0fnHuEfQRgBnB6+8eGDsIx15/hLkw62QYMGqc62BHCdOnVSDSA4B66FaauEfN9++63q0spgE4i4uDg0atRIfU4Ax1RZ7innRYhHJ5xes+dwq8spRQFRQBQQBUQBUUAUEAVEgXwrICAud8nyC+KYrcNnfxoHDIE4vrE/f/58hISE5H7xAj5CQFwB3yCZnijwXyiQqtMhZONexF29DYvypTLV/nrSfHICcW99ORW7z53ClqlzUb9iWi24VK0Wf27dgqGrfs6UekhAxs6ofCeEP2j1MXz4cAVxLly4gBo1aqgv04mmd4v99NNPCgQ9KbKCOLq8mAa7aPpcdLAsheSQCFUrbsOVExh/cA3qe1VIB3FtfhiPR1FpjQeyRq+azVWn1Q+bdEb7irXw3fHtuBLgh+CYSNhZWKG2sxc+7zkATSYNgYmtVfrhhE1z5swB5+3n56fcX2zawDRM/l+vA1M59cVKDV2fAI5uMoah9FvWifvkk09UF1I67Ai96JhjjTgGAZw+2ASDdeTYKIOAjABO/zpt4pwroSDTaPk550Z4R91Zv48RExOjar8RLBIA0tFGeMd0Vj2A01+P72rRmUeXHd1xhG9syMG9psNRQhQQBUQBUUAUEAVEAVFAFCiIChRVELeh4+uo6pS3GnE+YcF4dccfeXbE8W8aZugwqycriOPfTqwhXbp0abD8TmEPAXGFfQdl/qLAc1Ig5uI1RBw4BY21JUzsbZ94lSU7tyAyNkaBmTnrVqJ66XLo1CANyrxcrxGqliqDM9d98eqUsTAzNcW77TujVHF3+Fy/ht+PH4CjoyMuXLqUKfVQ7xaju4u1AvTF/QcPHqxqhumDnTnnzZungNHAgQOzzZEAiA0GGFkhFX+YE8QRFr3XvjvsY1Jw4cEt7L1+HvbmVnCzd0oHcTy+729zcTXoAT5q+grcbB3gbGWLRqUqq3WP2rIE26+dQ9PS3mhS2hvWZhZ4FBGCwzcvo7yrB1b+9hvs61bKlK7JdFA2lVi8eLGCUPp0zYyLyKsOz+kWkNOKAqKAKCAKiAKigCggCogCooABBQTE5X5b5BfEbd26Vb0ZT0MGs4ZYN5t1ppmZwxI5rBfHv5lat26d+8UL+AgBcQV8g2R6osB/pUBKTBxCNuxB4sMAmJfxhJFGY3Aq9T56Bw+C0+qaZY35H3yC3q3aqS/7+N3F1+t/x8U7NxEQFgZ7Syu0ql0PXy79CaXLl8t0qN4tRkjFemqsU0bQxppoGbt18l0Tpls+KfLsFjtyBEnxiajpXhpj2vTA9B2/A0ZGWNFvVLob8HqwP77Ysxo+gfcRn5yUyTFHGLfm4lH8efk4boU8VnCumIUNanuUxYC33sYr4z5U58mPW4xryqsO/9U9ItcVBUQBUUAUEAVEAVFAFBAFiqICRRbEdXgjf464nevy7IjjfbRw4UKMHj1aZfLwbyr+DcXg34A0YAwdOvSFuN0ExL0Q2yiLEAWejwLRf/kg8thfCkqZuTo/s4sQ7hlbWcKhdUNYVfq7i+ozu8BTnCjG5x7CDl1Egn8wkJoKbWQMdInJMLa1gsbMJE9n5C8LXVwCtOExykno0KgKPN5+GRpj4zwdL4NyVoD6psQmQhudCKZPGxlrYGpvCWNLM5FOFBAFRAFRQBQQBUQBUUAU+NcUEBCXu9TKEZdPEMezslndH3/8ocrXsBRRhQoVVE1wNpl7UUJA3Iuyk7IOUeA5KJCarEXYziOIvXITpq5OMLa1/sdXSQ6LhC46FjZ1q8KhVYMnOu3+8YWe4gTRl24j/LgPEh4Gw0hjhJSYeGhj4oBUQGNpBo2ZKaAxylQzj3AoVZuC1MRkpMQlqP+bOtnBsVkNuHZvBo1p3iDeU0y3SBySmqJDnF8oYm4GIiEwEklhsdAlaRUshUYDY3MTmDnbwsLdHraV3GDh4ZCnmoZFQjxZpCggCogCooAoIAqIAqLAc1GgqIK4P9vnzxH32u78OeKey2YVwJMKiCuAmyJTEgUKkgLJoREI33sc8bfvw9TVGSZ2aV028xsEVtrwSKRExsCyYmk4tWsKY5u/mxfk93zPa3zcnUeIOOmL+HsBSIlJYFsJ6BKS0j6StewQoQAQ6JImDNKlqqko67SxMazKuMOxdR04NKikPpd4OgWoZ7TvI4T/5YcE/3AkhrOyYG8AACAASURBVMYAKanQWJrC2MJUuTTpitMlJCMlPhkacxOYu9jAqqQzHBuUhXVpl6e7sBwlCogCooAoIAqIAqKAKCAK5KKAgLjcbxE64vID4lg/+9atW2jevLnBkx85ckS541gzrrCHgLjCvoMyf1HgX1AgKShUNW5IuPsQGktzmBZ3yZeTjR1Skx4HK2hlUaEUHFs3zLEBxL+wpBwvQWdb5JnriL3xEHTwJUcQAunUMTqtFkhOAZ1aBEEEQtTE3NUR1lVKwbFRVZi5OvzXSyjU10+OikfI4RuI8vFHYkAkTBysYOZiA2Nz0yeuSxuXiKTgGKTEJcKyhCPsa5WEc5PyadBOQhQQBUQBUUAUEAVEAVFAFHiGChRVELe+Xc981YjrsWdtnmvEvfnmm7hz5w6OHz9ucKcI6MqVK6ea8BX2EBBX2HdQ5i8K/EsKaMOjEHXqIuLvPIA2IgomDnbqw8jkya4vXXIyeFxKZDRMXZxgVbE0bBtUh7F1wXPCGZJRGx2HuJv+iPcLQFJoFHTxiWlpqKlQ9cmMLcxg4mADixIusKrgqQCcvqDov7QtL9xlEoOj8XjbRcRcD1BpwJaeTtCY5t1ZmJKQjPj7odBYmMK+agm4da4BExuLF04nWZAoIAqIAqKAKCAKiAKiwH+ngIC43LWnIy4/II414AYPHozx48cbPPmMGTPw008/4d69e7lfvICPEBBXwDdIpicKFCQFVL2uq7cR63MLySFh0EZGq/RLjYU5jMxNFYRK1aVCl5iE1IRE5YAzcbSDaXFn2FSvBIvyJQstqGLjhuTwaNXAgSSOANLU0RYaK/NCu6aCdG9xLqz/9mjjX4jyfQTzYrYwc376NOiERxEqbdWhVkm4d60lDR0K2mbLfEQBUUAUEAVEAVFAFCjEChRVEPcHHXGOrnnaOZ/wILyeD0echYUFvv32WwwaNMjg+X/++WcMGzYM8fHxebp+QR4kIK4g747MTRQooAqwVlriPX8k+PkjKSgMurh46JLSAJVK1TQ3U643s+LOsCjjCXMvN6mXVkD3sqBMS6fV4dGGcwg/cxdmLrYwc/rnjUHiH0WADUdcmleEa7uqAkwLymbLPEQBUUAUEAVEAVFAFCjkCgiIy30D8wviPD098cYbb2DevHkGTz5ixAisXbtWdVUt7CEgrrDvoMxfFPiPFUhNSYE2Mga62HhVM02lbNpYwdjOJl915P7jZcjl/2MFws7cReCuKyr1l+mozyLY8CH2dhDMXWzh0a02bCoUfxanzfUcrFvx7rvv4u7duyhdunSu4wvSALpaJ02ahMmTJxekaclcRAFRQBQQBUQBUUAUKFAKFFkQ17YXquTREedLR9zeNXmuEffee+9hzZo1OHbsGGrVqpVpvy9cuICmTZsqUCc14v7Bt0JRu3H/gVRyqCggCogCL7QC2pgE+P16DLG3g2FTyc0gwI1NiMPPu9fgit91XPa7juDIMPRo3AFfvvdZNm0ehQXh263LcPzqXwiKDIWTpR0aV6+H6T/NQ+UqlTONT0lJwZdffonFixfjwYMH8PLywsCBAzFmzBgY59D1dv/+/XjppZfUuW7evIny5cunn/efgDidToepU6eqh4/u3bs/9b4fPHgQrVu3Tj/exMQE9vb2KFu2rHqIGTBgAKpVq5bt/C8yiLt+/bqqK3Lu3DnwGSQ6Ohq//PIL3nnnnafWWQ4UBUQBUUAUEAVEgaKpQFHjGfr1/vEcQdz9+/dRp04d9YzWu3dv1KhRQ91cFy9eVIDOzs4OZ8+eRalSpQr9TSeOuEK/hbIAUUAUEAUKtwLhZ+/i8ZaLMLYye2JduIchj9His95wtXdGtVIVsf/SiXQQlxKXhOTIOGhjkxASEoI3Vo2FNkWL16u9BE8XD9wP9scfPvtU19XLPldA27s+hg4dikWLFikHW5MmTVSXJsIZfv27774zKGxSUhJq1qypwF1sbOwzBXFarRampqZ4++23/9G7fXoQR+DWqlUrEPBFRkbi0qVLWL9+vfr/559/ns35FhMTAzMzM/XxogUBKd9p1be9P3z4sIC4F22TZT2igCggCogCosC/pEBRBXHrXuqdL0fcG/tW59kRx627ceOGeg4/cOAAmN3C4BvFfAN84cKFqFix4r+0w8/3MgLinq++cnZRQBQQBUSBHBRgc4/7K08g4rwfbL09YKQxMjg6MTkJ4TGRcHMspiBbxSEv4dW6bTG59SDV5CElPhm65BSsv30IX51fgznNPkAzt+oAUtUv7/33zmH8mSWYMWYS/jdjIjQmGly+fFkBtY8//hjz589Pv+7w4cNVoVi++1a9Os+ROWbOnIlvvvkGffv2Vf8+S0fcswZxLGpLh1/GIITr1asXdu3ahaVLlyoIWRQiLCxMuRzpDNy7dy/atWsnIK4obLysURQQBUQBUUAUeA4KCIjLXVSmpuYXxOnPGhoaitu3b6tPmXni5PRsStfkPut/Z4SAuH9HZ7mKKCAKiAKigAEFksJjce+Xo0iOiINVSec8aZSUkIjKH7dH5/JNMKHWm4CxBiZWZjAyM8ayC1ux8NQ6rOgxGVVcy6oGIrpkHc5du4Ahx+ZjUpcPMbD/uyjWqiKmfjMLbIN+584dlClTJv3arO3GFM5x48Zh+vTpmebk5+eHKlWqqHfk+P8pU6bkCcQdOXJEOe9OnDiBx48fw8bGBi1btlTXr1SpkroGW7FnnIf+whxHhxuDqbQLFixQAInvGFpaWirHG8/j7e2dPle9I84QiOMgwjjWryOU4noJKxlZU1N5va+++grLly9X86Nbj63lX3vttWxuOo6hi9DHxwcajQaNGjVSabaNGzdOnxdh2OzZs7F7926lO92F1POTTz7Bm2++mUlrXo+uPb4jGhwcDEdHR1StWlW1tG/Tpk36WD6offHFF9i4caMq3lusWDG8+uqrmDZtGhwcHAzeUwLi8vStJoNEAVFAFBAFRAFR4AkKFFkQ16ZP/hxx+1flyxFXVG44AXFFZadlnaKAKCAKFEAFYm4G4sGa0zAy0aimCpkjFclRCdBGJyAlPgkpccnq37iQKLTYOBwdPRtgcssBMLY2V01CGD5Bd/DW+smoXrwcRjTuAw9bFzyICsJXR1YiXpuI39+dAxtjS1iXccHg1VPgc+saAgICsilTvHhx1K5dGzt37sz0Wrdu3RAUFKRSWAnh8gri6LqjA4/QrESJEmANjB9//FFZ7gmuXF1dVZor00aZltq8eXPVup1pt86W9mjVqIVyC741YhC27NqG/v37o0GDBiCE+v7779WxZ86cUWmXjNxAHMcwTZNAz9fXNx3iZQVxbNrANbKOGoEawRkdgHQL6uEgzzV69Gh8/fXX6NGjh1pjXFycctsRtu3btw/NmjVT82JdD0IyjmNqQWJiIv78808cPXoUS5YsUXNiJCcnK+gWFRWFIUOGKPhHGHf69Gk1D16PER4ejoYNG6qU5Pfff18B1GvXrinoSTBJ8Glubp5tfwXEFcAfBjIlUUAUEAVEAVGgECkgIC73zVKOuKcAcSyVwje8+QauPj0149VatGiR+8UL+AgBcQV8g2R6ooAoIAq8yAqwW+rjTedh5mILE5s0YMJ01aTgaCQERyM5Mh66xLS001StToEpOuLaHh6HDh71ML5mPxiZGitHnLG1GTRmJvjT94ByxUUmxKRLV7t4RcxuOQRedSrDyNQE8Q/C0GvNWFg52uK8z6VsErNQLGEQ4Zk+tm7dCoI4wqC6desqR1heQRxBmbW1dabr0NHG1Fee57PP0ppOJCclw8zcDD3bdsPMXmOQFBEPXXwSUlNSscv3KEatm4X570xE9/ZdYF3WBXZV3BAUFapcZZ06dcKqVavUefIC4tgafuTIkdi0aRO6du2qjssK4ggj3d3dsX379ifehgSAhIJseqEHZBzMhyg2hODxBGIMgjc2jsjYCIMPWG3btsXDhw/BhgoMgj42rGBh3p49ez7x2h9++CFWrlypmi+UK1cu01516dIFP/zwAwYPHpzteAFxL/JPFVmbKCAKiAKigCjw/BUQEJe7xvkFcczYGDZsmHqeZVZG1uAzI59VDb2W+2wK1ggBcQVrP2Q2ooAoIAoUKQVCT9zC480XYOHhAGNLM2hjExF3LxSJoTEKumnMTWBsYaocb4khMUiJTUSKMdB6xyh09GqAcTX6IjU57Rc1x5rYWuBI6BWs9z2Axl7V4WVXHLfCHuLX89tQ1sEDSz+cA0ePYkhJSEabz/ugmKMLjp84Dgs3+0y6s3EDnW+3bt1SX4+Pj1cOLdYVo5ONkR8Ql/HkBFQEUnyYYIol617QFRbrF4aAw9dR/q0m6FKlFaa0G6oaWFAXI2MjDP/tC1y8fw1r3/4KKQlamNpZwNzFBrbebhjx/ec4f+GCco0x8gLi2CmWrjuCrH79+qnjsoI4dl6lq40gjus3FIR5TNVlHQ+mymaMsWPHKmccH6xsbTM7HumuoxZsJMEUWqYCcxw7YunTdOnEY/0+fs3QwxjTUKkhXYFZg6m3HTt2xLp167K9JiCuSP2YkcWKAqKAKCAKiALPXIGiCuLWtu6br9TUngd+z3NqKjulMjvko48+UiVcWJbEUPC1wh4C4gr7Dsr8RQFRQBQoxAqEnbyNR5svwNzNHikxCYi9F6rqxdHZZmxjnt68ITk8DkkRcepznYkRWm4eoUDchLr91epTU3TQJWpxOPgKJl1Yjt96TEGFYn+3Nj926zyG7ZmHUR3exdDX0poTdJz0FoxTjLBr/hqUeL0ONCbG6UpmdcRNmDBBwR662FxcXNS4/IA41oUjlNqyZYtKp8wYrVu1wupJPyL83H1E3QtBg4V98Gr99vhy4OeZxr08+U3cfuyX427zHULWZ8sLiNM74jZv3gy6xxhZQdyxY8fQvXt3lfpJYEgwx9RSAi590Im3Y8eOHOelr8NH+EiwRqcatcyabsA0BKahMqjXnDlzlIOOjruXX34Zffr0UfNgEJQyhTinYOrCoUOHsg0REFeIf2jI1EUBUUAUEAVEgQKggIC43DeBjrj8gDi+8TpgwADwGfVFDwFxL/oOy/pEAVFAFCjACkRefgj/9WcVREsIikZyVDxM7S0ViNMHX0sMioYuSQuNpSlSUnXZQJwamwoMPfwNIpJisOrlz2HmYpNeO04bk4A2q4ehXvkaWPrJXDX8nW9GwdfvJg5/+ivcO9eAY92/wV3GGnFsAMDaYyNGjMjUgZRNE9hdlTXQ6L7iGMayZctUJ1I2QeDX6fhimiVTL1k/bcOGDar5gYeHB0YMHw5bI0v8/Ook5QY083RA1VHt8FrjDpjzzvhMO9d+Yj8kpyRj2pufpn+dIIvpu9qIOJgXt8OrQ/vCoYZnnkAc58i5Xr16FZUrV1bnzAri+LXo6GjliOO7lGx+EBERgVdeeUWltBL6dejQAWxGwc+fFE2bNlVuOaavfvrpp8qBR7BGRxtBG8/Phy69ZvrzsB4d4eXhw4dVp1OmC9Nhx+NZ249prwSFTFE1FJxvvXr1sr0kIK4A/1CQqYkCooAoIAqIAoVAgaIK4tbQEeeQ8xuh+u3zjQhEr3w44tgZdebMmQbLihSCWyJfUxQQly+5ZLAoIAqIAqLAs1Qg/lEE7vxwANE3g5CqTYGZo7Vq3JAxksJiQUccU0+ZoqrVpWQCcXHaRKy6uQ/XIx7gRJAvdKk6VT9uYpN30xpAGAFJYTFos/4TVC9TGaWLe+HEtXN4FBaIFJ0ObcrVx/hBI9FqVE9oTDQKBhGq0ZHFrqLsBEqIllMQJhG60flGV1pCQoLq+MkOn2weQBDHxggMPaQrWcIL7sXdUNKmOJb2nwHLko5q7pU+aGUQxA1a+CmO+p7BvAET0aFu60zTSYlPRuydEFiVdIR7p2r4K/Cacq8Z6pqqd8vpT8C5c51cM+u9ffDBBwZTPQnpJk6cqBpDsJPq/v371TXYiIKpqVy7m5tbjjqx5hyvlbHRAw9gjbxZs2ZlA3EZT0YnYf369RWMo3OOOjs7O6vurFmbauR2j2YFcYSjTA8+efIk/P39ldOO52UNQDaVkBAFRAFRQBQQBUQBUSCjAgLicr8f8gviWJKEDb/Wrl2b+8kL+QgBcYV8A2X6ooAoIAoUZgXogLsy9g/E3guBZQlH1XghY7BBQ0JgFHQJyapeGiMriHscG4rX90yGs4WdSnUMS4xGQxdvzG3wPsycrFWK667zhzH+1BJYmVnAzNQMfVt2g4nGGAu2LoOpsQksTc1xevdRVGpeC8OHD1dOtzfeeEM9CNB9xfpmbCRw4MAB5eQaOHCgeo31x4YOHQqmcDK909PTU3UAZd01Bp1jfGePTRno5CLM0oO4rYvX4ePpn6JeyapYNW6Reo1R5cOX0LxqA/w4dGYmLTae3IXRv0xDZc9y2Pr5smzbHhQcBPNALewqFcfdkvFo37WjQRC3bds2NS8GGxmwHh5rs126dAmsG8eYNGmSSr1lSqo+FZf13MzMzNS62bWVa3/99ddVIwaeg+ti51P9OvQTZAopu8Iy6E5j04qM6aKsa8f6c/xX74jjfKysrGBqapppnWzqQFjGuejnT9hIsMZacRmDoI7n4burWSMriOMa+cG0W6a+sqstASwfBun2Y3MOCVFAFBAFRAFRQBQQBfQKFFUQt7pl/hxxvQ/lvUYcnwU7d+6sniuZ7cA3uTM2+NJrz4yMwh4C4gr7Dsr8RQFRQBQoxAqEHLuFe8uPISkwEmaudtBkAXEpsUlIDI4GNEb488FRxCTHQ5eaiiXXtqOivSdaetRUrrYazmVR37UyLoTcwodH58PYSIOepVrC084V9xKDsPHmEZibmiEmMQ4/fTgTL9VsqlSbsHIuVh3erP7frVVHOJVxU841Qrg//vhDub1Y00wfekjHrp4sJpuxa6o+JZXpl2PGjFGwasWKFbhy5YoCVoGBgWDNMqZwvvZKN+zbtx+2ZlbwcHXH76O/Tb9GrzlD4fvgJoZ3eQ9ujsXgbOuIxpXrIlmbDO8P02BTsyr10cy7PqwtrOAfGoDDPqdQ3r00Zr8+BgkBUbjpEI6eEwepOhtMhyWg1MO21atXq3RTdoDduHFjpruHEI3dR9l4geCQaaRMK6UTjWmgbKLAWnkEZExpZeqnft08UcOGDdV5CbUePHignG+8NmEWY9q0acopyFpvdNMx7ZfNL3huPtDqQRznNWTIEPTo0QOVKlWChYWFgne///67goesMcdgW3vOj001qDeBGQEcP6fDjTCR0JTB9ROwMrg+zpvBefBBj6mxdOvpg+ujk5HglXX0JEQBUUAUEAVEAVFAFNArICAu93uBjrj8gDgCtqxv6Ga9Cl/XarW5X7yAjxAQV8A3SKYnCogCosCLqgA7l/r9egLh5/2gS0hSdeJMHawyLTcyOFx1PL0R44+Tgb7QsRCcgRhXux/qFaukAN22+yfVCI2RRkEgO1MrNClVA56lSuLnfWuwYdxPqFqyAn7etQqrj2zFw9DHahx/sRPIENwQVDFVkkCILjimYRISEQjRJUaQxJTFnEAc0y3phqODi2Dqk08+Uedhamd971oYVbsvvjq1UsHBcm6lFEyLS0pQrj0+iETHxyJFl6Ice8kphh84uEZ3J1c1JjYhHuExEWrtdA1mDJ5Pn37Kjq2Eg3yH0cbGRq2JDjP+n7CwV69eqmYbgRZfY0046sMPfs61M0XVy8tLpagSVBKo8TWekw9H1JJwjQCPaQZ0xdFhxuvydY5j7Tymw5YpU0a50AjJCNlOnTqlQBo71TJtlkEnHsfSdcd3SJkqTKDHveG5eT6mA2cMzodQkdCQ6+K7rDk9uGWtT8dzEexx/QR3hTF4733xxRcKckZFRak9IxQePXq0gqgSooAoIAqIAqKAKPB0ChRZENeiH7zzWCPuKkHc4d/y3DWVz4y5gTjulr7cy9PtXME4SkBcwdgHmYUoIAqIAkVOgcgr/vD/8y+k8p2t8FjE+4fBxMZC1YLTB2uBvbb9czib26GyQ0kcC7ySqVuqflxkUiz675uBpJRkRGvjUc2xDGq5lMeGu0dgBCP8+f43iHUAXp0xGLXLVoWLnRP2XDiCllUb4ubje4iMiUJsUjw+GPIBvl/0vXJB0fXWrFkz5cSiM4udVAms6BIjpKIzjPXU9EFnF11cdH+xXhqBESEQoRIbFTD07rG9n62AS4o1bMoVw5RV83DN/zbO3Lyo5takcj2sPPQnImOj1Tyrl6qMA5ePo265Gjh3+xLql6+JXs3TupxamJpjyup5CtQ52TrgbuADBSAJ8Iw1xrCytlKAinXVRo0apVItFy1apI5ld1ICKoI5toHv2rWrerAhLPP29laON66HrjCuV98QgWmtbKCg7xpLRxpTc/k5HWrULWMNOEKfr7/+WmlIdx7nQLcdO6nu2rVLOdLefvtt1aqeqaEcR8jJedHVxlRfpry+9957at5cC1NZCZY4P66DwIkpquyuShcjIR/3YMaMGQqqMpjqUKFCBbV+ro8ptTwXIR8/sgbBI1ONeX6OLWzB+/all15SWlI7diIj5OQeM0WY/8/Lw25hW7fMVxQQBUQBUUAU+DcUEBCXu8r5BXG5n/HFGSEg7sXZS1mJKCAKiAKFSoHH2y4haO9VWFcsjtSkFET5PkRyWCxMnazTu51GPw5DSGgo3J1ds9WGy7jYP+8cxleX1mFGg4EYd3qxgnXja/fD/jtnMfHKCoztPAiDuvVXaahz1v+AqPi0GmOMBhVqYm6nkfj5rw1YeXSTAkl9+/ZVcIadUQktzM3N08cTTBFSsdYZ3Vh61xa7d2bsHMo0zZ9++gk1atRIP1YP4rYP+RFlypWBqZ0l4hLjYWZiispDW6c3abjufxvdpg9U6amD2vdRr3Vv9DJYJy5jR9WVBzdg8qqvMejlvvh51+9oUaUhjlw9jaFNe+O7o6sw4X/jsGDRQlWjTe/qIuwi4Prf//6nHH0Ei3Sjcd10pnF9TCulI43rIaBjENrQ4caGDmxAwS6qdL317NkzU5fYjPvCsYRjTNclkNMHgWa1atVUcwcCIYI4gkxqmbEWCGEY68LRAccafQzOk3Ncs2aNujZD34AiY3MKgkPW6iOQYuMNQj8CQHZqZT0/prfSgfek4Fim9vIeINwrbEFt6OgkkGRTC33om2ucP39e6SghCogCooAoIAqIAvlXoKiCuFXN38yXI67PkZV5dsTlfxcK7xEC4grv3snMRQFR4D9WgJAgJS4J2uh4QJeq6pjR0WVsbS5Ok1z2htrd++U4oq48hK23hxqdEBCJ2DtBSIlNhKmTFYw0GiQGRYMNHUyszXMEcStu7MYPvlvwY4tRGHz4KwXiPvPuCZ/oB/jgxHxM6vIh3urSSzVtmLnuOzwIeYzp/UcjNCoCP+9ejfLOnpjadxS6zBmEcePGgXXU2Dnz+PHj2VbCArK+vr6q5hiL+jPdjzF79mwFfGaPnw5fXx/43LqKHh27469rl3Dm4lk8DghQoImpqYu6fY62Hdup++RhyGO0Gp8GlDKGpZkFmldpgAXvT1EgrlqpSrjid1053mwsrdCwYm14Orvjl31r1f/vBt6HraUNEpIT8XnnoRjy60RM/98kHDp/AqdPn1YplgzWWSNo1EMrfZdYrnv69OnKOUcHG4Mgi80qGJxru3btsGfPHuVA41rpanv//fcxYcKETB1P6Qqk84yNIehcc3R0VIV3OY6wj0FQZqgrFt15u3fvVu5DOtbo5mKqLGEonYUEe3yd6QtMi6XTKyuI4/1F4MYGDnQucg50NHLsuXPnVDpsx44dVR1AfWMKzonOP6bbEgpybYSCdM/RpUfHX8ZYvny5Srf18fFRqcTssjp16lQ0btw4fRgdgrwvOF+eLykpCVWqVFFpym+++Wam87H+nj7dlmm01IzOP3bezdiIIjQ0VKWbErIxJZjrJFxl/b2M6aYdOnRQ9y/3PWNRY6ZLc68JNqUj7H/8S0QuLwqIAqKAKFBoFRAQl/vW0RH3tCCOz4F8hmGWQ9ZgtkJhDwFxhX0HZf6igCjwryqQqktF/MNQxN4MQEJAhHJwpSQmA6mpJBUwNjeBqaMNLNzsYV3BHZZezjDSpHXDlPhbAcK1u4uPIjE0BtalXdQLhCcJD8MR9yAUKTEJMLG3hDYqAUkRcapjakqqDi03jzCYmno13A8DD81FFYdS8I3wQyvXGuhRriUWXt+E+KQErB70FS7E38OwnyajRunKuB/yGKfmpjUqOOJzGu/MH40x3QZh+YlNqF27Nvz9/ZUjjtAmaxDoEKoQqIWHh8M4KgWRvgFYtnw5Pls5E9s/Xgp3axesPL0R8w78Am/38mhZrTG8Snrh4I1T2HV4L2zNbbB32u9wtnOEX9BDfLpsBs7dvpztWo0q1cGy4V8pEMe7iBXyapWpijY1muC3QxtUHTk66tiIIjE5KddbjGvSp4NmdI8ROnLdO3fuVDXgCMj44MPOqEwn5VpZP4+dTAl7mG7LB1C6AFkzj0GH3FtvvaUAF11Xly9fVjpybG7RvHlzDBo0SM2NDjYex/shYxAS8msEa4RRTF1l6i/BHIESUy71a6JTkWvKKdg44/Dhw5lAnD7dlsCPjscRI0Yo12N+0m337dunUpoZZ8+efep0W8I4AlSCPb2bkPcbnZbUnACUdfPoTsyYbqt3b86dO1c1DWFdvZEjR6oagQSoTKcmUF21alVu2yKviwKigCggCogCosATFCiqIO735v3hbZ/zM5ZesquRgeh7ZEW+HHHMHuGbmDdu3Hjivcc3Tgt7CIgr7Dso8xcFRIF/RQECgNhbgYg4e0fVMksKjUaqVgdjSzNV04ywjZCODQd08UmAsQZmLrawLOEEh7plYF3BTVxyGXYqMSQG9345Bm1MIiw9HdNfoc6JAZGIfxCG5Mg46JJSoI1PhLG5KVKMUp8I4niCjXeO4kffLYjS3cGpMAAAIABJREFUxqWfr457JUyrMwAlvMtg0KZpCIuJUI4yUxNTbJ6wWI3jNWt+3AENq9VBeGqccmF5eHgo+BIQEJDt/mLjBTqdunXuigXvTUX0jSAkBMVg86U9mLL3e+wcuQxexT0REhOOll+8gYHNeuKDhn2gS0jG9rtHMWn7ApgYGWN4twEY/HI/dJn2LgLCgxEZF42GFWthSMf+ao7T1i6Ao409+rTohk8WT0H9CjVVHTl9aiqP6TC5P8oU94LP/RvQpf79jiGbPwyu/Rq8mnrDpWEZ5Z6ie4sNDHbs2KHqsmUEcYSLXDcBHNMVmTJKtx9dazxOHyVKlFDuNH26LeuvMbWVaZ6sp8YUUtaQo+vO1tYWdGXRHccUV75GeMTupoR9DD5IcQxTU+n+4rnowGONPgIm1nhjbTc66/TNFAjp6CojvKNTjDCNAI+18JhKunjxYrVvTJslKNTXtmOXW86T6bh05xEoMtU2oyOOcyBkdXJyUrXp6JzLGrml2/K6+ppyhIVPm25r6AebPt2WD/9sRKGPrVu3Zku35X7Secd9phNPH4Sk33zzTSaX3L/yQ1QuIgqIAqKAKCAKvEAKCIjLfTPzC+J+++039ZzI5zvWuWVWAJ9l+EYyS4bQCceawnxuLOwhIK6w76DMXxQQBZ67Atq4RIQdvY6oKw+Q8CgCJnYWCrIZW2Qv8K6fDDuCJoVEqbRVCzdH2FX3glPTSirFUgJIDI7GvWXHs4E4vTbamATE+YUg4XEEkkJiVNqvztQIrXeMTqv/Vuf/0/p0qUhN0amPwwGXsPHhCZwNvYF67t6o71kVKy5uR1lbd/zYbzL6rhmXDn/oRPtjbFrTAm18EmqN7oxGteojwSRFOaBYX4spfIQyGWGMvj6ZuZk5dk5YCbtwY1XPzqK4LTZd2ovPVszE/mnrVMoou7G2mfAG+rbojsl9RiM6Nhprd/6J2Xt/hpdNcZR3K4URPQah2+xBmNH/fxi3Ynam+m9NPu2O0sW9YGdpi70Xj6BT3dbYfu4AOtdrg0l9PlFzH7lkKs7f8YGZiRli42MUxFuw9RcF8so6eeKnyd/gnnWEeohhKi3dUnS9ZQVxBFOEVwR1THcknGRdsb179yoN6ECj442wbcWKFcolpw993TuOI7Rjaie7w/Ia+npkTN9knTo+WDE1lTXqlPZarXK18YGK2tK1pW/08NprrykH1xtvvKHqtNGdqE9FIKzjAzBdYww2j2AtOwI0zpWAj/NnuijXyyCgo+sua7qtHsSxlhrhFuHZhg0b0mvjZf1+pbts4cKFquaevgmHfgzTdfmgSK0JIjMGYRjTLOg0JBxjeijHMV2Waam8zzKm22a9btZ026yv07FINyJdjAxeZ86cOQooMrWW2nI/mXY7bNgwzJs3T34UiQKigCggCogCosBTKlBUQdxvzd7KlyOu39Ff8+yIY11mZiQwO4LPcyy/wWcXPj/ymY9vFrPMScZmaU+5ff/5YQLi/vMtkAmIAqJAQVYgOSIOgdvPI/qaP1JTUlWqqcbs766euc1dl6RF/INQ5ZizqVwCbp1rwdTBOrfDXvjXkyPjcXcJU1NjYV3670LyGRdOh2FCUBSiLtxHclQcdCZGaL1zNDp41MO4ar3ThmqMVC25w0GXMfHcMix75XP03zIFr1RshsltBuPE/Uv4ePuXGNHqTVwJv4t9l47D09kNdla26Y64TXu2YeS62RjzwQjsPXlIOcMIa5iqSZDEOmQMNi8gRCKomvrqSHT0aAxLTwdEaxJUiumfJ7Zj7K8z0kHcnD+/x+I9v6NO2eq4HXBPOd4yRp1ilfBpm4HovWYMpvf/FONXzEkHcX+e2KHSVRtUrIWQqDDcCbif4z0xuvv7mLvxJ3z8yrvwcnHHlFXfIDYxzRlIWETYxHcV+Y4iHW1ZQRwfbG7evKkAFt1udH2xBhpTTfXBGnHt27fHgQMHFDTjwxHdgXoQR8caoQ/fyWSTCv6fQEvftVR/Hl6boI5BLemyI4hjt1b9wxdfo+uNTTFyCs6X9c/0NeK4PoI0BhsxEHjpH+AIngjRNm/ejE6dOikIRlhHbfjuKlNV2aWX52BNEu4158r6awRc+uCxdBXmFHqAS3jG+4dOPKZYZE235fX0cJEQj+CMDjqm29IVSOegvqZeXtNt+fDKGD58uHIisp4hU4r1QQBIyMwmGbyOhCggCogCooAoIArkXwEBcblrRkdcfkAcn1f4jMJnGJbj4HMa31Dl8yeDWQ3M3uAbvIU9BMQV9h2U+YsCosBzU0AbnYDHm88h6vJ9mDpYwayY3VOll/KP76TgaCRHxMKumhfcu9WFia3lc5t3YTgxNSGIi/J9DDtv9xynHHM7CDE3g6AzN0LzVR+gU+lG+LwhLelGMDLRwMjUGD3Wf4aY5Hj0qtYOP579E5VcSqF1mXoqfXj5pW1oULYGPnrtXfSbO1ylcNJBNr7nR7j+8DZWH9kCBxt7XLhyCbXr1k6vlTZkyBDlHmKNLdblYoF8pkU2rVgP818eC5vyxaAxM8bQHz5DRGwU7KxssP/SMbz/8pu4fO8qTlw/BzZcMDU2wbtte6O8exn8desSftm/Bp42rihm5YivG4/Au4e+QFhSNKLiolGrbBWUdyuNPReOKFjo7uSK4IhQ3A16gGbe9REYGQK/IH+82rgDnGzssfXMPqToUnBw+lp8smQKtp3dj2ZV6qNh2ZpYsH0ZXJycUcyjuGo4wC6jGVNTmcZJZxvBI51ihFo2NjaIi4tTjQnYOCBjEMSxkQMdb4Q5hG1NmzZVDQ3ocCO0ZEoqQRIfnOgwoxOPD6pMja1cubJK6WVKaK9evRQ8o2vr2LFjCsQROPGahE8EYJ999n/snQd0FdXXxXeSl957IAmEUAKhd5BeBZQioNJVmoCIoihSRJEiooIUUaqCVKVLr9J7DSEJnfTek5e8tG/tm2/iS0h5ofgncM9aLCC5c+fOvvNg8pt9zpkkgBidYqwzRyceU2Y5nqmVTE1l2gJBIx/KWJuNME0BUTwX18djCQcJpAif6KbjuXmNvG6COMI5dhHlnjNNl6CR4wkH+QaW6baEWoR+2um2Rd24PC/XxW6x2um2hJfUhzCUYFBJt1XmIQylu4/ptgSI3Bs67LjmwtJtC56f2vJtMt133Mvhw4eLmnraQWchxxTsZFsW/t2Qa5QKSAWkAlIBqcDzosDLCuLWtqAjzkWnbfBLCMegU7o74vgcM2fOHPE8xmcgPreuWbMmr3EYsxvo6uezalkPCeLK+g7K9UsFpALPRAG6seiEiz1zGyorUxg7Wj3xedKZqpqQCtumVeHyeoOXvolD6K7riDzsB0svF5HeWVRkJKYh0TcEaYkpaL1lbJ7bTXt806XviGYOhYWhvgpNq9TF6gnz4R98Fx8u/Qr3IgKhMjCAtYklXqlcDzNnzYRlzfKi+L3SPZRpk3Qo8T99pg4SHnat1xbTXhkF2+rloG9oIE63++Jh4Ya7dt8XiepkAd8ql/NAoyp18PvhPzFnyGT0bt5NjFVcczZGlvC0c8Witp8jOCEcP9/aiuN3L0Klb4CmXvUxsc8YUSOOYWpkimM3zqBXs1cxonN/fL1+Pm4EBogmFCaGxgLWHfxmvVjfxhM7sfnUbgSE3BPdU01NTPB2v37w8vISYIuhdE0tqBVTF5kaSXhTq1atR6QkiOMbSjq8mBLAbrGsTUZoxWYOdLbROUYHGeu6sXkC52MwXZJpqwRMDKZRsj4bAVn37t0FiKPOhJ104hE6EVhxD5gGSmCmQCv+zrelSlMHwjGmvTJVlM4zOuGUoOuNBX8J6vh9juW10W3GemtcB0Ec37CWFAXTbQkaCQaLC7oqtdNtlbHcCz5oFgRx2nPxTTA14oMonXOFpdsWdW6ujXUOWZOPMFk7CCOZsksN6cKTIRWQCkgFpAJSAalA6RWQIK5kzUoL4vgylC+J582bJybni2S69/lsyOCLSdbhZeZBWQ8J4sr6Dsr1SwWkAs9EAdaDi9h7FXTFmXk4PrVzsO6ZytwIzl3rwar2f9N6Wzt1kODheYn4q0EI2X5FpPoaO+avp6WssfLI1hj3+rsYXqcHEu5GoNWm0YWCuE/2zceJB1ewsteXqONSNffwHGDf1WOYem4FxnQZhE97jxRf9gu6g+4zh2FQy574tHF/2DWuBNe+DTD+00+waNEiXL16Na8ZAR1bAwYMEG6y2cMmo7N5A5i520Jl8Witv4KpqbdC7uH1mUPw7eBJ6PPKa3myb/j7T9Gwob5zdfza/UtoYlLEfG02DEermk2xdMy3+bZo+9kDmPDbDFR3q4JdX/6W73vvL5kkXHibPluCBpX/hWfb9/2NCdvmYuJHEzBp+lTRnIDuMgIaOtcIiOj0o9OLMI2QTfu6mQZJuFUw6O6ik4r3lFIot+D9RRdZ7dq1hZOL51CCD1EEc23atMmrA8fv8W0nwRgdZ9rBrp7UXruZAr/PtfJrY8aMyVujkpqq3YBCmSsxMVHU/GNDh8LSbbXnZzdSpttqB9OUCQwJE/v27SseAKknr23lypWPuGS1tdOudaLMSYcdm0LwdwXEERgyHYP18rSjY8eOok4ea8sxCqbbao8lqOM8rJPHP9N9x5qATO/lG2YlmIZLKHrw4EFwfhlSAamAVEAqIBWQCpRegZcWxL3yDqrr6IjzpyPu9Gqda8RNnDgRGzduFC/A+bzHDAiWFSGc4wtnvtCdNm2aeA4s6yFBXFnfQbl+qYBU4KkrwM6nQWtPIMk/VHQ71VflOp+0IyVNjWX7N+HGw1u4/iAAUQmx6PPKq/hx2KMOk9DYSCzcuQan/C4jMiEG9qZWaFazPmYum48atWrmm5c/QBN00B0UFBQkXEd0KH322WciBbCooFuHaXoMprcpdaX49ycBcQRR33zzjSiOyg6UjxsKKFGOp9uJTiFXC0fUtvPEwO5vwsvt3y6QyjiCuDY1m6K+Z02oIxKw9PwWeNlVQLvKjcWQNh4NUNW+Aq6F38L7O2fDyMAQfWt2gJuVE25HBWJ7wDFYm1pi19er4Gj9by26Kb/PxcbTu9CnaRd0fPs1nPe5LBxcBB10VSnB//yZQtiicXO85tYSOVlZMLL7t8ZfixqN4WBlJ4ZvOL4dX234Ac28GuJu2ANEJcbAwsQcBvr6GNyuL5ys7XHt/k2RdmqqZ4hkTSpSMtMKlXRQmzeEe8ve0haZ2ZlYtOv3vHF0wdXzrIk6HtVx4MpxPIwKgZmRCbo1ag+fhwEgAFQ6qBLG0FVGVxVTHXmNdEi1bNlS1HBTgkVwtaEZH3wIhTp16iTuQUI8giymf/JYpo7yrSXviYL3F89HEBcRESHSB9hFlC4spqfa2tqK+Xg/FLwneL2EUYqzbujQoZg1a5aAoKwNwrWwAQLTFehE4/1OSMZQ5lLSbfmwRih1/fp1bN68Wfy5qHRbbRBHvZhWSica180HQaZ2UgttoMUHRbolmbLcs2dPAe/4eeU6eG52imXMnDkzX7ota+JRf87NB3gFxFEbXheviWOYAs3vUUs+fLIuH6Ngum3Dhg0FdGP6LdODeY3894Lxww8/iH83mNpLZxybQvAeYN0+zsl/M/iQK0MqIBWQCkgFpAJSgdIrIEFcyZqVFsQxG4BuN9YrVl5O8ucivpzlz0F87qSbv7ifiUpe1fMxQoK452Mf5CqkAlKB50iBpJvBCNt+UTQCMHayLnRlQdHhaDWxv4ArtT2q4fC1M4WCuLjkBHSeNhQZmZkY1LYH3B1dcPf+fWw4txf6hircuOkrOlEqQZfPL7/8IqAIXTenT58W8IRfp4ulsGA9qLp16woQwBTBpwnitLtaErg8bhQEJQR8hCPn95/AzsN7kZyeirGvDcFHPYbmO0VKWiq6fP0OQmMjCj31V21HoHv11uJ7t2MCsfzSdvhF3kdUahysDM3R1K0mPh84FhXc3POOz0hKQ9LDKKy/cwjbrh9GSESY2AMCDDq+CAmVILBQao4VtoA/xi9E02oNxLfYmIENGgjP6njUwFGf0+hcrw0yszJx6e518XvdSjUx6tUhGLroE1HbLQc5eMWtLpCVg4sRfsjIyRTpqRlZmTBSGUKTmVGk5Bam5ni1Xms086qPQ9dP4eLt64hNioe+np4ALEzVpSMqLS1NgDOCFyXdlqBN6Tha1AmYChAcHCzGcR7WeGNtN6alsv4YHXG8JwoDvUwDZX04wj5CQKZC8kHq448/FqfTBnFMZWU9NoIn3suEbGy4wPuDnbGYYkl3HQvzEnIRYhGWEZryM6LMx2tUgg9oBE9MNSY4LC7dVhvEMV2TDsGAgADRZILnIgBko4uCblIl3Za15bhujiXAo+tPae5AvbXTbQnFmBJL/fgZL5huy/pwTMsllGSNOX6eCeUJGJVQ0m23bNkiUlY5jg0flHTbihUr5o2ly5AgmRCRD7ccR3cgddVu4PC4n2t5nFRAKiAVkApIBV5WBV5aENf8XVS30q1GnH9iOAad+V1nR9zLdC9JEPcy7ba8VqmAVEAnBUK3nEfs2dtFuuE4SXqGBoRsLraOyMzKQpWRHQsFcX8c2Y4v1y3Aig9noWO9XGjABgLbdu3AJ38vFD8kK3DCx8dHADXtTp0cz7pcTJlkLS46jQoG4QHBCtP4+PvzDOIKpg5mpmrgu+oIxvzwBU4/vIbv3vkCfVvk1lMrLDJT0kXjBk1ssuhiq7I2KdSxyJRipqaaV3aEmXuuYy07MxtpofHIUmtgXskBzp28YVnNucR7gp1d7648i/SoZFhUzp+2qH2wJkOD2JQEuNjwnsiE99i2eKNZV3z3zpR851h3bCumb5yHt7w64c+Ag1jU9Qs0dvLGQf9T+PLcUkx580O81/EtcUxAyF28PuM9DGnXB1++/VHePDM2LcCao1tEqqqX679Owix1BlLuRcO2gTvc+zWCgbFKdAQlxPX39xe14hhP4pJ82nC2sHRSwiZCP7rwCqa4lrhhZXgAHW+EiHSL0r1GCKhda68MX5pculRAKiAVkApIBV4oBSSIK3k7Swvi2BCMP8/w5eaLHhLEveg7LK9PKiAVKJUCWWkZeLjyKNLC4mDuWTKk4eTFgbgle9Zj7pbl2Pnlr6jjkQtBGKePn8SA1V/il0U/Y9TYMeJrdN3Mnj1bWLLpnFGCrhntJgLaF0RHjLe3tyhozz+z6LwuII6pc3Tesd4V64bRocPaXTy/AmuYlqe9DuW82jW+mBa3cOFCAQtu3bol3Dl0kXEeFlhVorgaXsl3IuG/8RTazxwMK3MLHPv2z7yUOaVGnOKUo4ts+b4N2HJiD0ITIqHSM4CzmR3aeTTE+037QE9fH1mpGvHrYPw1bLl9FLfDHrC/Kmo7V8VHXYegVad2cGzrBWMHC5Hqx2L+Bw4cELrT2UQ96eYaNGiQWH7CzXA83HAJYakxWHJyPc7duozY5HhYm1mKTqijuwxB8+oN866VgHbx7lX4458t4jocrezRqV5rjO8xQnRCXbr/D/y4fSlGNnsLy87+iQXtJ6C2W3X43vHDh6d/xMyBn6Ff6x5ivh+3L8Mve//A0Vmb4O5QPu8cQdGhaDflbYzuOhif9sqtfZeTlS0gpamrDdz6NoB5xVwAqaQostYYUykZhYG45+meELonJAgXGqEUPwNKGqVSI45pmAzeg3xwY/033rNMZaDzq3fv3iJVUzs4hlCS7jq6zujUY+p18+bN84bpck8og3k+dnpl6iidg0y9Zf03fpaZ7qtETEyMcMYxBZWpp0yBpROQqava9du01ypBXL6tk3+RCkgFpAJSAanAc6XAywri/mj2XqkccYPP/qazI47PZvzFnzX4HN6nTx+R4fAihgRxL+KuymuSCkgFHlsBdUgsgtefQrYmCybl/i1wXtyExYG4a/f90XPmaNT39MaUt0bBzcEFDyJD8M3aRVBr0nHm2Ek4e+c2UGBqGV1vTE0rGM7OzqLA/r59+/J9i/WpWByeKayEcLqCOLru6MAjNGNNrsDAQFG7iql/hBQs1M+0OKa/MQWxVatWos4Ug2uhU4fx5ptvCrjAYvZMZSRwYE0tHnvhwgVUrZrbOKE4EMfvx154gBFj3sfWiwewZ9IqeFWqIo4rCOIW7FyFhbt+R5/mXVCnXDWo45NxPywQt2ICsbjVx2B9PzoOf7m3CxtvHUaHKk3QxLMONKpsbL96GIFRoTh08CBatclNZ7148aIAIvyPvlq1aiIlkrW2mFLJQvysUxZ57A7ub7uKt9eNR4omFf1a9UR5O2eRBnr9gZ+oXzes0wAxX0JKIt6cOxKxyQlITE1CvUo1Uc+zFjYc34bKLh7487Nf4R9yF32/GwF3+/IIigmFqYEx1Fnp4njWuFswfDo6NWgl/v7ugk9Ep9ez3+dvZMDvNZ3QA97uVfHbRz/mQri70TCyMYV5UzeY1y8n9uD8+fMiFZJwinXECEoZhYG45+2e4DqpPyEvU1cVsFsQxBG28b5nSiiBGmEqYTQ/S7zvlJgwYYLowsW95n2fmpoq3HYEsErtO13vCY5jyi2hG5tBsL4b4R9hHDXnOng+BlNCCUDZCIKfIUJ1uhMJwnlNhOFM/S0YEsQ9Ion8glRAKiAVkApIBZ4bBSSIK3kr6IgrDYhjuY9169aJ+sCsl8uGXmwsxm6p3bp1e6SpVckreH5HSBD3/O6NXJlUQCrwP1Ag0TcYYVvPw8DcGIY2/xblL24pxYE4Hrf+2N/4fusKxCUn5k3T2LMWFrz5KWoO7ACr2rn1y5h2amRkJN4aFQwWxucP/oRnSrCWFUEcf/Bn0XYFSOjiiCOkMTfPf310tHENnGfSpEniNMWlIbJGFutNKd0klXXxP066yvgfJourMkoCcQSAsz+dhqnzZ+KnHhPQqVEbGDtZocqoNqJrquKI6z5jGByt7bBq3Pd5OjC9NT0qCeqgWJGueistBEO2fIVJb32ADwePhJGjBUzL2yDLxlBcH+3uhB8MgjfWhNMu+sq1sJsk66OxVljILl/8s3YPBm36HD8Nn45uDXObYhQWX2/4ETvPH8DmicvQZfrAvNTUoz6n8P6SifhmwAT0a9ULG0/swJwti5Gars6bppypA9JyNEhIT8aS0bPQsW5LdJv+DgxVKuyYsvKR0/WYOVS4MXdOWIbUh3EwdjCHfbNKWHJig3B5KUEItGzZsrxOsPx6YSDuebsnuE6mbrNhBmud9eiR6xIsCOIIqLmne/bsKXJfCIUJilmnTgFkHMxupLVq1Sr1PcFjCfrYxIQPi/wcFBUEoWwqwQf2ypX/TSPm57d79+6iOQjr3RUMCeKKlFR+QyogFZAKSAWkAv9zBV5WELem6dBSOeKGnFulsyNO2VQ+i/NnB0I5viBn0zBmELB7PaEcHXNlPSSIK+s7KNcvFZAKPFUFEq49RNj2CwLCqSxz3UMlRUkgbt/lE1j3z060qdkYFZ1dERB8H0v3bkRVRzf8vWkryjf3FqfgD+l0m9HdVjBYlJ7ON7qaGGq1Wrhx6Eyjk41RGhCnPT9hBIEU/9NjOh07rvI/PUZxII6pf0x3ZGfKgsH/JPmAojQEKAnE8XgWpR8xYgR+GvUVOjrVR0ZCGuov6IexXYbg4zeGCQAz4IePwLTMlePmoqpzRWQmpyM9Ohk5mkyYlLeBbX13zN7xK5b8+gvYMEBxgCnrY6cluqCY9sgOnNpBJxW1YCMJ1i2bPHmyGJf4TyAu/3UMPdeORe/m3TD1zY/ARgkFg/o1/ex1NPdqgKlvfYQWX/QS0G5av/FiaPupb6J1zaZYOGImDlw9ho3Hd6CldxO4W7vgxs0b+OPiDriZOyE0PUak6B6d9SfaT+0nurL+NfGXR8735rejEJ0Qgx1DFsKsoh3sm1YSIO7+g/vC5UV3Ihs0cH9YR5AuMCVKqhH3vN0TBFm8pxgFQRybNPB6CeL4mSgsCPOYvv207gmmSSip23TiLViwoNDUCd4TTEPl54pO0YLB1Fs2diDMLhgSxBW6lfKLUgGpgFRAKiAVeC4UkCCu5G2gI+5xQFzB53M+4xHK7d69W2Q+8OeTsh4SxJX1HZTrlwpIBZ6qAok+gQjdegEqa1MYWpnpNHdxIG7fpeMYu/Qb7Jq2DNXdPPPmO3rhFN77dSqmf/QFpv30rfh6aRxx7HrIH+zpYnNwyG0gUBoQx7pwhFLs0sjUOe1QOmzya8WBOLre2I2xuGD9LtZ60AXEKe6nbZu3orVbPSTcDIXn0JYY9cqbeL9Rb+gZGuBq2C2M3/Yd4tRJcLdxQROP2ni1URu81v11WNdxg7mHvXDi7d27t9h1KXX4CEoIUehKopb8u3aw7p7B9SSE7fPDslvbseLQetHVtLZHDbTyborXG3VERafcrrcxiXFoPrF7sedtXLUehrR7E+NXTMO2yavyGi3kZOdg/+49GLfnW9R3rYErIX7Y+f4SfLp9rrDhb/ssF7ZmazKRlaIRALLf6gnI0s/GwR//glO7ajAtX3iHX+o6ceJE4eBS0jsLA3HP8z2xc+dO4R5jFARxp06dEu3smfpJiMz7l+nGSudSHvO07wmmoTL4GZo7d65wVdJxx/Ty/v37i3UwCM8J14uL1q1bF9qZV4I4nf75lYOkAlIBqYBUQCrwP1HgZQVxq5uUzhH3zvnSO+K0NzQtLQ18DiSIY4ke/mzCny/KekgQV9Z3UK5fKiAVeKoKpNyNQMifZwADfRg76FYctDgQ99Z3HyE2KQGHZv6eb52a6CTUn/Y2WjZvgX1HD4rv6VojjsXeWWeK3VaHDx+eNy+bJrC7Kutd0WnDMYyC0IWOL6bUMfWSTQnoImKzBgIzzkmwp9TWKg7EVa9eXbyVYtpjUdGhQwcBTnQBce+9955YK+Ee587OzIKBoQoT3h2Lj7u/h7SIRNH5NCU9FSfvXsa5hz44ce0cHoYGifoRTF/kNXTp0gVsPMC/FxUtWrQQbjm+HWhrAAAgAElEQVSmKn7++efCbUX96V4iVOGbNwIsNgkwC8xC8A4fmLpaIzg5Akeun8KFO9dwxv8iMrIy8e3gSejRpDOiEmLQ4oue6Fi3lagjN3zxBLSo0RjD/79+HNfCZg1MSWV9ub1frc23vKTbUWj980C4lXNFwIPbWD96HhYf+AMB4fdxaNRK6OlBwEiVmRFUFsZo8fWbqFenLvYfOQR9lX6R1xoREQEXFxfh8Js1a1aZvie4+IIgjl9LSkoSe0YH4MGDB8W+Pct7gp8vJZgKTqB9/Phx0emUKeR0XfKeYr1Hps0SFDJFtbBgqkWjRo0e+ZYEcU/1n3Y5mVRAKiAVkApIBZ6qAhLElSwnHXGPA+L4swqfgwjfWIuamRr29vaiFAifr7SbbJW8iudzhARxz+e+yFVJBaQC/yMFMuJTELj6ODLiUmBaIddpVlIUB+LaTx4iDj8ye02+aVIDo9Do2yFo0bIlDhzOBXEEJUwhLKlr6tWrV0XjhuKC9d/4nxajIIhTaluxCD7T6rSjfPnyommBAuL4xolgig0bOI920KHEcewySddWcVESiGMKaMWKFWFnZyeuXwlt6EK3GmvA6enriV8Mfu2zzz4TXTMJYeiGYtMBpiHS4UUAVVxQR3bl1C7qz/GskTdnzhwBdGzVpqJrqr6Rgei0qgQbM/T5bgQyszLxz6wtYEfXJhNeQ71K3lg6Zi68x7bNqxGnvYZXv+ov/rp/em79POU64n1C0W7Vu3BwdhTNM3zPX8PKFSswb9kiXNhwGBVdK8DAzAjG9uYITY5Ctdo18sG1oq5TSaEcPXp0Xnrki3JPFHbN/8U9oQ3itNdAd2njxo0FjKObkp8fPjiyO2vBRivF3piAeABl6nlhn9OSjpXflwpIBaQCUgGpgFTg2SrwsoK43xvTEVdOJ3H9E8Pw7gXdHXGse600a2B5G740Z41gdlDlC3Ptms46LeA5HiRB3HO8OXJpUgGpwH+vAFMEA1cfQ9LNEFhULy/cNyVFcSBu+KIpOHztDDZ/sQgNq+TWryIo2LZzOz7ZuTAfSCEgIxgiSGK6pBIfffSRcLoRwNWpU0fULaPrp2D8+eefotYUx7q5uQkXDqMgdLlx44ZIg6Vrhy40JVavXi3AHAugaoMpdizif34FHWZsxDBgwAB89dVXIi22YDAtj91XGcWBOHad5Buu/fv3g2sYMiQXXjIKup+Yfqik4ipjWD+MXVuVphFsxMCaerw2dj4tuIfa66ITidDy2LFjeefkf/x0CfJ3grhyVo64uvgQ9OIzYVstP9h756ePcO3BTVz9KXc/vlw3F3+e+hsrx/6IoYs+yQfiCOqS1CmYtGY2jvicwooPfkCrmk3FcUw1/fvYPkzc9b1o2FGpUiXRWVPXe4JzaF+X9l7Q8UfnH+8DAlV5Tzz5PUEQx8+hmZnZIxCajT5YO1EB4WzEwJqDBGusFacdBHWchwC6YEgQ94gk8gtSAamAVEAqIBV4bhSQIK7krSgtiGNmC2Ebn6XofGOpkYLN5Uo+a9kYIUFc2dgnuUqpgFTgP1Qg5oQ/Ig9ch5G9JVRWRTdsWH14GxJTk5Gdk435O35HzQpV0aVBK7HSjvVeQQ33yrh05wb6zR0PI5UhBrXriYpO5eF3/zY2nt4LW2sbXPP1yefaGjVqlGi+QIjE9EnWv6Ijhj/Ms45ZcaFrjTimmxLEMWVx7KgxsDWwxPkL57H35CFYmVrAxcYJ6z9dDCMHc5g4WqDnJwNx3f8Gpk+fLgAf4RqBAoEi62Gxa2Tnzp2Fe4cNEOgEovuHNeQIyRgKiBs2bJhoGsBjCSDYSGDz5s3iz1z/l19+me8SC4I4po5SF7qOmPJHtxdr5dGRx5RWpvkxWBONtbvYMZSdZQnvgoKCxDp4bqauMmbOnCnOyeugm45pv9Sfc/MBiyCO0GX5xPn4YvF0dGnQDp7lKsLI0AgXbl/F3xcOijTUbwZ8JuZbtn8dVh5aD7rlsnNyhJZerp5ISE1EUHQYxvcYiSrlPDB4/ofCSVe5nAc8nCogPi4Ol4N8kYMcAeKon9JcQdd7gg8rbNDA49zd3UWHKcJNpiq3bNkSR48eFe5GRkE4q31PjBs3Tlz/uXPnRDqAra2tmE8bznI+tph/me8JasO96dOnD7y8vEBgTaC7fv36fJ9XOkZ5z7LRCoExOxwTwPHvbIrC+15JMefngCCdwcYS3Cc2RVEcsIT0dHDKkApIBaQCUgGpgFTgf6vAywvihsHLUjdHXEASHXErde6ayjI7/fr1y3uR/7/d4Wd7dgninq2+cnapgFSgDCrA+m1B604iPTIRZp5ORbriWnzeDyExEYVe4ffvTcSbLbuI7/kF3cXCv9fg+oMARMbHwMrEHC1rNMDcpQtRrUGtfMcTiBAgsYMoa7gRfPGHdLqaFIhSlKS6gjgef/P8dXw87mOc97mIjMxM1HKuinHNB2HeqdVi+qW9pwNZ2dA3McR9dRjmHFyKm8G3kJqmzueYI9RijTi663x9fQXkYnorQQ07oNKZxlBAnLJ2vu1i50nWseNYXmOtWvm14NiCII6pu7t27UJAQICoC0ZgRAA4ZcoUAcy0gw65n3/+WQAj1rLjWAI8uv6UQv7Ue8aMGcKJx3pedKKxlhdr5hGGEsQxZfbS5hOY9fUMXAr2RXRqnFiXq5UTutfogLeb9YSppQkMbUzQcfrbCIkNL3SLWtdshun9J8DV3gX+wXfw4bKpCI0NF3XmGMaGxuj0aidRx43ORyV0vScIRAluCDfp5jM2Nha19t5++23hsuTflSisWQPBD2sGnjx5UqRWMp2STjrWDVT2UDnex8dH6HTp0iWkpqa+dPcE7zXeG7wfCd9CQkJEfULez7xvqI3255WA7bvvvsOWLVsEqGaqBRs+0GnKsbzHGEoacVGfcQUMl8F/VuWSpQJSAamAVEAq8EIpIEFcydtZWhBX8owvzggJ4l6cvZRXIhWQCjxFBSL3XwOdcSpbcxjZ/lsX7ElPoYlLQUZcMuxbeMGpS12dUl+f9Jzax7PZQeylQESfeYDUwDgwFdfYwRwqKxPoGxrkWw+hWlZaBjLi1NDEpkBlaQLLKg5walMFFpUd/vO1P00ddJmL2iQGRCHuejgS70Qj/noY0sKToG+sgp5WcwQ2SqB2KnNDmDiZw9TFAoYWRrqcQoDLpIBImJa3QoW+9WHhaV/scRyviUmFOjwZadEpyEhIE3vImnmGVsYwoYvRxRLGDmYv/P7oJLAcJBWQCkgFpAJSAamAVOAZKPCygrjfGg0vlSPuvYsrdHbEcZuYScDazyzRwbIrrBnHF/ssT6M45ph1U9ZDgriyvoNy/VIBqcAzUSAzKQ0hf51Fsl8wzDydoW9cfDMCXRaRnZ4JdmW19C4P1zebQWVZdNqrLvOVdkymWoPQ3TfBpgCa2FSYVbCFoaWJTtMQ9qRHJyM9KhlmbjZwaF4Jji0985om6DRJGRqUHqdG+OE7iL8RAXV4ElRmhjAwNUTKg2ho4tUwtreAnoG+AGk5mdnITs9CpjojD4iZu1vD3M1SjCku1KEJyM7IgkuHanDp6FXkUALUpNvRAgom3YtFZlI6MlM0yErLddMxDExUMDAzhKGlMSwr28GmlgusqjkISChDKiAVkApIBaQCUgGpgFTg6SkgQVzJWtIRVxoQxwwDlvPg71WrVhUZMKyLrdTYZSmQLl265KulXfIqns8REsQ9n/siVyUVkAo8Bwok3wpDxN6rUAfHwlzAuNz6Wo8T2ZpMpN6LgImrHZy71IWFV/nHmeaxj8lSZyB4hw9iLwcJOGTmbgM9/eIhUWEnyyJMvBctuocSxDm1rfLCOa8Sb0cjdE8AEu/GCIhl7mYtOqYy1OGJSLoTLUCYkZ1ZPtBGKJetyUJGQrqAYnTHWVe3h0Eh9w3HpoUninlsG7qjQu+6AvQVFuqIZAEFE/yjkB6VIuZmGqzKzEj8mW444V5UZyIrVQNNQhoyUzNg4mgOq2qOcOlYGWblrB773pEHSgWkAlIBqYBUQCogFZAK5FfgZQVxqxqOKJUjbuil5To74thU7O+//xYlbVjqhnWptZtdsVTPnj17wMZzZT0kiCvrOyjXLxWQCjxTBRKuPUT0PzeRFhwLY1c7GBbTvKGohWQmqpEWEiMgnH0bb9jUz1/L7JlewP93aQ3d5Yuok/egZ2gAU1frJ4JnOVl0Z0WJRg7lX/OGbT23Z30Jz3R+us2S78dCHZqEOJ8wRJ8NQnp0CgytTXJ/WRgJ6GVkZypgrDokASkPYpCRmCbSdQ1M8gM0QrGMxHTkZGTDtJwFbGo65oNxdMClPIyDnj5gU8cVbj1rFepM5Dyxl0MRcfQuku/HQWVuBJNyFjAwKhkI8xx08nEdFp52cG5dCfaN3Z5o35/pJsjJpQJSAamAVEAqIBWQCpQhBSSIK3mz6IgrDYhzdnYWDa+++eYb0YCMTdq0Qdwvv/yCSZMmiYZkZT0kiCvrOyjXLxWQCjxzBZJuhoh6cakPIqFnZAhjZ+tH4Ethi8hKz4AmIgH83dzDEXYtq8Oq5n8PrRJ8wxC03QeaODUsKts/FRiTnZmFJP9IWNVwhseAhjCyNXvm+/C0T8C0ztgroYjzCRdwjc4zAi+6yVjvTZ+pp/9ff42OOIIw1l4zLWeFLLUGKQ9ioYlLFctSmRtD35iuOb28ZWYkacB0ZDN3K9jWcgIBJtN7WeONc9jUKQ/n9tXEvIVF1JlAhB2+g9SQRFhUtBEpp6WNjOR0pDyIh2l5S7i0qwzHFhWfyv6Xdh1yvFRAKiAVkApIBaQCUoEXSYGXFcStrD+yVI64YVeW6eyIYwf6xYsXiyZuhYE41ogjiEtJSSnzt5IEcWV+C+UFSAWkAv+FAmyyEHPcD8m3w6GJSoSeykDUeDMwMxKdRUV6YHYOstMzRHogXXA5mVkwcrCERbVysG9VHUZ2T6/pg67XzJTUe6vPIeFGOCy9nJ5qvTDWSkuPTIJT26pw6/Fox1Nd11iacYV1+yzN8crY5AdxIt2Taaia+DQYWZsgLTIZ6gg64Yz/dbCxBpzY10xkpmQIzkaXHNNVCeVSg+IFXMtM1YhacfqGKugZGUDPQA85GTlIj1cjOyMbhhaG6LB7GIbW6YMPOr8LxxYesG9SAablLAsFY/E+4Qja6YfUkARYVXXIS419nGulO47XSfjn9lp12NX/b9OiH2fN8hipgFRAKiAVkApIBaQCz7MCEsSVvDt0xJUGxFWvXl3UgPvpp58KBXFvvfUWbt++jStXrpR88ud8hARxz/kGyeVJBaQCz48CBDLqwGgk+YWIpguZyWkCuhG+IScH0NMTTR0I51QWJjCv7AyL6uVhVsGhxKL9z+oq464EI2jrNZGSauJkWehpUtJSsfLQBvgGBuDGwwBEJcbgjWZd8d07Ux4ZHxYbgcV7fscZ/4tinJ2pNZpUrYeZP89Frab18o3PysrC999/jxUrViAoKAju7u7iDddnn30GA4OiGwgcOXIEHTp0EHPxP9sqVarkzfskIC47OxvTp0+Hp6krGqIaUh7Gw9jeDCbOFlCHJiIhIFrsI0FbUcFaf+fvXsWE83Pzhqj0DWBubI7y5o6oZVcFr7q0QAUDZ2SlZyE7K7duHGvNvXb+A7xbqw9GtR4ClYWRcLhZVLSFTW1nWHs75qWcssbbvTWXEe8bASsvB51SUbXXu/XsbkxeOwuHpm+Bm3058S3CONaYs67uBM8h9WFs92wdjNOmTcOMGTPg6uqK4OBgnW9vPT09fPXVV/j66691PkYOlApIBaQCUgGpgFRAKvBfK/CygrgVdMRZ6PZSNyA5FMNL4YjjMyA7pvJngcqVK4vU1MOHD6Ndu3ZYvXo1hg4dijlz5oifJcp6SBBX1ndQrl8qIBX4nyiQmaRGelQSNNFJ4J+VFEa65IzsLWDsZPWfd0UtKARrjD1YexExZx/AytulSBgYHBOG9lPfhJO1PWpW8MJRn9OFgri45AS8PmMIMrIy0L9VL7g5lMe94AfYdGYnDAxVuOHnCze3f1Nvx4wZA9ZyeO+990Tb8dOnT+O3334Dv/7zzz8Xum8ajQZ169YV4I6286cJ4jIyMmBkZIQe9TpjcvPRonaaytRQpIzGXg2DOiwJxo7mhXaCTc1IwwbfnQiIuYcbkQFI1KTA1cwJw5r0E2mfyZpU+D+8hQPXjiFZkwJPC3ekZKUiNj0BtsbWqGNXDUPa9UPthnWhytIXDrqMhDSkJaix6c4e7Lx5AOHxkQJW9m3eHb1s2sDMyTIPmN0Nf4Cf96yEb1AAohJixBrd7V3xRrNu6N/yDRgZ/pveWhiIo9h0MKrDk+HcphIq9KlVqBOPsJJ1OerVq4devXo91meLe1azZk1QbyVUKhWsra3h6ekpumENGzYMtWo96qJ8nkDcs1rLxYsXMXPmTJw8eVLc44SVr776apGficfaBHmQVEAqIBWQCkgFpALPVAEJ4kqWt7QgTq1Wo2PHjuCzUsOGDXHu3Dk0b94csbGxooNqy5YtRc04Q8PCG5yVvKLnZ4QEcc/PXsiVSAWkAlKBp6pAemwK7i4/I+qYmXvYFzm3JkOD2JQEuNg4IjMrE95j2xYK4tYd24rpG+fh19Fz0L5OSzEfYd/2Hdswcf88zJ8/Hx9//LH4uo+PjwBqH374Yb4W4x999BEWLVqEa9euoXbt2o+s6dtvvxV29AEDBojfnyaIi74WAsd6bujm1Q4/jPomL02XjRnifCIETDW0KrwOW1hyJN7cMhb2prZwMXeAb/Rt1LSrgoWvTIV5BRtRIy/5QSweBAdi2PHJyMjJxCuuDdC6QhMEJYVju/9+0aV25+S1KOfgknfdX2+Yi02ntuE1rw5oVLM+/BLu4s/D29C3djfMfH9q3riTfuew6vB61PWoCVsLG5y8eQ7+IbcRmRAtxvRq2g1zBueO1wZxBvr6WLJ3Fc4EXEJUYjTsTG3QyLMuZiz8FnVbNcynPx2MfMs4depU6Ovro1KlSoU6GP38/ISz8NKlSwgLCxNjCdjeffddjB49Gj169EBcXBwuXLggwCfh6g8//CD+fP36dWzZsgUJCQn48ssvH3G+JScni3H89TSgIC+Qnbf4JlWJ/yUU3LZtG5hW0axZM/Tu3RuWlpYCOvPzsH379qf6+S9usp07d+LXX38Vn9OoqChYWVnB29tbfH4fF8D+Z4uXJ5IKSAWkAlIBqcBzoMDLCuKW13u/VI64EVeX6lwjjtvKF7n8GWDjxo3w9/cXz4NVq1YVPxt88skn4hnxRQgJ4l6EXZTXIBWQCkgFClEgMSACD9ZfEvXs2OFUlygOxC3d/wd+3L4UW75YgdoVq+dNd+r4Cby3YRKWLPoZo8eOEV+fMmUKZs+ejXv37gmgo8T9+/cFtJk8eTJmzZqVb0kPHz4UMIBFWvlnwh5dQNyJEyeE8+7MmTMCDFlYWKBNmzbi/F5eXuIct30CUK3Ov2tWTty4Sn0sef0bJN6Khr61Mbbe3oc9d/9BUEIYjFRGqO/sjfcb9Ed5S2ckpCXB0dwOF0J9MP7gDNRyrIaFzaeIGnAw0AcysrEr6jh+uvwbTFTGsDG2wl+9Fwvn2aGAk/j63EK8UrkRVo5fJE7vF3QLvb97B9ZmViAMNdDTh7O5A4z0DOEfdw/bv1gDL9fKYuy2s3uw/sQW3Am7L/6u1qTBxswaZiamCI0NR4c6rTFr4GSsOPgHdl86hLC4CBipDMXDi6HKEO+0extu9uVxP/QhNp3eAT2VHjp16SzeNBLE2NragoAqJCREzM+3j6zTQQdjnTp1BDgLDQ0VKQJ8Q5mUlCTeStIBSYB36tQpbNiwAfXr1xct5ZcvXw62oDczM0Nqaiq47x4eud2COdfbb7+N/fv3Y9WqVcIxWVhkZmaKN56chynJjxsKiKMLr23btkITrqE0UPBxz619HPWrUaMG+vXrh6VLlz6NKR97Dn72rl69KvaLHcoSExMFIOU+Epp++umnjz23PFAqIBWQCkgFpAIvgwISxJW8y3TElRbElTzrizFCgrgXYx/lVUgFpAJSgUcUiDp9H8HbrsPExVJ09dQligNx1x/4oe93I1CvUk1M7PMBXO3LITAyGLM2/AR1RhrOHD8FF++K4jRMtaPLJzw8/JHT8gd/AoB9+/bl+17Pnj0RGRkpUlgJ4XQFcXTd0dlDyMI0v8DAQAE66Nbz9fWFk5MTbm+9gnVL/8D0A/PRqHJdvNWipzi3vaUdaqS7IzU4ATP9luFE4AW8WrkVvB2qICE9Gdv89yMtMx3LX/8W7la59da0Qdyi1tOQGpQgUkXNPWyxPuBvLL2yHi3cGuJU8CWs7TEPHjZuuBbqhw8OfYVWlZtg2fgFYp5B80bh0r1r6FyvHVpUb4L0DA38Lt2AX+wd+Cfex/udh2B8j1H4busi/H50IzrXa4smVRrg3O1LOHD1HxgaqNC7+evYdHI7Wtd8BR92G4YPl0+Cp0tFnPa/gFY1muKE3zlxrhGdBiE0NgJX799AeFwEsnKyBXhji/gGDRoI/fj2sahgTY6mTZvi5s2bIoWSxxJoEbRRd0JPOiIJ4FgHcODAgcKFVhiI4zkIwgjmmK5KSEdYydBOB1VAHMEfUxUePHggwFyFChWEm6xgHTnWDuHauOd06dF1xjTb9PR0sRaujcd99913OHDggIDEdOvxzSpBVEEoyPPRtXf06NE8WMmUW0Lm9u3b50nFrl6sh0dHmwIr33jjDZF+amNjkzeOdfPoOIyIiBDgk+4/U1PTYusl6vKZfVpjCFSpNddHoC1DKiAVkApIBaQCUoGiFXhpQVzdUaimY424WwRx134tlSPuZbnnJIh7WXZaXqdUQCrw0ikQ8c9tBO+4AXMPu3+7gJagQnEgjoduPLED83YsQ3xKQt5MDSvWxvy3pqDe+x1gWdlBfJ1ppwQcTF8sGAQ/tJ0T/iixa9cuEMSdP39ewABCFl1BHOtsmZub5zvNrVu3xBo4z6djxuPO8vOIvxeNFr/0yZfGmZ2ZjejzQdhz8wjmXF2OanaVEKOOQ4w6Hl0rt8HI+v0xaMd4NHOtj+ltctNuD947ieknFsJQXwU96MFGZYna1lUxpG4faIwyMWLPZOFsi0iJxsRmo3Az+jb23TuGjOxMWBiZYWSXdzC040A0/awzNJkZuL7gOG489MOOM3tw2uccmAablqWBlaklxr0+HDP+mofPeo3FsI4DhBNu8+m/MWvzfOGkS05LQVZ2Fro3fhWzBkwSUGfH+X2iWQPHrzy0HrUqVMfDqGBUd62KxlXq4dDlf3Ar8j6MjY1FaiTB1YIFCwRMoxtqwoQJaNWqldg/OqTS0tLyHIxvvvkmtm7dKiAc94uNGOisIsQhJOO+rlmzRtS6KwrEEfiNHz8+b78I49icg+enC4+Fepnmqu2kVAazcUe3bt0E5GXxXraxp2uPgJBrKF++vCjky1RLgjXCNl7TuHHjBIhj7TtCsj59+qBatWoC0v3111/CTWlvby+AG2GgUk+Q9xX1IPwjoFq/fr2AxYRovF6CX8JmQt+RI0cKtyfTKOjq5Pf5de4JoSDdhgSYvD4WGSaA5Pfo4OTaCR7pCKU2gwYNync/P20oWNQ/A6+//rrQleBThlRAKiAVkApIBaQCEsQpCijgcflTBHF8ZnycGDJkyOMc9lwdI0Hcc7UdcjFSAamAVODpKfAsQNyBq8ew8fgOtPRugoqObrgVehcrDqxHFceK2LN7D1xq5zri2OmIzje62woGGzcQZty5c0d8iz/002nUqVOnvJS90oA47fkJSAhXCEDoWiK4WTphPgK3+ULPTIWG37yaD8RlpWUg+kIIJhydjQuRN2BrYo0qthVxIew6Oni8gvFNh+KbE4twK+YedvVbKdJT+20dh6SMFDgY22Kg++sIS4/C7tBjAuCs7vkjzoZcweKLq6HOTM9bmp2JNWLTElDVvhJux9xH/1a9sf3cHlGTb8sXq7F49wpcuHUZLZ0boqplBawJ2IGEjGRkZGcId9fh6VtgYmiM5QfXilpxBaOwGnFzh0zD52u+gYuNk2gEsWfqBkQkROG9RePE4V3adsbhU0cF8Fy3bp0AckwFZh0OPuDs3r1baEhHGKEmXW50u61cuVKALYIjOrpYU2zt2rXi7wyCNUIv1kIr6IijA01JhSTMY3Acz8E9i46OzgNVTJVkWirdYwRuDB7L+4RBKEgXmnJetrtnuinBLOvTlStXTjSEIEwjqOOaBg8eLGCYdtdenpdAjS4wjmP6KEEfoV3fvn0FqGMo9yQhIVN3eS3Lli0Tx7CAMO95BsEdO34xmIZK8EwoSEBHQMj7nbXYmOZLxx7Xyz+z7gmBNJs4UGMCRQahID8fdO2NGjVKQEECQ0JrroPnY7AuH12L1FAbCjJtm9dE2Ej4qh10JnJ+FkGmlpMmTRI1/ljLToZUQCogFZAKSAWkAkUr8LI64pbVGV0qR9zI678U6YjjM25pg8/bfIFZ1kOCuLK+g3L9UgGpgFSgCAWedmrq/ivHMH7FNGybvCqvdhlPffjEUYxe/yVmTPoaU2d/JVZTGkccmwMsWbIEdLE5OOQ66koD4ghQvvjiC/z9998CRmgHXVmrRs5H+NF7sKhhj9rj2xQK4gbv/hSBycWn4x0fshHbAw5i3rmV4hQ1rDzxY63PYGCqwvGQC5jlvwxj6w9GOWtnLL20HoFJoWKchaE5UjJSkENAaVcRr9RpirXH/oKtuTUSUpOEo83Byg7mKlMkpiQjJTNVQCmVvgpZyIYmU1PiPe7t7oU/JyzHuuNbBKyLTowp9hgXSydEJEeJMQRdhDGs+6aAOMKxP//8s8TzFhygOOo++OADkSZaEMSxGQdTWAn1lFRYQrzGjRsL2KRANc5LYMa/8yGN4z///PO8TquEY1wjfyeQ4xi6xuLj40WHXsI6QjLeF4Rg1IdZePUAACAASURBVFNJm1XWTJBGcEsgSOC3Z88eUeeO8Ixz0ZFHGHfs2DEB0JhOTbjHcQzOSYBGWMn7l3HlyhV07txZ3L/ff/89unbtKtbI89B9yCB8Y8orgTGvkU5Apq1SLza7YLcwOg0J9xh//PGHAKNMc+WaRWfdvn0FgNNOfaXm1JI/GChQkMcT7nXv3l00Z2AqsnYwrZjXp+jN1F2O4z0hQyogFZAKSAWkAlKBohWQIK7ku4OpqcWBONaEfpyoWDH3xX9ZDgniyvLuybVLBaQCUoFiFEi8FYkH6y4+tWYNA+eNRWxSPPZ+tTbfWZPuRKH14oFo064Ndu/NhRS61ohjTS2m89EhRLeVEnRAsbsq0+RYS4xjGCzaz+L+SvF/QhTCEoILpvQR5jDVj2CGczrY22NJr1lIvhcL86q2qPVR6/ypqRlZIjV14M5PkKmXjc+bjxT10yYcmo3G5epgQK0eeWtqVK421t7YgaWXcx1pNSw9Mb/BF9A31MeN6Nv45Op36F6pPfY8OIbmbvVxMuiiGGdrYoVyFk64GX0H9ma22Pj5CnT6ug/sLGzgaO2Iga37YvbmeUjP1Ai442ldAbFp8UhITxLH5yAHP7z7NewscuHI3G2LRcfURpXrib9fvHtV/G5jbi1Shpkuy2NqunuhbqVa+MfnJEJF8wajQqGeArw4B+ER0yYJnujAYnqliYmJ+EX3G+vvFRcETKyXxj1iyiiPoQOMTSHoZivYjINzER7xfmnSpInYVwIvusMIB+kK414q7jm6y1h7jVDt7NmzwgFHKKXApOLWxmPYsIFpuIRNBL/UWzsIB9nZl6HUraMGXBtTSwnPDh48KO4zujp5TcUFHWvsUMpg2iyvic0seLwSCvSjs5Br5C82M6FbjWCPabt889uoUSORssprprb8O3XlOguDgtrr4mdIgYLaX2fqON1w/BwSvNIpyLRauu5kSAWkAlIBqYBUQCpQtAIvK4hbWntMqRxx7/sskTXiCrmNJIiT/7pIBaQCUoEXVIH02BTcXXEGmthUmHvY63SVxdWIe/Wr/mKO/dM35M1FAJDgE4q2q95Fq7at8xowECTQ/VRS11Slc2Nxi2NqIR1FjIIgTkkhJJhgyqB2EHxU8aiMxd2mIzMpHSZulqg5rlU+EMf1x10JxSd/z8S1uADs7b+KCAZt/+gvasRNaflBvjn9ou9gxO7J4msVTctjdoOPEZYWhV8DNkGdmQYbU2skZSUjVp0ATVYGzAxNsOvtldCka9B+0yCYGZri0vwjaDmpG7Kys6HSN8DorkMx488fMP+t6Th9+Sz+urNXuOicTexwNylInOvAV3+hgqMrAkLuote3g4W77tD0LeL4tl/2yoNsjlb2aFmjKbad2wMzIxOkatLwWsOOopMq2yG4O7giMDq3M2qLhs3xIDwwrzYanYVMXSRsoqOKcIZdUQmKCIKUt490mtGtNXbsWJHyyFRWBTYVtY90jRGQEl4x5VSp81bYeLq3OJ/SrIHt6ukSo2uMwJXBuZR7oqhzsisrIR7vEbrHCLjomKSzjg47wj862ggiCfcI87RdcwRcvEY6444fPy4aPCi105jyzDRQpvQSoNGNxuB9z7TY4sLPz0/UwuO9RyhINx2diAWDb4m5bqaM0ilHMM21EgpSG0I4gjqCaF2gYOvWrUsElrwWgkKmKRdMY9XpHxA5SCogFZAKSAWkAi+JAhLElbzRdMQ9Lojj8xKfb+rWrZsvA6Dks5aNERLElY19kquUCkgFpAKlVoA/6D9cdwnRZ+/DqoYL9AxKrsNQHIgb/csXOOJzChsn/IL6nrXEejQJauw5cxCf75grukkSaDAIP+hsYkdTwgYl6DYiUCCAq1OnjnD90GFUMOjOYUofxxIGERAwCoI4QgOmwRbseMkOmgRzLZu1wOLOXyMnKxum5SxR5+O2aFmjCZa8PzfvlIm3orH92C7MvrYM79Xti3fq9HkExMWpE2Brai2OWXDuN/zlvzffkmvbVMOUKsPxyc0fEJuegLSsdDia2Ymac6te/w5pianouP1dmBmZ4tK8I+g95x2ExoYjITURwzoMxMrD67BhzK/wuXANsy/8IuZu4dIAp8Iviz/3bvYaZg2cjJ/+XoqlB3IL2xLExSTG4O0fR6K8nYuYz8XWGeNeGy6aNVQrX1nU8FOccF3qt0cl5wr4Zd/v0IceOrXvhOt+PqJpAeuKEb4owVRNOqWY7qs4rgi1+GfuHQEcXYtMs2Q6aMEgtCNIUsAeQdyRI0dEAwgl/ZQuNzZIYAMEzj1ixAgB/QqCOK6F+650WuVxdOu5uLiItE2lZtymTZtgZ2cnoOHmzZtFfULOxzWzDhvnDQoKEjXs/vnnH7FkpdPqxYsXBRij446OMDrZlA6urIfHTqt79+4VkIrjlBRq6kaYx4YNvIY2bdqIBhdM7eR6CQypBWEiwSAdnmxSwhRX3tOsB6foyzp1PDehH9N36Q5kTTheBzW+e/eu2A9+n+mxdNfRwUhYx/MrcypQsOCeMI2VLrrighoyNZfQUdG11P/wyAOkAlIBqYBUQCrwEijwsoK4X+mIM3fVaYdvpYRgVCkdcfwZgM82zERg8OcEPkeyPi5fRvKZjOVJynpIEFfWd1CuXyogFZAKFKNA3NVgBG25Bj1DA5g45daoKiz++GcLklKTkJ2Tg4W7VsLbvRo612sthrav0xLV3arg8l0fDJ7/IYxUhhjQ5g3hrvK96YutPgdhb2+HK9euCjiiBCHC0qVLRZpiixYtBKCgc411qpgaWFzoWiOOUIcgjh0tCUwII+gUoouIMKS8U7l8IG7AvFHwC76Fsd2Gw8XGEfaWtqhr7YW4GxGYcXEJjgafFSmpbNZQ06EqGpSriXMh1+Bh44pprXKbHCy/sAmrb26BlcoCHcs3R1RaDM5F+8DMwARJmanIyslC96odcCnsBuxMrfFr15nYd+0IZl77VaSXnpqzB/1/HIFrD3wF1KlW3hO3Qu/B2doRyanJyMjKhCY7Ayo9Ve5cdTth57UDqOtRU6SesvFCeoYGtSvWQGR8tGjA0MCzDvyCb0OtUaNWhRq4EegHSxNzJKWlwEDfQNSh+7THaKRq1ALEMagPHWJ0tBFU0QFHUEYwxNp6hE2EoXTIEahRa0IuurL4PXYfpTOO6ZmsrUbt6aoj6GJ6K2v/KTXieD4CP9ZzmzVrVl66KcfNnZsLRQnlCP8UEKecSwFxHMNUVd5DDKbLEshxzQzeZ2xywOYT/KU0VaBDbcWKFeL8rNNGhyXdb3zImzdvnnDG7du3T8xBJyBh3Y4dO0QqJzucspOo0mmV4wjI+CBIiEZITJee0pmVUI4A7tNPPxWuN85FeEewx3RUOgEJygi66Bala5Pj+JDJFFg2l2AqKufjeQgUqRGvjem61JYpufxssV4cwSOBJ7WifuzOqlzL4/zDqIBuArkX4SH3cTSQx0gFpAJSAamAVEAXBSSIK1ml0oI4vmjkcyBrB7/22mviOezQoUMCxDH4NT4v8Tm/rIcEcWV9B+X6pQJSAalAMQpkqTNwb/U5JNwIh6WXE/QNDQod3W5KX4TEhhf6vTlDJqN3827ie/7Bd/Dznt9x46E/IhKiYW1sgTZNWmLe74vzUheVSQhuCFkIQQgrCC1YB46pgYQ5xYWuII5z0CnE+nAEI3QJEUbQKcQacdmaLCzuOh2Zyekwr2AjUjuZBuobFAC1Jg2Nq9TH6rGLEHspBOqoZOyPP4Pdt4/CL+YuDPT0RW23Ok7V0b1aB9yKuQ+fyAAcenAq39JZk81I3xDp2Rp4WrrjYXIIjAyMYGRgCGMDI7R0bYiddw4jMycLlV0qYdfU9cIRF5nAZgl6iEmKFXXdGKztpgS/9k2jcejWvgve3fgJ7kcGIiUtt+kDQ6kJxz93rtcWZ29dQlJqcr45tBdKMFetfBVcundNfFmpgUYnF8EaYWZJodSTI8xKTU0VsI1AiG8nCYkIoRjs2skUVmU8H5ronqPzjKmpSvCBis0EFAcjv66AOGWNhLtMESXo27hxo4BWPD/hIR/QCN3YoIHOMaaLso4d10LoR+cb3WR0oTHtlM4x1rFjQwXCMD7YERATNjIIzbgmgkfWkKODrH///gIo8kGQaydIZidSpstyPNMmWFuNwI4Aj0HHICEh72Pt2ocEcXTWUQ9qToDG41u2bCnAIF1yStotQRxdcgR31Ic6K0GnKR2MhM5Kii7XxWvUfmBVxvM83BuCOwbP6eTklG+7+Xmlo4/dVfmZYkquDKmAVEAqIBWQCkgFClfgZQVxv9T6oFSOuNE3fta5Rhxf3PMlNZ/N+HKWLzi1n2tYh5gvXZnxUNZDgriyvoNy/VIBqYBUoAQFEm6GI3jbdaTHqWFR2T4PwDyJcNmZWUjyj4RVDWd4DGgII1uzJ5numR2bnZEF/8VnRLMG6+qORZ4n+X4cEm9H54JKM4NCa8T13fwBwlNyO40WjE+83sUvdzairmN1jGo8EL9f24zTIZdFnThbIys0cKmNw4GnRH26bwd/KWrE1XCrhl9G/YCVh9bij6N/IjY5HpYmFlDl6CMuPVFAvCpWFfDrO9/hfMINUfftlP/5vMYF9pZ2qO5aRXzN2JCNGDJEGmqH2q2w5/IhjOw0GMsO/iGW+tYrPYQD73bYfWTnZAvwd+DggbxUYrrH6LpiEGrRZUVoRYBDeEOnFCEngRFTLdPS0sRYutEIjviwxOD3mbpKZxedW9pBNxodYEw14PEEP2zmQPDFlE063Oio0wZxbDJAVxm/RxDF8ezuSicbIRSdWwymUXIs0z+VhhKEWHygY7opu6eyUUOrVq3EW1TCMMI3JS2UgIxvYdm8gDXblE6rdJlxrYSVBI9eXl5ifYSChG5Hjx4VQG3w4MFiXsIzpbkEx7C5Ah2HvAZCQV4z9eEY1ptjmi1deIR11JBOOEJEwkPOxaYJdAQyTYPXQjhGSMb0VD6oartLeTzH3LlzR6ynYcOGYv/4961bt+aDgoRwhG5MH6ejkXvCeneEjxMnTsScOXOe2WdSTiwVkApIBaQCUoEXQQEJ4kreRTriSgPi+KKVzyB84RgTE/MIiCOE48tZpWZvySt4fkdIEPf87o1cmVRAKiAVeCoK8Af20N2+iDpxD3oqfZi62TwRjGO9taTbUTBxtED512vCtq5udSKeysU8xiQPNl5D+NF7sKnlDD39XOdZwSCwi7seDnV4EvRtjNF+w8BCmzX03/YRkA0sq/819PQAfaNch2GmOgO9z3yMOk5emNd5qvgau6v+cWM71nX4EZVqVcErC3oKEPdB12Gia+r7nd/Bxz1G4cDVf/DpqqnY9NlK/LxnJf65cRJf1BkJWysbfHbiO4xrOwxj+g4Tc3afNQgp6amiHlxRMXvQFFFTTtST278GVmaWMDcxQ2RCNFR6BkjLTEfnjp2w/+CBvCmUlEQ6tZR0SzrRCJn41pEprNqh1Ivj74RxdKcR/NCVyGMI5JgiSeDDmh7FBWEYH2YJA1lbULthAp1sdIQRkBGEEVoRRLGZAx1odN0xTZPr5i+CPoIvuroIs9hUgfBs9+7deUuge43nVGrVFbc2Ou74i3UOmVLLmnAFg9dMAMYg8KMLlLrwYZKwj58/QkGmWdDxxnpxxQXXy5RfgjjWiqMLjw4+vh0mMOPcBJJ0tfFrBKdK0PVGdyKPIUzlOMI8pt9SR6XhBl2E3B82ieAx7JJLYEmwxy60MqQCUgGpgFRAKiAVKF6BlxbEeY9FVR1rxN0miLu5WGdHHJ9HWG+a5WYKA3F0xPGZrLDnsbJ2v0oQV9Z2TK5XKiAVkAo8hgJMUQ3e6YPYS0HQ09eHmbuNTs0bCp4qKz0TKfeiYexgAcdWnnBqU+WJoN5jXEqpD4k6/RCB23xhaGkMY/uinXvpsamIvxmJtLhUvLp/eKEg7osjc3Eq6BJ+rPc5alhUgoGJivmk+CfwLGbfXoEhtXpjZIN+Yo0B4Xcx/MBk9K3RFVOHfY66E9oKEGdpaoG1x/7Cti/WwMu1Cgb/NBqxSfHiz3svH8KXr49HB9NG0MSp0eufsWjoWRfLx80Xcw5b/LFwtiWnpYhmDW725URDhh6zBwvYVr9Sbaz4YD4i4qPQYVpvZGZnoXYFb/zw3tdICYzDX757seH8dlGzbO3atfD09BTzKiCOfyZ4YodSduNkSjHTflnfjOCK7jim/NItRwcWQRABEyEYnVuEY0wJVRp3sC4bQQ8Bj3awRhtdXYRDrInGGmx0jLE2nTaIK7jZdO1xrUrnUX5faarANFAl6Jqjw40NIpjKSqilpI4SZHXp0gUnTpzISyUt7KYiXCPIYppzYZ1WOb/SVIFuPCUIt5SmCkynoJOQDjt2ai1NUwU6AOk2pFuOLj3tIJhk2qzSrKHUHwp5gFRAKiAVkApIBaQCT6SABHEly1daENe2bVuRBcGXhQVBHJ9D2UGVz1zaL1hLXsXzOUKCuOdzX+SqpAJSAanAU1cgU61B6J6biL8eBk1sCszcbaGyNNYJpOVk5yA9OhnpkckC4jk0rwTHlp5FOsye+uKfYEJNQhruLD+P5AdxsKruWOT1rj22GbHh0VDHpuA33y2oauuBNhWbijO3dG+EKnYVRY24D/d/DUM9FV5zbgNXK2fcTwzCnrCTsDIyx289voedqQ2yUjOQmazBorvrsOP2IfRq2hXbz+1FBQc3BEYH4+0WvfB1/4li7q7fvI3YpDgkqpNEzbq+r3SHOiwJKUEJ+OnWGlRyqoBV4xbCwcoO83b+imVaXVMJ4tjptuuMfgiKDkXDynXQvXEXHPc9jSM+J4tVjU421h6ja43pnIRchFWs2UZQR1fZkCFDhJuLD0Te3t4C3tF1Rrcc66OxlhodaUypZNMBNiAgrLty5YoYwzROAjZCO8I6JQqrAVgSiCPQo6OL8/M8ShQG4rQvnI40Njz48ccfBZgj7GPKAzuUMhVWu8FIYYIxfVO706oyZtKkSSJ9gpBPG8Rpz0EnIUElYVxpmypwbdSa9fbY9EQ7mJbLWojffvutcOHJkApIBaQCUgGpgFTgv1XgZQVxS2p8WCpH3Bi/RTo74vgM2qNHD/Gcxhe8fOnI0h98VuNLYr7g5AtWPsuV9ZAgrqzvoFy/VEAqIBUohQLZmdmIuxSEqDP3kRoYB6aZGjtaQGVpItIslQL+nJIAg066jHi1AHcqKxNYVnaAU9uq4veyFCF7AhB64DaM7UyLdMW1n9a7yJTPyS3GoFuVtuKS78Q+xMoLmxAQdw+xmgRYqszRwM4b7zcbiHKWTtDEs35aDoztzWFW1RZrzv2Fv07tREhsGMyMTTGy8xAM6zgIKoPchhUfLP0cR3xOFCvn6nGL0LRaQ/gH38Ybc94RDRsURxwP/GLNDGw/vxcWJmbIzgFquXuhTa1XsPXsbuRkZmN4436wqGSHY2EXsGXblrzuoHRdsVaYUiOOgItNDAipCNoI65jayFTTESNGiFRGjuUxCxcuzGvAQMhEKEc3HFMKlBRIdlNlKiZddtqONQXEsY4cGywwigNxbHzALp6sAUd4SECoREEQx3QFpsdqBwEi66axCyxTLwkZmdKpdFrVvu95nHYzAz4EKp1WlTmZbkuXIH9XQBxBIZs6aANHjmdTB15naZsqsL4bixRTVzoAbWxs8i6J9VF+/vln8TDK+WVIBaQCUgGpgFRAKvDfKiBBXMl60xFXGhDHGfkMygZWfInJn0WUZzQ2AGMmwpgxY0o+cRkYIUFcGdgkuUSpgFRAKvC0FUiLSkbclWAk+kcgLTJZdBVlnTTRrEAPyMnKAbKyoW9iCEMrE5i6WsPa2wW29V2hMjV62st55vNlJKbh3torog6ctZdjXm23ok7MtNDk+7FIi1EjOz0TBmaGMDA1hJ6BXm59MXUG0sKTkZWWCX0TFYysTUTNuCxNFgwtjGHqYgmLSrbYcHYbEtXJokHC4t0rRIOGTvVygV772q1EOuqVe9fxzoIPYKgyQv9WvVHBwRU37/pj6+XdsDa1wtrBC2CrnzufgYkhvtowF5tObRd14Bp41sHle9cFcKPLbnr/z8XcBHUijfh+HAyMVbCp7QL3Xt6YPX+O6DJKoMb6aUooqakKVKL9v3bt2qKTKut0sPEAXVh8K2lrawt3d3cBzpQgqKMLjnOzxhxdduxIygcodh1lUwXWOWNTBTZtILjTdtlxHgXEsakCUxN4LOHW9evXsXnzZvFnAjx2PdWOgiCO8IpppXSicd2sccfUTgIybaDFpgSs50YQ2LNnTwHvlKYKPDdTVxkEizwnr4NvYENDQ4VDjXPzIVzRjNrQHdinTx9Rl46pFUzBXb9+/WM3VaDTkG4+NmmgM461U/g2eNu2bUIjOvwKQsRn/mGSJ5AKSAWkAlIBqYBUQDwDsD4uy0WwzuqLHsr1/kxHnJlu9aFvp4bgg1I44hQN+azFZz/WzGVjK9b/5YtUvhxmsyw+t5X1kCCurO+gXL9UQCogFXgCBQjgku5Gi7RTAjm63+iSozvO2N5CuOUIlcwr2edCujIc8b4RCNrui9TQRFhVdSjxeugeVIcmQh2RjMykdAHdmKKrZ6CPHL0cpEepxddUZoYwtjeFgZkRjGxMYVrOEiYOZixehg7T3ijSZTd70FS80ew1oWhAyB0s2bsKNwL9RFMFKyMLtPBuiu9X/ASrKBWiLwYj5WE8VOaGUNmbYPWZP7H5zC5ExEfC2cYJfZq+hoF1eyM7JVPUltPEqpFNKGhtIq7VoXlFWHjY4KdNizFj1owSQRzXxKYIrA/HZgR8K8lUSNYkY404BZwpt0PBpgp0zCmgjlCLTRVYJ83X11cANqZcKi47pdmAAuKUOdlUgeCJdew4lrXS2I21YBQEcUzXZGoDH95YK47AjACQdesKppDSIUdnGSEi3YEcS4BH11/Xrl3FqQglWRyYTjzWeCMUY2071m+jo04Bcfyd5yZ8U5oqcO0cw/F8k6uErk0VOJ4PnHwDTIjIVFc+hNIdOHXqVOHAkyEVkApIBaQCUgGpwH+vgARxJWv+uCCusJnZQZ6Ns5ixwayBsh4SxJX1HZTrlwpIBaQCUgGdFCAAijr1EOFH7oruqJaedsLlVlIQTKbHqpGRmI7MlHRkJGvEn5m2m5MDGFqawLKKnUh5ZUMIYY17gkimi81UhQo9vWHfKPeNY9K9WESfC0TyvVikRaWIc9PplqOnJ9amiefaNAK+Meic0zczgqG1KfQNVQKs0rVnVs4CtrWd4NikfO5aZUgFpAJSAamAVEAqIBWQCpRagZcVxC2qPq5UjrgP/ReW6Bqkw58vHe/cuQN7e3tR1kRJQWVzLGYH+Pv7izrBLM/BkidlPSSIK+s7KNcvFZAKSAWkAjorIGDc6UBEHr8vuoiyjpuJs4XOTScyktNF0wdCLJuaziJtl/MRvplVsH7iNMG0iGThaHNsWREefWvl62zLtbOJQ4JfpHD1xV0NR9KDeAEFSQRVFsYwsjMVa2JXW6URh6j1l5YFTbwaaZGpMDQ3hFUVO5Rr7wGbmkU3r9BZVDlQKiAVkApIBaQCUgGpwEumgARxJW84HXElgTiW3GA3e6agskwI3f/8M7MR1Gq1cMExG+CTTz4R9YrZ0f5FCAniXoRdlNcgFZAKSAWkAqVSgPXfwo7cRdLtaGji0kQTB0IsOsn09P91tBFisXZeZmK6cKIRuJm7W8OheQU4NqsgUlUDt/oi+nww9FT6MK9gozPU014wz8Oac4RwtvXLwaNvbRjZmBR6TaxPF7jjFqIvhSItIgVmrpYwtDaGvpEK+ir9YnXgedKj1VCHJsHMzRJOzdzg2tkzH/ArlZBysFRAKiAVkApIBaQCUoGXUIGXFsR5jUMVMzeddvxOajA+DCjeEccawixdwgZU3t7eiI+PFyU42FgrPT1dNAYjhGMDsRcpJIh7kXZTXotUQCogFZAK6KwA67vFXglFnE84UkMSkJGQhix1Zm5DBgN94TLLzsgWgM3Q0ggmjhawruEI2/rlYVbOKu88makZCNrph7irYdAkpsHCwxYqc90fFpSmCnqG+rCt6Qz3N7xhbFd47S+u+cEWP0SdCxFQ0MLD+rEgGptKJN2Ng5GVMVxaV4Bb1yqPBRB1FlsOlApIBaQCUgGpgFRAKvACKSBBXMmbqQuIY7op6w9PmzYtb0I2CGvevDnYWIv1d1/EkCDuRdxVeU1SAamAVEAqoLMCbMrA2mtszJAWnYK0yBRRa41ATnSMdbaAsZM5rKrYi78XFhwfdSYQUWcDkfwgXtRv4zGGVsaFpquKdNHUjNyOtUkamLlbw65+ebi0rVQkxOMxQX/fRuiR+wKamVd8slRY1r5LvB0rnHfur1eF8yvuOmsmB0oFpAJSAamAVEAqIBV4mRV4WUHcwmoflcoRN+7WgmJrxLE51++//47Bgwfn3U5RUVFwdnYWzbe6dev2Qt5mEsS9kNsqL0oqIBWQCkgF/hcKpAQnIPpMEBLvRAugxwYKTBll8wXCMzZ3yE7LEN1WmQZr4mgGCw872DdxhVU1h2JrzMXfjMK9TTdFiqyVl/0T16OjPoRxcb5RsK5qh6rv1IWpi8X/QjZ5TqmAVEAqIBWQCkgFpAJlSgEJ4kreLjriSgJx+vr6WLt2rWjQoERMTAwcHR3B+nHt27cv+URlcIQEcWVw0+SSpQJSAamAVOD5VoBOt/ibkVCHJ4sGC5mpGiAbgD6EW87UxVI0ibCu7ggzN6sSoVpWehYCll9GzJVwWNdwgIGRwVMTgM0ekgMTUK6dBzz71SxxLU/jxHzz+d577+H+/fvw8PB4GlPKOaQCUgGpgFRAKiAVkAr8Zwq8rCBuQdWPS+WI++j2T8U64gjihg8fjmbNmuXtXXJyMsaPHy9qw9WoUeORPR06dOh/ts/P6kQSxD0rZeW8UgGpgFRAKiAVAESzh4ykdORkI3csSAAAIABJREFU5QhXnMrCSMC40kTstQjcXX8D0APMylsWemhqeip+O7ION4P84Rvkh+jEGPRs8hpmDfy35oZyYFhcBH7dvxLnbl1AVGIMbE2s0cizPmYsmo16rRrkmz8rKwvff/89VqxYgaCgILi7u4sHJraSZzqBEhcvXhRvNNmCnoDN3NwcNWvWxKRJk9CxY8d8cz4JiGMnLRburVevHnr16lUaGfONfffdd7F69eoij585cyamTJmS931e+9SpU7Fv3z5RSLhy5coYNWoUPvzww/8EXj72hcoDpQJSAamAVEAqIBV46gpIEFeypHTE6QLiSp7p3xF6enrgs2lZDwniyvoOyvVLBaQCUgGpwAutAGvD3V3r83/snQdwVdX3/RfpIQQIhBZ6r9JUehVBRAGlKYiKioIgICiCFJHe5QeIgCLCV5ReRRCliBSxIDUJLbRA6Kmkt/+sw/+FJLzkJVIMZO0ZJ/Deueec+7nnMpnl2nvj0q/nkLeKJ+wcrbvhLt4IwDNjXkSB3J6oUrwSdnrvtirEBYeH4IVJXREbF4uXGnVE0XxeOBtwFiv3rTNOu6O+3ihW7HY3rD59+mDu3LnGwdagQQPs3bsX33zzDfj5nDlzkth36tQJO3fuRMeOHVG7dm3w/2Zy3NGjR/HFF1/g3XffTRp7N0JcXFwcHB0d8frrr5uaIv822I3Lz8/vjstnzpwJior79+8398EICAjAE088Ye7pvffeQ4kSJbBt2zasWrUKH3zwAaZNm/Zvt6HrREAEREAEREAEHkIC2VWI+79yAzPliHv/1Ix0HXH83TGz0bRp08xekuXGS4jLco9EGxIBERABERCB2wRiQqPhM/tPRF4OR+7y+dJEExMXg6CbwSiUtyDi4uNQc1BDq0Lcsl2rMG7VVHz+9jQ0q9bYzEexb92GdRi5fRI+++wzkw7AOHLkCGrUqGFcXxSoLDFgwADMnj0bhw4dwmOPPWY+3rNnjxGrnJ2dk8ZFRkYa5xqL7l69ehUODrecgFlBiLMGMiIiAoULFzbpsocPH04awvun6Lhr1y40bNgw6fO+ffti3rx5Rmy0ljqhcywCIiACIiACIvBoEpAQZ/u50hFnS4izPcujOUJC3KP5XHVXIiACIiACjwiB0FOBOPH1QSQiETmLWE9LTX2r6QlxC35ZjP/b+AWWfbAI1UrcrruxZ/ce9Fo5CHNmfI4+7/c1UzI1c8KECTh9+jRKly6dtAxTT8uUKYNhw4Zh/Pjx6ZKmY4zi3vnz501aa1pCHEUuOu/oVLt06RJy5coF/h9Prl+xYkVz3dmzZ1Psw7Iwx/3666/mr0xXmDVrlnHjnThxAq6urmjWrJmZx5ZY9t1336F79+7G4cZ9W6J69eqgSHfq1KkU9/rXX3+hTp06GDlypEmXVYiACIiACIiACGQPAhLibD9nCXFpM5IQZ/v8aIQIiIAIiEAWJJCYkIj46DggEcjhYHdPGxhkpdu9uu8CTi/1hrNnTjjlue02S2+P6QlxR875oOtnb6BGqWr4oH1/FM1XBOevX8DklZ8hIiYSe7buQrFatxooPPPMM8b1dvny5TuWY1v5WrVqmZpp6UXXrl1NCifrqrFuHMOaI46uMzrwKJoVLVrUCHfz5883bj1vb28ULFgQ4eHhWL16tUlLbdy4Md555x0zH/fSsmVL8+fOnTtj3bp1ePXVV41Ixs5bTI3ltRTOypcvn+Z2W7VqhR07duDChQtmTktUqlQJTk5OKVxy/I77qlatGlq3bo3NmzdnpWOjvYiACIiACIiACNxHAtlViJtRdhDKud4uYZIe4lORFzDQ77N0U1Pv4yPK0lNLiMvSj0ebEwEREAERsBCgIBN+IQyhp4IQeSUcEQFhiIuMM1+zCYJrQTe4FnaDW/HcyFsxP+yd711n0f/yKVzaeQ5nVviY+3LI6ZihraQnxHGClXvXYubGuWC9OEvULlEdk9qOwhPvNoZH1QLmY6adUoBivbTUwfppsbGxRjxLK3x9fU1q6vPPP28ENEtYE+IolFmEOss4Otq4h08//dQ0fWCkVyNu5cqV6NKlC/iTNesscfHiRVSpUgVt2rTB0qVLrW6XY1j77dlnn8XGjRtTjHnxxReN0EYnYJEiRZK++/zzz03aLveYPJU1Qw9Jg0RABERABERABB5aAhLibD86CXFpM5IQZ/v8aIQIiIAIiMB/SIACXLDPdVz7+zLCTgch6lqEEeCSXHA5YDqSxkfd+szZwwVuRd2Rr3pBFKzrlWHx6j+8xXSXvvzbOZxefm+FuK2HfsWKvWvQsFI9lPAshhOX/PDN1m9RxrMUfly7EcWevOWIY2dQOsPYoCF1sHED676lTte0jAsJCUH9+vVNmilddRS5LGGrRhybIkRHRxs33FNPPYVy5cphzZo15vL0hLgOHTpg3759VkWxV155BfylmfXqrMWkSZOM2JdaxONYdoJl59cnn3wS06dPN80s6JxjLT0KiCVLlkyTQ1Y9V9qXCIiACIiACIjAvyeQbYW4MoNQ1vVWqRFb4Rfpj4Gn5YizxklCnK3To+9FQAREQAT+MwJsVHBx61ncOHAZ4RfD4JjLCS4Fc8LRzcm44JIHRZuEmHhE34hE5LUIOLo7I2/FfCj6dGnkqZB2k4P/7OYyuPDVPy7i9NKjcM7vCqc8Lhm6Kj1H3C+HdmDwouFYMfh/qOBVLmm+7Xt/Rf/lQzB68Ch8MuVT8/m/dcSxSQPTWpkKytTV1N2trAlxFOyGDh2KH374AUFBQSnus3nz5kYMY6QnxNH1RhdeesEacnZ2dncM4bVMweU+kjecsAxcvHgxBg0ahMDAQPMRa8+xlhzdekylPXDgQIaejQaJgAiIgAiIgAg8/AQkxNl+hhLi0mYkIc72+dEIERABERCB/4BARMBNnFl9DMG+14EcOZCrVJ4M14GjKMf01cgrEXAvmRtFmpdE4cbFkSNHSvHuP7itTC8Z6heEE18fAGvi5fS6+2YNPWb1RuDNIGwYtjzFXtgUouWXHdGkWVNs+mmT+e7f1IiLiYlBu3btjHBGFxvTUlNHaiEuISHBpLCyNhtdZlWrVjXNGiiYvf/++/D09ExqxpCeEMdablz/yy+/TJNzixYt7jgHlqYLffr0Md1R0wrOzRRU/mRtOHaBdXd3N3Xpli1blulnqwtEQAREQAREQAQeTgLZVYj7rPQHmXLEDTozXTXirBxxCXEP53uvXYuACIjAI00g4vJN+C3zQdCRa3AtnAsuBVz/lYgWFxWH0JNByFnEzTjjCjd5+MS42LBoeM/6CxGXwpCnQv4MPff0HHHPj+9s5tg4fGXSXBQuAw9dQevvXkaT5k2SGjCwK+rEiRMz3DWVIhlrs9HVxg6kL7/8stX9phbimLpKIY6dTnv06JHiGi8vL1SoUCFFV1QKYGzYwHmSR9u2bc04utYcHTNWT4/Xv/fee0aA++OPP0yDh4wGm0Kwfpy1fWd0Do0TAREQAREQARF4+AhIiLP9zOiIkxBnnZOEONvnRyNEQAREQAQeIAGKZycXH8G1vwJMrTfnfK53tXpCXAKCfW/ArZg7yrxUGR6VPe9qPtanCzsTcstxx3p1EXHGrWbvaA9nTxe4FsyJXMVzm5/3IiiS+X1/FJe3n0Weyp6wc7LdhCI9Ia7fVx/iV+/d+HbAV6hZ+jGzRaYAb9r9E0ZsmYDhw4dj3Lhx5nMKZOyMyoYEM2fOTLqdAQMGYPbs2Th48CCqV69uPqerrVu3bli+fLlxpL399ttp3n5qIe7o0aMmDXbhwoV44403kq5jOiiFOaa2UmCzhIuLi3HrrV+/PsUabMTAPYwaNcqkjKYO1rRj99XkQXcbxT5+7uPjk+FHxhp4rJMXERFhrmOqqkIEREAEREAERCB7EMiuQtz0Uh9myhH3wdlpcsRZeSUkxGWPfyd0lyIgAiLw0BC4sOU0/Df7ma6nGU3FtHVz8dFxCD4WCM9ahVDhjeqm1lxmg6Lb9X+uIvDINURcCUfczVjEhccikV1bAfPT3skODm5OcM7njLwV8mHL6W14b0Q/022zVKlbDRD+TQQeuQq/746Y5gVuRXOnOcX3v61EWGQYEhITMGfzV6hcrCKert7MjG9WrTEqFi2PA2cO443Z78LJwQkvN+qI4p5F4e3jjfU+PyFf/nw4eOggChcunLRG7969MX/+fCOQNWzYEHv27DEOsF69emHevHlJ41g/bcaMGUY069mz5x17bNmypWn8wEgtxNFJRyHuypUr6N+/v+lMSncaHWceHh4oXrx4CiGuUaNGpibb6NGjTeMEimhs6kA+Xbt2NWJgq1atwDWZOnru3Dnj8mMduCVLlqTYG9NnO3bsCDZrGDJkiFW2rB3XunVrvPDCC2YvrCO3YMEC47z75ZdfULdu3X/zWHWNCIiACIiACIjAQ0pAQpztB0dHnIQ465wkxNk+PxohAiIgAiLwgAiwIcPxhYcQ7h+KvFU8raajRkRHYNH2JfC5cAze/r64HnoD7Z58DuNfGXXHLi8HXcG8LQuw7+RfuB5yHR6uHmhUtwHGz5lk0h2TB4v4T5061Qgs/v7+RnChoPTBwA9wY/9VXNp5ATfPh8Lb3wc7Lu3CPxcPIiD4ElydXFC2cBm8+VQP1Cn1OGJvxpqGEXGR8dh+7TeM2zQJxw4eQ8UaFTNFkQ6zMWPGmJTNdm3a4vjXB3Dj70vIXTE/7F0crM7VavQLCAi8ZPW7mqWr4/w1f4RF3kShvAXg5uyG0MgwXAu9jtxOudDk8UboO2qAuf/9+/cbsYk12kqXLm3ELrq+Ll68aP5MLh999JGpkWaJZs2aYefOnWneI7uMcow1IY6f+fn5mfpwu3fvRmxsLOrVq2eeB2vEMZI74o4cOYK+ffuafdKRltwxRzGOjjy667y9vY04R8cbxTu69OhiSx7t27fHxo0bzTPnOGvBLq505lEcpFiYL18+I/LReceOrgoREAEREAEREIHsRSC7CnFTSw1GWZcMdk2N8sfgs1PliLPyakiIy17/XuhuRUAERCBLE/Df5IdzG07ArVhuOLpbd61dvBGA1mNfQIHcnqhSvBJ2eu+2KsQFhwfjxcldERsXiy4NO6JoPi+c9D2ODSd+MkIWxRyKSpZgof65c+ca5xfFmr179xrnV7cWL+O9Wr0QfT0SbsXdMWz9KOz3+wctqj9lHGcR0ZFY/+cPOHXZD8M7DkGXhp3MlPHR8Vj5yypM3D4NPw5diwY9mpgurhmN1E0JQk7cwOml3mD9vDyV8me4Zt7VkGt4aVoPUMDs2rgzingUxh8n/8LPB7fjtaZd0bNcV+St6InyParjtwN7TCdQOrzIhuIkHXBM+XzuuedM7TeFCIiACIiACIiACGR3AhLibJ8APwlxaUKSEGf7/GiECIiACIjAAyAQGx4Lnzn7EXIyEB5VrbvhuI2YuBgE3QxGobwFwVpotT5oYFWIW7Z7FcavmoLZPaebtEwG67ptPbIDwzaOMWmUFrcVRbkaNWqkqIXG/bzVvgeWbFuKb16ejxqP14CdvR0OnDmEqsUrm9ROS0TFRKHL9FfMvnaM2QIH+1tOMQp0nywbg+87LETF2pVRukN5eFTOYMOFuDjTcMDSlIDOrgubTyFg2xkkxiciV+m8GRLjJqyahqW7V2Fx//moXaZG0p7HrpiMlXvXYfk7X6PpGy1RoG7RNJ+ypZnBsWPHULFi5px9D+DoaAkREAEREAEREAEReKAEsq0QV/IjlMmgI+40hbhzU+SIs3IyJcQ90NdVi4mACIiACKRFIPj4DZOWmiNHDuQskitDoNIT4hZsXYyZG+dg2aBFqFqiipmPjRt2b9+FvpsGm7pn77zzjvmcDQomTJiQ1B00IT4BfsuO4Z9Nf+Pl71/HWy16oP9zfdPd07T1M/Dtzu+xZeQPKOxxq8aaRYjbMGg1cl13Qd5K+XGtYjAWrVqM33//3aR/5sqVy6RWcn2LyHX27FmTEpo6mjRugm/6foGr+y4iLiYWGy78jHV/bcK5a+fh4uiMJ8rVxoDn30XZwrevfXHSK4iKjcLmkauTpouPisOfv/+Bt9cNwoCu72HGd7PSFfXokhs8eDD27dunemgZOpkaJAIiIAIiIAIi8CgTkBBn++lKiEubkYQ42+dHI0RABERABB4Agcu7/OG33Ac5C+dKMy019TbSE+KOnvdB1896oHrJaviw/QB45SuC89cvYNLSqYixj8XBE4eRJ08eMyU7cLJDKIvyM67sC8CZNScRFxGL9otfQqWiFTC31+x0KQz5dji2HtqGXeN3IKfzrQ6aFiFu04j1KODgiZtnQ7Hg/P9wIS4AzZo3Q9GiRXH+/HkjCtLxxppmbDwQHh6O1atXGzdc48aNkwRDNjt4qklz+G88iZ4jeuPX43vwXI1WqFH+MQRHhGL57tWIjInEskHfoGTBEmYPbcd3gYO9I9YO/c50d426Fo6oy+G47BKIzl/0QOtnWmPzT5tT3BvrrvE/7uPPP/809djozjt16pS6gz6Ad0FLiIAIiIAIiIAIZG0C2VWIm1JiSKYccR+dnyxHnJWjLCEua7/f2p0IiIAIZBsCZ9cex7kfTsKjWgGTApo6KCLFRcaZTqXxMfFAYiLikYBG01uhbe02GP/qqDtcXSv3rsWsH79AcHhI0nQ1vR7D9NcmotHHT8Mpt7P5nB07nZyczC8K0UFR8P3yMIJ8r5sU2a4zXzMpsKs/Wpbmszh95Qy6THsFTao0wmdvTEkal1yIY426m+dCERUfhSov10DhhrdTQU+cOGH28Omnn+Ljjz8216euEZd88RXLV+Cll1/CtFfHoUHu2oiPiodLwZwIRCg6zuiOxlUaYOrr48wlnae+Bt8Lx7HwlVko51zK3HPucvmw8fI2fDRuqFn38OHDKe6N+2BHUkuwZhwbIFSvXv2Bnke6I9kQgftRiIAIiIAIiIAIiEBWISAhzvaToCNOQpx1ThLibJ8fjRABERABEXgABOiGu/DTaeSvWSjFarE3YxB5JQKRVyMQFxWHhJh4UyMNiUA84tHul1fQskQzfNx0EFwLucG1YE7YO9mbObYd3oEVe9agQaV6KFGgOE4GnMI3W79F2UJlsG3XNuQvWcCMK1u2LOg2Y4OGgB3ncXrVCTh5OMMlvytem/UmAsOCsHH42qR9sfHB4h3s3OoL7/M+uHEz0NSF2zhsrWmGYAmLEPdMzZY4et7bdHjN65wHdao8iSnfTEOxksUQHR1t3HBPPfWU2QdFL0vn1piYGNSuXdu40uztb90To0OHDiZN9K9f/0Dg4SvY9uNWDFx0S8B7rGAVnA+9gI2vfQ8kJOKLfQux9OhalC9QBp90/xgV61XGoUAffDh0sHG8lSxZ0jjdksfp06dNmu61a9dM8wZ2DaVrz9L1NLPHgR1PmzdvnnQZu63SjVimTBk0bNgQb731FqpVq3bHtI+yEFeqVCmcO3cuTZTsHks2ChEQAREQAREQgaxHILsKcZOLZc4RN+SCHHHWTq+EuKz3TmtHIiACIpAtCZxe4Qt2Tc1f65YQx66joaeDTYOF2Juxpr4bBTY7/ueQA0AO41R77oeX0KJIEwyo0AsOrg5wzOWEXCXc8Xvg3/jof8Ox/MNvUcGrXBLTrTu3YeDajzHuk7EYPnrELfHq/zvi/vz9T/jMPYjrB64gX/UCxmH30vTudzjiLgYGoM249vB0z4+Y+FiERoSiQcV6d6SvLt21HJPWToO7qztebtgZXvm8cPTEUaw/vBHxCfFIpJqYLLy8vBAQEGA6t1KQ6927t/mWHV3nzJmTNLJKlSrw9fVN95wc/mwvHJwd8cORLRgybwRyu+dGaFioucbV1dUIbHSaMT32wIEDVueyuPKefPJJHDx40KTvVq5cOdPn0yLEUXCjmJeQkICQkBDjxGMKLv88cuTIO5xvFADpVOR/j1qsW7fOCJyp491334Wzs7M5B4/ifT9qz1H3IwIiIAIikD0JSIiz/dzpiJMQZ52ThDjb50cjREAEREAEHgCBcxtO4Nz6k8hbOT+ig6MR6heMqOuRxi3m5O4EO2d75AAFuNtBMeuZlR3RqlRzDK7TH3ERcYi7GQP7nI74eP8YhCbcxIbhK1JcE3IiEM983QFNmzXFjz9tMt9ZasSd2HMMvl8dNqmvuYq7m++af/LMHTXi2Ln1Wsh1jFs1EX+c/MuIau2efA5ju6ZMoRz+3SfYuH8zRnUZjg71XjACVOdp3XDh+kVExUUZwe3ll1+GnZ2dEd38/PzQv39/zJw5Myk1lcIXu5VSBKNgyKhUqRLolmO66NKlS7FmzRrjqOPPRYsWGXGtRYsWRkjk37nO8ePHERoaaq6j+4yuNHd3d3Tu3BnLlllPu7UIcV26dMGKFSswbNgwjB8/PtOnwSLEffXVV+jZs2fK5xESgpdeeglbtmzBwoULzV6za9AFx5qA/fr1w6xZs7IrBt23CIiACIiACGR5AtlViJtER5zzrTrEtuJ09HkMlSPOKiYJcbZOj74XAREQARF4IASu/H4Rfku9kRCfiIiAcFOrzTG3ExxyOtwhwFk2lFyI+6juAPMxhbuYkGi889tA5HDIgQ1DVhiXnCWuH7iMNsteQpNmTfDTTz+ZjykwTZw4EX+s+h0xO27COb8rnPM648KNi3hu/Avo+fQb6NemT9IcdOJ9uHgodnrvwthun4KCmzUh7oNFQ7D18Hb835vT0LxaUxy/eAJdpr+CVx7rgu+OrEjRuZXdU5kqypRQdkyNj483YhnTUCmwJRfB2rZtC4pbdLLVqFEDn3/+uUlzZF23kydPoly52w5AixB35swZMB2SsWvXLtMplj8taaIZ7dzKcVybwT1SMPrmm2/AOnd02tHxxg6wyZ1z6QlxnIeOOO6N6arcJwVERurUVK43ffp0LF68GOwsywYSJUqUMIxS15HjGLoI2QCDQme9evUwZswY1K9fP+k5BgYGYvLkyfj5558Nd4qUdBsOHDgQ3bt3T3HuuR5dezt27DApux4eHqhatarhSBHUEjdu3MDYsWNBxxtdbQUKFMCLL76IcePGIW/evOm+S2+//bZJS/7777/x+OOPP5D3TouIgAiIgAiIgAhknoCEONvMJMSlzUhCnO3zoxEiIAIiIAIPgEDo6SAcmvKHccIxDZX12ewc7mzakHwr1oQ4y/cjfh2HP67sx8yWk9D4qcYmbZVOt/U/rceo7ZOMgEJxhEG3Wa1atfD6c6/idc+XjSvPztEOk9dOw9LdK7Dig+9Qwau8GUtX29AlI7Dl4C/4pPMwtK/TFo8Prm9ViPti8zzM/+VrVCpaEUM7DEZ0bDR6zeuLQrkKwtnZBf8c+Qf5i+Q3wlKPHj2MsEQxyBIuLi7Grcd6cNyfRTikC65bt26oWLGiEYRY244inEWIy507t+m+yrAmxL3zzjv47rvvzHp0uLFbLGvA8d58fHzu6NxarFgxXLhwwXRv7dSpE1q2bGnmppuOgtOrr76KOnXqgCLUF198YQTFv/76C+XL32JmS4jjmDfffNMIelzfIuKlFuIsTSTIioIaWVF45POziIOc68MPP8Rnn32Gjh07GmGQHWDptqPYtm3bNjRq1Mjsi4IXRTKOq1ChgqnXR9GTzrSvv/7a7IkRGxtrRDc6CulcpPhHMY61+7gPrscICgoyKcXXr183rFgDj27GuXPnmnv6/fffTdqptYiMjESRIkVQvHhxHDly5AG8cVpCBERABERABETg3xLIrkLcxKJDUTqDjrgz0efx8cVJ6ppq5ZBJiPu3b56uEwEREAERuKcEIq6E4/f+vyD0VBDcSuWBvePt5gSpF1p38kfcjAk3NdYWH12KcnnLoFGxemZYg6J1UCZvKXhfP4YPtg+Ho50jXqjyHMpXKg+fU8ew/vCPyOfhgYNHDqFw4duNFSiwUIxqXbYl6j5eFwfPHgKbLXSq3wEjO99qhMCYun4Gluz8Hk+UrY0X67Y3aamfLBuDWqVrolP9F1G/Yl3kd89vxlqaNeR2dUdoZFjSHPY57NG1XhfU7Vgf/3gfMGIW64VRpAkLuz2OghFdbxTb6OqiqEb3FV1/dKbR0UanF4UkClE//vijcXRRtFuyZIlZj2mu77//PgYMGGBSWy9dumRSWoODg/HLL78Y4YhBRxvFIopMFNYoCFFYs3Rx5V7oBqODjrFy5UowZZU/Kc5Z4uLFi2YPbdq0MWmzjIwIcTNmzMCgQYOwfv16tGvXzlyXWojjfVGs2rTpVkqxtaAASFFw6tSpSQIZx5EvU3J5PQUxBoU33k/yRhhk+/TTTxvhkem8DAp9NWvWxPLly809pxV9+/Y13PnLORtvWGLjxo2gi3HevHno1auX1cst4mrqfae5mL4QAREQAREQARH4zwhIiLONXkJc2owkxNk+PxohAiIgAiJwnwlQ/Di98jj8lvsiOjACTrmd4eDqmOaqr/zwNq5EXLP6/eA6/fBM6Rbmu9PBZ7H4wPc4GXYGgdFBcHfKhYbV6mPm95+jTPkyKa5nPbQh3Qdj6Y9LcS3yBgrlKWjquvVo/qrpiGqJt+b0wt9+/6S5twV95iEgMMCIcwPb9seMH2ahdpmaaF6tGUp4FjPXfr9ruen66uLqgvoN6hvRiM4qFudnmqYl6IyiuLNnzx7jVrOkhdI9RYcWnWoUk5h+yZ+8B6ZpfvDBB2jQoIGZhuIPGwBQdKSwli9fPuNoGzVqlElhpUBl6dzKdEj+mcIUHV/cD91t/Jx7SO7msnRuZcOF1PHKK68YMYpzMDIixDElk6mZFLJ4PSO1EMfOq3S1UYjj/VsLinlM1WW9PabKJo+hQ4caZxwZsz5e8qC7jizImbXsmArMcXQXMi2V6cJ04lHY5Gepg2eYaagUSukKTB1MvX322WeNcGktWrduja1btxoBMLlAfJ9fPU0vAiIgAiIgAiLwLwhkVyFugtdh0+RuAAAgAElEQVTHmXLEDQuYKEeclfMlIe5fvHS6RAREQARE4N4SCDsbgmNfH0F4wE3EhkYi+nokXArkRA67280ZImMjseL4OpwM8sOJQD8ERgWZJg2W2nDJd3Q14hq+9V6BA1cOIzAyCHkdc+Mxzyp4p+UbaPJWCxRuVDxpOOuOUQijEOR/7jw8XT3RqVEH9GjxKuztbrvyvP198OPfm/Hnqb/BrqmuTi4oW7iMEer6fDkgRWqqxQk3vNNQTF4zFcsGLUH55J1bt2/FBxs/xvjR4zHsk2FmL5bOrXR0sZYZHVgvvPCC+a527domPdKSsjhixAgj9tDF5unpacZY0jaT14jz9/c3tc5+++03I6rRDUYxj4IXxaYffvjBpFMmD6bDMgoVKmQaB1AYe/31140bL3lkpHMr2dLJlxEhzuKI27Bhg3GPMVILcRQDyYSpnxQRKcwxtZQClyXoxNu8eXO6B9RSh4/iGYU1ipVkyb8nD9bdo0OQQRFvypQpxkFHxx1Thrt27ZpUj+/q1auGWXrRpEkT7Ny5844hdCnSgcg56WpUiIAIiIAIiIAIZG0CEuJsPx864iTEWeckIc72+dEIERABERCB+0zg7PpTOLfRD7lK5kZMUCRCjl9HQmwinPI6JxXuvxx+Bd039kJ+Fw+Uz1cW+wL+tirEhUSH4u2fBiA2IQ5ty7VGEbeCOHfNH5v9t8LO0R5HvI+gZJmSSXfUp08fU8OL3Tqr5K+EHRu3Y9OxLXipYScM6zgkaRwbL+z3+wctqj+FysUqIiI60qSenrrsZ8Ykb9ZgEeKqlaiKiOgIrB2SsnPrjUPX0HZZZzR7uhmYtsiwdG6lI4q125KLXxR4LDXi2ACAtceYbpq8AymbJsyePdvUQLM0PmAqJlNd6WqbNGmSSUelgEfnFx1hdM7RWUYXGGuasQYaO65+8sknOHXqlBnLz5h6mtrJlbxza1rHw9K5NSNCHPlT7PP19TVdYRmphTh+xvuhI2779u0mtZbNHZ5//nmT0krRj84ypuzy72lFw4YNjVuOAuxHH31kHHjkT0cbhTbOT2EweYMLzkWRk+IlhU261yiO0mHH61lnj0InhUK6GK0FmzU88cQTd3xl2Qc707LunkIEREAEREAERCBrE8iuQtz4IsMy5YgbfmmCHHFWjrKEuKz9fmt3IiACIvDIE4iLiMWRmf8g5FQQ8lXzRGJCIoK8ryHcP8TUiXNwdzKCTEx8LEKjQ+GZM7+py/bMyo5Whbj1Jzdh9j9fYmyjYahftA4SYuMRdT0Ce6/9hUm+s4zAQhGLQYcZu47269fPOKOCjwXi2NeHMWP751h5YA1WfvB9kpPtwJlDqFq8MpwcbndgjYqJQudp3XD+uj+ef7wNxr8y2sxrEeKK5vMyaa0bPl6d9BzZiCLwyDW0XdEFjZs1vqNzK51ZbBxgEeIoBlF4s3RNPXjwoBHl0gs3Nzfj3qIgxNpwvDeLqMSuo2wuQDfX999/b6ah4MaxTFulM8/S+IDC0EsvvYQnn3zSNCZIHpbOrew8SuEwvbAlxDEFtGTJkmZ9utUsYU2IS74OHWyDBw82nVQpzNEhx2fJ1FS6zGyleJIjO7Umb/TA+VkXj8JlaiEu+dp0EpILxTg65+j+y58/v6nZZ2mqkdGXl4IpBVbuOa1mDhmdS+NEQAREQAREQATuPwEJcbYZ0xEnIc46Jwlxts+PRoiACIiACNxHAqFnQuD75SEkxMTDrditul3sbhrsfQ0Rl8JgZ28Hx9zOKdJU0xPilvquxteHv8WcltNQLmcpxIREwcnDFb4hJ/H+9qGYN3ceevW+VTCfnVMnTJhgxB/WAIu9GQPvzw/Ad78vuq16Az2ffgP92vRJ9+6nrJuO735bhpbVn8K0HpPNWIsQV69CHfxx8i8s7rfAiIcr9qzGwdOHcC3sGuIS4k3XUzq3+NPSuTV1eqRlcX5fvXp1UPhiHTQ2TqB4w5RTutooYm3ZssW44lg7jt06KSjR3cZUV4uoxFRTNmN47bXXTLdWBkUnS1MGSx06fs6mBqw1R7GSAmDysDQXYK05psWmDqZqWjq3pifE0XHHBgjcO/fDfVkitRDHlFRLKq5ljOV+LE0jLHumw46dTzlH8ki+L7rTKFomTxdlXTvy5E8LMwqFOXPmvENwZFMHdrSlw5DBRgxM+aVbjrXikgeFOs7D55Q89u/fb1xyrONnrbbcfXz1NLUIiIAIiIAIiMC/JJBdhbhxhYdnyhE34vJ4OeKsnDEJcf/yxdNlIiACIiAC94bA1T8u4cQSHzh7OMPZ41Z9MgbFOKaoRl0JR1xknGngYOdsb4SV9IS4YzdO4r2tg1EpT3m8Wa4bihcpjuA84Zjx8+eISogyzq5CZW51S7WkgzKt0BJMkT274RQ6fN8VlYpVxNxes63e6NJdKxAWFYYtB34x6akVvMqjZY1bTSIopn3x03xMe30Shi4ZYVx0JTyLIyImEjkTXXAy0M80amA9Nt4Pmy1QtHrrrbdMqiOjfPnyJtWRaZDPPfdcUgorUxfZZZViGmuVsQEDBRz+ZKMFS404S/dQuukoNFKg4vcDBw4061FYoluOa7AuGVMu6cZi51SmyzI1lYKfj4+PSfkcPXq0Efi4T0vnVrrq2Em0VatWpgEE013pDqMjjDXkLJ1bLUIc769Zs2aGD0UpNnpYtWqV+TPFvJEjR6ZgnVqIY+oo00rpROO+2USB905HHlNamfrJGDJkiHEEsiNs+/btjXjHenncB9dm6ipj3LhxZk3eB910FDbZOZdz8xdsixBH3uyqy+60FE353Cje0VFI8Y015hgUSbk/suPzYZMLCnD8+5o1a8w9Jk8n5jX9+/c34ikFPUsH23vzZmkWERABERABERCB+0VAQpxtsnTESYizzklCnO3zoxEiIAIiIAL3kcCFn8/Cb+Vx5C6TB/Yut7uTGkErIRERF0Nx83yocbYlxifCIacj4Ag8u65LUmoqxRWOpasuPjIOm85txbdnViA0Nixp5zWL1cCkF8egXv8myFPulmBjaZBAV5IlbvqH4djCw+g2+3UkOgKrP1pm9e6fHdsOAUGXrH73Yp12WPvnBmwasR7hUeGY//MCHD3vg+uh15Hb2R1N6zXFjG/+zwhj3AMFGjrS2PWU7jSKQxS/mK5J4YZ1zFi7jK4vuscs7i/L4hcvXjTpq+z8mbxZw5dffmnENNaIswQbBjCVky653bt3m9RKplPyP67NPSQfS7GKzkEyioiISOrcap5PYiK4BsVDinv8u5eXFxo1amQaQlg6t1qEOMu87MrKzqPcM8fyHpmemTpSC3ETJ040IuHx48dNrTgKZhQAuT/WxUseZDRnzhwcOHDAcOFYCnjsfGpp7sB7HTt2rHHiUYylK5Ipurly5TI1Ay1CHH9ybYpvZM1nw71zDMfz2ViCouLkyZOxevVqI0qyFh0bPlD05Vg+U0uQPXlRKKSQqBABERABERABEXg4CGRXIW5s4eEo5XT7d5n0ntbZmHMYKUecVUQS4h6O91y7FAEREIFHloD/T2dwetVx5C7vAXun211Kk99wbHgMIi+HI+pqOOLCYxATFYP221/FU4UaY2ClXkAOmNRVNmOwd3XAH6EH8OOZn9HosQbGiXbykh8Wbf8fyniWxqaNm1C05q2uqWXLljWdLvfu3ZuC7/nNp/Hcm20RFBWMTZ9YL/ofFnkTr816E9dCr2Plh9+jiMctlx3DkppKIY514hjx0fGmBp1nrYIo1qU0EpwSjXBFdxk7gNIxxaA4lLpZg2XeDh06GOcUnWSpgw0D+EshUyotsXbtWuPWogjENVgTj40BKHoxFZRpmf9m7CN7GHVjIiACIiACIiACIpABAhLibEOSEJc2Iwlxts+PRoiACIiACNxHAsYRt+o43EvngUMqR1zqZdl4ISY4CpFhUWj2eWs8U/YpDGnwPnLY2xmnHP/bdeF3DFvxCZYNWpLUaIHz7Ni7A++v+gijP/oUn0weZaa25ogzYlhkHKpXfAxRYZFY3m9JipRZfs8mDe9+2R/e533wxTsz8US5x1NsNbUQxwYNfvtPYaHvt9h7dh+CQ4NTjGdaJJsNmLXTEeKY7mnLOcVUSDq2KOyx0QJ/UeR9WuLnn382whxdW3TaMTIz9j4eBU0tAiIgAiIgAiIgAg8FgewqxI0plDlH3CdXVCPO2oGWEPdQvObapAiIgAg8ugSu/nkJJ5f4wClvyhpx6d1xXHwcHh9cH+2efA5ju6ZsFPDm5+8gKDwYa4esSDFF6OlgtP6yPZo0bYJNP28231mrEWe5qGCBgiifvyzG1/8ErkXc4OLpauq5xcbFov/Xg/Dnqb/xWY8paFq18R1bTS7EFXYriKDjgej1Yz9cj7qBgR8OMo40pj9SMGMHV6YmWjp3pifEVapUyaRZMh00rWjRooXZJ5su0B3HGm+pg2mhTFFlmicjM2Mf3ZOoOxMBERABERABERCBjBGQEGebEx1xEuKsc5IQZ/v8aIQIiIAIiMB9JBB2NgQ+8w+Z5gy5/n/XVFvLpSfEtZvY0Vy+4ePVKaa5cegqnlvaCU2aNcFPW34y3w0bNszU/rJ0TbVcwJpgrAH2Yb8P8VrZlxHkewNsvulS3A1Dlg7HTu9dmNB9LJ6t1crqVi1C3JreS5E3Mg8CnK+g+5dvmFpqrCuWPFgjrEKFCklCHB1trDn2+uuvY9GiRSnGtm3b1oxjUwCmr6YXbCrAYD215MF0WDZVYG02NlVgZGasrWej70VABERABERABETgUSeQXYW40QVGZKpG3Khr49Q11crLICHuUf8XQvcnAiIgAlmcANNAj87aj5ATQfCo5pmh3aYnxA34+gPs9NmFxf0WoEap6mY+1mfbsGUDPv11ginszwYEjEOHDqFWrVro168fZs6cmbQ2u4myk+XBgwdRqWRFMH326j+XMGzZKOw4+xuGtxuCzk07GudZ6qCguGbnWozbPBkrXv0WlZ6sgrCSkWjYvtEdQhybBLB5AB1pFkcc52NXTrr11q9PWZ9u6dKl6NatG0aNGmUaPKSOq1evmq6mDHYLZSfUPXv2oH79+klD2aWUnVeTc8jM2Aw9IA0SAREQAREQAREQgUeYgIQ42w+XjjgJcdY5SYizfX40QgREQARE4D4TOLfRD2c3nEKu4u5wzOWU5mpLd61AWFQYEhISMHfLl6hUtCJaVG9uxjer2gQVvMrj4JlDeOuL3nBycEKXBp1Q3LMofE74YsPRH5HPwwMHjxxC4cK3Gyv07t0b8+fPN061hg0bGuHqm2++Qa9evUyjAwZdZH1ffxdzv52P2iVq4tmyrYyDz87eDnaOt8S4x4vURh47d1OvbmvADozfMgV7/7cLT3SoixzOOUydtitXrqB///6mg+cff/yBdevWwcPDA8WLF08hxNGtxm6fo0ePRrFixYy4xqYO3EfXrl2xfPlytGrVynQMpbuN3TnpbmMNuSVLlpj9sAFFs2bN4OzsjD59+pjGFGzWwLTWfPnymfktHDIz9j4fBU0vAiIgAiIgAiIgAlmeQHYV4j71HJkpR9yn18fKEWflNEuIy/KvuDYoAiIgAo8+gZv+ofD96jAir0YgTwUPq04zUnh2bDsEBF2yCmTMy5+gfZ225rsTAScx/+cF8PH3xdXQa3B3dEfDx+pj1tLPUbps6RTXsybblClTsGDBAly4cMEIXz179jSNDJgiagmKWjt37kzzYcx/cw4a12sI10Ju+OHAJvT/dACY4lqqVClzjZ+fHwYOHIjdu3cjNjYW9erVMx1MWSOOkdwRR8Gsb9++5heXiIiIFI45inEU05jm6u3tbcQ5prdSvHv77bfRoEGDpD2yu+qYMWPw999/IyAgwAhwFO/oCCxZMmXr+cyMffRPpO5QBERABERABERABNImICHO9umgI05CnHVOEuJsnx+NEAEREAERuM8EKCadWXMSF345C5f8rqYxwr2KkJNBcMrjjLJdKsGz1q20zXsVCfEJSIiOR2JCIuwc7WHvbH+vptY8IiACIiACIiACIiACWZRAdhXiRnl+gpKOKf9nblqP6FzsOYy+PkaOOCuAJMRl0Rdb2xIBERCB7EYgJiQaxxYewY2DV40rziFn+s0IMsIn8ko4ooOiUbRFSZTpXCFNp11G5tIYERABERABERABERABESABCXG2z4GEuLQZSYizfX40QgREQARE4AERYHfS06uOI/RU8F2LcUxzjboaAc/ahVC+exXjilOIgAiIgAiIgAiIgAiIwN0SyK5C3Cf5M+eIG3NDjjhrZ01C3N2+gbpeBERABETgnhK4cegqzm7wQ6hfMFwL5TT/WetOmtaiCXEJuHku1HRK9axZEGU6V4RrwZz3dI+aTAREQAREQAREQAREIPsSkBBn+9nTESchzjonCXG2z49GiIAIiIAIPGACrOvmv+UMgn0DER8dB9cibnD2cElXkKMAF3UtApFXI414l796AZRoU8ZcpxABERABERABERABERCBe0UguwpxI/ONylSNuLGBo1UjzsqhkxB3r95EzSMCIiACInBPCcSGxyJgx3lcP3AVrPUWGxYDh1yOcHRzhL2LA5ADSIxPRFxEHOLCYxEfFQ8XTxe4eeVC4SbFUeDxQshhl+Oe7kmTiYAIiIAIiIAIiIAIiICEONtngI44CXHWOUmIs31+NEIEREAEROA/JBAVGIXAQ1cR6H0d0TeiQIGOLjkkwght9q4OcMzlCLei7sYFl7dKfjhQqFOIgAiIgAiIgAiIgAiIwH0gkF2FuOEedMSVyhDRc7FnMT5IjjhrsCTEZegIaZAIiIAIiMB/TSAxMRGxoTGIMO64WCAxETns7eCcz8XUgHNwffDiG/cUcSUSEZciEHElAjE3Y41Lz87BDi75nZGzYE7kKuYGp9xO/zU+rS8CIiACIiACIiACInCPCEiIsw1SQlzajCTE2T4/GiECIiACIiACKQiwEcSNo4G4euAaQk6HIiY0BrE340yDCCMQ2uWAQ85bTj3nvE7IXy0/CtT0RJ6yuTPVeELYRUAEREAEREAEREAEsh6BbCvE5R2FEhl0xJ2nIy5Yjjhrp1dCXNZ7p7UjERABERCBLEyAwtuZH88h+GQwIq9FwcndEU55nIzo5uBin6J2HdNoo25EIzEhEW5ebihYuwBKPlMcznmds/AdamsiIAIiIAIiIAIiIALpEZAQZ/t8SIhLm5GEONvnRyNEQAREQAREwIhp57dewMXfAhDqFwqXAi5wK5wTdo52NulQkAvzvwkkAB6VPVCmbSnkq+xh8zoNEAEREAEREAEREAERyHoEsqsQNyzvpyjhkLEacefjzmJC8Kfqmmrl+EqIy3rvtHYkAiIgAiKQxQhQhDuz8Rz8d1wwLri85fPAMWfmatKxnlzU9SiE+YfDo2JelO9UxqSsKkRABERABERABERABB4uAhLibD8vCXFpM5IQZ/v8aIQIiIAIiEA2J+C/7YIR4tjB1aNyXtjZ23bBpYWM7rig48HwqOSBKq9XRO5SubM5Xd2+CIiACIiACIiACDxcBLKrEDc0z+hMOeImhYySI87K0ZYQ93C979qtCIiACIjAAyYQejYM3gt9EeIXivyPedyVCGfZOrurhpwMQZGGRVD1rUpwcMmcu+4BI9ByIiACIiACIiACIiACyQhIiLN9HOiIkxBnnZOEONvnRyNEQAREQASyKYGE2AQcXeCDgF2XkLdCHji6Od4zEqwZlxCXgLLty5gGDg8iFi1ahDfeeANnzpxBqVIZq+/xIPalNURABERABERABETgYSKQXYW4Ie6Zc8RNDpMjztq5lhD3ML3t2qsIiIAIiMADJXDj6A14f30M8THxyF3K3eraEdER+Hbn/3Dsoi98LvjiRth1PP94W3z60ug7xl8OvowFW7/CX6f+xPXQ68jjnBdPlH8CU76ZjKo1q6YYHx8fj6lTp2LBggXw9/dH8eLF0bNnTwwePBj29vZJY//++28sWbIE27dvNwKbm5sbqlatio8//hhPP/10ijnvRohLSEjAmDFjULNmTbzwwgt39Rx4PyNGjMBPP/2E4OBglC1bFr1790a/fv2QI0eOpLl79OiBxYsXp7nWuHHjMHz48Lvaiy4WAREQAREQAREQgcwSkBBnmxgdcRLirHOSEGf7/GiECIiACIhANiVw7NsTOLv5HPJV8YC9823xKzmOgMAAtJv0PDzdPVG5WGXs8t1lVYgLDg/GS591QVx8LDrW6wSvfEVx5txprDu0Dg7O9jjqcxTFihVLmrpPnz6YO3eucbA1aNAAe/fuxTfffAN+PmfOnKRxnTp1ws6dO9GxY0fUrl0bN2/eNOOOHj2KL774Au+++27S2LsR4uLi4uDo6IjXX38dnOffRkBAAJ544gmzz/feew8lSpTAtm3bsGrVKnzwwQeYNm1a0tS///47/Pz87lhq5syZoAC5f/9+c88KERABERABERABEXiQBLKtEJdrDIpnsGuqP4W4m5/o9zUrB1NC3IN8W7WWCIiACIjAQ0MgOjga/0w/hJsXbyJfZY809x0TFwOKbAXzFERcfBzqfVzHqhC3cu8KTF43CZ/1mIEmVZqa+Ziaum7jOkzYOw4zZszA+++/bz4/cuQIatSoYRxiFJ0sMWDAAMyePRuHDh3CY489Zj7es2ePEbacnZ2TxkVGRhrn2rVr13D16lU4ONyqQZcVhDjeE4XEXbt2oWHDhkl77tu3L+bNm2cExMqVK6fJOyIiAoULFzaptYcPH35ozpM2KgIiIAIiIAIi8OgQkBBn+1lKiEubkYQ42+dHI0RABERABLIhgcBjQTgyzxvIAeTycssQgfSEuEU7vsHnm2fjf/2WoErxKknz7dq+GwN/6o+5X8xF73d7m8+ZbjlhwgScPn0apUuXThrL1NMyZcpg2LBhGD9+fLp7orvss88+w/nz501aa1pCHAUxOu/oPrt06RJy5cqFpk2bmvUrVqxorjt79myKfVgW5rhff/3V/JWptLNmzTJuvBMnTsDV1RXNmjUz8yQX1qpXrw6KaadOnUqx/7/++gt16tTByJEjTQpsWvHdd9+he/fuxjnHe1SIgAiIgAiIgAiIwIMmkF2FuMG5xqK4fcbqDPvHn8XUmyPliLNyOCXEPeg3VuuJgAiIgAg8FAQu7gyA75LjyFkoJ5zzOGVoz+kJcd7+3nh99qt4rMRjGPD8QHh5eMH/uj+mrZ6KqPgo7Pt9H7wqFjHrPPPMM8b1dvny5TvWLVSoEGrVqmXqq6UXXbt2NemerMHGunEMa444OtTowKNoVrRoUSPczZ8/H4mJifD29kbBggURHh6O1atXm7TUxo0b45133jHzcS8tW7Y0f+7cuTPWrVuHV1991QhqN27cMKmxvJYiW/ny5c24SpUqwcnJ6Q43G9eqVq0aWrdujc2bN6d5a61atcKOHTtw4cIFs75CBERABERABERABB40AQlxtolLiEubkYQ42+dHI0RABERABLIhgbObzuH4slPIWz4PHFys14dLjSU9IY5j1+xbjTk/zUFIRHDSpTWK1sCY58ajyYcNkbd8XvM5004pVrEGWupgTbTY2FgjnqUVvr6+JjX1+eefNwKaJawJcRTKLEKdZRwdbdzDp59+apo+MNKrEbdy5Up06dIF/MmadZa4ePEiqlSpgjZt2mDp0qXm4xdffNEIbXT3FSlyS3hkfP755yYVl+umlXLK+VhT7tlnn8XGjRuz4anULYuACIiACIiACGQFAtlViPvQLXOOuGnhcsRZO68S4rLCW6w9iIAIiIAIZDkCZ348hxPLT8GjQp40GzWk3rQtIW7H0e1YvW8V6lVogOL5i+PU5ZP49tf/oVS+0tj842YUq1XUTMkuonR7sUFD6mDjBtZ9S53aaRkXEhKC+vXrmzRTuuooXFnCVo04NlCIjo42brinnnoK5cqVw5o1a8zl6QlxHTp0wL59+6wKaK+88gr4yyrr1THY3ZXdXJ988klMnz7dNKigw23gwIHGPVeyZMk0723SpElGGEwt+GW5w6MNiYAIiIAIiIAIPNIEJMTZfrx0xEmIs85JQpzt86MRIiACIiAC2ZDAuZ/9cXzpSeQu5Q7HnLeaHdiK9IS47Ue24ePvPsZ3A75DuSK30jQZO/Zsx+D1H2L0R6PxyeRPzGf/1hHHJg1Ma2UqKFNXWcMteVgT4ijYDR06FD/88AOCgoJSjG/evLkRzhjpCXF0vdGFl16whpydnZ0ZsnjxYgwaNAiBgYHm76wnx5pvdOAxPfbAgQNWp+I6TNflnpM3p7D1XPS9CIiACIiACIiACNxLAtlViBuUk4642/WL02PqH38Gn0XIEWeNkYS4e/k2ai4REAEREIFHhsDV/dfgvdAXjm4OcC3gmqH7Sk+Ie2duTwSFB2Hlh7dTRTlp0PFgtP/2eTRt3hSbftpk1vk3NeJiYmLQrl07I5zRxca01NSRWohLSEgwKayst0ZHWtWqVU2zBgpm7ODq6emZ1IwhPSGOdd+4/pdffpkmpxYtWiBHjhxJ33M8U1D5k7Xh2NnV3d3d1JpbtmzZHfNYmjn06dPHdF1ViIAIiIAIiIAIiMB/RUBCnG3yEuLSZiQhzvb50QgREAEREIFsSODmhZs4OOsIYsNjjSsuI5GeENdhyotmijUfrU0x1ZX919Bp7Qto0rxJUgMGdkWdOHFihrumUiRjbTa62thV9OWXX7a63dRCHFNXKcSx02mPHj1SXOPl5YUKFSqk6IpKsYwNGzhP8mjbtq0ZR4ebo6NjRlDdMYaNHlg/ztpeOPi9994zAtwff/xhmkEoREAEREAEREAEROC/IpBthTjXsSiWQUfcBTriIuWIs3ZGJcT9V2+u1hUBERABEcjSBBJiE3Bw5mFQKCtQK38KN1daG09PiBu0aCB2+f6Gr/ssRPWSNcwUMTdjsWnnjxi3cwyGD/IY0iMAACAASURBVB+OcePGmc8pkLEzKpsXzJw5M2m5AQMGYPbs2Th48CCqV69uPqerrVu3bli+fLlxpL399ttpck0txB09etSkwS5cuBBvvPFG0nVMHaUwx9RWCmyWcHFxMW699evXp1iDjRi4h1GjRpn00tTBmnbsvppWsK4da99FRETAx8fHpKomD7rmKAxyDn6vEAEREAEREAEREIH/koCEONv0JcSlzUhCnO3zoxEiIAIiIALZlMD5rRdMwwZXT2e45HNJk8LyPcsQFnUTiQkJmP/LPFT0qoTmjz1lxjet0gTli1TAobOH0Gv+23Cyd0KnBp1RLF8xeB/3waZjG5EvXz4cPHwQhQsXTlqjd+/emD9/vhHIGjZsiD179hi3WK9evTBv3rykcay1NmPGDCOa9ezZ8449tmzZ0jR+YKQW4uikoxB35coV9O/f33QxpeOM7jQPDw8UL148hRDXqFEjU79t9OjRpskChTE2dWBzh65duxoxsFWrVuCaTDM9d+6ccfmxttuSJUvMHljjrXXr1njhhRfM/Kz3tmDBAuOm++WXX1C3bt077oGpth07dgSbNQwZMiSbnkbdtgiIgAiIgAiIQFYhkF2FuIEu4zLliJsRNQL79+9H7dq1s8qjyxL7kBCXJR6DNiECIiACIpAVCURei8Shz48g+FQoPKvnQw672zXOku+37cTncCnoktVbGNXlU7R9op357uSlE/hq61fwveCDayHX4O7kjoY1GmH2slkoVapUiuspkk2ZMsWIVKzhRuGLQttHH31k6qlZolmzZti5c2ea+NiRlGOsCXH8zM/Pz9SH2717N2JjY1GvXj1MnTrV1IhjJHfEHTlyBH379jW/UNG9ltwxRzGOjjy667y9vY04RxcbxTu69Oh4Y7AzK912FPwoAFKEpHBHNx27tFqL9u3bY+PGjfD39zdzKkRABERABERABETgvyQgIc42fTriJMRZ5yQhzvb50QgREAEREIFsTOD8L/7wW3fGiHDuJXLdExKJCYm4fiQQeUq7o8qblZGndO57Mq8mEQEREAEREAEREAERuP8EsqsQN4COOLuMdU29kHAGM+WIs3oYJcTd/3dUK4iACIiACDzEBOJj4uH9tS8C9lyGezE3uORPO0U1I7dJp1jI6VDY2duhTNtSKNm6REYu0xgREAEREAEREAEREIEsQkBCnO0HISEubUYS4myfH40QAREQARHI5gTCL0fg2LfHce3ADeQqlhOuBVI2E8goHjrhKMIhEfBqXAQVupSDvbN9Ri/XOBEQAREQAREQAREQgSxAILsKcf2dM+eImxWtGnHWjquEuCzwEmsLIiACIiACWZ/AzYvhOL70JG4cvQE7RzuTTsqfGQ12SA3xC4VzXicUrlcI5TuWhYPr7VpvGZ1H40RABERABERABERABP5bAhLibPOnI05CnHVOEuJsnx+NEAEREAEREAFDICowCmc3n8fVf64h/GK4SVPNWcg1TUGNaagxITGIuByJuKh45CmbG0WbeKFokyKwd5ITTsdKBERABERABERABB5GAtlViOvnNB5FM1gj7mLCGcyOGa6uqVYOuIS4h/Gt155FQAREQAT+MwJML726/xou/X4ZoefCEHklEgnxCXDM6Qh7V3vkyJHD/D0uIg7xUfFwcHOEW2FXeFT0QLFmXnAv4f6f7V0Li4AIiIAIiIAIiIAI3D0BCXG2GUqIS5uRhDjb50cjREAEREAEROAOAhTbgk+GINAnCOEB4Yi4GmmEN7rgctjnMMKcm1dOuBfLBc8a+eFWxE0URUAEREAEREAEREAEHgECEuJsP0QJcRLibJ8SjRABERABERCBuyDAGnCxYTFIjE80teOc8zqrEcNd8NSlIiACIiACIiACIpBVCWRXIe49x8ylpn4eq9RUa2dYjris+mZrXyIgAiIgAiIgAiIgAiIgAiIgAiIgAlmOgIQ424+EjjgJcdY5SYizfX40QgREQAREQAREQAREQAREQAREQAREQAQMgewqxPV1yJwjbk6cHHHWXhkJcfqHRAREQAREQAREQAREQAREQAREQAREQAQySEBCnG1QdMRJiLPOSUKc7fOjESIgAiIgAiIgAiIgAiIgAiIgAiIgAiJgCGRXIa6PwwR45SidoVMQkHgGX8QNw/79+1G7du0MXZNdBkmIyy5PWvcpAiIgAiIgAiIgAiIgAiIgAiIgAiJw1wQkxNlGKCEubUYS4myfH40QAREQAREQgSxBICEuARHXohBxNQrx0QlmTw457eFWyBWu+Z2Rwy5HltinNiECIiACIiACIiACjzKB7CrEvZtJR9xcOeKsvgYS4h7lfx10byIgAiIgAg89gcSERASdDMWVf24g8GQookNiEHszDhTlkCMH7B3t4JjLAS4ezshfOQ8K1c6P3CXckCOHRLmH/uHrBkRABERABERABLIkAQlxth8LHXES4qxzkhBn+/xohAiIgAiIgAj8JwSCToXi9OYLCDoVhvBLkWYPTu6OcHRzgJ2jHYBExMckGGEuJiwW9k52cPPKCc/KeVD2+eLGKacQAREQAREQAREQARG4twSyqxDXyz5zNeLmx6tGnLWTJyHu3r6Pmk0EREAEREAE7ppAfGwCzv58Ef6/XUHwqTA453WCWxFXOOZ0SHPuxMRExITFITwgAnHR8chfKQ9KPu2FYo0Kyh13109EE4iACIiACIiACIjAbQIS4myfBjriJMRZ5yQhzvb50QgREAEREAEReGAEKKIdX3EW/ruuIDo4Bh7lcxsHXGYiKjgGIX6hyFXMDaWe9kLZ54qpflxmAGqsCIiACIiACIiACKRDILsKce/YT8xU19Qv4z9W11Qr50hCnP55EQEREAEREIEsQiAhPgHHlp3Fue0BSIhLNCLcv23AwBpy172DkbOgC8q2KYYyzxbLInepbYiACIiACIiACIjAw01AQpzt50dHnIQ465wkxNk+PxohAiIgAiIgAg+EwIXdV+C79AyiQ2OQr1Keu04pNWLc0WDkLumGGj0rIF/FPA/kPrSICIiACIiACIiACDzKBLKrEPe23UQUyVE6Q4/2UuIZfJUgR5w1WBLiMnSENEgEREAEREAE7i+B8CuROPDFMSOcFajhATsHNmO4+4iNjEOgTzC8GhRErXcrpVtn7u5XuzXDokWL8MYbb+DMmTMoVarUvZr2gczDbrOjRo3Cp59++kDW0yIiIAIiIAIiIAIPHwEJcbafmYS4tBlJiLN9fjRCBERABERABO47geOrzuLEmnPIVTQnXDyc71gvIjoC3+9ejOMXfXDsog9u3LyONrXaYUSnsXeMvRJ8GQt3zMd+vz9wPew6PFw9UK1QTYwcNQJNuzdMMT4+Ph5Tp07FggUL4O/vj+LFi6Nnz54YPHgw7O3t07zv7du3o0WLFub7kydPoly5cklj70aIS0hIwJgxY1CzZk288MIL/5r7r7/+iubNmydd7+DggDx58qBMmTJo2LAh3nrrLVSrVu2O+R9lIW7t2rVYs2YN9u3bh4sXL6JQoUKoV68eRo8ejQoVKvxr1rpQBERABERABLIbgewqxPXMpCNugRxxVl8NCXHZ7V8M3a8IiIAIiECWIxAdEoM/px9F4LFQFKyZz+r+LgVdRMdpbeDpXgAVvSpjz/HfrApxIRHB6D6zI2LjY/Fi3S7w8vCC/3V/rNm3HPYO9jjqewQlSpZIWqNPnz6YO3eucbA1aNAAe/fuxTfffAN+PmfOHKt7iYmJQY0aNYxwFx4efk+FuLi4ODg6OuL11183zrp/GxYhjoJbs2bNQIEvJCQEhw8fxurVq82fR44ceYfz7ebNm3BycjL/PWrh6ekJ/vfiiy8a4fT8+fPmGUdERGDXrl14/PHHH7Vb1v2IgAiIgAiIwH0hICHONlY64iTEWeckIc72+dEIERABERABEbivBC7suYIj35wy3VHdCrlaF7/iYhASHoQCeQohLj4OTT553KoQt3rfckz/YQKmdJ+JRpWbJc21cfsPmLBtBMZ/PAHDJnxsPj9y5IgR1Pr164eZM2cmjR0wYABmz56NQ4cO4bHHHrtjPxMnTsT//d//oVu3bubnvXTE3Wsh7quvvjIOv+RBEe6ll17Cli1bsHDhQiNCZoegi/Gpp55Kcau+vr7GffjMM89gw4YN2QGD7lEEREAEREAE7ppAdhXi3syRuRpxCxNVI87aYZMQd9evoCYQAREQAREQgbsjcGzFGRxbcRaej3nA3tF2bbj0hLj/7fwa836eha/f/R6Vi1VN2tg/Pn/jve/ewsRBUzB0+mDz+fDhwzFhwgScPn0apUvfLrzL2m5M4Rw2bBjGjx+f4ubOnTuHKlWq4PPPPwf/zLTGjAhxdFzReff777/j0qVLyJUrF5o2bWrWr1ixolnj7NmzKfZhWZjj6HBjMJV21qxZxrV34sQJuLq6Gscb56lcuXLSXi2OOGtCHAdRjGP9Oqar8n6ZkspInZrK9aZPn47Fixeb/dGtV6JECXTo0OEONx3H0GHm7e0NOzs7k/bJNNv69esn7SswMBCTJ0/Gzz//bLjTXUieAwcORPfu3VOw5np07e3YsQPXrl2Dh4cHqlatap5bckHtxo0bGDt2LNatW4eAgAAUKFDAuN7GjRuHvHnz2jycdMIFBwfDz8/P5lgNEAEREAEREAERACTE2T4FdMRJiLPOSUKc7fOjESIgAiIgAiJwXwn8PcMb/ruuoPATnhlaJz0hzufCUfSc+wqqFq+Ofs8OQpG8XrgQ6I+ZP07DzbAwrJ2xEXV61jDr0AVF19vly5fvWJf1w2rVqoWffvopxXft27fH1atXTQorRbiMCnF03dGBR9GsaNGiJi1y/vz5SExMNMJVwYIFTZor00aZltq4cWO88847Zm3upWXLlubPnTt3NoLTq6++ijp16oAi1BdffGGu/euvv1C+fHkzzpYQxzFvvvmmEfR8fHySRLzUQhybNvAee/ToYQQ1CmcUHsnNIg5yrg8//BCfffYZOnbsaO6R6Z5021Fs27ZtGxo1amT29ffffxuRjONYly06OtrUbdu9eze+/vprsydGbGysEd1CQ0PRu3dvI/5RjPvzzz/NPrgeIygoCHXr1sX169cNLwqox44dM6InhUkKn87Od9YctDxU8i9WrJiZn2MVIiACIiACIiACtglkZyGucAa7pl6WEJfmQZIQZ/sd0wgREAEREAERuG8E4mMTsGf0QYScCYNnVY8MrZOeEMcJ1v25CvN/mQ3Wi7NEzVKPY2CV4ajWphJq973lHGPaKWuh7d+//451a9eubcQgimeW2LhxIyjEUQyii8oiUmXEEUehzM3NLcU6dLRxD5zn449vpcuml5q6cuVKdOnSBfzZqVOnpLnYeICusjZt2mDp0qXm84wIcTNmzMCgQYOwfv16tGvXzlyXWoijGFmkSBFs2rQpzWdDAZCiIJteWAQyDma9OTaE4PUWkYvCGxtHJG+EQTHs6aefxoULF3D8+HGzDoU+powuX77c3HNa0bdvXyxZssT8n/myZcumeFZt27bFvHnz0KtXrzSvp1jIOnp0GVIsVYiACIiACIiACNgmICHONiMJcWkzkhBn+/xohAiIgAiIgAjcNwJxkXHYM/YQwvzDkb+y7TRCbsSWELfTexvW/rkSdcs3QLH8JeB3+aTpuFrMrSS+HLwQjYc8ae6Hwg3dZnS3pQ42bqDz7dSpU+aryMhI49CiM41ONkZmhLjk81OgoiBFAYoplmwcQFeYubd0mjUwHZQdP9lwIXW88sorRoyia4yRESGOnWLffvttI2TxekZqIY6dV+lqoxDH+7cWFPOYqsvUTqbKJo+hQ4caZxxTYd3d3VN8R3cdWbCRBFNomQrMcblz505K06UTj/X7+FnqID+moZIhXYGpg6m3zz77rBEurcWBAweMU49i4Z49e4xAqBABERABERABEbBNILsKcT0wEZlxxC2CasRZO00S4my/YxohAiIgAiIgAveNQHxMPPaMOYSQMzfhWfXuhbhfvbdi5LIhWNR3GcoWvpWmyfjj5F4MXPQu+rf/ADPXTTOfZcYRN2LECCP20MXGzpuMzAhxrAtHUeqHH34w6ZTJg2IXGwkw0hPi6Hpjc4H0gjXdWJ8tI0KcxRHHJgV0jzFSC3EUqF544QWT+knBkHtlaikFLkvQibd58+Z092Wpw0fxjMIanWpkyb8nD9bdY5oog7ymTJliBDI67phK3LVrV7MPBoVSCqnpRZMmTbBz5847hlBgZfpvzpw5TVosXXsKERABERABERCBjBGQEGebEx1xEuKsc5IQZ/v8aIQIiIAIiIAI3DcCFGL+mu6Ni3uv3pMacX2+ehPB4UH4/v21KfacEJ+AlmMa4slqdbHzwC3RK6M14tgAgLXH3n///RQdSJnOyO6qrIFG9xXHMBYtWmQ6kbIJAj+n44tplky9ZFMCOsvYrIGCGeeksGept5aeEFepUiVTo+3LL79M83m0aNHCiGkZEeK4R+6V4h7nZqQW4vhZWFiYccRRLPzll1/MfT3//PMmpZX30Lp1a7AZBf+eVjRs2NC45Zi++tFHHxkHHvnT0UahjfNTGLQws8zDtF+Kl7/99hu2bt1q0oXpsOP1rO1HAY1CIVNUrQWbNTzxxBMpvmJ9Pgp0nIsiXPJGHfftoGtiERABERABEXiECGRXIe71TDriFssRZ/XUS4h7hP4x0K2IgAiIgAg8nAR8l53B8ZVnUKBGPtg53F3X1Jdn3Kp1tmzghhQwokKi0eazpqhTsy52/rXDfMdUyIkTJ9rsmnrw4EHTuCG9YP03plkyUgtxlnpnbIzAVMvk4eXlZZoWJO+KSmGKDRs4T/Kga43j2HmU3UvTC1tCHFNAS5YsiXz58pn7t4Q1IS75OhROBw8ebDqpUpijQ4611ZiaStdf4cKF090XObJTa/JGD7yANfImTZp0hxCXfDI6CZ988kkjoNE5R/df/vz5TXfW1E010toE90gRjl1S6ZSjy1AhAiIgAiIgAiKQOQIS4mzzoiNOQpx1ThLibJ8fjRABERABERCB+0rA/7fLOLroFJzyOCFnAReba6VXI+6jbwdgz/GdmPfOYjxW4lZ3VMbG7T9gwrYRGNTrA0yfdys1lQIZhSEKSUyXtMSAAQOM040CXPXq1U3dMjrBUseKFStM/TGOZedNOrMYqYW4o0ePmjRYOrnoQrPE4sWLjTDXtGnTFMKUi4uLcYuldpixEUO3bt0watQokxabOpiqye6rjPSEOHYiZQOELVu2gHt47bXXkqZKLcQxJdWSimsZxJpy7NpqaRrBRgysqcd7Y+dTzpE8ku+L7jSKlsnTRVnXji5B/rQ44sicaaOpBUc2dWCdPIvoyUYMrC9HtxxrxSUPCnWch2Ijg/dCEY7NLSgisuGGQgREQAREQAREIPMEsqsQ9xomolAGu6ZeSTyD/8kRZ/VwSYjL/DunK0RABERABETgnhKICozGn9OPItjvJgpUT7tz6qrflyIsKgyJiQlYsG0uKhSphKZVW5i9NK7cDOUKV8CRcwfR9+u34GTvhBfrdkHRfMVNs4b1f61GHrc8OOR9CEWLeyXtv3fv3qb5AkUkpk+yJhqdaxR4WMcsvchojTimm1KIu3LlCvr372/SKf/44w+sW7cOHh4eKF68eAohjg0E2Ehg9OjRRuCjuEaRiW401khjJ9FWrVqZxhFsgEB3GB1hdHdRJGNYhDh2BG3WrJm5lqIUGz2sWrXK/Jn7HzlyZIpbTC3EMXWUXOhE477Pnj1rauVRIGNKK1M/GUOGDDH13OrWrWs6y1K88/f3N/vg2kxdZYwbN86syfugm45pv+TPuflLvUWIIxs+m44dO6JixYqgOEnx7vvvv0/xbOgO5P5Y843iIMU1CnD8Oxtg8B579uxp1mYnXHLlvLwmdXTv3v2enmtNJgIiIAIiIAKPKgEJcbafrIS4tBlJiLN9fjRCBERABERABO47Aaannlx3DrlL5YJzbier63WY+iwuBwdY/W54xzF4rnZ7892pyyewcPt8HLvog+thV+HunBs1izyBsWPGoWG3Wx1TLUGRjAISO4iyhhuFLwo3rGNmq4tmRoU4rsWOoqwPx5pkTK1kOiXrpbFGHCN5quaRI0dMzbP9+/cjIiIihWOOohZrxNFd5+3tbUQuprdSvGMHVDrTLPNR6LKEvb296TzKOnYcy3tkt9DUkVqIY+ruxo0bcfz4cVMrjoIZBcDhw4eb+nfJgw65OXPmGLGLtew4lgIeXX+W5g7kPXbsWOPEY4031mfjvbJmXvK6ehTkuDbFNzrYWIuOe+cYjk/+bCgqTp48GatXrzaiJGvRseEDXYUcyxRcRmqnXup7T9044r4fei0gAiIgAiIgAg8pgewqxL2aSUfct3LEWT3hEuIe0hdf2xYBERABEXi0CIRdCMeBeccReCzkVq04+5Tpjf/2buOi43H9SBCK1CmAWn0qwTl3+rXV/u06uk4EREAEREAEREAEsgsBCXG2nzQdcRLirHOSEGf7/GiECIiACIiACDwQAue2XcKxlWcQH52AvOXcbTqYbG0qMSER148GI5eXK6r1KIeC1W/VClOIgAiIgAiIgAiIgAj8P/bOAzqqsuvCO703AgRClV6UDkpRUCyoNMWKvSMWrIgVFAHFCihFsWCvgIBdlK40Aek1hJCQhPReZib/2i//jZMwySSKfED2u5YLmNy5973P3GHxPd8+5/xzAjVVxF1XzUTcx0rEuXzIJOL++XdP7xQBERABERCBY0rAXuzA1g/3Im5popmeGtYs+B/LOIe9xKTrfEO8cdpFDdByaON/fK5jepM6mQiIgAiIgAiIgAic5AQk4tx/gEzEScS55iQR5/750REiIAIiIAIicNwIFOfZsO3jfYj/PRm2AjsiWoTC29+rWtcvyilG+u5sBNbxQ+N+9dDq8iZG7GmJgAiIgAiIgAiIgAj8ewI1VcQNZyIOp1UJYBJi8IkScS5ZScRV6RHSQSIgAiIgAiJw/AjY8m3Ys+ggEv5IRtb+HATU8UdQvQB4+VYu5IrzbchNyEdhZhEiWoYaCdfk/Prw9JKEO36fnq4kAiIgAiIgAiJwqhOQiHP/CUvEVcxIIs7986MjREAEREAEROC4E+AES/Z32/f9QWTuz0FuYj68A7xNqalPsA88vY8Mc7AXOVCcY0NRVhFYjhpcPxC1WoWi+cBGCGsafNz3rQuKgAiIgAiIgAiIwKlOoKaKuGsxCXWrmIhLRgw+VSLO5VdBIu5U/xtC9ycCIiACInBSE7AX2ZGyNQOJ61ORuS8bLDuleKN04/L08YRvMAWdDyLbhCOqayQiWoYoBXdSf+ravAiIgAiIgAiIwIlMQCLO/acjEVcxI4k498+PjhABERABERCBE4JAca7NJONyk/PNZFUPD8DL38uUrfI/b7/q9ZI7IW5KmxABERABERABERCBk4xATRVx11QzEfeZEnEun2yJuJPsC6/tioAIiIAIiIAIiIAIiIAIiIAIiIAI/O8ISMS5Z89EnESca04Sce6fHx0hAiIgAiIgAiIgAiIgAiIgAiIgAiIgAoZATRVxV1UzEfeFEnEuvzEScfqLRAREQAREQAREQAREQAREQAREQAREQASqSEAizj0oJuIk4lxzkohz//zoCBEQAREQAREQAREQAREQAREQAREQAREwBGqqiLsSk1CnilNTDyMGXyoR5/IbIxGnv0hEQAREQAREQAREQAREQAREQAREQAREoIoEJOLcg5KIq5iRRJz750dHiIAIiIAIiEC1CZSUlMCWb4e92AEPTw/4BHjB09uz2ufRG0RABERABERABERABE4sAjVVxF1RzUTcV0rEuXxwJeJOrO+zdiMCIiACInASEyjKKUbixnRkxuYh62Au8lKKUGJ3AB5HRFxo4yCERAegbvswhDUNgoeHx0l8t9q6CIiACIiACIiACNRMAhJx7j93JuIk4lxzkohz//zoCBEQAREQARGolEB+ehH2/5qEQ3+mITs+D/lpRSgpAXwDveDh7QGUALYCO+yFDvgEeSG4XgAiW4eiUe86iOoYLiGn50sEREAEREAEREAETiICNVXEXV7NRNxcJeJcPtUScSfRl11bFQEREAEROLEIsPw0YV0a9nyXgJRtmbAVOhBc3x+Btf3g5XN0GSqPL8q2IftQPgqzbAhvEoiGPeug5cBo+If5nlg3p92IgAiIgAiIgAiIgAi4JCAR5/7BYCJOIs41J4k498+PjhABERABERCBowg47A7s+iYeMb8mIiM2F+FNghBYx6/K6TZboR1pu7NN/7h6nSLQ4cZmpmxVSwREQAREQAREQARE4MQmUHNF3ETUruLU1BQj4p7A+vXr0aVLlxP7Az3Ou5OIO87AdTkREAEREIGTn0CJowQ75h3E3h8TkJdSiDrtwuDlW/1BDEzI5RwqQM6hfET3iETn25qbslUtERABERABERABERCBE5eARJz7z0YirmJGEnHunx8dIQIiIAIiIAJlCMStPIzNH+9HblI+6pweDk+vfzd0ITe5AFnx+WjSty66j2wJL18vERcBERABERABERABEThBCdRUETcU1UvEzVcizuUTLBF3gn6xtS0REAEREIETk0Du4QKsmboTSRvTEdUpwmUvuH+y84yYHDPgof3VTdDi4uh/copqv+f999/HLbfcgpiYGDRt2rTa79cbREAEREAEREAERKAmEpCIc/+pMxEnEeeak0Sc++dHR4iACIiACIhAKYHNH8Vgx/yDCGkQgMBIv6PI5BXm4fNV72NnwjbzX1pOCgZ0GozHL3v+qGOTMxPx/pKZ+DNmNVKzUxDqE45Op3XH5LcmoHPvDmWOt9vteOmllzB79mzExcWhUaNGuP322/Hoo4/Cy+vvBN26devw0Ucf4ddffzWCLSgoCO3bt8fjjz+O888/v8w5PZUckAAAIABJREFU/42IczgceO6559CpUycMHTr0Xz0hvJ+nnnoKP/zwAzIyMtC8eXOMGDEC9913X6U993iP/fv3N9fevXs3WrRo8a/2oTeLgAiIgAiIgAiIQFUI1FQRN6SaibhvlIhz+ThJxFXlW6ZjREAEREAERAAw/eBWvrgVGTG5iOoQ7pLJofR4XPP6xYgMqYNW9dvi913LXIq4zLwM3Pzm5bDZizGk+1WoH94A+xNisGjT1/D29cLWHVvQsGHD0muMHDkSM2bMMAm2Xr16YdWqVXjvvffA1998883S46644gosXboUw4YNM41xc3JyzHFbtmzB9OnTcffdd5ce+29EnM1mg4+PD2666SbwPP90JSQkoFu3bmaf9957Lxo3bozFixfjq6++wsMPP4yXX37Z5amLiorQsWNHIyVzc3Ml4v7pB6D3iYAIiIAIiIAIVJuARJx7ZEzEScS55iQR5/750REiIAIiIAIiYAjs/fEQNn2wzyThAmsfnYbjMUW2ImTmpaNOaBRsdhv6P9fFpYibt+YzvP7tREwcPhW9W/cz5+fwhvkL5+P19WPx8uRX8PCjD5nXN2/ebKQTE2JTpkwp/TRGjRqFadOmYdOmTTjjjDPM6ytXrjRiy8/v7/3l5+eb5Nrhw4eRnJwMb29vc+yJIOJ4TxSJy5cvR+/evUvv7Z577sHMmTONQGzbtu1RT+CkSZPw+uuvY/jw4eZXJeL0JRUBERABERABETheBGqqiBtUzUTcQiXiXD6SEnHH65uq64iACIiACJz0BNbN3I3dC+MR3aNWpSWT1o1WJuI+Xv4O3vplCmbd+SnaNGhfyuaPNX/gsW/vxKvjp+DBp+43rz/55JOYOHEi9u3bh9NOO630WJaeNmvWDE888QQmTJhQKV+my1599VUcOHDAlLVWJOIoxJi8+/3333Ho0CEEBwejb9++5vqtW7c279u/f3+ZfVgX5nFLliwxf2Qp7dSpU00ab9euXQgICEC/fv3MeZzFWocOHZCXl4c9e/aU2f/atWvRo0cPPP3006YE1nnFxsaiXbt2eOONN8DfP/vssxJxJ/23SzcgAiIgAiIgAicPAYk4958VE3ESca45ScS5f350hAiIgAiIgAjAXmTH0nGbkbozG1EdXZellsdUmYjbHr8FI94ajnYNO2DkRQ+jXng04tPiMG3RZOQV5OKnL35D+wHNzSkvuugik3pLTEw86pOIiopC586dTX+1yta1115ryj3Zg41947hcJeKYUGMCj9KsQYMGRtzNmjXLpPW2bt2KunXrmlLQr7/+2pSlnn322bjzzjvN+biXCy64wPz+yiuvxPz583HDDTcYoZaammpKY/leSraWLVua49q0aQNfX1/89ddfZbbPa51++ukYMGAAvv/++zI/GzJkiEn2sTyXEk4iTl9QERABERABERCB40mg5oq4CYj0+Pv/FK6MeWoJRdyTWL9+vWmXovU3AYk4PQ0iIAIiIAIiUAUC2Qn5WPnCVhRmFiOieXAV3oFKS1N5ggXrvsLsxVPBfnHW6tCoC+4/Yxx63doJbYcdSa6x7JSyiv+QKb/4D5vi4mIjzypa27dvN6WpAwcONALNWq5EHEWZJeqs45ho4x7GjRtnhj5wVdYj7ssvv8RVV10F/sqeddaKj483SbZLLrkEn376qXn5sssuM6KN6b769euXHsu0G6Ugr+ss6RYtWgSKuDVr1qBr165mTxJxVXocdZAIiIAIiIAIiMAxIiAR5x6kRFzFjCTi3D8/OkIEREAEREAEkBGTg1UvbYet0I7wJkcSZe5WZYk4vnfZ9sVYsPZLdG/RCw1rNcK+pN34dOUcNAxsgg9e/hw9bm1nLsEpokybMQFWfnFwA9Nh5Us7reMyMzPRs2dPU2bKVB2HIVjLXY84DlAoLCw0abjzzjvPTCWdO3eueXtlIu7yyy/HH3/8cVTKje+77rrrwH+8sl8dFyefcppr9+7d8corr5gBFb/99hsefPBBk55r0qRJ6b2x1x0nwDJ1x5Qel0Scu6dQPxcBERABERABETjWBGqqiLsU1UvEfatEnMtHTyLuWH8jdT4REAEREIFTkkDG/hysmnzsRNyybb9g3Jej8faIz9A8qlUps9W7VmD0xyPx0LVj8Monk8zr/zQRR3HFslaWgrJ0lT3cnJcrEUdhN2bMGCxcuBDp6elljj/33HONOHMn4ph6YwqvssUecp6enuaQOXPm4KGHHkJaWpr5M/vJcVoqJRvLYzds2GBef+qpp0x5KxN6tWvXNq9JxJ2SXzfdlAiIgAiIgAic0AQk4tx/PEzEScS55iQR5/750REiIAIiIAIigNzkAqyYuBV5KYWIbBVSJSKVJeLuf/cWZOSl44N755c5V3GeDYNe6YMenXpiydpfzM/+SY+4oqIiDB482IgzpthYllp+lRdxDofDlLAePHjQJNKYPuOwBgqzBx54wMgvaxhDZYk49n3j9d96660KOfXv37/MwAsezxJU/srecJzsGhISYnrNffbZZ0hISDCDKbiP22+/vfS8HAjBybGLFy9G06ZNzTFaIiACIiACIiACIvBfEqipIu7iaibivlcizuVjKBH3X347dW4REAEREIFThkCJowTLxm9B4oY01O9Sq0r3VZmIu37qIHOOj+5fWOZcOUn5GPZWP5zZrSeW/L7Y/IxTUSdNmlTlqamUZOzNxlTbxx9/jGuuucblfsuLOJauUsRx0unNN99c5j3R0dFo1apVmamolGUc2MDzOK9BgwaZ45hw8/HxqRKr8gdx0AP7x1l72bhxoxlKUdlibzuW02qJgAiIgAiIgAiIwH9JQCLOPV0m4iTiXHOSiHP//OgIERABERABETAENr63FzvmHkS9zuHw9D5SVlnZqkzEPfHJ/Vi1ayneuO0DnN6oY+lpFv2yAC8tfwqP3PcoXpo62bxOQUYJxeEFU6ZMKT121KhRJg1GSdWhQwfzOlNtw4cPx+eff24SaXfccUeFWywv4rZs2WLKYN99913ccsstpe9j6SjFHEtbrUQcf+jv72/Set98802Za3AQA/cwduxYUzpafrGnHaevVrTY14697/Ly8rBt2zZTqsrXfv7556Pe8sUXX5ihEOTA/nJDhw5197Ho5yIgAiIgAiIgAiLwrwjUXBH3PGpVcWpqmhFxT2lqqosnTSLuX3399GYREAEREIGaRODg7yn48+098PTxQGiDwApvfe7qT5FTkA1HiQPv/TYdLeu3wTltzzfH927dD83rtcKWAxsx6v1b4ePli6Hdr0Y0hzUk7sLC9V8jLCgMm3f8hfrRf08RHTFihBlQQEHWu3dvrFy50qTF7rrrLsycObN0L+y19tprrxlp5lzCaR3AQQcc/MBVXsQxSUcRl5SUhPvvv99MMV29ejWYTouIiECjRo3KiLg+ffqY/m2cWkoJRrnGoQ4c7nDttdcaGXjhhRea4QosM42NjTW96thD7qOPPjJ7SExMxIABA4xA4/nZo2727NkmTUfxduaZZ1b6iKlHXE36BupeRUAEREAERODEICAR5/5zkIirmJFEnPvnR0eIgAiIgAiIgCHA/m0rX9yGxA3pqN81okyPM2dEV782AIkZCS6pjRk6Hhd3HmJ+tjdxF+YsnYmdCduQkp2MYN9QdKzfHRMmTUDvq7qWeT8l2eTJk42kYg83ii+KttGjR5t+atbq168fli5dWuEnxomkPIbL1bCGvXv3mv5wK1asQHFxMc466yy89NJLpjcbl3MibvPmzbjnnnvM/9PJ9JpzYo4yjok8puu2bt1q5BzLWynvmNJj4o2LpaRM21H4UQDWqlXLiDum6Til1d2SiHNHSD8XAREQAREQARE41gRqqoi7CNVLxP2oRJzLR08i7lh/I3U+ERABERCBU5rA7m/jsfXzWHj5eiKscZC516I8GwqzbCjMLoatwAH2k/Pw9IC3vyf8gr3hF+oD36C/ZZkrQLZCO5L+ykSD7rVw1kNt4Bv8z3qrndLwdXMiIAIiIAIiIAIicAIQkIhz/yEwEScR55qTRJz750dHiIAIiIAIiEApAVuBHWvf3IX9S5IQWNsP+RnFyEkuRHGBHfZCB+w2B1ACwAPw8vY0wo5CLriuP0KjAxBU1w+enh5liDItdnhrJgLr+KPzbc2rPAxCH4sIiIAIiIAIiIAIiMDxJ1BTRdyFGF+tHnE/4Wn1iHPxeErEHf/vrK4oAiIgAiJwkhOIW3UYv43bjJRdOfDy8YSXnwd8AryMdOOfKeEo4+zFJbAXOVCcb4fDVgK/EG8ER/mhTptQ+IceSbxRwqXtyTHHtxhQH6df17TCkteTHJu2LwIiIAIiIAIiIAKnBAGJOPcfIxNxEnGuOUnEuX9+dIQIiIAIiIAIlBI4sCoFOxbGI+73FOQlF8BR7DDJOIq4ypbD5kBBls2k5gLr+KFOqxAE1/ND+p4cM4G18Tl10PHGZvD2r/w8+ihEQAREQAREQAREQAT+twRqqoi7AOMRUcWpqeklMfhZiTiXD6pE3P/2+6uri4AIiIAInEQEYn5LwrZ5B5G2LxeRLYLBvm4p2zKRl1IIT28P+If7wtOrbNlp+dtjCWteahF8/D3hG+iNeh3D0KhXHbS/qokk3En0LGirIiACIiACIiACNZeARJz7z14irmJGEnHunx8dIQIiIAIiIAJIWJ+GDR/EIH1fLqLOCIO335HkWlGuDak7s5B9KB9FWcXw9PGETxDLVL2MnLO0HEtQmYazFTrMUIfiPAdCG/ij210t0PnmZma4g5YIiIAIiIAIiIAIiMCJT0Aizv1nJBEnEef+KdERIiACIiACIlABgfz0Iqx6fScS1qWhXofwo5JrlGy5SQXIis8z6Thbvt30hmNfOGt5cHgDe8j5eZkpqixP5Xkb9ohEzwdaIzDST/xFQAREQAREQAREQAROAgI1VcSd71G90tRfSjSswdXjrETcSfAl1xZFQAREQAT+twQ2fhCDHQviERzlj6C6/hVupgQlKMq2oTCzGEVMvXFIg70EloTzDfaBb4g3AmqxhNUTuSmFyE7IR+uB0eh882nHZUjD+++/j1tuuQUxMTFo2rTp/xZsNa/u4eGBsWPHYty4cdV8pw4XAREQAREQAREQgWNHQCLOPUsm4iTiXHOSiHP//OgIERABERCBGkyAKbcVL+1A1sE8RJ0R7pJEfmEePl/1PnYd2oZdCVuRlpOCizoOxmOXTTjq+OTMRHywdCY27PsDqTkpCPWNQIfGXTF55gR07duxzPF2ux0vvfQSZs+ejbi4ODRq1Ai33347Hn30UXh5/T3UYfv27Xj22WfNePhDhw7B09MTzZo1w80334y7774bfn5/p+3+jYhzOBx47rnn0KlTJwwdOvQfPxVLlizBueeeW/p+b29vhIWFmT337t0bt912G04//fSjzn8qizhK0djY2AqZrlixwrDREgEREAEREAER+N8TqKki7jyTiKva/5GbXrIfvyoR5/JhlYj733+HtQMREAEREIETmACTcJs+2o+Q6AAERPi63GliejyGTxmAyOA6aBndDn/sWupSxGXmZeC26ZfBZi/GoG5XoX5EQ8QmxODbTV/B29cLW3dsQcOGDUuvMXLkSMyYMcMk2Hr16oVVq1bhvffeA19/8803S4/76aef8PLLL+PMM88076fAW7lyJT799FNceumlWLhwYemx/0bE2Ww2+Pj44KabbgLP80+XJeIo3Pr16wcKvszMTPz111/4+uuvze+ffvrpo5JvOTk58PX1Nf+damv+/Png/ZVflkhNSEg4Je/7VPscdT8iIAIiIAI1g4BEnPvPWSKuYkYSce6fHx0hAiIgAiJQQwk4HCVY+vxWxK9JQ3S3iApLR4tsRcjMS0ed0CjY7TZcML6zSxH3zZrPMOW7CXj+2mno1bqfocr+ct8smoep68fi1VdexYMPPWhe37x5Mzp27Ij77rsPU6ZMKf0ERo0ahWnTpmHTpk0444wzKv1k7r33XiPsduzYgdatW5tjTyQR9/bbb5uEn/OihLv66qvx448/4t133zUSsqYupuDOPvts8wxMnTq1pmLQfYuACIiACIjACUegpoq4cz3GI7yKibiMkv34TYk4l8+uRNwJ95XWhkRABERABE4UArmHC7Dk+a3IO1yI2q1Dq7StykTcJ8tnY/biKZhxx2do3aB96fmYdHvqp7swZfI03P/oveb1J598EhMnTsS+fftw2mmnlR7L3m4s4XziiScwYcLRpa/Om2RKjmWsf/zxh0nLVSTili9fbpJ3v//+uyltDQ4ORt++fc31LYG3f//+MvuwrsPjmHDjYhKPwoipvV27diEgIMAk3nietm3blm7NSsS5EnE8iDKOpZosV+X9siSVq3xpKq/3yiuvYM6cOeD+mNZr3LgxLr/88qPSdDyGUnLr1q2mdPess84yZbY9e/Ys3VdaWhpefPFFMGFI7kVFRWjXrh0efPBBXH/99WU+f16Pqb3ffvsNhw8fRkREBNq3b28+t/POO6/02NTUVIwfPx5MvDHVVqdOHVx22WV4/vnnER7uutTZevMdd9xhypLXrVuHrl27Vun500EiIAIiIAIiIAL/PQGJOPeMJeIqZiQR5/750REiIAIiIAI1lEDiXxn4fcpOeHp7IjQ6oEoUKhNxO+K3YOTb16Jdww4YceEjiAqPRkLaAbyxaDLyi/Lw68KlaH3Okb4bF110kUm9JSYmHnXdqKgodO7cGT/88EOZn+Xl5YH/5ebmYs2aNbjnnnuMnNqzZ4+RYlyuEnFMXDGBR2nWoEEDHDhwALNmzTJpPYqrunXrmnOybJRlqUxp3XnnneZ83MsFF1xgfn/llVca4XTDDTegR48eoISaPn26ee/atWvRsmVLc5w7Ecdjbr31ViP0tm3bVirxyos4Dm1gbzz2wqNQozjbvXu34WbJQZ7rkUcewauvvophw4aZeyQjpu0o2xYvXow+ffqYfVF4UZLxuFatWqGwsBBz584Fk2nvvPOO2RNXcXGxkW5ZWVkYMWKEkX+UcWTOffB6XOnp6UaApqSkGF4UqEwnUnpSTFJ8Ovfvc/4w8/PzUb9+fdMXkJ+NlgiIgAiIgAiIwIlDoKaKuH4ez1UrEbek5BnTw7hLly4nzod3AuxEIu4E+BC0BREQAREQgROTwIFVKVgzfbeZchoY+ffAg8p2W5mI4/sWrfsSsxdPRVZ+RulpTm/QBQ+e9Tz6j+qGJmfXMa+z7JS90PiPl/KL/5ihDCovaCwxZR1PCfTWW2+hQ4cOpadwJeIoyoKCgspchok27oHnfPzxx83PKusR9+WXX+Kqq64Cf73iiitKzxUfH29SZZdcconpWcdVFRH32muv4aGHHsI333yDwYMHm/eVF3GUkZRV3333XYUfCQUgpSCHXliCjAezHxsHQvD9FGJcFG8cHOE8CIMy8vzzz8fBgwexc+dOcxxFHwdWfP755+aeK1oUoR999BH4j/XmzZuXHrZo0SIMGjQIM2fOxF133eXy7WQ1fPjwo/Z9Yn5TtCsREAEREAERqFkEJOLcf95MxEnEueYkEef++dERIiACIiACNZRA7IrDWDNjN4Jq+xsZV5XlTsQt374YC9d9ge7NeyG6VmPEJO/G5yveQ8PQZpj74Xy0G3CkDJXihmkzlq1yFefbkJVQgIKMIgy5ZQBS0lOwYflmhNT3h7ffkQmqTHjxPybRfv31VzP8YNKkSSYFZi13PeIoqCikKKBYYtmiRQuTCuOqTMSxHJQlsLxm+XXdddcZGcXUGFdVRBxLMlmaSZHF93OVF3GcvMr7pYhjQs3Vosx74403sHfv3tJUoHXcmDFjTDKOpbAhISFl3s50HVlwkARLaFkKzONCQ0NNGSzLhZnEY/8+vlZ+kR/LUMmQqcDyi6W3F198sRGXrtaAAQPwyy+/GAFYr169qjx6OkYEREAEREAEROA4EaipIu6caibilikR5/KJlIg7Tl9UXUYEREAERODkI3BwdSpWv7kLfqE+CKrjX6UbqEzELdv2C8Z/9Shm3fU5mkW1Kj3fij+X4pkF9+Lxkc9g4pvPmteZRvPx9sHXU35A/IZ0ZB7MR1F2MYrz7Xhs4U2wl9gw5ZrP4RfijYimQWjQJQL1O0XAx/+IlONiquyxxx4zCS6rR5srEce+cJRSnK7KckrnRdlFqcdVmYhj6m379u2VMmJPN/Znq4qIsxJxCxYsMOkxrvIijpNhhw4dako/KQy5V5aWUnBZi0m877//vtJ9WX34KM8o1phUYyKQf3ZesbGxpgyVi7wmT55sEnRM3LGU+NprrzX74EpOTjYitbJ1zjnnYOnSpUcdws+DJak857ffflul504HiYAIiIAIiIAIHD8CEnHuWTMRJxHnmpNEnPvnR0eIgAiIgAjUUAJp+3Kw4qXtsBU4jOyqyqpMxD3w3s3IzE3He/d+U+ZUGbG5uO6j/ujTuw9++u0H2Irs6NezP7bt3IIZly1CbkohfAO94BvsY369ec5FOC2yFR4/9zUU5thgK7AjOMof4Y0D0fy8KDTtUxueXp5ISkoyaSrnwQ7lRRwTXyyzZPKKQwmYLOOwBgqzBx54ALVr1y7tt1aZiGvTpo3p0cZS2IpW//79jUyriojjtFTulXKP5+YqL+L4WnZ2tknEURb+/PPPZrjDwIEDTUkr74HJMg6j4J8rWr179zZpOZavjh492iTwKMGYaKNo4/kpBnluJtmsxX50lJfLli0z6TWWCzNhx/eztx/LXikKWaLqanFYQ7du3Y76kbWPL774wvTd0xIBERABERABETixCNRUEXe2x7MIq+LU1MyS/VheMlY94lw8uhJxJ9b3WbsRAREQARE4gQiwHPTXsVuQtjcH9TpUPuHS2nZlIu7GaUeSXR/ct7DMXSZuzsCtCy7E2X3PxhfvzsOWr+LwyrsTMX/LB5h+9Tw0b9nMiDWuQ+kHcePUi3Ftnztwa//7zWv2YgdyEguQdSgfIdEBaNitFk4f1hApuYmmhPLuu+8uLY8sL+KsfmccjMBSS+cVHR1thhY4T0WlmOLABp7HeTG1xuM4eZQDIipb7kQcS0CbNGmCWrVqmdJTa7kScc7XYYKNU2I5SZVijgk5DqJgaSpTZu5KPNlzjpNanQc98PzskffCCy8cJeKcr80kYffu3Y2MY3KO6b/IyEgznbX8UA13jzh713HCKvdc0TAHd+fQz0VABERABERABP47AhJx7tlKxFXMSCLO/fOjI0RABERABGowgTUzd2PnogTU7xgBL98jMqyyVZmIe+rT+/D7zqWYetsHaN+oE0ocJcjPLMKinxdg5rbncPfwUbi03k1I3pmFwziAMd/ehCE9huOei8eUXvLN71/AN2s+wcwRX6JZVGvzenpuKiKCIuGwOZC6N9f0k2vQrRYWxM/G1JmvG2lGecZVXsRt2bLFlMEyycUUmrXmzJljxFzfvn3LiCl/f3+TFiufMLOGC4wdO9YMeCi/WKrJ6atclYk4TiLlAIQff/wR3MONN95YeqryIo4lqUzsOS/2lOPUVmtoBAcx9OrVy9wbJ5/yHM7LeV9Mp3FohXO5KPvaMSXIX61EHEVhYGDgUcKRQx3YJ4+95bg4iIH95ZiWY68450VRx/NQNjovDufgPpzlqbtnTj8XAREQAREQARE4vgRqqojr41m9RNwKhxJxrp5Mibjj+33V1URABERABE4yAvFrU7Fm5h6z6/DGFZenzlv9CXIKslFS4sD7S6ajRb22OLttf/O+Xq37oXm91thyYCMeev8WeHv54rzGQxDhGYXYlD34PeMHBPuE4uGW0+CTG4LQ6ACERQfgwx2v4cctX+OiTkPRvlFnbI3bgB83zselXa/EAwOfKSU57vNRyMrLQIem3VE3tB5SU9Kxbs9KbEtZj55n9sKyFUtNiSVXeRHHclOKOJax3n///aaccvXq1Zg/fz4iIiJMrzLnhFifPn2wYcMGPPvss2jYsKGRa5RMTKOxRxoniV544YW44IILzAAEpsOYCGMPOUoyLkvE3XbbbWaQBN9LKcVBD1999ZX5PWXe008/XeZpKS/iWDrKslIm0bhvDlHgYAQm8ljSytJPLvbJYz83TpEdMmSIkXdxcXFmH7w2S1e5nn/+eXNN3gfTdEylzZo1y5yb/+C2RBzZjBgxAsOGDUPr1q1BOUl598knnxj5xh5zXEwHcn979uwxcrBr164mKcc/cwAG7/H2228vc4/8DKZNm2aEHverJQIiIAIiIAIicOIRkIhz/5kwEScR55qTRJz750dHiIAIiIAI1GACtkI7lk/ejoN/pJphCBWl4q597SIkZSa4JDV6yHhc2GEw0mLysHn7ZizYMwcHcncjy5aGAM9gtAnrgoENboZPRhh8AryAkhJ4eHvCO8gDy7PmYmXS90jNSULt0Chc3GUYru59C7w8j4g1riVbfsBPm+ZjX9JuZOamwcfbFw3CmqBrnX4Yedc96HNP29LSVlfDGjhRlP3hVqxYYUorWU7JPmXsEWfOv2RJ6bU2b95sep4xuZWXl1cmMUepxR5xTNdt3brVSC6Wt1LecQIqk2nW+Si6rOXl5WUmjzZr1swcSznF8szyq7yI40TYRYsWYefOnaZXHIUZBeCTTz5Zppcbz8OE3JtvvmkkInvZ8VgKPKb+rOEOlJLjx483STz2eGNZL++VPfOYqLNEHH/ltSnf4uPjTS867p3H8HhLevK6lIovvvgivv76ayMl2YuOAx+YKuSxLMG1FtmTF0Whu8EXNfgrqVsXAREQAREQgf85gZoq4np5jqtWj7hVjnHqEefiaZWI+59/hbUBERABERCBE53AwTWp+PO9fchPLULd9mHV3i7LT5O2ZyHrUAGK8mzwD/GBb5A38tOK4O3vCf9avshOLICnlwf8w3zN+SkAOYjBXuhAYC1fMywiskUwvLzdl8daGzy8MxtMz0wjAAAgAElEQVQ+QV7ockNTNOt7pCz0v16uRN9/fU2dXwREQAREQAREQASOJwGJOPe0mYiTiHPNSSLO/fOjI0RABERABGo4ASa7Nn6wH7u+TYBfqA/CGgVWmUjO4QIkbMpAdnKhSbsFhPuYPmUFWcWw5dsR3jQIeRlFyEstQmh9f84GLXNue5ED6SkZWJY5D0mIMUm69NwUXNBxMEYPnXDUPpIzE/HR0pnYEPMH0nJSEOITjs4te+D1D19A+w7typ7bbjfJt9mzZ5tSTZahMo3GgQdMqVlr3bp1pqyUAxCYBmMfNfZN4xAD9kVzXv9GxHGC63PPPWemuHLa6L9ZvJ+nnnrKlMVmZGSgefPmppyUwxvK94njdTgYgdf+9ttvTZkuBy306NHDlKZGRUX9m63ovSIgAiIgAiIgAqcYgZoq4np6jq1WIu53x7NKxLl49iXiTrG/EHQ7IiACIiAC/w0BirP1s/fiwIrD8A/3RVjjQJdCx/nquamFOPhnOnKSChFY2xc+/l6mXLMwqxjF+XYj9Hiu5O1Z8A7wgm/g3+WmzudJyT+Ep9Zcj1DvWjitVmtsSv7dpYhjn7g7ZlyGYnsxBnW7CvXCGyImdi9+3D4X3v5e2Lpti+nrZq2RI0dixowZpqSSZaOrVq0Cp6fydZZxWuuKK64wZZjsidalSxczjIDHcdADe7JxsIC1/o2IY2ko+7u5mspanU+Vvd048ID7vPfee00p6OLFi03/uYcffhgvv/xymdPt3r0b55xzjikbZakqGXE4Awc9UFS2bNmyOpfXsSIgAiIgAiIgAqc4AYk49x8wE3ESca45ScS5f350hAiIgAiIgAgYAvnpRdgwJwYsVbUXOBDZKuRITzcXi6WlsatTkRGXh6DafvD284Ld5kB+ShE8vD3MQIaojuGIX5eGzLg882eUm+hpnbbYUYScokz45YbCAQce2TLQpYhbsPYzTPtuAp67Zhp6tu5n3m4vdmDB9/MxfcNYvPbaa6V939jrrWPHjiYhNmXKlNI7GDVqlBkWsGnTJjPEgWvlypVGbPn5+ZUel5+fb5JrFFacPFrRMIjqPDrHSsTxnigSOYSBwxKsxZ5sHKRAgdi2bVvzMsUohyJwiAJlI/vBaYmACIiACIiACIhAZQRqqog7y3MsQj2aVunhyCrZjz+UiHPJSiKuSo+QDhIBERABERCBIwSKcm3Y9V0CYpcfRtreHPiH+SAkOgB+IT6liCh3ErdkIWlHFnz8PeHl54mibBtsBXb4R/givFGgkXj24hLELEtGcZ4dgZF/S66KWJvpoodyMWb3EJzXZiAev3pSmUM/WzEb7yyegjfu+Ayto9uX/mzZbyswftndmP7GDNx9zwjzOgcaTJw4Efv27TNDCazF0lMOHnjiiScwYcKR0teKUm5Ml7366qs4cOCAKWut6FgKMSbvmDBjCShlV9++fc31OXWUixNPnfdh7YfHWcMiKMumTp1q0ni7du0yCTZOXeV5LLHG93Xo0MEMkuB0UucBD2vXrjXlppyMyjJULpbb9u/fHwsXLsTAgQNRUFBghi/4+h7p1aclAiIgAiIgAiIgAuUJSMS5fyYk4ipmJBHn/vnRESIgAiIgAiJQhgCFWPLWTOz7NQmpu7KRfSgftnwHfAK94BPkbQYyHNqSiYIsG3wDPOHp42lEXQCHLpwWjOAoP+QX5ePjn97G1t1/IS6PE1TTcVbUhbi5zWNH0U4rSMa3sR9iZ8YGZBamorikCHUCovHirTPRqPbfEm1n/BbcO/ta1Amth5ISBzLy0hEWGAGHzQF/nwCsWv4HmnaINudnUoyTTynQKMesyZ8szaTYYgkq+6txVSTirr32WlPuyR5s7Bvn6lj2feMUVooxlrg2aNDAiDv2XiNHTletW7cucnNzzWRRlqWeffbZuPPOO8352J+Nk1Ap45wnrXK//v7+ZsorZdvcuXNx6aWXmve0adPGiLS//vqrjIjjtTiNdcCAAfj+++/NsaNHjzblpzw/5SPLc3k+puQoGXv27HlCP/1MKz777LP4448/TKqvc+fORjRyKquWCIiACIiACIjAf0Ogpoq4HiYR9/fE98roZpXEYo0ScS4RScT9N99LnVUEREAERKAGEKBISt+Xi0Mb0015aVZ8nhnAcHh3Ng7vyUFAhC+CIv1Mai64nr8RcdYwhsSMeNw4ZYDp+9Y4uCW2ZKx2KeJyijPx3LrbYXcU45zowajlVxcf734NXh7e8PcNwNsj5xrxZq2H378Ff8WuO4r+uc0H4sPP56BB11rmZ02bNkVaWhpYisqeaJQ4lDqffvopQkJCTF81lq+6kmt8bfv27aY0lSkyCjRrlZd2FZWbMtHG0tdx48aZoQ9clZWm8jgKp/POO8/0tKPgy8zMNCk77pny7JlnnjHnu+yyy4xoY7qP90Ipx//eeOMNU4rL61LScXEoxDfffIPatWsbAUi5yB5zTMxRHq5Zs6a0RPdEe6R//vlnXHLJJeazvOOOO0zpMIdq8H8czJs3D4MHDz7Rtqz9iIAIiIAIiMApQUAizv3HKBFXMSOJOPfPj44QAREQAREQgSoRYBIuOyEPy1/bhZTd2WjQrRa8fV33kCuyFSF2+0EU7PCGT6gn7v/jYpcibkn8N/hsz1SMbD8eHWr3gr3EjnuWXYjmAWdgb/5m3H3RaFx+1g1mfzFJu3DnzCtQN6weLjvzOkTXaoyYpN1miqrNUYxv3vkRg2+90BzLKaJMmzEB5rw43ID91ZiUY3KNq7xcowBjUoxJOvaSo7SzljsRxwEKhYWFJg1HqdaiRQuTZuOqTMRRkq1YscKk1G644cj9Wuuqq64yP2M67t1330WTJk3MNNfu3bvjlVdeMaLxt99+w4MPPmiSd/w5y1a5eBwHObA89Zdffik9J8tpOcDhyiuvxBdffFGlz/94H0ShyP58O3fuRHh4eClD9vOjZGXZsdW773jvTdcTAREQAREQgVOZQE0Vcd2rmYhbq0Scy6+BRNyp/LeD7k0EREAEROC4Ezi8KxvLXt5u+r9FNDlSrlnRSovJQfz6NHgHe2LUatci7ocDn2J+zGw83mU6moS0LhVxrQO7Ymfeejww8Blc2vVKc4lnv3gQK7b/gonDp6N7y7NLL7tw+VeY+uuz6NWtD1auXW5ep8RhSozlqc6LE0UfffRR0ydu79695kfOco3yjmWPq1evNgkyHuPc940SiCWeTKNxuer75nw99nhjcsvq+0ZJRwn4448/lun7RnlmicGKeFJGhYWFmWt/8MEHeOihh4yQ4mI/Od7b2LFjzWTWiIgI05euqKjICMAhQ4Zg/vz5ZU7NlBylIzmxFJYltkzKOZer8vwvvvgifvrpJyO+eL527doZ6Xf99deXOR+vx7JRSkEOueAe2rdvb/r1UUpaKzU1FePHjzf7YTqvTp06JuX3/PPPlwo3XjcyMhK33XYbZs+eXeY6LLVlyS0Fo/N5j/uXQRcUAREQAREQgVOUgESc+w+WiTiJONecJOLcPz86QgREQAREQASqTGDvkmSsnrUHQXX8EFir8gEMWQn5iFuTCng58OCfl7pMxO3P2oEXNtyD00LaYljzEYjwq4MnVw9HoGcIgn3DMGPk5wgNCTX7u+zF3sgrzMWPz2wss9/0/bm4as5ZiIyIREpaivkZZRrTbJRHLMFkUoxlmJwsShFEgcPSRy5LxDF5df/995sBB3x/dna2GZbg3PeN01SZeqMMo0D68ssvTSkpk1mUXTy2Xr16Jq32wAMPICkpyfSYY8qta9euYCKP0ozyi8MVWrZsafbA1F1cXJwRXCzHdLU+/vhjs9dt27YZiUcpxnLNW2+91UyM5R6sXnbshUehRmHHklznclWe+5FHHjFpOpa8coosGTFtR14UXH369DFbWLdunZFkw4YNQ6tWrUzajwk/JvTeeecdc20upvUo3bKysjBixAhzP5RxZM598Hpc6enppj9dSkqK6ZNHIbpjxw4z7IL3xFJc3lNiYiLq169vSm05wMJ5MdFIji+88AIee+zonoNVfph1oAiIgAiIgAiIgEsCNVXEdfN6BiFV7BGXXRKLdfbnzP/py97DWn8TkIjT0yACIiACIiACx5DA5q/isP6DGES1D4O3n+uyVOtyhdnF2L/8MAryi/DolkEVDmtYnrAI82PeQa4tq3SnId7heKL922jfrxkCwo9M+Lz4+S7wgAe+e6psyu3Q5gzcNPccI6Gyc7LNsUytTZo0yYg1Z5HDvm8bN250OTWVQxMooSi8Bg0aVCq1rE2x7xtlExNmFHHsXcZ/fDElx+EQlFPOi4kwSjjKOg5yYJ86yjL+ngkzCjf2f+OirOJAgpkzZ+Kuu+5y+YlRtjEFx55vVn8056mpTJhRmjlLN8qy22+/HW+//bb5lcuarhoaGmp6zB08eNC8TsHIYQ8UYBRiXBRv3LOX19+fNctuWfLK91FeclF6ku3nn38OltJWtChCrT5vLB+21qJFiwxz6/7ZI4+ik+nBDRs2GGFoLfJj3z5Xku4YPuo6lQiIgAiIgAjUWAISce4/eom4ihlJxLl/fnSECIiACIiACFSZwKbPDuDPj/YjulM4PL09K31fiaME+5YmIyMhF4/vGVKhiNuQsgLLExaiXUQ3RAbUx6ytY82whsaBrfDCDbNQK+pIf7CBE7ujsLgAU279EO0adTKvOewl+GbRXEzfOM6UQlqlmhRDnLB54403mhJKpuCYdFuwYIFJW/HnHTp0MOdgEowlkFxvvfWWGQzgvJz7vvGcFFCWiKPU42vlRdycOXPAVBqTb/Hx8aWnY2KO01Eps/iPXKbGuFjSydJMyijusfxirzS+zr1RZF133XXmEEvEMUnXq1cvk2ijwOIwB0pDJs9Y9ko5x2QchRplHlNwFIo8z+uvv156uTFjxhgeLFmlpHNeTOCRBSUZxR5lJ4+j0GNZKst0ec9Tpkwxr5VfvGfujWnE6dOnH/Vzis2LL77YiEsultmyVJbn5J7Jkgk/luByL67KVqv8IOtAERABERABERCBCgnUVBHXxevpaiXi/rSPVyLOxVMkEae/XERABERABETgGBL464sD+PPD/ajXIRxePpWLOF728M4sxG9Kxejtg12KuA2Hl+Pt7eNxQcOr4Oflj5ISBxbGzkGkb32kFh1Cp8ZnYcTFj6BxRAvcOuNSJGbGI8A3EIO6XY3oWo2wM2Y7ft4+H/AoQYuWLcy0U2uxRHLWrFmmdJSijCKKvdrYD23Lli2lPdpYhsqEGksmWfLIxSQb011MY7GstfyyRFxBQUFpqSmnozJNxv5yTKdRWrFks7LF8limy9hXzep3duGFF4LpPIqw2NhY/PDDD6YvG0tbKaQo+TjUgRNROWmVYo8CjhKSkoo92SjgOCiCP6Oso2Bkzzum1Zis4/GVLf6cYo3yjGKNSTUmAvln58X9WcMsKPEmT55sEnQ9evQw5b2c0sp9cFEmsgdfZYsDJJYuXWoOYYKQ/fw4DdbiyMEUlJZMDbL0l/eiJQIiIAIiIAIicGwJSMS558lEnESca04Sce6fHx0hAiIgAiIgAlUmsPP7Q1j77j6ENQqEf6iP2/exPHXfiiSMWuN6WMMrGx9EdnEGiuyFSCtMcnm+G9uORtfQ8zF9++OIy9uNlqEdzK+ZhakI9A5Bt5Y98VfianTr3s1IK2sx8UUxxGb/TLFR4lxzzTWmZJVprgkTJphD27RpU1pi6WoDlF0cZECBx3QWE26WiLMmofLcFHYURjyWAwWYUKO4WrhwYelp+T6Wyu7evduUfVriacmSJUaaMb1H4bV161bz3ujoaNOvjUk4ptDYI45923gPFH68L5bksiSVCTJKL/a2++6770wCkKKP12TZKBdFJQUXz00pSXHoalFcspedNRiByTmKNSbaKNp4fkowi4N1Dt4X73fZsmVmSqs16ZXvt/q+USCyRNXV4kAKlvo6L0pR8mDvON4Hz8vkHPvKUbZqiYAIiIAIiIAIHFsCNVXEda5mIm6DEnEuHzyJuGP7fdTZREAEREAEajiBhE3pWPH6LpOGC40OqBKN+E0puGX+uegReT5uPf3xMu8Zu+Ym8+dne8wxv7KcNS+9CJnxeXgh43o08W+LWxqMh5evJ35Ifh+/pXyB0c3fQZhHXRTn2+Hj74WA9oV4aMEVGDN6DCa9OKnSPVkllHfffXdpeaTz1FSWR1r9ziiqKN6cF8UYhxZQnHFZfd9uuukmI8mcF8tMeRyTapxkWtmyRJxzLzfn41kCyhLTWrVqlUmzOfeIc3V+CjemyjiYgWKOso+91Zgy4zRYDpaobLHslpNarfu1jmX6j8MSyos453NxMAOHVlDGMTlHVpyESlHpLEyr9BA5HcQkHGXmnj17zLAHLREQAREQAREQgWNLQCLOPU8m4iTiXHOSiHP//OgIERABERABEagygZzDBfh1wjZkxeebgQ1VWYX5hRg0uRu6hpyHW894vExJ6/QtT2Nz6u94tNMUNPRpjZyUQhRmFWNzzkrMLXwVFzUajsHNjvRvO5izFy+svwt9GwzFZQ3vRs7hQgRG+mJB0iwsOTAPbz04D5fd2x+RzYJNGWTdunWP2t7o0aNNyovSjPKMq7yIY9kqe6qxVxrLWq1l9X3r27dvGTHl7+9v0mIcouC8OIhh+PDhJqk2bty4o/bivMfKRBwnkbKk9McffzRlqex7Z63yIo4lqbVr1y5zLfaU49RWa2gEBzEwrcd74zAH50EIfKPzvphOY+LOKhflz9nXjv3n+Ksl4igKAwMDjxKOLLvlEAqW6XKxpJSykak2qxTX2ixFHc9D2VjR+uuvv4zI47CKzz77rCqPn44RAREQAREQARGoJoGaKuI6eT2F4CpOTc0picVG+/PqEefi2ZKIq+YXToeLgAiIgAiIQGUEmLBaPWsvti+IR72O4ZVOTv1mzSfIKcg2fd8+WDIdDYNaoL3fWfAJ8kanur3QMLg59mZuxaubHoK3hw+6Bw5AmKMuku0H8Gfhz6bs9PHubyHM928x8+mu17Di0CJ0DTkfraM6INF3D37dtgDntboM17R4AFFtQ9Hp6kYYNfF2M6ChX79+ZvImyxspsjgVlaWe7MnGEkuu8iKO5aYUcUlJSWbqqnPfNw6E4PmcE2I8H3vJsYSVJaoUgJRMZMUeaew1V1HfN0oyLkvEcQAB98z3UkpRPH311Vfm95R57I/mvMqLOJaOsqyUSTTumwlADkZgIo9lqSz95HrsscdM2S774g0ZMsTIu7i4OLMPXnv58uXmOA6Q4DV5H0zTJSQkmL57PDf/kW6JOPbEY5nosGHD0Lp1a1BOUt598sknRr6xxxwX04HcH9NslIPse0cBxz/PnTvX3KM13ZXikDKU12WSjuWp7HXHZCDPXV446psrAiIgAiIgAiJwbAhIxLnnKBFXMSOJOPfPj44QAREQAREQgWoRiP8zDb9P3wN7kQO1mgVX+N4bXr8ISZkJLn9+XZOHcHbTSzj3E3sTd+Lb2A8RX7QHOY50+HsEo2VgJ1ze7g5EBjqVTpaUIDezEL/EfYb1uT8jozgFtQLr4tyWgzGow/XwKPEySb16p4ciIWojFi37yogsJrfYX4y94K6++mpTmsk/W6u8iOPre/fuBSeRrlixokzfN5ZFcjmLuM2bN5ueZ+vXr0deXh6cE3OUWpRHFEqu+r4xmWadj8LJWpxuysmjLL2k6KOcOv30049iWV7EsXfcokWLTM879oqjMOPgBw5wYNmt86LoevPNN41E5BRSHkuBx3Jc9mDjopQcP368SeKxxxsHOPBeg4ODTaLOEnH8ldemIGMPPfbT4955DI+3pCfPSan44osv4uuvvzYlq+xFx4EPTBXyWIo2Lu7rkUceMZ8hU4EUoFdeeSVYFutqKmu1HmIdLAIiIAIiIAIiUCGBmiriOng9Wa1E3F/2CUrEuXiKJOL0l4sIiIAIiIAIHGMC9mIHVk7bhb2Lk1GnbQj8gt0PbbC2kJNcgMM7spCTVIASB+Dl52nKUdnvzTfIG7ZCBzw9gaAof/iH+x55W0mJ+XleWhHs9hJ4eHvAN9gb8PAA9wIO8vQAvLw94eEJFOXYEN0xAheNbY/6VSyfPcaIdDoREAEREAEREAEROGkJSMS5/+iYiJOIc81JIs7986MjREAEREAERKDaBNJicrBq2m4c3pWN6E7h8PT2rPI5bIV2pOzKRkZcHtJj81CYY4NPoKfpVeawOYyAC6zjB4etxKTuivNtsBWXwF5cAg8fD3Mtb38vePt6wtPHAx6eHkbGUcrZihxGxPF9LFPtPbIF2l1SH74BR8pQ/6vlKlX3X13rWJ/X3cCHY309nU8EREAEREAERODEJlBTRdwZXk8iqIo94nJLYrFZiTiXD7JE3In9/dbuREAEREAETmICO384hC1zD5p0W70zwqol43jbiVszELc2HcUFdniY1JvDJOQCInzg6eMJm2chfkv+GgdydiG+cA9y7OnoGnkBbmz/2FEDBtILkvFD7IfYlbEBWUWpCPIMRxPf9hja+Rb0GdQNna5shNr/X0bLnmQc2DB79mzTF40ljyz95HRRloRaiz3V2PeNJaecMGqVW7J0k1NX3ZW3VvWjdTgceO6559CpUycMHTq0qm876jirz5z1A5aDcuIpS0TZl43956pS3vqPN3ASvPGZZ54xpbYNGjTAwYMHT4Ida4siIAIiIAIicPwJSMS5Zy4RVzEjiTj3z4+OEAEREAEREIF/RMDhKMG2+fGgkMtKyEed1iHwC6lamWqJowQxK1OQFpsD/2AfMynVL8wH4U2DTIkqU26H0uPxyKIrEOJVCw0DW2B79hr0iLoQ17d5rMx+c4szMWnd7bA5itEnejAi/evhcF48ViQsNMLu6bPfRfszW6H7DU1NqerIkSMxY8YM07+MPdpWrVqF9957z7zOnmnW+umnn/Dyyy+bgQYcwkCBt3LlSnAa6qWXXoqFCxeWHvtvEnHsw8ZhCpziyvP801V+4AMFnzXwgf3Y+HsOXig/wZUTTX19fc1/p/LavXu3GcJBQcmhFRJxp/KnrXsTAREQARH4NwRqqog73STiGlcJXW7JAWxRIs4lK4m4Kj1COkgEREAEREAE/hkByrg9Pydi10+JSNmZDf8IX4Q1DKh0miqvlJWUj5jlh1GYaUNAuA+C6/mjbvuw0r5w+ZnFiFmbiMT4ZNSrGw1Pf+DBZRe6FHHL47/Bl3um4o7243FG7SPDD7hW71uMj+Mm4voeD6BP5FDU7xCO8HMK0G9gTzOwYcqUKaXHjho1CtOmTcOmTZuMrKls3XvvvUbY7dixw0wI5TqRRNzbb79dOnnUug9KOA6q4ORYDo6ghKxpi8MgKGYLCgrMlFaJuJr2BOh+RUAEREAEqkpAIs49KYm4ihlJxLl/fnSECIiACIiACPxrAmn7c7F13kEkbctEdkIBvAO8jGDzC/E2/dxM/zc7+7fZUZhdjKTtWcg6lG8EXGSLENRqHgwvnyN95njcgTVpSI3JRUCEL3wCvGAvsVco4n4+8CkWxszGI12mo3HIETHGtTt5M6ZtfwC3nPkYBva82vSzW5r3MT5d8hb27dtnJoBai1M/WcL5xBNPYMKECZXyYEqOZax//PGHSctxuRJxy5cvN8m733//3ZS2ctIoJ6pOnDixVODt37+/zD6sCztPXmUSb+rUqSa1t2vXLjNltF+/fuY8bdu2Ld2rlYhzJeJ4EGUcJ6eyXJX3y8+Eq3yPOF7vlVdeMZNSuT+m9TjV9PLLLz8qTcdjKCU5EZalu2eddZYps+3Zs2fpvtLS0syUVCYMyZ0TWtu1a2em0l5//fVlWPN6TO399ttvZtptREQE2rdvb6a+nnfeeaXHpqammhLT+fPnIyEhAXXq1MFll12G559/3qTdyi9OiOW1OIH1rrvukoj71994nUAEREAEROBUJlBTRVw7ryeqlYjbZp+oqakuvggScafy3w66NxEQAREQgROKgN3mQNLWTBxcm4akbVkozCxGYU4xbAUOlJSUwNPLw5Sd+oZ4I+NAHjIOFaBZvzrwDy1bEnl4dzYObck0w1ADI478rDIRF5u1A69suAdNQ9piaPMRqOUfhcP5CZi3dwYKCvMw9qJ30LxrA6QfyMOk7+/DoYIYpKQnH8UuKioKnTt3xg8//FDmZ3l5eeB/ubm5WLNmDe655x4jp5iqohSrSMQxdbd582YjzdiT7MCBA5g1a5ZhQXFVt25dc06WjbIs9eyzz8add95pzse9XHDBBeb3V155pRFON9xwA3r06AFKqOnTp5v3rl27Fi1btjTHuRNx7G3Ha7EUddu2baUSr7yIY+kqe+PxeAo1ijOWdTItyGtY65FHHsGrr76KYcOGmXskI6btKNsWL14Mltyee+65mDlzphFkPK5Vq1YoLCzE3LlzsWLFCrzzzju49dZbzSmLi4uNdMvKysKIESOM/KOMI3Pug9fjSk9PNwI0JSXF8KJAZTqR0pNikuLTuX8f77dNmza47rrrjBDkXpWIO6H+6tBmREAEREAETjACEnHuPxAm4iTiXHOSiHP//OgIERABERABETjmBPLSCk3fuOxDBSjMtoE94TiAIai2L0Lq+2PVrL1I2p6Nhl0iylybE1X3Lj+M7KRChEb7l6a2nEXclS3vx+K4LxCXvQtxObuQVZSGpiHtcDj/IHJtWaXnax7WAQNCbscGxw/Yl7cJaTkpps9bgF8gli1Zic5nnl7m2pRwVnLNeYgDBRPTV9aiBGLqiykrCie+JygoyAgy/tlKblGU8XXnxUQbS18pux5//HHzo8p6xPEaV111lbnWFVdcUXqq+Ph4kyq75JJLTM86rqqIuAULFhiR9c0332Dw4MHmfeVFHDnUr18f3333Xen1LDlnvcB+chR0zZs3NyKNgyAoDym9OBCC7580aZIRcSyH7d+/f2D/7K0AACAASURBVJlBGJSR559/vikP3blzpzktRR8HVnz++efmnitaFKEfffQR+D8SeH1rLVq0CIMGDTLij6k3a1HgffbZZ0bWMZV4LEXcxx9/bEqaeQ+8pxYtWhg5yOEfTAhqiYAIiIAIiMDJSKCmiri23o8jsIo94vJKDmC7bZIScS4ecIm4k/Fbrz2LgAiIgAic0gSYnPv2ib+QsicH0R3KlhGm7s/FwT/T4eXjUWbwg7OIu7jpTXh29XUI9Y1Eo+CW2Jr2B1qGd4KXhzfaRHRDnYAGSMiNweIDn6HIUQR/7wAM6nkN6oU3xNs/voSC4jwEB4Vg6/YtZgiDterVq4ekpKSjhjiwpJGJNYq2X3/91fyDi6WdXJyeyhJXJrworkJDQ03azfm8PI6CikkwyhqKOgobvoerMhHHclCWwLKksvxiwov/UGZqjKsqIo6yivdBkcX3c5UXcZRnTLXxfphQ47JEHMtyKdw+/PBD/PLLL7jwwguNfAwMDDQlquzDNmbMGJOMY0kqByMwNWhNo6W8IwsOkmAJLUuBWTJLblaZLpN47N/H18ov8mMZKhkyFVh+sfT24osvNuKSa8uWLSbl+MEHH+Daa681rx0rEccS5qeeesrcM6Um98bEIctqH374YTPoQ0sEREAEREAETkYCEnHuPzWJuIoZScS5f350hAiIgAiIgAgcVwIc8PDt45uQvDMb0R3DS1Nv3ETM7ylI3ZuD0OgAMznVWs4i7upWD4KTUsP96pSWrAIeGNP1LUQHNyt9z5e7p2F5wnycGXUhxo54xbx+94zLkJOdi9T8Q6askn3KuFhC2qFDB0RGRpqSR2u5GuLAZBqFC8UTJ61yWT3i+PvXXnsNDzzwgEnKUUpxuipTaM7LuQdcZSKOqbft27dX+vkw5cf0VVVEnJWI469Mj3GVF3GcDDt06FDDgcKQYo7pvk8++cSUqPI1JvG+//77Svdl9eGjoKJYY1KNiUD+2XnFxsaaMlQu8po8ebIReCzDpeSiQOM1uZKTk40IrGydc845WLp0qTmEv+f9WX/ma8dKxLG0uEmTJqZ01uq3R8HYpUsXIxUzMjKO6/dKFxMBERABERCBY0Wgpoq41tVMxO1UIs7lIycRd6y+iTqPCIiACIiACPwLAkV5NiRsyUR6XB4yE/Kx6as48/uwBoHwC/KCf4iPGcpweEcWCnNsCK7rX+ZqFfWIs1739wrC5D4Lyrzn59hPsHD/O2gefjqmjTpSvvnUR3dhR9xm5BVlY8rLb+D+h+8xr3MYAIcfsE/bsmXLSs/jaogDU1BMQ3HyKJNfXM4ijn3gWJrIMsu9e/ea3mlMflm905hg69q1K9atW2fSaezHxvJGyjSm8pyHDrC3GVNk7DdHoUcpx/cwZUZxyLJQJsgogiwRx+snJiZi9uzZJi3HVBt7tLE886uvvjJSjedhzzmm0SjXxo4dW2YQA8sreW+UYBRzVgKQJZjs8zZgwABwGAVLXLlYVsoSUPa1Gz16tHmNgpDHsUyUe2ICr1evXqYHH+UVRR+P6datm3kPe+FxcT8UnWRqiTum44YMGWIEJ9lRFLJElftispCJQXKhwGPp7+uvv27KXi1pSla8JuUpf6X8jI6ONtKMr1kikNdnopGfCZNt7FfHxOMdd9xhpK1zuSk/A5bcMmXovCgPKXY5REJLBERABERABE5GAhJx7j81JuIk4lxzkohz//zoCBEQAREQARH4zwjkphViz7LDOLA+3Yi3vPQi2AodyE4uQFZ8PvzDfI70j/PyYKgNhenF8AnwRHh0ILx8/+6x5V7EBWJyn4Vl7iMmbRte23wfAnyC8Nz1MxAVHo13f3kNSzZ/izrB0Vj2wyq06d3EvIfJKYolV1NTyw9xoHyiCOLrFEYsh6RI4yAASpuNGzcaQUQRx95pHEjAvmkc8EAZRcnDpBsTZdbQASbmOJCAU0edhw5QJFGw3XjjjUYQVTb4wRJxTLBRIlEIDRw40KSzKMIomyjguF9KQV7HSvQ5iziKP0oq7ofyjwm23r17myEILEllqS7F4BtvvGFSf5SHXByaQMnH8l4uaz/s48ZSXf6Z++c/7nldyjMyIEvuiUlCLl6f97BhwwZzLQ6qYFkvJVhISIhJmllCj+WfFIwUfkyn8drkTRHJNCM/k8oWp7LyHnl/XCwDZu867pflyPw5WX7xxRemDNm5HJZsuX/ugZKQnFgSS6lLNjxeSwREQAREQARORgI1VcS19B5TrR5xu20vqEeciwdcIu5k/NZrzyIgAiIgAic9AUqJ/atTseXbQ0jckYXiPDvC6vsjKNIP3v6eSIvJRdz6dPgGeZkknMNegtyUQiPnPL084R/qjaBavggI82HtZIVTUy1BR2APdpqK08KO9DTjWhv3Kz7cNwG+Xn4osheWYdq32WDMfvdttOhb17xeu3Ztk6hisovpKS6WQbL8kKkpTvRkyomL6a2XXnrJNP5nvzPnxX+4sicZe5MxmcXEGpNlFG/sLcdBBEywsTSVSTVr6AB/T3FGyec8dIBJsOHDh5vBDkzsOa/ygx8s8cV0HMUQk2JWySSve80115i3z5kzx4g9puE4VCE/P79MIu69994z+6ZkZI86Lv46b948TJ061Ug4SjnKMKYCKb6sa7LklectKCgwk1kp1Jigo6zjz8LDw40c4/t4z0zsUVpSxPF97DXHNBuFKJOJlIEUYxRknLLK9By58nNijzqKTOeBGEzYUTJSrLGPnDXg4ttvvzUJO6YEWZJMUUc5yfu3JByfWX72nLjKFKDz5FVrQizviSlFLp6DqULuw1r+/v6m9x0FopYIiIAIiIAInKwEJOLcf3JMxEnEueYkEef++dERIiACIiACInBMCdiLHfjzyzjsXpqM9AN5iDwtCMF1/Mr0givILkbMihQUZheXlqEWZBYjMz6P3g224hJ4+3lik/0HlAQWogQl+D52DhoGt0DH2meb/Z4e2RP1gpriwWUXwgMe8PXyR5/owajtH41DuTFYeWgRfDz90SK6Nc5qey6iazXG/qTd+GTpTNgcxRh8/hUYfM0AI10on5hwo1yxFktEKecoipjIevTRR80EUA4noIxp1KiRSWKxfxnlFsUXRRGFGCUOhdGBAwdMaSrLLinumO5iyoqJKybcrKEDl156qRF9jz32mJFDTHMxccUkFstDKdI4GIGln0zWcU8cHMHprpRdvLYl4rj/p59+Gi1btjRyi8kzlqQydUcR5tyvjgk99n5jiovlq1yWgKIM4z0yUcfUF4UdZSLFJBf3yn5ulGEUf5SIq1evNr3dOFWVk2a5N0tGchIq90npxpJPMuA/9C0RRzYjRoww5aqUa/fff7/5bPgeisNXXnnFlA5TdlH07dmzx4gwlqryPUz78RwUpfyMWBrK83Px86EAZaKNCTqWDLN01XmRU8eOHY0ItAZZWD+n+KMQZNKNJbFc5EgGTPCxZx5lLYdC8HPhJFvnKbfH9Aumk4mACIiACIjAf0ygpoq4Ft6PVSsRt8f2ohJxLp5Fibj/+Auq04uACIiACIiAMwFORF336QHs+DnR9Hqr1zYUXj5/l5g6Hxu3Pg3JO7IRXNfPHFOQVfz/iTgPePp4oCjPjhlpdyHTcWQqaPl1XetH0S3qAiPiKOU4NTUuexcyi1IR6B2CSK8GOFC4HdPu+gKnRbUqffuKDb9i4oJRCAsJR15BrhFClGUsx7TEDQ+m/GKKilKHkoUijQKO6TbKKx5L2cbl3COOiS/KIMoeyhiWqlIe9enTxyTp2OeM8oapssqWNXSASS2+j9KLYrD8ouyi/HEWcTyGk0qZqGPJKK9N0cc9UaxZi+9jn7Nhw4YZWccUIEUgpST3mJ2dbf5cq1YtUypqDWuw3s9STPZY48+saagUmOypxh5q3BsTY0y3UYbFx8eb/mxM0LGUlHthWo0ii0Ju0qRJJrVWfqCD8z2zxJbSjJwpKnkODkko/x6WCTMdx0WRymmqLDMlF8pMij1KTopRLp7r6quvrvQzeeaZZ0xpMcUfhSPLbvk+a3EPZM1eepSkZKAlAiIgAiIgAicbAYk4958YE3ESca45ScS5f350hAiIgAiIgAgcMwJbvkvAn58fQH4WJVyIEWxWeWT5i+QcLsCBtWkoyLIhJMoPtnw7MuLygBLA29/LiJXifLspTQ2u7YuQOmUHOPB8LnvHlZQg61AB3k18HEU+OXjrvrJDHDLj83HLnH7ofVYf/LLsR7MtloUy9eSciLP2W75HHMtKWVLJMsXyi+KLAs1q4G8Jup9//tkkqqzF61BwWUMHXH0ATK8xYUfJxH5zTHBxYABLOikF2TONUo9ltZRwXByM8NZbbxlhR3nmvHgtSkFnEUfGlEksH+UQBfZpe+ihh4xkZImttcaNG2cEVHkR53x+ii8m1dg3jssSg5Rf7A1nLd4H+7JxkulPP/1ker5RwDFdxkVpydTdc8895/K5tKQmf8gkIUUpufA9YWFhhgvPV1468l4pP3mfvDZLXcmOMpJMmZSjmGO/PMo0V4v3SF68J6YZKWuZ9HNeFHwsZV27dq35/LREQAREQARE4GQjUFNFXHPvxxDg0ahKH1d+SRz2KhHnkpVEXJUeIR0kAiIgAiIgAv+cAEtRE7ZmIub3FPz5RRzS4vIQXNsPHp4wIi4g1Ad+IT7mtcAIn1IxRzGSuDULSduzTBmqb5A30mNyzDAH/p6LxzBZ5+PvhfDogNLXrd26EnH56UVG5r22/y4z8OHte8sOcUjanom7511gZMvPv/5kTsUyTMobJqgoW6zlampq69atzY+ZenJe3CuHCfC8lD1cFYk4JqoiIyPNcAbr2Io+AQpCijiWz7K80nkxxUeJZok4psTGjBljJJPV+8w6vm3btqa81FnE8WcUXpRsTHAxmcb74DWdlzsRR7FF2cb9cZ9cFYk45/NyPyy35SRTpu+skl4mEHfs2FHpQ0mBR9nIlBr357zYW45CsPy9Oh9DKUlRxjJUpvVYdss/8zkgw8oWS0/Zu4/JSMo752V9BpR+/Hy1REAEREAEROBkIyAR5/4Tk4irmJFEnPvnR0eIgAiIgAiIwD8iUFxgx57lh81QhpSYXMSuSUVWYoGZhOr9/xNPOYShxF5ihBjlGmVcRKNAM7iBSTlbkR0HVqeZJJxfqA8o0QrSi+Ab4l0q7HiOwlwbAsN9ENEwEB6eHqX7LS/iWN5anGdDRJMgzIl5Fmt2L8XLt36Ato06mfdwQuv8hXPx9sZxZSakUjwxAcZBBFOmTCkVaBRLlDSUNtYQB/ZDY6KL/csofKzF0k72gnPut1aRiON7mF5jY3+WbjJd5bwo6tjfjaLJGvzAoQ8ccmAtq+8ZE3qWiGOfNJbOsoSWiT0rjcj9Dh48uLQc1PlaFHDs28ayTAompuKYtHNelYk4Ckn2yuPEUv7D3RpmUF7EsfyXiwMZnNftt99uBj4wZciEGkUYxagr8UhJmJKSgjp16hhxxwQc++FRJFqL1yVPlrBaIo4JQYpP58VyVfJl+SwTjEweMhnH3m98HpiEdF68HktamchjKS4TeLxvTk61FstuKfPIhPfD5KKWCIiACIiACJxsBGqqiDvNe3S1EnExtsnqEefi4ZaIO9m+8dqvCIiACIjASUEgeU82Ns2Lx8G/Msy0U05CTY3JBdNx5UtIKU9sRQ5kZWRjedJXSLbvQ0LhbmQVpqF/x8EY2X8cDv6ZDpaMUpQVZhUjG6lYkf8lYgo2IceejiCPMDT2bY+Lm9+AhrWbYln8fOTbcuAocZghDqG+kSi2F6LAnocwv0gMOvManNGsK5744Hb4ePvi0m5Xo36tRtgduwO/bJ2H8LAIzHjrTSPOuFhyyYEEnKRpyS4r2UVhNnPmzNLPZdWqVSb9xfTWyJEjTaki+6+xJJRih8kq/p4pNqa2eL7ypak8WVpamkmtlR86wD9zQAGTVtyT82LPMU5y5TADlnhSXHGggiXieKwl31huO2jQICOjuH/KNsokVykxHssyUYom9nGj6HJelojjfiioKJwoxJj6ouTjfjgBlqWi1iov4igzyY396Ci8WMZrsWIqzkoGUpDxz8uXLzc99pgwtAZUMIFGBjyGoovyjNKSkpFpPn4O/NzK3yvFIoUnB2Aw8cj3sxSV+6d8tCbKctiENRDjtttuMwMvKOYoQ/mZ8B44nIOL52J/O4pQTpUlEzKgpGN5a/mU3knxxdYmRUAEREAERAAw/8cahyE5D2k6lcFY9ysRd2w+ZYm4Y8NRZxEBERABERABQ4BSbe+KFGycdxBJO7MRUvdIwi1hSyYObc1EUKRfaRquPLK0gkQ8v/o6hHjXQn2/FtiVuwZ92w7Eo1dNMuWnCX9lmKmpyfGH8U7WA3B42NEt+GKEe9dFavEhrM/53kimx3u8gykbRiGtMMnlp9K2YWdsP7jByLdLul2JT5bOwu6ErUjLTkagTyg6NzsLU+dMxtU3XmHKMXNzc42Io7zhQAQOC+C0Uwoe9vpiQsvb+0iprLU4LIAlnevWrTPTOSngKHA4ebRBgwZGHN10001GPFUk4ngupt5Yyvj1118jNjbWSCYmuSjGmLiijKMQYlkpJc+uXbvM4Ah+Dtwfj+W+nUUcz0lhRiFFWXb66aebfVE88ThXIo69ziij2Edu3rx5R3G1RJz1A05FZQ87pu9439xj+QRZeRHHVBqZsScb+VJccf+8LjlT5lmLoozTSyneeM/kyaEalHf8j1x5PUpDTjKllOMxTKNxWuuHH35Y5l7Z040TUynaOJCCJcTkwn54lJXOi8/ChAkTjDzlefnZUshR9t17772lAxi4R56Tk1JZ0szhFuRx9913gyk/LREQAREQARE4WQnUVBHX1PtR+FexR1xBSRz2216qMbKyOs+yRFx1aOlYERABERABEXBDgKWo6784gJS9OajXLgx+wf/H3llAaVlubfieDiZpGLpRBANExQTswMDuQLHQo2LHb2EHBhaKgXpUFAMVVFAEpQy6O4aZYWC661/Xg++cb4YpBHGY2c9aLuSbN573ej9cnOvce+9Al2Jb8VOSK0uNbln5lMjC4nxlFqQpJqSJsjPzdO/vJ6l30+N0+/mPKTwmWExc3boqU59NGasJSa/ojLA7tE/UIfIL9JN/gJ/mb5uuzzOf0untrtWRzc5QYW6R1m1bpVEbbtThzQfp6oF3qGG7BvIL8NOr3z6ur2Z/oJeGjiudmJqyPtuds//ZrfX10vec6KHPF7+WH0LglZTSIw7RtTMLweSJOK7zd5cnsihfLS92kG2Ukk6aNEnlS1b/zv2Qb6S6Pv/8c1F6uzcthCT/rz2lsd6giL1p/7ZXI2AEjIARMAK1jYCJuOrfiIm4yhmZiKv++2NHGAEjYASMgBGoEYGkFRmaOmqlkpanq2XPGAWFBLjz8jIKXK84JpySiKvJorfb8J+PU6/IAbqs991q37eRAv+63vvfvaYPZ7ykSyOfUMvgzpKfRJ+4DblL9EHOvTql4XXq1/wUBYT464fkd/Xdhg/06lVfqU3c/4RZQspGXfHCiTr38CG6dMAw5aTla8vyTHU8sonanh6s/Q/s6ZJUpNAqmgZakYijVPKVV15x5YwIH/p/UZY4YsQIeQMcSJv5DnvwWPj2cUMcvfDCCy6xRtqLFBwJL65D8s1bVYk4jkHGIQnpk4Yw9EpS+dW3NJL7McmTnnLsD0lIEg3x5pVPkmqj/JIkGGWsixYtctNHGTZAis23Fx4ltaT4KGX1TYIxufSiiy4q8/q5Hz3cSKSRLouNjXVlqfTR8+2LR1qOJBsikIQhpbFnnHGGS/KRvKtuUSbK9FSGP9gyAkbACBgBI2AEdo1AfRVxbQJv26lE3PrCpy0RV8FXzUTcrv35s7ONgBEwAkbACDgCDGb4ceRyLZ+6RS32jVLIX1NN+Vn65hytmbXVpdZCI4NqRMwTcQc2HKhBzW9R825Ratkjysmk5ZsW6pbR56ttRHf1b3CpGoc317bCBH2T+IbyinJ0R99X1LJjU4VEBuqxb4dpbdJyvX/bTzvc94Knj1LH5t1196kvaMvSDLXcP0aHDumoY886wvX6QiIhp2oq4hjkQA8ypBnlp5RX0lOOMlHEFb3bKHOlzJSy1COOOEJXX3212xdllMguFn3pEE4XX3yxDj74YCGhKHHk3Dlz5rgySFZFIq68ZLviiiuc0GMwgyfxyh/jlZUyeAKhRgklCUD+kn399de7iaUMaDjyyCNdXzZ6uPGMDFcgbQcnJBe92liU4yLJOI6JrZRo0j+NSa0MXWBP7jtTUOCkW3p6uoYOHerkHzKO+7EPylFZ9GDr27evK6OFV4cOHdzEVKQnz4T4pB+f70JCcn2kICzvuusuVzpaUVltjb6QdpARMAJGwAgYASNQSsBEXPVfBhJxJuIq5mQirvrvjx1hBIyAETACRqBaAosmbtbssWvd9NOGbf7Xy8uJlA3ZWj5jo2akjdfm3JXakLlcGfnb1KfZcTq/2x07XDslN0mT1r2r2Qnfyk/+igpsrI7RPXXRCdeqS6cu7viJv3+id34YqYzcNJ/z/RQb1FTH9jhTF59yjQL8A3TtK2coKCBIL1z9cZn7zF0zyw1qYD101Pva/9B91eeS9vpt1c9O2CDPSJGRfKupiEOUkV4jIcYgBvqpkWjbb7/9XLIMGcSqqjT1k08+0TnnnOOO923mTw86kmskxi655BLXcw0xxURP39LU8pINgUafsy+++MI9F6v8MUyDbdGihb755psyjLz0Hv3SSKdxjaeeeqpUkHFwZmam66XG+QgxFuKN/QYEbE9EsuA5cOBAN0CCiaEsJo/Cif5zPHNlCxlI/zv+0s/gC0QfSTh6yTFcgnQc8vLll18uvQSicOrUqe737IV0H0k++NkyAkbACBgBI2AEdo1AfRVxrUjE+beuEbzc4g3aaIm4ClmZiKvRV8gOMgJGwAgYASNQOYHC/CJNemyJS7217dOwtATSOyN1Y7b+nLZYzy6/3E0vbRXRWYu3zaxQxGUVpOnJ365SUXGBsgsz1C5qH7WP6KlfE75SQICfRt0wXo2jmuvXJZP17e8fKzs7S8s2z1PL0I5Kyt2gEP8wZRWnuUEM1598rys/jW3QSM9cObb0AfIL8nXdqLO0OXW9SlSsd2+fqJOG9lN48wCX0CKZhcTZWRHHDTzJRm85yksRUEgsJmmSCvM9hlRc+R5xCKOZM2e6tBci78ILL3STU5n+SaksewoPD3dlpyTmSOz5ijjEGIMS+IfFYIkhQ4Y4kcW1WOVFHDKPVBsijuevaCHzuP+qVatKhxF4x915550uGceekHa+i3Qde2L/7PPuu+92xzFQwRN9JPFGjhzpPiu/4IdogyGpQKaQ0g+Pnm+Um1KuipwjeUfyzVtMcSMNRxnrxx9/7KQg++fd2jICRsAIGAEjYAR2jYCJuOr5mYirnJGJuOq/P3aEETACRsAIGIEqCaz/fZumvrxCJSVSw7Zl03CcmJ6QoxW/blZOSYaaNWohr+y0okTcL5u+0KcrX9Dl+z6oMYseKJV1M1dM1sfxI3T5MbepRZM4PTFuuG4/60k9/smtOqXP+Tqz8w2aPvNHvbn6HrWL2FfrMhdrxKCxGjXtfpeIe+LcsSrILlJuRqG+mPu2flw/TvKX0nNStHjhUnXft6vuvfdeJ3tIwA0bNmynRRx94W6//XYnvcovZBcJLlZViTimai5ZsqRK3ggmpqUyiIFV0bAG7wJeIu7LL78snf5ZXsT98ssvTvqRsEMYsldKS0888cTSfZx00kn69ttvq9wXMo/+d8gzxBoJNBKB/N530XfPE2JIPCbRklqjDJdpsDwb+2AxwbT8tNXym6Bk1ku/VbZBno8ed5QIly9jtT/eRsAIGAEjYASMwM4RqK8iLi7wVoXUMBGXV7xBmwqfsR5xFXy1TMTt3J83O9oIGAEjYASMwA4Efvtovea8v9ZNSQ0K/V85ondgXmaBVv68Rfk5RYpoFFKliJu8/kN9vWa0hh3wkl7484ZSEbc8Yb5eXfYfXXH4XZq94TulZaXo0G4D9PH0NzR62LdqHttKicvSdf24Y9W55b5asH6OBvW6TKsSF2t96kq9eMYEBYUHKK14i24ee7buHzZCj75yj+tzRj80Umb0Hrv55ptd+SKCiAECpNhefPFF1yMNkUYPOIQbAw1Iev3www8aMGCAS3wh0byyS19IXLtPnz6upxvlpVxr+PDhbtgBKTDfQQzdunVzPdoox6RHGgMOkGC+i/vRV61Vq1ZuD6+//rpLvbHKSzZSd++++65LjXn7JpHmOxyC8yjxvOOOOzRu3Dgn5JBnjRs3dikzEnknnHCC6w/33nvvuVJSEmdcD6nYtm1bV/rJAAhKcylfRUgyXZWebzBhvzCD9/vvv++m0XqLnnA8KyWn3jAF+uWRZMvNzXVlr4i0Bg0auHvzOck7jiX516hRI/Xu3bvKP5mcd95557kBEl4vPvujbASMgBEwAkbACPw9AibiqudmIq5yRibiqv/+2BFGwAgYASNgBKokMPnZpVryfaLa9W1U4XElxSVaMTVJafG5iokLq1LErU9fquf/vF5tIrtrfcYS9Wp8pPrFna4vVr6i3PxsPXjaGD320/YBB01jWmpNwjKN/WsQw4a5KfrPN8friKOO0Lx5c7VP1/3UvX0PvfLeSP308Rx13bezrrrtIm1NSXYyCDnFQsQhtOiVVtVCnDHhk0EMX331lfunYcOGLsGGlKLfGWWTlIP6DmK46aabXJ84RJw3iAGBxcRRyit9BzFQAspxDBVAGFWVdiOxNnHiRNeTjn2VF3EIN9Jk9GzzHcTAUAnkGaWh3kKEPfvss27AApKOXnU///yzk2cISEQWpZ2k4pB+VQ1igCOiLCEhocwgBiQez0avPCbAssoPYmC/JBIRd/BkwEPLli0dK5KAiDmEJWS+TAAAIABJREFUHyKTMl3SbTCkDJjjKlvelNvq+tHZH3UjYASMgBEwAkagegL1VcS1CLxlpxJxmwuftURcBV8nE3HV/xmzI4yAETACRsAIVEqAaalf3rtAyaszFdczptLj4hemKX5hqhrEBssvWBr+83GVDmuYET9BX695U9mF6aXX6xDdU2fE3qGOPVrpnRUPaPayqWoWG6cGoZEaefXHKsgp0oQfvtCbfzyge+65x/U7Y2omZaKIIeQTYouUFgksUmLIG0/E0Yfs+++/d78nCYcco/k/4ggp9fTTTztxRzKL5YkdElkMVTj11FOdbEOcIaq8/m/0cEOCIbdIuTGUgOtddNFFrgyTAQibNm1yaTqSbwxUIC3G+eX7v3FfSjWZvsrieuyTX5FkLC8Rh9DjXpSv9uzZ0w1G8Fb51BzPfdxxx5UZxAA3etDBhedG0h122GFuUASTTykl9RbpOcpD2RvpN9JpfMZf0j3xRTKO/nP8ikBr166d6xVH8vCDDz4oHcTANRnqgIBDIFLeynXgSrIQ8UZ6j+Qik1Upq33++efdHv/8808nVD0+3v6QnvBnmAQ97iiftWUEjIARMAJGwAj8fQIm4qpnRyLORFzFnEzEVf/9sSOMgBEwAkbACFRKICe9QBPuX6C0zblq3n3HZvveidnb8rV6RrITZmGNAisVcdM2fa61aYu0PmOptubGq2FoCzUKbaE1aQvVKKiVhh/5skraJOuuty9XUXGRYiMb64KjrtWSFYs1dcUXLqE2b8FcVyqJGFq5cqWGDh2q1157TRERETrwwAOdtBkzZoxr+E+JJYk4ryeZr2SrbFgDsgcRh9zr2rWrk2iUSyLiSIGlpqa6BFf37t1daSelrq1bt3Z7YxDD/PnzdfLJJ7syV8pBKb1ENJFQY8/0SENgsQYPHuzEFH3VSL9xL68HHakwBCGSiSQe8gtRxjOyd0QXvdgom/UdxFBexFFOivS69dZbXbnrhg0b3PAF0nDIQu7HtZhUSj+3vn37OqEZExPjhjwgzUgEskeOQ3B6CT3kHZIOqchz8hd3T8SR+iNZR0nwFVdcodDQUCfWKAfmOT799FPXp453R3ns0qVLHRPYIQ55txyL+ENoIk6RovBAvpKuQ3KSfqRXHawff/xx+9NsBIyAETACRsAI7CKB+irimgXeomD/VjWil1+8UYmWiKuQlYm4Gn2F7CAjYASMgBEwAhUTcCLugQWu7LQqEcckh7Vztil5ZaZCYgN09+wTK0zE3ffLmcoqTKsU96Cu12jIeTdoTeIy3THmMuUX5EkqUVhglA7u0U9vfDJS7Tu0dzKKRByyi0QUaThKLSkvRYohrihzZOpmTUQcggghRDkq5ZS+yxvEQNqKMlQme5IYo/cb/dJIb7GQbNUNYqCHHKIMKUYvORJ3XIuyy8MPP9yl7ZBbLC8R5+2FyaCcj/AiDcczIsbKD2JA+lHeibRiIRMRVVUtbxADwpHJp8g0BF/5hYxjr3AlqUaJKQvZ1qtXL1dy64m4OXPmuAENVS1vEAPPQdKN/nkwIR2HZEQUkiKkFJhnRlQiLHmn3nRWvgvXXHONk5q2jIARMAJGwAgYgV0nYCKueoYm4ipnZCKu+u+PHWEEjIARMAJGoFIChflF+uq+hUpcnqFWvSovTeUCuWkFWjNrq9KTsvXIqkEViriX5v5HWQWpuqPPmDL3JO1117RT1aXJ/nr82tfdz+4be43rETei/2dq3CFCR13fWU07R7qfkYYiFYWUiY+PLx3EgJzyFsktBjFMnjzZlUoii1he2aknjBBO9CvbuHGjG55AiSXpOqQeko2hBpSwsqqaiOoNYmC4QmWLQQyIOK6H4KuqR9zll1/u9orc49qs8mk3PqOUk0Qcvd4oQ+W56KtGioxn8AYx8PvKFok030EMF154oZNglK4iCrk+4tBj5l0HIYa8RIIy2AI5StqO80kPeoMYkIoVLVJ33iAGnpHSV4Y0kJ7zFkKVvSFbGcZgywgYASNgBIyAEfhnCdRXEdck8D87lYjbUvic9Yir4KtoIu6f/fNpVzcCRsAIGIF6QODHF5dr4deb1a5vQyeCqlrJqzK1YeE23T/3ZPVudpwu6HZHmcMfm32p+/1dB79T5vOC3ELdN3uQujTvpcevHu1+9s4Pz+uTX97U02d8qoGX9lWvQXHuc2QQUo3k1qOPPqq5c+dWO4iBiZyUnLLKizj6qyHiKGel35vvIv3VpUuXUhFHIg0x5fWI8z2WPnIINoYOUPZZ1apOxJH2YuAC5a6k1bxVkYjzvQ9Ck5LWZ555xok5ZB8ltvSYo7y0efPmVe4LuRkdHV36vN7BDGCg7LO8iPO9GElCpsci40jOwYqJp5TxIkyrW/Sso0y2fIKREtXOnTs7ueeV7VZ3Lfu5ETACRsAIGAEj8PcJmIirnh2JOBNxFXMyEVf998eOMAJGwAgYASNQJYE/P9uoWe+uUZPOkQpp8L8m/hWdhAjauGCbrht/tHpFDdBF+92pgED/0kPfXHifFm+doRv3H6l20fuWfj5n3RR9uPZRDTrgcg057RYV5hfrt1l/6NEpV2jwwEv14bdvll6H8lCSbgg4BhUgrbxBDL57osySwQkcS2+08oMYPKm0cOFC1/+NJBcpNG/5DmLwEnH8jLSWN4jB934ffvihG8TgWxbq+3PfQQxViTjKPb1BDOyBfmreKi/ikpOTXWLPd3mDGHh2yjUZYkC5K8/GIIbyMtV3X6TTkJZTp04tvWRlgxgoHy0vHOl3R588T3pSMkrqj7Rc//79y+wTUce7QzaymNjKQAvKdumN5y0mviIWmcrKEAxbRsAIGAEjYASMwD9LoL6KuMaBNyuohj3iCoo3KrnweUvEVfBVNBH3z/75tKsbASNgBIxAPSAQvyhNP76wXPnZRWrSMaLSJ54w+wNl5Wa43mIfTB2lluGd1CX0EAWG+KtXi8MVF9lRa9IWadS8WxToH6TDWp6mxqEtFZ+1WjM3f63wwCiNvOZjhRVFa+vaLMW2Dte4lc9r/JQPnESifJJebiTXEDxM3Kxq0SPtwQcfrLJHHCWrlJsi4hITEzVs2DBXTjlr1qwygxh8RRy93JjgybURfPQ2QzIhIb1BDAwboJQyMjKywkEMnoi78sorXa85zkVKMehh3Lhx7t/ZvzcUoTIRR+koXEiisW8GQjBpFUFGSSulnywGGfgOYkDeMbSBfXDvadOmueMY2MA9eQ7SdJT90juv/CAGhlQwJINhDPSgQ04i75iQ6vtuSAeyP1JtJN4YoIGA8wYx8Iy+5cRnnHGG486xTE1F6jEBF+ZMu/Wd5loP/ujZIxoBI2AEjIAR+FcImIirHruJuMoZmYir/vtjRxgBI2AEjIARqJJAcVGxfnh6mZb/lKQ2vWPlH/C/hJvviVc+f7yS0uIrvNZpTW9S3xYnKCg8QIl5a/X9+ve0IWO50vO3KiwwUu1D99fpPYaoeWycghsEqFnXKPU4paVaHRjlBiKMHj3a9XBDfCFubr/99mqlTE1FHBtmEAP94ZgQSmkl5ZS+gxh8RRwDIuh5xkTW7OxsN8XT+zlSix5xpOsWLVrkJFdFgxg8EefBYhBDVFSUK7lFOvGMPXr02IFl+UTcY489pgkTJrjeavSKQ5ghAO+55x7XF893kZBj8igSkaEIHIvAoxyX6aUspCSDGEji0eOtffv27lnpmYcM9VKE/Mq9kW9MLqUXHXvnGI73FWZIxSeeeMJNSaVklX5v3iAGjqUE11tMd+W6yDfeN70ASQc+9NBDLqlnywgYASNgBIyAEfjnCZiIq56xiTgTcdV/S+wII2AEjIARMAK7QGDltC2aMWa1CnKL1bTL9oEJNVmFeUVKWZ+t1E05ykkrUEFukYoKil15pJ+/VFxcotzUAoVGB6nNgbFq3i1Kbfs0VId+jdWgYUhNbmHHGAEjYASMgBEwAkbACOxGAvVVxMUGDdup0tSUghesNLWC750l4nbjH0a7lBEwAkbACNRfAqTipr26SosnbVaj9hEKjw3eKRicn7klT7nphcrLKFBeVqGKi5i0mq/A0AB1P665ep0epxb7RCsoNGCnrm0HGwEjYASMgBEwAkbACOw+AibiqmdJIs5EXMWcTMRV//2xI4yAETACRsAI1IhA2uYcMUF149xUNe8epdDIqieDVndRUnKZSbnqfHRTHXV9JwUGm4Crjpn93AgYASNgBIyAETAC/zSB+iriooOGKdA/rkZ4C4s3Kc0ScRWyMhFXo6+QHWQEjIARMAJGoGYENi9O04y31yh+YZoatW+gyCahNTvR56iS4hJtXZflSlLbH9pI/YZ0VESj3VuGWpBXpNT4HKVuzlHGljwVF5a4UljkYUyLMMXGhSk8ZudSfTv9oHaCETACRsAIGAEjYAT2QgIm4qp/aSbiKmdkIq76748dYQSMgBEwAkZgpwhsXpKu3z5YJ6ap+gf4qXHHiBqXk+akF2jL8gyFxQarzQGx6ntpu90q4VLis7Vmzjat/X2bMrbkKjej8K8y2BL5+cntExkXFhWkuH2j1b5PQ7XcJ1oBgRUPoNgpMHawETACRsAIGAEjYATqAIH6KuIigm7cqURcZsGL1iOugu+7ibg68B8BewQjYASMgBGofQSytuVp/hebtGbWVqVsyFFQWICimoUqJCpQgcH+bhgDi6mh+dlFyk0rEKWt/oF+atQuQt0GNFO3Y5spKGT3lKPm5xRq/rebtXxakrZtzHb3jGwUotDIQIVEBDphWFIiFeQUOTmXnZrvBkfEtAxzQu6gM1urURubyln7vmm2IyNgBIyAETACRmBPEzARVz1xEnEm4irmZCKu+u+PHWEEjIARMAJG4G8RQLJtmp+qtbO3uVLVzOQ85WUUqjCfqajbL4n8Cg4LUGhUoKJahKn1AbHqcGgjNdyN0it5baZmfbROG+aluvRb43YRCo8JKpWBlT0cIi5lY7ayUgvUonuU9juuufYZ2Lza8/4WLDvJCBgBI2AEjIARMAJ7CYH6KuJCg86Rv1/TGr2l4pIk5RZ8bIm4CmiZiKvRV8gOMgJGwAgYASOwawTox5a8OlPpm3OVnpirgpxC+QX4KTg8UNEtwhTdMlTNuka5klDflZNR4EpcUzbliLLSzK35Ki4sdqm66OZhLrHWsHW4Kx8NDNqxfDRxZYamj1mt9fNSFd0sVLGtwnZapFEum7AsXbGtwtXzxJY6YFDcTl9j1+jZ2UbACBgBI2AEjIARqD0E6puIW79+vbp3767s7Oydegnh4eFasmSJ2rRps1Pn1fWDTcTV9Tdsz2cEjIARMAJ7JQGGKKyYvkVr/9jmJFxOWr4K84oV8FdZa3FRiRNywQ0C1SA2WI3bNlD7gxupc7/GCo3YLvO4xpRRK9w1mnWKdMf93VVUWKyNC1Kd/Ot9Vmv1OK7F372UnWcEjIARMAJGwAgYgb2aQH0TcbwsZFxycvJOvbfGjRubhKuAmIm4nfoa2cFGwAgYASNgBP5ZAgivZT8naeF3CUpcnq6ighI3xbRBw2AFhvyvtxy7oPQ1L6tImcm5Sk/Kc+WmcT1idMBpcWreNVI/vb5KCydtdpJud0xdZW/r56a6ax97YxdX4mrLCBgBI2AEjIARMAL1jUB9FHH17R3/k89rIu6fpGvXNgJGwAgYASOwEwTysgs1Y+xarZqZrLTEXJdiq0kvNyfliktcAo70XNNOEYpuFqbElekqyi9Rs86RO7GLqg+lVDZxeYa692+mATd0qbAcdrfd7K8Lvf3227r88su1Zs0atWvXbndf/h+9HkM5HnjgAf3f//3fP3ofu7gRMAJGwAgYASOw5wiYiNtzrOvinUzE1cW3as9kBIyAETACex0BpppOG7Nay6Ymyc/fT806Rcg/YMeeb9U9WH5OkTYtSlVaQq6Tcz1PaqGAwB0nr+bkZ+uLX9/Wqs2LtSp+sVIyk3VMr9M07PRHdrhFclqCPpr6qhasmeWOiwyJVdeWB+rRp/5PRw/qU+b4oqIiPfXUUxo9erQ2bNig1q1b66qrrtLw4cMVEFD5BNgpU6ZowIAB7lorVqxQp06dSq+7KyKuuLhYDz30kPbff3+dfvrp1eGr9Oc//fSTjjnmmNKfBwYGKjo6Wh06dFC/fv105ZVXqkePHjucX9dF3C+//KIHH3xQM2fOFO/+gAMO0H333afjjz/+b7O2E42AETACRsAI1HYCJuJq+xuq3fszEVe734/tzggYASNgBOoBAUpMScLN+yZe/gF+atoxYpeGIWzdkKXFPyQoKCxAnQ9rokYVTGBNSt2ka0aeqNiIJurYsrt+W/5zhSIuPTtVN79ypgqKCnRC73PULCZOm7as08TfPlZgcICWLFukVq1alb6l6667Tq+88opLsB122GH69ddfNWbMGPH5yy+/XOHbzM/PV69evZy4y8rK2q0irrCwUEFBQbr00kuF0Pu7yxNxCLejjz5aCL60tDTNnz9fn376qft3BFT55FtmZqaCg4PdP3Vtff/99zrppJNcSnHIkCEKCQnR2LFjxf84GT9+vE477bS69sj2PEbACBgBI2AEHAETcfZF2BUCJuJ2hZ6dawSMgBEwAkZgNxBgmMLU0auUkZiruB7RuyTh2M66uSnatDDV7Yz+ch0PaayQBoFldlpQmK/07BQ1imqmouJCDX74wApF3Ldz/qvXvxmhu897QX26Hl16jQmTPtebM+/X4488pTvuuc19vmDBAifUbrzxRo0cObL02Jtuukkvvvii5s2bp/32228HYo899pief/55XXDBBe7X3ZmI290i7o033nAJP9+FhDv33HM1adIkvfXWW05C1ofFu0xKStKyZcsUExPjHhnevXv31rZt27R69WqRHLRlBIyAETACRqCuETARV9fe6J59HhNxe5a33c0IGAEjYASMQBkClKR+++QSrZqVrNa9YhUUUnn5Zk3Qka5bOjVJaZtzFB4dpJz0QjXvFqW2+8dWenpVIu7T6W9q7OSRemrIh+rUct/Sa8z5Y5ZGfDVEj933rO586D/u83vuuUcjRoxwAqZ9+/alx9LbjRLOu+++W48++miZfaxbt0777LOPXnrpJfHvlDnWRMRNmzbNJe9mzJihzZs3KyIiQkcddZS7f9euXd09Bg8e7NJq5RfHkXBjUU75wgsvuNTe8uXLFRYW5hJvXKd79+6lp3qJuIpEHAch4+Li4lyijzJbr4y1fGkq93vmmWf0zjvvaO3atS6t16ZNG5155pk7pOk4hhThokWL5O/vr0MOOcSV2R566KGl+0J4PfHEE/ruu+8cd9KF8PzPf/6jiy66qMyjcz9Sez/++KO2bNmi2NhY7bvvvu699e/fv/TYrVu36uGHH9bnn3+u+Ph4NWnSRGeccYYeeeSRUuHGfRs1auRKcilD9l2UJt9+++2aPHlymevW5PtrxxgBI2AEjIAR2BsImIjbG95S7d2jibja+25sZ0bACBgBI1APCKz4dYt+en2lAgL81bB1eIVPvDP93DZt3qi3xr+g1al/KrMoRQ0CYtQ+uqcuOfU6tW/zv75rTkIVF+nzX9/WD398qoSUjQoLDtdZRwzR6YddpgD/7UJwxaaFun30BWrfvJtLz61NWKbUrK1uYmuQf7Defu4znXvD9n5g9AUj9ZaQkLDDczRr1sz1D5s4cWKZnw0aNMilqihhRcLVVMSRuiOBhzRDgK1fv16vvfaa2xfiqmnTpk5EkVJLTk7WEUccoauvvtrdm70ce+yx7t/PPvtsJ5wuvvhiHXzwwUJCjRo1yv2al5dXuleEWUFBgZN8l1xyiRNQXMd3nXjiie75KIGlFJZVXsRRusozXnbZZU6oIc4Qj3Dz5CDn3XbbbXr22Wd11llnuWfMzs52aTtkG4Lr8MMPd9f/7bffnCTjuC5durg9f/bZZ5o+fbrefPNNXXHFFe449o50S09P19ChQ538Q8bNnj3b7YP7sVJSUtS3b1/HDF4I1KVLlzrpGR4e7pJuFS3Kir0SZeThDTfcoMcff1x33HFHPfhTbI9oBIyAETAC9Y2Aibj69sZ37/OaiNu9PO1qRsAIGAEjYARqTABp9P3IZVr43Wa1PbChAgIrHs6wM/3chr18hvLz8nVQ45PUNDpOSRkbNSfxa9d77oUbPlPjqOal+3vt60dcrzeGNPw470s1j22thJQNOqH3ubrm5HtKj/tyxrt6+7tnVKKS0s8aRTZXVk6GS/AtXrq9TxylivRC+/3333dgcOCBBzoZhDzz1oQJE4SIQwYddNBBLhFWUxFH8qxBgwZl7kOijT1wnbvuusvJLuQWSbuKesR98sknOuecc8SvpOe8tWnTJiegkGRPP/20E24LFy50yTNkIv/Ovd99912deuqppeeRdENoIcKQY6zyIo7zW7RooW+++abS78mcOXOcFCRZ5gkyDqbfHAMhOJ8kIAvxRvmn7yAMvlcDBw7Uxo0bXdkoC9HHwIqPPvrIPXNl6/rrry/t89axY8cy78p7VpJ6LPr+kYojKYcIRNSxvCQispS0oS0jYASMgBEwAnWNgIm4uvZG9+zzmIjbs7ztbkbACBgBI2AESglkJOfpy4cXKi0hRy27R1dKZmf7uZ3b4QF1je6rsKgglxCbtXyKvkh4XFccP1ynHnKxu8+6xOX6z6tn66SDz9flx99W2iMuPCRC38z+UM8N/URtm3Vxx4766kF9/8enGrD/GTq429Fal7jCJekiAmOVlLVBzz33nG6++WYhbpBWpNt8F0LryCOPdCmrlStXuh/l5OS4hBbJNJJsrJ0Rcb7XR1AhpHhWSiyZuIoMq07EUQ7KtE8GLpRfpMJIn3llsr6lqaTRSL+R/OMv4l4JKyWaDC1gYMGFF17oLllexFGyynURcTx/ReuWW25xpbqrVq1ypbK+684773TJOEphIyMjd+AMCwZJUEJLKTDHRUVFuTJYyoVhQv8+Piu/4EcZKgxJBZZfCEB6wCFUkX8PPPCAK5XlmuwZCYucRF7yzisqW7U//kbACBgBI2AE6gIBE3F14S3+e89gIu7fY293NgJGwAgYgXpOYMP8FH33/DKXVouNq7gstTyimvRzG9JtpJqHdFJ4zPZJnYvXztV764br6hPu1Yl9t6ehxk5+QZ9OH61Xh32jxtHNS0XcuUcN1dAXTtJZh1+liwYM04wlP+ipT25TSUlxmT5xvy2drkc/us5dC5FGGSNptIyMDJdA+/rrr/XLL784MUOfsc6dO7t+aAgt+o9Rvokkat68uUtTkapiUIOXiKPvm9cDjmQXAuiEE05wx1Aeys+RUl999ZUrp/RdCKqPP/5Y//3vf8sk4ihZ5Z4k51j0UluyZEmV30ISZZR8lu8RN3XqVFcySpmqlxAjTYbAog8eEoyFiOvTp48rv2XPpMaQZTwPwhAxR3qOvnUk7tgz8g8pVtVq27atuybyC4aITcpDy5+HNKS01JveSmkqEg3RSCnx+eef7yQm3OltR0ludQvJxv2QhJSeIg2RcyySkfShu+aaa5ycRdLaMgJGwAgYASNQ1wiYiKtrb3TPPo+JuD3L2+5mBIyAETACRqCUACWpTEttGBemsOjt0qy6VZWI8/q5tYrormMaX6645q21NWeTvlr+igqKc/XYpWPVpEUjd4sHxw51/d7G3PbjDlNTL3v6aHVo3k33X/Sq7nn7ciWnblZSWry6tOqpy469VU1jWmr12lV6bPy1Cg0NU0LiZpewQuyQMEP2UEKJeCMZhoxi+AETVZFF9CZD2FE+2bJlS33wwQcuTYfYQmTRAw1RR983PkPs8XvKILkW5a3HHXecK71kKAEJPHqzMa2TzxBNqampateuXakYpDQV+UQ5JYLwsMMOU7du3Vxyi55m5513nhNzSEIWAvG9995z0g6JWNGwBspXKZFNTEx05yAK6UmHmEPQsdgvsox9ch32RekpjFq3bq3vv/9eDLNgcEJubq5LkSHEuG9oaKiTXQjJ6OjtiUnKaBm2gLxD5DGMgntSmorMpPyU52fvPAPPxDU5HzZffvmle3beww8//OAkHOfCioQgE2zpuUd5LqWow4YNK/1KPvnkk26/iE7eH3sjGXjvvfe6HnYhISHu/lyXz9k3/ehsGQEjYASMgBGoawRMxNW1N7pnn8dE3J7lbXczAkbACBgBI1BK4M8vN2ramNVq3iVKwWE1m5ZalYjjwt/9Pk7vTHpe2QXppfdpG9FDg9vdq55HdFBU01D3+U2vnKnAgCA9c/VHO4i4W187R4XFhRp57We6/qXtPdAGHXqpS9Fl5KSWXtdP/jrskMM1fcZU9xkpMEQOCwFErzhkkjc1lT5xlKZSunnaaadV+U0gOYbkYiHhLr/8cifoEDykrV588UU36RS5RoknveYoR0UikWC79dZb3T1Ijnk94ijJpLySIQ6vv/66E00INkpKEXFILWQUq3yZbEUijnsitkjZkUTzpqYiyhCIfB4TE+OEIwKrosV5HPvzzz+7Z2LIAb3VSJlxDnJv+PDhpVzL98aj5xysSNEh57wyX+4JL6QfgrKixeAFeLC8pByyk+msiFSGRSxevNgJSxYJRJJv9PNDuiFd2TNijqERsGaRhKM3HO8aWWnLCBgBI2AEjEBdI2Airq690T37PCbi9ixvu5sRMAJGwAgYgVIC/4SIm7lksr6Y+oFalvR0wxeS89Zq6oZP1DS0re477xU1aRXr7k/5aUyDRnr8yvd2EHF3vnmx0rK26ZVhX2vEf4fpt2VTdWH/YVq4bo7273iYu+6kn7/Qn5unKC6ulZYtW+qGF3gDAbi+1zeOf7/pppucmEFK0ROOaZq+E0I5hqQa/clIbSF3KHE8/fTT3V5fffVVXXvttU7s0Y+MiahIJnqlUZ6JIGJKKOKHn1PmyfXp3UYJJb3cSOt98cUXLqFH2SyfjR8/XhdccIETd5RkUkJLeo1VExGH0HtsRwgmAAAgAElEQVT//fddeSvyiWQayxNxpO0QViTXSOGxb/rkNW7cuMyfAtJoyEKmnCIPkWcnnXSSKxv9888/FRER4T7zFs/MtUihkW5DxDVs2NDtn/9hQOKQhCGpNRJ+DK6gNJXjSCl6i954pBR5ZhJwLAQmSToGRSAAEYKU3LKKioqcXORe3kIWkk70hmFwTUQez0GZrS0jYASMgBEwAnWRgIm4uvhW99wzmYjbc6ztTkbACBgBI2AEyhAoLU1tFe4GK9RkVZWIo5/bM+Nu1yPnjVXeimjl5xQpslGIFmyYqQ9W36dzD7tR5x07xN2GRFx2bqaOO2iwikuK9d+fRrly1EO6D9S3cz5SaHCYRt04QUs3zNU9Yy5zx/TvNUhdW/fSqg1LNXnBeIWHhSsjK831Nrv99tvddel5hgQbMGCAE0kIKJJrlGoieKpaXnqNdBdir7IecCTIEGmUhJK4QtBxL8pTKfGk5JM9kBBDZCH1+JU+aJSG0sPtww8/1LnnnuuOQdC1adPGJdFIdyHF2DP3KD+sgTJP7k+SDVlFmSyCkUQZMorzPBHHs1Ka6u+/fRouiUD61JHiI7FGGo0hCl45bGVsuD5loV45Kedwf/bnuxB8JOpIxTE0Y+7cue7HlA0jG+l3d/bZZzv5RlKR98H7qWqRQCSVh+QkcYigvOqqq9wplMkiQ2GA6Lviiitc0pD3SA+98sKxJt9vO8YIGAEjYASMwN5AwETc3vCWau8eTcTV3ndjOzMCRsAIGIE6TmB3D2ugn1t6VopeuH68Vs/aqqRVmYpsEqLslHw9u/xc7dvuIN130cuOKj3i5q2e6YYwVLTaNO3kSlNZt71+nuK3rlNEWLRSMpIUFhSlnu366sU3n9FRJ/Z1E1EnTJjgjiXVhahhgAApMyQYv0fEIchIuXkJq/L3ZcAC0z4RRoMHDy7tAYdwo48bfc9I0yF4uA9910ihkTwjBccgB5JpLEQc90JGMdCBeyLsSJEhoTgecUf5JSkwyls9wUXfOi/hV17EeXumrxoyDMnGtXlG0m6IyPIizusPh5yilJWUHuk0BjYg40gBIscQmr7LOx4JxiRUjqWPHPdhz4g90nL02Bs3bpz7GWWk7IfPKeflc5KKcCJVx35JwNFHDmlJHz6GK/AOvUX5K2m2adOmuXQde0VUkirk2l4JKnLztttuc2lE3gEpPEQfCbyKprLW8T/O9nhGwAgYASNQjwiYiKtHL/sfeFQTcf8AVLukETACRsAIGIGaEEjfkquvHlmktMRctewWVZNTdigj9T3J6+f28g1fKXNrnlbP2aqsbXkqLirRC+vO077tDnQDGFhjJ4/Up9PfdFNTm8W2Kr1MYsrGMlNT+YHvdVM2ZSsnvUAHndlafc5u7YQLkzmRWiyvnxsli6S+vEVZo9d/zDu2sgf2SlxJl1Fq6ruQZN4UUz5HXnmlqf369StzrFeaimDzXQ899JBLx5EwowQUocY9fVf50tTye/WmprI/9sny+sj5irjy5yHhKM+dPXu2Kx2ldJVps/ReY7ppVYs0H2Wh999/v0um+a5DDz3UTWUt/6y+xyAl6RdHeS4DJRCT/J6+fjD8u6tnz55uci08bRkBI2AEjIARqA8ETMTVh7f8zz2jibh/jq1d2QgYASNgBIxAlQQQQN89v0yUqLY7qKECAreXMFa1qipN9fq5jbjiXXVr3UvxS9O0/s8ULdo2TROSn9LgI4bowv43usuvSVgmhjKcdPD5uurE/0mY0d8+rm9mf6hnh36ids26uGO96z5wzpuKzGivToc11nE3d9WEiV+4BNQ999zjJnayKhNx/IwhCyTemKrZv3//Mo/p239s4cKFTk5R9kiqy1vII98ecHxOfzYGQ5B+o3SSUlAWKThvWEN5OYUwoi8bpamUqPr2s/PuVZWII7FHuSZJPf4i7g0zKC/iSN+xSJT5LtJzJPpIm5HuQ4Qx6KIi8ch3hAQc/fMQd0w/JcGGSPQW94UnqTXvWUkjIj59FxNSEXmk9kgwkrIjCYhEQ0RSzuq7uB895UgQkpIjRYc49F0fffSRG3TBu6WXny0jYASMgBEwAvWBgIm4+vCW/7lnNBH3z7G1KxsBI2AEjIARqJbAil+36KfXViogyF8NW5UVNr4nI8eycjN26OfGMX26Hu2kGf3c7nv7CgUGBuvE3ueqaXSc/pgzT38kf6sGIVF67vpP1DCySellX5nwsL77/RP13/90dW+9v5ZsmKspcz/XcQedrWtPua/0OK57L9f1C9Lxvc/V4ScfoPVJK1w/MMQOJYqUorKqEnFM6SS1RqnlxRdf7KZvIuDK9x+jZBMRh+gaNmyYK8mcNWuWPv/88zI94LwNMsgBCUTpJJNQkVH8HtmGTKooJcax3333nRNNDCpAdPkuT8Q9/fTTTlCxJ4TYjBkznOSjdJXpryeffHLpaeVFHAk0+smdddZZTniRHiSFBjdScV4yEEHG7ykFpSSXhCH7Ytos/evOOeecUtFJypC+bvSz69y5s+vPhsAr/6yU6CI8TznlFLVv317cg3JT9o98RJ6x4Mq9uR/977gmYg4ZitjkGRg2wa88K8KTYyhv5VqUxVJyzHXKi7xqv/x2gBEwAkbACBiBvZSAibi99MXVkm2biKslL8K2YQSMgBEwAvWTQF52oSY+tUQrZ21Vm14xCgoJqBDE1c+foC1p8RX+7MZBD6v//oPcz9YmLtfHU1/VyvjF2paRpPCgSO3T8mCd2vNqRZQ0UvOuUQoJD3THkq4b/8sY/fDHZ9qanqhGUc008MAzdUa/yxXgv/2Y4uISJa/N0oq1SzQt6QNtyliuxC0JTsAhcEjCeT3DqhNx/Jypm5STfvrpp24oQlhYWIX9x1atWuV6wNF/jLJNJnEyHMG3B5wHA5nHwIPRo0c7WdajRw+3L8QTcqwiEecluRBLTE8tvzwR532OeGJoAuk7nhtpVV48lRdxpNIog50yZYrrxYbMI7WGBKO3GjLPW4gyetwhtpYvX+7EGP31SLoNHTrUPROLian0h6PnGyk1esvx7PTP831WymNHjRrlBBnnMISCa9xyyy1OVvou+uAxwIJyYlJ6vFtkG4lChj/wjhgMwX3pM8d0Vt4JAo5rkYi0wQz1879f9tRGwAgYgfpKwERcfX3zu+e5TcTtHo52FSNgBIyAETACf5vA2t+3aerolcrYkqe4faNLyyv/9gWRbAXFWvdnitocEKtjrumkNb9t07KpSUpcmaHwqCDFxIUpNKLySa2cn5aQq9TNOW7gQ9sDYl1fuEZt/iePdmV///a5yLczzzzTpewGDdouMW0ZASNgBIyAETACRqAmBEzE1YSSHVMZARNx9t0wAkbACBgBI/AvE6AP2IyxazXv63gFBPqpSceIXZJxRYXF2rggVTEtwnTohe3U5Yim7gk3L0vX/G/ilbgiQ6nxOSrIL1ZYRKBCGgTKP9BPDFAtyC1SbkaBigpLFNU0RA3bNFDnfk3UvX8zBQZV38PuX0ZZ49uTaqP8kn5x9D6zZQSMgBEwAkbACBiBmhIwEVdTUnZcRQRMxNn3wggYASNgBIxALSBAieq0Matdas0/wE/NOkXIP2DnxRcibdPiNEU3D1XPE1vqwNNblZF6SL+kVZkihbdldabSk3KVl1XoJJz85Epjw2OCXPKtdc8Yte4Vo+CwuiGqKOWkvxsTSxnQ8OSTT2r48OG14O3bFoyAETACRsAIGIG9iYCJuL3pbdW+vZqIq33vxHZkBIyAETAC9ZQAQuzXsWu0etZWpSfmqmmnSDWIDa4RDQQbKbeUTTlq2jFC+x7bXL1OiZO///YpohUtzslJL3AlsZSiIgBDI4NcEu7vSMAabfRfPIhecQwuoF8aE1PpoUYvNltGwAgYASNgBIyAEdgZAibidoaWHVuegIk4+04YASNgBIyAEahFBCgrJRW3YNJmJa3McCWilJgi5AJD/HdIt+VnFzmRlpaY445puU+0DhjUSq167J5ec7UIjW3FCBgBI2AEjIARMAK1goCJuFrxGvbaTZiI22tfnW3cCBgBI2AE6jKBlPhsrZierLV/bFNqfLZy0gpUmFeswGB/yd9PJUUlLsUWHB6g8NhgNWkXoXa9G6rLEU2qHMJQl5nZsxkBI2AEjIARMAJGYE8QMBG3JyjX3XuYiKu779aezAgYASNgBOoAAUpHNy5MLS07zdyaJ1Jz9HKLbh6mmBahrp9by32iFBgcUAee2B7BCBgBI2AEjIARMAK1m4CJuNr9fmr77kzE1fY3ZPszAkbACBgBI2AEjIARMAJGwAgYASNgBGoNARNxteZV7JUbMRG3V74227QRMAJGwAgYASNgBIyAETACRsAIGAEj8G8QMBH3b1CvO/c0EVd33qU9iREwAkbACBgBI2AEjIARMAJGwAgYASPwDxMwEfcPA67jlzcRV8dfsD2eETACRsAIGAEjYASMgBEwAkbACBgBI7D7CJiI230s6+OVTMTVx7duz2wEjIARMAJGwAgYASNgBIyAETACRsAI/C0CJuL+FjY76S8CJuLsq2AEjIARMAJGoJ4QyM8tUmpCjnIyClRSLAUE+SmqcagiG4fI39+vnlCwxzQCRsAIGAEjYASMwK4RMBG3a/zq+9km4ur7N8Ce3wgYASNgBOo0AaTbqt+3av2CVCVvyFJORqEK8oqkEskvwE+hDQIVERus5h0j1eGghmrZNUoBAf51mok9nBEwAkbACBgBI2AEdoWAibhdoWfnmoiz74ARMAJGwAgYgTpIgPTbvO/itWxGsrZuzFL61jyFhAUoNCJIwWEB8vOTigpLlJdVqJzMAvnJT7Etw5yQO/DEOLXeN1p+HGTLCBgBI2AEjIARMAJGoAwBE3H2hdgVAibidoWenWsEjIARMAJGoBYS2LwyQ7PGr9faeSnKTitQw7gwRTcNlX9A5WItL7tQKfE5ytyWr2YdI9S9X1P1PrWVQsIDa+ET2paMgBEwAkbACBgBI/DvETAR9++xrwt3NhFXF96iPYMRMAJGwAgYgb8IrJm7TdM+WKMNi9OcfGvcJnynkm35OUWKX56uoJAAdT2ssY65tKPCo4KNrxEwAkbACBgBI2AEjMBfBEzE2VdhVwiYiNsVenauETACRsAIGIFaRGDDolRNeXuVk3CtukcpLDJop3dXmF+s7PR8JazMUF52kdruF6tDB7dRk7YRim0RpuDQgJ2+pp1gBIyAETACRsAIGIG6RMBEXF16m3v+WUzE7XnmdkcjYASMgBEwArudQFZaviY8v0QrZyer1T7RrhdcTVdxUYlSE3O1LT5bmdvyVJhXrIL8YjddVcVS43YN1HqfGIVFBap19xh16tNIcd1sqENN+dpxRsAIGAEjYASMQN0iYCKubr3PPf00JuL2NHG7nxEwAkbACBiB3UygpKREP49dozlfblBkkxDFNAur2R1KpNTEHMUvz1BmSp5yswoVEOivoBB/BQb7S35SxpY8hTQIVNP2EWLCQ3FhsRrGhSuua5T6nt5Gzfi8Dq/LLrtMP/30k9auXbtHnpJ7HXPMMfrxxx919NFH75F72k2MgBEwAkbACBiBnSNgIm7neNnRZQmYiLNvhBEwAkbACBiBvZxAwqoMl4ZL2Zyj1j0qnnaam5etr359R2s2L9Hq+MVKzUzWQW2PV/9mw5SVkq/QiED3j3+Av9JykzRt3ftamzJXmfnbFOYfrY7N9tfFZ1yvRuGttC0+x53TsmuU9j2qiSYv/EBvvfWmNmzYoNatW+uqq67S8OHDFRBQtoyVnz/00EOaPHmyNm/erGbNmumoo47SPffcoy5dutTKt7ArIu7//u//9OCDD5Y+V0hIiGJiYrTPPvto4MCBuvLKKx0D31WXRRwys3379pW+58DAQBUUFNTK74FtyggYASNgBIyALwETcfZ92BUCJuJ2hZ6dawSMgBEwAkagFhCY/t+1+uWjtW7aaWV94ZJSNmnYyJMVG9FE7Zp3058rp6l7TH8NaDFMkY1CXBKOlV2QrtfnXKOi4gId2PIUxYQ1V+K29VqwbaI75snrxqlRdDNXtkqSbuKKFzV96Xhddull6nd4P/36668aM2aMrrvuOr388suldLZu3aoePXooPz9f1157rRMyK1eu1CuvvOKGSSxYsECtWrWqBTTLbmF3iLinn37aCbfCwkJt2bJFM2bM0IQJE9SgQQO9++67OvXUU0tvWlRUpJycHIWFhe0gMmsdnJ3cUFZWlsaPH7/DWQjau+++23H48ssvd/KqdrgRMAJGwAgYgT1PwETcnmdel+5oIq4uvU17FiNgBIyAEah3BHIyCzTukQXauCRNHQ5sWOnzFxTmKyM7RTENmmrl71t0/zfHqXtsf53V63a5GtS/1m+bvtLEFS/pnB4PqkvjQ9ynBXlFmrf+J03c9KQuPv42nXToRe7ztfHLdffr5+rI7oM14sGn3FAHpNpNN92kF198UfPmzdN+++3njh01apSuv/56J1p8xdOnn36qwYMH67nnntPNN99c6f4ReKzg4D07wXV3iLgVK1aoU6dOZZ5t6dKlOvHEE5WQkCD+Mt+9e/d69931HviRRx7RfffdJ74LZ555Zr3lYA9uBIyAETACew8BE3F7z7uqjTs1EVcb34rtyQgYASNgBIxADQlsWpqmL59dLAYuNG7ToNqzmIa6ZsFWjZx3uno2G6jTug8vc84v6z7Sj2ve0hUHvqiWUf8rF1288g99tvEuXXXKvRrQe7A756PJL+rzaW/qtmM/UOcuHXTsVZ3Vfv+GWrNmjTp06OBSTo8++qg79vHHH9ddd92lOXPmqHfv3qX3JB122GGH6bXXXtPVV1/tPn/77bd1+eWX6+uvv9Yvv/ziUmPx8fH6/ffftf/++4t03cMPP6zPP//cfd6kSROdccYZQuhQ+umtadOmucQd96AUNiIiwpXCjhgxQl27di3z3CTR2Ovo0aNdam3fffd11/vvf/9bpkdcnz59lJaWpuXLl+/A+oYbbnDPsXHjRpeA80pTKxJxnDx16lTXB+6SSy7RO++8465XUWlqcnKyuxYpOp4jKirK7R/hefbZZ5fuIzs7W0888YTbM2Wg0dHROuGEE9zz+qYNSR8+//zz+vnnn7Vp0yYnN/v27evKhvnVd3EMrOfOnavMzEw1bdpUBx98sJ555hm1adOm9NBFixa5Mlx626Wnp7vE45AhQ/Sf//xH/v7b05aVLcqSt23b5t7lnhat1f6BsQOMgBEwAkbACFRAwEScfS12hYCJuF2hZ+caASNgBIyAEfiXCSz8MUHfvb5C0c1CFRFbdVosO61Ay2cnKzUpS6+uGKyezY7Vad1vK/ME8enL9NYfwxQX1V0DOw5RdGgzpeTEa+LSV1WkXD123QeKiop25zz23rVal7BcLw77TmvnpajrIU10yk3dFB4V7ETUAQccoIkTJ7pjEXAInEMOOUSUarZr186Vpt5yyy1O8PBzBBPLE3GUsgYFBenCCy90STuSc5GRkU4WIacQdwg/0mUIN1JlSDd6sbFuvPFGV/KK7IqLi9P69eudKGO4BeIIqeQtJBqltMcff7xOOeUUJ7I4ln1mZGSUDmvgPpTdIggRiCxScwgoSi8PPfRQffXVV+7z6kQcx7B/zktMTHTnVCTi2D9/4ee+nTt3dkKSfcDjk08+ceeRGGTIw59//ul6z5FE5Hl5JphxfuPGjd2x8EfWIenatm3r7v3mm2+6dB7Xpocda8mSJTrwwAPVrVs3XXzxxU7sIRm/++47Pfnkk+rXr587bubMma7nHbLv0ksvVWxsrOPx8ccfuzJk0pCVLUqZuQ78SVHaMgJGwAgYASOwNxAwEbc3vKXau0cTcbX33djOjIARMAJGwAhUS2DGuHX66b3VatMjWoHBZYcjlD953fwUbVicprCYAD0189QdRFx+YY5mbBinZcm/KCmLKaElpZeIa7CvTu98jw44upMaxARra1qC7njlHOUV5MjPz1+RobHq0KSX7r33Hg264ggncGi8jwgjbfbUU0/p2WefdWkz33XkkUfqs88+U6NGjdzH9Au76KKLXFoL+cbwB0SUN9CB8taxY8c6sdSxY8fSS5EWo+T11Vdf1TXXXOM+R3DRh813kWRDUiHJSOixEE4k4AYNGuT2wn1ZCLXTTjvNySpvaippuBYtWrg9vv766+44RBzpPeSgb3llTUQckmvZsmWlW0Q8wo3kH2k3/iExRtLt9tspI65Y1sGXBCLckIHeIslGApHhGY899lilXNg7Ao5kIQKSNXLkSFcujKjzlZa+PJGaPXv2dPITOelJUI657bbb3DtfvHixk3kVLd4VHMsnJX2PJcXIcyFkefe2jIARMAJGwAj82wRMxP3bb2Dvvr+JuL37/dnujYARMAJGoJ4TYFDDz2NXq90BsaUDFypCkp9TpMXTEpW5LV9RTYM14ueTdhBxqTkJemnWpQoNjJC/X4CyC9LUNrqX2jfcXzPWj1Oj0La6+5JRCo6Ubh81WGlZ2xQb0ViDj7lWm7eu1/ezPnZ7WLh4oS648DwlJSW51BtJLhJc/fv3d6kr5JiXkENCkXybNGmScnNz3b+TQEOinXvuua7E0RvoMH/+fJey4zoVpaxIr9F3zUuJ+XIgdZeXl+fScJxPzzakGwvJdeedd2r69OmlKS/vXFJ2DE/wRByfI4QQbzxLaGioE3Gkv8LDw8uUV9ZExCGxkJX0SEO4LVy40O3n8MMP16xZs9w1YUHijPJVhFhFAx0Qn5R1IiTLryOOOMKV5cK8/KKcleeDC89BeSj/44LF/fgM1qQPy0/B5RjeSa9evVypK1x8Fz0C2fdLL73k+gOWX7yP5s2bu7Qiz13RoiyZ7w8MTMTV8//Y2eMbASNgBGoRARNxtehl7IVbMRG3F74027IRMAJGwAgYAY/Arx+v09Sxq9WmZ4wCgyrvxZW0JlOr/tim4NAABYX5ORG3X9OBOqnjLS745ucvlQQUakHiFDcJ9YoDX9Do368vlXWL18/UZ6sf0Fn9blBUdKTGfPOYGke3UGR4jEZc86Hbznc/TdCYn+7V/XeM0FfffeKSXR988IETNQgyShr5iyuJNG+gA5Jt6NChTj4hixA2/Iw0ljfYwRvoQA+z+++/v8qXj3QiPcWinxqCjWRbSkpKmfMo45wyZYr7jPuTAiMV5iXzvINJiFHu6SviOG/AgAH68MMPdd555zlhiIgbNmyY27e3aiLivEQc9yAF51uaiqSCG+WgrOLiYpc0RG5xX7h6C2GHUKts0c9t3bp17sf0cLv33nudsEQm+i7E5+rVq91HiDLuT5kpZcOkF/n9+eef78pPWTw3z1/V4p3RP6788s6lzJXEXvmVmprqeuHRZ470oom4KjHbD42AETACRmAPEjARtwdh18FbmYirgy/VHskIGAEjYATqD4G5k+L1w5sr1ah1uMKjgip9cHq4rVuQqtCIQOXm5OuVZWepc/hROiLmhu3n+EkBgX76Oul+5RZnaMhBr+iJX08pFXHpyXl6dcm56t7uIHVvd6D+O/kFdYrbT1tS4/Xq8MnuEvOX/KbHPrpK9970hF7/8BmXXjvooIPcsAD6w5F0o0yR5TvQgd5gSB5SYAgXxA3S7fvvv3fSyRvogLChPPP00093iTZ6nTFQgX5vHMsQh/fee88JG0pgSbN5Ao7+Zlz/iiuucBKKfmlILwY6MBhi1apVLlFGPzXfgQ7ci/JORJw30OGNN95wQw449qOPPnJptt9++81JRp7ZG+hwwQUXOAHlO6yh/EAHhBbCyTumfI84b6DDWWed5eQfv//mm28cS1JqXhkpyTyuhaxj8AFijrJeRCLPw895fhJwCDyelxJc5Cf7pa8cgyr4nGf1BjpwP8qFOZZrUpoLO2Qk5bz0mkPMIfDgjwxkHwg0BCcJPn5GGXH5gQ6U4XI8vexIxZVfSFneK2k5Sl5NxNWf/67ZkxoBI2AEajsBE3G1/Q3V7v2ZiKvd78d2ZwSMgBEwAkagSgJr56fo65FL5B/gp4Zx4RUeW1RYrN8mbFLyhiwFBPmrIL9A72+7UB1DEXF/lQyWyE1eHb/tZtEibXCL5/XWxnNdam7QPsO1bVOW3lh9gZNw5/S/Tve+cZFiI5soJWOLHrzyHRUWFei9ic84QfTYHa/q6vtPcT3LEFSUKCLCWL790BjoQAqM3mJIIqZzIuwYYEAqi8QZ/di8gQ4MBUDqMPCBRBgCrbKBDlwXwXPSSSe53m++Ax1IgVEGivRioANlpohBJB8yznegAxLLK031HehAmea3336rsLAwJ7+QdAxMYHkDHZB+b731Vqlk4+ctW7YsHejgSTbOqUzE8bPyAx0o42XQQmBgoBt0gaRCqLFPkmUMdEDuIRCRZs8995zbF/cnMTh79mwn36666qoyAx14HwhMRFxlAx0oXeVZkWKUro4bN871seM90ROupgMdmKSKdKUktqKBDgyN4LtAqS0pPESgiTj7j6ERMAJGwAjUFgIm4mrLm9g792Eibu98b7ZrI2AEjIARMAKOQMbWPI17dIGTbG16xOxAhZ5w6xenuqmm9IkLiwyUf5D05vpz1KXB0Tq6yY1lzpmU+LjW5fym46Mf0KS0/1PnBkfr5I63aMmW6Zq0+UmdfsRVOnfADZr82zi9//1I5eRllJ7fre1BGtTpbi3OH68J0993Igh5gtxioiYlokg3b5gAZZaUg5K4YhgD6TYa9yPe6AnmLd+BDjT3J5GG9GFAAQMGkDYkvhBEJLZIqCGJuAYiDGHH8gY68O8INkQcxyDsuA7pN/rGIcUon6XkkoQdwxqQbr4DHSgXpScdApFSWFJgJNFY3kAHEnn8Rd2TbF6JLb9yLWQa1yksLKxUxJFgQ3SRguO6lIh6qTnuhTgjWRYTs/3djxkzxvV1813ILjgzjRb5hTiEkVcuynsiucjn3mAKuH78tA4AACAASURBVNCzz7dUl2vwTEg+psvCE8nH+2rSpIlL0SHzfBdiFmGIVPMd6PDMM8+4d8iEWkSo70AH9oFsRe598cUX7nIm4uw/eEbACBgBI1CbCJiIq01vY+/bi4m4ve+d2Y6NgBEwAkbACJQh8MPoFZr1+Qa13S9GQaH/m5y6LT5H6xelKjUpRzlpBVqSPVHFgbkqUbF+T/1IjYLbq334Ie5abcN7q1FwOyXkLtWEhAcU4BeogpJcNQ7srEaBHbQid7IiwqP1xLUfKSayseYsmaIffvtEOXlZWrFxvtq16Kb4LWsU5B+mrPxUN7mUCaaUJCJnSFgx/RQZQ/N9Pn/ggQdcjzJ6odEjjV/Hjx/vJJFXxkjyDOHmDXSgb1m/fv2cuEK8UbKJqGMoBBKNayKbuBeDBBBVQ4YMcXtA2JGyY1gEk0QRWt4ilcV+GeRw3HHHuf0inOjhhkzi5+UHOiCj6HvHQjQiFL2FgES4sV+uxf2RT0xt5frIJ/ZB2os9VZaIQ5Ihsei3R8ku5aYITfrnkWoj3UbSjUQc/1CKO3jwYCcIEXQk/ZBZ55xzjpN5SFHeAeeRiCNthwRDWPI5paRePzwmpv7www9OupHk41l4F3Dx+uN5Ax0QoZSuUuJKIo99UFLKO6F8lYm2vgMdEKGU93IdUou+Ax14D/SFY18kIE3E2X/wjIARMAJGoLYRMBFX297I3rUfE3F71/uy3RoBI2AEjIAR2IEAabdvX17qEm/NO0W6n6ck5LgUHL3dIhuFaFt8tj7ceK2yirdUSPCoRtera2R/97Ot+Wv1e+rHWps9yzWPC/WLUlxoT5199PXqdXA3zV4yWS+Mu8MNaYhr3F5f/fK2fvxjvJLTE1RcXKQDuh6u2Qt/dEkokmXIHyQYYozeb5SrUuJIUgsZRekqSSykDSk0ZBoyzusRh+xCBjHQgfJRkmHe5FJkE9dgGAHHcD6SrapF+aQ3GMEb6IDYQjD5Liaa0vMNYUd6rfxAB/rDUSJLcotnrGigQ/l9UMrat29fHXvssU5aUcbq20eufI84+q4h3BBqpOFIz1FuSooPsYbIYyGykFfISaQY4g6xBhfkIv3aEHpVDXSAI9fmORjoQLKOeyDgfBdS0Rvy4DvQgXdBySl7JElH+e9pp53m+Fx88cVVvhNvoAPilP5ylAHzXfGWJeLsP3xGwAgYASNQmwiYiKtNb2Pv24uJuL3vndmOjYARMAJGwAiUIUAPuG9HLdP87xPUokukAgL8tGzmFqUk5Cq6aagCgvy0dUO2slLzFRZZ+UAH34sWlxRp9LpzXB+5I2OvV0Cwv7tWh/0b6sXvblRGVoqevuGzHfZx5eOH64B9+2rG3O0TSZFjiLby0zn5GUIH0TVx4kR3LCkpRIw30MH34t7UTsohWZRZUnLqyTrvWO6D+KHMlGb/FS3KOJF1lEAi5CgPRWJRLkqqDJlEGswb6MA1SPhRNosYa9iwobss6b0zzzzTCa7ExMQyIg7JSOoPGcXzeSWc3kAHb181maxKKowyUaQhq7ys867Fc5CWo/cc8hKx+Nhjj+mOO+5whyDoKAf2FVy+fLyBDnx28skna/LkyY4L5yAv4cL1vIEO3rk8KwM1eE7uPX369AoHOiBYSepVtLyBDvTsY9Iuz4i09BYpO3r9kS7kvXiluPafAiNgBIyAETAC/wYBE3H/BvW6c08TcXXnXdqTGAEjYASMQD0mQI+4r19cqo2L01RSUqyE1VkKjw5SSFigo0J5alpirkIjgtwwhupWqYgLOUrHt71ZkU1DlJaYp4ZxYXpr/jXuGs/euL1/l7cyU/J0/ctHq/f+ffXLnB/dxwxsQN4wfMErM+Rz36mpjz76qDuWJBTLd6ADv0f0MKEUieNJu8pEHIkw0lj0GPOOrexZEYSIuIr6qlGK6Q104Hx6qPGXbiQTpbEsUm2UXyKpEGW+iTh+jvAi7UbJKuWXPAf39F3ViThvoAPpNPbJqkzE+V6X5Bv7owSV0lrScaQTScoxuKKqhcBDNpJSY3++i/5+CMHyz+p7DOW0iE5voANpSH7P94Dy3qoWAtXrC1fZcZTH0l/OlhEwAkbACBiBf4uAibh/i3zduK+JuLrxHu0pjIARMAJGwAhowZQETXp1mVbM2arg8ADFNP1foigrLV8p8Tkq8svVopwJSs5fpS35q5RTlFrh0IYpiSO1MufnKqkyLbVL617umK1pCXr2/Tu1OmmuS04h1SiHpH8biSqSTiNHjtSSJUucnEKSUWJKXzHSTogmElj0TvMd6MC1vcmc3kAHPqtMxPEzb6AD/c0oy/Rd3kAHRBMSDTnlO9CBY72+Z95ABz7zBBHDBS644ALNmTPHpdzYN3vxhhz43gsBx0AHymXphcagA3qnUfZJrzd6uVHGScmt1yMOCUnyDnlFCS9DEyh7ReDRr45VXsQx0IEFS99FD7g333zTpQxJkSHCEKNVDXRg6ALiDrnoO9DBuy88KXf1RBwJQd+BDhxHuSp8jznmGDfQgeQhaUOeneeoaKADZa0k8kjW0Tuu/GJgBRNfhw0bJkqGkaS2jIARMAJGwAj8WwRMxP1b5OvGfU3E1Y33aE9hBIyAETACRsAlrkYPm6M5X21QYJC/IhuHKviv4Q2Uryavz9LWjM36LOVGhQfEqnFwB63P+b2MiFuY9o1yCjKVUbBFK/OmKCq4qVpGbZcezSI6anHCL9qSu1IB/gEKCgzRsX3OUURYtD6d+pryC3IVEhymB/7vPpceQ6DdeuutyszMdP3VKCWlpJDeavSIQ6zQYw3xhqgibYXg8h3owCROxBRixxvowF6qEnFMLyW1xgAHepORZkPAeQMdSHkhqZBgiDjKShE8lLTOmjVLn3/+uZuCiizzBjog3Bi+wLOwkEYIRC/ph7yqKCXmO9CB46+++mrX6437IMS4Jyy8gQ7cD3lGiSwSjndKmSzSz1vlRRwJNIZTMLgC4cX1EXlwIxXnJQMRZPx+2rRplQ50YHIta+DAge69IFDZN++B/SIWfZ/VG+iAoCTxyD0YzoBQ8wY6cD2el3sj3Coa6MAzdOrUqdI/xdYjzv4DZwSMgBEwArWJgIm42vQ29r69mIjb+96Z7dgIGAEjYASMQIUEtm3O1rjHF2jd/FSVFJYofUueAoP9XV84fk1LytW2pAwVBWUqKqSJvPLTzuFHq1/UtSrKL9FnKTcoqyS5wuuf2GWYJq98Q5HBTXXV8Q/px+XvaXX8Im1NT3TlsF1b9NHIZ17W8ef3cefTo40JmEgWepeNHj3a9WNjwigijMELDHRg0Zz/5ZdfdmWJ7777bulABwQcAgdBROqMCaEs+ohV1CPO2zhpO5JmyLN169a5fmPeQAf2xbVY9DujDxolp5RtUtJK6SOCieUr4n788Ud3T54jOTnZTXJlX4gnjqtIxHkDHRBJJNN802NILoYs+C7Sb6TREGqILeRX+QRbRQMdKIOdMmWKG+KAYORZkZyUcDKEwVuIMqaXwo8Jrogx3oc30IFnYiUlJTmJOmnSJCcEe/XqpYcffljvvfdemWeFyahRo5xo4xxKiLnGLbfc4ial+i5Sf5Qh09cPFrxbJB8DHXj/vj3hyn8BTcTZf/SMgBEwAkagNhEwEVeb3sbetxcTcXvfO7MdGwEjYASMgBGokAADGr4etcyJt5CwAG1amqb0xFzlZBS6nm7+gX7K3JbnpqsGhQcqLydfH2y7UG39j1CfgGtUohL5+Uv+Qf4KCPZTQKC//AP8FRDop7CIIK3Nm65vVj+tQxtfptOOuFTtesW6fQx/ebCys7L1xv2TdPKN3RQSvl2ukW5jkAEljpUNCPAehETY8OHDNXPmTDdVlOWl3rxyVQQd6THSXvR2oywSOUSCjc8pqzzjjDOcHPNt5k8CjOmkpLTob0bajLLTESNGlPal8/ZBcg5ZhGxDFiHEKpJtTDJF9iGzyi+kEglApOOvv/7qBjqQoENoUbbrLa9UlHLUikotKa1FQlZUSmp/BIyAETACRsAIGIF/j4CJuH+PfV24s4m4uvAW7RmMgBEwAkbACEia8dl6TXlvleK6RrkhDZQ1ZmzNc73hGNRQkFuktKQcpSfnq6igWEXFRfq8+DK18TtcfQKvkfwlv0A/J9/8A/SXiPNTcVGJVCL9mDFCCXmLdEHbN9S+Uyvtc3hTFRUV6+bnBikkNEQzp/+mVt2iS9/FokWLXDrqhBNO0LffflvmHdHXjH+QUwwUIKVGOovyUS8Z5Yk4rsHPaP5PMoreaiSvEHYk0yj37NChgxtCgHCjFxvSjRJXFskzSisp34yLi3OpMUQZfNhj06ZNS/fmJfMoKaXckpQbx5YvyeQ+1113nSvfPOyww0rPJ7HHoAfKbEkBItJIi1HOSZqOpBiJN4Tjtdde635OCWdFy0Sc/bE2AkbACBgBI1A7CZiIq53vZW/ZlYm4veVN2T6NgBEwAkbACFRDYOJryzXziw3qcnAjJ6x8V2ZqntbM3aZNK9KVtTVfxYW4tSJ9XniZ2gUeoYPDh7pzkFMlxVJxcYn8/ZFyfq7PXJ5/ij7ZfK1aBO+v/tF3qlFcmA44rqXil2Xoo3kPaMmmWVq7bo3reeYtyi6RYPRhmz9/fpn9eNNCvQ+RavQ0oxG/tzwRt88++7gUHKkybyHuxo4d63rRdezYsfRzhgNQEklJLEMbWMg+3/JMPiPJxr7Yx1133eWOY5AECbhBgwbps88+K2WIUKN80ncgA2k4nvWiiy5y+/YWpbCIQspdWfR2I/lGOu6NN94oLa3lZ7ChTNQ3JecLyUSc/ZE3AkbACBgBI1A7CZiIq53vZW/ZlYm4veVN2T6NgBEwAkbACFRD4OuXl2rOhI3qekiT0iMRa8kbs7VxWao2r85UXk6R5FeiQD9/FeQWaFzWJWoXdKQOibi27NVLSlSMkCsslp+/n5YXfaV5Of/V0Q1vUdPC3goJDVCLjpFq3ytWhS3WaNj/XSjKNZ955hnXc4zeYcgoJBgCi6Sb72LIAf9QXkpvM0QdworUmrc8EYfM8nq28TOeiTJU+prRn6z8Ir124okn6pNPPtnhZwxboE8a1+B8BgQg3Vj0lLvzzjtdvziGPfguUnY5OTll+sCR0KNsNiEhoVQSIuwohU1NTXWpPSamIiR5Bq7LQAUScUg2knYMifAdxGAizv6YGwEjYASMgBGo/QRMxNX+d1Sbd2girja/HdubETACRsAIGIGdIPDNK8s0+6sN6tp3u4hDNiWsydTGpWnasjFLhQXFLuUVEh7gfp6fXaAPki5Q24AjdHDYUJd+Q7qVWSUlKioq0cTM4cpTms5p9roKsreXq7beJ1qDbtlHR5zbzg1YoOySiaUsykvp+0bijHJQJp5WtZBRd9xxh+bNm+dKS1meiPvyyy/LNP5nKECzZs2qvN6RRx6pqVOnumPoC4dgI9mWkpJS5rxjjjnGiUDW0KFDnRyj3NV3qAI/o/ccz+A7kIHzBgwYUDodlH3xrJSsjhw5svQ+N910kxtCsXjxYoWHh5d+fvfddzv5SOkqvfTKL0vE7cSX3w41AkbACBgBI7AHCZiI24Ow6+CtTMTVwZdqj2QEjIARMAL1k8CUd1dp+sdr1eGAhq6/W9L6LK1bmKKUpBwn4QrzixXaILC05JKpqe+sPVftg49Un9ChbtKq8HB+KiPkthWu0g/Z96mD/0AdFHa5AoL81CA2WE07RqjPSa10ynXdFBQS4MouSbbxK33dmIhKKuzss892k0WrWomJiWrevLmQUwxL8BVxTNkcOHBg6ekk0CgLPf30011vuYoWwxp69+6t4uJiN9iB0lASepSeMqyBclBSdo0bNy6djEopK2WmpPSY6Om7uBfTX31FHKKTslgGLUycONEl25CR/OX8gAMOcKfDgvsxJbZ8eo9yW/bIlFamm5qIq59/bu2pjYARMAJGYO8j8P/snQmUjvX7xq95l9lXM2Pfd0LZhUyKyhKlSKVoUQr1U2lVJG20Ke1KpJRCWSJSSZYs2Rn7Psbs+8y7/89165lmmBnjL8xy3+fMYd73eZ/n+/183zrOda77vlSIK31nVpJWrEJcSToNXYsSUAJKQAkogfMgsPmXE1g6dS8qVPGThNTotfFIjs2G0+WW5FRff4u43owyhLh6AVHoFDYcLpsbLgdnxHnETceABtbfti+wz7EM1waMRwVzPZitJjRsH46Qin5ybdTAumjTo9oZK2eaKZ1kxUn9pMBVp04dCTAwBCvDEXe6EMdkUzrWOnToIAJYUUWHHYW4gtbAUAWKaL///rvc4lxbU4cMGSJOt7S0NBw9ehQ9e/YUbnymUXTj8TkMlKDbLm/RCcc90BVHx97ppY648/iPQT+qBJSAElACSuACElAh7gLCLQe3ViGuHByyblEJKAEloATKB4EjO1Mw/51dcDpcSE2wIWZfGswWL6Ql2gUAQxfyliHE1Q3ojGBrFSTaDiDBvh/ZrhTU9Y9Cp9DhcHmcmHPyQfiaghHhUx/7M0+1exZUEyZMwHPPPSdvMcyAM+NiYmIkKIEz0+ge41w1ut7yhkkwJKFfv36SesqkU29vb0lBZUgDE0VPF+J4f7rXGH5AsYqz3vIWhTo+n6627du3SyjD559/LqmlRk2fPh0U0qKionKFOK6Dz6T7rbCwBs6wo3BH4ZCfX758ueyRs+C41tPn2XEtnGfHffH+dOoZxVAHhjtwnTk5OahRo4YEPdAdx+tOF+I2bNgAMuasOc7eYxss013ff//98vEF110qASWgBJSAEighBFSIKyEHUUqXoUJcKT04XbYSUAJKQAkogdMJOOwuzHltOzYvP4HsTAccNhccNjfSk+zwC7TktpvuTFuMHGcKTtqiEZuzA4AJgBteMKOib0OczNmF+oFX46rIEVh8Yuw/1xTM+/LaVyM+9RhikveJ64vhB19//bW4wugOo+DGOWoU2jhT7fvvvxcBiaEG69evx8GDB2WuHK+1Wq3yOue70S1GYYuvFyTE8TMMVGAIxF133YXWrVuDohd/p4jG2XRsB3U6nSLEsfWVwQhsaeW96dYLCwsT8ctwxHGHdOQxcZUCF9NXKbjxdwZApKenS5hEXiGOf2/UqBGWLl0q6z9+/LgIb3mLs/JGjx4trbpcT2HVq1cv/PTTT+Kgo4jJNRZUd9xxBzjbji48ci7sOv0vRAkoASWgBJSAErgwBFSIuzBcy8tdVYgrLyet+1QCSkAJKIFyQWDj4uOYNX4LkmKzEBLph8QTWTIfjm2pRn139CFkOOML5NEp/CGsSvwwV4j7KWYMTtp2o32Fe2D1ChBxz2I1Ya9tCeKy9uG5wZ9h0swRsHibERIaJMEIFN8ocjEYwXCcPf744xLeQIGLohWTQ9nSSfGK4lirVq3ECTd79mxQkGKwAgU8inenu9mMhdP1xnZSinuHDx+WIISaNWvKMzg7jmmtrP3798t8ODrJHA6HtINyLpuRxJpXiKOY99JLL2Hq1KkS2sBZd3ShccYdrytIiOMaBg4cKE66efPmFciVLax0C1I8o5uNohznx9FBN2bMGHHM0Vk3dOhQCb4orN566y15Dtt4tZSAElACSkAJKIFLQ0CFuEvDvaw8VYW4snKSug8loASUgBJQAgDiDqfj9YErEXcoA2FV/JAUmw0vE2D1zt+W6vI4kONKQ4AlHEaLKl1wnSIekgAHwxFnQKUzzZZ1SoTzjwQ+3zoYFQIro1+3+/Hh3Odwe/dRqNDQLvPdVq5cKc6yrKwscahRFKOrjG2iGRkZkhD6/PPPY/z48Wec2YgRI6TVkm2qFOPoJFu7di3at28v1xpz4+gCW7NmDb766isRsBh8wFlwDFqgkMb3+TrdaZxTRzEtb1so1/jhhx/KPSgeMlCBouErr7wiDre8RXGOARIU53hPs9kss+EMcY5iGh1/dANShNyzZ0+B++KMOIZGMPH1hhtuwOrVq7Fw4UJ57siRI/Huu+/KvDgjTfWZZ54RN+Aff/yB1157TVx9FDjJkKm0XIeWElACSkAJKAElcPEJqBB38ZmXpSeqEFeWTlP3ogSUgBJQAuWewNHoVHz+1AbE7EmHPduJnGynzIYzm9l+WnAVR4ijE87l9CA4wgfHPKuxaNckXF3vfiR4tmPnwfV49d75mL76Kdjs2SK+NW7cWBxuTFFlC6ohvnGWGl1mFKIWL16cb0EU7uhUY1spha933nlHHHNjx46VmXCLFi0S8YziFYvPYPspP8cWV4pWFLoohjG1lC2rR44ckc80adJE7v3ZZ5+J+MbXmZxK8YytnnSnUSij4Lhjxw4Jg8grvlGMY/srxS+KhExjZbsqRTe+RocfHW8U1FatWoWOHTuCoiLveeDAAVnPlVdeKeIiy2hXZVgE78E9cR8UMLt37y6uPs60456eeuopWR+5UJjkXumg6927t4h3bGXVUgJKQAkoASWgBC4eARXiLh7rsvgkFeLK4qnqnpSAElACSqDcEtj86wn89OluZCXZcSw6DZmpdgSEWGE6DyHOaXdLS6pfsBXh1fzx/fbncCR5KwY2ewuzdoxCk+odMKznG5i8bDD8A3xFfKMLjUKbMQPOEN/YdkqxinPbeB3FJ/6wXZMhBWwzNYouuE8++QT8xy5FKd6D7awU0egqo1OMjjdexzZSCmMMRLj99ttlvhzFN4puFLM4741tpRTa+GdERIQ4zPKKbwyU4LooeHHWG515nENH5xqDJuicY0soZ8VR1BswYAB8fX0laOHhhx8WNx3bbAcNGoQpU6aIQEbxjaEORjADnXMstsiSw+lJqnyNAiTbU7nnoKAgeR6LAmP//v2lDZb7Ypsq17Vp0yZpy9VSAkpACSgBJaAELg4BFeIuDuey+hQV4srqyeq+lIASUAJKoFwSWP3DYSybvg9V6wdj22+xiNmbDquPSWbEeZm8CmRSmCOuc8RwCXtwOdzwC7JKq2s2kvDR6sGoGdwKVYOaYs3xGRh8zUtoVf8a/HTgVfy+cpmIbxTEunXrJqEDdIdRXGJIA9sqKbpxfhudcxS9Xnzxxdx10eVGAYpz3SjUsVWTgQl8jYmmnOvGUAgjnZRtrzNnzpTWVM5+Y4Iq22N//vlnEcToPBs8eLCIdHSanT7DjW40Cnx0nT366KPyeYp8TEPt27eviHxsEeV8OQZEMEyCa+e8OIpyFMforKPYxtZVpsIazj067ZiKynZainlsa6VLkEVHHa9leysFPToFmZJKYY6hEhTw5s+fL3Py6Prj9WyfpWjJPXAdbMF94YUXRDCkEKilBJSAElACSkAJXBwCKsRdHM5l9SkqxJXVk9V9KQEloASUQLkk8Ofcw/hlxj7UuiwUMXvTEL0qXlxgLrsHFh8TLN4mEY/yVkFCXD3/KLT1HwazxQu+gVaEVPSVz689PBt/HJiGG+o+hb9ivobNk4IX+s9DYFAAKl+ViP533iji25tvvinppGwrpfDG4nPpFKP4RlGOTi62bfKHs90YzGCIb3StUWyjQMbr2fbJ3znnjaIcRSq2ZtIRR/GMYh6FuqKKaawrVqyQSygCMiSBgh2dcHmrbt26siaKb19++aWIY3TcsV2VLrvs7GwRB+n64x7omqP4FhsbK4IbxTOGTzBAYvPmzSLYUSibPHly7mMo+tHtx5ZTuu8qV64s7xnz4ciO7bwsuuIoYLLFly2rwcHBsj7en/emkPftt9+Wy++7bloJKAEloASUwKUgoELcpaBedp6pQlzZOUvdiRJQAkpACSgBrJl/BMu+2IfqDYOREm/Dvg0JcLs9sGU64ch2wenwwGz1kplxJrOXBDlQiJtxeCDq+kehffCDmBV7B+r4dsFVkSMQEOaNwDDvXDfdZ389gEx7MnrWHYO5e55Gl+a34LqGw1G5bhDuHHcFvv3uKzz22GPiHmOxdZMOL4pONWrUkOAFCktssaQb7PQyxLctW7agQoUKIlBRcOMMNYpvFOyM2WktWrQQ91pRxVZTtnCynE6ntKzyPqeLb5dffrm45+i449rZhkrxjcIY187ncj2G+EYhjumlFNqY6krxjfems43uO6ajss2UfycP/oOdc+JYFN/obuN6evToISKeUXT2tWnTRlpf2arLoktw9+7dIgBSkOR++DsTYhnaQKcfk2i1lIASUAJKQAkogYtDQIW4i8O5rD5FhbiyerK6LyWgBJSAEiiXBLavPIlFH+9G0D/iWfTqeDidbvgHWZGd4UB2mhOOHBfcLjfcLg88HrZJujA7aZCIb1eGDcPXJ+5Ao9Cu6NX0CXHBGXUibTe+3Pg/tKzWG/ZsF3YkLcZzd30BU0I1tLyuKm7+3ylHGoUmOtv4J9s+LRZLrvjG+WYUs6ZNmybtnKcX57ZRfKMANnToUHF8de3aFb/99ltuGIMhxPHenMlGQWzYsGG45ZZbxLHGdlaj6KCjsMXWTqaqMsyBM+TYvvr4449LaATFN86MY7upEXxAIY7i26effoqnn35a3HF0vhniG4U4wx3HVlzOamPwwpIlS+SedNrx58knnxRHIoXFXI4nTuQ+Z/bs2SJKGkUnHFtsuQc+l8XQCbbf7t27Fz/99JO00DIQomLFimjQoIG0uPJ9LSWgBJSAElACSuDiEFAh7uJwLqtPUSGurJ6s7ksJKAEloATKJYET+9Pw3aTtMtstoro/dv4Zh6QT2Qir4nuqJdUDCV5gAAN/KMbREffprlvRuMI1uK7+o3h3XV80q9wNPZs8no/hsj0fYNPxBbij5RuYs/VFBPqE4eWh3yExJgvXDKqLDn1qFsj8hx9+EPGNs8z4wzlnO3fuFDcXKy4uTkQlFgUuim9MD6VrjM6w++67T9JOjVRUQ4ijQMd2UQpXFMCYrErhjLPW2K6at4x/MFMApDBHpxydbLwXxTeKaPw7xUE+n+IaxTe64NjySgFu7ty58nc60957773ceXFc8/jx46U9lk44zsbLhM/18wAAIABJREFUGxphzLMz1sMEVqaeUhyk4JfX1cekVTLiXnkfFkMvevbsKcIhxU0+m621TINlCzDbZzkPT0sJKAEloASUgBK4OARUiLs4nMvqU1SIK6snq/tSAkpACSiBcknAlu3E1xO24NC2ZNRvFY6YPWk4uDUZfkEWePtZhAldcPYcJ5w2NxwU5FxOfB7dH+E+dVA3tAPWn5yFioH10DCyk1xfP6IDwv2r44PVg+BvDUHHmndhQfQruK7ZUFzd5A5UqOqPW0Y3Q0S1f5M7OS+NzjD+MAGU4hVnmyUnJ4vIRLHLEN8o0tF9xrlwdISxzZKCF8W6zp07izjGwILThTgKVXnFNzre6FqjSEUXGVtBOVuNYhdnqFHwo/jG9yjE0X3HuXE//vijuPBsNhvCwsJE3OM8NkN843y3jz76SO7HmXDcB0U0tp0y0ZRCHAU4/s7WVLaoNmrUSNpHrVarzIDjLDujjPZT/k4ODJ/gPSkgMoiBHJgey3UYRUYUNOkupDhocCUfugX5upYSUAJKQAkoASVwcQioEHdxOJfVp6gQV1ZPVvelBJSAElAC5ZbAn3MO4bdZB1CxZiBMJi/sWhOHjEQ7giK9kZ3uRHa6A3abC9FpS2BzZQIeN3ZkzymUV4/Gj8HH4o8ftk9AVN17cDhhBw6nbcCYAd/DnBOCdr2qoccDjSSsgAIRBSwKT2z/pBhFBxjFI7q6GN5Qv359ccgZ4hs/98cff4igRTHMbDZLGynbWDlnjcKW4YJja6nxdwpxnOeWV3yjgMeW0A0bNsgcOH9/f3ke56hRyOL1nFlH4Yqz33g/VkhIiAhabFNlse2U4hvDEXr16iVr4Hw7FsU1inecccd2Vq6bxWspIvJ9utoosJHF6UmtfD5dbRMnTpT5cHTPUaDkzDcGLzBEgg49CnJsv6Ugt337dlkPHXFcO4VDXksnXkBAQLn9ruvGlYASUAJKQAlcCgIqxF0K6mXnmSrElZ2z1J0oASWgBJSAEhACJw9nYO5bO5BwLBO1m4fh+J407F2fIDPiPABcTg8sVhPmx41Epiu+QGptgx5EHb8oePuYERDijV9OvI4DievwQLvpcKb4o2LNAFh9zKjZNBR9H2mCiOoB4j6je42uNrrNKL5RADPEt7wPokPtiy++kFly8fHx0qrJUAI6yii+8XejeF1e8e30BaempuL111/HnDlzJEmULa8UtSiMDR8+HLVq1ZKP7N+/H6NGjZKWU4fDIS2tbH01xDeKakZRPHzppZcwdepUCW2gIDZhwoQzxLfT90TxkOLb3XffjX79+on417dv39zL+Fy2wnImHQW4wooBDxQGKfKRK6+PioqS2XkMqdBSAkpACSgBJaAELh0BFeIuHfuy8GQV4srCKeoelIASUAJKQAnkIcBwgN+/OYg1PxyRltSkk9k4uCUZWSkO+Pib4e1vgVcxiLlcbgllYLqqb4AVoRV9kZXqgG+gGYGhPoisHoAut9VBq+uqFuNuZf8SOt8M8W3KlCniYmPLqraNlv2z1x0qASWgBJRA+SKgQlz5Ou//ercqxP3XRPV+SkAJKAEloARKAIGsdAe+n7QNf849DJfTLSty5riRk+mC1ccEi/e/aahnWy7DHThLji46/yALgir4olqDYLTsVhVX31EHZkvx73W2Z5Xm9xkQwX+Y0xU4efJkaT0dPXp0ad6Srl0JKAEloASUgBIogIAKcfq1OB8CKsSdDz39rBJQAkpACSiBEkqAbrZvXt2KX78+gJx0JyJrnApSSDmZg5wMJxig6u1rhpfp7N44DzywZbqQk+mAX4AVl19TBW17VkeX22rD6m0uoQQuzrIyMzOxYMECrFu3DkxHZQUFBUmLLWfkcV6clhJQAkpACSgBJVC2CKgQV7bO82LvRoW4i01cn6cElIASUAJK4CIQ2PpHLJZ9uU/mxNkynEiNt8EnwAwfP7MEN9Axx9RUutnojmP7aUFFQY8iHF11vDYwzBsd+9XCkAktYbGWbxGOvDjDjcmnKr5dhC+1PkIJKAEloASUQAkhoEJcCTmIUroMFeJK6cHpspWAElACSkAJFEYgNSEH37+9Hfs3J6FBq3BkpTlwLDoVySez4chxwzfIDLggrztyXHDa3fB4IAmrhkPO7fbI6xTgGMoQVMEb1RqFwOMFhFfzQ497G6JR28hydQhsOc2bklquNq+bVQJKQAkoASWgBHIJqBCnX4bzIaBC3PnQ088qASWgBJSAEiiBBNYuPIplM/chNMIXIZG+skIKarH705FwLAupyWnYGDMXifYDSMjej2xXCuoGRKFd0DC4XR64ncxWBTbmfIyD2X8UukOmio4ZMyb3fQYT8PclS5YgJSUF9erVw7BhwyQF1Yu9sP8U00JffPFFbNy4ESdOnIDJZELdunVlttpDDz2ULzG1JOE9HyGudu3akuhaWDHJtVOnTvL2/Pnz8dFHH2Hbtm2SKBscHIymTZtKuisTWbWUgBJQAkpACSiBS0tAhbhLy7+0P12FuNJ+grp+JaAElIASUAJ5CNhtLsx6bSt2r49HozYR+QQwXsbghX17DuC1ObchwFoBkf71cCh1PRqFdcXVNR+FyQxYvdmC6oMM74PI9oqXeXJ5a9GKmTietBs/zfsdPW6KkrdiYmLQpk0bZGRkYMSIEahZsyaWL1+O77//Ho8//jjeeOON3FssXbpUfm/fvj2qV68Ol8uFVatWYdasWejVq5fMXCuJdT5C3A8//CBsTi9DeCQ/b29vefvll1/G5s2b0bJlS1SqVAlpaWmYM2eOMCI38tRSAkpACSgBJaAELh0BFeIuHfuy8GQV4srCKeoelIASUAJKQAn8Q+Dg9mTMnbwDbC2tVDOwQC4Opx3pWSkI9otAZlo2HnnvKrRt2AODrh0DH38LfAIs0qZaUNns2Xjkje4I9q2EuTN+Q6e+teQyut7ef/99rFy5MtfZxdeHDx8u7q7t27ejSZMmRZ4TBTzeIzo6Go0aNSr0WrvdLu8ZwtXFOvzzEeIKWiNdcFdddZWwe/fdd4vcBsXK1q1b4+TJk+Ii1FICSkAJKAEloAQuHQEV4i4d+7LwZBXiysIp6h6UgBJQAkpACfxDYMPS41j8+R5EVPVHQMgph1VR5XI5ce9L7dD58hsx9OYXz3Y5Vm/9CR/PHYOujYfif4+MQp+HTolrLVq0QFZWFvbt25fvHuvXr0e7du3w/PPPY/z48UXen26v0aNHY+3ateKWY33xxRe45557sGjRInGEzZgxQ9x3bGu94oorkJiYCLbI0nHG1yMjI3HzzTdjwoQJCA0NzX0eBcIPP/wQa9asESErMDAQUVFReOWVV84Q/Sh60ZU2depUaQ297LLL5H7ffPNNvhlxbdu2RWpqKvbs2XPGvigqfvzxxzh27Ji42gqqoUOHyjM2bNggItvZqnfv3uIyzM7OPtul+r4SUAJKQAkoASVwAQmoEHcB4ZaDW6sQVw4OWbeoBJSAElAC5YfA0hl78fu3B9GgdTjMZtNZN36uQtzEGQ8j+tAGPHr912hyeR0MGd8KFqsJjRs3Fofa1q1b8z1zx44daNasGW644QYsXrw433sU7viTmZmJdevWiXvOarWKmOfn55dPiOM9+N6dd94p7ba33nqrJJVSsEtISMADDzwgc+bopqPgRvcdRTcfHx+5D11nnLl29dVXo1q1ajhy5IgIZR6PB1xjxYoVc9dmOPOuv/56UPxiMiqv5Zy39PR0+Z3F5zz88MMiEHbs2DH383TsVa1aFVdeeWWhbbYU06pUqYIaNWrIugoqinwOhwNJSUkiND7zzDPo06cP5s2bd9Zz1QuUgBJQAkpACSiBC0dAhbgLx7Y83FmFuPJwyrpHJaAElIASKDcE5n+4C2sWHEWT9sVLND0XIS4pLQ6Pvd0TLep3xK2tx6NCFX8MHtcSAcHe4kKj0Hbw4EERmIyaMmWKiGDNmzc/Q6QbN26chDYYRVHtk08+EXedUYYjjmEFdMH5+p4Kn2BRuJs5cyb4j2EGQxi1cOFC3HjjjdIS++CDD8rLFPsCAgLyfQ/oZOO6uA6KXCwGSdAB17dvX8ydOzd3xh7n1lEEq1WrVq4QR6GMex00aJCs2yjOc6NQyD/79etX4HeP8/DuuOMOTJo0CU888USB11A0XLFihbxnsVjkXtxTWFhYufk+60aVgBJQAkpACZREAirElcRTKT1rUiGu9JyVrlQJKAEloASUwFkJ/PD+Tvy1iELcvw6voj50LkLcwpXT8N3y9zCi/0RUtrRFaCVfDB7bEoGhPvj111/RrVs3sF3zzTfflBCG3377DaNGjRIRjALW6W2rBw4cAH/YXsrP00336quvimvNKEOIe/vttyU11Cg62diGes011+CDDz44Y4t0r/Xo0QPffffdGe8xNMFms4kbjp+vX7++iG6s119/HU8//TTyppgaN6DLjk42wxHH1+nQY9tsbGxsrkhIwW716tXSKlvYHDs6BH/55RdpXa1cuXKBR0ThkW443mf27Nkwm82gsMkgDC0loASUgBJQAkrg0hFQIe7SsS8LT1Yhriycou5BCSgBJaAElMA/BBZ9uhsr5x1Ck3aRZySmFgTpXIS4Z6bcgtSMREx+YimO785ExZqB0prq62+RW0+fPh2PPfaYiEcstpdy7hsdZ2wH3bRpU5HnRLHtqaeewpYtW3KDHQwhbv78+eJyMyouLq7Q2WvGNV26dMl1lHEuHAU2OtuSk5PzraNr164iBLKGDRsmbahsdw0PD893HV1/3ENeIY6fu/baayXxdeDAgeC6uFe2rE6ePLnA/XItbEll6ytFvOLWTTfdJKEXbKU1Wm6L+1m9TgkoASWgBJSAEvjvCKgQ99+xLI93UiGuPJ667lkJKAEloATKBAE6uhJPZOHkkUz5MyUhB3s2JiB6XTwiqwUgJNwX/sFWBIf5FJqCWlwh7sDxHXjx07twbdv+uLvXM/KMFl0q47Ynm+cT/Dgfjc42/sm5bmyp5Cy3/v37S9hBUcVEULrDnn32WQlLYBlC3LJly8RxZxQdaGwLpTjFFtWCimENbdq0gdvtlmAHus/o0GPrKcMaTCaTuOwiIiIkhIHFVla2mdKlV6FChXy35bM2b96cT4jjGbAttmHDhliyZAkoJlKM5D/QW7ZsWeC62I765JNPisuNXIpb3377rYh9S5cuRffu3Yv7Mb1OCSgBJaAElIAS+I8JqBD3HwMtZ7dTIa6cHbhuVwkoASWgBEo/AZfLjf1bkrBrQzwO7UxBerINWekO2G0uZKbYEXc0A2aLCf5BVnj7mBEY4o3IqgHy4+1rzgeguELcjEWvYfn62Xjh/hmoVakp9m9JxDW318O1d/w7m60gsgwZoJNs2rRpGDJkSJHw6TSrU6cOHnroodx208KEOCab0rHWoUMHEcCKKjrsKMQVtAaGKlBEM4S4c21N5XOZBstZd0ePHkXPnj2l5ZXPLKwoULLdlM64c3G2GSwoyA0YMKD0f5F1B0pACSgBJaAESikBFeJK6cGVkGWrEFdCDkKXoQSUgBJQAkqgOAQSY7Ow8sfD2PN3AhJisuAXYEFIhO8p0c3XjJwsJ7b/eRLpyXYEhlphz3YhO8sFHz8zQir4oEaDEERU8c91sRVHiHM6HXj0zesRHBCGV0fMQcLxTDjsbvQa2gjNOlUqdNkMM2CaKJNRd+7cmZuEyvbNvCmlxg3oEqNbjILT4MGD5eXChDi+R/fap59+KrPWOOstb1Go4/PpamM7J0MZPv/8c9xzzz25l7GVluJgVFRUrhDHsAYGQ9D9drawBuNGFOA4k+62226TFtXT59nlXRfnvtGll1dsPB1gQXycTqesk0mw+/fvF8FSSwkoASWgBJSAErg0BFSIuzTcy8pTVYgrKyep+1ACSkAJKIEyTyB6QzxWzD2EQ7tSRICrXCsQVp/8DjdC2LcpEYd3pSCsoq844+jQys50IiPNjqAQb1SqEYQDmT8j25YJj8eNeb9/hFqVG6N1k1NiVstGXVCzcsNcnht2Lsd7s0djQLdH0LPTYOzZmIj6V1TA7c9cnjsfjq2iDCCggMX5Z3R7TZ06VebFsa2UiahG0SHH1k+GMvDalJQU/Pzzz1i+fDk6d+4sIQ9saWUVJcTx3p06dZIQiLvuugutW7cGBTj+ThGNs+nuv/9+UMSiEMfW10ceeURaWv/66y/QrccEUq7BcMTxmRTJmE7KGW6cS0enHn+n2Jaenp6vNdXYE69ly6jVasXx48clSKKg4vPfe+89rF27Nh+TvNdSpKToxtbWSpUqyf2++uorMOWVM/Ree+21Mv9d1w0qASWgBJSAEijJBFSIK8mnU/LXpkJcyT8jXaESUAJKQAkoAexYG4fls/fj2N40VKsXjOAKPoVSST6Zjd0bEmDLciI00jf3Ora0pibaYLGaMHf3w0jNPlngPe7vOw5XteyT+947s0Zh856VeHvUYniyAsRt13VgXXS+qVbuNUwipbuMAhcFLzrROMds7Nixkkqat9haSYGNs+Ti4+OlPbNx48biKBs5cmS+ds2ihDjek643tpPOmTMHhw8fFtcdU0UpjHF2HNNaWXSRcT4c01AdDoe0tNJ9ZySx5hXiKOa99NJLIiQytIGtpBMmTJAZd7wub1iDsS9jfhuFyHnz5hXIlc9lKyxn0tF5V1ixzZXttnv37pX9BQcHo1WrVuIAvPXWW/W/BiWgBJSAElACSuASE1Ah7hIfQCl/vApxpfwAdflKQAkoASVQ9gkcjk7BgqnROLI7FXWbhcHH75RbrLCiA44z5I7tSYVfoDXXtcbr+R7FOJPZCzUbhKBO07Bipavys5xBd2BrEpq0j0S/Ry9DQLB32YdfzB1SfOvXr5+47Pr27VvMT+llSkAJKAEloASUQGkkoEJcaTy1krNmFeJKzlnoSpSAElACSkAJnEGAM9/mTNmBLX/EovZlofALsBaLki3biV1r4yVNlTPkrN6m3M9RjEuKy0FAsBWNW0WiQkW/s97T5XTjwLZkVKwRgB73NkT9luFn/Ux5uoDuP86i47w4o622PO1f96oElIASUAJKoDwRUCGuPJ32f79XFeL+e6Z6RyWgBJSAElAC/xmBlT8ewm/fHYSPvwUVqwec031T4rKxb0sSUuNzEBzuIwmqRjmdbiTH5cg9m3eoJO2qhZXD7sKhHSkIq+SHK3vXQIfeNYrtojunBV/Ei9lGW1ibaXGXkZmZiQULFmDdunUS0DBx4kSMHj26uB/X65SAElACSkAJKIFSSkCFuFJ6cCVk2SrElZCD0GUoASWgBJSAEjidQFaGAzNf3YwD25PQsFVEgeJXji0LS1Z/icMxu3AoZidSMxLR6YreuO/mF+V2nBdHJ9viLW/gQNqKQiHfcs3D6NPl/tz3E1NjMefX97Flz2pk2zIQEVINt986BG98+DzM5n9FO84640wzpoEyoMFkMqFu3boyL46hB5z/VhLrfIQ4hjZwHl1hxTl0DJEwisEMnDnHf7SnpaVJOARnvT3xxBMIDQ0tiXh0TUpACSgBJaAElEARBFSI06/H+RBQIe586OlnlYASUAJKQAlcQAKb/ziBhZ/tFjdcRBX/Ap+UkByDJ9+5ESFBEahdpQm27FmZT4jjhzJT7VizZg2OxxyWOW90xnn7nnLHbTz8I5Jy9mPcAzNRp2pTeS0xJQ7jPrkTOfZstK/fF3Xq1cHJnG34efkCPP7443jjjTdy18KkUP7OVNTq1atLaumqVaswa9Ys9OrVSxxjJbHOR4jjHDiGU5xehvAYExMDb+9T8/NWrFiBa6+9Fg0bNsS9994rwQsMtJg2bRratGkjf/fy8iqJiHRNSkAJKAEloASUQCEEVIjTr8b5EFAh7nzo6WeVgBJQAkpACVxAAj9+vAt/LjiCRq3D87nQ8j7S4bQjIysFYcEV4XI5MXR8+zOEOF7vdnlw8nAG4o9lIiPFhuxMJ5xOG+bsfwCB3pH4342fw2I1IzvDgcVbp2DT4QV4ctCn6NHnGrTuXhWBoT6SQvrRRx/JLLQmTZoUufMRI0bg/fffR3R0NBo1alTotXa7Xd4zhKsLiDPfrc9HiCtojXTBXXXVVZL6+u677+ZeMmDAAAlwoFswPPzfuXq8bsqUKdi0aROuuOKKi7VtfY4SUAJKQAkoASXwHxBQIe4/gFiOb6FCXDk+fN26ElACSkAJlFwCnOH2+biNOLQzBQ2uKF4wQlFCnLFTl8uNlLgcpCbkYGP0UizePgmtK92NPl0HI7ySPwLDfDBu6kC43Hbs2rU7XzLq+vXr0a5dOzz//PMYP358kfDokuO8NLZl0i3H+uKLL3DPPfdg0aJF4pqbMWMG6B5jWyvFqMTERGnhpHDF1yMjI3HzzTdjwoQJ+Vo4V65ciQ8//FBcfhS4AgMDERUVhVdeeeUM0Y8OvZdffhlTp05FfHw8LrvsMrnfN998k29GXNu2bZGamoo9e/acsS+Kih9//DGOHTuGSpUqFbjvoUOHyjM2bNiA1q1b515zww03YPXq1UhJSZG2XaNeffVVPPvss9i9e7e45bSUgBJQAkpACSiB0kNAhbjSc1YlcaUqxJXEU9E1KQEloASUQLknEH88EzNf24KMVDuq1w8uFo/iCHF5b/TG9IcRfWgDHuo2E33uboMOPWogMNQbTZs2EYfa1q1b8z13x44daNasGSguLV68ON97WVlZ4A8DDBheQPec1WrFvn374Od3KpXVEOJ4D7535513Slsm56UFBQWJYJeQkIAHHnhA5szRTUfBje47im7GvDm6ybZt24arr74a1apVw5EjR0QoYxos11ixYsXctRnOvOuvvx69e/fGoUOH5FrOeUtPT5ffWXzOww8/LAJhx44dcz9Px17VqlVx5ZVXFtpmm52djSpVqsjsN64rH+N/BEkKkI899hhCQkJEnGQbK5NW2cKrpQSUgBJQAkpACZQuAirEla7zKmmrVSGupJ2IrkcJKAEloASUAIBje1Px9Rtb4XF7ULFGYLGYnIsQl5wWhyfe6oVm9a5Ez8tewA13NcDVt9SR59CFRqHt4MGDIjAZxVZKimDNmzc/Q6QbN26chDYYRVHtk08+QYsWLXJfM4S4pk2bigvO19c39z0KdzNnzpRAg3r16uW+vnDhQtx4443SEvvggw/K6xT7AgLyJ8jSycZ1cR3PPPOMXMcgCTrg+vbti7lz5+bOYuPcuj59+qBWrVq5QhzdcNzroEGDZN1GzZkzR4RC/tmvX78Cz4Fi2h133IFJkyZJAEPecjgcGDVqFD799FMYbbh8nxzfeeedfC65Yh2yXqQElIASUAJKQAlccgIqxF3yIyjVC1AhrlQfny5eCSgBJaAEyiqBo3tSMevNCyfELVo5DXN+mYIHb3kNoY6WuG5QfVzTv67g/PXXX9GtWzewXfPNN9+UEIbffvtNBCWKYBSw6HTLWwcOHAB/2F7Kz9NNx/ZLutaMMoS4t99+G//73/9yX6eTjW2o11xzDT744IMzjpTutR49euC777474z2GJthsNnHD8fP169cX0Y31+uuv4+mnn8bpKaZ8jy47OtkMRxxfo0OPbbOxsbG5IiEFO7aW5g1gOH0RdAj+8ssv0rpauXLlfG+73W5MnDhR1nDLLbeII47X0pX3yCOPgCy0lIASUAJKQAkogdJFQIW40nVeJW21KsSVtBPR9SgBJaAElIASAHDiUDq+nrgFtmwXqtQJKhaTc3HEPTflVqRlJOLV4YsQeyAbPQY3ROc+tXKfM336dGmlTEpKktfYXsq5b3ScsR2UIQNFFQWmp556Clu2bMkNdjCEuPnz54vLzai4uLhCZ68Z13Tp0kUSSFmcC0eBjc625OTkfMvo2rWrCIGsYcOGieDFdte8QQl8j64/7iGvEMfPMeGUDreBAweC6+Je2bI6efLkArfLtbAlla2vFPFOr0cffRQ//vgjdu7cCX//f5NvOR+OQiVTUzl3T0sJKAEloASUgBIoPQRUiCs9Z1USV6pCXEk8FV2TElACSkAJlHsCOVlOCWs4cTAddZtXKBaP4gpxB4/vwEuf3I2ubfujd7tHkZXuwE3DmqDZlfmDCNhKSWcb/+RcN4vFIrPc+vfvL2EHRdXJkyfFHUbBiWEJLEOIW7ZsmTjujKIDjW2hN910k8yWK6hCQ0PRpk0b0GHGYAe6z+jQY+spwxoYhECXXUREhIQwsNjKyjZTuvQqVMjPkM/avHlzPiGOrjq2xTI8YcmSJeJWoxjJf2y3bNmywHWxHfXJJ5/E7NmzhUveIjeu7f777z/D6cfWXO6noHbWYh22XqQElIASUAJKQAlcMgIqxF0y9GXiwSrElYlj1E0oASWgBJRAWSQw+53tWL/sGJq0i8ydb1bUPosrxM1c9Dp+XTcbY4ZOh6+9JnwDrLjzyRaoXKto5x3TTOkkmzZtGoYMGVIkcjrN6tSpI6EERrtpYUIck03pWOvQoYMIYEUVHXYU4gpaA0MVKKIZQty5tqbyuUyD5ay7o0ePomfPntLyymcWVhQo2bZKZ5wRJmFcy9e4JoZP0JmXt+iE437piqO7T0sJKAEloASUgBIoPQRUiCs9Z1USV6pCXEk8FV2TElACSkAJKAEAqxYcxs8z9yG8ij+CK/iclUlxhDin04HH3rweQQEVMGH4d9i1Ph6Xta+EQU9fDovVVOgzGGbANFEmo7LN0khCZftm3pRS4wZ0idHtRfFt8ODB8nJhQhzfo3uNgQacn8ZZb3mLQh2fT1fb9u3bJZTh888/B5NIjWIrLcXBqKioXCGOYQ0MhqD77WxhDcZ9KMBxJt1tt90mLaqnz7PLuy7D1ZZXbDx93Zx9R4GOa6GrzygjzfV0d+BZD1kvUAJKQAkoASWgBC45ARXiLvkRlOoFqBBXqo9PF68ElIASUAJlmUDiiSx8NXEL4o9noW6zsEK3uvyvb5GVkw64TlaFAAAgAElEQVSPx40ffvsYNas0Qusmp8SsKxpFoUblBrmf3bjzV7z/7Wjc2m0kOjYZiNSEHNxwdwN0uKFG7jVsFWUAAQUszj+js2vq1KkyL47CERNRjaJDjq2fDGXgtSkpKfj555+xfPlydO7cWUIe2NLKKkqI4707deokIRB33XUXWrduDQpw/J0iGmfTscXT6XSKEMfWV4YdsKWV7jK69cLCwmQNhiOOz6RIxsRVznDjXDo69fg7xbb09PR8ranGnnjt0qVLYbVacfz4cQmSKKj4/Pfeew9r167NxyTvtZyrN3r0aHEH0hkXHBwsYuO8efOEGefSeXl5leWvse5NCSgBJaAElECZI6BCXJk70ou6IRXiLipufZgSUAJKQAkogXMjsOjz3fhz/mFUqRuEoNCCXXGj3+6NxJQTBd743pvGonPLPrnvvfv1Y9iyZyUm/W8RTu7zQp0mYbh9dAuERvjmXsMkUrrLKHBR8KITrXv37hg7dqykkuatb7/9VgQ2zpKLj48X91fjxo3FUTZy5Mh87ZpFCXG8J11vbCedM2cODh8+LK67mjVriojG2XFMa2Xt379f5sMxidThcEiLJ913RhJrXiGOYt5LL70kQiJDG9hKOmHCBJlxx+vyhjUY++KeGNZAIZKCWUHF57LtlDPp6HYrqhjWQGcdr2O4BPc0YMAAjBkzJl+Aw7l9M/RqJaAElIASUAJK4FIRUCHuUpEvG89VIa5snKPuQgkoASWgBMoogYSYTHz/3g4c2J6Mhq3CYTYX3j56LghiDqTBy+SFbgProd111c/lo2X+Wopv/fr1E5dd3759y/x+dYNKQAkoASWgBJTAuRFQIe7ceOnV+QmoEKffCCWgBJSAElACJZzA37/F4JdZ+5GWbEOdy8JgMp1fK2NSbBYSYrLQ6tqquHlY0yJnw5VwNBdkeXT/cRYd58UZbbUX5EF6UyWgBJSAElACSqBUElAhrlQeW4lZtApxJeYodCFKQAkoASWgBAom4HK58evsg5KgmpXmQK0mof8v8YwJoBTgkmKzcVmHiuh9XyOEVfRT7AAyMzOxYMECrFu3TtpIJ06cKLPdtJSAElACSkAJKAElcDoBFeL0O3E+BFSIOx96+lkloASUgBJQAheJgNPpxu/fH8Sm308g7ngmqtUJQkieuW5chi3HifRUOzLT7cjOdMDl8kgQgNXbBG9vM1LjcxAQ7I1GrSLQc0hDhFf2v0irL/mP4aw4BioEBQXJfLsPPvhAwhq0lIASUAJKQAkoASWgQpx+B/5LAirE/Zc09V5KQAkoASWgBC4gAbfbgx1r4rB2yVEcjk6By+lGeGU/eFm8kHAyC/GxWcjJcsJud8HpcIMOOJfTA6fdBXi8EBzmjTpNw3D97Q3QOqpqoeEPF3ALemsloASUgBJQAkpACZR6AuqIK/VHeEk3oELcJcWvD1cCSkAJKAElcO4EUuKzsfHXGOz4Kw47NsYh9liGuOFMZhN8/Swwm0/NkKNwZ7Gees030AL/YCvorGP6avW6wejcsxaatat03jPnzn0H+gkloASUgBJQAkpACZReAirEld6zKwkrVyGuJJyCrkEJKAEloASUwDkSOHYgDfO/iMaW1SdkbpyPnwUelwceD0AZzmw1SRtqQLBV5sAFhnrninPJ8dk4cSQDlasHonmHSrhuQH0R67SUgBJQAkpACSgBJaAEzk5AhbizM9IrCiegQpx+O5SAElACSkAJlDICR/amYP703dizNQEVqwUgorK/zIJz2F3wuCFKHJ1wRaWrsnX1yN5UuaZllyroM7ixinGl7Hugy1UCSkAJKAEloAQuDQEV4i4N97LyVBXiyspJ6j6UgBJQAkqgXBBIPJmFb9/fhuhNCajZIOS85rxxhtyx/WkS6nDldTXQ+65G2qZaLr5FukkloASUgBJQAkrgfAioEHc+9PSzKsTpd0AJKAEloASUQCkh4HK58cNnu7BqyRFUqhGI0HDf8145xbiDu1IQHOaDGwc3QosOlc/7nnoDJaAElIASUAJKQAmUZQIqxJXl073we1Mh7sIz1icoASWgBJRAOSfA0ISUhGykJNok6dTL5IXAYG9JPLVazcWms3nVCcyfHi3JqLUahhb7c2e7kG2quzcnoHHLCAwadYWIcuWphgwZgt9//x2HDh0qT9vWvSoBJaAElIASUAL/TwIqxP0/wenHhIAKcfpFUAJKQAkoASVwAQjQvXZwVzJ2bUrAsQOpSE22iYBGUc7LC/D2tSAwyIqqtYPRoHk4Gl0eDj9/a6Er4f2+fGsLNq6IQZNWETBbTGdcm2PLwrLVM3EkJhqHY3YhLSMRHa7ohSE3j8137RfzXsTazYsKfdaECRPw3HPP5b5/9OhRjBkzBkuWLEFKSgrq1auHYcOGYeTIkTKbzqhdu3bhxRdfxMaNG3HixAmYTCbUrVsXFLoeeugh+PiUTIHvfIW4VatWyb7Xrl0Ll8uFli1b4vnnn8f111+fj/H8+fPx0UcfYdu2bYiPj0dwcDCaNm2K//3vf7jpppsuwLdQb6kElIASUAJKQAlcCAIqxF0IquXnnirElZ+z1p0qASWgBJTARSDAVk+6y1b/chRMNo0/kQV4AP8gK/z8LTCZvSTZ1JbtRFaGA3abCxUq+kmCaavOVdC2a7UCXXL7tifJbLicbCeq1w0ucCcJyTEY885NCAmKQM0qjbFtz58FCnEHjm5FfNLxfPdwezxY/OtXiEvdi7/+Wod27drK+zExMWjTpg0yMjIwYsQI1KxZE8uXL8f333+Pxx9/HG+88UbufZYuXSq/t2/fHtWrVxdRiiLVrFmz0KtXLyxYsOAinMC5P+J8hLhly5ahZ8+eqF27NoYOHSpi48yZM8F/oM+bNw99+vTJXdDLL7+MzZs3i1BXqVIlpKWlYc6cOcKI3MhTSwkoASWgBJSAEij5BFSIK/lnVJJXqEJcST4dXZsSUAJKQAmUKgKZ6Xb8vuAQNq+JxfFDaQgL90VElYAi00idTjcYwBAfk4WwSF80viIC3W6uh8o1AvPtfdl3+/DTrL2o3TAUvv6WArk4nHZkZKUgLLgiXC4nho/vWKAQV9CH7fYcPDHxBoQFVcZfazbmtr7S9fb+++9j5cqV6NSpU+5Hhw8fLu6u7du3o0mTJkWeEwU83iM6OhqNGjUq9Fq73S7veXt7X9RzPx8hrnnz5oiLi8Pu3bsRGnqqXdjpdIp4mZSUhAMHDsBiKfi8eC3FytatW+PkyZPiItRSAkpACSgBJaAESj4BFeJK/hmV5BWqEFeST0fXpgSUgBJQAqWGQFqyDT/OiMbWtbFwOT0iZHn7FH/+G1tWYw6lIy05Bw1bhOPGQY1Qu1FY7v5nvrMFa5cdRaMrIuB2nWpvtXibYTb/2xqaF9a5CnF/bV2CaXNeQNeWD2Di2y+gTVQ1uV2LFi2QlZWFffv25TuL9evXo127dtKCOX78+CLPiW6v0aNHS+sm3XKsL774Avfccw8WLVokjrAZM2aI+45trVdccQUSExPx0ksv4YcffpDXIyMjcfPNN4Nts4bgxftQIPzwww+xZs0aEbICAwMRFRWFV1555QzRj6IXXWlTp06V1tDLLrtM7vfNN9/kmxHXtm1bpKamYs+ePWfsi6Lixx9/jGPHjsFqtSI8PBz33Xef3DNvTZo0CU8++aS4B6+55poi+fTu3Vuuy87OLjXfd12oElACSkAJKIHyTECFuPJ8+ue/dxXizp+h3kEJKAEloATKOQG2mM75bCc2/hEjQQd0s+WdnXYueCjoHd2fiobNw9Hvvqbiktv610l89c4WxB7JgH+wFR43p7xCRLiAYG8EBnnLdaHhfiLQsc5ViJs8YyR2H9yAe7tNxy33tMMNAxvIfRo3biwOta1bt+bbxo4dO9CsWTPccMMNWLx4cb73KNzxJzMzE+vWrQPdcxStKOb5+fnlE+J4D7535513CrNbb70VQUFBItglJCTggQcekDlzdNNRcKP7jqKbMW+Ojj3OXLv66qtRrVo1HDlyRIQytghzjRUrVsxdm+HM4+w2il8MZ+C1bCtNT0/PDWvgcx5++GERCDt27Jj7eTr2qlatiiuvvFLabGNjY1GlShWZlffuu+/mY0AHIJ/32muv4amnnsr3HkU+h8MhjjkKjc8884y0sLKVVUsJKAEloASUgBIo+QRUiCv5Z1SSV6hCXEk+HV2bElACSkAJlHgCFHzYMvr7goPw9beiaq2g815zeooN+3cloUKkH8Ir++PEkXTsWh8Pl8ONwDBvmExeMnfO5fKAiadmixf8AqwIqeCLKjUCUbFaINzu4remJqfF4dm3+qBZgysR1eAZXNuvLm6691S7KV1oFNoOHjwoopNRU6ZMEQGKrZmni3Tjxo2T8AKjKKp98skn4q4zynDEMayALjhfX9/c9yjcGXPWGAxh1MKFC3HjjTdKS+yDDz4oL1PsCwgIyMecTjaui+ugyMVikAQdcH379sXcuXNzhVIKahTBatWqlSvEUSjjXgcNGiTrNorz3CgU8s9+/frB7XaLU69GjRrYtGlTPvHVuK4gkY6i4YoVK+S2bFvlvbinsLB/HZDn/SXSGygBJaAElIASUAIXjIAKcRcMbbm4sQpx5eKYdZNKQAkoASVwoQhEb07A3M92IiE2C/WbVfh/O+GM9VHYiz+RiR0b45CSkIMKlfxQr3EYDkenwG5zI6RC/uRRD2eSOdwS/MBUVjrkKlYNQM2GQXhiUpdizYhbsnI6fvjlfQwd8Cq8M5vhmpvqot/9TWVJv/76K7p16wa2a7755psSwvDbb79h1KhRIoJRwDq9bZVz0fjD9lJ+nkLdq6++Kq41owwh7u2335bU0Lz7p7jFFlO2klLgylt0r/Xo0QPffffdGUfKQAmbzSZuOLaD1q9fX0Q31uuvv46nn34af/75Z75Zd3yPLju2hdIhZxQdemybpevNEAkp2K1evVpaZY05dmPHjpXWXM6Ze+yxx+R1ttmyHZcOuoLaVik80g3H+8yePRtmsxkUNhmEoaUElIASUAJKQAmUfAIqxJX8MyrJK1QhriSfjq5NCSgBJaAESjQBl8uN6W9txoY/YtCoRUSBM+FybFn4ZfVMHImJxpGYXUjLSBRx7O6bx+bb24x5L2Lt5kWF7veKmrejfmgfhEacco5l5CRg44GvcDRxE+zOTAT7VUajqtejmv+1MkMuLNIH036/FZc3joLV4o3DMdFIy0iAl5cJEWFVceUVvdGl7S3y3rgpt8m6Xn1sEfZuTsV1A+rhxrsb565l+vTpIjJRPGKxvZRCEx1nbAc9XSw7fRMU29ieuWXLltxgB0OImz9/vrjcjGLwARNFi6ouXbrkOso4F44CG51tycnJxfq+nC7G0fXHPVCIe+GFF2Q2XUREhLTGMvF14MCBEsjAvbJldfLkybnPoVjI+XcU0thuyqJYydl5dO1RZOT+i6qbbrpJQi/YSmu03BZrI3qRElACSkAJKAElcEkIqBB3SbCXmYeqEFdmjlI3ogSUgBJQAhebwL4dSfh6ylZxotWoFyJOLIpgbo9H2kfNZhMSk2Pw/Ds3ISQoAjWqNMb2PX+eIcQxqGHrjg2I3rkHSQnZcNjc8PY1ySy4w6lLkW4/hB7NX4e3ozoiq/oj05aEH9c/AYcrB02r90SgbwRikrbiYPwaNK/RFy2qDUJqchYW7h6MBjXbwGI1o061yxAaXBFujxv7j2zBhu1L0axBJ/S6+n689skQRLW9FX2jRiHmcDr63tMYnXvUyoeT7i462/gn57qxpZKz3Pr37y9hB0UVE0ErV66MZ599VsISWIYQt2zZMnHcGWXMXWO7J91tX3311Rm3ZlgDU0nZGspgBwYn0KHH1lM66ThD7tNPP5X1Pffcc/L5zz//XJx8bP/kM/Ims1II27x5M7gWtrRybyEhISKKNWzYEEuWLBExjWIk/+HdsmXLM9aUkpKSK6RxTb/88os49zhvbtiwYUXy+fbbb0XsW7p0Kbp3736xv8b6PCWgBJSAElACSuAcCagQd47A9PJ8BFSI0y+EElACSkAJKIH/J4EFX+7Gwlm7JaDBbnMhI82OnGwnx7eBY9w4t83H3wtm72zUrVsTZgswcnzHXCHO4XAh7ngmTsZkIPZYBpLisuCwuyUNlaELLrcN6xOegK8lHFfVfAW2TCciKvtjR/wM7IpZgt6tXkbl0FOz3Firdn+M6ONL0a/9O/A1VcJXa25DwypdMfK+V2G1mvLtctaiSVix7ju0bX491m/7GU8NnYZAc2047W4MHNECjVtGyPUU3lh5hSv+zpABOsmmTZsmbZlFFZ1mderUwUMPPYQPPvhALi1MiKPDjEmknPvGEIe87aKnP4MOO4peBa2BoQoU0X7//Xf5GJ/NOWy33HILvv/++3y3MlpTGzVqJK3FOTk50m7LoAjOujt69Ch69uwpQiufWZyiE44BDrwPwyaKKoMFBbkBAwYU5/Z6jRJQAkpACSgBJXAJCagQdwnhl4FHqxBXBg5Rt6AElIASUAIXn8Cxg6mYNHoVdm9NgK+/RYQ4ltliEhHN4wGcTrf83cfXIsmm4ZV8Mfm73iLE9b7qSRzcnYyk+CyZ75ad6YAjxy2pqHTSsU6kr8a2uI9RN7g/6kf0QkaSHRZvEzalvAiPlx23dfqI4am5FZ+2Fz9ueBIta/dHy9q34fPfb0WtsC4YcN2zqNe0Qj5IS1fNxNyl78LPJxAhwZEYN+JbzJs/Cz9vfBvfffsDNm1ZJ7POOMeMM80oeHHmG9s2OXeN4hRnm91///2SDEqXGts3mVK6cuVKcYLRmcbWUUPc4pw4tpGyDPGJbrO//voLU6dORXx8vLjaeA8GRPBPuulYnFHHEAWGLvDPChUqSDsnHWycB/fHH3+IM45trWylpTjIv3O+G8U8IzyBc+o4t85ItTXCGjiXjvel648tpRTQuH7OpLvtttukRfX0eXaFfet4jw4dOkgIRF63oMEn7+ecTieioqLkWfv37xfBUksJKAEloASUgBIo2QRUiCvZ51PSV6dCXEk/IV2fElACSkAJlCgCdrsLf/16DL8tPIBVS4/AYfcgsrI/fPwsp9JMTyvOkaNLLivdAZjc+GnHYDSo2hWtaw5DarIN/oFWEfEYzGCxmmD1NufeYWPMRCRlR6Nt5ASkmzcgIXU/UnIOwuFJhcXLH32aT0VYuJ+IfaxlW1/F4YR1hfLq1KoPekbdh0PHd+CbRZPgcDqQY8uAt9UPLrcTvtYgZOYkiRhGBxwDC9LT0yXBlO60vXv3SoACi0IWxbmdO3eCyacUktheSbGOjjKKWgwfoDgWHR2d2+7J6ymwGUIcxSrOibv++uvRu3dvEc3oXKNAxdbUe+65B61bt5aZcAxooGD2yiuviADIa9gmy5RUBjM8/vjjIurRrccWVIZJUIijeMcUVAqHnHPHZ3EunfEsrnP37t3yeYY6UKyjEEfnHK/jrDgWE1y5xyeeeEKERxbXdPfdd8ueCytjJh33TdGNra0UCY8fPy6tt1w/Z+hR0NRSAkpACSgBJaAESj4BFeJK/hmV5BWqEFeST0fXpgSUgBJQAiWKQGaGHfNn7sbWv2Jx4mj6P+KZGYHB3mddp8fjRkpyFuZvvhvh1g6oEzAEAUFWEe8o0nFOnJ+/VcQ4s9kLNlcy/jj8GCL8WqBOwO1Yn/A0fC2hCDDXQqKN7ZFe6Fz5TURGVkaFSD9xxq3dOw3bj84/61p4QY0qjRATtx8ulxNRbfvD6qyEXcd/wfG4aHGbUSSiiMUkUs46o9BGEY4z2NjKyZlvCxculFlt69evF/GM4hQFNrZvUrzijLXGjRuLo+yGG24QQY0BD88880yuEMe1cEYbXXanu9SCg4PlOYcPH5a1pKWliQOOwh3TWlnvv/8+RowYIeti0Yk2adIkCUmgAMjP0Yl3xx13iMiWlZUl7juujyLehAkTRFjjtZzzxvtQiGNwAsMf+HyyoOjYqlUraYPlnin4cb0MeRg8eLCIekxeJbt27dqJG44z5cjASFllmysdgBQ0KVRyf7wnHXh07GkpASWgBJSAElACpYOACnGl45xK6ipViCupJ6PrUgJKQAkogRJFICvTgbnTdmLDyhh4+5gQEOiNbetOwmT2gn9g4UIc54plpttlflxaShbWxD2EUFM71PQdDG+ZBeeB3cYWVoY7eMn9LBYTYm0/42DaHDQJewiBuAz+oQ5EhldGakIWlh26T9gEWeqgYdhAVIqsggz3Hqzd9zkcLhuCfCMx4MoP5Rqny4aZK4fA36cC7rrpKdicGdh9YAO2RK9AWmYynrjvE4R6N0Bakg2OkL/x9ifPyFooRFFwY3EPdKKxBdSY8cbX6eJiCAJTVHv16iXusNOLQh5ddbwHxTg61yi6sSiMsVX19BRTvmfMbcs7I44OvUWLFknYAgU2FgWv1atX54pdeZ/P9lTOiKMYyPAEuvMorOUttrfSocY23Ntvv13eohC3bt06cdxRtKPQRpdd3759MXLkSElIpQBHca6w4p6uuuoquZ6z4rSUgBJQAkpACSiBskNAhbiyc5aXYicqxF0K6vpMJaAElIASKFUEKCLRCbdi8SF4e5tQvU4wkhNysGXtSWkLDQgqWIhz2F1ITsgGnXS2HBfsNjs2pY9EuHcH1PS9GyYvL3HEuZxuccK53YDT4YLL7cGenAlwetLQLPBVwG2Br59F2l89TidWxj6IIEt95LhPwOHOFJZmkzfa1x+Cvw9+gwCfcNzc7i15fV/sCvy+8x1cXn0Qbus7FBUq+snrT03qidSMBIwePBM5SaFo3q4SXOGb8dDDQ+X9559/HuPHj5e/c7YZWymLqi5dukj7qNFyStGOAtnpLZudO3cWZxyFLc6ZY/LpfffdhzfeeCO33ZPPoYjFf+SynZNz5uhUYwss589xXhtbRLmuatWqSSophcK8c+bodON8tuXLl8vn2Y7K6+lEYyuoUVw3hUc67T7++GMR6+jgW7t2rbTn0t1GUZJrZZoq3XVMf2UrK8MgCquhQ4fKejZs2CD71VICSkAJKAEloATKDgEV4srOWV6KnagQdymo6zOVgBJQAkqgVBHY8Xcc5ny+A0lx2ah/WQURbuhw27TqBGw2F0LCTrmz8hYddIlxWcjOcsBs8pLghpxsOzZnjESEz5WoEzAYTocbbpdHxDwGNDhdbnjcHmQ4D+GA4w1UMF2F6j63iVjHWXIMgnA6HOKqi7B0QB2fQXB6x8INJyqH10XlasGYseIO1KnYEdc0e1yWs3jTOMSkbEePRlPQsn191KgbIq8/P7kf4pOOoU39Abi7/yj0vacxfl31g8xkY9G9xsAEFh1onLHGGW50mVFcYysnnWGcu8ZwBAp1bNmkQ47Cmslkkteuu+46ac/kbDQGPRhtpkwkZZsnxTG62+iAY/srr2UxaZQtnXTMUWw7cuSICGWcQUfx7LfffpPwBLZ/+vv7S8tp3jlzvJZBC2wrZYvp7NmzRRh855138N5770k765w5c6QllIIdU1XpcPvkk09E5KP4ZoiIfAZbXSnO8bru3buLGFhYsUWVvGrUqIFt27aVqu+6LlYJKAEloASUgBI4OwEV4s7OSK8onIAKcfrtUAJKQAkoASVQBAFbjhNTJ/2Nreti0aBZODLT7EhPY6upDXu3J0niqU+AC8fSfkaG/TBScw4ix5GCygGdUDtgMHx9LRznJsKdy+kQR5yPqSIAN+zuVFgQBH9TfUSYuyLdvRXZnqPSZuqBHYFeTRFgqo9k92o4PCnwtVSA2eSLDPuRIs/M5GWWVtSIoPo4FL9G/s42S5cnC5HhNdC51U3YsGUFDsX+jfYteuCb2V8j231CRDa2ZLIopNElxtcomlWtWhURERGS7GlU+/btRbhq0aJF7mt00Y0dO1au57VGCykvCAgIkAAGuskYfECnGP8hyxZVtrlyzhznpbEaNWok1+ZtTaWTja44uuhGjRqFt9465foz1ktXHN/v1q0bqlevLi2lDJmgm46uuGXLlkn4AttoOd+Oohzvcy5FcY2z5Dgvjy2tdA5SAMxbFOk4k46z6jh/7mIWHYlshWUoBgXKrl27SghEgwYNLuYy9FlKQAkoASWgBMo0ARXiyvTxXvDNqRB3wRHrA5SAElACSqA0E6AAN/P9rdJi6nC4kJZigy3bJS2kmekO0PnmsSRjc+JzsJpCEGithWTbVglkaFZ5qKSgZmc65MftlY7NaU/BCxZU8esOK8KRaTuJJPefnMQGN3Jg8QqG08N2Uxd8vCrC5olDmLkDQnzqw2Y6hBMZvBYI8WmAKv5RcGS74HBm44hztoh7FpMv2tW/G5m2BGw7sgBujwMmLyvqht2AalVrIC59O3Yd/gPhwdWRmHYMtWrWxsyvvsSBAwckRIEuNDr+wsPDxc1GUYnCFYU1im4TJ06UNNRff/0VW7dulVZNtpGy5ZNBBWwJpThFV1le15jRskqxjCIRi2mjdN0xDOKPP/6QPzlnbsGCBTL7jYEMFOI4Z46iHFuE+Sy68Ri0wPluISEh8my2izIsgq46imwU/dhaSscdXWycbUfxjHPgfv75Z5w8eVIccVwDr+O9Bw0aJBzotqPTb8CAAeLgY0Ir18G9UQRkey2ddEyT5T/E582bJ+s1im7CwmbSXcj/FiiAUghlW/DNN98sXOhapAjLQA06BLWUgBJQAkpACSiB8yegQtz5MyzPd1Ahrjyfvu5dCSgBJaAEiiRAcead59dg6dz9MFu94LC54RdggZ+/BRarWUIY4k9kwQMHYM6G1RSK9NRsbEwejjBLe9QPvgc+vhYcTVkGuzMLWZ5DSHVsg7cpApHeHaUVNcDTDHZPPI65PkMla0/4marhkO3T3HWFm69GDb/+0p7q62/FkaxvcCxtOcxevqgZej18zBUQm7oOKY4d8pmO1caiYnBDmQ2eXykAACAASURBVDk3b9sQuDw2+JhDUdn3KkSGV0F4FS+si56H5NQ4EboYpJCUlCSfpSBlt9tF0KJow0ACtnAymZRtmXTH7du3D3fddZe42Sg2McGUTjkmgt5777348ssvRbiiEEY3GFs0mTDKgAYKQ0UVgxyYoEpnHNtROa+Na2Jrad4KCwvLfY2iINtWmYJK8ZBFoY6iHkU0niHXTvceiwLitddeKyIh18RZdRTXhg8fjsmTJ8s1fDYFSa6d+6WzjO5AinoMjGBLLPfExFO245IfBTzOkKPzjq45uuQYLHGxiu3DZEEHHJNZjQRaMqBLkEETX3/99cVajj5HCSgBJaAElECZJqBCXJk+3gu+ORXiLjhifYASUAJKQAmURgIUcBZ/txefTtyAhJPZiKziL0mpnOdmlNvtwYkjGcjKsEtyqsNGl1wO/k4bIYEMNXzuEkFke/oYODynxK7Tq6r5TnijEg653kJ174FIc+1AmuvfuWKNfV9EgG9F8FlMVfXyScb62Gdh9vKDxeQHu4vilhc8cCLc0gGdGo5AZKUAxCTsxuJtT8vjQvyqw+bIhMOdLnPmKLaxOnbsKCIWRafPPvsMnG328MMPy3sUnxwOhySipqWlSVtn27ZtpY2Uc+DoKKNrjC4zo+jEYlso3WlMJ6VwRZGLYlqdOnWkJZXFNknOoqOTjK46CliZmadCJ9gS++GHH8psOAp348aNE/GMwhdnthnP5PmwKBjSrcbZcXTkcY38HO/BtZA/18CiS4zCGwMg2FbKovuNPCi68R7BwcHyee6d+2HYA4U2inz8DK8hMwqN/fr1E9HtlVdeket4PefJUajj/nkf7p0iIJ1qhhho8KILkHPzNm/eLK4/rovhEG+++aaIakZxXh2FTq6VZ0GWDINgWy15sSgq3nLLLSKE0tmXt+hoJEOKlVy3lhJQAkpACSgBJXB+BFSIOz9+5f3TKsSV92+A7l8JKAEloATOIECRZ/mCA1gwaze2/XUSQaHeBQYy8INpyTYkxmWL84rhCzlZNmzJfAQRPh1QJ3CIiHMMamAYg828H9Fpb8EMJpd6wYUsBHo1gdOTAbeXDQ19R8Ni8ofH48KWrEfkGm+vCnB40mA1BSHQ1AA1g3tic9JYcbldVfsdWftfR19Euv2gtLx64EFwQDj8fP1xMvEQTCYLnr7nBzhtVgx4oBlWrP8Gjz9+KsiBRXcZ57Vxntnll18u7im6q+isomBGYYcCHd+jGMYwBaPNlCId32OwAn/ooGMLKUWloKAgEfX4OttCt2zZIs/j7DeGPjBMgSIVBTgjkIHCHFtV+Vk69RjmQBceHXhfffWVMObzuWaukUWBjOLYn3/+iU8//VTaWimcrVq1CldffbW0ZRqinbFnzq2jqMc9Utxi0c3XuHFjCVegW46f4zp5PwpvdA9SMKRj7/vvv5fPcr8U+ujY4xw2zrmjAEfBi25AcqVgSZGT6924caPwZe3atUscdXwm98cWWzoAly5dKu2/nTp1kuvo5ss7845755oZPmG03PI6Bk6w7ZbtthQI81b//v1lzYYzkM/g71wP90vR8eDBg9q6qv8vVAJKQAkoASVQTAIqxBUTlF5WIAEV4vSLoQSUgBJQAkrgNAJ/rzmBH7/ahd1bE5GZYpPEUh8/S4GcaMyKi8lESkK2CG4U0TalMRm1A+oGDoHL6QEDHxjY4DanYGfm8yKwcSacUf5e9VHDcj98LIHSgprtisfunHHytgnejHWAn7kq7K5k+ajLky2CXWRAS5xIX1Xk+ZnNVgzv9yXCIyqhfU8rbuzXVYQXFt1lFJQ4P4yCEmebffvtt/mEKzquGHhAgY2CDoU5ClV0tBkiGIU5BiMwTIHCEoUvJqly/hoFp8suu0zcYBSCWHSPUYDLOweOzrqjR49KeqoxD47OOz6HLjGukU4wCkZsneUeDBcd70mBjGKW4fziLDkKTkZxLTNmzJBf2V5KYY975lqNP41rKbhRiOOfFLgYOkGRja2znJtHYZGCF+9BJxqLbrbRo0fLT16BjO9RmKMAR0ceBUgW22CZxEqhjp8tqLg2BmFQfKSwaCTK8loKfQyr4Lw9MqfQydTXkSNHSliDURQcKahS5DNEOoqbPEO225I1Z+2pEKf/G1QCSkAJKAElUHwCKsQVn5VeeSYBFeL0W6EElIASUAJKIA+BpIRsTH93M3b8HYfgEG/s2ZaIoBBvCV0orOw2F44eSENGig0Wb+Dv1BH/CnEuD/i+uLK8nEhxb0CKYyMCTY0R6/wBvl7VYfckwserCur5DIfZ7IsTOQsR51osjwu1NkeKYxsCzLVltlyyY4O8LoEPQZ2QnL0L2c44+JjDZW5ciF9NJGXvhM357zy2yJD6uLX3g/jyxxfFrSaf/6fHluui241CDl+j8EaHFt1vFKLYXsnXOWuMxZAEikp0ZLEYXEDXGIU0toDSEcY/6biKiooSUYjtlwxQuO222+T+dNHxGT/99JMIahTGeP2TTz4pzjY64+i2o2PukUceEYcYP0Mhim42rokuMc6oo+OOLbDcFwMlKDxVqlRJBEAjyIHrZNvohg0bpLWTjjKGTOQV6rg2roEJq0b7J+e+sdjyyv0ZM+4ojnE9FK8o2LG4b8OlZzjPsrKy5DoypvjFFmD+w51FoZKvUdRjKi1F0dOLbbs8G6a7klHe4nmRAcMYON+ORd4Mq2CrrBHWwAAHhlOQs9G2evz4cZnrR55jxozByy+/rEKc/l9QCSgBJaAElMA5EFAh7hxg6aVnEFAhTr8USkAJKAEloATyEJg7YyeWzz+AStUCkJFix85N8WcV4vjxmCPpSIzNOtVW+k9rqjjiXB5pT2UlOzfhqGMa6ns/BX9LFWzNekRCHYK9WuOw4wNUtvRFpKU74pw/4aTzJ5jgi1YV3sSGpOG5zrjCDssLJrSMfAHVq9XCgs33SQarURazN5yuU3PhjGL7J0UxCkl5nWXF+TLQIUdhh0IXW0iNGWzF+SzFPbZs0ollhCmcPmvOuA/vz+dQ0DKK11IY5PrZEkoxau/evSJqsb0277WGY4+f5ecYWEAHG4U4OtGY7Jr32Vwbwyk4y44tspzDxoCD4vDh5ziXjqIbW07Ztpp3fh7XQEefIe6xLfTGG2+UcAcWn03HHYXL7t27y2sUOykQFlUvvPCCzI9jceYcrzcEQb7GllqKeBTnOB+PDPKWCnHF+dbqNUpACSgBJaAE8hNQIU6/EedDQIW486Gnn1UCSkAJKIEyRSA+NhOfTNqAE0fS0ah5hPy5Y2OctKX6/tOa6nBmY+eR+UhMP4Ck9P3ItqegbuWrUdt/MDLS7IDHhXWJD8PbKwJ2T0KhfCpZeuGkc5EIcdUsg7Az5wkR3gA3nGBwwSkhrY73IzhofxeB5iZwujPgQiacnjR4eZkAD+W2U22mVlMwOlSdCIfvdqzdNwUta9+FvXELkZmdiib12iPHHYf09DTEx8fnrolCEAf5Dxs2TNo9U1JS/o+984DSqjrX8Pv3mX96o3eQLlUQsGvsJmpsMSjG3nuJsbeY2IOCvaLeRI1dsaKCiNJEem/DMDC9l7/f9ezxTH4JEnO9KmV/Waxp55y993tGFnnW+32vafHEYYWL6t577zVhBLSMElTAoH8cawQS0BZJ0fYICCP4ASeYA+WAUoAlZq9xP9CPnxECAaziIzAOcEYgA3CNe3CNOcWzCWJwWmmBbrRRMhPO+R73AQbffPNN0yoKOBs9erRxnuFGSy6cZbSDAuKY6cYZac2lpRaXGKAMDfjDHtEFxx1OPWfftO8CvNg36+DAmzFjhtk7UA93G+UkqgIqSZYFeNKCyrw5Cm2d9lBaVwlk4KwUZ6Ft15n7xnMJpeD8vAPeISAPUMg7BGwmz5LjHaIPbaskqPLuAIO4BGljTS4L4naqv8LsYawCVgGrgFXgZ1LAgrifSeiddBkL4nbSF2uPZRWwClgFrAL/vQKfvrtWb7ywVPltg8rOTVF1ZbPmf7lZsWhcGdkB88D6plK9/uUFSvXnKDejhzZWzFXn3H3UyX+qIuG4/AFpxqbzlOkdoBzvHrAyk3jKSDhaUQloIOG0Z+BqrQ7do2z3nmrjOUorIsyOcyvf+yv5lKVN0Vf+7QBBdy9laKhK4q8ozdPTwK26yMrWmXN5qYPlT0loc9ViHTlkgr5cfbcq69Zp9J77qaJ6k2n1BBDRFrllAaT4R+WoUaMMvHECGQBRuLiYjQbMAXqRMAoIOuuss0yoAHPcaFkFTnEt16xatcq41oBxhCcAuWjtZJbcxIkTDSgCduFaA0Th2gKiAYpo+QTS0RIKFHPgHu4unGeAKoAgBaQCTnENQQYO9GNtp5XUOStBEbjdaEk94ogjDBzjDNwDlDv33HNN4iln4RxARPRiTYrEWGaz0b7qgDLAHi42zguc5GzDhw83bbBOkYoKDHMSWfk+LrstE0wBhLTQAiCBg2i8xx57mMf8mFlypLB27NjRnNNpSXb2ZkHcf//3hL3DKmAVsApYBawCFsTZ34Efo4AFcT9GPXuvVcAqYBWwCuxUCjx1/1zNmLJBg0e2NcAiEo5p9tRi1VY3K69N0Jw1Fo+otrZK8XCG6uubNG3dOSpIHa0O3lOUiCXk8iQ0v+5i5fpGqWtwnIllILABmLcu/KjqE4vlU776BG7UotClyvHsaVJR6+NLleUeqQ6+U+VyxbSk+bLvaJvi7qRwvEJu+RRVnXqlXa21jRMVSzTL4woolnDaN11qnz1EA/Mv1czi61TbWKzrrrvOuKNotyRREycWMIkwBAIMmN/GTDZaNQFwzF7DuQVgSy4AEwmgOMFwm5GKCjhjjlvv3r2Ngwy3HEUgA+EAQD+gE846YNlnn31m5s+dcsop5joHxDFHjjbL66+/3swso0gtZW+Omw54RvspoIz94zajAIOEIADHKOAcc+KS3XXsHbBFARtxkAEMgX0EOzAfjtl3OO6AhrTN0vLJnDbOQbHuK6+8YgIlOCdQkRCKQw891LR98nOcbUC35PlzBC3gUgOEAhgpXH2cnXJmyeGuAzYC6ICI6NWpUyfTvoqDDwiYPEuO83MGoN33zZJjFh6AkJZVHHZblgVxO9VfYfYwVgGrgFXAKvAzKWBB3M8k9E66jAVxO+mLtceyClgFrAJWgf9OgcaGiMbf8qWZ9dZ7QAsgoZbOK9Pa5dXKLUgRxraq8iZxbUsAQ0yzSi9Qm7QxSkl0VjjaILdHKm56R6nuzsryDjZAL8u7uwLq2BrCQNBCgW9/lUY+VsDVVqFEiXG1tQscpUQ8oaZYsWrjX8utgOJqATcBV0f5XBmqjy9Tqrub2qcdqjV1j8nrypBbqQonaDltSWLtlLW/lPCoqHaK+ZrB/bRezpo1q/VcDPEHBAF3wuGW+XEAL2ARX3fp0qW1VRLoBXhz3FROQMEPUZhwBZ5JAMLWijVvvPFGk3b6+eefm7lzACgHsrEm89OcVlSnFZZWTaeVEycc7a2XXnpp6xK02gLUcPFRtHE+8cQTrecEYOGGw8GWPCeOszqBFr///e8NoEMPQGVyqyvuNgAj99LKC+yifXXLdtjkM3Otox0Qk4RawNyWM+gKCgpMAAWFJrgVmTeHjrj6aEUlaAFIiduO/zPwn2bJofFtt932b6/Agrgf8ltsr7EKWAWsAlYBq8B3FbAgzv5G/BgFLIj7MerZe60CVgGrgFVgp1GgcHW1nrhvrglW6Ng1s/VcFSWNWji7RHW1YdN62tQYkdvtkj/gkcsd12drzla7jL1U2bDMONa2Vp1TTlGOe5RWN01QQ2K5Mtz9FUpsUjhRKZd8ImjB68oyLauRROX3aupz5SmaqFG6p4/ZQ01ksYKermqOAfKYKsdMNJeZHxfwpisSb1AsFjUgywkOMOmt3xaQC1DGRwASnzsgie9xLfCHNk9AFGALd5fTKgpY4tnAJFpYr776apPCidsLkOfMQ9vWLwlACYAFeANSsZYD4Zz7+DmusSFDhmjZsmVmLhsgLBnuOTDN+Yi7Dxcce6J4Bu412j+Bf7Sb4sAj5OHdd99tSbXdokgWxZ1Hyyqgi0RS2juTrx0xYoRxFuKGQz+0wMUGzGOf6IJzDpfhwoULW8MZcOXNnj3bOPvQnP0BF3k2bjgHMrIlHG+0wNKOy3O5BpB48cUX64477jCtuieffLJxO7IG0JV3hAsRFyF/gHf82bIsiNtp/gqzB7EKWAWsAlaBn1EBC+J+RrF3wqUsiNsJX6o9klXAKmAVsAr89wqsXFyhp//2tTwel9p2SG99QCye0LTJ61S0plYJlxRM88rrdbeAr0SsFcT1yDhNTfVRc7/LTUPqd6uhuUJLGm5Ququ/uvrOkzxxLW66VJmukQagNSSWqkfKTQbIrWluac3Mcu+j8lhLW2QmbauesVoeudrMh0vzdldJaHLrIn5XgXHFdcw6UEfsdYkCWfWa8PeW9k9aLmnLpH0RiMMsNlI0gUMEDQwaNMg4uw466CADqAgAGDdunGlb/eijj0wrKu2SzClr166dcWMBoHDYcS2tm1zHHLIBAwaYZM6HH35YHTp0MOvjyHv99ddNWAGBCtSJJ55o5r/hSnv00UfNvaR9MiMNd9wJJ5xg2kCBScyQc4Cf497jGYA1YBZwDNjEbDnccbS04n5Lvpb21aKiIo0fP960lfIPaFpIp06dqv33398AuWeeecbs6fnnnzfttuiDE+/www83YQy03gK4gGesx37RAHCIJrTnElxBO+i11177vb+ErEFLLCAQJ19yoTWtqMkgbssH4YJjdhxz9Wj9dWbJ/ad1t7YhC+L++78r7B1WAauAVcAqYBWwIM7+DvwYBSyI+zHq2XutAlYBq4BVYKdRYMWiCj0z/t9B3MbCOi2aW6qSonp53C4F072tLZrJIK537ulqqI2YYAYH1CWLs6npfRU1vqGOntOV7h5q2lpXRC83gC3HN1LrQxOV4u6iNr5jVB5+T42JFXLJr4RJRU0owz1Caa4B2hx7VrnuQ5TtHaVIokKhxAaVRt+SW37FFdaonjerS/v+2tj4smbMe82ANwIIcFQByN5++23jrGKeGtALaIVji7r88svNPDmcWcxBI3AAwEZaJwUcwhXnACeuA3zxj1GuAwgBoCZPnmzCHWgPxcGFY+zuu+82zi+eATwCfAHmcJAxTw2oRgH6AGi435hrh6sMcMWzCIbAmUe7KDPXcIJRuN+YewcMw1WHS4wzAuZWr17dOpcN6Ae4Q5P58+eb4AZSUAGMnMFJFGWOHe2guOeY/Qa8Y3YckJEiIZb5c+jCzDxSTHHPHX/88QZK0u7LLLvkYk2AIm2ngDtacGkXZQ6dU6zLO0luC06eJedc5wRZsEfaU4GD7K2qqsqci/l4yeXMksOxt2VZELfT/BVmD2IVsApYBawCP6MCFsT9jGLvhEtZELcTvlR7JKuAVcAqYBX47xUwran3zjUBDU5ran1dWPNnbVZ5aZP8PrdqK0OKxxJKCXoMjEsGcf3anKmG2rDCzTH5/DjmvuuKW1h9iyKxWuW6D/127ltCFfH3lOLqpAzfYDXFitQQW66EmpM2zzNaWiZdSjFQzqM0dU+9Rn5lamP4BdXE/jX3bctTA82AUW+99ZZxruFKAxYBhbbWipl8v9MiCrzBjUYrJK2gTourcy1AiVZKZp5NmzbNACsH/DGX7cknnzTtprjjAFbAQOAWAA+oRrgBkO6aa64xMI4gB2dtJ+WU9dkv6xOigMMPEAc4I8SA4hogHO+F2XfAuQkTJhhYhrMtuYCQXA+UxOn3wgsv6MgjjzRtt4AxIB7QkFZO3HY45tjXcccdZ4AXOjqprbS5As7YOxAM8IeLDp333ntvoxvvAGiICxBISLEv1qO9lLl3tJTiyANuAs4cRxwAlf0DTHmfQDhCF2iTBT5yTor9HXzwwWa9M8880zwTMMf7eO2118wsORJsKQIo+J2geDauwCuvvNLATv44KbH//X9F9g6rgFXAKmAVsArsGgpYELdrvOef6pQWxP1UytrnWgWsAlYBq8AOpUBDfVgP3vpVa1hDPJHQwrmlAtBl5aTIH3CrsrRZdVXAuLgCqV7J9a8Zcf3bnGkCHBrrI0rEJa+vpX2Vqo+u1dKau5Tj3Ud10cWKautz4Np6TlLA3cn8vDjyDPEJZvKbU35XBwXdfZSJO87fWQn/BiW8laqqX6nSpqnfXuaSSx4zbw7HFWmkuNVwbNFOSgHBgGJO4aC67777Wp1UhB6sWbPGuNFwaOGMAw4Bw2jLfPnll41rDYcZEA7wxPeZJ1dZWWmgD22wfM6agCgDLuNx46bjXkATn3MvgAjgxZpOOynX8wcHGY414JwzE+7888837ay0cQKkKFpruQb3HMXnzHXDYefAL+e8aMFMN8AV0IrzoxXz4GgZBbYBFZ05ebTZMpuOllnm3rEPZ384/1j7gw8+MCCQVlPgJe2/zHYDjDEzDh1pbWVdijAG4Bf3EdaAXrwr2mJxxjkgDlce6wPauIdz8Qzaa4GryUVbLGfgffN+OQtADvAIXAN8UiTjbpmI6zyH1NZttcXuUP9R281aBawCVgGrgFXgJ1LAgrifSNhd5LEWxO0iL9oe0ypgFbAKWAX+swJP3j9XX07ZoMEj26qyvNm44cLhmHLyWlr6SDStLm9WXU2L883tbdKXxZcp4MlRgsbQWI3yU0ark+8UebxuE6hALai6WaF4S6DC1irPc6RyPYfI/S27C8fLtDZ8l2TaUv+92vrGKjcwSp6UCpU0v6uKhvmKJ75NPlVQCVdYbfI669bbr9N5559twAztnI899pgBW8AqoBGQCkCEswrnFO2oFGmewBqcU8AfrsWphauNmXJAKdxqfE1oAi2eya2pwCPaNwFzgLq77rrLgD4gG44rIBbOOp5PmyouNNJBmcUGlAIYEWZAeydOO2DbOeecY/ZP4SSjtRX3mePsw32GWw6g51y7LeAE8DrllJYZehTAivsBXbTTMpsOB9x7771n9AIS4qKjAHKAM9pwcboB5ghlAIRxBsdt9p9/4+wVVgGrgFXAKmAVsArsiApYELcjvrXtZ88WxG0/78LuxCpgFbAKWAV+YQU+eWeN3nhhmQraBVW8oU6rllYqryD1O+42wA+hDDWVzaqq2ah5ZTea5NOc1H6qbFqgtmlj1DllnKLhmAluiMajWlh7jdwKqK3vaOG04390rlZHp6o5sUFdvFcpxdPZdKGSiro+cq/iapZbPsUVV8KkoUq53gNVkHKw/L4MxWIJNSaWqyryibJSe6iuea2qmhbLCW3IzepiEkP/dMPFBpLhoCJ5dNWqVeZZJIESaED75oUXXmgcYbfddpv5GZAMgIajCkC3++67mzlvzCvjmV999ZWBccAwp32U5FGg1OOPP26e4YQhcA/uK9pAKeAdsIu94C4DnAH5mHc2ZcoUsyYwDofdfvvtZ1xiQDbmvy1dutS0fwIPuQ4ABtxznGu0pNKOyew5riWMAXeXM7cO8EeyKOERzKUDQBLggGuNe3HH0UqbXMBA2mbZG+tuq0hpBdoBCG1ZBawCVgGrgFXAKrDzKmBB3M77bn+Ok1kQ93OobNewClgFrAJWge1CgbrakIoKa1VS3KDyskZFI3G5XFJaul9t2qXJ53Xr3X8sV9G6OlWWN6q2OqT8tsF/2/vyDe8pFK5Xc1NYK0veUJqvi3ICg1VU/7ayfYO0W+YFioRiisbiqol9ow3hp9TW9xu1STlEkWjcpKomEmGtaLxOXleuuqZcpMLmh5Xu2V2NsdVqSqyURxlKKKwO3vNUFB0vv6uNSUVN9/U2QQ/pvt3kSmTJ7QmpMb5M1U1Lle7rJY/Hp5rmZWa23DlnXKPHn77bgDhaE3GoAaMo2kZxrQHmAG/MXQPO8TUzxWix/P3vf29gFyCMhFAgJNCKVkdCAmhx5WsccbRL8jltmTjY9t13XzPXjCRP4BjtoLSmEgzx4IMPmnZOng1gO/TQQw0YA6jRrknLKpAOBxxrAgpxzTEjDUDHPLXk2meffQwcpM2VPfCRa3HfzZs3z4BE7uH8uN14JkCQ1lYAIWcjVZV5bewtuSZOnGi0Y94d4BK3HzPjtiyeSQsq8+Kcdtnt4pfebsIqYBWwClgFrAJWgf93BSyI+3+XdJd6oAVxu9Trtoe1ClgFrAK7ngIAkvVravTNnM1a/E2pKiuaRAhDY0PLLDfcaT6/R+npPqVnBlRb1qyNa2rV3BRVStCrjEz/v4n2xhcXqKH5XzPWki/ISumlEV2uVyyaMOENS6omqj62SP2zbpcrlmUccR6PW1Xh2drY/Jzy3EdK7rCqozMVU11rOEOGe5g8rjRFEpVqiC9uXcLnylU0UfdtmuoPe5/AKUIFGPR///33m1AAQhIAY4AzZsFtWQAy/jhz2Zyf056Je4znAbCc2W/MeQN2sRYuNpxlmzZtMtALIIbDjntxzeEyo72TOW/AP0IRaP0kgIEgBKeYsea0y+LIY9+0xgLanMKVhwsPNxvtprS1AusAi6S4At6cIAccfzj/CE145ZVXWp/BOXHWEdwwduxYAyPRh7NzTp4BVAQ+OiCO9lP2z5mZx8a5uY65eQC7HbUIgsAlCbDl3fFumMnHe7JlFbAKWAWsAlYBq0CLAhbE2d+EH6OABXE/Rj17r1XAKmAVsAps1woA3Ka8t0azZxSruKjOzHjLawOo8SuY7jNADNjAHLiG+ohxwJVuatCm1XWqqWhW+y7pyssPGtfcf6p4PKa/f/o79Wi/n0b3v8hcXrq5QZs31hvgB5hzufXtkH9pbcMENcRWqLPvMm2I3C+vK1Mprs6qjy+WW6nqnvpHrW66RR5lKqbapOU9apt6sPyePIWiZSprJqQhri7ZR6lZ61RSPU9ut1/xOLAqYdxrDPUfP368aTOlgGfMYAM+EazgJKEC5Ry3F62YAC9SUWnlZP4Z7ai0wt92mQAAIABJREFUmtIWinusY8eOxlHmpI8C02gLpdA1GAwayEfbKaEGuNwmTZpk5q/homMGG0AMyANMIwH1j3/8owFaQEP+4DBjrh1QjyLddPLkyWZt1sAJxx9gEfvlLLjvaEm99957TSutU865aYelJZX1eA4z8F588cXWdFXgG+mu7J0wBYAl8JHQCc6Em49QBLSj/ZV98izHcce6OPt2tKJ9md8TQCVtwejLe+f34s4779zRjmP3axWwClgFrAJWgZ9MAQvifjJpd4kHWxC3S7xme0irgFXAKrDrKbBudbXeeHmZli0sUyQSV5fuWUrP+Hd325bKxOMJff7+eq1ZXCm/32NaU/njBC98n5Jbgjggxob1daIdVomEYpGECXCIhGNqjlRpdfPNSnP3UwfvmYq7GuRVlmk5XRG+AlSmPpm3mDZTnztD8ysubl3W587VgNw7FI8lzJy4qvDXKm5++jvbykztpNqmIgV8GSorL1NGZmCrSZm4xwB1hDNQ77//vmkTpV599VUdf/zx5nPHufbAAw/oqquuMmDKCWzA+UbbJq4zHGd/+tOfzD04x/7TTDXaV6dOnWpAHUmhuOoAfbSyJhdtr047KkEMOM6cuXDOdYBBQN/HH3/cCuJIdwXwARUBY6Sj4sZzEmOBTKxJAfBw3/E9p7ieMzluMNpchwwZ8p294Z6jNRZAx1lwzpHy6oDDHeW/PGb8sXfSXk8++eQdZdt2n1YBq4BVwCpgFfhFFLAg7heRfadZ1IK4neZV2oNYBawCVgGrgKPAmhVVemnSIi1ZUKZ2HdPVtn2aATc/tFYurtA3MzYr1Bg1rqC8gqDadkjbJoxzQFzXNvuqf4ez1dQYUXlpo4GAQDyf361AwKOmxqhKGj5QWeRtdfCfrkzfUAUCLWmc0WhEi2svNZ+nerqqffC38rkytbz21tate11Z6p1+h3kmYK8xtkYrq+9Vx7zR2ljxpTKDndQUrlIk2qB+XY/Va28/pr67F3wHxBGeQAslgOtvf/ubbr75ZvN8YBXBBtTs2bN1xBFHGJcXsA7nGm6pyy67zPycWW9Ar+Li4tbk0j322MPozD9OHZcds9dITaXllLRTQBsgj+uchFKuxYXG9wcMGGCSWgk94Gt+xjw3XGgANNpOy8vLzUw3rgGA8ZHruAb3luOIY5/sif1QwDHmzjnnpQ0VCIk7Duh22GGHmT3i/rrkkktMqirXkITqVPKMOBxxwESCJ1ibBFn2gaMPt6FT/BwNaPvEqYfLkLVYh7lyTgEbeR/Tpk3Txo0bjfZ77rmngYF8TC6uoQWYPbAeTsSRI0eadFpchE7RYst8PfZNqy2z8wCnl19+udHcKeccc+bMMe+TZ/J+bFkFrAJWAauAVcAq8O8KWBBnfyt+jAIWxP0Y9ey9VgGrgFXAKrDdKUA76DMPz9Oib0rVY7ccZWYH/us9rllWpWXflJnU08qSJhPqkJ2bog5dMr4XxjU2hvX6l2NVkDZa3TJPMzPmQs0xuTySP+CVP8VjWmMBcavq7lAsUaeewdvl8/mVlZ1ikllj0ahmrDtXad6eao5tVizR8G97d8mvXtkXKy2lQFFXhdZWvKRoLKQ22f21oeJTHbLHnZry9S2KxcM6aNhtuvHOU7Xfod1aQRzw5eCDDzbuN+qmm24yQGdbRagBCaM33HCDXnjhBXMp4MmBbc69wDWeD9QBONHKydfMT8N9h7OsR48epl3UmT3HfDZSU2lVpXbbbTcTEgEEIq0UGEfhmiPxlPAH4B8/r6urMw4+nFy0g65fv97sC7jF+tRDDz1koBoF3AIuMnuuqanJPIMWTCfR1WllBVQSHkHLKXCLVlhaeWmBdUAcUI+zcA37xU1HSAPOMuaqOem0ADn2jpuOOXYER+DcIwSC9fmHPOCQYn1gHZCua9euxln31FNPmVl8zLtj7h1FIuywYcPUt29fnXrqqQbsARPZ891336299trLXMd+f/WrXxk9AKeEa7B/nIK08j788MPmOqAbz+B77IXAClyJXM+eAYa8Q1tWAauAVcAqYBWwCrQoYEGc/U34MQpYEPdj1LP3WgWsAlYBq8B2pUAsFteLTy3Qp++vU8euGcrJTf0/7a94fZ0Wzy1VINXDmDXxdSLGzDOfsvNSlBr0GnDWElQg1VQ1q6qyXl8Wnq/cwCh1yzhNceIUIjH5U7xKS/cxmM3spbRyhVZU3qUsz94q8B4vt8eltAy/gmk+uVxxTV99jtpkjFHPvHGqaypULBbR0vJ7Ws/hklcJRVu/zkzpra6ZZ2hZxR1KDWTpgKE36s0vzjM/xxF3++136LhT+3/HEQfAAeYQoABoAkxtWQAjklPfeOMNE4KQXJwbKEebJuEJuLCcwoHlJLDSFuoUsI97KMDZrFmzjMONtlfAEetRgDj2QxssM8ucYiYbbbEEKjDTjQLuNTQ0mPcALLr++uvN94FYDohjJh0QiqLlEqDI+WmtpWjBBfBRzJjDKUbra7KjjT2xz4MOOsiALJyE7Jl94tYDDFK05/IsrgViUbTCXnfddcblBtB0Cicbbj2gJHCR4iycL7lw/6Enc/pw81GOMxFQ58zk+85N387oGzRokAncwOXHR6fQkdCOJUuWGC2cWXdOsi2BFsA7tCJBF1egA2C3XMd+bRWwClgFrAJWgV1RAQvidsW3/v93Zgvi/v+0tE+yClgFrAJWgV9Yga8+L9Irzy9Wc3PUuOH+r1Vd0axvvtxs3FgZWSRqxgyMC/hpPwyYOW9RwhdwE9WF1dwUMXBoUe2lyk8drX7tzpTL61ZDfdgAO1JZnVqx6XmVNnymzoErlOLuavicc00wza0v151nQFxGoJui8UaT6lpY+Wbr/T5PhtpkjFZWah81hIpUVPW+vO5MhWIl6lFwvOKJuNaVv2au71xwoC4851adc8VwTXr+8da2UoARaaPvvfeeaRV1UlMJJCCdlPZUBzKdccYZZm4YYMtJK8XhReop9eyzzwoHGQVEcgAYrirgmzPLjYCGCy+80LjocG3hwsK9hkMNcLX33ntr9erVpi2S4ANaOWk55WvaTWkPxUUG+AI+0b5K6yZAiTVxd9ECStGaiTuOoq0Wpxjvh7VxdgHScKjhSAN08Rxab3GfsV+cc3wf1xtOMdx7ADagHSAOQMj9uP1wxeHKQ5uZM2ea7wEvnfZQnGs8n8TVLYvZcrTa0ga8ZXEWXHucn3cF7HNabJ977jnzPc7MzDx03LJIPR08eLBpdQWkJdf8+fONU450VN7J9OnTzZw7CmDofM7XwEfetQNY/6//Tdn7rAJWAauAVcAqsDMpYEHczvQ2f/6zWBD382tuV7QKWAWsAlaBn0CBaDSuh++brdlfbNTAoW3k9f5r/pWzXCjUqM+++LuKiperqHiZ6uortMeQw/W737Y4tZz6n3/erq8XtLRubq3GDB6nfp2P1bpVNaqpblY4XqWSprdUUvelCVrICHZQ14KDlBodI5fbLX+gBZTUhwo1f8OfDVxzySOXXPK585UTGKUs714KBHxaUH6xAXE1TcsVilZsdf3ebU5Xbupo1TdWqbZxvQobWloM++XdqTXVDyoU22y+7pQ9TkMGHqoRe3VUUdkneuLp21pnsTkPBsoBqAA+Tkslc9Nok2ReGGDJ+QOAI0WUr0lgpR0zGcT9BK/1O48kDOGYY44x4BBIBYBi/4A1ZsY5sAtnF2472l35GamxzKijaMslGAJwNm7cOAG1KMAa0A7gxTP5Awyj5RMA6LjWAHHosK1CR8AVLjRm2LHX76tkaAjwwzUIFKQdNbmY7UYqLUU7LGCSvTCXjlZgvsbx5zjxaD896aSTtrlP2pKZH0fbK+48WoRpJ04u5/0C/WhdtWUVsApYBawCVgGrgG1Ntb8DP04BC+J+nH72bquAVcAqYBXYDhQAIn0+Zb2efnie6mrDphU0Fk8YtxnJp+npfpOYGndX667xJygzI08d2/fV0hVfbBXErStcpCWLlqukqF4ptKF+C/WWrHlHdc3rdMU5zyhc10Yrl1Vo9eY3ta70XcXjUcUTUQUDefJ6U1XbUKT8tNHqmnWaUoMt87XWV7yuDVXvKOjZTWmuIZIrobBrnWrCc5XhG6COKWdpWd1l8rqD6pD1KwV8uQpHq7W59nMD5dyugEZ3n6impohCoZjW1z6uWLxBzfF1SvG1My65zbUtTjWXy6NRvSaqU/dcBdN9WrluimZ8PUFpaZkaNWqk/vrXv5j2S+aw4S4jLRQ3GE6r4cOHGzhHCyPQDVcXgIqWRUIeKBxshBngAmOuGbAJKIRrzClcbQQ6AKMAYhTAywlhwClG+yvrUbSsOq471gX0AbTYF9CN1k2cdrRzUrjVaEllDUAb895wl/F89pOdnW3aby+66CIDDHHh4a4DZPE7g3Pt6KOPNs9CC9xpnA/oBPgC+OGKc0AV1yWHNfA1oI4Zc0BCnHeOi4/PgX6sh34ELmyt+DlaUkceeaRJeKU9lns4HzoAAXELOm5DrmX/zKRj1h9r42oDQOJeI/CCdwKYI5jCef6W63NGoCHQD5BJIARz5ZKL5wP5aA2mxdaWVcAqYBWwClgFrAIWxNnfgR+ngAVxP04/e7dVwCpgFbAK/IIKMBNu0fxSzZuzSR+8tUrLF1cokNKSQOqUA+NwpaVluJWVE9Nuu3WXzy/98db9tgriuLe2KqT5MzeroS6i3IIUE37wxrSzFUwp0FknPK61K6tVWxPStGXnKRpr/l4V+uXdpNzsLgYmLdn0kCob5qtfzh2KNKaZ+XCBFI+KG19RRfNU9Ui/Xmvq/yy/J9dAuki0Vl5PmrJT+6msfqY8rhT1y71LsWiL268+Nk8VTTPUGGuZd4bLLqGYMlO7qbZpnUb3vUcjxwxQp25Zmv7lW3rzvbvMdYcc+Ac9/+IEtWmXpj59+hhABWgDBAHkaOsEEBGGgGMLUIY7DmjmtKHi9qLNkxAD5qXhrAJkcY9TwC3gnFPAOFpdaYekLr74YgPWKNolmTnnpKfifOPZToprx44dDfSicLIxt45rAXTs8cQTTzRuMubD0VZKeynPYz+cBUBGAfuYa1dZWWnO2qtXL/N9gBttr7R6Er6w//77Gyj5zDPPGNjIXqgtQVzyiwf+0Q7Kc5mpRksos++Ai85Muu/7RWF/ubm5JjwDnZOL2XLsLxnEbfkcZ+Yca+Lyc+AhEM/R8Ht/SWlj7tzZ/HjDhg3fuezJJ580KavMzXMg7LaeY39mFbAKWAWsAlaBXUEB25q6K7zln+6MFsT9dNraJ1sFrAJWAavAT6hA6eZ6TX5rpRbMK9GmjfUq2VivuuqwOnTOkMdL02dLOEI8nlA4ElOoOaqGhogCAY8JcejWI1N/e/LI7wVxOI5WLqrU2uVVSkn1qrT+K81c/JB6d/id+nb9jWqrQ8orSNXHX1+jWCyko8ZMaD1tJNqkeSuf05riKcbFFk+ETLtp77ZnYmVSdWXIzJkrCb+o6sjMbao0oP2lqmlaoaLq98x1KZ7uisTLFU80fvvsqBIKyyWG8ceU4s/X4N5j9dWi++T1EFYRUzwRM3rE4jG8VGqXv7tOG3udrrj21/rDGSeYWXHt2rUzAImZa8AXwA9z1X73u9+ZFkvaOZNBXNu2bVvbJ532RWAj7Z0khwLNuIakVEIbcKwB12hpdYIZAFyAMAAUjitAmgPicKv17t27NSl06NChrTPScKwB85LDGtCGYAQcfpST6gr8o3WTe9gf5yGEgALg0cLKPgmtoO0WuIiDj+/zj2zCDHDU0Z5KOSAOKMasOq51Cr0AhjgMAZcATEAYTjKAHmAvufgdAxoWFBQYYIgDDtchUNMpdD/wwAPNXh0Qx1w/5vklFy4/dKRtlhZdXIE440g/BXJyxuRiPc4KpKT++Mc/mtl9uPuAlRSuyDFjxhioRwosrau2rAJWAauAVcAqYBWwjjj7O/DjFLAg7sfpZ++2ClgFrAJWgV9AgW/mbtbbry3XimUVSkvzqV37dM39cpPqaoBj/wIjW26N2WyNDRHjZEvL8OrjWadr+ODDdPJxN271FOFQTAtmblbJxgYt3nS/ymqWaI+udyvFn21STgF67355qdxurw7f81/JofVNpXpnRovry+tOVzRe3wriAIKhUJNisbAaYytV27xCFaEvDDbM8PdXbXgBk+PIXP32/qBcLp8isZrWPXpdWYolmr69pmXeXJp/N9WHlynFn6Nh/c7WnMVPKBytUnparplJF49F1NRcL5cLF5lPSri0/z4naOHSD0X6JkAJdxyto0AfnFGAK8AYwIl5abQvkrbKR0AdaZyAGgfE4ariPj4CdgA5gDcgFGCI9FISQB1YhoOO1lCAEOCNNlKu4/u0tdIm6SS2MvuM8AdgFOEOtLXiaiMogRlwn3/+uZhtBzRkXaCYExTBGXDy4fSjjdUpoBVhC0A3vu+EI3D9qaeeauCc0/aK0w2g5YA4oBdOQpJJae+kjZUWUc6w5Tw3WlTZ3/HHH2/aRDkvs9jefPNN4+S74447zJYIUEBTnIIktS5cuNBoBwADnDkg7rLLLjP7ApixFhCOVlRaVYGMwEYK0MnarHfmmWeaZwLmeCekoeKicxyBfJ85cbzXSy+91ABF5syxbxx1zoy8X+A/d7ukVcAqYBWwClgFtjsFrCNuu3slO9SGLIjboV6X3axVwCpgFbAKzJlZrDdeXqrVK6vUo1eOsnNSTDrprM83KtQcU3Zui8NnWxWLx1VZ3qDPF56tnp0P0Dmn3ybPVsIdeEZlWZPmzVyh92ZdqLY5Q9QpeK4BPF17ZMnn8+jzBXdrU8U3+vWYiUoNtCS1xuIRLV33phatfUlBf0c1hjeaeXE9cv5g0lbLI5NVWPFW6xadltL/tO8tf+5RmjyuNIUTpcoO9lV143LjeBvY43Tlp++tJvdUrVj3oWrrypWV2UbB1EwTUpEWzFJDY4183hTtvdchuuKqs/XQQw+ZGWecDfAGoCGwABgE8DJn7trVwCAADVCNGXG43RwQB2DDVUWLJ64tHGtAPdo8AWPAIwAUrZoAM2f2G8DrkEMOMU4wgBb34WgDQAGNmPUGCOR6HG6AK4ATIAtoh6sMkEjYwQknnGDW4Xs48Dp16mTSQQGMhDcAqRxg6OgJ1CNBlXOyd/bMTDbglNP26gQiOCAO0Dhp0iQD8QB/FHsAjpE8S4KsU4Ay0ktJnyWNFjDGvnC6nXfeea3z83DSXXnllcaZxzw84B/wERiJM84BcewBhx+gjXvYO7qQ5gqUTC5cjrgNP/roI7NXACJADuciTj+0dgoI96c//UmTJ082QJHfAa6xIQ3/7X+Z9nqrgFXAKmAV2NkVsCBuZ3/DP+35LIj7afW1T7cKWAWsAlaB/0cFVq2o1KQnvhEf+w7IV2pqSwhCQ11Ys6ZvNAEGgLkti1ly/CwUxilFQigdolF9sfBc5WeN1mH7X6khw9ozZG2r9fbkpzX1q6c0oOMFcjX1N3PdduuXb64tqVyoT+fdrtzMnhq62zilBvJUWrVY81Y+q2gspFR/nhpDpcr27ake+X9QRlZAKZl1qqwqNrCqtnm5mmMb1T54tALqqcrmWSpumqRM7zDVRr9Wl+wTlOHaT6tq7jQtqLtl3axl1dcq1b2b2qWcKHdqiVaUj9dunY9U327HaPKMi5QdHKh9h1+loaPatwZFsNcpU5/T+1Me11mn3qd3PnxYfk++Bg3YV+98dI9pmwSoAeGAWLQjMmONPQJugFw4xWijPPbYY42LDrjDoH/aG3FOEQ4AzAE0AcgITyBMAaedU4cddpi5D+CEiws4BPABuHEfgA4gxue0arIuz6R1NrkARI899lhrCyzPZfYbs9YAdL/97W+Ny27JkiWmNRQIR/CD831aZZPhFs+mlZT7gXC2rAJWAauAVcAqYBWwCnyfAhbE2d+NH6OABXE/Rj17r1XAKmAVsAr8bAqQFPrEhLn6cnqR+vTLU1qav3XtpsaIZk7bKD7m5LU4fJi/1RyKqq4urPr6sCLRmGKxhIByLT+PaVXJFUoPjFDngnHqtVuu+vTLV0FBUB5PSxiCU3c/NFa1tRU6fM+HtXx+tXx+j7r2yDaJqm63S2s3faZ5K55TOFpvbvG4/Rqy2zgtWvOy/J5s1TUXKi91lHoVnKFO3TLl9bkNDCwtrldNVUiV4U9UWPWadm9/k9ZW/EN14eUqCByjstBr6hw8RykaoPXNf5ZLXnUJXqiV9ddvU3e/N1MXnPaSCtr7DfD74NMntWTZ56bt8/sKZxStmU7oAi2n48eP1yuvvGIcX0A43Ga0pdIaiqOLuWH33nuvSSplzpwD63CVkXiKC40CgAH4AGq40biXNlHaSnGQ4fQCqiW3YHIt7ZG8R6cF1tk7IRCsQYgBM80o9kGaKi2otM8C0wiCANjRnomDjo8AP9pnCR5IBnGsw75wwNHi+Z+KPaEV7bPowww75rtxpuQCAOIaBGzyj3ZaTLc2L+4/rWd/bhWwClgFrAJWAavA9qOABXHbz7vYEXdiQdyO+Nbsnq0CVgGrwC6owHtvr9SbrywzwQkdO/0riRMpQqGovvikUCWbG5SeFVA0Gld9Q0jNzVED32hpDPg98nhc8rjdIkk1Ho9p/tqLlBXcU1mBk0yIQ8dOGWrTNl19+uYpK6vFWVe4cakefOwsjRn5Ww3tc7pmfFKk9KBf6Rl+NTdGDVQDzLndcdU2FSoWiyjV11HRcEKfLTtP7XNGalPVTPXosL/6djhTzU0x5eanmFZYZtCVAONqK7W4/I9qn3WgNtV8qqyUgcrwDVFR3fPqnnmxUj29tbHxSdWGFqtn9lVaVf1X5aUPVb+eR6iwZJoKN38ul9zKSOuu2obV6tR2uC45f7w+/PQpfTz1mdbflvT0XPXZbZQy0nL19YIPFPAHVVVVYlJfcbAx8wwHHO2hzAvDGYd2zFErLCw07aE42Wg1pQWSwADgGe2OtJ7SMsk8Ma4FfHEdwIqQB1oenTAFnslsOOaU8TkFUKNd0ml/da6lbZQ2WGCWU6+++qqZt8ZHHG4UTraTTjrJtKUmA0daP/fZZx8TnvDAAw+Y1lmAHQ7AZBBHOylz1IB3zGjbVuHoO+KII8zZSRTFxUdKKv8ox2nHOZzCZUhSLK5CXH3Tpk2zIG4X/PvLHtkqYBWwClgFdi4FLIjbud7nz30aC+J+bsXtelYBq4BVwCrwXyvADLi/3fWVliws1eBh7VqH8NfUhLRpU702b6pX4fpSbdj0viLxIoUiGxRP1CnFO1x56b83AC7g9xoYV1z5vCrrvvrePXQqOFq79ztePXrmqlu3LL30+p8155v3lJqSoVC4SQFvgQb3O1Kjhx1n5sfV14QVCcdVXb9BK4tfV03jWoUi1S0BCfGw+vXaT0tXTdXwwYdrz/4XqmhdrWqrQkrP8iuY5lVTY1RFRYWaV/Qnpfm7qyG8Vr3bnKdQqFHrayapZ+4lyssYoNqm5VpW+oDSfF3VHC1WdmZPde+wn75Z8dy3LbD5GtHnTk1beJaGDTpMJx9/o5Ys/0LPvHiNRo04xjjLNm1epSMOPk89uw/T7ff8Rrk5nbR+w0IlEnHtPeYgTZ8xRdOnTzcto6SEMnsMhxfONuAcjrLnnnvOtKEy043ZZwC4bRXJp6R3At2YY4aLjvsyMzPlONt4Li47XHS48nDIcW1xcbFZ5/33329tgWUtQBdtqPwcUEetWbPGhCYw1w43H6mqgDaey9k5C6CO2Wq0vSaDOM5HiAJrAg55xraK1Fdms+F2Y34dhQ7AS9pq2YvzDL5m3h1ttkBCzmodcf/1XwH2BquAVcAqYBWwCmxXClgQt129jh1uMxbE7XCvzG7YKmAVsArsegp8Nb1Izz81XykpXrXrkG4ccCtXVmrjxjrV1YYUjyfU2FSmJWtukNuVKZ+7o0KxpQr6Ryg37XeKxRNGNK/HrXhivTzeajMPrrD0OaWl9FJ+5t7aXDlFoegGjR5ym2LhdsrI9KugbUQvvXWOufeAvU9RValfRZvnq6xmjvYbc7J+c9jFikbiaqwPa9mqWZo572V1bNdPGenZ+mLOPxQKNSgcaTb37zHkCB158AUKNQS0dkWVqsqbjSMOGLdswz+0puRd+dxZiiciGtb5HpVUf6XC2ufVJeNC5QYHyuWWaqOzVFj5siKxBvNMt8ur/t1O0fLCV01a6tG/uk8vvH2Chgz8lcaeeKs2l6zRfRNP1YnHXKcRw47UtBn/0OSPHtEh+5+p96Y8poL8riorX2+edf7ZN+uRJ241AQe0dSandH7fbxyQjTCAUaNGmXZOEjwBVAQNJBfppDjcAFVOEX5AEARONmbJ4aY78sgjDeTDnUdrKoEHJIky881JA+X5tKUC3QB5XMf1ADEgHvshNMEpHHoksLZt29YEEAAFCXsANgLqgGM45ghmoBV2a/PhkufRAfFwAuKee/LJJ79zTsfFN2XKFBPEsGVZELfr/d1lT2wVsApYBawCO6cCFsTtnO/15zqVBXE/l9J2HauAVcAqYBX4Pysw6cn5mvzmCg0Z3k5VVc1atrRcpaUNiicSysoKyO/3qL6uUStXFCkaSVcg4NKGyquVFhihgszfm3WBddFYXA3N0yV3SH6vW2W17yo10FlZwUEqqfpAPm+ODhp9v2k3LS1t1KoND6qiZqFG73GMDjvwUi2ZX6ZEXFpeNEkLlk3W1Re9YJxyTzx/hQb23UfZWW1NQunMr99WY1Otzh03XnO+mawZs1/XwH77mn00NtaoW+chSkSzVFleqaLSeaqoXaw0fyc1hIuUl7Kv2vhPUFXoK20Ovagu6ReqQ9shSkv3KT3TL5cnrs1li/XNysfVHK5S2+w9DbQryO2h3XoO1ozZr6lr54G66OzHFItFdf/EcaprqNTee54gnz9Fkz98WF6vX5kZ+WpqqlNTc53Z15UXP6yGyALjIAOA4SAjiAEROlFeAAAgAElEQVQ3F3PdaEslfZNWzBEjRpgQBuDX9ddfb9JWKVxuhCaQquokkTIbjj+AM9o/nRo0aJDGjRtn3I20mbIe6wDTCIngH7gknBK4QKspsI51aC8lHZRgBebLAc9IYv3LX/5iQiOYPcd6Tp144olmzh3QkJbT5Hl0QEDOR4orLaw33XTTf5xHhybMyeNZtLEmFy5CoN1f//pXkapqQdz/+T95e6NVwCpgFbAKWAW2awUsiNuuX892vzkL4rb7V2Q3aBWwClgFdm0FmPd2z+1faMnCMrXtkKZFC8tUVt6gzMyA0tJ8BuQA2TZtrFNZaaPisYQ8noQ2VH0XxDkqbqi4TbF41VZFzUwdphGDLjHz3wh1mDz1LMXjzbrs3JdUWxFQfpugYpG4Vq9drDc+vlIH73e6Dth7rP7x+h1aX7RE9Q2VCqZmqnfPEcZ1lp/XSVOmvaDJHz+sfruN1vAhh2vOvMlaX7RITc318noDCvjTFIk0KxxpNHvaq/+taq7P1MqSx1UbWorvTT5PpvIzhqlrwbHyeoLy+d1yeUJaWfyCistmKRYPf3se5q0l1LvnSJ192gPme+WVRXr7vQe1dv0C01obj0eNZqzNuoBEYNyFZz2o8Y9eYGAYsIl2TgIaCCGgZRP3GEEGONZoISWNlHrppZcMMNuyuOfFF180YI75aMxoA+Y59c4775ifAcIoWkmBgMxRw+mWn59vQhe4jnl07LmoqMjMZiMcATedU7jicMmxX9xuzKOjuB8HHGcBHDrfd+bR0T4KTJw6daoBegC2U045ZZvz6ICCJMeiEy2tzow71nPm1m0N0vFz64jbtf8us6e3ClgFrAJWgZ1HAQvidp53+UucxIK4X0J1u6ZVwCpgFbAK/GAFSjbVm/lwGwprVF7RpLKyRuUXpBoXnFNV334f4BIJxRUKhbWp7o/fccQlL8h14UjctKpmpPm1oXyi6pqWq2eb29ShY3vlfpu8+vEXVyoed+uAPe9Sxw4ZOuKY3iZc4Z03puudaZerb69ROnvc/d85SzgMVONPkzYULdWr79yjhsYaDRt0qMYef7O5dta8d83suXZtesjj8WrIwIP00WfPGJfapec+qXseOkPhSJ369jxEsXC2oolSrVj7gTLTO+rXB9ylzKw0pWX49MmMh/TNoo/MMw4/6BxV15Xp02nPy+Px6YYrX1d6ek7r3l5/5z7NmPWa+XrY4ENUWVWidYXzlZqSqabmWp1/5ng9/OQleuSRR3TBBRe0BFwEAmY2HECNdtNzzz3X3E94A/PRaPUEYjmBCZdeeqmBWDjT+vTpY1xstIXyEQgHMAOmOYVrDshGOitwj3ZYkkudtFXnOgIcuP/kk082Laq44i677DLzYwIm+BmON/YI3HOSVFmb1lSKgAXaXClCKABvOOFIfMVdR40dO1bvvvvuf5xHd/PNN+u2224zc+Zw53GOSZMmmeRWIOLW2lZ5vgVxP/g/e3uhVcAqYBWwClgFtmsFLIjbrl/Pdr85C+K2+1dkN2gVsApYBXZtBdatrtIDd32lRYtKVV3TrLy8oEk4dYpU1KLCWjU0hJWe7jdz1+rrm1WU5IiLJ0KqafxU4egG8ycWrzOQLjPlJLndddpYdZsygwOkeFC1zbO+V/CbbrxVB+1zmm647i/6fM5japPfVV069deylV8Zh1t+bkfTnrp81czWZ2RlFqimtsw4z4BboTCuMJdJV01Py9W1l/xdK9fO1XP/uE5HHny+yis26esFH+reO/+ppvoM4wTcfWhbzfnmfb302u3q23uMdu+3r2rrKjRz7lvGzXbOuL+pS+cBphX12lv3M2vnZLfT8MGHmf2UVhRq2hd/N9/v1mWQzjv9Id3/8GmqrilRONxkvn/ZBRP1wMQLDFzDGTZy5Egz9w2wROE2ww0GZGMmG5CONFQccbjTcnJytGHDBgPDAHMAt1mzZpnrDPgMh1tDNnDWkaxK6iitpLS0su62iuczx40Zbfzjl3lsADe+l1zsD1DGM7mGVtS99trLOPkc99qwYcMM7OMcgEenFi9ebNpKk+fRAewAk8DCf/3OxUzy6oQJEwzMowCIN954o4GVQEJg4ZZlQdyu/XeZPb1VwCpgFbAK7DwKWBC387zLX+IkFsT9EqrbNa0CVgGrgFXgByuwdnWVrr7kI61eXWnaUTOzAt+5t7YmZFJT3W6X/AC6hNTY0KxVm65Q0LeH2mSNVSReqY2Vt8vjzpTf20lN4SUGxBHkUN0wRXWhyerW5izFohlKSatVRmbLGlXVhVq78R25XX7FE2EDftavLdZVV1+h5lCTXC7J70/R3iOPV3Z2W61cM0cLFn+qQf0P0Op189TQWL3VczLDbf2GReZnfXqOlsvl1vLVX+qGK17TPRPGqWunIXp20hP6+qtiTXl/rXYf2sa47P76txPl9fgUT8SU+m0L7MH7n2FaYElZDUWadfvdv5bPl6KAP1Vut+fbPbSAv9Ejf2sCJjaVrNaDj52lgvwuKq8oMqmpt1z/lG6+4wyzJ8cZRhvoJ598YpJLX3311dbWUhJACTggAOGpp57S3XffbeDb6NGjVVZWZmbMMRNuwYIFJj0U8MYcN4CcA63OOOMMc29JSUlr8qozi662tta0rPIcQhUooB7z6I4++miTSgrou/zyy03rKUANUIgTDaAH/APQpaamimcBCAFlTiW3k27tBZEUS1KrM4+Of2zTortlMWMOeMd6zLUDtB1++OEG7jFzbsuyIO4H/2dvL7QKWAWsAlYBq8B2rYAFcdv169nuN2dB3Hb/iuwGrQJWAavArq3AsiVlOvcP76i8vEnde2R9ZyYXymwqrld5WbWaolPVFC5UU3OhorFaIxqpqdkpJ8njiSvhapDXk61ItEIbq+6QS8C2uBKKGYdaj3Z/lM/VTgVt05STm6KaqpBCoYjWlz6uzeVzW18CYOmMcdfqqWfvNrPZLjrzUXXvOkhVNSX66LOn9c2iKQaK0WbKrDg+Tp3xd115wSTlZXdWaUmDaU39fPZDKsgZrLKq+dpn6N2m7TSeqNN70/8d4CT/BvToOkTnnznRfItgCFJQlyz/wgQvJFfP7sOM84169a279dWcN3XLtZOVFsyS06bat/dorVrztVICWfrovbkatU8LrAK+HXTQQSLZFMcaEAxnGICK1k2cZjjCkgsYFQqFTKIo7Zo8g/TQ008/3YQ0EMZAG6lTONKAVzjWSFvF6UbSKLAOUEZL7KpVq1pbWV9//XUD+4BjALhnnnnGtIYmF3PiaFFlnh3ltKZOnz7duOKSi1ZYgiFYP7loOb311lsNvANEsp/58+f/oP8I9957bxP2kJuba84KqNxzzz0NQHRA3cEHH7zVvf+gBexFVgGrgFXAKmAVsApsFwpYELddvIYddhMWxO2wr85u3CpgFbAK7BoKfPzBGt1wzSdqbo6oc5es7xw6EU9o/foa1daWqLDsNnk9WUpN6ay6hha3WWZwpHKDJysSAbbB25q0ueZuxRJ18nnaK+gfqJqmjyR5jOutW8G1ysxsY9JYU1N92lT5DxUWTzG3du44RD17FeizqR/p9D+cqWeefUpeT4puufoDxdWoeyacYlxnA/ruo9nz3lW3zrtrc9laKZFQc6hBwwaeqC5tjlVtbUjrij/TmuJn1S53X22unKahvW9Q0N9N5WWlWl5ynVnv0EPOUV3NBs2bP8PMcPvtr69UXm4LKFu6/AstXvq5qmo2G4jYuWM/7bXnbxUMZunpF65WSkq6crLbq21BN+O8owUV11u/3nvp8IPP1aPPXKz0tBxz3zcLpygtNVvnnHuWXnr5eeNow2WG4wxXGoCM2W/ANWAbQQm4zIBcACvaU3G/8TngDOfYokWLzHW0sgLhgHF9+/Y1c+Wc4nOgGcAN5xqgr7i42KzJ/bR4OiCOZwEGuee9994zazjPdZ733HPPGTDHPDoHxBHW0L9/fx1zzDF67bXXWiGuE9bA7LktQRwAjpbZk0466d/m0W3rvzjcf+yLZxI8QSstGgIMORd7om3Xgrhd4+8te0qrgFXAKmAV2LkVsCBu536/P/XpLIj7qRW2z7cKWAWsAlaBH6XAxPGzNOnp+YqEYurYKRPu1FqhUExFhTWKRMPy+UPyebOVSMS0cNXF5pqcjFHqWHCqmpuiBsbVNExXdVNLYAFtqy53QA2hLxT0HabGyPtK8x+lgpyD5E/xSG4CEv6sgD9H4UiN9hrxgM46dx/Nmfe0Jk6cYJxSmekFOuaAx1QV+lxvf/iAzvj93crL7WCgHEEOew7/tZ576XqzXof8A9Qx7zilpkoVdTO0ePX/yOcNyuMJ6MAR96qmIqZghl+fzD1HsVhYmRmd5ff51KXDPgqH4jrqyKOVmpqmhx4/x7SbAvxIYCUhddXauUoLZpv1Pp76rGlJ9XkDBsz16bWn6huqtGjpVKWmpBs4xpy6Iw4+X5tK1uqbhR8p4A+oOdRoHG9HHXWUabd87LHHzBkBSgC4iooKA8kAZ7i+PvzwQwPfCEBwvkd76O2336633npLX331lTk3raQkmd50003C1Ubtv//++vTTT83nwDZSVbkOtx37O+2008xMt9LSUtPuyno4zGiBxQ23++67m5bWSy65xMyzmzlzpt544w2zV9pbHRDH888//3yTxsrZCIYAvPE1sI1wiC1BHPdwLecDQm7cuNGkpCbXK6+8YkDgAQccYByA6EVIBRCO8AoSX51asWKFCaIAbhIK8eyzzxpnn9PqSsIqrb62rAJWAauAVcAqYBXYcRSwIG7HeVfb404tiNse34rdk1XAKmAVsAoYBRobI7rz1s81e+ZG1dWEFAz6lRr0tqrT2BDRxqK6lllt3wY4bAniOrcbZ66PxxLaXP6+ymvfNl8H/cPVFFkqt9IV9B2nuvAjygoerx7dD1J6ekDri15V4cZ3zbUZ6QPVNvccDRhYoB67hfXA+NPM7DO3y60L//CiPvv8Tc1b9oIuO/cprS9arNffvV/t2/bUPiMu0MvvXGme0b/72YqrUsvWvtq6f583XS6XR+FIrUYNuE0DBw/Sh9OuV2HRIjM3jj8+b4byModq75F/0Iay10yQw2XnP6N16xfqpdfvMK2mpLJ+X5147HXq1KGf7p94qrwev6KxlvCFk4+7SVOnv6HikgXma1xjOLiYscY/LoFlc+f+qyUXGMXcNc596qmnijZQQNzf/vY3PfzwwwI40VLKXDfcbwQiAKeckIfk/QHUnNZWghCYqYYrjlZRPgIAgXs8j88BYr/5zW/Mc4FgzJtz5ryxnzFjxph2WUISAHaDBw/WtGnTDEQj0RQwhouPPwMHDjRgkNlzzIED6n3zzTfmvjZt2piQCs5+0UUXGU2Ah4A2zgo85BmcnXXRA5gH/DvhhBP0pz/9yYREJBfz7HAMfl9xFqCgLauAVcAqYBWwClgFdhwFLIjbcd7V9rhTC+K2x7di92QVsApYBawCRoE1q6v04P0zVVvTrKL1daats6BNsFWdLUFcefVnisYaVFrZAtBSAp2VlT7EfJ6ZtrsSiahWbbjbfO3zdFAkVqwU356KxggsCKlfr+vUpWsb8/NZX9+lquoVisVDapM/Qim+PkoJNquo+DM1NpWrQ4ce2rRprQb0H6LeXQ/Wa5PvlsftM3PnYvG4/L4UkegaizcrJ6OX9t3jVjWFyrWm6COtKnzHrOFy+dQ2ay/lZHfQsGEHqUfvdrr/wbGtIQ9dOg+UEh5tKFokjztV0Xi9OnXoo7NOvV/vfviw5i38yICqnt2GmqAIiq+zs9ooN6eDzj9jgvneP9+8yySsUh6PTymBNJPyGo/HvoVdcTFHjfZKwBgONOAWIQi0UwKdAEx8j4841wBVf/7zn7Vy5UoT5gBQwsXGnDQKZxsAjPtxoOH6omVz8+bNBlwBrXDNTZo0ycA69n3WWWepT58+Bow5jjngIImruM+YK0cgA/CM1NWJEyea2XP8Y9hxod17770Gsh122GHGoYZzjlAI1gUs0qpK0bYKLATuARbZH2vhhDvyyCPNXDdcdsx5w/VH2ANOPVx37O3ll182bjsg5JZVXl5uzk9LKjPtOCPAkhZfW1YBq4BVwCpgFbAK7PgKWBC347/DX/IEFsT9kurbta0CVgGrgFVgmwrMn7dZj06YY+a1lW5u0MrlFSY1NSW1xRXX1NjiiCOLMxDwaOnaGxSJVm71mZ3anqrczNEqrfhMmytf/s41Pk935QRPU7ceHZRf0AL6pn15rRobNyshHFmZikRqlRLIUK9ee6iwcJlxqx15xGma/P5EVVVtfU23K6BeXY5S3x7HyO3yKhqNa13RZ1q05gmzRof8fbW54gudcepj6tmrj958537N+XqyotGQBvbfX5tLVpv5bpJb0Wjzf/xtCfiDikbDyswsUEZ6ngryO2nR0mkmPOK75VJ6sI3qG0sMZItGowIe8Tmtnqeccopxs+EOmz17tkaMGGE+kpyanZ1t5rUdd9xx5mvgGwmqAKrKyn/pAHR64oknjMsNlx0AD8hF2ydFmyuQC1gFMHPaOp194kpzZsThdrvuuuuMy41WVacAdnvssYdx1/3lL38x3wb84cpLLs4GgDv22GNNyy01fvx446AD1OGESy7muDGnDtgHrKM1FzjJR6euuuoq3X///VqyZImBecmVnMoK4KP9FEcdwNGWVcAqYBWwClgFrAI7vgIWxO347/CXPIEFcb+k+nZtq4BVwCpgFdimAvPmbtJjE+cqLd2vYNCruTM3qbS0QW3bpcntdikaiauQGXHhmFKDuNFwhLXMiGM+nNOW6iwSicRVUj5LlfWT5PN0UlbaIQqFi1Xf/Jl83vYaMuAq5Re0zOua8vnFCoWq1KXTr9S981izxrAR7dW+Y4Yeffx81dRU6ohDHtSIke00fKRb06d/pnfefl+dOwzVK68/qBQfjrsqBQMd1b/z5fK4A/J43Sqv+0JL1z+lof3/oOHDDtGTL/xe++97qg456GzdcdevlZvTXkUbl2nsSbere7cWNx/113uPVzQWUl7WMB128O8UTPO3/iwSCSkWiyolENTbH0xQXk5HVVRtVE1tqTp16KuVq2frqMMuNu2yr7/zN7kV1MXnPKJnXjpLpaWbTFsmM+BI+xw7dqxxvOEgI/iAxFRAHC2WQDPaRGm1BCqtXr3aONuAYPyD1Jl7hoMNNx0tlzjmcJoRxsDsNpxtFHCNGW9AM0AgM9cAek6xD0AYoA+Axn5SUlKMKy65uIe1AIVbVmNjowGBuO0IcmD/7JNywh1wtJ1zzjmmFZYQB86Li432WaAhba642dhPcpGkilNuwoQJxumXXB9//LE5EyARN9yoUaPM89i/LauAVcAqYBWwClgFdnwFLIjb8d/hL3kCC+J+SfXt2lYBq4BVwCqwTQUWLijVIw/ONm63tu3StWF9jZYsKjNOuPw2aSa3YUNhrerqQkrPaAFT3wfi4vGENpfNVnntJNM+mhYYoey03ykWiyumVSqreUxdOx6nAf2ONc/56LPzFInWa8yIW5WIdzR7GDWmkzKyAprw8JmKx6I69piH1FAfVkGb9XpwwtUG8rz+6he6+dbzNWr4hcrNbqPJU27WsIGnavc+vzUhEKsLP9Qnn09Qxw59VV29ycx3y8/rrHPPnKg/3/2bH/wbMWzgcZKnQUtXfKGmprot7kOZhIYOOlh+f1Az57ypG656R2WbEnr2lbHyet3Kz89R0cZCk25K4doCjuH8wvH297//3bSBArJwr9GyiouMuu2223TzzTebz3GDMYcNMOXUpk2bzBw1XG7r1683c9VoIU0GccC7a6+91jjrSDTdVm1tzlzy9V26dDHrUKx1ww03mFlywLvkYv4cDjWuAQwCDLkPtx7Ouk8++cRAPcAfZ+IZXLutIoQCt9v3FW7AQYMGGcj4wgsv/OD3ay+0ClgFrAJWAauAVWD7VcCCuO333ewIO7Mgbkd4S3aPVgGrgFVgF1VgY1GtHrjnK9XWhNSjZ45xNi1fWqG1q6vU3BxVXn5QlRVNKitrUDDVJ7eH4f5bccQlpIbGiApLxiuRqFc0XqpU/x7KSj3JhDz4/R6t2XiNsrP6aNQe1ygej+qDT880MOuwgyZpc3G9ccKN3quTWePOvx6tDu1302nj7tGSxWWa+vmtCgSa9dXMrzRw4HDV1zXomiv+R4FAim7586Hq3LG/zvzDA+YtTpv+d7334cNKTc1QakqGKquK1bXL7sYBd+c9x6hD+94q3rRCe444xjjckmvFqjnatHmF+VZWRgc1Nddq6MBj1LZNO3049THT0hrwp8rnS/m2pVVqk99DpeVr9NtDnlFDeJE++Ow+ZWVl6+KLLzIOMFJDgUUUs9GYr4bjDa3LyspaQxSSHW8bNmwQ8MupLdtSgXuEOwCxmN3mALFkEPfRRx8ZRxmusSlTpmjOnDmmzROgh5ON+3GV0UqKGw2ARsvnNddcI9pCmQWHW43CaebMpuMMPI90VdpKuW/hwoXmHtx8d955pwFvJK3iwgMkHn/88abtlTl57BdnIGdk9h1hDZwVdx5z42iZTa7u3btvM4yBa5klR6svbbPWFbeL/mVmj20VsApYBawCO5UCFsTtVK/zZz+MBXE/u+R2QauAVcAqYBX4oQpEIjH95bbpWrakXIOGtDW3xRMJrVxWofVra0x4A061ysomE4yQmurdKohjNtvGkimqbfrAuOjiiUZ5PR2VljLIQDi/t5+Ky8crJZCtjPSOqqxermi0Za7aqOH3KBHL1oBBbdRztxwDzu67/3dq06abKioIeUiYwfxej1c5ubmqrq7Vrw+7QyNGjDQ/u+WOQ77dd9y0j/p8AYXDTWrXrpc2b15lfjZ08CE6/tjrdNtfjpDb5VFTc50JVcjIyDPtqQfse6oK8ruouqZUd913vAGE1Iihhykj2F3zFk1WVc16Dex9rNYUfqZMIF1TteoaSwxUpAb220uFRYuVX5BrwhKAYv369TOOt8MPP9wEKlA44x566CHzORALKMZ1juMNFxnF92hXpXgeoCq5gE88E4cZAAv4hcsO2AVAo8UUJ1mym4wZbKwZCoUMHGSGHBDPCWcA+D377LOmvZXAhC2hWHV1tYFouNRuueWW1u2ceOKJ+uc//2kCF5L3yVlpLWUvQ4YMMSERw4cPN+8Tlx4ADqccoRTMw8Pph4MOoPffFG2xtMJubR5d8nPQmlbWt956y8BD2oVp7z3qqKPMjDzm89myClgFrAJWAauAVeCXV8CCuF/+HezIO7Agbkd+e3bvVgGrgFVgF1Bg0tPz9c5bKzRgYIECgZaQBgIUNm2s15pVVSova1BFeZPC4ZgyMvxyexL/NiMON9za4lsUT1RtVbH01L1U3/SF+VnAn61EIq5wpKUlsSD3QA0eeJr2HNNJwTSf3njzHs2e87YCgaAyMvLVUF9pEkgpt9ujA/e5WWPG7G0CJhYu/lT/89JN5meZGQUGwDWHWq4luZTZcO9/9KiGDTlMRxx2ke669zhFoiHz873HnCSPx6uZs980X19y/tNavmqW3nz7XuXn9VZ5xQoTrhAMpqmpqVk+r1/7jjlV7095WF07D9YJR/9Jb31wl1asbJmphsPsgw8+ME4x6sorr9RvfvMb0z7KrDdgHC41WjJJLl28eLGBWgQdnH322eZ+IBFz1kgfveOOOwycYsYb89VoH+Ua2jpJFwV+cS3QDdeb47oDctGmSiAC7jOcYrjbgG444IBVtK061+POo60TAJeXl2d+DjwEwuG4W758udkja9fV1RmQB0wDqjGbjuc6oROcFQcgBeRibQAXz+jdu7cBgMFg0IQyAMXY64ABA1RVVWXaaNGOwAn2TrEeUA6XG243asugCJx1QD5AJMmy2yoCIpw2VubTESKB1k8++aQBcnzOc2xZBawCVgGrgFXAKvDLKmBB3C+r/46+ugVxO/obtPu3ClgFrAI7uQILvinRE4/OVSyaUJeuLUEKTjU1RVS4rsa0qi5e9q5C4QZ5PFJ1w/sK+DopPWWQ4gnJlegjt6ud5Nqg8rpH5HJ5lZe9r/y+fDU2bVR13RfyedM0ctg1ysrspng8pvc/OU0pgbZqDpVot54HaeDuw7W+cJG+/nqyWf6UsX9Rv757mc9XrPxGk56/zAC8grwB2mvM4SopXaNZs99SLB7VHsOO0nHH/NFcO3feZP3z9ZaEz4vOe0oTHj3TgLhOnfrrrXfuV1ZmgerqKzV08KHq2KGPNhYvN/cA7jIyC1RRsUFHHjxRXy+6W42NVSbwAOcZEInWzezsHOP8wvG2dOkSDRw40DjWAELAnV//+tcGRnEP3wdmEU5A4ABQCWjGLDWuBTpRtG/yPVpEWYNWTlJR33jjDQPggHcnnXSSccgxYw4nIECMmWi0iuI8w+EFTMIZRiorUJC12TfPIw0VyEQwAhAQ9xfP5hr2xbrAMa6lDfXLL7/USy+9ZM4wbtw4AwapAw880LjlevToYeAZ6wLcWAd3Hvext/POO8/sAQDHWfg5bbn8nL3MmDHDPI8WVsAbewEOAhoJXwCa4ZoD+PXq1ct8ZO0TTjjBgEzWAvA988wzBtjR4oqzbVsFUAReAuOSixZa5vXdd999uuKKK3by/+Lt8awCVgGrgFXAKrD9K2BB3Pb/jrbnHVoQtz2/Hbs3q4BVwCpgFRDtqePvm6mvZhRp0OC2ppV0y8INR6poU3P5VhXLzfid0lJHKj3Nr0isWKWVk9XUXKhotEYud1AZwb7afcDJysxoY+53QFxO1p5q17abNpdOU21dmTIzC5SX10mrVs3W+ec9rk4d+7au9/rrL2nO1xPl96crFmtWamqm0oJZKildq6svf0m5OR3Mtckgbr+9x2rq9BcNiCvI76oPPn5MZ/1hvFatnq1FS6aaOW+47HDSde86WGvXL1Cf3qOUnjpEc+c/YpxeCxYsMJb5Zp4AACAASURBVI406pFHHjEwKRKJmKTT559/XpWVlSZsgXlpGzduNE4w4Bxw7cUXX2zdP6Drf9u7FzCfy/z/4+9hGHMymBlmnCVFDuVQco4cSufDbkUtSgi7W6vT7lZ0sFGJtlBZVFJRKsLFzylhCSFMROOcMzOYMcMY/tfr9v/MfmeM8Z0mxpjnfV17xczncH8en097db2u9/u+FVApTNI6agqW7r//fvf7q666yu0mqiBI1VlaO04tqqoY84bCOIVnCp1UsaZdQp966in3a1WLqVJMIZbCO1XSeXNQaKcwTC2omrfO1dy0C6oqwFT55rWi6vqq0lPgp2BQz60WWYWKCuWmTp3qquC0Rp2eWRWDem5tLPH444/b+vXrM30fCtdUzabjVaWnAE1B4kMPPeTCP60bJzNdS8Ga5uhV/tWoUcNVFKraTc+q/yBXUKff65k0VI2n0FAOuo/acBUSKlzU2nKqNFSVnc7Jaeh4vZuHH37YRo8ezf8rIIAAAggggEA+CxDE5fMLKOC3J4gr4C+Q6SOAAAKFQWDF8l027oPVdvDAUatZK8pVR2UdaSfSbc2qva5CThsqlIwIMh2WlHTcdu1KcjuFFiuWOfDQhg9abi26bIiVLhOcccmk5FT7bnF3qxDbwh56sL+Flzy9I6vGjh3rbOR7Pa1Spdp2c4feVqp0jB088Kt9+dUwS0lJtpvbDrZrr6vujh3z4d9s1554++fTp9tLfcfAwbdbbMzltjF+mQvirm98t414r4dVqljbOnbobaVLx7o16KbNeMcFcVfXbWtzvh1rne57yTb8vNuWrxrhwiwFRgrktKmB2kDV1qkdThWWqdVT4ZZCJlV8KbRSxZdaLxVmqbpqw4YNLtRS+6VCoxkzZrggSTuoduvWzU1ZFXOqlBs+fLir1lIYpoo7BUgKr5KSklwQpaEKMG2ooABNoZM3FNxpJ1UFhKqU0z3U9rl3717buHGjqyobPHiwq2LTOnLNmp2uNlRlm4I83VMhne8acaNGjbJp06a5OSk41HNr/rrenXfe6Vo7NXcFhgoX33zzTXct7Qqr6rr58+c7Cx2n+ev6WhdOYaRCtZtuusm17qodVgGk1oe7++67XZCosW7dOhf0KThUeKewTEGgKgkVznnPsGTJErcxhSoV1barte5kM3HiRLeRw4gRI3L811iVdbqHbPR+GQgggAACCCCQvwIEcfnrX9DvThBX0N8g80cAAQQKgYBCm88+Xmszpv9i4SWDrGLF7NfJOnb8hMWt3mfabVVVcmUig92GDnv2JFtwiUAX0HkjLe2kHU9Nt4hSQRZTPsyKFAmwkydPWWJCqh0/nmYr4npbndrt7IH7nz9DWC2ns2aPsqNHT+82qhEbU9tiy3a3yhVjrfH1FdzPhr3Txa3z9ufHzqxienvkw27zBlXMKYj7w93/tKXLp9jM2e9nuq4q4To/MNDeH93Htaz+46mvbfKUL2z5qpGuUk1VY6q2UsungjVVwGkoYFLwpE0LKlSoYC+//LJrS1X1WM+ePd0xXqWa/qzA6plnnrHJkye7EEuBlMI8BVIK4Pr27etaNBUyqTpM4VtOIyYmxm1uoKF/PvDAAy74ym54QZzaRRUoqkVT68Fp3HHHHW7zArW4qh3UN4hTwKZQTUMhnjZF0LMqkHvrrbcybqXWU61vpzmryk2tpxpaH07BlireVLWmnVW1bp1aaf/9739nmqrWd1MoqPBQ89DQPVRpl9MmDPp2FRTqfajaTv/0hu6nd6TdYhW0nW2o9VbhpTaV8HaKzRGfXyKAAAIIIIDAeRUgiDuvvJf8xQniLvlXzAMigAACl4aAArUPR6+yxYt2WJkywVahYni2lXHaIXVTfIJt33rIEg5qc4R0O5J03MLCirmwTUPtrsdS0y0srLjFxIZZkcAAS05Ks6PJae5nZWOCbdKUB6x+/Zvs3rv/cQZg3E/f2dJlk63G5ddZZJkKtnvPJvtuwacWVDzWmjR61lq3udKd8/rQ+ywsrIw99ujIM64xctRjlpR00O3C6gVxuu73y74+fd3IirZH1130qZUqpd1D4+366+6y2295wiZ9+alrTVV4piDIG6p6UzukNitQBZcCJq3LpjBL1WP6szZl+Pzzz8+YjyrktDGCfq82VLWwasMFVW1pfTK1RHqVamrRjI2NdYGdgkBVuyko8obCLV1DQZ5aVtW+qbZQVe9pvTNVhKmarlOnTu4YL4hTQKj13HRvVcBpaD05tdC2b9/erbnmG8S1atXKhWOqVNOadgrY1Iaq/ziuX7++O19zU3CoajU9n9pXvaGdYFWppoo4BY9aD07HquVULb4aqpxTpZzurQo3VfWpXVVD4afCP1W09ejRw3lnHWodVnimte+0xp7v8O6vnVu1Rl92Qx5yUciq1mAGAggggAACCOS/AEFc/r+DgjwDgriC/PaYOwIIIFDIBA4eSLHxH622H5btspPpp6x6jdIZO6lmpThw4Kht2ZRo8fEJtmf36dbUokUDLD39lJ06ecpKBBdzLaduOa8AcwGcquMqVoqw2PLB1v+lG7MN4uLi5ttnEwdYn8f+YzExp1tQNZYsmW/fTHverrjsPuvypz4u9MtNRVytms3t04n9XfVcTLn/XXfDL0tt7Ef93D1693jPIkvXsFlzJ9mSZcNdpZiq3LyhNk8FcTmNli1bZlSmqVJN7Y7ffPONa031HQraXnrpJbeOmarR1ALqVappTTVVrGnTArW1qlLL241U15g7d66rVPv0009dO6yCOIVUCpt8K9XUMqsqtZxaU72KOK3JplDNN4hT+6vmqKo/rQenNlzNRxVwWt9OAZieUeGZ7q95n20oiFOg17RpU9deqpBRgaVCR9/hW+mn4FPBpdpMtdGEbPV3Vf8pbNRQkKmNLHIaL7zwgls/LuvQenranKJjx45uYwg9IwMBBBBAAAEE8l+AIC7/30FBngFBXEF+e8wdAQQQKIQCR44cs+nf/GJLl+ywrVsOueq42NgwCw4pdobGKTtlP63dZ8uX7TS1oqYd1yL+RSw4JNBKlSphJYID3XklSwZZdLlQi44Oce2rahl9YUCbbIO4UaP/bMnJifb4X8Zlul/8Lwfto/EPWHRkLevy4GCLiCiRqzXiEhJ2WfLRRHviz/+rLNMNTpxIs+dfamPFiwfbi8/9n+3aecRWx820bxe8ZbNmzXIVXd7wrVRTpZZ2VFVYpGo2ryVS7ZyqLtM/FZApdNKGAapsU1uqWjSnT5/uWjR1Da0T5wVxvpVqqtJSlZ2q0FQh5hvEaW06rfmmdss33njD6tat66boW6nmVZPp514QpzXX1G6rEEzBk9YC1KYGao9VUKj12rIGcdoNVpV+CiQ1f1XCaS6JiYmu7VTtn9HR0e58rU+nteK88fbbb7swU22tCuC0Rp5+JjdV7/Xr18+tAacqOf1s27ZtrhLQ91nVeqp197Q2nVpvVTUoO4WRamNVZZ2COVXq6frZDT2jqvV8h1qAVZmneel9qP2YgQACCCCAAAIXhwBB3MXxHgrqLAjiCuqbY94IIIBAIRZQ+LHmx702d/Zm27I50XbvTHLru6mqLST0dAuqjkk5qjXYkl2ralBQUSsbE2ply4a60C2waIAVDwq04OBAVxHnO3IK4oYOO91e+MTj/9txVH9ftWKXfT21i5WPrW1tmj9vV9SMtJmz3rNvF3ycaddUHTt73hibM2+sVa1Sz7ZsXW3lY2tY4qG97rrduw5zmzh4Y03ct/bJhOctKrKS/e0v4+3HlXss9cRymzx1cEYQpwBOGwsouFHwpXXSVB2m9eIU1jVu3Djjetq5VIGaQjIFaWo/1d/nzJnjgiJVd6k6TDuZekFc1tZUXUzXVqumWk4VVA0aNMhVnGlTB4Voao9VG6jWVtO1FM4999xzLshSC6iqvfSOFJh5QZyuq80LtI6dWk01R1XQqRJMf9aOrFmDOJ2jYxVcKTxTKKj5aD07tcfqHIVrChj1e1XQqXpt9uzZ9tVXX7lNJRSaeRuAeGGmjlW1oDZYUGus1pZTuChX3yAu67+G2jSiUaNGrg1VYaMCTv1doaCu589QoKfKOgWYei96HgYCCCCAAAIIXDwCBHEXz7soiDMhiCuIb405I4AAAgg4gfT0k7bh5wO2etVe27ol0dS6evRomgvligQEuIq3kJBitnr1HktJPWFNm1d0FXHnGjkFcePG/91+/vm/1qP7cKtcuY67lNacmz59ii1dPtQ63vSwBRfrYHXrlbWDCVtMmzI0aXyP3dbxrxm37f9KBzt+/Gi202jd8iFr37ZHxu/eefdR+3Xnemt6/b3Wqlkv27b1kJUuu97eGfHPjCBO7Z0KzRRw7dy501W7qVJu5MiRLjzyhoIyBVlffPGFC4i0Ppsq5RT4qH1SmxSogkvX0vprXhCn9ea6d++eqVJN1/SqvRSUqfVTbaEK8RSMKfBTsKfrqkVV1WGam4IstbRqV1ZVvqkd1DeI0xy1sYTmrlZbBWTawEEbHWin1qxBnNZw0/NoN1JdT+GahuarSkA9oyrUtKup1rFTO2xqaqqbp0JIhYOat9puVTmn4E7ryXnVgocPH3ZzV8ip9lGd5wVxCjC9TSU8Y1Ugan271q1buyBS70LnqyJPa8JlbR3W/RT6eRVveod6d6qSUyDntbie65vl9wgggAACCCBw4QQI4i6c9aV4J4K4S/Gt8kwIIIBAIRRQdVXCwVRLSEgxbdigwE0tp1HRITZxQpx99cV6q3FFGVcxd7axeMkkS01NcpVac+aOsdjYGlb7qpbucK3hpjXhtm5bY6PH/NWKFi1mja+708qUqWDx8evtp3UzrHTpMjbxs9k2dfJO27/vqNW6Ksq+/maILV0+2RrW72hVKtd15/+wcrpd1+gOu+v2JzOmop+PGvsXd11tynB6E4h4W7r8GwsJDrc+PUfbpvgTdnmN0hYZs8H69et9RmuqLuZVqqkyTeGTKtN8K9W0nppCKlWoKYDTjp9qu/StVFP4U6lSJRd8ecO3Uk1toAqjVLmmtlCFSdlViWWtVFPQ5Ts0F4VbquJTQKU5KRBTq6fWrQsNDXXhmVpjvaE5KeRS5Z6q2VSBpso8BXJqo1Urp0JGbXKgqji1jGooINPfFyxY4NZdU0ioAEwVe2ppVSj3yiuvuGMVhCn4UzCptenWrFljY8eOPeNZtVGGKutuvfVWF5zpHgonNX+Fj1qnTkPhmu6t+6m6UNdUMKfdV1U9qGdQYKpQUq218lSFYdbQTn/XdRgIIIAAAgggkL8CBHH561/Q704QV9DfIPNHAAEEEDinwMYNB2z428ssMTHVrrgy8qzHvz7kj5aYmHlxfu/ge+76uzVocLP7q3YwnTvvA/t158925PB+CywWarVqNrYJE0dYjRqX2YTxcTZ96kaLjAy2qOgS9t3CT2zZiql2+PA+K1ky2q5tcKu1bN7JihbNvPj+rt2/2NxvP7Aduu6R/RYcXNIur97I2t/4qCUeLGEBAWb33FfLft21wIVOWdeI8+aqNdW07tmkSZNcuONbqaYNE7TWmkZ8fLxbH07rmvlWqnk7sfoGcV6lmqrjFJbVqVPHBVcKnnRcdkHchAkTXBjlW6nmi+8Fcd7PtMNqqVKl3DpxCpwUWmUNo7IGcapKU3ilTRlCQkJcmKeqNd1X68MpzPOGgjLtXvrJJ5/Yhg0bXDCm1tM2bdpYr1693DNpqBJP68PNnDnTkpOT3aYPqtIbN25cpmdVGKgdUxW06RxV2+ka2uHUdxMNXVNVfwMHDnTvTFV6qppTIKdKu759+7p35D3b2T5QVSn6vpNzfvgcgAACCCCAAALnRYAg7rywFpqLEsQVmlfNgyKAAAKFV0CtqmNHr7JZM+OtUuWSVrpM8O+GoU0aihcPtPs71bZWN1R11z2UmGrvjfjBbRJRpUqERUaG5Ol+v+44bAcPpliLVlXs4R71rXjxonm63oU6WW2id999t1sPTruf/p5DAZmq5rQO3NChQ+21115z68AxEEAAAQQQQACB8y1AEHe+hS/t6xPEXdrvl6dDAAEEEPj/Anv3JNvwd5bZ2tV7rU69aAsKylyN9lugtCbdtm2HrG27y+zh7vUtMPB/68/t2H7Yxo390Vau2G3lyoVa+QrhGRsC+HsvrYGnnWGPJqfZdU0q2J+6XW2lShec3TNV1ab2S+1sqnXkfs+hCjy1g6oKTevQqTJNFW4MBBBAAAEEEEDgfAsQxJ1v4Uv7+gRxl/b75ekQQAABBHwEvl/yq30+Ic62bEm02nXyFsYlHEyxTZsSrX79GOveo4HFxJ65s6Uq2SZ8Emdxa/dZSnKaVateysLDg875TtxuogmptnlzokVFhdjV9cvZ/Z3rWESpiz+Eo1LtnK+XAxBAAAEEEECggAsQxBXwF5jP0yeIy+cXwO0RQAABBC6cgAKu+d9utalTNtjmTYkuGCuTyzZVtbmq2k2bMVxdP8Ye/FM9q1at1FkfQru4zpoRb4sX7rDt2w9ZevopVyEXFl7cQkOLW5EiAe5cVb8lJ6XZ4cPHTNV7wSGBVrlKhLW+sZq1uKGyFStWMNpRqVS7cN8zd0IAAQQQQACB/BEgiMsf90vlrgRxl8qb5DkQQAABBPwSUBi3bOlOmz7tF/t53T4rFlTUKlYsaWFhxXM8X+epFXX7tsNWMiLI6tUrZ3fdU9MqVY7w675bNye6NeNWr9pj+/YdtaQjx00hnZ06fXpAkQALDS1m4eHFrVxsmDVoGGsNr421cjFnVtr5dUMOQgABBBBAAAEEEDgvAgRx54W10FyUIK7QvGoeFAEEEEDAV0AVbd9M+dnWrN5ru3YeMVW6RZQuYeFhxa1EcKBbz01ValqfLSnpuCUkpFrJ8CC31luLlpWtTdtqv2mduUOHjtm2LYm2a1eS7duTbMeOp1uABVhwcKCVLRdqMeXDrNplpSw4mPXO+GIRQAABBBBAAIGLUYAg7mJ8KwVnTgRxBeddMVMEEEAAgd9ZQFVuWudtxfJdtmb1HlNIptDtWOoJO3nqlBUtUsRCQgMtLCzIosuGuCq1Bg1iLSo6b7ug/s6PweUQQAABBBBAAAEELqAAQdwFxL4Eb0UQdwm+VB4JAQQQQCD3AikpabZ7d7Lt2ZVkh48ccxVy2gVVa8jFxoZZdNnQTLui5v4OnIEAAggggAACCCBwKQgQxF0KbzH/noEgLv/suTMCCCCAAAIIIIAAAggggAACCBQwAYK4AvbCLrLpEsRdZC+E6SCAAAIIIIAAAggggAACCCCAwMUrQBB38b6bgjAzgriC8JaYIwIIIIAAAggggAACCCCAAAIIXBQCBHEXxWsosJMgiCuwr46JI4AAAggggAACCCCAAAIIIIDAhRYgiLvQ4pfW/QjiLq33ydMggAACCCCAAAIIIIAAAggggMB5FCCIO4+4heDSBHGF4CXziAgggAACCCCAAAIIIIAAAggg8PsIEMT9Po6F9SoEcYX1zfPcCCCAAAIIIIAAAggggAACCCCQawGCuFyTcYKPAEEcnwMCCCCAAAIIIIAAAggggAACCCDgpwBBnJ9QHJatAEEcHwYCCCCAAAIIIIAAAggggAACCCDgpwBBnJ9QHEYQxzeAAAIIIIAAAggggAACCCCAAAII5EWAIC4vepxLRRzfAAIIIIAAAggggAACCCCAAAIIIOCnAEGcn1Aclq0AQRwfBgIIIIAAAggggAACCCCAAAIIIOCnAEGcn1AcRhDHN4AAAggggAACCCCAAAIIIIAAAgjkRYAgLi96nEtFHN8AAggggAACCCCAAAIIIIAAAggg4KcAQZyfUByWrQBBHB8GAggggAACCCCAAAIIIIAAAggg4KcAQZyfUBxGEMc3gAACCCCAAAIIIIAAAggggAACCORFgCAuL3qcS0Uc3wACCCCAAAIIIIAAAggggAACCCDgpwBBnJ9QHJatAEEcHwYCCCCAAAIIIIAAAggggAACCCDgpwBBnJ9QHEYQxzeAAAIIIIAAAggggAACCCCAAAII5EWAIC4vepxLRRzfAAIIIIAAAggggAACCCCAAAIIIOCnAEGcn1Aclq0AQRwfBgIIIIAAAggggAACCCCAAAIIIOCnAEGcn1AcRhDHN4AAAggggAACCCCAAAIIIIAAAgjkRYAgLi96nEtFHN8AAggggAACCCCAAAIIIIAAAggg4KcAQZyfUByWrQBBHB8GAggggAACCCCAAAIIIIAAAggg4KcAQZyfUBxGEMc3gAACCCCAAAIIIIAAAggggAACCORFgCAuL3qcS0Uc3wACCCCAAAIIIIAAAggggAACCCDgpwBBnJ9QHJatAEEcHwYCCCCAAAIIIIAAAggggAACCCDgpwBBnJ9QHEYQxzeAAAIIIIAAAggggAACCCCAAAII5EWAIC4vepxLRRzfAAIIIIAAAggggAACCCCAAAIIIOCnAEGcn1Aclq0AQRwfBgIIIIAAAggggAACCCCAAAIIIOCnAEGcn1AcRhDHN4AAAggggAACCCCAAAIIIIAAAgjkRYAgLi96nEtFHN8AAggggAACCCCAAAIIIIAAAggg4KcAQZyfUByWrQBBHB8GAggggAACCCCAAAIIIIAAAggg4KcAQZyfUBxGEMc3gAACCCCAAAIIIIAAAggggAACCORFgCAuL3qcS0Uc3wACCCCAAAIIIIAAAggggAACCCDgpwBBnJ9QHJatAEEcHwYCCCCAAAIIIIAAAggggAACCCDgpwBBnJ9QHEYQxzeAAAIIIIAAAggggAACCCCAAAII5EWAIC4vepxLRRzfAAIIIIAAAggggAACCCCAAAIIIOCnAEGcn1Aclq0AQRwfBgIIIIAAAggggAACCCCAAAIIIOCnAEGcn1AcRhDHN4AAAggggAACCCCAAAIIIIAAAgjkRYAgLi96nEtFHN8AAggggAACCCCAAAIIIIAAAggg4KcAQZyfUByWrQBBHB8GAggggAACCCCAAAIIIIAAAggg4KcAQZyfUBxGEMc3gAACCCCAAAIIIIAAAggggAACCORFgCAuL3qcS0Uc3wACCCCAAAIIIIAAAggggAACCCDgpwBBnJ9QHJatAEEcHwYCCCCAAAIIIIAAAggggAACCCDgpwBBnJ9QHHZxBXGLFi2y5s2b28cff2y1atXi9SCAAAIIIIAAAggggAACCCCAAAIXvcC6devswQcftIULF1qzZs0u+vkywYtLIN8q4saPH+8+XAYCCCCAAAIIIIAAAggggAACCCBQ0ARUWNS5c+eCNm3mm88C+RbE7d+/32bOnGlVq1a14ODgfGbg9ggggAACCCCAAAIIIIAAAggggMC5BVJSUmzLli3WoUMHi4qKOvcJHIGAj0C+BXG8BQQQQAABBBBAAAEEEEAAAQQQQAABBAqTAEFcYXrbPCsCCCCAAAIIIIAAAggggAACCCCAQL4JEMTlGz03RgABBBBAAAEEEEAAAQQQQAABBBAoTAIEcYXpbfOsCCCAAAIIIIAAAggggAACCCCAAAL5JkAQl2/03BgBBBBAAAEEEEAAAQQQQAABBBBAoDAJEMQVprfNsyKAAAIIIIAAAggggAACCCCAAAII5JsAQVy+0XNjBBBAAAEEEEAAAQQQQAABBBBAAIHCJEAQV5jeNs+KAAIIIIAAAggggAACCCCAAAIIIJBvAgRx+UbPjRFAAAEEEEAAAQQQQAABBBBAAAEECpMAQVxhets8KwIIIIAAAggggAACCCCAAAIIIIBAvgmc1yBuwLcD7MX5L9qp/qfy7QHzeuNvt3xrrT9sbfO6zLMbqt6Q18txPgIIIIAAAggggAACCCCAAAIIIIBAIRXICOLW719vAxcMtMXbF9uOwzssPCjcqkRUsRaVW9jTzZ622PDYXBNdiCBuU8Im++jHj+zOmnfaNTHX5HqO5zqBIO5cQvweAQQQQAABBBBAAAEEEEAAAQQQQMAfARfELdmxxFV9lSpRyrpe3dUuK32ZHUg5YKv3rLYpP0+xqZ2m/qZqsAsRxM3eNNvajWtnY+8Ya12v6erPM+fqGIK4XHFxMAIIIIAAAggggAACCCCAAAIIIIDAWQRcEHfLJ7fY/C3zbX3f9VaxZMVMhyYdT7L0k+kWUSIi14gEcbkm4wQEEEAAAQQQQAABBBBAAAEEEEAAgUtUwAVxNd+paSUCS9iqXqv8esyjaUdt8MLB9lncZ7YlcYtFBEXYTZffZP+68V+ZgryzBXFxe+Pc2nHztsyzw8cOW7VS1ezRBo/aE02esCIBRTLNYeG2hfavBf8yVe2lnEixyhGVrePlHW3oTUPtg1UfWLfJ3c6Yc/9W/W3ADQPczw8cPWAvf/eyfb3+a9t5ZKdFh0bbXTXvslfavOIqAH2Hqt+emf2MqwSMDI60Lld3cZWA7T9un2mNuLT0NItPiHfPfa6WXa+ibtRto+zEyRP2xn/fsO2Ht1utqFo2tMNQa12tdaY5yENuk9ZNsl1Hdrnr31vrXvc8ahf2hme7utdqG7NyjI1fM94Umraq2sreveVdq1KqSqbr5sbBr4+AgxBAAAEEEEAAAQQQQAABBBBAAAEEciXggribx99s8zbPs7ld5lrTSk1zvMDx9OOujXXlrpX2SP1HrG65urbt0DYbvmy4hRcPtxU9V1hUSJS7RnZBnAK1th+1dYGdgq7SwaVdIDcxbqI91ugxG3HLiIz7T1g7wTp/2dmFUWqZrRRRyeIPxtvEnyba5r9uNq0PN+qHUTZo0SDr0aCHtajSwp1br1w997+ElARr/J/Gtv/ofuvRsIdrudVaeCOXj3RB2OJHFltQYJA757/b/+ueq2xoWevZsKcLJseuGmtBRYNs5e6VmYI4hY/V3qrm5v/BnR/k6OUFcY3KN7JDqYecWfGixW3Y98Pc/LY+vtUZaMi2+ZjmtmznMut2TTfTOct3LnfzuL7i9fZd1++sBo3yzQAACE5JREFUWNFimWx1jAJBrZG3O2m3vbn4TWtYvqEt6LYgY165ccjV18PBCCCAAAIIIIAAAggggAACCCCAAAJ+C7ggbsHWBdbmozauYksbHjSv1NwFP+2qt3PBlO94fdHr9o+5/3ChUJNKTTJ+tWr3Kmv0fiN7qulT9mrbVzOFRd6uqadOnbJ679Zz4daihxdlhGA6+Mn/e9KFSD/1+clqRtW0I8eOWOVhla1McBlb/ujyjLBKx548dTKjci6nNeL6TOtjH6/52Fb0WGHVy1TPmOvUDVPttk9vc5VjPRv1dD+//j/X29q9azO152oOmq+CN99dU39LEFc+vLyt67POSgaVdPeTV/336tvwjsOt97W93c9GLhtpvaf3tkE3DrJnmj+TMV9VHz4759lM8/VCztuuuM0m3z/ZAgIC3PHDlgyzJ2Y+YXG94+yq6Kvcz3Lj4PeXw4EIIIAAAggggAACCCCAAAIIIIAAArkSyNg1VZVXapucGT/TElMT3UUCiwS6KrUh7YdkVGI1eK+Bq+jSBg5ZR4uxLSyseJgte3SZ+1XWiji1fF797tU2rMMw61yvc6bTf9z9o7Ud19beufkd63NdH/ty3Zd2z8R7TC2d3Rt0P+tDnS2IU+gX/Xq0tanWJlOVnXehqsOq2s01brbP//C57U3ea+XeKGfd63e3UbePynSvQQsH2d/n/D1TEJcbYa8i7tlmz2YElN75EYMi3D2HdBjifqTKRIWi+57aZ8HFgjNuk5KWYlGvR1mrKq1seufpmWxndJ5hHS7vkHGsKhUbvN/Aptw/xW678jbLjUNunotjEUAAAQQQQAABBBBAAAEEEEAAAQRyJ5ARxHmnKbjZeHCjzdk0x4YsHuLWQnvxhhfthVYvuENCBoa4tdrONrSGm9otNbIGcWo/ve+L+3Kc4QstX7AXW7/o1qBTFdjS7kvt2grXnvWcswVxXriW081aVmlp87vOd+vPNRndxN5o94b1a9ov0ymT10+2Oyfcmecgzrf6zruBwkCtEacdXzW0Vp9aT9c8tuaMadcZUcfST6W7qjpf2/V91tuVUVdmHO9V631wxwfW5ZouGSGjPw65+3Q4GgEEEEAAAQQQQAABBBBAAAEEEEAgNwJnBHG+J2uB/+r/rm6RIZEW/5d496sSr5SwBrEN7KXWL2V7H62t1rxy80xhkdea+tnaz+yBSQ+YNlPwjsl6EW3coDbSvAZxWi8tdkisWzutz7V9sp2rNmvQGmuLty+2pmOausq/vzX5W6ZjtcnDXRPuynMQl11ln4I4bQbhrTN3riBOLblq3fUN4jb+eaNdXubyM4I4hXtdr+nq1o3z1yE3Hw7HIoAAAggggAACCCCAAAIIIIAAAgjkTiDHIE6Xavh+Q9Mup6nPpbor1x1Z17Rr6Pq+6895p6wVcT/s/MEajWpkr974qj3b/Nkcz/e3NVWVe2pp9YIn76LpJ9Mt8rVIt9bdjAdn5HivPUl7LGZIzHltTfUniPNaU/c/vd9tFuGN1BOpFvValNsRdVqnabkK4nLjcM4XygEIIIAAAggggAACCCCAAAIIIIAAAr9ZwAVxau9sXbW1FS1SNNOFtCupWiLV+riy50r3u1cXvOo2a8gafOl3amvVDqXRodGZwiKvIk4VXbVH1Ha7hf7Y60crF1Yu0/20OYJaMxVCJR1PsspDK7tqPK05p+o1b+g+3uYEXlvpm+3ftCeaPJHpej2/6WmjVoyy2X+a7daK8x0KqA4dO+Q2g9DQ7qoKHBUwakdXjbNt1qAgUi272q1UO7rmNLw14vwJ4t5d/q49Nu0xe73d6/Zk0yczLqsNMp6e/bS9d+t7bvdXDS/kPFdFnI7NjcNv/pI4EQEEEEAAAQQQQAABBBBAAAEEEEAgRwEXxCls0wYNd1x5h9UpW8dt0rDhwAb78McP7WDKQbcr5y1X3OIudOzEMWs3rp0t2LbA7r3qXrfDqsKzzQmbbfLPk+2Ptf9or7R5JVNY5AVx+uH3O7535+ucR+o/YjXK1LCE1AS3Y6mq4Fb1WpXRajlh7QTr9GUnqxBewbpd080FZFoD7bO4zzJaZRWWaaMF/U47toYHhbtn0P8092ZjmtkvB3+xh+o9ZA1jG7p11vR33WvADQMyNoJYuG2htfmwjQsHezXs5XZ0HbtqrNvhdeXulXneNdWfIO54+nFrPqa5aeMMPa/aZvVnzaNxxcZup1q55TaIy40D/74ggAACCCCAAAIIIIAAAggggAACCJwfARfEzfxlpgumFm1fZL8e+dVVo5UNLWtNKjaxfk36WZNKTTLdXWHcsCXD7JO1n7jArliRYi4IU9VZr0a9XAjmGxb5BnH6+cYDG23ggoE2a9Ms25e8z1Wl1YisYbdfcbv1va5vph1D52+Z7479/tfvXUusNoO4pcYtGTuN6nqfx31uA+YPcNdNO5nm1qBTyKZxKPWQDV402Catm2RbE7e6a+saHap3cGvHVSlVJePZ5m6ea8/Ofta0u6sq8bpe3dWt4db+4/YXJIjTRA4fO2z95/W3L9Z94dZ3iwmLsT9c9Qe3YYZCRm/kpiIutw7n51PjqggggAACCCCAAAIIIIAAAggggEDhFjjnGnGFm4enRwABBBBAAAEEEEAAAQQQQAABBBBA4PcRIIj7fRy5CgIIIIAAAggggAACCCCAAAIIIIAAAjkKEMTxgSCAAAIIIIAAAggggAACCCCAAAIIIHABBAjiLgAyt0AAAQQQQAABBBBAAAEEEEAAAQQQQIAgjm8AAQQQQAABBBBAAAEEEEAAAQQQQACBCyAQcAHuwS0QQAABBBBAAAEEEEAAAQQQQAABBBAo9AL/D4/0wWTMlhY6AAAAAElFTkSuQmCC\" width=\"1000\">"
      ],
      "text/plain": [
       "<IPython.core.display.HTML object>"
      ]
     },
     "metadata": {},
     "output_type": "display_data"
    }
   ],
   "source": [
    "plot_ax = create_plot(df_2D)"
   ]
  },
  {
   "cell_type": "markdown",
   "metadata": {},
   "source": [
    "##  Selected Points Details\n",
    "Click the **Print** button below to display detailed data values of the points selected in the DR plot.  The selected points are Green."
   ]
  },
  {
   "cell_type": "code",
   "execution_count": 19,
   "metadata": {
    "scrolled": false
   },
   "outputs": [
    {
     "data": {
      "application/vnd.jupyter.widget-view+json": {
       "model_id": "8b295aff7965439aae22e60e415278d2",
       "version_major": 2,
       "version_minor": 0
      },
      "text/plain": [
       "Button(description='Print selected points', style=ButtonStyle())"
      ]
     },
     "metadata": {},
     "output_type": "display_data"
    },
    {
     "data": {
      "application/vnd.jupyter.widget-view+json": {
       "model_id": "fd0c707bc02d4926853ba4e3feef89ff",
       "version_major": 2,
       "version_minor": 0
      },
      "text/plain": [
       "Output()"
      ]
     },
     "metadata": {},
     "output_type": "display_data"
    }
   ],
   "source": [
    "dod = create_detail_display()"
   ]
  },
  {
   "cell_type": "markdown",
   "metadata": {},
   "source": [
    "## Inverse Dimension Reduction\n",
    "After selecting and/or dragging some points in the DR plot, click the **Learn** button to machine learn new dimension weights that would produce a plot with similar pairwise distances as your plot.  **Only the Green selected points** in the plot are considered when learning new weights. You must select or move at least two points to specify new desired distances. Use this to create your own clusters, and find out what makes some data points similar to or different from others.  The **learned weights** are shown in a bar chart below.\n",
    "\n",
    "To see the effects of the learned weights, click the **Copy** button to apply the learned weights to the sliders and  make a new DR plot above."
   ]
  },
  {
   "cell_type": "code",
   "execution_count": 20,
   "metadata": {
    "scrolled": false
   },
   "outputs": [
    {
     "data": {
      "application/vnd.jupyter.widget-view+json": {
       "model_id": "c74898bfb02f45ad84e9b50909d5560d",
       "version_major": 2,
       "version_minor": 0
      },
      "text/plain": [
       "Button(description='Learn New Weights', style=ButtonStyle())"
      ]
     },
     "metadata": {},
     "output_type": "display_data"
    },
    {
     "data": {
      "application/vnd.jupyter.widget-view+json": {
       "model_id": "831dfc0558b84a0c8ca54d48a2546502",
       "version_major": 2,
       "version_minor": 0
      },
      "text/plain": [
       "Button(description='Copy to Sliders', style=ButtonStyle())"
      ]
     },
     "metadata": {},
     "output_type": "display_data"
    },
    {
     "data": {
      "application/javascript": [
       "/* Put everything inside the global mpl namespace */\n",
       "/* global mpl */\n",
       "window.mpl = {};\n",
       "\n",
       "mpl.get_websocket_type = function () {\n",
       "    if (typeof WebSocket !== 'undefined') {\n",
       "        return WebSocket;\n",
       "    } else if (typeof MozWebSocket !== 'undefined') {\n",
       "        return MozWebSocket;\n",
       "    } else {\n",
       "        alert(\n",
       "            'Your browser does not have WebSocket support. ' +\n",
       "                'Please try Chrome, Safari or Firefox ≥ 6. ' +\n",
       "                'Firefox 4 and 5 are also supported but you ' +\n",
       "                'have to enable WebSockets in about:config.'\n",
       "        );\n",
       "    }\n",
       "};\n",
       "\n",
       "mpl.figure = function (figure_id, websocket, ondownload, parent_element) {\n",
       "    this.id = figure_id;\n",
       "\n",
       "    this.ws = websocket;\n",
       "\n",
       "    this.supports_binary = this.ws.binaryType !== undefined;\n",
       "\n",
       "    if (!this.supports_binary) {\n",
       "        var warnings = document.getElementById('mpl-warnings');\n",
       "        if (warnings) {\n",
       "            warnings.style.display = 'block';\n",
       "            warnings.textContent =\n",
       "                'This browser does not support binary websocket messages. ' +\n",
       "                'Performance may be slow.';\n",
       "        }\n",
       "    }\n",
       "\n",
       "    this.imageObj = new Image();\n",
       "\n",
       "    this.context = undefined;\n",
       "    this.message = undefined;\n",
       "    this.canvas = undefined;\n",
       "    this.rubberband_canvas = undefined;\n",
       "    this.rubberband_context = undefined;\n",
       "    this.format_dropdown = undefined;\n",
       "\n",
       "    this.image_mode = 'full';\n",
       "\n",
       "    this.root = document.createElement('div');\n",
       "    this.root.setAttribute('style', 'display: inline-block');\n",
       "    this._root_extra_style(this.root);\n",
       "\n",
       "    parent_element.appendChild(this.root);\n",
       "\n",
       "    this._init_header(this);\n",
       "    this._init_canvas(this);\n",
       "    this._init_toolbar(this);\n",
       "\n",
       "    var fig = this;\n",
       "\n",
       "    this.waiting = false;\n",
       "\n",
       "    this.ws.onopen = function () {\n",
       "        fig.send_message('supports_binary', { value: fig.supports_binary });\n",
       "        fig.send_message('send_image_mode', {});\n",
       "        if (fig.ratio !== 1) {\n",
       "            fig.send_message('set_dpi_ratio', { dpi_ratio: fig.ratio });\n",
       "        }\n",
       "        fig.send_message('refresh', {});\n",
       "    };\n",
       "\n",
       "    this.imageObj.onload = function () {\n",
       "        if (fig.image_mode === 'full') {\n",
       "            // Full images could contain transparency (where diff images\n",
       "            // almost always do), so we need to clear the canvas so that\n",
       "            // there is no ghosting.\n",
       "            fig.context.clearRect(0, 0, fig.canvas.width, fig.canvas.height);\n",
       "        }\n",
       "        fig.context.drawImage(fig.imageObj, 0, 0);\n",
       "    };\n",
       "\n",
       "    this.imageObj.onunload = function () {\n",
       "        fig.ws.close();\n",
       "    };\n",
       "\n",
       "    this.ws.onmessage = this._make_on_message_function(this);\n",
       "\n",
       "    this.ondownload = ondownload;\n",
       "};\n",
       "\n",
       "mpl.figure.prototype._init_header = function () {\n",
       "    var titlebar = document.createElement('div');\n",
       "    titlebar.classList =\n",
       "        'ui-dialog-titlebar ui-widget-header ui-corner-all ui-helper-clearfix';\n",
       "    var titletext = document.createElement('div');\n",
       "    titletext.classList = 'ui-dialog-title';\n",
       "    titletext.setAttribute(\n",
       "        'style',\n",
       "        'width: 100%; text-align: center; padding: 3px;'\n",
       "    );\n",
       "    titlebar.appendChild(titletext);\n",
       "    this.root.appendChild(titlebar);\n",
       "    this.header = titletext;\n",
       "};\n",
       "\n",
       "mpl.figure.prototype._canvas_extra_style = function (_canvas_div) {};\n",
       "\n",
       "mpl.figure.prototype._root_extra_style = function (_canvas_div) {};\n",
       "\n",
       "mpl.figure.prototype._init_canvas = function () {\n",
       "    var fig = this;\n",
       "\n",
       "    var canvas_div = (this.canvas_div = document.createElement('div'));\n",
       "    canvas_div.setAttribute(\n",
       "        'style',\n",
       "        'border: 1px solid #ddd;' +\n",
       "            'box-sizing: content-box;' +\n",
       "            'clear: both;' +\n",
       "            'min-height: 1px;' +\n",
       "            'min-width: 1px;' +\n",
       "            'outline: 0;' +\n",
       "            'overflow: hidden;' +\n",
       "            'position: relative;' +\n",
       "            'resize: both;'\n",
       "    );\n",
       "\n",
       "    function on_keyboard_event_closure(name) {\n",
       "        return function (event) {\n",
       "            return fig.key_event(event, name);\n",
       "        };\n",
       "    }\n",
       "\n",
       "    canvas_div.addEventListener(\n",
       "        'keydown',\n",
       "        on_keyboard_event_closure('key_press')\n",
       "    );\n",
       "    canvas_div.addEventListener(\n",
       "        'keyup',\n",
       "        on_keyboard_event_closure('key_release')\n",
       "    );\n",
       "\n",
       "    this._canvas_extra_style(canvas_div);\n",
       "    this.root.appendChild(canvas_div);\n",
       "\n",
       "    var canvas = (this.canvas = document.createElement('canvas'));\n",
       "    canvas.classList.add('mpl-canvas');\n",
       "    canvas.setAttribute('style', 'box-sizing: content-box;');\n",
       "\n",
       "    this.context = canvas.getContext('2d');\n",
       "\n",
       "    var backingStore =\n",
       "        this.context.backingStorePixelRatio ||\n",
       "        this.context.webkitBackingStorePixelRatio ||\n",
       "        this.context.mozBackingStorePixelRatio ||\n",
       "        this.context.msBackingStorePixelRatio ||\n",
       "        this.context.oBackingStorePixelRatio ||\n",
       "        this.context.backingStorePixelRatio ||\n",
       "        1;\n",
       "\n",
       "    this.ratio = (window.devicePixelRatio || 1) / backingStore;\n",
       "    if (this.ratio !== 1) {\n",
       "        fig.send_message('set_dpi_ratio', { dpi_ratio: this.ratio });\n",
       "    }\n",
       "\n",
       "    var rubberband_canvas = (this.rubberband_canvas = document.createElement(\n",
       "        'canvas'\n",
       "    ));\n",
       "    rubberband_canvas.setAttribute(\n",
       "        'style',\n",
       "        'box-sizing: content-box; position: absolute; left: 0; top: 0; z-index: 1;'\n",
       "    );\n",
       "\n",
       "    var resizeObserver = new ResizeObserver(function (entries) {\n",
       "        var nentries = entries.length;\n",
       "        for (var i = 0; i < nentries; i++) {\n",
       "            var entry = entries[i];\n",
       "            var width, height;\n",
       "            if (entry.contentBoxSize) {\n",
       "                if (entry.contentBoxSize instanceof Array) {\n",
       "                    // Chrome 84 implements new version of spec.\n",
       "                    width = entry.contentBoxSize[0].inlineSize;\n",
       "                    height = entry.contentBoxSize[0].blockSize;\n",
       "                } else {\n",
       "                    // Firefox implements old version of spec.\n",
       "                    width = entry.contentBoxSize.inlineSize;\n",
       "                    height = entry.contentBoxSize.blockSize;\n",
       "                }\n",
       "            } else {\n",
       "                // Chrome <84 implements even older version of spec.\n",
       "                width = entry.contentRect.width;\n",
       "                height = entry.contentRect.height;\n",
       "            }\n",
       "\n",
       "            // Keep the size of the canvas and rubber band canvas in sync with\n",
       "            // the canvas container.\n",
       "            if (entry.devicePixelContentBoxSize) {\n",
       "                // Chrome 84 implements new version of spec.\n",
       "                canvas.setAttribute(\n",
       "                    'width',\n",
       "                    entry.devicePixelContentBoxSize[0].inlineSize\n",
       "                );\n",
       "                canvas.setAttribute(\n",
       "                    'height',\n",
       "                    entry.devicePixelContentBoxSize[0].blockSize\n",
       "                );\n",
       "            } else {\n",
       "                canvas.setAttribute('width', width * fig.ratio);\n",
       "                canvas.setAttribute('height', height * fig.ratio);\n",
       "            }\n",
       "            canvas.setAttribute(\n",
       "                'style',\n",
       "                'width: ' + width + 'px; height: ' + height + 'px;'\n",
       "            );\n",
       "\n",
       "            rubberband_canvas.setAttribute('width', width);\n",
       "            rubberband_canvas.setAttribute('height', height);\n",
       "\n",
       "            // And update the size in Python. We ignore the initial 0/0 size\n",
       "            // that occurs as the element is placed into the DOM, which should\n",
       "            // otherwise not happen due to the minimum size styling.\n",
       "            if (width != 0 && height != 0) {\n",
       "                fig.request_resize(width, height);\n",
       "            }\n",
       "        }\n",
       "    });\n",
       "    resizeObserver.observe(canvas_div);\n",
       "\n",
       "    function on_mouse_event_closure(name) {\n",
       "        return function (event) {\n",
       "            return fig.mouse_event(event, name);\n",
       "        };\n",
       "    }\n",
       "\n",
       "    rubberband_canvas.addEventListener(\n",
       "        'mousedown',\n",
       "        on_mouse_event_closure('button_press')\n",
       "    );\n",
       "    rubberband_canvas.addEventListener(\n",
       "        'mouseup',\n",
       "        on_mouse_event_closure('button_release')\n",
       "    );\n",
       "    // Throttle sequential mouse events to 1 every 20ms.\n",
       "    rubberband_canvas.addEventListener(\n",
       "        'mousemove',\n",
       "        on_mouse_event_closure('motion_notify')\n",
       "    );\n",
       "\n",
       "    rubberband_canvas.addEventListener(\n",
       "        'mouseenter',\n",
       "        on_mouse_event_closure('figure_enter')\n",
       "    );\n",
       "    rubberband_canvas.addEventListener(\n",
       "        'mouseleave',\n",
       "        on_mouse_event_closure('figure_leave')\n",
       "    );\n",
       "\n",
       "    canvas_div.addEventListener('wheel', function (event) {\n",
       "        if (event.deltaY < 0) {\n",
       "            event.step = 1;\n",
       "        } else {\n",
       "            event.step = -1;\n",
       "        }\n",
       "        on_mouse_event_closure('scroll')(event);\n",
       "    });\n",
       "\n",
       "    canvas_div.appendChild(canvas);\n",
       "    canvas_div.appendChild(rubberband_canvas);\n",
       "\n",
       "    this.rubberband_context = rubberband_canvas.getContext('2d');\n",
       "    this.rubberband_context.strokeStyle = '#000000';\n",
       "\n",
       "    this._resize_canvas = function (width, height, forward) {\n",
       "        if (forward) {\n",
       "            canvas_div.style.width = width + 'px';\n",
       "            canvas_div.style.height = height + 'px';\n",
       "        }\n",
       "    };\n",
       "\n",
       "    // Disable right mouse context menu.\n",
       "    this.rubberband_canvas.addEventListener('contextmenu', function (_e) {\n",
       "        event.preventDefault();\n",
       "        return false;\n",
       "    });\n",
       "\n",
       "    function set_focus() {\n",
       "        canvas.focus();\n",
       "        canvas_div.focus();\n",
       "    }\n",
       "\n",
       "    window.setTimeout(set_focus, 100);\n",
       "};\n",
       "\n",
       "mpl.figure.prototype._init_toolbar = function () {\n",
       "    var fig = this;\n",
       "\n",
       "    var toolbar = document.createElement('div');\n",
       "    toolbar.classList = 'mpl-toolbar';\n",
       "    this.root.appendChild(toolbar);\n",
       "\n",
       "    function on_click_closure(name) {\n",
       "        return function (_event) {\n",
       "            return fig.toolbar_button_onclick(name);\n",
       "        };\n",
       "    }\n",
       "\n",
       "    function on_mouseover_closure(tooltip) {\n",
       "        return function (event) {\n",
       "            if (!event.currentTarget.disabled) {\n",
       "                return fig.toolbar_button_onmouseover(tooltip);\n",
       "            }\n",
       "        };\n",
       "    }\n",
       "\n",
       "    fig.buttons = {};\n",
       "    var buttonGroup = document.createElement('div');\n",
       "    buttonGroup.classList = 'mpl-button-group';\n",
       "    for (var toolbar_ind in mpl.toolbar_items) {\n",
       "        var name = mpl.toolbar_items[toolbar_ind][0];\n",
       "        var tooltip = mpl.toolbar_items[toolbar_ind][1];\n",
       "        var image = mpl.toolbar_items[toolbar_ind][2];\n",
       "        var method_name = mpl.toolbar_items[toolbar_ind][3];\n",
       "\n",
       "        if (!name) {\n",
       "            /* Instead of a spacer, we start a new button group. */\n",
       "            if (buttonGroup.hasChildNodes()) {\n",
       "                toolbar.appendChild(buttonGroup);\n",
       "            }\n",
       "            buttonGroup = document.createElement('div');\n",
       "            buttonGroup.classList = 'mpl-button-group';\n",
       "            continue;\n",
       "        }\n",
       "\n",
       "        var button = (fig.buttons[name] = document.createElement('button'));\n",
       "        button.classList = 'mpl-widget';\n",
       "        button.setAttribute('role', 'button');\n",
       "        button.setAttribute('aria-disabled', 'false');\n",
       "        button.addEventListener('click', on_click_closure(method_name));\n",
       "        button.addEventListener('mouseover', on_mouseover_closure(tooltip));\n",
       "\n",
       "        var icon_img = document.createElement('img');\n",
       "        icon_img.src = '_images/' + image + '.png';\n",
       "        icon_img.srcset = '_images/' + image + '_large.png 2x';\n",
       "        icon_img.alt = tooltip;\n",
       "        button.appendChild(icon_img);\n",
       "\n",
       "        buttonGroup.appendChild(button);\n",
       "    }\n",
       "\n",
       "    if (buttonGroup.hasChildNodes()) {\n",
       "        toolbar.appendChild(buttonGroup);\n",
       "    }\n",
       "\n",
       "    var fmt_picker = document.createElement('select');\n",
       "    fmt_picker.classList = 'mpl-widget';\n",
       "    toolbar.appendChild(fmt_picker);\n",
       "    this.format_dropdown = fmt_picker;\n",
       "\n",
       "    for (var ind in mpl.extensions) {\n",
       "        var fmt = mpl.extensions[ind];\n",
       "        var option = document.createElement('option');\n",
       "        option.selected = fmt === mpl.default_extension;\n",
       "        option.innerHTML = fmt;\n",
       "        fmt_picker.appendChild(option);\n",
       "    }\n",
       "\n",
       "    var status_bar = document.createElement('span');\n",
       "    status_bar.classList = 'mpl-message';\n",
       "    toolbar.appendChild(status_bar);\n",
       "    this.message = status_bar;\n",
       "};\n",
       "\n",
       "mpl.figure.prototype.request_resize = function (x_pixels, y_pixels) {\n",
       "    // Request matplotlib to resize the figure. Matplotlib will then trigger a resize in the client,\n",
       "    // which will in turn request a refresh of the image.\n",
       "    this.send_message('resize', { width: x_pixels, height: y_pixels });\n",
       "};\n",
       "\n",
       "mpl.figure.prototype.send_message = function (type, properties) {\n",
       "    properties['type'] = type;\n",
       "    properties['figure_id'] = this.id;\n",
       "    this.ws.send(JSON.stringify(properties));\n",
       "};\n",
       "\n",
       "mpl.figure.prototype.send_draw_message = function () {\n",
       "    if (!this.waiting) {\n",
       "        this.waiting = true;\n",
       "        this.ws.send(JSON.stringify({ type: 'draw', figure_id: this.id }));\n",
       "    }\n",
       "};\n",
       "\n",
       "mpl.figure.prototype.handle_save = function (fig, _msg) {\n",
       "    var format_dropdown = fig.format_dropdown;\n",
       "    var format = format_dropdown.options[format_dropdown.selectedIndex].value;\n",
       "    fig.ondownload(fig, format);\n",
       "};\n",
       "\n",
       "mpl.figure.prototype.handle_resize = function (fig, msg) {\n",
       "    var size = msg['size'];\n",
       "    if (size[0] !== fig.canvas.width || size[1] !== fig.canvas.height) {\n",
       "        fig._resize_canvas(size[0], size[1], msg['forward']);\n",
       "        fig.send_message('refresh', {});\n",
       "    }\n",
       "};\n",
       "\n",
       "mpl.figure.prototype.handle_rubberband = function (fig, msg) {\n",
       "    var x0 = msg['x0'] / fig.ratio;\n",
       "    var y0 = (fig.canvas.height - msg['y0']) / fig.ratio;\n",
       "    var x1 = msg['x1'] / fig.ratio;\n",
       "    var y1 = (fig.canvas.height - msg['y1']) / fig.ratio;\n",
       "    x0 = Math.floor(x0) + 0.5;\n",
       "    y0 = Math.floor(y0) + 0.5;\n",
       "    x1 = Math.floor(x1) + 0.5;\n",
       "    y1 = Math.floor(y1) + 0.5;\n",
       "    var min_x = Math.min(x0, x1);\n",
       "    var min_y = Math.min(y0, y1);\n",
       "    var width = Math.abs(x1 - x0);\n",
       "    var height = Math.abs(y1 - y0);\n",
       "\n",
       "    fig.rubberband_context.clearRect(\n",
       "        0,\n",
       "        0,\n",
       "        fig.canvas.width / fig.ratio,\n",
       "        fig.canvas.height / fig.ratio\n",
       "    );\n",
       "\n",
       "    fig.rubberband_context.strokeRect(min_x, min_y, width, height);\n",
       "};\n",
       "\n",
       "mpl.figure.prototype.handle_figure_label = function (fig, msg) {\n",
       "    // Updates the figure title.\n",
       "    fig.header.textContent = msg['label'];\n",
       "};\n",
       "\n",
       "mpl.figure.prototype.handle_cursor = function (fig, msg) {\n",
       "    var cursor = msg['cursor'];\n",
       "    switch (cursor) {\n",
       "        case 0:\n",
       "            cursor = 'pointer';\n",
       "            break;\n",
       "        case 1:\n",
       "            cursor = 'default';\n",
       "            break;\n",
       "        case 2:\n",
       "            cursor = 'crosshair';\n",
       "            break;\n",
       "        case 3:\n",
       "            cursor = 'move';\n",
       "            break;\n",
       "    }\n",
       "    fig.rubberband_canvas.style.cursor = cursor;\n",
       "};\n",
       "\n",
       "mpl.figure.prototype.handle_message = function (fig, msg) {\n",
       "    fig.message.textContent = msg['message'];\n",
       "};\n",
       "\n",
       "mpl.figure.prototype.handle_draw = function (fig, _msg) {\n",
       "    // Request the server to send over a new figure.\n",
       "    fig.send_draw_message();\n",
       "};\n",
       "\n",
       "mpl.figure.prototype.handle_image_mode = function (fig, msg) {\n",
       "    fig.image_mode = msg['mode'];\n",
       "};\n",
       "\n",
       "mpl.figure.prototype.handle_history_buttons = function (fig, msg) {\n",
       "    for (var key in msg) {\n",
       "        if (!(key in fig.buttons)) {\n",
       "            continue;\n",
       "        }\n",
       "        fig.buttons[key].disabled = !msg[key];\n",
       "        fig.buttons[key].setAttribute('aria-disabled', !msg[key]);\n",
       "    }\n",
       "};\n",
       "\n",
       "mpl.figure.prototype.handle_navigate_mode = function (fig, msg) {\n",
       "    if (msg['mode'] === 'PAN') {\n",
       "        fig.buttons['Pan'].classList.add('active');\n",
       "        fig.buttons['Zoom'].classList.remove('active');\n",
       "    } else if (msg['mode'] === 'ZOOM') {\n",
       "        fig.buttons['Pan'].classList.remove('active');\n",
       "        fig.buttons['Zoom'].classList.add('active');\n",
       "    } else {\n",
       "        fig.buttons['Pan'].classList.remove('active');\n",
       "        fig.buttons['Zoom'].classList.remove('active');\n",
       "    }\n",
       "};\n",
       "\n",
       "mpl.figure.prototype.updated_canvas_event = function () {\n",
       "    // Called whenever the canvas gets updated.\n",
       "    this.send_message('ack', {});\n",
       "};\n",
       "\n",
       "// A function to construct a web socket function for onmessage handling.\n",
       "// Called in the figure constructor.\n",
       "mpl.figure.prototype._make_on_message_function = function (fig) {\n",
       "    return function socket_on_message(evt) {\n",
       "        if (evt.data instanceof Blob) {\n",
       "            /* FIXME: We get \"Resource interpreted as Image but\n",
       "             * transferred with MIME type text/plain:\" errors on\n",
       "             * Chrome.  But how to set the MIME type?  It doesn't seem\n",
       "             * to be part of the websocket stream */\n",
       "            evt.data.type = 'image/png';\n",
       "\n",
       "            /* Free the memory for the previous frames */\n",
       "            if (fig.imageObj.src) {\n",
       "                (window.URL || window.webkitURL).revokeObjectURL(\n",
       "                    fig.imageObj.src\n",
       "                );\n",
       "            }\n",
       "\n",
       "            fig.imageObj.src = (window.URL || window.webkitURL).createObjectURL(\n",
       "                evt.data\n",
       "            );\n",
       "            fig.updated_canvas_event();\n",
       "            fig.waiting = false;\n",
       "            return;\n",
       "        } else if (\n",
       "            typeof evt.data === 'string' &&\n",
       "            evt.data.slice(0, 21) === 'data:image/png;base64'\n",
       "        ) {\n",
       "            fig.imageObj.src = evt.data;\n",
       "            fig.updated_canvas_event();\n",
       "            fig.waiting = false;\n",
       "            return;\n",
       "        }\n",
       "\n",
       "        var msg = JSON.parse(evt.data);\n",
       "        var msg_type = msg['type'];\n",
       "\n",
       "        // Call the  \"handle_{type}\" callback, which takes\n",
       "        // the figure and JSON message as its only arguments.\n",
       "        try {\n",
       "            var callback = fig['handle_' + msg_type];\n",
       "        } catch (e) {\n",
       "            console.log(\n",
       "                \"No handler for the '\" + msg_type + \"' message type: \",\n",
       "                msg\n",
       "            );\n",
       "            return;\n",
       "        }\n",
       "\n",
       "        if (callback) {\n",
       "            try {\n",
       "                // console.log(\"Handling '\" + msg_type + \"' message: \", msg);\n",
       "                callback(fig, msg);\n",
       "            } catch (e) {\n",
       "                console.log(\n",
       "                    \"Exception inside the 'handler_\" + msg_type + \"' callback:\",\n",
       "                    e,\n",
       "                    e.stack,\n",
       "                    msg\n",
       "                );\n",
       "            }\n",
       "        }\n",
       "    };\n",
       "};\n",
       "\n",
       "// from http://stackoverflow.com/questions/1114465/getting-mouse-location-in-canvas\n",
       "mpl.findpos = function (e) {\n",
       "    //this section is from http://www.quirksmode.org/js/events_properties.html\n",
       "    var targ;\n",
       "    if (!e) {\n",
       "        e = window.event;\n",
       "    }\n",
       "    if (e.target) {\n",
       "        targ = e.target;\n",
       "    } else if (e.srcElement) {\n",
       "        targ = e.srcElement;\n",
       "    }\n",
       "    if (targ.nodeType === 3) {\n",
       "        // defeat Safari bug\n",
       "        targ = targ.parentNode;\n",
       "    }\n",
       "\n",
       "    // pageX,Y are the mouse positions relative to the document\n",
       "    var boundingRect = targ.getBoundingClientRect();\n",
       "    var x = e.pageX - (boundingRect.left + document.body.scrollLeft);\n",
       "    var y = e.pageY - (boundingRect.top + document.body.scrollTop);\n",
       "\n",
       "    return { x: x, y: y };\n",
       "};\n",
       "\n",
       "/*\n",
       " * return a copy of an object with only non-object keys\n",
       " * we need this to avoid circular references\n",
       " * http://stackoverflow.com/a/24161582/3208463\n",
       " */\n",
       "function simpleKeys(original) {\n",
       "    return Object.keys(original).reduce(function (obj, key) {\n",
       "        if (typeof original[key] !== 'object') {\n",
       "            obj[key] = original[key];\n",
       "        }\n",
       "        return obj;\n",
       "    }, {});\n",
       "}\n",
       "\n",
       "mpl.figure.prototype.mouse_event = function (event, name) {\n",
       "    var canvas_pos = mpl.findpos(event);\n",
       "\n",
       "    if (name === 'button_press') {\n",
       "        this.canvas.focus();\n",
       "        this.canvas_div.focus();\n",
       "    }\n",
       "\n",
       "    var x = canvas_pos.x * this.ratio;\n",
       "    var y = canvas_pos.y * this.ratio;\n",
       "\n",
       "    this.send_message(name, {\n",
       "        x: x,\n",
       "        y: y,\n",
       "        button: event.button,\n",
       "        step: event.step,\n",
       "        guiEvent: simpleKeys(event),\n",
       "    });\n",
       "\n",
       "    /* This prevents the web browser from automatically changing to\n",
       "     * the text insertion cursor when the button is pressed.  We want\n",
       "     * to control all of the cursor setting manually through the\n",
       "     * 'cursor' event from matplotlib */\n",
       "    event.preventDefault();\n",
       "    return false;\n",
       "};\n",
       "\n",
       "mpl.figure.prototype._key_event_extra = function (_event, _name) {\n",
       "    // Handle any extra behaviour associated with a key event\n",
       "};\n",
       "\n",
       "mpl.figure.prototype.key_event = function (event, name) {\n",
       "    // Prevent repeat events\n",
       "    if (name === 'key_press') {\n",
       "        if (event.which === this._key) {\n",
       "            return;\n",
       "        } else {\n",
       "            this._key = event.which;\n",
       "        }\n",
       "    }\n",
       "    if (name === 'key_release') {\n",
       "        this._key = null;\n",
       "    }\n",
       "\n",
       "    var value = '';\n",
       "    if (event.ctrlKey && event.which !== 17) {\n",
       "        value += 'ctrl+';\n",
       "    }\n",
       "    if (event.altKey && event.which !== 18) {\n",
       "        value += 'alt+';\n",
       "    }\n",
       "    if (event.shiftKey && event.which !== 16) {\n",
       "        value += 'shift+';\n",
       "    }\n",
       "\n",
       "    value += 'k';\n",
       "    value += event.which.toString();\n",
       "\n",
       "    this._key_event_extra(event, name);\n",
       "\n",
       "    this.send_message(name, { key: value, guiEvent: simpleKeys(event) });\n",
       "    return false;\n",
       "};\n",
       "\n",
       "mpl.figure.prototype.toolbar_button_onclick = function (name) {\n",
       "    if (name === 'download') {\n",
       "        this.handle_save(this, null);\n",
       "    } else {\n",
       "        this.send_message('toolbar_button', { name: name });\n",
       "    }\n",
       "};\n",
       "\n",
       "mpl.figure.prototype.toolbar_button_onmouseover = function (tooltip) {\n",
       "    this.message.textContent = tooltip;\n",
       "};\n",
       "mpl.toolbar_items = [[\"Home\", \"Reset original view\", \"fa fa-home icon-home\", \"home\"], [\"Back\", \"Back to previous view\", \"fa fa-arrow-left icon-arrow-left\", \"back\"], [\"Forward\", \"Forward to next view\", \"fa fa-arrow-right icon-arrow-right\", \"forward\"], [\"\", \"\", \"\", \"\"], [\"Pan\", \"Left button pans, Right button zooms\\nx/y fixes axis, CTRL fixes aspect\", \"fa fa-arrows icon-move\", \"pan\"], [\"Zoom\", \"Zoom to rectangle\\nx/y fixes axis, CTRL fixes aspect\", \"fa fa-square-o icon-check-empty\", \"zoom\"], [\"\", \"\", \"\", \"\"], [\"Download\", \"Download plot\", \"fa fa-floppy-o icon-save\", \"download\"]];\n",
       "\n",
       "mpl.extensions = [\"eps\", \"jpeg\", \"pdf\", \"png\", \"ps\", \"raw\", \"svg\", \"tif\"];\n",
       "\n",
       "mpl.default_extension = \"png\";/* global mpl */\n",
       "\n",
       "var comm_websocket_adapter = function (comm) {\n",
       "    // Create a \"websocket\"-like object which calls the given IPython comm\n",
       "    // object with the appropriate methods. Currently this is a non binary\n",
       "    // socket, so there is still some room for performance tuning.\n",
       "    var ws = {};\n",
       "\n",
       "    ws.close = function () {\n",
       "        comm.close();\n",
       "    };\n",
       "    ws.send = function (m) {\n",
       "        //console.log('sending', m);\n",
       "        comm.send(m);\n",
       "    };\n",
       "    // Register the callback with on_msg.\n",
       "    comm.on_msg(function (msg) {\n",
       "        //console.log('receiving', msg['content']['data'], msg);\n",
       "        // Pass the mpl event to the overridden (by mpl) onmessage function.\n",
       "        ws.onmessage(msg['content']['data']);\n",
       "    });\n",
       "    return ws;\n",
       "};\n",
       "\n",
       "mpl.mpl_figure_comm = function (comm, msg) {\n",
       "    // This is the function which gets called when the mpl process\n",
       "    // starts-up an IPython Comm through the \"matplotlib\" channel.\n",
       "\n",
       "    var id = msg.content.data.id;\n",
       "    // Get hold of the div created by the display call when the Comm\n",
       "    // socket was opened in Python.\n",
       "    var element = document.getElementById(id);\n",
       "    var ws_proxy = comm_websocket_adapter(comm);\n",
       "\n",
       "    function ondownload(figure, _format) {\n",
       "        window.open(figure.canvas.toDataURL());\n",
       "    }\n",
       "\n",
       "    var fig = new mpl.figure(id, ws_proxy, ondownload, element);\n",
       "\n",
       "    // Call onopen now - mpl needs it, as it is assuming we've passed it a real\n",
       "    // web socket which is closed, not our websocket->open comm proxy.\n",
       "    ws_proxy.onopen();\n",
       "\n",
       "    fig.parent_element = element;\n",
       "    fig.cell_info = mpl.find_output_cell(\"<div id='\" + id + \"'></div>\");\n",
       "    if (!fig.cell_info) {\n",
       "        console.error('Failed to find cell for figure', id, fig);\n",
       "        return;\n",
       "    }\n",
       "    fig.cell_info[0].output_area.element.one(\n",
       "        'cleared',\n",
       "        { fig: fig },\n",
       "        fig._remove_fig_handler\n",
       "    );\n",
       "};\n",
       "\n",
       "mpl.figure.prototype.handle_close = function (fig, msg) {\n",
       "    var width = fig.canvas.width / fig.ratio;\n",
       "    fig.cell_info[0].output_area.element.off(\n",
       "        'cleared',\n",
       "        fig._remove_fig_handler\n",
       "    );\n",
       "\n",
       "    // Update the output cell to use the data from the current canvas.\n",
       "    fig.push_to_output();\n",
       "    var dataURL = fig.canvas.toDataURL();\n",
       "    // Re-enable the keyboard manager in IPython - without this line, in FF,\n",
       "    // the notebook keyboard shortcuts fail.\n",
       "    IPython.keyboard_manager.enable();\n",
       "    fig.parent_element.innerHTML =\n",
       "        '<img src=\"' + dataURL + '\" width=\"' + width + '\">';\n",
       "    fig.close_ws(fig, msg);\n",
       "};\n",
       "\n",
       "mpl.figure.prototype.close_ws = function (fig, msg) {\n",
       "    fig.send_message('closing', msg);\n",
       "    // fig.ws.close()\n",
       "};\n",
       "\n",
       "mpl.figure.prototype.push_to_output = function (_remove_interactive) {\n",
       "    // Turn the data on the canvas into data in the output cell.\n",
       "    var width = this.canvas.width / this.ratio;\n",
       "    var dataURL = this.canvas.toDataURL();\n",
       "    this.cell_info[1]['text/html'] =\n",
       "        '<img src=\"' + dataURL + '\" width=\"' + width + '\">';\n",
       "};\n",
       "\n",
       "mpl.figure.prototype.updated_canvas_event = function () {\n",
       "    // Tell IPython that the notebook contents must change.\n",
       "    IPython.notebook.set_dirty(true);\n",
       "    this.send_message('ack', {});\n",
       "    var fig = this;\n",
       "    // Wait a second, then push the new image to the DOM so\n",
       "    // that it is saved nicely (might be nice to debounce this).\n",
       "    setTimeout(function () {\n",
       "        fig.push_to_output();\n",
       "    }, 1000);\n",
       "};\n",
       "\n",
       "mpl.figure.prototype._init_toolbar = function () {\n",
       "    var fig = this;\n",
       "\n",
       "    var toolbar = document.createElement('div');\n",
       "    toolbar.classList = 'btn-toolbar';\n",
       "    this.root.appendChild(toolbar);\n",
       "\n",
       "    function on_click_closure(name) {\n",
       "        return function (_event) {\n",
       "            return fig.toolbar_button_onclick(name);\n",
       "        };\n",
       "    }\n",
       "\n",
       "    function on_mouseover_closure(tooltip) {\n",
       "        return function (event) {\n",
       "            if (!event.currentTarget.disabled) {\n",
       "                return fig.toolbar_button_onmouseover(tooltip);\n",
       "            }\n",
       "        };\n",
       "    }\n",
       "\n",
       "    fig.buttons = {};\n",
       "    var buttonGroup = document.createElement('div');\n",
       "    buttonGroup.classList = 'btn-group';\n",
       "    var button;\n",
       "    for (var toolbar_ind in mpl.toolbar_items) {\n",
       "        var name = mpl.toolbar_items[toolbar_ind][0];\n",
       "        var tooltip = mpl.toolbar_items[toolbar_ind][1];\n",
       "        var image = mpl.toolbar_items[toolbar_ind][2];\n",
       "        var method_name = mpl.toolbar_items[toolbar_ind][3];\n",
       "\n",
       "        if (!name) {\n",
       "            /* Instead of a spacer, we start a new button group. */\n",
       "            if (buttonGroup.hasChildNodes()) {\n",
       "                toolbar.appendChild(buttonGroup);\n",
       "            }\n",
       "            buttonGroup = document.createElement('div');\n",
       "            buttonGroup.classList = 'btn-group';\n",
       "            continue;\n",
       "        }\n",
       "\n",
       "        button = fig.buttons[name] = document.createElement('button');\n",
       "        button.classList = 'btn btn-default';\n",
       "        button.href = '#';\n",
       "        button.title = name;\n",
       "        button.innerHTML = '<i class=\"fa ' + image + ' fa-lg\"></i>';\n",
       "        button.addEventListener('click', on_click_closure(method_name));\n",
       "        button.addEventListener('mouseover', on_mouseover_closure(tooltip));\n",
       "        buttonGroup.appendChild(button);\n",
       "    }\n",
       "\n",
       "    if (buttonGroup.hasChildNodes()) {\n",
       "        toolbar.appendChild(buttonGroup);\n",
       "    }\n",
       "\n",
       "    // Add the status bar.\n",
       "    var status_bar = document.createElement('span');\n",
       "    status_bar.classList = 'mpl-message pull-right';\n",
       "    toolbar.appendChild(status_bar);\n",
       "    this.message = status_bar;\n",
       "\n",
       "    // Add the close button to the window.\n",
       "    var buttongrp = document.createElement('div');\n",
       "    buttongrp.classList = 'btn-group inline pull-right';\n",
       "    button = document.createElement('button');\n",
       "    button.classList = 'btn btn-mini btn-primary';\n",
       "    button.href = '#';\n",
       "    button.title = 'Stop Interaction';\n",
       "    button.innerHTML = '<i class=\"fa fa-power-off icon-remove icon-large\"></i>';\n",
       "    button.addEventListener('click', function (_evt) {\n",
       "        fig.handle_close(fig, {});\n",
       "    });\n",
       "    button.addEventListener(\n",
       "        'mouseover',\n",
       "        on_mouseover_closure('Stop Interaction')\n",
       "    );\n",
       "    buttongrp.appendChild(button);\n",
       "    var titlebar = this.root.querySelector('.ui-dialog-titlebar');\n",
       "    titlebar.insertBefore(buttongrp, titlebar.firstChild);\n",
       "};\n",
       "\n",
       "mpl.figure.prototype._remove_fig_handler = function (event) {\n",
       "    var fig = event.data.fig;\n",
       "    fig.close_ws(fig, {});\n",
       "};\n",
       "\n",
       "mpl.figure.prototype._root_extra_style = function (el) {\n",
       "    el.style.boxSizing = 'content-box'; // override notebook setting of border-box.\n",
       "};\n",
       "\n",
       "mpl.figure.prototype._canvas_extra_style = function (el) {\n",
       "    // this is important to make the div 'focusable\n",
       "    el.setAttribute('tabindex', 0);\n",
       "    // reach out to IPython and tell the keyboard manager to turn it's self\n",
       "    // off when our div gets focus\n",
       "\n",
       "    // location in version 3\n",
       "    if (IPython.notebook.keyboard_manager) {\n",
       "        IPython.notebook.keyboard_manager.register_events(el);\n",
       "    } else {\n",
       "        // location in version 2\n",
       "        IPython.keyboard_manager.register_events(el);\n",
       "    }\n",
       "};\n",
       "\n",
       "mpl.figure.prototype._key_event_extra = function (event, _name) {\n",
       "    var manager = IPython.notebook.keyboard_manager;\n",
       "    if (!manager) {\n",
       "        manager = IPython.keyboard_manager;\n",
       "    }\n",
       "\n",
       "    // Check for shift+enter\n",
       "    if (event.shiftKey && event.which === 13) {\n",
       "        this.canvas_div.blur();\n",
       "        // select the cell after this one\n",
       "        var index = IPython.notebook.find_cell_index(this.cell_info[0]);\n",
       "        IPython.notebook.select(index + 1);\n",
       "    }\n",
       "};\n",
       "\n",
       "mpl.figure.prototype.handle_save = function (fig, _msg) {\n",
       "    fig.ondownload(fig, null);\n",
       "};\n",
       "\n",
       "mpl.find_output_cell = function (html_output) {\n",
       "    // Return the cell and output element which can be found *uniquely* in the notebook.\n",
       "    // Note - this is a bit hacky, but it is done because the \"notebook_saving.Notebook\"\n",
       "    // IPython event is triggered only after the cells have been serialised, which for\n",
       "    // our purposes (turning an active figure into a static one), is too late.\n",
       "    var cells = IPython.notebook.get_cells();\n",
       "    var ncells = cells.length;\n",
       "    for (var i = 0; i < ncells; i++) {\n",
       "        var cell = cells[i];\n",
       "        if (cell.cell_type === 'code') {\n",
       "            for (var j = 0; j < cell.output_area.outputs.length; j++) {\n",
       "                var data = cell.output_area.outputs[j];\n",
       "                if (data.data) {\n",
       "                    // IPython >= 3 moved mimebundle to data attribute of output\n",
       "                    data = data.data;\n",
       "                }\n",
       "                if (data['text/html'] === html_output) {\n",
       "                    return [cell, data, j];\n",
       "                }\n",
       "            }\n",
       "        }\n",
       "    }\n",
       "};\n",
       "\n",
       "// Register the function which deals with the matplotlib target/channel.\n",
       "// The kernel may be null if the page has been refreshed.\n",
       "if (IPython.notebook.kernel !== null) {\n",
       "    IPython.notebook.kernel.comm_manager.register_target(\n",
       "        'matplotlib',\n",
       "        mpl.mpl_figure_comm\n",
       "    );\n",
       "}\n"
      ],
      "text/plain": [
       "<IPython.core.display.Javascript object>"
      ]
     },
     "metadata": {},
     "output_type": "display_data"
    },
    {
     "data": {
      "text/html": [
       "<img src=\"data:image/png;base64,iVBORw0KGgoAAAANSUhEUgAAAnEAAANrCAYAAAApt85xAAAgAElEQVR4Xu3de/Cnc/k/8JdIzCgdTMZkJ4d0mvClkiGZUkkjmlJTEYkiOUwHEjXRDHLoD6GlFElKqimpNp3L0sm3FSXDoqEYaajUb2odfvO6p91Z7NrPfX1c332/93rcM83Udl+fvT3u57qe+z6u9sADDzzQHAQIECBAgAABAlMlsJoSN1X3y8USIECAAAECBAYBJU4QCBAgQIAAAQJTKKDETeFNc8kECBAgQIAAASVOBggQIECAAAECUyigxE3hTXPJBAgQIECAAAElTgYIECBAgAABAlMooMRN4U1zyQQIECBAgAABJU4GCBAgQIAAAQJTKKDETeFNc8kECBAgQIAAASVOBggQIECAAAECUyigxE3hTXPJBAgQIECAAAElTgYIECBAgAABAlMooMRN4U1zyQQIECBAgAABJU4GCBAgQIAAAQJTKKDETeFNc8kECBAgQIAAASVOBggQIECAAAECUyigxE3hTXPJBAgQIECAAAElTgYIECBAgAABAlMooMRN4U1zyQQIECBAgAABJU4GCBAgQIAAAQJTKKDETeFNc8kECBAgQIAAASVOBggQIECAAAECUyigxE3hTXPJBAgQIECAAAElTgYIECBAgAABAlMooMRN4U1zyQQIECBAgAABJU4GCBAgQIAAAQJTKKDETeFNc8kECBAgQIAAASVOBggQIECAAAECUyigxE3hTXPJBAgQIECAAAElTgYIECBAgAABAlMooMRN4U1zyQQIECBAgAABJU4GCBAgQIAAAQJTKKDETeFNc8kECBAgQIAAASVOBggQIECAAAECUyigxE3hTXPJBAgQIECAAAElTgYIECBAgAABAlMooMRN4U1zyQQIECBAgAABJU4GCBAgQIAAAQJTKKDETeFNc8kECBAgQIAAASVOBggQIECAAAECUyigxE3hTXPJBAgQIECAAAElTgYIECBAgAABAlMooMRN4U1zyQQIECBAgAABJU4GCBAgQIAAAQJTKKDETeFNc8kECBAgQIAAASVOBggQIECAAAECUyigxE3hTXPJBAgQIECAAAElTgYIECBAgAABAlMooMRN4U1zyQQIECBAgAABJU4GCBAgQIAAAQJTKKDETeFNc8kECBAgQIAAASVOBggQIECAAAECUyigxE3hTXPJBAgQIECAAAElTgYIECBAgAABAlMooMRN4U1zyQQIECBAgAABJU4GCBAgQIAAAQJTKKDETeFNc8kECBAgQIAAASVOBggQIECAAAECUyigxE3hTXPJBAgQIECAAAElTgYIECBAgAABAlMooMRN4U1zyQQIECBAgAABJU4GCBAgQIAAAQJTKKDETeFNc8kECBAgQIAAASVOBggQIECAAAECUyigxE3hTXPJBAgQIECAAAElTgYIECBAgAABAlMooMRN4U1zyQQIECBAgAABJU4GCBAgQIAAAQJTKKDETeFNc8kECBAgQIAAASVOBggQIECAAAECUyigxE3hTXPJBAgQIECAAAElTgYIECBAgAABAlMooMRN4U1zyQQIECBAgAABJU4GCBAgQIAAAQJTKKDETeFNc8kECBAgQIAAASVOBggQIECAAAECUyigxE3hTXPJBAgQIECAAAElTgYIECBAgAABAlMooMRN4U1zyQQIECBAgAABJU4GCBAgQIAAAQJTKKDETeFNc8kECBAgQIAAASVOBggQIECAAAECUyigxE3hTXPJBAgQIECAAAElTgYIECBAgAABAlMooMRN4U1zyQQIECBAgAABJU4GCBAgQIAAAQJTKKDETeFNc8kECBAgQIAAASVOBggQIECAAAECUyigxE3hTXPJBAgQIECAAAElTgYIECBAgAABAlMooMRN4U1zyQQIECBAgAABJU4GCBAgQIAAAQJTKKDETeFNc8kECBAgQIAAASVOBggQIECAAAECUyigxE3hTXPJBAgQIECAAAElTgYIECBAgAABAlMooMRN4U1zyQQIECBAgAABJU4GCBAgQIAAAQJTKDDxJe6ee+5pp5xySrvyyivbr3/963b77be3ffbZp5177rkz5r7mmmvaEUcc0S677LJh5sUvfnE76aST2vOe97wZ/wwnEiBAgAABAgQmSWDiS9zNN9/cNt5447bBBhu05z//+e2SSy4ZVeKuv/769sIXvrA9+clPbocccshg/4lPfKLdfffd7Ze//GXbbLPNJul+uBYCBAgQIECAwIwEJr7E/fvf/2533nlne9rTntbuvffe9tjHPnZUidtjjz3avHnz2rXXXtvmzJkzoNxyyy3tOc95Tttll13aRRddNCMoJxEgQIAAAQIEJklg4kvc0lhjS1x/KvYpT3lKe9Ob3tQ+97nPPci9PyV74YUXDgVxnXXWmaR74loIECBAgAABAisUWKVL3BVXXNG22267Nnfu3HbggQc+CKP/2kEHHdT6Odtuu+0KoZxAgAABAgQIEJgkgVW6xH31q19t/enUiy++uL3mNa95kHv/td1337195Stfaa9//euXe09uu+221v+z9HHXXXcNT89utdVWbe21156k++laCBAgQIBAKYH/9//+X+uvn995553beuutV+qffZUucZ///Ofb3nvv3b773e+2V77ylQ+6sZdeeulww/s5e+2113Jv+jHHHNOOPfbYUqHwD0uAAAECBKZN4Pzzz2977rnntF32rK53lS5xWY/ELViwoO23336tB6a/QcJBgAABAgQIrByB/sxYfzCmf4zY9ttvv3IuYiX9rqt0ict6Tdz//u//Dh930j+7buutt15Jt85vS4AAAQIECFTeyat0iVvRu1O/9KUvtb/+9a+j351aOTD+dUGAAAECBCZJoPJOXmVK3KJFi9rChQvbuuuuO3ww8OKjv2mhvybuD3/4Q9twww2HX178OXH9NXH9KdexR+XAjLVyPgECBAgQyBSovJOnosSdfvrpwzcs3H///e0jH/nI8K7Q173udUMmdtttt7bFFlsM70zp3+zw0K/kuu6669o222wzfF7coYceOsz0b2zoj8D1b2x41rOeNTpblQMzGssAAQIECBBIFKi8k6eixG200Ubtj3/84zIjcM4557S3ve1tyy1xfei3v/3t8N2p8+fPH35G/+7UE088cSh/kaNyYCJeZggQIECAQJZA5Z08FSUu68ZHf27lwETNzBEgQIAAgQyByjtZiQskqnJgAlxGCBAgQIBAmkDlnazEBWJVOTABLiMECBAgQCBNoPJOVuICsaocmACXEQIECBAgkCZQeScrcYFYVQ5MgMsIAQIECBBIE6i8k5W4QKwqBybAZYQAAQIECKQJVN7JSlwgVpUDE+AyQoAAAQIE0gQq72QlLhCryoEJcBkhQIAAAQJpApV3shIXiFXlwAS4jBAgQIAAgTSByjtZiQvEqnJgAlxGCBAgQIBAmkDlnazEBWJVOTABLiMECBAgQCBNoPJOVuICsaocmACXEQIECBAgkCZQeScrcYFYVQ5MgMsIAQIECBBIE6i8k5W4QKwqBybAZYQAAQIECKQJVN7JSlwgVpUDE+AyQoAAAQIE0gQq72QlLhCryoEJcBkhQIAAAQJpApV3shIXiFXlwAS4jBAgQIAAgTSByjtZiQvEqnJgAlxGCBAgQIBAmkDlnazEBWJVOTABLiMECBAgQCBNoPJOVuICsaocmACXEQIECBAgkCZQeScrcYFYVQ5MgMsIAQIECBBIE6i8k5W4QKwqBybAZYQAAQIECKQJVN7JSlwgVpUDE+AyQoAAAQIE0gQq72QlLhCryoEJcBkhQIAAAQJpApV3shIXiFXlwAS4jBAgQIAAgTSByjtZiQvEqnJgAlxGCBAgQIBAmkDlnazEBWJVOTABLiMECBAgQCBNoPJOVuICsaocmACXEQIECBAgkCZQeScrcYFYVQ5MgMsIAQIECBBIE6i8k5W4QKwqBybAZYQAAQIECKQJVN7JSlwgVpUDE+AyQoAAAQIE0gQq72QlLhCryoEJcBkhQIAAAQJpApV3shIXiFXlwAS4jBAgQIAAgTSByjtZiQvEqnJgAlxGCBAgQIBAmkDlnazEBWJVOTABLiMECBAgQCBNoPJOVuICsaocmACXEQIECBAgkCZQeScrcYFYVQ5MgMsIAQIECBBIE6i8k5W4QKwqBybAZYQAAQIECKQJVN7JSlwgVpUDE+AyQoAAAQIE0gQq72QlLhCryoEJcBkhQIAAAQJpApV3shIXiFXlwAS4jBAgQIAAgTSByjtZiQvEqnJgAlxGCBAgQIBAmkDlnazEBWJVOTABLiMECBAgQCBNoPJOVuICsaocmACXEQIECBAgkCZQeScrcYFYVQ5MgMsIAQIECBBIE6i8k5W4QKwqBybAZYQAAQIECKQJVN7JSlwgVpUDE+AyQoAAAQIE0gQq72QlLhCryoEJcBkhQIAAAQJpApV3shIXiFXlwAS4jBAgQIAAgTSByjtZiQvEqnJgAlxGCBAgQIBAmkDlnazEBWJVOTABLiMECBAgQCBNoPJOVuICsaocmACXEQIECBAgkCZQeScrcYFYVQ5MgMsIAQIECBBIE6i8k5W4QKwqBybAZYQAAQIECKQJVN7JSlwgVpUDE+AyQoAAAQIE0gQq72QlLhCryoEJcBkhQIAAAQJpApV3shIXiFXlwAS4jBAgQIAAgTSByjtZiQvEqnJgAlxGCBAgQIBAmkDlnazEBWJVOTABLiMECBAgQCBNoPJOVuICsaocmACXEQIECBAgkCZQeScrcYFYVQ5MgMsIAQIECBBIE6i8k5W4QKwqBybAZYQAAQIECKQJVN7JSlwgVpUDE+AyQoAAAQIE0gQq72QlLhCryoEJcBkhQIAAAQJpApV3shIXiFXlwAS4jBAgQIAAgTSByjtZiQvEqnJgAlxGCBAgQIBAmkDlnazEBWJVOTABLiMECBAgQCBNoPJOVuICsaocmACXEQIECBAgkCZQeScrcYFYVQ5MgMsIAQIECBBIE6i8k5W4QKwqBybAZYQAAQIECKQJVN7JSlwgVpUDE+AyQoAAAQIE0gQq72QlLhCryoEJcBkhQIAAAQJpApV3shIXiFXlwAS4jBAgQIAAgTSByjtZiQvEqnJgAlxGCBAgQIBAmkDlnazEBWJVOTABLiMECBAgQCBNoPJOVuICsaocmACXEQIECBAgkCZQeScrcYFYVQ5MgMsIAQIECBBIE6i8k5W4QKwqBybAZYQAAQIECKQJVN7JSlwgVpUDE+AyQoAAAQIE0gQq72QlLhCryoEJcBkhQIAAAQJpApV3shIXiFXlwAS4jBAgQIAAgTSByjtZiQvEqnJgAlxGCBAgQIBAmkDlnazEBWJVOTABLiMECBAgQCBNoPJOVuICsaocmACXEQIECBAgkCZQeScrcYFYVQ5MgMsIAQIECBBIE6i8k5W4QKwqBybAZYQAAQIECKQJVN7JSlwgVpUDE+AyQoAAAQIE0gQq72QlLhCryoEJcBkhQIAAAQJpApV3shIXiFXlwAS4jBAgQIAAgTSByjtZiQvEqnJgAlxGCBAgQIBAmkDlnazEBWJVOTABLiMECBAgQCBNoPJOVuICsaocmACXEQIECBAgkCZQeScrcYFYVQ5MgMsIAQIECBBIE6i8k5W4QKwqBybAZYQAAQIECKQJVN7JSlwgVpUDE+AyQoAAAQIE0gQq72QlLhCryoEJcBkhQIAAAQJpApV3shIXiFXlwAS4jBAgQIAAgTSByjtZiQvEqnJgAlxGCBAgQIBAmkDlnazEBWJVOTABLiMECBAgQCBNoPJOVuICsaocmACXEQIECBAgkCZQeScrcYFYVQ5MgMsIAQIECBBIE6i8k5W4QKwqBybAZYQAAQIECKQJVN7JSlwgVpUDE+AyQoAAAQIE0gQq72QlLhCryoEJcBkhQIAAAQJpApV3shIXiFXlwAS4jBAgQIAAgTSByjtZiQvEqnJgAlxGCBAgQIBAmkDlnazEBWJVOTABLiMECBAgQCBNoPJOVuICsaocmACXEQIECBAgkCZQeScrcYFYVQ5MgMsIAQIECBBIE6i8k5W4QKwqBybAZYQAAQIECKQJVN7JSlwgVpUDE+AyQoAAAQIE0gQq72QlLhCryoEJcBkhQIAAAQJpApV3shIXiFXlwAS4jBAgQIAAgTSByjtZiQvEqnJgAlxGCBAgQIBAmkDlnazEBWJVOTABLiMECBAgQCBNoPJOVuICsaocmACXEQIECBAgkCZQeScrcYFYVQ5MgMsIAQIECBBIE6i8k5W4QKwqBybAZYQAAQIECKQJVN7JSlwgVpUDE+AyQoAAAQIE0gQq72QlLhCryoEJcBkhQIAAAQJpApV3shIXiFXlwAS4jBAgQIAAgTSByjtZiQvEqnJgAlxGCBAgQIBAmkDlnTwVJe6+++5rJ598cjv77LPbLbfc0ubMmdP233//dvjhh7fVV199hcH4whe+0E477bR23XXXtQceeKA94xnPaO985zuHn/GYxzxmhfMPPaFyYEZjGSBAgAABAokClXfyVJS4gw46qM2dO7ftu+++bbvttmuXX355O+ecc1r/9TPOOOMRo3Hccce1D33oQ23nnXduu+2221DivvrVr7Yf/ehH7X3ve1875ZRTRkercmBGYxkgQIAAAQKJApV38sSXuKuvvrptueWW7ZBDDmmnnnrqkhgcdthhw6NrV111Vdt8882XG4+nPvWp7elPf3r75S9/2VZbbbXhvPvvv79tvfXW7eabb25333336GhVDsxoLAMECBAgQCBRoPJOnvgSd/TRR7fjjz++3XjjjW3jjTdeEoObbrqpbbLJJu2oo45q/dG25R1rr71222mnndoll1zyoFP6I3O9IP75z38eHa3KgRmNZYAAAQIECCQKVN7JE1/ietnqj7bdfvvtD4vA+uuv37baaqs2b9685cZj1113bd/5zneGp01333334enUiy66qPVyePrpp7d3vetdo6NVOTCjsQwQIECAAIFEgco7eeJLXH+qdM0112xXXnnlwyLQnxJdtGjR8Ija8o5e/t761re273//+0tOWWuttdqnP/3pttdee60wVrfddlvr/1n6uPbaa4fZfk39GhwECBAgQIDAyhFQ4laO+4x+10033bT1R9z6mxkeevQ3Odxxxx3thhtuWO7Puuuuu9oHPvCB9p///Ke9+tWvHkrfeeed1374wx+2L37xi22PPfZ4xOs45phj2rHHHrvMc5S4Gd1CJxEgQIAAgTQBJS6NdvY/eDaPxPWPJtlmm21aL4Jf/vKXl1xMf0r1xS9+8fCRI/0jS/rr5pZ3eCRu9vfQTyBAgAABAlkCSlyW7KPwc2fzmrj+MSIve9nL2oUXXtje+MY3PuhqPv7xj7f3v//97Ve/+lV7wQteMOpKKwdmFJSTCRAgQIBAskDlnTzxr4nr7z494YQTQu9O7U+XvuUtb2kXXHBBe/Ob3/ygGJ144ontyCOPbFdccUXbdtttR0WscmBGQTmZAAECBAgkC1TeyRNf4vo7U/s7UJf3OXELFixoW2yxxfBat4ULF7Z11123bbDBBkNkfvOb3wxvPHjVq141vEN18XHvvfcOj771p1P/8pe/tHXWWWdUxCoHZhSUkwkQIECAQLJA5Z088SWu3/sDDzywnXXWWcM3Nmy//fZt/vz5wzc2HHDAAe3MM88c4tE/uLd/jtw+++zTzj333CWR6R8x8q1vfavtuOOO7XWve13rBe78888fCt5HPvKR1t+4MPaoHJixVs4nQIAAAQKZApV38lSUuF68TjrppOG7U2+99da24YYbDt97esQRR7Q11ljjEUvcv//97/bJT35yeEdq/8Dg/i7V5z73ucPnw/WfETkqBybiZYYAAQIECGQJVN7JU1Hism589OdWDkzUzBwBAgQIEMgQqLyTlbhAoioHJsBlhAABAgQIpAlU3slKXCBWlQMT4DJCgAABAgTSBCrvZCUuEKvKgQlwGSFAgAABAmkClXeyEheIVeXABLiMECBAgACBNIHKO1mJC8SqcmACXEYIECBAgECaQOWdrMQFYlU5MAEuIwQIECBAIE2g8k5W4gKxqhyYAJcRAgQIECCQJlB5JytxgVhVDkyAywgBAgQIEEgTqLyTlbhArCoHJsBlhAABAgQIpAlU3slKXCBWlQMT4DJCgAABAgTSBCrvZCUuEKvKgQlwGSFAgAABAmkClXeyEheIVeXABLiMECBAgACBNIHKO1mJC8SqcmACXEYIECBAgECaQOWdrMQFYlU5MAEuIwQIECBAIE2g8k5W4gKxqhyYAJcRAgQIECCQJlB5JytxgVhVDkyAywgBAgQIEEgTqLyTlbhArCoHJsBlhAABAgQIpAlU3slKXCBWlQMT4DJCgAABAgTSBCrvZCUuEKvKgQlwGSFAgAABAmkClXeyEheIVeXABLiMECBAgACBNIHKO1mJC8SqcmACXEYIECBAgECaQOWdrMQFYlU5MAEuIwQIECBAIE2g8k5W4gKxqhyYAJcRAgQIECCQJlB5JytxgVhVDkyAywgBAgQIEEgTqLyTlbhArCoHJsBlhAABAgQIpAlU3slKXCBWlQMT4DJCgAABAgTSBCrvZCUuEKvKgQlwGSFAgAABAmkClXeyEheIVeXABLiMECBAgACBNIHKO1mJC8SqcmACXEYIECBAgECaQOWdrMQFYlU5MAEuIwQIECBAIE2g8k5W4gKxqhyYAJcRAgQIECCQJlB5JytxgVhVDkyAywgBAgQIEEgTqLyTlbhArCoHJsBlhAABAgQIpAlU3slKXCBWlQMT4DJCgAABAgTSBCrvZCUuEKvKgQlwGSFAgAABAmkClXeyEheIVeXABLiMECBAgACBNIHKO1mJC8SqcmACXEYIECBAgECaQOWdrMQFYlU5MAEuIwQIECBAIE2g8k5W4gKxqhyYAJcRAgQIECCQJlB5JytxgVhVDkyAywgBAgQIEEgTqLyTlbhArCoHJsBlhAABAgQIpAlU3slKXCBWlQMT4DJCgAABAgTSBCrvZCUuEKvKgQlwGSFAgAABAmkClXeyEheIVeXABLiMECBAgACBNIHKO1mJC8SqcmACXEYIECBAgECaQOWdrMQFYlU5MAEuIwQIECBAIE2g8k5W4gKxqhyYAJcRAgQIECCQJlB5JytxgVhVDkyAywgBAgQIEEgTqLyTlbhArCoHJsBlhAABAgQIpAlU3slKXCBWlQMT4DJCgAABAgTSBCrvZCUuEKvKgQlwGSFAgAABAmkClXeyEheIVeXABLiMECBAgACBNIHKO1mJC8SqcmACXEYIECBAgECaQOWdrMQFYlU5MAEuIwQIECBAIE2g8k5W4gKxqhyYAJcRAgQIECCQJlB5JytxgVhVDkyAywgBAgQIEEgTqLyTlbhArCoHJsBlhAABAgQIpAlU3slKXCBWlQMT4DJCgAABAgTSBCrvZCUuEKvKgQlwGSFAgAABAmkClXeyEheIVeXABLiMECBAgACBNIHKO1mJC8SqcmACXEYIECBAgECaQOWdrMQFYlU5MAEuIwQIECBAIE2g8k5W4gKxqhyYAJcRAgQIECCQJlB5JytxgVhVDkyAywgBAgQIEEgTqLyTlbhArCoHJsBlhAABAgQIpAlU3slKXCBWlQMT4DJCgAABAgTSBCrvZCUuEKvKgQlwGSFAgAABAmkClXeyEheIVeXABLiMECBAgACBNIHKO1mJC8SqcmACXEYIECBAgECaQOWdrMQFYlU5MAEuIwQIECBAIE2g8k5W4gKxqhyYAJcRAgQIECCQJlB5JytxgVhVDkyAywgBAgQIEEgTqLyTlbhArCoHJsBlhAABAgQIpAlU3slKXCBWlQMT4DJCgAABAgTSBCrvZCUuEKvKgQlwGSFAgAABAmkClXeyEheIVeXABLiMECBAgACBNIHKO1mJC8SqcmACXEYIECBAgECaQOWdrMQFYlU5MAEuIwQIECBAIE2g8k5W4gKxqhyYAJcRAgQIECCQJlB5JytxgVhVDkyAywgBAgQIEEgTqLyTlbhArCoHJsBlhAABAgQIpAlU3slKXCBWlQMT4DJCgAABAgTSBCrvZCUuEKvKgQlwGSFAgAABAmkClXeyEheIVeXABLiMECBAgACBNIHKO1mJC8SqcmACXEYIECBAgECaQOWdrMQFYlU5MAEuIwQIECBAIE2g8k5W4gKxqhyYAJcRAgQIECCQJlB5JytxgVhVDkyAywgBAgQIEEgTqLyTlbhArCoHJsBlhAABAgQIpAlU3slKXCBWlQMT4DJCgAABAgTSBCrvZCUuEKvKgQlwGSFAgAABAmkClXeyEheIVeXABLiMECBAgACBNIHKO1mJC8SqcmACXEYIECBAgECaQOWdrMQFYlU5MAEuIwQIECBAIE2g8k5W4gKxqhyYAJcRAgQIECCQJlB5JytxgVhVDkyAywgBAgQIEEgTqLyTlbhArCoHJsBlhAABAgQIpAlU3slKXCBWlQMT4DJCgAABAgTSBCrvZCUuEKvKgQlwGSFAgAABAmkClXeyEheIVeXABLiMECBAgACBNIHKO1mJC8SqcmACXEYIECBAgECaQOWdrMQFYlU5MAEuIwQIECBAIE2g8k5W4gKxqhyYAJcRAgQIECCQJlB5JytxgVhVDkyAywgBAgQIEEgTqLyTlbhArCoHJsBlhAABAgQIpAlU3slKXCBWlQMT4DJCgAABAgTSBCrvZCUuEKvKgQlwGSFAgAABAmkClXeyEheIVeXABLiMECBAgACBNIHKO1mJC8SqcmACXEYIECBAgECaQOWdrMQFYlU5MAEuIwQIECBAIE2g8k5W4gKxqhyYAJcRAgQIECCQJlB5JytxgVhVDkyAywgBAgQIEEgTqLyTlbhArCoHJsBlhAABAgQIpAlU3slKXCBWlQMT4DJCgAABAgTSBCrvZCUuEKvKgQlwGQQcb+0AACAASURBVCFAgAABAmkClXeyEheIVeXABLiMECBAgACBNIHKO1mJC8SqcmACXEYIECBAgECaQOWdrMQFYlU5MAEuIwQIECBAIE2g8k5W4gKxqhyYAJcRAgQIECCQJlB5JytxgVhVDkyAywgBAgQIEEgTqLyTp6LE3Xfffe3kk09uZ599drvlllvanDlz2v77798OP/zwtvrqq88oGF/60pfa6aef3n7729+2Bx54oG266abtXe96VzvggANmNL/0SZUDMxrLAAECBAgQSBSovJOnosQddNBBbe7cuW3fffdt2223Xbv88svbOeec0/qvn3HGGSuMxnvf+9526qmntje+8Y1txx13HErc9ddf39Zaa612/PHHr3D+oSdUDsxoLAMECBAgQCBRoPJOnvgSd/XVV7ctt9yyHXLIIUMRW3wcdthh7bTTTmtXXXVV23zzzZcbj29961tt1113bRdccEF785vf/KjEqHJgHhVAP4QAAQIECDxKApV38sSXuKOPPnp4tOzGG29sG2+88ZJbftNNN7VNNtmkHXXUUe24445bbhRe8pKXtH/961/t17/+9fAI3D333NMe//jHzyo6lQMzKzjDBAgQIEDgURaovJMnvsTtvPPOw6Ntt99++8Nu+/rrr9+22mqrNm/evGVGohe2ddddd3jt23rrrdc+8YlPtLvuuqs96UlPavvtt99QDh/72MeOjlPlwIzGMkCAAAECBBIFKu/kiS9x/anSNddcs1155ZUPi8DWW2/dFi1a1PpTrss6FixYMJS8XuDuv//+9uEPf7htuOGG7Ytf/GL72te+1vbcc892/vnnP2K0brvtttb/s/Rx7bXXtr322mu4pn4NDgIECBAgQGDlCChxK8d9Rr9rfxdpf8Stv5nhoUd/k8Mdd9zRbrjhhmX+rMsuu6ztsMMOw//305/+dMl/7/97p512aj/84Q/b7373u/bc5z53uddyzDHHtGOPPXaZ/78SN6Nb6CQCBAgQIJAmoMSl0c7+B8/mkbhesl7wghe0jTbaqPXX0C19nHvuucO7XT/5yU8OT7cu7/BI3OzvoZ9AgAABAgSyBJS4LNlH4efO5jVx/XV0G2ywQXvRi17Ufv7znz/oavrr6HbZZZfhTRH9zRFjjsqBGePkXAIECBAgkC1QeSdP/GviesE64YQTwu9O7R8M3I/+IcFLH/2Dg9/xjne0T3/608MHB485KgdmjJNzCRAgQIBAtkDlnTzxJa6/M7W/OWF5nxPX37ywxRZbDG9wWLhw4fBu1P7o2+LjAx/4QDvppJPaN7/5zeHz4vrRvwGiv56uP93aX0/Xn24dc1QOzBgn5xIgQIAAgWyByjt54ktcv/kHHnhgO+uss4bXsG2//fZt/vz5wzc29K/MOvPMM4d83HzzzcPnyO2zzz6tv95t8dE/UqS/Lq6/tq1/QPDTnva09uUvf7n97Gc/a0ceeeTwKN/Yo3Jgxlo5nwABAgQIZApU3slTUeLuvffe4dG0/hTorbfeOnxMSH8K9IgjjmhrrLHGI5a4/n/2AvfBD36wffvb325/+9vf2jOe8Yx28MEHP+IbGh4pcJUDk/kH0c8mQIAAAQJjBSrv5KkocWNvaPb5lQOTbevnEyBAgACBMQKVd7ISNyYp/z23cmACXEYIECBAgECaQOWdrMQFYlU5MAEuIwQIECBAIE2g8k5W4gKxqhyYAJcRAgQIECCQJlB5JytxgVhVDkyAywgBAgQIEEgTqLyTlbhArCoHJsBlhAABAgQIpAlU3slKXCBWlQMT4DJCgAABAgTSBCrvZCUuEKvKgQlwGSFAgAABAmkClXeyEheIVeXABLiMECBAgACBNIHKO1mJC8SqcmACXEYIECBAgECaQOWdrMQFYlU5MAEuIwQIECBAIE2g8k5W4gKxqhyYAJcRAgQIECCQJlB5JytxgVhVDkyAywgBAgQIEEgTqLyTlbhArCoHJsBlhAABAgQIpAlU3slKXCBWlQMT4DJCgAABAgTSBCrvZCUuEKvKgQlwGSFAgAABAmkClXeyEheIVeXABLiMECBAgACBNIHKO1mJC8SqcmACXEYIECBAgECaQOWdrMQFYlU5MAEuIwQIECBAIE2g8k5W4gKxqhyYAJcRAgQIECCQJlB5JytxgVhVDkyAywgBAgQIEEgTqLyTlbhArCoHJsBlhAABAgQIpAlU3slKXCBWlQMT4DJCgAABAgTSBCrvZCUuEKvKgQlwGSFAgAABAmkClXeyEheIVeXABLiMECBAgACBNIHKO1mJC8SqcmACXEYIECBAgECaQOWdrMQFYlU5MAEuIwQIECBAIE2g8k5W4gKxqhyYAJcRAgQIECCQJlB5JytxgVhVDkyAywgBAgQIEEgTqLyTlbhArCoHJsBlhAABAgQIpAlU3slKXCBWlQMT4DJCgAABAgTSBCrvZCUuEKvKgQlwGSFAgAABAmkClXeyEheIVeXABLiMECBAgACBNIHKO1mJC8SqcmACXEYIECBAgECaQOWdrMQFYlU5MAEuIwQIECBAIE2g8k5W4gKxqhyYAJcRAgQIECCQJlB5JytxgVhVDkyAywgBAgQIEEgTqLyTlbhArCoHJsBlhAABAgQIpAlU3slKXCBWlQMT4DJCgAABAgTSBCrvZCUuEKvKgQlwGSFAgAABAmkClXeyEheIVeXABLiMECBAgACBNIHKO1mJC8SqcmACXEYIECBAgECaQOWdrMQFYlU5MAEuIwQIECBAIE2g8k5W4gKxqhyYAJcRAgQIECCQJlB5JytxgVhVDkyAywgBAgQIEEgTqLyTlbhArCoHJsBlhAABAgQIpAlU3slKXCBWlQMT4DJCgAABAgTSBCrvZCUuEKvKgQlwGSFAgAABAmkClXeyEheIVeXABLiMECBAgACBNIHKO1mJC8SqcmACXEYIECBAgECaQOWdrMQFYlU5MAEuIwQIECBAIE2g8k5W4gKxqhyYAJcRAgQIECCQJlB5JytxgVhVDkyAywgBAgQIEEgTqLyTlbhArCoHJsBlhAABAgQIpAlU3slKXCBWlQMT4DJCgAABAgTSBCrvZCUuEKvKgQlwGSFAgAABAmkClXeyEheIVeXABLiMECBAgACBNIHKO1mJC8SqcmACXEYIECBAgECaQOWdrMQFYlU5MAEuIwQIECBAIE2g8k5W4gKxqhyYAJcRAgQIECCQJlB5JytxgVhVDkyAywgBAgQIEEgTqLyTlbhArCoHJsBlhAABAgQIpAlU3slKXCBWlQMT4DJCgAABAgTSBCrvZCUuEKvKgQlwGSFAgAABAmkClXeyEheIVeXABLiMECBAgACBNIHKO1mJC8SqcmACXEYIECBAgECaQOWdrMQFYlU5MAEuIwQIECBAIE2g8k5W4gKxqhyYAJcRAgQIECCQJlB5JytxgVhVDkyAywgBAgQIEEgTqLyTlbhArCoHJsBlhAABAgQIpAlU3slKXCBWlQMT4DJCgAABAgTSBCrvZCUuEKvKgQlwGSFAgAABAmkClXeyEheIVeXABLiMECBAgACBNIHKO1mJC8SqcmACXEYIECBAgECaQOWdrMQFYlU5MAEuIwQIECBAIE2g8k5W4gKxqhyYAJcRAgQIECCQJlB5JytxgVhVDkyAywgBAgQIEEgTqLyTlbhArCoHJsBlhAABAgQIpAlU3slKXCBWlQMT4DJCgAABAgTSBCrvZCUuEKvKgQlwGSFAgAABAmkClXeyEheIVeXABLiMECBAgACBNIHKO1mJC8SqcmACXEYIECBAgECaQOWdrMQFYlU5MAEuIwQIECBAIE2g8k5W4gKxqhyYAJcRAgQIECCQJlB5JytxgVhVDkyAywgBAgQIEEgTqLyTlbhArCoHJsBlhAABAgQIpAlU3slKXCBWlQMT4DJCgAABAgTSBCrvZCUuEKvKgQlwGSFAgAABAmkClXeyEheIVeXABLiMECBAgACBNIHKO1mJC8SqcmACXEYIECBAgECaQOWdrMQFYlU5MAEuIwQIECBAIE2g8k5W4gKxqhyYAJcRAgQIECCQJlB5JytxgVhVDkyAywgBAgQIEEgTqLyTlbhArCoHJsBlhAABAgQIpAlU3slKXCBWlQMT4DJCgAABAgTSBCrvZCUuEKvKgQlwGSFAgAABAmkClXeyEheIVeXABLiMECBAgACBNIHKO1mJC8SqcmACXEYIECBAgECaQOWdrMQFYlU5MAEuIwQIECBAIE2g8k5W4gKxqhyYAJcRAgQIECCQJlB5JytxgVhVDkyAywgBAgQIEEgTqLyTlbhArCoHJsBlhAABAgQIpAlU3slKXCBWlQMT4DJCgAABAgTSBCrvZCUuEKvKgQlwGSFAgAABAmkClXeyEheIVeXABLiMECBAgACBNIHKO1mJC8SqcmACXEYIECBAgECaQOWdrMQFYlU5MAEuIwQIECBAIE2g8k5W4gKxqhyYAJcRAgQIECCQJlB5JytxgVhVDkyAywgBAgQIEEgTqLyTlbhArCoHJsBlhAABAgQIpAlU3slKXCBWlQMT4DJCgAABAgTSBCrvZCUuEKvKgQlwGSFAgAABAmkClXeyEheIVeXABLiMECBAgACBNIHKO1mJC8SqcmACXEYIECBAgECaQOWdrMQFYlU5MAEuIwQIECBAIE2g8k5W4gKxqhyYAJcRAgQIECCQJlB5JytxgVhVDkyAywgBAgQIEEgTqLyTlbhArCoHJsBlhAABAgQIpAlU3slKXCBWlQMT4DJCgAABAgTSBCrvZCUuEKvKgQlwGSFAgAABAmkClXeyEheIVeXABLiMECBAgACBNIHKO1mJC8SqcmACXEYIECBAgECaQOWdPBUl7r777msnn3xyO/vss9stt9zS5syZ0/bff/92+OGHt9VXX31UMHbcccf205/+tO25557t/PPPHzW7+OTKgQmBGSJAgAABAkkClXfyVJS4gw46qM2dO7ftu+++bbvttmuXX355O+ecc1r/9TPOOGPGsTjvvPOGmX/+859K3IzVnEiAAAECBCZXQImb3HvTrr766rblllu2Qw45pJ166qlLrvSwww5rp512Wrvqqqva5ptvvsJ/grvvvrs961nPau95z3vaBz/4QSVuhWJOIECAAAECky+gxE3wPTr66KPb8ccf32688ca28cYbL7nSm266qW2yySbtqKOOascdd9wK/wne/e53t+9973vtmmuuaY973OOUuBWKOYEAAQIECEy+gBI3wfdo5513Hh5tu/322x92leuvv37baqut2rx58x7xn+DKK69s22yzTbvkkkvaLrvs0lZbbTUlboLvuUsjQIAAAQIzFVDiZiq1Es7rT5WuueaarRexhx5bb711W7Ro0fCU6/KO+++/v2277bZtgw02aN/4xjeG08aUuNtuu631/yx9XHvttW2vvfYarqlfg4MAAQIECBBYOQJK3Mpxn9Hvuummm7b+iFt/M8NDj/4mhzvuuKPdcMMNy/1ZZ5555vA6uN///vdLno4dU+KOOeaYduyxxy7z5ytxM7qFTiJAgAABAmkCSlwa7ex/8GweifvLX/4yvJnh4IMPbh/96EeXXMyYEueRuNnfQz+BAAECBAhkCShxWbKPws+dzWvi+jtaL7jggvbjH/+4rb322kuuZrPNNmu77757O+WUU9p6663XnvjEJ4660sqBGQXlZAIECBAgkCxQeSdP/OfE9XefnnDCCaF3p772ta9d8jq45WWof4jw+9///lERqxyYUVBOJkCAAAECyQKVd/LEl7j+ztT+DtTlfU7cggUL2hZbbDG8wWHhwoVt3XXXHd7E0I8rrrii/elPf3pYfN7whje0HXbYoR166KHD7DOf+cxREascmFFQTiZAgAABAskClXfyxJe4fu8PPPDAdtZZZw3f2LD99tu3+fPnD9/YcMABB7T+xoV+3HzzzcMbF/bZZ5927rnnPmJkxrwmblk/qHJgkv8s+vEECBAgQGCUQOWdPBUl7t57720nnXTS8N2pt956a9twww2H70494ogj2hprrKHEjYq7kwkQIECAwKojoMStOvfy/+SfpHJg/k+A/SYECBAgQGCGApV38lQ8EjfD+/h/dlrlwPyfIfuNCBAgQIDADAQq72QlbgYBeegplQMT4DJCgAABAgTSBCrvZCUuEKvKgQlwGSFAgAABAmkClXeyEheIVeXABLiMECBAgACBNIHKO1mJC8SqcmACXEYIECBAgECaQOWdrMQFYlU5MAEuIwQIECBAIE2g8k5W4gKxqhyYAJcRAgQIECCQJlB5JytxgVhVDkyAywgBAgQIEEgTqLyTlbhArCoHJsBlhAABAgQIpAlU3slKXCBWlQMT4DJCgAABAgTSBCrvZCUuEKvKgQlwGSFAgAABAmkClXeyEheIVeXABLiMECBAgACBNIHKO1mJC8SqcmACXEYIECBAgECaQOWdrMQFYlU5MAEuIwQIECBAIE2g8k5W4gKxqhyYAJcRAgQIECCQJlB5JytxgVhVDkyAywgBAgQIEEgTqLyTlbhArCoHJsBlhAABAgQIpAlU3slKXCBWlQMT4DJCgAABAgTSBCrvZCUuEKvKgQlwGSFAgAABAmkClXeyEheIVeXABLiMECBAgACBNIHKO1mJC8SqcmACXEYIECBAgECaQOWdrMQFYlU5MAEuIwQIECBAIE2g8k5W4gKxqhyYAJcRAgQIECCQJlB5JytxgVhVDkyAywgBAgQIEEgTqLyTlbhArCoHJsBlhAABAgQIpAlU3slKXCBWlQMT4DJCgAABAgTSBCrvZCUuEKvKgQlwGSFAgAABAmkClXeyEheIVeXABLiMECBAgACBNIHKO1mJC8SqcmACXEYIECBAgECaQOWdrMQFYlU5MAEuIwQIECBAIE2g8k5W4gKxqhyYAJcRAgQIECCQJlB5JytxgVhVDkyAywgBAgQIEEgTqLyTlbhArCoHJsBlhAABAgQIpAlU3slKXCBWlQMT4DJCgAABAgTSBCrvZCUuEKvKgQlwGSFAgAABAmkClXeyEheIVeXABLiMECBAgACBNIHKO1mJC8SqcmACXEYIECBAgECaQOWdrMQFYlU5MAEuIwQIECBAIE2g8k5W4gKxqhyYAJcRAgQIECCQJlB5JytxgVhVDkyAywgBAgQIEEgTqLyTlbhArCoHJsBlhAABAgQIpAlU3slKXCBWlQMT4DJCgAABAgTSBCrvZCUuEKvKgQlwGSFAgAABAmkClXeyEheIVeXABLiMECBAgACBNIHKO1mJC8SqcmACXEYIECBAgECaQOWdrMQFYlU5MAEuIwQIECBAIE2g8k5W4gKxqhyYAJcRAgQIECCQJlB5JytxgVhVDkyAywgBAgQIEEgTqLyTlbhArCoHJsBlhAABAgQIpAlU3slKXCBWlQMT4DJCgAABAgTSBCrvZCUuEKvKgQlwGSFAgAABAmkClXeyEheIVeXABLiMECBAgACBNIHKO1mJC8SqcmACXEYIECBAgECaQOWdrMQFYlU5MAEuIwQIECBAIE2g8k5W4gKxqhyYAJcRAgQIECCQJlB5JytxgVhVDkyAywgBAgQIEEgTqLyTlbhArCoHJsBlhAABAgQIpAlU3slKXCBWlQMT4DJCgAABAgTSBCrvZCUuEKvKgQlwGSFAgAABAmkClXeyEheIVeXABLiMECBAgACBNIHKO1mJC8SqcmACXEYIECBAgECaQOWdrMQFYlU5MAEuIwQIECBAIE2g8k5W4gKxqhyYAJcRAgQIECCQJlB5JytxgVhVDkyAywgBAgQIEEgTqLyTlbhArCoHJsBlhAABAgQIpAlU3slKXCBWlQMT4DJCgAABAgTSBCrvZCUuEKvKgQlwGSFAgAABAmkClXeyEheIVeXABLiMECBAgACBNIHKO1mJC8SqcmACXEYIECBAgECaQOWdrMQFYlU5MAEuIwQIECBAIE2g8k5W4gKxqhyYAJcRAgQIECCQJlB5JytxgVhVDkyAywgBAgQIEEgTqLyTlbhArCoHJsBlhAABAgQIpAlU3slKXCBWlQMT4DJCgAABAgTSBCrvZCUuEKvKgQlwGSFAgAABAmkClXeyEheIVeXABLiMECBAgACBNIHKO1mJC8SqcmACXEYIECBAgECaQOWdrMQFYlU5MAEuIwQIECBAIE2g8k5W4gKxqhyYAJcRAgQIECCQJlB5JytxgVhVDkyAywgBAgQIEEgTqLyTlbhArCoHJsBlhAABAgQIpAlU3slKXCBWlQMT4DJCgAABAgTSBCrvZCUuEKvKgQlwGSFAgAABAmkClXeyEheIVeXABLiMECBAgACBNIHKO1mJC8SqcmACXEYIECBAgECaQOWdrMQFYlU5MAEuIwQIECBAIE2g8k5W4gKxqhyYAJcRAgQIECCQJlB5JytxgVhVDkyAywgBAgQIEEgTqLyTlbhArCoHJsBlhAABAgQIpAlU3slKXCBWlQMT4DJCgAABAgTSBCrvZCUuEKvKgQlwGSFAgAABAmkClXeyEheIVeXABLiMECBAgACBNIHKO1mJC8SqcmACXEYIECBAgECaQOWdrMQFYlU5MAEuIwQIECBAIE2g8k5W4gKxqhyYAJcRAgQIECCQJlB5JytxgVhVDkyAywgBAgQIEEgTqLyTlbhArCoHJsBlhAABAgQIpAlU3slKXCBWlQMT4DJCgAABAgTSBCrvZCUuEKvKgQlwGSFAgAABAmkClXeyEheIVeXABLiMECBAgACBNIHKO1mJC8SqcmACXEYIECBAgECaQOWdrMQFYlU5MAEuIwQIECBAIE2g8k5W4gKxqhyYAJcRAgQIECCQJlB5JytxgVhVDkyAywgBAgQIEEgTqLyTlbhArCoHJsBlhAABAgQIpAlU3slKXCBWlQMT4DJCgAABAgTSBCrvZCUuEKvKgQlwGSFAgAABAmkClXeyEheIVeXABLiMECBAgACBNIHKO1mJC8SqcmACXEYIECBAgECaQOWdrMQFYlU5MAEuIwQIECBAIE2g8k5W4gKxqhyYAJcRAgQIECCQJlB5JytxgVhVDkyAywgBAgQIEEgTqLyTlbhArCoHJsBlhAABAgQIpAlU3slKXCBWlQMT4DJCgAABAgTSBCrvZCUuEKvKgQlwGSFAgAABAmkClXeyEheIVeXABLiMECBAgACBNIHKO1mJC8SqcmACXEYIECBAgECaQOWdrMQFYlU5MAEuIwQIECBAIE2g8k5W4gKxqhyYAJcRAgQIECCQJlB5JytxgVhVDkyAywgBAgQIEEgTqLyTlbhArCoHJsBlhAABAgQIpAlU3slTUeLuu+++dvLJJ7ezzz673XLLLW3OnDlt//33b4cffnhbffXVlxuMf/3rX+28885rF198cbv66qvbX//617bRRhu1XXfdtR111FHtiU98YihUlQMTAjNEgAABAgSSBCrv5KkocQcddFCbO3du23fffdt2223XLr/88nbOOee0/utnnHHGcmNxzTXXtC222KLtsMMObeedd25PfepT25VXXjmUwV7m+n9/whOeMDpWlQMzGssAAQIECBBIFKi8kye+xPVH0Lbccst2yCGHtFNPPXVJDA477LB22mmntauuuqptvvnmy4zHnXfe2f785z8PRW7p47Of/Wzbb7/92sc//vH23ve+d3S0KgdmNJYBAgQIECCQKFB5J098iTv66KPb8ccf32688ca28cYbL4nBTTfd1DbZZJPhadHjjjtuVDz+/ve/t3XXXbe9/e1vb5/5zGdGzfaTKwdmNJYBAgQIECCQKFB5J098ietPg/ZH226//faHRWD99ddvW221VZs3b96oeFx33XXt2c9+djvyyCPbCSecMGpWiRvNZYAAAQIECKQJKHFptLP/wf2p0jXXXHN4/dpDj6233rotWrRoeNPCmGPvvfdu559/fvvNb34zPFX7SMdtt93W+n+WPq699tq21157DdfUr8FBgAABAgQIrBwBJW7luM/od910001bf8Stv5nhoUd/k8Mdd9zRbrjhhhn9rH7Spz71qXbAAQcMr4Xrr4lb0XHMMce0Y489dpmnKXEr0vP/EyBAgACBXAElLtd3Vj/90Xwk7utf/3rbY4892qtf/er2ta99ra2xxhorvDaPxK2QyAkECBAgQGClCShxK41+xb/xo/WauEsvvbTttttuw0eUfPvb325rrbXWin/z5ZxROTBhNIMECBAgQCBBoPJOnvg3NvR3n/Y3H8zm3ak/+clP2i677DJ8FMkPfvCDts4668wqRpUDMys4wwQIECBA4FEWqLyTJ77E9Xem9negLu9z4hYsWDB8Dlx/g8PChQuHjw7ZYIMNlkTkF7/4RXv5y18+fDxJL3NPetKTZh2fyoGZNZ4fQIAAAQIEHkWByjt54ktcv88HHnhgO+uss4ZvbNh+++3b/Pnzh29s6G9QOPPMM4co3HzzzUNR22effdq55547/Nof//jHoQD+4x//aB/72MeGN0gsffT//YpXvGJ0lCoHZjSWAQIECBAgkChQeSdPRYm7995720knnTR8Xdatt97aNtxww+G7U4844oglb05YVon78Y9/3F760pcuNzo77rhj6+eMPSoHZqyV8wkQIECAQKZA5Z08FSUu8+ZHfnblwES8zBAgQIAAgSyByjtZiQukqnJgAlxGCBAgQIBAmkDlnazEBWJVOTABLiMECBAgQCBNoPJOVuICsaocmACXEQIECBAgkCZQeScrcYFYVQ5MgMsIAQIECBBIE6i8k5W4QKwqBybAZYQAAQIECKQJVN7JSlwgVpUDE+AyQoAAAQIE0gQq72QlLhCryoEJcBkhQIAAAQJpApV3shIXiFXlwAS4jBAgQIAAgTSByjtZiQvEqnJgAlxGCBAgQIBAmkDlnazEBWJVOTABLiMECBAgQCBNoPJOVuICsaocmACXEQIECBAgz3FPCAAAG15JREFUkCZQeScrcYFYVQ5MgMsIAQIECBBIE6i8k5W4QKwqBybAZYQAAQIECKQJVN7JSlwgVpUDE+AyQoAAAQIE0gQq72QlLhCryoEJcBkhQIAAAQJpApV3shIXiFXlwAS4jBAgQIAAgTSByjtZiQvEqnJgAlxGCBAgQIBAmkDlnazEBWJVOTABLiMECBAgQCBNoPJOVuICsaocmACXEQIECBAgkCZQeScrcYFYVQ5MgMsIAQIECBBIE6i8k5W4QKwqBybAZYQAAQIECKQJVN7JSlwgVpUDE+AyQoAAAQIE0gQq72QlLhCryoEJcBkhQIAAAQJpApV3shIXiFXlwAS4jBAgQIAAgTSByjtZiQvEqnJgAlxGCBAgQIBAmkDlnazEBWJVOTABLiMECBAgQCBNoPJOVuICsaocmACXEQIECBAgkCZQeScrcYFYVQ5MgMsIAQIECBBIE6i8k5W4QKwqBybAZYQAAQIECKQJVN7JSlwgVpUDE+AyQoAAAQIE0gQq72QlLhCryoEJcBkhQIAAAQJpApV3shIXiFXlwAS4jBAgQIAAgTSByjtZiQvEqnJgAlxGCBAgQIBAmkDlnazEBWJVOTABLiMECBAgQCBNoPJOVuICsaocmACXEQIECBAgkCZQeScrcYFYVQ5MgMsIAQIECBBIE6i8k5W4QKwqBybAZYQAAQIECKQJVN7JSlwgVpUDE+AyQoAAAQIE0gQq72QlLhCryoEJcBkhQIAAAQJpApV3shIXiFXlwAS4jBAgQIAAgTSByjtZiQvEqnJgAlxGCBAgQIBAmkDlnazEBWJVOTABLiMECBAgQCBNoPJOVuICsaocmACXEQIECBAgkCZQeScrcYFYVQ5MgMsIAQIECBBIE6i8k5W4QKwqBybAZYQAAQIECKQJVN7JSlwgVpUDE+AyQoAAAQIE0gQq72QlLhCryoEJcBkhQIAAAQJpApV3shIXiFXlwAS4jBAgQIAAgTSByjtZiQvEqnJgAlxGCBAgQIBAmkDlnazEBWJVOTABLiMECBAgQCBNoPJOVuICsaocmACXEQIECBAgkCZQeScrcYFYVQ5MgMsIAQIECBBIE6i8k5W4QKwqBybAZYQAAQIECKQJVN7JSlwgVpUDE+AyQoAAAQIE0gQq72QlLhCryoEJcBkhQIAAAQJpApV3shIXiFXlwAS4jBAgQIAAgTSByjtZiQvEqnJgAlxGCBAgQIBAmkDlnazEBWJVOTABLiMECBAgQCBNoPJOVuICsaocmACXEQIECBAgkCZQeScrcYFYVQ5MgMsIAQIECBBIE6i8k5W4QKwqBybAZYQAAQIECKQJVN7JSlwgVpUDE+AyQoAAAQIE0gQq72QlLhCryoEJcBkhQIAAAQJpApV3shIXiFXlwAS4jBAgQIAAgTSByjtZiQvEqnJgAlxGCBAgQIBAmkDlnazEBWJVOTABLiMECBAgQCBNoPJOVuICsaocmACXEQIECBAgkCZQeScrcYFYVQ5MgMsIAQIECBBIE6i8k5W4QKwqBybAZYQAAQIECKQJVN7JSlwgVpUDE+AyQoAAAQIE0gQq72QlLhCryoEJcBkhQIAAAQJpApV3shIXiFXlwAS4jBAgQIAAgTSByjtZiQvEqnJgAlxGCBAgQIBAmkDlnazEBWJVOTABLiMECBAgQCBNoPJOVuICsaocmACXEQIECBAgkCZQeScrcYFYVQ5MgMsIAQIECBBIE6i8k5W4QKwqBybAZYQAAQIECKQJVN7JSlwgVpUDE+AyQoAAAQIE0gQq72QlLhCryoEJcBkhQIAAAQJpApV3shIXiFXlwAS4jBAgQIAAgTSByjtZiQvEqnJgAlxGCBAgQIBAmkDlnazEBWJVOTABLiMECBAgQCBNoPJOVuICsaocmACXEQIECBAgkCZQeScrcYFYVQ5MgMsIAQIECBBIE6i8k5W4QKwqBybAZYQAAQIECKQJVN7JSlwgVpUDE+AyQoAAAQIE0gQq72QlLhCryoEJcBkhQIAAAQJpApV3shIXiFXlwAS4jBAgQIAAgTSByjtZiQvEqnJgAlxGCBAgQIBAmkDlnazEBWJVOTABLiMECBAgQCBNoPJOVuICsaocmACXEQIECBAgkCZQeScrcYFYVQ5MgMsIAQIECBBIE6i8k5W4QKwqBybAZYQAAQIECKQJVN7JSlwgVpUDE+AyQoAAAQIE0gQq72QlLhCryoEJcBkhQIAAAQJpApV3shIXiFXlwAS4jBAgQIAAgTSByjtZiQvEqnJgAlxGCBAgQIBAmkDlnazEBWJVOTABLiMECBAgQCBNoPJOVuICsaocmACXEQIECBAgkCZQeScrcYFYVQ5MgMsIAQIECBBIE6i8k5W4QKwqBybAZYQAAQIECKQJVN7JSlwgVpUDE+AyQoAAAQIE0gQq72QlLhCryoEJcBkhQIAAAQJpApV3shIXiFXlwAS4jBAgQIAAgTSByjtZiQvEqnJgAlxGCBAgQIBAmkDlnazEBWJVOTABLiMECBAgQCBNoPJOVuICsaocmACXEQIECBAgkCZQeScrcYFYVQ5MgMsIAQIECBBIE6i8k5W4QKwqBybAZYQAAQIECKQJVN7JSlwgVpUDE+AyQoAAAQIE0gQq72QlLhCryoEJcBkhQIAAAQJpApV3shIXiFXlwAS4jBAgQIAAgTSByjtZiQvEqnJgAlxGCBAgQIBAmkDlnazEBWJVOTABLiMECBAgQCBNoPJOVuICsaocmACXEQIECBAgkCZQeScrcYFYVQ5MgMsIAQIECBBIE6i8k5W4QKwqBybAZYQAAQIECKQJVN7JSlwgVpUDE+AyQoAAAQIE0gQq72QlLhCryoEJcBkhQIAAAQJpApV3shIXiFXlwAS4jBAgQIAAgTSByjtZiQvEqnJgAlxGCBAgQIBAmkDlnTwVJe6+++5rJ598cjv77LPbLbfc0ubMmdP233//dvjhh7fVV199hcG45ppr2hFHHNEuu+yy4dwXv/jF7aSTTmrPe97zVji7rBMqByYEZogAAQIECCQJVN7JU1HiDjrooDZ37ty27777tu22265dfvnl7Zxzzmn9188444xHjMX111/fXvjCF7YnP/nJ7ZBDDhnO/cQnPtHuvvvu9stf/rJtttlmo2NVOTCjsQwQIECAAIFEgco7eeJL3NVXX9223HLLoYCdeuqpS2Jw2GGHtdNOO61dddVVbfPNN19uPPbYY482b968du211w6P4PWjP5r3nOc8p+2yyy7toosuGh2tyoEZjWWAAAECBAgkClTeyRNf4o4++uh2/PHHtxtvvLFtvPHGS2Jw0003tU022aQdddRR7bjjjltmPO655572lKc8pb3pTW9qn/vc5x50zj777NMuvPDCduedd7Z11llnVLwqB2YUlJMJECBAgECyQOWdPPElbueddx4ebbv99tsfFoP111+/bbXVVsMjbcs6rrjiiuHp1/5U7IEHHvigU/qv9adj+znbbrvtqIhVDswoKCcTIECAAIFkgco7eeJLXH+qdM0112xXXnnlw2Kw9dZbt0WLFrX+lOuyjq9+9autP5168cUXt9e85jUPOqX/2u67796+8pWvtNe//vXLjdhtt93W+n+WPhYsWND222+/dv755w9PyzoIECBAgACBlSPQXy611157DW9e3H777VfORayk33XiS9ymm27a+iNu/c0MDz36o2x33HFHu+GGG5bJ9/nPf77tvffe7bvf/W575Stf+aBzLr300tYf5evn9Ju/vOOYY45pxx577Eq6PX5bAgQIECBAYCYC/XXyBx988ExOXWXOmfgSN4mPxP3iF78Ynor9zGc+0/7nf/5nlQnDNP2DLP6bl0dDV95dcw9Wnv3i39k9cA9WvsDKv4LFz459//vfbzvttNPKv6D/wyuY+BLnNXH/h2mYot+q8msgJuU2uQcr/064B+7ByhdY+VdQ+c/BxJe4/u7TE044IeXdqV/60pfaX//6V+9OXfl/BkdfQeU/tKOxkgbcgyTYET/WPRiBlXSqe5AEO+LHVr4HE1/i+jtT+ztQl/c5cf1h1C222GJ4g8PChQvbuuuu2zbYYIMlt7+/aaG/Ju4Pf/hD23DDDYdfX/w5cf1Rvv7mh7FH5cCMtco63z3Ikp35z3UPZm6VdaZ7kCU785/rHszcKuvMyvdg4ktcv+n940HOOuus4Rsb+jtP5s+fP3xjwwEHHNDOPPPMIRc333zz8Dly/fPfzj333CVZue6669o222wzfF7coYceOvx6/8aG/ghc/8aGZz3rWaNzVTkwo7GSBtyDJNgRP9Y9GIGVdKp7kAQ74se6ByOwkk6tfA+mosTde++9w3ed9u9OvfXWW4dH1Pp3p/bvQ11jjTUescT1//O3v/3tcG4vf/3o35164oknDo/gRY7+kSO9VPYSufSjfpGfZSYm4B7E3B7NKffg0dSM/Sz3IOb2aE65B4+mZuxnVb4HU1HiYrfVFAECBAgQIEBg1RVQ4lbde+ufjAABAgQIEFiFBZS4Vfjm+kcjQIAAAQIEVl0BJW7Vvbf+yQgQIECAAIFVWECJW4Vvrn80AgQIECBAYNUVUOJW3Xvrn4wAAQIECBBYhQWUuKVu7n333ddOPvnk4aNM+gcCz5kzZ/gok8MPP7ytvvrqK4zBNddcM3yUyWWXXTac2z/KpH80yvOe97wVzjqhtaj/v/71r3beeee1iy++uF199dXDZwButNFGbdddd239Gz+e+MQn4p2hQPQeLOvH77jjju2nP/1p23PPPVv/jlvHzAQejXvQv43m9NNPHz5e6YEHHmibbrppe9e73jV8LJJjxQKzvQdf+MIXWv8y9v45pd3/Gc94RnvnO9857JPHPOYxK74AZ7R77rmnnXLKKe3KK69sv/71r9vtt9/+sM+BXRFThZ2sxC2Vgv6l9nPnzh0+VHi77bZrl19++fChwv3XzzjjjEfMy/XXX99e+MIXtic/+cnDt0v0o3+o8N133z18qPBmm222oryV//+j/v0Pav/Mvx122KH1b+F46lOfOvzB72W8l7n+35/whCeU950JQPQePPRn91Ldf9Y///lPJW4m8I/Sv4f6j3nve9/bTj311PbGN76x9SLdS0T/99Naa63Vjj/++JFXU/P02fw5OO6449qHPvSh4d9Fu+222+DfvxnoRz/6UXvf+943FBPHigUWf4B//yzW5z//+e2SSy4ZVeKq7GQl7r9Z6o/gbLnllsv9eq/+9V+bb775cpO3xx57tHnz5rVrr712eASvH4u/3muXXXZpF1100YpTW/iM2fjfeeed7c9//vPDPrz5s5/9bNtvv/3axz/+8WGxOR5ZYDb3YOmf3P/i0r8J5T3veU/74Ac/qMSNCN5s78G3vvWt4RHoCy64oL35zW8e8Ts7dbHAbO9B/0vk05/+9OEv76utttrwY++///629dZbD98s1P98OFYs8O9//7v1f7c/7WlPa/0D/x/72MeOKnFVdrIS998sHX300cPfUm+88cbh67sWHzfddFPbZJNNhqfl+t+wlnX0h33713q96U1vap/73OcedEr/GrALL7xwCOM666yz4uQWPWM2/ssj+/vf/z58l+7b3/729pnPfKao7Mz/sR+te/Dud7+7fe9732v9EdLHPe5xStzMb0Gb7T14yUte0vrLC/rTT/0RoP7vpsc//vEjrsCps70Ha6+9dttpp52GR46WPvojc70g9r9wOsYJjC1xlXayEvffLPU/YP3Rtv68+0OP9ddfv2211VbDI23LOq644orh6df+VGz/ntelj/5r/aH5fs622247LrmFzp6N//KY+utRnv3sZ7cjjzyynXDCCYU0Y/+oj8Y96E9d9+8q7gusPwLdH4nwmriZ34/Z3IO+uPpfWvpr39Zbb73h5Rx33XVXe9KTnjQ8It3/ktofzXA8ssBs7kH/yf2R0O985zvD06a77777UKb7MzG9HPbXKfb74xgnMLbEVdrJStx/s9SfKl1zzTWH10899OgPgy9atGj4W9Syjv56h/7QbX9h/Wte85oHndJ/rf9B/spXvtJe//rXj0tuobNn4788pr333nt4Qf1vfvOb4alyxyMLzPYe9KeM+l9U+mtYvvGNbwy/mRI3LnWzuQcLFiwY/rLZC1y/Fx/+8IeH75n+4he/2L72ta8p0zO8FbO5B/236A8EvPWtb23f//73l/yO/fWIn/70p9tee+01w6tw2tICY0tcpZ2sxP03Kf3dW/0Rt/5mhoce/VG2O+64o91www3L/JP1+c9/vvXC8N3vfre98pWvfNA5l1566fAC136OP8DL/xfTbPyX9VM/9alPDe/E66+F66+Jc6xYYLb34MwzzxxeB/f73/9+yUsSlLgVuy99xmzuQX9XfH9zTz/6u4IX//f+v/vTez/84Q/b7373u/bc5z533EUVO3s296BT9Uc/P/CBD7T//Oc/7dWvfvXwAEB/o0/374W6/4XfMU5gbImrtJOVuP9maTZ/+6rU+sf90Zv52bPxf+jv8vWvf334F2X/F2h/BGKNNdaY+YUUPnM29+Avf/nL8GaGgw8+uH30ox9doqjEjQvUbO5BfxbhBS94wfCO7P5a3qWPc889d3jX/Sc/+UlP563glszmHvSPJukvJ+hF8Mtf/vKS36k/pdo/cqq/xKO/4a2/bs4xc4GxJa7STlbi/puj2bwOotLz7zP/YzfuzNn4L/079Uc++9v6+6On3/72t4ePVXDMTGA296B/rE5/R+SPf/zjBy2o/tE6/eUE/fVB/Wk+n9n3yPdiNvegP43Xn8p+0Yte1H7+858/6Dfqr+ftr1Hsb87qb9JyLF9gNvegf4zIy172suHNbP0jXpY++jMC73//+9uvfvWroWw7Zi4wtsRV2slK3H9z1P/F1l/8nvHu1P7Bm/0DaL07dfl/aGfjv/in/uQnPxkWVf+b9A9+8APeM/935HDmbO7Ba1/72iWvg1veb9s/SLsvMUfen4OlP95o6d+lf2biO97xjuF1Wf0DZx0596A/XfqWt7xlmR/xcuKJJw5vsvImt/HpG1viVvTu1FVpJytx/81Tf2dqf1Fwf0Shf1Dm4uOwww4bPnm7v2i4f6Bsf33DwoULh3eB9b/1Lj76mxb6a+L+8Ic/DC8m7sfiz4nrf7PrD+86li8wW/9f/OIX7eUvf/nwWqxe5vo78hzjBGZzD/pi+tOf/vSw3/ANb3jD8NqsQw89dPjz88xnPnPcRRU7ezb3oFP112L1b4n55je/ObxLsh/9Kb7+yHR/urW/rrc/3erI+XdRfxNVfyPcq171quEdqouPXkL6o2/96dT+0gN/oR+XwEcqcdV3shK3VJb6x4OcddZZw2tHtt9++zZ//vzhGxv6C+T7i7b7sfhTpPvnv/XXmSw++h/O/lqI/nlxfWH1o7/Fvz8C1z/0sb9eyPHIAlH/P/7xj0MB/8c//tE+9rGPDW9QWfro//sVr3gF/hkIRO/B8n6018TNAP0hp8zmHvQX1feycNttt7X+F9D+Qan9tVk/+9nPfNTOiFsxm3vQy3P/0OX+bRmve93rhg+qXfwu+Y985CPtmGOOGXEltU/tH8nSPxy5v9u62/V/z3fTfvSXzfS/GFbfyUrcUn9G+h+2/rfY/tTDrbfeOjyi1p966N+HuvjF8csLTP8x/XsK+7m9/PWjv5C1P4Teg+ZYsUDUv78O66Uvfelyf4P+L9N+jmPFAtF7oMSt2HamZ8z2HvQC178po78m9G9/+9vwvZ39DSc+n2ymd6ANxSu6C/o3DfQ3kPR3pPaX5/R3qfZ3BHd/T2XP/B70M/ujxv0v6cs6+gMsb3vb25Zb4qrsZCVuXKacTYAAAQIECBCYCAElbiJug4sgQIAAAQIECIwTUOLGeTmbAAECBAgQIDARAkrcRNwGF0GAAAECBAgQGCegxI3zcjYBAgQIECBAYCIElLiJuA0uggABAgQIECAwTkCJG+flbAIECBAgQIDARAgocRNxG1wEAQIECBAgQGCcgBI3zsvZBAgQIECAAIGJEFDiJuI2uAgCBAgQIECAwDgBJW6cl7MJECBAgAABAhMhoMRNxG1wEQQIECBAgACBcQJK3DgvZxMgQIAAAQIEJkJAiZuI2+AiCBAgQIAAAQLjBJS4cV7OJkCAAAECBAhMhIASNxG3wUUQIECAAAECBMYJKHHjvJxNgAABAgQIEJgIASVuIm6DiyBAgAABAgQIjBNQ4sZ5OZsAAQIECBAgMBECStxE3AYXQYAAAQIECBAYJ6DEjfNyNgECBAgQIEBgIgSUuIm4DS6CAAECBAgQIDBOQIkb5+VsAgQIECBAgMBECChxE3EbXAQBAgQIECBAYJyAEjfOy9kECBAgQIAAgYkQUOIm4ja4CAIECBAgQIDAOAElbpyXswkQIECAAAECEyGgxE3EbXARBAgQIECAAIFxAkrcOC9nEyBAgAABAgQmQkCJm4jb4CIIECBAgAABAuMElLhxXs4mQIAAAQIECEyEgBI3EbfBRRAgQIAAAQIExgkoceO8nE2AAAECBAgQmAgBJW4iboOLIECAAAECBAiME1Dixnk5mwABAgQIECAwEQJK3ETcBhdBgAABAgQIEBgnoMSN83I2AQIECBAgQGAiBJS4ibgNLoIAAQIECBAgME5AiRvn5WwCBAgQIECAwEQIKHETcRtcBAECBAgQIEBgnIASN87L2QQIECBAgACBiRBQ4ibiNrgIAgQIECBAgMA4ASVunJezCRAgQIAAAQITIaDETcRtcBEECBAgQIAAgXECStw4L2cTIECAAAECBCZCQImbiNvgIggQIECAAAEC4wSUuHFeziZAgAABAgQITISAEjcRt8FFECBAgAABAgTGCShx47ycTYAAAQIECBCYCAElbiJug4sgQIAAAQIECIwTUOLGeTmbAAECBAgQIDARAkrcRNwGF0GAAAECBAgQGCegxI3zcjYBAgQIECBAYCIElLiJuA0uggABAgQIECAwTkCJG+flbAIECBAgQIDARAgocRNxG1wEAQIECBAgQGCcgBI3zsvZBAgQIECAAIGJEFDiJuI2uAgCBAgQIECAwDgBJW6cl7MJECBAgAABAhMhoMRNxG1wEQQIECBAgACBcQJK3DgvZxMgQIAAAQIEJkJAiZuI2+AiCBAgQIAAAQLjBJS4cV7OJkCAAAECBAhMhIASNxG3wUUQIECAAAECBMYJKHHjvJxNgAABAgQIEJgIASVuIm6DiyBAgAABAgQIjBNQ4sZ5OZsAAQIECBAgMBECStxE3AYXQYAAAQIECBAYJ6DEjfNyNgECBAgQIEBgIgSUuIm4DS6CAAECBAgQIDBO4P8DPLYNRO+3JtIAAAAASUVORK5CYII=\" width=\"500\">"
      ],
      "text/plain": [
       "<IPython.core.display.HTML object>"
      ]
     },
     "metadata": {},
     "output_type": "display_data"
    }
   ],
   "source": [
    "inverse = create_inverse_button()"
   ]
  },
  {
   "cell_type": "code",
   "execution_count": 21,
   "metadata": {},
   "outputs": [
    {
     "name": "stdout",
     "output_type": "stream",
     "text": [
      "rm: ./testTrainingData/.DS_Store: No such file or directory\r\n"
     ]
    }
   ],
   "source": [
    "! rm ./testTrainingData/.DS_Store"
   ]
  },
  {
   "cell_type": "code",
   "execution_count": null,
   "metadata": {},
   "outputs": [],
   "source": []
  },
  {
   "cell_type": "code",
   "execution_count": null,
   "metadata": {},
   "outputs": [],
   "source": []
  }
 ],
 "metadata": {
  "kernelspec": {
   "display_name": "Python 3",
   "language": "python",
   "name": "python3"
  },
  "language_info": {
   "codemirror_mode": {
    "name": "ipython",
    "version": 3
   },
   "file_extension": ".py",
   "mimetype": "text/x-python",
   "name": "python",
   "nbconvert_exporter": "python",
   "pygments_lexer": "ipython3",
   "version": "3.7.9"
  }
 },
 "nbformat": 4,
 "nbformat_minor": 1
}
