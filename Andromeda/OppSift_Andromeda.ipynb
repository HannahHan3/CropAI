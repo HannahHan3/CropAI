{
 "cells": [
  {
   "cell_type": "markdown",
   "metadata": {},
   "source": [
    "# Andromeda in Jupyter\n",
    "\n",
    "### Interactive Inverse Dimension Reduction \n",
    "\n",
    "This notebook implements interactive dimension reduction (DR) for exploratory analysis of high-dimensional data.\n",
    "It uses a Multi-Dimensional Scaling (MDS) algorithm with a weighted distance metric. It enables both forward and inverse DR interaction. \n",
    "\n",
    "**MDS** projects high-dimensional data to a 2D scatterplot. A **weighted distance function** with user-specified weights on each dimension enables alternative projections that emphasize different dimensions. An **Inverse-DR** algorithm learns distance function weights for  user-constructed layouts of the data points.\n",
    "\n",
    "### Instructions:\n",
    "\n",
    "1. Run All\n",
    "1. Proceed to the interactive plots near the bottom\n",
    "1. There are three kinds of interactions:\n",
    "    1. Select points in the DR plot and click Details to see data values.\n",
    "    1. **Parametric interaction:** Adjust the weight sliders and click Apply to alter the projection plot.\n",
    "    1. **Projection interaction:** Drag points in the projection plot, then click Learn to see learned weights, and click Copy to see the updated projection plot.\n",
    "1. Be patient, its interactive matplotlib in python and Jupyter!\n",
    "\n",
    "### Credits:\n",
    "\n",
    "Authors: Han Liu and Chris North, Dept of Computer Science, Virginia Tech.\n",
    "\n",
    "Based on: *Self JZ, Dowling M, Wenskovitch J, Crandell I, Wang M, House L, Leman S, North C. Observation-Level and Parametric Interaction for High-Dimensional Data Analysis. ACM Transactions on Interactive Intelligent Systems.  8(2), 2018.* https://infovis.cs.vt.edu/sites/default/files/observation-level-parametric_first_look_version.pdf\n"
   ]
  },
  {
   "cell_type": "code",
   "execution_count": 1,
   "metadata": {},
   "outputs": [],
   "source": [
    "%matplotlib notebook\n",
    "# interactive notebook format is required for the interactive plot\n",
    "\n",
    "import numpy as np\n",
    "import pandas as pd\n",
    "import math\n",
    "import random\n",
    "\n",
    "from sklearn.decomposition import PCA\n",
    "from sklearn.manifold import MDS\n",
    "import sklearn.metrics.pairwise\n",
    "\n",
    "import matplotlib\n",
    "import matplotlib.pyplot as plt\n",
    "import ipywidgets as widgets\n",
    "from IPython.display import display"
   ]
  },
  {
   "cell_type": "markdown",
   "metadata": {},
   "source": [
    "# Load and Pre-process Data\n",
    "\n",
    "Change the **filename** to load a dataset.  CSV data file is expected to have a first column 'Name' that is used as the index, and header row of column names.  Numeric columns are used for projection."
   ]
  },
  {
   "cell_type": "code",
   "execution_count": 2,
   "metadata": {},
   "outputs": [
    {
     "name": "stdout",
     "output_type": "stream",
     "text": [
      "ColorHist_Andromeda.ipynb OppSift_Andromeda.ipynb\r\n",
      "DNN_Andromeda.ipynb       Sift_Andromeda.ipynb\r\n"
     ]
    }
   ],
   "source": [
    "! ls "
   ]
  },
  {
   "cell_type": "code",
   "execution_count": 3,
   "metadata": {},
   "outputs": [],
   "source": [
    "# filename = 'Animal_Data_Andromeda.csv'\n",
    "#filename = 'InfoVis_Fall_2015_Survey.csv'\n",
    "filename = '../csvFiles/color_SiftFeatures.csv'\n",
    "df = pd.read_csv(filename)\n",
    "df['Image'] = df['Image'].apply(lambda x: x.split('_')[2]+ x.split('_')[-2]+x.split('_')[-1])"
   ]
  },
  {
   "cell_type": "code",
   "execution_count": 4,
   "metadata": {},
   "outputs": [
    {
     "data": {
      "text/plain": [
       "(40, 513)"
      ]
     },
     "metadata": {},
     "output_type": "display_data"
    },
    {
     "data": {
      "text/html": [
       "<div>\n",
       "<style scoped>\n",
       "    .dataframe tbody tr th:only-of-type {\n",
       "        vertical-align: middle;\n",
       "    }\n",
       "\n",
       "    .dataframe tbody tr th {\n",
       "        vertical-align: top;\n",
       "    }\n",
       "\n",
       "    .dataframe thead th {\n",
       "        text-align: right;\n",
       "    }\n",
       "</style>\n",
       "<table border=\"1\" class=\"dataframe\">\n",
       "  <thead>\n",
       "    <tr style=\"text-align: right;\">\n",
       "      <th></th>\n",
       "      <th>Image</th>\n",
       "      <th>1</th>\n",
       "      <th>2</th>\n",
       "      <th>3</th>\n",
       "      <th>4</th>\n",
       "      <th>5</th>\n",
       "      <th>6</th>\n",
       "      <th>7</th>\n",
       "      <th>8</th>\n",
       "      <th>9</th>\n",
       "      <th>...</th>\n",
       "      <th>503</th>\n",
       "      <th>504</th>\n",
       "      <th>505</th>\n",
       "      <th>506</th>\n",
       "      <th>507</th>\n",
       "      <th>508</th>\n",
       "      <th>509</th>\n",
       "      <th>510</th>\n",
       "      <th>511</th>\n",
       "      <th>512</th>\n",
       "    </tr>\n",
       "  </thead>\n",
       "  <tbody>\n",
       "    <tr>\n",
       "      <th>0</th>\n",
       "      <td>1793ready73</td>\n",
       "      <td>0.005190</td>\n",
       "      <td>0.001730</td>\n",
       "      <td>0.002307</td>\n",
       "      <td>0.001153</td>\n",
       "      <td>0.001153</td>\n",
       "      <td>0.001153</td>\n",
       "      <td>0.002307</td>\n",
       "      <td>0.002307</td>\n",
       "      <td>0.003460</td>\n",
       "      <td>...</td>\n",
       "      <td>0.001730</td>\n",
       "      <td>0.000577</td>\n",
       "      <td>0.002884</td>\n",
       "      <td>0.000577</td>\n",
       "      <td>0.000577</td>\n",
       "      <td>0.001153</td>\n",
       "      <td>0.000577</td>\n",
       "      <td>0.005190</td>\n",
       "      <td>0.003460</td>\n",
       "      <td>0.001730</td>\n",
       "    </tr>\n",
       "    <tr>\n",
       "      <th>1</th>\n",
       "      <td>1793ready77</td>\n",
       "      <td>0.000597</td>\n",
       "      <td>0.006567</td>\n",
       "      <td>0.000597</td>\n",
       "      <td>0.000597</td>\n",
       "      <td>0.001194</td>\n",
       "      <td>0.001194</td>\n",
       "      <td>0.000597</td>\n",
       "      <td>0.002388</td>\n",
       "      <td>0.000597</td>\n",
       "      <td>...</td>\n",
       "      <td>0.001194</td>\n",
       "      <td>0.000000</td>\n",
       "      <td>0.005970</td>\n",
       "      <td>0.004179</td>\n",
       "      <td>0.002388</td>\n",
       "      <td>0.001194</td>\n",
       "      <td>0.001194</td>\n",
       "      <td>0.006567</td>\n",
       "      <td>0.001791</td>\n",
       "      <td>0.001791</td>\n",
       "    </tr>\n",
       "    <tr>\n",
       "      <th>2</th>\n",
       "      <td>1793ready88</td>\n",
       "      <td>0.000582</td>\n",
       "      <td>0.010477</td>\n",
       "      <td>0.001746</td>\n",
       "      <td>0.001164</td>\n",
       "      <td>0.000582</td>\n",
       "      <td>0.001746</td>\n",
       "      <td>0.001164</td>\n",
       "      <td>0.002328</td>\n",
       "      <td>0.001164</td>\n",
       "      <td>...</td>\n",
       "      <td>0.001164</td>\n",
       "      <td>0.001164</td>\n",
       "      <td>0.004657</td>\n",
       "      <td>0.002910</td>\n",
       "      <td>0.000000</td>\n",
       "      <td>0.002910</td>\n",
       "      <td>0.000000</td>\n",
       "      <td>0.008731</td>\n",
       "      <td>0.003492</td>\n",
       "      <td>0.001746</td>\n",
       "    </tr>\n",
       "    <tr>\n",
       "      <th>3</th>\n",
       "      <td>1793ready89</td>\n",
       "      <td>0.009323</td>\n",
       "      <td>0.001865</td>\n",
       "      <td>0.001865</td>\n",
       "      <td>0.001243</td>\n",
       "      <td>0.003108</td>\n",
       "      <td>0.000622</td>\n",
       "      <td>0.002486</td>\n",
       "      <td>0.003108</td>\n",
       "      <td>0.002486</td>\n",
       "      <td>...</td>\n",
       "      <td>0.000622</td>\n",
       "      <td>0.000622</td>\n",
       "      <td>0.006215</td>\n",
       "      <td>0.000000</td>\n",
       "      <td>0.000622</td>\n",
       "      <td>0.001243</td>\n",
       "      <td>0.000622</td>\n",
       "      <td>0.001865</td>\n",
       "      <td>0.004972</td>\n",
       "      <td>0.001865</td>\n",
       "    </tr>\n",
       "    <tr>\n",
       "      <th>4</th>\n",
       "      <td>1793ready76</td>\n",
       "      <td>0.000531</td>\n",
       "      <td>0.003186</td>\n",
       "      <td>0.003186</td>\n",
       "      <td>0.001593</td>\n",
       "      <td>0.002124</td>\n",
       "      <td>0.001062</td>\n",
       "      <td>0.002124</td>\n",
       "      <td>0.001593</td>\n",
       "      <td>0.002124</td>\n",
       "      <td>...</td>\n",
       "      <td>0.004249</td>\n",
       "      <td>0.001062</td>\n",
       "      <td>0.004249</td>\n",
       "      <td>0.000000</td>\n",
       "      <td>0.002655</td>\n",
       "      <td>0.000531</td>\n",
       "      <td>0.002655</td>\n",
       "      <td>0.002124</td>\n",
       "      <td>0.006373</td>\n",
       "      <td>0.002124</td>\n",
       "    </tr>\n",
       "  </tbody>\n",
       "</table>\n",
       "<p>5 rows × 513 columns</p>\n",
       "</div>"
      ],
      "text/plain": [
       "         Image         1         2         3         4         5         6  \\\n",
       "0  1793ready73  0.005190  0.001730  0.002307  0.001153  0.001153  0.001153   \n",
       "1  1793ready77  0.000597  0.006567  0.000597  0.000597  0.001194  0.001194   \n",
       "2  1793ready88  0.000582  0.010477  0.001746  0.001164  0.000582  0.001746   \n",
       "3  1793ready89  0.009323  0.001865  0.001865  0.001243  0.003108  0.000622   \n",
       "4  1793ready76  0.000531  0.003186  0.003186  0.001593  0.002124  0.001062   \n",
       "\n",
       "          7         8         9  ...       503       504       505       506  \\\n",
       "0  0.002307  0.002307  0.003460  ...  0.001730  0.000577  0.002884  0.000577   \n",
       "1  0.000597  0.002388  0.000597  ...  0.001194  0.000000  0.005970  0.004179   \n",
       "2  0.001164  0.002328  0.001164  ...  0.001164  0.001164  0.004657  0.002910   \n",
       "3  0.002486  0.003108  0.002486  ...  0.000622  0.000622  0.006215  0.000000   \n",
       "4  0.002124  0.001593  0.002124  ...  0.004249  0.001062  0.004249  0.000000   \n",
       "\n",
       "        507       508       509       510       511       512  \n",
       "0  0.000577  0.001153  0.000577  0.005190  0.003460  0.001730  \n",
       "1  0.002388  0.001194  0.001194  0.006567  0.001791  0.001791  \n",
       "2  0.000000  0.002910  0.000000  0.008731  0.003492  0.001746  \n",
       "3  0.000622  0.001243  0.000622  0.001865  0.004972  0.001865  \n",
       "4  0.002655  0.000531  0.002655  0.002124  0.006373  0.002124  \n",
       "\n",
       "[5 rows x 513 columns]"
      ]
     },
     "execution_count": 4,
     "metadata": {},
     "output_type": "execute_result"
    }
   ],
   "source": [
    "display(df.shape)\n",
    "df.head(5)"
   ]
  },
  {
   "cell_type": "code",
   "execution_count": 5,
   "metadata": {},
   "outputs": [
    {
     "name": "stdout",
     "output_type": "stream",
     "text": [
      "Data size (r,c) = (40, 512)\n"
     ]
    },
    {
     "data": {
      "text/html": [
       "<div>\n",
       "<style scoped>\n",
       "    .dataframe tbody tr th:only-of-type {\n",
       "        vertical-align: middle;\n",
       "    }\n",
       "\n",
       "    .dataframe tbody tr th {\n",
       "        vertical-align: top;\n",
       "    }\n",
       "\n",
       "    .dataframe thead th {\n",
       "        text-align: right;\n",
       "    }\n",
       "</style>\n",
       "<table border=\"1\" class=\"dataframe\">\n",
       "  <thead>\n",
       "    <tr style=\"text-align: right;\">\n",
       "      <th></th>\n",
       "      <th>1</th>\n",
       "      <th>2</th>\n",
       "      <th>3</th>\n",
       "      <th>4</th>\n",
       "      <th>5</th>\n",
       "      <th>6</th>\n",
       "      <th>7</th>\n",
       "      <th>8</th>\n",
       "      <th>9</th>\n",
       "      <th>10</th>\n",
       "      <th>...</th>\n",
       "      <th>503</th>\n",
       "      <th>504</th>\n",
       "      <th>505</th>\n",
       "      <th>506</th>\n",
       "      <th>507</th>\n",
       "      <th>508</th>\n",
       "      <th>509</th>\n",
       "      <th>510</th>\n",
       "      <th>511</th>\n",
       "      <th>512</th>\n",
       "    </tr>\n",
       "    <tr>\n",
       "      <th>Image</th>\n",
       "      <th></th>\n",
       "      <th></th>\n",
       "      <th></th>\n",
       "      <th></th>\n",
       "      <th></th>\n",
       "      <th></th>\n",
       "      <th></th>\n",
       "      <th></th>\n",
       "      <th></th>\n",
       "      <th></th>\n",
       "      <th></th>\n",
       "      <th></th>\n",
       "      <th></th>\n",
       "      <th></th>\n",
       "      <th></th>\n",
       "      <th></th>\n",
       "      <th></th>\n",
       "      <th></th>\n",
       "      <th></th>\n",
       "      <th></th>\n",
       "      <th></th>\n",
       "    </tr>\n",
       "  </thead>\n",
       "  <tbody>\n",
       "    <tr>\n",
       "      <th>1793ready73</th>\n",
       "      <td>0.005190</td>\n",
       "      <td>0.001730</td>\n",
       "      <td>0.002307</td>\n",
       "      <td>0.001153</td>\n",
       "      <td>0.001153</td>\n",
       "      <td>0.001153</td>\n",
       "      <td>0.002307</td>\n",
       "      <td>0.002307</td>\n",
       "      <td>0.003460</td>\n",
       "      <td>0.005767</td>\n",
       "      <td>...</td>\n",
       "      <td>0.001730</td>\n",
       "      <td>0.000577</td>\n",
       "      <td>0.002884</td>\n",
       "      <td>0.000577</td>\n",
       "      <td>0.000577</td>\n",
       "      <td>0.001153</td>\n",
       "      <td>0.000577</td>\n",
       "      <td>0.005190</td>\n",
       "      <td>0.003460</td>\n",
       "      <td>0.001730</td>\n",
       "    </tr>\n",
       "    <tr>\n",
       "      <th>1793ready74</th>\n",
       "      <td>0.003217</td>\n",
       "      <td>0.000536</td>\n",
       "      <td>0.001609</td>\n",
       "      <td>0.001609</td>\n",
       "      <td>0.004290</td>\n",
       "      <td>0.001609</td>\n",
       "      <td>0.001609</td>\n",
       "      <td>0.000000</td>\n",
       "      <td>0.002681</td>\n",
       "      <td>0.001609</td>\n",
       "      <td>...</td>\n",
       "      <td>0.001609</td>\n",
       "      <td>0.000000</td>\n",
       "      <td>0.003217</td>\n",
       "      <td>0.000536</td>\n",
       "      <td>0.001609</td>\n",
       "      <td>0.000536</td>\n",
       "      <td>0.000536</td>\n",
       "      <td>0.002145</td>\n",
       "      <td>0.005898</td>\n",
       "      <td>0.001072</td>\n",
       "    </tr>\n",
       "    <tr>\n",
       "      <th>1793ready75</th>\n",
       "      <td>0.001233</td>\n",
       "      <td>0.006782</td>\n",
       "      <td>0.001233</td>\n",
       "      <td>0.003083</td>\n",
       "      <td>0.001850</td>\n",
       "      <td>0.000000</td>\n",
       "      <td>0.000617</td>\n",
       "      <td>0.003699</td>\n",
       "      <td>0.000000</td>\n",
       "      <td>0.000617</td>\n",
       "      <td>...</td>\n",
       "      <td>0.000617</td>\n",
       "      <td>0.000617</td>\n",
       "      <td>0.006165</td>\n",
       "      <td>0.000617</td>\n",
       "      <td>0.001850</td>\n",
       "      <td>0.000617</td>\n",
       "      <td>0.000000</td>\n",
       "      <td>0.006165</td>\n",
       "      <td>0.003083</td>\n",
       "      <td>0.004316</td>\n",
       "    </tr>\n",
       "    <tr>\n",
       "      <th>1793ready76</th>\n",
       "      <td>0.000531</td>\n",
       "      <td>0.003186</td>\n",
       "      <td>0.003186</td>\n",
       "      <td>0.001593</td>\n",
       "      <td>0.002124</td>\n",
       "      <td>0.001062</td>\n",
       "      <td>0.002124</td>\n",
       "      <td>0.001593</td>\n",
       "      <td>0.002124</td>\n",
       "      <td>0.002655</td>\n",
       "      <td>...</td>\n",
       "      <td>0.004249</td>\n",
       "      <td>0.001062</td>\n",
       "      <td>0.004249</td>\n",
       "      <td>0.000000</td>\n",
       "      <td>0.002655</td>\n",
       "      <td>0.000531</td>\n",
       "      <td>0.002655</td>\n",
       "      <td>0.002124</td>\n",
       "      <td>0.006373</td>\n",
       "      <td>0.002124</td>\n",
       "    </tr>\n",
       "    <tr>\n",
       "      <th>1793ready77</th>\n",
       "      <td>0.000597</td>\n",
       "      <td>0.006567</td>\n",
       "      <td>0.000597</td>\n",
       "      <td>0.000597</td>\n",
       "      <td>0.001194</td>\n",
       "      <td>0.001194</td>\n",
       "      <td>0.000597</td>\n",
       "      <td>0.002388</td>\n",
       "      <td>0.000597</td>\n",
       "      <td>0.000000</td>\n",
       "      <td>...</td>\n",
       "      <td>0.001194</td>\n",
       "      <td>0.000000</td>\n",
       "      <td>0.005970</td>\n",
       "      <td>0.004179</td>\n",
       "      <td>0.002388</td>\n",
       "      <td>0.001194</td>\n",
       "      <td>0.001194</td>\n",
       "      <td>0.006567</td>\n",
       "      <td>0.001791</td>\n",
       "      <td>0.001791</td>\n",
       "    </tr>\n",
       "  </tbody>\n",
       "</table>\n",
       "<p>5 rows × 512 columns</p>\n",
       "</div>"
      ],
      "text/plain": [
       "                    1         2         3         4         5         6  \\\n",
       "Image                                                                     \n",
       "1793ready73  0.005190  0.001730  0.002307  0.001153  0.001153  0.001153   \n",
       "1793ready74  0.003217  0.000536  0.001609  0.001609  0.004290  0.001609   \n",
       "1793ready75  0.001233  0.006782  0.001233  0.003083  0.001850  0.000000   \n",
       "1793ready76  0.000531  0.003186  0.003186  0.001593  0.002124  0.001062   \n",
       "1793ready77  0.000597  0.006567  0.000597  0.000597  0.001194  0.001194   \n",
       "\n",
       "                    7         8         9        10  ...       503       504  \\\n",
       "Image                                                ...                       \n",
       "1793ready73  0.002307  0.002307  0.003460  0.005767  ...  0.001730  0.000577   \n",
       "1793ready74  0.001609  0.000000  0.002681  0.001609  ...  0.001609  0.000000   \n",
       "1793ready75  0.000617  0.003699  0.000000  0.000617  ...  0.000617  0.000617   \n",
       "1793ready76  0.002124  0.001593  0.002124  0.002655  ...  0.004249  0.001062   \n",
       "1793ready77  0.000597  0.002388  0.000597  0.000000  ...  0.001194  0.000000   \n",
       "\n",
       "                  505       506       507       508       509       510  \\\n",
       "Image                                                                     \n",
       "1793ready73  0.002884  0.000577  0.000577  0.001153  0.000577  0.005190   \n",
       "1793ready74  0.003217  0.000536  0.001609  0.000536  0.000536  0.002145   \n",
       "1793ready75  0.006165  0.000617  0.001850  0.000617  0.000000  0.006165   \n",
       "1793ready76  0.004249  0.000000  0.002655  0.000531  0.002655  0.002124   \n",
       "1793ready77  0.005970  0.004179  0.002388  0.001194  0.001194  0.006567   \n",
       "\n",
       "                  511       512  \n",
       "Image                            \n",
       "1793ready73  0.003460  0.001730  \n",
       "1793ready74  0.005898  0.001072  \n",
       "1793ready75  0.003083  0.004316  \n",
       "1793ready76  0.006373  0.002124  \n",
       "1793ready77  0.001791  0.001791  \n",
       "\n",
       "[5 rows x 512 columns]"
      ]
     },
     "execution_count": 5,
     "metadata": {},
     "output_type": "execute_result"
    }
   ],
   "source": [
    "# Use 'Name' column as index\n",
    "#df.rename(columns={df.columns[0]:'Name'}, inplace=True)\n",
    "df.set_index('Image', inplace=True)\n",
    "\n",
    "# Sort rows and columns\n",
    "# df.sort_index(axis=1, inplace=True)\n",
    "df.sort_index(inplace=True)\n",
    "\n",
    "df_numeric = df.select_dtypes(include='number')  #'int32' or 'int64' or 'float32' or 'float64'\n",
    "df_category = df.select_dtypes(exclude='number') #'object'\n",
    "\n",
    "# Z-score normalization\n",
    "# normalized_df = (df_numeric - df_numeric.mean()) / df_numeric.std()\n",
    "normalized_df = df_numeric  # do not normalize animal dataset, all columns are 0-100 scale\n",
    "\n",
    "print('Data size (r,c) =', df_numeric.shape)\n",
    "df_numeric.head(5)"
   ]
  },
  {
   "cell_type": "markdown",
   "metadata": {},
   "source": [
    "#  Dimension Reduction Model:  Weighted MDS\n",
    "\n",
    "For DR, we use the Multi-Dimensional Scaling (MDS) algorithm on a weighted data space. **Dimension weights** are applied to the high-dimensional (HD) data.  Weights are normalized to sum to 1, so as to normalize the HD distances to roughly constant size space independent of p.\n",
    "\n",
    "The **distance function for the high-dimensional (HD) data** is L1 manhattan distance. L1 is good for general purpose use with multi-dimensional quantitative datasets. \n",
    "\n",
    "The **distance function for the 2D projected points** is L2 Euclidean distance, which makes sense for human percpetion in the plot."
   ]
  },
  {
   "cell_type": "code",
   "execution_count": 6,
   "metadata": {},
   "outputs": [],
   "source": [
    "# Compute the distance matrix for the weighted high-dimensional data using L1 distance function.\n",
    "#  Input HD data should already be weighted.\n",
    "def distance_matrix_HD(dataHDw):  # dataHDw (pandas or numpy) -> distance matrix (numpy)\n",
    "    dist_matrix = sklearn.metrics.pairwise.manhattan_distances(dataHDw)\n",
    "    #m = pd.DataFrame(m, columns=dataHD.index, index=dataHD.index)  # keep as np array for performance\n",
    "    return dist_matrix\n",
    "\n",
    "# Compute the distance matrix for 2D projected data using L2 distance function.\n",
    "def distance_matrix_2D(data2D):  # data2d (pandas or numpy) -> distance matrix (numpy)\n",
    "    dist_matrix = sklearn.metrics.pairwise.euclidean_distances(data2D) \n",
    "    #m = pd.DataFrame(m, columns=data2D.index, index=data2D.index) # keep as np array for performance\n",
    "    return dist_matrix\n",
    "\n",
    "#def dist(x,y):\n",
    "#    return np.linalg.norm(x-y, ord=2)"
   ]
  },
  {
   "cell_type": "markdown",
   "metadata": {},
   "source": [
    "**MDS** projects the weighted high-dimensional data to 2D. Tune the algorithm's parameters for performance."
   ]
  },
  {
   "cell_type": "code",
   "execution_count": 7,
   "metadata": {},
   "outputs": [],
   "source": [
    "# Calculate the MDS stress metric between HD and 2D distances.  Uses numpy for efficiency.\n",
    "def stress(distHD, dist2D):  #  distHD, dist2D (numpy) -> stress (float)\n",
    "    #s = np.sqrt((distHD-dist2D).pow(2).sum().sum() / distHD.pow(2).sum().sum())  # pandas\n",
    "    #s = np.sqrt(((distHD-dist2D)**2).sum() / (distHD**2).sum())   # numpy\n",
    "    s = ((distHD-dist2D)**2).sum() / (distHD**2).sum()   # numpy, eliminate sqrt for efficiency\n",
    "    return s\n",
    "\n",
    "def compute_mds(dataHDw):  # dataHDw -> data2D (pandas)\n",
    "    distHD = distance_matrix_HD(dataHDw)\n",
    "    # Adjust these parameters for performance/accuracy tradeoff\n",
    "    mds = sklearn.manifold.MDS(n_components=2, dissimilarity='precomputed', n_init=10, max_iter=1000)\n",
    "    # Reduction algorithm happens here:  data2D is nx2 matrix\n",
    "    data2D = mds.fit_transform(distHD)\n",
    "    \n",
    "    # Rotate the resulting 2D projection to make it more consistent across multiple runs.\n",
    "    # Set the 1st PC to the y axis, plot looks better to spread data vertically with horizontal text labels\n",
    "    pca = sklearn.decomposition.PCA(n_components=2)\n",
    "    data2D = pca.fit_transform(data2D)\n",
    "    data2D = pd.DataFrame(data2D, columns=['y','x'], index=dataHDw.index)\n",
    "    \n",
    "    data2D.stress_value = stress(distHD, distance_matrix_2D(data2D))\n",
    "    return data2D\n",
    "\n",
    "def dimension_reduction(dataHD, wts): # dataHD, wts -> data2D (pandas)\n",
    "    # Normalize the weights to sum to 1\n",
    "    wts = wts/wts.sum()\n",
    "    \n",
    "    # Apply weights to the HD data \n",
    "    dataHDw = dataHD * wts\n",
    "    \n",
    "    # DR algorithm\n",
    "    data2D = compute_mds(dataHDw)\n",
    "\n",
    "    # Compute row relevances as:  data dot weights\n",
    "    # High relevance means large values in upweighted dimensions\n",
    "    data2D['relevance'] = dataHDw.sum(axis=1)\n",
    "    return data2D\n",
    "\n",
    "\n",
    "min_weight, max_weight = 0.00001, 0.9999\n",
    "init_weight = min_weight  # 1.0/len(normalized_df.columns) # initialize to min to make the sliders easier to use.\n",
    "weights = pd.Series(init_weight, index=normalized_df.columns, name=\"Weight\")  # the current weight list\n",
    "\n",
    "df_2D = dimension_reduction(normalized_df, weights)   # the current projected data"
   ]
  },
  {
   "cell_type": "code",
   "execution_count": 8,
   "metadata": {},
   "outputs": [
    {
     "data": {
      "text/plain": [
       "1    0.00001\n",
       "2    0.00001\n",
       "Name: Weight, dtype: float64"
      ]
     },
     "execution_count": 8,
     "metadata": {},
     "output_type": "execute_result"
    }
   ],
   "source": [
    "weights.head(2)"
   ]
  },
  {
   "cell_type": "code",
   "execution_count": 9,
   "metadata": {},
   "outputs": [
    {
     "data": {
      "text/html": [
       "<div>\n",
       "<style scoped>\n",
       "    .dataframe tbody tr th:only-of-type {\n",
       "        vertical-align: middle;\n",
       "    }\n",
       "\n",
       "    .dataframe tbody tr th {\n",
       "        vertical-align: top;\n",
       "    }\n",
       "\n",
       "    .dataframe thead th {\n",
       "        text-align: right;\n",
       "    }\n",
       "</style>\n",
       "<table border=\"1\" class=\"dataframe\">\n",
       "  <thead>\n",
       "    <tr style=\"text-align: right;\">\n",
       "      <th>Image</th>\n",
       "      <th>1793ready73</th>\n",
       "      <th>1793ready74</th>\n",
       "      <th>1793ready75</th>\n",
       "      <th>1793ready76</th>\n",
       "      <th>1793ready77</th>\n",
       "      <th>1793ready78</th>\n",
       "      <th>1793ready80</th>\n",
       "      <th>1793ready81</th>\n",
       "      <th>1793ready82</th>\n",
       "      <th>1793ready83</th>\n",
       "      <th>...</th>\n",
       "      <th>1802late89</th>\n",
       "      <th>1802late90</th>\n",
       "      <th>1802late91</th>\n",
       "      <th>1802late92</th>\n",
       "      <th>1802late93</th>\n",
       "      <th>1802late94</th>\n",
       "      <th>1802late95</th>\n",
       "      <th>1802late96</th>\n",
       "      <th>1802late97</th>\n",
       "      <th>1802late98</th>\n",
       "    </tr>\n",
       "    <tr>\n",
       "      <th>Image</th>\n",
       "      <th></th>\n",
       "      <th></th>\n",
       "      <th></th>\n",
       "      <th></th>\n",
       "      <th></th>\n",
       "      <th></th>\n",
       "      <th></th>\n",
       "      <th></th>\n",
       "      <th></th>\n",
       "      <th></th>\n",
       "      <th></th>\n",
       "      <th></th>\n",
       "      <th></th>\n",
       "      <th></th>\n",
       "      <th></th>\n",
       "      <th></th>\n",
       "      <th></th>\n",
       "      <th></th>\n",
       "      <th></th>\n",
       "      <th></th>\n",
       "      <th></th>\n",
       "    </tr>\n",
       "  </thead>\n",
       "  <tbody>\n",
       "    <tr>\n",
       "      <th>1793ready73</th>\n",
       "      <td>0.000000</td>\n",
       "      <td>0.001252</td>\n",
       "      <td>0.001700</td>\n",
       "      <td>0.001346</td>\n",
       "      <td>0.001568</td>\n",
       "      <td>0.001758</td>\n",
       "      <td>0.001611</td>\n",
       "      <td>0.001676</td>\n",
       "      <td>0.001460</td>\n",
       "      <td>0.001639</td>\n",
       "      <td>...</td>\n",
       "      <td>0.002038</td>\n",
       "      <td>0.002116</td>\n",
       "      <td>0.002029</td>\n",
       "      <td>0.001953</td>\n",
       "      <td>0.001825</td>\n",
       "      <td>0.002230</td>\n",
       "      <td>0.001703</td>\n",
       "      <td>0.001753</td>\n",
       "      <td>0.001715</td>\n",
       "      <td>0.002117</td>\n",
       "    </tr>\n",
       "    <tr>\n",
       "      <th>1793ready74</th>\n",
       "      <td>0.001252</td>\n",
       "      <td>0.000000</td>\n",
       "      <td>0.001932</td>\n",
       "      <td>0.001416</td>\n",
       "      <td>0.001774</td>\n",
       "      <td>0.001839</td>\n",
       "      <td>0.001606</td>\n",
       "      <td>0.001921</td>\n",
       "      <td>0.001565</td>\n",
       "      <td>0.001741</td>\n",
       "      <td>...</td>\n",
       "      <td>0.002132</td>\n",
       "      <td>0.002271</td>\n",
       "      <td>0.002192</td>\n",
       "      <td>0.002039</td>\n",
       "      <td>0.001939</td>\n",
       "      <td>0.002272</td>\n",
       "      <td>0.001904</td>\n",
       "      <td>0.001949</td>\n",
       "      <td>0.001827</td>\n",
       "      <td>0.002250</td>\n",
       "    </tr>\n",
       "  </tbody>\n",
       "</table>\n",
       "<p>2 rows × 40 columns</p>\n",
       "</div>"
      ],
      "text/plain": [
       "Image        1793ready73  1793ready74  1793ready75  1793ready76  1793ready77  \\\n",
       "Image                                                                          \n",
       "1793ready73     0.000000     0.001252     0.001700     0.001346     0.001568   \n",
       "1793ready74     0.001252     0.000000     0.001932     0.001416     0.001774   \n",
       "\n",
       "Image        1793ready78  1793ready80  1793ready81  1793ready82  1793ready83  \\\n",
       "Image                                                                          \n",
       "1793ready73     0.001758     0.001611     0.001676     0.001460     0.001639   \n",
       "1793ready74     0.001839     0.001606     0.001921     0.001565     0.001741   \n",
       "\n",
       "Image        ...  1802late89  1802late90  1802late91  1802late92  1802late93  \\\n",
       "Image        ...                                                               \n",
       "1793ready73  ...    0.002038    0.002116    0.002029    0.001953    0.001825   \n",
       "1793ready74  ...    0.002132    0.002271    0.002192    0.002039    0.001939   \n",
       "\n",
       "Image        1802late94  1802late95  1802late96  1802late97  1802late98  \n",
       "Image                                                                    \n",
       "1793ready73    0.002230    0.001703    0.001753    0.001715    0.002117  \n",
       "1793ready74    0.002272    0.001904    0.001949    0.001827    0.002250  \n",
       "\n",
       "[2 rows x 40 columns]"
      ]
     },
     "execution_count": 9,
     "metadata": {},
     "output_type": "execute_result"
    }
   ],
   "source": [
    "pd.DataFrame(distance_matrix_HD(normalized_df * (weights/weights.sum())), \n",
    "             columns=normalized_df.index, index=normalized_df.index).head(2)"
   ]
  },
  {
   "cell_type": "code",
   "execution_count": 10,
   "metadata": {},
   "outputs": [
    {
     "name": "stdout",
     "output_type": "stream",
     "text": [
      "0.16397670837800396\n"
     ]
    },
    {
     "data": {
      "text/html": [
       "<div>\n",
       "<style scoped>\n",
       "    .dataframe tbody tr th:only-of-type {\n",
       "        vertical-align: middle;\n",
       "    }\n",
       "\n",
       "    .dataframe tbody tr th {\n",
       "        vertical-align: top;\n",
       "    }\n",
       "\n",
       "    .dataframe thead th {\n",
       "        text-align: right;\n",
       "    }\n",
       "</style>\n",
       "<table border=\"1\" class=\"dataframe\">\n",
       "  <thead>\n",
       "    <tr style=\"text-align: right;\">\n",
       "      <th></th>\n",
       "      <th>y</th>\n",
       "      <th>x</th>\n",
       "      <th>relevance</th>\n",
       "    </tr>\n",
       "    <tr>\n",
       "      <th>Image</th>\n",
       "      <th></th>\n",
       "      <th></th>\n",
       "      <th></th>\n",
       "    </tr>\n",
       "  </thead>\n",
       "  <tbody>\n",
       "    <tr>\n",
       "      <th>1793ready73</th>\n",
       "      <td>-0.000788</td>\n",
       "      <td>-0.001129</td>\n",
       "      <td>0.001953</td>\n",
       "    </tr>\n",
       "    <tr>\n",
       "      <th>1793ready74</th>\n",
       "      <td>-0.000920</td>\n",
       "      <td>-0.000257</td>\n",
       "      <td>0.001953</td>\n",
       "    </tr>\n",
       "  </tbody>\n",
       "</table>\n",
       "</div>"
      ],
      "text/plain": [
       "                    y         x  relevance\n",
       "Image                                     \n",
       "1793ready73 -0.000788 -0.001129   0.001953\n",
       "1793ready74 -0.000920 -0.000257   0.001953"
      ]
     },
     "execution_count": 10,
     "metadata": {},
     "output_type": "execute_result"
    }
   ],
   "source": [
    "print(df_2D.stress_value)\n",
    "df_2D.head(2)"
   ]
  },
  {
   "cell_type": "markdown",
   "metadata": {},
   "source": [
    "# Inverse Dimension-Reduction Learning Algorithm\n",
    "\n",
    "Computes the inverse-Dimension-Reduction: given input 2D points, compute new weights.\n",
    "Optimizes the MDS stress function that compares 2D pairwise distances (||$x_i-x_j||$) to weighted HD pairwise distances ($d_{ij}$):\n",
    "![Stress](https://wikimedia.org/api/rest_v1/media/math/render/svg/7989b3afc0d8795a78c1631c7e807f260d9cfe68)\n",
    "\n",
    "Technically, we compute the inverse weighted distance function. We shortcut the optimization by eliminating MDS from the process, and assume that the user input 2D distances are actually the desired HD distances, not the 2D distances after re-projection. Thus, given the input (HD) distances, we find weights that would produce these distances in the HD space."
   ]
  },
  {
   "cell_type": "code",
   "execution_count": 11,
   "metadata": {},
   "outputs": [],
   "source": [
    "# This method is used to propose a new weight for current column in a smart fashion\n",
    "def new_proposal(current, step, direction):\n",
    "    return np.clip(current + direction*step*random.random(), 0.00001, 0.9999)\n",
    "\n",
    "# Repeatedly tries to modify each dim weight to see if it improves the stress, thus\n",
    "# getting the weighted high-dim distances to more closely match the input 2D distances.\n",
    "#   dataHD = high-dim data, as pandas\n",
    "#   data2D = 2D data input, as pandas\n",
    "#   weights = as pandas series, or None for weights[i]=1/p\n",
    "def inverse_DR(dataHD, data2D, curWeights=None):  # -> new weights, as Series\n",
    "    dist2D = distance_matrix_2D(data2D)  # compute 2D distances only once\n",
    "    col_names = dataHD.columns\n",
    "    dataHD = dataHD.to_numpy()  # use numpy for efficiency\n",
    "    row, col = dataHD.shape\n",
    "    \n",
    "    if curWeights==None:\n",
    "        curWeights = np.array([1.0/col]*col)  # default weights = 1/p\n",
    "    else:\n",
    "        curWeights = curWeights.to_numpy()\n",
    "        curWeights = curWeights / curWeights.sum()  # Normalize weights to sum to 1\n",
    "    newWeights = curWeights.copy()  # re-use this array for efficiency\n",
    "    \n",
    "    # Initialize state\n",
    "    flag = [0]*col         # degree of success of a weight change\n",
    "    direction = [1]*col  # direction to move a weight, pos or neg\n",
    "    step = [1.0/col]*col   # how much to change each weight\n",
    "    \n",
    "    dataHDw = dataHD * curWeights   # weighted space, re-use this array for efficiency\n",
    "    distHD = distance_matrix_HD(dataHDw)\n",
    "    curStress = stress(distHD, dist2D)\n",
    "    print('Starting stress =', curStress, 'Processing...')\n",
    "\n",
    "    MAX = 500   # default setting of the number of iterations\n",
    "\n",
    "    # Try to minorly adjust each weight to see if it reduces stress\n",
    "    for i in range(MAX):\n",
    "        for dim in range(col):            \n",
    "            # Get a new weight for current column\n",
    "            nw = new_proposal(curWeights[dim], step[dim], direction[dim])\n",
    "            \n",
    "            # Scale the weight list such that it sums to 1\n",
    "            #newWeights = curWeights.copy()  # avoid extra copy op using math below\n",
    "            #newWeights[dim] = nw\n",
    "            #newWeights = newWeights / s\n",
    "            s = 1.0  + nw - curWeights[dim]   # 1.0 == curWeights.sum()\n",
    "            np.true_divide(curWeights, s, out=newWeights)  # transfers to other array, while doing /\n",
    "            newWeights[dim] = nw / s\n",
    "            \n",
    "            # Apply new weights to HD data\n",
    "            np.multiply(dataHD, newWeights, out=dataHDw)  # dataHDw = dataHD * newWeights; efficiently reuses dataHDw array\n",
    "            distHD = distance_matrix_HD(dataHDw)\n",
    "\n",
    "            # Get the new stress\n",
    "            newStress = stress(distHD, dist2D)\n",
    "            \n",
    "            # If new stress is lower, then update weights and flag this success\n",
    "            if newStress < curStress:\n",
    "                temp = curWeights\n",
    "                curWeights = newWeights\n",
    "                newWeights = temp   # reuse the old array next iteration\n",
    "                curStress = newStress\n",
    "                flag[dim] = flag[dim] + 1\n",
    "            else:\n",
    "                flag[dim] = flag[dim] - 1\n",
    "                direction[dim] = -direction[dim]  # Reverse course\n",
    "    \n",
    "            # If recent success, then speed up the step rate\n",
    "            if flag[dim] >= 5:\n",
    "                step[dim] = step[dim] * 2\n",
    "                flag[dim] = 0\n",
    "            elif flag[dim] <= -5:\n",
    "                step[dim] = step[dim] / 2\n",
    "                flag[dim] = 0\n",
    "                \n",
    "    print('Solution stress =', curStress, 'Done.')\n",
    "    #print(\"weight\", curWeights)\n",
    "    #print(\"flag\", flag)\n",
    "    #print(\"dir\", direction)\n",
    "    #print(\"step\", step)\n",
    "    return pd.Series(curWeights, index=col_names, name=\"Weight\")\n"
   ]
  },
  {
   "cell_type": "markdown",
   "metadata": {},
   "source": [
    "# Visualization and UI code\n",
    "\n",
    "Use these functions to create the GUI components in any cell."
   ]
  },
  {
   "cell_type": "markdown",
   "metadata": {},
   "source": [
    "## Sliders"
   ]
  },
  {
   "cell_type": "code",
   "execution_count": 12,
   "metadata": {},
   "outputs": [],
   "source": [
    "def create_sliders(wts):\n",
    "    # Create sliders, one for each dimension weight\n",
    "    sliders = [widgets.FloatSlider(min=min_weight, max=max_weight, step=0.01, value=value, \n",
    "                                       description=label, continuous_update=False, readout_format='.5f')\n",
    "                   for (label, value) in wts.iteritems()]\n",
    "    # Display sliders\n",
    "    for s in sliders:\n",
    "        #s.observe(sliderchange, names='value')\n",
    "        display(s)\n",
    "        \n",
    "    create_slider_buttons(sliders)\n",
    "    return sliders\n",
    "\n",
    "def create_slider_buttons(sliders):    \n",
    "    apply_button = widgets.Button(description='Apply Slider Weights')\n",
    "    reset_button = widgets.Button(description='Reset Plot')\n",
    "\n",
    "    # Callback functions\n",
    "    def apply_button_clicked(change):\n",
    "        # Use the slider values to re compute the DR and redraw the plot\n",
    "        global weights, df_2D   # Update weights and df_2D globals\n",
    "        weights = pd.Series([s.value for s in sliders], index=normalized_df.columns, name='Weight')\n",
    "        df_2D = dimension_reduction(normalized_df, weights)   \n",
    "        \n",
    "        # Re-draw the plot\n",
    "        draw_plot(plot_ax, df_2D)\n",
    "    apply_button.on_click(apply_button_clicked)\n",
    "\n",
    "    def reset_button_clicked(change):\n",
    "        # Reset all sliders to initial value and re-compute DR and re-draw the plot\n",
    "        for s in sliders:\n",
    "            s.value = init_weight\n",
    "        apply_button_clicked(change)\n",
    "    reset_button.on_click(reset_button_clicked)\n",
    "    \n",
    "    # Display buttons\n",
    "    display(apply_button)\n",
    "    display(reset_button)\n",
    "    return apply_button, reset_button\n"
   ]
  },
  {
   "cell_type": "markdown",
   "metadata": {},
   "source": [
    "## Print Details Button"
   ]
  },
  {
   "cell_type": "code",
   "execution_count": 13,
   "metadata": {},
   "outputs": [],
   "source": [
    "def create_detail_display():\n",
    "    # Print selected points\n",
    "    print_button = widgets.Button(description='Print selected points')\n",
    "    print_output = widgets.Output()\n",
    "\n",
    "    def print_button_clicked(change):\n",
    "        print_output.clear_output()\n",
    "        # Get list of selected points and print their source data values\n",
    "        selset = [c.index for c in plot_ax.circles if c.selected]\n",
    "        with print_output:\n",
    "            if len(selset) > 0:\n",
    "                print(df.iloc[selset, :].transpose())\n",
    "            else:\n",
    "                print('Select points in the plot to see details here')\n",
    "    print_button.on_click(print_button_clicked)\n",
    "\n",
    "    display(print_button)\n",
    "    display(print_output)\n",
    "    return print_button, print_output\n"
   ]
  },
  {
   "cell_type": "markdown",
   "metadata": {},
   "source": [
    "## Inverse DR Button and Plot"
   ]
  },
  {
   "cell_type": "code",
   "execution_count": 14,
   "metadata": {},
   "outputs": [],
   "source": [
    "def create_inverse_button():\n",
    "    inverse_button = widgets.Button(description='Learn New Weights')\n",
    "    copy_button = widgets.Button(description='Copy to Sliders')\n",
    "\n",
    "    def inverse_button_clicked(change):\n",
    "        ax.clear()\n",
    "\n",
    "        # Check minimum number of points moved\n",
    "        n = len([1 for c in plot_ax.circles if c.selected])\n",
    "        if n < 2:\n",
    "            print('Need to select or move at least 2 points in the plot first.')\n",
    "            return\n",
    "\n",
    "        # Get selected data points\n",
    "        data2Dnew = pd.DataFrame([c.center for c in plot_ax.circles if c.selected], columns=['x','y'], \n",
    "                                index=[c.label for c in plot_ax.circles if c.selected])\n",
    "        dataHDpart = normalized_df.loc[data2Dnew.index]\n",
    "\n",
    "        # Learn new weights\n",
    "        global weights\n",
    "        weights = inverse_DR(dataHDpart, data2Dnew)\n",
    "        \n",
    "        # Display new weights as a bar chart\n",
    "        weights.sort_index(ascending=False).plot.barh(ax=ax)\n",
    "        ax.set_xlabel(\"Weight\")\n",
    "        fig.tight_layout()\n",
    "    inverse_button.on_click(inverse_button_clicked)\n",
    "\n",
    "    def copy_button_clicked(change):\n",
    "        # Set sliders to reflect the learned weights and update the DR and plot accordingly\n",
    "        global df_2D\n",
    "        for i,s in enumerate(sliders):\n",
    "            s.value = weights[i]\n",
    "        df_2D = dimension_reduction(normalized_df, weights)   \n",
    "        draw_plot(plot_ax, df_2D)\n",
    "    copy_button.on_click(copy_button_clicked)\n",
    "    display(inverse_button)\n",
    "    display(copy_button)\n",
    "    fig, ax = plt.subplots(figsize=(5,7))   # reserve a fig for the weights bar chart\n",
    "    return inverse_button, copy_button, ax\n"
   ]
  },
  {
   "cell_type": "markdown",
   "metadata": {},
   "source": [
    "## Draggable Dimension-Reduction 2D Plot"
   ]
  },
  {
   "cell_type": "code",
   "execution_count": 15,
   "metadata": {},
   "outputs": [],
   "source": [
    "# Handles mouse drag interaction events in the plot, users can select and drag points.\n",
    "class DraggablePoints(object):\n",
    "    def __init__(self, ax, artists):\n",
    "        self.ax = ax\n",
    "        self.artists = artists\n",
    "        self.current_artist = None\n",
    "        self.last_selected = None\n",
    "        ax.selected_text.set_text('Selected: none')\n",
    "        self.offset = (0, 0)\n",
    "        # Set up mouse listeners\n",
    "        ax.figure.canvas.mpl_connect('pick_event', self.on_pick)\n",
    "        ax.figure.canvas.mpl_connect('motion_notify_event', self.on_motion)\n",
    "        ax.figure.canvas.mpl_connect('button_release_event', self.on_release)\n",
    "\n",
    "    def on_pick(self, event):\n",
    "        # When point is clicked on (mouse down), select it and start the drag\n",
    "        if self.current_artist is None:  # clicking on overlapped points sends multiple events\n",
    "            self.last_selected = event.artist.index  # event.ind\n",
    "            self.current_artist = event.artist\n",
    "            event.artist.selected = True\n",
    "            event.artist.savecolor = event.artist.get_facecolor()\n",
    "            event.artist.set_facecolor('green')\n",
    "            #event.artist.set_alpha(1.0)\n",
    "            self.ax.selected_text.set_text(\"Selected: \" + event.artist.label)\n",
    "            x0, y0 = event.artist.center\n",
    "            self.offset = (x0 - event.mouseevent.xdata), (y0 - event.mouseevent.ydata)\n",
    "\n",
    "    def on_motion(self, event):\n",
    "        # When dragging, check if point is selected and valid mouse coordinates\n",
    "        if (self.current_artist is not None) and (event.xdata is not None) and (event.ydata is not None):\n",
    "            # Drag the point and its text label\n",
    "            dx, dy = self.offset\n",
    "            self.current_artist.center = x0, y0 = event.xdata + dx, event.ydata + dy\n",
    "            self.current_artist.text.set_position((x0 - self.current_artist.radius/2, \n",
    "                                                   y0 - self.current_artist.radius/2))\n",
    "            #self.ax.figure.canvas.draw()  # slow\n",
    "        \n",
    "    def on_release(self, event):\n",
    "        # When mouse is released, stop the drag\n",
    "        self.current_artist = None\n",
    "        #self.ax.figure.canvas.draw()"
   ]
  },
  {
   "cell_type": "code",
   "execution_count": 16,
   "metadata": {
    "scrolled": false
   },
   "outputs": [],
   "source": [
    "def create_plot(data2D):\n",
    "    # Initialize DR plot figure\n",
    "    fig, ax = plt.subplots(figsize= (8,7))\n",
    "    ax.selected_text = ax.figure.text(0,0.005, 'Selected: none', wrap=True, color='green')\n",
    "    fig.colorbar(plt.cm.ScalarMappable(norm=matplotlib.colors.Normalize(), cmap=plt.cm.plasma), ax=ax, label=\"Relevance\", ticks=[], shrink=0.5, aspect=40, fraction=0.05)\n",
    "    # ax = data2D.plot.scatter(x=\"x\", y=\"y\", alpha=0.5, c=\"relevance\", s=75, ax=ax\n",
    "    #                   colormap=plt.cm.plasma, sharex=False, figsize=(8, 6), picker=True)\n",
    "    # ax.collections[0].get_offsets());   set_offsets(data2D[['y','x']]);   .get_facecolors()\n",
    "    \n",
    "    # Clean up the plot\n",
    "    ax.set_xticks([])\n",
    "    ax.set_yticks([])\n",
    "    ax.figure.tight_layout()\n",
    "    #plt.show()\n",
    "    \n",
    "    # Store state data:\n",
    "    ax.circles = None\n",
    "    ax.dragpoint = None\n",
    "    \n",
    "    draw_plot(ax, data2D)\n",
    "    return ax\n",
    "\n",
    "def draw_plot(ax, data2D):\n",
    "    # Re-draws the DR plot in the axes with the updated data2D\n",
    "    ax.clear()\n",
    "    # Map data to circles, with x, y, and relevance->color\n",
    "    wid = max(data2D.x.max() - data2D.x.min(), data2D.y.max() - data2D.y.min())  # max range of x,y axes\n",
    "    cnorm = matplotlib.colors.Normalize(vmin=data2D.relevance.min(), vmax=data2D.relevance.max())\n",
    "    ax.circles = data2D.apply(axis=1, func=lambda row: \n",
    "        matplotlib.patches.Circle(xy=(row.x, row.y), radius=wid/70, alpha=0.5, \n",
    "                                  color=plt.cm.plasma(cnorm(row.relevance)), picker=True))\n",
    "    for i,c in enumerate(ax.circles):\n",
    "        # Store state data:\n",
    "        c.index, c.label, c.selected = i, data2D.index[i], False\n",
    "        # Draw circles and text labels in plot\n",
    "        ax.add_patch(c)\n",
    "        c.text = ax.text(c.center[0]-c.radius/2, c.center[1]-c.radius/2, c.label)\n",
    "    # Make plot circles draggable\n",
    "    ax.dragpoint = DraggablePoints(ax, ax.circles)\n",
    "    \n",
    "    # Clean up the plot\n",
    "    ax.set_xticks([])\n",
    "    ax.set_yticks([])\n",
    "    ax.axis('equal')\n",
    "    #plt.show()\n"
   ]
  },
  {
   "cell_type": "markdown",
   "metadata": {},
   "source": [
    "# Interactive Visualization"
   ]
  },
  {
   "cell_type": "markdown",
   "metadata": {},
   "source": [
    "## Sliders\n",
    "Use the sliders to control the **dimension weights** for the input HD data. The weights indicate which dimensions are given more emphasis in the DR plot distances.  For computational reasons, weights cannot go to absolute zero. When used in DR, the weights are first normalized such that they sum to 1.\n",
    "\n",
    "After adjusting the sliders, click the **Apply** button to show the results in the DR plot.\n",
    "\n",
    "To reset the sliders to their default values, click the **Reset** button."
   ]
  },
  {
   "cell_type": "code",
   "execution_count": 17,
   "metadata": {
    "scrolled": true
   },
   "outputs": [
    {
     "data": {
      "application/vnd.jupyter.widget-view+json": {
       "model_id": "56e6efe8233d4512ae501c5c4aaa05a2",
       "version_major": 2,
       "version_minor": 0
      },
      "text/plain": [
       "FloatSlider(value=1e-05, continuous_update=False, description='1', max=0.9999, min=1e-05, readout_format='.5f'…"
      ]
     },
     "metadata": {},
     "output_type": "display_data"
    },
    {
     "data": {
      "application/vnd.jupyter.widget-view+json": {
       "model_id": "b76ba1aa3a964b8fad4eca114a22b150",
       "version_major": 2,
       "version_minor": 0
      },
      "text/plain": [
       "FloatSlider(value=1e-05, continuous_update=False, description='2', max=0.9999, min=1e-05, readout_format='.5f'…"
      ]
     },
     "metadata": {},
     "output_type": "display_data"
    },
    {
     "data": {
      "application/vnd.jupyter.widget-view+json": {
       "model_id": "4b9f7ddf1e85495c9133eb9310767d67",
       "version_major": 2,
       "version_minor": 0
      },
      "text/plain": [
       "FloatSlider(value=1e-05, continuous_update=False, description='3', max=0.9999, min=1e-05, readout_format='.5f'…"
      ]
     },
     "metadata": {},
     "output_type": "display_data"
    },
    {
     "data": {
      "application/vnd.jupyter.widget-view+json": {
       "model_id": "bff52465f53642abb7965bce984142fd",
       "version_major": 2,
       "version_minor": 0
      },
      "text/plain": [
       "FloatSlider(value=1e-05, continuous_update=False, description='4', max=0.9999, min=1e-05, readout_format='.5f'…"
      ]
     },
     "metadata": {},
     "output_type": "display_data"
    },
    {
     "data": {
      "application/vnd.jupyter.widget-view+json": {
       "model_id": "0a89454395a2470e88466515632aef28",
       "version_major": 2,
       "version_minor": 0
      },
      "text/plain": [
       "FloatSlider(value=1e-05, continuous_update=False, description='5', max=0.9999, min=1e-05, readout_format='.5f'…"
      ]
     },
     "metadata": {},
     "output_type": "display_data"
    },
    {
     "data": {
      "application/vnd.jupyter.widget-view+json": {
       "model_id": "e8b2c3240f9d4f328744dcb40f15a31d",
       "version_major": 2,
       "version_minor": 0
      },
      "text/plain": [
       "FloatSlider(value=1e-05, continuous_update=False, description='6', max=0.9999, min=1e-05, readout_format='.5f'…"
      ]
     },
     "metadata": {},
     "output_type": "display_data"
    },
    {
     "data": {
      "application/vnd.jupyter.widget-view+json": {
       "model_id": "f9cd15b3001f4b11a07f1209c185c891",
       "version_major": 2,
       "version_minor": 0
      },
      "text/plain": [
       "FloatSlider(value=1e-05, continuous_update=False, description='7', max=0.9999, min=1e-05, readout_format='.5f'…"
      ]
     },
     "metadata": {},
     "output_type": "display_data"
    },
    {
     "data": {
      "application/vnd.jupyter.widget-view+json": {
       "model_id": "85eca1baef034be98a1e60d8a0705ec0",
       "version_major": 2,
       "version_minor": 0
      },
      "text/plain": [
       "FloatSlider(value=1e-05, continuous_update=False, description='8', max=0.9999, min=1e-05, readout_format='.5f'…"
      ]
     },
     "metadata": {},
     "output_type": "display_data"
    },
    {
     "data": {
      "application/vnd.jupyter.widget-view+json": {
       "model_id": "ff2c375b07d94f238a0fed263ddf5822",
       "version_major": 2,
       "version_minor": 0
      },
      "text/plain": [
       "FloatSlider(value=1e-05, continuous_update=False, description='9', max=0.9999, min=1e-05, readout_format='.5f'…"
      ]
     },
     "metadata": {},
     "output_type": "display_data"
    },
    {
     "data": {
      "application/vnd.jupyter.widget-view+json": {
       "model_id": "b345a0ee902841a9aa2fa01fac05f3d6",
       "version_major": 2,
       "version_minor": 0
      },
      "text/plain": [
       "FloatSlider(value=1e-05, continuous_update=False, description='10', max=0.9999, min=1e-05, readout_format='.5f…"
      ]
     },
     "metadata": {},
     "output_type": "display_data"
    },
    {
     "data": {
      "application/vnd.jupyter.widget-view+json": {
       "model_id": "e1cf3b55b4da401b909270dddab8cf64",
       "version_major": 2,
       "version_minor": 0
      },
      "text/plain": [
       "FloatSlider(value=1e-05, continuous_update=False, description='11', max=0.9999, min=1e-05, readout_format='.5f…"
      ]
     },
     "metadata": {},
     "output_type": "display_data"
    },
    {
     "data": {
      "application/vnd.jupyter.widget-view+json": {
       "model_id": "49d9db79f97646f9bfd3f5c814c06612",
       "version_major": 2,
       "version_minor": 0
      },
      "text/plain": [
       "FloatSlider(value=1e-05, continuous_update=False, description='12', max=0.9999, min=1e-05, readout_format='.5f…"
      ]
     },
     "metadata": {},
     "output_type": "display_data"
    },
    {
     "data": {
      "application/vnd.jupyter.widget-view+json": {
       "model_id": "34bf5894f60748aaab3f40bd0de9b3dc",
       "version_major": 2,
       "version_minor": 0
      },
      "text/plain": [
       "FloatSlider(value=1e-05, continuous_update=False, description='13', max=0.9999, min=1e-05, readout_format='.5f…"
      ]
     },
     "metadata": {},
     "output_type": "display_data"
    },
    {
     "data": {
      "application/vnd.jupyter.widget-view+json": {
       "model_id": "5afc16149cf34da1bd4145523eb85b5e",
       "version_major": 2,
       "version_minor": 0
      },
      "text/plain": [
       "FloatSlider(value=1e-05, continuous_update=False, description='14', max=0.9999, min=1e-05, readout_format='.5f…"
      ]
     },
     "metadata": {},
     "output_type": "display_data"
    },
    {
     "data": {
      "application/vnd.jupyter.widget-view+json": {
       "model_id": "045c5ec488a14924841fe60998700c19",
       "version_major": 2,
       "version_minor": 0
      },
      "text/plain": [
       "FloatSlider(value=1e-05, continuous_update=False, description='15', max=0.9999, min=1e-05, readout_format='.5f…"
      ]
     },
     "metadata": {},
     "output_type": "display_data"
    },
    {
     "data": {
      "application/vnd.jupyter.widget-view+json": {
       "model_id": "84746c9013564a1997b8976e2029189f",
       "version_major": 2,
       "version_minor": 0
      },
      "text/plain": [
       "FloatSlider(value=1e-05, continuous_update=False, description='16', max=0.9999, min=1e-05, readout_format='.5f…"
      ]
     },
     "metadata": {},
     "output_type": "display_data"
    },
    {
     "data": {
      "application/vnd.jupyter.widget-view+json": {
       "model_id": "2b8f3ed2774d4a02996d0523ff612cd1",
       "version_major": 2,
       "version_minor": 0
      },
      "text/plain": [
       "FloatSlider(value=1e-05, continuous_update=False, description='17', max=0.9999, min=1e-05, readout_format='.5f…"
      ]
     },
     "metadata": {},
     "output_type": "display_data"
    },
    {
     "data": {
      "application/vnd.jupyter.widget-view+json": {
       "model_id": "0a0eab0f24ad46ea8fcad2c43ae7930c",
       "version_major": 2,
       "version_minor": 0
      },
      "text/plain": [
       "FloatSlider(value=1e-05, continuous_update=False, description='18', max=0.9999, min=1e-05, readout_format='.5f…"
      ]
     },
     "metadata": {},
     "output_type": "display_data"
    },
    {
     "data": {
      "application/vnd.jupyter.widget-view+json": {
       "model_id": "ed4959a1cd5941f7bb41f1f25016ac38",
       "version_major": 2,
       "version_minor": 0
      },
      "text/plain": [
       "FloatSlider(value=1e-05, continuous_update=False, description='19', max=0.9999, min=1e-05, readout_format='.5f…"
      ]
     },
     "metadata": {},
     "output_type": "display_data"
    },
    {
     "data": {
      "application/vnd.jupyter.widget-view+json": {
       "model_id": "bf1a2ed040c448719176ae7f1858252f",
       "version_major": 2,
       "version_minor": 0
      },
      "text/plain": [
       "FloatSlider(value=1e-05, continuous_update=False, description='20', max=0.9999, min=1e-05, readout_format='.5f…"
      ]
     },
     "metadata": {},
     "output_type": "display_data"
    },
    {
     "data": {
      "application/vnd.jupyter.widget-view+json": {
       "model_id": "5a5662f0e0cd480d955f8a04f75cddd5",
       "version_major": 2,
       "version_minor": 0
      },
      "text/plain": [
       "FloatSlider(value=1e-05, continuous_update=False, description='21', max=0.9999, min=1e-05, readout_format='.5f…"
      ]
     },
     "metadata": {},
     "output_type": "display_data"
    },
    {
     "data": {
      "application/vnd.jupyter.widget-view+json": {
       "model_id": "1ce4bcc92e32435c897c47305d8f14b1",
       "version_major": 2,
       "version_minor": 0
      },
      "text/plain": [
       "FloatSlider(value=1e-05, continuous_update=False, description='22', max=0.9999, min=1e-05, readout_format='.5f…"
      ]
     },
     "metadata": {},
     "output_type": "display_data"
    },
    {
     "data": {
      "application/vnd.jupyter.widget-view+json": {
       "model_id": "a412f511428547ff9fe7232a9c340e62",
       "version_major": 2,
       "version_minor": 0
      },
      "text/plain": [
       "FloatSlider(value=1e-05, continuous_update=False, description='23', max=0.9999, min=1e-05, readout_format='.5f…"
      ]
     },
     "metadata": {},
     "output_type": "display_data"
    },
    {
     "data": {
      "application/vnd.jupyter.widget-view+json": {
       "model_id": "95a104a83a6f417394d2f4eff380d584",
       "version_major": 2,
       "version_minor": 0
      },
      "text/plain": [
       "FloatSlider(value=1e-05, continuous_update=False, description='24', max=0.9999, min=1e-05, readout_format='.5f…"
      ]
     },
     "metadata": {},
     "output_type": "display_data"
    },
    {
     "data": {
      "application/vnd.jupyter.widget-view+json": {
       "model_id": "63cb7ddbf852448a8fc051b9dd3455f6",
       "version_major": 2,
       "version_minor": 0
      },
      "text/plain": [
       "FloatSlider(value=1e-05, continuous_update=False, description='25', max=0.9999, min=1e-05, readout_format='.5f…"
      ]
     },
     "metadata": {},
     "output_type": "display_data"
    },
    {
     "data": {
      "application/vnd.jupyter.widget-view+json": {
       "model_id": "81647000ab0c4f898fa42b630267daea",
       "version_major": 2,
       "version_minor": 0
      },
      "text/plain": [
       "FloatSlider(value=1e-05, continuous_update=False, description='26', max=0.9999, min=1e-05, readout_format='.5f…"
      ]
     },
     "metadata": {},
     "output_type": "display_data"
    },
    {
     "data": {
      "application/vnd.jupyter.widget-view+json": {
       "model_id": "456965dbe65143baa711eec4a015ad3c",
       "version_major": 2,
       "version_minor": 0
      },
      "text/plain": [
       "FloatSlider(value=1e-05, continuous_update=False, description='27', max=0.9999, min=1e-05, readout_format='.5f…"
      ]
     },
     "metadata": {},
     "output_type": "display_data"
    },
    {
     "data": {
      "application/vnd.jupyter.widget-view+json": {
       "model_id": "7d5537c1d9a14880a2fe00416a4eca9d",
       "version_major": 2,
       "version_minor": 0
      },
      "text/plain": [
       "FloatSlider(value=1e-05, continuous_update=False, description='28', max=0.9999, min=1e-05, readout_format='.5f…"
      ]
     },
     "metadata": {},
     "output_type": "display_data"
    },
    {
     "data": {
      "application/vnd.jupyter.widget-view+json": {
       "model_id": "4f3c0cfd768a48e1a5d80db4f41ad490",
       "version_major": 2,
       "version_minor": 0
      },
      "text/plain": [
       "FloatSlider(value=1e-05, continuous_update=False, description='29', max=0.9999, min=1e-05, readout_format='.5f…"
      ]
     },
     "metadata": {},
     "output_type": "display_data"
    },
    {
     "data": {
      "application/vnd.jupyter.widget-view+json": {
       "model_id": "9776702fdd6940e09808880c17c0c0c6",
       "version_major": 2,
       "version_minor": 0
      },
      "text/plain": [
       "FloatSlider(value=1e-05, continuous_update=False, description='30', max=0.9999, min=1e-05, readout_format='.5f…"
      ]
     },
     "metadata": {},
     "output_type": "display_data"
    },
    {
     "data": {
      "application/vnd.jupyter.widget-view+json": {
       "model_id": "577b686d6b634222a4d60635989556f1",
       "version_major": 2,
       "version_minor": 0
      },
      "text/plain": [
       "FloatSlider(value=1e-05, continuous_update=False, description='31', max=0.9999, min=1e-05, readout_format='.5f…"
      ]
     },
     "metadata": {},
     "output_type": "display_data"
    },
    {
     "data": {
      "application/vnd.jupyter.widget-view+json": {
       "model_id": "125c50adad664389b7b4f362a3ee687f",
       "version_major": 2,
       "version_minor": 0
      },
      "text/plain": [
       "FloatSlider(value=1e-05, continuous_update=False, description='32', max=0.9999, min=1e-05, readout_format='.5f…"
      ]
     },
     "metadata": {},
     "output_type": "display_data"
    },
    {
     "data": {
      "application/vnd.jupyter.widget-view+json": {
       "model_id": "47b096f02f4349e0a32f6b168e816f2c",
       "version_major": 2,
       "version_minor": 0
      },
      "text/plain": [
       "FloatSlider(value=1e-05, continuous_update=False, description='33', max=0.9999, min=1e-05, readout_format='.5f…"
      ]
     },
     "metadata": {},
     "output_type": "display_data"
    },
    {
     "data": {
      "application/vnd.jupyter.widget-view+json": {
       "model_id": "d79cbe4848db46e8aad4da4a849ccb1b",
       "version_major": 2,
       "version_minor": 0
      },
      "text/plain": [
       "FloatSlider(value=1e-05, continuous_update=False, description='34', max=0.9999, min=1e-05, readout_format='.5f…"
      ]
     },
     "metadata": {},
     "output_type": "display_data"
    },
    {
     "data": {
      "application/vnd.jupyter.widget-view+json": {
       "model_id": "9e456c63d47148a08a155042a9ce17d3",
       "version_major": 2,
       "version_minor": 0
      },
      "text/plain": [
       "FloatSlider(value=1e-05, continuous_update=False, description='35', max=0.9999, min=1e-05, readout_format='.5f…"
      ]
     },
     "metadata": {},
     "output_type": "display_data"
    },
    {
     "data": {
      "application/vnd.jupyter.widget-view+json": {
       "model_id": "b7c77a18731b44fea30398501a8aa9fe",
       "version_major": 2,
       "version_minor": 0
      },
      "text/plain": [
       "FloatSlider(value=1e-05, continuous_update=False, description='36', max=0.9999, min=1e-05, readout_format='.5f…"
      ]
     },
     "metadata": {},
     "output_type": "display_data"
    },
    {
     "data": {
      "application/vnd.jupyter.widget-view+json": {
       "model_id": "d91ad8242e504b98b336d9f7fd273806",
       "version_major": 2,
       "version_minor": 0
      },
      "text/plain": [
       "FloatSlider(value=1e-05, continuous_update=False, description='37', max=0.9999, min=1e-05, readout_format='.5f…"
      ]
     },
     "metadata": {},
     "output_type": "display_data"
    },
    {
     "data": {
      "application/vnd.jupyter.widget-view+json": {
       "model_id": "9916e5ab92f741aca34a4612c31f8a9a",
       "version_major": 2,
       "version_minor": 0
      },
      "text/plain": [
       "FloatSlider(value=1e-05, continuous_update=False, description='38', max=0.9999, min=1e-05, readout_format='.5f…"
      ]
     },
     "metadata": {},
     "output_type": "display_data"
    },
    {
     "data": {
      "application/vnd.jupyter.widget-view+json": {
       "model_id": "ae4bc8a934db4d87a803f6be4fa7c361",
       "version_major": 2,
       "version_minor": 0
      },
      "text/plain": [
       "FloatSlider(value=1e-05, continuous_update=False, description='39', max=0.9999, min=1e-05, readout_format='.5f…"
      ]
     },
     "metadata": {},
     "output_type": "display_data"
    },
    {
     "data": {
      "application/vnd.jupyter.widget-view+json": {
       "model_id": "69d7dea8cf454e679c5cc0fc2d0954f6",
       "version_major": 2,
       "version_minor": 0
      },
      "text/plain": [
       "FloatSlider(value=1e-05, continuous_update=False, description='40', max=0.9999, min=1e-05, readout_format='.5f…"
      ]
     },
     "metadata": {},
     "output_type": "display_data"
    },
    {
     "data": {
      "application/vnd.jupyter.widget-view+json": {
       "model_id": "3c70b0f0faec4fb7ba87debc69db7247",
       "version_major": 2,
       "version_minor": 0
      },
      "text/plain": [
       "FloatSlider(value=1e-05, continuous_update=False, description='41', max=0.9999, min=1e-05, readout_format='.5f…"
      ]
     },
     "metadata": {},
     "output_type": "display_data"
    },
    {
     "data": {
      "application/vnd.jupyter.widget-view+json": {
       "model_id": "aac6a387e6734f0fa0628a49aa66d4db",
       "version_major": 2,
       "version_minor": 0
      },
      "text/plain": [
       "FloatSlider(value=1e-05, continuous_update=False, description='42', max=0.9999, min=1e-05, readout_format='.5f…"
      ]
     },
     "metadata": {},
     "output_type": "display_data"
    },
    {
     "data": {
      "application/vnd.jupyter.widget-view+json": {
       "model_id": "f3d501456ee04c7dbda8d77f7ba79b75",
       "version_major": 2,
       "version_minor": 0
      },
      "text/plain": [
       "FloatSlider(value=1e-05, continuous_update=False, description='43', max=0.9999, min=1e-05, readout_format='.5f…"
      ]
     },
     "metadata": {},
     "output_type": "display_data"
    },
    {
     "data": {
      "application/vnd.jupyter.widget-view+json": {
       "model_id": "638924824e534eeca39509f0fcc5e7a9",
       "version_major": 2,
       "version_minor": 0
      },
      "text/plain": [
       "FloatSlider(value=1e-05, continuous_update=False, description='44', max=0.9999, min=1e-05, readout_format='.5f…"
      ]
     },
     "metadata": {},
     "output_type": "display_data"
    },
    {
     "data": {
      "application/vnd.jupyter.widget-view+json": {
       "model_id": "27a5ca3e4f8b427aae9baa737efd00a1",
       "version_major": 2,
       "version_minor": 0
      },
      "text/plain": [
       "FloatSlider(value=1e-05, continuous_update=False, description='45', max=0.9999, min=1e-05, readout_format='.5f…"
      ]
     },
     "metadata": {},
     "output_type": "display_data"
    },
    {
     "data": {
      "application/vnd.jupyter.widget-view+json": {
       "model_id": "5a2f1e5093ca45dc9952b39ee12c6312",
       "version_major": 2,
       "version_minor": 0
      },
      "text/plain": [
       "FloatSlider(value=1e-05, continuous_update=False, description='46', max=0.9999, min=1e-05, readout_format='.5f…"
      ]
     },
     "metadata": {},
     "output_type": "display_data"
    },
    {
     "data": {
      "application/vnd.jupyter.widget-view+json": {
       "model_id": "e6b3eabc9225404cb35a7050a53537ae",
       "version_major": 2,
       "version_minor": 0
      },
      "text/plain": [
       "FloatSlider(value=1e-05, continuous_update=False, description='47', max=0.9999, min=1e-05, readout_format='.5f…"
      ]
     },
     "metadata": {},
     "output_type": "display_data"
    },
    {
     "data": {
      "application/vnd.jupyter.widget-view+json": {
       "model_id": "f3ad699a2cc14714b0bcb682caf1ada4",
       "version_major": 2,
       "version_minor": 0
      },
      "text/plain": [
       "FloatSlider(value=1e-05, continuous_update=False, description='48', max=0.9999, min=1e-05, readout_format='.5f…"
      ]
     },
     "metadata": {},
     "output_type": "display_data"
    },
    {
     "data": {
      "application/vnd.jupyter.widget-view+json": {
       "model_id": "f08b371cb235431bb0f14f9f116be04b",
       "version_major": 2,
       "version_minor": 0
      },
      "text/plain": [
       "FloatSlider(value=1e-05, continuous_update=False, description='49', max=0.9999, min=1e-05, readout_format='.5f…"
      ]
     },
     "metadata": {},
     "output_type": "display_data"
    },
    {
     "data": {
      "application/vnd.jupyter.widget-view+json": {
       "model_id": "22819c57f7ce4e22b84ab1eb6b83fc3c",
       "version_major": 2,
       "version_minor": 0
      },
      "text/plain": [
       "FloatSlider(value=1e-05, continuous_update=False, description='50', max=0.9999, min=1e-05, readout_format='.5f…"
      ]
     },
     "metadata": {},
     "output_type": "display_data"
    },
    {
     "data": {
      "application/vnd.jupyter.widget-view+json": {
       "model_id": "453defe9e7e74df5b962fbf32720a1a8",
       "version_major": 2,
       "version_minor": 0
      },
      "text/plain": [
       "FloatSlider(value=1e-05, continuous_update=False, description='51', max=0.9999, min=1e-05, readout_format='.5f…"
      ]
     },
     "metadata": {},
     "output_type": "display_data"
    },
    {
     "data": {
      "application/vnd.jupyter.widget-view+json": {
       "model_id": "ed8234a482614d1ca7cba631087fe847",
       "version_major": 2,
       "version_minor": 0
      },
      "text/plain": [
       "FloatSlider(value=1e-05, continuous_update=False, description='52', max=0.9999, min=1e-05, readout_format='.5f…"
      ]
     },
     "metadata": {},
     "output_type": "display_data"
    },
    {
     "data": {
      "application/vnd.jupyter.widget-view+json": {
       "model_id": "3dcc0abcc8fe4f26882f934df44249ca",
       "version_major": 2,
       "version_minor": 0
      },
      "text/plain": [
       "FloatSlider(value=1e-05, continuous_update=False, description='53', max=0.9999, min=1e-05, readout_format='.5f…"
      ]
     },
     "metadata": {},
     "output_type": "display_data"
    },
    {
     "data": {
      "application/vnd.jupyter.widget-view+json": {
       "model_id": "2a9eda8dd950427a86e1023ff361d481",
       "version_major": 2,
       "version_minor": 0
      },
      "text/plain": [
       "FloatSlider(value=1e-05, continuous_update=False, description='54', max=0.9999, min=1e-05, readout_format='.5f…"
      ]
     },
     "metadata": {},
     "output_type": "display_data"
    },
    {
     "data": {
      "application/vnd.jupyter.widget-view+json": {
       "model_id": "d06d18166ea842a3966b8c447ba9c992",
       "version_major": 2,
       "version_minor": 0
      },
      "text/plain": [
       "FloatSlider(value=1e-05, continuous_update=False, description='55', max=0.9999, min=1e-05, readout_format='.5f…"
      ]
     },
     "metadata": {},
     "output_type": "display_data"
    },
    {
     "data": {
      "application/vnd.jupyter.widget-view+json": {
       "model_id": "3c548f523ec8472ab4932af4b22da9df",
       "version_major": 2,
       "version_minor": 0
      },
      "text/plain": [
       "FloatSlider(value=1e-05, continuous_update=False, description='56', max=0.9999, min=1e-05, readout_format='.5f…"
      ]
     },
     "metadata": {},
     "output_type": "display_data"
    },
    {
     "data": {
      "application/vnd.jupyter.widget-view+json": {
       "model_id": "4c5690ad131c49acb023c1d87e3bf306",
       "version_major": 2,
       "version_minor": 0
      },
      "text/plain": [
       "FloatSlider(value=1e-05, continuous_update=False, description='57', max=0.9999, min=1e-05, readout_format='.5f…"
      ]
     },
     "metadata": {},
     "output_type": "display_data"
    },
    {
     "data": {
      "application/vnd.jupyter.widget-view+json": {
       "model_id": "9ed50a64a3b24facb0dac4e8b9458671",
       "version_major": 2,
       "version_minor": 0
      },
      "text/plain": [
       "FloatSlider(value=1e-05, continuous_update=False, description='58', max=0.9999, min=1e-05, readout_format='.5f…"
      ]
     },
     "metadata": {},
     "output_type": "display_data"
    },
    {
     "data": {
      "application/vnd.jupyter.widget-view+json": {
       "model_id": "1d678594c17c47479494be1c228d28c7",
       "version_major": 2,
       "version_minor": 0
      },
      "text/plain": [
       "FloatSlider(value=1e-05, continuous_update=False, description='59', max=0.9999, min=1e-05, readout_format='.5f…"
      ]
     },
     "metadata": {},
     "output_type": "display_data"
    },
    {
     "data": {
      "application/vnd.jupyter.widget-view+json": {
       "model_id": "fc4723a7c5374a45bb5ef4d13e6f879b",
       "version_major": 2,
       "version_minor": 0
      },
      "text/plain": [
       "FloatSlider(value=1e-05, continuous_update=False, description='60', max=0.9999, min=1e-05, readout_format='.5f…"
      ]
     },
     "metadata": {},
     "output_type": "display_data"
    },
    {
     "data": {
      "application/vnd.jupyter.widget-view+json": {
       "model_id": "8ad0b265b0ad493f99ffcaa10d7b58d8",
       "version_major": 2,
       "version_minor": 0
      },
      "text/plain": [
       "FloatSlider(value=1e-05, continuous_update=False, description='61', max=0.9999, min=1e-05, readout_format='.5f…"
      ]
     },
     "metadata": {},
     "output_type": "display_data"
    },
    {
     "data": {
      "application/vnd.jupyter.widget-view+json": {
       "model_id": "57968ea508194a8a96dad7a0fef8666a",
       "version_major": 2,
       "version_minor": 0
      },
      "text/plain": [
       "FloatSlider(value=1e-05, continuous_update=False, description='62', max=0.9999, min=1e-05, readout_format='.5f…"
      ]
     },
     "metadata": {},
     "output_type": "display_data"
    },
    {
     "data": {
      "application/vnd.jupyter.widget-view+json": {
       "model_id": "73cef0f147fb48f082b3731747ee1723",
       "version_major": 2,
       "version_minor": 0
      },
      "text/plain": [
       "FloatSlider(value=1e-05, continuous_update=False, description='63', max=0.9999, min=1e-05, readout_format='.5f…"
      ]
     },
     "metadata": {},
     "output_type": "display_data"
    },
    {
     "data": {
      "application/vnd.jupyter.widget-view+json": {
       "model_id": "14e65e4593bd4a2d9c6152e583acfd63",
       "version_major": 2,
       "version_minor": 0
      },
      "text/plain": [
       "FloatSlider(value=1e-05, continuous_update=False, description='64', max=0.9999, min=1e-05, readout_format='.5f…"
      ]
     },
     "metadata": {},
     "output_type": "display_data"
    },
    {
     "data": {
      "application/vnd.jupyter.widget-view+json": {
       "model_id": "0e028ad521584447acf71fefc9725af6",
       "version_major": 2,
       "version_minor": 0
      },
      "text/plain": [
       "FloatSlider(value=1e-05, continuous_update=False, description='65', max=0.9999, min=1e-05, readout_format='.5f…"
      ]
     },
     "metadata": {},
     "output_type": "display_data"
    },
    {
     "data": {
      "application/vnd.jupyter.widget-view+json": {
       "model_id": "12c76c7a88e54674940bed1436a0d782",
       "version_major": 2,
       "version_minor": 0
      },
      "text/plain": [
       "FloatSlider(value=1e-05, continuous_update=False, description='66', max=0.9999, min=1e-05, readout_format='.5f…"
      ]
     },
     "metadata": {},
     "output_type": "display_data"
    },
    {
     "data": {
      "application/vnd.jupyter.widget-view+json": {
       "model_id": "01ef617379ae4d119edecaf8320f6f8b",
       "version_major": 2,
       "version_minor": 0
      },
      "text/plain": [
       "FloatSlider(value=1e-05, continuous_update=False, description='67', max=0.9999, min=1e-05, readout_format='.5f…"
      ]
     },
     "metadata": {},
     "output_type": "display_data"
    },
    {
     "data": {
      "application/vnd.jupyter.widget-view+json": {
       "model_id": "d48781f01be74268aafb2b9432a435c9",
       "version_major": 2,
       "version_minor": 0
      },
      "text/plain": [
       "FloatSlider(value=1e-05, continuous_update=False, description='68', max=0.9999, min=1e-05, readout_format='.5f…"
      ]
     },
     "metadata": {},
     "output_type": "display_data"
    },
    {
     "data": {
      "application/vnd.jupyter.widget-view+json": {
       "model_id": "6b156afc538648a7965690203d63844b",
       "version_major": 2,
       "version_minor": 0
      },
      "text/plain": [
       "FloatSlider(value=1e-05, continuous_update=False, description='69', max=0.9999, min=1e-05, readout_format='.5f…"
      ]
     },
     "metadata": {},
     "output_type": "display_data"
    },
    {
     "data": {
      "application/vnd.jupyter.widget-view+json": {
       "model_id": "b29dd34961e54890a44fc53f7d03fa1c",
       "version_major": 2,
       "version_minor": 0
      },
      "text/plain": [
       "FloatSlider(value=1e-05, continuous_update=False, description='70', max=0.9999, min=1e-05, readout_format='.5f…"
      ]
     },
     "metadata": {},
     "output_type": "display_data"
    },
    {
     "data": {
      "application/vnd.jupyter.widget-view+json": {
       "model_id": "4ab6edc4874d4cff8eff0108fcb744f6",
       "version_major": 2,
       "version_minor": 0
      },
      "text/plain": [
       "FloatSlider(value=1e-05, continuous_update=False, description='71', max=0.9999, min=1e-05, readout_format='.5f…"
      ]
     },
     "metadata": {},
     "output_type": "display_data"
    },
    {
     "data": {
      "application/vnd.jupyter.widget-view+json": {
       "model_id": "67419caaea4b434d84f510cd8df7491a",
       "version_major": 2,
       "version_minor": 0
      },
      "text/plain": [
       "FloatSlider(value=1e-05, continuous_update=False, description='72', max=0.9999, min=1e-05, readout_format='.5f…"
      ]
     },
     "metadata": {},
     "output_type": "display_data"
    },
    {
     "data": {
      "application/vnd.jupyter.widget-view+json": {
       "model_id": "8c98f9dbd23b4186949ecdd459561548",
       "version_major": 2,
       "version_minor": 0
      },
      "text/plain": [
       "FloatSlider(value=1e-05, continuous_update=False, description='73', max=0.9999, min=1e-05, readout_format='.5f…"
      ]
     },
     "metadata": {},
     "output_type": "display_data"
    },
    {
     "data": {
      "application/vnd.jupyter.widget-view+json": {
       "model_id": "77862607135741e3a585b41872bc79d2",
       "version_major": 2,
       "version_minor": 0
      },
      "text/plain": [
       "FloatSlider(value=1e-05, continuous_update=False, description='74', max=0.9999, min=1e-05, readout_format='.5f…"
      ]
     },
     "metadata": {},
     "output_type": "display_data"
    },
    {
     "data": {
      "application/vnd.jupyter.widget-view+json": {
       "model_id": "a6e665b97bd34106aa47da2548b233fa",
       "version_major": 2,
       "version_minor": 0
      },
      "text/plain": [
       "FloatSlider(value=1e-05, continuous_update=False, description='75', max=0.9999, min=1e-05, readout_format='.5f…"
      ]
     },
     "metadata": {},
     "output_type": "display_data"
    },
    {
     "data": {
      "application/vnd.jupyter.widget-view+json": {
       "model_id": "4ce203027ade429880b351a4ff4f9423",
       "version_major": 2,
       "version_minor": 0
      },
      "text/plain": [
       "FloatSlider(value=1e-05, continuous_update=False, description='76', max=0.9999, min=1e-05, readout_format='.5f…"
      ]
     },
     "metadata": {},
     "output_type": "display_data"
    },
    {
     "data": {
      "application/vnd.jupyter.widget-view+json": {
       "model_id": "949f36fbffd2459ca993485d2e1b854a",
       "version_major": 2,
       "version_minor": 0
      },
      "text/plain": [
       "FloatSlider(value=1e-05, continuous_update=False, description='77', max=0.9999, min=1e-05, readout_format='.5f…"
      ]
     },
     "metadata": {},
     "output_type": "display_data"
    },
    {
     "data": {
      "application/vnd.jupyter.widget-view+json": {
       "model_id": "18fcfaa1c8d246a29de69b438526f510",
       "version_major": 2,
       "version_minor": 0
      },
      "text/plain": [
       "FloatSlider(value=1e-05, continuous_update=False, description='78', max=0.9999, min=1e-05, readout_format='.5f…"
      ]
     },
     "metadata": {},
     "output_type": "display_data"
    },
    {
     "data": {
      "application/vnd.jupyter.widget-view+json": {
       "model_id": "73f47880a3284065939595f8211f210c",
       "version_major": 2,
       "version_minor": 0
      },
      "text/plain": [
       "FloatSlider(value=1e-05, continuous_update=False, description='79', max=0.9999, min=1e-05, readout_format='.5f…"
      ]
     },
     "metadata": {},
     "output_type": "display_data"
    },
    {
     "data": {
      "application/vnd.jupyter.widget-view+json": {
       "model_id": "2c3c999096d5434c95e1bbad47ef24af",
       "version_major": 2,
       "version_minor": 0
      },
      "text/plain": [
       "FloatSlider(value=1e-05, continuous_update=False, description='80', max=0.9999, min=1e-05, readout_format='.5f…"
      ]
     },
     "metadata": {},
     "output_type": "display_data"
    },
    {
     "data": {
      "application/vnd.jupyter.widget-view+json": {
       "model_id": "5fe65dd959e24c8dbcdd7c139514a6fe",
       "version_major": 2,
       "version_minor": 0
      },
      "text/plain": [
       "FloatSlider(value=1e-05, continuous_update=False, description='81', max=0.9999, min=1e-05, readout_format='.5f…"
      ]
     },
     "metadata": {},
     "output_type": "display_data"
    },
    {
     "data": {
      "application/vnd.jupyter.widget-view+json": {
       "model_id": "eb851f2ab76c4c199257bf008a069d0e",
       "version_major": 2,
       "version_minor": 0
      },
      "text/plain": [
       "FloatSlider(value=1e-05, continuous_update=False, description='82', max=0.9999, min=1e-05, readout_format='.5f…"
      ]
     },
     "metadata": {},
     "output_type": "display_data"
    },
    {
     "data": {
      "application/vnd.jupyter.widget-view+json": {
       "model_id": "e3d04ae09b9442b0b70410477641efa8",
       "version_major": 2,
       "version_minor": 0
      },
      "text/plain": [
       "FloatSlider(value=1e-05, continuous_update=False, description='83', max=0.9999, min=1e-05, readout_format='.5f…"
      ]
     },
     "metadata": {},
     "output_type": "display_data"
    },
    {
     "data": {
      "application/vnd.jupyter.widget-view+json": {
       "model_id": "d5d0bc40421d4e7e9ddb8001f11c0b61",
       "version_major": 2,
       "version_minor": 0
      },
      "text/plain": [
       "FloatSlider(value=1e-05, continuous_update=False, description='84', max=0.9999, min=1e-05, readout_format='.5f…"
      ]
     },
     "metadata": {},
     "output_type": "display_data"
    },
    {
     "data": {
      "application/vnd.jupyter.widget-view+json": {
       "model_id": "010d611e34174b1ba07169af758e61a5",
       "version_major": 2,
       "version_minor": 0
      },
      "text/plain": [
       "FloatSlider(value=1e-05, continuous_update=False, description='85', max=0.9999, min=1e-05, readout_format='.5f…"
      ]
     },
     "metadata": {},
     "output_type": "display_data"
    },
    {
     "data": {
      "application/vnd.jupyter.widget-view+json": {
       "model_id": "39399e28dfda49fb93ddbddb3a3c83da",
       "version_major": 2,
       "version_minor": 0
      },
      "text/plain": [
       "FloatSlider(value=1e-05, continuous_update=False, description='86', max=0.9999, min=1e-05, readout_format='.5f…"
      ]
     },
     "metadata": {},
     "output_type": "display_data"
    },
    {
     "data": {
      "application/vnd.jupyter.widget-view+json": {
       "model_id": "c7cba6076ab94738bf1bd5c19937f437",
       "version_major": 2,
       "version_minor": 0
      },
      "text/plain": [
       "FloatSlider(value=1e-05, continuous_update=False, description='87', max=0.9999, min=1e-05, readout_format='.5f…"
      ]
     },
     "metadata": {},
     "output_type": "display_data"
    },
    {
     "data": {
      "application/vnd.jupyter.widget-view+json": {
       "model_id": "ffac2c4bfc5a4c88a698968f623489ad",
       "version_major": 2,
       "version_minor": 0
      },
      "text/plain": [
       "FloatSlider(value=1e-05, continuous_update=False, description='88', max=0.9999, min=1e-05, readout_format='.5f…"
      ]
     },
     "metadata": {},
     "output_type": "display_data"
    },
    {
     "data": {
      "application/vnd.jupyter.widget-view+json": {
       "model_id": "c060ac7225854499b01143fd3270af5f",
       "version_major": 2,
       "version_minor": 0
      },
      "text/plain": [
       "FloatSlider(value=1e-05, continuous_update=False, description='89', max=0.9999, min=1e-05, readout_format='.5f…"
      ]
     },
     "metadata": {},
     "output_type": "display_data"
    },
    {
     "data": {
      "application/vnd.jupyter.widget-view+json": {
       "model_id": "a588597ac4b5474a92559c1a83094924",
       "version_major": 2,
       "version_minor": 0
      },
      "text/plain": [
       "FloatSlider(value=1e-05, continuous_update=False, description='90', max=0.9999, min=1e-05, readout_format='.5f…"
      ]
     },
     "metadata": {},
     "output_type": "display_data"
    },
    {
     "data": {
      "application/vnd.jupyter.widget-view+json": {
       "model_id": "3af70d94bf144497a484280b9aec21b9",
       "version_major": 2,
       "version_minor": 0
      },
      "text/plain": [
       "FloatSlider(value=1e-05, continuous_update=False, description='91', max=0.9999, min=1e-05, readout_format='.5f…"
      ]
     },
     "metadata": {},
     "output_type": "display_data"
    },
    {
     "data": {
      "application/vnd.jupyter.widget-view+json": {
       "model_id": "6cf43f969bac4f87b90b310d9a8e3745",
       "version_major": 2,
       "version_minor": 0
      },
      "text/plain": [
       "FloatSlider(value=1e-05, continuous_update=False, description='92', max=0.9999, min=1e-05, readout_format='.5f…"
      ]
     },
     "metadata": {},
     "output_type": "display_data"
    },
    {
     "data": {
      "application/vnd.jupyter.widget-view+json": {
       "model_id": "ac0f9379525a4086bd12115a66f1712e",
       "version_major": 2,
       "version_minor": 0
      },
      "text/plain": [
       "FloatSlider(value=1e-05, continuous_update=False, description='93', max=0.9999, min=1e-05, readout_format='.5f…"
      ]
     },
     "metadata": {},
     "output_type": "display_data"
    },
    {
     "data": {
      "application/vnd.jupyter.widget-view+json": {
       "model_id": "c013639bba9c48aba70dcde51967a772",
       "version_major": 2,
       "version_minor": 0
      },
      "text/plain": [
       "FloatSlider(value=1e-05, continuous_update=False, description='94', max=0.9999, min=1e-05, readout_format='.5f…"
      ]
     },
     "metadata": {},
     "output_type": "display_data"
    },
    {
     "data": {
      "application/vnd.jupyter.widget-view+json": {
       "model_id": "e92cb257d9ee4b268ec512668e8fb025",
       "version_major": 2,
       "version_minor": 0
      },
      "text/plain": [
       "FloatSlider(value=1e-05, continuous_update=False, description='95', max=0.9999, min=1e-05, readout_format='.5f…"
      ]
     },
     "metadata": {},
     "output_type": "display_data"
    },
    {
     "data": {
      "application/vnd.jupyter.widget-view+json": {
       "model_id": "696c0c8dbfce466f936f1bc885230e85",
       "version_major": 2,
       "version_minor": 0
      },
      "text/plain": [
       "FloatSlider(value=1e-05, continuous_update=False, description='96', max=0.9999, min=1e-05, readout_format='.5f…"
      ]
     },
     "metadata": {},
     "output_type": "display_data"
    },
    {
     "data": {
      "application/vnd.jupyter.widget-view+json": {
       "model_id": "3c3700eb87f04dba9887e3499b0b347f",
       "version_major": 2,
       "version_minor": 0
      },
      "text/plain": [
       "FloatSlider(value=1e-05, continuous_update=False, description='97', max=0.9999, min=1e-05, readout_format='.5f…"
      ]
     },
     "metadata": {},
     "output_type": "display_data"
    },
    {
     "data": {
      "application/vnd.jupyter.widget-view+json": {
       "model_id": "fa4dd6bf1321480f80f00487b10f79f0",
       "version_major": 2,
       "version_minor": 0
      },
      "text/plain": [
       "FloatSlider(value=1e-05, continuous_update=False, description='98', max=0.9999, min=1e-05, readout_format='.5f…"
      ]
     },
     "metadata": {},
     "output_type": "display_data"
    },
    {
     "data": {
      "application/vnd.jupyter.widget-view+json": {
       "model_id": "16e2c558828b407782b6eda1c371e4ca",
       "version_major": 2,
       "version_minor": 0
      },
      "text/plain": [
       "FloatSlider(value=1e-05, continuous_update=False, description='99', max=0.9999, min=1e-05, readout_format='.5f…"
      ]
     },
     "metadata": {},
     "output_type": "display_data"
    },
    {
     "data": {
      "application/vnd.jupyter.widget-view+json": {
       "model_id": "a012c75f5eea4807ad489c02c82ed7cb",
       "version_major": 2,
       "version_minor": 0
      },
      "text/plain": [
       "FloatSlider(value=1e-05, continuous_update=False, description='100', max=0.9999, min=1e-05, readout_format='.5…"
      ]
     },
     "metadata": {},
     "output_type": "display_data"
    },
    {
     "data": {
      "application/vnd.jupyter.widget-view+json": {
       "model_id": "d573a6c4a7864fec90fa2c54f9d1cccd",
       "version_major": 2,
       "version_minor": 0
      },
      "text/plain": [
       "FloatSlider(value=1e-05, continuous_update=False, description='101', max=0.9999, min=1e-05, readout_format='.5…"
      ]
     },
     "metadata": {},
     "output_type": "display_data"
    },
    {
     "data": {
      "application/vnd.jupyter.widget-view+json": {
       "model_id": "996627b6c56d4e7d922536627ca3da69",
       "version_major": 2,
       "version_minor": 0
      },
      "text/plain": [
       "FloatSlider(value=1e-05, continuous_update=False, description='102', max=0.9999, min=1e-05, readout_format='.5…"
      ]
     },
     "metadata": {},
     "output_type": "display_data"
    },
    {
     "data": {
      "application/vnd.jupyter.widget-view+json": {
       "model_id": "2886c0ef42144c05a906f366e832cc89",
       "version_major": 2,
       "version_minor": 0
      },
      "text/plain": [
       "FloatSlider(value=1e-05, continuous_update=False, description='103', max=0.9999, min=1e-05, readout_format='.5…"
      ]
     },
     "metadata": {},
     "output_type": "display_data"
    },
    {
     "data": {
      "application/vnd.jupyter.widget-view+json": {
       "model_id": "13bf61a1960744cc8e9e6e8b94d97efb",
       "version_major": 2,
       "version_minor": 0
      },
      "text/plain": [
       "FloatSlider(value=1e-05, continuous_update=False, description='104', max=0.9999, min=1e-05, readout_format='.5…"
      ]
     },
     "metadata": {},
     "output_type": "display_data"
    },
    {
     "data": {
      "application/vnd.jupyter.widget-view+json": {
       "model_id": "e41b32c493aa4488a393e73e2f68dbab",
       "version_major": 2,
       "version_minor": 0
      },
      "text/plain": [
       "FloatSlider(value=1e-05, continuous_update=False, description='105', max=0.9999, min=1e-05, readout_format='.5…"
      ]
     },
     "metadata": {},
     "output_type": "display_data"
    },
    {
     "data": {
      "application/vnd.jupyter.widget-view+json": {
       "model_id": "525faf29ebfc4dcb856cf51a203c7d1e",
       "version_major": 2,
       "version_minor": 0
      },
      "text/plain": [
       "FloatSlider(value=1e-05, continuous_update=False, description='106', max=0.9999, min=1e-05, readout_format='.5…"
      ]
     },
     "metadata": {},
     "output_type": "display_data"
    },
    {
     "data": {
      "application/vnd.jupyter.widget-view+json": {
       "model_id": "43ca9ff3ee2d4cbeb01836101dbc187e",
       "version_major": 2,
       "version_minor": 0
      },
      "text/plain": [
       "FloatSlider(value=1e-05, continuous_update=False, description='107', max=0.9999, min=1e-05, readout_format='.5…"
      ]
     },
     "metadata": {},
     "output_type": "display_data"
    },
    {
     "data": {
      "application/vnd.jupyter.widget-view+json": {
       "model_id": "f10b77c9aeaa431498646e5bbb2ace14",
       "version_major": 2,
       "version_minor": 0
      },
      "text/plain": [
       "FloatSlider(value=1e-05, continuous_update=False, description='108', max=0.9999, min=1e-05, readout_format='.5…"
      ]
     },
     "metadata": {},
     "output_type": "display_data"
    },
    {
     "data": {
      "application/vnd.jupyter.widget-view+json": {
       "model_id": "c6dee48ba8b84efabf39fdc69ea0bbd2",
       "version_major": 2,
       "version_minor": 0
      },
      "text/plain": [
       "FloatSlider(value=1e-05, continuous_update=False, description='109', max=0.9999, min=1e-05, readout_format='.5…"
      ]
     },
     "metadata": {},
     "output_type": "display_data"
    },
    {
     "data": {
      "application/vnd.jupyter.widget-view+json": {
       "model_id": "0a8935d8bf54412e9352a063b42883e7",
       "version_major": 2,
       "version_minor": 0
      },
      "text/plain": [
       "FloatSlider(value=1e-05, continuous_update=False, description='110', max=0.9999, min=1e-05, readout_format='.5…"
      ]
     },
     "metadata": {},
     "output_type": "display_data"
    },
    {
     "data": {
      "application/vnd.jupyter.widget-view+json": {
       "model_id": "a9f4557a54a8400099090d5aeea2ca1e",
       "version_major": 2,
       "version_minor": 0
      },
      "text/plain": [
       "FloatSlider(value=1e-05, continuous_update=False, description='111', max=0.9999, min=1e-05, readout_format='.5…"
      ]
     },
     "metadata": {},
     "output_type": "display_data"
    },
    {
     "data": {
      "application/vnd.jupyter.widget-view+json": {
       "model_id": "c9588bf75f6e4e91be33e7ee485651ba",
       "version_major": 2,
       "version_minor": 0
      },
      "text/plain": [
       "FloatSlider(value=1e-05, continuous_update=False, description='112', max=0.9999, min=1e-05, readout_format='.5…"
      ]
     },
     "metadata": {},
     "output_type": "display_data"
    },
    {
     "data": {
      "application/vnd.jupyter.widget-view+json": {
       "model_id": "96da1afbea7042d1b4216a8292a40429",
       "version_major": 2,
       "version_minor": 0
      },
      "text/plain": [
       "FloatSlider(value=1e-05, continuous_update=False, description='113', max=0.9999, min=1e-05, readout_format='.5…"
      ]
     },
     "metadata": {},
     "output_type": "display_data"
    },
    {
     "data": {
      "application/vnd.jupyter.widget-view+json": {
       "model_id": "82a251a41cff4f71aca12b7299a299c2",
       "version_major": 2,
       "version_minor": 0
      },
      "text/plain": [
       "FloatSlider(value=1e-05, continuous_update=False, description='114', max=0.9999, min=1e-05, readout_format='.5…"
      ]
     },
     "metadata": {},
     "output_type": "display_data"
    },
    {
     "data": {
      "application/vnd.jupyter.widget-view+json": {
       "model_id": "5317b1cfb72243c49c890bc60aacc624",
       "version_major": 2,
       "version_minor": 0
      },
      "text/plain": [
       "FloatSlider(value=1e-05, continuous_update=False, description='115', max=0.9999, min=1e-05, readout_format='.5…"
      ]
     },
     "metadata": {},
     "output_type": "display_data"
    },
    {
     "data": {
      "application/vnd.jupyter.widget-view+json": {
       "model_id": "d1b308a3a3e04f879155eb9bb35745d5",
       "version_major": 2,
       "version_minor": 0
      },
      "text/plain": [
       "FloatSlider(value=1e-05, continuous_update=False, description='116', max=0.9999, min=1e-05, readout_format='.5…"
      ]
     },
     "metadata": {},
     "output_type": "display_data"
    },
    {
     "data": {
      "application/vnd.jupyter.widget-view+json": {
       "model_id": "7ff26988950b46118009fbfe2491f670",
       "version_major": 2,
       "version_minor": 0
      },
      "text/plain": [
       "FloatSlider(value=1e-05, continuous_update=False, description='117', max=0.9999, min=1e-05, readout_format='.5…"
      ]
     },
     "metadata": {},
     "output_type": "display_data"
    },
    {
     "data": {
      "application/vnd.jupyter.widget-view+json": {
       "model_id": "1326d7be81ca4cc3acfbb000c6e6e6b0",
       "version_major": 2,
       "version_minor": 0
      },
      "text/plain": [
       "FloatSlider(value=1e-05, continuous_update=False, description='118', max=0.9999, min=1e-05, readout_format='.5…"
      ]
     },
     "metadata": {},
     "output_type": "display_data"
    },
    {
     "data": {
      "application/vnd.jupyter.widget-view+json": {
       "model_id": "a9cfc2d60d2946b0b649557ed939aaf2",
       "version_major": 2,
       "version_minor": 0
      },
      "text/plain": [
       "FloatSlider(value=1e-05, continuous_update=False, description='119', max=0.9999, min=1e-05, readout_format='.5…"
      ]
     },
     "metadata": {},
     "output_type": "display_data"
    },
    {
     "data": {
      "application/vnd.jupyter.widget-view+json": {
       "model_id": "49fd9f22bd244cc4aec80c3177e9ca0d",
       "version_major": 2,
       "version_minor": 0
      },
      "text/plain": [
       "FloatSlider(value=1e-05, continuous_update=False, description='120', max=0.9999, min=1e-05, readout_format='.5…"
      ]
     },
     "metadata": {},
     "output_type": "display_data"
    },
    {
     "data": {
      "application/vnd.jupyter.widget-view+json": {
       "model_id": "abe7b8967eff4206988502342f67dd4a",
       "version_major": 2,
       "version_minor": 0
      },
      "text/plain": [
       "FloatSlider(value=1e-05, continuous_update=False, description='121', max=0.9999, min=1e-05, readout_format='.5…"
      ]
     },
     "metadata": {},
     "output_type": "display_data"
    },
    {
     "data": {
      "application/vnd.jupyter.widget-view+json": {
       "model_id": "930f0fb1cc7c4f3ca3991a6489e59bcf",
       "version_major": 2,
       "version_minor": 0
      },
      "text/plain": [
       "FloatSlider(value=1e-05, continuous_update=False, description='122', max=0.9999, min=1e-05, readout_format='.5…"
      ]
     },
     "metadata": {},
     "output_type": "display_data"
    },
    {
     "data": {
      "application/vnd.jupyter.widget-view+json": {
       "model_id": "b65a7eb1c0a64ced9eda8e85e418dc8c",
       "version_major": 2,
       "version_minor": 0
      },
      "text/plain": [
       "FloatSlider(value=1e-05, continuous_update=False, description='123', max=0.9999, min=1e-05, readout_format='.5…"
      ]
     },
     "metadata": {},
     "output_type": "display_data"
    },
    {
     "data": {
      "application/vnd.jupyter.widget-view+json": {
       "model_id": "b7cb8cd37b0f40f485a988d975cd07f2",
       "version_major": 2,
       "version_minor": 0
      },
      "text/plain": [
       "FloatSlider(value=1e-05, continuous_update=False, description='124', max=0.9999, min=1e-05, readout_format='.5…"
      ]
     },
     "metadata": {},
     "output_type": "display_data"
    },
    {
     "data": {
      "application/vnd.jupyter.widget-view+json": {
       "model_id": "901f712468854cb4baa5aae33deb2c42",
       "version_major": 2,
       "version_minor": 0
      },
      "text/plain": [
       "FloatSlider(value=1e-05, continuous_update=False, description='125', max=0.9999, min=1e-05, readout_format='.5…"
      ]
     },
     "metadata": {},
     "output_type": "display_data"
    },
    {
     "data": {
      "application/vnd.jupyter.widget-view+json": {
       "model_id": "995fa19f39aa4bfe8464e92be1db4586",
       "version_major": 2,
       "version_minor": 0
      },
      "text/plain": [
       "FloatSlider(value=1e-05, continuous_update=False, description='126', max=0.9999, min=1e-05, readout_format='.5…"
      ]
     },
     "metadata": {},
     "output_type": "display_data"
    },
    {
     "data": {
      "application/vnd.jupyter.widget-view+json": {
       "model_id": "b1d76263f3b84e41a73df509e577b399",
       "version_major": 2,
       "version_minor": 0
      },
      "text/plain": [
       "FloatSlider(value=1e-05, continuous_update=False, description='127', max=0.9999, min=1e-05, readout_format='.5…"
      ]
     },
     "metadata": {},
     "output_type": "display_data"
    },
    {
     "data": {
      "application/vnd.jupyter.widget-view+json": {
       "model_id": "ebb51a3b2033411cbde1e51a2f007761",
       "version_major": 2,
       "version_minor": 0
      },
      "text/plain": [
       "FloatSlider(value=1e-05, continuous_update=False, description='128', max=0.9999, min=1e-05, readout_format='.5…"
      ]
     },
     "metadata": {},
     "output_type": "display_data"
    },
    {
     "data": {
      "application/vnd.jupyter.widget-view+json": {
       "model_id": "1a7e31d5f9694ce98e43057246da128a",
       "version_major": 2,
       "version_minor": 0
      },
      "text/plain": [
       "FloatSlider(value=1e-05, continuous_update=False, description='129', max=0.9999, min=1e-05, readout_format='.5…"
      ]
     },
     "metadata": {},
     "output_type": "display_data"
    },
    {
     "data": {
      "application/vnd.jupyter.widget-view+json": {
       "model_id": "34115ff8f06d4dcbbee28cb94fa51ae9",
       "version_major": 2,
       "version_minor": 0
      },
      "text/plain": [
       "FloatSlider(value=1e-05, continuous_update=False, description='130', max=0.9999, min=1e-05, readout_format='.5…"
      ]
     },
     "metadata": {},
     "output_type": "display_data"
    },
    {
     "data": {
      "application/vnd.jupyter.widget-view+json": {
       "model_id": "262c91fb0bcc4a53ad55cca0afe4927f",
       "version_major": 2,
       "version_minor": 0
      },
      "text/plain": [
       "FloatSlider(value=1e-05, continuous_update=False, description='131', max=0.9999, min=1e-05, readout_format='.5…"
      ]
     },
     "metadata": {},
     "output_type": "display_data"
    },
    {
     "data": {
      "application/vnd.jupyter.widget-view+json": {
       "model_id": "79773752d94d4b2ab148a3658d5e6071",
       "version_major": 2,
       "version_minor": 0
      },
      "text/plain": [
       "FloatSlider(value=1e-05, continuous_update=False, description='132', max=0.9999, min=1e-05, readout_format='.5…"
      ]
     },
     "metadata": {},
     "output_type": "display_data"
    },
    {
     "data": {
      "application/vnd.jupyter.widget-view+json": {
       "model_id": "f64481993c6a43568967f7284bcbca34",
       "version_major": 2,
       "version_minor": 0
      },
      "text/plain": [
       "FloatSlider(value=1e-05, continuous_update=False, description='133', max=0.9999, min=1e-05, readout_format='.5…"
      ]
     },
     "metadata": {},
     "output_type": "display_data"
    },
    {
     "data": {
      "application/vnd.jupyter.widget-view+json": {
       "model_id": "4729be131c47442bb891a737dd2b0bf1",
       "version_major": 2,
       "version_minor": 0
      },
      "text/plain": [
       "FloatSlider(value=1e-05, continuous_update=False, description='134', max=0.9999, min=1e-05, readout_format='.5…"
      ]
     },
     "metadata": {},
     "output_type": "display_data"
    },
    {
     "data": {
      "application/vnd.jupyter.widget-view+json": {
       "model_id": "2d4092b4436f485ca8cfccc1b1d138b3",
       "version_major": 2,
       "version_minor": 0
      },
      "text/plain": [
       "FloatSlider(value=1e-05, continuous_update=False, description='135', max=0.9999, min=1e-05, readout_format='.5…"
      ]
     },
     "metadata": {},
     "output_type": "display_data"
    },
    {
     "data": {
      "application/vnd.jupyter.widget-view+json": {
       "model_id": "1bfadd86cfe24954a42831e7079ce606",
       "version_major": 2,
       "version_minor": 0
      },
      "text/plain": [
       "FloatSlider(value=1e-05, continuous_update=False, description='136', max=0.9999, min=1e-05, readout_format='.5…"
      ]
     },
     "metadata": {},
     "output_type": "display_data"
    },
    {
     "data": {
      "application/vnd.jupyter.widget-view+json": {
       "model_id": "f965b437e86f45ca8d39d7e464c4ec30",
       "version_major": 2,
       "version_minor": 0
      },
      "text/plain": [
       "FloatSlider(value=1e-05, continuous_update=False, description='137', max=0.9999, min=1e-05, readout_format='.5…"
      ]
     },
     "metadata": {},
     "output_type": "display_data"
    },
    {
     "data": {
      "application/vnd.jupyter.widget-view+json": {
       "model_id": "77969b5096a14194a62f6a4446344a16",
       "version_major": 2,
       "version_minor": 0
      },
      "text/plain": [
       "FloatSlider(value=1e-05, continuous_update=False, description='138', max=0.9999, min=1e-05, readout_format='.5…"
      ]
     },
     "metadata": {},
     "output_type": "display_data"
    },
    {
     "data": {
      "application/vnd.jupyter.widget-view+json": {
       "model_id": "8492b5c1514a497b863cd0d9aa2cff2a",
       "version_major": 2,
       "version_minor": 0
      },
      "text/plain": [
       "FloatSlider(value=1e-05, continuous_update=False, description='139', max=0.9999, min=1e-05, readout_format='.5…"
      ]
     },
     "metadata": {},
     "output_type": "display_data"
    },
    {
     "data": {
      "application/vnd.jupyter.widget-view+json": {
       "model_id": "59cc3a75922f4145a943789ca43c496f",
       "version_major": 2,
       "version_minor": 0
      },
      "text/plain": [
       "FloatSlider(value=1e-05, continuous_update=False, description='140', max=0.9999, min=1e-05, readout_format='.5…"
      ]
     },
     "metadata": {},
     "output_type": "display_data"
    },
    {
     "data": {
      "application/vnd.jupyter.widget-view+json": {
       "model_id": "d5ff4970e3c54fcd8ea14262c111d329",
       "version_major": 2,
       "version_minor": 0
      },
      "text/plain": [
       "FloatSlider(value=1e-05, continuous_update=False, description='141', max=0.9999, min=1e-05, readout_format='.5…"
      ]
     },
     "metadata": {},
     "output_type": "display_data"
    },
    {
     "data": {
      "application/vnd.jupyter.widget-view+json": {
       "model_id": "432ee289ae7a47cb99d3e656f6ab5c79",
       "version_major": 2,
       "version_minor": 0
      },
      "text/plain": [
       "FloatSlider(value=1e-05, continuous_update=False, description='142', max=0.9999, min=1e-05, readout_format='.5…"
      ]
     },
     "metadata": {},
     "output_type": "display_data"
    },
    {
     "data": {
      "application/vnd.jupyter.widget-view+json": {
       "model_id": "762abd04ab384608bfef285e70ee7069",
       "version_major": 2,
       "version_minor": 0
      },
      "text/plain": [
       "FloatSlider(value=1e-05, continuous_update=False, description='143', max=0.9999, min=1e-05, readout_format='.5…"
      ]
     },
     "metadata": {},
     "output_type": "display_data"
    },
    {
     "data": {
      "application/vnd.jupyter.widget-view+json": {
       "model_id": "620253ed6efe479aab506f35706a4fe1",
       "version_major": 2,
       "version_minor": 0
      },
      "text/plain": [
       "FloatSlider(value=1e-05, continuous_update=False, description='144', max=0.9999, min=1e-05, readout_format='.5…"
      ]
     },
     "metadata": {},
     "output_type": "display_data"
    },
    {
     "data": {
      "application/vnd.jupyter.widget-view+json": {
       "model_id": "5746820891c14f93b1b6297b3eded406",
       "version_major": 2,
       "version_minor": 0
      },
      "text/plain": [
       "FloatSlider(value=1e-05, continuous_update=False, description='145', max=0.9999, min=1e-05, readout_format='.5…"
      ]
     },
     "metadata": {},
     "output_type": "display_data"
    },
    {
     "data": {
      "application/vnd.jupyter.widget-view+json": {
       "model_id": "10d1f8c76e42454184cbf5a4a8b41e88",
       "version_major": 2,
       "version_minor": 0
      },
      "text/plain": [
       "FloatSlider(value=1e-05, continuous_update=False, description='146', max=0.9999, min=1e-05, readout_format='.5…"
      ]
     },
     "metadata": {},
     "output_type": "display_data"
    },
    {
     "data": {
      "application/vnd.jupyter.widget-view+json": {
       "model_id": "a5f5ff94065f449fa5518ccfe22c3cef",
       "version_major": 2,
       "version_minor": 0
      },
      "text/plain": [
       "FloatSlider(value=1e-05, continuous_update=False, description='147', max=0.9999, min=1e-05, readout_format='.5…"
      ]
     },
     "metadata": {},
     "output_type": "display_data"
    },
    {
     "data": {
      "application/vnd.jupyter.widget-view+json": {
       "model_id": "85c24d16e6284927b5ce03f085eaeb36",
       "version_major": 2,
       "version_minor": 0
      },
      "text/plain": [
       "FloatSlider(value=1e-05, continuous_update=False, description='148', max=0.9999, min=1e-05, readout_format='.5…"
      ]
     },
     "metadata": {},
     "output_type": "display_data"
    },
    {
     "data": {
      "application/vnd.jupyter.widget-view+json": {
       "model_id": "ea32e1b92c314f5183c88ec29b3ff76a",
       "version_major": 2,
       "version_minor": 0
      },
      "text/plain": [
       "FloatSlider(value=1e-05, continuous_update=False, description='149', max=0.9999, min=1e-05, readout_format='.5…"
      ]
     },
     "metadata": {},
     "output_type": "display_data"
    },
    {
     "data": {
      "application/vnd.jupyter.widget-view+json": {
       "model_id": "856664f791a64b8fa05b00103e869284",
       "version_major": 2,
       "version_minor": 0
      },
      "text/plain": [
       "FloatSlider(value=1e-05, continuous_update=False, description='150', max=0.9999, min=1e-05, readout_format='.5…"
      ]
     },
     "metadata": {},
     "output_type": "display_data"
    },
    {
     "data": {
      "application/vnd.jupyter.widget-view+json": {
       "model_id": "4c52105912fd49e49c42ef23903a3261",
       "version_major": 2,
       "version_minor": 0
      },
      "text/plain": [
       "FloatSlider(value=1e-05, continuous_update=False, description='151', max=0.9999, min=1e-05, readout_format='.5…"
      ]
     },
     "metadata": {},
     "output_type": "display_data"
    },
    {
     "data": {
      "application/vnd.jupyter.widget-view+json": {
       "model_id": "5e147019319f451d884dcc07bbf91be3",
       "version_major": 2,
       "version_minor": 0
      },
      "text/plain": [
       "FloatSlider(value=1e-05, continuous_update=False, description='152', max=0.9999, min=1e-05, readout_format='.5…"
      ]
     },
     "metadata": {},
     "output_type": "display_data"
    },
    {
     "data": {
      "application/vnd.jupyter.widget-view+json": {
       "model_id": "19f83f5b08a64ed0b118036a9903a5a9",
       "version_major": 2,
       "version_minor": 0
      },
      "text/plain": [
       "FloatSlider(value=1e-05, continuous_update=False, description='153', max=0.9999, min=1e-05, readout_format='.5…"
      ]
     },
     "metadata": {},
     "output_type": "display_data"
    },
    {
     "data": {
      "application/vnd.jupyter.widget-view+json": {
       "model_id": "38b281d82f3a41e4802b5fade978bff4",
       "version_major": 2,
       "version_minor": 0
      },
      "text/plain": [
       "FloatSlider(value=1e-05, continuous_update=False, description='154', max=0.9999, min=1e-05, readout_format='.5…"
      ]
     },
     "metadata": {},
     "output_type": "display_data"
    },
    {
     "data": {
      "application/vnd.jupyter.widget-view+json": {
       "model_id": "0e331d11e731405a935e827047986881",
       "version_major": 2,
       "version_minor": 0
      },
      "text/plain": [
       "FloatSlider(value=1e-05, continuous_update=False, description='155', max=0.9999, min=1e-05, readout_format='.5…"
      ]
     },
     "metadata": {},
     "output_type": "display_data"
    },
    {
     "data": {
      "application/vnd.jupyter.widget-view+json": {
       "model_id": "f7430768917b42bc84c5ab2b160102aa",
       "version_major": 2,
       "version_minor": 0
      },
      "text/plain": [
       "FloatSlider(value=1e-05, continuous_update=False, description='156', max=0.9999, min=1e-05, readout_format='.5…"
      ]
     },
     "metadata": {},
     "output_type": "display_data"
    },
    {
     "data": {
      "application/vnd.jupyter.widget-view+json": {
       "model_id": "a1b70785c18c40b9a0b8cb15271442ae",
       "version_major": 2,
       "version_minor": 0
      },
      "text/plain": [
       "FloatSlider(value=1e-05, continuous_update=False, description='157', max=0.9999, min=1e-05, readout_format='.5…"
      ]
     },
     "metadata": {},
     "output_type": "display_data"
    },
    {
     "data": {
      "application/vnd.jupyter.widget-view+json": {
       "model_id": "ccb2f91df33c47d5a7e47647bdea915e",
       "version_major": 2,
       "version_minor": 0
      },
      "text/plain": [
       "FloatSlider(value=1e-05, continuous_update=False, description='158', max=0.9999, min=1e-05, readout_format='.5…"
      ]
     },
     "metadata": {},
     "output_type": "display_data"
    },
    {
     "data": {
      "application/vnd.jupyter.widget-view+json": {
       "model_id": "c1eb051367004167b2ef0f80332016e1",
       "version_major": 2,
       "version_minor": 0
      },
      "text/plain": [
       "FloatSlider(value=1e-05, continuous_update=False, description='159', max=0.9999, min=1e-05, readout_format='.5…"
      ]
     },
     "metadata": {},
     "output_type": "display_data"
    },
    {
     "data": {
      "application/vnd.jupyter.widget-view+json": {
       "model_id": "043bec4da2a141c3b053c76ef898ddc8",
       "version_major": 2,
       "version_minor": 0
      },
      "text/plain": [
       "FloatSlider(value=1e-05, continuous_update=False, description='160', max=0.9999, min=1e-05, readout_format='.5…"
      ]
     },
     "metadata": {},
     "output_type": "display_data"
    },
    {
     "data": {
      "application/vnd.jupyter.widget-view+json": {
       "model_id": "10b67a94749b4ec4a2d0020835189a3b",
       "version_major": 2,
       "version_minor": 0
      },
      "text/plain": [
       "FloatSlider(value=1e-05, continuous_update=False, description='161', max=0.9999, min=1e-05, readout_format='.5…"
      ]
     },
     "metadata": {},
     "output_type": "display_data"
    },
    {
     "data": {
      "application/vnd.jupyter.widget-view+json": {
       "model_id": "7af6539e59a047638309eaa5e1168dc6",
       "version_major": 2,
       "version_minor": 0
      },
      "text/plain": [
       "FloatSlider(value=1e-05, continuous_update=False, description='162', max=0.9999, min=1e-05, readout_format='.5…"
      ]
     },
     "metadata": {},
     "output_type": "display_data"
    },
    {
     "data": {
      "application/vnd.jupyter.widget-view+json": {
       "model_id": "e2a5b08cf59d4e67933affb6df61d901",
       "version_major": 2,
       "version_minor": 0
      },
      "text/plain": [
       "FloatSlider(value=1e-05, continuous_update=False, description='163', max=0.9999, min=1e-05, readout_format='.5…"
      ]
     },
     "metadata": {},
     "output_type": "display_data"
    },
    {
     "data": {
      "application/vnd.jupyter.widget-view+json": {
       "model_id": "b5ef22274e7d4d71913498c0d3ee42bf",
       "version_major": 2,
       "version_minor": 0
      },
      "text/plain": [
       "FloatSlider(value=1e-05, continuous_update=False, description='164', max=0.9999, min=1e-05, readout_format='.5…"
      ]
     },
     "metadata": {},
     "output_type": "display_data"
    },
    {
     "data": {
      "application/vnd.jupyter.widget-view+json": {
       "model_id": "4ac3fbe8d96f4141b7e20463bac5167c",
       "version_major": 2,
       "version_minor": 0
      },
      "text/plain": [
       "FloatSlider(value=1e-05, continuous_update=False, description='165', max=0.9999, min=1e-05, readout_format='.5…"
      ]
     },
     "metadata": {},
     "output_type": "display_data"
    },
    {
     "data": {
      "application/vnd.jupyter.widget-view+json": {
       "model_id": "01aa3195141b4e179db10d4822c41c29",
       "version_major": 2,
       "version_minor": 0
      },
      "text/plain": [
       "FloatSlider(value=1e-05, continuous_update=False, description='166', max=0.9999, min=1e-05, readout_format='.5…"
      ]
     },
     "metadata": {},
     "output_type": "display_data"
    },
    {
     "data": {
      "application/vnd.jupyter.widget-view+json": {
       "model_id": "1e42a94608014a36969dd27717a50ca1",
       "version_major": 2,
       "version_minor": 0
      },
      "text/plain": [
       "FloatSlider(value=1e-05, continuous_update=False, description='167', max=0.9999, min=1e-05, readout_format='.5…"
      ]
     },
     "metadata": {},
     "output_type": "display_data"
    },
    {
     "data": {
      "application/vnd.jupyter.widget-view+json": {
       "model_id": "c20a3b8484bf4f5aaa9391f080fda9bd",
       "version_major": 2,
       "version_minor": 0
      },
      "text/plain": [
       "FloatSlider(value=1e-05, continuous_update=False, description='168', max=0.9999, min=1e-05, readout_format='.5…"
      ]
     },
     "metadata": {},
     "output_type": "display_data"
    },
    {
     "data": {
      "application/vnd.jupyter.widget-view+json": {
       "model_id": "5284454b06f64da5ad807fd85a5e4038",
       "version_major": 2,
       "version_minor": 0
      },
      "text/plain": [
       "FloatSlider(value=1e-05, continuous_update=False, description='169', max=0.9999, min=1e-05, readout_format='.5…"
      ]
     },
     "metadata": {},
     "output_type": "display_data"
    },
    {
     "data": {
      "application/vnd.jupyter.widget-view+json": {
       "model_id": "dc6c4ae840f144efb0e64b6a3d02a4e5",
       "version_major": 2,
       "version_minor": 0
      },
      "text/plain": [
       "FloatSlider(value=1e-05, continuous_update=False, description='170', max=0.9999, min=1e-05, readout_format='.5…"
      ]
     },
     "metadata": {},
     "output_type": "display_data"
    },
    {
     "data": {
      "application/vnd.jupyter.widget-view+json": {
       "model_id": "11cc868cf5e940dd8b97f20b61451db2",
       "version_major": 2,
       "version_minor": 0
      },
      "text/plain": [
       "FloatSlider(value=1e-05, continuous_update=False, description='171', max=0.9999, min=1e-05, readout_format='.5…"
      ]
     },
     "metadata": {},
     "output_type": "display_data"
    },
    {
     "data": {
      "application/vnd.jupyter.widget-view+json": {
       "model_id": "035fc9abf8d9448f902187ec72798f93",
       "version_major": 2,
       "version_minor": 0
      },
      "text/plain": [
       "FloatSlider(value=1e-05, continuous_update=False, description='172', max=0.9999, min=1e-05, readout_format='.5…"
      ]
     },
     "metadata": {},
     "output_type": "display_data"
    },
    {
     "data": {
      "application/vnd.jupyter.widget-view+json": {
       "model_id": "f30307b0c4064010acf51dc0ad42ab3d",
       "version_major": 2,
       "version_minor": 0
      },
      "text/plain": [
       "FloatSlider(value=1e-05, continuous_update=False, description='173', max=0.9999, min=1e-05, readout_format='.5…"
      ]
     },
     "metadata": {},
     "output_type": "display_data"
    },
    {
     "data": {
      "application/vnd.jupyter.widget-view+json": {
       "model_id": "8f49a39543b14103a5069696cf4fc6b0",
       "version_major": 2,
       "version_minor": 0
      },
      "text/plain": [
       "FloatSlider(value=1e-05, continuous_update=False, description='174', max=0.9999, min=1e-05, readout_format='.5…"
      ]
     },
     "metadata": {},
     "output_type": "display_data"
    },
    {
     "data": {
      "application/vnd.jupyter.widget-view+json": {
       "model_id": "afbe64c95c7c4fd8ae870c4afa13fc0b",
       "version_major": 2,
       "version_minor": 0
      },
      "text/plain": [
       "FloatSlider(value=1e-05, continuous_update=False, description='175', max=0.9999, min=1e-05, readout_format='.5…"
      ]
     },
     "metadata": {},
     "output_type": "display_data"
    },
    {
     "data": {
      "application/vnd.jupyter.widget-view+json": {
       "model_id": "07770f45c2114093882494ced389a9ab",
       "version_major": 2,
       "version_minor": 0
      },
      "text/plain": [
       "FloatSlider(value=1e-05, continuous_update=False, description='176', max=0.9999, min=1e-05, readout_format='.5…"
      ]
     },
     "metadata": {},
     "output_type": "display_data"
    },
    {
     "data": {
      "application/vnd.jupyter.widget-view+json": {
       "model_id": "128501da89db4bbcac980fb7c8e2b794",
       "version_major": 2,
       "version_minor": 0
      },
      "text/plain": [
       "FloatSlider(value=1e-05, continuous_update=False, description='177', max=0.9999, min=1e-05, readout_format='.5…"
      ]
     },
     "metadata": {},
     "output_type": "display_data"
    },
    {
     "data": {
      "application/vnd.jupyter.widget-view+json": {
       "model_id": "d43c325830fa4f11ab80375ad71e90b5",
       "version_major": 2,
       "version_minor": 0
      },
      "text/plain": [
       "FloatSlider(value=1e-05, continuous_update=False, description='178', max=0.9999, min=1e-05, readout_format='.5…"
      ]
     },
     "metadata": {},
     "output_type": "display_data"
    },
    {
     "data": {
      "application/vnd.jupyter.widget-view+json": {
       "model_id": "936c772cf1244569861c1de86ebf9855",
       "version_major": 2,
       "version_minor": 0
      },
      "text/plain": [
       "FloatSlider(value=1e-05, continuous_update=False, description='179', max=0.9999, min=1e-05, readout_format='.5…"
      ]
     },
     "metadata": {},
     "output_type": "display_data"
    },
    {
     "data": {
      "application/vnd.jupyter.widget-view+json": {
       "model_id": "952a6892146649ee857e08a0cdbb499a",
       "version_major": 2,
       "version_minor": 0
      },
      "text/plain": [
       "FloatSlider(value=1e-05, continuous_update=False, description='180', max=0.9999, min=1e-05, readout_format='.5…"
      ]
     },
     "metadata": {},
     "output_type": "display_data"
    },
    {
     "data": {
      "application/vnd.jupyter.widget-view+json": {
       "model_id": "365e6201ab0549b6b7034eb84acabea2",
       "version_major": 2,
       "version_minor": 0
      },
      "text/plain": [
       "FloatSlider(value=1e-05, continuous_update=False, description='181', max=0.9999, min=1e-05, readout_format='.5…"
      ]
     },
     "metadata": {},
     "output_type": "display_data"
    },
    {
     "data": {
      "application/vnd.jupyter.widget-view+json": {
       "model_id": "2433880d124d47f4bdb452e6777ebc87",
       "version_major": 2,
       "version_minor": 0
      },
      "text/plain": [
       "FloatSlider(value=1e-05, continuous_update=False, description='182', max=0.9999, min=1e-05, readout_format='.5…"
      ]
     },
     "metadata": {},
     "output_type": "display_data"
    },
    {
     "data": {
      "application/vnd.jupyter.widget-view+json": {
       "model_id": "bb2e5f827c0a4272b790f2dec8738d86",
       "version_major": 2,
       "version_minor": 0
      },
      "text/plain": [
       "FloatSlider(value=1e-05, continuous_update=False, description='183', max=0.9999, min=1e-05, readout_format='.5…"
      ]
     },
     "metadata": {},
     "output_type": "display_data"
    },
    {
     "data": {
      "application/vnd.jupyter.widget-view+json": {
       "model_id": "22d3c4e3221e4b02bfb6f6af9f684b55",
       "version_major": 2,
       "version_minor": 0
      },
      "text/plain": [
       "FloatSlider(value=1e-05, continuous_update=False, description='184', max=0.9999, min=1e-05, readout_format='.5…"
      ]
     },
     "metadata": {},
     "output_type": "display_data"
    },
    {
     "data": {
      "application/vnd.jupyter.widget-view+json": {
       "model_id": "43021d22ace645c88d5463a4600a8ceb",
       "version_major": 2,
       "version_minor": 0
      },
      "text/plain": [
       "FloatSlider(value=1e-05, continuous_update=False, description='185', max=0.9999, min=1e-05, readout_format='.5…"
      ]
     },
     "metadata": {},
     "output_type": "display_data"
    },
    {
     "data": {
      "application/vnd.jupyter.widget-view+json": {
       "model_id": "6c86dae6d4274bbca5abf7270216b7d2",
       "version_major": 2,
       "version_minor": 0
      },
      "text/plain": [
       "FloatSlider(value=1e-05, continuous_update=False, description='186', max=0.9999, min=1e-05, readout_format='.5…"
      ]
     },
     "metadata": {},
     "output_type": "display_data"
    },
    {
     "data": {
      "application/vnd.jupyter.widget-view+json": {
       "model_id": "41412af6e69e4357a4d8f674dfed9a57",
       "version_major": 2,
       "version_minor": 0
      },
      "text/plain": [
       "FloatSlider(value=1e-05, continuous_update=False, description='187', max=0.9999, min=1e-05, readout_format='.5…"
      ]
     },
     "metadata": {},
     "output_type": "display_data"
    },
    {
     "data": {
      "application/vnd.jupyter.widget-view+json": {
       "model_id": "11a41730c80e4137857cd4baafe5c6bf",
       "version_major": 2,
       "version_minor": 0
      },
      "text/plain": [
       "FloatSlider(value=1e-05, continuous_update=False, description='188', max=0.9999, min=1e-05, readout_format='.5…"
      ]
     },
     "metadata": {},
     "output_type": "display_data"
    },
    {
     "data": {
      "application/vnd.jupyter.widget-view+json": {
       "model_id": "0d710950c0344416b9396e5b46d85fcf",
       "version_major": 2,
       "version_minor": 0
      },
      "text/plain": [
       "FloatSlider(value=1e-05, continuous_update=False, description='189', max=0.9999, min=1e-05, readout_format='.5…"
      ]
     },
     "metadata": {},
     "output_type": "display_data"
    },
    {
     "data": {
      "application/vnd.jupyter.widget-view+json": {
       "model_id": "cfb9ada6f76b442fb34cc4d7cd7076b7",
       "version_major": 2,
       "version_minor": 0
      },
      "text/plain": [
       "FloatSlider(value=1e-05, continuous_update=False, description='190', max=0.9999, min=1e-05, readout_format='.5…"
      ]
     },
     "metadata": {},
     "output_type": "display_data"
    },
    {
     "data": {
      "application/vnd.jupyter.widget-view+json": {
       "model_id": "bf37ad64138e4435b955ddbc2fc052f8",
       "version_major": 2,
       "version_minor": 0
      },
      "text/plain": [
       "FloatSlider(value=1e-05, continuous_update=False, description='191', max=0.9999, min=1e-05, readout_format='.5…"
      ]
     },
     "metadata": {},
     "output_type": "display_data"
    },
    {
     "data": {
      "application/vnd.jupyter.widget-view+json": {
       "model_id": "748956696183486d962b941060c73c75",
       "version_major": 2,
       "version_minor": 0
      },
      "text/plain": [
       "FloatSlider(value=1e-05, continuous_update=False, description='192', max=0.9999, min=1e-05, readout_format='.5…"
      ]
     },
     "metadata": {},
     "output_type": "display_data"
    },
    {
     "data": {
      "application/vnd.jupyter.widget-view+json": {
       "model_id": "475b47c0f0004ceb9a57add94cdef6fe",
       "version_major": 2,
       "version_minor": 0
      },
      "text/plain": [
       "FloatSlider(value=1e-05, continuous_update=False, description='193', max=0.9999, min=1e-05, readout_format='.5…"
      ]
     },
     "metadata": {},
     "output_type": "display_data"
    },
    {
     "data": {
      "application/vnd.jupyter.widget-view+json": {
       "model_id": "95694507932f4e07a12725adc1f67007",
       "version_major": 2,
       "version_minor": 0
      },
      "text/plain": [
       "FloatSlider(value=1e-05, continuous_update=False, description='194', max=0.9999, min=1e-05, readout_format='.5…"
      ]
     },
     "metadata": {},
     "output_type": "display_data"
    },
    {
     "data": {
      "application/vnd.jupyter.widget-view+json": {
       "model_id": "9972841b499e4d748b62ad68bb4054b3",
       "version_major": 2,
       "version_minor": 0
      },
      "text/plain": [
       "FloatSlider(value=1e-05, continuous_update=False, description='195', max=0.9999, min=1e-05, readout_format='.5…"
      ]
     },
     "metadata": {},
     "output_type": "display_data"
    },
    {
     "data": {
      "application/vnd.jupyter.widget-view+json": {
       "model_id": "f070cb68cf044714a759706d31f6ef7b",
       "version_major": 2,
       "version_minor": 0
      },
      "text/plain": [
       "FloatSlider(value=1e-05, continuous_update=False, description='196', max=0.9999, min=1e-05, readout_format='.5…"
      ]
     },
     "metadata": {},
     "output_type": "display_data"
    },
    {
     "data": {
      "application/vnd.jupyter.widget-view+json": {
       "model_id": "51b794e2853443e6b5c2e43846011db0",
       "version_major": 2,
       "version_minor": 0
      },
      "text/plain": [
       "FloatSlider(value=1e-05, continuous_update=False, description='197', max=0.9999, min=1e-05, readout_format='.5…"
      ]
     },
     "metadata": {},
     "output_type": "display_data"
    },
    {
     "data": {
      "application/vnd.jupyter.widget-view+json": {
       "model_id": "2bd9995f9e384107a44d230e325311ae",
       "version_major": 2,
       "version_minor": 0
      },
      "text/plain": [
       "FloatSlider(value=1e-05, continuous_update=False, description='198', max=0.9999, min=1e-05, readout_format='.5…"
      ]
     },
     "metadata": {},
     "output_type": "display_data"
    },
    {
     "data": {
      "application/vnd.jupyter.widget-view+json": {
       "model_id": "c6112b951ec24d0689b4d907e706043f",
       "version_major": 2,
       "version_minor": 0
      },
      "text/plain": [
       "FloatSlider(value=1e-05, continuous_update=False, description='199', max=0.9999, min=1e-05, readout_format='.5…"
      ]
     },
     "metadata": {},
     "output_type": "display_data"
    },
    {
     "data": {
      "application/vnd.jupyter.widget-view+json": {
       "model_id": "c9c57404ad9b40dbaaf7b8699be03be2",
       "version_major": 2,
       "version_minor": 0
      },
      "text/plain": [
       "FloatSlider(value=1e-05, continuous_update=False, description='200', max=0.9999, min=1e-05, readout_format='.5…"
      ]
     },
     "metadata": {},
     "output_type": "display_data"
    },
    {
     "data": {
      "application/vnd.jupyter.widget-view+json": {
       "model_id": "d139ba53020f49408862727c26150df0",
       "version_major": 2,
       "version_minor": 0
      },
      "text/plain": [
       "FloatSlider(value=1e-05, continuous_update=False, description='201', max=0.9999, min=1e-05, readout_format='.5…"
      ]
     },
     "metadata": {},
     "output_type": "display_data"
    },
    {
     "data": {
      "application/vnd.jupyter.widget-view+json": {
       "model_id": "d9edf07ea7c344988129ec72e0f76792",
       "version_major": 2,
       "version_minor": 0
      },
      "text/plain": [
       "FloatSlider(value=1e-05, continuous_update=False, description='202', max=0.9999, min=1e-05, readout_format='.5…"
      ]
     },
     "metadata": {},
     "output_type": "display_data"
    },
    {
     "data": {
      "application/vnd.jupyter.widget-view+json": {
       "model_id": "6404adad3ae0449099244b715673038b",
       "version_major": 2,
       "version_minor": 0
      },
      "text/plain": [
       "FloatSlider(value=1e-05, continuous_update=False, description='203', max=0.9999, min=1e-05, readout_format='.5…"
      ]
     },
     "metadata": {},
     "output_type": "display_data"
    },
    {
     "data": {
      "application/vnd.jupyter.widget-view+json": {
       "model_id": "2ff3d85f979c46d5937f131c39b5e00b",
       "version_major": 2,
       "version_minor": 0
      },
      "text/plain": [
       "FloatSlider(value=1e-05, continuous_update=False, description='204', max=0.9999, min=1e-05, readout_format='.5…"
      ]
     },
     "metadata": {},
     "output_type": "display_data"
    },
    {
     "data": {
      "application/vnd.jupyter.widget-view+json": {
       "model_id": "66024fd9786a4e3dbbee8bc1c40a7451",
       "version_major": 2,
       "version_minor": 0
      },
      "text/plain": [
       "FloatSlider(value=1e-05, continuous_update=False, description='205', max=0.9999, min=1e-05, readout_format='.5…"
      ]
     },
     "metadata": {},
     "output_type": "display_data"
    },
    {
     "data": {
      "application/vnd.jupyter.widget-view+json": {
       "model_id": "f5b9df370a254851a51a3e67b1e6e759",
       "version_major": 2,
       "version_minor": 0
      },
      "text/plain": [
       "FloatSlider(value=1e-05, continuous_update=False, description='206', max=0.9999, min=1e-05, readout_format='.5…"
      ]
     },
     "metadata": {},
     "output_type": "display_data"
    },
    {
     "data": {
      "application/vnd.jupyter.widget-view+json": {
       "model_id": "25f3dbb7c8344b25903283edec840de9",
       "version_major": 2,
       "version_minor": 0
      },
      "text/plain": [
       "FloatSlider(value=1e-05, continuous_update=False, description='207', max=0.9999, min=1e-05, readout_format='.5…"
      ]
     },
     "metadata": {},
     "output_type": "display_data"
    },
    {
     "data": {
      "application/vnd.jupyter.widget-view+json": {
       "model_id": "9e819980c826436fa411ae417ccb1ce1",
       "version_major": 2,
       "version_minor": 0
      },
      "text/plain": [
       "FloatSlider(value=1e-05, continuous_update=False, description='208', max=0.9999, min=1e-05, readout_format='.5…"
      ]
     },
     "metadata": {},
     "output_type": "display_data"
    },
    {
     "data": {
      "application/vnd.jupyter.widget-view+json": {
       "model_id": "0348226afee541798d0fbe6749690b26",
       "version_major": 2,
       "version_minor": 0
      },
      "text/plain": [
       "FloatSlider(value=1e-05, continuous_update=False, description='209', max=0.9999, min=1e-05, readout_format='.5…"
      ]
     },
     "metadata": {},
     "output_type": "display_data"
    },
    {
     "data": {
      "application/vnd.jupyter.widget-view+json": {
       "model_id": "dfe332f2f788498a82e2cec3dfe3e0f0",
       "version_major": 2,
       "version_minor": 0
      },
      "text/plain": [
       "FloatSlider(value=1e-05, continuous_update=False, description='210', max=0.9999, min=1e-05, readout_format='.5…"
      ]
     },
     "metadata": {},
     "output_type": "display_data"
    },
    {
     "data": {
      "application/vnd.jupyter.widget-view+json": {
       "model_id": "9772dd63ae5242db949200658a322b9e",
       "version_major": 2,
       "version_minor": 0
      },
      "text/plain": [
       "FloatSlider(value=1e-05, continuous_update=False, description='211', max=0.9999, min=1e-05, readout_format='.5…"
      ]
     },
     "metadata": {},
     "output_type": "display_data"
    },
    {
     "data": {
      "application/vnd.jupyter.widget-view+json": {
       "model_id": "a6789796f67a416ea488a19fa6839624",
       "version_major": 2,
       "version_minor": 0
      },
      "text/plain": [
       "FloatSlider(value=1e-05, continuous_update=False, description='212', max=0.9999, min=1e-05, readout_format='.5…"
      ]
     },
     "metadata": {},
     "output_type": "display_data"
    },
    {
     "data": {
      "application/vnd.jupyter.widget-view+json": {
       "model_id": "16ee4c83dd7b4b4baebd9b75e1dab7a4",
       "version_major": 2,
       "version_minor": 0
      },
      "text/plain": [
       "FloatSlider(value=1e-05, continuous_update=False, description='213', max=0.9999, min=1e-05, readout_format='.5…"
      ]
     },
     "metadata": {},
     "output_type": "display_data"
    },
    {
     "data": {
      "application/vnd.jupyter.widget-view+json": {
       "model_id": "8a03919a41694a459a1c57261f950db6",
       "version_major": 2,
       "version_minor": 0
      },
      "text/plain": [
       "FloatSlider(value=1e-05, continuous_update=False, description='214', max=0.9999, min=1e-05, readout_format='.5…"
      ]
     },
     "metadata": {},
     "output_type": "display_data"
    },
    {
     "data": {
      "application/vnd.jupyter.widget-view+json": {
       "model_id": "f8d1530e8b91407482a55b326d75a455",
       "version_major": 2,
       "version_minor": 0
      },
      "text/plain": [
       "FloatSlider(value=1e-05, continuous_update=False, description='215', max=0.9999, min=1e-05, readout_format='.5…"
      ]
     },
     "metadata": {},
     "output_type": "display_data"
    },
    {
     "data": {
      "application/vnd.jupyter.widget-view+json": {
       "model_id": "1709c8cf545f47a69a27bd34e54e12fe",
       "version_major": 2,
       "version_minor": 0
      },
      "text/plain": [
       "FloatSlider(value=1e-05, continuous_update=False, description='216', max=0.9999, min=1e-05, readout_format='.5…"
      ]
     },
     "metadata": {},
     "output_type": "display_data"
    },
    {
     "data": {
      "application/vnd.jupyter.widget-view+json": {
       "model_id": "c45cad5930664b37b2fb248de50395f4",
       "version_major": 2,
       "version_minor": 0
      },
      "text/plain": [
       "FloatSlider(value=1e-05, continuous_update=False, description='217', max=0.9999, min=1e-05, readout_format='.5…"
      ]
     },
     "metadata": {},
     "output_type": "display_data"
    },
    {
     "data": {
      "application/vnd.jupyter.widget-view+json": {
       "model_id": "efe4321da92e478cae246634005835a2",
       "version_major": 2,
       "version_minor": 0
      },
      "text/plain": [
       "FloatSlider(value=1e-05, continuous_update=False, description='218', max=0.9999, min=1e-05, readout_format='.5…"
      ]
     },
     "metadata": {},
     "output_type": "display_data"
    },
    {
     "data": {
      "application/vnd.jupyter.widget-view+json": {
       "model_id": "93670ec7087e49aaa14e937542c712fd",
       "version_major": 2,
       "version_minor": 0
      },
      "text/plain": [
       "FloatSlider(value=1e-05, continuous_update=False, description='219', max=0.9999, min=1e-05, readout_format='.5…"
      ]
     },
     "metadata": {},
     "output_type": "display_data"
    },
    {
     "data": {
      "application/vnd.jupyter.widget-view+json": {
       "model_id": "38fa9ec7106c46d4a665e05abec1c725",
       "version_major": 2,
       "version_minor": 0
      },
      "text/plain": [
       "FloatSlider(value=1e-05, continuous_update=False, description='220', max=0.9999, min=1e-05, readout_format='.5…"
      ]
     },
     "metadata": {},
     "output_type": "display_data"
    },
    {
     "data": {
      "application/vnd.jupyter.widget-view+json": {
       "model_id": "416274dcfed04f05bcc37d54998a3305",
       "version_major": 2,
       "version_minor": 0
      },
      "text/plain": [
       "FloatSlider(value=1e-05, continuous_update=False, description='221', max=0.9999, min=1e-05, readout_format='.5…"
      ]
     },
     "metadata": {},
     "output_type": "display_data"
    },
    {
     "data": {
      "application/vnd.jupyter.widget-view+json": {
       "model_id": "5cd01f640785426897cb9c0665c660f7",
       "version_major": 2,
       "version_minor": 0
      },
      "text/plain": [
       "FloatSlider(value=1e-05, continuous_update=False, description='222', max=0.9999, min=1e-05, readout_format='.5…"
      ]
     },
     "metadata": {},
     "output_type": "display_data"
    },
    {
     "data": {
      "application/vnd.jupyter.widget-view+json": {
       "model_id": "cd621eb113b449d8b58a60a03ee9c4f6",
       "version_major": 2,
       "version_minor": 0
      },
      "text/plain": [
       "FloatSlider(value=1e-05, continuous_update=False, description='223', max=0.9999, min=1e-05, readout_format='.5…"
      ]
     },
     "metadata": {},
     "output_type": "display_data"
    },
    {
     "data": {
      "application/vnd.jupyter.widget-view+json": {
       "model_id": "39822bcee48943ebbb465d6e098fb513",
       "version_major": 2,
       "version_minor": 0
      },
      "text/plain": [
       "FloatSlider(value=1e-05, continuous_update=False, description='224', max=0.9999, min=1e-05, readout_format='.5…"
      ]
     },
     "metadata": {},
     "output_type": "display_data"
    },
    {
     "data": {
      "application/vnd.jupyter.widget-view+json": {
       "model_id": "fea01a23c7a34810afbb9a5a5d71d9fc",
       "version_major": 2,
       "version_minor": 0
      },
      "text/plain": [
       "FloatSlider(value=1e-05, continuous_update=False, description='225', max=0.9999, min=1e-05, readout_format='.5…"
      ]
     },
     "metadata": {},
     "output_type": "display_data"
    },
    {
     "data": {
      "application/vnd.jupyter.widget-view+json": {
       "model_id": "11f20d5fd0fc4b73a011d1926b485ffe",
       "version_major": 2,
       "version_minor": 0
      },
      "text/plain": [
       "FloatSlider(value=1e-05, continuous_update=False, description='226', max=0.9999, min=1e-05, readout_format='.5…"
      ]
     },
     "metadata": {},
     "output_type": "display_data"
    },
    {
     "data": {
      "application/vnd.jupyter.widget-view+json": {
       "model_id": "f02b1e2e05414702b2c2329c093d8785",
       "version_major": 2,
       "version_minor": 0
      },
      "text/plain": [
       "FloatSlider(value=1e-05, continuous_update=False, description='227', max=0.9999, min=1e-05, readout_format='.5…"
      ]
     },
     "metadata": {},
     "output_type": "display_data"
    },
    {
     "data": {
      "application/vnd.jupyter.widget-view+json": {
       "model_id": "81e36942ce26471691e27df60581d35c",
       "version_major": 2,
       "version_minor": 0
      },
      "text/plain": [
       "FloatSlider(value=1e-05, continuous_update=False, description='228', max=0.9999, min=1e-05, readout_format='.5…"
      ]
     },
     "metadata": {},
     "output_type": "display_data"
    },
    {
     "data": {
      "application/vnd.jupyter.widget-view+json": {
       "model_id": "0e1ee84d7166404694315ecdb17035f4",
       "version_major": 2,
       "version_minor": 0
      },
      "text/plain": [
       "FloatSlider(value=1e-05, continuous_update=False, description='229', max=0.9999, min=1e-05, readout_format='.5…"
      ]
     },
     "metadata": {},
     "output_type": "display_data"
    },
    {
     "data": {
      "application/vnd.jupyter.widget-view+json": {
       "model_id": "d35b24fc87c74abcb108be9e9a703d33",
       "version_major": 2,
       "version_minor": 0
      },
      "text/plain": [
       "FloatSlider(value=1e-05, continuous_update=False, description='230', max=0.9999, min=1e-05, readout_format='.5…"
      ]
     },
     "metadata": {},
     "output_type": "display_data"
    },
    {
     "data": {
      "application/vnd.jupyter.widget-view+json": {
       "model_id": "4d83729efd594f038ca09da8b3c1b5f8",
       "version_major": 2,
       "version_minor": 0
      },
      "text/plain": [
       "FloatSlider(value=1e-05, continuous_update=False, description='231', max=0.9999, min=1e-05, readout_format='.5…"
      ]
     },
     "metadata": {},
     "output_type": "display_data"
    },
    {
     "data": {
      "application/vnd.jupyter.widget-view+json": {
       "model_id": "4703001f75274d5a8b29635b668ce7cb",
       "version_major": 2,
       "version_minor": 0
      },
      "text/plain": [
       "FloatSlider(value=1e-05, continuous_update=False, description='232', max=0.9999, min=1e-05, readout_format='.5…"
      ]
     },
     "metadata": {},
     "output_type": "display_data"
    },
    {
     "data": {
      "application/vnd.jupyter.widget-view+json": {
       "model_id": "626ab53068a34e54959f4ba4b7ec608c",
       "version_major": 2,
       "version_minor": 0
      },
      "text/plain": [
       "FloatSlider(value=1e-05, continuous_update=False, description='233', max=0.9999, min=1e-05, readout_format='.5…"
      ]
     },
     "metadata": {},
     "output_type": "display_data"
    },
    {
     "data": {
      "application/vnd.jupyter.widget-view+json": {
       "model_id": "6a6aeec575a142bd8d0601be31e53f27",
       "version_major": 2,
       "version_minor": 0
      },
      "text/plain": [
       "FloatSlider(value=1e-05, continuous_update=False, description='234', max=0.9999, min=1e-05, readout_format='.5…"
      ]
     },
     "metadata": {},
     "output_type": "display_data"
    },
    {
     "data": {
      "application/vnd.jupyter.widget-view+json": {
       "model_id": "d76691e80e6a4d3db0e1bb46e8b95314",
       "version_major": 2,
       "version_minor": 0
      },
      "text/plain": [
       "FloatSlider(value=1e-05, continuous_update=False, description='235', max=0.9999, min=1e-05, readout_format='.5…"
      ]
     },
     "metadata": {},
     "output_type": "display_data"
    },
    {
     "data": {
      "application/vnd.jupyter.widget-view+json": {
       "model_id": "cd9214817b4a47e3bd5edb37a1b03041",
       "version_major": 2,
       "version_minor": 0
      },
      "text/plain": [
       "FloatSlider(value=1e-05, continuous_update=False, description='236', max=0.9999, min=1e-05, readout_format='.5…"
      ]
     },
     "metadata": {},
     "output_type": "display_data"
    },
    {
     "data": {
      "application/vnd.jupyter.widget-view+json": {
       "model_id": "b966663ad940468c95414407912ddb05",
       "version_major": 2,
       "version_minor": 0
      },
      "text/plain": [
       "FloatSlider(value=1e-05, continuous_update=False, description='237', max=0.9999, min=1e-05, readout_format='.5…"
      ]
     },
     "metadata": {},
     "output_type": "display_data"
    },
    {
     "data": {
      "application/vnd.jupyter.widget-view+json": {
       "model_id": "1b832eb34cd44da583ffb90464cfb65d",
       "version_major": 2,
       "version_minor": 0
      },
      "text/plain": [
       "FloatSlider(value=1e-05, continuous_update=False, description='238', max=0.9999, min=1e-05, readout_format='.5…"
      ]
     },
     "metadata": {},
     "output_type": "display_data"
    },
    {
     "data": {
      "application/vnd.jupyter.widget-view+json": {
       "model_id": "2cd3ae4087e4498292b98136b2e8c2fa",
       "version_major": 2,
       "version_minor": 0
      },
      "text/plain": [
       "FloatSlider(value=1e-05, continuous_update=False, description='239', max=0.9999, min=1e-05, readout_format='.5…"
      ]
     },
     "metadata": {},
     "output_type": "display_data"
    },
    {
     "data": {
      "application/vnd.jupyter.widget-view+json": {
       "model_id": "64573422f89049199f66c3e38f707b69",
       "version_major": 2,
       "version_minor": 0
      },
      "text/plain": [
       "FloatSlider(value=1e-05, continuous_update=False, description='240', max=0.9999, min=1e-05, readout_format='.5…"
      ]
     },
     "metadata": {},
     "output_type": "display_data"
    },
    {
     "data": {
      "application/vnd.jupyter.widget-view+json": {
       "model_id": "54838fe74da14218b4ce2dea6f10ea4c",
       "version_major": 2,
       "version_minor": 0
      },
      "text/plain": [
       "FloatSlider(value=1e-05, continuous_update=False, description='241', max=0.9999, min=1e-05, readout_format='.5…"
      ]
     },
     "metadata": {},
     "output_type": "display_data"
    },
    {
     "data": {
      "application/vnd.jupyter.widget-view+json": {
       "model_id": "8afd5aeb4c444cb4bff4454f03b8c7c4",
       "version_major": 2,
       "version_minor": 0
      },
      "text/plain": [
       "FloatSlider(value=1e-05, continuous_update=False, description='242', max=0.9999, min=1e-05, readout_format='.5…"
      ]
     },
     "metadata": {},
     "output_type": "display_data"
    },
    {
     "data": {
      "application/vnd.jupyter.widget-view+json": {
       "model_id": "dc175086358044bab70eac4bced22382",
       "version_major": 2,
       "version_minor": 0
      },
      "text/plain": [
       "FloatSlider(value=1e-05, continuous_update=False, description='243', max=0.9999, min=1e-05, readout_format='.5…"
      ]
     },
     "metadata": {},
     "output_type": "display_data"
    },
    {
     "data": {
      "application/vnd.jupyter.widget-view+json": {
       "model_id": "c8bbc71509ed44eeb592876806f25650",
       "version_major": 2,
       "version_minor": 0
      },
      "text/plain": [
       "FloatSlider(value=1e-05, continuous_update=False, description='244', max=0.9999, min=1e-05, readout_format='.5…"
      ]
     },
     "metadata": {},
     "output_type": "display_data"
    },
    {
     "data": {
      "application/vnd.jupyter.widget-view+json": {
       "model_id": "15b9a024de764273a3997e538304bd33",
       "version_major": 2,
       "version_minor": 0
      },
      "text/plain": [
       "FloatSlider(value=1e-05, continuous_update=False, description='245', max=0.9999, min=1e-05, readout_format='.5…"
      ]
     },
     "metadata": {},
     "output_type": "display_data"
    },
    {
     "data": {
      "application/vnd.jupyter.widget-view+json": {
       "model_id": "78cbd2a077994a59a0818be15752dc9f",
       "version_major": 2,
       "version_minor": 0
      },
      "text/plain": [
       "FloatSlider(value=1e-05, continuous_update=False, description='246', max=0.9999, min=1e-05, readout_format='.5…"
      ]
     },
     "metadata": {},
     "output_type": "display_data"
    },
    {
     "data": {
      "application/vnd.jupyter.widget-view+json": {
       "model_id": "c3bc6e25b53f44eb8c66ef2cdf26330a",
       "version_major": 2,
       "version_minor": 0
      },
      "text/plain": [
       "FloatSlider(value=1e-05, continuous_update=False, description='247', max=0.9999, min=1e-05, readout_format='.5…"
      ]
     },
     "metadata": {},
     "output_type": "display_data"
    },
    {
     "data": {
      "application/vnd.jupyter.widget-view+json": {
       "model_id": "9fa3a3089a8b45dabf3634f4d8f5ef6a",
       "version_major": 2,
       "version_minor": 0
      },
      "text/plain": [
       "FloatSlider(value=1e-05, continuous_update=False, description='248', max=0.9999, min=1e-05, readout_format='.5…"
      ]
     },
     "metadata": {},
     "output_type": "display_data"
    },
    {
     "data": {
      "application/vnd.jupyter.widget-view+json": {
       "model_id": "8f5493dccdff43378c18611155b1413d",
       "version_major": 2,
       "version_minor": 0
      },
      "text/plain": [
       "FloatSlider(value=1e-05, continuous_update=False, description='249', max=0.9999, min=1e-05, readout_format='.5…"
      ]
     },
     "metadata": {},
     "output_type": "display_data"
    },
    {
     "data": {
      "application/vnd.jupyter.widget-view+json": {
       "model_id": "c350ed91adec46a980aa059c519c9f67",
       "version_major": 2,
       "version_minor": 0
      },
      "text/plain": [
       "FloatSlider(value=1e-05, continuous_update=False, description='250', max=0.9999, min=1e-05, readout_format='.5…"
      ]
     },
     "metadata": {},
     "output_type": "display_data"
    },
    {
     "data": {
      "application/vnd.jupyter.widget-view+json": {
       "model_id": "d9ee467691ed4002994b51d681f3379a",
       "version_major": 2,
       "version_minor": 0
      },
      "text/plain": [
       "FloatSlider(value=1e-05, continuous_update=False, description='251', max=0.9999, min=1e-05, readout_format='.5…"
      ]
     },
     "metadata": {},
     "output_type": "display_data"
    },
    {
     "data": {
      "application/vnd.jupyter.widget-view+json": {
       "model_id": "4e894553174e48d69315cc8249c78dd5",
       "version_major": 2,
       "version_minor": 0
      },
      "text/plain": [
       "FloatSlider(value=1e-05, continuous_update=False, description='252', max=0.9999, min=1e-05, readout_format='.5…"
      ]
     },
     "metadata": {},
     "output_type": "display_data"
    },
    {
     "data": {
      "application/vnd.jupyter.widget-view+json": {
       "model_id": "0823f4ad78e14435a453c628b9c3793b",
       "version_major": 2,
       "version_minor": 0
      },
      "text/plain": [
       "FloatSlider(value=1e-05, continuous_update=False, description='253', max=0.9999, min=1e-05, readout_format='.5…"
      ]
     },
     "metadata": {},
     "output_type": "display_data"
    },
    {
     "data": {
      "application/vnd.jupyter.widget-view+json": {
       "model_id": "c2a13e27358c467e997e76389a8fdc5b",
       "version_major": 2,
       "version_minor": 0
      },
      "text/plain": [
       "FloatSlider(value=1e-05, continuous_update=False, description='254', max=0.9999, min=1e-05, readout_format='.5…"
      ]
     },
     "metadata": {},
     "output_type": "display_data"
    },
    {
     "data": {
      "application/vnd.jupyter.widget-view+json": {
       "model_id": "62cb5f4ba39541cdb7547dac77cd148d",
       "version_major": 2,
       "version_minor": 0
      },
      "text/plain": [
       "FloatSlider(value=1e-05, continuous_update=False, description='255', max=0.9999, min=1e-05, readout_format='.5…"
      ]
     },
     "metadata": {},
     "output_type": "display_data"
    },
    {
     "data": {
      "application/vnd.jupyter.widget-view+json": {
       "model_id": "eab79f3d8dc44e4ba7157fa72d774844",
       "version_major": 2,
       "version_minor": 0
      },
      "text/plain": [
       "FloatSlider(value=1e-05, continuous_update=False, description='256', max=0.9999, min=1e-05, readout_format='.5…"
      ]
     },
     "metadata": {},
     "output_type": "display_data"
    },
    {
     "data": {
      "application/vnd.jupyter.widget-view+json": {
       "model_id": "0691603b008a4fa0b3e70578fc59d2e9",
       "version_major": 2,
       "version_minor": 0
      },
      "text/plain": [
       "FloatSlider(value=1e-05, continuous_update=False, description='257', max=0.9999, min=1e-05, readout_format='.5…"
      ]
     },
     "metadata": {},
     "output_type": "display_data"
    },
    {
     "data": {
      "application/vnd.jupyter.widget-view+json": {
       "model_id": "f98dc806e43040588f50180fd259324b",
       "version_major": 2,
       "version_minor": 0
      },
      "text/plain": [
       "FloatSlider(value=1e-05, continuous_update=False, description='258', max=0.9999, min=1e-05, readout_format='.5…"
      ]
     },
     "metadata": {},
     "output_type": "display_data"
    },
    {
     "data": {
      "application/vnd.jupyter.widget-view+json": {
       "model_id": "83ec4055821d45ff85c7e7593adfb523",
       "version_major": 2,
       "version_minor": 0
      },
      "text/plain": [
       "FloatSlider(value=1e-05, continuous_update=False, description='259', max=0.9999, min=1e-05, readout_format='.5…"
      ]
     },
     "metadata": {},
     "output_type": "display_data"
    },
    {
     "data": {
      "application/vnd.jupyter.widget-view+json": {
       "model_id": "2e5b7a56b3334c679dd1ab966072201d",
       "version_major": 2,
       "version_minor": 0
      },
      "text/plain": [
       "FloatSlider(value=1e-05, continuous_update=False, description='260', max=0.9999, min=1e-05, readout_format='.5…"
      ]
     },
     "metadata": {},
     "output_type": "display_data"
    },
    {
     "data": {
      "application/vnd.jupyter.widget-view+json": {
       "model_id": "6e9f2a9edd7b4da699d50ebd720f9ec0",
       "version_major": 2,
       "version_minor": 0
      },
      "text/plain": [
       "FloatSlider(value=1e-05, continuous_update=False, description='261', max=0.9999, min=1e-05, readout_format='.5…"
      ]
     },
     "metadata": {},
     "output_type": "display_data"
    },
    {
     "data": {
      "application/vnd.jupyter.widget-view+json": {
       "model_id": "53ebd24a95ac42288257b94adf6d633e",
       "version_major": 2,
       "version_minor": 0
      },
      "text/plain": [
       "FloatSlider(value=1e-05, continuous_update=False, description='262', max=0.9999, min=1e-05, readout_format='.5…"
      ]
     },
     "metadata": {},
     "output_type": "display_data"
    },
    {
     "data": {
      "application/vnd.jupyter.widget-view+json": {
       "model_id": "88b245132c3c43a585c2d7a2895e30d8",
       "version_major": 2,
       "version_minor": 0
      },
      "text/plain": [
       "FloatSlider(value=1e-05, continuous_update=False, description='263', max=0.9999, min=1e-05, readout_format='.5…"
      ]
     },
     "metadata": {},
     "output_type": "display_data"
    },
    {
     "data": {
      "application/vnd.jupyter.widget-view+json": {
       "model_id": "c0cc91d7dee545dcad0beae06a8c5c72",
       "version_major": 2,
       "version_minor": 0
      },
      "text/plain": [
       "FloatSlider(value=1e-05, continuous_update=False, description='264', max=0.9999, min=1e-05, readout_format='.5…"
      ]
     },
     "metadata": {},
     "output_type": "display_data"
    },
    {
     "data": {
      "application/vnd.jupyter.widget-view+json": {
       "model_id": "2dd00612c49d4e6ca4903e78dd78f109",
       "version_major": 2,
       "version_minor": 0
      },
      "text/plain": [
       "FloatSlider(value=1e-05, continuous_update=False, description='265', max=0.9999, min=1e-05, readout_format='.5…"
      ]
     },
     "metadata": {},
     "output_type": "display_data"
    },
    {
     "data": {
      "application/vnd.jupyter.widget-view+json": {
       "model_id": "649fc6be88d64774b4a6ea4447d28a16",
       "version_major": 2,
       "version_minor": 0
      },
      "text/plain": [
       "FloatSlider(value=1e-05, continuous_update=False, description='266', max=0.9999, min=1e-05, readout_format='.5…"
      ]
     },
     "metadata": {},
     "output_type": "display_data"
    },
    {
     "data": {
      "application/vnd.jupyter.widget-view+json": {
       "model_id": "06bd546b83774cc7901e33447c8e39d2",
       "version_major": 2,
       "version_minor": 0
      },
      "text/plain": [
       "FloatSlider(value=1e-05, continuous_update=False, description='267', max=0.9999, min=1e-05, readout_format='.5…"
      ]
     },
     "metadata": {},
     "output_type": "display_data"
    },
    {
     "data": {
      "application/vnd.jupyter.widget-view+json": {
       "model_id": "439f391b686846c3ad449b8c2e5c8afc",
       "version_major": 2,
       "version_minor": 0
      },
      "text/plain": [
       "FloatSlider(value=1e-05, continuous_update=False, description='268', max=0.9999, min=1e-05, readout_format='.5…"
      ]
     },
     "metadata": {},
     "output_type": "display_data"
    },
    {
     "data": {
      "application/vnd.jupyter.widget-view+json": {
       "model_id": "bf489f460eee4fa099f8cae44ddf361c",
       "version_major": 2,
       "version_minor": 0
      },
      "text/plain": [
       "FloatSlider(value=1e-05, continuous_update=False, description='269', max=0.9999, min=1e-05, readout_format='.5…"
      ]
     },
     "metadata": {},
     "output_type": "display_data"
    },
    {
     "data": {
      "application/vnd.jupyter.widget-view+json": {
       "model_id": "d6f4ada5d46b4369837a8be13d2bf4be",
       "version_major": 2,
       "version_minor": 0
      },
      "text/plain": [
       "FloatSlider(value=1e-05, continuous_update=False, description='270', max=0.9999, min=1e-05, readout_format='.5…"
      ]
     },
     "metadata": {},
     "output_type": "display_data"
    },
    {
     "data": {
      "application/vnd.jupyter.widget-view+json": {
       "model_id": "109e64578aeb46539f55be66ae2184f3",
       "version_major": 2,
       "version_minor": 0
      },
      "text/plain": [
       "FloatSlider(value=1e-05, continuous_update=False, description='271', max=0.9999, min=1e-05, readout_format='.5…"
      ]
     },
     "metadata": {},
     "output_type": "display_data"
    },
    {
     "data": {
      "application/vnd.jupyter.widget-view+json": {
       "model_id": "6b7e7e34bae94ad78610c88d9957c433",
       "version_major": 2,
       "version_minor": 0
      },
      "text/plain": [
       "FloatSlider(value=1e-05, continuous_update=False, description='272', max=0.9999, min=1e-05, readout_format='.5…"
      ]
     },
     "metadata": {},
     "output_type": "display_data"
    },
    {
     "data": {
      "application/vnd.jupyter.widget-view+json": {
       "model_id": "76506ea9e64c4008ae3c95a4f7f466ef",
       "version_major": 2,
       "version_minor": 0
      },
      "text/plain": [
       "FloatSlider(value=1e-05, continuous_update=False, description='273', max=0.9999, min=1e-05, readout_format='.5…"
      ]
     },
     "metadata": {},
     "output_type": "display_data"
    },
    {
     "data": {
      "application/vnd.jupyter.widget-view+json": {
       "model_id": "15a7d9e0b29f405494a5e91366ad4a51",
       "version_major": 2,
       "version_minor": 0
      },
      "text/plain": [
       "FloatSlider(value=1e-05, continuous_update=False, description='274', max=0.9999, min=1e-05, readout_format='.5…"
      ]
     },
     "metadata": {},
     "output_type": "display_data"
    },
    {
     "data": {
      "application/vnd.jupyter.widget-view+json": {
       "model_id": "8d0be364b157451cb681f88dc25b0a8e",
       "version_major": 2,
       "version_minor": 0
      },
      "text/plain": [
       "FloatSlider(value=1e-05, continuous_update=False, description='275', max=0.9999, min=1e-05, readout_format='.5…"
      ]
     },
     "metadata": {},
     "output_type": "display_data"
    },
    {
     "data": {
      "application/vnd.jupyter.widget-view+json": {
       "model_id": "d01858004c374e058122093c352559e8",
       "version_major": 2,
       "version_minor": 0
      },
      "text/plain": [
       "FloatSlider(value=1e-05, continuous_update=False, description='276', max=0.9999, min=1e-05, readout_format='.5…"
      ]
     },
     "metadata": {},
     "output_type": "display_data"
    },
    {
     "data": {
      "application/vnd.jupyter.widget-view+json": {
       "model_id": "c7e1c4fbeac84d0daa661ec2e75b9e4a",
       "version_major": 2,
       "version_minor": 0
      },
      "text/plain": [
       "FloatSlider(value=1e-05, continuous_update=False, description='277', max=0.9999, min=1e-05, readout_format='.5…"
      ]
     },
     "metadata": {},
     "output_type": "display_data"
    },
    {
     "data": {
      "application/vnd.jupyter.widget-view+json": {
       "model_id": "64d0b694d3bc4384bf13aab99561cfc1",
       "version_major": 2,
       "version_minor": 0
      },
      "text/plain": [
       "FloatSlider(value=1e-05, continuous_update=False, description='278', max=0.9999, min=1e-05, readout_format='.5…"
      ]
     },
     "metadata": {},
     "output_type": "display_data"
    },
    {
     "data": {
      "application/vnd.jupyter.widget-view+json": {
       "model_id": "d8c0f6cb7f8e43418bf7f1f10f7881f7",
       "version_major": 2,
       "version_minor": 0
      },
      "text/plain": [
       "FloatSlider(value=1e-05, continuous_update=False, description='279', max=0.9999, min=1e-05, readout_format='.5…"
      ]
     },
     "metadata": {},
     "output_type": "display_data"
    },
    {
     "data": {
      "application/vnd.jupyter.widget-view+json": {
       "model_id": "4ad558f550644fa2af8bab5d84bf48d2",
       "version_major": 2,
       "version_minor": 0
      },
      "text/plain": [
       "FloatSlider(value=1e-05, continuous_update=False, description='280', max=0.9999, min=1e-05, readout_format='.5…"
      ]
     },
     "metadata": {},
     "output_type": "display_data"
    },
    {
     "data": {
      "application/vnd.jupyter.widget-view+json": {
       "model_id": "e16e7bf2306040d7ad0cb47d3e0f6eb7",
       "version_major": 2,
       "version_minor": 0
      },
      "text/plain": [
       "FloatSlider(value=1e-05, continuous_update=False, description='281', max=0.9999, min=1e-05, readout_format='.5…"
      ]
     },
     "metadata": {},
     "output_type": "display_data"
    },
    {
     "data": {
      "application/vnd.jupyter.widget-view+json": {
       "model_id": "932f4c48527645219987e5c6c63a9ddc",
       "version_major": 2,
       "version_minor": 0
      },
      "text/plain": [
       "FloatSlider(value=1e-05, continuous_update=False, description='282', max=0.9999, min=1e-05, readout_format='.5…"
      ]
     },
     "metadata": {},
     "output_type": "display_data"
    },
    {
     "data": {
      "application/vnd.jupyter.widget-view+json": {
       "model_id": "6b0adb1ce0f04d8e9f60afc51dc112af",
       "version_major": 2,
       "version_minor": 0
      },
      "text/plain": [
       "FloatSlider(value=1e-05, continuous_update=False, description='283', max=0.9999, min=1e-05, readout_format='.5…"
      ]
     },
     "metadata": {},
     "output_type": "display_data"
    },
    {
     "data": {
      "application/vnd.jupyter.widget-view+json": {
       "model_id": "c1ec3aa0055f450b9018ecff10c7444e",
       "version_major": 2,
       "version_minor": 0
      },
      "text/plain": [
       "FloatSlider(value=1e-05, continuous_update=False, description='284', max=0.9999, min=1e-05, readout_format='.5…"
      ]
     },
     "metadata": {},
     "output_type": "display_data"
    },
    {
     "data": {
      "application/vnd.jupyter.widget-view+json": {
       "model_id": "cb6cfae4ad234df7be9618446a8782c0",
       "version_major": 2,
       "version_minor": 0
      },
      "text/plain": [
       "FloatSlider(value=1e-05, continuous_update=False, description='285', max=0.9999, min=1e-05, readout_format='.5…"
      ]
     },
     "metadata": {},
     "output_type": "display_data"
    },
    {
     "data": {
      "application/vnd.jupyter.widget-view+json": {
       "model_id": "bce60c927d7844c6a86d6654a9aee49c",
       "version_major": 2,
       "version_minor": 0
      },
      "text/plain": [
       "FloatSlider(value=1e-05, continuous_update=False, description='286', max=0.9999, min=1e-05, readout_format='.5…"
      ]
     },
     "metadata": {},
     "output_type": "display_data"
    },
    {
     "data": {
      "application/vnd.jupyter.widget-view+json": {
       "model_id": "4cea3922b1d146198a1ed6f3401b5a86",
       "version_major": 2,
       "version_minor": 0
      },
      "text/plain": [
       "FloatSlider(value=1e-05, continuous_update=False, description='287', max=0.9999, min=1e-05, readout_format='.5…"
      ]
     },
     "metadata": {},
     "output_type": "display_data"
    },
    {
     "data": {
      "application/vnd.jupyter.widget-view+json": {
       "model_id": "04828f7b07b54c4fa26f079e8f066907",
       "version_major": 2,
       "version_minor": 0
      },
      "text/plain": [
       "FloatSlider(value=1e-05, continuous_update=False, description='288', max=0.9999, min=1e-05, readout_format='.5…"
      ]
     },
     "metadata": {},
     "output_type": "display_data"
    },
    {
     "data": {
      "application/vnd.jupyter.widget-view+json": {
       "model_id": "afa937cc0dd7406b91c1856b4f374ba6",
       "version_major": 2,
       "version_minor": 0
      },
      "text/plain": [
       "FloatSlider(value=1e-05, continuous_update=False, description='289', max=0.9999, min=1e-05, readout_format='.5…"
      ]
     },
     "metadata": {},
     "output_type": "display_data"
    },
    {
     "data": {
      "application/vnd.jupyter.widget-view+json": {
       "model_id": "8cd6dff9ca5c4355916101924ba0d977",
       "version_major": 2,
       "version_minor": 0
      },
      "text/plain": [
       "FloatSlider(value=1e-05, continuous_update=False, description='290', max=0.9999, min=1e-05, readout_format='.5…"
      ]
     },
     "metadata": {},
     "output_type": "display_data"
    },
    {
     "data": {
      "application/vnd.jupyter.widget-view+json": {
       "model_id": "c081c478601c4368b2ccd015d7742444",
       "version_major": 2,
       "version_minor": 0
      },
      "text/plain": [
       "FloatSlider(value=1e-05, continuous_update=False, description='291', max=0.9999, min=1e-05, readout_format='.5…"
      ]
     },
     "metadata": {},
     "output_type": "display_data"
    },
    {
     "data": {
      "application/vnd.jupyter.widget-view+json": {
       "model_id": "ff0e985860524b53accbe9ff41de6817",
       "version_major": 2,
       "version_minor": 0
      },
      "text/plain": [
       "FloatSlider(value=1e-05, continuous_update=False, description='292', max=0.9999, min=1e-05, readout_format='.5…"
      ]
     },
     "metadata": {},
     "output_type": "display_data"
    },
    {
     "data": {
      "application/vnd.jupyter.widget-view+json": {
       "model_id": "af313d0e87c3489aa9d64e65adc7b602",
       "version_major": 2,
       "version_minor": 0
      },
      "text/plain": [
       "FloatSlider(value=1e-05, continuous_update=False, description='293', max=0.9999, min=1e-05, readout_format='.5…"
      ]
     },
     "metadata": {},
     "output_type": "display_data"
    },
    {
     "data": {
      "application/vnd.jupyter.widget-view+json": {
       "model_id": "70f440abf93f4d0dafde78530242e60c",
       "version_major": 2,
       "version_minor": 0
      },
      "text/plain": [
       "FloatSlider(value=1e-05, continuous_update=False, description='294', max=0.9999, min=1e-05, readout_format='.5…"
      ]
     },
     "metadata": {},
     "output_type": "display_data"
    },
    {
     "data": {
      "application/vnd.jupyter.widget-view+json": {
       "model_id": "f202f656414b40feb11620c99037a4cf",
       "version_major": 2,
       "version_minor": 0
      },
      "text/plain": [
       "FloatSlider(value=1e-05, continuous_update=False, description='295', max=0.9999, min=1e-05, readout_format='.5…"
      ]
     },
     "metadata": {},
     "output_type": "display_data"
    },
    {
     "data": {
      "application/vnd.jupyter.widget-view+json": {
       "model_id": "628f44f939754d198b4d6c6dfba8dbc1",
       "version_major": 2,
       "version_minor": 0
      },
      "text/plain": [
       "FloatSlider(value=1e-05, continuous_update=False, description='296', max=0.9999, min=1e-05, readout_format='.5…"
      ]
     },
     "metadata": {},
     "output_type": "display_data"
    },
    {
     "data": {
      "application/vnd.jupyter.widget-view+json": {
       "model_id": "5d972ca6c19e433ea8d3e65e7c1dd859",
       "version_major": 2,
       "version_minor": 0
      },
      "text/plain": [
       "FloatSlider(value=1e-05, continuous_update=False, description='297', max=0.9999, min=1e-05, readout_format='.5…"
      ]
     },
     "metadata": {},
     "output_type": "display_data"
    },
    {
     "data": {
      "application/vnd.jupyter.widget-view+json": {
       "model_id": "34fdf0a7385d4448b9a5dbb01401baeb",
       "version_major": 2,
       "version_minor": 0
      },
      "text/plain": [
       "FloatSlider(value=1e-05, continuous_update=False, description='298', max=0.9999, min=1e-05, readout_format='.5…"
      ]
     },
     "metadata": {},
     "output_type": "display_data"
    },
    {
     "data": {
      "application/vnd.jupyter.widget-view+json": {
       "model_id": "f5cee290f9114287a2882083402cdeeb",
       "version_major": 2,
       "version_minor": 0
      },
      "text/plain": [
       "FloatSlider(value=1e-05, continuous_update=False, description='299', max=0.9999, min=1e-05, readout_format='.5…"
      ]
     },
     "metadata": {},
     "output_type": "display_data"
    },
    {
     "data": {
      "application/vnd.jupyter.widget-view+json": {
       "model_id": "5811a86923bc4618abfc3b05cd95fe2b",
       "version_major": 2,
       "version_minor": 0
      },
      "text/plain": [
       "FloatSlider(value=1e-05, continuous_update=False, description='300', max=0.9999, min=1e-05, readout_format='.5…"
      ]
     },
     "metadata": {},
     "output_type": "display_data"
    },
    {
     "data": {
      "application/vnd.jupyter.widget-view+json": {
       "model_id": "a9fb9000828d42619809be98f6dd1042",
       "version_major": 2,
       "version_minor": 0
      },
      "text/plain": [
       "FloatSlider(value=1e-05, continuous_update=False, description='301', max=0.9999, min=1e-05, readout_format='.5…"
      ]
     },
     "metadata": {},
     "output_type": "display_data"
    },
    {
     "data": {
      "application/vnd.jupyter.widget-view+json": {
       "model_id": "91ecb449ec5a482c83b64ce7ad8a03fb",
       "version_major": 2,
       "version_minor": 0
      },
      "text/plain": [
       "FloatSlider(value=1e-05, continuous_update=False, description='302', max=0.9999, min=1e-05, readout_format='.5…"
      ]
     },
     "metadata": {},
     "output_type": "display_data"
    },
    {
     "data": {
      "application/vnd.jupyter.widget-view+json": {
       "model_id": "1e9d9636d5624dcbb280d9977bccaeea",
       "version_major": 2,
       "version_minor": 0
      },
      "text/plain": [
       "FloatSlider(value=1e-05, continuous_update=False, description='303', max=0.9999, min=1e-05, readout_format='.5…"
      ]
     },
     "metadata": {},
     "output_type": "display_data"
    },
    {
     "data": {
      "application/vnd.jupyter.widget-view+json": {
       "model_id": "f1ff2c6ee6f944988b592ac1916507f7",
       "version_major": 2,
       "version_minor": 0
      },
      "text/plain": [
       "FloatSlider(value=1e-05, continuous_update=False, description='304', max=0.9999, min=1e-05, readout_format='.5…"
      ]
     },
     "metadata": {},
     "output_type": "display_data"
    },
    {
     "data": {
      "application/vnd.jupyter.widget-view+json": {
       "model_id": "7e7d61482c264b03bc5c694aaeb377d1",
       "version_major": 2,
       "version_minor": 0
      },
      "text/plain": [
       "FloatSlider(value=1e-05, continuous_update=False, description='305', max=0.9999, min=1e-05, readout_format='.5…"
      ]
     },
     "metadata": {},
     "output_type": "display_data"
    },
    {
     "data": {
      "application/vnd.jupyter.widget-view+json": {
       "model_id": "0f06313d16ec4a969eeec6597fc9285a",
       "version_major": 2,
       "version_minor": 0
      },
      "text/plain": [
       "FloatSlider(value=1e-05, continuous_update=False, description='306', max=0.9999, min=1e-05, readout_format='.5…"
      ]
     },
     "metadata": {},
     "output_type": "display_data"
    },
    {
     "data": {
      "application/vnd.jupyter.widget-view+json": {
       "model_id": "1a2322ad07104ecfb11a3d76e1bf12d0",
       "version_major": 2,
       "version_minor": 0
      },
      "text/plain": [
       "FloatSlider(value=1e-05, continuous_update=False, description='307', max=0.9999, min=1e-05, readout_format='.5…"
      ]
     },
     "metadata": {},
     "output_type": "display_data"
    },
    {
     "data": {
      "application/vnd.jupyter.widget-view+json": {
       "model_id": "75f0dba08238487a929ee08949b038fc",
       "version_major": 2,
       "version_minor": 0
      },
      "text/plain": [
       "FloatSlider(value=1e-05, continuous_update=False, description='308', max=0.9999, min=1e-05, readout_format='.5…"
      ]
     },
     "metadata": {},
     "output_type": "display_data"
    },
    {
     "data": {
      "application/vnd.jupyter.widget-view+json": {
       "model_id": "0deec980a29f4e07be24958247962357",
       "version_major": 2,
       "version_minor": 0
      },
      "text/plain": [
       "FloatSlider(value=1e-05, continuous_update=False, description='309', max=0.9999, min=1e-05, readout_format='.5…"
      ]
     },
     "metadata": {},
     "output_type": "display_data"
    },
    {
     "data": {
      "application/vnd.jupyter.widget-view+json": {
       "model_id": "72b70a655506427a9d89d65f248676c2",
       "version_major": 2,
       "version_minor": 0
      },
      "text/plain": [
       "FloatSlider(value=1e-05, continuous_update=False, description='310', max=0.9999, min=1e-05, readout_format='.5…"
      ]
     },
     "metadata": {},
     "output_type": "display_data"
    },
    {
     "data": {
      "application/vnd.jupyter.widget-view+json": {
       "model_id": "f74ee38eaaaa4c1ca2f66d4b20298157",
       "version_major": 2,
       "version_minor": 0
      },
      "text/plain": [
       "FloatSlider(value=1e-05, continuous_update=False, description='311', max=0.9999, min=1e-05, readout_format='.5…"
      ]
     },
     "metadata": {},
     "output_type": "display_data"
    },
    {
     "data": {
      "application/vnd.jupyter.widget-view+json": {
       "model_id": "ea9afc480bf847139319b15df77371ba",
       "version_major": 2,
       "version_minor": 0
      },
      "text/plain": [
       "FloatSlider(value=1e-05, continuous_update=False, description='312', max=0.9999, min=1e-05, readout_format='.5…"
      ]
     },
     "metadata": {},
     "output_type": "display_data"
    },
    {
     "data": {
      "application/vnd.jupyter.widget-view+json": {
       "model_id": "25e24424a5784c5c9695a0ba52379054",
       "version_major": 2,
       "version_minor": 0
      },
      "text/plain": [
       "FloatSlider(value=1e-05, continuous_update=False, description='313', max=0.9999, min=1e-05, readout_format='.5…"
      ]
     },
     "metadata": {},
     "output_type": "display_data"
    },
    {
     "data": {
      "application/vnd.jupyter.widget-view+json": {
       "model_id": "b9ee97050ed54b6192f7fb9e0f635a74",
       "version_major": 2,
       "version_minor": 0
      },
      "text/plain": [
       "FloatSlider(value=1e-05, continuous_update=False, description='314', max=0.9999, min=1e-05, readout_format='.5…"
      ]
     },
     "metadata": {},
     "output_type": "display_data"
    },
    {
     "data": {
      "application/vnd.jupyter.widget-view+json": {
       "model_id": "1f7264ba24cf4c2aa71c1d8fdf4a96f1",
       "version_major": 2,
       "version_minor": 0
      },
      "text/plain": [
       "FloatSlider(value=1e-05, continuous_update=False, description='315', max=0.9999, min=1e-05, readout_format='.5…"
      ]
     },
     "metadata": {},
     "output_type": "display_data"
    },
    {
     "data": {
      "application/vnd.jupyter.widget-view+json": {
       "model_id": "faf81cc5b6bc462aa261e63bfae3f9a8",
       "version_major": 2,
       "version_minor": 0
      },
      "text/plain": [
       "FloatSlider(value=1e-05, continuous_update=False, description='316', max=0.9999, min=1e-05, readout_format='.5…"
      ]
     },
     "metadata": {},
     "output_type": "display_data"
    },
    {
     "data": {
      "application/vnd.jupyter.widget-view+json": {
       "model_id": "57f05533988941e8a1498e7ef975f223",
       "version_major": 2,
       "version_minor": 0
      },
      "text/plain": [
       "FloatSlider(value=1e-05, continuous_update=False, description='317', max=0.9999, min=1e-05, readout_format='.5…"
      ]
     },
     "metadata": {},
     "output_type": "display_data"
    },
    {
     "data": {
      "application/vnd.jupyter.widget-view+json": {
       "model_id": "e6127c84e72c4cdeb261f0745ce6d105",
       "version_major": 2,
       "version_minor": 0
      },
      "text/plain": [
       "FloatSlider(value=1e-05, continuous_update=False, description='318', max=0.9999, min=1e-05, readout_format='.5…"
      ]
     },
     "metadata": {},
     "output_type": "display_data"
    },
    {
     "data": {
      "application/vnd.jupyter.widget-view+json": {
       "model_id": "ea3b15ef5c354921b66716b2328138d4",
       "version_major": 2,
       "version_minor": 0
      },
      "text/plain": [
       "FloatSlider(value=1e-05, continuous_update=False, description='319', max=0.9999, min=1e-05, readout_format='.5…"
      ]
     },
     "metadata": {},
     "output_type": "display_data"
    },
    {
     "data": {
      "application/vnd.jupyter.widget-view+json": {
       "model_id": "81ab74ae407c4648ac00a4519cc40496",
       "version_major": 2,
       "version_minor": 0
      },
      "text/plain": [
       "FloatSlider(value=1e-05, continuous_update=False, description='320', max=0.9999, min=1e-05, readout_format='.5…"
      ]
     },
     "metadata": {},
     "output_type": "display_data"
    },
    {
     "data": {
      "application/vnd.jupyter.widget-view+json": {
       "model_id": "d0e51ee0415d404a9ed4844933d5de8e",
       "version_major": 2,
       "version_minor": 0
      },
      "text/plain": [
       "FloatSlider(value=1e-05, continuous_update=False, description='321', max=0.9999, min=1e-05, readout_format='.5…"
      ]
     },
     "metadata": {},
     "output_type": "display_data"
    },
    {
     "data": {
      "application/vnd.jupyter.widget-view+json": {
       "model_id": "597bf24bddc046b9b2c880f83bedd814",
       "version_major": 2,
       "version_minor": 0
      },
      "text/plain": [
       "FloatSlider(value=1e-05, continuous_update=False, description='322', max=0.9999, min=1e-05, readout_format='.5…"
      ]
     },
     "metadata": {},
     "output_type": "display_data"
    },
    {
     "data": {
      "application/vnd.jupyter.widget-view+json": {
       "model_id": "7c948440410e499ea2126efab5e7cf4a",
       "version_major": 2,
       "version_minor": 0
      },
      "text/plain": [
       "FloatSlider(value=1e-05, continuous_update=False, description='323', max=0.9999, min=1e-05, readout_format='.5…"
      ]
     },
     "metadata": {},
     "output_type": "display_data"
    },
    {
     "data": {
      "application/vnd.jupyter.widget-view+json": {
       "model_id": "2b1a159646ce4fe5b16e14278d522d46",
       "version_major": 2,
       "version_minor": 0
      },
      "text/plain": [
       "FloatSlider(value=1e-05, continuous_update=False, description='324', max=0.9999, min=1e-05, readout_format='.5…"
      ]
     },
     "metadata": {},
     "output_type": "display_data"
    },
    {
     "data": {
      "application/vnd.jupyter.widget-view+json": {
       "model_id": "70131116df34430e886568fc4b844a84",
       "version_major": 2,
       "version_minor": 0
      },
      "text/plain": [
       "FloatSlider(value=1e-05, continuous_update=False, description='325', max=0.9999, min=1e-05, readout_format='.5…"
      ]
     },
     "metadata": {},
     "output_type": "display_data"
    },
    {
     "data": {
      "application/vnd.jupyter.widget-view+json": {
       "model_id": "58e578969aa644ac81d7fe52adc3c978",
       "version_major": 2,
       "version_minor": 0
      },
      "text/plain": [
       "FloatSlider(value=1e-05, continuous_update=False, description='326', max=0.9999, min=1e-05, readout_format='.5…"
      ]
     },
     "metadata": {},
     "output_type": "display_data"
    },
    {
     "data": {
      "application/vnd.jupyter.widget-view+json": {
       "model_id": "c6f9985e38ea4598aaa96302d61d7dcb",
       "version_major": 2,
       "version_minor": 0
      },
      "text/plain": [
       "FloatSlider(value=1e-05, continuous_update=False, description='327', max=0.9999, min=1e-05, readout_format='.5…"
      ]
     },
     "metadata": {},
     "output_type": "display_data"
    },
    {
     "data": {
      "application/vnd.jupyter.widget-view+json": {
       "model_id": "b9f8a5681385421591929a80ba3b17d6",
       "version_major": 2,
       "version_minor": 0
      },
      "text/plain": [
       "FloatSlider(value=1e-05, continuous_update=False, description='328', max=0.9999, min=1e-05, readout_format='.5…"
      ]
     },
     "metadata": {},
     "output_type": "display_data"
    },
    {
     "data": {
      "application/vnd.jupyter.widget-view+json": {
       "model_id": "169f737032d64a348ec95ed11980a1b9",
       "version_major": 2,
       "version_minor": 0
      },
      "text/plain": [
       "FloatSlider(value=1e-05, continuous_update=False, description='329', max=0.9999, min=1e-05, readout_format='.5…"
      ]
     },
     "metadata": {},
     "output_type": "display_data"
    },
    {
     "data": {
      "application/vnd.jupyter.widget-view+json": {
       "model_id": "0a7b63201e9f464ba7b9e522f935785a",
       "version_major": 2,
       "version_minor": 0
      },
      "text/plain": [
       "FloatSlider(value=1e-05, continuous_update=False, description='330', max=0.9999, min=1e-05, readout_format='.5…"
      ]
     },
     "metadata": {},
     "output_type": "display_data"
    },
    {
     "data": {
      "application/vnd.jupyter.widget-view+json": {
       "model_id": "af2b0129a2474f418028ff5f954f8d7e",
       "version_major": 2,
       "version_minor": 0
      },
      "text/plain": [
       "FloatSlider(value=1e-05, continuous_update=False, description='331', max=0.9999, min=1e-05, readout_format='.5…"
      ]
     },
     "metadata": {},
     "output_type": "display_data"
    },
    {
     "data": {
      "application/vnd.jupyter.widget-view+json": {
       "model_id": "ca493c0a59c44851836637f7a2b292c6",
       "version_major": 2,
       "version_minor": 0
      },
      "text/plain": [
       "FloatSlider(value=1e-05, continuous_update=False, description='332', max=0.9999, min=1e-05, readout_format='.5…"
      ]
     },
     "metadata": {},
     "output_type": "display_data"
    },
    {
     "data": {
      "application/vnd.jupyter.widget-view+json": {
       "model_id": "7788592bf9914545be30ca45b16e3153",
       "version_major": 2,
       "version_minor": 0
      },
      "text/plain": [
       "FloatSlider(value=1e-05, continuous_update=False, description='333', max=0.9999, min=1e-05, readout_format='.5…"
      ]
     },
     "metadata": {},
     "output_type": "display_data"
    },
    {
     "data": {
      "application/vnd.jupyter.widget-view+json": {
       "model_id": "f1a48fb168414ede8f9e69485d045674",
       "version_major": 2,
       "version_minor": 0
      },
      "text/plain": [
       "FloatSlider(value=1e-05, continuous_update=False, description='334', max=0.9999, min=1e-05, readout_format='.5…"
      ]
     },
     "metadata": {},
     "output_type": "display_data"
    },
    {
     "data": {
      "application/vnd.jupyter.widget-view+json": {
       "model_id": "a6dfb64e963e4438b5621820b7556e64",
       "version_major": 2,
       "version_minor": 0
      },
      "text/plain": [
       "FloatSlider(value=1e-05, continuous_update=False, description='335', max=0.9999, min=1e-05, readout_format='.5…"
      ]
     },
     "metadata": {},
     "output_type": "display_data"
    },
    {
     "data": {
      "application/vnd.jupyter.widget-view+json": {
       "model_id": "059cafcff2d44eea8ce7dd80f9ccfd2f",
       "version_major": 2,
       "version_minor": 0
      },
      "text/plain": [
       "FloatSlider(value=1e-05, continuous_update=False, description='336', max=0.9999, min=1e-05, readout_format='.5…"
      ]
     },
     "metadata": {},
     "output_type": "display_data"
    },
    {
     "data": {
      "application/vnd.jupyter.widget-view+json": {
       "model_id": "a3e3bcab4cd440fe80a885fd9c4afac8",
       "version_major": 2,
       "version_minor": 0
      },
      "text/plain": [
       "FloatSlider(value=1e-05, continuous_update=False, description='337', max=0.9999, min=1e-05, readout_format='.5…"
      ]
     },
     "metadata": {},
     "output_type": "display_data"
    },
    {
     "data": {
      "application/vnd.jupyter.widget-view+json": {
       "model_id": "51e5ad03991241108772943aea235b54",
       "version_major": 2,
       "version_minor": 0
      },
      "text/plain": [
       "FloatSlider(value=1e-05, continuous_update=False, description='338', max=0.9999, min=1e-05, readout_format='.5…"
      ]
     },
     "metadata": {},
     "output_type": "display_data"
    },
    {
     "data": {
      "application/vnd.jupyter.widget-view+json": {
       "model_id": "7881307a1a4c40ebb892a3425c41e292",
       "version_major": 2,
       "version_minor": 0
      },
      "text/plain": [
       "FloatSlider(value=1e-05, continuous_update=False, description='339', max=0.9999, min=1e-05, readout_format='.5…"
      ]
     },
     "metadata": {},
     "output_type": "display_data"
    },
    {
     "data": {
      "application/vnd.jupyter.widget-view+json": {
       "model_id": "e01d351600154ce38d9d960b30821c8b",
       "version_major": 2,
       "version_minor": 0
      },
      "text/plain": [
       "FloatSlider(value=1e-05, continuous_update=False, description='340', max=0.9999, min=1e-05, readout_format='.5…"
      ]
     },
     "metadata": {},
     "output_type": "display_data"
    },
    {
     "data": {
      "application/vnd.jupyter.widget-view+json": {
       "model_id": "f10382f717da41cb93b6675f20870624",
       "version_major": 2,
       "version_minor": 0
      },
      "text/plain": [
       "FloatSlider(value=1e-05, continuous_update=False, description='341', max=0.9999, min=1e-05, readout_format='.5…"
      ]
     },
     "metadata": {},
     "output_type": "display_data"
    },
    {
     "data": {
      "application/vnd.jupyter.widget-view+json": {
       "model_id": "5eb0d3fe2dbf484b970b1c07b98458f9",
       "version_major": 2,
       "version_minor": 0
      },
      "text/plain": [
       "FloatSlider(value=1e-05, continuous_update=False, description='342', max=0.9999, min=1e-05, readout_format='.5…"
      ]
     },
     "metadata": {},
     "output_type": "display_data"
    },
    {
     "data": {
      "application/vnd.jupyter.widget-view+json": {
       "model_id": "fa78c0b4d99e4f069dcc9fee5d52f8f4",
       "version_major": 2,
       "version_minor": 0
      },
      "text/plain": [
       "FloatSlider(value=1e-05, continuous_update=False, description='343', max=0.9999, min=1e-05, readout_format='.5…"
      ]
     },
     "metadata": {},
     "output_type": "display_data"
    },
    {
     "data": {
      "application/vnd.jupyter.widget-view+json": {
       "model_id": "7231f8499973423588527bcf7afff544",
       "version_major": 2,
       "version_minor": 0
      },
      "text/plain": [
       "FloatSlider(value=1e-05, continuous_update=False, description='344', max=0.9999, min=1e-05, readout_format='.5…"
      ]
     },
     "metadata": {},
     "output_type": "display_data"
    },
    {
     "data": {
      "application/vnd.jupyter.widget-view+json": {
       "model_id": "b6465b75e5da4bc5b83af0868687423e",
       "version_major": 2,
       "version_minor": 0
      },
      "text/plain": [
       "FloatSlider(value=1e-05, continuous_update=False, description='345', max=0.9999, min=1e-05, readout_format='.5…"
      ]
     },
     "metadata": {},
     "output_type": "display_data"
    },
    {
     "data": {
      "application/vnd.jupyter.widget-view+json": {
       "model_id": "11595d8fdd684c9f8d6c72fcca76b94c",
       "version_major": 2,
       "version_minor": 0
      },
      "text/plain": [
       "FloatSlider(value=1e-05, continuous_update=False, description='346', max=0.9999, min=1e-05, readout_format='.5…"
      ]
     },
     "metadata": {},
     "output_type": "display_data"
    },
    {
     "data": {
      "application/vnd.jupyter.widget-view+json": {
       "model_id": "c368dc8eb224413c8e719f520461d9de",
       "version_major": 2,
       "version_minor": 0
      },
      "text/plain": [
       "FloatSlider(value=1e-05, continuous_update=False, description='347', max=0.9999, min=1e-05, readout_format='.5…"
      ]
     },
     "metadata": {},
     "output_type": "display_data"
    },
    {
     "data": {
      "application/vnd.jupyter.widget-view+json": {
       "model_id": "d7e451e949a547d09b3ed7fc7eab0ca0",
       "version_major": 2,
       "version_minor": 0
      },
      "text/plain": [
       "FloatSlider(value=1e-05, continuous_update=False, description='348', max=0.9999, min=1e-05, readout_format='.5…"
      ]
     },
     "metadata": {},
     "output_type": "display_data"
    },
    {
     "data": {
      "application/vnd.jupyter.widget-view+json": {
       "model_id": "16093f98c33c49a5986c25b75f2af9ed",
       "version_major": 2,
       "version_minor": 0
      },
      "text/plain": [
       "FloatSlider(value=1e-05, continuous_update=False, description='349', max=0.9999, min=1e-05, readout_format='.5…"
      ]
     },
     "metadata": {},
     "output_type": "display_data"
    },
    {
     "data": {
      "application/vnd.jupyter.widget-view+json": {
       "model_id": "2a070d840e1e444e9e18d3f387bc4409",
       "version_major": 2,
       "version_minor": 0
      },
      "text/plain": [
       "FloatSlider(value=1e-05, continuous_update=False, description='350', max=0.9999, min=1e-05, readout_format='.5…"
      ]
     },
     "metadata": {},
     "output_type": "display_data"
    },
    {
     "data": {
      "application/vnd.jupyter.widget-view+json": {
       "model_id": "42b216edcb7d4255b10593b8b3970fec",
       "version_major": 2,
       "version_minor": 0
      },
      "text/plain": [
       "FloatSlider(value=1e-05, continuous_update=False, description='351', max=0.9999, min=1e-05, readout_format='.5…"
      ]
     },
     "metadata": {},
     "output_type": "display_data"
    },
    {
     "data": {
      "application/vnd.jupyter.widget-view+json": {
       "model_id": "6199a495b0564a1e9eb02eede7e25d7b",
       "version_major": 2,
       "version_minor": 0
      },
      "text/plain": [
       "FloatSlider(value=1e-05, continuous_update=False, description='352', max=0.9999, min=1e-05, readout_format='.5…"
      ]
     },
     "metadata": {},
     "output_type": "display_data"
    },
    {
     "data": {
      "application/vnd.jupyter.widget-view+json": {
       "model_id": "33ff07a49c9f4e328670d41986a4ed02",
       "version_major": 2,
       "version_minor": 0
      },
      "text/plain": [
       "FloatSlider(value=1e-05, continuous_update=False, description='353', max=0.9999, min=1e-05, readout_format='.5…"
      ]
     },
     "metadata": {},
     "output_type": "display_data"
    },
    {
     "data": {
      "application/vnd.jupyter.widget-view+json": {
       "model_id": "6c0f1011dbc24e6690fb8551a00cfca6",
       "version_major": 2,
       "version_minor": 0
      },
      "text/plain": [
       "FloatSlider(value=1e-05, continuous_update=False, description='354', max=0.9999, min=1e-05, readout_format='.5…"
      ]
     },
     "metadata": {},
     "output_type": "display_data"
    },
    {
     "data": {
      "application/vnd.jupyter.widget-view+json": {
       "model_id": "7a4778cc7a774679ad4ac12564eae768",
       "version_major": 2,
       "version_minor": 0
      },
      "text/plain": [
       "FloatSlider(value=1e-05, continuous_update=False, description='355', max=0.9999, min=1e-05, readout_format='.5…"
      ]
     },
     "metadata": {},
     "output_type": "display_data"
    },
    {
     "data": {
      "application/vnd.jupyter.widget-view+json": {
       "model_id": "3a554ebc347941c1b774fb69428b3fb8",
       "version_major": 2,
       "version_minor": 0
      },
      "text/plain": [
       "FloatSlider(value=1e-05, continuous_update=False, description='356', max=0.9999, min=1e-05, readout_format='.5…"
      ]
     },
     "metadata": {},
     "output_type": "display_data"
    },
    {
     "data": {
      "application/vnd.jupyter.widget-view+json": {
       "model_id": "6a84f22a2ddb4bc7880edb32ab2c4246",
       "version_major": 2,
       "version_minor": 0
      },
      "text/plain": [
       "FloatSlider(value=1e-05, continuous_update=False, description='357', max=0.9999, min=1e-05, readout_format='.5…"
      ]
     },
     "metadata": {},
     "output_type": "display_data"
    },
    {
     "data": {
      "application/vnd.jupyter.widget-view+json": {
       "model_id": "f5d7304890dc4dc4a4531b83b0d95c86",
       "version_major": 2,
       "version_minor": 0
      },
      "text/plain": [
       "FloatSlider(value=1e-05, continuous_update=False, description='358', max=0.9999, min=1e-05, readout_format='.5…"
      ]
     },
     "metadata": {},
     "output_type": "display_data"
    },
    {
     "data": {
      "application/vnd.jupyter.widget-view+json": {
       "model_id": "a60e73cbb63b4d8a80e00a4e5af0009d",
       "version_major": 2,
       "version_minor": 0
      },
      "text/plain": [
       "FloatSlider(value=1e-05, continuous_update=False, description='359', max=0.9999, min=1e-05, readout_format='.5…"
      ]
     },
     "metadata": {},
     "output_type": "display_data"
    },
    {
     "data": {
      "application/vnd.jupyter.widget-view+json": {
       "model_id": "33f0b0f5814f49a4983d8e38a1e45260",
       "version_major": 2,
       "version_minor": 0
      },
      "text/plain": [
       "FloatSlider(value=1e-05, continuous_update=False, description='360', max=0.9999, min=1e-05, readout_format='.5…"
      ]
     },
     "metadata": {},
     "output_type": "display_data"
    },
    {
     "data": {
      "application/vnd.jupyter.widget-view+json": {
       "model_id": "d911872ccc4049848deebadebae15f42",
       "version_major": 2,
       "version_minor": 0
      },
      "text/plain": [
       "FloatSlider(value=1e-05, continuous_update=False, description='361', max=0.9999, min=1e-05, readout_format='.5…"
      ]
     },
     "metadata": {},
     "output_type": "display_data"
    },
    {
     "data": {
      "application/vnd.jupyter.widget-view+json": {
       "model_id": "bf3d6ee2fa974ecf8be76d07d2bd842f",
       "version_major": 2,
       "version_minor": 0
      },
      "text/plain": [
       "FloatSlider(value=1e-05, continuous_update=False, description='362', max=0.9999, min=1e-05, readout_format='.5…"
      ]
     },
     "metadata": {},
     "output_type": "display_data"
    },
    {
     "data": {
      "application/vnd.jupyter.widget-view+json": {
       "model_id": "4143275974834b58a7dfbda0ea12feec",
       "version_major": 2,
       "version_minor": 0
      },
      "text/plain": [
       "FloatSlider(value=1e-05, continuous_update=False, description='363', max=0.9999, min=1e-05, readout_format='.5…"
      ]
     },
     "metadata": {},
     "output_type": "display_data"
    },
    {
     "data": {
      "application/vnd.jupyter.widget-view+json": {
       "model_id": "eea0563fc919429d809b516b0e39ce40",
       "version_major": 2,
       "version_minor": 0
      },
      "text/plain": [
       "FloatSlider(value=1e-05, continuous_update=False, description='364', max=0.9999, min=1e-05, readout_format='.5…"
      ]
     },
     "metadata": {},
     "output_type": "display_data"
    },
    {
     "data": {
      "application/vnd.jupyter.widget-view+json": {
       "model_id": "20c1d25801574fc28f16fc02d6a19fd8",
       "version_major": 2,
       "version_minor": 0
      },
      "text/plain": [
       "FloatSlider(value=1e-05, continuous_update=False, description='365', max=0.9999, min=1e-05, readout_format='.5…"
      ]
     },
     "metadata": {},
     "output_type": "display_data"
    },
    {
     "data": {
      "application/vnd.jupyter.widget-view+json": {
       "model_id": "95326a4dcf8e4442a8f59224c971ecb3",
       "version_major": 2,
       "version_minor": 0
      },
      "text/plain": [
       "FloatSlider(value=1e-05, continuous_update=False, description='366', max=0.9999, min=1e-05, readout_format='.5…"
      ]
     },
     "metadata": {},
     "output_type": "display_data"
    },
    {
     "data": {
      "application/vnd.jupyter.widget-view+json": {
       "model_id": "31fbd4a37e324c22a9d0c19644401278",
       "version_major": 2,
       "version_minor": 0
      },
      "text/plain": [
       "FloatSlider(value=1e-05, continuous_update=False, description='367', max=0.9999, min=1e-05, readout_format='.5…"
      ]
     },
     "metadata": {},
     "output_type": "display_data"
    },
    {
     "data": {
      "application/vnd.jupyter.widget-view+json": {
       "model_id": "b77df45d3e1b412d97d275c57733e431",
       "version_major": 2,
       "version_minor": 0
      },
      "text/plain": [
       "FloatSlider(value=1e-05, continuous_update=False, description='368', max=0.9999, min=1e-05, readout_format='.5…"
      ]
     },
     "metadata": {},
     "output_type": "display_data"
    },
    {
     "data": {
      "application/vnd.jupyter.widget-view+json": {
       "model_id": "2a2661795afe4434902d763e3d780594",
       "version_major": 2,
       "version_minor": 0
      },
      "text/plain": [
       "FloatSlider(value=1e-05, continuous_update=False, description='369', max=0.9999, min=1e-05, readout_format='.5…"
      ]
     },
     "metadata": {},
     "output_type": "display_data"
    },
    {
     "data": {
      "application/vnd.jupyter.widget-view+json": {
       "model_id": "b4dc71caeb664afc96976cb3c6b3fca4",
       "version_major": 2,
       "version_minor": 0
      },
      "text/plain": [
       "FloatSlider(value=1e-05, continuous_update=False, description='370', max=0.9999, min=1e-05, readout_format='.5…"
      ]
     },
     "metadata": {},
     "output_type": "display_data"
    },
    {
     "data": {
      "application/vnd.jupyter.widget-view+json": {
       "model_id": "ef7da3575eaa47acaeb2b5293906c883",
       "version_major": 2,
       "version_minor": 0
      },
      "text/plain": [
       "FloatSlider(value=1e-05, continuous_update=False, description='371', max=0.9999, min=1e-05, readout_format='.5…"
      ]
     },
     "metadata": {},
     "output_type": "display_data"
    },
    {
     "data": {
      "application/vnd.jupyter.widget-view+json": {
       "model_id": "de2a5d8676a44150920f513e575d79e8",
       "version_major": 2,
       "version_minor": 0
      },
      "text/plain": [
       "FloatSlider(value=1e-05, continuous_update=False, description='372', max=0.9999, min=1e-05, readout_format='.5…"
      ]
     },
     "metadata": {},
     "output_type": "display_data"
    },
    {
     "data": {
      "application/vnd.jupyter.widget-view+json": {
       "model_id": "985711b66b794ae9a6ed923f72ced336",
       "version_major": 2,
       "version_minor": 0
      },
      "text/plain": [
       "FloatSlider(value=1e-05, continuous_update=False, description='373', max=0.9999, min=1e-05, readout_format='.5…"
      ]
     },
     "metadata": {},
     "output_type": "display_data"
    },
    {
     "data": {
      "application/vnd.jupyter.widget-view+json": {
       "model_id": "56e9e820e9044ad1a36f5e57312bb16d",
       "version_major": 2,
       "version_minor": 0
      },
      "text/plain": [
       "FloatSlider(value=1e-05, continuous_update=False, description='374', max=0.9999, min=1e-05, readout_format='.5…"
      ]
     },
     "metadata": {},
     "output_type": "display_data"
    },
    {
     "data": {
      "application/vnd.jupyter.widget-view+json": {
       "model_id": "b4f6aab196b046ab9f3f841461cfd98a",
       "version_major": 2,
       "version_minor": 0
      },
      "text/plain": [
       "FloatSlider(value=1e-05, continuous_update=False, description='375', max=0.9999, min=1e-05, readout_format='.5…"
      ]
     },
     "metadata": {},
     "output_type": "display_data"
    },
    {
     "data": {
      "application/vnd.jupyter.widget-view+json": {
       "model_id": "44d6740aefbc4a59afa712e1fb8abef3",
       "version_major": 2,
       "version_minor": 0
      },
      "text/plain": [
       "FloatSlider(value=1e-05, continuous_update=False, description='376', max=0.9999, min=1e-05, readout_format='.5…"
      ]
     },
     "metadata": {},
     "output_type": "display_data"
    },
    {
     "data": {
      "application/vnd.jupyter.widget-view+json": {
       "model_id": "d8d2387ad04247b49a55ff7233763511",
       "version_major": 2,
       "version_minor": 0
      },
      "text/plain": [
       "FloatSlider(value=1e-05, continuous_update=False, description='377', max=0.9999, min=1e-05, readout_format='.5…"
      ]
     },
     "metadata": {},
     "output_type": "display_data"
    },
    {
     "data": {
      "application/vnd.jupyter.widget-view+json": {
       "model_id": "efdc4bbcfdcb41be88012e0b28417ce6",
       "version_major": 2,
       "version_minor": 0
      },
      "text/plain": [
       "FloatSlider(value=1e-05, continuous_update=False, description='378', max=0.9999, min=1e-05, readout_format='.5…"
      ]
     },
     "metadata": {},
     "output_type": "display_data"
    },
    {
     "data": {
      "application/vnd.jupyter.widget-view+json": {
       "model_id": "bbb1eb166a734147b310bb44efa8397b",
       "version_major": 2,
       "version_minor": 0
      },
      "text/plain": [
       "FloatSlider(value=1e-05, continuous_update=False, description='379', max=0.9999, min=1e-05, readout_format='.5…"
      ]
     },
     "metadata": {},
     "output_type": "display_data"
    },
    {
     "data": {
      "application/vnd.jupyter.widget-view+json": {
       "model_id": "831e5407b94a4d36b8110c1a1302758d",
       "version_major": 2,
       "version_minor": 0
      },
      "text/plain": [
       "FloatSlider(value=1e-05, continuous_update=False, description='380', max=0.9999, min=1e-05, readout_format='.5…"
      ]
     },
     "metadata": {},
     "output_type": "display_data"
    },
    {
     "data": {
      "application/vnd.jupyter.widget-view+json": {
       "model_id": "01ebd5b5a85c45c08befd5c1155378e3",
       "version_major": 2,
       "version_minor": 0
      },
      "text/plain": [
       "FloatSlider(value=1e-05, continuous_update=False, description='381', max=0.9999, min=1e-05, readout_format='.5…"
      ]
     },
     "metadata": {},
     "output_type": "display_data"
    },
    {
     "data": {
      "application/vnd.jupyter.widget-view+json": {
       "model_id": "ae937748178b43f08e13d4274c4b53a4",
       "version_major": 2,
       "version_minor": 0
      },
      "text/plain": [
       "FloatSlider(value=1e-05, continuous_update=False, description='382', max=0.9999, min=1e-05, readout_format='.5…"
      ]
     },
     "metadata": {},
     "output_type": "display_data"
    },
    {
     "data": {
      "application/vnd.jupyter.widget-view+json": {
       "model_id": "74cbafdb7e234191a35be3a86644aaed",
       "version_major": 2,
       "version_minor": 0
      },
      "text/plain": [
       "FloatSlider(value=1e-05, continuous_update=False, description='383', max=0.9999, min=1e-05, readout_format='.5…"
      ]
     },
     "metadata": {},
     "output_type": "display_data"
    },
    {
     "data": {
      "application/vnd.jupyter.widget-view+json": {
       "model_id": "b5756e36f3df4be5b98c2289ab990a69",
       "version_major": 2,
       "version_minor": 0
      },
      "text/plain": [
       "FloatSlider(value=1e-05, continuous_update=False, description='384', max=0.9999, min=1e-05, readout_format='.5…"
      ]
     },
     "metadata": {},
     "output_type": "display_data"
    },
    {
     "data": {
      "application/vnd.jupyter.widget-view+json": {
       "model_id": "6f1e0b00542c4fbe9db1a8d8087d3653",
       "version_major": 2,
       "version_minor": 0
      },
      "text/plain": [
       "FloatSlider(value=1e-05, continuous_update=False, description='385', max=0.9999, min=1e-05, readout_format='.5…"
      ]
     },
     "metadata": {},
     "output_type": "display_data"
    },
    {
     "data": {
      "application/vnd.jupyter.widget-view+json": {
       "model_id": "440c59e5d59c4854817b97c595e7c221",
       "version_major": 2,
       "version_minor": 0
      },
      "text/plain": [
       "FloatSlider(value=1e-05, continuous_update=False, description='386', max=0.9999, min=1e-05, readout_format='.5…"
      ]
     },
     "metadata": {},
     "output_type": "display_data"
    },
    {
     "data": {
      "application/vnd.jupyter.widget-view+json": {
       "model_id": "a1ffdbf8c88e4f36affa64fd1b2d6c69",
       "version_major": 2,
       "version_minor": 0
      },
      "text/plain": [
       "FloatSlider(value=1e-05, continuous_update=False, description='387', max=0.9999, min=1e-05, readout_format='.5…"
      ]
     },
     "metadata": {},
     "output_type": "display_data"
    },
    {
     "data": {
      "application/vnd.jupyter.widget-view+json": {
       "model_id": "8942434ea0d94d5d9d99557e917917da",
       "version_major": 2,
       "version_minor": 0
      },
      "text/plain": [
       "FloatSlider(value=1e-05, continuous_update=False, description='388', max=0.9999, min=1e-05, readout_format='.5…"
      ]
     },
     "metadata": {},
     "output_type": "display_data"
    },
    {
     "data": {
      "application/vnd.jupyter.widget-view+json": {
       "model_id": "f13189958331468995718f22c608f808",
       "version_major": 2,
       "version_minor": 0
      },
      "text/plain": [
       "FloatSlider(value=1e-05, continuous_update=False, description='389', max=0.9999, min=1e-05, readout_format='.5…"
      ]
     },
     "metadata": {},
     "output_type": "display_data"
    },
    {
     "data": {
      "application/vnd.jupyter.widget-view+json": {
       "model_id": "c0597483baba4a9ebbc3da786198fc8e",
       "version_major": 2,
       "version_minor": 0
      },
      "text/plain": [
       "FloatSlider(value=1e-05, continuous_update=False, description='390', max=0.9999, min=1e-05, readout_format='.5…"
      ]
     },
     "metadata": {},
     "output_type": "display_data"
    },
    {
     "data": {
      "application/vnd.jupyter.widget-view+json": {
       "model_id": "7b6928de5f134f6dace8381f179fa299",
       "version_major": 2,
       "version_minor": 0
      },
      "text/plain": [
       "FloatSlider(value=1e-05, continuous_update=False, description='391', max=0.9999, min=1e-05, readout_format='.5…"
      ]
     },
     "metadata": {},
     "output_type": "display_data"
    },
    {
     "data": {
      "application/vnd.jupyter.widget-view+json": {
       "model_id": "95b3954627ba4ffca403424e7c9f199e",
       "version_major": 2,
       "version_minor": 0
      },
      "text/plain": [
       "FloatSlider(value=1e-05, continuous_update=False, description='392', max=0.9999, min=1e-05, readout_format='.5…"
      ]
     },
     "metadata": {},
     "output_type": "display_data"
    },
    {
     "data": {
      "application/vnd.jupyter.widget-view+json": {
       "model_id": "417ac0180ed64e66affeb0902145e46e",
       "version_major": 2,
       "version_minor": 0
      },
      "text/plain": [
       "FloatSlider(value=1e-05, continuous_update=False, description='393', max=0.9999, min=1e-05, readout_format='.5…"
      ]
     },
     "metadata": {},
     "output_type": "display_data"
    },
    {
     "data": {
      "application/vnd.jupyter.widget-view+json": {
       "model_id": "2d3f81e509d9488a97aed56f2a9334e0",
       "version_major": 2,
       "version_minor": 0
      },
      "text/plain": [
       "FloatSlider(value=1e-05, continuous_update=False, description='394', max=0.9999, min=1e-05, readout_format='.5…"
      ]
     },
     "metadata": {},
     "output_type": "display_data"
    },
    {
     "data": {
      "application/vnd.jupyter.widget-view+json": {
       "model_id": "f7bc25ab02bf493cbdbed31668a9be43",
       "version_major": 2,
       "version_minor": 0
      },
      "text/plain": [
       "FloatSlider(value=1e-05, continuous_update=False, description='395', max=0.9999, min=1e-05, readout_format='.5…"
      ]
     },
     "metadata": {},
     "output_type": "display_data"
    },
    {
     "data": {
      "application/vnd.jupyter.widget-view+json": {
       "model_id": "8a9534cd281f48ebb2081fc88a2e9e5f",
       "version_major": 2,
       "version_minor": 0
      },
      "text/plain": [
       "FloatSlider(value=1e-05, continuous_update=False, description='396', max=0.9999, min=1e-05, readout_format='.5…"
      ]
     },
     "metadata": {},
     "output_type": "display_data"
    },
    {
     "data": {
      "application/vnd.jupyter.widget-view+json": {
       "model_id": "eb36d289db6542d4b32e24fbf8a23f57",
       "version_major": 2,
       "version_minor": 0
      },
      "text/plain": [
       "FloatSlider(value=1e-05, continuous_update=False, description='397', max=0.9999, min=1e-05, readout_format='.5…"
      ]
     },
     "metadata": {},
     "output_type": "display_data"
    },
    {
     "data": {
      "application/vnd.jupyter.widget-view+json": {
       "model_id": "c9513988e1834addba323e2bd92b9ca3",
       "version_major": 2,
       "version_minor": 0
      },
      "text/plain": [
       "FloatSlider(value=1e-05, continuous_update=False, description='398', max=0.9999, min=1e-05, readout_format='.5…"
      ]
     },
     "metadata": {},
     "output_type": "display_data"
    },
    {
     "data": {
      "application/vnd.jupyter.widget-view+json": {
       "model_id": "3bf5759cd60b4bd5b8da92e8ef927a9b",
       "version_major": 2,
       "version_minor": 0
      },
      "text/plain": [
       "FloatSlider(value=1e-05, continuous_update=False, description='399', max=0.9999, min=1e-05, readout_format='.5…"
      ]
     },
     "metadata": {},
     "output_type": "display_data"
    },
    {
     "data": {
      "application/vnd.jupyter.widget-view+json": {
       "model_id": "a56ee36e1ab444e19ea462f2a3f88f41",
       "version_major": 2,
       "version_minor": 0
      },
      "text/plain": [
       "FloatSlider(value=1e-05, continuous_update=False, description='400', max=0.9999, min=1e-05, readout_format='.5…"
      ]
     },
     "metadata": {},
     "output_type": "display_data"
    },
    {
     "data": {
      "application/vnd.jupyter.widget-view+json": {
       "model_id": "de8a8ad2f2de41ebb7bf15598b35c0bc",
       "version_major": 2,
       "version_minor": 0
      },
      "text/plain": [
       "FloatSlider(value=1e-05, continuous_update=False, description='401', max=0.9999, min=1e-05, readout_format='.5…"
      ]
     },
     "metadata": {},
     "output_type": "display_data"
    },
    {
     "data": {
      "application/vnd.jupyter.widget-view+json": {
       "model_id": "67ec0259b3134bceba545ff49bab7105",
       "version_major": 2,
       "version_minor": 0
      },
      "text/plain": [
       "FloatSlider(value=1e-05, continuous_update=False, description='402', max=0.9999, min=1e-05, readout_format='.5…"
      ]
     },
     "metadata": {},
     "output_type": "display_data"
    },
    {
     "data": {
      "application/vnd.jupyter.widget-view+json": {
       "model_id": "094b7d8ca08d4dfdb33954a46d4defe8",
       "version_major": 2,
       "version_minor": 0
      },
      "text/plain": [
       "FloatSlider(value=1e-05, continuous_update=False, description='403', max=0.9999, min=1e-05, readout_format='.5…"
      ]
     },
     "metadata": {},
     "output_type": "display_data"
    },
    {
     "data": {
      "application/vnd.jupyter.widget-view+json": {
       "model_id": "5f7a7d6d439c46d0b4e4dcaceace438a",
       "version_major": 2,
       "version_minor": 0
      },
      "text/plain": [
       "FloatSlider(value=1e-05, continuous_update=False, description='404', max=0.9999, min=1e-05, readout_format='.5…"
      ]
     },
     "metadata": {},
     "output_type": "display_data"
    },
    {
     "data": {
      "application/vnd.jupyter.widget-view+json": {
       "model_id": "d3f870f80fb54437aa1d1818a257666c",
       "version_major": 2,
       "version_minor": 0
      },
      "text/plain": [
       "FloatSlider(value=1e-05, continuous_update=False, description='405', max=0.9999, min=1e-05, readout_format='.5…"
      ]
     },
     "metadata": {},
     "output_type": "display_data"
    },
    {
     "data": {
      "application/vnd.jupyter.widget-view+json": {
       "model_id": "cf6c3fe5f6244d929115ff4d6e7486bb",
       "version_major": 2,
       "version_minor": 0
      },
      "text/plain": [
       "FloatSlider(value=1e-05, continuous_update=False, description='406', max=0.9999, min=1e-05, readout_format='.5…"
      ]
     },
     "metadata": {},
     "output_type": "display_data"
    },
    {
     "data": {
      "application/vnd.jupyter.widget-view+json": {
       "model_id": "31c9b717a5974eb1834bb8d70569b886",
       "version_major": 2,
       "version_minor": 0
      },
      "text/plain": [
       "FloatSlider(value=1e-05, continuous_update=False, description='407', max=0.9999, min=1e-05, readout_format='.5…"
      ]
     },
     "metadata": {},
     "output_type": "display_data"
    },
    {
     "data": {
      "application/vnd.jupyter.widget-view+json": {
       "model_id": "aa9a8b4d5ae84a1a8cee0e591fee4d93",
       "version_major": 2,
       "version_minor": 0
      },
      "text/plain": [
       "FloatSlider(value=1e-05, continuous_update=False, description='408', max=0.9999, min=1e-05, readout_format='.5…"
      ]
     },
     "metadata": {},
     "output_type": "display_data"
    },
    {
     "data": {
      "application/vnd.jupyter.widget-view+json": {
       "model_id": "3871e904865a48a8ba22059cfbabd6fa",
       "version_major": 2,
       "version_minor": 0
      },
      "text/plain": [
       "FloatSlider(value=1e-05, continuous_update=False, description='409', max=0.9999, min=1e-05, readout_format='.5…"
      ]
     },
     "metadata": {},
     "output_type": "display_data"
    },
    {
     "data": {
      "application/vnd.jupyter.widget-view+json": {
       "model_id": "a0a0e89b5ed949d08aa2d4c90779548e",
       "version_major": 2,
       "version_minor": 0
      },
      "text/plain": [
       "FloatSlider(value=1e-05, continuous_update=False, description='410', max=0.9999, min=1e-05, readout_format='.5…"
      ]
     },
     "metadata": {},
     "output_type": "display_data"
    },
    {
     "data": {
      "application/vnd.jupyter.widget-view+json": {
       "model_id": "3ca9df54c21742798b2e7361d58c6c1a",
       "version_major": 2,
       "version_minor": 0
      },
      "text/plain": [
       "FloatSlider(value=1e-05, continuous_update=False, description='411', max=0.9999, min=1e-05, readout_format='.5…"
      ]
     },
     "metadata": {},
     "output_type": "display_data"
    },
    {
     "data": {
      "application/vnd.jupyter.widget-view+json": {
       "model_id": "b2dd523227e54af4906a3b20cebb64cf",
       "version_major": 2,
       "version_minor": 0
      },
      "text/plain": [
       "FloatSlider(value=1e-05, continuous_update=False, description='412', max=0.9999, min=1e-05, readout_format='.5…"
      ]
     },
     "metadata": {},
     "output_type": "display_data"
    },
    {
     "data": {
      "application/vnd.jupyter.widget-view+json": {
       "model_id": "b9df2cee9b5844aa86e8efbdffabef2d",
       "version_major": 2,
       "version_minor": 0
      },
      "text/plain": [
       "FloatSlider(value=1e-05, continuous_update=False, description='413', max=0.9999, min=1e-05, readout_format='.5…"
      ]
     },
     "metadata": {},
     "output_type": "display_data"
    },
    {
     "data": {
      "application/vnd.jupyter.widget-view+json": {
       "model_id": "aedc65297033499590e53ae5567a4d79",
       "version_major": 2,
       "version_minor": 0
      },
      "text/plain": [
       "FloatSlider(value=1e-05, continuous_update=False, description='414', max=0.9999, min=1e-05, readout_format='.5…"
      ]
     },
     "metadata": {},
     "output_type": "display_data"
    },
    {
     "data": {
      "application/vnd.jupyter.widget-view+json": {
       "model_id": "ec91968e9b7f4a11a937810e09942b07",
       "version_major": 2,
       "version_minor": 0
      },
      "text/plain": [
       "FloatSlider(value=1e-05, continuous_update=False, description='415', max=0.9999, min=1e-05, readout_format='.5…"
      ]
     },
     "metadata": {},
     "output_type": "display_data"
    },
    {
     "data": {
      "application/vnd.jupyter.widget-view+json": {
       "model_id": "e5f23685f7d446e5852ab9b136502aba",
       "version_major": 2,
       "version_minor": 0
      },
      "text/plain": [
       "FloatSlider(value=1e-05, continuous_update=False, description='416', max=0.9999, min=1e-05, readout_format='.5…"
      ]
     },
     "metadata": {},
     "output_type": "display_data"
    },
    {
     "data": {
      "application/vnd.jupyter.widget-view+json": {
       "model_id": "4c54f479327741f39a0ff39b42ba153d",
       "version_major": 2,
       "version_minor": 0
      },
      "text/plain": [
       "FloatSlider(value=1e-05, continuous_update=False, description='417', max=0.9999, min=1e-05, readout_format='.5…"
      ]
     },
     "metadata": {},
     "output_type": "display_data"
    },
    {
     "data": {
      "application/vnd.jupyter.widget-view+json": {
       "model_id": "13d391056b614d1a9bb855e11ce95126",
       "version_major": 2,
       "version_minor": 0
      },
      "text/plain": [
       "FloatSlider(value=1e-05, continuous_update=False, description='418', max=0.9999, min=1e-05, readout_format='.5…"
      ]
     },
     "metadata": {},
     "output_type": "display_data"
    },
    {
     "data": {
      "application/vnd.jupyter.widget-view+json": {
       "model_id": "088570bb24e24bc2933dcd7358fc085e",
       "version_major": 2,
       "version_minor": 0
      },
      "text/plain": [
       "FloatSlider(value=1e-05, continuous_update=False, description='419', max=0.9999, min=1e-05, readout_format='.5…"
      ]
     },
     "metadata": {},
     "output_type": "display_data"
    },
    {
     "data": {
      "application/vnd.jupyter.widget-view+json": {
       "model_id": "6ee842960a714680972929534441b4ac",
       "version_major": 2,
       "version_minor": 0
      },
      "text/plain": [
       "FloatSlider(value=1e-05, continuous_update=False, description='420', max=0.9999, min=1e-05, readout_format='.5…"
      ]
     },
     "metadata": {},
     "output_type": "display_data"
    },
    {
     "data": {
      "application/vnd.jupyter.widget-view+json": {
       "model_id": "07716187726e45e38bb39e362dfba799",
       "version_major": 2,
       "version_minor": 0
      },
      "text/plain": [
       "FloatSlider(value=1e-05, continuous_update=False, description='421', max=0.9999, min=1e-05, readout_format='.5…"
      ]
     },
     "metadata": {},
     "output_type": "display_data"
    },
    {
     "data": {
      "application/vnd.jupyter.widget-view+json": {
       "model_id": "3040ee3855e246c69dd3478acee380cc",
       "version_major": 2,
       "version_minor": 0
      },
      "text/plain": [
       "FloatSlider(value=1e-05, continuous_update=False, description='422', max=0.9999, min=1e-05, readout_format='.5…"
      ]
     },
     "metadata": {},
     "output_type": "display_data"
    },
    {
     "data": {
      "application/vnd.jupyter.widget-view+json": {
       "model_id": "4696d85d89b041caabf1d02d6ba5a796",
       "version_major": 2,
       "version_minor": 0
      },
      "text/plain": [
       "FloatSlider(value=1e-05, continuous_update=False, description='423', max=0.9999, min=1e-05, readout_format='.5…"
      ]
     },
     "metadata": {},
     "output_type": "display_data"
    },
    {
     "data": {
      "application/vnd.jupyter.widget-view+json": {
       "model_id": "d812ff6d44cd47a18aa559d5ba923ce0",
       "version_major": 2,
       "version_minor": 0
      },
      "text/plain": [
       "FloatSlider(value=1e-05, continuous_update=False, description='424', max=0.9999, min=1e-05, readout_format='.5…"
      ]
     },
     "metadata": {},
     "output_type": "display_data"
    },
    {
     "data": {
      "application/vnd.jupyter.widget-view+json": {
       "model_id": "86d3b044f45e4ce4b21ab5d88a8bdd67",
       "version_major": 2,
       "version_minor": 0
      },
      "text/plain": [
       "FloatSlider(value=1e-05, continuous_update=False, description='425', max=0.9999, min=1e-05, readout_format='.5…"
      ]
     },
     "metadata": {},
     "output_type": "display_data"
    },
    {
     "data": {
      "application/vnd.jupyter.widget-view+json": {
       "model_id": "ac1457cb865347069490f2b44debc466",
       "version_major": 2,
       "version_minor": 0
      },
      "text/plain": [
       "FloatSlider(value=1e-05, continuous_update=False, description='426', max=0.9999, min=1e-05, readout_format='.5…"
      ]
     },
     "metadata": {},
     "output_type": "display_data"
    },
    {
     "data": {
      "application/vnd.jupyter.widget-view+json": {
       "model_id": "4fa4d0d60134437eb245d7f27621e7fc",
       "version_major": 2,
       "version_minor": 0
      },
      "text/plain": [
       "FloatSlider(value=1e-05, continuous_update=False, description='427', max=0.9999, min=1e-05, readout_format='.5…"
      ]
     },
     "metadata": {},
     "output_type": "display_data"
    },
    {
     "data": {
      "application/vnd.jupyter.widget-view+json": {
       "model_id": "a3c9c6f2d1f845799e231c7659ecd31c",
       "version_major": 2,
       "version_minor": 0
      },
      "text/plain": [
       "FloatSlider(value=1e-05, continuous_update=False, description='428', max=0.9999, min=1e-05, readout_format='.5…"
      ]
     },
     "metadata": {},
     "output_type": "display_data"
    },
    {
     "data": {
      "application/vnd.jupyter.widget-view+json": {
       "model_id": "cce467a1ab024a95876c030cdc4b982d",
       "version_major": 2,
       "version_minor": 0
      },
      "text/plain": [
       "FloatSlider(value=1e-05, continuous_update=False, description='429', max=0.9999, min=1e-05, readout_format='.5…"
      ]
     },
     "metadata": {},
     "output_type": "display_data"
    },
    {
     "data": {
      "application/vnd.jupyter.widget-view+json": {
       "model_id": "edd681be1b604a98b5c51f365610d7ea",
       "version_major": 2,
       "version_minor": 0
      },
      "text/plain": [
       "FloatSlider(value=1e-05, continuous_update=False, description='430', max=0.9999, min=1e-05, readout_format='.5…"
      ]
     },
     "metadata": {},
     "output_type": "display_data"
    },
    {
     "data": {
      "application/vnd.jupyter.widget-view+json": {
       "model_id": "f222c6c53df245b784c9f49c34bdc5e9",
       "version_major": 2,
       "version_minor": 0
      },
      "text/plain": [
       "FloatSlider(value=1e-05, continuous_update=False, description='431', max=0.9999, min=1e-05, readout_format='.5…"
      ]
     },
     "metadata": {},
     "output_type": "display_data"
    },
    {
     "data": {
      "application/vnd.jupyter.widget-view+json": {
       "model_id": "42160aaa712842ebbce0adcc3254863e",
       "version_major": 2,
       "version_minor": 0
      },
      "text/plain": [
       "FloatSlider(value=1e-05, continuous_update=False, description='432', max=0.9999, min=1e-05, readout_format='.5…"
      ]
     },
     "metadata": {},
     "output_type": "display_data"
    },
    {
     "data": {
      "application/vnd.jupyter.widget-view+json": {
       "model_id": "e14fef22a063446d89378099a1b15ab2",
       "version_major": 2,
       "version_minor": 0
      },
      "text/plain": [
       "FloatSlider(value=1e-05, continuous_update=False, description='433', max=0.9999, min=1e-05, readout_format='.5…"
      ]
     },
     "metadata": {},
     "output_type": "display_data"
    },
    {
     "data": {
      "application/vnd.jupyter.widget-view+json": {
       "model_id": "077da1998edd4da69ef2e9eda4225ca2",
       "version_major": 2,
       "version_minor": 0
      },
      "text/plain": [
       "FloatSlider(value=1e-05, continuous_update=False, description='434', max=0.9999, min=1e-05, readout_format='.5…"
      ]
     },
     "metadata": {},
     "output_type": "display_data"
    },
    {
     "data": {
      "application/vnd.jupyter.widget-view+json": {
       "model_id": "5da30e025e7347d2906bc9f2915e67e8",
       "version_major": 2,
       "version_minor": 0
      },
      "text/plain": [
       "FloatSlider(value=1e-05, continuous_update=False, description='435', max=0.9999, min=1e-05, readout_format='.5…"
      ]
     },
     "metadata": {},
     "output_type": "display_data"
    },
    {
     "data": {
      "application/vnd.jupyter.widget-view+json": {
       "model_id": "879497a746c6465c84e7aca28d3df497",
       "version_major": 2,
       "version_minor": 0
      },
      "text/plain": [
       "FloatSlider(value=1e-05, continuous_update=False, description='436', max=0.9999, min=1e-05, readout_format='.5…"
      ]
     },
     "metadata": {},
     "output_type": "display_data"
    },
    {
     "data": {
      "application/vnd.jupyter.widget-view+json": {
       "model_id": "9ec37d4b2a8548ea8b3468a348ecfa5b",
       "version_major": 2,
       "version_minor": 0
      },
      "text/plain": [
       "FloatSlider(value=1e-05, continuous_update=False, description='437', max=0.9999, min=1e-05, readout_format='.5…"
      ]
     },
     "metadata": {},
     "output_type": "display_data"
    },
    {
     "data": {
      "application/vnd.jupyter.widget-view+json": {
       "model_id": "aafb4ed27b304fd19ff3f5d137f3f0c8",
       "version_major": 2,
       "version_minor": 0
      },
      "text/plain": [
       "FloatSlider(value=1e-05, continuous_update=False, description='438', max=0.9999, min=1e-05, readout_format='.5…"
      ]
     },
     "metadata": {},
     "output_type": "display_data"
    },
    {
     "data": {
      "application/vnd.jupyter.widget-view+json": {
       "model_id": "aaeea8b37bc34316a6e8ceac4d086275",
       "version_major": 2,
       "version_minor": 0
      },
      "text/plain": [
       "FloatSlider(value=1e-05, continuous_update=False, description='439', max=0.9999, min=1e-05, readout_format='.5…"
      ]
     },
     "metadata": {},
     "output_type": "display_data"
    },
    {
     "data": {
      "application/vnd.jupyter.widget-view+json": {
       "model_id": "49441e768edb48fa82ddebf784ba679b",
       "version_major": 2,
       "version_minor": 0
      },
      "text/plain": [
       "FloatSlider(value=1e-05, continuous_update=False, description='440', max=0.9999, min=1e-05, readout_format='.5…"
      ]
     },
     "metadata": {},
     "output_type": "display_data"
    },
    {
     "data": {
      "application/vnd.jupyter.widget-view+json": {
       "model_id": "e8f84f00877d45809df2ac3b7f45458d",
       "version_major": 2,
       "version_minor": 0
      },
      "text/plain": [
       "FloatSlider(value=1e-05, continuous_update=False, description='441', max=0.9999, min=1e-05, readout_format='.5…"
      ]
     },
     "metadata": {},
     "output_type": "display_data"
    },
    {
     "data": {
      "application/vnd.jupyter.widget-view+json": {
       "model_id": "abab585f04c84ce79cc4cf4a2f6f50b2",
       "version_major": 2,
       "version_minor": 0
      },
      "text/plain": [
       "FloatSlider(value=1e-05, continuous_update=False, description='442', max=0.9999, min=1e-05, readout_format='.5…"
      ]
     },
     "metadata": {},
     "output_type": "display_data"
    },
    {
     "data": {
      "application/vnd.jupyter.widget-view+json": {
       "model_id": "bcc6567e22104132aed24263d52d4c60",
       "version_major": 2,
       "version_minor": 0
      },
      "text/plain": [
       "FloatSlider(value=1e-05, continuous_update=False, description='443', max=0.9999, min=1e-05, readout_format='.5…"
      ]
     },
     "metadata": {},
     "output_type": "display_data"
    },
    {
     "data": {
      "application/vnd.jupyter.widget-view+json": {
       "model_id": "4f49dd9e04364c35bc3488e89bc8955c",
       "version_major": 2,
       "version_minor": 0
      },
      "text/plain": [
       "FloatSlider(value=1e-05, continuous_update=False, description='444', max=0.9999, min=1e-05, readout_format='.5…"
      ]
     },
     "metadata": {},
     "output_type": "display_data"
    },
    {
     "data": {
      "application/vnd.jupyter.widget-view+json": {
       "model_id": "4e91829adccc4547a0d8b02c136a8521",
       "version_major": 2,
       "version_minor": 0
      },
      "text/plain": [
       "FloatSlider(value=1e-05, continuous_update=False, description='445', max=0.9999, min=1e-05, readout_format='.5…"
      ]
     },
     "metadata": {},
     "output_type": "display_data"
    },
    {
     "data": {
      "application/vnd.jupyter.widget-view+json": {
       "model_id": "d3c3c895b4a24fc8a2f1e7ae348a5809",
       "version_major": 2,
       "version_minor": 0
      },
      "text/plain": [
       "FloatSlider(value=1e-05, continuous_update=False, description='446', max=0.9999, min=1e-05, readout_format='.5…"
      ]
     },
     "metadata": {},
     "output_type": "display_data"
    },
    {
     "data": {
      "application/vnd.jupyter.widget-view+json": {
       "model_id": "1c3cdba7c39841919cfbddbad33a9bca",
       "version_major": 2,
       "version_minor": 0
      },
      "text/plain": [
       "FloatSlider(value=1e-05, continuous_update=False, description='447', max=0.9999, min=1e-05, readout_format='.5…"
      ]
     },
     "metadata": {},
     "output_type": "display_data"
    },
    {
     "data": {
      "application/vnd.jupyter.widget-view+json": {
       "model_id": "ac1aaadb48c04d14ad0461e2cd8621b5",
       "version_major": 2,
       "version_minor": 0
      },
      "text/plain": [
       "FloatSlider(value=1e-05, continuous_update=False, description='448', max=0.9999, min=1e-05, readout_format='.5…"
      ]
     },
     "metadata": {},
     "output_type": "display_data"
    },
    {
     "data": {
      "application/vnd.jupyter.widget-view+json": {
       "model_id": "bae0c6aba195454b8275559b5e72ec8f",
       "version_major": 2,
       "version_minor": 0
      },
      "text/plain": [
       "FloatSlider(value=1e-05, continuous_update=False, description='449', max=0.9999, min=1e-05, readout_format='.5…"
      ]
     },
     "metadata": {},
     "output_type": "display_data"
    },
    {
     "data": {
      "application/vnd.jupyter.widget-view+json": {
       "model_id": "6fe3f18dcb5745ff8cc3bb587ecfd8a5",
       "version_major": 2,
       "version_minor": 0
      },
      "text/plain": [
       "FloatSlider(value=1e-05, continuous_update=False, description='450', max=0.9999, min=1e-05, readout_format='.5…"
      ]
     },
     "metadata": {},
     "output_type": "display_data"
    },
    {
     "data": {
      "application/vnd.jupyter.widget-view+json": {
       "model_id": "448fc91854644bea8e0e3d94fd65fea5",
       "version_major": 2,
       "version_minor": 0
      },
      "text/plain": [
       "FloatSlider(value=1e-05, continuous_update=False, description='451', max=0.9999, min=1e-05, readout_format='.5…"
      ]
     },
     "metadata": {},
     "output_type": "display_data"
    },
    {
     "data": {
      "application/vnd.jupyter.widget-view+json": {
       "model_id": "26942cef275848abbd916da4bc1bba1c",
       "version_major": 2,
       "version_minor": 0
      },
      "text/plain": [
       "FloatSlider(value=1e-05, continuous_update=False, description='452', max=0.9999, min=1e-05, readout_format='.5…"
      ]
     },
     "metadata": {},
     "output_type": "display_data"
    },
    {
     "data": {
      "application/vnd.jupyter.widget-view+json": {
       "model_id": "6096585e90f34e9ba810d3d4031a55c5",
       "version_major": 2,
       "version_minor": 0
      },
      "text/plain": [
       "FloatSlider(value=1e-05, continuous_update=False, description='453', max=0.9999, min=1e-05, readout_format='.5…"
      ]
     },
     "metadata": {},
     "output_type": "display_data"
    },
    {
     "data": {
      "application/vnd.jupyter.widget-view+json": {
       "model_id": "07d83863a1144e7f962607ea1e319c21",
       "version_major": 2,
       "version_minor": 0
      },
      "text/plain": [
       "FloatSlider(value=1e-05, continuous_update=False, description='454', max=0.9999, min=1e-05, readout_format='.5…"
      ]
     },
     "metadata": {},
     "output_type": "display_data"
    },
    {
     "data": {
      "application/vnd.jupyter.widget-view+json": {
       "model_id": "c855df22309a43538492c3a623b651e7",
       "version_major": 2,
       "version_minor": 0
      },
      "text/plain": [
       "FloatSlider(value=1e-05, continuous_update=False, description='455', max=0.9999, min=1e-05, readout_format='.5…"
      ]
     },
     "metadata": {},
     "output_type": "display_data"
    },
    {
     "data": {
      "application/vnd.jupyter.widget-view+json": {
       "model_id": "489547a669024816a3632f9e6f2f04d2",
       "version_major": 2,
       "version_minor": 0
      },
      "text/plain": [
       "FloatSlider(value=1e-05, continuous_update=False, description='456', max=0.9999, min=1e-05, readout_format='.5…"
      ]
     },
     "metadata": {},
     "output_type": "display_data"
    },
    {
     "data": {
      "application/vnd.jupyter.widget-view+json": {
       "model_id": "99e466acea3c444898e02b4e96f8c9bb",
       "version_major": 2,
       "version_minor": 0
      },
      "text/plain": [
       "FloatSlider(value=1e-05, continuous_update=False, description='457', max=0.9999, min=1e-05, readout_format='.5…"
      ]
     },
     "metadata": {},
     "output_type": "display_data"
    },
    {
     "data": {
      "application/vnd.jupyter.widget-view+json": {
       "model_id": "e6c8ce8129334077ae2f7af0aa297946",
       "version_major": 2,
       "version_minor": 0
      },
      "text/plain": [
       "FloatSlider(value=1e-05, continuous_update=False, description='458', max=0.9999, min=1e-05, readout_format='.5…"
      ]
     },
     "metadata": {},
     "output_type": "display_data"
    },
    {
     "data": {
      "application/vnd.jupyter.widget-view+json": {
       "model_id": "c3c7edc61936404bb2cf588287752f06",
       "version_major": 2,
       "version_minor": 0
      },
      "text/plain": [
       "FloatSlider(value=1e-05, continuous_update=False, description='459', max=0.9999, min=1e-05, readout_format='.5…"
      ]
     },
     "metadata": {},
     "output_type": "display_data"
    },
    {
     "data": {
      "application/vnd.jupyter.widget-view+json": {
       "model_id": "57351f0a1b1d42eaa31653c05164350f",
       "version_major": 2,
       "version_minor": 0
      },
      "text/plain": [
       "FloatSlider(value=1e-05, continuous_update=False, description='460', max=0.9999, min=1e-05, readout_format='.5…"
      ]
     },
     "metadata": {},
     "output_type": "display_data"
    },
    {
     "data": {
      "application/vnd.jupyter.widget-view+json": {
       "model_id": "a46006da1a2b420db325cc270412d30e",
       "version_major": 2,
       "version_minor": 0
      },
      "text/plain": [
       "FloatSlider(value=1e-05, continuous_update=False, description='461', max=0.9999, min=1e-05, readout_format='.5…"
      ]
     },
     "metadata": {},
     "output_type": "display_data"
    },
    {
     "data": {
      "application/vnd.jupyter.widget-view+json": {
       "model_id": "2a612b0a7209432eb736c6194e0b2423",
       "version_major": 2,
       "version_minor": 0
      },
      "text/plain": [
       "FloatSlider(value=1e-05, continuous_update=False, description='462', max=0.9999, min=1e-05, readout_format='.5…"
      ]
     },
     "metadata": {},
     "output_type": "display_data"
    },
    {
     "data": {
      "application/vnd.jupyter.widget-view+json": {
       "model_id": "bf926b89395c41d2bf935067abcd62ac",
       "version_major": 2,
       "version_minor": 0
      },
      "text/plain": [
       "FloatSlider(value=1e-05, continuous_update=False, description='463', max=0.9999, min=1e-05, readout_format='.5…"
      ]
     },
     "metadata": {},
     "output_type": "display_data"
    },
    {
     "data": {
      "application/vnd.jupyter.widget-view+json": {
       "model_id": "c7b2537bf07b48aebc852778b210f154",
       "version_major": 2,
       "version_minor": 0
      },
      "text/plain": [
       "FloatSlider(value=1e-05, continuous_update=False, description='464', max=0.9999, min=1e-05, readout_format='.5…"
      ]
     },
     "metadata": {},
     "output_type": "display_data"
    },
    {
     "data": {
      "application/vnd.jupyter.widget-view+json": {
       "model_id": "6a2b1df65c38499fab10cbb977d61dcc",
       "version_major": 2,
       "version_minor": 0
      },
      "text/plain": [
       "FloatSlider(value=1e-05, continuous_update=False, description='465', max=0.9999, min=1e-05, readout_format='.5…"
      ]
     },
     "metadata": {},
     "output_type": "display_data"
    },
    {
     "data": {
      "application/vnd.jupyter.widget-view+json": {
       "model_id": "d632c1d5e36f4e47912eeb97002d0f88",
       "version_major": 2,
       "version_minor": 0
      },
      "text/plain": [
       "FloatSlider(value=1e-05, continuous_update=False, description='466', max=0.9999, min=1e-05, readout_format='.5…"
      ]
     },
     "metadata": {},
     "output_type": "display_data"
    },
    {
     "data": {
      "application/vnd.jupyter.widget-view+json": {
       "model_id": "488a1e15d799453e83e0a4b5898ea656",
       "version_major": 2,
       "version_minor": 0
      },
      "text/plain": [
       "FloatSlider(value=1e-05, continuous_update=False, description='467', max=0.9999, min=1e-05, readout_format='.5…"
      ]
     },
     "metadata": {},
     "output_type": "display_data"
    },
    {
     "data": {
      "application/vnd.jupyter.widget-view+json": {
       "model_id": "e043aa3ccb1246f097775af76a22c323",
       "version_major": 2,
       "version_minor": 0
      },
      "text/plain": [
       "FloatSlider(value=1e-05, continuous_update=False, description='468', max=0.9999, min=1e-05, readout_format='.5…"
      ]
     },
     "metadata": {},
     "output_type": "display_data"
    },
    {
     "data": {
      "application/vnd.jupyter.widget-view+json": {
       "model_id": "b7f82df1d53d484c91bdeb3a1b5ea87d",
       "version_major": 2,
       "version_minor": 0
      },
      "text/plain": [
       "FloatSlider(value=1e-05, continuous_update=False, description='469', max=0.9999, min=1e-05, readout_format='.5…"
      ]
     },
     "metadata": {},
     "output_type": "display_data"
    },
    {
     "data": {
      "application/vnd.jupyter.widget-view+json": {
       "model_id": "84f34111491d4e6b9797a9d0e3527d2f",
       "version_major": 2,
       "version_minor": 0
      },
      "text/plain": [
       "FloatSlider(value=1e-05, continuous_update=False, description='470', max=0.9999, min=1e-05, readout_format='.5…"
      ]
     },
     "metadata": {},
     "output_type": "display_data"
    },
    {
     "data": {
      "application/vnd.jupyter.widget-view+json": {
       "model_id": "14f76d5a3d4544288ddb1daff3b53394",
       "version_major": 2,
       "version_minor": 0
      },
      "text/plain": [
       "FloatSlider(value=1e-05, continuous_update=False, description='471', max=0.9999, min=1e-05, readout_format='.5…"
      ]
     },
     "metadata": {},
     "output_type": "display_data"
    },
    {
     "data": {
      "application/vnd.jupyter.widget-view+json": {
       "model_id": "80d8f0ed31c943d990143b9925236215",
       "version_major": 2,
       "version_minor": 0
      },
      "text/plain": [
       "FloatSlider(value=1e-05, continuous_update=False, description='472', max=0.9999, min=1e-05, readout_format='.5…"
      ]
     },
     "metadata": {},
     "output_type": "display_data"
    },
    {
     "data": {
      "application/vnd.jupyter.widget-view+json": {
       "model_id": "1a3d18e6eed24616b7d2a3008d42b288",
       "version_major": 2,
       "version_minor": 0
      },
      "text/plain": [
       "FloatSlider(value=1e-05, continuous_update=False, description='473', max=0.9999, min=1e-05, readout_format='.5…"
      ]
     },
     "metadata": {},
     "output_type": "display_data"
    },
    {
     "data": {
      "application/vnd.jupyter.widget-view+json": {
       "model_id": "576eeae2225149d9818db88dca81968d",
       "version_major": 2,
       "version_minor": 0
      },
      "text/plain": [
       "FloatSlider(value=1e-05, continuous_update=False, description='474', max=0.9999, min=1e-05, readout_format='.5…"
      ]
     },
     "metadata": {},
     "output_type": "display_data"
    },
    {
     "data": {
      "application/vnd.jupyter.widget-view+json": {
       "model_id": "c04d0ed5a88e48c4bb7d514b41d383c3",
       "version_major": 2,
       "version_minor": 0
      },
      "text/plain": [
       "FloatSlider(value=1e-05, continuous_update=False, description='475', max=0.9999, min=1e-05, readout_format='.5…"
      ]
     },
     "metadata": {},
     "output_type": "display_data"
    },
    {
     "data": {
      "application/vnd.jupyter.widget-view+json": {
       "model_id": "042fb576440f4a9d80883917204cb951",
       "version_major": 2,
       "version_minor": 0
      },
      "text/plain": [
       "FloatSlider(value=1e-05, continuous_update=False, description='476', max=0.9999, min=1e-05, readout_format='.5…"
      ]
     },
     "metadata": {},
     "output_type": "display_data"
    },
    {
     "data": {
      "application/vnd.jupyter.widget-view+json": {
       "model_id": "4672816e04254fc1b43c3960e9209b70",
       "version_major": 2,
       "version_minor": 0
      },
      "text/plain": [
       "FloatSlider(value=1e-05, continuous_update=False, description='477', max=0.9999, min=1e-05, readout_format='.5…"
      ]
     },
     "metadata": {},
     "output_type": "display_data"
    },
    {
     "data": {
      "application/vnd.jupyter.widget-view+json": {
       "model_id": "cee3dd57b18c4bcdaf685fc3d80f28cb",
       "version_major": 2,
       "version_minor": 0
      },
      "text/plain": [
       "FloatSlider(value=1e-05, continuous_update=False, description='478', max=0.9999, min=1e-05, readout_format='.5…"
      ]
     },
     "metadata": {},
     "output_type": "display_data"
    },
    {
     "data": {
      "application/vnd.jupyter.widget-view+json": {
       "model_id": "a05aec025ecd48fab2323feccc682a94",
       "version_major": 2,
       "version_minor": 0
      },
      "text/plain": [
       "FloatSlider(value=1e-05, continuous_update=False, description='479', max=0.9999, min=1e-05, readout_format='.5…"
      ]
     },
     "metadata": {},
     "output_type": "display_data"
    },
    {
     "data": {
      "application/vnd.jupyter.widget-view+json": {
       "model_id": "054e8da1e75d4b72b32e0cda540236d5",
       "version_major": 2,
       "version_minor": 0
      },
      "text/plain": [
       "FloatSlider(value=1e-05, continuous_update=False, description='480', max=0.9999, min=1e-05, readout_format='.5…"
      ]
     },
     "metadata": {},
     "output_type": "display_data"
    },
    {
     "data": {
      "application/vnd.jupyter.widget-view+json": {
       "model_id": "19923200fd864f2fa514b74c313ba836",
       "version_major": 2,
       "version_minor": 0
      },
      "text/plain": [
       "FloatSlider(value=1e-05, continuous_update=False, description='481', max=0.9999, min=1e-05, readout_format='.5…"
      ]
     },
     "metadata": {},
     "output_type": "display_data"
    },
    {
     "data": {
      "application/vnd.jupyter.widget-view+json": {
       "model_id": "1855c96fe1684c4993484b4941e687a4",
       "version_major": 2,
       "version_minor": 0
      },
      "text/plain": [
       "FloatSlider(value=1e-05, continuous_update=False, description='482', max=0.9999, min=1e-05, readout_format='.5…"
      ]
     },
     "metadata": {},
     "output_type": "display_data"
    },
    {
     "data": {
      "application/vnd.jupyter.widget-view+json": {
       "model_id": "010abf825d5a4b12b96da4a0f267ca38",
       "version_major": 2,
       "version_minor": 0
      },
      "text/plain": [
       "FloatSlider(value=1e-05, continuous_update=False, description='483', max=0.9999, min=1e-05, readout_format='.5…"
      ]
     },
     "metadata": {},
     "output_type": "display_data"
    },
    {
     "data": {
      "application/vnd.jupyter.widget-view+json": {
       "model_id": "c1fc4ce3e00c4ad7a23ff061ea9fd562",
       "version_major": 2,
       "version_minor": 0
      },
      "text/plain": [
       "FloatSlider(value=1e-05, continuous_update=False, description='484', max=0.9999, min=1e-05, readout_format='.5…"
      ]
     },
     "metadata": {},
     "output_type": "display_data"
    },
    {
     "data": {
      "application/vnd.jupyter.widget-view+json": {
       "model_id": "c8a05eb5bc90406d99e1d55857aa435d",
       "version_major": 2,
       "version_minor": 0
      },
      "text/plain": [
       "FloatSlider(value=1e-05, continuous_update=False, description='485', max=0.9999, min=1e-05, readout_format='.5…"
      ]
     },
     "metadata": {},
     "output_type": "display_data"
    },
    {
     "data": {
      "application/vnd.jupyter.widget-view+json": {
       "model_id": "a63b73a70e6348ea9e8e4bb64aff63f9",
       "version_major": 2,
       "version_minor": 0
      },
      "text/plain": [
       "FloatSlider(value=1e-05, continuous_update=False, description='486', max=0.9999, min=1e-05, readout_format='.5…"
      ]
     },
     "metadata": {},
     "output_type": "display_data"
    },
    {
     "data": {
      "application/vnd.jupyter.widget-view+json": {
       "model_id": "bac9914e05524bc29461698ca4efeeb5",
       "version_major": 2,
       "version_minor": 0
      },
      "text/plain": [
       "FloatSlider(value=1e-05, continuous_update=False, description='487', max=0.9999, min=1e-05, readout_format='.5…"
      ]
     },
     "metadata": {},
     "output_type": "display_data"
    },
    {
     "data": {
      "application/vnd.jupyter.widget-view+json": {
       "model_id": "ae52f0f8defb435b9bab8909bb27e211",
       "version_major": 2,
       "version_minor": 0
      },
      "text/plain": [
       "FloatSlider(value=1e-05, continuous_update=False, description='488', max=0.9999, min=1e-05, readout_format='.5…"
      ]
     },
     "metadata": {},
     "output_type": "display_data"
    },
    {
     "data": {
      "application/vnd.jupyter.widget-view+json": {
       "model_id": "4f1da42c2f1d4c76b555512aa73e2527",
       "version_major": 2,
       "version_minor": 0
      },
      "text/plain": [
       "FloatSlider(value=1e-05, continuous_update=False, description='489', max=0.9999, min=1e-05, readout_format='.5…"
      ]
     },
     "metadata": {},
     "output_type": "display_data"
    },
    {
     "data": {
      "application/vnd.jupyter.widget-view+json": {
       "model_id": "92eed60c42824ae9a0b2278ec2a88278",
       "version_major": 2,
       "version_minor": 0
      },
      "text/plain": [
       "FloatSlider(value=1e-05, continuous_update=False, description='490', max=0.9999, min=1e-05, readout_format='.5…"
      ]
     },
     "metadata": {},
     "output_type": "display_data"
    },
    {
     "data": {
      "application/vnd.jupyter.widget-view+json": {
       "model_id": "f081b95c5d274e4287ed34c6febe9610",
       "version_major": 2,
       "version_minor": 0
      },
      "text/plain": [
       "FloatSlider(value=1e-05, continuous_update=False, description='491', max=0.9999, min=1e-05, readout_format='.5…"
      ]
     },
     "metadata": {},
     "output_type": "display_data"
    },
    {
     "data": {
      "application/vnd.jupyter.widget-view+json": {
       "model_id": "5aaa3ef0070d4eaf96ad29597d112e8f",
       "version_major": 2,
       "version_minor": 0
      },
      "text/plain": [
       "FloatSlider(value=1e-05, continuous_update=False, description='492', max=0.9999, min=1e-05, readout_format='.5…"
      ]
     },
     "metadata": {},
     "output_type": "display_data"
    },
    {
     "data": {
      "application/vnd.jupyter.widget-view+json": {
       "model_id": "2807ccedd33d433580fff2000cfa5feb",
       "version_major": 2,
       "version_minor": 0
      },
      "text/plain": [
       "FloatSlider(value=1e-05, continuous_update=False, description='493', max=0.9999, min=1e-05, readout_format='.5…"
      ]
     },
     "metadata": {},
     "output_type": "display_data"
    },
    {
     "data": {
      "application/vnd.jupyter.widget-view+json": {
       "model_id": "3e35e92acdc94152a1913f7050c28d6e",
       "version_major": 2,
       "version_minor": 0
      },
      "text/plain": [
       "FloatSlider(value=1e-05, continuous_update=False, description='494', max=0.9999, min=1e-05, readout_format='.5…"
      ]
     },
     "metadata": {},
     "output_type": "display_data"
    },
    {
     "data": {
      "application/vnd.jupyter.widget-view+json": {
       "model_id": "b3b8fb815ae840f095bfb33532be8bd0",
       "version_major": 2,
       "version_minor": 0
      },
      "text/plain": [
       "FloatSlider(value=1e-05, continuous_update=False, description='495', max=0.9999, min=1e-05, readout_format='.5…"
      ]
     },
     "metadata": {},
     "output_type": "display_data"
    },
    {
     "data": {
      "application/vnd.jupyter.widget-view+json": {
       "model_id": "ffe770c9dcf746eab9e54ce6b9c9cf29",
       "version_major": 2,
       "version_minor": 0
      },
      "text/plain": [
       "FloatSlider(value=1e-05, continuous_update=False, description='496', max=0.9999, min=1e-05, readout_format='.5…"
      ]
     },
     "metadata": {},
     "output_type": "display_data"
    },
    {
     "data": {
      "application/vnd.jupyter.widget-view+json": {
       "model_id": "3ab768baf677470da3f4ff6bf3c51fa0",
       "version_major": 2,
       "version_minor": 0
      },
      "text/plain": [
       "FloatSlider(value=1e-05, continuous_update=False, description='497', max=0.9999, min=1e-05, readout_format='.5…"
      ]
     },
     "metadata": {},
     "output_type": "display_data"
    },
    {
     "data": {
      "application/vnd.jupyter.widget-view+json": {
       "model_id": "fc8be09c867a473dbe958989c6b03ceb",
       "version_major": 2,
       "version_minor": 0
      },
      "text/plain": [
       "FloatSlider(value=1e-05, continuous_update=False, description='498', max=0.9999, min=1e-05, readout_format='.5…"
      ]
     },
     "metadata": {},
     "output_type": "display_data"
    },
    {
     "data": {
      "application/vnd.jupyter.widget-view+json": {
       "model_id": "71f096911f27408aa41c97c565e31fa1",
       "version_major": 2,
       "version_minor": 0
      },
      "text/plain": [
       "FloatSlider(value=1e-05, continuous_update=False, description='499', max=0.9999, min=1e-05, readout_format='.5…"
      ]
     },
     "metadata": {},
     "output_type": "display_data"
    },
    {
     "data": {
      "application/vnd.jupyter.widget-view+json": {
       "model_id": "fcb19b39b77544b583da842960d7b452",
       "version_major": 2,
       "version_minor": 0
      },
      "text/plain": [
       "FloatSlider(value=1e-05, continuous_update=False, description='500', max=0.9999, min=1e-05, readout_format='.5…"
      ]
     },
     "metadata": {},
     "output_type": "display_data"
    },
    {
     "data": {
      "application/vnd.jupyter.widget-view+json": {
       "model_id": "8f4535a2e7bc4bb5a25305ea22848b37",
       "version_major": 2,
       "version_minor": 0
      },
      "text/plain": [
       "FloatSlider(value=1e-05, continuous_update=False, description='501', max=0.9999, min=1e-05, readout_format='.5…"
      ]
     },
     "metadata": {},
     "output_type": "display_data"
    },
    {
     "data": {
      "application/vnd.jupyter.widget-view+json": {
       "model_id": "da2ffa28b483440981ff5b826c20d937",
       "version_major": 2,
       "version_minor": 0
      },
      "text/plain": [
       "FloatSlider(value=1e-05, continuous_update=False, description='502', max=0.9999, min=1e-05, readout_format='.5…"
      ]
     },
     "metadata": {},
     "output_type": "display_data"
    },
    {
     "data": {
      "application/vnd.jupyter.widget-view+json": {
       "model_id": "658843e21c6d41a0b9eedd9dbf9b64b1",
       "version_major": 2,
       "version_minor": 0
      },
      "text/plain": [
       "FloatSlider(value=1e-05, continuous_update=False, description='503', max=0.9999, min=1e-05, readout_format='.5…"
      ]
     },
     "metadata": {},
     "output_type": "display_data"
    },
    {
     "data": {
      "application/vnd.jupyter.widget-view+json": {
       "model_id": "daa8e0c321da40ea97bfcbcc412b3261",
       "version_major": 2,
       "version_minor": 0
      },
      "text/plain": [
       "FloatSlider(value=1e-05, continuous_update=False, description='504', max=0.9999, min=1e-05, readout_format='.5…"
      ]
     },
     "metadata": {},
     "output_type": "display_data"
    },
    {
     "data": {
      "application/vnd.jupyter.widget-view+json": {
       "model_id": "26bcaf10408a44da87007c8e82da108d",
       "version_major": 2,
       "version_minor": 0
      },
      "text/plain": [
       "FloatSlider(value=1e-05, continuous_update=False, description='505', max=0.9999, min=1e-05, readout_format='.5…"
      ]
     },
     "metadata": {},
     "output_type": "display_data"
    },
    {
     "data": {
      "application/vnd.jupyter.widget-view+json": {
       "model_id": "91bf1858e244404cbee558d40d8969fd",
       "version_major": 2,
       "version_minor": 0
      },
      "text/plain": [
       "FloatSlider(value=1e-05, continuous_update=False, description='506', max=0.9999, min=1e-05, readout_format='.5…"
      ]
     },
     "metadata": {},
     "output_type": "display_data"
    },
    {
     "data": {
      "application/vnd.jupyter.widget-view+json": {
       "model_id": "c402be6c6dad4695a10e189938ca2ecb",
       "version_major": 2,
       "version_minor": 0
      },
      "text/plain": [
       "FloatSlider(value=1e-05, continuous_update=False, description='507', max=0.9999, min=1e-05, readout_format='.5…"
      ]
     },
     "metadata": {},
     "output_type": "display_data"
    },
    {
     "data": {
      "application/vnd.jupyter.widget-view+json": {
       "model_id": "4265e3c103be485ca10cae0a7effd622",
       "version_major": 2,
       "version_minor": 0
      },
      "text/plain": [
       "FloatSlider(value=1e-05, continuous_update=False, description='508', max=0.9999, min=1e-05, readout_format='.5…"
      ]
     },
     "metadata": {},
     "output_type": "display_data"
    },
    {
     "data": {
      "application/vnd.jupyter.widget-view+json": {
       "model_id": "22f331c409bd412eb097f1ed06c803bd",
       "version_major": 2,
       "version_minor": 0
      },
      "text/plain": [
       "FloatSlider(value=1e-05, continuous_update=False, description='509', max=0.9999, min=1e-05, readout_format='.5…"
      ]
     },
     "metadata": {},
     "output_type": "display_data"
    },
    {
     "data": {
      "application/vnd.jupyter.widget-view+json": {
       "model_id": "ce91f3436e20495482b7f228d087e6bd",
       "version_major": 2,
       "version_minor": 0
      },
      "text/plain": [
       "FloatSlider(value=1e-05, continuous_update=False, description='510', max=0.9999, min=1e-05, readout_format='.5…"
      ]
     },
     "metadata": {},
     "output_type": "display_data"
    },
    {
     "data": {
      "application/vnd.jupyter.widget-view+json": {
       "model_id": "d23a18b4deea4007b61c2e29b5814d0d",
       "version_major": 2,
       "version_minor": 0
      },
      "text/plain": [
       "FloatSlider(value=1e-05, continuous_update=False, description='511', max=0.9999, min=1e-05, readout_format='.5…"
      ]
     },
     "metadata": {},
     "output_type": "display_data"
    },
    {
     "data": {
      "application/vnd.jupyter.widget-view+json": {
       "model_id": "627c1b710ab345b8af62b85dfddaec54",
       "version_major": 2,
       "version_minor": 0
      },
      "text/plain": [
       "FloatSlider(value=1e-05, continuous_update=False, description='512', max=0.9999, min=1e-05, readout_format='.5…"
      ]
     },
     "metadata": {},
     "output_type": "display_data"
    },
    {
     "data": {
      "application/vnd.jupyter.widget-view+json": {
       "model_id": "6718d6712a1c4ba6b36506e6c0718894",
       "version_major": 2,
       "version_minor": 0
      },
      "text/plain": [
       "Button(description='Apply Slider Weights', style=ButtonStyle())"
      ]
     },
     "metadata": {},
     "output_type": "display_data"
    },
    {
     "data": {
      "application/vnd.jupyter.widget-view+json": {
       "model_id": "d682c802cc484429af31c8594fa8f86c",
       "version_major": 2,
       "version_minor": 0
      },
      "text/plain": [
       "Button(description='Reset Plot', style=ButtonStyle())"
      ]
     },
     "metadata": {},
     "output_type": "display_data"
    }
   ],
   "source": [
    "sliders = create_sliders(weights)"
   ]
  },
  {
   "cell_type": "markdown",
   "metadata": {},
   "source": [
    "## Dimension Reduction Plot\n",
    "This shows the HD data in 2D form, such that **proximity == similarity**, based on the current slider weights.  Distances between points in the plot approximately reflect their distances in the weighted HD data.  Thus points near each other have similar HD data values in the up-weighted dimensions, and points far away have very different HD data values in those dimensions.\n",
    "\n",
    "The color represents the **relevance** of each point to the current slider weights. Yellower points have larger values in up-weighted dimensions.\n",
    "\n",
    "Points can be **selected** to highlight in Green and view their details below.  Points can be **dragged** to specify a new projection for learning weights, see below. To reset the plot and clear the selections, click the **Reset** button above."
   ]
  },
  {
   "cell_type": "code",
   "execution_count": 18,
   "metadata": {
    "scrolled": false
   },
   "outputs": [
    {
     "data": {
      "application/javascript": [
       "/* Put everything inside the global mpl namespace */\n",
       "/* global mpl */\n",
       "window.mpl = {};\n",
       "\n",
       "mpl.get_websocket_type = function () {\n",
       "    if (typeof WebSocket !== 'undefined') {\n",
       "        return WebSocket;\n",
       "    } else if (typeof MozWebSocket !== 'undefined') {\n",
       "        return MozWebSocket;\n",
       "    } else {\n",
       "        alert(\n",
       "            'Your browser does not have WebSocket support. ' +\n",
       "                'Please try Chrome, Safari or Firefox ≥ 6. ' +\n",
       "                'Firefox 4 and 5 are also supported but you ' +\n",
       "                'have to enable WebSockets in about:config.'\n",
       "        );\n",
       "    }\n",
       "};\n",
       "\n",
       "mpl.figure = function (figure_id, websocket, ondownload, parent_element) {\n",
       "    this.id = figure_id;\n",
       "\n",
       "    this.ws = websocket;\n",
       "\n",
       "    this.supports_binary = this.ws.binaryType !== undefined;\n",
       "\n",
       "    if (!this.supports_binary) {\n",
       "        var warnings = document.getElementById('mpl-warnings');\n",
       "        if (warnings) {\n",
       "            warnings.style.display = 'block';\n",
       "            warnings.textContent =\n",
       "                'This browser does not support binary websocket messages. ' +\n",
       "                'Performance may be slow.';\n",
       "        }\n",
       "    }\n",
       "\n",
       "    this.imageObj = new Image();\n",
       "\n",
       "    this.context = undefined;\n",
       "    this.message = undefined;\n",
       "    this.canvas = undefined;\n",
       "    this.rubberband_canvas = undefined;\n",
       "    this.rubberband_context = undefined;\n",
       "    this.format_dropdown = undefined;\n",
       "\n",
       "    this.image_mode = 'full';\n",
       "\n",
       "    this.root = document.createElement('div');\n",
       "    this.root.setAttribute('style', 'display: inline-block');\n",
       "    this._root_extra_style(this.root);\n",
       "\n",
       "    parent_element.appendChild(this.root);\n",
       "\n",
       "    this._init_header(this);\n",
       "    this._init_canvas(this);\n",
       "    this._init_toolbar(this);\n",
       "\n",
       "    var fig = this;\n",
       "\n",
       "    this.waiting = false;\n",
       "\n",
       "    this.ws.onopen = function () {\n",
       "        fig.send_message('supports_binary', { value: fig.supports_binary });\n",
       "        fig.send_message('send_image_mode', {});\n",
       "        if (fig.ratio !== 1) {\n",
       "            fig.send_message('set_dpi_ratio', { dpi_ratio: fig.ratio });\n",
       "        }\n",
       "        fig.send_message('refresh', {});\n",
       "    };\n",
       "\n",
       "    this.imageObj.onload = function () {\n",
       "        if (fig.image_mode === 'full') {\n",
       "            // Full images could contain transparency (where diff images\n",
       "            // almost always do), so we need to clear the canvas so that\n",
       "            // there is no ghosting.\n",
       "            fig.context.clearRect(0, 0, fig.canvas.width, fig.canvas.height);\n",
       "        }\n",
       "        fig.context.drawImage(fig.imageObj, 0, 0);\n",
       "    };\n",
       "\n",
       "    this.imageObj.onunload = function () {\n",
       "        fig.ws.close();\n",
       "    };\n",
       "\n",
       "    this.ws.onmessage = this._make_on_message_function(this);\n",
       "\n",
       "    this.ondownload = ondownload;\n",
       "};\n",
       "\n",
       "mpl.figure.prototype._init_header = function () {\n",
       "    var titlebar = document.createElement('div');\n",
       "    titlebar.classList =\n",
       "        'ui-dialog-titlebar ui-widget-header ui-corner-all ui-helper-clearfix';\n",
       "    var titletext = document.createElement('div');\n",
       "    titletext.classList = 'ui-dialog-title';\n",
       "    titletext.setAttribute(\n",
       "        'style',\n",
       "        'width: 100%; text-align: center; padding: 3px;'\n",
       "    );\n",
       "    titlebar.appendChild(titletext);\n",
       "    this.root.appendChild(titlebar);\n",
       "    this.header = titletext;\n",
       "};\n",
       "\n",
       "mpl.figure.prototype._canvas_extra_style = function (_canvas_div) {};\n",
       "\n",
       "mpl.figure.prototype._root_extra_style = function (_canvas_div) {};\n",
       "\n",
       "mpl.figure.prototype._init_canvas = function () {\n",
       "    var fig = this;\n",
       "\n",
       "    var canvas_div = (this.canvas_div = document.createElement('div'));\n",
       "    canvas_div.setAttribute(\n",
       "        'style',\n",
       "        'border: 1px solid #ddd;' +\n",
       "            'box-sizing: content-box;' +\n",
       "            'clear: both;' +\n",
       "            'min-height: 1px;' +\n",
       "            'min-width: 1px;' +\n",
       "            'outline: 0;' +\n",
       "            'overflow: hidden;' +\n",
       "            'position: relative;' +\n",
       "            'resize: both;'\n",
       "    );\n",
       "\n",
       "    function on_keyboard_event_closure(name) {\n",
       "        return function (event) {\n",
       "            return fig.key_event(event, name);\n",
       "        };\n",
       "    }\n",
       "\n",
       "    canvas_div.addEventListener(\n",
       "        'keydown',\n",
       "        on_keyboard_event_closure('key_press')\n",
       "    );\n",
       "    canvas_div.addEventListener(\n",
       "        'keyup',\n",
       "        on_keyboard_event_closure('key_release')\n",
       "    );\n",
       "\n",
       "    this._canvas_extra_style(canvas_div);\n",
       "    this.root.appendChild(canvas_div);\n",
       "\n",
       "    var canvas = (this.canvas = document.createElement('canvas'));\n",
       "    canvas.classList.add('mpl-canvas');\n",
       "    canvas.setAttribute('style', 'box-sizing: content-box;');\n",
       "\n",
       "    this.context = canvas.getContext('2d');\n",
       "\n",
       "    var backingStore =\n",
       "        this.context.backingStorePixelRatio ||\n",
       "        this.context.webkitBackingStorePixelRatio ||\n",
       "        this.context.mozBackingStorePixelRatio ||\n",
       "        this.context.msBackingStorePixelRatio ||\n",
       "        this.context.oBackingStorePixelRatio ||\n",
       "        this.context.backingStorePixelRatio ||\n",
       "        1;\n",
       "\n",
       "    this.ratio = (window.devicePixelRatio || 1) / backingStore;\n",
       "    if (this.ratio !== 1) {\n",
       "        fig.send_message('set_dpi_ratio', { dpi_ratio: this.ratio });\n",
       "    }\n",
       "\n",
       "    var rubberband_canvas = (this.rubberband_canvas = document.createElement(\n",
       "        'canvas'\n",
       "    ));\n",
       "    rubberband_canvas.setAttribute(\n",
       "        'style',\n",
       "        'box-sizing: content-box; position: absolute; left: 0; top: 0; z-index: 1;'\n",
       "    );\n",
       "\n",
       "    var resizeObserver = new ResizeObserver(function (entries) {\n",
       "        var nentries = entries.length;\n",
       "        for (var i = 0; i < nentries; i++) {\n",
       "            var entry = entries[i];\n",
       "            var width, height;\n",
       "            if (entry.contentBoxSize) {\n",
       "                if (entry.contentBoxSize instanceof Array) {\n",
       "                    // Chrome 84 implements new version of spec.\n",
       "                    width = entry.contentBoxSize[0].inlineSize;\n",
       "                    height = entry.contentBoxSize[0].blockSize;\n",
       "                } else {\n",
       "                    // Firefox implements old version of spec.\n",
       "                    width = entry.contentBoxSize.inlineSize;\n",
       "                    height = entry.contentBoxSize.blockSize;\n",
       "                }\n",
       "            } else {\n",
       "                // Chrome <84 implements even older version of spec.\n",
       "                width = entry.contentRect.width;\n",
       "                height = entry.contentRect.height;\n",
       "            }\n",
       "\n",
       "            // Keep the size of the canvas and rubber band canvas in sync with\n",
       "            // the canvas container.\n",
       "            if (entry.devicePixelContentBoxSize) {\n",
       "                // Chrome 84 implements new version of spec.\n",
       "                canvas.setAttribute(\n",
       "                    'width',\n",
       "                    entry.devicePixelContentBoxSize[0].inlineSize\n",
       "                );\n",
       "                canvas.setAttribute(\n",
       "                    'height',\n",
       "                    entry.devicePixelContentBoxSize[0].blockSize\n",
       "                );\n",
       "            } else {\n",
       "                canvas.setAttribute('width', width * fig.ratio);\n",
       "                canvas.setAttribute('height', height * fig.ratio);\n",
       "            }\n",
       "            canvas.setAttribute(\n",
       "                'style',\n",
       "                'width: ' + width + 'px; height: ' + height + 'px;'\n",
       "            );\n",
       "\n",
       "            rubberband_canvas.setAttribute('width', width);\n",
       "            rubberband_canvas.setAttribute('height', height);\n",
       "\n",
       "            // And update the size in Python. We ignore the initial 0/0 size\n",
       "            // that occurs as the element is placed into the DOM, which should\n",
       "            // otherwise not happen due to the minimum size styling.\n",
       "            if (width != 0 && height != 0) {\n",
       "                fig.request_resize(width, height);\n",
       "            }\n",
       "        }\n",
       "    });\n",
       "    resizeObserver.observe(canvas_div);\n",
       "\n",
       "    function on_mouse_event_closure(name) {\n",
       "        return function (event) {\n",
       "            return fig.mouse_event(event, name);\n",
       "        };\n",
       "    }\n",
       "\n",
       "    rubberband_canvas.addEventListener(\n",
       "        'mousedown',\n",
       "        on_mouse_event_closure('button_press')\n",
       "    );\n",
       "    rubberband_canvas.addEventListener(\n",
       "        'mouseup',\n",
       "        on_mouse_event_closure('button_release')\n",
       "    );\n",
       "    // Throttle sequential mouse events to 1 every 20ms.\n",
       "    rubberband_canvas.addEventListener(\n",
       "        'mousemove',\n",
       "        on_mouse_event_closure('motion_notify')\n",
       "    );\n",
       "\n",
       "    rubberband_canvas.addEventListener(\n",
       "        'mouseenter',\n",
       "        on_mouse_event_closure('figure_enter')\n",
       "    );\n",
       "    rubberband_canvas.addEventListener(\n",
       "        'mouseleave',\n",
       "        on_mouse_event_closure('figure_leave')\n",
       "    );\n",
       "\n",
       "    canvas_div.addEventListener('wheel', function (event) {\n",
       "        if (event.deltaY < 0) {\n",
       "            event.step = 1;\n",
       "        } else {\n",
       "            event.step = -1;\n",
       "        }\n",
       "        on_mouse_event_closure('scroll')(event);\n",
       "    });\n",
       "\n",
       "    canvas_div.appendChild(canvas);\n",
       "    canvas_div.appendChild(rubberband_canvas);\n",
       "\n",
       "    this.rubberband_context = rubberband_canvas.getContext('2d');\n",
       "    this.rubberband_context.strokeStyle = '#000000';\n",
       "\n",
       "    this._resize_canvas = function (width, height, forward) {\n",
       "        if (forward) {\n",
       "            canvas_div.style.width = width + 'px';\n",
       "            canvas_div.style.height = height + 'px';\n",
       "        }\n",
       "    };\n",
       "\n",
       "    // Disable right mouse context menu.\n",
       "    this.rubberband_canvas.addEventListener('contextmenu', function (_e) {\n",
       "        event.preventDefault();\n",
       "        return false;\n",
       "    });\n",
       "\n",
       "    function set_focus() {\n",
       "        canvas.focus();\n",
       "        canvas_div.focus();\n",
       "    }\n",
       "\n",
       "    window.setTimeout(set_focus, 100);\n",
       "};\n",
       "\n",
       "mpl.figure.prototype._init_toolbar = function () {\n",
       "    var fig = this;\n",
       "\n",
       "    var toolbar = document.createElement('div');\n",
       "    toolbar.classList = 'mpl-toolbar';\n",
       "    this.root.appendChild(toolbar);\n",
       "\n",
       "    function on_click_closure(name) {\n",
       "        return function (_event) {\n",
       "            return fig.toolbar_button_onclick(name);\n",
       "        };\n",
       "    }\n",
       "\n",
       "    function on_mouseover_closure(tooltip) {\n",
       "        return function (event) {\n",
       "            if (!event.currentTarget.disabled) {\n",
       "                return fig.toolbar_button_onmouseover(tooltip);\n",
       "            }\n",
       "        };\n",
       "    }\n",
       "\n",
       "    fig.buttons = {};\n",
       "    var buttonGroup = document.createElement('div');\n",
       "    buttonGroup.classList = 'mpl-button-group';\n",
       "    for (var toolbar_ind in mpl.toolbar_items) {\n",
       "        var name = mpl.toolbar_items[toolbar_ind][0];\n",
       "        var tooltip = mpl.toolbar_items[toolbar_ind][1];\n",
       "        var image = mpl.toolbar_items[toolbar_ind][2];\n",
       "        var method_name = mpl.toolbar_items[toolbar_ind][3];\n",
       "\n",
       "        if (!name) {\n",
       "            /* Instead of a spacer, we start a new button group. */\n",
       "            if (buttonGroup.hasChildNodes()) {\n",
       "                toolbar.appendChild(buttonGroup);\n",
       "            }\n",
       "            buttonGroup = document.createElement('div');\n",
       "            buttonGroup.classList = 'mpl-button-group';\n",
       "            continue;\n",
       "        }\n",
       "\n",
       "        var button = (fig.buttons[name] = document.createElement('button'));\n",
       "        button.classList = 'mpl-widget';\n",
       "        button.setAttribute('role', 'button');\n",
       "        button.setAttribute('aria-disabled', 'false');\n",
       "        button.addEventListener('click', on_click_closure(method_name));\n",
       "        button.addEventListener('mouseover', on_mouseover_closure(tooltip));\n",
       "\n",
       "        var icon_img = document.createElement('img');\n",
       "        icon_img.src = '_images/' + image + '.png';\n",
       "        icon_img.srcset = '_images/' + image + '_large.png 2x';\n",
       "        icon_img.alt = tooltip;\n",
       "        button.appendChild(icon_img);\n",
       "\n",
       "        buttonGroup.appendChild(button);\n",
       "    }\n",
       "\n",
       "    if (buttonGroup.hasChildNodes()) {\n",
       "        toolbar.appendChild(buttonGroup);\n",
       "    }\n",
       "\n",
       "    var fmt_picker = document.createElement('select');\n",
       "    fmt_picker.classList = 'mpl-widget';\n",
       "    toolbar.appendChild(fmt_picker);\n",
       "    this.format_dropdown = fmt_picker;\n",
       "\n",
       "    for (var ind in mpl.extensions) {\n",
       "        var fmt = mpl.extensions[ind];\n",
       "        var option = document.createElement('option');\n",
       "        option.selected = fmt === mpl.default_extension;\n",
       "        option.innerHTML = fmt;\n",
       "        fmt_picker.appendChild(option);\n",
       "    }\n",
       "\n",
       "    var status_bar = document.createElement('span');\n",
       "    status_bar.classList = 'mpl-message';\n",
       "    toolbar.appendChild(status_bar);\n",
       "    this.message = status_bar;\n",
       "};\n",
       "\n",
       "mpl.figure.prototype.request_resize = function (x_pixels, y_pixels) {\n",
       "    // Request matplotlib to resize the figure. Matplotlib will then trigger a resize in the client,\n",
       "    // which will in turn request a refresh of the image.\n",
       "    this.send_message('resize', { width: x_pixels, height: y_pixels });\n",
       "};\n",
       "\n",
       "mpl.figure.prototype.send_message = function (type, properties) {\n",
       "    properties['type'] = type;\n",
       "    properties['figure_id'] = this.id;\n",
       "    this.ws.send(JSON.stringify(properties));\n",
       "};\n",
       "\n",
       "mpl.figure.prototype.send_draw_message = function () {\n",
       "    if (!this.waiting) {\n",
       "        this.waiting = true;\n",
       "        this.ws.send(JSON.stringify({ type: 'draw', figure_id: this.id }));\n",
       "    }\n",
       "};\n",
       "\n",
       "mpl.figure.prototype.handle_save = function (fig, _msg) {\n",
       "    var format_dropdown = fig.format_dropdown;\n",
       "    var format = format_dropdown.options[format_dropdown.selectedIndex].value;\n",
       "    fig.ondownload(fig, format);\n",
       "};\n",
       "\n",
       "mpl.figure.prototype.handle_resize = function (fig, msg) {\n",
       "    var size = msg['size'];\n",
       "    if (size[0] !== fig.canvas.width || size[1] !== fig.canvas.height) {\n",
       "        fig._resize_canvas(size[0], size[1], msg['forward']);\n",
       "        fig.send_message('refresh', {});\n",
       "    }\n",
       "};\n",
       "\n",
       "mpl.figure.prototype.handle_rubberband = function (fig, msg) {\n",
       "    var x0 = msg['x0'] / fig.ratio;\n",
       "    var y0 = (fig.canvas.height - msg['y0']) / fig.ratio;\n",
       "    var x1 = msg['x1'] / fig.ratio;\n",
       "    var y1 = (fig.canvas.height - msg['y1']) / fig.ratio;\n",
       "    x0 = Math.floor(x0) + 0.5;\n",
       "    y0 = Math.floor(y0) + 0.5;\n",
       "    x1 = Math.floor(x1) + 0.5;\n",
       "    y1 = Math.floor(y1) + 0.5;\n",
       "    var min_x = Math.min(x0, x1);\n",
       "    var min_y = Math.min(y0, y1);\n",
       "    var width = Math.abs(x1 - x0);\n",
       "    var height = Math.abs(y1 - y0);\n",
       "\n",
       "    fig.rubberband_context.clearRect(\n",
       "        0,\n",
       "        0,\n",
       "        fig.canvas.width / fig.ratio,\n",
       "        fig.canvas.height / fig.ratio\n",
       "    );\n",
       "\n",
       "    fig.rubberband_context.strokeRect(min_x, min_y, width, height);\n",
       "};\n",
       "\n",
       "mpl.figure.prototype.handle_figure_label = function (fig, msg) {\n",
       "    // Updates the figure title.\n",
       "    fig.header.textContent = msg['label'];\n",
       "};\n",
       "\n",
       "mpl.figure.prototype.handle_cursor = function (fig, msg) {\n",
       "    var cursor = msg['cursor'];\n",
       "    switch (cursor) {\n",
       "        case 0:\n",
       "            cursor = 'pointer';\n",
       "            break;\n",
       "        case 1:\n",
       "            cursor = 'default';\n",
       "            break;\n",
       "        case 2:\n",
       "            cursor = 'crosshair';\n",
       "            break;\n",
       "        case 3:\n",
       "            cursor = 'move';\n",
       "            break;\n",
       "    }\n",
       "    fig.rubberband_canvas.style.cursor = cursor;\n",
       "};\n",
       "\n",
       "mpl.figure.prototype.handle_message = function (fig, msg) {\n",
       "    fig.message.textContent = msg['message'];\n",
       "};\n",
       "\n",
       "mpl.figure.prototype.handle_draw = function (fig, _msg) {\n",
       "    // Request the server to send over a new figure.\n",
       "    fig.send_draw_message();\n",
       "};\n",
       "\n",
       "mpl.figure.prototype.handle_image_mode = function (fig, msg) {\n",
       "    fig.image_mode = msg['mode'];\n",
       "};\n",
       "\n",
       "mpl.figure.prototype.handle_history_buttons = function (fig, msg) {\n",
       "    for (var key in msg) {\n",
       "        if (!(key in fig.buttons)) {\n",
       "            continue;\n",
       "        }\n",
       "        fig.buttons[key].disabled = !msg[key];\n",
       "        fig.buttons[key].setAttribute('aria-disabled', !msg[key]);\n",
       "    }\n",
       "};\n",
       "\n",
       "mpl.figure.prototype.handle_navigate_mode = function (fig, msg) {\n",
       "    if (msg['mode'] === 'PAN') {\n",
       "        fig.buttons['Pan'].classList.add('active');\n",
       "        fig.buttons['Zoom'].classList.remove('active');\n",
       "    } else if (msg['mode'] === 'ZOOM') {\n",
       "        fig.buttons['Pan'].classList.remove('active');\n",
       "        fig.buttons['Zoom'].classList.add('active');\n",
       "    } else {\n",
       "        fig.buttons['Pan'].classList.remove('active');\n",
       "        fig.buttons['Zoom'].classList.remove('active');\n",
       "    }\n",
       "};\n",
       "\n",
       "mpl.figure.prototype.updated_canvas_event = function () {\n",
       "    // Called whenever the canvas gets updated.\n",
       "    this.send_message('ack', {});\n",
       "};\n",
       "\n",
       "// A function to construct a web socket function for onmessage handling.\n",
       "// Called in the figure constructor.\n",
       "mpl.figure.prototype._make_on_message_function = function (fig) {\n",
       "    return function socket_on_message(evt) {\n",
       "        if (evt.data instanceof Blob) {\n",
       "            /* FIXME: We get \"Resource interpreted as Image but\n",
       "             * transferred with MIME type text/plain:\" errors on\n",
       "             * Chrome.  But how to set the MIME type?  It doesn't seem\n",
       "             * to be part of the websocket stream */\n",
       "            evt.data.type = 'image/png';\n",
       "\n",
       "            /* Free the memory for the previous frames */\n",
       "            if (fig.imageObj.src) {\n",
       "                (window.URL || window.webkitURL).revokeObjectURL(\n",
       "                    fig.imageObj.src\n",
       "                );\n",
       "            }\n",
       "\n",
       "            fig.imageObj.src = (window.URL || window.webkitURL).createObjectURL(\n",
       "                evt.data\n",
       "            );\n",
       "            fig.updated_canvas_event();\n",
       "            fig.waiting = false;\n",
       "            return;\n",
       "        } else if (\n",
       "            typeof evt.data === 'string' &&\n",
       "            evt.data.slice(0, 21) === 'data:image/png;base64'\n",
       "        ) {\n",
       "            fig.imageObj.src = evt.data;\n",
       "            fig.updated_canvas_event();\n",
       "            fig.waiting = false;\n",
       "            return;\n",
       "        }\n",
       "\n",
       "        var msg = JSON.parse(evt.data);\n",
       "        var msg_type = msg['type'];\n",
       "\n",
       "        // Call the  \"handle_{type}\" callback, which takes\n",
       "        // the figure and JSON message as its only arguments.\n",
       "        try {\n",
       "            var callback = fig['handle_' + msg_type];\n",
       "        } catch (e) {\n",
       "            console.log(\n",
       "                \"No handler for the '\" + msg_type + \"' message type: \",\n",
       "                msg\n",
       "            );\n",
       "            return;\n",
       "        }\n",
       "\n",
       "        if (callback) {\n",
       "            try {\n",
       "                // console.log(\"Handling '\" + msg_type + \"' message: \", msg);\n",
       "                callback(fig, msg);\n",
       "            } catch (e) {\n",
       "                console.log(\n",
       "                    \"Exception inside the 'handler_\" + msg_type + \"' callback:\",\n",
       "                    e,\n",
       "                    e.stack,\n",
       "                    msg\n",
       "                );\n",
       "            }\n",
       "        }\n",
       "    };\n",
       "};\n",
       "\n",
       "// from http://stackoverflow.com/questions/1114465/getting-mouse-location-in-canvas\n",
       "mpl.findpos = function (e) {\n",
       "    //this section is from http://www.quirksmode.org/js/events_properties.html\n",
       "    var targ;\n",
       "    if (!e) {\n",
       "        e = window.event;\n",
       "    }\n",
       "    if (e.target) {\n",
       "        targ = e.target;\n",
       "    } else if (e.srcElement) {\n",
       "        targ = e.srcElement;\n",
       "    }\n",
       "    if (targ.nodeType === 3) {\n",
       "        // defeat Safari bug\n",
       "        targ = targ.parentNode;\n",
       "    }\n",
       "\n",
       "    // pageX,Y are the mouse positions relative to the document\n",
       "    var boundingRect = targ.getBoundingClientRect();\n",
       "    var x = e.pageX - (boundingRect.left + document.body.scrollLeft);\n",
       "    var y = e.pageY - (boundingRect.top + document.body.scrollTop);\n",
       "\n",
       "    return { x: x, y: y };\n",
       "};\n",
       "\n",
       "/*\n",
       " * return a copy of an object with only non-object keys\n",
       " * we need this to avoid circular references\n",
       " * http://stackoverflow.com/a/24161582/3208463\n",
       " */\n",
       "function simpleKeys(original) {\n",
       "    return Object.keys(original).reduce(function (obj, key) {\n",
       "        if (typeof original[key] !== 'object') {\n",
       "            obj[key] = original[key];\n",
       "        }\n",
       "        return obj;\n",
       "    }, {});\n",
       "}\n",
       "\n",
       "mpl.figure.prototype.mouse_event = function (event, name) {\n",
       "    var canvas_pos = mpl.findpos(event);\n",
       "\n",
       "    if (name === 'button_press') {\n",
       "        this.canvas.focus();\n",
       "        this.canvas_div.focus();\n",
       "    }\n",
       "\n",
       "    var x = canvas_pos.x * this.ratio;\n",
       "    var y = canvas_pos.y * this.ratio;\n",
       "\n",
       "    this.send_message(name, {\n",
       "        x: x,\n",
       "        y: y,\n",
       "        button: event.button,\n",
       "        step: event.step,\n",
       "        guiEvent: simpleKeys(event),\n",
       "    });\n",
       "\n",
       "    /* This prevents the web browser from automatically changing to\n",
       "     * the text insertion cursor when the button is pressed.  We want\n",
       "     * to control all of the cursor setting manually through the\n",
       "     * 'cursor' event from matplotlib */\n",
       "    event.preventDefault();\n",
       "    return false;\n",
       "};\n",
       "\n",
       "mpl.figure.prototype._key_event_extra = function (_event, _name) {\n",
       "    // Handle any extra behaviour associated with a key event\n",
       "};\n",
       "\n",
       "mpl.figure.prototype.key_event = function (event, name) {\n",
       "    // Prevent repeat events\n",
       "    if (name === 'key_press') {\n",
       "        if (event.which === this._key) {\n",
       "            return;\n",
       "        } else {\n",
       "            this._key = event.which;\n",
       "        }\n",
       "    }\n",
       "    if (name === 'key_release') {\n",
       "        this._key = null;\n",
       "    }\n",
       "\n",
       "    var value = '';\n",
       "    if (event.ctrlKey && event.which !== 17) {\n",
       "        value += 'ctrl+';\n",
       "    }\n",
       "    if (event.altKey && event.which !== 18) {\n",
       "        value += 'alt+';\n",
       "    }\n",
       "    if (event.shiftKey && event.which !== 16) {\n",
       "        value += 'shift+';\n",
       "    }\n",
       "\n",
       "    value += 'k';\n",
       "    value += event.which.toString();\n",
       "\n",
       "    this._key_event_extra(event, name);\n",
       "\n",
       "    this.send_message(name, { key: value, guiEvent: simpleKeys(event) });\n",
       "    return false;\n",
       "};\n",
       "\n",
       "mpl.figure.prototype.toolbar_button_onclick = function (name) {\n",
       "    if (name === 'download') {\n",
       "        this.handle_save(this, null);\n",
       "    } else {\n",
       "        this.send_message('toolbar_button', { name: name });\n",
       "    }\n",
       "};\n",
       "\n",
       "mpl.figure.prototype.toolbar_button_onmouseover = function (tooltip) {\n",
       "    this.message.textContent = tooltip;\n",
       "};\n",
       "mpl.toolbar_items = [[\"Home\", \"Reset original view\", \"fa fa-home icon-home\", \"home\"], [\"Back\", \"Back to previous view\", \"fa fa-arrow-left icon-arrow-left\", \"back\"], [\"Forward\", \"Forward to next view\", \"fa fa-arrow-right icon-arrow-right\", \"forward\"], [\"\", \"\", \"\", \"\"], [\"Pan\", \"Left button pans, Right button zooms\\nx/y fixes axis, CTRL fixes aspect\", \"fa fa-arrows icon-move\", \"pan\"], [\"Zoom\", \"Zoom to rectangle\\nx/y fixes axis, CTRL fixes aspect\", \"fa fa-square-o icon-check-empty\", \"zoom\"], [\"\", \"\", \"\", \"\"], [\"Download\", \"Download plot\", \"fa fa-floppy-o icon-save\", \"download\"]];\n",
       "\n",
       "mpl.extensions = [\"eps\", \"jpeg\", \"pdf\", \"png\", \"ps\", \"raw\", \"svg\", \"tif\"];\n",
       "\n",
       "mpl.default_extension = \"png\";/* global mpl */\n",
       "\n",
       "var comm_websocket_adapter = function (comm) {\n",
       "    // Create a \"websocket\"-like object which calls the given IPython comm\n",
       "    // object with the appropriate methods. Currently this is a non binary\n",
       "    // socket, so there is still some room for performance tuning.\n",
       "    var ws = {};\n",
       "\n",
       "    ws.close = function () {\n",
       "        comm.close();\n",
       "    };\n",
       "    ws.send = function (m) {\n",
       "        //console.log('sending', m);\n",
       "        comm.send(m);\n",
       "    };\n",
       "    // Register the callback with on_msg.\n",
       "    comm.on_msg(function (msg) {\n",
       "        //console.log('receiving', msg['content']['data'], msg);\n",
       "        // Pass the mpl event to the overridden (by mpl) onmessage function.\n",
       "        ws.onmessage(msg['content']['data']);\n",
       "    });\n",
       "    return ws;\n",
       "};\n",
       "\n",
       "mpl.mpl_figure_comm = function (comm, msg) {\n",
       "    // This is the function which gets called when the mpl process\n",
       "    // starts-up an IPython Comm through the \"matplotlib\" channel.\n",
       "\n",
       "    var id = msg.content.data.id;\n",
       "    // Get hold of the div created by the display call when the Comm\n",
       "    // socket was opened in Python.\n",
       "    var element = document.getElementById(id);\n",
       "    var ws_proxy = comm_websocket_adapter(comm);\n",
       "\n",
       "    function ondownload(figure, _format) {\n",
       "        window.open(figure.canvas.toDataURL());\n",
       "    }\n",
       "\n",
       "    var fig = new mpl.figure(id, ws_proxy, ondownload, element);\n",
       "\n",
       "    // Call onopen now - mpl needs it, as it is assuming we've passed it a real\n",
       "    // web socket which is closed, not our websocket->open comm proxy.\n",
       "    ws_proxy.onopen();\n",
       "\n",
       "    fig.parent_element = element;\n",
       "    fig.cell_info = mpl.find_output_cell(\"<div id='\" + id + \"'></div>\");\n",
       "    if (!fig.cell_info) {\n",
       "        console.error('Failed to find cell for figure', id, fig);\n",
       "        return;\n",
       "    }\n",
       "    fig.cell_info[0].output_area.element.one(\n",
       "        'cleared',\n",
       "        { fig: fig },\n",
       "        fig._remove_fig_handler\n",
       "    );\n",
       "};\n",
       "\n",
       "mpl.figure.prototype.handle_close = function (fig, msg) {\n",
       "    var width = fig.canvas.width / fig.ratio;\n",
       "    fig.cell_info[0].output_area.element.off(\n",
       "        'cleared',\n",
       "        fig._remove_fig_handler\n",
       "    );\n",
       "\n",
       "    // Update the output cell to use the data from the current canvas.\n",
       "    fig.push_to_output();\n",
       "    var dataURL = fig.canvas.toDataURL();\n",
       "    // Re-enable the keyboard manager in IPython - without this line, in FF,\n",
       "    // the notebook keyboard shortcuts fail.\n",
       "    IPython.keyboard_manager.enable();\n",
       "    fig.parent_element.innerHTML =\n",
       "        '<img src=\"' + dataURL + '\" width=\"' + width + '\">';\n",
       "    fig.close_ws(fig, msg);\n",
       "};\n",
       "\n",
       "mpl.figure.prototype.close_ws = function (fig, msg) {\n",
       "    fig.send_message('closing', msg);\n",
       "    // fig.ws.close()\n",
       "};\n",
       "\n",
       "mpl.figure.prototype.push_to_output = function (_remove_interactive) {\n",
       "    // Turn the data on the canvas into data in the output cell.\n",
       "    var width = this.canvas.width / this.ratio;\n",
       "    var dataURL = this.canvas.toDataURL();\n",
       "    this.cell_info[1]['text/html'] =\n",
       "        '<img src=\"' + dataURL + '\" width=\"' + width + '\">';\n",
       "};\n",
       "\n",
       "mpl.figure.prototype.updated_canvas_event = function () {\n",
       "    // Tell IPython that the notebook contents must change.\n",
       "    IPython.notebook.set_dirty(true);\n",
       "    this.send_message('ack', {});\n",
       "    var fig = this;\n",
       "    // Wait a second, then push the new image to the DOM so\n",
       "    // that it is saved nicely (might be nice to debounce this).\n",
       "    setTimeout(function () {\n",
       "        fig.push_to_output();\n",
       "    }, 1000);\n",
       "};\n",
       "\n",
       "mpl.figure.prototype._init_toolbar = function () {\n",
       "    var fig = this;\n",
       "\n",
       "    var toolbar = document.createElement('div');\n",
       "    toolbar.classList = 'btn-toolbar';\n",
       "    this.root.appendChild(toolbar);\n",
       "\n",
       "    function on_click_closure(name) {\n",
       "        return function (_event) {\n",
       "            return fig.toolbar_button_onclick(name);\n",
       "        };\n",
       "    }\n",
       "\n",
       "    function on_mouseover_closure(tooltip) {\n",
       "        return function (event) {\n",
       "            if (!event.currentTarget.disabled) {\n",
       "                return fig.toolbar_button_onmouseover(tooltip);\n",
       "            }\n",
       "        };\n",
       "    }\n",
       "\n",
       "    fig.buttons = {};\n",
       "    var buttonGroup = document.createElement('div');\n",
       "    buttonGroup.classList = 'btn-group';\n",
       "    var button;\n",
       "    for (var toolbar_ind in mpl.toolbar_items) {\n",
       "        var name = mpl.toolbar_items[toolbar_ind][0];\n",
       "        var tooltip = mpl.toolbar_items[toolbar_ind][1];\n",
       "        var image = mpl.toolbar_items[toolbar_ind][2];\n",
       "        var method_name = mpl.toolbar_items[toolbar_ind][3];\n",
       "\n",
       "        if (!name) {\n",
       "            /* Instead of a spacer, we start a new button group. */\n",
       "            if (buttonGroup.hasChildNodes()) {\n",
       "                toolbar.appendChild(buttonGroup);\n",
       "            }\n",
       "            buttonGroup = document.createElement('div');\n",
       "            buttonGroup.classList = 'btn-group';\n",
       "            continue;\n",
       "        }\n",
       "\n",
       "        button = fig.buttons[name] = document.createElement('button');\n",
       "        button.classList = 'btn btn-default';\n",
       "        button.href = '#';\n",
       "        button.title = name;\n",
       "        button.innerHTML = '<i class=\"fa ' + image + ' fa-lg\"></i>';\n",
       "        button.addEventListener('click', on_click_closure(method_name));\n",
       "        button.addEventListener('mouseover', on_mouseover_closure(tooltip));\n",
       "        buttonGroup.appendChild(button);\n",
       "    }\n",
       "\n",
       "    if (buttonGroup.hasChildNodes()) {\n",
       "        toolbar.appendChild(buttonGroup);\n",
       "    }\n",
       "\n",
       "    // Add the status bar.\n",
       "    var status_bar = document.createElement('span');\n",
       "    status_bar.classList = 'mpl-message pull-right';\n",
       "    toolbar.appendChild(status_bar);\n",
       "    this.message = status_bar;\n",
       "\n",
       "    // Add the close button to the window.\n",
       "    var buttongrp = document.createElement('div');\n",
       "    buttongrp.classList = 'btn-group inline pull-right';\n",
       "    button = document.createElement('button');\n",
       "    button.classList = 'btn btn-mini btn-primary';\n",
       "    button.href = '#';\n",
       "    button.title = 'Stop Interaction';\n",
       "    button.innerHTML = '<i class=\"fa fa-power-off icon-remove icon-large\"></i>';\n",
       "    button.addEventListener('click', function (_evt) {\n",
       "        fig.handle_close(fig, {});\n",
       "    });\n",
       "    button.addEventListener(\n",
       "        'mouseover',\n",
       "        on_mouseover_closure('Stop Interaction')\n",
       "    );\n",
       "    buttongrp.appendChild(button);\n",
       "    var titlebar = this.root.querySelector('.ui-dialog-titlebar');\n",
       "    titlebar.insertBefore(buttongrp, titlebar.firstChild);\n",
       "};\n",
       "\n",
       "mpl.figure.prototype._remove_fig_handler = function (event) {\n",
       "    var fig = event.data.fig;\n",
       "    fig.close_ws(fig, {});\n",
       "};\n",
       "\n",
       "mpl.figure.prototype._root_extra_style = function (el) {\n",
       "    el.style.boxSizing = 'content-box'; // override notebook setting of border-box.\n",
       "};\n",
       "\n",
       "mpl.figure.prototype._canvas_extra_style = function (el) {\n",
       "    // this is important to make the div 'focusable\n",
       "    el.setAttribute('tabindex', 0);\n",
       "    // reach out to IPython and tell the keyboard manager to turn it's self\n",
       "    // off when our div gets focus\n",
       "\n",
       "    // location in version 3\n",
       "    if (IPython.notebook.keyboard_manager) {\n",
       "        IPython.notebook.keyboard_manager.register_events(el);\n",
       "    } else {\n",
       "        // location in version 2\n",
       "        IPython.keyboard_manager.register_events(el);\n",
       "    }\n",
       "};\n",
       "\n",
       "mpl.figure.prototype._key_event_extra = function (event, _name) {\n",
       "    var manager = IPython.notebook.keyboard_manager;\n",
       "    if (!manager) {\n",
       "        manager = IPython.keyboard_manager;\n",
       "    }\n",
       "\n",
       "    // Check for shift+enter\n",
       "    if (event.shiftKey && event.which === 13) {\n",
       "        this.canvas_div.blur();\n",
       "        // select the cell after this one\n",
       "        var index = IPython.notebook.find_cell_index(this.cell_info[0]);\n",
       "        IPython.notebook.select(index + 1);\n",
       "    }\n",
       "};\n",
       "\n",
       "mpl.figure.prototype.handle_save = function (fig, _msg) {\n",
       "    fig.ondownload(fig, null);\n",
       "};\n",
       "\n",
       "mpl.find_output_cell = function (html_output) {\n",
       "    // Return the cell and output element which can be found *uniquely* in the notebook.\n",
       "    // Note - this is a bit hacky, but it is done because the \"notebook_saving.Notebook\"\n",
       "    // IPython event is triggered only after the cells have been serialised, which for\n",
       "    // our purposes (turning an active figure into a static one), is too late.\n",
       "    var cells = IPython.notebook.get_cells();\n",
       "    var ncells = cells.length;\n",
       "    for (var i = 0; i < ncells; i++) {\n",
       "        var cell = cells[i];\n",
       "        if (cell.cell_type === 'code') {\n",
       "            for (var j = 0; j < cell.output_area.outputs.length; j++) {\n",
       "                var data = cell.output_area.outputs[j];\n",
       "                if (data.data) {\n",
       "                    // IPython >= 3 moved mimebundle to data attribute of output\n",
       "                    data = data.data;\n",
       "                }\n",
       "                if (data['text/html'] === html_output) {\n",
       "                    return [cell, data, j];\n",
       "                }\n",
       "            }\n",
       "        }\n",
       "    }\n",
       "};\n",
       "\n",
       "// Register the function which deals with the matplotlib target/channel.\n",
       "// The kernel may be null if the page has been refreshed.\n",
       "if (IPython.notebook.kernel !== null) {\n",
       "    IPython.notebook.kernel.comm_manager.register_target(\n",
       "        'matplotlib',\n",
       "        mpl.mpl_figure_comm\n",
       "    );\n",
       "}\n"
      ],
      "text/plain": [
       "<IPython.core.display.Javascript object>"
      ]
     },
     "metadata": {},
     "output_type": "display_data"
    },
    {
     "data": {
      "text/html": [
       "<img src=\"data:image/png;base64,iVBORw0KGgoAAAANSUhEUgAABOIAAARFCAYAAAATn20QAAAgAElEQVR4XuzdB5QUVf7+/6e6JxEFJGfJiCAiRjDLwppQjBh+in8D5oSucQ0Y1hxQEWVFd3HVLwbMmEVBUEAUCWaSSE4SJ3TV/3yu9sjAzFDQw0z39LvO8bDM3Kq693Vrz1mf/dx7vSAIAnEhgAACCCCAAAIIIIAAAggggAACCCCAwA4V8AjidqgvD0cAAQQQQAABBBBAAAEEEEAAAQQQQMAJEMTxISCAAAIIIIAAAggggAACCCCAAAIIIFAOAgRx5YDMKxBAAAEEEEAAAQQQQAABBBBAAAEEECCI4xtAAAEEEEAAAQQQQAABBBBAAAEEEECgHAQI4soBmVcggAACCCCAAAIIIIAAAggggAACCCBAEMc3gAACCCCAAAIIIIAAAggggAACCCCAQDkIEMSVAzKvQAABBBBAAAEEEEAAAQQQQAABBBBAgCCObwABBBBAAAEEEEAAAQQQQAABBBBAAIFyECCIKwdkXoEAAggggAACCCCAAAIIIIAAAggggABBHN8AAggggAACCCCAAAIIIIAAAggggAAC5SBAEFcOyLwCAQQQQAABBBBAAAEEEEAAAQQQQAABgji+AQQQQAABBBBAAAEEEEAAAQQQQAABBMpBgCCuHJB5BQIIIIAAAggggAACCCCAAAIIIIAAAgRxfAMIIIAAAggggAACCCCAAAIIIIAAAgiUgwBBXDkg8woEEEAAAQQQQAABBBBAAAEEEEAAAQQI4vgGEEAAAQQQQAABBBBAAAEEEEAAAQQQKAcBgrhyQOYVCCCAAAIIIIAAAggggAACCCCAAAIIEMTxDSCAAAIIIIAAAggggAACCCCAAAIIIFAOAgRx5YDMKxBAAAEEEEAAAQQQQAABBBBAAAEEECCI4xtAAAEEEEAAAQQQQAABBBBAAAEEEECgHAQI4soBmVcggAACCCCAAAIIIIAAAggggAACCCBQYUHcsmXL9O6776ply5aqUqUKM4EAAggggAACCCCAAAIIIIAAAggkvcCGDRs0Z84c9e7dW3Xr1k36/tLB5BKosCDuueee0+mnn55cGvQGAQQQQAABBBBAAAEEEEAAAQQQCCEwcuRInXbaaSFa0gSBvwQqLIgbP368evbsKftwO3bsyJwggAACCCCAAAIIIIAAAggggAACSS8wa9YsV1g0btw49ejRI+n7SweTS6DCgrivvvpKe+65p6ZMmaJu3bollwq9QQABBBBAAAEEEEAAAQQQQAABBIoRIM/gs0hEgCAuET3uRQABBBBAAAEEEEAAAQQQQACBtBIgiEur6S7zwRLElTkpD0QAAQQQQAABBBBAAAEEEEAAgcoqQBBXWWe2fMZFEFc+zrwFAQQQQAABBBBAAAEEEEAAAQQqgQBBXCWYxAocAkFcBeLzagQQQAABBBBAAAEEEEAAAQQQSC0BgrjUmq9k6y1BXLLNCP1BAAEEEEAAAQQQQAABBBBAAIGkFSCIS9qpSYmOEcSlxDTRSQQQQAABBBBAAAEEEEAAAQQQSAYBgrhkmIXU7QNBXOrOHT1HAAEEEEAAAQQQQAABBBBAAIFyFiCIK2fwSvY6grhKNqEMBwEEEEAAAQQQQAABBBBAAAEEdpwAQdyOs02HJxPEpcMsM0YEEEAAAQQQQAABBBBAAAEEECgTAYK4MmFM24cQxKXt1DNwBBBAAAEEEEAAAQQQQAABBBDYVgGCuG0Vo/2mAgRxfA8IIIAAAggggAACCCCAAAIIIIBASAGCuJBQNCtWgCCODwMBBBBAAAEEEEAAAQQQQAABBBAIKUAQFxKKZgRxfAMIIIAAAggggAACCCCAAAIIIIBAIgIEcYnocS8VcXwDCCCAAAIIIIAAAggggAACCCCAQEgBgriQUDQrVoAgjg8DAQQQQAABBBBAAAEEEEAAAQQQCClAEBcSimYEcXwDCCCAAAIIIIAAAggggAACCCCAQCICBHGJ6HEvFXF8AwgggAACCCCAAAIIIIAAAggggEBIAYK4kFA0K1aAII4PAwEEEEAAAQQQQAABBBBAAAEEEAgpQBAXEopmBHF8AwgggAACCCCAAAIIIIAAAggggEAiAgRxiehxLxVxfAMIIIAAAggggAACCCCAAAIIIIBASAGCuJBQNCtWgCCODwMBBBBAAAEEEEAAAQQQQAABBBAIKUAQFxKKZgRxfAMIIIAAAggggAACCCCAAAIIIIBAIgIEcYnocS8VcXwDCCCAAAIIIFDmAkEQKNBC+cESBVqsIFgjKSYpKs+rKU8NFPHqy1NDeZ5X5u/ngQgggAACCCCAwI4SIIjbUbLp8VyCuPSYZ0aJAAIIIIBAuQgEwQbFghkq8L+Rr7kKgrWS1knaKCkeuGVLqibPq6GodlE00kVRr5M8z37OhQACCCCAAAIIJLcAQVxyz0+y944gLtlniP4hgAACCCCQAgJWAecH3yvf/0B+MFuBVkiqIU87yVNVSTmu8s3aWSgXaJ0CrZa0Vp52VsRrpcxoL0W9tikwWrqIAAIIIIAAAuksQBCXzrOf+NgJ4hI35AkIIIAAAgiktUAQ5Cnff18FwZcKgnnyZEtO68nzMrbqEgQFCmTLV5fK81ooM7KPMrzD5XmZW72XBggggAACCCCAQEUIEMRVhHrleSdBXOWZS0aCAAIIIIBAuQsEQa7y/NdU4E+QtF4RtdquJaZBsFG+fpanmsqI7KfMSF/CuHKfTV6IAAIIIIAAAmEECOLCKNGmJAGCOL4NBBBAAAEEENgugSDwle+PVr7/qTuI4Y8QbvsPXrDnWRgnZSszcpAyI8ck9LztGhQ3IYAAAggggAACWxEgiOMTSUSAIC4RPe5FAAEEEEAgjQUK/CnKi73k9nqLqG2ZhGZ/hHE/yFNdZUVPVEZk9zQWZugIIIAAAgggkIwCBHHJOCup0yeCuNSZK3qKAAIIIIBA0gj4wQrlxUaoIJiuqOzE063vBxe287bnXEwzleHtruzo2fK8ncLeSjsEEEAAAQQQQGCHCxDE7XDiSv0CgrhKPb0MDgEEEEAAgR0jkO+/q7zYa65yLeLVKfOX+MEyBVqlrOhxyowcVubPT+YHnnXWWfrkk080Z86cZO4mfUMAAQQQQCBtBQji0nbqy2TgBHFlwshDEEAAAQQQSB+BINig3NhjigUzFVHnEpekrl2bq4ce+FhTv5qvr6bM16JFa3T6GXvpqadPLYJ17tn/08j/TioRcPDgW3TjjTcX/n7+/Pm68cYbNWbMGK1atUqtW7fWwIEDdckllxTpy6xZs3TrrbdqypQpWrhwoSKRiFq1aiULui644AJlZ2cn5aQlEsS1bNlSc+fOLXFc48aNU48ePYr9/T//+U8NHjxYTZo00a+//pqUNnQKAQQQQACBZBAgiEuGWUjdPhDEpe7c0XMEEEAAAQQqRKDA/0p5seckZSniNSixD3PnrFCHtoPVsFFNdevWVG+/NbPYIG7ihDma/cuyLZ7z6JAP9dWURfpi0vPau/sp7ve//fabunfvrrVr1+riiy9W8+bN9eGHH+qll17SVVddpfvuu6/wOe+99577+z777KOmTZsqFotp/Pjxev7553XkkUfqjTfeqBC/rb00kSBu9OjRzmbzKx48ml9WVtYWv//xxx/VuXNnZWRkqFatWgRxW5skfo8AAgggkNYCBHFpPf0JD54gLmFCHoAAAggggEB6CeTF3nSnpUbUTp63ZagT18jNLdCyZWvVpEktFRTEVKPKoGKDuOL01q/PU8um/1TzFtU09ZvnlBnp45pZ1dtjjz2mzz77rEhl10UXXaQnnnhC06dPV8eOHUudEAvw7Bnfffed2rdvX2LbvLw897vigqsdOeOJBHHF9cuq4A444ABn98gjjxTb9d69e7tqwo0bN+qnn34iiNuRE8yzEUAAAQRSXoAgLuWnsEIHQBBXofy8HAEEEEAAgdQT2FjwbxUEnynD6xq689saxD3/vyk6+8yRuuPuPXXVlZcoO+NM964uXbpo/fr1Liza9Jo0aZL23ntv3XTTTbrttttK7ZdVyV199dWaOHGiq5az65lnntGAAQP01ltvuaq5//znP676zpa1du3aVcuXL3fLNq3izH5er149HXfccbr99ttdBVn8soBw6NChmjBhglsOW716dR100EG68847twj9rELvjjvu0PDhw7V06VJ16tTJPe+FF14oskfcXnvtpdWrV+uHH37YYlwWKg4bNswFZw0aFF+deO6557p3TJ48WXvuuecWzxg1apROP/10TZs2Teeffz5BXOivmoYIIIAAAukqQBCXrjNfNuMmiCsbR56CAAIIIIBAWggEQb42xu6TH8xV1OsQeszbGsQd9fehGvvJT/p+dn81bthF2dFB8ryIOnTo4CrULDTa9JoxY4Z222039enTR++8806R31lwZ/+sW7dOX375pax6LjMz0wVOVapUKRLE2TPsd6eddpqrEDvhhBNUo0YNF9gtW7ZM5513nttnzqrpLHCz6jsL3eL7zVnV2bfffquDDz7Y7bU2b948F5QFQSDrY/369Qv7Fq/Ms2q0o446yh3OYG1tn7c1a9YUHtZg77nwwgtdQLj//vsX3m8Ve40bN9Z+++1X4jLbDRs2qFGjRmrWrJnr1+aXLWM1Uxvv3Xff7fpNRVzoz5qGCCCAAAJpKkAQl6YTX0bDJogrI0gegwACCCCAQDoI2EENG2P3yw8WKuq1DT3kbQniFixYpXatblPvPh01avSBinjNlOOCuCxXhWZB2+zZs13AFL8effRRt/TS9jnbPKS75ZZb3KEN8ctCtSeffNJV18WveEXcrrvu6qrgcnJyCn9nwd3IkSNl/6PbDoaIX2+++aaOPvpotyTWKsnssrCvWrVqRVysks36Zf247rrr3O/sIAmrgOvbt69eeeWVwkMmbN+6Y445Ri1atCgM4qwazsZqVWvW7/j18ssvu6DQ/uzXr1+xc2H74Z166qm69957NWjQoC3a2M+sAs+CRaveI4gL/UnTEAEEEEAgjQUI4tJ48stg6ARxZYDIIxBAAAEEEEgXgSDY+GcQt0BRr13oYW9LEHfvPR/onze8pedeOFN9++Uo4rVQTvRqeV6GPvroIx1++OGy5Zr333+/O4Th448/1hVXXOFCMAuwNl+2+ssvv8j+seWldr8FdXfddZcLnTYP4h588EFdfvnlhT+3SjZbhnrooYfq8ccf32K8Vr3297//Xba8c/PLqs1yc3NdNZzd36ZNGxe62WXVZ9dee62KO8XUquysks0q5OKXVazZstlFixYVhoQW2H3++eduqWxJ+9hZheAHH3zglq42bNiwSBdtP7099tjDLcPt37+/+x1BXOhPmoYIIIAAAmksQBCXxpNfBkMniCsDRB6BAAIIIIBAuggEga/c2EOKBTMV9XYLPextCeL26PIvLV60RrPn36qMLHvP7sqOXlpYNfbss8/qyiuv1IoVK9z7bXmp7ftmFWe2HHTq1Kml9svCtn/84x/65ptvCg92iFfEvf76667KLX4tWbKkxL3X4m0OPPBAjR071v3V9oWzgM0q21auXFmkH4cccogLAu0aOHCgW4Zqy1133nnnIu2s6s/GsGkQZ/cddthh7sTXU045RdYvG6stWX344YeLHa/1xZak2tJXC/E2v6zftvw23nf7PUFc6E+ahggggAACaSxAEJfGk18GQyeIKwNEHoEAAggggEA6CeTFXlC+P0YRdXH7toW5wgZxkyfN0wH7P6jzB/bQg48cJ1/TlRk5QlnRE4u8xvZHs8o2+9P2dcvIyHB7uZ144oluqWVp1+LFi1112PXXX+8OS7ArHsS9//77ruIuflkFmi0LPfbYY93ecsVddlhD9+7d5fu+O9jBqs+sQs+Wntpyz0gk4qrs6tat6w5hsMuWstoyU6vSq1OnTpHH2ru+/vrrIkGcVdXZsth27dppzJgxsjDRwkj7FwGraivusuWo11xzjf7v//7PuWx6bbqsddMlulZ5Z/va2aETtsR20+W/YeaZNggggAACCKSDAEFcOszyjhsjQdyOs+XJCCCAAAIIVEqBfP9D5cVeUkRN5HnVQ40xbBB3+aUva9jQcfp0/OXqvldt+VqsrOjJyowcWOp77DRTqyQbMWKEzjrrrFLbWqXZLrvsogsuuKBwuWlJQZydbGoVa/vuu68LwEq7rMLOgrji+mCHKliIFg/itnVpqr3XToO1ve7mz5+vI444wi15tXeWdFlAactWrTIufphEvO1DDz3kwsLSriOPPFK2Dx4XAggggAACCBQVIIjji0hEgCAuET3uRQABBBBAIA0FYsFs5Rb8W4HWKOrtEkogTBCXl1egVs1vUb361TV12rWKBT/L8+ooJ3qOO7ChpMsOM7DTRO1k1JkzZxaehGrLNzc9pTR+v1WJWbWYhW9nnnmm+3FJQZz9zqrXnnrqKbfXmu31tullQZ2936rabM81O5Th6aef1oABAwqb2VJaCwcPOuigwiDODmuwgyGs+m1rhzXEH2QBnO1Jd/LJJ7slqpvvZ7dpv+zACavS2zRs3PT3to+eVd1tft18881uHzpbNmvVcD169Ag1vzRCAAEEEEAgnQQI4tJptst+rARxZW/KExFAAAEEEKjUAn/sEzdCsWCcIurkDlEo6Rr62GdavXqDfD/Q4FvHqGvXJup73B+nlR551G7q3KVx4a2jX52m/ieN0OA7j9JVgw6Ur5nK8A5SVvTMwv3hLCSyAwgswLL9z6zaa/jw4W6/OFtWaieixi+rkLOln7bvmbVdtWqV3n33XX344Yfq2bOnO+TBlrTaVVoQZ8+2QMrCqzPOOEN77rmnLICzv1uIZnvTnXPOOSooKHBBnC19vfTSS12Q9cUXX8iq9WrXru36EK+Is3daSGYnrtoebrYvnVXq2d8tbFuzZk2RpanxMVnb9957T5mZmVqwYIE7SKK4y94/ZMgQTZw4sYjJ1j5M9ojbmhC/RwABBBBAQG5rCPvfA/Z/fHXr1g0SBLZJgCBum7hojAACCCCAAAImUOB/pbzYiwq0sdSquPZtbtO8uUUPLYgLPjm8v844c+9C0BP7/VtvvzVDP86+WQ0aLZOn6sqKnqKMyO6FbewkUqsus4DLAi+rROvVq5eskstOJd30evHFF13AZnvJLV261C3P7NChg6sou+SSS4os1ywtiLNnWtWbLSe1vdXmzp3rqu6aN2/uQjTbO85Oa7Xr559/dks+7TTU/Px8t6TVqu/iJ7FuGsRZmDd48GAXJNqhDbaU9Pbbb3d73Fm7TQ9riI/LxmSHNVgQ+eqrrxb7Mdp7bSms7UlnlXfbchHEbYsWbRFAAAEE0lWAIC5dZ75sxk0QVzaOPAUBBBBAAIG0EgiCmPJi/1NB8KkiairP26nMxu8HqxToN2VEDlFW5OTQB0KUWQeS+EEWvvXr189V2fXt2zeJe0rXEEAAAQQQqLwCBHGVd27LY2QEceWhzDsQQAABBBCohAJ+sOTPJaqzFFU7eV7VhEcZBOvl60dFvV2VFT1bEW/nhJ9ZmR5g1X+2F53tFxdfVluZxsdYEEAAAQQQSAUBgrhUmKXk7SNBXPLODT1DAAEEENhBAoHvK2/pauUv/135K9YotnaDAj+QF/EUrZajzJ1rKrNOTWXV30leJLKDelE5HhvzZyjPf8UdrBBVm9CnqBY3+iBYI1+/KOK1VVakn6KRDpUDKcFRrFu3Tm+88Ya+/PJLd0DDPffco6uvvjrBp3I7AggggAACCGyvAEHc9spxnwkQxPEdIIAAAgikjYC/MU/rf/pN676fr40Llyu2bqP8DXkK8gucQSApkpmhSJUsRavmKLtRHVXr0ExV2zRRNCcrbZy2daAx/1vl+W/KD36Upzry1HiblpPa4Q+BFijQqj9DuL6KRjpuazcqbXvbK26XXXZRjRo13P52jz/+uDusgQsBBBBAAAEEKkaAIK5i3CvLWwniKstMMg4EEEAAgRIFgiDQxjmLtWrCTG1csEwFq9YpWr2KojVyFM3JlpeV4U7ltHYWysU25Lkqudja9cqoWU3ZTeqq1r4dVaVVo8LTO+EuKuAH85QXe1exwA4HWCVP9eWpbqknqgZBgQItla8liqiOIm45am9FvKbwIoAAAggggAACSStAEJe0U5MSHSOIS4lpopMIIIAAAtsr4OcXuABu7bezlbtwhVtymlmnhrzo1pecBjFf+SvXuCWsWQ3rqEanFqrVYzdFsjK2tzuV+r4gyFVB8Lli/lfyg4UKtEySVW5Vk6ccqzeUZNVvGyWts7NX5WlnRbzGika6K8PbV55H5WGl/kgYHAIIIIAAApVAgCCuEkxiBQ6BIK4C8Xk1AggggMCOFbAQbsVHX2vNNz+7KrecpnUVydr2JX1+XoE2/rpUkZxM1ejcSjsf3o0wrpSpC4KNigUzFQu+UxAskK81UpDrQjgXxnk5iqiGIl4TRbwO7mAGz8vesR8DT0cAAQQQQAABBMpIgCCujCDT9DEEcWk68QwbAQQQqOwCtszUQrjVk79XUOArp1m9hJaV2vNyf13mcqSa3dpp58P34CCHEB/RH8tPlylwYVxM8qLyVNNVwnkelYUhCGmCAAIIIIAAAkkmQBCXZBOSYt0hiEuxCaO7CCCAAALhBNbOmqfl701Wwe/rldOiQUIhXPyNbq+5eUsUrZ6jur32VPVOLcN1hlYIIIAAAggggAAClUaAIK7STGWFDIQgrkLYeSkCCCCAwI4UKFizXotfGaf1Py5Q1daN5WVEy+x1QUFM63/+TVXbNFb9Y3sos1b1Mns2D0IAAQQQQAABBBBIfgGCuOSfo2TuIUFcMs8OfUMAAQQQ2C4BO5xh+UdT3YmnOyIoK/h9nfJXrFGdQ7qqds/dtquP23LTM888owEDBmj27Nlq2ZIqvG2xoy0CCCCAAAIIIFDWAgRxZS2aXs8jiEuv+Wa0CCCAQKUX8HPztfCFj7X+pwWq2rZpiUtS123coCfeHqVpc37UtNk/aMnqFTqxZy89dN41WxgtWL5ED40eqXEzp2rJqhWqu1NtdW/UWlf2P1v7X3GGojl/nfQZi8V07733avjw4Zo/f76aNWumc845R1dffbWi0b8q8yZPnqyRI0fqo48+cgFbtWrV1KlTJ1133XU6/PDDi/QhkSDO933ddttt6tq1q4499tiE5t/Gc+ONN2rMmDFatWqVWrdurYEDB+qSSy7Zwtna2ns//PBDLVy4UA0aNNBBBx2kG264Qe3atUuoH9yMAAIIIIAAAghUpABBXEXqp/67CeJSfw4ZAQIIIIDAJgLrvp+vJW9MdAcpZNXbqUSb+UsXad+rzlCDWnXUuWU7ffD1xGKDuBVrftdh15+rvIJ8/b/Djlbzeg01Z/FvevaD11349OWbH6j9ofsWvufCCy/U0KFDXQXb/vvvr88//1wjRoyQ/fyxxx4rbHfCCSdo7NixOv7449WtWzetXbvWtZs+fboef/xxXXDBBYVtEwniCgoKlJmZqTPPPFP2nO29fvvtN3Xv3t318+KLL1bz5s1dyPbSSy/pqquu0n333Vf46OXLl2u33XZTXl6eG8cuu+yin376ybmY2bfffqumTZtub1e4DwEEEEAAAQQQqFABgrgK5U/5lxPEpfwUMgAEEEAAgU0FVo6bruUffKWcpvUUyc4sESc3P08WsjWqU1cFsZhaDOhTbBD3zAev64b/DNGIK27T3/bYr/B5b074ROcPvUN3XHS1rn/0HvdzC5h23313VyH28MMPF7a97LLLNGTIEH3zzTfq3Lmz+/n48eNdsJWdnV3YbsOGDa5ybenSpVqyZIkyMv44VTQZgjgbkwWJn332mXr06FHY54suukhPPPGECxA7duzofm5Bov389ddf19FHH13Y9uWXX5YFkA8++KAuv/xyPlwEEEAAAQQQQCAlBQjiUnLakqbTBHFJMxV0BAEEEECgLAQWjx6v1ZO+V7X2zUKflFpaEPfoGy/orlH/1tu3PKrdW7Uv7OLkH2eq7+DLdO/5gzToiXvdz23Z5Z133qlffvnFVYHFL1t62qpVK11//fW64447Sh2mVZc98MADmjdvnlvWWlIQZ4GYVZhNmDDBLf2sXr26W/pp72/f/o9+zpkzp0g/4i+2dp988on7qy2lfeSRR1w13g8//KAqVaro4IMPds+JB2vWrkuXLlq/fr2rbNv0mjRpkvbee2/ddNNNbimqXf/617/cElv7nYWN8cv6alWCw4YN03nnnVcW080zEEAAAQQQQACBchcgiCt38kr1QoK4SjWdDAYBBBBIb4HA97VgxLvaOH+pOy017FVaEPf1L9/ryFsuVrfWHfXP/uepad2GmrNkgW793zCtXbNGb908RB0uOM6dzNq7d29X9bZo0aItXm17pO2xxx5uf7XSrv79+7vlnrYHm+0bZ1dxFXFWoWYVeBaaNWnSxAV3FnAFQaAZM2aofv36WrdunawKzZalHnDAAYXhl/WlV69e7tknnniiRo8erTPOOMMFaras1Cra7F4L0tq2bevadejQQVlZWZo2bVqR7tu7bBlqnz599M4777jfxcO5fffd1y1ZtQMmLMC78sor3dJW+33NmjXDTg/tEEAAAQQQQACBpBIgiEuq6Ui5zhDEpdyU0WEEEEAAgZIE/PwCLXjmPeUtWqEqLRuGhiotiLOHjPz4Lf1r1NNaufb3wmfu276zhvS7UA1aNlOT/9dLkZwst+zUwqopU6Zs8W7bBy4/P9+FZyVds2bNcktTjzrqKBegxa/igjgLyuJBXbydVbRZH2655RZXkWZXaXvEjRo1SieddJLsT1syGr8WLFigXXfdVUcccYSef/559+PjjjvOBW1W3deoUaPCto8++qhbimvv3TSke/LJJ10FoAV78evAAw/UK6+8op133jn03NAQAQQQQAABBBBINgGCuGSbkdTqD0Fcas0XvUUAAQQQKEUgiMX06yMs9GIAACAASURBVNPvKm/hClXZpeyCuHcmj9N/P3pTB3Xurl0aNNasX2e7E1fb1m2i5wbdqbbnH6NIVqY7RdSqzeyAhs0vW5Jp+75tvrQz3m716tXab7/93DJTq6qzwxDi19b2iLMqs9zcXFcNd+ihh6pNmzYu8LKrtCCuX79+mjhx4hZVbnbfaaedJvsfmbZfnV12uqud5rrXXnvp/vvvd4ctfPzxx7riiitc9VyLFi2KjO3VV191e8dZlaD1xwJIO03WqufefffdLUJEPmwEEEAAAQQQQCBVBAjiUmWmkrOfBHHJOS/0CgEEEEBgOwQsiFr4v4+07rv5qtYu/KmcpVXEvT3pM13w+B0ac9tQdWz2175vY7+drFPvvU7Xn/T/6fbnn3SntG5vRZwd0mCBlS3ZtKWrtofbpldxQZwFdtdee63eeOMNrVy5skj7Qw45xAVnWwvirOrNqvBKu2wPuUgk4po8++yzbnnpihUr3N9tPzlbemoVeLY8durUqe7nFgKefPLJLsiLH05hP3/vvffcOO+++25dc8012zHD3IIAAggggAACCFS8AEFcxc9BKveAIC6VZ4++I4AAAghsIbDsvcla+em3qtq2iQvHwlylBXHH33Gllq9ZrU/+9e8ijwr8QO3PO0b7776n3vtynPvd9uwRl5eXp2OOOcYFZxZg2bLUza/Ngzjf990S1l9//dVVpHXq1Mkd1mCBmZ1GWrdu3cLDGEqriLN93+z9toy0pOuwww4rcuiFtbclqPanVbfZya41atRwe8298MIL7jEWJFol3cyZM7d4rO0NZ0tU33zzzTBTQxsEEEAAAQQQQCDpBAjikm5KUqpDBHEpNV10FgEEEEBgawKrJ/+gZe9OUmadmsqoXmVrzd3vSwviDrhmgGvz2T0jijyrYN0GdbzsRO3XbS99MOEz9zvbE+2uu+4KfWqqhWS2N5tVtT333HM65ZRTiu3v5kGcLV21IM5OOj3rrLOK3NO4cWO1a9euyKmoFpbZgQ32nE2vo48+2rWzCrfMzMxQVps3soMebP+4TfsSP7X1+++/L9LcKhYttOvZs+dWD63Yrs5wEwIIIIAAAgggUA4CBHHlgFyJX0EQV4knl6EhgAAC6SiQu2ilFr/8qQpWr1NOs/qhCEoL4gY8+E+9//VEjb7xIXVvu2vh8159501d/PzD+selV+hfDz/gfm4BmZ2MaocXPPzww4VtL7vsMg0ZMkRff/21unTp4n5uVW2nnnqqXnzxRVeRdu6555bY182DuOnTp7sln08//bQGDPgjKLTLlo5aMGcVaRawxa+cnBxXrffaa68VeYcdxGB9uPnmm93y0s0v29POTl8t6bJ97Wzvu/Xr17vqN1uqalffvn1duDh+/Hi37138stNgrXLuhhtu0O233x5qbmiEAAIIIIAAAggkmwBBXLLNSGr1hyAuteaL3iKAAAIIbEXAqq6Wvj5Bqyd9ryqtGyuSES3xjhHvj9bq9esUBL7ue+U/2q1FG/29e0/X/m977Kddm7fSpB9n6MQ7BykrM1NnHna0WtRvrFnzftFzn7yt2jVq6uuZ04ucIjpw4EANGzbMBWQ9evRwYZRVi51//vnu8IL4ZXutPfjggy40O+ecc7boY69evdzBD3ZtHsRZJZ0FcYsXL9all17q3v/FF1/IqtNq166tZs2aFQnirALN9m+79dZb3SELFq7ZoQ5m1b9/fxcG/u1vf5O90yrW5s6d6yrWbA+5kSNHuj4sWrRIffr00bHHHuueb3vUDR8+3FXTvf/++9pnn30Kx2CHVRx88MHKzs7WhRde6A6xsMMaLHCsU6eO60vDhuEP0+CjRwABBBBAAAEEkkmAIC6ZZiP1+kIQl3pzRo8RQAABBLYisO6HX7X07S/lr99YalXcPleerl+XLS72aQ+cO0gnH9Db/W7mvF/04GsjNW32D1q8crl2qlJNPdvvrjv+dZd2PXz/IvdbSHbPPfe4kMr2cLPgy4I2O5zAlojGLwuqxo4dW+JI7ERSa1NcEGc/+/nnn93+cOPGjVN+fr723Xdfdyqp7RFn16YVcRaCXXTRRZoyZYqrXtu0Ys7COAvIrLpuxowZLpyz5a0W3lmVnlW82WUns1q1nQV+FgBaoGbBnVXT2amom1+2j9xtt92myZMn67fffitsb5VwdsIqFwIIIIAAAgggkKoCBHGpOnPJ0W+CuOSYB3qBAAIIIFCGAoHva9m7k7X6y++UVXcnZdSsVmZPL1izXnlLVqnmXu1Ur8/e8qLhDoQosw7wIAQQQAABBBBAAIEKFSCIq1D+lH85QVzKTyEDQAABBBAoTsD2iFv86jit/+k35TSvr2iV7IShYhvztHHuYlVt3Uj1j+2hzNo1En4mD0AAAQQQQAABBBBILQGCuNSar2TrLUFcss0I/UEAAQQQKDOBDXMWa/n7U7Rh7mJlN6kb+hTV4joQW79RG+cvVU6zetq5156q2qpRmfWTByGAAAIIIIAAAgikjgBBXOrMVTL2lCAuGWeFPiGAAAIIlJnAhtmLtPyjqdo4d4mi1XOU1aC2vEj45aS2zNWWotqS1CrN66vOIV1VtXXjMusfD0IAAQQQQAABBBBILQGCuNSar2TrLUFcss0I/UEAAQQQKHOBvKWrtHLcDK3/eYEKVq5VZp2ayqhTo9QTVYOCmPJXrFH+yjXK2KmaC99q9eik7Aa1y7x/PBABBBBAAAEEEEAgdQQI4lJnrpKxpwRxyTgr9AkBBBBAoMwFLFhbM+0XrZ0xV7lLVqpg1Vp5XkSRKlmKZGdJEU/yA/m5+fI35iqI+cqoXV3Z9WupWscWqrF7K0Uy/zr1tMw7yAMRQAABBBBAAAEEUkKAIC4lpilpO0kQl7RTQ8cQQAABBHaEgJ9XoA2zF8qWrFogF1u70YVvCgLJ8xTJylC0RhVl16utKq0aqsouDRXJytwRXeGZCCCAAAIIIIAAAikoQBCXgpOWRF0miEuiyaArCCCAAALlK2D7v9npqhbG2X+2veOi1XLcUlQvGn4fufLtNW9DAAEEEEAAAQQQqEgBgriK1E/9dxPEpf4cMgIEEEAAAQQQQAABBBBAAAEEECgnAYK4coKupK8hiKukE8uwEEAAAQQQQAABBBBAAAEEEECg7AUI4sreNJ2eSBCXTrPNWBFAAAEEEEAAAQQQQAABBBBAICEBgriE+NL+ZoK4tP8EAEAAAQQQQAABBBBAAAEEEEAAgbACBHFhpWhXnABBHN8FAggggAACCCCAAAIIIIAAAgggEFKAIC4kFM2KFSCI48NAAAEEEEAAAQQQQAABBBBAAAEEQgoQxIWEohlBHN8AAggggAACCCCAAAIIIIAAAgggkIgAQVwietxLRRzfAAIIIIAAAggggAAClUAgCGIKtEJBsFi+lkvK/3NU2YqonjyvvjzVlud5lWC0DAEBBBCoOAGCuIqzrwxvJoirDLPIGBBAAAEEEEAAAQTSViAIVqsgmKaYP02+lkjBOgVaLyn2p0mGPFWT51WTpybKiOyuqNdJnlc1bc0YOAIIIJCIAEFcInrcSxDHN4AAAggggAACCCCAQAoKBEGeCoLPVeBPlB8sVKDV8rTTH6GbLGTL+HNU+Qpk4dxaSWvlqY4ingVyBynqdZPnRVJw9HQZAQQQqDgBgriKs68MbyaIqwyzyBgQQAABBBBAAAEE0krAgre82DvygxkKtEqeGv+57LT0UC0IChRomXwtVkQNFY3srqzI3+V5O6WVH4NFAAEEEhEgiEtEj3sJ4vgGEEAAAQQQQAABBBBIIQE/mKe82CjFgpnyVMstN93WqjYL5HzNdfvIRb2uyoqeqIi3cwop0FUEEECg4gQI4irOvjK8mSCuMswiY0AAAQQQQAABBBBIC4E/KuH+p1gwQxE1l+fVSmjcfrDYVchFvT2VHT1VnlczoedxMwIIIJAOAgRx6TDLO26MBHE7zpYnI4AAAggggAACCCBQZgK2J1xu7L+KBZ8romYJh3DxjvnBIre/XGbkcGVG+nGqapnNGA9CAIHKKkAQV1lntnzGRRBXPs68BQEEEEAAAQQQQACBhATy/Y+VH3tDkqeI1yyhZ216cxAE8vWjO8TBlqjaqapcCCCAAAIlCxDE8XUkIkAQl4ge9yKAAAIIIIAAAgggUA4CfrBSubGh8oOfFVGnbd4TbmtdtGo7X7PcKarZ0YHyvMyt3ZLQ75955hkNGDBAs2fPVsuWLRN6FjcjgAAC5S1AEFfe4pXrfQRxlWs+GQ0CCCCAAAIIIIBAJRTI9z9VXuwledqpxEMV1q7N1UMPfKypX83XV1Pma9GiNTr9jL301NOnbiEyf/5K3XX7e/r44x+0aOEa1W9QXT0PaKRrrt1fu3W8XNFIp8J7YrGY7r33Xg0fPlzz589Xs2bNdM455+jqq69WNBotbDd58mSNHDlSH330kQvYqlWrpk6dOum6667T4YcfXqQPiQRxvu/rtttuU9euXXXssccmNNs2nhtvvFFjxozRqlWr1Lp1aw0cOFCXXHJJkSW62zK2hDrEzQggkBICBHEpMU1J20mCuKSdGjqGAAIIIIAAAggggIBkJ5zmxp5QQTBZUXUpsRpu7pwV6tB2sBo2qqlu3Zrq7bdmFhvELV++Tt273q28vJjOPb+HWraso59/Xqanho2X5/ma/PX9at3i4kL6Cy+8UEOHDnUVbPvvv78+//xzjRgxQvbzxx57rLDdCSecoLFjx+r4449Xt27dtHbtWtdu+vTpevzxx3XBBRcUtk0kiCsoKFBmZqbOPPNM2XO29/rtt9/UvXt318+LL75YzZs314cffqiXXnpJV111le67777tGtv29of7EEAgdQQI4lJnrpKxpwRxyTgr9AkBBBBAAAEEEEAAgT8F7DCFjbHHFQS/K+qVvIwzN7dAy5atVZMmtVRQEFONKoOKDeKGDR2nyy99WS+9+v/pyKN2K3R+9ZVvdOrJz+ie+47UoCtfludl69tvv9Xuu+/uKsQefvjhwraXXXaZhgwZom+++UadO3d2Px8/frwLtrKzswvbbdiwwVWuLV26VEuWLFFGRob7XTIEcTYmCxI/++wz9ejRo7DPF110kZ544gkXIHbs2HGbx8aHiwAClV+AIK7yz/GOHCFB3I7U5dkIIIAAAggggAACCCQoUOB/o7zYfyTlKOLVC/W00oK4e+/5QP+84S2Nm3CF9uzevPB5EyfM0SEHPqwhj/9dFw58ShGviW644Qbdeeed+uWXX7TLLrsUtrWlp61atdL111+vO+64o9Q+WXXZAw88oHnz5rllrSUFcRaIWeXdhAkTtHDhQlWvXl0HHXSQe3/79u3dfXPmzCnSj/iLrd0nn3zi/mpLaR955BFXjffDDz+oSpUqOvjgg91z4sGatevSpYvWr1+vn376qUj/J02apL333ls33XSTWwJb2lXc2EJNEI0QQCClBQjiUnr6KrzzBHEVPgV0AAEEEEAAAQQQQACBkgXy/Y+UFxuliJrJ86qGoiotiJs8aZ4O2P9B7b1PC9119zFq0bKOfvl5mf4x6DWtXbteYyeconq1z3Onp/bu3dtVvS1atGiL9zZo0EB77LGH21+ttKt///5uuaftwWb7xtlVXEWcVahZBZ6FZk2aNHHB3bBhw2Snus6YMUP169fXunXr9PLLL7tlqQcccIDOO+889zzrS69evdx/PvHEEzV69GidccYZLlBbvny5Wxpr91rI1rZtW9euQ4cOysrK0rRp04p039612267qU+fPnrnnXe2eWyhJohGCCCQ0gIEcSk9fRXeeYK4Cp8COoAAAggggAACCCCAQMkC+f4Y5cVeVkRt5XlZoahKC+LsAf9+6nPdfNPbsv3i4lfPA1rr+f/rp9o75yo7epoyInu7ZacWVk2ZMmWL99o+cPn5+S48K+maNWuWW5p61FFHuQAtfhUXxFlQFg/q4u2sos36cMstt7hDH+wqbY+4UaNG6aSTTpL9aXvWxa8FCxZo11131RFHHKHnn3/e/fi4445zQZtV9zVq1Kiw7aOPPuqW4tp7Nw/pNh1nSWMLNUE0QgCBlBYgiEvp6avwzhPEVfgU0AEEEEAAAQQQQAABBEoW+CuIa+P2bQtzbS2Ie230NA1/8nMd3quDWrepqxnTF+rB+z/Srp3qafRbR6lOzQHKiOzlThG1ajM7oGHzyw5usH3fNl/aGW+3evVq7bfffm6ZqVXV2WEI8Wtre8TZAQq5ubmuGu7QQw9VmzZt9Morr7jbSwvi+vXrp4kTJxYboJ122mmyf3m2/ersstNd7TTXvfbaS/fff7+aNm2qjz/+WFdccYWrnmvRosV2jS3M/NAGAQRSW4AgLrXnr6J7TxBX0TPA+xFAAAEEEEAAAQQQKEUg3/9EebEXFVFTed4fSzu3dpUWxI1+dZrOOPVZTfjyKu3WuXHhoz54/zsdfcQwDb7zAF37j0eVEemy3RVxdkiDLWu1paC2dNX2cNv0Ki6Is8Du2muv1RtvvKGVK1cWaX/IIYe44Myu0oI4q3qzSrXSLttDLhKJuCbPPvusrrzySq1YscL93faTs9NSrQLPlsdOnTp1i0dtbWxbmxt+jwACqS9AEJf6c1iRIyCIq0h93o0AAggggAACCCCAwFYEYv505caekZSliFc/lFdpQVyvQx91p6tOnXbtFs+qX+cf6nFAc7315qeKeI22a4+4vLw8HXPMMS44syo2W5a6+bV5EOf7vlvC+uuvv7qKtE6dOrnDGiwwu/zyy1W3bt3CwxhKC+Js3zd7/5NPPlmi02GHHSbP8wp/b+1tCar9aXvD2cmuNWrUcHvNvfDCC0WeE2ZsoSaIRgggkNICBHEpPX0V3nmCuAqfAjqAAAIIIIAAAggggEDJAn6wVBtjjyoIVirqtQpFVVoQ16XTne4Z02ZcX+RZtgy0Xu1rtH+PVnp3zHR5XqY7FfWuu+4KfWqqhWS2N5tVtT333HM65ZRTiu3v5kGcLV21IM5OOj3rrLOK3NO4cWO1a9euyKmoFpbZgQ32nE2vo48+2rWzCrfMzMxQVps3soMebP+4zfsSdmzb9VJuQgCBlBIgiEup6Uq6zhLEJd2U0CEEEEAAAQQQQAABBP4SCAJfubEnVRBMVFSd5XnRrfKUFsSd2O/feuvNGfpo7KXad7+Whc965aVJOq3//3Ttdf10151/HKxgAZmdjGqHFzz88MOFbS+77DINGTJEX3/9tbp06eJ+blVtp556ql588UVXkXbuueeW2M/Ng7jp06e7ZbBPP/20BgwYUHifLR21YM6WtlrAFr9ycnJctd5rr71W5B12EIP14eabb3bLSze/bE87O321pMv2tbO979avX6+ZM2e6parbOratTg4NEEAg5QUI4lJ+Cit0AARxFcrPyxFAAAEEEEAAAQQQ2LpAgT9BubEX5alqqctThz72mVav3iDfDzT41jHq2rWJ+h73R1B25FG7qXOXxprw+Wz1PvwxZWdn6LyBPdSq1c6aPn2hnh4+QbXr5GjKlDFq0rhnYacGDhyoYcOGuYCsR48eGj9+vKsWO//88/XEE08UtrO91h588EEXmp1zzjlbDKpXr17u4Ae7Ng/irNrMgrjFixfr0ksvdaeYfvHFF7LqtNq1a6tZs2ZFgriePXu6/dtuvfVWd8iChWt2qINV9fXv39+FgX/7299k77RlpnPnznV71dkeciNHjnR9WLRokfr06aNjjz3WPd/2qBs+fLirpnv//fe1zz77bNfYtj6btEAAgVQXIIhL9Rms2P4TxFWsP29HAAEEEEAAAQQQQGCrAkGwRhtjQxULvlNUnUqsimvf5jbNm1v0oIP4w58c3l9nnLm3++u3037TnXe8q6+mzNfC335X7TpVdOhh9XXLbQPUrtV1RZ5vIdk999zjQirbw82CLwvarrnmGrefWvw6+OCDNXbs2BLHYieSWpvigjj72c8//+z2hxs3bpzy8/O177776t5773V7xNm1aUXct99+q4suukhTpkxx1WubVsxZGGcVeVZdN2PGDBfO2fJWC++sSs8q3uyyk1mt2s4CPwsA69Sp44I7q6azU1o3vbZlbFudTBoggEDKCxDEpfwUVugACOIqlJ+XI4AAAggggAACCCAQTsCq4vJirypQrqLeLuFuCtHKgipfs+R5jZQdOVXRSPsQd9EEAQQQSF8Bgrj0nfuyGDlBXFko8gwEEEAAAQQQQAABBHawQBDElBf7nwqCT+WpviJevTJ5ox/MU6ACZUZ6KzNyRJETRcvkBTwEAQQQqGQCBHGVbELLeTgEceUMzusQQAABBBBAAAEEENheAT9YrrzY84oFU+WpQan7xW3tHVYJF+hXBVqvDG8fZUVPluf9cTgBFwIIIIBAyQIEcXwdiQgQxCWix70IIIAAAggggAACCJSzgB8sUV5slGLBNElZiqiFPO+vvdrCdCcIcuXrF0nZyvC6KSt6vDyvRphbaYMAAgikvQBBXNp/AgkBEMQlxMfNCCCAAAIIIIAAAgiUv4AfrFS+/65i/jfytUgR1ZenuvK8zFI7YwFcoCUKtEKe11wZXndlRg6T51Ut/0HwRgQQQCBFBQjiUnTikqTbBHFJMhF0AwEEEEAAAQQQQACBbREIAl+x4CsV+J/JD35ToGWScuSpmqRq8hR1jwuUL2mdAq2TlP/nktZmyowcqojXnj3htgWdtggggIAkgjg+g0QECOIS0eNeBBBAAAEEEEAAAQQqWMCq3GLBLMX8afJtz7dgrdv3TYr92bNMeaoqz6vuTluNel0U8dpu83LWCh4mr0cAAQSSRoAgLmmmIiU7QhCXktNGpxFAAAEEEEAAAQQQ2FIgCDbI12IFwXJJeZI8tw9cxIsvXc2GDQEEEEAgQQGCuAQB0/x2grg0/wAYPgIIIIAAAggggAACCCCAAAIIhBcgiAtvRcstBQji+CoQQAABBBBAAAEEEEAAAQQQQACBkAIEcSGhaFasAEEcHwYCCCCAAAIIIIAAAggggAACCCAQUoAgLiQUzQji+AYQQAABBBBAAAEEEEAAAQQQQACBRAQI4hLR414q4vgGEEAAAQQQQAABBBBAAAEEEEAAgZACBHEhoWhWrABBHB8GAggggAACCCCAAAIIIIAAAgggEFKAIC4kFM0I4vgGEEAAAQQQQAABBBBAAAEEEEAAgUQECOIS0eNeKuL4BhBAAAEEEEAAAQQQQAABBBBAAIGQAgRxIaFoVqwAQRwfBgIIIIAAAggggAACCCCAAAIIIBBSgCAuJBTNCOL4BhBAAAEEEEAAAQQQQAABBBBAAIFEBAjiEtHjXiri+AYQQAABBBBAAAEEEEAAAQQQQACBkAIEcSGhaFasAEEcHwYCCCCAAAIIIIAAAggggAACCCAQUoAgLiQUzQji+AYQQAABBBBAAAEEEEAAAQQQQACBRAQI4hLR414q4vgGEEAAAQQQQAABBBBAAAEEEEAAgZACBHEhoWhWrABBHB8GAggggAACCCCAAAIIIIAAAgggEFKAIC4kFM0I4vgGEEAAAQQQQAABBBBAAAEEEEAAgUQECOIS0eNeKuL4BhBAAAEEEEAAAQQQQAABBBBAAIGQAgRxIaFoVqwAQRwfBgIIIIAAAggggAACCCCAAAIIIBBSgCAuJBTNCOL4BhBAAAEEEEAAAQQQQAABBBBAAIFEBAjiEtHjXiri+AYQQAABBBBAAAEEEEAAAQQQQACBkAIEcSGhaFasAEEcHwYCCCCAAAIIIIAAAggggAACCCAQUoAgLiQUzQji+AYQQAABBBBAAAEEEEAAAQQQQACBRAQI4hLR414q4vgGEEAAAQQQQAABBBBAAAEEEEAAgZACBHEhoWhWrABBHB8GAggggAACCCCAAAIIIIAAAgggEFKAIC4kFM0I4vgGEEAAAQQQQAABBBBAAAEEEEAAgUQECOIS0eNeKuL4BhBAAAEEEEAAAQQQQAABBBBAAIGQAgRxIaFoVqwAQRwfBgIIIIAAAggggAACCCCAAAIIIBBSgCAuJBTNCOL4BhBAAAEEEEAAAQQQQAABBBBAAIFEBAjiEtHjXiri+AYQQAABBBBAAAEEEEAAAQQQQACBkAIEcSGhaFasAEEcHwYCCCCAAAIIIIAAAggggAACCCAQUoAgLiQUzQji+AYQQAABBBBAAAEEEEAAAQQQQACBRAQI4hLR414q4vgGEEAAAQQQQAABBBBAAAEEEEAAgZACBHEhoWhWrABBHB8GAggggAACCCCAAAIIIIAAAgggEFKAIC4kFM0I4vgGEEAAAQQQQAABBBBAAAEEEEAAgUQECOIS0eNeKuL4BhBAAAEEEEAAAQQQQAABBBBAAIGQAgRxIaFoVqwAQRwfBgIIIIAAAggggAACCCCAAAIIIBBSgCAuJBTNCOL4BhBAAAEEEEAAAQQQQAABBBBAAIFEBAjiEtHjXiri+AYQQAABBBBAAAEEEEAAAQQQQACBkAIEcSGhaFasAEEcHwYCCCCAAAIIIIAAAggggAACCCAQUoAgLiQUzQji+AYQQAABBBBAAAEEEEAAAQQQQACBRAQI4hLR414q4vgGEEAAAQQQQAABBBBAAAEEEEAAgZACBHEhoWhWrABBHB8GAggggAACCCCAAAIIIIAAAgggEFKAIC4kFM0I4vgGEEAAAQQQQAABBBBAAAEEEEAAgUQECOIS0eNeKuL4BhBAAAEEEECgUgkEQYF8zVMQLJEfLFagNZJ8SRF5qqmIV1+e10ARNZfnRSvV2BkMAggggAACCOx4AYK4HW9cmd9AEFeZZ5exIYAAAgggkEYCQfC7YsE0FfjfyA8WKNBaBVonqUCSJymQlCFP1eSphiJeU2VEuijqdZHn1UgjKYaKAAIIIIAAAokIEMQlose9BHF8AwgggAACCCCQ0gJBEPwZwH2kWDBHgVYrojqu+k0WunmZheMLgnxJ61wbid37UQAAIABJREFUXyvlqZaiXktlRA5V1Ossz7PAjgsBBBBAAAEEEChZgCCOryMRAYK4RPS4FwEEEEAAAQQqVCAINirff0sF/lfytUARNZanuvK8yFb7FQS+Ai1ToIXy1EQZkT2VGTlCnpe91XtpgAACCCCAAALpK0AQl75zXxYjJ4grC0WegQACCCCAAALlLmAhXF7sJRUEX7rlpxHtUqT6LWyHgiBPvmZLylKGt7eyoicQxoXFox0CCCCAAAJpKEAQl4aTXoZDJogrQ0wehQACCCCAAALlIxAEMeX5o1Tgj3P7vkXUIqFlpba81dcct49cRuQAZUWOD1VVVz6j5S0IIIAAAgggkEwCBHHJNBup1xeCuNSbM3qMAAIIIIBA2gsU+BOVF3vVHcYQUeuEQrg45h9h3E9ub7msaD9lRPZKe2cAEEAAAQQQQGBLAYI4vopEBAjiEtHjXgQQQAABBBAodwE/WKrc2NOKBd8pqk7yvIwy60MQFCimGcrwdlVW9GxFvJ3L7Nk8CAEEEEAAAQQqhwBBXOWYx4oaBUFcRcnzXgQQQAABBBDYLoF8/23lxV5XRA3lebW26xml3eQHKxVoqbKifZUZ6V3mz0/mB5511ln65JNPNGeOLdPlQgABBBBAAIHiBAji+C4SESCIS0SPexFAAAEEEECgXAWCYK02xh6XH/ygiKuG84p9/9q1uXrogY819av5+mrKfC1atEann7GXnnr61CLtzz37fxr530kljmHw4Jt14423FP5+/vz5uvHGGzVmzBitWrVKrVu31sCBA3XJJZcU6cusWbN06623asqUKVq4cKEikYhatWolC7ouuOACZWcn58msiQZxEydO1ODBg2X/gvL777+rWbNmOuGEEzRo0CDVqvVXaPr999/rySefdD7Wds2aNRoxYoTz4UIAAQQQQCDZBQjikn2Gkrt/BHHJPT/0DgEEEEAAAQQ2ESjwJys39j95ylHEq1+izdw5K9Sh7WA1bFRT3bo11dtvzSw2iJs4YY5m/7Jsi+c8OuRDfTVlkb6Y9Jz27v5HePfbb7+pe/fuWrt2rS6++GI1b95cH374oV566SVdddVVuu+++wqf895777m/77PPPmratKlisZjGjx+v559/XkceeaTeeOONpJzXRIK4sWPH6rDDDlO7du109tlnq2bNmvriiy9cwGZu9p/jwekzzzzj2rRt21YNGzbUp59+ShCXlF8EnUIAAQQQKE6AII7vIhEBgrhE9LgXAQQQQAABBMpVIC/2hvL91xRRO3leVonvzs0t0LJla9WkSS0VFMRUo8qgYoO44h6wfn2eWjb9p5q3qKqp34xUZuQI18yq3h577DF99tln6tGjR+GtF110kZ544glNnz5dHTt2LNXDAjx7xnfffaf27duX2DYvL8/9Liur5DHuCPhEgriTTjpJo0ePdhWAO+/819565vboo49q6tSp6tq1q+v2ihUrFI1GtdNOO+mDDz5Qr169COJ2xITyTAQQQACBHSJAELdDWNPmoQRxaTPVDBQBBBBAAIHUF9hYMFwFwThleH8EOmGubQ3inv/fFJ195kjdcfeeuvLKi5STMcC9pkuXLlq/fr1++umnIq+dNGmS9t57b91000267bbbSu2SVcldffXVsiWcVi1nl1WHDRgwQG+99ZarmvvPf/7jqu9s2aYFV8uXL3fLPS3ksp/Xq1dPxx13nG6//fYiyz0tIBw6dKgmTJjgwrDq1avroIMO0p133rlF6GcVenfccYeGDx+upUuXqlOnTu55L7zwQpE94vbaay+tXr1aP/zwwxbjslBx2LBh+vXXX9WgQQP16dNHn3/+uVuya0tx49ddd92l66+/XrYc1arlNr8I4sJ8xbRBAAEEEEgmAYK4ZJqN1OsLQVzqzRk9RgABBBBAIC0FgiBfG2P3yQ/mKup1CG2wrUHcUX8fqrGf/KTvZ5+qRg07KSd6jTwvog4dOrgKtWnTphV594wZM7Tbbru5IOqdd94p8jsL7uyfdevW6csvv5RVz2VmZrowr0qVKkWCOHuG/e60005zSzhtb7UaNWq4wG7ZsmU677zz3D5zVk1ngZtV31noFt9vzirPvv32Wx188MFq0qSJ5s2b54KyIAhkfaxf/6+lvPHKvN69e+uoo45yhzNY25YtW7r92uKHNdh7LrzwQhcQ7r///oVjs4q9xo0ba7/99itcZhsPGS1UvPLKK121mwWOtieeVbzZstziLoK40J8yDRFAAAEEkkSAIC5JJiJFu0EQl6ITR7cRQAABBBBIN4Eg2KCNsQfkBwsU9basrCrJY1uCuAULVqldq9vUu09HjRp9oCJeM+VEr5LnZbsqNAvaZs+erUaNGhW+zpZdWgjWuXPnLUK6W265xR3aEL8sVLNDCqy6Ln7FK+J23XVXVwWXk5NT+DsL7kaOHOkONLCDIeLXm2++qaOPPtotiT3//PPdjy3sq1atWhEGq2Szflk/rrvuOvc7O0jCKuD69u2rV155pXDfNtu37phjjlGLFi0KgzirhrOxnn766a7f8evll192QaH92a9fP/fj/Px8XXHFFXrqqacUX1prPzebhx56qEiV3KadJIhLt/8mM14EEEAg9QUI4lJ/DityBARxFanPuxFAAAEEEEAgtEAQ5Gpj7H75wa87LIi7954P9M8b3tJzL5ypvv3sQIgWyoleLc/L0EcffaTDDz9ctlzz/vvvd4cwfPzxxy58shDMAqzNl63+8ssvsn9seandb9V0tlTTqtbiVzyIe/DBB3X55ZcX/twq2WwZ6qGHHqrHH398CyerXvv73/+uUaNGbfE7O1AiNzfXVcPZ/W3atHGhm1133323rr32Wo0bN67IXnf2O6uy27BhQ2EQZz+zCj1bNrto0aLCkNACO1uGaktl4/vY+b6ve+65xz33+OOPL9z/zSrtLr30Utn4irsI4kL/V4CGCCCAAAJJIkAQlyQTkaLdIIhL0Ymj2wgggAACCKSbQBD4yo09rFgwXVGvc+jhb0tF3B5d/qXFi9Zo9vxblZE1U1Gvm7KjFxVWjT377LNu2aUdNmCXLS+1JZlWcWbLQe1AgtIuC6P+8Y9/6Jtvvik82CEexL3++uuuyi1+LVmyxO29Vtp14IEHyk4rtcv2hbOAzSrbVq5cWeS2Qw45xAWBdg0cONAtQ7XlrpseqmC/s6o/G0N8aar9zO6z01Btaekpp5wi65eN1ZasPvzww4Xvueyyy/Taa69p5syZqlq1auHPbX84Cx/t1FTbS2/ziyAu9KdMQwQQQACBJBEgiEuSiUjRbhDEpejE0W0EEEAAAQTSUSAv9qLy/XcUURe3b1uYK2wQN3nSPB2w/4M6f2APPfjIcfI1XZmRo5QVPb7Ia2zZpVW22Z+2r1tGRobby+3EE090hx2Udi1evFgNGzZ0hxfYYQl2xYO4999/31XcxS+rQLNloccee6zbW664q1atWurevbusGs0OdrCDE6xCz5ae2mENdmiCVdnVrVvXHcJgly1ltWWmVqVXp06dIo+1d3399ddFgjirqrNlsXbQwpgxY1xlm4WR9i8he+yxh7vfLOx955xzzhbVe7bc1vp47733atCgQVsMgyAuzFdMGwQQQACBZBIgiEum2Ui9vhDEpd6c0WMEEEAAAQTSViDf/0R5sVGKqIE8r2Yoh7BB3OWXvqxhQ8fp0/GXq/teteRrqbKiJyszckCp77HTTK2SbMSIETrrrLNKbWuVZrvssos7wCC+3LSkIM5ONrWKtX333dcFYKVdVmFnQVxxfbBDFSxEiwdx27o01d5rp8HaXnfz58/XEUcc4Za82jvjl1Xj2XvsQAmrttv0sko4G4NVxVnF3uYXQVyoz5hGCCCAAAJJJEAQl0STkYJdIYhLwUmjywgggAACCKSrgB/M18bYcAXBCkW9vw4vKM0jTBCXl1egVs1vUb361TV12rWKBT/K8+opJ3qeIl7jEh9vhxnYaaJ2MqotyYyfhGrLNzc9pTT+gGuuucZVhln4duaZZ7oflxTE2e+ses0OP7CwyvZ62/SyoM7eb1Vt06dPd4cyPP3007JTS+OXLaW1cPCggw4qDOLssAY7GMKq37Z2WEP8ORbA2Z50J598sluiuvl+dtYX28/OTnC151ulXvyKn9C6ecVf/PcEcen632bGjQACCKSuAEFc6s5dMvScIC4ZZoE+IIAAAggggEAoAavEyos9q4JgrCLaVZ6XWeJ9Qx/7TKtXb5DvBxp86xh17dpEfY/747TSI4/aTZ27/BWwjX51mvqfNEKD7zxKVw06QL5mKcM7XFnRUwv3h7Olon369HEBVrNmzdyebMOHD3f7xVnIZCeixi+rkLOln3Yog7VdtWqV3n33XX344Yfq2bOnO+TBlrTaVVoQZ8/u0aOHOwTijDPO0J577ikLvezvFqLZ3nS2HLSgoMAFcbb01Q5GsCWtVolm1Xq1a9d2fYhXxNk7rSLPTlzt3bu325fOKvXs7xa2rVmzpsjS1PiYrO17772nzMxMLViwwAVvm162V97VV1/tKv6sMq5mzZouQHz11Vedg+0153meu8UCxCFDhrj//PPPPzsDO301vtTVTlrdaaedQn0TNEIAAQQQQKC8BQjiylu8cr2PIK5yzSejQQABBBBAoNILFPjTlBd7QYF+V9RrU+J427e5TfPmFj20IN74yeH9dcaZfx0ccGK/f+vtt2box9k3q0GjxfJUW9nRUxWNdCp8vp1EatVlFnBZ4GWVaL169dLNN9/sTiXd9HrxxRdduGR7yS1dutRVinXo0MFVlFnIZH+PX6UFcfHQypaTvvzyy5o7d66rumvevLkL0WzvODutNR5o2f5wdmppfn6+Ww5q1Xfxk1g3DeIszBs8eLALEu3QBtvr7vbbb3d73Fm7TQ9riPfTxmSHNVgQaeFacZcd1mDVclYVZwdGWD9POukk3XjjjUUOcIgv0S1p8mbPnu1CQS4EEEAAAQSSUYAgLhlnJXX6RBCXOnNFTxFAAAEEEEBAkp2emuePUoH/kTw1UMQreuBAIkh+sFyBliozcrgyI8cXVnAl8szKcq+Fb1a1ZlV2ffv2rSzDYhwIIIAAAghsswBB3DaTccMmAgRxfA4IIIAAAgggkHICfrBCebERigXTFVFreV71hMcQBGvk6xdFvc7Kip6tiPfXPmcJP7wSPMCq/2wvOtsvLr6sthIMiyEggAACCCCwzQIEcdtMxg0EcXwDCCCAAAIIIJDqArHgJ3eCqh/8oIhayvO2f0+xIFglX3MV8dorK3qSol6rVOcpk/6vW7dOb7zxhr788ku35PSee+5x+8BxIYAAAgggkM4CBHHpPPuJj52KuMQNeQICCCCAAAIIVJCAnW6aFxstP/heUnVF1EyeFw3dmyAokK/5ktYr6rVTZrRf6NNYQ78khRvG93KrUaOG29/u8ccfd4c1cCGAAAIIIJDOAgRx6Tz7iY+dIC5xQ56AAAIIIIAAAhUo4AeLlR971y1T9bVEEe0sT/XleX8diLB594IgV4GWyNdyRdRAUa+LMqN/U8QrehJoBQ6LVyOAAAIIIIBAkgoQxCXpxKRItwjiUmSi6CYCCCCAAAIIlCxglW2xYLIK/Mnyg1/dgQtSIKmqPOVIikjyFWijpHUKFFFE9RXxmiojspei3p7bVEnHXCCAAAIIIIBA+goQxKXv3JfFyAniykKRZyCAAAIIIIBAUggEQb784EfFgu/lBwsUaKWCwMI334VxnpcjT3UU8Zoo6rVXxGsrz8tIir7TCQQQQAABBBBIDQGCuNSYp2TtJUFcss4M/UIAAQQQQACBhASCwCriflfg/onJU1Se7ECHGvI8L6FnczMCCCCAAAIIpK8AQVz6zn1ZjJwgriwUeQYCCCCAAAIIIIAAAggggAACCKSFAEFcWkzzDhskQdwOo+XBCCCAAAIIIIAAAggggAACCCBQ2QQI4irbjJbveAjiytebtyGAAAIIIIAAAggggAACCCCAQAoLEMSl8OQlQdcJ4pJgEugCAggggAACCCCAAAIIIIAAAgikhgBBXGrMU7L2kiAuWWeGfiGAAAIIIIAAAggggAACCCCAQNIJEMQl3ZSkVIcI4lJquugsAggggAACCCCAAAIIIIAAAghUpABBXEXqp/67CeJSfw4ZAQIIIIAAAggggAACCCCAAAIIlJMAQVw5QVfS1xDEVdKJZVgIIIAAAggggAACCCCAAAIIIFD2AgRxZW+aTk8kiEun2WasCCCAAAIIIIAAAggggAACCCCQkABBXEJ8aX8zQVzafwIAIIAAAggggAACCCCAAAIIIIBAWAGCuLBStCtOgCCO7wIBBBBAAAEEEEAAAQQQQAABBBAIKUAQFxKKZsUKEMTxYSCAAAIIIIAAAggggAACCCCAAAIhBQjiQkLRjCCObwABBBBAAAEEEEAAAQQQQAABBBBIRIAgLhE97qUijm8AAQQQQAABBBBAAAEEEEAAAQQQCClAEBcSimbFChDE8WEggAACCCCAAAIIIIAAAggggAACIQUI4kJC0Ywgjm8AAQQQQAABBBBAAAEEEEAAAQQQSESAIC4RPe6lIo5vAAEEEEAAAQQQQAABBBBAAAEEEAgpQBAXEopmxQoQxPFhIIAAAggggAACCCCAAAIIIIAAAiEFCOJCQtGMIC5dv4HA91Xw+3rlr1gjf32ugiCQF40oo0ZVZe5cU9Gq2elKw7gRQAABBBBAAAEEEEAAAQQQ2CYBgrht4qLxZgJUxFXST8LCtvxlq7Xu+1+1YfZCFazZoNiGXAX5BVIgyfMUyclUtEq2C+OqtW2iqm2aKFotp5KKMCwEEEAAAQQQQAABBBBAAAEEEhcgiEvcMJ2fQBBXCWc/f+UarZo4SxtmL1L+8t/l5+UrWjVHkSrZimRluBBOvi9/Y74L5/wNuYrWrKqsejup+q4tVbNb2z/acSGAAAIIIIAAAggggAACCCCAQBEBgjg+iEQECOIS0Uuye20J6toZc/X7pO+1Yd4SeRnRP5aeVsuRZ+FbCZdburpqnfKWrVa0eo6qtm6s2j12U3ajOkk2QrqDAAIIIIAAAggggAACCCCAQMUKEMRVrH+qv50gLtVn8M/+BzFfqz6fod+/+lF5S39XduM6bg+4bbkCP1De0lUqWL1OVVo2UJ1Duqpqq0bb8gjaIoAAAggggAACCCCAAAIIIFCpBQjiKvX07vDBEcTtcOId/wLbD27V+Bla/eV37lAGC9G8aHS7Xxxbv1Eb5y9VlRYNtPPf9nR/ciGAAAIIIIAAAggggAACCCCAgEQQx1eQiABBXCJ6SXLvuh9+1bJ3J7v94Kq0bOhORE30sr3jNs5bomrtm6r+cT2VUb1Koo/kfgQQQAABBBBAAAEEEEAAAQRSXoAgLuWnsEIHQBBXofyJv7xg7QYteXWcOx21SqtGimSW3SEL+SvXqmD1WtXat6PqHN6t1H3mEh8JT0AAAQQQQAABBBBAAAEEEEAg+QUI4pJ/jpK5hwRxyTw7Ifq28rNvtWLsNGXUrKbM2tVD3BG+iS153Th3iTJqVVP9o/dzS17T5TrrrLP0ySefaM6cOekyZMaJAAIIIIAAAggggAACCCAQQoAgLgQSTUoUIIhL4Y8jtj5XC1/4WBvmLFLVNk2KrVhbt3GDnnh7lKbN+VHTZv+gJatX6MSevfTQedcUGfnlT96jUePeL1HjujMv0J3PPF74+/nz5+vGG2/UmDFjtGrVKrVu3VoDBw7UJZdcUqQfs2bN0q233qopU6Zo4cKFikQiatWqlSzouuCCC5SdnZ2UM5BoEDdx4kQNHjzY7R3w+++/q1mzZjrhhBM0aNAg1apVq3DMzzzzjAYMGFCswX//+1+dfvrpSelDpxBAAAEEEEAAAQQQQACBdBUgiEvXmS+bcRPElY1jhTxlzbeztfTtLxXNyVRmnZrF9mH+0kX/P3vnAR5F2b39e2bTgITeQ+9dQHoVEUGKKAiKyodY+ftaqIqIDRQVGwqC2Hj1RUURQbp0pPcmoLTQayCkl92d+a77iRM2YbPZkBCyyTnXxQXJPjPzPL+ZXWbvuc85aDViIMoULY6GVWphxe7NboW47YcP4MTFs9ft45tlc7En7BAWjfkEXUY9Cf+iwTh79iyaNWuGmJgYPPfcc6hUqRJWrlyJX3/9FSNGjMCHH36Ysp9ly5apn1u2bIkKFSrA6XRiw4YN+Omnn9CjRw8sWLDglrDL6KBZEeLWrl2Lzp07o1atWnj88cdRuHBhbNmyBTNmzFDc+G9N09QULCFu9OjRqF+/fqpptW3bFlWrVs1oqvK6EBACQkAICAEhIASEgBAQAkJACOQgARHichB2HjyUCHE+fFLZoIGpqcoNl06DhkR7Eq5ER6Fc8ZJwOJ2oPLibWyHOHYb4xAQ0fv5BVChWCouHvo9SvVojuG4l5Xr7/PPPsW7dOlAssuI///kPvvjiC/z111+oW7euR7IU8LiPv//+G7Vr1053bFJSknotICAgR89UVoS4/v37Y968ecoBWKJEiZR5k9uUKVOwa9cuNG7cOJUQt3z5ctx11105ukY5mBAQAkJACAgBISAEhIAQEAJCQAhknoAIcZlnJltcIyBCnI9eDaZh4NwPq8COqYVqVfBqFZkV4n7buBLPf/EexvZ7EoPqtUeJLrejWNv6aNSoEeLi4nDkyJFUx922bRtatGiB1157DePGjfM4J7rkRo0aBaZw0i3HsNxhixYtUq6577//XrnvmNZK4ery5csq3ZMiF39fqlQp3H///Xj77bdTpXtSIJw2bRo2bdqkxLDg4GB07NgREyZMuE70o0PvnXfewddff41Lly4pVxr3N2vWrFQ14po3b47IyEgcOnTounVRVJw+fTpOnz6NMmXKoFu3bti4caNK2WUqrhXvvvsuxowZg3/++Ue55VzXTCGOHIKCguDv7+/V+ZRBQkAICAEhIASEgBAQAkJACAgBIZDzBESIy3nmeemIIsT56Nl0RMXi7A+r4IiIQVDFUl6tIrNC3ICJL2PjwT3Y9smPKHQ+BkVa1VVNG+rUqaMcanv37k113P3796NBgwZKiFqyZEmq1yjc8U9sbCy2bt0KuucoOFHMK1CgQCpRivvga4888ohK4WRttZCQECVUhYeH4+mnn1Z15uimo+BG9x1FN6veHJ1n+/btwx133IHQ0FCcPHlSCWVsPsE5li5dOmVuljOva9eu6Nmzp2rOwLFVqlRBdHR0SrMGHufZZ59VAmGbNm1Stqdjr3z58mjdunVKmq0lMrL22/Dhw1GkSBElOLImXpcuXVRarhWW+Mj18XgU7rhOCo5Mb5UQAkJACAgBISAEhIAQEAJCQAgIgdxFQIS43HU+fG02IsT52hn7d75JlyJVowYjIQmBZYt7tYrMCHHnroSjxbBH0KlRc3w/4m3E/nMKIY2ro+wDHZQLjUJbWFgYypUrl3Jspl1SBGvYsOF1It2bb76pmjZYQbHpyy+/VO66tKJUvXr1lAuO7jArKNzNnDlTNT9gYwgrFi5ciF69eqmU2GeeeUb9mmJfoUKFUjGhk43z4jxeeeUV9RobSdAB17t3b/z2228pddtYt+7ee+9F5cqVU4Q4uuG4VjZP4LytmDNnjhIK+XefPn3Ur+12O4YNG4avvvoKVmotf082kyZNSuWS++WXXzB//nwlujGNlW65jz/+GBcvXsTcuXPVPCSEgBAQAkJACAgBISAEhIAQEAJCIPcQECEu95wLX5yJCHG+eNYA3GwhbsqCWXh39jeY/txr6NmiQ7IQd1t1lO3XAatWrVL1zJiu+dFHH6kmDKtXr1biE0UwClhp01aPHTsG/mF6Kbenm46pmnStWWG5wz755BMMHTo05fd0sjEN9c4778TUqdc6t1oD6F675557MHv27OvOJhtKJCYmKjcct69Ro4YS3Rjvv/8+2CRh/fr1qWrd8TW67OLj41OEOP6ODj2mzZ4/fz5FJKRQxjRUpspadewMw8DEiRPVfvv27asccStWrFBOuxdeeAFcn6e4cOECKEayyQOZWY0dfPRSlWkLASEgBISAEBACQiDXEzCS7LBfiVZ/nNHxYBkY6BpsBYPgXyJENUazBeVszeJcD00mKATyMQER4vLxyc+GpYsQlw0Qb8Uu7FdjcO7HVXBExiGoQkmvppAZR9wdo5/ApcgI7PxsFgL8/BH3zykUaVkHpe9NTsv87rvvVNrllStX1M9ML2VKJh1nTAdlQwJPQTHq5Zdfxp49e1IaO1hCHB1idLlZQXcYa695ig4dOoDdShmsC0eBjc62iIiIVJt16tRJCYGMIUOGKHGM6a6uTRX4Gl1/XANTVa3gdnSuMbX0oYceUq41rpUpq59++mnKuBdffBG///47Dhw4gIIFC6b8nvXhKD6yaypr6XkKdp+lM861npxXJ1kGCQEhIASEgBAQAkJACHhFgA9qk85HqJrLcUfPwhkTD2d8IoxEO2CagKZBD/CDrUAg9IJBKFi1LArWqqDuvTWXOsBeHUwGCQEhkKcIiBCXp05nji9GhLgcR549BzSdBs7+bzniw86rrqnehLdC3O5j/6DHm89hUOdemDDoBRh2BxJOXEDxzk1QvMO1VFKmXdLZxr9Z183Pz0/VcuvXr59qduAp6PoqW7asal7AZgkMS4hL20GUDjSmhd53332qtpy7KFq0KJo1awa60djYgY0T6NBj6imbNbD2Gl12JUuWVE0YGExlZZopXXrFi6dO7+Wxdu/enUqI480a02LZaGHp0qXK2UYxkh/CTZo0UfskCx7vySefvM69x3RbzvGDDz7AyJEjPfL57LPPQEEvbU06b86zjBECQkAICAEhIASEgBDwTIAPta9uPIC4Y+dgvxwFOA3YQgpAp+gW6A9N1wDDhJHkUOIcRTrTMBFQojCCKpVWDcwCShcVzEJACORTAiLE5dMTn00JFi6/AAAgAElEQVTLFiEum0Deit1cWrwVERv+QqFaFZNvFjIIb4W4V7+fjP+umI+Fb0xGk+p14IiMhSMmHqV7tkJwgyrpHoXdTOkkmzFjBh577DGPs6HTrGrVqqqBgZVump4Qx86mdKy1atVKCWCegg47CnHu5sCmChTRLCEus6mpPC67wbLW3alTp9C9e3eV8spjWkE3Ho/DhhJ027kGnXBcA11xdOx5CqawTp48WaX4utbEy+gcy+tCQAgIASEgBISAEBAC6RPgvVvswZOI3Po34o9fgOZvQ0DJIioFNaNgbeaky1Ew4hIQVKEUQprWROGmNcQdlxE4eV0I5EECIsTlwZOag0sSIS4HYWf3oaJ2HEL4sh3q6Z1/keAMd++NEJfksKPpCw+hZOGiWPPeN2qf8ScvwL9YCMr264iAUkXcHofNDNhNlJ1RmZJpdUJl+qZrl1Jr45deekk5wyi+DRo0SP06PSGOr9G9xuYHrLXGWm+uQaGOx6er7a+//lJNGb799luwa6kVTKWlONixY8cUIY7NGliLje63jJo1WPuhAMeadA8++KBKUU1bz45zYT07dnDl/unUs8Lq0Orq+GNqb1o3HsU3OuyY9srOsBJCQAgIASEgBISAEBACWSdAES5q+yFc3XJQpaQGlisBv8LXyoh4ewRnXAISTofDv3gICjepgWLtG0Kz6d5uLuOEgBDIAwREiMsDJ/EWLkGEuFsIP6uHdkTF4tysNUg8dwUFq13rXpp2vzOWz0NkXCxM08CHv32PBpVr4J5m7dSwu5u0Rr1K1VI2WbxtHZ6aPA5j+j+B//R8SKWlxoedQ5GWdVGqR0vVOICpot26dVMCVsWKFVVNtq+//lrVi6PIxI6oVtAhx9RPNmXg2KtXr+KPP/7AypUr0a5dO9XkgSmtDE9CHPfdtm1b5RAbOHAgbr/9dlD04s8U0VibjumgDodDCXFMfaWrjCmtdKLRrVesWDE1B8sRx2PSkceOq127dlV16ejU488U26Kjo1Olplpr4thly5bB398fZ86cUcKba7BW3qhRo5Tjj844Nl2ggMguqOTAWnNWAwY2uuDvmNpL1x+FN6vbKt1/rs0ssnq9yPZCQAgIgdxKgF+OgWgYuAjTZO1ROwB+qS0IXSsFDaWgaf65dfoyLyEgBHyEQNSuI4hY/xeSLl1FgSplofsn34PeSLBMTPyJC7AFB6Foizoo2q6BNNi6EZCyjRDwUQIixPnoicsl0xYhLpeciBudxuUVO9UNRUCZYvALLuB2Ny2HP4rT4RfcvvbxUyPxYPuuKa8N/uR1rNi9Bdsm/YCyxUoi4Uy4qpNBEa5QrQpqHDuR0l1GgYuCFx1dXbp0wRtvvKG6krrGzz//rAQ21pK7dOmScorVqVNHOcqef/559bMVnoQ4jqHrjemkc+bMwYkTJ5TrrlKlSkpEY+04dmtlHD16VNWHY9dSu92u0kHpvrM6sboKcRTzxo8fr4RENm2gIPb222+rGncc59qswZon18RmDRQiKa65CzZroFuOrjg2jOA8+/fvj7Fjx6Zq4MAacxQjeRxyZQ07uvZYO69Ro2v1+G70+pDthIAQEAK5mYBpRsNp7ofD2AsTF2CasTARD8AJgCUX/KGhEHQtBLpWEzb9NuioAk0T50luPq8yNyGQGwnwwfXF+RuVk40PsDU/W5anyc6qrNfsX6IwSnZrjkI1vavbnOUDyw6EgBC45QREiLvlp8CnJyBCnE+fPqjishfmbVA1LgpWL5+ttnjWhUs8fwVFbq+Z7IazZf2Gxcdxq+lTfOvTp49y2fXu3TsvLEnWIASEgBDIUQKmmQSHuQEOYysM8zxMRCjBTUMwNPChUvL/NyYSAVCci1E/aygDXauKAFsX6FqlHJ2zHEwICAHfJcCGC5cWbELU7qMIqlhKdUHNrlDZI8fOoVCdiihzfzvYCmVcay67ji37EQJC4NYRECHu1rHPC0cWIS4PnEXeVFxZtUt1dAqqWDpbbPHJNxXnUaBqGZS+r63qECWRTIDuP9aiY704K61W2AgBISAEhIB3BAzzDJKcS2GY+2EiUolrGkpA0zw/7DHNOBiguztaiXF+ehv4aR0kZdU77DJKCORrAtH7whC+dBugaQgsUyzbWdgjouGIjkeJTrehaJv62b7/tDu0skjCwsJUORUJISAEcp6ACHE5zzwvHVGEuDxwNlmj4vLKnYjaeRgwgMAKJbMkxvGpYfzxcwgsWxzFOzVGcL3klM/8HLGxsViwYAG2bt2qUk4nTpyo6sBJCAEhIASEgPcEnOZRJDl/g2EehIZi0BCa6TRTpq8aOKa299Nbwl+/F5qWfe4W71cjI4WAEPAFAkwfvfDbekTvOoKCNSukmz0SmxCPLxbPxt7jh7E37BAuRl5Bv3ZdMOnpl65b5pnLFzFp3kysP7ALF69eQckixdCsXHUMf+QJtB06UJV1sYJlUFgihWVQ+BCX9YpZ15j3kTaXbJPt27dj5syZqpYwBbZChQqhfv36eOWVV3DXXXelmkNWhDjDMDBu3Dg0btxYlVnJSnA93BdrP7NmdJkyZVSJlVdffRW1atVK2TXLr7CG8o4dO8B1st40m7VxHRJCwFcJiBDnq2cud8xbhLjccR6yPAsjyY7LK3chZl8YnHGJqqW6602AtwewR8Ykd5EqXwLF2tZHyG3Vvd00T49jDTc2XwgJCVH17aZOnaqaNUgIASEgBISAdwSc5gkkOX+GYf79b523G3das/kQxTjAD/56O/jr90HTbrzouncrkFFCQAj4IoGEU5dwYe765Pvj0JLpLuHUpfNoNWIgyhQtjoZVamHF7s1uhbgr0VHoPOYpJDns+H+de6FSqbI4fuEsvlsxXz0I37poJWp3uta47Nlnn8W0adMwePBgtGnTBhs3bsSMGTPA33/++ecp83nggQewdu1a9O3bF02bNlW1gzmOWRi872SDMSuyIsSxsRnvYbMqhLEZG2srJyUlqbnxPplN1LhWcti3bx/YlIxh3UeziRobri1cuDDLx/fFa1HmnLcIiBCXt85nTq9GhLicJn4Tj8d00sgtfyN67zEknr0MvyKFVPHYjDpCsVudEZ+IpIuRqrNqgcplULR1vZTmDDdxyrJrISAEhIAQyAcEmFaa6JwBp7kdOqpB00KyvGr1fxeOqNpyAbZ74acndwOXEAJCQAi4Eojc/g/Cl25HQMkiHuu3JdqTQJGtXPGScDidqDy4m1sh7r8r5uPV7ydjxrBxuLtJ65RDLdy8Fs9MfRvvPDsSYz7/QP2eYtRtt92mGpR9+umnKWNffPFFTJ48GXv27EHDhg3V7zds2IBmzZqlamQWHx+vnGtseHbx4sWUkii5QYijOMhmafPnz0evXr1S1samahQVmUFiNUpLTExUTdFCQ0ORXUKgXOVC4FYTECHuVp8B3z6+CHG+ff7czj7h1EVEbDyAxDPhsEfEQA/wUzceeoFA6AH+yY3oDBNGQpKqK+eIjlONGAJKFkbBmqFKhPMLKZgHyciShIAQEAJC4FYQsBuLkeRc8m8H1LLZNgXTdMKJ/bBpNRFoGwxdy759Z9skZUdCQAjcUgLhy7Yj4s996h5X073ruOxJiJuyYBbenf0NFr85BbdVq52ytu2HD6D3+Bcx8ekRGDX9Q/V7pmhOmDABx44dU44xK5h6Wq1aNYwZMwbvvPOORz4jRozAxx9/jJMnT6q0VoY7IW7dunXKjbZp0yaVJhocHKzSRHn82rWT52k509IekOPWrFmjfs1U2s8++0y58Q4dOoQCBQrgjjvuUPupW7duyqbvvfeeSpvdtm2bEhCt4PHp/Js+fTqefvrp69YmQtwtfTvIwbORgAhx2QgzH+5KhLg8etJNh1O1U485dAqJp8OVHZ9/TLsDME1A11Xqqq1gIGzBBVCoRigK1qqAgDJFs1RfLo/ilGUJgVxPgG5Wdp40zYswEUu1XXWe1LSi0FEaYDdKjSq8hBDIWQKGeRqJzm/AJg066mb7dWiaUTBwCv76XQiwPZizi7vFR3vsscfUl2d+uZYQAkLAPYGzP65C7MGTmcr08CTE7T72D3q8+RyaVq+L1wc8jQoly+L4xTN468fpiImOxsLXPkOdIfep++yuXbsq1xtroqUN1lNr0qQJli5d6vHUDRgwAL/++iuuXr2q6sYx3AlxdN3RgUfRjM4zCncUw+ge3r9/P0qXLg3WPKZjjWmp7du3TxHKOBc2I2P069cP8+bNw8CBA9GiRQswBZXuN25L0a1mzZpqHP/N11u1aqXqv7FpBFNThw8frtJq+XrhwteXIBAhTt6peYWACHF55UzemnWIEHdruOfYUfmfrzMmAfYrUbBfjoaRkAjTMFWhWr/CBeFfvDD8i4fcUD25HFuEHEgICIF0CRjmeTjNvXAaB2HgKmDGwEQSABOADg0FoGkFoaE0/PQGsGkNoWk3XptLToUQyCyBZDfcfOiqMYP7lNSYmERM+ng1du08hZ07TuH8+Wg8OrA5vvr24VSHe+rxHzHzf9vSncL48aMxduy7Ka+zkPjYsWPVF11+ia1evTqGDBmi0sRchemDBw/irbfeUoXE6STRdV25VSh0sfZRYGDubAaRVSFu8+bNGD9+PPhlIioqSrltmFI2cuRIFC1aNBVnps2REbehY4YCwmuvvaaEBgkhkJsJnJmxFPEnLqJg9fJeT9OTEMedzFy9CO/N/hYRMVEp+2xVuyGmPPAcSoWWQ/mBd8EvuIBKOw0ICFCfLWmDdeDsdrsSz9ILfjYxNbVnz55KQLPCnRBHocwS6qxxdLRxDm+++aZyrzE8CWGzZ89G//79wb/5WWDFmTNnUK9ePXTv3h0//fRTyu+//PJL5eqjWGdFhw4d8Ntvv6FEiRJulyVCnNeXoQzM5QREiMvlJyiXT0+EuFx+gmR6QkAICAF3BAzzMuzGSjjNgzDNCzARD42uNxSChiAwB50VtIB4mKA4FwcNRVXqnp/eFH5aB2gax0kIgZtHgB1OE5yfwzAPQUf9dN1wJ45fQZ2a41G2XGE0bVoBixcdcCvEbd50HGHHwq+b8JTJq7Fzx1ls2TYVLZolFzQ/e/asSpeiM+O5555DpUqVVGc/OkuY6kUHhxXLli1TP7ds2VIVF6fQROGJXzh79OihumbnxsiKEMei8J07d1adDR9//HHlXNmyZYtKRyM3/tsSK5cvX66+gNPx8tRTTylhkt0d+SVk7ty5uPfee3MjHpmTEFAEzsz4A/EnLmSrELdk+3r8b9VCdGzYDFXLlMfB02Gq42rNUqGYOfRt1HyqlyoLQ/GfbjM2aEgbTN9k3Te6yNxFZGQkWrdurR4O0FXHzzArMqoRx8891mXjA/k777wTNWrUUOIYw5MQ1qdPHyW2792797opPfLII+o9z3p1VvD9/8UXXyhBnsegqMgOsWzi8Mcff1wnDGZ0fLlkhYAvERAhzpfOVu6bqwhxue+cyIyEgBAQAukSUC5Xcwccxho4zcMq/VRHGQCFPab8JaeuXoYJpscEw6bVhb+tK2zatZo1gl0IZDcBp/EPEp3fqt3qWrl0d5+Y6EB4eAxCQ4vC4XAipMBIt0Kcux3ExSWhSoXXUalyAWzf9SGC/J5Qw+h6Y0dC1k1q27ZtyqYsLs4vjuxE6FrvyN2+KeBxH3///XdKjSV349g1kEHnS05GVoQ4ul6YfsYv+a7OFXKbMmUKdu3apZw4DDpqKBj8888/KU45fpmnYHflyhVV/8rPT7rW5uS5l2N5T+DcrNWI2X8chWol11fzJjw54hZvW4f/m/oOlo6bhroVr/0funbfdjz8wSt4pc9gvP3TdFWX+UYdcWzSQHGL6Z109LKGm2u4E+L4Xh49erR6cBAREZFqfKdOnbBq1Sr1O09CHF1vdOF5Cj6ooGuYwt6DDz6oxDmr4QS344MNzv3999/HSy+9dN2uxBHnzRUoY3yBgAhxvnCWcu8cRYjLvedGZiYEhIAQSEWAYprDXAm7cy0MsN5WJehasUxRopBn4hxMXIKu1USAfi9seoNM7UMGCwFvCdiNdUhyzoKOsl53Ss2sEPfTjzvw+KCZmPB+Kwwd3gtBtmHQtAJo1KgR4uLirnObWHWNmFY5btw4j0uhS27UqFHKIUK3HMP6Arxo0SLlmvv++++V+46pZxSumKLFdE+KXPx9qVKlcP/99+Ptt99Ole7pTWF1a3L84suC7l9//bVyo9SvX1/tb9asWalqxDVv3hx00TAdLW1QVGS9qNOnTyuHTrdu3ZRLhym7/FJtxbvvvqtSzSi60S1HoY1C3RNPPKGO7xp0vvCLNp2GdN1ICIHcSODy8h24snYvCtYIVaVZvAlPQlzfd4bjcnQk1rz3zXW7qvVkL7Ru2ATLtyc74G6kRhyFfbpMKZxR7GJaatpIK8QZhqE+f/j+HjZsmPqMYLMGvrfZubRkyZIpzRg8CWF16tQBj8+U0/SCTlq6ZSkO8vPowIED1w2lw5YpqgsXLrzuNRHivLkCZYwvEBAhzhfOUu6dowhxuffcyMyEgBAQAikEKKA5zFWwO1fARDh01IKm+d8wIaYMOnEENq06AvQHYNPr3PC+ZEMhkB6BJOdvsBsL/01LtXkFKrNCXM97pmHtmiM4FPYUypQpgSC/IdC1iuAXSjrU0qZYsWg506YoRC1ZsiTVnCjc8Q9rLW3duhV0z/n7+ysxj50DGdYXYO6DrzFdi19KWU8pJCRECXbh4eGqCDrrzNFNx06GdN+xm6BVb86bwurW5CxnHr/U80s5mzNQVGOqaHR0dEqzBh7n2WefVQIh096s4Bfr8uXLqzQ3K83WEhkHDx6siqsXKVJECY6sicei7VYdKBaZL1eunHIYspOia9AtyLmxe+LLL7/s1fmVQUIgpwlE7TyMS0u2qZrIrNvmTXgS4tq/NFjtYt3EGal25Uy0o86z96NVk9uxcssG9RpFbYrb3nZNpUjFzxK+T3/44Qc89NBDbqebVohj6iqFOKaW0ynrGnzvU1R37YpKBysbNnA/rtGrVy81jgI8P988hdWJlaK9a/B+hZ+F7dq1c9uIQoQ4b65AGeMLBESI84WzlHvnKEJc7j03MjMhIASEQAoBNmNINGbBVJ0n60DTsp4GZppxMHAYNq0BAmyPZ9pdJ6dHCGREgG44u7EUNi05xdGbyIwQd+bMVdSqNg5du9XFr/N6qSYlgX5PwabVUC40Cm1hYWFKSLKCaZcUlZhKlVakY0FzNiSwgqIanSF011lhfQFmChddcEFB12otUrizaqexNpQVdIXwCy5TYp955hn1a28LqzNNjO6W3r17K3eMVbeNX9TpmqlcuXKKEEc3HNf66KOPpnK0sMg7v9zzb9aAYrBIPJ0zX331lXLAWEE2kyZNSnHJ0WlDVx8bOTBd1bXJhbVPdyKdN+daxgiBnCCQeO4Kzv/6J5wx8QiqUMqrQ3oS4gZ/8jqW796MeWMnoVnNein7m7d8Cf7zv48xasjzmDgtWbSmQMbGJnyPfPrppyljX3zxRUyePBm7d+9O+Xzhe+3hhx/Gzz//rN6/rMeYXqQV4phqz8+0b7/9FhTXrfjuu++UMEf3miXE8TV+blHY//3331MdggI85/DGG2+oBg9pgynq7L7K4GcSP4co/FPkt4J1ONl59dVXX1XO3bQhQpxXl6AM8gECIsT5wEnKxVMUIS4XnxyZmhAQAkKABEwzRtXZcpq7/hXhsq+Do2FegYmL8NfvhL/+ADTNu7QdOTNCwBsCSc6fYDf+uGlC3AcTV+D1Vxfhh1mDcF+fsqmEOKZ13XXXXWC65kcffaSaMKxevVqJTxTBKGClLZJO1wr/ML2U21Ooo5vljjvuSFmu9QX4k08+USlfVtAFQsGKKZpTp069Dg/da/fcc4/qRpg2PBVWZ50l1n1av359qlp33AdddqwlRYecFXToMW2WTjZLJKRgxzRUpspadez4pX/ixIlqv3379lWOuBUrViin3QsvvACuzwp+KWcaL7/Q0z3HfTAll646inju0la9uT5kjBDICQJ8b178fSOith9SDRs0v/TduTOWz0NkXCxYCuLD375Hg8o1cE+zdmqadzdpjXqVqmHb4f3oN2EkAvz9MahzL1QuXR4HT4Xhh9WLUCy4MHbt24PyFSukLI2dmvm+okDGepUUruhcoyhPcd4Kvrf4vqNo9uSTT16Hhk5VppUz0gpxFLcoxF24cEG9fynIs+EKU+SLFSumhHRXIY5uNQrrfPDAz0aKa/zsIqsBAwYoMfDuu+9W7li6206cOKHcbXwAwYcNDH6m8LORLl86cfnwgc0aKCIWL15c7b9sWX4uJwcfgjAVnp89/EyhQGk9GOBnlOsDj5y4LuQYQiCrBESIyyrB/L29CHH5+/zL6oWAEPABAnZjOZKc86EhBLqW/CQ6O8NpHoGGIgi0PQqbXjc7d52r95WVQve5emG5aHJJzjn/pqY29FrkzYwjrkmj93DhfDTCTr0F/wA2Ign4NzU1ubsg3SD8css0KwbTSyke0ekRGhqqvih6Cn4pZsolXS1WYwfrC/D8+fOVy80KOkWsL8np7ZM1k9itlOFtYXXrSzzTXV2bKnAfdP1xDa5CHAVE1nCis4VpbZwX18ovymkdOXTDsL5TwYIFU6ZspdLxS3yLFi3U71mjjrXy+EWaTjoGv7yzzh7FBAqSrsJdLroEZSpCQBGIOXgS4Uu2wrA7EVS+RLpUWg5/FKfDL7h9/eOnRuLB9l3VawdOHsMnv8/E3rBDuBBxGUUKBqNd9QYY9+abaNi7c6rtKZJR9GaNRdZw43uHQhvrK7o2OaGoZX0+uJsAHyRYDwXcNWs4evSoetBAcZ3v01atWqkOptYDA1chjoIZHbx09TId39UxRzGOYhrddUzl589Mb6V4R5eea9o7H1ZQpN++fbsS+inAUbyjE44PO1yDDyMo6LkLdym1cukKgdxOQIS43H6Gcvf8RIjL3edHZicEhEA+J2Ca8Uh0ToXT3A8dFDO064jExCRi0sersWvnKezccQrnz0e77Tj51OM/Yub/tqVL9K1x/fH6az+nvH7q1CmMHTtWPQXnU2w+7aYowBQb13kwdY5P1XlDT3GBxaFZG4tCF+tNWTWxctupzIoQ5+kLBdfp6l7KzNjcxiir87Eba5Hk/AU6ykHTgr3anbdC3PZtJ9G+zSd4ZkhbTJr8AJzmIeha6L/NGq4JS3Rs8csi/2ZdN37xpcODqVNsduAp6C6ho4PiFJslMKwvwMuXL1eOOyusWmr33Xef+oLrLooWLao6jWamsDqFLn4ppkuPX3Jdg8diapurEMcvzXyvsiYU37sUyChG8gsDHSgMsmAhd4oBad17fB9zjvwCP3LkyFTH4+cAv5jzPc16VHTQ0eXH2nT8bJAQArmVgOl04tLCLWC9uICyxb2uFefNeoxEO+KPn0dwgyoofV9b2IJytnuyN3OUMUJACGQ/ARHisp9pftqjCHH56WzLWoWAEPA5Ag5jB5KcPwLwh65dS/FwXciJ41dQp+Z4lC1XGE2bVsDiRQfcCnGbNx1H2LHw6xhMmfynEvA2bHkGrZq/BV0ro55s88s4U+ZYjL1SpUqqMyJrv4wYMUK5iqxYtmyZ+pn1tPikn+4Zpt7QkdOjR4+U4vC5DX5WhDim+5BN2rCER9cUwMyMzW2MsjofVdvQ+S0AW7rXb9pjeCvEDX1hDqZPW48/NwxFs+aV4MQe+GltEeSXfl0lHovng04ybxwYFLiqVq2qBGVLsEpPiON1T8caXSgUwDxFZgqrZzY1lcelQ4XiOMX07t27K0cLj2kFBXM6XNhQgilzrkEnHNfAlFymxHoKOm3YwIEpvhTfJYRAbiaQFB6pUlTjw86jQNWy0ANuvOGRtU4KfHFh5xFYphhK9WiJApWTU0clhIAQyPsERIjL++f4Zq5QhLibSVf2LQSEgBDIIoEk51wkGfNhQ/10GzQkJjoQHh6D0NCi8FbEsKYVF5eEKhVeR6XKRbBl50MItD0CP72Fcr2xI+K6detS1aWi04c1bVgY2krVS2+JVqdHdo20uqu5G2sVirdqV2URmdebZ0WIc3cQuuDat2/vtrtk2vGZGev1gnLhQNOMQoLzcxjmMdi0+l7N0JtrOCnJgWqV3kSp0sHYtXc0eBwD5xBg6w1/vVu6x2EzA6ZVMRWLKZlWJ1TXAuSuGzN1jM4wim/sMMhIT4jja3SvsfkBnWKst+QaFOp4fLraMlNYnY5T1mWi+y2jZg3W8SjA0Yn54IMPKkE8bT07zoX17Ohs4/7p1LPCet+mdfylhUqXIQU71nbKyFno1YmXQUIgBwgwRfXK6t1IPHsZBaqUhR5442Kc4XAi4fh5+BcvjKJt6qFI89o5sAI5hBAQArmFgAhxueVM+OY8RIjzzfMmsxYCQiAfEKCLJTktdTts2m1erdgbEcN1Rz/9uAOPD5qJd9/vjueHlYe/fh8CbD1U0WSKFWmL2W/btk3VjWJtKLpuPAVdcqwrtXnzZuWWcxUxWEyerjkWfKd7jOlwTHVj+t348eOVa4m/p1hA9xLrzbiKBRQImQ63adMmlQ7LNDvWuJkwYcJ1oh9FB6YVsj7PpUuXVAdK7o/iAWvmWGl9LOpPoeTQoUPXLYviBJ1DrO+TXh0w1s7hMVgr5/bbb/fIJjNjvTrxuXhQkvN32I1F0FEZmlYo3ZlO+3wdIiPjYRgmxr+1FI0bh6L3/cndSnv0bICGjcqnbDtv7l4M6D8D4yf0xMhRneE0D0PTSiHI9jR0LXkcU0W7deumBCwWKud1wvPDenEUmaxrkmN5jfHaY/0ljmUK5h9//KFcoKyLxNpMVi0nT0Ic981i7HzfDBw4UF0HvP74M0U01qZjOmhmC6vTkUcBnF0OWZeO1yx/ptgWHR2dKjXVgsSxdKv6+/vjzJkz6r3kGtb7k44/OuMKFy6sBMS5c27umqYAACAASURBVOcqDqw1Z6Wgs8EE60V16tRJuf6Ynsp0WdaAYk2rkiVL5uIrUKYmBFITiPnrOK6s24fEM+EIKFkEfsVD3JZ98MTNERmLxPNXEFCmmBLgirRkN/PrS0cIeyEgBPIuARHi8u65zYmViRCXE5TlGEJACAiBGyCQ7Cb6FIZ5Hjatpld7yKwQ1/OeaVi75ggOh72BkmWOwU/riCC/wahTp47qjEjXi2vwCzjrbFHgWLJkSarXKNzxDztSbt26VdXJoghAEcJyHlkiBvfB19jhkV9eHnjgAVW3i+IIi9JTGGCqG910FNzovqPoZtWbo2OPxaYpGLAQ/cmTJ5VQRvGSc2QHOCsshw+FiZ49eyrRgmPTihg8DgvaUyB0LUZNxx7T+Fq3bp1umi07V7JLHUUczstTZGasVyc9lw9ymmFIdP4XpnkROmql+2W1do1xOHkiwu1qvvx6AAYOSm4cwOjX5xssXrRfXbflyvnBwFH4aZ0RYHs4Zf9MHabrkamWrPVmFRFnt74aNWqkOg47BPLa5PVOsZbXGd8DdJTxWnOtc+hJiONOKeYynXTOnDmqMDmvfaZ28/rje8IqYJ6ZwuoU8yhQU0jk+4PvH3disuuiuCY2a6AQSXHNXbBZA91ydMVFRESoefbv31/VhnRt4MCGEKwXRz5RUVHqOmeNvVdeeUUJeBJCwNcIMD01YuN+VdvNtDuVIGcrXNCjmMb/X5yxCbCHR8I0TBSoXBpFWtRBobqVRITztQtA5isEsoGACHHZADEf70KEuHx88mXpQkAI5G4ChnkJCc4pgBkJXavi1WQzI8SdOXMVtaqNQ9dudfHb70/Bae6FTWuKIL/nlEOIQltYWJgSmKxg10QKEw0bNrxOpKPbh3WprKCoRtcM3XVWWCIGU+3oggsKCkp5jSLFzJkzVVF5Fpu3YuHChcoFRAcQU/8YFPsKFUrtrqKTjfPiPCgQMCgw0AHXu3fvDNP6KKBwrY8++qiatxUUVCgU8u8+ffq4PQ9M/3v44YfdFrhPu0Fmxnp10nP5IH55tRvzwO6/GopB11I7s7IyfdM0YGA/dK0qAm2DoGsVs7K7PLUtxTder3SX8vqXEAJCIDUBZ1wiIrf+jdh/TiHpchSMuETYCgZBLxAAPTAAmq6phztmoh3O+ERwvB7gB/8ShVGgWjkUa10PfkXSd/neDN5KDIyOg/1KNOwRMTDtDkDT1Lz8igarudkKBYkweDPgyz6FQBoCIsTJJZEVAiLEZYWebCsEhIAQuIkEbrYQ98HEFXj91UX4YdYg9OnbGE5zH2xaEyXEMS2NHSGZrvnRRx+pJgxMzxs2bJgSwejqSZu2euzYMfAPU/y4Pd0zLPhO15oVlhCXtmYVv1wwdY51tdJ2ceS2dK+xOyNT5NIGnU+JiYnqCxO3p9uJaYCMzBa6p0OPabNMa7REQtbA2rhxo0qVTa+OHR2CTOtj6iq7bHqKzIy9iZdXju6a7s5E5ww4zd3QUROadq2r6Y1OhOfbwHFosMHf1hP+euqabDe637yyXZcuXVQtOtaLs9Jq88raZB1CIDsJ2K/GIO7wGcQePgOmnBrxiWAnVLreKMZp/n6wFQyEX0gBFKhWHoVqV1CCV06molIEjDtyBrGHTiPpUqSaozM+CTAMhUKz6dALBMJWIBABZYuhUK0KKFi9fJZq4GUnY9mXEMiLBESIy4tnNefWJEJczrGWIwkBISAEMkXANCP/TU29BJt2zSHmaSeZccQ1afQeLpyPRtiptxAY6AeHuRt+WjsE+T2pDvHdd99h+PDhqqYWgyl2rCtFxxnTQZmu5ikotr388suqW6PV2MES4ubPn69cblawWH56tdesMR06dFD1qBis98WOjgsWLFApda7BOlYUAhlDhgxRaahM52NtK9eg649rsGrE8TVu17lzZ1Xgnml9nBfXypTVTz/91O1yORem6jH1kCKep8jM2ExdLD4w2GkcQpLxq6rnZkMNj/XiMlpOsgh3AoAdflobBNj6QdMCMtosz79OkZzvCaaG8/03ceJEVadRQggIgYwJpLjNLkfDERMP02koIY4OM//iIcr9pul6xjvKxhHsyhq97ziidh5WKbGOyDjYCgUq0U0PCoDmZ1NHMx3OZHEuLhFGQpJyxwWULooizWqhUJ2KOT7vbEQguxICuZaACHG59tT4xMREiPOJ0ySTFAK+QcA0nTBB0Sbp3wkHQENxaFryjaJE5ggkN2v47N+U0YZebeytELd920m0b/MJnhnSFpMmPwDTtMOJgwjQe6vOk1awPhqdbfybdanorGEtN9aHyqhTIuty0R02ZswY1SyBkV59LTrQmBbKelZMUXUXbNbQrFkzGIahGjvQfUaHHlNP2axB13UMHTpUFY5nEwYGU1mZZkqXHmuEuQaPtXv37lRCHJkzLbZWrVpYunSpEjMoRvJmq0mTJm7nxa6a7K75yy+/KC6eIjNjvTrhPjbIaexXXYAN8xA0lIaGspl2lZhmAgyEAQiCn9YcAbY+2eKw8zGUbqdLUZnNF/geZX07uktZi1FCCAgB3yNgj4hGxLp9iDt8FnTtBZQsDL8iwcr95ikoyjFt1X4lCv6liiC4TiUUbVsffsEFfA+CzFgI5GICIsTl4pPjA1MTIc4HTpJMUQjkZgJ0bTnMvTDN0zDMMzAQDZjO5ClrNugIga6FQtMqwKY1hK4Vzc3LyXVzS3LO/rfjZEOvBE1vhbihL8zB9Gnr8eeGoWjeojJM8yoMXEGgbQD89NbpcmC9KTrJZsyYoQrhewpLFGDHRyvdND0hjsXo6Vhr1aqVEsA8BR12FOLczYFNFSiiWUJcZlNTeVx2g2WtO6b0de/eXaW88pjpBQVKpq3S7eZa1N/d+MyMzXUXYzZNyGkeg925FE7zbwDx0FAeGopmKMiZZhJMXISJy9C0SkqE89e7QNMCs2lmshshIASEQO4gkHTpKsKX7UDcodPK/RZYtniGAlzamVOQSzh7WaWvFqxdEaW6Nsvxmna5g6bMQgjcHAIixN0crvllryLE5ZczLesUAtlMwDDD4TDWw2keVF09gUgAfgAKQVN/AyYcAOJU+hhQBLpWBjatHvz0dtC1ktk8o7y5O4exCYnOn6Eh2Ctm3ghxSUkOVKv0JkqVDsauvaMVOKd5FJpWDEG2p9IteM9mBuwmys6oBw4cSOmEyvRN1y6l1pmgS4wOMIpvgwYNUr/21HGS7rWvvvpK1VpjrTfXoFDH49PVxrpXbMrw7bffYvDgwSnDmEpLcbBjx44pQhybNbAxBN1vrBtn1fRh+h5rv7HWnWtqKndGAY416egoYopq2np2rvNiwwm69FzFxvSuxMyMzZtX87VVmWYcHOYaOIyd6vPDRCw0FIGmPj9YP44uWlO5a/maSYEfCcpFp2uV4K/fBV1LvwNrXucn6xMCQiDvEmAjhkuLtyD2n9MqvdS/aHCWFpvElNarMQhuUAWlurdUqbYSQkAIZJ2ACHFZZ5if9yBCXH4++7J2IXADBNil0Gluh8NYC6d5RH1Z1lBGdUPUNPfpEtzGRARMXKBNDrpWA/56R9i0ZulucwNTy5ObsMh9gnMqDPMobFr9dNc47fN1iIyMh2GYGP/WUjRuHIre9yd3K+3RswEaNiqfsu28uXsxoP8MjJ/QEyNHdYZpOmDgL/hpdyDANkiJVUwVZVMBClisf0a319dff63qxS1fvhzsiGoFHXJM/WRTBo69evUq/vjjD6xcuRLt2rVTTR6sYvGehDjuu23btqoJxMCBA3H77beDAhx/pojG2nRPPvkkHA6HEuKY+vrCCy+olNYtW7ao7pDFihVTc7AccZwjRTJ2XGUNN9alo/DGnym2RUdHXyfEcRuOXbZsmUrrO3PmjGok4S54/MmTJ2Pz5s2pmGR1bJ68mN0sioI+u/U6jX3KkQkzBibiKQ2rzwrAX4nQmlYIOqrCT7/tXwFO6sHll2tE1ikE8hMB1oS7tHCLqgnnX7JIlkU4ix3FOGdMPIq0rIsSXZpm6EDOT8xlrULgRgmIEHej5GQ7EhAhTq4DISAEvCbAOmJ2YxEcxhYYOA8dlTOdasoUSCdOQEdZ+Okt4a93lyLrGZyBJOd82I3Fqp5Weqm9tWuMw8kTqZsWWLv98usBGDioRcpR+vX5BosX7cfhsDdQvnwRGOZJ5WYMsD0EP72pGsdOpHSXUeCi4EUnGrswvvHGG6orqWv8/PPPyunGWnKXLl1S6Zl16tRRjrLnn38+VbqmJyGO+6Trjemkc+bMwYkTJ5TrrlKlSkoYY+04OtgYR48eVfXh1q9fD7vdrlJa6b5jjTiGqxBHMW/8+PFKSGTTBqaHvv3226rGHceldcRxe66JzRooRM6dO9ftGeJxmQrLmnR03nmKzIz1+g2ZhwZSDGbKqWFeUKI9lJtWg4YC0LTS0FEaUIIcxTkJISAEhEDeJBC18wgur94F02EgqHzqBkNZWTFLLCScuAi/IgVRsmszFKpdMSu7k22FgBAAVP1gPjRmxkPTpsn3zxJCwFsCIsR5S0rGCYF8ToBflO3GAjiMdcqxoqM6NC05BTWzkezAOso+nPDX28Ffv/eG95XZY/vieLqGEp0z4DQPwIb62crKNKNh4LjqlhpgexSaJoXdeY1QfOvTp49y2fXufa15hS9ePzJnISAEhIAQyP0EnLEJOPfzGsQfO4eCNUIzXRMuoxUadofad6G6lVC2f0fo/jd2D5fRcXLj63ywmN6Dt9w4X5mTbxAQIc43zlNunaUIcbn1zMi8hEAuI2A3VsPuXKzqNemokeWUUj6dNXBY1YTyt90Dfz11TbBctvxbPh2HsRVJzrkwEQkdNbPFGcTi9078DZtWA4G2QaqphkQyAbr/WIuO9eKstFphIwSEgBAQAkLgZhGI3nMUl5Zugy0oEP7FQ9weJjYhHl8sno29xw9jb9ghXIy8gn7tumDS0y+lGj/0y4mYvX55ulN9fdhLeOvj91Ne5/91Y8eOVc2SWF6C3cOHDBmiXO2uTmS6v9nMiA4glqxgt/Jq1aopBz3LQGTUsOhmsctov1kV4lh+gs56Ci9RUVGqBMYDDzyAkSNHgh3drWDJC7r50wu6+FmCQyJvEBAhLm+cx1u1ChHibhV5Oa4Q8CEChnkaic7/wjDDoCtHlvtacJldEmvHGdgPXav6rxAkqRLpMSQruzEPdmOdKmCf7Ei88fNAEc7AP9C0UAToPVSacH6P2NhYsInD1q1bVYOGiRMnYtSoUfkdi6xfCAgBISAEbjIB0zBw4dd1oBhXsFYFaLr7/99PXTqPViMGokzR4mhYpRZW7N7sVojbfvgATlw8e92sv/7jNyXiLZ/0X9z1YnITJXb9ZtMhlqR47rnnVDkI1nj99ddfMWLECHz44Ycp+2HtVP7MOrEVKlRQdVw3bNigGhv16NFD/R+aGyMrQtzatWvRuXNn1ZH98ccfR+HChVXZDnZuJzf+2xIr6aInx7RhiZRkHRAgNU5z4zVyI3PKj0LcyZMnVZmXzARLuPBzRSI1ARHi5IoQAkLAIwEKQBThnOYGVSxd07LWvSvtwUwzVqWp2rS2CLQNzpK45GunMrM3hhTP7MbvcBibYSLq3/PBDpOZC8OMgIGTKd0nmZYqtbegasVVrVoVISEhqr7d1KlTVbMGCSEgBISAEBACN5OAPSIa535aDUdkLIIquG8OxOMn2pNwJToK5YqXhMPpROXB3dwKce7mGp+YgMbPP4jQIiWwfPwXCP1/XaAH+ivX2+eff45169alcmuxLisbG9EdXrduXY/Lp4DHffz999+oXbt2umOTkpLUazktRmX2fst1Af3791dlKugALFHiWt0+cpsyZQp27dqFxo0bp7tmuuDat2+vOH/22Wc38zKSfecwgfwmxFGEq1u3CuLi2NXe+yhYsKCqpSxiXGpmIsR5fw3JSCGQLwk4zWNIdHwLE9GwaVXdMoiJScSkj1dj185T2LnjFM6fj8ajA5vjq28fTjX+qcd/xMz/bUuX47jxw/Da2I9TXpdUietRsWGGw1ytxLgNGzbj3bcPYNuW83A6TdzWOBSvvHo3utxd57oNr1yJxdgx87BwwX5ERyWhXv1yeOWVoejbZ7iIcPnynS2LFgJCQAgIgdxCIO7oWVyYtwG6zQb/EoW9mlZmhbjfNq7E81+8hzE9HsXTd/dB2X4dEViuOBo1aoS4uDjVodw1tm3bhhYtWuC1117DuHHjPM6JLjk6yF07iFvNmRYtWqRcc99//71y3zGtlcIVu60z3ZMiF3/P7uTsws5mSq7pnhQIp02bhk2bNikxLDg4GB07dsSECROuE/3o0HvnnXdUcyY2j6pfv77b5kzNmzdXzaEOHTp03booKk6fPh2nT59GmTJlVAf5jRs3qpRdpuJa8e6772LMmDH4559/lFsuvXjqqafUfLZv364K+0vkHQL5TYiz1vvlf0uhVh3vHlQf+tuOpx+7JA0t3Fz2IsTlnc8CWYkQuCkEWJeMHTuT3XDu3Vcnjl9BnZrjUbZcYTRtWgGLFx1wK8Rt3nQcYceutzNPmbwGO3ecweatH6Bl85FqHZIq4fl0Ll32PXr1GIzKVYrgscerIyAwAD//eAy7d13ArNkD0bNXfQCGaqyRmBiJTu1n4sjhSDz3YitUrFgHv/x0AH/+uVF1B+XTXgkhIASEgBAQAkLg1hCI3H4I4Uu3IaBUEdgKBnk1icwKcQMmvoyNB/dg07hvUNwWiNK9WiO4XmXV5ZwONXY+d439+/erLuMUopYsWZLqNQp3/MOSDiznQPccHeQU89jtnGEJcdwHX3vkkUfUgz/WVqPznOmtTHF7+umnVZ05uukouNF9R9HNqjdHJ9m+fftwxx13IDQ0FHTlUChjrWHOsXRpdtVODsuZx07rPXv2VE53jmXttujo6JQu6TzOs88+qwTCNm3apGxPxx67obdu3TolzdYSGQcPHozhw4ejSJEiSnBkuinryTItN72Ij49HuXLlVE05rkEibxHIr0Lcmo0V0LiJd59Tu3cl4I42p0WIc3PpixCXtz4PZDVCIFsJmGYiEpyTYJhHYNMo7LiPxEQHwsNjEBpaFA6HEyEFRroV4txtHReXhCoVXkelyoWwbddIBNno0AqUVIkMzmTDhg1x8eJFHDj4O0KKHIfTPAK7PQrtWs1AREQ8/vrnwX+bDARh+tS/MWLoMvzy6xj07fMMNFRUdV14E8ynyywsLCmY2frWkZ0JASEgBISAEPCawNVNBxC+bDuCQkupdFFvIjNC3Lkr4Wgx7BF0atQc3z7zKpgKW7pHK4TcVk250Ci0hYWFKdHICqZdUgTj/UZake7NN99UTRus4P3El19+qdx1VlhCXL169dSX8KCga1/cKdzNnDlTNT9gYwgrFi5ciF69eqmU2GeeeUb9mmJfoUKFUiGhk43z4jxeeeUV9RpT3+iAY6fz3377LcXtz7p19957LypXrpwixNENx7U++uijat5WzJkzRwmF/Jud0xl2ux3Dhg3DV199BSu1lr8nm0mTJqVyyaU9bxTpHn74YXzwwQeqsYNE3iIgQlzG51OEuPQZiRCX8fUjI4RAviXAJg0Jji8AxKl6Yt5EZoW4n37cgccHzcSE9zvgxWHtEeT3DHStoqRKpIHtmipB0Yx1Sp544gmV7sAwzSgYuIgPP/gEo1+eij+WT0CnO5tBQxF0aP8szp65hOPHU3fyYqFhFh5m8WU+1ZUQAkJACAgBISAEcp7AzRbipiyYhXdnf4Ppz72GbvWawxERjVL/CnGrVq3CXXfdBaZrfvTRR6oJw+rVq5X4RBGMAlbatNVjx46Bf5heyu0p1DFVk641Kywhjs2Phg4dmvJ7OtmYhnrnnXeqWqxpg+61e+65B7Nnz77uNTZCSExMVG44bl+jRg0lujHef/99jB49Gu46k9JlR3caHXJW0KHHtNnz58+niIQU7JiG6tpUwTAM1byJ++3bt69yxK1YsUI57V544QXV3Cm9oJuQY5nmWrZs2Zy/sOSIN5VAfhXi1q6vmClHXMd2p8QR5+ZKFCHupr49ZedCwLcJOIydSHT+DxqCoWvXCtR6WlVmhbie90zD2jVHcCjsRZQuYyDQ9ij89GaSKuEhVYI3jXyS667wL4slU7R777338PLLL4M3kKynwpvLWbNmpTp1fHrMJ9W8eebNq4QQEAJCQAgIASGQ8wRudmrqHaOfwKXICOz8bBb0uCQ4YxNQ+t42CK6b/JD1u+++U2mXV65cUT8zvZQpmXScMR2UDQk8BcUo3nPs2bMnpbGDJcTNnz9fudysoJuftdc8RYcOHcBupQw693mPQmdbREREqs06deqkhEDGkCFDlDjGdFfXpgp8ja4/rsFViON27IZK19pDDz2ksgy4VqasfvrppynHefHFF/H777/jwIEDYNF5K1gfjvdP7JrKWnppg/NmSirTZCn4SeQ9AiLEZXxO6YgTIc49JxHiMr5+ZIQQyLcE7MY6JDlnQUc5r7ulZkaIO3PmKmpVG4eu3epizryHYeAMAmwPwV/vIKkSHlIlKK7xaTJv8Hhj6drx1EqpsEQ6Pq1m23DeYPNJt2tERUWpJ7sU7iZPnpxvr3NZuBAQAkJACAiBW0kg7tg5XJi7HprNhoBsbtaw+9g/6PHmcxjUuRcmDHoBieevqPTXsv07IrBs8ZRlM+2Szjb+zbpufn5+qpZbv379rnuQl5bVhQsXlOOL4hSbJTAsIW758uXKcWeF9TDxvvvuU7Xl3AWbNTRr1kw9TGRjBzrK6NBj6ikfLrJpAl12vL9Zs2aN2gVTWZlmyvue4sWvrYuv8Vi7d+9OJcTRVce0WDZaWLp0qXK28V6J4kqTJk3UPsmCx3vyySevc+8x3ZZzTC/tlL9/6aWX8MsvvyiGEnmPQP4V4iqhcWMva8TtphB3Uhxxbi5/EeLy3meCrEgIZBsBu/Hnv0JcKDQtdX2O9A6SGSHug4kr8Pqri/DDrEG4v08tGDiFANuD8NfvUE84JVUi+T85d6kSb7zxhupi9thjj6kbRxZaZkcyPsHmjaOVtsrOs2wXzhoq7DDmGhzHYsiuKa7ZdvHIjoSAEBACQkAICAGvCNivxuDcj6vguBqLoIqlvNrG2xpxr34/Gf9dMR8L35iMJtXrgKJfYPkSCB3UBXpA+vXo2M2UTjKWseC9hqeg06xq1aqqgYGVbpqeEMcatXSstWrVSglgnoIOOwpx7ubApgoU0SwhLrOpqTwu76NY6473St27d1cprzymFXS18ThsKEG3nWvQCcc1pJdVQDGTKa7ch9V4wqsTK4N8hoAIcRmfqt0ixKULSYS4jK8fGSEE8i0Bh7EBic6foKMMNC3EKw6ZEeKaNHoPF85HI+zUWwgIiIeB8wi0DYCf3k4dS1Il0k+V4I3sqFGjwGLKLCTMYF2X1157TT0V5pNiPt0VR5xXl60MEgJCQAgIASFwywiYhoELv65D9J5jKFgrFJquZzgXb4S4JIcdTV94CCULF8Wa976BYXcgPuw8iraqi1I9WqZ7DDYzYDdRdkZlSqbVCZXpm65dSq0d0PlFBxjFt0GDBqlfpyfE8TXep7D5Aeunsdaba/D+hsenq+2vv/5STRm+/fZbsGupFbw/pDjYsWPHFCHOKrdB91tGzRqs/VCAY026Bx98UKWopq1nx7kwA4FCGvdPp54VVofWtI4/vm655VyFyQxPqAzwOQL5VYj788/KmXLEdehwQhxxbq5uEeJ87i0vExYCOUfAaRxAonMGAH/o2rX28J5m4K0Qt33bSbRv8wmeGdIWkyY/AMO8yCQABNoGw6Zf69AqqRLXp0q48r969Sr279+vbhL51Jg3tSxyPG3aNFUvRWrE5dz7RY4kBISAEBACQuBGCUTvPYZLS7bBFuQP/+KF093NjOXzEBkXC9M08OFv36NB5Rq4p1nyA8y7m7RGvUrVUrZdvG0dnpo8DmP6P4H/9HwIiRcioOmaqg9XsEZ5NY6pomwqQAGLJS/o4GIjKNaLo8jEjqhW0CHHB3xsysCxvAf5448/sHLlSrRr1041eWBKK8OTEMd9t23bVjWBGDhwIG6//XbVzZ0/U0RjbTqmgzocDiXEMfWVjRFYH5dONLr1ihUrpuZgOeJ4TApf7LjKumysS0enHn+m2BYdHZ0qNdVaE8eyaRUbYZ05c0YJb67BTAM++KTjj864woULq3utuXPnKg7M4HAtEcJtOVeW/Ni8eXMqfjd6bch2uZOACHEZnxc64kSIc89JhLiMrx8ZIQTyLQHDDEeCcwpM8wps2rUbO09AvBXihr4wB9OnrcefG4aieYvKcJph0LSiCLI9B11LPy1DUiU8X450wn322WfqZrZateRzxqfaTI9wLVLM30vX1Hz71paFCwEhIASEQC4j4IxLxLlZqxF/7BwK1giFZnPvims5/FGcDr/gdvYfPzUSD7bvmvLa4E9ex4rdW7Bt0g8oHVxU7Tu4fmWU7dcRmp9NjWMnUrrLKHBR8KITjZ3UWQKDXUld4+eff1YCG2vJXbp0ST0ErFOnjnKUsTatawqmJyGO+6Trjemkc+bMwYkTJ5TrjqU0KIyxdhy7tTKOHj2q6sOxaykzAJgOSved1YnVVYijmDd+/HglJLJpA9ND3377bVXjjuPS3gdx/1wTmzVQiKS45i7YrIFuObri2DCC8+zfvz/Gjh2bqoEDt+Ucmc7K+nUcL5F3CeRXIW7dmsw54trfIY44d+8CEeLy7meDrEwIZJkAn7YmOqfCYe6ADY2ue+Ln7gDeCHFJSQ5Uq/QmSpUOxq69o1VNDif2wk9rjEDbc9C05JvDtCGpEp5PKW+MeYOatkMqn8ry6SyfMvNpNoNPmfmUmwIdb4BZY05CCAgBISAEhIAQuHUEovccxeWVu2AkORAUWjLbJsL7rITjF+BXLBilujVHwZqh2bZvX98RLb5KsgAAIABJREFUxbc+ffool13v3r19fTky/xwkIEJcxrDpiBMhzj0nEeIyvn5khBDI1wTsxhokOedAQzHoWuouVK5gpn2+DpGR8TAME+PfWorGjUPR+/5GakiPng3QsFFyCgRj3ty9GNB/BsZP6ImRozrDMCNg4jICbH3gryfXCpFUCc+pErNnz1Y1Uzp16qSKHjM9ld3C+AR57dq16kmsFQkJCUqgo0uOjR1YS+6HH37An3/+iR9//BEDBgzI19e4LF4ICAEhIASEQG4gYDoNXFq8BVE7DsO/eAj8i3lXnzejuSddvApnfKKqDVe8cxOvHqxmtM+88jrdf6xFx3pxVlptXlmbrOPmEsi3Qtzqymh8m5ddU/ckoH0nccS5uxJFiLu570/ZuxDweQKGeRmJzmkwzBPQUS/dm7faNcbh5IkIt+v98usBGDioRcpr/fp8g8WL9uNw2BsoV64wDByErlVEoO3/oGvJApKkSnhOldi1axdGjhyp0kOioqJUnZR+/fqp7qisX5I2WNNl9OjRYHoFx9evXx9jxoxB3759ff4alQUIASEgBISAEMgrBNhBNXzxVsT+fQr+JQtnSYyjE85+KRKO6DiENKyKkt2aw1bIuy/QeYWnu3XExsZiwYIF2Lp1q0o5nThxoqoDJyEEMkNAhLiMae0WIS5dSCLEZXz9yAghkO8J2I3FSHIugYZC0LWy2crDMC/ARAz89W4IsPXI1n378s4kVcKXz57MXQgIASEgBITAjRNIuhyFy39sR+yh09AD/RFYrjg0m/uyHekdhR1SE8+EA5qG4LqVUOLu2+EXUvDGJ5WHtmStODZfCAkJUfXtpk6dqpo1SAiBzBDIr0Lc+lWZc8S1u1Mcce6uKxHiMvNuk7FCIJ8SMM041T3VaW6HjprQtOy5keN+DRyGTWuGQNtj0LRC+ZTw9cuWVAm5FISAEBACQkAI5F8CjshYRKz/S4lx9stR8C9Bd1xwhoIcBThHRDTsETEIKF0UwfUqo2jreuKEy7+Xkqz8JhEQIS5jsHTEiRDnnpMIcRlfPzJCCAgBAE7zKJKcs+A0j8CWDWKcacbDiUOwadURYHsINi11Z678CF1SJfLjWZc1CwEhIASEgBBwT8A0DMQcOKFqxiVdugpHRAz0AoGwFQiEXiDgX1HOhOkwVA04Iy4Rht2u0lkpwhVpUUc1ZtA0TRALASGQzQTyrRC3ojKaeFkjbheFuLvEEefu0hMhLpvfkLI7IZCXCTiMPbAbC2CYR6GhosfmDZ44GOYVGDipRDh//V746bflZWxer01SJbxGJQOFgBAQAkJACOQbAkZCEuKOnUPsP6dgNV4w4pPA5g4MzU9PEeiYxlqodkUUqFoWur9fvmEkCxUCOU1AhLiMiYsQlz4jEeIyvn5khBAQAi4EnMZBsGac0zwMwA86KkDTvCv8a5qJMHAKgB02rRb89Xtg0+sJXyEgBISAEBACQkAICIEMCLD5Al1v9ivRYFMH0+5IFuIC/JQLjumrtqAA4SgEhEAOEMi3QtzySmjSyLvvfrv2JqBdl5PYsWMHmjZtmgNnxXcOIUKc75wrmakQyDUEDDMCDmM5HMZemDgHwB8aSqpmDkBQSgoEbxiBRNWMwcRl9W8N5eCnN4Kf3uWGHXW5BoRMRAgIASEgBISAEBACQkAICIF8R0CEuIxPuQhx6TMSIS7j60dGCAEh4IaAaRowzMNwmnvhNP8GxTkgFiYS+Gz23y1MaAgEEAxdKwabVhs2rRF0rRY0TReuQkAICAEhIASEgBAQAkJACAgBnyOQX4W4Dcsy54hre7c44txd3CLE+dxbXiYsBHIfAcMMh2GehokL4L+ZgsrQtADoWiloKA1dq6D+LSEEhIAQEAJCQAgIASEgBISAEPBlAiLEZXz26IgTIc49JxHiMr5+ZIQQEAJCQAgIASEgBISAEBACQkAICAEhIAQUgXwrxC3NpCOumzji3L1lRIiTDxIhIASEgBAQAkJACAgBISAEhIAQEAJCQAh4SUCEuIxBKUecCHFuQYkQl/H1IyOEgBAQAkJACAgBISAEhIAQEAJCQAgIASGgCORXIW7jkopo0tDLrqn7EtDmnlPSNdXNe0aEOPkgEQJCQAgIASEgBISAEBACQkAICAEhIASEgJcERIjLGNQuEeLShSRCXMbXj4wQAkJACAgBISAEhIAQEAJCQAgIASEgBISAIpBvhbhFmXTE9RBHnLu3jAhx8kEiBISAEBACQkAICAEhIASEgBAQAkJACAgBLwmIEJcxKOWIEyHOLSgR4jK+fmREHidgmnaYiALgBKBDQyFoWoE8vmpZnhAQAkJACAgBISAEhIAQEAJCQAjcCIH8KsRtWpg5R1zrnuKIc3d9iRB3I+862canCZimCRNn4TQPwjDPwzTPwkAcAAOABg2B0FAGulYWNq0mdK06NM3m02uWyQsBISAEhIAQEAJCQAgIASEgBIRA9hAQIS5jjnTEiRDnnpMIcRlfPzIijxCgAGeYh+EwtsKJIzDNi4AS4AIAFIAGHZTogESYiIcGf2goBV2rBD+9KWza7SLI5ZFrQZYhBISAEBACQkAICAEhIASEgBC4UQL5VohbUBFNGnjZNfWvBLTuJY44d9eYCHE3+s6T7XyKgGnGwW6shsPcCtM8BaAgdJQGEAJN09yuxTTjYeIiDESosTatIfxtXaFr3E5CCAgBISAEhIAQEAJCQAgIASEgBPIjARHiMj7ru0SISxeSCHEZXz8ywscJGGY4kpy/wmnuV243HdWgad6p+Fy6aTph4KRyz+laDQTovWHT6/g4FZm+EBACQkAICAEhIASEgBAQAkJACNwIgfwqxG3+PXOOuFa9xRHn7voSIe5G3nWyjc8QMMzLSHLOgtPcBQ0loKFsug64jBZlmpEwcBy6VhMBeh8R4zICJq8LASEgBISAEBACQkAICAEhIATyIAER4jI+qXTEiRDnnpMIcRlfPzLCRwmYZhISnd/DaW75t9Zb1lNKTTMWBo5A1+og0DZY0lR99NqQaQsBISAEhIAQEAJCQAgIASEgBG6UgAhxGZMTIS59RiLEZXz9yAgfJWA3ViHJuVD1QdW1itm2imRn3Gn4aR0QYHtYGjhkG1nZkRAQAkJACAgBISAEhIAQEAJCIPcTyLdC3LwKmWrW0Oq+09ixYweaNm2a+09qDs5QhLgchC2HyjkChnkWic5vYZhh0FEfmqZn68GdZhg0BCLA9gD89BbZum93O/vvf/+LwYMHIywsDFWqVLnpx5MDCAEhIASEgBAQAkJACAgBISAEhIB7AiLEZXxlKEecCHFuQYkQl/H1IyN8kIDdWIwk53zoCIWmhbhdQUxMIiZ9vBq7dp7Czh2ncP58NB4d2BxfffvwdeNPnYrAu28vw+rVh3D+XDRKlwlG2/bF8cor/w8N6r6ayhXndDrxwQcf4Ouvv8apU6dQsWJFPPnkkxg1ahRsNlvKvrdv346ZM2di1apVSmArVKgQ6tevj1deeQV33XVXqjlkRYgzDAPjxo1D48aNcd9992XpbHI9Y8eOxdKlS3H16lVUr14dQ4YMwfPPP5+q9l5MTAw+/PBD9fSD6zx//jwGDRoErkNCCAgBISAEhIAQEAJCQAgIASHgywTyqxC3ZW4FNKnvXePDXfsT0PJ+ccS5u85FiPPld7/M3S0B04xBgnMqDPPQv244ze24E8evoE7N8ShbrjCaNq2AxYsOuBXiLl+ORbPG7yMpyYmnnmmLKlWK4+jRcHw1fZ1y2u3euwyVK7ZPOcazzz6LadOmKQdbmzZtsHHjRsyYMQP8/eeff54y7oEHHsDatWvRt29fZdWleMVxf/31F6ZOnYr/+7//SxmbFSHO4XDA398/y0LY2bNn0axZMzXP5557DpUqVcLKlSvx66+/YsSIEUp4s+L48eOoWrUqypUrh9tvvx0LFy7M8vHlchcCQkAICAEhIASEgBAQAkJACOQGAiLEZXwWRIhLn5EIcRlfPzLCxwg4jD1Icv4PgD90rUy6s09MdCA8PAahoUXhcDgRUmCkWyFu+rT1GPrCHPw69wn06NkgZX9z52zDww/9iA8/fgojhn2pfr9v3z7cdtttyiH26aefpox98cUXMXnyZOzZswcNGzZUv9+wYYMStgIDA1PGxcfHK+fapUuXcPHiRfj5+anXcoMQxzVRSFy3bh3atm2bMuf//Oc/+OKLL5SAWLduXfX7xMREhIeHIzQ0FNklBPrYZSjTFQJCQAgIASEgBISAEBACQiCPEsi3QtycTDri+oojzt1bQIS4PPrBkJ+XZTeWI8k5BzoqQdMKeoXCkxD3wcQVeP3VRVi/aRhub1YpZX+bN4WhU4fPMGXq/8N//u879ftXX30VEyZMwLFjx5QjzAqmnlarVg1jxozBO++843FOdJd9/PHHOHnypEprTU+IoyBG592mTZtw7tw5BAcHo2PHjur4tWvXVttZzrS0B+S4NWvWqF8zlfazzz5TbrxDhw6hQIECuOOOO9R+LGGN4xo1aoS4uDgcOXIk1e62bduGFi1a4LXXXlMpsGlDhDivLkEZJASEgBAQAkJACAgBISAEhICPEBAhLuMTpRxxIsS5BSVCXMbXj4zwMQKJzplwGMuho3GqumWeluFJiNu+7STat/kELVpWxrvv34vKVYrj2NFwvDzyd8TERGPd5hdQutgYaFoQunbtqlxvrImWNsqUKYMmTZqo+mqeYsCAASrdkzXYWDeO4c4RR4caHXgUzeg8o3A3ffp0mKaJ/fv3o3Tp0oiNjcWcOXNUWmj79u3x9NNPq/1xLl26dFH/7tevH+bNm4eBAwcqQe3y5csqNZbbUmSrWbOmGlenTh0EBARg7969qabPYzVo0ADdunXDkiVLrluaCHE+9gaS6QoBISAEhIAQEAJCQAgIASHgkUC+FeJ+rYCmXtaI20kh7gFxxLm7kESIkw+YPEcgwTENTnMbbFojr9fmSYjjTr75aiPeeG0xWC/Oinbtq+OHXzqjZMmyCLI9D10rqdJOKVaxSUHaYB04u92uxLP04uDBgyo1tWfPnkpAs8KdEEehzBLqrHF0tHEOb775pmr6wPAkhM2ePRv9+/cH/2bNOivOnDmDevXqoXv37vjpp5/Ur++//34ltNHdx9pvVkyZMkWl4vK4aUW6jI7v9QmSgUJACAgBISAEhIAQEAJCQAgIgVxCQIS4jE+ECHHpMxIhLuPrR0b4GIEExxQ4zV2wacm12LyJjIS43+ftxddfbsRdXeqgeo2S2P/XOXzy0SrUq18cvy8eiBKFh0PXSqsuonSbsUFD2mDjBtZ9S5vaaY2LjIxE69atVZopXXVshmBFRjXi2ECBddnohrvzzjtRo0YN/Pbbb2pzT0Jcnz59sHnzZrcC2iOPPAL+B8N6dQx2d2U31+bNm+Ojjz5ChQoVsHr1agwbNky55ypXrux2beKI8+YKlDFCQAgIASEgBISAEBACQkAI+AqBfCvEza6ApvW865q680ACWvYTR5y7a1qEOF95p8s8vSaQ4JgOp7kZNu02r7fxJMTNm7sXAx/+Dpu2jkCDhuVT9rli+d/o1X06xr97F8a8PAu6VuKGHXFs0sC0VqaCMnWVNdxcw50QR8Fu9OjRWLBgASIiIlKN79SpkxLOMhLi6HqjC89TsIacrutqyHfffYfhw4fjypUr6mfWk2O3VDrwmB67a9eu63YlQpzXl6EMFAJCQAgIASEgBISAEBACQsAHCIgQl/FJEiEufUYixGV8/cgIHyOQ5PwFdmMxdDSCpiULSBmFJyGuy51TVHfVXXtHX7eb0sVfAlNUFy3cC03zv6EacUlJSbj33nuVcEYXG9NS00ZaIc4wDJXCevr0aeVIq1+/vmrWQMFs6NChKFmyZEozBk9CGOu+8fhffpnc9dVddO7cOVWtPY5nCir/Zm04dnYNCQlRteZmzZp13S5EiMvo6pPXhYAQEAJCQAgIASEgBISAEPAlAvlWiPs5k464B8UR5+66FiHOl97tMlevCNiNtaAYp6McNC3Yq208CXGN6k9Q+9i7f0yqfVEMK138ZbRpWxfL/khuYMCuqO+++67XXVMpUrE2G11tP/zwAx566CG3800rxDF1lUIcO50+9thjqbYpX748atWqlaorKsUyNmzgflyjV69e/5+98wCPqtq++LozSQgt9F5FOoJ0QRCsDxAURazAH+WJYMOG9WEDRMVnV7DwwILPBmJDEQTl0UHpIEUIvfeE1Jl7/986eGMCk8wMiZhk1v4+no/Mufee87vnDpM1a+9txtHhFh0dHRKrkwex0QPrxwWaC8dKiDstrDpIBERABERABERABERABEQgnxKQEBf8xhhHnIS4gKAkxAXfPxpRwAj47XVI9VNw8sFjVQ9p9jkJcdf2+g+mfrsGs2YPQbv2tTPO98WkBehz42d45LGb8OwzH5mfUyBjZ1Q2L3j11Vczxt5zzz14/fXXsXz5cjRrdqKJBIW8m266CZ9++qlxpA0cODDbuZ4sxK1evdqkwY4fPx633HJLxnFMHaUwx9RWCmxuxMae6Oj61VdfZbkGGzFwDk8++aRJLz05WNOO3VezC9a1Y+27pKQkrF271qSqnhwS4kLaghokAnCc47CxD46zHw5SDRELMbCs8vCAz2GJkDtBC6cIiIAIiIAIiIAIiMBfRyBShbjFn9QIq0Zc2xu2m0aGbFyo+JOAhDjthkJHwHHSkep/Cz5nKbxommN66tg35+Do0WTYtoMRT09D8+bV0PPqE0JZ9x7noGmzqlgwPx5dLn0TRYpE4bbBHVCnTjmsXr0b48fNR5myxbB06RxUrdI8g+PgwYPx9ttvG4GsQ4cOmDdvnnGLDRo0CG+99VbGONZae/nll41oduutt55yHy677DLT+IFxshBHcYtC3N69ezFkyBDTxXTRokWgO61MmTKoUaNGFiGuY8eOpn7b008/bZosUFxjUwc2d7jxxhuNGPiPf/wDvCbTTLdu3Wpq1bGG3MSJE80c9uzZg65du+Kqq64y52eNunHjxhk33YwZM3DeeedlWQO7qR45csQIjhT6KFCyOQSDqbiuIFnoNqAWJAJhEHCcVPid9fDbK2FjqxHjHLA7s++Ps0TBQjFYVnF4UB1eTzN4rcawrNCK5IYxFQ0VAREIk0BCQio2bzqMPXuOY8/uRCQlpZt/V6OjvShfvhgqVy6O6jXizB/LssI8u4aLgAiIgAjkZwIS4oLfHTriJMQF5iQhLvj+0YgCSOBEeupkWCgJj1Uh2xU0qDsc27ZmbXTgDn5n3I3o17+t+euqlbsw6pkfsPTX7di96xjKlC2Kiy+piKeHD0G9OkOyfMCmSDZ69GgjUrGGG4UvCm0PPfSQqafmxoUXXojZs2dnOzd2JOUYRqBmDZs2bTL14ebOnYv09HS0a9cOL7zwgqkRx8jsiFu1ahXuvPNO820E3WuZHXP8pYGOPLrr1qxZY36JYHorxTu69Oh4Y7AzK912FPwoAJYtW9YIdxTZ2KX15Khdu7YR9AJFdmmsBXCracoicFoE+Jz5nZXw2bNhOzvggN2JY2GB6fTFYcF9r/DBQRIcJAJIhoVy8FhVEeXpCK/VOuQ6mKc1SR0kAiIQkMC2rUfx6y+7sXzZHuzbl4iEY2lGhGM4f/xPTIwXJUrGoHTpWNSrXxatWlfFuc0rgT9XiIAIiIAIFHwCESvEfVwDLRuF9oXw0t9S0PZGOeIC7XYJcQX/PUArCEDAcY4h1f8f+JwV8ILukZg848RfoG38BsuqiiLePvBa9fLs3DqRCIhA4SfgOAlIt6fDZy+Dg52wUB4WKpqGLzmF41CU22/SVz2oZNxx0Z6u8FhlCz80rVAE8gGB5OR0/Dh9M+bO2Y7t24/Cl26jYqXiiIsrgmLFo+HxnHC98XNCWpofiQlpOHgwGceOpqJS5RJock4FXNGzPmrVKp0PVqMpiIAIiIAI5IaAhLjg9CTEZc9IQlzw/aMRBZSAz16BNP/ncHAQHtTPs7QQ29ltHCox3m6I9lxeQOlo2iIgAn8HAds5jDT/JPidZebyHtQO+4sCCnJMYwXS4LWaIcbbGx7rRBq7QgRE4K8hsGtnAj79ZA1WrdyL44npOOvs0ihZkjUcg6ecpqf7sXNHAg4dSka9euXwj65n48KLaoV07F+zGp1VBERABEQgtwQiVoj7KExHXB854gLtNQlxuX0CdXy+JcBvpNPtL5Fus2mBDQ/q5PpDr+3sg4N9JiWsiPf/YFnF8u36NTEREIH8RYBOuFT/J/A7S2ChNCzT2Tn4L/HZrcI2TR32wGu1QIz3RniscvlrwZqNCBQSAtu3HcUH76/E8qV7UL5iMVSvXvK0nl3WlNu44RCqVYtDl65no1v3uqd1nkKCVcsQAREQgQJNQEJc8NtnHHES4gKCkhAXfP9oRAEmwELoafYU+OyFAFLhwVlhu0+4fMexTQqZg2PwWs0R470eHqt8ASajqYuACJxJAie+GJiCdHsmLBQ3dd7yIk6IcfsRZXVGjPcGWJbqT+UFV51DBFwCBw8k4Z23l+LXX3ahVu1SKFcud1/A0R23dvUBVK5SAr16N0TnC//sxi7qIiACIiACBYdAxApxE8N0xPWVIy7QrpYQV3Cedc30NAlQjEu3v4fP/uWPekxVTcFzy/IEPSN/eQYSYWMLgFLwWk0Q471aNZmCktMAERCBzAT89iqk+j+Fg0PwoF6eumD8zmZYKIoYby9EebJ2L9ZdEAEROH0C7Kj+4fsrMO37TaYDaoWKxU//ZJmOpBi3auU+NGxYHrff2RrVqsflyXl1EhEQAREQgTNHQEJccNbGESchLiAoCXHB949GFAICf3YonAW/Ew8HCfCgrEkPA4plcZGcEN+SzRimoQLR8FjVEeXpgCirw2k56goBQi1BBETgNAk4ThpS/W/D7yyFB43y/D2ENeP8WIsoqzGKeG+HZeWNWHCayz2jh7GTMztEb9nCL0sUIpC3BBYt2IGJH67CsWOpaNAwb1O/ec5Nvx/GxZechYGDWiIqKviXg3m7Op1NBERABEQgNwQiVYhb8mFNtGwYYtfUdSlo028bfv31V7Rs2TI3uAvdsRLiCt0t1YJyIsBuqj5nOfz2CtgOU00TABwHwDpN/BBsMxEVQCwslIBlVUSU5xyTjppXqWS6QyIgApFFwG+vRqr/QwB+I+oHisTEVLzy0k9YtnQ7lv66HXv2JKBvvzZ4d/xNWYYPHPBfTPxwSbYAh48YjMeHjc14ffv27Rg2bBimTZuGI0eO4Oyzz8bgwYNx9913Z3Hl/fbbb3j66afNB6Xdu3fD4/GgTp06oNB1++23o0iRIvnypuVWiJs3b55Z98KFC+H3+9GiRQs8/vjj6NKlS5b1fv3113jrrbewatUq7N+/H3FxcWjcuDHuvfdeXHXVVfmSjSaVOwI+n41XXlqI+XO349wWlRAdnfdp35s3HUZsbBRuG9wKzc6NnIYruX1uc3dndbQIiIAI5A0BCXHBOS6VEJctJAlxwfePRhRCAo6TDtvZDBt74Dj7YDuHAKQD8MKy4kwHQgsV4LXOhmWVKIQEtCQREIEzRSDV9xF8zo85uuG2bjmEhvVGoHKVOLRsWR3fTV0bUIhbuGAL4jcfOGXqb7w+G0t/3YH5i/6Fdm1GGJFt165daN26NRITE3HXXXehZs2amDlzJiZNmoQHHngA//73vzPOM336dPP38847D9WrVzeiFEWqjz/+GN27d8c333xzpnCFdZ3c/EI/Y8YMXH755ahduzYGDhxoxMaJEyeCH6ynTJmCK6+8MmMuzzzzDJYvX26EukqVKuHYsWOYPHmyYURu5KkoXARWr9qHt8b8grR0P2rXpnv+1EhNTcLceZ9g564N2LlzHRITD6FFi67o3euxLIMnfTEKy5ZNyxZQr6vvxOQv3sh4XQJ6znuJwvmIESPMs8pnsUaNGujduzeGDh2K0qWz3qtwxhauHazViIAI/NUEIlaI+yBMR9z/yREXaC9KiPurn1CdXwREQAREIGIJOE4KUvwvwXa2wWs1zJZDaqoPBw4kolq10vD5/ChZdGhAIS7QCZKS0lC7+hOoWasEFi+7G7Heu00dS7re3nzzTcyZMwcdOnTIOPTOO+807q7Vq1ejUaNGOd4bCng8x7p169CgQYNsx6alpZnXYmJizui9zo0Q17RpU+zbtw/r16/P+OXd5/MZ8fLQoUPYvHkzoqKisl0PxcpWrVph7969xkWoKFwEPpq4ClMmr0PjJuWNay1QHD68G/9+6XqULFkOVas2wPr18wMKcdu2rcahQ7tOOcX8hZOMgPd/fd/Eiy/djPIViklAD7KNZs+ejUsuuQT169fHgAEDjDt10aJFmDBhgnl2+f/dbtThjC1cu1erEQEROBMEJMQFp2wccRLiAoKSEBd8/2iECIiACIiACJwWAQpwKb63AaTAY9UI6RzhCnEf//dXDOg/EaOevwj33NcaRby3wOtphGbNmiEpKQm///57lusuWbIEbdu2NSmYw4cPz3FOdHs9+OCDJnWTbjnGe++9h1tuuQVTp041jrAPPvjAiAdMa23evDkOHjxo3Cpffvml+XmFChVw9dVXY+TIkVncKhQIx44diwULFhghq0SJEujcuTNGjRp1iuhH0YuutHHjxpnU0CZNmpjzffLJJ1lqxLVp0wZHjx7Fhg0bTlkXRcW3334bO3bsQHR0NMqVK4d//vOf5pyZ44UXXsBDDz1k3IMXX3xxjnx69OhhxiUnJ4d0bzWoYBBgk4bnnpmLZUt3o0WrKtlO2udLw/GkoygVVwF+vw9PPHVxQCEu0AnS0lLw3OirUKJ4RfTu9ToG39EazVtUloAeZItcd9115r2F7xl8ht3gFw9vvPEGli1bZt6HGOGMLRg7U7MUARHITwQiVoh7r1Z4NeJu3qoacQE2roS4/PTwP/O4AAAgAElEQVQ0ay4iIAIiIAKFioDPXopU/wewwJT3siGtLVwhrke3sZj98+/YGD8UFSolIsZ7A6I9F6Bhw4bGobZy5cos112zZg3OOeccdO3aFd9//32W1yjc8c/x48exePFi0D1H0YpiXtGiRbMIcTwHX+vTp49xoDA1rGTJkkawO3DgAG677TZTZ45uOgpudN9RdHPrzfEXZ9Zcu/DCC1GtWjVs27bNCGVsmMM5VqxYMWNurjOPtdsofrE5A8cyrTQhISGjWQOvc8cddxiB8Pzzz884no69qlWron379ibNds+ePahSpYoRPV577bUsDOgA5PWee+45PPzww1leo8iXnp5uHHMUAx599FGTwspUVkXhIXBgfxKef3YeDhw4jnr1Q2vSEK4Qt3zFdHw+aSQuvmgQKlf8B/r1b4au3epKQD9pG2UW0JkWzvet+fPnm5qXrGXpxrPPPovHHnvMOFzplmOEM7bw7F6tRARE4EwRkBAXnLRxxEmICwhKQlzw/aMRIiACIiACInBaBHz2AqT6P4IHlWBZJUM6RzhC3M6dR1C/znB06doIk7/sBxvxiPFeh2jPJcaFRqEtPj7eiE5u0DVCAYqpmSeLdE899ZRpXuAGRbV33nnHiANuuI44NiugCy429s/OWRTu3DprbAzhxrfffosrrrjCpMQOGjTI/JhiX/HiWTu80snGeXEeFLkYbCRBB1zPnj3xxRdfZKSdUVCjCFarVq0MIY5CGdfat29fM283WM+NQiH/26tXL9i2bZx6rC1FB42bysbx7rhAIh1FQ6a7MZi2ynNxTWXKlAnp3mpQwSCwft0BvPbKYtPHqVq10J7bcIW4Ce/dj83xy/DgA5OwYV0qrrmuMfr0bSoBPQcBnbvHdenSlXv//fejVKlSxrHLpjKXXXaZqWvpRjhjC8bO1CxFQATyE4GIFeIm1ELLBiF2TV2fgja3yBEXaN9KiMtPT7PmIgIiIAIiUKgI/NVC3Aujf8QT/5qKjz7pj6t7NcwixM2aNQuXXnopmK754osvmiYMP/30E+677z4jglHAOjltlXXR+IfppTyeQh2dJhSgThbiXn75ZdM11A062ShuMZ1zzJgxp9xHute6deuGzz///JTX2FAiNTXVuOF4fN26dY3oxnj++efxyCOPYO7cuVlq3fE1uuyYFkqHnBt06DFtlq43VySkYEcXDVNl3Tp2Tz75pEnNZZ05/kLPnzPNlr+800EXKG2VwiPdcDzPZ599Bq/Xa9Lh2AhDUXgIrFm9D2+8tgTR0R5UrhJaw6ZwhLijx/bjhX9fi/r1zsP/9XseSxbtwtXXNMT/3XyuBPQcBHTuMDpS+R727rvvmufUDQrnr7zyShaXXDhjC8/u1UpEQATOFAEJccFJL5UQly0kCXHB949GiIAIiIAIiMBpEfDZvyLV/+Fflpraotlz2LsnAfHbn0ZMTLLpBO2mpnLC77//vhGZKB4xmF5KoYmOM6aD0g2WU1BsY3rmihUrMho7uI64r7/+2rjc3GDjA6aO5RSdOnXKcJSxxhMFNjrbDh8+nOWwiy66yAiBjMGDB5s0VKa7Zq4Jxdfo+uMaMgtxPI7F3OmMueGGG0xDBq6VKauvvvpqxnVYd4717yik8Rd2BsVK1s6ja48iI9efU1x11VWm6QVTad2U29PaKDooXxH4be1+vP7qYni9FqpUzXtH3Oz/TcT0Ge/gxuuHo0mTzvhlyW5c07sR+v5fM7PvJaCfcFoEEtDpZh09erQR5q+55hrjiPvxxx/Ne8SQIUOyPLPhjM1XG1CTEQERKBAEIlaIGx+mI26AHHGBNrSEuALxmGuSIiACIiACBZGA39mKVB9TJPO+WcMvS7bhgvNfxqDBHfDK671hO3sB+FDEO8A0a3CDrhE62/hf1nVjSiVruV177bWm2UFOwY6glStXNrWX2CyB4QpxM2bMMIKBG27dNYpTTFENFKVLlzadDfkLMguqs3EC3S1MPWWzBtZ8ogBWvnx504SBQVGMaaZ06ZUtm7XOHq+1fPnyLEIcXXVMi2WdqGnTpplfzClG8gNzixYtTpkWa025QhrnxF/q6dxjvTmKgDnFp59+asS+6dOnm7Q4ReEgsG3rUbz84gIcP56O2meVDmlR4TjiXnmtHxITD+GRh6bA7/dg3W8HccON5xhXHEMCevYC+j333IOvvvoKa9euRbFixTLuDd+j6N5l11Q2o2GEMzakm6xBIiACIpCJgIS44NvBOOIkxAUEJSEu+P7RCBEQAREQARE4LQKOk4wU/8tg91SvdeKX7GARao24e4dMxttj5+J/8+5Fm7a14Hc2wbLKIdZ7NzxW9gXm2WSATrIJEyaYtMycgk6zs846y9RfctNNsxPi6DCjY61du3ZGAMsp6LCj6BVoDmyqQBHNFeLCTU3ldZlyylp327dvx+WXX25SXnnNUIJCIBs4MG2XzSZyCpcFBTl2aFQUDgKpqT48M3wONm48hKbN/mwaktPqQhXiduz4DWPfHoTz2l6FK6+4HwcPJOHIkVTcOrAF2nf4s7OyBPRTBXQyoWB/6623npL+zrRxivzsejx06FDzxUOoYwvHrtUqREAEzjSBiBXixtUOr0bcrVvUNTXA5pQQd6afWF1PBERABEQgogik+j6Cz/kRHjSGZUUHXXsoQlxamg91aj6FChVLYNnKR+A4fvixClFWexTxDoRl/dlNMPMF2cyA3UTZGZWOErcTKtM3M3cpdY956KGHzC+2FJz69+9vfpydEMfX6F5j7Sa6yljrLXNQqOP16WpjOiebMowfPx4suu4GnUAUBzt37pwhxLFZAxtD0P0WrFmDex4KcKxJd/3115sU1ZPr2WV3E+gcpJDIlLjMbsFAfHw+n5knO8Fu2rTJCJaKwkPg7TG/YNr3m9CqTRV4PFbQhYUqxH397ctYtGgKBg96CzWqN0b85sMoXjwG99zfDmfl4L6TgA4wnZ1CPTsyMxU1c9AJx2eXrjimvIczNujN1QAREAERCEBAQlzwbWEccRLiAoKSEBd8/2iECIiACIiACJw2AZ+9Emn+iQAceKxq2Z5n7JtzcPRoMmzbwYinp6F582roefWJbqXde5yDps2qZhz75ZSVuPG6CRgxqgeGPngJbGcfHCSjiPd6RHnamXFMFe3atasRsNgdlL+Yjhs3ztSLY1opO6K6QYccUz/ZlIFjma75ww8/YObMmejYsaNp8sCUVkZOQhzP3aFDB+Mm69evH1q1agUKcPw7RTTWpqObhSIWhTimvrKuEzud8hdpig3sQMo5uI44XpOOPHYn7dKli6lLR6ce/06xLSEhIUtqqrsmjmXKaHR0NHbu3GkaSWQONo2gEMh6dHTyMT2VKbBsYsHOqEyPdYMiJUU3prayDh7P99FHH4FdXllD77nnnjvt/aED8yeBn3/agg/eW4G4uCKoWClrd99AMw5FiPP50vH8C71QvHhp3DvkQ/OsL/1lN87vWAP33t8OUVES0HMS0PlewueY9Rgp0DPV3Y277roLb775pnlvY8p8OGPz5w7UrERABPI7gYgV4t6lI65oSLdn6fpktBkoR1wgWBLiQtpCGiQCIiACIiACp0fAcVKR6n8bPmcpvGiSrSuuQd3h2LY1a9MC94rvjLsR/fqfqHvEuLbXf/Dd1DXYGP8kqlQpAT/WmNTXWO/tsKwTxeXZiZTuMgpcFLzoRGMdM3YLZVfSzMHUSgpsdITt37/f/KLbsGFD4yhjN8LMjQhyEuJ4TrremE46efJkbN261bju2FWUwhhrx1HoYtBFxvpwLLrOZgl0s9B953ZizSzE8ZfqESNGGCGRTRtY627kyJHGtcZxmZs1uOty67dRiJwyZcopN49NHpjCxjUfO3bMiH+sm/foo48iLi4uy3imuTLdduPGjWZ9fL1ly5bGAdi7d+/T2xg6Kl8TOHIkBS+Ono8N6w+iWfNKsKzArrgFCycjJSXRpD/PnDUeVarUQ5PGnczaGjXsiMqVz85Y55o1s/HfTx5Hl8sGoVOnPti39ziOHUtFv/7n4qKLa5txEtBzFtDZbIZNVuhApTOOzyIduHzG+UUCm1249yqcsfl6M2pyIiAC+ZKAhLjgt0VCXPaMJMQF3z8aIQIiIAIiIAK5IuCzlyPN/zkcHIHXqperc518sN/ZAgvRiPFehShPhzw9d0E+GX8x79Wrl3HZ9ezZsyAvRXP/mwh8Mek3fPnFOpQuG4vKlUsEnMULL16HI0f2BHztmqsfRcuW3TJe+/CjR7F+/QI8NHQSihYtg5XL96HpuZVw7/3noXTpE51CJaCfaICSnYBORmzWwHRzuuLYcZlCP2s0Dhs2LEsDh3DH/k3bTJcVAREooAQiVYj75Z3aaFk/REfchmS0vk2OuEBbXEJcAX3wNW0REAEREIGCQ4BumXR7MtLtmbBQCh6rcp5M3nYOwsEeRFkXIMZ7EyzrRPqoAsb9x1p0rBfnptWKiwiEQ4ButTFvLMHiRbtwTtMKiI3Nu+eLTrsSJWLQp2/TLE0awplfYRwrAb0w3lWtSQQKJwEJccHv61IJcdlCkhAXfP9ohAiIgAiIgAjkmoDjHEOq/7/wO7/CQrlci3EnRLid8FrNEeO9ER4raw20XE+4AJ7g+PHj+Oabb7B48WLjmBk9erRJY1OIwOkSWLlir6kVt3XrUSPGRUd7T/dUGcdt33YUCcfScMllZ6H/Lc1DagaR64sWkBNIQC8gN0rTFAERQMQKcW+dFZ4jbnC8uqYGeF4kxOlNRAREQAREQATOEAGKZ0xR9TvLAUTBg1ohdVLNPD12SLWxDUASvFZTxHivhceqcoZWkL8vw1pxrB1VsmRJU99uzJgxplmDQgROl4Cp/fZjPL79egN27kxAo0blEVv09JxxPNfWLUeRmJiG9u2ro/+A5qYZRKSHBPRI3wFavwgUTAIS4oLfN+OIkxAXEJSEuOD7RyNEQAREQAREIM8I0BmXbn8P1o2zsQceVISFCkHTSinAOTj4xzHljQgX7e0Gj/Vnd888m6ROJAIikEGAAtqsmVsw7bvfsXnTIVStVhKVq5TItoFDIHRJx9OxccMhlCgZg1atquCmfk0z6sJFOmoJ6JG+A7R+ESiYBCJWiBsbpiPudjniAu1wCXEF87nXrEVABERABAowAcexjSvOZ/8M29llBDagGCyUgIViAFwXlw8Ojps/QCKAsvBaVRDl6Qiv1RaWlfs0uQKMUVMXgTNGgGLcb2sPYOq3G7Bm9X7jamMDh4qViiMqyhNwHjyGdeZ270rE8ePpqFu3DC7oVMukpBYtKqfmGbt5upAIiIAI/AUEJMQFh2occRLiAoKSEBd8/2iECIiACIiACPwlBBwnBX5nLXz2CjjYAcdxRTffH9fzwkJxWFZxWKiMKE9zeK0m5u8KERCBM0+AAtzPs7bg1192Y+fOYziwPwler2WcbjFFomBZgN9nG+EtOdmH4sWiUblqCTRsWB6dL6qNevXKnvlJ64oiIAIiIAJ5TiBihbgxddCyXohdUzcmo/Udm1UjLsDukxCX54+kTigCIiACIiAC4RGgcwZIgI19cJz9cJAKwIGFGFgoD8uqZLqtWvwtXyECIvC3Ezh+PA0rl+/F778fwvZtx3D4SArS0/zgs+z1elCsWDSq14hDjRpxOLd5ZVSrXlLP799+1zQBERABEcg7AhLigrNcKiEuW0gS4oLvH40QAREQAREQAREQAREQgYAEbNvBoYPJSEpKh+04iIn2omy5ooiNPb2mDsIsAiIgAiKQ/wlErBD35tnhOeLu3CRHXIDtLCEu/z/jmqEIiIAIiIAIiIAIiIAIiIAIiIAIiEA+ISAhLviNMI44CXEBQUmIC75/NEIEREAEREAEREAEREAEREAEREAEREAEDIGIFeJeD9MRd7cccYEeGQlxeiMRAREQAREQAREQAREQAREQAREQAREQgRAJSIgLDso44iTEBQQlIS74/tEIERABERABERABERABERABERABERABETAEIleIq4uWdUPsmvo7hbjfVSMuwDMjIU5vJCIgAiIgAiIgAiIgAiIgAiIgAiIgAiIQIgEJccFBLZUQly0kCXHB949GiIAIiIAIiIAIiIAIiIAIiIAIiIAIiIAhEKlC3JJX6YgrFtIuWPp7EtrcI0dcIFgS4kLaQhokAiIgAiIgAiIgAiIgAiIgAiIgAiIgAhLiQtkDEuKypyQhLpQdpDEiIAIiIAIiIAIiIAIiIAIiIAIiIAIiEMmOuFfqheeIu3ejasQFeGIkxOltRAREQAREQAREQAREQAREQAREQAREQARCJBCxqakS4kLcITkPkxCXJxh1EhEQAREQAREQAREQAREQAREQAREQgUggELFC3Mv10PLsEGvEbUpCm/vkiAv0PEiIi4R3Ca1RBERABERABERABERABERABERABEQgTwhIiAuOcamEuGwhSYgLvn80QgREQAREQAREQAREQAREQAREQAREQAQMgYgV4l6qH54j7v4NqhEX4JmREKc3EhEQAREQAREQAREQAREQAREQAREQAREIkYCEuOCgjCNOQlxAUBLigu8fjRABERABERABERABERABERABERABERABQyBihbh/NwjPETd0vRxxAZ4ZCXF6IxEBERABERABERABERABERABERABERCBEAlIiAsOyjjiJMQFBCUhLvj+0QgREAEREAEREAEREAEREAEREAEREAERMAQiVoh7oWF4jrgH18kRF+CZkRCnNxIREAEREAEREAEREAEREAEREAEREAERCJGAhLjgoIwjTkJcQFAS4oLvH40QAREQAREQAREQAREQAREQAREQAREQAUMgYoW40Y3Qsk6xkHbB0s1JaPPQb3LEBaAlIS6kLaRBIiACIiACIiACIiACIiACIiACIiACIiAhLpQ9ICEue0oS4kLZQRojAiIgAiIgAiIgAiIgAiIgAiIgAiIgApHsiHs+TEfcw3LEBXpgJMTpbUQEREAEREAEREAEREAEREAEREAEREAEQiQQsampEuJC3CE5D5MQlycYdRIREAEREAEREAEREAEREAEREAEREIFIIBCpQtziZ+mIKx7SLV66+TjaPipHXCBYEuJC2kIaJAIiIAIiIAIiIAIiIAIiIAIiIAIiIAKRWyNOQlze7H4JcXnDUWcRAREQAREQAREQAREQAREQAREQARGIAAKR64hrjJZnheiIi6cjbq26pgZ4HiTERcCbhJYoAiIgAiIgAiIgAiIgAiIgAiIgAiKQNwQkxAXnuFRCXLaQJMQF3z8RO8JxbDjYAdvZA9vZBwdHAfgBeGGhBDxWJVhWRXhQE5YVFbGctHAREAEREAEREAEREAEREAEREIHIISAhLvi9lhCXPSMJccH3T8SNcJwk+J3V8NnLYTvb4CABwHE4SAdg/cGDYlzxPwS5avB6miHKOheWFRdxvLRgERABERABERABERABERABERCByCEQsULcM03CS0391xqlpgZ4LCTERc57RdCVOo4D21mHdHsm/M5mAIcAlIaFUidENysm4xyOQ1GO4twx2DhkxnitmojyXAyv1RyW5Qp2QS+rASIgAiIgAiIgAiIgAiIgAiIgAiJQYAhIiAt+q4wjTkJcQFAS4oLvn4gYQWEt3f4BPmcJHGcbLFSChQqwLG/Q9Z9IYT0IGzvhQVVEeVog2tMDllU06LEaIAIiIAIiIAIiIAIiIAIiIAIiIAIFiUDECnEjzwnPETdstRxxATa2hLiC9LT/RXN1nDSk218i3V5oXG4e1IFlFQn7ahTzbGwx6atRVhvEeK+FZRUL+zw6QAREQAREQAREQAREQAREQAREQATyKwEJccHvjHHESYgLCEpCXPD9U6hHMB013f4K6fZsAOl/iHCe014zz+dgOxykIso6HzHe69XI4bRp6kAREAEREAEREAEREAEREAEREIH8RiBihbgRTdGydvGQbsfSLcfR9vFVcsQFoCUhLqQtVHgH+ewVSPN/DgcH4EGDPKntZmrNIR4WiiDG2xNRno6FF6BWJgIiIAIiIAIiIAIiIAIiIAIiEFEEJMQFv90S4rJnJCEu+P4ptCMc5xhS/f+B31kJDxplacaQ20U7jh821sBj1UMR7y3wWJVze0odLwIiIAIiIAIiIAIiIAIiIAIiIAJ/O4FIFeIWDQ/PEXfeE3LEBdqsEuL+9kf475tAuj0Laf4ppuOpxyqf5xOh0GdjB6I93Y0zLpLi5ptvxs8//4wtW1gzTyECIiACIiACIiACIiACIiACIlBYCEiIC34n6YiTEBeYk4S44PunUI5wnFSk+sfC56yEF02zTUlNTEzFKy/9hGVLt2Ppr9uxZ08C+vZrg3fH35SFy8AB/8XED5dky2rEiGEYNmxExuvbt2/HsGHDMG3aNBw5cgRnn302Bg8ejLvvvjvLXH777Tc8/fTTJq989+7d8Hg8qFOnDih03X777ShSJPymEmfihuZWiFu4cCFGjBgBvsEfO3YMNWrUQO/evTF06FCULl062yU88cQT5rhq1aphx44dZ2KpuoYIiIAIiIAIiIAIiIAIiIAIRBSBiBXinqYjrkRI93rplkSc96QccYFgSYgLaQsVvkF+ew1S/e8DcOCxqmW7wK1bDqFhvRGoXCUOLVtWx3dT1wYU4hYu2IL4zQdOOc8br8/C0l93Y9GSCWjb+mbz+q5du9C6dWskJibirrvuQs2aNTFz5kxMmjQJDzzwAP79739nnGf69Onm7+eddx6qV68Ov9+PefPm4eOPP0b37t3xzTff5Mubkxshbvbs2bjkkktQv359DBgwAHFxcVi0aBEmTJhguPH/W5Z1yro3btyIpk2bIioqyoh1EuLy5dbQpERABERABERABERABERABAo4AQlxwW+ghLjsGUmIC75/CuWIdPtHpPknwYOasKxi2a4xNdWHAwcSUa1aafh8fpQsOjSgEBfoBElJaahd/QnUrFUMS5ePQ4y3lxlG19ubb76JOXPmoEOHDhmH3nnnnXjrrbewevVqNGrUKEfuFPB4jnXr1qFBgwbZjk1LSzOvxcTEnNH7mBsh7rrrrsOXX35pHIDlypXLmDe5vfHGG1i2bBmaN29+ynq6dOliBLqUlBT8/vvvEuLO6B3XxURABERABERABERABERABCKFQMQKcU82C88R9/RKdU0N8FBIiIuUd4qT1pnq/wg+ewY8ODfkTqnhCnEf//dXDOg/EaOeb4377r8ZRbx3mGs1a9YMSUlJRizKHEuWLEHbtm3x+OOPY/jw4TneGbrkHnzwQTCFk245xnvvvYdbbrkFU6dONa65Dz74wLjvmNZK4ergwYMmbZMiF39eoUIFXH311Rg5cmSWdE8KhGPHjsWCBQuMGFaiRAl07twZo0aNOkX0o0PvmWeewbhx47B//340adLEnO+TTz7JUiOuTZs2OHr0KDZs2HDKuigqvv3220Y4q1SpErp27Yr58+eblF2m4rrx7LPP4rHHHsP69euNWy5zfP755+jbty9WrlyJQYMGSYiL0OdayxYBERABERABERABERABEfjrCUiIC87YOOIkxAUEJSEu+P4plCNSfC/D76yB1zon5PWFK8T16DYWs3/+Hevj+6FK5bqI9d5v3HcNGzY0DjWKRpljzZo1OOecc4wQ9f3332d5jcId/xw/fhyLFy8G3XPR0dFGcCpatGgWIY7n4Gt9+vQxwh9rq5UsWdIIdgcOHMBtt91m6szRTUfBje47im5uvTk6z1atWoULL7zQ1Frbtm2bEcocxwHnWLFixYy5uc48utF69OhhmjNwbO3atZGQkJDRrIHXueOOO4xAeP7552ccT8de1apV0b59+4w0W1dkpKh4//33o1SpUkZwZE28yy67zKTlZg6m+JIp1/v888+becsRF/K21sBCSoDPqz8xGXZyGhzbgRXlQVRcMXhiogvpirUsERABERABERABERCBM0UgcoW4c9GiVmg14pZtpRC3Qo64AJtSQtyZelLz0XX4C2qKfzRsZzO8Vs4poJmnHY4Qt3PnEdSvMxxdujbC519eDI9VAbHee2FZccaFRqEtPj4eVapUybgE0y4pgrHO2cki3VNPPWWaNrhBUe2dd94x7jo3XEdc48aNzcMeGxub8RqFu4kTJ5rmB2wM4ca3336LK664wqTE0knGoNhXvHjxLHeMTjbOi/N49NFHzWtsJEEHXM+ePfHFF19kOAtZt+7KK69ErVq1MoQ4uuG4VrrWOG83Jk+ebIRC/rdXrxOpu+np6bjvvvvw7rvvwk2t5c/J5pVXXsnikuPP2cCBDjwKi3TvSYjLRw+bpnJGCdhp6UjevBsp2/cjdd8R+I4lwUn3nZiDZcETG4OY8nGIqVgGxc6uiphKpUN2BJ/RhehiIiACIiACIiACIiAC+ZqAhLjgt0dCXPaMJMQF3z+FckSK7wX4nY3wWo1DXl84QtwLo3/EE/+aio8+6Y+evUrAY1X6Q4griVmzZuHSSy8F0zVffPFF04Thp59+MuITRTAKWCenrW7evBn8w/RSHk+hjqmaFJ3ccIW4l19+Gffee2/Gzyk8Mg314osvxpgxY05ZL91r3bp1A9M7Tw66zVJTU40bjsfXrVvXiG4Mus8eeeQRzJ07N0utO75Gl11ycnKGEMef0bHGtNk9e/ZkiIQU7JiGylRZt46dbdsYPXq0Oe8111xjHHE//vijcdoNGTIEXJ8brKfXokULk4Z74403mh9LiAt5S2tgISFAAS5h+SYkrtuOtP1H4DuSSOUN3qIxsKKjjAgH24Y/JQ1OWjqsmGjElItDbI0KKHnu2Shaq1IhIaFliIAIiIAIiIAIiIAInAkCESvEPd48PEfciOVyxAXYkBLizsRTmg+vkeJ7Gz5nAaKsU4v+ZzfdcIS4Fs2ew949CYjf/jSiYjbAa9VFEe99sKwTaWHvv/++Sbs8dCgQtYUAACAASURBVOiQ+TvTS5mSSccZ00HZkCCnoBj18MMPY8WKFRmNHVwh7uuvvzYuNzf27dtnaq/lFJ06dQK7lTJYF44CG51thw8fznLYRRddZIRAxuDBg404xnTXzE0V+Bpdf1wDU1Xd4HHshsrU0htuuAGcF9fKlNVXX301Y9w999yDr776CmvXrkWxYn820mB9OIqP7JrKWnoMzpvpt+7c+TMJcfnwgdOU/jICKTsP4PC8NUiO3w1/QjKiy5ZEdJmSsKK8Aa9JUd1OTkX6wWPwJ6WiSNVyKHnOWYhr2wDe2DPb1OUvg6ITi4AIiIAIiIAIiIAI/KUEJMQFx2sccRLiAoKSEBd8/xTKEWn+r5Bmfw0vGmaIY8EWGqoQ98uSbbjg/JcxaHAHvPzaNbCxAlGeS1HE2zfLJZh2SWcb/8u6blFRUaaW27XXXmtSLXOKvXv3onLlyqZ5AZslMFwhbsaMGcZx5wYdaEwLveqqq0xtuUBRunRptG7dGnSjsbEDGyfQocfUU6Z7smkCXXbly5c3TRgYTGVlmildemXLls1yWl5r+fLlWYQ4CgBMi2WjhWnTphlnG8VIvonT1cYgC17v1ltvPcW9x3RbzvGFF14w6aiZ01ozp+jSece6dmw6wRTbzOm/we6xXheBgkKAz1Pimi04MncNUnbuR3TpkoiuUCqsVFM7NR0pO/bDExOFYvWqo/w/WiGqVNa09ILCQ/MUAREQAREQAREQARE4cwQiVogb1iI8R9zIZXLEBdiWEuLO3LOar67ksxci1f8xLJSGxyoT0txCFeLuHTIZb4+di//Nuxet25SHje2I8fZCtOcfOV6H3UzpJJswYQJuvvnmHMfSaXbWWWeZBgZuuml2Qhw7m9Kx1q5dOyOA5RR02FGICzQHNlWgiOYKceGmpvK67AbLWnfbt2/H5ZdfblJeeU036MbjddhQgm67zEEnHNdAVxwde6wXR7Ewp+jevTtYB08hAoWNQMKqeBz+30qk7jmM2JoVT9vNxmcwff9R+I4dR/HGtVDh8raIKvmnE7WwcdN6REAEREAEREAEREAEck9AQlxwhsYRJyEuICgJccH3T6EcYTv7keofC9vZDa/VIKQ1hiLEpaX5UKfmU6hQsQSWrXwEfmcLLJRAkahb4LX+bJJw8gXZzIDdRNkZlSmZbidUpm9m7lLqHvfQQw8ZZxjFt/79+5sfZyfE8TW619j8gLXWWOstc1Co4/XpamPNNTZlGD9+PNi11A2m0lIc7Ny5c4YQx2YNbAxB91uwZg3ueSjAsSbd9ddfb1JUT65nx7mwnh07uPL8dOq54XZodR1/rKNH193J8eSTT5o6dBTy6Ibr0KFDSPdXg0SgoBBgM4b9UxeBaalFz6oMD+vA5TLSDh4zteXiWtRFhR7nwfIGTm3N5WV0uAiIgAiIgAiIgAiIQCEgEKlC3MJ/0RFXMqQ7uGxrAto9I0dcIFgS4kLaQoVzUJr/U6TbP8CD+rCsPzuMnrzasW/OwdGjybBtByOenobmzauh59UnupV273EOmjarmnHIl1NW4sbrJmDEqB54YGhn2FgNr9UBRbz/hGV5zDiKRF27djUCVo0aNUxNtnHjxpl6cRSZ2BHVDTrkmPrJumcce+TIEfzwww+YOXMmOnbsaJo8MKWVkZMQx3NTkKJ41a9fP7Rq1QoUvfh3imisTcd0UJ/PZ4Q4pr6yMQKFLDrR6NYrU6aMmYPriOM16chjx9UuXbqYunR06vHvFNsSEhKypKa6a+LY6dOnIzo6Gjt37jTCW+ZgrbwHH3zQOP7ojIuLizMC4pQpUwwH1ppjXbjsQjXiCufzqlWdIMB00r1fzkPi6njE1qx02k64QDxTdh2EFeVBuYtaIK5lXSEXAREQAREQAREQAREQgYAEJMQF3xgS4rJnJCEu+P4ptCP89gak+j+Eg/3woEG24k6DusOxbWvWpgUulHfG3Yh+/U80DmBc2+s/+G7qGmyMfxKVqhyChSKI8V6HKE/rjDHsREp3GQUuCl50ol122WWgk4tdSTPHp59+agQ21pLbv3+/cYo1bNjQOMruvvtu83c3chLiOIauN6aTsrba1q1bjeuuZs2aRkRj7Th2a2Vs2rTJpHyya2l6erpJB6X7zu3EmlmIo5g3YsQIIySyaQNr3Y0cOdLUuOO4zM0a3HlyTWzWQCGS4lqgYLMGuuXoimPDCM7zuuuuw7Bhw7I0cAh0rIS4QvvIamEAjiz8DYd+XmFccDEV/3SM5gUcx7aRtHEnitauhErXXGCaPkRK8D05u/esSGGgdYqACIiACIiACIhAqAQiVoh7rAVa1AztM/KybQloN0qOuEB7SkJcqE9aIRxnaiPZXyHdnvFHrbiszqzcLNlxjsLGDkRZnRHjvRGWpTQvlyfFt169ehmXXc+ePXODWceKQEQRoBtu9yc/Ien3naa5QiBn6PGUZLz13edYuWUjVsZvwL6jh3Btx8vwym0PZWF17zuj8fncGdny+9egIRj51p/djJlWTiGcdSbpzGXjFXZO5hcCmedB8Zx1INlchW5fNnqpU6eO+fKBDtrMXx7kp5uXWyFu3rx5Zt0LFy40bmM2oHn88cfNFx2ZY/369abJDfnwAyydw6HUBc1PrDQXERABERABERABEZAQF3wPSIjLnpGEuOD7p1CPcJwEpPrHw+8shwdnwbLicr1ex0mCjY3wWA1RxDsAHivvBL5cTy4fnIDuP9ai4y/2blptPpiWpiAC+Z5A4tqt2P/dIlO/LaZ8qYDz3b5/D9o90A+VSpdF09r18ePyhQGFuF82rsXWfbtOOcd/pk/BivgNmDb8TVz28EB4YqKxa9cu07GYbl7WaqRDlenxkyZNwgMPPACmk7vBtHP+nSn21atXN6IURSrWhGTzlG+++SZfcs6NEMeSAmw+w5T8gQMHGrFx4sSJRmjjFw9XXnllxprpXB4wYADq1atnOl//73//kxB3mjuCX6YBx2BjH/jvLmAD8JoGTBYqwrL+dIyf5iV0mAiIgAiIgAiIQDYEIlaIe7RleI64Z5eqa2qAPSQhTm8t8Dtbkeb/DLazFhZqhtxFNRA6Cnt+bILXqosYzzXwehqJMIDjx4+bX8AXL15sUk5Hjx5t6sApREAEQidwYNoSHJ67GsXqVs22mUJqehoOJRxDlbLl4fP7UeuWrgGFuEBXTU5NQfO7r0e1MuUx7cGXUOnqjiZNla63N998E3PmzMnS/IQp7awJSWG9UaOc3+vcZivr1q1DgwbZN8hJS0szU4uJiQkdTB6MzI0Qx7qabKxDt5vbYIb1Nilesj7n5s2bM7504N+9Xi9KlSplal/yiwk54sK7gbazD35nJfz2Ojg4DMdJhAPuGwcWWIu1GCyrODyoBq+nCbxWkxzrwIZ3dY0WAREQAREQAREgAQlxwfeBccRJiAsISkJc8P0TESPY3TTdPxl+Zz2AWHhQE5YVeidCx7HhYAccHIHHqocYT094PY0jgl0oi2StODZfKFmypKlvN2bMGNOsQSECIhAaAdZv2/XRTFPDrXi96iEdFK4Q98X8mbj7refwr1634JaWl6JCt7amaUOzZs1MR2c2d8kcS5YsQdu2bU0K5vDhw3Ock9uEhambbkMat67l1KlTjWvugw8+MO47pm02b97cNKphDUqmsfPnbOzCBjasQ5m5ozIFwrFjx2LBggUmHbZEiRKmw/OoUaNOEf3o0HvmmWdMXUvW3WzSpEnAupZt2rQxdTU3bNhwyrooKrIr844dO8z7WLly5fDPf/7TnDNzsLYmO1zTPXhyt2qOkxAX0jbOGGQ7B+GzZ8Hv/Abb2QsHx01XcgvFAdD9xiY+fgDJ5jUgFRbKwWNVgdfTFlFW+7D+XQ9vdhotAiIgAiIgApFFIFKFuAUPtwrLEdf++V/liAvwaEiIi6z3ixxXazsHkG5Ph99eCRt74EFZWKiUY3qL46SZZg82DpjxHqsJYrxd4LGqiawIiIAI5BmB9COJ2P3fWfAdPY7Y6qGlu4crxN04+mHM/20Flrz4EYrvT0LZC89FuUtbmgYxdKixaUzmWLNmjWnQwi7Q33//fZbXKNzxD92wdMLSPUfRimIeG8UwXCGO5+Brffr0MfXmevfubUR7CnZsAsPuyawzRzcdBTe67yi6ufXm6NhbtWqV6apcrVo1bNu2zQhlTF3kHCtWrJgxN9eZx9ptPXr0MA1lOPbkTs+8zh133GEEwvPPPz/jeDr2qlativbt2xuXL7tgs7s05/Daa69lYUAXIa/33HPP4eGHHz5lL0iIC+3x4H30O7/AZ/8Mv7PxRPopKgOIy7GDtuP44OAAbOyFB+WNMy7a2xUei8cqREAEREAEREAEckNAQlxwenTESYgLzElCXPD9E1EjHMcPv7MUPnsxbIcOt30m3cWkuoC/PDLthe63FCZcGjYWysNjVYfX0wJRVjtYlpxeEbVptFgROAMEUncfwp7Pfobj8yOmYpmQrhiOELf70AG0va8PLmrWBh88MBLH121DqXaNUPGK9saFRqEtPj7eiE5uvPHGG0aAYmrmySLdU089ZZoXuEFRjU0K6K5zwxXiGjdubL4pjI2NzXiNwp1bZ42NIdz49ttvccUVV5iU2EGDBpkfU+wrXpyuqD+DTjbOi/N49NFHzQtsJEEHHJvEfPHFFxkiDgU11nFj52i30zPdcFxr3759zbzdYNdpCoX8L5vO2LZtnHo1atTAsmXLsghD7rhAIh3PJyEu+Dam29znTEe6fw5s7IIHteCxwusWzH/XTzjWE+C1GiHaezW8Vp3gF9cIERABERABERCBbAlErhDXGi1qhNg1dTuFuF/kiAuwiyTE6c0lIAF+k247G+F31sF2dv5Rhyb5D1HOMi45C6XhsarCYzWA12qgwtDaSyIgAn8ZgZRdB7Dns/8BfhsxFUMTIsIR4t745hM8+/l/8PZdj6NH204nhLjzGqLiledj1qxZuPTSS8F0zRdffNE0Yfjpp59w3333GRGMAtbJaausi8Y/TC/l8RTqnn32WeNac8MV4lg38t577834OR1QFLeYzsk09pOD7rVu3brh888/P+U1NpRITU01bjgeX7duXSO6MZ5//nk88sgjmDt3bpZad3yNLrvk5OQMIY4/o0OPabN0vbkiIQW7+fPnm1RZt47dk08+aVJzWWfu/vvvNz9nmi3TcemgC5S2KiEu+KPCe3hChPsJDg7CA/47G3rJiJOv4DhHYGMrPFZjxHivg9eqFXwSGiECIiACIiACIhCQgIS44BtjmYS4bCFJiAu+fyJ+hNuZzcFROPCZtBgLJWGhTI5pMREPTgBEQATyjEDqnsPGEWenpqNI5bIhnTccIe7CR/6J/UcPY+lrnyAmKhpJ67ej9PlNUKH7eeZa77//vhGZ2GyAwfRSCk10nDEdlG6wnIJiG9MzV6xYkdHYwRXivv76a+Nyc4ONDypVqpTj+Tp16oTZs2ebMawLR4GNzrbDhw9nOe6iiy4yQiBj8ODBJg2V6a6s65Y56PrjGlxHHF/jcZdcconp+HrDDTeYhgxcK1NWX3311YzDWXeOzWfoEExPTzc/p1jJ2nl07VFk5PpPDjnict7GPnsl0vyfwzGlIhrCsrwh7fucBjkOu6zGw2u1QhHvLaapg0IEREAEREAERCB8ApEqxM1/qE1YjrjzRy+RIy7A9pIQF/4zpyNEQAREQATOMAF/Uip2fTgDafuOmk6moUSoQtzyzevR/am70P+SKzCq/xDYaT6kbNuLcpe0RJlOTTMuRXcXnW38L+u6RUVFmVpu1157LT755JMcp7R3715UrlwZjz32mGmWwHCFuBkzZhjHnRtu3bWrrrrK1JYLFGzWwK6kTA1lYwc2TqBDj6mnbNbg8XiMAFa+fHn8/PPP5hQUxZhmSpde2bJZxUxea/ny5VmEOH4Jw7TY+vXrY9q0aUZMoxjJD54tWrQ4ZVpHjhwxNelYu45zotBG5x7rzVEEPDkkxGW/ZSiYpfrHw++sgAeNYFl510X3RKOHRER7uiDa011fqIXyZqIxIiACIiACInASAQlxwbcEHXES4gJzkhAXfP9ohAiIgAiIQD4gsOfz2UhYvgnFG9YMaTahCnH/+uB1vPfj1/j2ydfR4uyGpiGELzEZFa9ohxJNamd7LXYzpZNswoQJJi0zp3A7J99+++0Z6abZCXF0mNGx1q5dOyOA5RR02FH0CjQHNlWgiOYKceGmpvK6TDllrbvt27fj8ssvNymvvGYoQSGQDRyYtstmExLiQqF2YkyafyrS7amwTBOk8qEfGMJI3kMb62BZVVDEezO8VvZ7PITTFaghfE75PGR2fhaoBWiyIiACIiAC+YZAxApxQ+mIiwvpPizbfgzn/1uOuECwJMSFtIU0SAREQARE4O8mcGj2Shz6aTmKVC0Hb9EiQacTihCX5ktHyyE3oHxcafz83H/MOVN27Ie3ZDFUvrYTilQK3BiCzQzYTZSdUdeuXZvRCZXpm5m7lLqTfOihh/DCCy8YF1z//v3Nj7MT4vga3WvvvvuucZWx1lvmoFDH69PVtnr1atOUYfz48bjlllsyhjGVlqJD586dM4Q4NmtgYwi634I1a3BPRAGONemuv/56k6J6cj277G4CnYMUEllTLju3oBxxgek5TgJS/GNMnVYPmgR0rCUmpuKVl37CsqXbsfTX7dizJwF9+7XBu+NvynLSgQP+i4kfLsn2WXl6eB888fjEjNd5v4cNG2YEYDoc6Yikm5ENN9jR1w3uJQq0bDLC1Gg6MCm2cs9RbHY7+gZ9SM/wgNwKcQsXLsSIESOMK/TYsWOmSQmbkgwdOhR0qZ4cv/zyC0aOHGnqMrKeJFO72bGYHYUVIiACIiACBZuAhLjg909CXPaMJMQF3z8aIQIiIAIikA8IUCDb+8VcME01tlr2LqEJM77E0aTjYMfJf3/xAc6pVRfdWnc0K/hHi/ZoXPNPd9Z3S+Zg4OvD8dh1/8SdPW4wXVmTNu1CXOv6qNjzfCM+MFW0a9euRsDiL94UHsaNG2fqxTGtlB1R3aBDjqmfbMrAsRQzfvjhB8ycORMdO3Y0TR6Y0srISYjjuTt06GDcZP369UOrVq1AAY5/p4jG2nS33norfD6fEeKY+jpkyBDT6XTRokWgW69MmTJmDq4jjtekSMKOqxQDWJeOziD+nWJbQkJCQKcQx06fPh3R0dHYuXOnaSSROdg0gkIg69HRycf0VKbAsokF69gxPdYNCoivv/66+eumTZsMA3ZfdVNdKfiUKlUqH+y2v28KPnsBUv2fwUIxeKysrN1Zbd1yCA3rjUDlKnFo2bI6vpu6NqAQt3DBFsRvPnDKYt54/X9GwJu36E60bzMKlhVnGnAw3ZkNP+666y7UrFnT7NtJkybhgQceMDUR3eB+4N+591kPkHtz3rx5Rqzt3r27qVeYHyM3Qhz3Mmsm0mU6YMAAxMXFmWeNblRy4//PLFZOmTIF1113nRGkuceZxk6hk45SPp8KERABERCBgk0gYoW4B9qG54h7cbFqxAXY6hLiCvbzr9mLgAiIQMQQcGwb+6bMw7Flv6NonSrwRAfuIHne/X2x48DegFxeGjgU11/QJeO1W15+Aj8uX4Qlr3yEymXKI3XviWYHFS5vixKNT3SVpDDBX+D5izYFLzrRLrvsMrBbKLuSZo5PP/3UiEt0hO3fv984gxo2bGgcZRSZMjuFchLieE6KVkwnnTx5MrZu3WpcdxRHKIyxdhyFLgYFLdaHo+uGzRL4iz/dd24n1sxCHAUTOnooJLJpA2vd0bFD11p2KXtcE5s1UIikuHBysMkDHUFcs+sSYt28Rx991IgVmcNN0c1u08bHxxtRMJIjzf8J0u1p8KBptg0aUlN9OHAgEdWqlYbP50fJokMDCnGBOCYlpaF29SdQs1YcFi/9PxTx9ofX09TsTzq15syZk6WrLvcaxVq6L9ldN6eggMdzrFu3Dg0aNMh2KOssMtzOu2fqfudGiKOoRgGNQnzmZifkxkYlfA6YJs6gqElWfG7YIEUhAiIgAiJQ+AhIiAt+T40jTkJcQFAS4oLvn1yPYD0WB4fhOPvg4AjwR+dRoDg8VkVYKA/LCvwLZa4vrhOIgAiIQCEikPT7Luz/fjF8hxMRW7tSnhaa96ekmSYNJZudjYo928MTE12IyJ3+Uii+0dFDEaJnz56nfyIdGZSA4/iR6n8VfmctvNY5QcdzQLhC3Mf//RUD+k/Es893w9331UKMtzeiPZegWbNmJtWarsvMsWTJErRt29Z0wWXNwJyCLjl20GUKp+sUdQXnqVOnGtfcBx98YIQqprVSuKKDlOIw9xd/TsclnaUUiDOne1IgZOOPBQsWGDGMTUmYej1q1KhTRD8KzmyKQsGZgjibmAQSnNu0aWME7w0bNpyyLIqKFNHYCIVdjOmKnT9/vnG5MhXXjWeffdY0YVm/fr1xyzGeeOIJPPfcc0a4pzOVYj6FdK83951vQ9oUGiQCIiACIvCXE4hUIW7e/eE54jq8JEdcoM0oIe4vfERt5zD8zir47ZVwcBCOcxwOUgD4AXhgIQawisODOHisRojyNIOF6nn6i+VfuDydWgREQATOOAF+sXFo1nIcWbAW3hJFEVMutGKxwSbq+G0kbd5l6s9VvKJ9jqmvwc5V2F6n+49uKKbVuWm1hW2N+WU9trMfKf434DhH4LXOCmla4QpxPbqNxeyff8fG+CdRodJmRHu6IsZ7g3Fu0qFGZ2PmYKoxnZMUor7//vssr1G44x/WP1u8eLFxajKFmWIehSeGK8TxHHytT58+5nMOa6sxXZOCHd2Zt912m6kzRzcdBTc6yii6uS5SOs9WrVpl0r5Za23btm1GKON7AueYuTaj68yje7RHjx4m5ZpjT07B5nXuuOMOIxCy5qMbdOyx2Un79u0z0mxdkZG1GNk9mCnUFByZ7s1nhGm5blC4TElJMa5ZCpN0enIdnAsbmPDcChEQAREQgYJNQEJc8PtHR5yEuMCcJMQF3z9hj3CcJPicn+Gzl8F29sJBAiyUgIXisMAPpie+SaUo5+A4gAQAUbCsSvCiPqK9l8FjVQr7ujpABERABCKBgP94CvZ9swDH125DdPlSiC5TIlfLpgiXvHUvouKKofT5jVH6vJzT73J1sQJyMIUV1vmiuMIGDaNHjzaCguKvJWA7O5DiGwsgFR6rekgXC0eI27nzCOrXGY4uXRvhi68GwucsR7TnIpOeShcahTaKRqw16AbTLimCsRbhySIdaxWyaYMbFNVYH5DuOjdcIY6NQuiCi42NzXiNwt3EiRNN8wM2hnDj22+/NTUMmRLLxiUM7snixYtnYUInG+fFeTAVmsFGEnTA0b0ZrCkJ3XBca9++fc283WA6OIVC/pduUAbTvpkCziYqbmotf042r7zyShaXHJ18dL+x7iJTxCnoUVR86aWXzDqZxlqsWLGQ7q8GiYAIiIAI5E8CESvE3XceWlQP7YvwZTuOocPLi1QjLsAWlhCXx8+139mEdP8P8DvrACTBQhVYKAPL+jONIdAlHScRNvawXx88Vl1EezrBa7ULelweT1+nEwEREIECQSD94DEc+GEJjq/fccIZV7EMLM+fXR1DXQTTUVN37EdUqeKmQUOZjufAypR2Fup5Cts4t5YbHUusbzdmzBjjZlL8tQRsZztSfG/9ZULcC6N/xBP/moqPPumPXtc0h89ZhmjPhSjivQWzZs3CpZdeCqZrvvjii6YJA5uLUHyiCMaahCenrW7evBn8w/RSHk+hjqmadK254QpxJ3fcpZONaajsCsz9dXLQvdatWzewGcjJwVTP1NRU44bj8azVSNGNwbqKjzzyiKmZyIYnmYMuu+Tk5CxNSejQY9osm7K4IiG7/TINlamybh0727aNIM3zXnPNNcYRx86/dNqxUQrX5wado0yPZSovU3rdYAou01ZZR49OPIUIiIAIiEDBJSAhLvi9kxCXPSMJccH3T8gjfPYKpNvfwHY2wUKlE3+s8H4xdJxj8GMLPKiEKE9HkzJiWaopEvJN0EAREIGIIZB+OMGkqbLLqS8xGUWqlIO3eGxI77t0waUfPIr0I4koUrU84lrURam2DSTCRczuyZ8LtZ09SPGPAZwEeKwTzTiCRTiOuBbNnsPePQmI3/40YmK88GMFoj2Xooi3r7nM+++/b9Iu2bWXwfRSpmTSccZ0UDq5cgqKUQ8//LDpDOo2dnCFuK+//tq43NzYt2+fqb2WU3Tq1Ml03mWwLhwFNjo1Dx8+0VTFDXbspRDIGDx4sBHHmO6auakCX6Prj2ug0OwGj2M3VKaWsrkC58W1Uih79dVXM8bdc889+Oqrr7B27dosbjbWh6P4yGYuTEllUMCmWMjruE1V+HNX4GbjBzZBUYiACIiACBRcApEqxM29t11YjriOryyUIy7ANpcQl0fPvt9egzT7C/idzfCiHizr9FMOHMcHGxthoRSivRciyuoW0i+WebQUnUYEREAECgwBO92HhKW/49jy35G27wjsNB+iy5aEt1gsPLHRWYQ1jrWT0+A7lgR/YjKiShdHbK1KKHN+Y8RWr1Bg1qyJFl4CjpOGFP/LsPlZwgotRTpUIe6XJdtwwfkvY9DgDnjl9d5wnBTY2IwY79WI9nTLgMq0Szrb+F/WdaO7i8ISO+Gyu25OweYElStXNs0L2CyBkV13YDrQmBbKbrxMUQ0UTPFs3bo16EZjYwc2TqBDj6mnbNbApglM/Sxfvrzp+stgKivTTOnSY4fjzMFrLV++PIsQR1cd00XZaGHatGnG2UYxkr9gtWjRwhxOFrzerbfeeop7j+m2nCM7FbN7MIP19ti8ge67zKm4rBtHcZM15aZPn154N7JWJgIiIAIRQEBCXPCbTEechLjAnCTEBd8/QUfYzkGk+d+Dz1kFLxrAsk4UKM5NsHOajfWwUBEx+hsV6wAAIABJREFU3utMIweFCIiACIhAYAJp+4/i+PrtSNq4E2mHjsFOSoWdmm5S14wv2WEpTi+8RWNMKmts1XIo3rAGitWrpu6o2lT5ikCq7wOkOzPhRfOQvoQLVYi7d8hkvD12Lv437160aVsL/OziIBFFvP0Q5WmZLQN2M6WTbMKECbj55ptzZOU6vtjAwE03zU6IY+omHWvt2rUzAlhOQYcdhbhAc2DjA4porhAXbmoqr8sUUta6Y0OSyy+/3Lxv8Jpu0I3H67ChBN12mYNOOK6Brjg69hj9+vUzte82btxo0mbdYGpvvXr1TMMKvq4QAREQAREouAQiVoi7p314jrhXF8gRF2CbS4jL5bPvODbS7M/gs3+ChcrwWGVyecY/D+c34zZ+g9dqhiLef8KyQiuKmGcT0IlEQAREoIARMDXfdh5A+qEEsI6cnZJm3DSeKC+i4oojulwcYsqXQkyl0kpDLWD3NlKmm27PRJr/C3hQAZZVOuiyQxHi0tJ8qFPzKVSoWALLVp4Qi/zORlhWRcR6B2fbIIrNDNhNlJ1RmZLpdkJl+mbmLqXuJB966CHjDKP41r9/f/Pj7IQ4vkb3GpsfsNYaa71lDgp1vD5dbezay6YM48ePB7uWusFUWoqDnTt3zhDi2KyBjSHofgvWrME9DwU41qRjPUSmqJ5cz45zYT07dj7l+enUc8Pt0DpjxgxTY4/BphcU9B544AGT2usGHXOsv/fhhx+aBhEKERABERCBgktAQlzwe2cccRLiAoKSEBd8/+Q4wm+vRap/oumM6rX+7PiVy9NmHG47B+DgMGK83RHtuTyvTlsgzsMP1/yGO3MtlwIxcU1SBERABERABE6TgO3sQ6r/LbBenNeqn+1Zxr45B0ePJsO2HYx4ehqaN6+GnlefcM9373EOmjarmnHsl1NW4sbrJmDEqB4Y+uAlOPFF3zpEWZcgxnuTcd4xVbRr165GwKpRo4apyTZu3DhTL44iEzuiukGHHFM/2ZSBY48cOYIffvgBM2fORMeOHU2TB6a0MnIS4nhuNlSgU4wuslatWpkmB/w7RTTWpmM6qM/nM0IcU1/ZGIEprXSi0a1XpkwZMwfXEcdr0pHHjqtdunQxden4OYJ/p9jGTqaBPldwLNNF2ZRk586dRnjLHBTU2Dn4rLPOMs64uLg4IyBOmTLFcGCtucx1gcmI8+O62DV14cKF+OCDD07hc5rbRIeJgAiIgAj8zQQiVogb0h7Nq5UKif7ynUfR8TU54gLBkhAX0hbKflCa/xOk29PhMSmpRQIOTExMxSsv/YRlS7dj6a/bsWdPAvr2a4N3x9+UZfzAAf/FxA+XZHuxESOewLBhT2e8zm9whw0bZlI6+CGYNU5YpPjuu+/O8mGQ394y5YJ1TPjBmjVV6tSpY75F5odVfsObHyM3Qhw/bG/dujXbZWXupub+khBosL61zo87Q3MSAREQgcJNIM3/6R+fLc6CZZUIuNgGdYdj29asTQvcge+MuxH9+p9oHMC4ttd/8N3UNdgY/ySqVi0FvxMPC8VQxNsHXs85ZgybC/DfXQpcFLzoRGMtsyeffDJLeiXHstEA/+1kLbn9+/ebzxGsi0ZHGT+DZP5ckZMQx3PR9cZ00smTJ5t/t+m6q1mzphHRWDvObXawadMmUx+O/36np6ebdFC671gjjpFZiKOYxw6lFBLZtIG17kaOHGlq3GX3BR/XxGYNFCIprgUKNmugW46fq9gwgvNk4wV+FitWLGttYHZ1ZboqxTfWtmNjCo5lGmzx4sUL9wbW6kRABEQgAghIiAt+kyXEZc9IQlzw/ZPtCNvZ+8e31ntz/NZ665ZDaFhvBCpXiUPLltXx3dS1AYW4hQu2IH7zgVOu98brM7H01z1YtOR9tG39f+b1Xbt2meLA/ODMtAh+GOQ30ZMmTTolFYLf8PKbXH6bXb16dfNt87x580z6Rffu3U0HsvwYuRHi+C002ZwcrvBIfjExMeZl95cE1nZhAejMwW/q+e23QgREQAREQATOFAHb2YFU/3uwnXh40ASW5cmzSzvOUdjYgSir0x9uOHVmJ1yKb7169TIutp49e+YZb51IBERABESgcBKIWCHu7vPDc8S9Pl814gI8AhLicvG+4LOXINX/ESzEwWNl7cyV+bSpqT4cOJCIatVKI5RaLpmPTUpKQ+3qT6BmrWJYuvwdxHh7m5f5jfObb76JOXPmmLQON/jtMdMvWE+lUaOcO665dU3WrVuHBg0aZEuC3cIYrnCVC2RhHZobIS7Qhfgt+gUXXGDYvfbaaxlDgn1bH9akNVgEREAEREAE8oBAuv0z0v3fwIEPHtQOqXFDsMs6Tir8WAev1QBFvAPgsSoGOyRiXqf7j5+dmG3gptVGzOK1UBEQAREQgbAJSIgLjsw44iTEBQQlIS74/sl2RLr9HdL8U+BB3WzTUk8+OFwh7uP//ooB/Sdi1PNtcN/9/VDEe5f5MN6sWTNTPJl1VDLHkiVL0LZtWzz++OMm/SGncOudsG6JW/vFFaWmTp1qXHNMqaB7jGmt7FjGmjBM9+A3xvw5a6iwDgpTPjIXL6ZAOHbsWCxYsMCkw5YoUcIUUx41atQpoh8des8884xJIWGKC11pgVJI2rRpY1JYNmzYcMqyKCqyk5mb/hFo3QMHDjTX+OWXX0wdGjcyC3HkEBsba2rEKERABERABETg7yLAOm5p/s/hc+bDQgws1MyVGEcRzsYGWFZ1xHiuQJSn9d+1tHxz3ePHj5usgMWLF5uU09GjR5s6cAoREAEREAERCEYgUoW4OXd1CMsRd8Eb8+SIC7CZJMQFe8JyeD3V9x7SnZ/gRfOQPxyHK8T16DYWs3/+Hevjb0aVyrUQ670HllXK1GKhQ431WTLHmjVrTC0UFlxm167MQeGOf/jBkx866Z6j4EQxz+2E5opSPAdf69Onj1lb7969UbJkSSPYsd4KCxWzzhzddBTc6L6j6ObWhaHrbNWqVaaAcbVq1bBt2zYjlDmOA84xc7c115nHejA9evQwRZQ59uSiyrzOHXfcYQRCdnFzg469qlWrmmLI2aXZJicnm+LOLOjMeWUOd81cH4s4s4Ye10nB8ZJLLsnFDtGhIiACIiACInD6BBwnCWn+SfA5vwBIgwesGRd+XVfbOQwbW+GxaiPGcxm81vkhf245/dnn/yP5eYPlJ/jvP+vbjRkzRl/E5f/bphmKgAiIQL4gICEu+G2gI05CXGBOEuKC759sR6T4xsLvLIHXOtGlLJQIR4jbufMI6tcZji5dG2HSl/8ArJKI9d5lUknoQqPQFh8fbwQmN9544w2TesnuYieLdOw+xqYNblBseuedd4y7zg1XlGrcuLFRrukOc4PC3cSJE8E3HTaGcOPbb781XcmYEjto0CDzY4p9JxcjppON8+I8Hn30UTOOBY/pgGM9FnZIczuOUVC78sorTZFmt7sZ3XBca9++fc283WCBZwqF/C/ruwQK1sO76aabTGHnoUOHZhny2Wef4euvvzaiW7ly5bB+/Xq89NJL2Ldvn6kZw3koREAEREAERODvIOA4KUi3p8Fn/woHO2ChIixUgGWd6EqaUzjOcdjYBcBnatlGeS5FlOfcYIfpdREQAREQAREQgSAEIlaIu6NjeI64MXPliAuwlyTE5eIt5q8W4l4Y/SOe+NdUfPRJf1zVq8wfQtyd8FiVMGvWLFx66aVguuaLL75omjD89NNPpqMYRTAKWCenrW7evBn8w/RSHk+hjh296FpzwxXimKLhdiLja3SyMQ314osvNt8Ynxx0r3Xr1g2ff/75Ka+xaQK7h/EcPL5u3bpGdGOwUxqbJGTuYuqegC47OtlcIY4/p0OPabN79uzJEAkplM2fP9+kymZXx44OwR9//NGkrlauXDnoXWfHOIqRcXFxhpkrEAY9UANEQAREQAREII8J8N9P21mLdHsmbGcbHBwEUAIWSprupwBdchYAG0ASHByHgyPmZxYqIcpzDqI8l+VYzzaPp6zTiYAIiIAIiEChJiAhLvjtNY44CXEBQUmIC75/sh2R4psAnzMbUVbzkM8SjiOuRbPnsHdPAuK3P42oGKaUlEcR7xB4rDLmeu+//z7uv/9+HDp0yPyd6aWs+0bHGdNBly1bluO8KLY9/PDDWLFiRUZjB1eIo0OMLjc36A6rVKlSjufr1KkTZs+ebcawLhwFNjrbDh8+nOW4iy66yAiBjMGDB5s0VKa70o2WOej64xoyC3E8js41OtxuuOEG41rjWpmy+ur/s3ce4FFV7RZe50waVXrvvUtTQVRUQFFQOoriRfxRsWHFig3s3R8UURTxBxFFQSmigIBIEUSQpiBIk947SWbOuc/aODEJk8xMCiSZ9T0PF0n22eXdZ3J/Fuv7vrffDrg/7oUpqUx9pYgXajz44IPGGUeHXK1atUJ9TONEQAREQAREIFsI0B3nc9fA6/xmUk3hUnA7ZtJWXbiwwO6q+WChgClj4bHqwWM3go3K+gelbLkRTSoCIiACIhCpBCJViPuRjrhy54R07cu3H8IlEuICspIQF9IrFHhQgm8KEp1JsFELlhUT0kyhCnG/LNmCiy98E7f3b4W3hnaHz11pUmBjPffAsvg/tE8F66PR2cbfWdeNnb5Y66RHjx747LPP0t0TXV90hz3++OOmWQIjrQ6idKAxLbRz586mtlygYLOG5s2bw3Ec09iB7jM69Jh6ymYNrL1Gl12JEiUwZ84cMwVTWZlmSpdesWIpO89yreXLl6cQ4ugKYFoshbHp06eb4soUI/mDsEmTJgH3xXTUhx9+GExBJZdQg51V77333tNq0oX6vMaJgAiIgAiIQHYQ4P8vdLEXrrsHDnaBteTohmO6qoWisKxSsFEallUgO5bXnCIgAiIgAiIQ8QQkxAV/BSTEpc1IQlzw9yfNEV5nMeJ9Y2GhSJJLLdh0oQpx9w34EiOG/4Qf59+H5udVgIOViLavRoynZ7pLsJspnWSjRo3CzTffnO5Yf5HiO+64IyndNC0hjp1N6Vhr0aKFEcDSCzrsKMQF2gObKlBE8wtx4aamcl12g2Wtu61bt+Lqq682Ka9cM62gQMm0VTrj/M0kgt0Tvz9gwAAMHTrUpPgmr4kXyrMaIwIiIAIiIAIiIAIiIAIiIAIikDcJRKoQN/eOi8NyxLUePk814gJ8BCTEZeLnguNux0kfO4Hug8eqEdJMoQhxCQleVKv0DEqWKohlKx6F4+4xqSexnusQZbdMcx02M2A3UXZGXbNmTVInVKZvJu9S6p+ALjG6xSi+9enTx3w5LSGO36N77YMPPjC11ljrLXlQqOP6dLWtWrXKNGX46KOP0Ldv36RhTKWlONi6deskIY7NGliLje63YM0a/BNRgGNNOnY4Y4pq6np2yffFhhN06SUXG1MDZGpvajcexTc67Jj2ys6wChEQAREQAREQAREQAREQAREQAREgAQlxwd8DOuIkxAXmJCEu+PuT5gg6sRJ8Y+F1Z8FGPVhWdJpjh78zD4cOnYDjuBjy7HQ0blwenbqc6lbaoWMDNGxULunZSRNXoFfPURjyQkc8NLANfO4q2FYNxHnuhGUVNuOYKsoGBBSwWP+Mbq+RI0eaenEzZswAO6L6gw45pn6yKQPHHjx4EN999x1mzZqFiy66yDR5YEorIz0hjnO3atXKOMRuuukmNGvWDBTg+GeKaKxN169fP3i9XiPEMfWVrjKmtP7888+gW69o0aJmD35HHNekSMaOq6zhxrp0dOrxzxTbjhw5kiI11X8mjv3+++8RHR2Nbdu2mUYSgcLvalu0aFEKJsnHstEF2dA5R9cfhTcKjkz3pfsveTOLTLwuelQEREAEREAEREAEREAEREAERCAPEIhYIe52OuKKhHSDy7cfROsRcsQFgiUhLqRXKO1BXmcFEnyfwsUJeKyqaQ6sXWMwtmxO2bTAP/j9kb1wU5/zk57t0fVDTJu6Gn9ufBplyjpwsQvRdgfEeP5tnsBOpHSXUeCi4EVHV7t27fD000+brqTJY/z48UZgYy25PXv2mPTMOnXqGEfZPffckyJdMz0hjnPS9cZ00i+//BKbN282rrtKlSoZEY2149itlbFhwwZTH47dUBMTE01KK913/k6syYU4inlDhgwxQiKbNlAQe+6550yNO45L3qzBfy6eic0aKEROnDgxIHeuy1RY1qSj8y6tYI05ipFch1w5nq491s5r1OiUWKoQAREQAREQAREQAREQAREQAREQARKQEBf8PZAQlzYjCXHB3590R7iuzwhxXvdH2KiY5FjL5LTmcdf1wofViLIaIMbTF7aVsplBVqyRW+eg+Na1a1fjsuvUqVNuPYb2LQIiIAIiIAIiIAIiIAIiIAIikMsIRKoQN+e2S8JyxF36/o+qERfg3ZYQlwUfeMfdjXjfR/C5a+FBHVhWbKZndV0HDv40jSBiPN0QZTfP9Jx5aQK6/1iLjvXi/Gm1eel8OosIiIAIiIAIiIAIiIAIiIAIiEDOJCAhLvi90BEnIS4wJwlxwd+fkEZ4nWVIcL6G426BB7VgWXEhPRdo0CkRbj2AOETblyDavhaWZWd4vrzy4LFjxzB58mQsXrzYNGh45ZVXMHDgwLxyPJ1DBERABERABERABERABERABEQgFxCIXCGuNRqXDbFG3A4KcXPliAvwPkuIy8IPuddZjETnWzjuJlgoDwvFYVlWWCu47jE4+AsWipkOqdH2Nek2gQhr8lw+mDXcqlatikKFCpn6du+++65p1qAQAREQAREQAREQAREQAREQAREQgTNFQEJccNLLJcSlCUlCXPD3J6wRPmc1Ep0ZJk0VcGGD3VALBRXkXPckXOyEi8OwraqIsi9ElNUalnWqm6lCBERABERABERABERABERABERABETg7BOIWCHu1ktxboiOuN8oxH0wR464AK+rhLhs+Ay77mEkOjPhdVfCdXcBiIeFwgAKwEI+AB4A7IYaD+AYXByBCy9slIZtVUOM5wrYVqVs2JmmFAEREAEREAEREAEREAEREAEREAERyAwBCXHB6UmIS5uRhLjg70+GRriuaxxuPncF6JJz3ANwcQzACeOUOxWxsCjOWQXhsWrBYzWCbVWHZVGoU4iACIiACIiACIiACIiACIiACIiACOQ0AhErxP3nsvAccR/OliMuwMsrIe4MfKJdNxEu9sBx98DFAQA+APY/Ilwp2CgFy8p/BnaiJUQg9xJgExPAaz47dJWGW38x955cOxcBERABERABERABERABEchJBCTEBb8N44iTEBcQlIS44O+PRoiACJwFAq4bb2otutgOx9kFF/xFIc6ChfywrXKwrFLwWNVgoYKEubNwR1pSBERABERABERABERABCKRQKQKcbNvCc8Rd9lHcsQF+nxIiIvEnxo6swjkYAKsseh1l8DnrIDjboeLQ6aeooXYf+orMrU74Z8U7/ywrOLwoBo8dhN4rIawLDrmFCIgAiIgAiIgAiIgAiIgAiKQPQQkxAXnSkechLjAnCTEBX9/NEIEROAMEGBdRdZU9Do/wOduMDUVTdo2ip6qp2hZKXbhukzxPgYHewAcgYWy8NiNEG23g22VOAM71hIiIAIiIAIiIAIiIAIiIAKRSEBCXPBblxCXNiMJccHfH40QARHIZgKso5joTIPXWQIX22ChPCwUDzndlM872GI6FHusmoi2O8Jj183mXWt6ERABERABERABERABERCBSCQQqULcD0xNLUOjRPD4becBXK7U1ICgJMQFf380QgREIBsJuK4Xic7X8Drz4eI4bFSDZcVkaEXHPQgXm2FbNRFjd4bHrpehefSQCIiACIiACIiACIiACIiACKRFQEJc8HdDQlzajCTEBX9/NEIERCAbCSQ605HomwEXJ2CjRqZrvLnucTj4E7ZVC7Gem2BbFbJx95paBERABERABERABERABEQg0ghErBDX9/LwHHGjfsDSpUvRtGnTSHtF0j2vhDi9DiIgAmeNgM9dj3jfWLju37BRN9MinP8grnsEDjbCY7UyYlxGHXZnDYwWFgEREAEREAEREAEREAERyLEEJMQFvxrjiJMQFxCUhLjg749GiIAIZAMB141HvO9D+NwlsFELlpUvS1dx3K2ms2q0pxOi7dZZOndOn+zmm2/GnDlzsGnTppy+Ve1PBERABERABERABERABHIdgUgV4mb1aROWI67N6FlyxAV4uyXE5bqPvDYsAnmDgNdZhgTfp+YwtlU+4KGOHo3HW2/MxrJft+LXpVuxc+cR9L7pPHzw0Q0pxt96y6cY878laYIZMuQZDBr0dNL3t27dikGDBmH69Ok4ePAgqlevjv79++Oee+5J0SDi999/x7PPPmv+n8eOHTtg2zaqVasGCl133HEHYmNjc+RlZFaIW7RoEYYMGQL+D4zDhw+jYsWK6N69Ox566CEUKVIk6czffPMN3nvvPaxcuRJ79uxB4cKFUa9ePdx3333o3LlzjmSjTYmACIiACIiACIiACIhAZglIiAtOkI44CXGBOUmIC/7+aIQIiEAWE3BdFwm+0fC6c2CjASwrKuAKmzftR52aQ1CmbGE0bVoB06auCSjELVq4CRv/2nvaHMOGzsKvS3fi5yVjcX7zU+Ld9u3b0bx5cxw9ehR33303KlWqhFmzZmHChAl48MEH8dprryXN8/3335s/X3DBBahQoQJ8Ph/mz5+PcePGoUOHDpg8eXIWk8ma6TIjxM2dOxdt2rRBrVq1cMsttxhx7eeff8aoUaMMN/63ZVlmo88//zyWL1+OJk2aoHTp0ka0+/LLLw0jciNPhQiIgAiIgAiIgAiIgAjkNQKRKsTN/L+2YTni2n4yU464AC+/hLi89hNB5xGBXEDAcXfipG84XHc/PFb1NHccH+/F3r1HUb58EXi9PhTK91BAIS7QBMePJ6BKhadQqXJ+LF0+DLGeU0IcXW/vvPMO5s2bh1atWiU9etdddxl316pVq1C3bt10KVLA4xx//PEHateunebYhIQE872YmIx1gc3oVWZGiOvZsycmTZpkHIDFixdP2gK5DRs2DMuWLUPjxo3T3BrFymbNmmHXrl1mDoUIiIAIiIAIiIAIiIAI5DUCEuKC3ygdcRLiAnOSEBf8/dEIERCBLCbgdX4zjjggP2yrREizhyvEjft0KW7pMwYvvHw+7n+gO2I99xvnXaNGjXD8+HGsX78+xbpLlizB+eefjyeffBKDBw9Od090ew0cOBBM4aRbjvHxxx+jb9++mDp1qnGEffLJJ8Z9x7RWClf79u0z6Z4Uufj1kiVLokuXLnjuuedSpHtSIBw+fDgWLlxohKyCBQuidevWeOGFF04T/Sh60ZU2cuRIkxpav359M99nn32Wokbceeedh0OHDmHdunWnnYui4ogRI/D3338bV1v79u2xYMECk7LLVFx/vPjii3j88cexdu1a45ZLLzp27GhchidOnAjpbjVIBERABERABERABERABHITgcgV4trh3NJFQ7qq33ZRiJshR1wAWhLiQnqFNEgERCArCSQ6M5Dg+xI2KsGy8oc0dbhCXMerhmPunPVYu/EWlClTFnGeO2FbZVCnTh3jUFuxYkWKdVevXo0GDRoYIerbb79N8T0Kd/x17NgxLF68GHTPRUdHGzEvX75TTSb8Qhzn4PduvPFGk8LJ2mqFChUygt3evXtx2223mTpzdNNRcKP7jqKbv94cnWesuXbppZeifPny2LJlixHKmM7LPZYqVSppb35n3pVXXgmKX2zOwLFVqlTBkSNHkpo1cJ0777zTCIQXXnhh0vN07JUrVw4tW7ZMSrP1i4wUFR944AGcc845RnBkTbx27dqZtNzUQZEvMTER+/fvN0LjY489hmuvvRYTJ04M6W41SAREQAREQAREQAREQARyEwEJccFvS0Jc2owkxAV/fzRCBEQgiwlQhEtwJsODc1M0R0hvmXCEuG3bDqJWtcG4sn1dTJh0LQAfYj394LFrGRcahbaNGzeibNmySUsy7ZIiWMOGDU8T6Z555hnTtMEfFNXef/99467zh1+IY7MCuuDi4uKSvkfhbsyYMab5ARtD+GPKlCm45pprTErs7bffbr5Msa9AgQIpUNDJxn1xHxS5GGwkQQdcp06d8NVXXyVxZN06imCVK1dOEuIolPGsvXv3Nvv2B+u5USjk7127djVfpqB2//3344MPPoA/tZZfJ5u33norhUvOPw9FQ9aWY0RFRZm5eKaiRUP717Isfr00nQiIgAiIgAiIgAiIgAhkK4GIFeJuaodGpYuFxHbFrv1o+z854gLBkhAX0iukQSIgAllJIMH3ORKdafBYadcaS71eOELcq6/MxFNPTMXYz/qgc9dylJcQ67kFHrsufvjhB7Rt2xZM13z99ddNE4bZs2cb8YkiGAWs1Gmrf/31F/iL6aV8nm46pmpSgPKHX4h78803TddQf9DJxjTUyy+/HO++++5pGOleu+qqq/DFF1+c9j02lIiPjzduOD5fo0YNI7oxXn75ZTz66KP46aefUtS64/fosmNaKB1y/qBDj2mzO3fuTBIJKdgxDZWpsv46do7j4JVXXjHzduvWzTjiZs6caZx2AwYMAM+XOig80g3HeT7//HN4PB5TT46NMBQiIAIiIAIiIAIiIAIikNcISIgLfqMS4tJmJCEu+PujESIgAllM4JQj7ht40DhbHHFNGr2EXTuPYOPWZxEdsy+FI45HGT16tEm7pHjEYHopUzLpOGM6KBsSpBcUox555BH89ttvSY0d/ELcN998Y1xu/ti9e7epvZZeXHLJJUmOMtaFo8BGZ9uBAwdSPHbZZZcZIZDRv39/I44x3TV5UwV+j64/niG5EMfn2A2VqaXXX389uC+elSmrb7/9dtI69957L77++musWbMG+fP/mzbM+nAUH9k1lbX00ovOnTubphdMpfWn3GbxK6SRaIZzAAAgAElEQVTpREAEREAEREAEREAEROCsEYhUIW7GjeE54tqNlSMu0EsqIe6sfXS1sAhELoFE5/t/asRVgWWdqrEWLEJ1xP2yZAsuvvBN3N6/Fd4a2h2OuwmwCiPOcwds699UVKZd0tnG31nXjSmVrOXWo0cP0+wgvWBH0DJlypjmBWyWwPALcTNmzDCOO3/Qgca0UIpTTFENFEWKFEHz5s1BNxobO7BxAh16TD1lswY2TaDLrkSJEqYJA4OprEwzpUuvWLGU9nCutXz58hRCHF11TItlo4Xp06cbZxvFSP6PiCZNmpg5yYLr9evX7zT3Hl1v3OOrr76Khx56KF0+48ePN2Lf999/b+rKKURABERABERABERABEQgLxGQEBf8NumIkxAXmJOEuODvj0aIgAhkMQF2TY33jYaVDV1T7xvwJUYM/wk/zr8P551fGT53DTxWTcR67oNlRad5EjYZoJNs1KhRuPnmm9M9MZ1mVatWNQ0M/OmmaQlx7GxKx1qLFi2MAJZe0GFHIS7QHthUgSKaX4gLNzWV67IbLGvdbd26FVdffbVJeeWa/qAbj+uwoQTddsmDTjiega44OvbSCz8LCnI9e/bM4rdH04mACIiACIiACIiACIjA2SUQsULcDVeEVSOu3affq2tqgFdVQtzZ/fxqdRGISAKOuwMnfe/BdffDY/3bvCA9GKE44hISvKhW6RmULFUQy1Y8Ctf1wsFqRNltEeu5Mc3p2cyA3UTZGZUpmf5OqEzfTN6l1D/Bww8/bJxhFJz69OljvpyWEMfv0b3G5gestcZab8mDQh3Xp6uN6ZxsyvDRRx+BXUv9wVRaioOtW7dOEuLYrIGNIeh+C9aswT8PBTjWpLvuuutMimrqenbcC+vZMZ2U89Op5w9/h9bkjr9AfLxer9knO8Fu2LDBCJYKERABERABERABERABEchLBCTEBb9N44iTEBcQlIS44O+PRoiACGQxATqx4n2j4HN/hI0GsKyoNFcY/s48HDp0Ao7jYsiz09G4cXl06nKqW2mHjg3QsBGbMZyKSRNXoFfPURjyQkc8NLANHHenadQQ4+mFKLu5GcNU0fbt2xsBq2LFiqALbOTIkaZeHEUmdkT1Bx1yTP1kUwaOPXjwIL777jvMmjULF110kWnywJRWRnpCHOdu1aqVaQJx0003oVmzZqDoxT9TRGNtOqaDUsSiEMfUVzZGYEornWh067EDKffgd8RxTTry2J30yiuvNHXp6NTjnym2HTlyJEVqqv9MHMuU0ejoaGzbts0Ib8mDtfIGDhxoBDQ64woXLmwExIkTJxoOrDVnWZZ5hCIlRTemtrIOHucbO3Ys2OWVNfReeumlLH5zNJ0IiIAIiIAIiIAIiIAInH0CkSrEfX/DlWhUKsSuqbv344pPv5MjLsDrKiHu7H+GtQMRiEgCXmcpEnzjANiwrX/FtNQwatcYjC2bUzYt8I95f2Qv3NTn38YBPbp+iGlTV+PPjU+jbNlCcLAKHqs+Yj13JtWiYydSussocFHwohONdcyefvpp05U0eTC1kgIba8nt2bPHOMXq1KljHGX33HNPikYE6QlxnJOuN6aTfvnll9i8ebNx3bGrKIUx1o5jt1YGXWSsD8eupYmJiSYdlO47fyfW5EIcxbwhQ4YYIZFNG1jr7rnnnjM17jguebMG/7n89dsoRFJcCxRs1kC3HF1xbBjBfTLFdNCgQSkaODDNlem2f/75pzkfRbumTZsaB2D37t0j8r3WoUVABERABERABERABPI+AQlxwe94hYS4NCFJiAv+/miECIhANhBw3ZOI930In/sLbNSGZcVl6SqO+zdc+BDjuQbRdsp00CxdKJdNRvGta9euxmXXqVOnXLZ7bVcEREAEREAEREAEREAEzj6BSBXivuvVPixH3JXjpssRF+B1lRB39j/D2oEIRCwBn7MW8c6ncN0dsFE3KeUxs0Bc9xgcbIDHaolYz//BsmIzO2WeeZ7uP9aiY704f1ptnjmcDiICIiACIiACIiACIiACZ4CAhLjgkOmIkxAXmJOEuODvj0aIgAhkEwHWivO63yLBNxNAAmxUz7QY57on4MM60yk1xnMjPNaplM9IjmPHjmHy5MlYvHixSTl95ZVXTB04hQiIgAiIgAiIgAiIgAiIQPgEIlaIu/6q8Bxxn30rR1yA10tCXPifOT0hAiKQhQRcNwGJziQkOgv+EeOqwrKiM7SC6x6CD5vgsaoh2u6EKPtUU4dID9aKY/OFQoUKmfp27777rmnWoBABERABERABERABERABEQifgIS44MyMI05CXEBQEuKCvz8aIQIikM0ETolxU+F1lsAB01QrwkLRkN1xruuFg60AjsO2aiDG7gCP3SCbd63pRUAEREAEREAEREAEREAEIpFApApx03vSEVc8pCtfsXsf2n8uR1wgWBLiQnqFNEgERCC7CbiuA5+7HF5nNnzuBgDxsFASForBsmJOW57jKbw52MOepLBQGh6rAaI9V8K2SmX3djW/CIiACIiACIiACIiACIhAhBKQEBf84iXEpc1IQlzw90cjREAEziABxz0An7sYPmclHHcHXByCCy8ssKuqB4BrUlgBL4B8sFActlUFUXYTeKzGsCyOUYiACIiACIiACIiACIiACIhA9hCIXCHuajQsGZojbuUeOuKmqUZcgFdQQlz2fC41qwiIQCYJuO5x+Nw/jBjnuDvhYjcAHwDLiHK2VR6WVRK2VRU2qsCy7EyuqMdFQAREQAREQAREQAREQAREIDgBCXHBGUmIS5uRhLjg749GiIAI5AACrpv4jwvOAhAj4S0H3Im2IAIiIAIiIAIiIAIiIAKRSCBihbgeYTrivpAjLtDnQ0JcJP7U0JlFQAREQAREQAREQAREQAREQAREQAQyREBCXHBsxhEnIS4gKAlxwd8fjRABERABERABERABERABERABERABERABQyBShbhvu3cIq0bcVROmqkZcgM+MhDj9IBEBERABERABERABERABERABERABERCBEAlIiAsOio44CXGBOUmIC/7+aIQIiIAIiIAIiIAIiIAIiEAmCLDWq4t9cBFvOqBbrPeK4rCs2EzMqkdFQARE4OwQiFQhblq3jmE54q7+cooccQFeUQlxZ+dzq1VFQAREQAREQAREQAREIE8TcNz98Lmr4Lib4bjb4eIYYJovMaJgWflhoyxsuyI8ViPYVsk8zUOHEwERyDsEJMQFv0s64iTEBeYkIS74+6MRIiACIiACIiACIiACIiACIRJw3D3wOvPgc9fAcXfBxWFYiIWFAgCi/5nFa4Q5FydhoSBsqzQ8Vm1E2RfDtsqFuJKGiYAIiMDZIRCpQtzUrtegYYniIUFfuXcfOnw1WY64ALQkxIX0CmmQCIiACIiACIiACIiACIhAegRc1wefuxSJzlw47p8ALFgoDQtFYVlWwEdd1wVwCA52AUiEbVVHlH0RoqwWsCy/aCfuIiACIpCzCEiIC34fEuLSZiQhLvj7oxEiIAIiIAIiIAIiIAIiIALpEGANuERnKrzOz3CwEx5UhmUVCYuZ6x6Bg02wUAweuxli7M6wrLiw5tDgM0fAdelq3AHH3Q0Xu+G6JwA4/6QdF4eNksbdaFmFz9ymtJIInCECESvEdaEjrkRIlFfu3YsOE+WICwRLQlxIr5AGiYAIiIAIiIAIiIAIiIAIBCJAQSbRmWzSUV2cgI3qsKyoDMGiq45iHCPKvhAxdlc1dMgQyex7yHUPweuugM9ZAcfdARdHAZNmzPp/dDh6YCGfSUWmGOux6sJjN4KNqrAsO/s2pplF4AwSkBAXHLaEuLQZSYgL/v5ohAiIgAiIgAiIgAiIgAiIQBoEmIqa6JtqBBkbNTIttjBd1cFGI+jEeNoh2r5a7HMAgVOpx7/8k3q8DS4OwUZRAIX+qf8X888ufQBO/FMD8AAAHyyUgcdugGj7CthWsRxwGm1BBDJHIFKFuCmdrw3LEddx0jeqERfgVZMQl7nPn54WAREQAREQAREQAREQgYgl4LjbEO8bDcfdABv1YFmeLGFxSoxbA8sqj1hPb3isGlkyrybJGAG64BJ8U+BzV8DBHtgoZ1KIQ3G4ue5xONhuagB6rJqIstshyj43YxvRUyKQQwhIiAt+EXTESYgLzElCXPD3RyNEQAREQAREQAREQAREQARSEaBYluAbDa8775+0w4JZysh1T8LBWnis8xDruTWimjfcfPPNmDNnDjZtOpWmezbDcQ8gwTcePncZgFjYqJSh1GPO42AzbKsKYuz2iLJbnM1jaW0RyBSBiBXiOnVCgxBrxK2iEPf113LEBXjTJMRl6uOnh0VABERABERABERABEQgMgn43E2I935oUhQ9VrWAEI4ejcdbb8zGsl+34telW7Fz5xH0vuk8fPDRDSnG33rLpxjzvyVpghw8ZACeHPR20ve3bt2KQYMGYfr06Th48CCqV6+O/v3745577knRofX333/Hs88+a/4iuGPHDti2jWrVqoFC1x133IHY2NgceXmZFeLmz59vzr1o0SL4fD40adIETz75JK688soU5504cSK++uorM27btm0oXbo0WrRoYZ6tVasWXPcY4n2fwucuhoXisK0ymeLluvFGXLWsSqYZR5TdOFPz6WEROFsEJMQFJy8hLm1GEuKCvz8aIQIiIAIiIAIiIAIiIAIikIpAgu8bJDpTYJsOqQUC8tm8aT/q1ByCMmULo2nTCpg2dU1AIW7Rwk3Y+Nfe0+YYNnQufl36NxYufh4tznvcfH/79u1o3rw5jh49irvvvhuVKlXCrFmzMGHCBDz44IN47bXXkub5/vvvzZ8vuOACVKhQwYhSFKnGjRuHDh06YPLkyTnyXjMjxM2YMQNXX301qlSpgltvvdWIjWPGjAGFAwpv1157bdKZS5QoAf7q0qULatSogS1btuCdd97B8ePH8eOPP6JRkx1IdL6DhfymA2pWBMU4H/6Ax6qHWE9f2FZoHRizYm3NIQJZRSBShbjJ14bniLvmGzniAr1zEuKy6pOoeURABERABERABERABEQgQgiwU2q87034XKaONkjz1PHxXuzdexTlyxeB1+tDoXwPBRTiAk1w/HgCqlR4CpUqF8CSZfcjznMvLKuQcb1RLJo3bx5atWqV9Ohdd92F9957D6tWrULdunXTvQkKeJzjjz/+QO3atdMcm5CQYL4XE+NvRHBmLjgzQlzDhg2xe/durF27FkWKFDEb9nq9Rrzcv38//vrrL0RFnepq+8MPP+Dyyy9PcSi6CBs3bowrrmiF8RMvhuvuhI06KZyGmaXguAfhYjui7EsRY18fUq25zK6p50UgKwlIiAtOk444CXGBOUmIC/7+aIQIiIAIiIAIiIAIiIAIiEAyAo67Eyd97wLuYVPzK5QIV4gb9+lS3NJnDF54+VLce38LxEbdalJgGzVqZBxb69evT7HskiVLcP7555sUzMGDB6e7JbrkBg4caFIy6ZZjfPzxx+jbty+mTp1qXHOffPKJcd8xrZXC1L59+zBkyBBMmjTJfL1kyZLGSfbcc88lCV6chwLh8OHDsXDhQpMOW7BgQbRu3RovvPDCaaIfHXrPP/88Ro4ciT179qB+/fpmvs8++yxFjbjzzjsPhw4dwrp16047F0XFESNG4O+//0Z0dDSKFy+O//znP2bO5PHqq6/i4YcfNu7B1OJb6kmbNWuGAwe3YuUfHf4R4bI+hdfnboCFwoj19IHHrhXKK5ThMf673bhxo3EKKkQgswQiVYj75prOYdWIu3byJNWIC/CySYjL7CdQz4uACIiACIiACIiACIhAhBHwOitMowYgDrZVMqTThyvEdbxqOObOWY8/N96PkqUTEOvphSi7JerUqWMcaitWrEix7urVq9GgQQO0b98e3377bYrvUbjjr2PHjmHx4sWge46iFcW8fPnypRDiOAe/d+ONNxoXWPfu3VGoUCEj2O3duxe33XabqTNHNx0FN7rvKLr5683Rsbdy5UpceumlKF++vEn3pFDG5hbcY6lSpZL25nfmsXZbx44dTXMGjqVYdOTIkaRmDVznzjvvNALhhRdemPQ8HXvlypVDy5YtTZrtzp07UbZsWeMa/O9//5uCAR2AXO+ll17CI488kuadcZ8VKpRFhYpR+GFeN3isqgHHhlr/jw9v3XoALz73PWbPXoedO46gVOmCuPjiKnjw0WqoX+d6xHi6J61BcZKiIYVE1gKsWLEi+vXrZ4RTj+ffrry//PKLSbmlq48CW4ECBYyQ+dhjj6Ft27Yp9pwZIc5xHCPsUozt3LlzSO96WoPyem3DTMHJZQ9LiAt+YXTESYgLzElCXPD3RyNEQAREQAREQAREQAREQASSEfA6ixDvGwsbJWFZhUNiE44Qt23bQdSqNhhXtq+LLyf1Nt02Yzw9EG23MS40Cm0UXyg6+WPYsGFGgGJqZmqR7plnnjENCPxBUe3999837jp/+MWaevXqGQdHXFxc0vco3PnrrLExhD+mTJmCa665xqTE3n777ebLFPsoCiUPOtm4L+6DQhGDKaAUjjp16mQaJlD0Y1BQYx23ypUrJwlxdMPxrL179zb79seXX35phEL+3rVrV1A0olOP4tWyZctSpJP6xwUS6ZLv9aOPPjKOulffbIm77uoIy8of8H5Drf+3b98xNG/8MhISfLj19laoUqUYNmzYiw9GzIdlOVi8bACqV34ctlXUrEPBkcIj3YkUHRcsWIBRo0aZr1NM9AfPM3fuXHTr1g1NmzY1NQM5jqnJ7777rmnGkfpuM+KIY1ovhdk+ffoY12RGIxJqG2aUTW58LmKFuI5d0KB4aHUdV+3bi2unTJQjLsALLiEuN37qtWcREAEREAEREAEREAEROIsEvM4C003TRmlTty2UCEeIe/WVmXjqiakY+1kfdOlaBw42/iPEtTUOKDqemK75+uuvmyYMs2fPxv33329EMApYqdNWWReNv5heyucp1L344ovGtZZarHnzzTdx3333JX2dDjGKW0znpMCTOuheu+qqq/DFF1+c9j2KQ/Hx8cYNx+fZEIGiG+Pll1/Go48+ip9++ilFrTt+jy67EydOJAlx/BodekybpevNLxJSsKNQRZHHX8fu6aefNg4u1pl74IEHzNeZZst0XDroAqWt+jdO8e6iiy5CvfolMXNua8RGN0nzakOt/zdi+E+4b8CXmDDxP+jQ8d96ghO/+g03XPcxXn7tMjx4/1B47PrGSXjuuecaQfXtt//tknvvvfdi6NCh+O2334ygyaA7kHXvkne+JTM615jmyzp5/lp4mXHEZZUQdyZrG4byedSYzBGQEBecn4S4tBlJiAv+/miECIiACIiACIiACIiACIhAMgJeZ/E/jriisKxTDQGCRThCXJNGL2HXziPYuPVZxMQkwMFWxHh6Itq+zCwzevRoIzKx+QCD6aUUmug4YzooBaX0gmIb0zMp7PgbO/jFmm+++ca43PxBQad06dLpznfJJZcYdxaDdeEosNHZduDAgRTPXXbZZUYIZPTv39+koTLdlXXdkgddfzwDU1X9wefatGljOr5ef/31RmjiWekUSy5aMbWTaZx0CCYmJprHKVaydh5dexQZef7UQfHy4osvRv78cZgxpwdKlzkOj1Uj2LWa76d3t35R9aeF96NZ80pJ87FT7mWXvI3/vtsa/W9/2tztE088YWrpUTStWvXflFg62ZgO/Pjjj5uaeukFO+e+8cYbJiWYzkBGICEulFp+5J98H/51WfNvzpw55o/kzTRguvHofOS7SIGX50jeNCS7ahuGdEEalOUEIlWI+7pD17AccZ2mfpUhRxwdw/wZR2He33Qmyy/xLE4oIe4swtfSIiACIiACIiACIiACIpAbCfjcPxHv/RCAC9v6Nz00vbOEKsT9smQLLr7wTdzevxXeGtodjrsXwHHEePogyj43aQm6u+hs4++s60b3E2u59ejRwzQ7SC927dqFMmXKpBB2/GLNjBkzUtQY89ddY30wpqgGCv5Fke4spobSkcXGCXToMfWUzRps2zYCWIkSJZIEHIpiTDOlS69YsWIppuVay5cvTyHE0VXHtNhatWph+vTpRkyjGElBoEmT051rBw8eNDXp6BjjnmbOnGmce0z7pAiYPChaUUykcDd33jiUq8gaez7YVrmQXs/07tZ/n+dfUBkvvnwtKlcphr827MUjD30N1pmbu7AtihfpaurEsVYexVEyTx0UQ3lOnj296NWrFyZMmACe358iHEiIC6WWHx2WTPtlWipFStYHZHAv7dq1M//N940NPG666SbTLIT3Seckn2UDkZo1a5px2VXbMKQL0qAsJyAhLjhSOuLCFeI+//xzPPTQQ9i2bZtZgD+P6Samy5WfLzqJe/bsGXzxHD5CQlwOvyBtTwREQAREQAREQAREQARyGgHXPYyTvrfB7qke65TQECxCFeKYxsh0xh/n34fzzq8Mx90MoCDiou5MV/SjGEInGZ1JTMtML/xOJ9YR86ebpiXE0fFEx1qLFi2CikAUkSh6BdoDmypQRPM7qcJNTeV5mHLKWncs+n/11VeblFeuGUpQCKRzi843usv8QQcfRTgKV3T11a4ThXgfO656YFvpOwH9cwS72w8/WICnn5wG1ovzx0UXV8dnX/RFkWJ/ItpujxjP9SbtlKm0rNGXOlgHjkIh01fTCrpoyJ+NLyig+SOQEBdqLb/0UlOZjkxRgL+zZp0/KCKw1iDviA5GRnbVNgzl7jUm6wlEqhA36Wo64kJr0LNq3x50nha6I27atGnGjcyyAx06dADT7PkPCP4uz/wa6zXyZ31uDwlxuf0GtX8REAEREAEREAEREAEROMMEKADF+96H110ADxrBsv7tZpnWVoKJNXwuIcGLapWeQclSBbFsxaNGaPJhBaKsRoj13A3Lig44PZsZsLA/O6OuWbMmqRMqU5uSdyn1P/zwww+bzpwUaOh2YqQlxPF7dK998MEHKf5S6J+LQh3Xp6uNjQIoJrHhAZsN+IOptBQHk6c0UjSiWEP3W7BmDf55KMCxJt11111nBJ7U9ezSYk/nIIVE1pRL7hZkWixFOApHTH1t1qwZfO56xHs/AGDBtsqE9GYFu9uvJ63AyPcXoG27OqheowRWr9qBN1//AfXql8WkqS1RpNC1iPFcZxx/dJux7l3q4P3yPlPX//OP4x2weyyFRYqTlSr9mwYbrEZcerX80hPi2CBj0aJFpzUH4Z5Y049iDZ08jOyqbRjSBWlQlhOQEBccabhCXKtWrczPfNZ/ZNkB1uZMLsQNGTIEH374YQqncPBd5MwREuJy5r1oVyIgAiIgAiIgAiIgAiKQowmcatjwOSwUgG2l7ZAY/s48HDp0Ao7jYsiz09G4cXl06nKqWymL9zds9G/646SJK9Cr5ygMeaEjHhrYBq57EA72IMbTBdF2W/MM0xbbt29vBCzWAKPwMnLkSPMXN6YxsSOqP+hCYqoga3ZxLF1f3333HWbNmmWaErDJQ+qC/qlTUzkX5+ZfEikCMQXRCFY+n/kzRTTWpuvXrx8o2lCIY+rrgAEDTKfTn3/+2Tg4ihYtavbgd8RxXjry2HGVKZl0gtCpxz9TbDty5EjAv3By7Pfff2+cIRTQ+JfV5EF3FoVA1qOjk4/pqUyBZRMLOt6YHusPusxYi46pqjwfw3H3I9E3i7Iobux9ZUjvYHpCHO/0phtGY+HiB9Gg4b93PXPGH7jm6hEY/EJzPPLwIMR4OmXYEccmDeTCVFCmrlLwTB6BhLhQa/mlJ8RRSKWgml7wPWFqMiM7ahuGdEEalOUEIlaIu6ob6ofoiFtNR9y3X4ZcI46p5C+99JJp1sKf26mFOIpwd999t2lkk9tDQlxuv0HtXwREQAREQAREQAREQATOAoFT6anvwnH/hI36sKxTYkPqqF1jMLZsTtm0wD/m/ZG9cFOf85Me6dH1Q0ybuhp/bnwaZcsWhoM/YFvlEevpD9sqZcbRvUR3GQUuCl50orFeF9OY2JU0eYwfP9443egIozOJ9dJYq4uOMv5lL3nHzfQccZyTjiumkzLlcfPmzcZ1R9cVBSDWjqPQxdiwYYOpD8duqEylpBON7jt/J9bkQhxFGro8KCTSncZad88995xxrXFc8mYN/nPxTGzWQCFy4sSJp/GmsMYaSzzz4cOHjfjHOmaPPfYYChcunGK8ZVnpvjknEk9v6hDogfSEuHaXD8PevUeNwzF1lCr2CFpdXA6TJ3+KKLtlhmrEsUYgnX50nFEUZVpq6kgtxIVTyy89IY7vEten0JlWsMFGcs5ZXdvwLHz0tSRg3I4U5JlGTUE7r4f/vJOyUYjjzyf+/OM/YgQS4vizko1p+LMyt4eEuNx+g9q/CIiACIiACIiACIiACJwlAonOLCT4psAy9cQqZOkuHHc3XBxGtH0FYjzXZuncuXkyim9MiaTLrlOnTtlylHjvx0h0Z8ODc9MUWJMvnJ4Q16j+C2boitWPp9grU9BKFn0ELVtVwPTpM+GxTnVFffHFF0PumkqRjLXZ2KF27NixRqAMFKmFuHBq+VEspWuSKcycJ3nQxUjBlI5JOhQzEpmtbZiRNfVM5glEqhA38aruqF8stBpxq/fvQZdvJ4QsVtK5HBcXZ1ytqYU4ftbZQZVu4alTp2b+As/yDBLizvIFaHkREAEREAEREAEREAERyK0EXDce8b5P4HMXwkZVWFahLDmK6x6Hgz/hsZoh1nMzLKtglsybFyah+4+16Fgvzp9Wm9XnSnR+RIJvAiycA9sqHnT69IQ4uhynTlmNH+YOQIuWVZLm+mrCctzYazQeeawdXnx+Miwr1tR2Y2dUuhXpfPHHvffei6FDh5pOso0anUprpqvthhtuAB2CdKTdeuutae4ztRAXTi0/TkpxgM7Hr7/+OsUarNPHPdCNyfTk1JFWjUL/uKbOGG8AACAASURBVKyobRj0cjQgWwhIiAuONVwhbsqUKcbdys8/hW92oqZQzQ7XTz31lKkXx9IBTLvP7SEhLrffoPYvAiIgAiIgAiIgAiIgAmeRgONuRbzvUzjuH7BRPdOimeuegA/r4LGqI8buCY9d6yyeLmcszQ6fdH0tXrzYNGh45ZVXMHDgwGzbnOMeQLxJO94Cj1U3zXVCqf+3cMFGXNn2HcTGRuG2/q1QrVpxrFq1Ax+NXIiixWKxZOnHqFiuR9IarFc3YsQI0+yCdetYuJ1daNkwg/Xz/PHAAw8YFqwHx/p8qYOCJRs/MFILceHW8mM9Qab8smNthQoVTAMQdnKkq69Xr15GDLziiitMinShQoVM6jJdPawhN2bMGLOH7KptmG0vgSZOl0DECnHte4TniJv+RciOOAIfNmyYSa1nWj8/X/60bv6jAz/vd955Z554MyXE5Ylr1CFEQAREQAREQAREQARE4OwR8DlrkeBMhOOuhYWysFAyRV2sUHfmuPvgYKsR4aLtaxFlnxvqo3l6HGvFVa1a1Yg8rG/37rvvZjgVMlRQCb5JSHSmw0Ip2FaxgI+FWv9v5YrteOH57/Dr0q3Ysf0wihbLj8vblMIzgzujZrVHUjT7oEhGoZF18/7++28jfFFoY6fb5A5AprGx+URawUYcHBNIiOPXwqnlt3LlSlMHkPXA2Jk3efdbigV05LFBBhtj8M/lypUzzUDo0mO3V0Z21TYM9T41LmsJSIgLztM44sIU4jjr9u3bMWHCBKxdu9Y4X2vWrGlS0JN3Qg6+es4eISEuZ9+PdicCIiACIiACIiACIiACuYKAz/0Lib4p8LlrAfhgoxIsK39Ie6cLzsHf5jmPVRPR9lXw2PVCelaDsocAXXEJvo/gdVfBg3qwrIzVQAu0OzrtAAvRnmsQbZ8SyxQikJsIRKoQ99UV4Tniun4fniMuN70DmdmrhLjM0NOzIiACIiACIiACIiACIiACSQRc9wjYwMHrLoPrbjdft1ACFljjLV9S4X+6hoATcHEMLvbChRc2yiLKboQoux1sq6io5gACXudXJPi+govdsFEbluXJ9K4cl/e9Ex7rQsR6esOyYjI9pyYQgTNNQEJccOJ0xIUjxO3YsQPr16/HxRdfHHDyefPmGXcca8bl9pAQl9tvUPsXAREQAREQAREQAREQgRxEgCKbg03wOSvgc9fAdffDxdF/hLdTG7XM/42DhQKwrKKmDpnHagjbqpmhlNYcdPw8tRXepdedjkTfHLg4ABu1YFlRGT7jqU64u+CxzkWMp1eKlNQMT6oHReAsEIhUIe7Ldj3DqhHXbcbnIdeI6927t+mYvGDBgoA3SoGuevXqp3UvPgvXn+klJcRlGqEmEAEREAEREAEREAEREAERCETAdQ+DzRwc7ILr7oGLBAAuLMTCsuiUKwnbqpBmDTJRPfsEXNcHr/sdEn3z4WC7STkO17HouolwsJG9To3gGuPpDts61UhBIQK5kYCEuOC3RkdcOEIca8CxKcsTTzwRcPIXXnjB1GNkzczcHhLicvsNav8iIAIiIAIiIAIiIAIiIAIikI0EXNeBz/0VXmcufO4642m0UBoWiqTrYHTdeOOAc7AfNsojym78T+pxkWzcraYWgewnEKlC3AQ64oqWCgnw6gO70T0MR1xcXByGDh1qmpwEig8++AADBgzAiRMnQlo/Jw+SEJeTb0d7EwEREAEREAEREAEREAEREIEcQsBx98PrzDYpx467y6QcW8hvfgGx/+zSBxfHAfOL7kd2Xa2IKPtCk5JqWacSkxUikJsJSIgLfnvhCnHskNyjRw+8+eabASe/77778Pnnn5uuqrk9JMTl9hvU/kVABERABERABERABERABCKWQOLBo0jccwiJ+4/Ae+Q4XJ8Dy7Zg54tFdLFCiC5eGDElzoHlsbOMERsu+NwV8Dl/Gceb6x4DkGiEN8AGrPywcY4R4DxWA9hWjUzVlsuyjWsiEcgiAhErxLW9DvVCdMStoSNu5viQa8TdcsstGD9+PObPn4/GjRunuKnly5ejVatWRqj7+OOPs+gWz940EuLOHnutLAIiIAIiIAIiIAIiIAIiIAJhE3C9PpzYtAvH1m7FiS274Tt2Es6JeDgnWYPvHzksOsqIcZ78sYgtXRQFaldE/prlzZ+zMlz3OBzsBlymizkAomBZxWCheFKX3KxcT3OJQE4gICEu+C2EK8Rt2bIFTZs2xZEjR3D99dejUaNGZpHffvvNCHSFCxfGL7/8gsqVKwdfPIePkBCXwy9I2xMBERABERABERABERABERABP4H4XQdwcMFqI8TRBWfHRCOqcD4jutmxMcYNx26nboIXvhPxRqTzHTkBT+F8iC1bHEUuqIP8tSooRVSvlAhkgkCkCnFftLk+LEdcj1mfheyI43WsW7cOd955J2bPnm1+jjGYzt6mTRsMGzYMtWrVysSt5ZxHJcTlnLvQTkRABERABERABERABERABEQgIAH+pfTIsvU49Ms6nNy6B1EF8yG65Dmwo6OCEnMdB94DR5Gw9xBiShVBgTqVUPSShvDExQR9VgNEQAROJyAhLvhbQUdcuEKcf9Z9+/Zhw4YN5o81atRAsWLFgi+Yi0ZIiMtFl6WtioAIiIAIiIAIiIAIiIAIRB4BCmkHF6zBoaXrkLjvMOLKl4Anf1zYIByvD/Hb9tJigoL1K6PEFc2zPFU17E3pARHIhQQiVoi7vFd4jrgfxoXliMuFr0KGtiwhLkPY9JAIiIAIiIAIiIAIiIAIiIAInBkCh5asxYH5q+E9eBT5qpSG5fFkeGE66xJ2HoCTkIhC51ZDifbnheSqy/CCelAE8iABCXHBL9U44jIgxB09ehSbN2/G/v37k9JTk692ySWXBF88h4+QEJfDL0jbEwEREAEREAEREAEREAERiFwCJ7ftxe7JCxG/fR/yVyuXJd1PKcZxPnZSLXbpuTjnvNqRC1gnF4EMEJAQFxxauELcoUOHMGDAAIwbNw4+n++0Bfhzi/XiAn0v+G5y1ggJcTnrPrQbERABERABERABERABERABETAE6Frb/fVCHFmxAXGVSmdpTTemux7fsB1xFUqiVKcLTWdVhQiIQGgEIlWI+/yyG8JKTe05+9OQU1PZKfXLL7/E3XffjdatW6No0cA/k/i93B4S4nL7DWr/IiACIiACIiACIiACIiACeZLA0VWbsOfbxaamW3YIZb7j8aZmXJGL6pt6cdkdH3/8Mfr27YuNGzeiSpUq2b2c5heBbCMgIS44WjriwhHiChcujP/85z948803g0+ey0dIiMvlF6jti4AIiIAIiIAIiIAIiIAI5D0CdKztnjgfh39dj/w1y6eZknrs5Am8N+0LrNj0J1ZsXIfdh/ajx0Xt8NZtD58GZdu+3Xhr0hj8tGYZdh/cjxLnFMV55Wvi3i69ceGAGxBdtFDSM0z/evXVVzFy5Ehs3boVFStWRL9+/TBw4EB4ktWo++WXXzBmzBj88MMPRmArUKAA6tevj8ceewxt27ZNsYfMCHGO42Dw4MFo3LgxOnfunOELv/nmmzF69Og0n3/uuefwxBNPJH2fZx80aBCmT5+OgwcPonr16ujfvz/uuecekyaniEwCkSrEjacjrkjpkC59zcFduC4MRxw7o7744ou4/fbbQ5o/Nw+SEJebb097FwEREAEREAEREAEREAERyJMETm7fi11f/gTfsZOmS2pasXXPTrR48CaULlIMDavUwszliwIKcfuPHEabx29FgjcR/9fmGlQqWQabdm3HJ7MmA66LhV9MQ72O/6Z83XnnnRg+fLhxsF144YVYsGABRo0aBX79nXfeSdpO9+7dMXfuXHTr1g1NmzYFC61z3KpVq/Duu+/ijjvuSBqbGSHO6/UiOjoaffr0AefJaCxcuBAbNmw47fG3334bFBWXLl1qzsHYvn07mjdvbs7EdLlKlSph1qxZmDBhAh588EG89tprGd2GnsvlBCTEBb/AcIU4iuTHjx/H559/HnzyXD5CQlwuv0BtXwREQAREQAREQAREQAREIO8ROLx8A/ZO+xlRRQohqlC+NA8Yn5gAimxli5WA1+dD5b7tAwpxH8/8Bk98MhSj7h+MK5q0TJpvyuIfcfuwIRhy630Y9P6plLCVK1fi3HPPNa4vClT+uPfeezF06FD89ttvaNiwofny/PnzjVgVGxubNO7EiRPGubZnzx7s3r0bUVFR5ns5QYgLBJJ/+S9TpoxJl12xYkXSEJ6fouO8efPQqlWrpK/fddddeO+994zYWLdu3bz38ulEQQlEqhD3WevwHHHXzw29Rhx/XnTo0MEI//yM8fOY3H3rvxTbtoPeT04fICEup9+Q9icCIiACIiACIiACIiACIhBxBPb9sAz7Zy8/1Sk1yhPS+dMT4oZN/gwvfvEhpj0zDOdW+7dL6i9/rkGnIffipT4D8PCHb8DyeExq5gsvvIC//voLVatWTVqbqafVqlXD448/jueffz7dPdEx9sYbb2DLli0mrTUtIY4iF513dKrt2LEDBQsWNIXauX7t2qf2uWnTphT78C/McXPmzDF/ZCrtf//7X+PGW7duHfLly4dLL73UzBNMLBs7dix69+5tHG7ctz8aNWpkHDrr169PcdYlS5bg/PPPx5NPPmnSZRWRR0BCXPA7pyMuHCGOAluwdG9+n+7Y3B4S4nL7DWr/IiACIiACIiACIiACIiACeY7Arq/m4dDSP1GwTqWQz5aeELf8r7Xo8MzdaFq9Lp7qdRsqlCiDTbu34dlPR5jUy8mPvoFa/+mI6CIFceWVVxrX286dO09bu3Tp0mjSpImpmZZe9OrVy6Rwsq4a68YxAjni6DqjA4+iWfny5Y1wN2LECLiui9WrV6NUqVI4duyY6abItNSLL74Yt912m5mPe2nXrp357x49emDSpEm46aabjEi2b98+kxrLZymc1axZM83tXnHFFZg9ezb+/vtvM6c/6tSpg5iYmBQuOX6P+2rQoAHat2+Pb7/9NuT70cC8QyBihbhLbkTdEGvE/U4h7sexIXdNZWpqMCGObxDF9tweEuJy+w1q/yIgAiIgAiIgAiIgAiIgAnmOwI7PZuPo6s0oUKtCyGdLT4jjJGNmT8VLX3yEA0cPJ83ZonZDvHPdABQvUQJlb7gcMcULm7RTClCsl5Y6WD8tMTHRiGdpxe+//25SUzt27GgENH8EEuIolPmFOv84Otq4h2eeecY0fWCkVyPuiy++QM+ePcHfWbPOH9u2bUO9evVw9dVXY9y4cQG3yzGs/XbVVVdhypQpKcZ06dLFCG10ApYtWzbpe8OGDTNpu9xj8lTWkC9KA3M9AQlxwa8wXCEu+Ix5Z4SEuLxzlzqJCIiACIiACIiACIiACIhAHiGw8/O5OLLiLxSofSqtM5QIJsR9+8tP+N8PU9C6YXNULV0Ov/+90XRcrVmqAv5397OocfNViC5e2HQGpTOMDRpSB+s3se5b6nRN/7hDhw6hZcuWJs2UrjqKXP4IViOOzrz4+Hjjhrv88stRo0YNfPXVV+bx9IS4rl27YtGiRQFFsRtvvBEUTVh/KlC89NJLRuxLLeJxLDvBsvPreeedh9dffx0VKlQwzrn777/fOO0qV66cJodQ7ktjci+BSBXixl3cOyxHXK95Y0J2xOXetyH8nUuIC5+ZnhABERABERABERABERABERCBbCWwe/JCHFr0O/LXrhhSupYRq9Jp1jBtyTzc8e7zmD54OOpW/Lfu29yVv+CGVx/DY11uxpD/DYenQFyGHXFs0sC0VqaCMnWVNdySRyAhjoLdo48+ismTJ+PAgQMpxl922WVGDAsmxNH1RhdeesEacoGKvPNZpuByH8kbTvjnGj16NB544AHs37/ffIm151hLjm49ptIuW7YsW98DTZ4zCUiIC34vdMRlVIijKM+0dsdxTlsoubgffBc5c4SEuJx5L9qVCIiACIiACIiACIiACIhABBM4MH819s1cirjyJWHHRodEIj0hrtvzD2DfkUOY89KHp81Vq981aFm/Mb5fusCIfhmpEZeQkIBrr73WCGd0sTEtNXWkFuL4l2ymsLI2G11m9evXN80aKJjdd999KFGiRFIzhvQccazlxvXff//9NDm1adPmNEHT33ThzjvvNN1R0wrOzRRU/s7acOwCW6hQIVOX7rPPPgvpbjQobxGIVCHu04tvQt1z/q2jmN6t/n5oF26Y97+wHHH8GfHyyy+bhitpBUX13B4S4nL7DWr/IiACIiACIiACIiACIiACeY7A0d+3YM/khbDjYhBdtFBI50tPiLv44b5mjnmvpCx07kv0ok7/zmhxblPMWnIqFZVdUV988cWQu6ZSJGNtNrra2IH0+uuvD7jf1EIcU1cpxLH4Ogu1J49y5cqhVq1aKbqiUgBjwwbOkzyuueYaM46utejo0ERLPn/33XcbAe7nn382DR5CDTaFYP24QPsOdQ6Ny90EJMQFv79whTj+7GCzFaalUzhn92YK9KxX+dFHH5k0d35m+TMgt4eEuNx+g9q/CIiACIiACIiACIiACIhAniPgPXIcO8bNRvz2fchfvVxI50tPiOv75lOYsXwRJg16C81r1kuab9KMb3HX/97AwP734JXh/zVfp0DGzqhsSPD2228njb333nsxdOhQLF++HI0aNTJfp6vthhtuwPjx440j7dZbb01zr6mFuFWrVpk0WP4lu2/fU0Ihg+mgFOaY2kqBzR9xcXHGrff111+nWIONGLiHp59+2qSMpg7WtGP31eRBdxvFPn59zZo1IfHlINbAY52848ePm+eYqqqIPAKRKsSNvej/wnLE3fjTJyE74po3b24at8ydO9d0PS5ZsiRmzpxphDnWeKRoP2jQINxxxx25/oWTEJfrr1AHEAEREAEREAEREAEREAERyIsE9s1ahgM/rkBshZLwxMWkecRRMybh0PFjcF0Hr331CRpUroGrml9kxl/RpCXqVaqGJX+uRo8XHkJMdDT6tLkGlUuVw+9bN2Ls7KkoWrAwlq34DeUq/duhtX///hgxYoQRyFq1aoX58+cbB9jtt9+O9957L2kvrJ/25ptvGtGsX79+p+2xXbt2pvEDI7UQRycdhbhdu3ZhwIABpjMp3Wl0nBUtWhQVK1ZMIcRddNFFpibbs88+axonUETjX9LZ3KFXr15GDLziiivANZk6unnzZlOrjnXgxowZk2JvTJ/t1q0b2KzhkUceCciWtePat2+Pzp07m72wjtzIkSON827GjBm44IIL8uJrpzOFQEBCXHBIdMSFI8Tlz5/fOHEp+LNeZPHixc3nl59pBj/3n3/+OVavXh188Rw+QkJcDr8gbU8EREAEREAEREAEREAERCAyCZzcthe7J81Hwt7DyFe1TJpNGy54oDf+3rsrIKQ3bn0I1118pfnemi1/4c2vx2DFxnXYdWAfzslfABdVb4jBzzyDhp3apHieItkrr7xihCfWcKPwRaHt4YcfNjXS/HHppZcaB0tawS6jHMMI1Kxhw4YNJv3sp59+QmJiIlq0aIFXX33V1IhjJHfErVy5EnfddZdx2NCRltwxRzGOjjy66/gXdf6ZjjeKd3Tp0cWWPDp16oQpU6Zg69atZlygYMF4OvMoDlIsLFasmBH56LxjR1dF5BKIVCFuTCs64sqEdPG/H9qJ3vNDd8QVKVLECOP8RwD+LKAD9pNPPgE7HzP4s4iCPT/7uT0kxOX2G9T+RUAEREAEREAEREAEREAE8iQBikkHflyJAz+tMt1MY4oXzrJzOicTcGLLLhRsUBWlO7cKuSFElm1AE4lALiYgIS745YUrxDVt2tSI9m+88YaZvG7duqZ2I1PVGRTkFi5caGpX5vaQEJfbb1D7FwEREAEREAEREAEREAERyLMEfCfisXvifLB5Q2y54ogqmPmaZE6iFyc27kBsuRIo1bEF4iqWzLP8dDARyA4CESvEXdgHdUJ0xP1BR9yC0SHXiGOKOLsQb9q0ybh/33rrLTD1neIc/1Hixx9/xFNPPWUcqbk9JMTl9hvU/kVABERABERABERABERABPI0gfid+7F3+hIcX78dsWWLI6pw/gyf14lPxMnNuxBdugiKXtQQhRtXz/BcelAEIpWAhLjgNx+uEMe6cHS7sRGMv/sx09TZjMXj8ZhajY8++qj579weEuJy+w1q/yIgAiIgAiIgAiIgAiIgAnmeALun7p2xFCf+2gE7LhaxZYvB8tghn5uOksT9R5C495Bx1hVpWQ+FGldPs+5cyBNroAhEIIGIFeJa3ow6hUOrEffH4Z3ovfDjkB1xkfQaSYiLpNvWWUVABERABERABERABERABHItAQppBxasxvF1fxtRLapIQUQXKwQ7+t/mCakP5zoOvAePIXHfYVix0chftQzOaVEX+auVzbUctHERONsEJMQFv4FwhbjXX38dN9xwg+menNdDQlxev2GdTwREQAREQAREQAREQAREIM8QcH0Ojq7ehCMrNyJh1wEkHjgKy7aMS86Oi4Zl26aekpvgBevLuQmJ8BTOj5ji56BA7Qoo3LwWPPli8wwPHUQEzgaBSBXi/teib1iOuJsWjQrZEWfbNviL3ZB79+6Nbt26oXDhrGtQczbek7TWlBCXk25DexEBERABERABERABERABERCBEAiw4cLJTbtwfMN2xO86AN/RE2D9N9dxAQvGJefJH4fokucgX+XSKFCzvOm8qhABEcg8AQlxwRnSEReOELds2TKMHTsW48ePx7Zt2xAXF4eOHTuabqlXX311Ut244Cvn/BES4nL+HWmHIiACIiACIiACIiACIiACIpAmAbrkvIeOwXvkOPjfxiGXLxbRRQvBjkk7bVVIRUAEMkYgUoW4Ty64JSxH3P/9/FHIjjj/TdDRO2fOHCPKffXVVzh48CCKFCmC7t27G1GOjrncHhLicvsNav8iIAIiIAIiIAIiIAIiIAIiIAIiIAJnjICEuOCo6YjLiBCXfOaEhARMmzbNiHJTp04F/+z1eoMvnsNHSIjL4Rek7YmACIiACIiACIiACIiACIiACIiACOQcApEqxI0+PzxHXJ/F4Tvikt/yyZMn8c033xghbvr06UaE8/l8OedFyOBOJMRlEJweEwEREAEREAEREAEREAEREAEREAERiDwCEuKC3zkdcRkR4hzHwcyZM434NmnSJBw9ehTFixdHz549TWpqy5Ytgy+ew0dIiMvhF6TtiYAIiIAIiIAIiIAIiIAIiIAIiIAI5BwCkSrEfXweHXFlQ7qIPw7vwM1LQnfELV68OKlZw549e5AvXz5ce+21poPqlVdeCY/HE9K6uWGQhLjccEvaowiIgAiIgAiIgAiIgAiIgAiIgAicRQKumwAHm+G6u+C4e+DiCAAHgAcWisC2SsGyysBGRViWfRZ3mv1LS4gLzjhcIc62bSO2tW3b1jjfunTpggIFCgRfKBeOkBCXCy9NWxYBERABERABERABERABERABERCBM0HAcQ/A5y6Hz1kJx91hBDgXxwC4/yzP36NgoSAsFIJtVUKUfS48VkNYVv4zscUzvkbkCnH/Qe1CoTni1h6hI+7DkLum/ve//8X111+PUqVKnfH7PNMLSog708S1ngiIgAiIgAiIgAiIgAiIgAiIgAjkcAKu64PP/QWJzlw47la4OAobxWGhMID8sKyopBO4bqIR51wcBMyvYvBY1RBtt4Vt1YZlWTn8tOFtT0JccF7hCnHBZ8w7IyTE5Z271ElEQAREQAREQAREQAREQAREQAREINMEXPcIEpzJ8Dm/wcEe2CgPC8VCEtQo4Llg6uouWFYlRNsXIMpqB8uKzvS+csoEkSrEjWreLyxHXN9fRobsiOPd7t+/H6+//rpp1rB7925TM+7CCy/E3r174XfM1atXL6e8Bhneh4S4DKPTgyIgAiIgAiIgAiIgAiIgAiIgAiKQtwi47mHE+z6Hz11qUk5tVE7hfgv1tK4bDwcbTMpqlH0hou1OeUaMkxAX/C2gIy4cIW7btm1o1aoV+HvNmjWxdu1azJgxA5dffrlZrHbt2mjfvj3efvvt4Ivn8BES4nL4BWl7IiACIiACIiACIiACIiACIiACInAmCFA8S/CNg9dd9E+9t/KZWtZ1HSPGAbGIti9DtN0xJFddphY9Aw9HqhD3UbNbw3LE3bL0g5AdcX369MHkyZMxZ84clCtXztSKozPOL8Q9/PDDmDZtGlatWnUGbjh7l5AQl718NbsIiIAIiIAIiIAIiIAIRDQBJ9EL78GjcOITTW13K9qDqHMKwJMvNqK56PAikBMJJDqzkOCbCgsubKtylmzxlBi3FhZKIdZzHTx2gyyZ92xOIiEuOH064sIR4kqXLo3bb78dgwcPxr59+1CyZMkUQtzw4cPx2GOP4eBB1iDM3SEhLnffn3YvAiIgAiIgAiIgAiIgAjmOgPfwMRxbtw3x2/ciYc8h+I7Hw/X6zD4t24adLwbRxQohtkwx5K9RHjGli+QJl0yOuwhtSATCIMCGDPG+0XDcjbBRH5Zlh/F0+kNdNwEOfofHaoxYzy2wrEJZNvfZmChShbgPm9wWliPuP8veD9kRFxcXh2HDhqFfv34BhTjWiKMQd+wYO/bm7pAQl7vvT7sXAREQAREQAREQAREQgRxDgALcoV/W4fj67Ujcdxi+oydgxUTDky8GVlQUYAGuz4FzIh7OyQRYsdGIKV4YcRVKonDTmoirWDLHnEUbEYFII5Dg+wKJznewURWWVSDLj++4u01n1RhPN0Tbl2T5/GdywnCEuJtvvtmkW27atOlMbjFL1/KfNzuFuDp16pgacG+99VZAIa5nz574888/sWzZsiw929mYTELc2aCuNUVABERABERABERABEQgDxFwHQfH/tiKQ0vW4sTmXYDjIrp4YUQVLgDLtgKe1HVdI8gZwe5EPGLLlUChngYXlAAAIABJREFURtVwTvNasGPzTnfFPHTNOkoeJuC4exHvGw7H3QaPVSfgSY8ejcdbb8zGsl+34telW7Fz5xH0vuk8fPDRDSnG33rLpxjzvyVp0npmcEc8NeirpMYNW7duxaBBgzB9+nSTdli9enX0798f99xzTwqn7O+//45nn33WOKx27NgB27ZRrVo1UOi64447EBt75tLdz6QQt2jRIgwZMgRc8/Dhw6hYsSK6d++Ohx56CEWKFEnBmV1HH330UXz99ddmbIMGDfD444+jS5cumXp7/ecdSUdcwXIhzbX26Hb0C8MR9/TTT5uOqT/88IN5B5iaOmvWLFx22WUYPXo0brnlFrz00ksYOHBgSOvn5EES4nLy7WhvIiACIiACIiACIiACIpDDCdDhdnD+ahxevh4Juw+adFPWgAsnfCcTEP/3Htj5YlGgdkWUuKIZPAXiwplCY0VABDJBINH5EXTEWSgG2yoacKbNm/ajTs0hKFO2MJo2rYBpU9cEFOIWLdyEjX/tPW2OYUN/NALeTz/3QYvmj8Jj18H27dvRvHlzHD16FHfffTcqVapkxJcJEybgwQcfxGuvvZY0z/fff2/+fMEFF6BChQrw+XyYP38+xo0bhw4dOphC/2cqzpQQN3fuXLRp0wa1atUyQlThwoXx888/Y9SoUYYb/9uyTv1jR3x8PFq2bIl169bh/vvvN4Ld2LFj8eOPP2L8+PGgoyyjcSaEuBMnTqBt27b45Zdf0KxZM3M2nofiIjuoXnTRRaZmXHR07v+HGglxGX0T9ZwIiIAIiIAIiIAIiIAIRDgBOuEO/LQKh5esg/fIceSrXBpWlCdDVOiQS9h1wLjjCjWoghLtz4cn/5lzuGRo03pIBPIIgQTfeCQ638JGozRrw8XHe7F371GUL18EXq8PhfI9FFCIC4Tk+PEEVKnwFCpXLoJFv3ZFjKcnou1LjevtnXfewbx589CqVaukR++66y689957pkNm3bp106VMAY9z/PHHH6hdu3aaYxMSEsz3YmJiMn1rZ0qIo3g2adIk4wAsXrx40r7JjfXUmKbZuHFj83X+mV//6quvkhxwXq/XCJd8fvPmzRkWsfzn/aDx7WE54m5dPiLkGnE8Q2JioklN/eyzz8x9Oo6DmjVr4oYbbsADDzyQJXeX6cvPggkkxGUBRE0hAiIgAiIgAiIgAiIgApFI4MjKjdj3wzJ4Dx5DviqlTSOGzEb8rgOmftw559dG8XbN1MQhs0D1vAgEIcCupvG+t+FzV8FjNQyJV7hC3LhPl+KWPmPw4svX4J77iyHavgoxnuvQqFEjHD9+HOvXr0+x7pIlS3D++efjySefNF000wu65JiuyBROik6Mjz/+GH379sXUqVONa+6TTz4x7jumtVK4YldOpntS5OLXmQbJ9M3nnnsuRbonBUJ261y4cKERswoWLIjWrVvjxhtvRLdu3VKITHToPf/88xg5ciT27NmD+vXrm/koKiWvEXfeeefh0KFDxrmWOigqjhgxAn///TfYRZQ10xYsWGBSdpmK648XX3zRpJzSKUa3HINC5rZt206rRUf3HN10dBS2a9cupPtNPehMCXEZ2lwufEhCXC68NG1ZBERABERABERABERABM42gcQDR7B70nwc37AD+WuUg+XJmBMu9TnojDu5ZTeiCuVHiSuboUCdSmf7qFpfBPI0Adc9hJO+t+G4e+Cxqod01nCFuI5XDcfcOeuxftMzKFFq4/+zdx7gUVXbF1/3ThpVeu8gRYqAiChgx4qiKIqFP6JSbAgKiJWmoKAioCBIUR8+sSAgoFgQedIEFalKL6F3pKbMvf9vHZwhCZPMpABJZu3v4/GSOffcc373zEhW1t4bHusSxEQ8ARbop0Nt+fLlye67atUqU9+MQtS3336b7DUKd/zD7pmLFy8G3XNMV6SYlydPnmRCHOfgaxTOmMLJ2moFChQwgt2+ffvQqVMnU2eO7isKbnTfUXTz1Zujw2zFihW4+uqrUbZsWWzdutUIZXRuURyjsNewYUNzT58z78Ybb0TLli2NIMaxlSpVwpEjR/wCGe/z+OOPG4Hwiiuu8O+Njr0yZcqYdExfmq1PZKSoSEfYBRdcYARH1sSjqMa0XAadYxQJb7/9diP8JQ3W1rvoootA8Y714zISfiHu4i6oHmKNuLVHd6DjsvfT5YjLyNpy4jUS4nLiU9OaRUAEREAEREAEREAEROA8E9j33W84tHA1okoUMqJZVoaT6MWJDTuQt3o5lGpzJTx5widFNTd0WMzKs6C5zj4Bx92Pk94RcN1D8FiVQrpheoS47dsPoXqV/rjxplr4alrHf513tRET0d240Ci0bdq0CaVLl/bf25dmWbdu3TNEur59+5qmDb6gqDZmzBjjrvOFzxFHAYpiWUzM6ZqTFO4mTpxomh+wKYAvZsyYgdtuu82kxHbu3Nl8m2JfvnzJa17SyUaBj2KcT4ij2EUHXKtWrUxqqK9uGwU1imMVK1b0C3F0w3GvDz74oFm3LyZPnmyEQv7dunVr823eg/XePvjgA/hSa/l9CoRM4fS55OjwK1asmBHr2PAgabBpAwU8CoUjRowI6fmmHHQ2hDi6FDMS//d//5eRy7LVNRListXj0GJEQAREQAREQAREQAREIPsTiN//D3Z9PhcJ+w4jT6VSARd87OQJvP/NF1i+eR2Wb1qLPYcPoE2zFninU69k47uNGYwv5v2Q6qZffupZ9B9+umB7TuywmJ4nmlkhLtQOi1OmTDGCAccznY1pcE2aNDEChy/VLT3r1ticS8BxD+Kkdzhc9wA8VuWQNpIeIW7I4B/xyosz8cmk9mh9V/1/hbh6iInoajpkskA/0zUpILEJw5w5c4z4RBGMAlbKtNWNGzeCfyg+8Xq66ej2omvNFz4hbujQoejWrZv/+3TcMg312muvxciRI8/YK91rN998M7744oszXmNDCTZE4Bx0rXFdPiHujTfeMG6zefPmJat1x0nosmMjAjrkfEGHHtNmd+3a5RcJKdgxDZWpsr46dnS6DR482MzLVFgKamxYQKdd165dwf0x+LnIRhfPP/88Bg4cmGztFPDo8HvkkUdM2mxGwifEjan3WLoccZ2Wj0rVEZc01TbUNVHgZApwTg8JcTn9Ceay9fNDzcVBuO5uuDhKky0ADyzrAtgoCaCA6oTksmeu7YiACIiACIiACOQ8AnTC7Z+9FJFFCiKiwKlUsJQRu3cXmjzbDiULFUHdStXx45+LAgpxv61bjS17dpxx/bjvpmDZ5rX47o0P0KLHw6b+XE7tsJieJ5wZIS49HRbpnuEfOpKqVatmUu5Y8J4pf6yLxa6FivAg4LpxOOl9C467FR6rZkibTo8Q16De69i96wg2xfZDVJQHXvyJCOtqxER0MPf66KOPjJOL3TEZTC9lSiadb0wHZUOCtIJi1HPPPYdly5b5Gzv4hLivv/7auNx8sWfPHiM6pxVXXnkl+F5isC4cBTY62w4ePHjGZT4hrkuXLkYcY7pr0qYKvIDvMe4hqRBHAZHdUJla2rZtW3Bd3CtTVocNG+a/z9NPP41p06Zh9erVyJv3tPOY9eEoPrKzKGvpnStHXFYKcWwekZGgOJvTQ0JcTn+CuWT9jrsHXnc5vM5fcHEArnsMLuIAuAAsWMgDy8oHC8XgseuYIqK2VSiX7F7bEAEREAEREAEREIGcQ4C/ON312c84unKzSR31pWCl3EFcQjwOHPkHpYsUQ6LXi4odbgooxAXa+Ym4k6j/1L0oW6govn9pBEq1vQZRRQvm2A6L6Xm6mRHi0tNhkUIAXUFJg+l1LGTPGlcUMBThQ+Bk4gQkuj/Dg/ohGR9CFeJ+W7IVza8Yis5dmuKdEXeDop+D9Yjy3IlI+xY/YLq26Gzj30z7jIiIMLXc2rRpc0bNs5RPZffu3ShVqpRpXsBmCQyfEPfDDz8Yx50v6EBjWugdd9xhassFikKFCqFRo0am7hrfD2ycQIceU09Zh41OLgpvGzZs8Lu9mMrKNFMKYkWKFEk2Le/1559/JhPi+DnKtFi6T2fNmmWcbRQj6Txr0KCBuZ4seL9HH330DPceBUCucciQIejRo8c5qxE3uu7j6XLEdV4xUjXiAhwyCXHh89maLXfquIeQ6MyG110Fx7jgjsNCflig6MY8fgv0yAEn4ILi3FFYKAjbKoUIu775TYplZW1NkmwJSosSAREQAREQAREQgWxCIPHoCeyY+CMS9v+DPBXSdpb4lpxeIe6rBbPx1Puv48VW7fFI01tQotUVyFe9XI7tsMhUsRo1aiR7gue7w2Jqx4lOOBahp8igCB8CCc43iPdOhY3KsKzALtekNEIV4rp1nYzRo+bhf/O74dLGFeG4+8zPddGeBxFhp+66ZDdTOsnY8ZPidFpBp1nlypVNAwNfumlqQhzfd3SsMQ2bAlhaQYcdhbhAa2B6K91vGU1N5X3ZDZap4EwrveWWW0zKK+/pC7rx2LyBDSXotksadMJxD0kbMLDxA13DSZ13vCYru6aeKyGOvxSgS/Diiy9O1sU2t7wjJcTllieZw/bBDxmvuwyJzk/wuqfaNttgfZEL0vwNDFtrm9RV7KRp2VinIz03wGNdmMMIaLkiIAIiIAIiIAIikDMJnNi6B7sn/wK4LqKKh5ahkF4h7r7Bz2HBX8vw6xsfoeAxB8VuaIRCTWrl2A6L/Lcvu0CWKFHC/9DPZ4fF1E4e18kaXaw1xc6RivAh4HXWIM77IYA42FbwTsWhCHHx8YmoUqEvipfIj6XLT3Xr9Lp/mfmjPY/DtgoHBMxmBhSVmCbNlExfJ1QKM0nfQ76Le/XqZZxhFN/at29vvp2aEMfX6F5j8wPWWkvpCqVQx/vT1bZy5UqwWcT48ePBrqW+YCqtTxxM2qyBjSHofgvWrME3DwU41qS79957TYpqynp2XAsFP9Z3ozBFp54vfJ8fSR1/bMTAunG8P0VMRmJioukQS4GOqaC+2nPpPdm+GnHv0xGXr2xIl689th1d0umI+/zzz43Dj3UrGdwfn9HevXtNCi5r8dH5m9NDQlxOf4I5cP38DzxtzwnOHDhuLGyUg20VTddOTtWSo4NuN2yrCiLtWxFhn2obrRABERABERABERABETh7BI6t3YY9U+fDzhONyEL5Q7pReoS4nQf2oXH3B3BNvUvxUbf+OL5xB4pe2wBFrr44x3ZY5A/zrHfFQuqM891hMbWHRsGBBd2HDx9u0oAV4UPAdb2I845BorsIHtSDZXkCbn7Ue7/g8OETcBwXA/rNQv36ZdHqzlPdSm9tWQd165XxXzd1ynLcd88EDBjYEj16XgfXPQ4HG83PbkxNZTBV9KabbjICVvny5U1NNjYUYL04ijAUkXxBcYmpn2zKwLF0bn733XeYPXs2mjVrZpo8MKWVkZYQx7mbNm1qmi20a9fO1EOk6MWvKWLxvcp0UIpYfO8y9ZUCF1Na6USjW4/12igW+YQ43pOOPHZcZWo369LRmcavKbYdOXLkDKcar+HY77//HpGRkWY+Cm9Jg7XyevbsaRx/dMYVLFjQCIhstkIOTDH3lQc4efKkcclxH0xzpaj+ySef4H//+x/++9//4r777svwgT4XQtw333xjuLFxx6233oo+ffokE0v5PXIi/5weEuJy+hPMgetPcP6HBO/3xtVmowYsKyrDu3DdE/BirenuE2m3QoR9cYbn0oUiIAIiIAIiIAIiIALBCRxbE4s90xbAzhuDyAvyBb+Arox01Ih7d/okDPpiHEY/+TJubdQMx9dtR9HrGqDINfVzbIdFOjrYEIE/5DPOd4fFQA+NxeQpZrA+1/z58/2CRkgPWINyBYFE51fEe7/kOxa2Fbggfo1q/bF1y5lNCwhgzNj70K59Yz+LNq3H4ZuZq7BuUx+ULl0QDv6CZZVBtKe9vzsrO5HSXUaBi4IXnWgtWrQwIgzfM0njs88+MwIba8nRIUWnWM2aNY2jjMIxv/ZFWkIcx9D1xvfh5MmTjVOMrjs6QSmMsXacryEAU7RZH45dSxMSEozQRfcdhTqKcEmFOIp5AwYMMEIi01b5Xnr11VdNjbuff/45oBDHPbFZA4VIimuBgs0a6JajgM+GEVwnXWEvvfRSsgYOvJZCJZtL8Jp//vnH1LVj7Tx2XM1M+IS4UXWeSJcj7rGV74VcI47iKA03/PyhWEpRMqlrkWzHjRsXkGNm9nY+rpUQdz6oh/E9ve4GxHs/geNugY1asKxTv7HITLjuSXixxqSpRns6wLZOW/4zM6+uFQEREAEREAEREAEROJPA8fU7sHvqPNiRkYgsUiAkROkR4q7u/Qj2Hj6IP4ZPQiRsnNiyG8Wua4jCV9Y198qpHRavueYaIyQyzneHxZQPjQ6a5s2bmx/qKTjQ+aMIPwKum2h+Vkt0f4GNirCs0N7foZBy3F2mHniU56ZkTRpCuTY7jvEJU0mFuIysk+Jb69atjcurVatWGZninFxzLoS4fPny4fXXXzeiKgXFlEIcRTim5J44ceKc7Pls3kRC3Nmkq7mTEaB7jXUHvO5i2KgeUhHQUBG67mE42IYI60pEee5P1Uod6nwaJwIiIAIiIAIiIAIiEJhA/N5D2DnpZzjH4xBdJrTyIqEKcX9uXINb+z6J9tfdhoHtuyLxyAkkHj6K4rc0RoGLq/oXlNM6LHbr1g3FihUzrhjG+e6wmPTJbt26FVdeeaVx+1CEYwqcInwJUDA79TPbGniy6Gc2x2WN71h4rEaI9jyUK5rtZZUQR/cfa9GxXpwvrTY7nj6/EHfRk7gwxBpx645tx2Or3w3ZEce0WzoImQYcSIijI27YsGHGbZjTQ0JcTn+COWj9Cc5cxHunwEI0bCvrf8vmdTfBQh5EedqajqpnM3xW502bNpmcf4UIiIAIiIAIiIAIhAsBN9GL7R9/j5Nb9yJv1dP1oNLaf6hC3Isfj8CHP36NGX1GoEHVmojfcwjwWCh115WIKZ+8dlLS+2X3DovsfFi9enW/EJfe1FTuNas7LHJO1uOiCMdaW3PnzgWLzStEwOusRLwzBV53Izyokiln3KkuqTvgsWojynMfbCu0z4zs/hQyI8QdO3YM06dPx+LFi03K6eDBg00duOwc50KIY827mJgY0802pRDHen3soMqfvWfOnJmdUYW0NglxIWHSoMwScN14xHnfR6K79N/in9YZUx49God33p6DpX/E4o/fY7Fr1xE82O5SfDD+/jPGxsYexKBXv8ecOWuxa+cRlCiZH82bV0GP3uVRq0YrRHna+4tWMlefefzM1edvGljYkzn9/LDzeE4XIf3tt98wceJEkzJAgY3WWObUs6ju9ddfn2wNmRHiHMcx/5BiK2zWAshMcD+sDcAPK/4DqmrVqibVgXZeX9FOzu9r6R3oXizISzYKERABERABERABEQiVwN6Zv+LQwtXIU7UM7IjARd2TzhWKEBefmICGXduiWMFC+Pn1ceby4+u3I6Z8CZR+4Fp48pyu/5R07pzSYfGqq67yC3Gs9XS+OyzSVUIRjgXi+e9fFqxXiICPgNdZgXhnBhx3PSwUgoWysCw7ZECumwAHm9knFR6rFqI8d8O2Quu2GfJNzuPAzAhxvp/NChQoYOrbjRw50jQhyM7h2+/IWk+lyxH3+F8jQnbEzZgxA7fffrv5WZbdbxs1amRSdkuVKoVXXnnF1ItjAw+m+ef0kBCX059gDlk/P8jjvP8B4Kb6Abxl8wHUvHAASpUuiIYNy+GbmasDCnH79x9Do/pvID7ei46dm6JSpSLYsGEfPhg9H5blYvHSLqha8VnYVnlD5/HHH8eoUaNMy2m2wV6wYAEmTJhgvv/ee+/5Cd59993mN4EsZNmwYUOwcCjH0SrMD0d2wfFFZoQ4qvn8oOWHC+fJaLAFNT+cuE7myrNoJzsGffnll3j22WfBDju+8H3Ys+4A95k0WASVRUcVIiACIiACIiACIhAqATZs2DvjVzM8qkShVC+b8MNUHD5+DK7r4M2vPkaditVwc6NmZvwNDS7HRRWq+K/9Zskv6DiiP1645xE80bItvCfiELdjv+mWyj+MnNphsXDhwuaXwb7UVO7lfHdY5L932aCBv8RlkfSU8eCDD4Z6HDQulxJw3O2I986C466GgwOwUQwWiqfZbI/liFzshotDsFAGEXYDRNgtYFupf07kRHyZEeJy8n7PphBHLu+++y569OhhUuXZuMFnLmHaLt2D/Bk+N4SEuNzwFHPAHuK9M5HgTIWNarCswL/NjItLxL59R1G2bCEkJnpRIE+PgELc6FHz0K3rZHw55RHTItsXU75ahvvv/RBvvNkMz3QfhAi7GVasWGEsrFTVmU/ui6effhojRozAsmXLTEtqBruzUNhK2m2HhSDpXGNXnj179pzRDjsjqalZJcRxTxQSf/nll2T/eGKXH7bJpoBYq1YtszefEPfiiy+avHuFCIiACIiACIiACGSGgBOfiF2f/QwKcnmrlYXlCeyUueyZB7Ft3+6At3q7Yw/c2/xG/2sdhr6CH//8FUve+QSlChczTRoiCuVHqdbN/LXocmqHRdaIYyQV4s53h8Wk2ROBHhB/CFaIADObEt1f4XWWwnG3wYWvPlc+U3II4HvfCxcU4I7DQiQslDBdVyPsxvBYFyfL1MktRMNViHuPjri8oTkb1x3fjifS4YjznQ0aTmguWbNmDZhNduGFFxozCY0n7AabnZtahHq+JcSFSkrjMkXgZOJ4JLr/gwehfRCnJcQNGfwjXnlxJuYt7I5LGlXwr2vRws245sphGD7yCnTu1ANRnjtB4WngwIHYuHFjssKzFNCqVKliWjm/9tprae6N7rK3334bLGTL32QyAjniKIjRebdw4UJTbyN//vxgCgLvX6NGjWSCWMobJk1V4D/Khg8fbtx4a9euNa20mS/PeXzCGq+vV68ejh8/Dna5ShpLlixB48aN8fLLL5sUWEZSIY5MGJxXIQIiIAIiIAIiIAIZJXBkxSbs/+F3OHEJiCmXev22jMyfcPgoEg4cQaHLaqHoDZfkyh/kM8Ilp3RYzMjedE32JkBBznHXwOuuhePuhIsDcN04k/FEMc6yYoxbjjXgPHYt2Ka2XOiprNl792euTkJc8CeWUSEu0Myff/65+bmdZhP+vJzTQ0JcTn+COWD9/IA+6X0LjrsVHqtmSCtOS4j7bclWNL9iKBpfVhGD3rgdFSsVwcYN+/Bcj2k4eiwOcxe0QOELmiIm4nHceOONxvXGNIaUUbJkSTRo0MDUV0sr7rvvPqPIswYb68YxAglxdKjRgUfRrGzZska4Gz16tLHUrlq1CiVKlAALc06ePNmkpbJFfKdOncx8XAs75jDatGljcuHbtWtnBDUWqmRqLK+lyMbfCDBq1qyJqKgoLF++PNnyea86dergpptuwrfffmte8wlxFAf5m2QGU1L521k66BQiIAIiIAIiIAIikF4CrtfB3lmL8c+StYgsdgEiLzj176TMhhOfgBObdiHvhWVRsnUzRBTIm9kpc831OaXDYq4Bro0EJMCfb1wcBnAULrywEAELF8Cy8ocNsXAV4kbU7JouR9xTfw8PWiOONSqZdkqDSdGiRXH//ff7U1C/+eYbU9v977//RpEiRUxJpj59+uT4cyYhLsc/wuy/Adf9Bye978Bx98JjnW47n9bK0xLieN24Dxagz8vfgPXifNGseVVM+qIDChXZAo91IWIiepq0U4pVv//++xm3Y10M5p5TPEstWEiXqaktW7Y0ApovAglxFMp8Qp1vHB1tXEPfvn1N0wdGWqmpX3zxBe655x7w76S13FhElwV9b7nlFnz66admnjvvvNMIbXT3lS59ugst8+opCvK+PpGOouDDDz9smkNUrFgRtPuyQQMbVDAHn80sFCIgAiIgAiIgAiKQXgIJh45i79cLcWzdNkSXKoqIgpkTzYwIt3m3SUUtel0D5KteLr1LynXjc2KHxVz3ELQhEUhBQEJc8CNBR1wwIY4NGGggYQpqsWLFcPDgQfP/BwwYAJaJoguOKanPPPMMOnbsmGuyuiTEBT8/GpFJAmdDiJs2dTnGjlmA61vURNVqxbBq5U4MfesnXFS7NKbOvAoF89dCTEQv00WUbjM2aEgZbNzAum8pUzt949iB6/LLLzdppnTV8QMgLSEu6fx0ncXFxRk33LXXXmvcZ1999VVQIa5169ZYtGjRGS43XvjAAw+AH/isV8fgbw7YzfXSSy/FW2+9hXLlymHOnDno3r27cc9RcEttb7yell6ubd68eSYFlqwUIiACIiACIiACIpBeAnG7DmLfd0twfP0ORBbKh8jihTKUSpr4z3HE7dxvRLjCzeuiQN3K6V1KrhyfEzss5soHoU2JQBICYSvE1eiKanlD+wXJ+uPb8NSatB1xN9xwg8keYzdUGk+YhUZjCss98edpllqiCEdzTW4KCXG56Wlm072wc85J79tg1x2PVT2kVabliJs6ZTna3f8RFi5+FnXqlvHP9+MPf+O2W0ZjwMBG6NGzPWIinsywI47qO9NamQrK1FXWcEsagRxxFOx69+6N6dOnGyU/abDFMoUzRlqOOH740IWXVlBAs+1T9RY++ugj88F04MAB8zXrvrFbKh14TI9lJ6y0gmtli2im0PrSZEN6QBokAiIgAiIgAiIgAkkIxO89hAM/L8PxDTvhnIhDVKki8OSLCUmQY425+D2HQDdcnoolUeiKi5Cvxqm6vAoREAERyI4EJMQFfyqhCHFMN2W5pFdeecU/4a+//moMMc899xwGDRoU/EY5cISEuBz40HLikk8mjkaiuxARVv2Qlp+WENfi2ndNd9Wly3ufMVeJIr3RtHlxTPv6bUR52mSoRlx8fLwRpyic0cXGtNSUkVKIo32WKazbtm0zjrTatWubZg0UzPjBQputr0tWWkIc677x/mPGjEmV03XXXZdx45TMAAAgAElEQVTsH7UczxRU/s3acGztXKBAAVNrbtKkSWny5nXsKkvLLxtXKERABERABERABEQgowQopP3z+zocWbYRFObYWTWycH548sbAjonyd1ZlxoBzMh7OiXgkHj4GN9GLyKIFkbdaGRRqWhuRhcKnzlRGWes6ERCB80sgXIW44dWfTpcjruvaYWnWiPN4PKb+Ouuj+4IZYMxqmzFjhinNlBtDQlxufKrZcE/x3mmId76GBzVhWZFBV5iWEFev9kBz/fJVyYUj/qOueOHeuLxpSXzz7X8QaV9lxCWq6KF2TaVIxtpsdIp98sknaNu2bcC1phTimLpKIY6dTh966KFk15QpUwbVq1f3C3F0tFEsY8MGzpM0brvtNjOODrfIyOCcAi2OjR5YPy7QWlKOp9B41113mXpxjzzySNDnogEiIAIiIAIiIAIiEIxA/N7DOLYmFsfXbUfCwSPwnqDoFnequeKp/4EVHQlP3mjTiCFP5VKmFlxMhRKw/nX9B7uHXhcBERCB80lAQlxw+nTEBRPiaFyZOHGiadDgCzYrLF68OFg/jqWUcmNIiMuNTzUb7inR+R3x3v8CiIRtlQq6wrSEuDatx2HmjFX4aW5XNLm8kn+uryb/iQfafoReva/AwIEfm8YQFMjYGZXNC4YNG+Yf+/TTT2PEiBH4888/Ua9ePfN9utr4AfDZZ58ZRxqLQaYWKYU4tlFmc4Tx48ejQ4cO/suYOkphjqmtPkccX4yJiTFuvWnTpiW7BRsxcA3sBMP00pTBmnbsvppasK4da98dP34cq1ev9hezpLBH22/SYPpt06ZNTQvoDRs2oHx5pYAEPZgaIAIiIAIiIAIiEDIB78l4xO86gIQDR8wfpqAyrAgPIlhLrkhBRBW/QA64kIlqoAiIQHYhEK5C3LALu6XLEff0unfSdMRRiHv00UfRpEkT/6NlvXVmmbEEU61atc545GxCmNNDQlxOf4I5ZP2sExfnHQmvuwo26qZaL2TUe7/g8OETcBwXA/rNQv36ZdHqzlNC2a0t66BuvTJYuGATbrz+PURHR6BTl6aoUqUoVq7cifFjF6JwkSgsWtIXFcv2gGWdqqPWpUsXUwONAhmFp/nz5xu3WOfOnfH+++/7CfKNzrbJFM34YZAy2C6eFllGSiGOTjoKcbt370bXrl1NF1PmttOdVrhwYSNyJRXimjVrZuq39evXzzRZoLhGtZ+uvvvuu8+IgSxcyXsyzXTLli2mVh1ryPE3Boxdu3aZDjPshMr5WaOOzjaKbix2edlll/m3wCYQFOf4Acf7sWsqRUI6BekYZG07hQiIgAiIgAiIgAiIgAiIgAiIQHACEuKCM6IjLhQhLvhMp0dYlmWaDub0kBCX059gDlp/gvMd4r1fw0IR2FbRgCuvUa0/tm5J3ujAN3DM2PvQrn1j8+WK5Tsw8LXv8Mfvsdi54x8UKZIX11xXHn36XY5qVR5FhH1aUadINnjwYCNSsYYbhSgKbb169TIpor64+uqrMXfu3FSJsiMpxzACNWugq4zKPbuQJiQkGNFryJAhpkYcI6kQt2LFCjzxxBPmtwMUyJI65ijG0ZFHdx07yPBrprdSvKNLj443Bn9TQLcdBT8KgHS8Ubijm45dWpPGuHHjjPC2Zs0aI9Sxfl3Dhg1BZyDr4SlEQAREQAREQAREQAREQAREQARCIxCuQtw71bqnyxHXbf3QNB1xaf38ndqTSNlIMbQnlr1GSYjLXs8jV6/GdQ8jzjseie4yeHARLCvrWhC77nE4WA+P1QTRnvawrOhczVKbEwEREAEREAEREAEREAEREAEROD8EJMQF505HXDAhLvgsuXOEhLjc+Vyz7a4SnWWI934BF3tho4Y/fTQzC3bdRDj4C7ZVCVGedvBYp+vGZWZeXSsCIiACIiACIiACIiACIiACIiACKQlIiAt+JiTEpc5IQlzw86MRWUiAaZYJzkwkOj/DxTHYqAbL8mT4Dq6bAAdrYKEkIj03IdJunuG5dKEIiIAIiIAIiIAIiIAIiIAIiIAIBCMQrkLc0KrPoFqecsHwmNfXn9iG7hveTjM1NaSJcuEgCXG58KFm9y3RwZbgzECiswAu9sNGFVhWvnQv23UPwYutsFEGkZ5rEGFdm2oTiHRPrgtEQAREQAREQAREQAREQAREQAREIAABCXHBj4WEuNQZSYgLfn404iwQcF0vEt3/IdGZD8fdCAsFYaEULCsm6N1c9xgc7AJwErZ1ISLtq+GxLpUIF5ScBoiACIiACIiACIiACIiACIiACGSWQNgKcVWeQdU85UPCt+FELLpvlCMuECwJcSEdIQ06WwQcNxbx3u/huOvhYg+AiH9FOTrk8gCwADhwcQLAMbg4bL7HVFSPVRORnhtgW8XP1vI0rwiIgAiIgAiENYFTv/zaA9dlR/OEf/8bnBeWVQIWimaqvERYg9XmRUAEREAEcjQBCXHBH5+EuNQZSYgLfn404iwToDuOQpzXXQ6vuxaue9TUj6PjDXAB2ABiYCEfLKsgPFYteOx6sFFJLriz/Gw0vQiIgAiIQPgRYCdyr7sKic4KuNgJinEujptfjDEsRAFWPtgoaJzpp/6bXFH/TQ6/o6Idi4AIiEDYEghXIe7tys+myxH3zKa3VCMuwLtEQlzYfnRkz4277hE42AvX3Q0XRwF4T7vkrBKwURKWRaecQgREQAREQAREICsJsIZrorsQXudXOO5OU8cVyAsLef/9+1RzJRdx/wpzRwB4/nWpV0WkpwVsq2xWLklziYAIiIAIiEC2JCAhLvhjoSNOQlxgThLigp8fjRABERABERABERCBXE3AcXcjwfutccI52AebdVtN6mlEmvs+lbq6G8BR2FY1RNhXIMJqFvS6XA1TmxMBERABEcj1BMJViHurUo90OeKe3fymHHEB3g0S4nL9R4Q2KAIiIAIiIAIiIAKpE/C6m5HgnQyv+xcsFICFcumu/cayEg42wUIRRNhNEGnfBsuKEnYREAEREAERyJUEJMQFf6x0xEmIC8xJQlzw86MRIiACIiACIiACIpArCTjuNsR7P4PXXflvnbdCGd6n6zpwsAFAFCLt5oi0b5czLsM0daEIiIAIiEB2JhCuQtyQSj1RNSbErqknY9Fz8xA54gIcZAlx2fndrbWJgAiIgAiIgAiIwFki4LonEeedAK+75F8R7oJM38l1XThYZ5x1UZ5WJlVVIQIiIAIiIAK5jYCEuOBPdIOEuFQhSYgLfn40QgREQAREQAREQARyHYEEZxbivd/CQgxsq3SW7Y/d0L1YBY9VHdGeDrCtklk2tyYSAREQAREQgexAIGyFuIq9UCVER9xGCnFbBssRF+DASojLDu9irUEEREAEREAEREAEziEBx92BOO84OO5W2LgIlmVl6d1d9x84iEWk3QJRnnuydO7sPtlDDz2En3/+GZs3b87uS9X6REAEREAEMkhAQlxwcBLiUmckIS74+dEIERABERABERABEchVBE654abBRmlYVsGAezt6NA7vvD0HS/+IxR+/x2LXriN4sN2l+GD8/cnGd3z4v5j4nyWp8hkw4Hm89NJA/+uxsbF46aWXMGvWLBw6dAhVq1ZFly5d8NRTTyUTBP/66y/069fP/CZ9586dsG0bVapUAYWuxx57DNHR0dnymWRGiKtUqRK2bNmS6r7mzZuHpk2bJnv9t99+w6uvvgq+duzYMZQtWxY33ngj3nvvvWzJR4sSAREQgdxAIFyFuMEVnkuXI67X1jfkiAtw4CXE5YZPAe1BBERABERABERABEIk4LrHEecdCa+7GjbqpuqG27L5AGpeOAClShdEw4bl8M3M1QGFuEULN2PTxn1n3P3dEXPwx+878OuSUWjcqIt5fceOHWjUqBGOHj2KJ598EhUqVMDs2bPx5Zdf4tlnn8Wbb77pn+f77783X1922WUoV64cvF4v5s+fj08//RS33norpk+fHuKOz+2wzAhxU6dONWxShk94JL+oqNPdaKdMmYJ77rkHTZo0QevWrVGgQAFQ6Fy2bBk4l0IEREAERODsEJAQF5wrHXES4gJzkhAX/PxohAiIgAiIgAiIgAjkGgJedx3iEscBcGBbZVLdV1xcIvbtO4qyZQshMdGLAnl6BBTiAk1w/Hg8KpV7BRUq5sVvS4cgJuIRM4yuNzq1fvnll2TOrieeeALvv/8+Vq5ciVq1aqXJmgIe5/j7779Ro0aNVMfGx8eb15IKV+fiIWZGiAu0PjrdmjdvbtgNHz7cP4SiHFm1bdsWo0ePPhdb0z1EQAREQAT+JRCuQtwb5dLniHtumxxxgd40EuL0USICIiACIiACIiACYUQg0ZmHOO8k2CiRalpqShzpFeI+/e/veLj9RAx843J0e6YlYjzdYVl5UK9ePRw/fhzr169PdoslS5agcePGePnll9G/f/80nwZdcj179sSiRYuMW47x4YcfokOHDpg5c6ZxzX388cfGfce01vr162P//v0YMGCAcYnx+8WLF8edd95pUjoLFSrkvx8FwlGjRmHhwoUmHTZ//vy46qqrMHDgwDNEPzr0XnvtNYwdOxZ79+5F7dq1zXyTJk1KViPu0ksvxeHDh7F27doz9kVRkSLatm3bULJk4KYWHTt2NPdgCuoll1zin+OVV17B66+/jt27d6Nw4cLGSZcnTx54PJ4wOs3aqgiIgAicHwIS4oJzpyNOQlxgThLigp8fjRABERABERABERCBXEMg3jsV8c40eFAblhUR0r7SK8S1vHkU5v68Hms3dUTJkkURE9EFtlUeNWvWNA615cuXJ7vvqlWrUKdOHdx000349ttvk71G4Y5/WP9s8eLFoHsuMjLSiHkUnpIKcZyDrz3wwAMm5fbuu+826ZoU7Pbt24dOnTqZOnN001Fwo6OMopuv3hxdZytWrMDVV19taq1t3brVCGWu64JrLFGihH9tPmce67G1bNnSNGfgWNZ5O3LkiL9ZA+/z+OOPG4Hwiiuu8F9Px16ZMmVw+eWXp5pme+LECZQuXRrly5c360oaFC5PnjyJPn36GGFy06ZNZh9cC51znFshAiIgAiJwdgiEqxD3Oh1x0RVCgroxbit6yxEXkJWEuJCOkAaJgAiIgAiIgAiIQO4gEO/9DAnOt/BY9UPeUHqEuO3bD6F6lf648aZa+HLqbQBcREc8Co91oXGhUWijaESByRfvvvuuSb2sW7fuGSJd3759TdMGX1BUGzNmjHHX+cLniLvooouMCy4mJsb/GoW7iRMngj80sTGEL2bMmIHbbrvNpMR27tzZfJtiX758+ZJxoZON6+I6nn/+efMaG0nQAdeqVSt89dVX/jp7rFt3++23o2LFin4hjm447vXBBx806/bF5MmTjVDIv1nfLVCwHt7999+PIUOGoEePHsmG0MlH9xtFv27duhlBj6Li22+/bfa5dOlS5M2bN+RnrIEiIAIiIAKhE5AQF5yVhLjUGUmIC35+NEIEREAEREAEREAEcg2BeO8ksGvq2RLihgz+Ea+8OBOfTGqPO1pTbPMiOqKjEeJ++uknXH/99WC65ltvvWWaMMyZMwfdu3c3IhgFrJRpqxs3bgT/ML2U19NNN2jQIONa84VPiBs6dKgRpXxBJxvTUK+99lqMHDnyjGdI99rNN9+ML7744ozXmOoZFxdn3HC8vlq1akZ0Y7zxxhvo3bu36VSasospXXZ0stEh5ws69Jg2u2vXLr9ISMFuwYIFJlU2tTp2dAj++OOPJnW1VKlSydYYERFhGlgwlZcpvb5gCi7TVllHj048hQiIgAiIQNYTCFchblDZ3qgcoiNuU9xWPL/9dXVNDXD8JMRl/XtSM4qACIiACIiACIhAtiUQ7/0K8c50eFAHlhVaPbH0OOIa1Hsdu3cdwabYfoiM2g0gEtERneCxKhkmH330EZ555hkcOHDAfM30UtZ9o+OM6aB0cqUVFNuee+450xnU19jBJ8R9/fXXxuXmiz179qRae8035sorr8TcuXPNl6wLR4GNzraDBw8mW8Y111xjhEBGly5dTBoq012LFi2abBxdf9xDUiGO11133XWm4yubK3Bd3CuFsmHDhgXcLtfClFSmvlLESxlMuaVYyPtQwPQFv65cubLppvrZZ59l23OohYmACIhATiYgIS7405MQlzojCXHBz49GiIAIiIAIiIAIiECuIZDgzEW893PYKAXLKhDSvkIV4n5bshXNrxiKzl2a4p0Rd8PrrjWdWWM83WBZ+f33Yn00Otv4N+u60d1FYalNmzam2UFaweYEdIe98MILplkCwyfE/fDDD8Zx5ws60JgWescdd5jacoGCKZ6NGjWC4zimsQPdZ3ToMfWUzRps2zYuu2LFipkmDAymsjLNlC69IkWKJJuW9/rzzz+TCXF01TFdtHr16pg1axYoJlKM5A9yDRo0CLgupqP26tULn3/+ueGSMlhvb82aNcZ9lzQVl3XjKG62aNEC33//fUjPV4NEQAREQATSRyBchbiBZZ5PlyPuhR2D5IgLcLQkxKXv/abRIiACIiACIiACIpCjCXidvxDnnQDAhm0lT3dMbWOhCnHduk7G6FHz8L/53dDo0grwYhkirMsRE3GqBltqwW6mdJJNmDABDz30UJpjfY6vxx57zJ9umpoQx9RNOtaaNGliBLC0gg47CnGB1sDGBxTRfEJcelNTeV+mkLLWXWxsLG655RaT8sp7phYUKJm2Smecr5lE0rHt2rUzte/WrVtn0mZ9wdTeCy+80DSs4OsKERABERCBrCcgIS44UzriJMQF5iQhLvj50QgREAEREAEREAERyDUEXPcfnPS+B8fdCI9VO6R9hSLExccnokqFviheIj+WLu8N1z0CB9sR5bkdkfYtqd6HzQzYTZSdUVevXu3vhMr0zaRdSn0T0CVGtxjFt/bt25tvpybE8TW61z744ANTa4213pIGhTren662lStXmqYM48ePR4cOHfzDmEpLcfCqq67yC3Fs1sDGEHS/BWvW4JuIAhxr0t17770mRTVlPbuk62LDCbr0koqNKQGy6QUFvWeffdak9vqCTR1Yf+8///mPaRChEAEREAERyHoC4SrEvVb6hXQ54l7cOVCOuADHT0Jc1r8nNaMIiIAIiIAIiIAIZGsC8d5pSHBmwEZlWFbqnTVHvfcLDh8+AcdxMaDfLNSvXxat7jzVrfTWlnVQt14Z/z6nTlmO++6ZgAEDW6JHz+vgdTfAsoogxtMRtlXOjGOqKBsQUMBi/TO6vcaOHWvqxTGtlB1RfUGHHFM/2ZSBYw8dOoTvvvsOs2fPRrNmzUyTB6a0MtIS4jg3GyrQKUYX2SWXXGKaHPBrimisTffoo48iMTHRCHFMfe3atatJaf31119Bt17hwoXNGnyOON6TIhk7rrKGG+vS0anHrym2sZNp0hpxvj1xLNNFIyMjsX37dtNIIlDw/iNGjMCiRYuSMUk5loy4Pu6LXVM5/uOPPz6DT7Y+jFqcCIiACORAAhLigj80OuIkxAXmJCEu+PnRCBEQAREQAREQARHIVQS87iaTnuq6e2GjOizLCri/GtX6Y+uW5E0LfAPHjL0P7do39l/XpvU4fDNzFdZt6oPSpSPhYD0irKsR5Wnnn5/NBeguo8BFwYtONNYy69OnT7L0Sk7KRgMU2FhLbu/evSY9k3XR6Ch76qmnkqVrpiXEcS663phOOnnyZGzZssW47ipUqGBENNaO8zU72LBhg6kPx26oCQkJJqWV7jtfJ9akQhzFPHYopZDIpg1MJX311VdNjTuOCyTEcU9s1kAhcsqUKQGZ875MhWVNOjrv0gp2dWUHWYpvrG1XsmRJ06SBabD58uXLVWdWmxEBERCB7EQgXIW4V0u9mC5H3Eu7XpMjLsDBlRCXnd7NWosIiIAIiIAIiIAInAMCrE+W4ExBgvMjLBSBbRXLsrtybgerYFsVjQjn65aaZTfIwRNRfGvdurVxsbVq1SoH70RLFwEREIHwJiAhLvjzpyNOQlxgThLigp8fjRABERABERABERCBXEeAteLivOPhdZfBxoVppqiGunmKcC62wgUQ5bkFkXaLUC8Ni3F0/7EWHevF+dJqw2Lj2qQIiIAI5DIC4SrEDSj1IipFVQzpaW6O34KX5YgLyEpCXEhHSINEQAREQAREQAREIPcR8Dp/I9750tRz82RSjDslwsXCxUlEWE0Q5bkXlhWd+6Clc0fHjh3D9OnTsXjxYtOgYfDgwejZs2c6Z9FwERABERCB7ERAQlzwpyEhLnVGEuKCnx+NEAEREAEREAEREIFcS8DrrEC8Mx2Ouw4WSsFCiVRrxqUGwXXj4GATgEhEWJcgynM3LCt/rmWWno2xVlzlypVRoEABU99u5MiRplmDQgREQAREIOcSCFchrn/J9DniXtmtGnGBTrmEuJz73tfKRUAEREAEREAERCBLCHjddUjwfgev+zeAeNhgN9QLggpyrpsAF3vNHwvlEGFfgkj7hixJc82SjWkSERABERABETgLBCTEBYdKR5yEuMCcJMQFPz8aIQIiIAIiIAIiIAK5noDrHkOC8xO87lI47m4AJ2ChEIB8sJAHgOdfBvFwcQwujgA4DgvFYFvlEWlfB9u6KKh4l+tBaoMiIAIiIAK5nkC4CnH9ir+Urhpxffa+qq6pAd4NEuJy/UeENigCIiACIiACIiACoROgCOd1l4Mpq4570IhuFNwALwDLpJ9ayA/LygcbFeGx68Nj1VQ9uNARa6QIiIAIiEAOJyAhLvgDpCNOQlxgThLigp8fjRABERABERABERCBsCPgunS+7YXj7oGLAwASANgA8sA2deRKGMecZVGcU4iACIiACIhA+BAIVyGub7GX0+WI67tvgBxxAd4WEuLC57NCOxUBERABERABERABERABERABERABEcgkAQlxwQHSESchLjAnCXHBz49GiIAIiIAIiIAIiIAIiIAIiIAIiIAIiIAhEK5CXJ9ir6BiZMWQTsGWhC3ot6+/HHEBaEmIC+kIaZAIiIAIiIAIiIAIiIAIiIAIiIAIiIAISIgL5QxIiEudkoS4UE6QxoiACIiACIiACIiACIiACIiACIiACIhAGDviXimaPkdc//1yxAV6w0iI08eICIiACIiACIiACIiACIiACIiACIiACIRIIFxTUyXEhXhAggyTEJc1HDWLCIiACIiACIiACIiACIiACIiACIhAGBAIVyHu5SJ90lUjbsCBfqoRF+D9ICEuDD4ktEUREAEREAEREAEREAEREAEREAEREIGsISAhLjhH1oiTEBeYk4S44OdHI0RABERABERABERABERABERABERABETAEAhXIe7FwnTEVQrpFGxJ2IzXDsoRFwiWhLiQjpAGicBpAq7rAjgKFwfhIhGABQt5YaEoLCtCqERABERABERABERABERABERABHIxAQlxwR+uhLjUGUmIC35+NEIE4LoOHGyG11kNx90GF/vguscBOEaIgxUFGwVgWWXgsarCY9WGZeUXOREQAREQAREQAREQAREQAREQgVxGIGyFuEJ9UCFER9xWOuIOyREX6OhLiMtlHwjaTtYSoPvNcf9CgrMAjrsZLnYbF9wpB1weAB5zQxdxAI4BSABQGLZVChF2PURYzSXIZe0j0WwiIAIiIAIiIAIiIAIiIAIicF4JSIgLjl9CXOqMJMQFPz8aEaYEXPcIEpyfkOj+DteNBVAQNkrCsvKmSsR1vXCxHy72AIiBx6qBSPt62FZNWJYVpiS1bREQAREQAREQAREQAREQARHIPQTCVYh7oVBfVIgIrUbc1sTNGHior7qmBjj2EuJyz2eBdpKFBBx3H+K9X8DrrgTghY3KsKzokO9AJ52LvXCxE5ZVEZH2tf+64yTGhQxRA0VABERABERABERABERABEQgGxKQEBf8oUiIS52RhLjg50cjwoyA4x5AvPdTeN2lpxowoFSG3WyuGwcHa2GhNCI9N0iMC7OzpO2KgAiIgAiIgAiIgAiIgAjkPgLhKsT1vqBfuhxxrx/uI0dcgOMvIS73fSZoR5kg4LoJiPd+gkR3PiwUh22VyMRspy7lnA7+hmWVR7R9Lzx2rUzPqQlEQAREQAREQAREQAREQAREQATODwEJccG50xEnIS4wJwlxwc+PRoQRgQTnFyR4p51KR7UqZtnOTznj/obHaohoTwc1cMgysppIBERABERABERABERABERABM4tgXAV4p4rkD5H3BtH5IgLdDIlxJ3b96vulo0JOO5exHnHwnHXw8ZFsKxTHVGzKhx3D1z8gyjPrYi0b86qaVOd58MPP0SHDh2wadMmVKoUWkHNs74o3UAEREAEREAEREAEREAEREAEcjgBCXHBHyAdcRLiAnOSEBf8/GhEmBBIcGYj3vsVLBSDbRUOuOujR+PwzttzsPSPWPzxeyx27TqCB9tdig/G33/G+NjYgxj06veYM2ctdu08ghIl86NZ86J47vk7ULdWn2SuOK/XiyFDhmDs2LGIjY1F+fLl8eijj6Jnz57weE4Lgr/99hsmTpyIn376yQhs+fLlQ+3atfH888/j+uuvT7aGzAhxjuOgf//+qF+/Pu64445MnQDu56WXXsKsWbNw6NAhVK1aFV26dMFTTz0VsPbezp07zb1nzpyJ3bt3o2jRomjcuDFGjx6NkiVLZmotulgEREAEREAEREAEREAEREAEMksgbIW4/P1RPsSuqbEU4o6+ohpxAQ6bhLjMvgN1fa4gwNTROO9IJLrL4UG9VJszbNl8ADUvHIBSpQuiYcNy+Gbm6oBC3P79x9Co/huIj/eiY+emqFSpCDZs2IcPRs+DZQFLl32BShVu87N7/PHHMWrUKONgu+KKK7BgwQJMmDAB/P57773nH3f33Xdj7ty5uOuuu9CwYUMcPXrUjFu5ciVGjhyJxx57zD82M0JcYmIiIiMj0b59e3CejBRsJikAACAASURBVMaOHTvQqFEjs84nn3wSFSpUwOzZs/Hll1/i2WefxZtvvpls6nXr1uHKK69Enjx58NBDD6FcuXLYu3cvFi5caITKCy+8MKNL0XUiIAIiIAIiIAIiIAIiIAIikCUEJMQFxyghLnVGEuKCnx+NCAMCXncd4hLH/VsbrmyqO46LS8S+fUdRtmwhJCZ6USBPj4BC3OhR89Ct62R8OeUR3Nqyjn++KZOX4v62H2PIWw+ixzP/Md9fsWIFLr74YuMQGzZsmH/s008/jREjRmDZsmWoW7eu+f78+fONsBUdHe0fd+LECeNco2C1Z88eREREmNeygxDHPVFI/OWXX9C0aVP/mp944gm8//77RkCsVetU8wrXdXHZZZeB7kCKjfnz5w+Dk6ctioAIiIAIiIAIiIAIiIAI5DQC4SrE9cw/AOU9oZU9ivVuxpCjL8sRF+BwS4jLae94rfesEEh05iPOOwk2isGyLgjpHmkJcUMG/4hXXpyJeQu745JGFfzzLVq4GddcOQzvjrwLj3eZBMuKwIsvvoiBAwdi48aNqFy5sn8sU0+rVKmCF154Aa+99lqaa6K77O2338bWrVtNWmtqQhwFMTrv6DBjCijFrquuusrcv0aNGua6zZs3J1uH78Yc9/PPP5svKZYNHz7cuPHWrl1rHGxXX321mccnrHFcvXr1cPz4caxfvz7Z+pcsWWLSTV9++WWThspguu11112H6dOno2XLljh58iRs20ZUVFRIz0ODREAEREAEREAEREAEREAEROBcEJAQF5yyhLjUGUmIC35+NCIMCMR7pyLemQYPahtxLJRIS4j7bclWNL9iKBpfVhGD3rgdFSsVwcYN+/Bcj2kmTfN/izqjROHusK2SuPHGG43rbdeuXWfcljXRGjRoYOqrpRX33XefSfdkDTbWjWMEcsTRoUYHHkWzsmXLGuGOtdfoRlu1ahVKlCiBY8eOYfLkySYttXnz5ujUqZOZj2tp0aKF+f9t2rTB1KlT0a5dOyOo7d+/36TG8lqKbL4U0po1axohbfny5cmWz3vVqVMHN910E7799lvzWq9evUz6KcU+io9Mz7Usy7jkKDJefvnloTwWjREBERABERABERABERABERCBs0ogXIW4HvnS54h785gccYEOooS4s/r21OQ5hUCc979IcL5HhFU/5CWnJcRxknEfLECfl78B68X5olnzqvjv57egaNF8iI7oBI9V2aSdUqz6/fffz7g368AlJCQY8Sy1+Ouvv0xqKl1kFNB8EUiIo1DmE+p84+ho4xr69u1rmj4w0qoR98UXX+Cee+4B/2bNOl9s374dF110EW655RZ8+umn5tt33nmnEdro7itdurR/7LvvvmtScXlfn0jHphDTpk1DsWLFjABIcZE15uiYo6tu8eLF/hTdkB+SBoqACIiACIiACIiACIiACIhAFhOQEBccKB1xEuICc5IQF/z8aEQYEIjzTkSC82OWCnHTpi7H2DELcH2LmqharRhWrdyJoW/9hItqF8W0mfegyAVPwmNVMV1E6TajAyxlsHED676lTO30jTt8+LBxijHNlK46NkNIS4hLOj+deXFxccYNd+2116JatWr46quvggpxrVu3xqJFi85wufHCBx54APyPEuvVMZhuym6ul156Kd566y3TfGHOnDno3r27cc9VrFjRvzeOYyMHpqf++OOP/qUynZYNHOjC+/zzz8PgNGqLIiACIiACIiACIiACIiAC2ZlAuApxz+SlI+50OaW0nlGsdxPePi5HXCBGEuKy87tbaztnBOK9nyHB+RY2Lk61Y2rKxaTliJs6ZTna3f8RFi5+FnXqlvFf+uMPf+O2W0ZjwMBr8ELvD2FbFTLsiGOTBqa1MhWUqaus4ZY0AjniKNj17t3b1GE7ePBgsvHXXHONEc4YaTni6HqjCy+tYA051ndjfPTRR3jmmWdw4MAB8zXrybFbKh14TI9dunSp+f5tt92GGTNmmJRapsUmjUqVKoH73b179zk7E7qRCIiACIiACIiACIiACIiACAQiICEu+LmQEJc6Iwlxwc+PRoQBAaalxnsnw0YlWFaekHaclhDX4tp3TXfVpct7nzFXiSK90LR5ZXwz4zdYVoEM1YiLj4/H7bffboQzutiYlpoyUgpxjuOYFNZt27YZR1rt2rVNswYKZt26dTMpob5mDGkJcaz7xvuPGTMmVU50tbG+my84nimo/Ju14djZtUCBAsblNmnSJDOsS5cupl4dU1lZOy5pNGnSxDjteL1CBERABERABERABERABERABM4ngbAV4vIMQLkQHXHb6Ig7IUdcoHMqIe58vnt172xDINH5E3Hej2EhL2yrWEjrSkuIq1d7oJlj+aoXks3FNNDihXvhiqbV8d2slUasYmOCQYMGhdw1lSIZa7PR1fbJJ5+gbdu2AdebUohj6iqFOHY6feihh5JdU6ZMGVSvXj1ZV1SKZXSmcZ6kQecaBTs63CIjI0NilXIQGz2wflzStYwbNw6PPvooPvjgA/N30mBKK4MiokIEREAEREAEREAEREAEREAEzicBCXHB6UuIS52RhLjg50cjwoCA4+7GSe8ouO5eeKwLQ9pxWkJcm9bjMHPGKvw0tyuaXF7JP99XXy7GA/d9it7P34NBAz8z36dAxs6obF4wbNgw/9inn34aI0aMwJ9//ol69eqZ79PVdv/99+Ozzz4zjrSOHTumutaUQtzKlStNGuz48ePRoUMH/3VMHaUwx9RWnyOOL8bExBi3HhsoJA02YuAa+vTpY9JLUwZr2rH7amrBunasfccGDKtXrzapqox9+/aZmnFc4/z58+HxeMz3ma5K8e+RRx7B2LFjQ3o253IQxVUggU8HgAeWlTFx8lyuWfcSAREQAREQAREQAREQARHIOIFwFeK6x7yaLkfc0JMvmaaEbEKoOE1AQpxOgwgApmFBvPe/SHR/hI1asKyoVLmMeu8XHD58Ao7jYkC/Wahfvyxa3XlKKLu1ZR3UrVcGCxdswo3Xv4fo6Ah06tIUVaoUxcqVOzF+7AIULpIHv/8xG2VLX+a/hy8tkwJZ06ZNjRBFt1jnzp3x/vvv+8ex1trQoUONaJbSNcZBLVq0MI0fGCmFODrpKHKxzlrXrl1NF9Nff/0VdKcVLlwY5cuXTybENWvWzNRv69evn2myQHGNTR3Iih1NKQbecMMN5p5MM92yZYupVccachMnTjRr2LVrl0kzZUdUzs8adRTT6Kb74YcfcNllpxlwPIVIpsmyayo7s7IT6/Dhw02nV36Ac47zHdy/i93wuuvgurvhuDvh4ghPEQAbForAtkrDtkrBY9WEZRU830vW/UVABERABERABERABERABLKQgIS44DDpiJMQF5iThLjg50cjwoSA11kBdk8F4mFbFVPddY1q/bF1S/JGB77BY8beh3btG5svVyzfgYGvfYc/fo/Fzh3/GAHu2utKoG//TqhepScs61QzAwZFssGDBxuRiumXFL4otPXq1cvUU/PF1Vdfjblz56a6NnYk5RhGoGYNGzZsMPXh5s2bh4SEBLD22pAhQ4z4xUjqiFuxYgWeeOIJI4DRvZbUMUcxio48uutWrVplxDmmt1K8o0uPjjcGO7PSbUfBjwJgkSJFjHBHNx27tAYKinhvv/22ccvlzZvXjGfqbpUqVc7rSeQeHXcNEt0//hXh2Bn2GADWwov+928HLuL+FeQKwLZKwmPVRoR9qRHnFCIgAiIgAiIgAiIgAiIgAjmfQLgKcU/TEWeH1jV1m7MJw+SIC3jYJcTl/M8A7SCLCLhuAuK9E5Hozvu3aUOBLJr5lOPOwRpYVglE223hsS/Ksrk10dkn4LpHkODMRqLzO1xsZ+IubDD9tgAs61QKbdLgWXJxCC72GIHOtiojwm6KCOtypa6e/celO4iACIiACIiACIiACIjAWSUgIS44XglxqTOSEBf8/GhEGBFw3O2I834Ex10PGxfBsk670TKDwXF3mfTFSPsGRNq3J+sompl5de3ZJ+C42xDv/Qped42pA3eqsy4dcKEFRTwHm2GhMDxWPUR57jTdchUiIAIiIAIiIAIiIAIiIAI5k0C4CnFdo9PniBsepxpxgU64hLic+b7Xqs8igURnPuK93xg3k40amRbjHHePmctjXYJoz4MSYc7is8vqqR03FvHez+F1V8FCKVgoniER1XW9cBALIA4eqxGiPffCsvJn9XI1nwiIgAiIgAiIgAiIgAiIwDkgICEuOGQ64iTEBeYkIS74+dGIMCPANNJE9yckeOfAxQ7YqJIh0YTii4ttcHEUHqs+ojz3wLaKhxnNnLtdxz2EeO+H8LrLYaMCLKtQpjdDd52LY4iwmiHK0zZgWmumb6IJREAEREAEREAEREAEREAEziqBcBXinop6DWVDrBG33dmEEfEvqmtqgJMoIe6svj01eU4lQDHO6y5AgjMXjrsBFgrCQuk0u6n69nqqq+ZhuIj9Nx2xNiI9rWBbRXIqjrBbN59hgvOlqQtnoRhsq1iWMDhVK3ATLMQgytMaEXaTLJlXk4iACIiACIiACIiACIiACJw7AhLigrOWEJc6Iwlxwc+PRoQxAdaMi/d+Z7plniq8n9eIaxbymYL9lsWOmWzGkGg6aNL95mAfLOSFbZVDhN0MEVYTFejPYWco0VmOeO9ncHEQHqt6lq6eZ8WL1fBYNRDteSTLRL4sXeRZmowddNmZd/PmzWfpDppWBERABERABERABERABM4+AQlxwRlLiJMQF/yUaIQIpEKAHTAd929QnPFiHVz3HyO6sd4XvW/sisk/FvIbgc62SsFj1zWF+ZWKmvOOFV1rcd7x8Lq/wEbtgCLq0aNxeOftOVj6Ryz++D0Wu3YdwYPtLsUH4+9PtuGOD/8XE/+zJFUI/QY8hFdemuB/PTY2Fi+99BJmzZqFQ4cOoWrVqujSpQueeuqpZLXp/vrrL/Tr18/YvHfu3AnbtlGlShVQ6HrssccQHR16M4lz+YQyI8RVqlQJW7ZsSXW58+bNQ9OmTf2vL1q0CAMGDAD/kfTPP/+gfPnyuPvuu9GjRw8UKpT5NONzyU33EgEREAEREAEREAERyF4EwlWIezIyfamp7yYoNTXQyZUjLnu9n7WabEzgVMrpHpzqgLobrnsQLhIA2P864FjIvyRslE9XV81svOWwXJrX3Yy4xHEmvdhjVQnIYMvmA6h54QCUKl0QDRuWwzczVwcU4hYt3IxNG/edMce7I/5nBLwFv3ZHk0sHwrJisGPHDjRq1AhHjx7Fk08+iQoVKmD27Nn48ssv8eyzz+LNN9/0z/P999+bry+77DKUK1cOXq8X8+fPx6effopbb70V06dPz5bPLjNC3NSpUw2blOETHskvKirKvDx37lxcd911qF69Oh5++GEULFgQv/76KyZMmGAY8//73KzZEpQWJQIiIAIiIAIiIAIikK0JSIgL/njoiJMQF5iThLjg50cjREAEwohAgjML8d6p/wqqTEE+M+LiErFv31GULVsIiYleFMjTI6AQF+ja48fjUancK6hQsSAW/9Ee0Z6H4LFrG9fbe++9h19++SWZs+uJJ57A+++/j5UrV6JWrVppPgkKeJzj77//Ro0aNVIdGx8fb17zCVfn6vFmRogLtEa64Jo3b27YDR8+3D/knnvuAYU7ugWLFi3q/z7Hvfvuu1i6dCnq169/rrat+4iACIiACIiACIiACOQyAuEqxD0RkT5H3HuJcsQFOvoS4nLZB4K2IwIikDkCcYkfIcH9CR7UD8k1lV4h7tP//o6H20/EoDduwlPdKyHKczci7etQr149HD9+HOvXr0+2gSVLlqBx48Z4+eWX0b9//zQ3R5dcz549wbRMuuUYH374ITp06ICZM2ca19zHH39s3HdMa6UYtX//fpPCSeGK3y9evDjuvPNOvPrqq8lSOCkQjho1CgsXLjQCV/78+XHVVVdh4MCBZ4h+dOi99tprGDt2LPbu3YvatWub+SZNmpSsRtyll16Kw4cPY+3atWfsi6Li6NGjsW3bNpQsWTLgvjt27Gju8dtvv+GSSy7xj7npppuwYMECk97LtF1fDBo0CC+88ALWrFlj3HIKERABERABERABERABEcgIAQlxwanRESchLjAnCXHBz49GiIAIhAkB143DSe9QOO4meKy03Wc+JOkV4lrePApzf16PdZteQfGSmxBp34QoT1vUrFnTONSWL1+ejPaqVatQp04dUFz69ttvk71G4Y5/jh07hsWLF4PuucjISCPm5cmTJ5kQxzn42gMPPGAERtZLK1CggBHs9u3bh06dOpk6c3TTUXCj+46im6/eHN1kK1aswNVXX42yZcti69atRihjyjbXWKJECf/afM68G2+8ES1btjTNGTiWdd6OHDnib9bA+zz++ONGILziiiv819OxV6ZMGVx++eWpptmeOHECpUuXNrXfuK6k4RMkKUA+88wzuOCCC4w4yTTWFi1amBRehQiIgAiIgAiIgAiIgAhklEC4CnGPRwxEGatySNh2uJswMvEFYwBo2LBhSNeEyyAJceHypLVPERCBoAQcdz9OekfAdQ/BY1UKOp4D0iPEbd9+CNWr9MeNN9XCV9M6wusug8dqjJiIx4wLjULbpk2bjMDkC6ZSUgSrW7fuGSJd3759TdMGX1BUGzNmjHHX+cLniLvooovMfwRjYmL8r1G4mzhxomlowMYQvpgxYwZuu+02kxLbuXNn822KffnyJU/VpZON6+I6nn/+eTOOjSTogGvVqhW++uorv6uQdetuv/12VKxY0S/E0Q3HvT744INm3b6YPHmyEQr5d+vWrQM+B4pp999/P4YMGWIaMCSNhIQEdO/eHR988AF8abh8nRzfeeedZC65kB6yBomACIiACIiACIiACIhAEgIS4oIfBwlxqTOSEBf8/GiECIhAmBBw3L1GiIN7BLZVMaRdp0eIGzL4R7zy4kx8Mqk9Wt9VH153BTxWA8REPImffvoJ119/PZiu+dZbb5kmDHPmzDGCEkUwClgp01Y3btwI/mF6Ka+nm47pl3St+cInxA0dOhTdunXzf59ONqahXnvttRg5cuQZe6V77eabb8YXX3xxxmtsmhAXF2fccLy+WrVqRnRjvPHGG+jduzdSdjHla3TZ0clGh5wv6NBj2uyuXbv8IiEFO6aWJm3AkHIRdAj++OOPJnW1VKlSyV52HAeDBw82a7jrrruMI45j6crr2rUryEIhAiIgAiIgAiIgAiIgAhklEK5C3GPpdMSNkiMu4BGTEJfRd56uEwERyHUETjviDsITouU6PUJcg3qvY/euI9gU2w/R0RHJHHGE+dFHH5lUygMHDhi2TC9lmiUdZ0wHZZOBtIIC03PPPYdly5b5Gzv4hLivv/7auNx8sWfPnlRrr/nGXHnllaYDKYN14Siw0dl28ODBZMu45pprjBDI6NKlixG8mO6atFECX6Prj3tIKsTxOnY4pcOtbdu24Lq4V6asDhs2LOB2uRampDL1lSJeynj66acxbdo0rF69Gnnz5vW/zPpwFCrZNZV19xQiIAIiIAIiIAIiIAIikBECEuKCU6MjTkJcYE4S4oKfH40QAREIEwJns0bcb0u2ovkVQ9G5S1O8M+JuuK4DB8v9NeJ8iJlKSWcb/2Zdt4iICFPLrU2bNqbZQVqxe/du4w6j4MRmCQyfEPfDDz8Yx50v6EBjWugdd9xhassFikKFCqFRo0agw4yNHeg+o0OPqads1sBGCHTZFStWzDRhYDCVlWmmdOkVKVIk2bS8159//plMiKOrjmmxbJ4wa9Ys41ajGMl/3DRo0CDgupiO2qtXL3z++eeGS9IgN67t0UcfPcPpx9Rc7idQOmuYHHFtUwREQAREQAREQAREIAsIhKsQ19mTvhpxo72qERfouEmIy4I3oaYQARHIPQTOVtfUbl0nY/Soefjf/G64tHFFuO4xONiGKE8bRNrXpgqQ3UzpJJswYQIeeuihNEHTaVa5cmXTlMCXbpqaEMfOpnSsNWnSxAhgaQUddhTiAq2BTRUoovmEuPSmpvK+7AbLWnexsbG45ZZbTMor75laUKBk2iqdcb5mEr6x/B7XxOYTdOYlDTrhuF+64ujuU4iACIiACIiACIiACIhARghIiAtOjY44CXGBOUmIC35+NEIERCCMCCQ43yHeOwU2ysOykjcnCIQhlNTU+PhEVKnQF8VL5MfS5acEIMfdCcBFtKc9PHbtgITZzIDdRNkZlWmWvk6oTN9M2qXUdzFdYnR7UXxr3769+XZqQhxfo3uNDQ1YP4213pIGhTren662lStXmqYM48ePBzuR+oKptBQHr7rqKr8Qx2YNbAxB91uwZg2+eSjAsSbdvffea1JUU9azS7oun6stqdiYct2sfUeBjmuhq88Xvm6uKd2BYXS8tVUREAEREAEREAEREIEsIBCuQlwnz6B0dU0d431eXVMDnDcJcVnwJtQUIiACuYeA192MuMRxcHEYHqtKqhsb9d4vOHz4BBzHxYB+s1C/flm0uvNUt9JbW9ZB3Xpl/NdOnbIc990zAQMGtkSPntcZx5cXyxFh1UW053FYVoxpVsAGBBSwWP+Mzq6xY8eaenEUjtgR1Rd0yDH1k00ZOPbQoUP47rvvMHv2bDRr1sw0eWBKKyMtIY5zN23a1DSBaNeuHS655BJQgOPXFNFYm44pnomJiUaIY+ormx0wpZXuMrr1ChcubNbgc8TxnhTJ2HGVNdxYl45OPX5Nse3IkSPJUlN9e+LY77//HpGRkdi+fbtpJBEoeP8RI0Zg0aJFyZgkHcu6ej179jTuQDrjChYsaMTGKVOmGGasS2dZVu45tNqJCIiACIiACIiACIjAOSUgIS44bjriJMQF5iQhLvj50QgREIEwIkCRLM47AV73F9ioBcuKCrj7GtX6Y+uW5E0LfAPHjL0P7dqfbgbQpvU4fDNzFdZt6oMyZS6A4x6Ei32I8tyJSPtU3TZ2IqW7jAIXBS860Vq0aIE+ffqYrqRJ47PPPjMCG2vJ7d2717i/atasaRxlTz31VLJ0zbSEOM5J1xvTSSdPnowtW7YY112FChWMiMbacezWytiwYYOpD8dOpAkJCSbFk+47XyfWpEIcxbwBAwYYIZFNG5hK+uqrr5oadxyXtFmDb1/cE5s1UIikYBYoeF+mnbImHd1uaQWbNdBZx3FsLsE93XPPPXjppZeSNXAIo6OtrYqACIiACIiACIiACGQRgXAV4jrag1A6xKZ2O91N+MCRIy7QkZMQl0VvRE0jAiKQewh4nRWI806Ci4OwcWGWuqdcNxFerILHqolozyOwrWK5B1wmdkLxrXXr1sZl16pVq0zMpEtFQAREQAREQAREQARE4OwSkBAXnK+EuNQZSYgLfn40QgREIMwI0BWX4ExGgjMbFopmmVjGeR1shIW8iPK0RoR9Ot00zBCfsV26/1iLjvXifGm14c5E+xcBERABERABERABEcieBMJViHs0nY64sXLEBTzAEuKy5/taqxIBETjPBFz3MOK8H8LrLoONCrCs00X/M7I0inAutsHFCUTYzRBl3wvL8mRkqlxzzbFjxzB9+nQsXrzYpJEOHjzY1HZTiIAIiIAIiIAIiIAIiEB2JiAhLvjToSNOQlxgThLigp8fjRABEQhTAo67DfHez+B1V8FCKVgonqE0Vdf1wsFWAAnwWI0Q7aEIF7wja27HzlpxbKhQoEABU99u5MiRplmDQgREQAREQAREQAREQASyM4FwFeIettJXI268qxpxgc6xhLjs/O7W2kRABM47AcfdjnjvZHjdNQC8sFEZlhUd8rpc9x842GxSXD1WPdOgwbLyh3y9BoqACIiACIiACIiACIiACGQvAhLigj8POuIkxAXmJCEu+PnRCBEQgTAn4LpHkOD8hET3d7juNgAxsFACFvLDsiLOoOO68XBxGC52A/DAtiqZdNQI6/KA48Mcr7YvAiIgAiIgAiIgAiIgAjmKQDgLcaVC7Jq6S0JcqmdaQlyOertrsSIgAueLgGm04K6F1/3TuOMcdy+AY/8uJwqAbRxzLuJhgbXfCsC2SsFj1UaE3cj8f4UIiIAIiIAIiIAIiIAIiEDOJyAhLvgzlBCXOiMJccHPj0aIgAiIQDICjrsbjrsOjrsHjrsDLo4AcI0YZ6GYEd1sqyQ8Vk1YVgHREwEREAEREAEREAEREAERyEUEwlWIewiDkB5H3IdQjbhAx15CXC76MNBWREAEzj0BOuXohDv1JyLsO6Ge+yegO4qACIiACIiACIiACIjAuSUgIS44bzriJMQF5iQhLvj50QgREAEREAEREAEREAEREAEREAEREAERMATCVYhrn05H3EdyxAV8x0iI0weJCIiACIiACIiACIiACIiACIiACIiACIRIQEJccFB0xEmIC8xJQlzw86MRIiACIiACIiACIiACIiACIiACIiACIvD/7N0HdFTV+jbw55yZJIROgNAh9F5FOkoHERQRuIDyF76LiFQBRUC5KAqoiIhIFVG8eEXpAooi7VKCAlIDXqSHEnpLCJlyzrfejTOSMMlMGiSZZ6/lQpJ92u/sifjw7r2VgL8Gcf+HSSjk466pF8wT+IoVcR4/MQzi+IOEAhSgAAUoQAEKUIACFKAABShAAQr4KMAgzjsUg7jEjRjEeR8/7EEBClCAAhSgAAUoQAEKUIACFKAABZSAvwZxvZJZEfdvVsR5/MQwiOMPEgpQgAIUoAAFKEABClCAAhSgAAUo4KMAgzjvUFIRxyDOsxODOO/jhz0oQAEKUIACFKAABShAAQpQgAIUoIAS8Ncg7rlkVsR9zYo4j58YBnH8QUIBClCAAhSgAAUoQAEKUIACFKAABXwUYBDnHUoq4hjEeXZiEOd9/LAHBShAAQpQgAIUoAAFKEABClCAAhRQAv4axPWUijiU9mkUXMAJOs0UvAAAIABJREFU/IcVcR6tGMT5NITYiQIUoAAFKEABClCAAhSgAAUoQAEKMIjzZQwwiEtciUGcLyOIfShAAQpQgAIUoAAFKEABClCAAhSggB9XxPXAJIT6WBF3ESfwDSviPH5eGMTxxwgFKEABClCAAhSgAAUoQAEKUIACFPBRwF+npjKI83GAeOnGIC5tHHkWClCAAhSgAAUoQAEKUIACFKAABfxAwF+DuO7JrIhbxIo4j58GBnF+8EOCj0gBClAgowiYhgHHzduwX70FZ8wdwDAAXYclRzYEhOSCNXd2aLqeUW6X90EBClCAAhSgAAUoQIH7BBjEeR8UMjWVQZxnJwZx3scPe1CAAhSgQCoFJHiLOXIGt4+dg+NGDJyxcTBtDpiGCU3XoAVaYQkOgjVPDmQvWxQ5KhRXwRwbBShAAQpQgAIUoAAFMpqAvwZx3ZJZEfcdK+I8Dl0GcRntE837oQAFKJCFBBzRsbix4zBijp6F/fJNGHdsqvpNDw6CHhigQjgJ4wybHUZsnKqS04MDEZA/N3KUL4489SvBmjM4C4nwUShAAQpQgAIUoAAFMrsAgzjvb1Aq4hjEeXZiEOd9/LAHBShAAQqkQCDmz7O4seMQYk9eUGFbYME8sOQMhqZpiZ7NNE04o2Nhu3RDhXTBYYWQp0EV5ChfLAV3wEMoQAEKUIACFKAABSiQ9gL+GsR1xSQU9HHX1Es4gcWsiPM4+BjEpf1nkmekAAUo4NcCEqbd2nMM13ccQty5KwgMzQdr3hxJBnAJweQcjusxsF28hqCi+ZG3QRXkql02Wefw65fAh6cABShAAQpQgAIUSDcBBnHeaRnEJW7EIM77+GEPClCAAhRIhsCtfcdxdcsBFaIFhxWGHmBNxtHxuxp2B+6cjEJAaD6ENK2OXDXLpPhcPJACFKAABShAAQpQgAJpIeCvQVyXZFbELWFFnMfhxiAuLT6FPAcFKEABCiiBuPNXcfH77bgTeQnBZYqkKoRzkUoYF3v8PLKVKIjQpxshqHAItSlAAQpQgAIUoAAFKPDQBBjEeaeXijgGcZ6dGMR5Hz/sQQEKUIACPggYNgcurQrHzb3HVGgmu6CmVZNdViXcy12rLAp2bAg9MOVVdml1TzwPBShAAQpQgAIUoIB/CvhrENc5mRVxy1gR5/EDwiDOP39u8KkpQAEKpLnArX3HcPnn3YCmIahQvjQ/f1zUVXXOAm0eQa6aZdP8/Bn5hL1798amTZtw8uTJjHybvDcKUIACFKAABSjgFwIM4ry/ZqmIYxDn2YlBnPfxwx4UoAAFKOBFwHQaiFryX0TvP47sFYpD03WPR8TcicXsHxZj/8k/sf/EEVy8cRVdm7TGx/1Gxuv/ytwPsHjrukSv+s74d/Dm2Dfd34+MjMSbb76JtWvX4vr16yhbtiz69++PwYMHx9vg4fDhw3j77bexe/dunD9/Hrquo0yZMpCg6+WXX0ZQUNpV8aXloElNEBcWFoZTp04lejtbt25F48aN1fe///57zJ49GwcOHMClS5eQO3duVKlSBa+88go6deqUlo/Ec1GAAhSgAAUoQIFMK+C/QdxEFPBx19TLKogbo/7cXadOnUz7rtPjxhnEpYcqz0kBClDAzwRiT17AhZXbYMbZEVQkf6JPH3kpCg1G9EKhvCGoHlYBv+zd4TGI2/XnIZy6eO6+83y2ZjEOnDmObat+RqMOrdX3z507h7p16yI6OhqDBg1CyZIlsX79eixZsgQjRozAhx9+6D7Pzz//rH5fv359FC9eHE6nE9u2bcM333yDJ598EqtWrcqQby41QdyKFSuUTcLmCh7FLzAwUH17woQJ2Lt3L2rXro1ChQrh5s2bWLp0qTISN/FkowAFKEABClCAAv4uwCDO+whgEJe4EYM47+OHPShAAQpQwIvA9fBDuLxut9pIIam14eLsNly9dRNFQgrA4XSiVJ92HoM4T5eLjbuDWoO7oVieAtix4ifkbVBZdZOqtxkzZmDLli3uyi75+sCBA1V118GDB1G58t2+iTUJ8OQcf/zxBypWrJhoP5vNpr7nCq4e1MBITRDn6R6lCq5p06bK7pNPPknyMSSsfOSRR3DhwgVVRchGAQpQgAIUoAAF/F3AX4O4TkheRdwKVsR5/KgwiPP3nyB8fgpQgAJpIHBpza+4vj0C2SuWiDcVNKlTJzeIW7Z9PQbPfg+vt+yGEcOGo+CT9dXpa9Sogdu3b+Po0aPxLrdz507Uq1cPY8eOxfjx45N8Sqn2eu2117Bjxw5VLSftyy+/RJ8+fbBmzRpVEfbVV1+p6jspr69VqxauXLmCd955B1JxJl8vWLAgnnnmGbz77rvImzev+3oSEM6aNQvh4eEqyMqZMycef/xxTJw48b7QT0IvqUqbN2+emhpatWpVdb5FixbFWyPu0UcfxY0bN3DkyJH7nktCxTlz5uDMmTOqqs1Te/HFF9U1du3apUI2b61Dhw6qyjA2NtZbV36fAhSgAAUoQAEKZHkBBnHeX7FUxDGI8+zEIM77+GEPClCAAhRIQsA0DJz7ah1iT1xA9nJFfbZKbhDX44PXsf3wPmwZ+hFKVK+Iov/XWq1FV6lSJVWhtn///njXjoiIQLVq1dCuXTv8+OOP8b4nwZ38ExMTg99++01VzwUEBKgwLzg4OF4QJ+eQ7z333HMqZOzSpQty5cqlArvLly+jX79+ap05qaaTwE2q7yR0c603J1VnsuZas2bNUKxYMZw+fVoFZaZpQu4xNDTUfW+uyry2bdtCwi/ZnEH6yjpvt27dcm/WINcZMGCACggbNWrkPl4q9ooWLYqGDRsmOs1WwrQiRYqgRIkS6r48NQn57HY7rl69qoLG0aNH46mnnsLy5ct9fr/sSAEKUIACFKAABbKqgL8GcU8nsyJuJSviPH4EGMRl1Z8MfC4KUIACD0jAsDlw9sufYLtwDcFhhX2+anKCuPNXL6PesOfQvMajmPPsIAQWzodiL7SFHmhVVWgStJ04cUIFTK726aefqqmX1atXvy+ke+utt9SmDa4modrcuXNVdZ2ruSriZLMCqYLLli2b+3sS3C1cuBDyhzDZGMLVVq9ejY4dO6opsS+99JL6soR9OXLkiOcilWxyX3IfEnJJk40kpALu6aefxrJly9yVhbJunYRgpUqVcgdxEpTJsz7//PPqvl1N1nOToFB+7dy5s8d3Ievh9ezZE5MnT8arr77qsY+Ehps3b1bfs1qt6lzyTPnypf1uuD4PGHakAAUoQAEKUIACGUSAQZz3FyEVcQziPDsxiPM+ftiDAhSgAAWSEDBsdpz98ud0DeI+XbUIkxZ/jjmDxqJlaAUEFsqHYr3vBnEbNmxAq1atINM1p0yZojZh2LhxI4YNG6ZCMAmwEk5bPX78OOQfmV4qx0s13aRJk1TVmqu5gripU6eqXUNdTSrZZBpqixYtMHPmzPtkpHrtiSeewOLFi+/7nmyaEBcXp6rh5Phy5cqp0E3a+++/j1GjRuHeXUxdJ5AqO6lkkwo5V5MKPZk2GxUV5Q4JJbDbvn27miqb2Dp2UiH4yy+/qKmrhQt7Dk4leJRqODnPd999B4vFAgk2ZSMMNgpQgAIUoAAFKODvAv4axHVMZkXcKlbEefyoMIjz958gfH4KUIACqRQwnQbOLvgZd05fRPay6TM1tdmof+LSjWv4/ZNFcJ6+jGwlQ1Gsdxs1NVXaggULMHz4cBUeSZPppbLum1ScyXTQPXv2JPmUEra9/vrr2Ldvn3tjB1cQ9/3336sqN1e7ePFiomuvufo89thj7ooyWRdOAjapbLt27Vq8+2jevLkKAqX1799fTUOV6a7588ffeVaq/uQZ7g3i5LiWLVuqHV+7d+8OuS95VpmyOm3aNI/PK/ciU1Jl6quEeL62Tp06qU0vZCqta8qtr8eyHwUoQAEKUIACFMhqAgzivL9RqYhjEOfZiUGc9/HDHhSgAAUo4EXg4qpw3NhxOF02a9h7/H948q1BeKFlR0z4v8G4/b9I5GlQGaEdG8a7K1kfTSrb5FdZ102mVMpabl27dlWbHSTVZEdQqQ4bM2aM2ixBmiuIW7dunaq4czWpQJNpoRJOyRRVT002a6hbty4Mw1AbO0j1mVToydRT2axB13VVZVegQAG1CYM0mcoq00ylSi8kJCTeaeVae/fujRfESVWdTIutUKEC1q5dCwkTJYyUPxjWrl3b433JdNSRI0eqKjdx8bV9++23Kuz7+eef0bp1a18PYz8KUIACFKAABSiQJQX8N4ibgPxaaZ/e6RVTgrg31BIvderU8ekYf+nEIM5f3jSfkwIUoEA6ClzbFoErv+xGtqIFoGcL9OlKvq4R98ZX0/HlL99j9bjpqFmsDO6cu4ICresgb6OqSV5HNhmQSrIvvvgCvXv3TrKvVJqVLl0aL7/8snu6aWJBnOxsKhVrDRo0UAFYUk0q7CSI83QPsqmChGiuIC65U1PlurIbrKx1FxkZifbt26spr3LNxJoElDLdVCrjklPZ5rKQQK5bt24+vV92ogAFKEABClCAAllVgEGc9zfLIC5xIwZx3scPe1CAAhSggBeB28fO4eL34ZBpqkGFfFvQ35cgzuawo86Q7iiQOy82vfc54i5cg2bREfpUwySnwcpmBrKbqOyMeujQIfdOqDJ9895dSl2PJVViUi0mgdMLL7ygvpxYECffk+q1zz77TK21Jmu93dskqJPrS1WbTOeUTRnmz5+PPn36uLvJVFoJBx9//HF3ECebNcjGEFL95m2zBteJJICTNen+8Y9/qCmqCdezu/e+5G8jpUrv3rAx4Wv15ONwONR9yk6wx44dU4ElGwUoQAEKUIACFPBnAX8N4p5E8iri1rAizuPHhEGcP//04LNTgAIUSCMB0+HE+e82IebQaWQvXxyariV65i/WrcCN2zEwTQMfLvsK1UqVwxN1m6j+bWo3RJWSZdzH/rBzC16cPh5juv0TA9r/A7f/PIOcVUuhcNfHoVktqp9MFZUNCCTAkvXPpNpr3rx5ar04mVYqO6K6mlTIydRP2ZRB+l6/fh0//fQT1q9fjyZNmqhNHmRKq7Skgjg5d+PGjdUmEL169cIjjzwCCeDk9xKiydp0ffv2hYRYEsTJ1NchQ4aoKa2//vorpFpPdiCVe3BVxMk1JSST3UllDTdZl04q9eT3ErbdunUr3tRU1zNJX5kyGhAQgLNnz6qNJDw1uf706dOxY8eOeCb39pWQUkI3mdpaqFAhdb6vv/4assurrKH33nvvpdGI4WkoQAEKUIACFKBA5hVgEOf93UlFHIM4z04M4ryPH/agAAUoQAEfBG7sOoIrv/wOPSgAgQXyJHpE/eHP48zlCx6//9GLr+IfTdu6v9dn6r/wy95fsfPjrxHiDIARZ0f+VnWQp24Fdx/ZiVSqyyTgksBLKtFkHbNx48apXUnvbTK1UgI2WUvu0qVLanpmpUqVVEXZ4MGD403XTCqIk3NK1ZtMJ126dClOnTqlqu5kV1EJxmTtONmtVZpUkcn6cLIbqt1uV1NapfrOtRPrvUGchHnvvPOOChJl0waZSvruu++qNe6k372bNbiey7V+mwSRy5cv9+gq15WpsLImnVTeJdZkmqtMt/3zzz/V8+XOnVut6SEVgF26dPFhFLALBShAAQpQgAIUyPoC/hrEPZHMirgfWRHn8cPAIC7r/4zgE1KAAhR4IALOOzZcXL4V0RGnEBxWWAVyadUkgIs9GYWc1cIQ2qkxLD6uQ5dW18/I55HwrXPnzqrK7umnn87It8p7owAFKEABClCAAllCgEGc99coFXEM4jw7MYjzPn7YgwIUoAAFfBSIPXkBl374FbYL1xBcuohazy21Tdadiz1xHoGF8qHgk/URXKpQak+ZpY6X6j9Zi07Wi3NNq81SD8iHoQAFKEABCjxkAdOMg4lrABwAZPmN7NCQF5qW+FIcD/mWefl0FvDfIO5dhPi4a+pVFcS9yV1TPYxFBnHp/AHl6SlAAQr4m8D1HYdxfcchOK7HIDisEDTL3bXcUtJMpxMS7lnz5kDehlWQt37llJwmyx0TExODVatW4bffflMbNHzwwQd47bXXstxz8oEoQAEKUIACD0NAdiE3cQ5OMwKGcQ4GzsM0bwMwVBCnaYHQkA+6VgS6VhYWrTI0LdvDuFVe8yEJMIjzDs8gLnEjBnHexw97UIACFKBAMgRMw8D18MO4uesIbJdvIKhoflhzBifjDHe7OqJjEXfuilpvLnfdCsjbsDI0PfUVdsm+kQx4gKwVJ7uX5sqVS61vN3PmTLVZAxsFKEABClCAAqkTcJrH4HCGw4k/YZoXYeI2NGSDhuwA5C8XJaSzAYhR/64hP3StKCx6TVi1xgzkUsefaY721yCuLZJXEfcTK+I8jmkGcZnmo84bpQAFKJB5BORvkqP3H4ds4BB7+iIsQYEIKJAbluAgrw/hjI2D/fJNOONsCC4ZqjZmyFmjDKd/eJVjBwpQgAIUoAAFUipgmrFwmJtgN36DaZ5S0091yHIYORP9M4hpOmDiEgxchIbcsGiVEGBpC4v29w7wKb0fHpexBRjEeX8/UhHHIM6zE4M47+OHPShAAQpQIIUCtis3cX17hJpear9yU/7iGJac2VQgpzZz0DXAMNVuqBLAOaPvqKVXAvLnVtNa8zWqqv6djQIUoAAFKEABCqSXgGFeh825GE7zIIDb0CF/Aeh7Nf/dqaxRMHERulYaAXobWLT6/EvE9HphGeC8/hrEtcE7yVoj7meM5RpxHsYrg7gM8CHmLVCAAhTIygIyVVWmmMYcOYPY41FwxtxRoZthswOmCWga9MAAFc5ZcmRD9rJFkL1CcQQVCeFU1Kw8MPhsFKAABShAgQwgYJo3EOf8Bk7zd1XVpqFYigM0qaqTKa26VgKBejtY9YYZ4Al5C+khwCDOu6pUxDGI8+zEIM77+GEPClCAAhRIIwGpfLNfvaWq4xwxsaoaTqrirDmCVeVbQEiuu5VybBSgAAUoQAEKUCCdBUzTCZvzP3CY26Ahj9p8IbXNNG0w8Ad0LQyBlh6waOVTe0oenwEF/DWIa413kM/HXVOvmSewjhVxHkcvg7gM+KHmLVGAAhSgAAUoQAEKUIACFKBA+go4jHDYnMthIg4WH8MFX+7INO/AwP9g0R5FkKU3NE02emDLSgIM4ry/TQZxiRsxiPM+ftiDAhSgAAUoQAEKUIACFKAABbKQgGFeRZzzMzjN/8GCqtA02RE17ZphyppxtxFo6aDWjEvv9uWXX6JPnz44ceIEwsLC0vtyfn9+BnHehwCDOAZx3kcJe1CAAhSgAAUoQAEKUIACFKCAXwjYjU2wOZdCQz7oWojHZ46OjsPHH23Ent8j8fvuSERF3cLzvR7FZ/N73tc/MvIaJr37MzZuPIKo87cQWignmjQNwajRz6Ja5XHxquKcTicmT56MefPmITIyEiVKlEDfvn3x2muvwWL5OxDctWsXFi5ciA0bNqiALUeOHKhatSpGjx6NVq1axbuH1ARxhmFg/PjxqFWrFjp16pSq9y/P8+abb2Lt2rW4fv06ypYti/79+2Pw4MH3rb3nq0OqbiidDvbXIK6Vlrypqb+Y3KzB0xBkRVw6fTB5WgpQgAIUoAAFKEABClCAAhTIeAKyjlucczYc5h5YUCPRzRlOnbyKSuXfQeEiuVGnTnH8sOaQxyDuypUY1K31Pmw2J158qTHCwkJw7NhlfDZnq+xJhT37liCsZAc3xIABAzBr1ixVwdaoUSNs374dX3zxBeTrM2bMcPfr0qULNm/ejGeffRZ16tRBdHS06nfw4EHMnDkTL7/8srtvaoI4h8OBgIAAvPDCC5DzpLSdO3cOdevWVfc5aNAglCxZEuvXr8eSJUswYsQIfPjhh/FO7atDSu8nPY9jEOddVyriGMR5dmIQ5338sAcFKEABClCAAhSgAAUoQAEKZBEBp3kMcY55AOzQteKJPlVcnAOXL0ejWLG8cDicyBX8qscgbs6srXhlyFIsWf5PPNmhmvt8y5f+jp7d/43JU3rh1eFfqa8fOHAANWvWVBVi06ZNc/cdOnQopk+fjn379qF69erq69u2bVPBVlBQkLtfbGysqly7dOkSLl68CKvVqr6XEYI4eSYJErds2YLGjRu773ngwIGYPXu2ChArV66cbIeMOOz8NYhroSrifJv6fM08iQ2siPM4fBnEZcRPNe+JAhSgAAUoQAEKUIACFKAABdJFQDZpiHP+BzoKQNPy+HSNpIK4yR/8gn+9sQZbw4fhkbol3efbEX4SzR+bhk9nPosB/b9V69C98cYbmDhxIo4fP47SpUu7+8rU0zJlymDMmDGYMGFCkvck1WUfffQRTp8+raa1JhbESSAmlXfh4eE4f/48cubMiccff1xdv2LFiuq4kydPxrsP14Wl36ZNm9RvZQrpJ598oqrxjhw5guDgYDRr1kydxxWsSb8aNWrg9u3bOHr0aLz737lzJ+rVq4exY8eqKbDS0sLBpxeXTp0YxHmHZRCXuBGDOO/jhz0oQAEKUIACFKAABShAAQpQIIsI2JwrYDO+hwVVoGl3K8q8taSCuF07T6Npo6moV78UJr3/FEqFheD4sct4/dWVaprmf3e8hNB8w6FroWjbtq2qeouKirrvkoUKFULt2rXV+mpJtR49eqjpnrIGm6wbJ81TRZxUqEkFnoRmxYoVU8HdnDlzYJomIiIiEBoaipiYGCxdulRNS23atCn69eunzif30rp1a/XvXbt2xYoVK9CrVy8VqF25ckVNjZVjJWQrX7686lepUiUEBgZi//798W5frlWtWjW0a9cOP/74o/peWjh4e2fp+X1/DeKaa+8gr48VcdfNk9jIijiPw5BBXHp+OnluClCAAhSgAAUoQAEKUIACFMhQAlIN5zB+hkWr5fN9JRXEyUk+/2w7xo39AbJenKs1aVoW//muPfLnz4Egaz9YtNJq2qmEVbt3777v2rIOnN1uV+FZYu3w4cNqamqHDh1UgOZqnoI4CcpcQZ2rn1S0yT289dZbatMHaUmtEbd48WJ069YN8qusWedqZ8+eRZUqVdC+fXt888036svPPPOMCtqkuq9IkSLuvp9++qmaiivXdYV0qXXw+cWlU0cGcd5hGcQlbsQgzvv4YQ8KUIACFKAABShAAQpQgAIUyCICcc6FsBu/wJqGQdzKFfsxb+52tGpdCWXLFUDEwfOYOmUDqlTNj5VruiEkzyBYtDJqF1GpNpMNGhI22bhB1n1LOLXT1e/GjRto2LChmmYqVXWyGUJSQdy955fKvLi4OFUN16JFC5QrVw7Lli3zGsR17twZO3bsuK/KTQ587rnnIIGUrFcnTXZ3ld1cH330UUyZMgXFixfHxo0bMWzYMFU9V6pUKfezpcYhIwxDfw3immnjk1URt8n8lwqdJWRm+1uAQRxHAwUoQAEKUIACFKAABShAAQr4jYDNuQh2Yy101Ex0x9SEGElVxK1Yvh+9ei5A+G8jUK16Ufehv6z7Ax3bz8E7E5tj9KgvYNFKpbgiTjZpkOmcMhVUpq7KGm73Nk8VcRLYjRo1CqtWrcK1a9fi9W/evLkKzqQlVREnVW9ShZdUkzXkdF1XXRYsWIDhw4fj6tWr6veynpzslioVeDI9ds+ePerrrIjLXB83V/DIIC5t3huDuLRx5FkoQAEKUIACFKAABShAAQpQIBMISAhncy6DjjLQtGw+3XFSQVzrFp+q3VX37B9137lCQ0aicdPS+GH1Tmha7hStjWaz2fDUU0+p4Eyq2GRaasKWMIgzDENNYT1z5oyqSKtatararEECs1deeQUFChRwb8aQVBAn677J9efOnZuoU8uWLeMFmtJfpqDKr7I2nOzsmitXLrXW3KJFi9R5uEacT8Muw3RyBXGPJbMi7r+siPP4DhnEZZihzRuhAAUoQAEKUIACFKAABShAgfQWcBh7EOf8NzTkgK7l9+lySQVxNapOVOfYHzEm3rlkGmjBfCPRqHF5/LQ2QoVVsivqpEmTfN41VUIyWZtNqtq+/vprdO/e3eP9JgziZOqqBHGy02nv3r3jHVO0aFFUqFAh3q6oEpbJhg1ynntbx44dVT+pcAsICPDJKmEn2ehB1o+7916S65CiC6fjQf46NZVBXNoMKgZxaePIs1CAAhSgAAUoQAEKUIACFKBAJhAwzPO445wN07wCi1bOpztOKojr2vlzrFkdgQ2bh6BBwzD3+ZYt+Q3P9fgGo0Z3xaSJ36mvS0AmO6PK5gXTpk1z9x06dCimT5+OvXv3okaNGurrUtXWs2dPfPvtt6oi7cUXX0z0XhMGcQcPHlTTP+fPn48+ffq4j5OpoxLMydRWCdhcLVu2bKpKbeXKlfGuIRsxyD2MGzdOTS9N2GRNO9l9NbEm69rJ2ne3b9/GoUOH1FTV5Dr49IIecCd/DeKaam8jj4+7pt4wT2KLOY5rxHkYmwziHvAHlpejAAUoQAEKUIACFKAABShAgYcnIJVqNudXcJgboaMqNC3xSq9ZM7bgxo1YGIaJd95ei1q1iuHpZ+4GZU92qIbqNYoifPsJtG01A0FBVvTr3xhlyuTHwYPnMX9eOPKFZMPu39ehWJGG7gfu378/5syZowKyxo0bY9u2bapa7KWXXsLs2bPd/WSttalTp6rQrG/fvveBtW7dWm38IC1hECeVdBLEXbhwAUOGDFG7mP7666+Q6rR8+fKhRIkS8YK4Jk2aqPXb3n77bbXJgoRrsqmDWPXo0UOFgW3atIFcU6aZnjp1Sq1VJ2vILVy4UN1DVFQU2rVrh06dOqnzyxp18+bNU9V069atQ/369eM9g68OD2+kJH5lBnHe3wqDuMSNGMR5Hz/sQQEKUIACFKAABShAAQpQgAJZSMBh7IPNKQGSAV0rkeiTVSw3HqdPxd/owNV57rwe6PVCPfXbA/vPYeKEn/CnZR2tAAAgAElEQVT77kicP3cT+UKC0aJlKN4a3xcVyrwOTbu7mYE0Cck++OADFVLJGm4SfEnQNnLkSLWemqs1a9YMmzdvTvTeZEdS6SPN02YNx44dU+vDbd26FXa7HQ0aNMDkyZPVGnHS7q2IO3DgAAYOHKiql6R67d6KOQnjpCJPqusiIiJUOCfTWyW8kyo9qXiTJjuzSrWdBH4SAIaEhKjgTqrpZJfWhM1Xh4w47Pw1iGuiJ68ibqvBijhP45dBXEb8VPOeKEABClCAAhSgAAUoQAEKUCDdBEzThjjnAjjNcOgoC03LkWbXkqDKwJ/QEIJAS1dY9Zppdm6eKGMIMIjz/h6kIo5BnGcnBnHexw97UIACFKAABShAAQpQgAIUoEAWEzDM0yqMM8yT0FEZmvZ3NVpqHtUwL8LENQTorRCgd463o2hqzstjM46AvwZxjfS3krVG3HbjLa4R52HYMojLOJ9l3gkFKEABClCAAhSgAAUoQAEKPEABu7EJdudPMHEFOiqkOowzzCswcQ4WrTaCLL2gaXke4NPwUg9KgEGcd2mpiGMQ59mJQZz38cMeFKAABShAAQpQgAIUoAAFKJAFBUzTgMNcC7tzC0xc/GuaavZkP6mcRwI4qYSzaDUQaPkHdK1wss/DAzKHgL8GcQ31ccmqiAs33mZFnIchzSAuc3zOeZcUoAAFKEABClCAAhSgAAUokA4Cd8O4zXAYW2GYJ9TabhoK+1QdJ+vBAdEwcApALli0Kgi0PA1dC02HO+UpM4oAgzjvb0Iq4hjEeXZiEOd9/LAHBShAAQpQgAIUoAAFKEABCmRxAad5EnbnzzDMIzBxGUBuaMgHDTmgaYHup5fgDrgNE9EwcQlAAHStGKx6I1i1JtC0oCwuxcfz1yCugT4OubUwnwbATfMkdrAizqMVgzifhhA7UYACFKAABShAAQpQgAIUoEBWFzDNODjNg3AY+1R1nImbAGJgwg5AA2BCU79mVwGdVL5Z9KqwaLWga0WzOg+f7y8BBnHehwKDuMSNGMR5Hz/sQQEKUIACFKAABShAAQpQgAJ+JCBTTk2cgWGex91dUK/CNO3QNAs0BEPTQqEjFLoWBk3L4UcyfFQR8Ncgrp6qiCvl0yC4aZ7Cb6yI82jFIM6nIcROFKAABShAAQpQgAIUoAAFKEABClCAQZwvY4BBXOJKDOJ8GUHsQwEKUIACFKAABShAAQpQgAIUoAAF/Lgi7tFkVsTtZEWcx88Lgzj+GKEABShAAQpQgAIUoAAFKEABClCAAj4K+OvUVAZxPg4QL90YxKWNI89CAQpQgAIUoAAFKEABClCAAhSggB8I+GsQV9fyL+TycY24W+Yp7HKOx+7du1GnTh0/GBW+PyKDON+t2JMCFKAABShAAQpQgAIUoAAFKEABPxdgEOd9ADCIS9yIQZz38cMeFKAABShAAQpQgAIUoAAFKEABClBACfhrEFfHMjZZFXG/O99hRZyHzwyDOP4goQAFKEABClCAAhSgAAUoQAEKUIACPgowiPMOJRVxDOI8OzGI8z5+2IMCFKAABShAAQpQgAIUoAAFKEABCigBfw3iaiezIm4PK+I8fmIYxPEHCQUoQAEKUIACFKAABShAAQpQgAIU8FGAQZx3KKmIYxDn2YlBnPfxwx4UoAAFKEABClCAAhSgAAUoQAEKUEAJ+GsQV8vyJnL6uGtqtHkKe53vco04D58ZBnH8QUIBClCAAhSgAAUoQAEKUIACFKAABXwUYBDnHYpBXOJGDOK8jx/2oAAFKEABClCAAhSgAAUoQAEKUIACSsBfg7galjeSVRG33zmBFXEePjMM4viDhAIUoAAFKEABClCAAhSgAAUoQAEK+CjAIM47lFTEMYjz7MQgzvv4YQ8KUIACFKAABShAAQpQgAIUoAAFKKAE/DWIq255Azl8XCMuxjyFA6yI8/iJYRDHHyQUoAAFKEABClCAAhSgAAUoQAEKUMBHAQZx3qEYxCVuxCDO+/hhDwpQgAIUoAAFKEABClCAAhSgAAUooAT8NYirpiriSvo0CmLM0zjIijiPVgzifBpC7EQBClCAAhSgAAUoQAEKUIACFKAABRjE+TIGGMQlrsQgzpcRxD4UoAAFKEABClCAAhSgAAUoQAEKUMCPK+KqWMYkqyLukHMid0318IlhEMcfIxSgAAUoQAEKUIACFKAABShAAQpQwEcBf52ayiDOxwHipRuDuLRx5FkoQAEKUIACFKAABShAAQpQgAIU8AMBfw3iKltHI7uPa8TdNk/jsGMSK+I8fB4YxPnBDwk+IgUoQAEKUIACFKAABShAAQpQgAJpI8Agzrsjg7jEjRjEeR8/7EEBClCAAhSgAAUoQAEKUIACFKAABZSAvwZxFZNZEfc/VsR5/MQwiOMPEgpQgAIUoAAFKEABClCAAhSgAAUo4KMAgzjvUFIRxyDOsxODOO/jhz0oQAEKUIACFKAABShAAQpQgAIUoIAS8Ncgrrx1VLLWiPvT8R7XiPPwmWEQxx8kFKAABShAAQpQgAIUoAAFKEABClDARwEGcd6hpCKOQZxnJwZx3scPe1CAAhSgAAUoQAEKUIACFKAABShAASXgr0FcOevryaqIO+p4nxVxHj4zDOL4g4QCFKAABShAAQpQgAIUoAAFKEABCvgowCDOO5RUxDGI8+zEIM77+GEPClCAAhSgAAUoQAEKUIACFKAABSigBPw1iCtrfR3BWgmfRkGsGYljrIjzaMUgzqchxE4UoAAFKEABClCAAhSgAAUoQAEKUIBBnC9jgEFc4koM4nwZQexDAQpQgAIUoAAFKEABClCAAhSgAAX8uCKutHVksiriTjg+4BpxHj4xDOL4Y4QCFKAABShAAQpQgAIUoAAFKEABCvgo4K9TUxnE+ThAvHRjEJc2jjwLBShAAQpQgAIUoAAFKEABClCAAn4g4K9BXJj1NWTzcY24O2YkTjomsyLOw+eBQZwf/JDgI1KAAhSgAAUoQAEKUIACFKAABSiQNgIM4rw7MohL3IhBnPfxwx4UoAAFKEABClCAAhSgAAUoQAEKUEAJ+GsQV9L6arIq4k47PmRFnIfPDIM4/iChAAUoQAEKUIACFKAABShAAQpQgAI+CjCI8w4lFXEM4jw7MYjzPn7YgwIUoAAFKEABClCAAhSgAAUoQAEKKAF/DeKKS0WcXsKnUXDHiMQZVsR5tGIQ59MQYicKUIACFKAABShAAQpQgAIUoAAFKMAgzpcxwCAucSUGcb6MIPahAAUoQAEKUIACFKAABShAAQpQgAJ+XBFXzDoCQT5WxMUZkTjrmMI14jx8YhjE8ccIBShAAQpQgAIUoAAFKEABClCAAhTwUcBfp6YyiPNxgHjpxiAubRx5FgpQgAIUoAAFKEABClCAAhSgAAX8QMBfg7gi1uHJqog77/iIFXEePg8M4vzghwQfkQIUoAAFKEABClCAAhSgAAUoQIG0EWAQ591RpqYyiPPsxCDO+/hhDwpQgAIUoAAFKEABClCAAhSgAAUooAT8NYgrZB2OQL24T6PAZpzBBVbEebRiEOfTEGInClCAAhSgAAUoQAEKUIACFKAABSjAIM6XMcAgLnElBnG+jCD2oQAFKEABClCAAhSgAAUoQAEKUIACflwRV9A6LFkVcZccU7lGnIdPDIM4/hihAAUoQAEKUIACFKAABShAAQpQgAI+Cvjr1FQGcT4OEC/dGMSljSPPQgEKUIACFKAABShAAQpQgAIUoIAfCPhrEFfA+goCfFwjzm6cwWXHx6yI8/B5YBDnBz8k+IgUoAAFKEABClCAAhSgAAUoQAEKpI0AgzjvjgziEjdiEOd9/LAHBShAAQpQgAIUoAAFKEABClCAAhRQAgzivA8EBnEM4ryPEvagAAUoQAEKUIACFKAABShAAQpQgAJeBPw1iMsXMCRZU1Ov2T/h1FQPY4kVcfwRQwEKUIACFKAABShAAQpQgAIUoAAFfBRgEOcdSiriGMR5dmIQ5338sAcFKEABClCAAhSgAAUoQAEKUIACFFAC/hrE5QkYAqtezKdR4DDO4gYr4jxaMYjzaQixEwUoQAEKUIACFKAABShAAQpQgAIUYBDnyxhgEJe4EoM4X0YQ+1CAAhSgAAUoQAEKUIACFKAABShAAT+uiMsZMDhZFXHR9ulcI87DJ4ZBHH+MUIACFKAABShAAQpQgAIUoAAFKEABHwX8dWoqgzgfB4iXbgzi0saRZ6EABShAAQpQgAIUoAAFKEABClDADwT8NYjLFtANuhbq0xs2zIu4Y/+OFXEetBjE+TSE2IkCFKAABShAAQpQgAIUoAAFKEABCvjfGnGnT59G5cqVcfv27WS9/uzZs+Pw4cMoWbJkso7L6p0ZxGX1N8znowAFKEABClCAAhSgAAUoQAEKUCDNBPytIk7gJIy7fPlysgwLFCjAEM6DGIO4ZA0jdqYABShAAQpQgAIUoAAFKEABClDAnwX8MYjz5/ed1s/OIC6tRXk+ClCAAhSgAAUoQAEKUIACFKAABbKsAIO4LPtqH8iDMYh7IMy8CAUoQAEKUIACFKAABShAAQpQgAJZQYBBXFZ4iw/vGRjEPTx7XpkCFKAABShAAQpQgAIUoAAFKECBTCbAIC6TvbAMdrsM4jLYC+HtUIACFKAABShAAQpQgAIUoAAFKJBxBRjEZdx3kxnujEFcZnhLvEcKUIACFKAABShAAQpQgAIUoAAFMoQAg7gM8Roy7U0wiMu0r443TgEKUIACFKAABShAAQpQgAIUoMCDFmAQ96DFs9b1GMRlrffJp6EABShAAQpQgAIUoAAFKEABClAgHQUYxKUjrh+cmkGcH7xkPiIFKEABClCAAhSgAAUyi4Bp2gHEAjABWADkgKZpmeX2eZ8UoIAfCDCI84OXnI6PyCAuHXF5agpQgAIUoAAFKEABClAgaQHTNGDgJAzzKAzzAkzzPEzc+esgDRryQNeKQtcKQ9eqQNdCSEoBClDgoQowiHuo/Jn+4gziMv0r5ANQgAIUoAAFKEABClAg8wmYphNOcx8cxu8wzJMwcfmvSrggAPKPVME5//qaASA3dC0UFq0KrHo96FrxzPfQvGMKUCBLCDCIyxKv8aE9BIO4h0bPC1OAAhSgAAUoQAEKUMA/BQzzEuzOn+E0D8BEFCBVbwgFkN3jNFQJ7UzcgIkLKpzTtTBY9cawao2haYH+icinpgAFHpoAg7iHRp8lLswgLku8Rj4EBShAAQpQgAIUoAAFMoeA0zgCu7ESTvNPANmgoyQ0zerzzZtmNAycUOGdVauBQEtnaFpun49nRwpQgAKpFWAQl1pB/z6eQZx/v38+PQUoQAEKUIACFKAABR6YgNP4H2zGMhjmEegoBU3Lm6Jry7pyJiJhIhYWrS6CLP+ApuVK0bl4EAUoQIHkCjCIS64Y+98rwCCO44ECFKAABShAAQpQgAIUSHcB2YghzvklDPMP6CgHTcuR6msa5lmYiIZVa4JAS3domuyyykYBClAgfQUYxKWvb1Y/O4O4rP6G+XwUoAAFKEABClCAAhR4yAKm6YDN+R84zP9CRwloWp40uyOneRwagtUUVateP83OyxNRgAIUSEyAQRzHRmoEGMSlRo/HUoACFKAABShAAQpQgAJeBRzGr7A5l8CEHRYtzGv/5HSQkM+JQ7BoFRFk6Qtdy5+cw5Pd98svv0SfPn1w4sQJhIWl7bMk+2Z4AAUo8FAEGMQ9FPYsc1EGcVnmVfJBKEABClCAAhSgAAUokPEEJCiLc86Bw9wJC6p7nD4aHR2Hjz/aiD2/R+L33ZGIirqF53s9is/m97zvgSIjr2HSuz9j48YjiDp/C6GFcqJJ0xJ4bVR1VK38/xCgt3Af43Q6MXnyZMybNw+RkZEoUaIE+vbti9deew0Wy9/TWHft2oWFCxdiw4YNKmDLkSMHqlatitGjR6NVq1bx7iE1QZxhGBg/fjxq1aqFTp06peplyfO8+eabWLt2La5fv46yZcuif//+GDx4cLydZ3v37o0FCxYkeq13330Xb7zxRqruhQdTwN8EGMT52xtP2+dlEJe2njwbBShAAQpQgAIUoAAFKHCPgNM4jDjnVwBs0LUSHm1OnbyKSuXfQeEiuVGnTnH8sOaQxyDuypUY1K31Pmw2J158qTHCwkJw7NhlfDZnGzTNwM49o1G21GhoWpC6zoABAzBr1ixVwdaoUSNs374dX3zxhfr6jBkz3PfSpUsXbN68Gc8++yzq1KmD6Oho1e/gwYOYOXMmXn75ZXff1ARxDocDAQEBeOGFFyDnSWk7d+4c6tatq+5z0KBBKFmyJNavX48lS5ZgxIgR+PDDD92nDg8Px7Fjx+671LRp0yAB5O7du9Uzs1GAAr4LMIjz3Yo97xdgEMdRQQEKUIACFKAABShAAQqkm4DNuRJ2YxV0lHcHZAkvFhfnwOXL0ShWLC8cDidyBb/qMYibM2srXhmyFEuW/xNPdqjmPs3yZfvQ8x9f4v0PW2DEsJmw6BVx4MAB1KxZU1WISejkakOHDsX06dOxb98+VK9eXX1527ZtKtgKCrob4EmLjY1VlWuXLl3CxYsXYbVa1dczQhAnzyRB4pYtW9C4cWP3PQ8cOBCzZ89WAWLlypUTfae3b99G4cKF1dTa/fv3p9u754kpkFUFGMRl1Tf7YJ6LQdyDceZVKEABClCAAhSgAAUo4HcCpmkizjkXDnMHrFpNn54/qSBu8ge/4F9vrMHW8GF4pG5J9/l2hJ9E88em4ZOZj6P/S+8gQG+qpltOnDgRx48fR+nSpd19ZeppmTJlMGbMGEyYMCHJe5Lqso8++ginT59W01oTC+IkEJPKO6k+O3/+PHLmzInHH39cXb9ixYrquJMnT8a7D9eFpd+mTZvUb2Uq7SeffKKq8Y4cOYLg4GA0a9ZMnefeYK1GjRqQMO3o0aPx7n/nzp2oV68exo4dq6bAJta+/vprPP/886pyTp6RjQIUSJ4Ag7jkebF3fAEGcRwRFKAABShAAQpQgAIUoEC6CJjmLdxxToNhnodFK+/TNZIK4nbtPI2mjaaiXv1SmPT+UygVFoLjxy7j9VdXQtaZ2xzeCvnzdkagpQvatm2rqt6ioqLuu26hQoVQu3Zttb5aUq1Hjx5quqeswSbrxknzVBEnFWpSgSehWbFixVRwN2fOHEgQGRERgdDQUMTExGDp0qVqWmrTpk3Rr18/dT65l9atW6t/79q1K1asWIFevXqpQO3KlStqaqwcKyFb+fJ3DStVqoTAwMD7qtnkWtWqVUO7du3w448/Jvpobdq0wcaNG3HmzBl1fTYKUCB5AgzikufF3vEFGMRxRFCAAhSgAAUoQAEKUIAC6SIgAdwdh6zFFpvo+nAJL5xUECd9P/9sO8aN/QGyXpyrNWlaFosW90GekCMI0JshyNJHTTuVsErWQEvYZE00u92uwrPE2uHDh9XU1A4dOqgAzdU8BXESlLmCOlc/qWiTe3jrrbfUpg/SklojbvHixejWrRvkV1mzztXOnj2LKlWqoH379vjmm2/Ul5955hkVtEl1X5EiRdx9P/30UzUVV66b2JRTOZ+sKffEE09g9erV6fLeeVIKZHUBBnFZ/Q2n7/MxiEtfX56dAhSgAAUoQAEKUIACfitgmGdxxzELwB3oWnGfHLwFcStX7Me8udvRqnUllC1XABEHz2PqlA2oUrUIlq9piDw5myGb9UW1i6hUe8kGDQmbbNwg674lnNrp6nfjxg00bNhQTTOVqjoJrpIK4u49v2ygEBcXp6rhWrRogXLlymHZsmVeg7jOnTtjx44dHgO05557DvI//rJenTTZ3VV2c3300UcxZcoUFC9eXFW4DRs2TFXPlSpVKtFne++991QwmDDw8+nlsBMFKKAEGMRxIKRGgEFcavR4LAUoQAEKUIACFKAABSiQqMDdiriZAGKga3+HWUmRJRXErVi+H716LkD4byNQrXpR92l+WfcHOrafg/ETH8HIkYMQZOmd4oo42aRBprXKVFCZuipruN3bPFXESWA3atQorFq1CteuXYvXv3nz5io4k5ZURZxUvUkVXlJN1pDTdV11WbBgAYYPH46rV6+q38t6crLmm1TgyfTYPXv2eDyVXEem68o937s5BYcxBSjguwCDON+t2PN+AQZxHBUUoAAFKEABClCAAhSgQLoImOZt3HFOhWGegUW7u2mBt5ZUENe6xadqd9U9+0fdd5rQkFFo1LQgvv9+OgItnVK0RpzNZsNTTz2lgjOpYpNpqQlbwiDOMAw1hVXWW5OKtKpVq6rNGiQwe+WVV1CgQAH3ZgxJBXGy7ptcf+7cuYkStWzZEpqmub8v/WUKqvwqa8PJzq65cuVSa80tWrTovvO4NnMYMGCA2nWVjQIUSJkAg7iUufGouwIM4jgSKEABClCAAhSgAAWSFDDNWBi4CNO8CBOyLpcBwAoNeaFrodBQAJpmpSIFPArcccyDw9wKq1bLJ6GkgrgaVSeqc+yPGBPvXDINtGC+19GwcRH8+ON/YNUbq11RJ02a5POuqRKSydpsUtUmu4p2797d4/0mDOJk6qoEcbLTae/eveMdU7RoUVSoUCHerqgSlsmGDXKee1vHjh1VP6lwCwgI8MkqYSfZ6EHWj/N0L9J30KBBKoD79ddf1WYQbBSgQMoEGMSlzI1H3RVgEMeRQAEKUIACFKAABShwn4BpOmGYx+A098NpHoFpRv8VwtkAmAB0aAgGtBzQkQ8WvTosWg0VzLFR4F4Bm3MN7MZK6AiDpmX3ipNUENe18+dYszoCGzYPQYOGYe5zLVu6F891X4CRoxph4sSvYNHKqrXdZGdU2bxg2rRp7r5Dhw7F9OnTsXfvXtSoUUN9XaraevbsiW+//VZVpL344ouJ3mfCIO7gwYNqGuz8+fPRp08f93EydVSCOZnaKgGbq2XLlk1V661cuTLeNWQjBrmHcePGqemlCZusaSe7rybWZF07Wfvu9u3bOHTokJqqGu892GyQYFDOId9nowAFUi7AIC7ldjySQRzHAAUoQAEKUIACFKBAAgGneQp25zoY5nEYuABNVb/lApADGoLk73IBOGEiVoVzJm6qUE7XCqswLkCX6XM56UoBJeA0jyPOMR8momHR/g7PEvLMmrEFN27EwjBMvPP2WtSqVQxPP3M3KHuyQzVUr1EU4dtPoG2rGQgKsqJf/8YoUyY/Dh48j/nzwpEvJBA7do5FqWKvuSs0+/fvjzlz5qiArHHjxti2bZuqFnvppZcwe/Zs9y3IWmtTp05VoVnfvn3ve3OtW7dWGz9ISxjESSWdBHEXLlzAkCFD1C6mUnEm1Wn58uVDiRIl4gVxTZo0Ueu3vf3222qTBQnGZFMHqerr0aOHCgPbtGkDuaZMMz116pRaq07Wdlu4cKG6B1njrV27dujUqZM6v6z3Nm/ePFVNt27dOtSvX/++Z5Cpts8++yxks4bXX3+do5MCFEiFAIO4VODxUFbEcQxQgAIUoAAFKEABCtwVME0HHOZmOIztMMwT0JAbGgpD07IlSSQBAnADBs6rKauyFliA3gYWvRJpKQDTNBDnnA+nuQ06qkDTPE+7rFhuPE6fir/RgYtv7rwe6PXC3amUB/afw8QJP+H33ZE4f+4mQkKyo3nLkvjX24+ifJl/wqo3catLSPbBBx+okErWcJPgS4K2kSNHqvXUXK1Zs2bYvHlzom9LdiSVPtI8bdZw7NgxtT7c1q1bYbfb0aBBA0yePFmtESft3oq4AwcOYODAgdi9e7eqXru3Yk4+S1KRJ9V1ERERKpyTKjYJ76RKTyrepMnOrFJtJ4GfBIAhISEquJNqOtml1VN7+umnsXr1akRGRqpzslGAAikXYBCXcjseyYo4jgEKUIACFKAABShAARXC2WA3VsFhhMPENegoA03LkSwbCQ1MXIKJ89C1MgjQn4RVr5Osc7Bz1hRwGPtgc34HE9dh0cqn6UPK2DVwGBatJoIs/4SmSfUmGwUoQIH0E2AQl362/nBmrhHnD2+Zz0gBClCAAhSgAAWSEJD14OzG97Ab/wUQBx3loGl6is1kcwcn/lTTEAP1Z9T6cWz+LSAhrd1YCrvxi9rcQ9cKpAmInNfAEWjIjyDLPzjW0kSVJ6EABbwJMIjzJsTvJyXAII7jgwIUoAAFKEABCvi5gMP4DTbncpi4AR3loWmyBlzqmmnegRP/g1WrgkBLnzQLXlJ3Vzz6YQoY5nXYnAvgNPdBQ0noWt5U3c7dEO6EWrMwQG+OAP3pNBm7qbopHkwBCviFAIM4v3jN6faQDOLSjZYnpgAFKEABClCAAhlfwDAvI875BZzmIVhQ1b3IfVrcuQQvJs7BqjdDoN49VVV2aXE/PMfDFzDMs7A5v4XTPAgNodBQKEXhmWna/wrhAmDVGyBQ7wxNk41E2ChAAQqkvwCDuPQ3zspXYBCXld8un40CFKAABShAAQp4EbA5V8Bu/AgdRaClskLJ06Wc5jG142qQ5XlY9Crp+j48LaKfrhfkyVMkcDeMWwGn+cdfU6FLQ9OCfTrX3XUIr8JAJHQUhVV/BAF6B4ZwPumxEwUokFYCDOLSStI/z8Mgzj/fO5+aAhSgAAUoQAEKQCrW4pyz1A6pFs1zSBYdHYePP9qIPb9Hql0qo6Ju4flej+Kz+T3vE4yMvIZJ7/6MjRuPIOr8LYQWyommTUvj1VFhqFKpGwIt/3Af43Q61a6Sspul7OJYokQJtZvla6+9BovF4u63a9cuLFy4EBs2bMCJEyeQI0cOVK1aFaNHj0arVq3i3UNqgjjDMDB+/HjUqlULnTp1StXokOd58803sXbtWly/fh1ly5ZF//79MXjw4CSrv+QZW7Zsqa79559/Jrr7ZapuLoMcbJoxsBsb4TB3wTTPALD8VSGXC5oWGO8u7+7KG6s2ejBwCRpywKKVhlVvAYtWK0UVdRmEgSUMFh4AACAASURBVLdBAQpkUgEGcZn0xWWQ22YQl0FeBG+DAhSgAAUoQAEKPGgBh7EVcc7F0JAbupbf4+VPnbyKSuXfQeEiuVGnTnH8sOaQxyDuypUY1K31Pmw2J158qTHCwkJw7NhlfDZnGzTNwG97BqFsqdeha6HqOgMGDMCsWbPQp08fNGrUCNu3b8cXX3yhvj5jxgz3vXTp0gWbN2/Gs88+izp16iA6Olr1O3jwIGbOnImXX37Z3Tc1QZzD4UBAQABeeOEFyHlS2s6dO4e6deuq+xw0aBBKliyJ9evXY8mSJRgxYgQ+/PBDj6e22WyoWbOmCiVjYmKyfBAnCK413pzGHjjNw5Bp0kA0TDhk1Te19htgAHAAyPbXOC2qNmSwaI+keo25lL5jHkcBClCAQRzHQGoEGMSlRo/HUoACFKAABShAgUwsYHMugt1YCx01El2/LS7OgcuXo1GsWF44HE7kCn7VYxA3Z9ZWvDJkKZYs/yee7FDNrbJ82T70/MeXeP/DxzB82FRY9To4cOCACp2kQmzatGnuvkOHDsX06dOxb98+VK9+d6fVbdu2qWArKOjv9b9iY2NV5dqlS5dw8eJFWK1W1TcjBHHyTBIkbtmyBY0bN3Y/28CBAzF79mwVIFauXPm+UTNp0iR8/PHH6Nmzp/o1q1fEJQQwzCswzGMwzIswzCgANwA4AQRA00Kha4WgozB0TTYT4VpwmfjHDm+dAllCgEFclniND+0hGMQ9NHpemAIUoAAFKEABCjw8AdN0Is75sapEsmh/B2dJ3VFSQdzkD37Bv95Yg63hw/BI3ZLu0+wIP4nmj03DJzOboP9LYxCgP4E33ngDEydOxPHjx1G6dGl3X5l6WqZMGYwZMwYTJkxIEkeqyz766COcPn1aTWtNLIiTQEwq78LDw3H+/HnkzJkTjz/+uLp+xYoV1XEnT56Mdx+uC0u/TZs2qd/KVNpPPvlEVeMdOXIEwcHBaNasmTrPvcFajRo1cPv2bRw9ejTe/e/cuRP16tXD2LFj1RTYe9upU6dQpUoVfPrpp5B/f/vtt/0uiHt4nwRemQIUoEDyBRjEJd+MR/wtwCCOo4ECFKAABShAAQr4oYBMA7zj/BSmeU2tt+VLSyqI27XzNJo2mop69Uth0vtPoVRYCI4fu4zXX10JWWduU3hL5M/bHkGWXmjbtq2qeouKksqn+K1QoUKoXbu2Wl8tqdajRw813VPWYJN146R5qoiTCjWpwJPQrFixYiq4mzNnjpoWGRERgdDQUDUVdOnSpWpaatOmTdGvXz91PrmX1q1bq3/v2rUrVqxYgV69eqlA7cqVK2pqrBwrIVv58uVVv0qVKiEwMBD79++Pd/tyrWrVqqFdu3b48ccf433v6aefVpV9Mj1XQjgGcb6MRvahAAUo8PAEGMQ9PPuscGUGcVnhLfIZKEABClCAAhSgQDIFDPMc7jhmqkXwde1uRZm3llQQJ8d+/tl2jBv7A2S9OFdr0rQsFi3ugzwhf8KqNUE2a1817VTCqt27d993SVkHzm63q/AssXb48GE1NbVDhw4qQHM1T0GcBGWuoM7VTyra5B7eeusttemDtKTWiFu8eDG6desG+VXWrHO1s2fPqkq29u3b45tvvlFffuaZZ1TQJtV9RYoUcfeVajcJBeW694Z0q1evhgRxv/32Gx555BF1TwzivI1Efp8CFKDAwxVgEPdw/TP71RnEZfY3yPunAAUoQAEKUIACKRBIjyBu5Yr9mDd3O1q1roSy5Qog4uB5TJ2yAVWqFsHyNQ2RJ2cLZLP+U+0iKtVmUgGWsMnGDVIdlnBqp6vfjRs30LBhQzXNVKrqZDOEpIK4e88vGyjExcWpargWLVqoXUmXLVvmNYjr3LkzduzYcV+Vmxz43HPPQf6HTNarkyY7n8puro8++iimTJmC4sWLY+PGjRg2bJiqnitVqpT72WStO9kBVqrupEpPGoO4FAxmHkIBClDgAQswiHvA4FnscgzistgL9afHubuVfQxM2NWuWhqCoGnB/kTAZ6UABShAAQqkWEAWx7/jnA7TvAqLVsan8yRVEbdi+X706rkA4b+NQLXqRd3n+2XdH+jYfg7GT6yDkSNfUVNTU1oRJ8GVTGuVqaAydVXWcLu3eaqIk8Bu1KhRWLVqFa5duxavf/PmzVVwJi2pijipepMqvKSarCGn67rqsmDBAgwfPhxXr15Vv5f15GS3VAnZZHrsnj171NfffPNNNb1VKvQKFCigvsYgzqehyE4UoAAFHqoAg7iHyp/pL84gLtO/Qv96ANOMgdOMgGGehWGeh4mrMNWOWhLFBUBDQeia7KhVEhatEnfV8q/hwaelAAUoQIFkCJim8ddmDYfSZLOG1i0+Vbur7tk/6r67CA0ZhcZNQ/H9qrkI0NulaI04m82Gp556SgVnUsUm01ITtoRBnGEYagrrmTNnVEWaVJ/JZg0SmL3yyisq/HJtxpBUECfrvsn1586dm6hwy5YtoWma+/vSX6agyq+yNpzs7JorVy611tyiRYtw7tw5tTGF3Effvn3dx8mGELJz7Pr16xEWFqb6sFGAAhSgQMYSYBCXsd5HZrsbBnGZ7Y356f0a5jU4zXA4jQg4VQB3DXf/qJsdgOUvFTtMxEKDFRpCoGtFYdFrwqo1YKWcn44bPjYFKEABCiQtYHN+C7vxI3TUgKbdreZKqiVVEVej6kR16P6IMfFOIRXsBfO9joaNi+LHH5fDqtdWu6JOmjTJ511TJSSTtdmkqu3rr79G9+7dPd5mwiBOpq5KECc7nfbu3TveMUWLFkWFChXi7YoqYZls2CDnubd17NhR9ZMKt4CAAG9MHr8vGz3I+nGue9m7d6/alCKpJmvbyXRaNgpQgAIUyFgCDOIy1vvIbHfDIC6zvTE/u1/523qnuQ8OYwOc5jEAcdBQSAVtmmb1qGGaNpi4DAOXoSEXLFpFBFjawKKV8zM9Pi4FKEABClAgaQGHsR1xzm/Vfy917e7UyKRaUkFc186fY83qCGzYPAQNGoa5T7Ns6V48130BRo5+DJMmLIGuFVRru0kIJZsXTJs2zd136NChqhpMQqoaNWqor0tVW8+ePfHtt9+qirQXX3wx0VtMGMQdPHhQTYOdP38++vTp4z5Opo5KMCdTW10VcfLNbNmyqWq9lStXxruGbMQg9zBu3Dg1dTRhkzXtZPfVxJqsaydr392+fRuHDh1SU1Xla+vWrbvvkO+++05tCiEOsr5cp06dvL0Wfp8CFKAABR6wAIO4BwyexS7HIC6LvdCs9DimaYfd+AEO4zcYOAsdJaEhX7xpH0k9r/wNvIkomLgIXQuDVW8Gq/aYz8dnJUs+CwUoQAEKUMCTgGnexB3nDBjmcVi0qokizZqxBTduxMIwTLzz9lrUqlUMTz9zNyh7skM1VK9RFOHbT6BtqxkICrKiX//GKFMmPw4ePI/588KRLyQQv+36GCWL9XNfo3///mqDAgnIGjdujG3btqlqsZdeegmzZ89295O11qZOnapCs3uncLo6yEYHsvGDtIRBnFTSSRB34cIFDBkyRO1i+uuvv0Kq0/Lly4cSJUrEC+KaNGmi1m+TXUslBJNwTTZ1kD9T9OjRQ4WBbdq0UZsryDTTU6dOqbXqZA25hQsXqnuIiopCu3btVIAm55c16ubNm6eq6SR4q1+/fpKDkWvE8bNKAQpQIOMLMIjL+O8oI98hg7iM/Hb8+N5M0wG7sQoOYwtM3IaOstC0lE0FMc1YGDgKDUUQYGkJq9aMYZwfjy0+OgUoQAEKxBewOb9Xf/GlIRS6FuKRp2K58Th9Kv5GB66Oc+f1QK8X6qnfHth/DhMn/ITfd0fi/LmbCAnJjuYti2Dc221QvsxAWPRK7vNLSPbBBx+okErWcJPgS4K2kSNHqvXUXK1Zs2bYvHlzoq9NdiSVPp6COPnasWPH1PpwW7duhd1uR4MGDTB58mS1Npu0eyviDhw4gIEDB2L37t2qeu3eijkJ46QiT6rrIiIiVDgn01slvJMqPal4kyZTSaXaTgI/CQBDQkJUcCfVdLJLq7fGIM6bEL9PAQpQ4OELMIh7+O8gM98Bg7jM/Pay8L3bjfWwO9fCRAx0lPNp3ZqkOCTYM/AHNK0oAvXOsOq1srAeH40CFKAABSjgu4BhXoXN+QUc5kFYUDXRpR98P+PfPeXcUpkeoLdAgN4l1f89T8k98BgKUIACFKBAWgswiEtrUf86H4M4/3rfmeJpneYp2JxfwTBPQUeVNPtDu6wd58RhWLXqCLT8P+ha3kzhwZukAAUoQAEKpLeAw9gNm3MZTFyBjgpp8t9e07wNA3+qHVnv/nc3X3o/Bs9PAQpQgAIUeCACDOIeCHOWvQiDuCz7ajPng0nlWpzzC7VD6t1KONkVNe2aYV6BiUsI0Fsj0PJs2p04kTMlXKsm3S/IC1CAAhSgAAVSICCbI9mNNXAYm2EiGjrKQ9Ncu5In/4QSwjlVCFcWgfqzsOiVk38SHkEBClCAAhTIoAIM4jLoi8kkt8UgLpO8KH+5TadxGHHOr9TuqLpW0uNjR0fH4eOPNmLP75FqDZqoqFt4vtej+Gx+z/v6R0Zew6R3f8bGjUcQdf4WQgvlRJOmBfH66HaoVvlNtXObqzmdTrVmjKxVExkZqRZYlrVqXnvtNVgsf//PyK5du9SCzBs2bMCJEyeQI0cOVK1aFaNHj0arVq3i3UNqgjjZJW78+PGoVatWqndMk+eRc61fv14tGi2LWsu6N2+88QYqVKjgvmdZ00Z2kkusvfvuu+oYNgpQgAIUyHoCd9dnlTBuu9p9XEcYNC1Xsh40/kZJ5RGod4RFr56sc7AzBShAAQpQIKMLMIjL6G8oY98fg7iM/X787u5szm9hN36CjorQtCCPz3/q5FVUKv8OChfJjTp1iuOHNYc8BnFXrsSgbq33YbM58eJLjREWFoJjxy7jszlboWnA7/u+ROmS3d3XGDBgAGbNmqV2b5MFl7dv3652b5Ovz5gxw92vS5cuatHoZ599FnXq1FGLMn8xfz4ORkRgysh/4f+ad4Aj5g7gNPDtf3/CKzMmYf/361GuRlVkK1YAmtW3CgNZxDogIAAvvPCC2gUupe3KlSuoVq0abDYbXn75ZZQuXRpHjx5Vz6ppGmRhalkgW1p4eLha1DphmzZtGiSAlMWr5ZnZKEABClAgawqYphMOczscxlYY5lEAOaCjEDQtR5IPLBV1Jq7BxHkA2WHRKiHA0g4WrUzWhOJTUYACFKCAXwswiPPr15/qh2cQl2pCniCtBEzzJu44P4FhnlF/gE+sxcU5cPlyNIoVywuHw4lcwa96DOLmzNqKV4YsxZLl/8STHaq5T7d86V707L4AH3zYGa8OX+IOo2rWrInBgwdDQidXGzp0KKZPn459+/ahevW7f6O/bds21K1bF0FBQbBfu4WYPyJxOeI42ozph6vRNxH+ysewynQeDVi2bwtGrf4Cm0ZMRaniJRBUKB9yVCiOHJVKwpIjW5J0aRXEzZw5U+0A9/3336Njx47uay5duhQSKk6dOtW9c5ynG5Jd4woXLoywsDDs378/rV43z0MBClCAAhlYwDDPwe78GU7zGExcAGBAg1TH5YAG+YsyTX1NdjaXjZVkOqt8X9cKwarX+WuH8uAM/IS8NQpQgAIUoEDKBRjEpdyORwIM4jgKMoyA0zyKOMc89Qd7XSvq030lFcRN/uAX/OuNNdgaPgyP1P17muuO8JNo/tg0TJ/ZEQP6L1CLR8t0y4kTJ+L48eOqYszVZOppmTJlMGbMGEyYMMH9ddPpxK39J3Dz9z8Rd/4qjDgb3t+yDJ9vXo3fpvwbxQoWVn2/3fIThn/2Iba9Ow9FAnPBcT0Gv186iUUHtmBP5FFEXb6InDlzqmmicv2KFSuq406ePBnvPlwXln6bNm1Sv5WptJ988omq2jty5AiCg4PRrFkzdZ7Klf9ei+e9995T02Z37typAkRXk+o3qfybM2cO+vXrl6j3119/jeeffx4ffvghRowY4dN7YScKUIACFMj8AjLN1MApOI39MMw/YJi3VOgG2ACYAHRoCFbVchryw6LXgEWrzk0ZMv+r5xNQgAIUoIAXAQZxHCKpEWAQlxo9HpumAg5jG+Kci6CjADQtj0/nTiqI27XzNJo2mop69Uth0vtPoVRYCI4fu4zXX12J6Ojb+G/48yiYbwAsekW0bdtWVb1FRUXdd11ZT6127dpYu3bt3QAs5g6ubNiDmCNn4LgWjaAi+WHJFYyBsyZizc4tODx7ObIH3a0CcAVxO6b8GyUKFoZpmHjj86k4fOo4GlapiVKVy+NKNgNz582D/A9PREQEQkNDERMTA6lYk2mpTZs2dQdlci+tW7dW5+7atStWrFiBXr16oV69epApqFL9JsdK6Fa+fHnVT/5dvt+gQQMVpkllm0xNHT58uJpWK9/PnTt3ot5t2rTBxo0bcebMGbW2HBsFKEABCvifgGna1WZHhnkJQDQkotNghYa80LRC0JBPVZizUYACFKAABfxBgEGcP7zl9HtGBnHpZ8szJ1NA1oazOZdCR9lE14dLeMqkgjjp+/ln2zFu7A+Q9eJcrUnTsvjPd50Rkj8OQZb/g1V/RE07DQwMVGugJWyyJprdbldrqTmiY3F57U5EHzoFPTAAQYVDoFl0/Hn2FNqMfRmtatXHZ0PGuU+RMIiTb9yOi0U2PQBxZy9DC7AgV/UyuFIqJ2o+UgdvvfWWql6TltTU1MWLF6Nbt26QX2V6qaudPXsWVapUQfv27fHNN9+4vz537lxV1Sdhnas99thjWLZsGfLnz5/om5LzlSxZEk888QRWr16dzDfK7hSgAAUoQAEKUIACFKAABbKeAIO4rPdOH+QTMYh7kNq8VpICduNH2JzLoKM8NC3QJy1vQdzKFfsxb+52tGpdCWXLFUDEwfOYOmUDqlQtiBVrnkRI7j6w6vVQtmxZVe0lGzQkbDJ98+LFizhy6A9cWrNDTUm15gpGYMG8quvN2zF4avwQXLx+FevenYNiBULdp/AUxLm+KRVwV4+fgc1pR66aZdFl/DCUK1dOhWPSkgriOnfujB07dnhcs+25556D/Ifh0iWpWrjbli9fjtmzZ6vKP7mGhIqyQ6xs4vDTTz+pnV89Nde01oSBn08vh50oQAEKUIACFKAABShAAQpkQQEGcVnwpT7AR/r/7J0HeFRV+sbfO5NGCZBQQ4CEXkITWaRLZ0UpovRllVWQsoKCIsr+V0QBQRcERKQqu6AiIN0FhCBLlU4kICC9hA6RhCSTmXv/z3fChCQkk0khmUze73n2UWfOPec7vzObmfver1CIy0HYXMoxgXh9Eyy25TChEjTNcSMD+0yOhLhVK8PQv+8i7N47CrXrPKw5t/mn39C50xx8OLEZxrwzQxWVdiYibvu873F7W5hKvfEO8FcuxFji0O+Td3HkzAksfnsimtSol2yTqQlx1+7ewsSlC7D58B7cjb6XbHzr1q0RGhqqXnMkxEnU2/Hjxx0ClRpyJpNJCXu9evVS4py94YRcuGnTJiXMTZ48GaNHj051LllH0nUjIiJUcwoaCZAACZAACZAACZAACZAACeR3AhTi8vsnIGv7pxCXNX68OhsJWPW9iLMtUXVmTFpCtFl65kiIa9/mc9Vd9VDYmEemKeX/Dpq1KI916zbCrFVOt0ZcvVq1saDXm4i9chMFKwdCM2mwWOMxYNo/sfPYYZWO2v6Jxo+sk1KI03UdHf5vMCJu38SrHbujemAQCnp6w3L1Nj7ethylK1bAtu3/S1eIq1GjBiwWCyTlNC1r27atEg2lwYNExx07duyRoVIbTlJUU0s7tdeWGzp0KGbNmpXeUfB9EiABEiABEiABEiABEiABEsgXBCjE5YtjfmybpBD32NBy4owSsBlnEWedp7qxmbRyTl3uSIirGzJRzREW/l6yuSQltKTfaDRpFoxNGw5C03xV/bRJkyal2TX1jd4DMLRqS/iUKwlzAW9YbTYMmjkePx3ag8+HjEHXxq1T9TelEBd+4TQ6/GMwpg58C71adEy8Jv5uFBqNHYCqVapix8G96nWJaPPw8FANG77++utk83fu3Fl1T719+zY8PT0dsrJ3Yj1x4oQaJ3MNGDBA7VUi5Jo3b57YiCLpRH//+9+VAPfLL7+oZg80EiABEiABEiABEiABEiABEiABqGyjJ598UtUYl5riNBLICAEKcRmhxbGPlYBh3EesbQZ04zTMWohTazkS4np0X4D168IRum04GjcJTpzvh+WH0K/Pv/HOu89g0oT1KmpMOqZKZ9TXX38d06dPTxw7YsQIzJw5ExvGTkclz2IoWDEAEtU2bPYkrPnlZ0wZ8Cb6te6E6NgYfPnjMoSdO4WwsydxPfI2ejRvjyY162HkvE9h75r626WzaPveIDxVvQ4ibt9QdeVKFPVDGb/i2H/qGJrUqIsdR/arRhBiPj4+qFSpkop+u3jxIsqXL49XX31V/fMvf/kL3n//fdXgYf/+/Vi8eLFKaz179iwKFCigRDZp/CD+r127Fjt37kSTJk0ShTgR2YYNG4axY8fio48+SsZb1itbtqzq4Jo0kk72Pn78eNSvXx/dunVz6ozSGiT7kbm2bNmiUl+lRp9E74k/1apVS3Nu2aNE+4mdOnVK1byjkQAJkAAJkAAJkAAJkAAJkEBOEaAQl1Ok3XMdCnHuea55dlcW22rE6+tgQkVoWsE09zF71nZERsZA1w18+MEG1K8fiK7P11Xjn32uNurULYvdu86iY7tZ8Pb2wKDBzVCpUnEcPRqBhfN3w8/fG/sPfINyZbsmrjF48GDMmTNHRYs1a9ZMCVdfffUVBnTvhX882QUeRQvBo0ghjFvyJeZtXKFEsz5PP6Ouv3UvEh988yWKFCyEehWrY3v4wVSFuOt376DhG72VmPenarVRvmQZHLtwGscvnlWCYP3yVbBj81YUrBqo5g0ICFA12ho2bKiEwgsXLqjmCkOGDFHRcEuXLkWHDh2UkCURblWrVlWdUUuWLKnEu6NHj2LUqFGYMWOGqvEmaabXrl3DokWLVJdYf39/HDp0CGXKlEnGWurKvfDCC5BmDe+8807ie47q1mXkQyc+SqMI8VH2UrFiRfz++++YPXu24iDNJMqVezQqUsbXq1dPiZLR0dEU4jICnWNJgARIgARIgARIgARIgASyhQCFuGzBmG8noRCXb4/eNTeekJ66EAbuqtptaVn1KuNx4fydVN+eO78P+r+UkEr5a9gVTJywEQcPXETElT/g518QbdqWwrjx3VGt0j+gaUWSiUxTpkzB/PnzcenSJSUESfTZ3+q3wb1dx5U4pplMeHHiKOz+LSxN3757ZzJ6T34nVSHu681rMPbfM1G/UnWcu3YF8TYrGlSuiVZ1GuLD7+aigl8pHFm/FcWa1FJiVN26dVVk2t27d3H//n0VMSZClES5HT58GLt378bChQvVWBGwZKykmg4cOFAJdxK5JvXhNm/ejIkTJ6rIOdmbpL1KRNtnn32GoKCgR/bStWtXVTdOBC+Z027ZJcR98cUXKhpvzZo1kDRbu61YsQIvvvgipk2bhjfeeOMRvyR9WHzu27ev+icj4lzz/8f0igRIgARIgARIgARIgATcmQCFOHc+3ce/Nwpxj58xV8gAAcPQYbF9C6vxM0wIhOZk0wZnl9CNCBiIhZf5GXia/pzuZYauI2JJKKJPXkKhak7WrbPZEDTgz0qI+2xQ8m6kn6/9DpOWLcCP4z5HvUrVE9eXtNSuH47A+Gf+isHDhqLks0+pFE0RzyTSTSLG7Capp5KuKnXtJkyY4HAPEg03depUFUkn6axi9hpxMk9wcELK7vbt21U0mgh7El1XuHBhJfrJ+vYac+fOnUvmh31hGSf16sRE4JPoO4kkPHnypEqRbdWqlZqnZs2aib5KpJ2kzUpDCIn2s5us37RpUxWZOGjQoGR7O3/+PKSL6+effw759w8++IBCXLqfYA4gARIgARIgARIgARIgARLIbgIU4rKbaP6aj0Jc/jrvPLFb3biBONtXsBm/wYya0DTHzQic3ZTUoNNxCmatEbzNL0PTCqR7qS06Flf+sxmWW3+gQIVS6Y6XAdLIIS0h7vCZE3h23N9VFNw/+wxCuRJlcO76ZXzwzRxVZ275X99D6dpVUbZ/u3Q7uUrE24YNGxz61KdPHyxfvlxF1BUqVEiNTU2Ik9p4ElUnollgYKAS7kQMk8YW4eHhqlacpIJKxJo0j2jRokWiUCa13dq3b6/m7tGjB1atWoX+/furBg+SgirRb3KtiG6SOitm78jauHFjfPrpp0oQlNTUkSNHIioqSr0vHV2TmkTpXb9+Hbt27VIiHIU4pz6OHEQCJEACJEACJEACJEACJJDNBCjEZTPQfDYdhbh8duB5ZbtWfR8stjUwEAETakDTPLLkumHEwIaTKt3Vy9wXZq2SU/NZ791XQpw1Mlp1THXGHAlxcv3irevx8bKFuBP1R+J0javXwbzh4+BzPQoFgkojcEBH1WxB6rhJJ56UJp154uPjlXiWlh0/flylpj733HNKQLNbakKcCGV2oc4+TiLaxAdpBiHRa2KOUlOXLVuGnj17Qv4p6aV2u3z5sopk69SpE7799tvE1+fOnaui+kSss1vLli0h9emKFy+ebFuSJitC3N69e1V3IvGJQpwzn0aOIQESIAESIAESIAESIAESyG4CFOKym2j+mo9CXP467zyzW4nEshpbEW8LfSDGVYKmJUR0ZdQM4y5sOK/EN09TF3iY6jk9hTUqJkGIuxMFn/LZI8T9d/8O/Cd0HZ6u0xAVS5fF8UtnVcfV6oHBmP/CCBSvGYTAv3ZA5cqVVSdRiQBLaZK+KdFhEkWWmkVGRqoOqZJmKh1hK1SokDgsNSEu6RwSkRYXF6ei4dq0aaO6koo4JuZIiOvevTv2s2CBRwAAIABJREFU7NmDsLBH6+f169dPtfiWenV2W7lyJb788ksV+SdriKj4ySefqCYO0pDCLgzGxMQgJCRERd1JlJ4YhTinP8IcSAIkQAIkQAIkQAIkQAIkkM0EKMRlM9B8Nh2FuHx24Hlpuwli3A5Y9Z+hG2ehwR8aAqBpZqe2YRjx0HERQCxMWlV4mZ6B2VTbqWvtgwyrDZf/vQmxF26gYOWHTQscTeIoIu7Hfdsx5IsJ2DB+NmqWf1j3bduv+9H3k3fxduseGPX34SjdvXmmI+JEuBJxS9I7JXVVargltdSEOBHsxowZg7Vr1+LOneRNMFq3bo3Q0NB0hTiJepMoPEcmNeRMJpMS9nr16qXEOYm6s9umTZuU75MnT8bo0Qn19f7xj3+o9FaJ0CtRogSFuAx9gjmYBEiABEiABEiABEiABEgguwlQiMtuovlrPgpx+eu88+RudeMCLLaN0I3fYEDSGIvBBEldLPiIKGcYVgBR0HETQDQ0lIHZVAeepg4waQkiTkbt+trdiNxzHAWrl1edSdMzR0LcCxNG4ta9SPz88YJHpqk+qAsalq+GFfP/Df+WdTNVI85isaBLly5KOBOxS9JSU1pKIU7XdZXCKt1U33zzTRV9Js0aRDCTzqUiftmbMTiKiKtRowZkfUk5Tcvatm2rGIo4KNFxx44de2So1IaTFFVJR71y5YpqTCF+SAdbu0lDCOkcu2XLFlVfTsbQSIAESIAESIAESIAESIAESCAnCFCIywnK7rsGhTj3PVu32plhxMFmHIFVPwLdOA8DErV1H4AIYxIhZ8CATf23hkLQNH+YURVmU12YtRCno+hSg3Z3Vzhu/nQQ3gH+MBfwTperIyGuxegB6vrtU75KNo9E/1Ub2AVPBlfDjytWo3DtYFU/bdKkSU53TRWRTGqzSVTbkiVL0Lt371R9TSnESeqqCHHS6fTll19Odk3ZsmVRrVq1ZF1RPTw8VMMGmSepde7cWY27cWsvPDzi1Zlo8FRnoaFEsjp/9k6sJ06ceISDr68vmjdvrqL5Dh8+DGlK4cgkhVXSaWkkQAIkQAIkQAIkQAIkQAIkkBMEKMTlBGX3XYNCnPuerVvuzDB06DgH3bgMw7gO3bimUk8TrBBMWmmYtFIwaUHQUNapCLb0QMVeuoFrP+yA7X4cfALTj6pzJMQNmPZP/HR4D1b94zM0rForcel1e/+H1z7/EK8/0wtTv1sAjyKFVG03EaGko+n06dMTx44YMUJFg4lIVbduXfW6RLX17dsXS5cuVRFpAwcOTHNbKYW4o0ePqvTQhQsXYsCABKFQbNGiRUqYk+g1e0ScvO7j46Oi9VavXp2wtnEVNiMM33zzHV7u/xXe+0czjP1nIxhKFjUBWkGY4IubN4oioHRTmLRq6NathxIMd+7cqWrZ2U06vErn1bFjx+Kjjz6C1Lr76aefHtnL999/r5pCCIdy5cqhW7du6R0j3ycBEiABEiABEiABEiABEiCBbCFAIS5bMObbSSjE5duj58adJWDoOq6v3Ik/Dv6OglXLQjOnXqPuq59WIfJ+NEQs/PSHf6N2UBU807C5WqbDE01Qq0Il7DsVjh4T34KXpydeatsZQaXK4reLZ7Hk5/Uo6lMIPy/4HrV6dkh0bfDgwapBgQhkzZo1U8KVRK699tprqtGB3UaOHIlp06Yp0SxpCqf9fWl0II0fxFIKcRJJJ0LctWvXMHz4cAQEBOCXX37BqlWr4Ofnh/LlyycT4iRa7dChQxg37m2UCbyNEiUj0bJVIehGNAb8ZRdWLPsdbdtXQpu2FeHr64kL52/ip01nUaNmUSxc9CJMWjns3VMQ7doMgbe3N4YOHaoaU0izBhER/f391fxlypRJ84jYrMHZTy/HkQAJkAAJkAAJkAAJkAAJZDcBCnHZTTR/zUchLn+dN3ebSQJRx87j5sb90GMsaXZPfWrkX3DppkToPWpTB76FXi06qjeOXTiDaasXI+zsSVy7cwvFCvuiaVBNjH5xABr8rVuyqDsRyaZMmYL58+erGm4S/SVCmzQykBRRu7Vq1Qrbtm1Lc3dbt26FjElNiJPXTp8+rerD7dixA/Hx8WjcuLHqYCq12cSSRsSFhR3BsL+/jIMHwnH/fjyatyyLTZsHASiixi6YtxuLvv4Fx49dhWEAAWWLoGnTShjwypN4qklBVb/PhAAcO1oMkybsxIH9YaoWnAhwIhhKJFxQUJDDk6IQl8kPMi8jARIgARIgARIgARIgARLIMgEKcVlGmK8noBCXr4+fm3eWgETF3fzvPkTuOwGvksXgUaSgs5emO85yIxJ6nAV+zWvDr8XDDqLpXpgLA6QZRrz+X1j1XdBxDWYEQdOKZsgTmUPHeQAWVb/Py9wDJi0gQ3NwMAmQAAmQAAmQAAmQAAmQAAnkFgEKcblF3j3WpRDnHufIXeQAgfi7USpF9f7pK/CpUMqpxg3puWWNjEbc9TsoXCsYpbs1hcnHK71Lcu19SbmN19fDqv8PBv6ACVWTNWDIqGO6cRMGrsCs1YOXuY+q7UcjARIgARIgARIgARIgARIgAVcnQCHO1U/Itf2jEOfa50PvXIxAzPlruLXpAOSf3mWLw8M3c5Fx0iXVeicKlpuRKFQ1ECU6NYJXiYxFluU0Gqu+FxbbKhi4BROqQ9NMWXZBN249EOOawNv8V2ia6wqRWd4sJyABEiABEiABEiABEiABEnALAhTi3OIYc20TFOJyDT0XzqsERIS7HXoIMeeuwVTAG95l/KGZnRel9Hgr4i7fVNsvWDkAxds3hFdJ1xbhJHotzvYVbMYxmBGSpUi4lOeuGxcBGPA0d4anqXVe/VjQbxIgARIgARIgARIgARIggXxCgEJcPjnox7RNCnGPCSyndW8C8bfv4c7Oo7h/6jIst+7Bs2hBePoXgcnbM9WNSwScHmtB/K0/YIuOhVdpPxSuWQHFmtSCuZCPy8Oy2FYgXt8IDWVh0oplq7+S8qojHCatErzNg2DSSmbr/CknS9k19rEuxslJgARIgARIwEUISBS6blyCgeswVES6RXmmwRuaVgImlIZJK5/h2q8usj26QQIkQAI5SoBCXI7idrvFKMS53ZFyQzlFwLDpiDp+HlHh5xEXcRvWO/dgWG2qzpsS5DQNhm6oRgx6XDxMXp7w9PeFT7kS8K1dEQWqlIWmaTnlbqbXSYiGmw3duAyzViPVeaKi4vDZ1K04dPAiDh64iKtX7+Ev/f+EeQv7PjL+4sU7mPTRJmzdehJXI+6hVOnCaNGiAt4aE4KQmn+Dp6lt4jU2m011b5WusRcvXkT58uVV19i3334bZrM5cdz+/fuxePFihIaG4uzZsyhUqBBCQkLw7rvvol27dsl8yIoQp+s6xo8fj/r166Nbt26ZZioXyn5kri1btiAiIgKlS5fG008/jbFjx6JatWrJ5s7I2Cw5leRiEUjlZk03rj+4aYtWkYuAGSbNDxpKwaSVgaYldMulkQAJkAAJuB4B9bDLOAWbEQab8RsM4y4MyN/zWPUXXSzhl0gBaCgETSsOs1YTZlM9mBCcJ36nuB51ekQCJJAfCFCIyw+n/Pj2SCHu8bHlzPmEgAhysRevq1RVqfkm0XK6JT5Bs9A0Jcp5lSiiuq0WqFQG3gHF89QP23h9KyQiTkNxJcCkZufP3UaNqh+iTEARNGhQDj+uP5aqEHfrVjQa1p8Mi8WGga81Q3CwP06fvol5c3ZC03TsO/QOKgeNhaZ5q2WGDh2K2bNnY8CAAWjatCl27dqFr776Sr0+a9asRFdefPFFbNu2DS+88AIaNGiAqKgoNe7o0aP44osvMGTIkMSxWRHirFYrPD098dJLL0HmyazdunULtWvXhsViUb5VrFgRv//+u9qriLO//vorypUrp6bPyNjM+pP0OsO4D5sRDqt+BDouAkaUumlLiJyQD7UJWuINW9EHN2x1YULFbKkbmB174BwkQAIkQAKAbtxGvP4TbHoYDFwF4Km+y0VwU8Lbg4eBItYBMQ/+1t9IEOe0svDQGqiHY5pWmDhJgARIgARSEKAQx49EVghQiMsKPV5LAqkQsMXEwXY/DtB1aCYTzL4FVDRcXrVY60JYjf/BjHppCohxcVbcvBmFwMBisFpt8C3wVqpC3JzZO/DG8BVYvvIVPPtc7UQkK384gr69vsbkT9ti1Mi5MGuVlBhVr149vP7665g+fXri2BEjRmDmzJk4cuQI6tSpo17fuXMnGjZsCG/vBAFPLCYmRkWu3bhxA9evX4eHh4d63RWEOBEHhw0bhjVr1qBz586JPq9YsQIiKk6bNg1vvPGGej0jY7PyGZP0aZvxK6x6KHTjAgzcAeALTf1PbtqErcRNyA3b/Qc3bHcB2KChjBLkPM0dHntqcVb2yGtJgARIIL8QsOlHVUkJm3FSCXAmlIOmOVcKQx7I6LigIqDNWnV4mp9T38s0EiABEiCBhwQoxPHTkBUCFOKyQo/XkoCbEzCMWMTapiphJq201JQIHAlxn0zZjH+OXY8du9/Ekw0rJF66Z/c5tG45HTO+aI0hr02Ah6mJStGcOHEizpw5oyLG7Capp5UqVcJ7772HCRMmODyBUaNGYerUqbhw4YJKa01LiNu+fbuKRtu9e7dKEy1cuLBKE5X1q1evrq47d+5cMj/sC8u4n3/+Wf2npNLOmDFDReOdPHkSBQoUQKtWrdQ8NWvWTPT1448/Vmmz+/btUwKi3WR9ifybM2cOBg0apF7OyNjMfhzlpite3wCrfhAGLkNDaWgo4VRTDsOIgY4rKs3JpFWFp6kNzNqTeSrqM7PceB0JkAAJuCIBq34I8fo62IwzMKFCmtHsjnyXhzMGbsBABExadXiZusNsSl42wRX3Tp9IgARIIKcIUIjLKdLuuQ6FOPc8V+6KBLKFgHQ0jbV++UBkSRCy0jNHQtz+fRfQouk0NHoqCJMmd0FQsD/OnL6Jd95aDakz9/PujihRrAe8zF3QsWNHFfV29aqk0yQ3qaf2xBNPYMOGDQ7d6dOnD5YvX467d++qunFiqUXESdSdROCJaBYYGKiEOxHD5EYkPDwcpUqVQnR0NCRiTdJSW7RokSiUiS/t27dXc/fo0QOrVq1C//790ahRI5VWKhFtcq2IblWrVlXj5N/l/caNG+PTTz9FcHCwSk0dOXKkSquV94sUSai9lpGx6Z1Nau8bRhQstuWwGvtVtFtCTSCvDE8ldYdsOK8KfXua2sFDa0ExLsMUeQEJkAAJZI2ATf8NFn2ZEuHMqAZNK5ClCeU7QsdpmLSa8Db3hUlLKJtAIwESIIH8ToBCXH7/BGRt/xTissaPV5OAWxOwGacQZ533oEB/aaf26kiIkwkWzNuF9//vR0i9OLs1b1EZ3y0bgGL+p+Bp6gQvc0+Vdurl5YUDBw48sq7UgYuPj1fiWVp2/PhxlZr63HPPKQHNbqkJcSKU2YU6+ziJaBMfxo0bp6LXxBzViFu2bBl69uwJ+aekl9rt8uXLqFWrFjp16oRvv/028fW5c+eqqD4R6+zWsmVL/PDDDyhevHiybWVkrFOH9GCQYVhgsS2F1dgNDT7QIN3yMt9ARObTcQKaFggv07PwMD2VEXc4lgRIgARIIAsEDOMe4mxfwWYcgikbRDi7KzKvjrMwa03hbf5rph7WZGFbvJQESIAEXJIAhTiXPJY84xSFuDxzVHSUBHKegE0/iTjb/GwV4lavCsP8ubvQrn0NVK5SAuFHIzDtX6GoFRKAVeuboJhvF3iZe6Fy5cqqk6g0aEhpkr4pdd8kiiw1i4yMRJMmTVSaqUTVVajwMA02vRpxEpEWFxenouHatGmDKlWqKHFMzJEQ1717d+zZswdhYWGPuNSvXz/Il7XUq7PbypUr8eWXX6rIP1lDREXpECtNHDZu3JhMGMzI2Ix8SuL1UMTb1sFQkXBBWRLhHt6wxcOGYzBr1eBtfhkmLSAjLnEsCZAACZBAJglYbKsRr2+ChqIwaaUyOUvql+nGJfVd4WV+TpUgoJEACZBAfidAIS6/fwKytn8KcVnjx6tJwK0JSGpLQkScDSatrFN7dRQRt2plGPr3XYTde0ehdp2H823+6Td07jQH4yc+iXdGvwcvc/dMR8RJkwYRtySlU1JXpYZbUktNiBPBbsyYMVi7di3u3JEmBQ+tdevWCA0NVS84EuIk6k2i8ByZ1JAzmUxK2OvVq5cS5+wNJ+S6TZs2Kd8nT56M0aNHq6kyMtapA3owSNKO42yLoBtnYUJItnY8TYieOA8PrTm8zP2gaXm3WUlGmHIsCZAACeQWAd24ijjbXOjGZZhQI1serCTdi3RW1XFU1YvzMQ+Fpvk+1q2m99DssS7OyUmABEjACQIU4pyAxCFpEqAQxw8HCZBAmgQM4w/E2qZDN67BrFVxipQjIa59m89Vd9VDYWMemauU/xg0a1EGa9Yugqfp6UzViLNYLOjSpYsSzkTAkrTUlJbyx72u6yqF9dKlS3jzzTcREhKimjWIYCadS0uUKJHYjMGREFejRg3I+pJGmpa1bdtW3RyJOCjRcceOHXtkqNSGkxTVdevWqfcyMtapA3owyGL7DvH6TzChEjQtoX5edppunFOdVkWI8zDVzc6p0z3Tx7oYJycBEiABFyQgkXAW2yqYpNmOVjRVD6UW62dTt+LQwYs4eOAirl69l2qHc7n44sU7mPTRJmzdehJXI+6hVOnCaN4iEG+PeRK1a76mmirZTR4ySUT3/PnzcfHiRdUc6dVXX8Xbb78Ns9mcOG7//v1YvHix+o6WxktSEkK+c6X8Q7t27ZL5nBUhTr7Xx48fr77bu3XrlqXTkv3IXFu2bFFR9hKpL9/L0lCqWrWHzSvkQdwHH3ygymnIOPkNIY2lXn75ZQwZMiRZV/csOcSLSYAEXIYAhTiXOYo86QiFuDx5bHSaBHKGgKRnxtm+gM3YD7NWz6lFHQlxdUMmqjnCwt9LNpesU9LvHTRpFogN//0RZlNNVT9t0qRJTndNFZFMarNJVNuSJUvQu3fvVP1N+eNeUlflx7p0OpUfzEmtbNmy6od20q6oHh4eqmGDzJPUOnfurMbdvn0bnp6OI8DsnVhPnDjxCAdfX180b948sRFFRsY6dUDSksG4hjjbHEgEhaSQpmZZvWFr0aIi3hoThJrVuz+IikuoPccbtoe05WZNbvDWr1+Pa9euqdqA0sRDGoXIzR6NBEiABJwhIPU542yfw2YchQl10oyGO3/uNmpU/RBlAoqgQYNy+HH9sVSFOKnh2rD+ZFgsNgx8rRmCg/1x+vRNzJuzE5qmY9+h8agcNDpxnaFDh6rO4wMGDFCdv6WkhHynyuuzZs1K3IJ8R2/btg0vvPACpNarlIKQcUePHlWNjUSwsltWhDhHD82c4WkfIzVcpVyEPGQT36SDu5TEkL3KQzUpKVGuXELzColol+ZLTz31lHpNvut27typasM+++yz6rcJjQRIwL0IUIhzr/PM6d1QiMtp4lyPBPIYAYttLeL1tQ+6aRZM13tHQlyP7guwfl04QrcNR+MmwYlz/bDiMPr1XoTR7z6NjyesVk/zRSCTzqjS0XT69OmJY0eMGIGZM2fi8OHDqFs3IdJKnn737dsXS5cuVRFpAwcOTNPPlD/u5QZA0kMXLlyobiLstmjRIiXMyZNvuxAn7/n4+KhovdWrVydbQ35siw/vv/++avCQ0qSmnXRfFevatav6US4/0qWWnd2kw6t0XpUn7R999FGGx6Z7OA8GxOtbYLH9ABNKQtOKpXpZ9tywGdh7aCgqB72dWCuON2wJuE+dOqUiHwsUKKA+Z3LjJlGSu3fvVpEl9g67zp4px5EACeRfApKOmtDhPBom7WFN1JRE4uKsKio9MLAYHH1Xz5m9A28MX4HlK1/Bs8/VTpxm5Q9H0LfX15jy6Z/x1sjvVXqqiFH16tVL87tavsvtJRjkO69hw4bJosOknIQ8DJO/f/I9KQ+7xFxBiBNxcNiwYVizZg3kYZvdpAGUiIrTpk1TkfOO7O9//7sSI3/77TfYH6zl308qd04C7kWAQpx7nWdO74ZCXE4T53okkMcI2IyziLMugIF7MGsV0/R+9qztiIyMga4b+PCDDahfPxBdn08QyuSHfJ26ZbF711l0bDcL3t4eGDS4GSpVKo6jRyOwcP5u+Pl7Ye/+z1Eh8G+JawwePFhFB4lA1qxZMyVcydPz1157TTU6sNvIkSPVD2IRzSQdJqW1b98+McIo5Y97eXIuNwkSkTR8+HAEBATgl19+wapVq+Dn56dSbJIKcRKtdujQIZWCIuKJiGvS1EGi+vr06aPEwA4dOkDWlOi28+fPq+g2qSEnKTliEi3QqlUrdTMiwpQ0ppCbGRER/f391fxlypTJ8FhnP1px1n8j3tgCM+qnGTmRXTdskz9tiZFv/gsepoa8YXtwwyafFYmakIgJiQ6RVGgaCZAACWSWgFU/jDjbv6GhEExa8q7bac3pSIj7ZMpm/HPseuzY/SaebPhQ2Nuz+xxat5yOmV/8GUMGfw6zVlk9OJo4caLT0eup+TNq1ChMnToVFy5cUN+5YqkJcdu3b1fRaPLAQiKK5W+nfO/L+naR69y5cypyLaUlfagmf3tnzJihfk9Ih3R5ICLfyTJPzZo1Ey/9+OOPVdqs1JwVAdFusr5E/snvk0GDBjk8NomSkxRdaeYkf/dpJEAC7kOAQpz7nGVu7IRCXG5Q55okkIcIJKSnLoTN2AETqkPTfFL1vnqV8bhwPnmjA/vAufP7oP9LjdR//hp2BRMnbFT1aSKu/AF//4Jo3TYA73/QAVUrv6F+2NtNRLIpU6aoujNSw02ELxHapJGB/am5jJUf0CJopGVbt25VY9L6cX/69GlVH27Hjh2Ij49H48aNVVSS/Ul3UiFOBDN5Qi51YO7fv58sYk5YiZgm0XXh4eFKnJP0VhHvJEpPfrjbTbqrSlqi1My5cuWKEuBEvJNIuKCgoGRbycjY9D5aksIUa5sG3TgDs/bwhsPRdVm5YZvxRXMMfu1deJo68YbtwQ2b1EeSeoESFSl1DGNjY1U9IS8vr/SOj++TAAmQwCMEpAO2xfY9TKgATUs/cl0mcPR3ff++C2jRdBoaPRWESZO7ICjYH2dO38Q7b61GVFQMtu1+ESX9XoGH6U+ZqueacgPyEEsiwu/evZvYMTw1IU4i5OU7WL7PAwMDlXAnYph818p3rjwYi46OhkSsSQmJFi1aJAplku4v37FiEnkuD9v69++vygFICqpEv8m1IrrZI5Ll3+V9+U0gglpwcLBKTZWHf5JWK+9LXdekJr8L5H8y1969e9XvBSlXIdeJ4EcjARJwHwIU4tznLHNjJxTicoM61ySBPEbApp9AnP4NDCMCJtTM1m5sunEbBq7D09QanqYe2dq9M49hzhF3pS5crO0LwLgHk5Zc8EvLgczfsMXh591tUbxYJ3ib+/OG7cENmwjJIvSKwCu1ECVCUuoNSbSERIUkTVfOkQ8FFyEBEsjTBBIaNSyHCZWhad5O7cXR33WZYMG8XXj//36E1IuzW/MWlfHt9y/Cr3g0vM19VcMGiSiXhwjycCqlSR04ebgl4llaJk0OJDVVHkqIgGa31IQ4EbekwUNSk4g28UFKQkj0mpijGnHLli1Dz549If+U9FK7Xb58WUWud+rUSdV1s5s8XJO/0yLW2U3KCkhDKKnrmdLED4mYt5v8XZc57KU0nDocDiIBEsgTBCjE5YljclknKcS57NHQMRJwHQLytDle/xHx+gZo8IFJC8wW5wwjFjb8Bg+tDrzMf4NJ88uWeTlJ2gR04xJirbMBxMGkJRSZTs8ye8P23bIBKOp/UnXB9Tb/jTdsD0BLFz+pMSgdeSViQ6JBJCpSIiQlkkKiKOw1ldI7G75PAiRAAvH6Zlhsy2BCxTSj1lNSSu/v+upVYZg/dxfata+BylVKIPxoBKb9KxS1Qkpi1fpn4V9kADxMjVRpBYk2kwcKKU2iwKXum0SDpWaRkZHqwYOkmUotuQoVHqbBplcjTiLS4uLiVDSclIeoUqWKEsfEHAlx3bt3V2miEmme0vr16we5sZZ6dXZbuXKlKoUhtWFlDREV5UGKNHHYuHHjI8LgmTNnVJquCHcS/SzrSOMpe1Q+P60kQALuQ4BCnPucZW7shEJcblDnmiSQBwkYxn3E2b6BzdgLDX6Jxfczu5UEEe4kzFowvEzPw2yqk9mpeF0GCCQU9RYhLjbbhLi0b9gCsHJ9ExTzbQ9v88u8YXsQydGuXTts2bJFpadu3rw58fSk/pFEWkja1Pfff5+BU+VQEiCB/EzAqu9CnO1bmFBCNTtyxhwJcatWhqF/30XYvXcUatcpmzjd5p9+Q+dOc/DhxBZ4951Z6ns7sxFx0qRBxC1J75Q6qlLDLamlJsSJYDdmzBiV1n/nTvJSGK1bt1bCV3pCnES9SRSeI5MaclIuQIS9Xr16KXEu6cMR6ZAqvk+ePFmVynBkUr/2nXfeUUJj0vpzzpwRx5AACbg2AQpxrn0+ru4dhThXPyH6RwIuREA37qqn7jZDUlA8YUIQNC2hw5mzJk+vDdyGjoswa5VU7TAp5E/LGQK6cROxts9hGLcVf2csazdsT2L06LfgZe7NG7YHN2zSfW/dunWqGLnUMUpqUoNIblCleQiNBEiABJwhYDN+R5x1PgDD6Ydkjv6ut2/zuequeihszCPLl/J/B81aBGH9uh0waaUyVXLAYrGgS5cuSjgTsUvSUlNaSiFOuqNLCqvUi5WariEhIapZgwhmUs9VIozt9VwdRcTVqFEDsr6ki6Zl8pBEygWIOCjRcceOHXtkqNSGkwcn8rfckcnfcmm+JOmtEyZMcOY4OYYESCCPEKAQl0cOykXdpBDnogdDt0jAVQkYxh+w6D/Cph+BjqswIQAaikPTzOm6bBhR0HEFgA6zVg2epo4wm0LSvY5j3GQXAAAgAElEQVQDso+AYeiIs02HzQiHWavt1MSZv2Ebg2YtSmPN2oXwNLXlDduDGzZ7N+D//ve/+POf/5zsDKQouPywkxtFGgmQAAk4Q0C+l2NtM6AbV9R3qzPm6O963ZCJaoqw8PeSTSUP0kr6jUbTZpWxcUO4+t4XgUlSLyUdM2m30rNnz6JSpUqPCFAikkltNolqW7JkCXr37p2quymFOIkoEyFOOp2+/PLLya6RpkjVqlVLFOIkok0aOsmDDpknqcmDEBHsbt++rZooODJ7J9YTJ048wkG6oksjJonmc2T2Lq5DhgxRDSFoJEAC7kOAQpz7nGVu7IRCXG5Q55okkMcJiJhjMw7Cqm+DzbgEA3egoRg0FIYGKaQs3R81ADYA92EgWkXBAWZoWhlVE87T1N7pFJo8jsvl3LfYliJe/y9MqOOUgJr5G7Z30KRZIDb8d41KYeINW8IN24IFC1T333nz5ql/JjXpDCwmUR80EiABEnCGgAhkFts3sBpbYEINaFr6HZgd/V3v0X0B1q8LR+i24WjcJDjRhR+W70G/Pksx5t2emDRxqXpdBLInnngC0tF0+vTpiWNHjBiBmTNn4vDhw4mNCiSqrW/fvli6dKmKSJNu4mlZSiHu6NGjKqpaupIPGDAg8bJFixYpYU6i15J2OPfx8VEPf6QeZ1KTRgziw/vvv68aPKQ0qWkn3VfFunbtqgTDnTt3JmuiIx1epYTA2LFjVadzsaTXJZ3T3pwntQhoZ86WY0iABFyXAIU41z2bvOAZhbi8cEr0kQRclIBh3FORVVYVHXcZMKJgKOFNonkMaJAouYJKnJO6NRKB5WGqCw3ls7XzqovicVm3rPpexNm+e9B4I+GGw5Fl6oZtxWH0670Io99tjY8nrIKmFeEN24Mbtps3byIoKEjdVMoNntmcEE0qKU4SrfHKK69g/nxJM6ORAAmQgHMEbPpRxNn+I60KYNLKp3nR7FnbERkZA1038OEHG1C/fiC6Pl9XjX/2udqoU7csdu86i47tZsHb2wODBjdDpUrFcfRoBBbO3wU//4I4eHArygY8LClhj/IVgaxZs2bq75pErr322muq0YHdRo4cCamZJqJZyocQMqZ9+/aq8YNYSiFOIunkb6akeg4fPhwBAQH45ZdfsGrVKvj5+aF8+fLJhDiJVjt06JDqYCoPOERck6YOIlpKgxwRAzt06KDWlOi28+fPq+g2qSG3ePFi5YM0oJAmC97e3hg6dKiqcyrNGkRE9Pf3V/NL2qnY888/rxo0yHjx5e7du6qZg9QDFV+2bt2qovRoJEAC7kOAQpz7nGVu7IRCXG5Q55ok4GYEDMMGA9ehG9fVPw0jRqWfqjpymj80rTRMKA1Nk2g5Wm4TMIxoxNlmwWacgAm10xRFs3bDtht+/l7Yu382KgQ+rIPGG7aE05fIEalrJF1Te/bsicuXL2PGjBmqA9+BAwfUjRyNBEiABJwlYBjxiLPNg83YBxOqp9k9tXqV8bhwPnmjA/sac+f3Qf+XGqn//DXsCiZO2IiDBy4i4sof8PMvgDZtS+OD8UNRtdKbyb43RCSbMmWKeoAg0bwifInQJtFgScUnEam2bduW5pZErLJ3F02tWcPp06dVfbgdO3YgPj4eksovHUzlb6lY0og4EcyGDRum/p5KN+qkEXMixomYJtF14eHhSpyT9FYRzCRKT7q92k26nkpH6/3796vu1iLAiXgnkXDyQMVuIuyJzzJe6sqJeCf16KTZg0QLyn/TSIAE3IsAhTj3Os+c3g2FuJwmzvVIgARIwAUISGqqxbYOGoqqgtupWeZv2AqqG7b3xz+rbtjM2sObFd6wPSQtURdTp05VhcALFiyobu6k1pLUVaKRAAmQQEYJ2IxTiLMtgWFcgQk1sy3yXB626QiHSauqOmCbtICMusbxJEACJOB2BCjEud2R5uiGKMTlKG4uRgIkQAKuQUDSiuNsX8FmHHpQUyj7ntbrxlVVF9DL/IzqiksjARIgARLIGQLx+o+w2DapqHQTKmZZjJOasDpOQUMReJqfg6epRc5shKuQAAmQgIsToBDn4gfk4u5RiHPxA6J7JEACJPC4CNj0cMTp38MwLj8Q47Jev8YwIqHjPMzak/A2D4CmFXxc7nNeEiABEiCBFAQMIw4WfQWs+m71jgnBTjXlSQ2kYVih43dV59XD1AKeps6ZnosHRQIkQALuRoBCnLudaM7uh0JczvLmaiRAAiTgMgSkLo7VCEW8bQsM3IAJ1aBpnpn2TzfuwlAiXAi8zL1h0hI6gNJIgARIgARyjoBhxMKir4JNP6A6lieIcb4ZckA37kDHBZhQBh6mxiq6OSvfDxlanINJgARIIA8QoBCXBw7JhV2kEOfCh0PXSIAESOBxE5C0owQxbht0XIIJ5WDSimdo2YT6QRcBRMGs1YSn+QWYteAMzcHBJEACJEAC2UdAmjdYjT2w6jugG6cTmidBOpIWTTNdVb4PDNyBgWuA9D3XqsDD1EpFOGuaKfuc40wkQAIk4AYEKMS5wSHm4hYoxOUifC5NAiRAAq5AQCLjbMYRWPVQ2IyTAAxoKAMNxRzWF5IbPYmk01U0XUmYtTrwNHdMs/mDK+yVPpAACZBAfiKgG1dg1berv+0J9TujoMFHpZsCUo7AACB/y+8DiFNCnUkrrSKbJR01ow9m8hNb7pUESCB/E6AQl7/PP6u7pxCXVYK8ngRIgATchICkllr1rbAZR6Eb1x7csBV8cMMmzRw0ADYAMaoZA2CBhpIwaYHwMD0Fs9aI9YPc5LPAbZAACbgXAd24AZsRBl2/BB0RMAz5Gy5/z+VPuwdMKAxNKwuTFqQeqpi0Yu4FgLshARIggWwmQCEum4Hms+koxOWzA+d2SYAESCA9ArpxEzbjV9j0kyriLeGGzQJDRcpJelIBmDRfaFo5FTVh1mpA07Kv62p6/vF9EiABEiCBzBOQhg5SO85QD1PkAYsXNBRnDbjMI+WVJEAC+ZAAhbh8eOjZuGUKcdkIk1ORAAmQgLsRMIwo6LgOGPdhwAYNntC0YioSjoW73e208+d+rFYdN65H4/r1aMTGJkQI+fiYUapUIZQsVQgeHqyNlT8/Gdw1CZAACZAACaRNgEIcPx1ZIUAhLiv0eC0JkAAJkAAJkECeI2Cz6Th18jYOHIjA6d9vI/JuHKKjLYiP19VeRHwrXNgTRYp4o0pVfzzRIADVaxSH2UxRLs8dNh0mARIgARIggcdAgELcY4Caj6akEJePDptbJQESIAESIIH8TEAakxw/dhObNp7GmdN3EBERBU0DfH29UKiwF7w8zQqPJd6G6Kh4RN2Lg64DAWULI7hiMXT8c2XUCpFoUEnno5EACZAACZAACeRXAhTi8uvJZ8++KcRlD0fOQgIkQAIkQAIk4MIE7t+Px4Yff8eunRdx5swd+PsXQEBAYRQo6OnQ65iYeFyNiMKtWzGoVMkPjZuUwzPPVkGhQl4uvFu6RgIkQAIkQAIk8DgJUIh7nHTdf24Kce5/xtwhCZAACZAACeRrApGRsfjmP79i7y+XERNrRbVqxeFTwCNDTGJjrSqd1dvLjD89FYh+/eugWDGfDM3BwSRAAiRAAiRAAu5BgEKce5xjbu2CQlxukee6JEACJEACJEACj52A1H7791dHsGP7RRTy9URQUNFMp5ZKauuFC3/g3h9xaNqsPF4aUA++vuwY/NgPkQuQAAmQAAmQgIsRoBDnYgeSx9yhEJfHDozukgAJkAAJkAAJOEdAhLNlS49h/bpTqhNqUHAx5y5MZ9SFC5G4Hx2PZ56tit59QjIt7GWLM5yEBEiABEiABEggxwlQiMtx5G61IIU4tzpOboYESIAESIAESMBOIOzINXy98DCuXo1CSO3sa7Jgb/pQsmRBvDSgPuo/UYbQSYAESIAESIAE8hEBCnH56LAfw1YpxD0GqJySBEiABEiABEggdwnEx9sw7V97sGf3ZdSpWxLe3hmrCZee93FxVvx65DqeahyIN0Y1zvb5U67/9ddfY8CAATh79iyCg4PTc4/vkwAJkAAJkAAJPEYCFOIeI9x8MDWFuHxwyNwiCZAACZAACeQ3AocPXcW8OQdhtemqLlxqFhd3Hzt2fofLV07i8uXfEBV1G0888We82P29R4bfjbyGrVsX4fSZA7h37xYKF/ZHqZK18GT9Xnjrnc5o8GRA4jU2mw2ffPIJ5s+fj4sXL6J8+fJ49dVX8fbbb8NsNieO279/PxYvXozQ0FAlsBUqVAghISF499130a5du2Q+ZEWI03Ud48ePR/369dGtW7csfRRkPzLXli1bEBERgdKlS+Ppp5/G2LFjUa1atcS5z507h4oVK6a61iuvvKLY0EiABEiABEggrxKgEJdXT841/KYQ5xrnQC9IgARIgARIgASykcCCeYfw47pTqO0gGu7OnQh8OrUXfH2Lo2zZ6jhxYleqQtz9+5GYPvMl2GxWPNWoK/z8AnDr1mX8sncVdB348IPv8c67nRK9Hzp0KGbPnq0i2Jo2bYpdu3bhq6++grw+a9asxHEvvvgitm3bhhdeeAENGjRAVFSUGnf06FF88cUXGDJkSOLYrAhxVqsVnp6eeOmllyDzZNZu3bqF2rVrw2KxKN9EaPv999/VXjVNw6+//opy5cqp6e1CXNeuXSH7TGpVqlRB48aNM+sGryMBEiABEiCBXCdAIS7XjyBPO0AhLk8fH50nARIgARIgARJISUA6pU4Yvx3nz99FSO1SaQKyWi2Ivh+JokVKKpHtn+PapCrE7fllJdaum4a/9JuEmjWaJc53NPxnfPvdP9G29RCsXD1NdVAVMapevXp4/fXXMX369MSxI0aMwMyZM3HkyBHUqVNHvb5z5040bNgQ3t4PO6/GxMSoyLUbN27g+vXr8PBISKl1BSFOxMFhw4ZhzZo16Ny5c+LeVqxYocS2adOm4Y033kgmxEmk3EcffcQPKQmQAAmQAAm4FQEKcW51nDm+GQpxOY6cC5IACZAACZAACTxOAqdP38H0qXtgsdhQIY201JTrOxLitv1vMTb9NBdDBs9FucAaiZdeuHAUc+YNRaunX8fcue+jarXiKkVz4sSJOHPmTLLUTEk9rVSpEt577z1MmDDB4fZHjRqFqVOn4sKFCyqtNS0hbvv27Soabffu3SpNtHDhwipNVNavXr16MkEs5YIy7ueff1YvSyrtjBkzVDTeyZMnUaBAAbRq1UrNU7NmzcRLP/74Y5U2u2/fPiUg2k3Wl8i/OXPmYNCgQY8IccJETOalkQAJkAAJkIA7EKAQ5w6nmHt7oBCXe+y5MgmQAAmQAAmQwGMgsHvnRcybexD+/gXgX9w58ceREHfp0nHMnvMaypcPwTMdh6KYXxncvnUZP274HDEx9/FMhykYPLQpWrQMQseOHVXU29WrVx/ZmdRTe+KJJ7BhwwaHu+7Tpw+WL1+Ou3fvqrpxYqlFxEnUnUTgiWgWGBiohDsRw6Sra3h4OEqVKoXo6GhIxJqkpbZo0SJRKBNf2rdvr+bu0aMHVq1ahf79+6NRo0aQFFSJfpNrRXSrWrWqGif/Lu9LWumnn36qmkZIaurIkSNVWq28X6RIkWRCnIiD8p6YpKRKxJxE1dFIgARIgARIIC8ToBCXl08v932nEJf7Z0APSIAESIAESIAEspFA6Jaz+GrBYZQr76vSRZ0xR0KcXL933xr8tHkepF6c3YKD66Fbl3/ixjXgpb/VR/sOlVTaqZeXFw4cOPDIslIHLj4+Xolnadnx48dVaupzzz2nBDS7pSbEiVBmF+rs4ySiTXwYN26cil4Tc1QjbtmyZejZsyfkn0lruV2+fBm1atVCp06d8O233yb6MXfuXBXVJ2Kd3Vq2bIkffvgBxYsXT3xNRMG//e1vqjlEUFAQrly5oho0SIOKt956SzWzoJEACZAACZBAXiVAIS6vnpxr+E0hzjXOgV6QAAmQAAmQAAlkE4Etm8/i64WHUb58ERT29XJq1vSEuPBj/8PefatRtUojFPcPxNVrZ1TH1RIlgtD0qffwysCn0KFjZVSuXFl1EpUGDSlN0jel7ptEkaVmkZGRaNKkiUozlai6ChUqJA5Lr0acRJ3FxcWpaLg2bdqo6DMRx9IT4rp37449e/YgLCzsEZf69esHudGQenV2W7lyJb788ksV+SdriKgoopo0cdi4ceMjwmDSSSUFVnzbsWOHSoEVVjQSIAESIAESyIsEKMTlxVNzHZ8pxLnOWdATEiABEiABEiCBbCCw/X/nsXDeIZQsVQjF/HycmtGREBcevg3ffT8Ow4bMR5kyD8WjU7/vxdeL3kKD+n/Fv6Z+gFatgzMdESdNGkTckvROSV2VGm5JLTUhTgS7MWPGYO3atbhz506y8a1bt0ZoaGi6QpxEvUkUniMTAc1kMilhr1evXkqcszeckOs2bdqkfJ88eTJGjx7tcC7xtUuXLsnqyTl1QBxEAiRAAiRAAi5EgEKcCx1GHnSFQlwePDS6TAIkQAIkQAIkkDaB347fxMzpe2HAQLlyCTXL0jNHQty8Ba8jOvou3hj+n0emGTe+I8oG1Mb69etUh9bM1IizWCxKnBLhTMQuSUtNaSmFOF3XVQrrpUuX8OabbyIkJEQ1axDBTOqwlShRIrEZg6PU1Bo1akDWl5TTtKxt27bQNE2JgxIdd+zYsUeGSm04SVFdt26dQ9QSeSddZaVhhaS40kiABEiABEggLxKgEJcXT811fKYQ5zpnQU9IgARIgARIgASygcCdO7H4eMIORETcQ42aJZya0ZEQN+2zfmqON99YkmwuSQMVIa5cudrYv/9/KF68gBKXJk2a5HTXVBHJpDabRIotWbIEvXv3TtXflEKcpK6KECedTl9++eVk15QtWxbVqlVL1hXVw8NDNWyQeZJa586d1bjbt2/D09PTISt7J9YTJ048wsHX1xfNmzdPtxGFCI0vvPCCqhf3yiuvOHU2HEQCJEACJEACrkaAQpyrnUje8odCXN46L3pLAiRAAiRAAiSQDgERyCQi7ufQc3jiyTIwm03pMnMkxP1nybs4cWIXBr06CxUq1E6cKywsFEuXjUP7di9j46aFKmpMBDLpjCodTadPn544dsSIEZg5cyYOHz6MunXrqtclqq1v375YunSpikgbOHBgmn6mFOKOHj2q0kMXLlyIAQMGJF63aNEiJcxJ9JoIbHbz8fFR0XqrV69OtoY0YhAf3n//fdXgIaVJTTvpvirWtWtXJRju3LlT1bKzm3R4lc6rY8eOxUcffaReFmHP398/2XSSftusWTOI76dPn0b58uXTPRcOIAESIAESIAFXJEAhzhVPJe/4RCEu75wVPSUBEiABEiABEnCSwM4dF/D1wiMoUMADZQIKp3nV7j0rEBsbpZocbAldiICAqgip1VKNr1mjuaoJd/7Cr1iwcATMZk881agb/P0Dce3aGdVJ1dvbF98s2Yhuz/8pcY3BgwerGmgikInwJMKVRK699tprqtGB3UaOHIlp06Yp0ezVV199xMf27durxg9iKYU4iaQTIe7atWsYPnw4AgIC8Msvv2DVqlXw8/NTIldSIU6i1Q4dOoQPPvgA5cqVU+KaNE6Qfffp00eJgR06dICsKdFt58+fV9FtUkNu8eLFygdpQNGqVSt4e3tj6NChqtmCNGsQEVFEN5m/TJkyaqw0gbh//z4aN26s1pOuqSISnjlzRkUMSm07GgmQAAmQAAnkVQIU4vLqybmG3xTiXOMc6AUJkAAJkAAJkEA2EoiKsuBfU3YjLOwa6j9ROs2ouE/+1RN3715NdeUXnn8XDRo8o967evU0Qrd+jctXTuDevZso4OMLf7/a6NZtKD6c8DyKFPFOnENEsilTpqj0S6nhJkKUCG3SyEBSRO0mota2bdvS3PXWrVuV8CWWWrMGiSqT+nDShTQ+Pl6JXtLBVGrEiSUV4kQwGzZsGA4cOKAEsqQRcyLGiZgm0XXh4eFKnJP0VhHvJEpPur3aTWq8jR8/Hvv371fimghwIt5JJFxQUFDiuAULFijhTdJYJTpO6tc1aNAAEhko9fBoJEACJEACJJCXCVCIy8unl/u+U4jL/TOgByRAAiRAAiRAAo+BwM9bz2Hpt+GwWGyoXMUvW1c4e+aOEvd69ApB23YVs3VuTkYCJEACJEACJODaBCjEufb5uLp3FOJc/YToHwmQAAmQAAmQQKYIWK06Fs4/hM0/nUH58kVQvETBTM2T8qLbt2Jw4XwkWretiFcHPQFPT3O2zMtJSIAESIAESIAE8gYBCnF545xc1UsKca56MvSLBEiABEiABEggywSuXY3CwvmHsX//FQQHF82yGHf7dgzOnrmLBg0C8LdX6yOgrG+WfeQEJEACJEACJEACeYsAhbi8dV6u5i2FOFc7EfpDAiRAAiRAAiSQrQQkeu0//w7D4UNX4efngwpBRWEyaRlaQ9cNXLgQiTu3YlGvfmn0+2tdVKxYLENzcDAJkAAJkAAJkIB7EKAQ5x7nmFu7oBCXW+S5LgmQAAmQAAmQQI4RiLhyDytX/IbDh69CotoqVCgK/+IF0hXkpHHBrVsxuHjhDyXi1a1XGs93r4HAckVyzHcuRAIkQAIkQAIk4FoEKMS51nnkNW8oxOW1E6O/JEACJEACJEACmSIQH2/Dz1vPY9vWc7h8+R4iI+Pg7++Dwr5eKFzYC56eJjWvNV6HdF29d8+CO7dj4VvEC4GBvmjZKhit2wTDy4s14TJ1ALyIBEiABEiABNyEAIU4NznIXNoGhbhcAs9lSYAESIAESIAEcoeARLgdOhiBg/sjcPVqlBLcoqMtSoATM3uYlDAn/ysTUAgNniyLBg3KZLm+XO7slquSAAmQAAmQAAlkNwEKcdlNNH/NRyEuf503d0sCJEACJEACJPCAgETIXbsajYiIKNy4Ho24OBskFdXb24xSpQujTJlCKBNQmF1R+YkhARIgARIgARJIRoBCHD8QWSFAIS4r9HgtCZAACZAACZAACZAACZAACZAACZBAviJAIS5fHXe2b5ZCXLYj5YQkQAIkQAIkQAIkQAIkQAIkQAIkQALuSoBCnLuebM7si0JcznDmKiRAAiRAAiRAAiRAAiRAAiRAAiRAAm5AgEKcGxxiLm6BQlwuwufSJEACJEACJEACJEACJEACJEACJEACeYsAhbi8dV6u5i2FOFc7EfpDAiRAAiRAAiRAAiRAAiRAAiRAAiTgsgQoxLns0eQJxyjE5YljopMkQAIkQAIkQAIkQAIkQAIkQAIkQAKuQIBCnCucQt71gUJc3j07ek4CJEACJEACJEACJEACJEACJEACJJDDBCjE5TBwN1uOQpybHSi3QwIkQAIkQAIkkL8IGIYNQCwAHYAHAB9ompa/IHC3JEACJEACJJCDBCjE5SBsN1yKQpwbHiq3RAIkQAIkQAIk4L4EDMOAjgvQjd+hG9dgGFdgIObBhk3QUAwmLeDB/2rCpBVzXxjcGQmQAAmQAAnkAgEKcbkA3Y2WpBDnRofJrZAACZAACZAACbgvAcPQYTN+hVU/CN04AwM3ASXAeQLwBiBRcPboOOHgC5NWBmatJjxMjWDSyrovHO6MBEiABEiABHKQAIW4HITthktRiHPDQ+WWSIAESIAESIAE3IuAbtxCvP4TbPoRGLiaILKhFIBCqaahGoYVBiJh4BoAAyatIjxMzeGhNYGmiXBHIwESIAESIAESyCwBCnGZJcfrhACFOH4OSIAESIAESIAESMCFCdiM3xFvWw2bcRKAF0yokCExzTDuQcdZaPCDWasHL/Pz0DRfF94xXSMBEiABEiAB1yZAIc61z8fVvaMQ5+onRP9IgARIgARIgATyLQGbcQoW23LoxkloqACT5pcpFpLWKnXlgDiYtT/B29wTmlY4U3PxIhIgARIgARLI7wQoxOX3T0DW9k8hLmv8eDUJkAAJkAAJuBQBKeRvi4pF/K0/EH/nHvS4eMAwoHmY4VG0EDyLF4FnsULQzGaX8pvOPEpAN24gzvY1dOMYTKicZeFMPhsGLsPAfZWm6mXqBU3j54CfPRIgARIgARLIKAEKcRklxvFJCVCI4+eBBEiABEiABNyAgG6JR8yZCESduIi4iNvQ78fBFmOBYZXi/QY0kwkmHy+YC3rDo1hhFKpWDgWrBsKzGKOiXPH4DcMGi+07WI2fYUIgtGzqfJrQcfUMNBSCl7m7auJAIwESIAESIAESyBgBCnEZ48XRyQlQiOMnggRIgARIgATyMAERVu7/fgWRvxxH3LU7sN6JeiC4+cBUwAsmTw+1O0PXocdYYIuJgy0qBqaC3vAqURS+tYNR5MlqMHmzgL8rfQys+l5YbCtgIBZmrWK2uiaNHGwIh1mrBW/zKzBp/tk6f8rJvv76awwYMABnz55FcHDwY12Lk5MACZAACZBAThCgEJcTlN13DQpx7nu23BkJkAAJkICbExBR7e7OcEQdvwDLtTvw9POFp7+vSkN1ZCp99Y/7sNy4C1MBbxSoFAD/FnXgHfB4BRk3P45s254IZXG2ebAav8CM2tC0BDE1qUVFxeGzqVtx6OBFHDxwEVev3sNf+v8J8xb2fWTsxYt3MOmjTdi69SSuRtxDqdKF0bxFObw9pi5Car4CT1PrxGtsNhs++eQTzJ8/HxcvXkT58uXx6quv4u2334Y5STrz/v37sXjxYoSGhiqBrVChQggJCcG7776Ldu3aJfMhK0KcrusYP3486tevj27dumWJsexH5tqyZQsiIiJQunRpPP300xg7diyqVauWOHdG9pYlh3gxCZAACZBAniVAIS7PHp1LOE4hziWOgU6QAAmQAAmQQMYI2KJjcXPTAUQdOw/oOrwDSyRGvzk7kwhy8TciEX/3HgoEl0Hxtg1QILi0s5dz3GMiYNN/Q5xtkWqsYNIqpLrK+XO3UaPqhygTUAQNGpTDj+uPpVzRv9IAACAASURBVCrE3boVjYb1J8NisWHga80QHOyP06dvYt6cndA0HfsOvYfKQWOgad5qnaFDh2L27Nkqgq1p06bYtWsXvvrqK/X6rFmzEn158cUXsW3bNrzwwgto0KABoqKi1LijR4/iiy++wJAhQxLHZkWIs1qt8PT0xEsvvQSZJ7N269Yt1K5dGxaLRflWsWJF/P7772qvmqbh119/Rbly5dT0GdlbZv3hdSRAAiRAAnmbAIW4vH1+ue09hbjcPgGuTwIkQAIkQAIZJKDHWnBjwz7cCzsDcwFveJX2U2JCZk1EvdhLN1CgYhmU+POf4BNYIrNT8bpsIGCxrUG8vgYmVIGm+aQ6Y1ycFTdvRiEwsBisVht8C7yVqhA3Z/YOvDF8BZavfAXPPlc7ca6VPxxB315fY/KnbTDqzS9gNlVXYlS9evXw+uuvY/r06YljR4wYgZkzZ+LIkSOoU6eOen3nzp1o2LAhvL0TBDyxmJgYFbl248YNXL9+HR4eCZF8riDEiTg4bNgwrFmzBp07d070ecWKFUp4mzZtGt54440M7y0bjptTkAAJkAAJ5EECFOLy4KG5kMsU4lzoMOgKCZAACZAACThD4M6Oo7iz/VeVgupdJnvSSW33YxF78QYKhwSh1PPNYfbxcsYVjnkMBGKtc2A1dsNDq+/U7I6EuE+mbMY/x67Hjt1v4smGD6Pr9uw+h9Ytp2PGF09j8GsfwtPUQqVoTpw4EWfOnFERY3aT1NNKlSrhvffew4QJExz6NGrUKEydOhUXLlxQaa1pCXHbt29X0Wi7d+9WaaKFCxdWaaKyfvXq1dV1586dS+aHfWEZ9/PPP6v/lFTaGTNmqGi8kydPokCBAmjVqpWap2bNmom+fvzxxyptdt++fUpAtJusL5F/c+bMwaBBgzK8N6cOiINIgARIgATcjgCFOLc70hzdEIW4HMXNxUiABEiABEggawRiLlzHjXV7YLl+V9V2y0okXEpPLDcjocfEwa95Hfi1TIh8ouUsAcOIQqztM+jGFZi1h3XLHHnhSIjbv+8CWjSdhkZPBWHS5C4ICvbHmdM38c5bqyF15rbtbo/ixZ6Hl/lFdOzYUUW9Xb169ZHlpJ7aE088gQ0bNjgE0qdPHyxfvhx3795VdePEUouIk6g7icAT0SwwMFAJdyKGSbp0eHg4SpUqhejoaEjEmqSltmjRIlEoE1/at2+v5u7RowdWrVqF/v37o1GjRpAUVIl+k2tFdKtataoaJ/8u7zdu3BiffvqpahohqakjR45UabXyfpEiRTK8t5z9dHA1EiABEiABVyFAIc5VTiJv+kEhLm+eG70mARIgARLIhwSk8+n1Vbvwx8FTqqZbdnc6FREk5kyESnUt82ILeJUs9lgpZyVl8bE6louT60YEYq1fAIhOsz5cSvccCXEydsG8XXj//36E1IuzW/MWlfHdsgEo6n9SNWvwNr+s0k69vLxw4MCBRwhIHbj4+HglnqVlx48fV6mpzz33nBLQ7JbaOYtQZhfq7OMkok18GDdunIpeE3NUI27ZsmXo2bMn5J+SXmq3y5cvo1atWujUqRO+/fbbxNfnzp2rovpErLNby5Yt8cMPP6B48eIOTz2tveXiR4VLkwAJkAAJ5CIBCnG5CN8NlqYQ5waHyC2QAAmQAAnkDwJSx+3ayp2wRcXCp1zqddyiY2Pw5Y/LEHbuFMLOnsT1yNvo0bw9Phs0+hFIl29dx2erFmPHsUO4fvc2ShT1w1OVa2HwU8/gyR7PwK/5w5pi7KaZgM9ZDpn9ROrG5QdCnDRqSGgekJ6lJ8StXhWG+XN3oV37GqhcpQTCj0Zg2r9CUSskACvXN0HRwq3g4zEQlStXVp1EpUFDSpP0Tan7JlFkqVlkZCSaNGmi0kwlqq5ChYdpsOkJrhKRFhcXp6Lh2rRpgypVqihxTMyRENe9e3fs2bMHYWFhj7jUr18/yE2S1Kuz28qVK/Hll1+qyD9ZQ0RF6RArTRw2btz4iDBov87R3tI7G75PAiRAAiTgngQoxLnnuebUrijE5RRprkMCJEACJEACWSRwe+th3N4WBu+yxVWThtTs4o2raDyqP0oX80ed4GrYfHhPqkLc7Xt/oO17A2GxxuOvbTujQskyOHftCv4duhbQDWz+aA6eHNYTpge14thNM4G2sxwye9TZHRG3amUY+vddhN17R6F2nbKJbm3+6Td07jQH4yc+idGj/56liDhp0iDilqR3Suqq1HBLaqkJcSLYjRkzBmvXrsWdO3eSjW/dujVCQ0PVa46EOIl6k0g1RybCqclkUsJer169lDhnbzgh123atEn5PnnyZIwe/ahYnd7eMnvOvI4ESIAESCBvE6AQl7fPL7e9pxCX2yfA9UmABEiABEjACQISLRTxTSiij19AoeoJRfBTs7h4C0RkC/AvAavNhqABf05ViPt68xqM/fdMfPXmeHR4okniVOv3bcegmePxf91exnszpsCnfEl203zQTTMjXUWdONJUhxjGfcTapkEi47KjRlz7Np+r7qqHwsY8sl4p/zFo2qIk1qyZAS/z85mqEWexWNClSxclnInYJWmpKS2lEKfrukphvXTpEt58802EhISoZg0imEnn0hIlSiQ2Y3AkxNWoUQOyvqScpmVt27ZVdRRFHJTouGPHjj0yVGrDSYrqunXrkr3nzN4ye868jgRIgARIIG8ToBCXt88vt72nEJfbJ8D1SYAESIAESMAJAtY/onFlSSisd6KUOOaMORLiPl/7HSYtW4Afx32OepUSulSK7T91DF0/HIGPur2C4ePeg2+9Suym+aCbZnZ0FXXm3GKt82E1dsJDq+fMcDhKTa0bMlHNERb+XrK5RNgt6TcGTZqVwX//uwQepuaqftqkSZOc7poqIpnUZpOotiVLlqB3796p+ptSiJPUVRHipNPpyy+/nOyasmXLolq1asm6onp4eKiGDTJPUuvcubMad/v2bXh6ejpkZe/EeuLEiUc4+Pr6onnz5skaUTi7N6cOiINIgARIgATcjgCFOLc70hzdEIW4HMXNxUiABEiABEggcwRizl/DtRXbAU2DV4miTk3iSIg7fOYEnh33dzSoXBP/7DMI5UqUwbnrl/HBN3MQHXMfy1/6B4I6NYX/03UzFSmV0kF36KaZHV1FnTk4i2094vVVMKEiNK1gupc4EuJ6dF+A9evCEbptOBo3CU6c64cVh9Gv9yKMHtMUEycuglmromq7SWdU6Wg6ffr0xLEjRozAzJkzcfjwYdStW1e9LlFtffv2xdKlS1VE2sCBA9P0M6UQd/ToUZUeunDhQgwYMCDxukWLFilhTqLXRGCzm4+Pj/oMrl69Otka0ohBfHj//fdVg4eUJjXtpPuqWNeuXZVguHPnTlXLzm7S4VU6r4rI+tFHH2V4b+keDgeQAAmQAAm4JQEKcW55rDm2KQpxOYaaC5EACZAACZBA5gnc//0Krq3aAZOXJzz9fJ2ayJEQJxMs3roeHy9biDtRfyTO17h6Hcwb/j68L0fCv3V9FG/XgN00H9DJaldRpw5NGkIYpxFnXQgD0TBrD8WzlNfPnrUdkZEx0HUDH36wAfXrB6Lr8wlC2bPP1UadumWxe9dZdGw3C97eHvj/9u4DSqoi3+P473ZPIIchxyFnEAlKlKCACdQ1IvqAJwKKq2tCDKvCCkYEswgLuou7GEAwggFEQERAgiAYyEgOkpnQfd+p4nXLwDBzZ3qGgenvPWfPrj1Vde/93Npz9vz2X1X9B7ZVjRqltGLFVo0fN18lE+L03cJHlFjpfjnOsYqygQMHasyYMTYga9u2rQ2uTOXagAED7EEHoeuee+7RqFGjbGjWr1+/k16tS5cu9uAHc50YxJlqM2O5fft23XnnnapQoYIWLFigqVOnqmTJkqpSpUqaIM5Uqy1ZskRDhw5V5cqVbbhmDnUwVX0m4DVhYNeuXWXuaarbNmzYYKvbzB5yEydOtM9gDqDo2LGj4uPj7T5/5mAKs9TYhIgJCQl2/PLly9u2WXk3r9+UdggggAAC+UuAIC5/fc/T/TYEcadbnPshgAACCCCQDYHcCOI+WzRX/575sTo0bqHq5Spq1eZ19sTVupWqaewVg1S52/k2iOM0zcL2i0XikJVP7rpBJQX+qYA7Tz41DIdkJ45Rt9YwbdyQ9qCDUJs3xvXUzb3Ps//44/ItGjF8hn5YvElbt+xXQkIhdbowUY8ObaFaNf5Xsb724aFNSPbMM89o3Lhxdg83E3yZoM0cZGCWiIYuE2rNnj37lK81a9YsG3yZK73DGtasWWP3h5s7d65SUlLUqlUre4Kp2SPOXMdXxJnAbNCgQVq8eLEOHz6cpmLOhHEmTDPVdStXrrThnFneasI7U6VnTnsNXeZ01WHDhmnRokXasmWLDeBMeGcq4RITE7P1bln5rrRFAAEEEMg/AgRx+edb5sWbEMTlhTr3RAABBBBAIIsCRzft0Lb350iuq7gyJTz1zqgi7tOFc3Tbq8M1fdhrql+leni82T8u0o3PPqj7L7xOQx59WAkXNMl2RVxmJ06ebadpnq6KOPMxUoPLlBx4R672ye/U9vS9vTZy3WQF9JPdgy7ef4scp5jXrrRDAAEEEEAAAcmewt28eXP7fxI1a9YMEwSyJEAQlyUuGiOAAAIIIJA3AqkHjmjL218qZfcBFax6bN+rzK6Mgrirh9+j3Qf26eun/nnSMHX791DLxHqa9t5kFW1cPVt7xHk5cfJsO03zdO0RZz6IqexKCb6nlOBMOSojn1Mqs8/t6e9m3KB+laOSivNfpxiftwMhPA1OIwQQQAABBKJEgCAuSj50Lr0mQVwuwTIsAggggAACOSlgApRtk2bp4MoNKlSnshzHyXT4jIK49oOPbZI/55kJacYx96lza3e1qFFfM776QgUqluY0zenTrVFWTxXN9ANl0iDo7lVy4C0F3OXyqaocx1sl5KmGPRbCrTcxn2J9HRXru8rTPIr0PeiPAAIIIIBAfhMgiMtvX/T0vg9B3On15m4IIIAAAghkW2DvNz9q96ylii9fUv5CBTIdJ6Mgru+oR/XF0u809ZHRalG7QXisj76frYEvP6E7u/fUqPffsodDcJrmsdM0s+KQ6cfx2CDoblJy4F0F3JVyVN5Wx3kJYU8c3nVTFdQ6SX7FOOcrzn+NHCfe41PQDAEEEEAAAQSOFyCIYz5EIkAQF4kefRFAAAEEEDiNAknb9mr75G+Uuu+QClQ59fLUCV9M1b7Dh2Q2/X9uyr/UKLGWLmnRzj5p13Nbq0HVGlr460pdO+I+xcXGqveF3ZVYtqJWb1qnt7/+RMULFNacSR+q7mUXhN+O0zSPUXh1yMlpEXR/V3JgigLuz5JS5FN1OU7mQax5BlMF52qvgtokn8rL72umOF8PQric/ECMhQACCCAQdQIEcVH3yXP0hQnicpSTwRBAAAEEEMg9AROq7PxovvYt/EUFqpSRv2D6FU3n33OTNu/anu6DPH/rfbq+fTf7t582rtWoaRO1fN0v2r53t0oULqrWifU05IZ+ajHwWsUmFA2PwWmaxyi8OuT0LHDdg3a/uFR3sVx3s6RYOSorR0VPOlXVzBPpqFz9IVc7JRWU36mhGF8H+Z1mchxfTj8e4yGAAAIIIBBVAgRxUfW5c/xlCeJynJQBEUAAAQQQyD2BpG17tGPatzr6+24VqllRji/zveK8Pk3S9r1yA0EldGiiEq3qe+1Gu9MkcGyPt98UCC6x1XFBd5dcHZQUkKM4SWYuBOUqWY4KyFEx+RxTBddEfqe5fE7CaXpSboMAAggggED+FiCIy9/fN7ffjiAut4UZHwEEEEAAgRwW2LdgtfZ8s1xuSkDxlUtna8+wEx8pdf9hmZCv6Dk1VLZHG/niYnL4qRkuJwWC7k4F3TUKutsVdLfZ6jdzCIOjGDkqJ5/PVMuVl9+p63kZa04+H2MhgAACCCCQnwUI4vLz1839dyOIy31j7oAAAggggECOCgRTUrX7yx90YMlvkuMovlJkYVzq/kMy+88VqlVRZS49T3FlIjudM0dflsE8CRxbjuqy7NSTFo0QQAABBBCITIAgLjK/aO9NEBftM4D3RwABBBA4KwWCSSna/dUSHVyxToFDRxVfuYz8BczyRO+XWYZqquACh5NUuFZFleraXPHlWb7oXZCWCCCAAAIIIBCNAgRx0fjVc+6dCeJyzpKREEAAAQQQOK0CweRU7V/0s/YvW6ukLbvkL1JIcaWKyRcfm+FzmAAu5Y+DStm1TzEli6hwrUoq2a6RYksVO63Pz80QQAABBBBAAIGzUYAg7mz8amfOMxPEnTnfgidBAAEEEEAgWwJHN+/UH9+tUtLvu5W8e789wMFfKF6+AvFyYv12DzkTvgWPJilwOFnBo8mKKVFYcWWKq+g5NVW0SXU5fn+27k0nBBBAAAEEEEAg2gQI4qLti+fs+xLE5awnoyGAAAIIIJAnAm4wqKObd+nwz5t0ZNNOu1w1eCRJbmpAZvswx++Tr0Cs/AXj7R5whetUVsFaFbO8nDVPXo6bIoAAAggggAACZ5AAQdwZ9DHOwkchiDsLPxqPjAACCCCAQEYC5jCHVLP0dM8BBY+mHNvE3++3VXCxCcVstRwXAggggAACCCCAQPYECOKy50avYwIEccwEBBBAAAEEEEAAAQQQQAABBBBAwKMAQZxHKJqlK0AQx8RAAAEEEEAAAQQQQAABBBBAAAEEPAoQxHmEohlBHHMAAQQQQAABBBBAAAEEEEAAAQQQiESAIC4SPfpSEcccQAABBBBAAAEEEEAAAQQQQAABBDwKEMR5hKJZugIEcUwMBBBAAAEEEEAAAQQQQAABBBBAwKMAQZxHKJoRxDEHEEAAAQQQQAABBBBAAAEEEEAAgUgECOIi0aMvFXHMAQQQQAABBBBAAAEEEEAAAQQQQMCjAEGcRyiapStAEMfEQAABBBBAAAEEEEAAAQQQQAABBDwKEMR5hKIZQRxzAAEEEEAAAQQQQAABBBBAAAEEEIhEgCAuEj36UhHHHEAAAQQQQAABBBBAAAEEEEAAAQQ8ChDEeYSiWboCBHFMDAQQQAABBBBAAAEEEEAAAQQQQMCjAEGcRyiaEcQxBxBAAAEEEEAAAQQQQAABBBBAAIFIBAjiItGjLxVxzAEEEEAAAQQQQAABBBBAAAEEEEDAowBBnEcomqUrQBDHxEAAAQQQQAABBBBAAAEEEEAAAQQ8ChDEeYSiGUEccwABBBBAAAEEEEAAAQQQQAABBBCIRIAgLhI9+lIRxxxAAAEEEEAAAQQQQAABBBBAAAEEPAoQxHmEolm6AgRxTAwEEEAAAQQQQAABBBBAAAEEEEDAowBBnEcomhHEMQcQQAABBBBAAAEEEEAAAQQQQACBSAQI4iLRoy8VccwBBBBAAAEEEEAAAQQQQAABBBBAwKMAQZxHKJqlK0AQx8RAAAEEEEAAAQQQQAABBBBAAAEEPAoQxHmEohlBHHMAAQQQQAABBBBAAAEEEEAAAQQQiESAIC4SPfpSEcccQAABBBBAAAEEEEAAAQQQQAABBDwKEMR5hKJZugIEcUwMBBBAAAEEznAB13Xlapdcd4eC2iHXPSQpIClGPqeEHKesfConxyl2hr8Jj4cAAggggAACCJz9AgRxZ/83zMs3IIjLS33ujQACCCCAQAYCrpukgPuTAsFlCmi95B6Sq4NylSzJlSOfpAJyVMSGcH6nnvy+JvKphhzH/I0LAQQQQAABBBBAIKcFCOJyWjS6xiOIi67vzdsigAACCJwFAqYCLuiuVkrwKwXd9bYaTiZsUzE5KiwpXpIjKSjpiFyZgO4PWyXnqLz8Tn3F+rvK55Q5C96WR0QAAQQQQAABBM4uAYK4s+t7nWlPSxB3pn0RngcBBBBAIKoFTBVcSvBzpbqL5Lob5aiMHJWV48Rk6uK6hxXUVklH5XNqKdbXSX6npRzHhHZcCCCAAAIIIIAAAjkhQBCXE4rROwZBXPR+e94cAQQQQOAME3Ddo0oOTFaq+/2xMM0uMTXVb1m7XHefAtognyop1t9ZMU5HwrisEdIaAQQQQAABBBA4pQBBHJMjEgGCuEj06IsAAggggEAOCbhuqpKD7ys1OE+STz5Viyg8c90UBfWzXaoa579EMb62OfSkDIMAAggggAACCES3AEFcdH//SN+eIC5SQfojgAACCCCQAwKpwblKDkyTG66Ei3w56bEwbpV8Tg3F+/vI51TOgSdlCAQQQAABBBBAILoFCOKi+/tH+vYEcZEK0h8BBBBAAIEIBYLuNiUFJijg/iq/Gspx/BGO+Gd31z2ooNbJ77RRvP9mOU5cjo3NQAgggAACCCCAQDQKEMRF41fPuXcmiMs5S0ZCAAEEEEAgWwLJgSlKCX4mn6rIcYpla4yMOgXdTXa5a5y/p2J8zXJ8/OMHfPPNN9W3b1+tW7dO1apVy9V7MTgCCCCAAAIIIJAXAgRxeaGef+5JEJd/viVvggACCCBwFgoE3T1KCrwqE5b5nfrpvsHBg0ka/fwsLflhk35YvEnbth3QTTe31NjxN57UftOmvXryic81a9Yv2rb1gMqWK6L27WvoviFVVb9uD8X5e4f3ngsEAnr22Wc1btw4bdq0SVWqVFG/fv10//33y+//sypv0aJFmjhxombOnGkDtsKFC6thw4Z68MEHddFFF6V5hkiCuGAwqGHDhqlp06a68sorI/qa5n3MWF999ZW2bt2qcuXKqUOHDnr44YdVp06dNGObto888oimT5+uP/74QzVr1tTAgQP117/+NaJ9+iJ6ATojgAACCCCAwBkrQBB3xn6as+LBCOLOis/EQyKAAAII5FeBlOAcJQfek6MS8jkJ6b7mhvV7VK/2P1S+QjE1a1ZZn37yU7pB3O7dh9Si6dNKTg7o1gFtVa1agtas2aWxY+bJcVx9v2SgaibeK59Txd7n9ttv12uvvWYr2Nq0aaNvv/1WEyZMsL+/8sor4We55pprNHv2bF199dVq1qyZDh48aNutWLFCr776qm677bZw20iCuNTUVMXGxqp3794y42T32r17txo1aqTk5GT7bNWrV9dvv/1m39VxHP3444+qXPnYfnlbtmxRixYt7Dvdcccdqlq1qg3v3n//fd1777167rnnsvsY9EMAAQQQQACBfCpAEJdPP+xpei2CuNMEzW0QQAABBBBITyA5MEkpwenyqYkcx5cuUlJSqnbtOqhKlUooNTWgogXvSzeIG/PaXP3tzsl6/4NbdNnljcJjfTBlmW68/k09/Vx73XP3M4rxtbJh1DnnnGOrvl544YVw27vuuksvvfSSli1bpsaNG9vf582bZ8Oq+Pj4cLsjR47YyrWdO3dqx44diomJsX87E4I4Ew4OGjRIH374obp37x5+5smTJ8uEiqNGjdLf/vY3+7t5fxM6zpkzR23b/nmyrOn/+uuv27Cxfv30KxWZ0QgggAACCCAQnQIEcdH53XPqrQnickqScRBAAAEEEMiigOsGlBR4QQH3J/mdP4OzjIbJKIh79pkv9ejDn2ju/LvVvEXV8DDfzV+vThe8oBdebaOB/R9QnL+HXaI5YsQIrV271laMhS6z9LRGjRp66KGHNHz48AzfyFSMPf/889q4caNd1nqqIM6EXKYabf78+XaZaJEiRewyUXP/unXr2n7r169P8xyhG5t2X3/9tf1Hs5T2xRdftNV4v/zyiwoWLKiOHTvacY4Py5566im7bHbhwoU2QAxd5v6m8m/MmDHq37+//blJkyY6fPiwrZg7/jJ9zzvvPP3973+3S1y5EEAAAQQQQACBkABBHHMhEgGCuEj06IsAAggggEAEAmZ/uKOBF+W6e+R3angaKaMgbtHCjWrfZpTOOz9RTz7dQ4nVErR2zS49cN80HTyUpK+/vUgJxS9SgZj/Vbdu3WzV27Zt2066r9lP7dxzz7V7pmV09ezZ0y7hNPuqmX3jzJVeRZypOjMVeCY0q1Spkg3uTBjmuq5WrlypsmXL6tChQzIVa2ZZavv27cNBmXmWLl262LGvvfZaTZ06VTfffLMNycwSVFP9Zvqa4Kx27dq2XShEa9WqlV1aag6NMEHbPffcY5egmr8XK3bsUIx69eopLi5Oy5cvT/Oq5rnM8taLL75Yn332madvQyMEEEAAAQQQiA4Bgrjo+M659ZYEcbkly7gIIIAAAghkIhB0t+to4BXJPSif82cFW0bdMgriTL9/jv1Wj/39U5n94kJXu/Y1Nem9viqRsEZ+p6UKxNxml52aAGrx4sUn3c7sA5eSkmLDs1Ndq1atsktTL7/8chugha70gjgTlIWCulA7U9FmnuHxxx+31WvmymiPuPfee0/XXXedzL+b5aWh6/fff1eDBg106aWX6r///W/49zfeeMNW9ZmwLnRdcMEFmjJlikqVKhX+7aqrrrJBm6kErFChQvj3l19+2S5bNc94YkjHxEYAAQQQQACB6BYgiIvu7x/p2xPERSpIfwQQQAABBLIpEHR36GjgZck9IJ+T6GmUzIK4aVOXa9wb3+qiLvVUs1ZprVyxVaNGzlSDhhU09ZM2KlakvQrEDLAng5pqM3NAw4mXWb5p9n07cblmqN2+ffvUunVru8zUVNWZAw5CV2Z7xJmKtKSkJFsN17lzZ9WqVcuGY+bKKIj7y1/+ou+++y7dUKxXr14y/4PY7FcXuj744AO7x5up/DP3MKGiOSHWVLnNmDEjHAyak2DNya8tW7bUyJEj7SEOs2bN0t13320r7RITE0/p4OmD0QgBBBBAAAEE8p0AQVy++6Sn9YUI4k4rNzdDAAEEEEDgTwHX3a+jgRdkKuP8Ti1PNBkFcVM/WK6bb3xL87+/V40aVwyP9+UXq9X90jEaNqKZBg++S/H+/8l2RZw5pMGEW2Z5p1m6avZwO/5KL4gzgd2QIUP00Ucfae/evWnad+rUSSYMGVaJIgAAF9NJREFUyyyIM1Vvpgovo8vsIefz+Wywd/3119twLnTghOn3+eef22d/+umnNXjw4PBQb731ll22umfPHvub2XvOLGk11XpmKe2SJUs8fRsaIYAAAggggEB0CBDERcd3zq23JIjLLVnGRQABBBBAIBMBUxWWFHhFAfcH+Z0mnrwyCuK6dH7Znq66ZPmQk8YqmzBEbduX1YcfvaFY38XZ2iMuOTlZPXr0sMGZCbvMstQTrxODuGAwaJewbt682VaZNWzY0B7WYAIzc3Jp6dKlw4cxZFQRZ/ZyM/c3S05PdV144YVyHMeGg6Y67qeffjqpqdkbzixR/fjjj9P8zYxtlqCafzdVc+YU2KJFi9p96SZNmuTp29AIAQQQQAABBKJDgCAuOr5zbr0lQVxuyTIuAggggAACHgSSA1OUEvxYPjWQ48Rk2iOjIK5JwxG2//KVD6UZxwR+ZUo+oNZtK+qzz6YoxtfM7p/25JNPej411YRkZm82U9X29ttv64Ybbkj3WU8M4szSVRPEmZNO+/Tpk6ZPxYoVVadOnTSnopoAzBzYYMY5/urevbttZ6rWYmNjM3QKncT6888/n+RgwrV27dplehCFORTC7B+X3nNn+pFogAACCCCAAAL5WoAgLl9/3lx/OYK4XCfmBggggAACCJxaIDW4WMkBc8iAXz7nz8MCTtUjoyDu2r/8U598vFIzZ9+pVq2rhYeYMnmpet3wlgY/2EFPDp8sn1PK7u1mTkY1BxK88MIL4bZ33XWXXnrpJS1dulRNmhyr0jNVbTfeeKPeeecdW5F26623nvKFTgziVqxYYZeHjh8/Xn379g33M8tBTTBnqtdMwBa6ChQoYKv1pk2bluYe5iAG8wyPPfaYXTJ64mX2tDOnr5rriiuusIHhvHnz7F52ocuc8Goq3B5++GE98cQTp3wHswee2Sfv8OHDtqrOLFXlQgABBBBAAAEEQgIEccyFSAQI4iLRoy8CCCCAAAIRCrjuESUFXlXAXSmfGtulleldr70yR/v2HVEw6OofQ6eradNKuuKqY0HZZZc3UuMmFTX/23XqdtErio+PUf+BbVWjRimtWLFV48fNV8mEOH2/6EVVrdQvPPzAgQM1ZswYG5C1bdvWBlemAmzAgAH2oIPQZfZPGzVqlA3N+vX7s3/o7126dLEHP5jrxCDOVNKZIG779u2688477cmkCxYskKk4K1mypKpUqZImiDPVamZPtqFDh9qDE0y4Zg51MFV9PXv2tGFg165dZe5pqts2bNhgq9vMHnITJ060z2AOoOjYsaPi4+N1++2324MpzGENJkRMSEiw45cvX9623bZtmy6++GJdeeWV9lnMfnbjxo2zlXdffPGFzj///Ai/MN0RQAABBBBAIL8JEMTlty96et+HIO70enM3BBBAAAEEThJICX6h5MBHclRYPudYoHXiVbfWMG3ckPagg1CbN8b11M29z7P/+OPyLRoxfIZ+WLxJW7fsV8mEQup8YXk9Nuxi1a5xZ5pDIUxI9swzz9jgyezhZoIvE7SZgwzMEtHQZUKt2bNnn/LLmVNGTRtzpXdYw5o1a+z+cHPnzlVKSopatWplTzA1e8SZ6/iKOBOYDRo0SIsXL7YVacdXzJkwzoRpprpu5cqVNpwzy1tNeGeq9EwVW+gy+70NGzZMixYt0pYtW2wAZ8I7UwlnTkINXeYUV1OZZ8JBExaG2pnKO3PaKhcCCCCAAAIIIHCiAEEccyISAYK4SPToiwACCCCAQA4IuO4hJQXeVMBdJJ/qyXHic2DUY0ME3Z1y9YdifV0U67vilBV3OXZDBkIAAQQQQAABBPK5AEFcPv/Aufx6BHG5DMzwCCCAAAIIeBEIBH9WUvC/ct3N/x/GZX5wQ2bjuu4BBbVWfqep4v195TjFMuvC3xFAAAEEEEAAAQQyESCIY4pEIkAQF4kefRFAAAEEEMghAbPMMtWdrZTAF3K1XT7VkePEZXt0192voNbJ59RVnP86+Z0a2R6LjggggAACCCCAAAJ/ChDEMRsiESCIi0SPvggggAACCOSgwLEwbpZSgl8r6G6UT1XkKCFLy0ldNyhXm+Vq3/+HcFfJ79TOwadkKAQQQAABBBBAILoFCOKi+/tH+vYEcZEK0h8BBBBAAIEcFDBhXMBdrtTgTAXcX8wub3JUXo5KZBjIuW6qXO1S0FbTJcjnNFScv5t8TqUcfDqGQgABBBBAAAEEECCIYw5EIkAQF4kefRFAAAEEEMglAdfdp5TgLAXcFQq62+XqgBwVkqMiksxhDo4N6aQjcnVQUpIclZLPqSi/r6VinNZynNhcejqGRQABBBBAAAEEoleAIC56v31OvDlBXE4oMgYCCCCAAAK5JBB0d9sKuUDwF7naKXPCqqskSa4c+SQVlOMUlk+V5Pc1lN9pIMcpmEtPw7AIIIAAAggggAACBHHMgUgECOIi0aMvAggggAACp0nALFmVDiqoHTaMO7Zk1S/HKSlHZeQ4pkqOCwEEEEAAAQQQQCC3BQjicls4f49PEJe/vy9vhwACCCCAAAIIIIAAAggggAACOShAEJeDmFE4FEFcFH50XhkBBBBAAAEEEEAAAQQQQAABBLInQBCXPTd6HRMgiGMmIIAAAggggAACCCCAAAIIIIAAAh4FCOI8QtEsXQGCOCYGAggggAACCCCAAAIIIIAAAggg4FGAIM4jFM0I4pgDCCCAAAIIIIAAAggggAACCCCAQCQCBHGR6NGXijjmAAIIIIAAAggggAACCCCAAAIIIOBRgCDOIxTN0hUgiGNiIIAAAggggAACCCCAAAIIIIAAAh4FCOI8QtGMII45gAACCCCAAAIIIIAAAggggAACCEQiQBAXiR59qYhjDiCAAAIIIIAAAggggAACCCCAAAIeBQjiPELRLF0BgjgmBgIIIIAAAggggAACCCCAAAIIIOBRgCDOIxTNCOKYAwgggAACCCCAAAIIIIAAAggggEAkAgRxkejRl4o45gACCCCAAAIIIIAAAggggAACCCDgUYAgziMUzdIVIIhjYiCAAAIIIIAAAggggAACCCCAAAIeBQjiPELRjCCOOYAAAggggAACCCCAAAIIIIAAAghEIkAQF4kefamIYw4ggAACCCCAAAIIIIAAAggggAACHgUI4jxC0SxdAYI4JgYCCCCAAAIIIIAAAggggAACCCDgUYAgziMUzQjimAMIIIAAAggggAACCCCAAAIIIIBAJAIEcZHo0ZeKOOYAAggggAACCCCAAAIIIIAAAggg4FGAIM4jFM3SFSCIY2IggAACCCCAAAIIIIAAAggggAACHgUI4jxC0YwgjjmAAAIIIIAAAggggAACCCCAAAIIRCJAEBeJHn2piGMOIIAAAggggAACCCCAAAIIIIAAAh4FCOI8QtEsXQGCOCYGAggggAACCCCAAAIIIIAAAggg4FGAIM4jFM0I4pgDCCCAAAIIIIAAAggggAACCCCAQCQCBHGR6NGXijjmAAIIIIAAAggggAACCCCAAAIIIOBRgCDOIxTN0hXIsyBu3rx5ateunSZOnKj69evzeRBAAAEEEEAAAQQQQAABBBBAAIEzXmDVqlW66aabNHfuXLVt2/aMf14e8MwSyLMg7u2337YTlwsBBBBAAAEEEEAAAQQQQAABBBA42wRMYVGvXr3OtsfmefNYIM+CuF27dmnGjBmqVq2aChYsmMcM3B4BBBBAAAEEEEAAAQQQQAABBBDIXODIkSNav369unXrptKlS2fegRYIHCeQZ0EcXwEBBBBAAAEEEEAAAQQQQAABBBBAAIFoEiCIi6avzbsigAACCCCAAAIIIIAAAggggAACCOSZAEFcntFzYwQQQAABBBBAAAEEEEAAAQQQQACBaBIgiIumr827IoAAAggggAACCCCAAAIIIIAAAgjkmQBBXJ7Rc2MEEEAAAQQQQAABBBBAAAEEEEAAgWgSIIiLpq/NuyKAAAIIIIAAAggggAACCCCAAAII5JkAQVye0XNjBBBAAAEEEEAAAQQQQAABBBBAAIFoEiCIi6avzbsigAACCCCAAAIIIIAAAggggAACCOSZAEFcntFzYwQQQAABBBBAAAEEEEAAAQQQQACBaBIgiIumr827IoAAAggggAACCCCAAAIIIIAAAgjkmUCuBnGPf/24hs4eKvcxN89eMNIbf73+a3V6q5Nm9Z6ljtU6Rjoc/RFAAAEEEEAAAQQQQAABBBBAAAEEolQgHMSt3rVaw+cM1/xN87V5/2YVjS+qxOKJal+1vQa3HawKRStkmeh0BHFr967Vv5b9S1fWu1JNyzfN8jNm1oEgLjMh/o4AAggggAACCCCAAAIIIIAAAggg4EXABnHfbf7OVn2VKFBCfc7poxola2j3kd1avn25Pvz5Q31848fZqgY7HUHcl2u/VJd/d9GEKyaoT9M+Xt45S20I4rLERWMEEEAAAQQQQAABBBBAAAEEEEAAgVMI2CDusv9cptnrZ2v1HatVuVjlNE0PJh9UIBhQ8QLFs4xIEJdlMjoggAACCCCAAAIIIIAAAggggAACCORTARvE1Xu5ngrEFNDSgUs9vebhlMN6eu7TmrRyktb/sV7F44vr4loXa8SFI9IEeacK4lbuWGn3jpu1fpb2J+1X9RLVdWuzW3V367vlc3xpnmHuxrkaMWeETNXekdQjqlq8qi6tdalGXTxKby59U32n9T3pmR/r8Jge7/i4/X334d36xzf/0NTVU7XlwBaVKVxGV9W7Sk90fsJWAB5/meq3B758wFYClipYSr3P6W0rAbtO7Jpmj7iUQIrW7F1j3zuzJbuhirqx3ccqNZiq5759Tpv2b1L90vU1qtsodareKc0zGA/jNnnVZG09sNWOf039a+z7mOXCoStku3zgco1fMl5v//i2TGjaoVoHvX7Z60oskZhm3Kw4eJoENEIAAQQQQAABBBBAAAEEEEAAAQQQyJKADeIuefsSzVo3SzN7z1SbKm0yHCA5kGyXsS7ZukS3nHuLGpdrrI37NuqVha+oaFxR/TDgB5UuVNqOkV4QZwK1i/51kQ3sTNBVsmBJG8i9u/Jd3dbiNr162avh+7+z4h31mtLLhlFmyWyV4lW0Zs8avfvTu1p31zqZ/eHGLh6rp+Y9pf7N+qt9Ynvbt0m5JvZfe4/s1fnjzteuw7vUv3l/u+TW7IX32qLXbBA2/5b5io+Jt32+3fStfa+yhctqQPMBNpicsHSC4v3xWrJtSZogzoSP1V+obp//zSvfzNArFMS1qNhC+47us2Zx/jiNXjDaPt+Gv22wBuYytu3Gt9PCLQvVt2lfmT6Ltiyyz9Gqcit90+cbxfpj09iaNiYQNHvkbTu4Tc/Pf17NKzbXnL5zws+VFYcszR4aI4AAAggggAACCCCAAAIIIIAAAgh4FrBB3JwNc9T5X51txZY58KBdlXY2+OlSs4sNpo6/np33rB6a+ZANhVpXaR3+09JtS9XijRa6v839evKiJ9OERaFTU13XVZPXm9hwa97/zguHYKbxfZ/fZ0Oknwb9pHql6+lA0gFVHV1VCQUTtOjWReGwyrQNusFw5VxGe8QN+mSQJv44UT/0/0E1E2qGn/XjXz5W9/92t5VjA1oMsL+3GtdKK3asSLM81zyDeV4TvB1/amp2griKRStq1aBVKhZfzN7PeJ075ly9cukrur3l7fa31xa+pts/vV1PXfiUHmj3QPh5TfXhkK+GpHneUMjZvU53TbthmhzHse1Hfzdad8+4WytvX6kGZRrY37Li4Hnm0BABBBBAAAEEEEAAAQQQQAABBBBAIEsC4VNTTeWVWTY5Y80M/XH0DztIjC/GVqmN7DoyXInVbEwzW9FlDnA48Wo/ob2KxBXRwlsX2j+dWBFnlnye8/o5Gt1ttHo16ZWm+7Jty3TRvy/Sy5e8rEHnDdKUVVN09btXyyzp7Nes3ylf6lRBnAn9yjxbRp2rd05TZRcaqNroarqk9iV679r3tOPQDpV7rpz6ndtPY3uMTXOvp+Y+pQe/ejBNEJcV4VBF3JC2Q8IBZah/8aeK23uO7DbS/mQqE00ouvP+nSoYWzB8myMpR1T62dLqkNhBn/b6NI3t9F7T1a1Wt3BbU6nY7I1m+vCGD9W9bndlxSEr70VbBBBAAAEEEEAAAQQQQAABBBBAAIGsCYSDuFA3E9z8uudXfbX2K42cP9LuhTa041A92uFR26TQ8EJ2r7ZTXWYPN7Pc0lwnBnFm+en171+f4RM+esGjGtppqN2DzlSBfd/ve7Ws1PKUfU4VxIXCtYxudkHiBZrdZ7bdf671P1vruS7P6d4296bpMm31NF35zpURB3HHV9+FbmDCQLNHnDnx1Vxmrz6z9PTH23486bEbvdpIATdgq+qOt109aLXqlq4bbh+q1nvzijfVu2nvcMjoxSFrU4fWCCCAAAIIIIAAAggggAACCCCAAAJZETgpiDu+s9ngv+aLNVWqUCmtuXON/VOBJwqoWYVmGtZpWLr3MXurtavaLk1YFFqaOmnFJPWc3FPmMIVQmxMHMQc3mGWkkQZxZr+0CiMr2L3TBrUclO6zmsMazB5r8zfNV5vxbWzl3z2t70nT1hzycNU7V0UcxKVX2WeCOHMYRGifucyCOLMk1yzdPT6I+/Wvv6pWQq2TgjgT7vVp2sfuG+fVISsTh7YIIIAAAggggAACCCCAAAIIIIAAAlkTyDCIM0M1f6O5zCmnRx85akdu/FpjmVNDV9+xOtM7nVgRt3jLYrUY20JPXvikhrQbkmF/r0tTTeWeWdIaCp5CgwaCAZV6ppTd6276TdMzvNf2g9tVfmT5XF2a6iWICy1N3TV4lz0sInQdTT2q0s+UtieifnLjJ1kK4rLikOkHpQECCCCAAAIIIIAAAggggAACCCCAQLYFbBBnlnd2qtZJfp8/zUDmVFKzJNIsfVwyYIn925NznrSHNZwYfJm/mWWt5oTSMoXLpAmLQhVxpqKr4asN7WmhywYuU7ki5dLczxyOYJZmmhDqYPJBVR1V1VbjmT3nTPVa6DL3CR1OEFpW+nzX53V367vTjDfgowEa+8NYffk/X9q94o6/TEC1L2mfPQzCXOZ0VRM4moDRnOhqrlMd1mCCSLNk15xWak50zegK7RHnJYh7fdHruu2T2/Rsl2d1X5v7wsOaAzIGfzlYYy4fY09/NVco5MysIs60zYpDtmcSHRFAAAEEEEAAAQQQQAABBBBAAAEEMhSwQZwJ28wBDVfUvUKNyjayhzT8svsXvbXsLe05sseeynlZncvsQEmpSery7y6as3GOrmlwjT1h1YRn6/au07Sfp+m6htfpic5PpAmLQkGc+XHB5gW2v+lzy7m3qHZCbe09uteeWGqq4JYOXBpeavnOind045QbValoJfVt2tcGZGYPtEkrJ4WXypqwzBy0YP5mTmwtGl/UvoP5l3n2tuPb6rc9v+nmJjereYXmdp8188/mXo93fDx8EMTcjXPV+a3ONhwc2HygPdF1wtIJ9oTXJduWRHxqqpcgLjmQrHbj28kcnGHe1yybNf/ZPMf5lc+3J9Uat6wGcVlx4L8vCCCAAAIIIIAAAggggAACCCCAAAK5I2CDuBm/zbDB1LxN8/T7gd9tNVrZwmXVunJr3dv6XrWu0jrN3U0YN/q70frPiv/YwC7WF2uDMFN1NrDFQBuCHR8WHR/Emd9/3f2rhs8Zri/WfqGdh3baqrTapWqrR50euuO8O9KcGDp7/WzbdsHvC+ySWHMYxGW1LwufNGrGe2/le3p89uN23JRgit2DzoRs5tp3dJ+enve0Jq+arA1/bLBjmzG61exm945LLJEYfreZ62ZqyJdDZE53NZV4fc7pY/dw6zqx62kJ4syD7E/ar8dmPab3V71v93crX6S8rm1wrT0ww4SMoSsrFXFZdcidqcaoCCCAAAIIIIAAAggggAACCCCAQHQLZLpHXHTz8PYIIIAAAggggAACCCCAAAIIIIAAAgjkjABBXM44MgoCCCCAAAIIIIAAAggggAACCCCAAAIZChDEMUEQQAABBBBAAAEEEEAAAQQQQAABBBA4DQIEcacBmVsggAACCCCAAAIIIIAAAggggAACCCBAEMccQAABBBBAAAEEEEAAAQQQQAABBBBA4DQI/B++ctPSGWn8fwAAAABJRU5ErkJggg==\" width=\"1000\">"
      ],
      "text/plain": [
       "<IPython.core.display.HTML object>"
      ]
     },
     "metadata": {},
     "output_type": "display_data"
    }
   ],
   "source": [
    "plot_ax = create_plot(df_2D)"
   ]
  },
  {
   "cell_type": "markdown",
   "metadata": {},
   "source": [
    "##  Selected Points Details\n",
    "Click the **Print** button below to display detailed data values of the points selected in the DR plot.  The selected points are Green."
   ]
  },
  {
   "cell_type": "code",
   "execution_count": 19,
   "metadata": {
    "scrolled": false
   },
   "outputs": [
    {
     "data": {
      "application/vnd.jupyter.widget-view+json": {
       "model_id": "122c24671a6a42b2800f5d715837343b",
       "version_major": 2,
       "version_minor": 0
      },
      "text/plain": [
       "Button(description='Print selected points', style=ButtonStyle())"
      ]
     },
     "metadata": {},
     "output_type": "display_data"
    },
    {
     "data": {
      "application/vnd.jupyter.widget-view+json": {
       "model_id": "52ca24ffc0554ee48672064274ad5abb",
       "version_major": 2,
       "version_minor": 0
      },
      "text/plain": [
       "Output()"
      ]
     },
     "metadata": {},
     "output_type": "display_data"
    }
   ],
   "source": [
    "dod = create_detail_display()"
   ]
  },
  {
   "cell_type": "markdown",
   "metadata": {},
   "source": [
    "## Inverse Dimension Reduction\n",
    "After selecting and/or dragging some points in the DR plot, click the **Learn** button to machine learn new dimension weights that would produce a plot with similar pairwise distances as your plot.  **Only the Green selected points** in the plot are considered when learning new weights. You must select or move at least two points to specify new desired distances. Use this to create your own clusters, and find out what makes some data points similar to or different from others.  The **learned weights** are shown in a bar chart below.\n",
    "\n",
    "To see the effects of the learned weights, click the **Copy** button to apply the learned weights to the sliders and  make a new DR plot above."
   ]
  },
  {
   "cell_type": "code",
   "execution_count": 20,
   "metadata": {
    "scrolled": false
   },
   "outputs": [
    {
     "data": {
      "application/vnd.jupyter.widget-view+json": {
       "model_id": "21134710ba4c4d55a802a4defbca19b0",
       "version_major": 2,
       "version_minor": 0
      },
      "text/plain": [
       "Button(description='Learn New Weights', style=ButtonStyle())"
      ]
     },
     "metadata": {},
     "output_type": "display_data"
    },
    {
     "data": {
      "application/vnd.jupyter.widget-view+json": {
       "model_id": "14f87aedd7b64f49856016c0ba5793ab",
       "version_major": 2,
       "version_minor": 0
      },
      "text/plain": [
       "Button(description='Copy to Sliders', style=ButtonStyle())"
      ]
     },
     "metadata": {},
     "output_type": "display_data"
    },
    {
     "data": {
      "application/javascript": [
       "/* Put everything inside the global mpl namespace */\n",
       "/* global mpl */\n",
       "window.mpl = {};\n",
       "\n",
       "mpl.get_websocket_type = function () {\n",
       "    if (typeof WebSocket !== 'undefined') {\n",
       "        return WebSocket;\n",
       "    } else if (typeof MozWebSocket !== 'undefined') {\n",
       "        return MozWebSocket;\n",
       "    } else {\n",
       "        alert(\n",
       "            'Your browser does not have WebSocket support. ' +\n",
       "                'Please try Chrome, Safari or Firefox ≥ 6. ' +\n",
       "                'Firefox 4 and 5 are also supported but you ' +\n",
       "                'have to enable WebSockets in about:config.'\n",
       "        );\n",
       "    }\n",
       "};\n",
       "\n",
       "mpl.figure = function (figure_id, websocket, ondownload, parent_element) {\n",
       "    this.id = figure_id;\n",
       "\n",
       "    this.ws = websocket;\n",
       "\n",
       "    this.supports_binary = this.ws.binaryType !== undefined;\n",
       "\n",
       "    if (!this.supports_binary) {\n",
       "        var warnings = document.getElementById('mpl-warnings');\n",
       "        if (warnings) {\n",
       "            warnings.style.display = 'block';\n",
       "            warnings.textContent =\n",
       "                'This browser does not support binary websocket messages. ' +\n",
       "                'Performance may be slow.';\n",
       "        }\n",
       "    }\n",
       "\n",
       "    this.imageObj = new Image();\n",
       "\n",
       "    this.context = undefined;\n",
       "    this.message = undefined;\n",
       "    this.canvas = undefined;\n",
       "    this.rubberband_canvas = undefined;\n",
       "    this.rubberband_context = undefined;\n",
       "    this.format_dropdown = undefined;\n",
       "\n",
       "    this.image_mode = 'full';\n",
       "\n",
       "    this.root = document.createElement('div');\n",
       "    this.root.setAttribute('style', 'display: inline-block');\n",
       "    this._root_extra_style(this.root);\n",
       "\n",
       "    parent_element.appendChild(this.root);\n",
       "\n",
       "    this._init_header(this);\n",
       "    this._init_canvas(this);\n",
       "    this._init_toolbar(this);\n",
       "\n",
       "    var fig = this;\n",
       "\n",
       "    this.waiting = false;\n",
       "\n",
       "    this.ws.onopen = function () {\n",
       "        fig.send_message('supports_binary', { value: fig.supports_binary });\n",
       "        fig.send_message('send_image_mode', {});\n",
       "        if (fig.ratio !== 1) {\n",
       "            fig.send_message('set_dpi_ratio', { dpi_ratio: fig.ratio });\n",
       "        }\n",
       "        fig.send_message('refresh', {});\n",
       "    };\n",
       "\n",
       "    this.imageObj.onload = function () {\n",
       "        if (fig.image_mode === 'full') {\n",
       "            // Full images could contain transparency (where diff images\n",
       "            // almost always do), so we need to clear the canvas so that\n",
       "            // there is no ghosting.\n",
       "            fig.context.clearRect(0, 0, fig.canvas.width, fig.canvas.height);\n",
       "        }\n",
       "        fig.context.drawImage(fig.imageObj, 0, 0);\n",
       "    };\n",
       "\n",
       "    this.imageObj.onunload = function () {\n",
       "        fig.ws.close();\n",
       "    };\n",
       "\n",
       "    this.ws.onmessage = this._make_on_message_function(this);\n",
       "\n",
       "    this.ondownload = ondownload;\n",
       "};\n",
       "\n",
       "mpl.figure.prototype._init_header = function () {\n",
       "    var titlebar = document.createElement('div');\n",
       "    titlebar.classList =\n",
       "        'ui-dialog-titlebar ui-widget-header ui-corner-all ui-helper-clearfix';\n",
       "    var titletext = document.createElement('div');\n",
       "    titletext.classList = 'ui-dialog-title';\n",
       "    titletext.setAttribute(\n",
       "        'style',\n",
       "        'width: 100%; text-align: center; padding: 3px;'\n",
       "    );\n",
       "    titlebar.appendChild(titletext);\n",
       "    this.root.appendChild(titlebar);\n",
       "    this.header = titletext;\n",
       "};\n",
       "\n",
       "mpl.figure.prototype._canvas_extra_style = function (_canvas_div) {};\n",
       "\n",
       "mpl.figure.prototype._root_extra_style = function (_canvas_div) {};\n",
       "\n",
       "mpl.figure.prototype._init_canvas = function () {\n",
       "    var fig = this;\n",
       "\n",
       "    var canvas_div = (this.canvas_div = document.createElement('div'));\n",
       "    canvas_div.setAttribute(\n",
       "        'style',\n",
       "        'border: 1px solid #ddd;' +\n",
       "            'box-sizing: content-box;' +\n",
       "            'clear: both;' +\n",
       "            'min-height: 1px;' +\n",
       "            'min-width: 1px;' +\n",
       "            'outline: 0;' +\n",
       "            'overflow: hidden;' +\n",
       "            'position: relative;' +\n",
       "            'resize: both;'\n",
       "    );\n",
       "\n",
       "    function on_keyboard_event_closure(name) {\n",
       "        return function (event) {\n",
       "            return fig.key_event(event, name);\n",
       "        };\n",
       "    }\n",
       "\n",
       "    canvas_div.addEventListener(\n",
       "        'keydown',\n",
       "        on_keyboard_event_closure('key_press')\n",
       "    );\n",
       "    canvas_div.addEventListener(\n",
       "        'keyup',\n",
       "        on_keyboard_event_closure('key_release')\n",
       "    );\n",
       "\n",
       "    this._canvas_extra_style(canvas_div);\n",
       "    this.root.appendChild(canvas_div);\n",
       "\n",
       "    var canvas = (this.canvas = document.createElement('canvas'));\n",
       "    canvas.classList.add('mpl-canvas');\n",
       "    canvas.setAttribute('style', 'box-sizing: content-box;');\n",
       "\n",
       "    this.context = canvas.getContext('2d');\n",
       "\n",
       "    var backingStore =\n",
       "        this.context.backingStorePixelRatio ||\n",
       "        this.context.webkitBackingStorePixelRatio ||\n",
       "        this.context.mozBackingStorePixelRatio ||\n",
       "        this.context.msBackingStorePixelRatio ||\n",
       "        this.context.oBackingStorePixelRatio ||\n",
       "        this.context.backingStorePixelRatio ||\n",
       "        1;\n",
       "\n",
       "    this.ratio = (window.devicePixelRatio || 1) / backingStore;\n",
       "    if (this.ratio !== 1) {\n",
       "        fig.send_message('set_dpi_ratio', { dpi_ratio: this.ratio });\n",
       "    }\n",
       "\n",
       "    var rubberband_canvas = (this.rubberband_canvas = document.createElement(\n",
       "        'canvas'\n",
       "    ));\n",
       "    rubberband_canvas.setAttribute(\n",
       "        'style',\n",
       "        'box-sizing: content-box; position: absolute; left: 0; top: 0; z-index: 1;'\n",
       "    );\n",
       "\n",
       "    var resizeObserver = new ResizeObserver(function (entries) {\n",
       "        var nentries = entries.length;\n",
       "        for (var i = 0; i < nentries; i++) {\n",
       "            var entry = entries[i];\n",
       "            var width, height;\n",
       "            if (entry.contentBoxSize) {\n",
       "                if (entry.contentBoxSize instanceof Array) {\n",
       "                    // Chrome 84 implements new version of spec.\n",
       "                    width = entry.contentBoxSize[0].inlineSize;\n",
       "                    height = entry.contentBoxSize[0].blockSize;\n",
       "                } else {\n",
       "                    // Firefox implements old version of spec.\n",
       "                    width = entry.contentBoxSize.inlineSize;\n",
       "                    height = entry.contentBoxSize.blockSize;\n",
       "                }\n",
       "            } else {\n",
       "                // Chrome <84 implements even older version of spec.\n",
       "                width = entry.contentRect.width;\n",
       "                height = entry.contentRect.height;\n",
       "            }\n",
       "\n",
       "            // Keep the size of the canvas and rubber band canvas in sync with\n",
       "            // the canvas container.\n",
       "            if (entry.devicePixelContentBoxSize) {\n",
       "                // Chrome 84 implements new version of spec.\n",
       "                canvas.setAttribute(\n",
       "                    'width',\n",
       "                    entry.devicePixelContentBoxSize[0].inlineSize\n",
       "                );\n",
       "                canvas.setAttribute(\n",
       "                    'height',\n",
       "                    entry.devicePixelContentBoxSize[0].blockSize\n",
       "                );\n",
       "            } else {\n",
       "                canvas.setAttribute('width', width * fig.ratio);\n",
       "                canvas.setAttribute('height', height * fig.ratio);\n",
       "            }\n",
       "            canvas.setAttribute(\n",
       "                'style',\n",
       "                'width: ' + width + 'px; height: ' + height + 'px;'\n",
       "            );\n",
       "\n",
       "            rubberband_canvas.setAttribute('width', width);\n",
       "            rubberband_canvas.setAttribute('height', height);\n",
       "\n",
       "            // And update the size in Python. We ignore the initial 0/0 size\n",
       "            // that occurs as the element is placed into the DOM, which should\n",
       "            // otherwise not happen due to the minimum size styling.\n",
       "            if (width != 0 && height != 0) {\n",
       "                fig.request_resize(width, height);\n",
       "            }\n",
       "        }\n",
       "    });\n",
       "    resizeObserver.observe(canvas_div);\n",
       "\n",
       "    function on_mouse_event_closure(name) {\n",
       "        return function (event) {\n",
       "            return fig.mouse_event(event, name);\n",
       "        };\n",
       "    }\n",
       "\n",
       "    rubberband_canvas.addEventListener(\n",
       "        'mousedown',\n",
       "        on_mouse_event_closure('button_press')\n",
       "    );\n",
       "    rubberband_canvas.addEventListener(\n",
       "        'mouseup',\n",
       "        on_mouse_event_closure('button_release')\n",
       "    );\n",
       "    // Throttle sequential mouse events to 1 every 20ms.\n",
       "    rubberband_canvas.addEventListener(\n",
       "        'mousemove',\n",
       "        on_mouse_event_closure('motion_notify')\n",
       "    );\n",
       "\n",
       "    rubberband_canvas.addEventListener(\n",
       "        'mouseenter',\n",
       "        on_mouse_event_closure('figure_enter')\n",
       "    );\n",
       "    rubberband_canvas.addEventListener(\n",
       "        'mouseleave',\n",
       "        on_mouse_event_closure('figure_leave')\n",
       "    );\n",
       "\n",
       "    canvas_div.addEventListener('wheel', function (event) {\n",
       "        if (event.deltaY < 0) {\n",
       "            event.step = 1;\n",
       "        } else {\n",
       "            event.step = -1;\n",
       "        }\n",
       "        on_mouse_event_closure('scroll')(event);\n",
       "    });\n",
       "\n",
       "    canvas_div.appendChild(canvas);\n",
       "    canvas_div.appendChild(rubberband_canvas);\n",
       "\n",
       "    this.rubberband_context = rubberband_canvas.getContext('2d');\n",
       "    this.rubberband_context.strokeStyle = '#000000';\n",
       "\n",
       "    this._resize_canvas = function (width, height, forward) {\n",
       "        if (forward) {\n",
       "            canvas_div.style.width = width + 'px';\n",
       "            canvas_div.style.height = height + 'px';\n",
       "        }\n",
       "    };\n",
       "\n",
       "    // Disable right mouse context menu.\n",
       "    this.rubberband_canvas.addEventListener('contextmenu', function (_e) {\n",
       "        event.preventDefault();\n",
       "        return false;\n",
       "    });\n",
       "\n",
       "    function set_focus() {\n",
       "        canvas.focus();\n",
       "        canvas_div.focus();\n",
       "    }\n",
       "\n",
       "    window.setTimeout(set_focus, 100);\n",
       "};\n",
       "\n",
       "mpl.figure.prototype._init_toolbar = function () {\n",
       "    var fig = this;\n",
       "\n",
       "    var toolbar = document.createElement('div');\n",
       "    toolbar.classList = 'mpl-toolbar';\n",
       "    this.root.appendChild(toolbar);\n",
       "\n",
       "    function on_click_closure(name) {\n",
       "        return function (_event) {\n",
       "            return fig.toolbar_button_onclick(name);\n",
       "        };\n",
       "    }\n",
       "\n",
       "    function on_mouseover_closure(tooltip) {\n",
       "        return function (event) {\n",
       "            if (!event.currentTarget.disabled) {\n",
       "                return fig.toolbar_button_onmouseover(tooltip);\n",
       "            }\n",
       "        };\n",
       "    }\n",
       "\n",
       "    fig.buttons = {};\n",
       "    var buttonGroup = document.createElement('div');\n",
       "    buttonGroup.classList = 'mpl-button-group';\n",
       "    for (var toolbar_ind in mpl.toolbar_items) {\n",
       "        var name = mpl.toolbar_items[toolbar_ind][0];\n",
       "        var tooltip = mpl.toolbar_items[toolbar_ind][1];\n",
       "        var image = mpl.toolbar_items[toolbar_ind][2];\n",
       "        var method_name = mpl.toolbar_items[toolbar_ind][3];\n",
       "\n",
       "        if (!name) {\n",
       "            /* Instead of a spacer, we start a new button group. */\n",
       "            if (buttonGroup.hasChildNodes()) {\n",
       "                toolbar.appendChild(buttonGroup);\n",
       "            }\n",
       "            buttonGroup = document.createElement('div');\n",
       "            buttonGroup.classList = 'mpl-button-group';\n",
       "            continue;\n",
       "        }\n",
       "\n",
       "        var button = (fig.buttons[name] = document.createElement('button'));\n",
       "        button.classList = 'mpl-widget';\n",
       "        button.setAttribute('role', 'button');\n",
       "        button.setAttribute('aria-disabled', 'false');\n",
       "        button.addEventListener('click', on_click_closure(method_name));\n",
       "        button.addEventListener('mouseover', on_mouseover_closure(tooltip));\n",
       "\n",
       "        var icon_img = document.createElement('img');\n",
       "        icon_img.src = '_images/' + image + '.png';\n",
       "        icon_img.srcset = '_images/' + image + '_large.png 2x';\n",
       "        icon_img.alt = tooltip;\n",
       "        button.appendChild(icon_img);\n",
       "\n",
       "        buttonGroup.appendChild(button);\n",
       "    }\n",
       "\n",
       "    if (buttonGroup.hasChildNodes()) {\n",
       "        toolbar.appendChild(buttonGroup);\n",
       "    }\n",
       "\n",
       "    var fmt_picker = document.createElement('select');\n",
       "    fmt_picker.classList = 'mpl-widget';\n",
       "    toolbar.appendChild(fmt_picker);\n",
       "    this.format_dropdown = fmt_picker;\n",
       "\n",
       "    for (var ind in mpl.extensions) {\n",
       "        var fmt = mpl.extensions[ind];\n",
       "        var option = document.createElement('option');\n",
       "        option.selected = fmt === mpl.default_extension;\n",
       "        option.innerHTML = fmt;\n",
       "        fmt_picker.appendChild(option);\n",
       "    }\n",
       "\n",
       "    var status_bar = document.createElement('span');\n",
       "    status_bar.classList = 'mpl-message';\n",
       "    toolbar.appendChild(status_bar);\n",
       "    this.message = status_bar;\n",
       "};\n",
       "\n",
       "mpl.figure.prototype.request_resize = function (x_pixels, y_pixels) {\n",
       "    // Request matplotlib to resize the figure. Matplotlib will then trigger a resize in the client,\n",
       "    // which will in turn request a refresh of the image.\n",
       "    this.send_message('resize', { width: x_pixels, height: y_pixels });\n",
       "};\n",
       "\n",
       "mpl.figure.prototype.send_message = function (type, properties) {\n",
       "    properties['type'] = type;\n",
       "    properties['figure_id'] = this.id;\n",
       "    this.ws.send(JSON.stringify(properties));\n",
       "};\n",
       "\n",
       "mpl.figure.prototype.send_draw_message = function () {\n",
       "    if (!this.waiting) {\n",
       "        this.waiting = true;\n",
       "        this.ws.send(JSON.stringify({ type: 'draw', figure_id: this.id }));\n",
       "    }\n",
       "};\n",
       "\n",
       "mpl.figure.prototype.handle_save = function (fig, _msg) {\n",
       "    var format_dropdown = fig.format_dropdown;\n",
       "    var format = format_dropdown.options[format_dropdown.selectedIndex].value;\n",
       "    fig.ondownload(fig, format);\n",
       "};\n",
       "\n",
       "mpl.figure.prototype.handle_resize = function (fig, msg) {\n",
       "    var size = msg['size'];\n",
       "    if (size[0] !== fig.canvas.width || size[1] !== fig.canvas.height) {\n",
       "        fig._resize_canvas(size[0], size[1], msg['forward']);\n",
       "        fig.send_message('refresh', {});\n",
       "    }\n",
       "};\n",
       "\n",
       "mpl.figure.prototype.handle_rubberband = function (fig, msg) {\n",
       "    var x0 = msg['x0'] / fig.ratio;\n",
       "    var y0 = (fig.canvas.height - msg['y0']) / fig.ratio;\n",
       "    var x1 = msg['x1'] / fig.ratio;\n",
       "    var y1 = (fig.canvas.height - msg['y1']) / fig.ratio;\n",
       "    x0 = Math.floor(x0) + 0.5;\n",
       "    y0 = Math.floor(y0) + 0.5;\n",
       "    x1 = Math.floor(x1) + 0.5;\n",
       "    y1 = Math.floor(y1) + 0.5;\n",
       "    var min_x = Math.min(x0, x1);\n",
       "    var min_y = Math.min(y0, y1);\n",
       "    var width = Math.abs(x1 - x0);\n",
       "    var height = Math.abs(y1 - y0);\n",
       "\n",
       "    fig.rubberband_context.clearRect(\n",
       "        0,\n",
       "        0,\n",
       "        fig.canvas.width / fig.ratio,\n",
       "        fig.canvas.height / fig.ratio\n",
       "    );\n",
       "\n",
       "    fig.rubberband_context.strokeRect(min_x, min_y, width, height);\n",
       "};\n",
       "\n",
       "mpl.figure.prototype.handle_figure_label = function (fig, msg) {\n",
       "    // Updates the figure title.\n",
       "    fig.header.textContent = msg['label'];\n",
       "};\n",
       "\n",
       "mpl.figure.prototype.handle_cursor = function (fig, msg) {\n",
       "    var cursor = msg['cursor'];\n",
       "    switch (cursor) {\n",
       "        case 0:\n",
       "            cursor = 'pointer';\n",
       "            break;\n",
       "        case 1:\n",
       "            cursor = 'default';\n",
       "            break;\n",
       "        case 2:\n",
       "            cursor = 'crosshair';\n",
       "            break;\n",
       "        case 3:\n",
       "            cursor = 'move';\n",
       "            break;\n",
       "    }\n",
       "    fig.rubberband_canvas.style.cursor = cursor;\n",
       "};\n",
       "\n",
       "mpl.figure.prototype.handle_message = function (fig, msg) {\n",
       "    fig.message.textContent = msg['message'];\n",
       "};\n",
       "\n",
       "mpl.figure.prototype.handle_draw = function (fig, _msg) {\n",
       "    // Request the server to send over a new figure.\n",
       "    fig.send_draw_message();\n",
       "};\n",
       "\n",
       "mpl.figure.prototype.handle_image_mode = function (fig, msg) {\n",
       "    fig.image_mode = msg['mode'];\n",
       "};\n",
       "\n",
       "mpl.figure.prototype.handle_history_buttons = function (fig, msg) {\n",
       "    for (var key in msg) {\n",
       "        if (!(key in fig.buttons)) {\n",
       "            continue;\n",
       "        }\n",
       "        fig.buttons[key].disabled = !msg[key];\n",
       "        fig.buttons[key].setAttribute('aria-disabled', !msg[key]);\n",
       "    }\n",
       "};\n",
       "\n",
       "mpl.figure.prototype.handle_navigate_mode = function (fig, msg) {\n",
       "    if (msg['mode'] === 'PAN') {\n",
       "        fig.buttons['Pan'].classList.add('active');\n",
       "        fig.buttons['Zoom'].classList.remove('active');\n",
       "    } else if (msg['mode'] === 'ZOOM') {\n",
       "        fig.buttons['Pan'].classList.remove('active');\n",
       "        fig.buttons['Zoom'].classList.add('active');\n",
       "    } else {\n",
       "        fig.buttons['Pan'].classList.remove('active');\n",
       "        fig.buttons['Zoom'].classList.remove('active');\n",
       "    }\n",
       "};\n",
       "\n",
       "mpl.figure.prototype.updated_canvas_event = function () {\n",
       "    // Called whenever the canvas gets updated.\n",
       "    this.send_message('ack', {});\n",
       "};\n",
       "\n",
       "// A function to construct a web socket function for onmessage handling.\n",
       "// Called in the figure constructor.\n",
       "mpl.figure.prototype._make_on_message_function = function (fig) {\n",
       "    return function socket_on_message(evt) {\n",
       "        if (evt.data instanceof Blob) {\n",
       "            /* FIXME: We get \"Resource interpreted as Image but\n",
       "             * transferred with MIME type text/plain:\" errors on\n",
       "             * Chrome.  But how to set the MIME type?  It doesn't seem\n",
       "             * to be part of the websocket stream */\n",
       "            evt.data.type = 'image/png';\n",
       "\n",
       "            /* Free the memory for the previous frames */\n",
       "            if (fig.imageObj.src) {\n",
       "                (window.URL || window.webkitURL).revokeObjectURL(\n",
       "                    fig.imageObj.src\n",
       "                );\n",
       "            }\n",
       "\n",
       "            fig.imageObj.src = (window.URL || window.webkitURL).createObjectURL(\n",
       "                evt.data\n",
       "            );\n",
       "            fig.updated_canvas_event();\n",
       "            fig.waiting = false;\n",
       "            return;\n",
       "        } else if (\n",
       "            typeof evt.data === 'string' &&\n",
       "            evt.data.slice(0, 21) === 'data:image/png;base64'\n",
       "        ) {\n",
       "            fig.imageObj.src = evt.data;\n",
       "            fig.updated_canvas_event();\n",
       "            fig.waiting = false;\n",
       "            return;\n",
       "        }\n",
       "\n",
       "        var msg = JSON.parse(evt.data);\n",
       "        var msg_type = msg['type'];\n",
       "\n",
       "        // Call the  \"handle_{type}\" callback, which takes\n",
       "        // the figure and JSON message as its only arguments.\n",
       "        try {\n",
       "            var callback = fig['handle_' + msg_type];\n",
       "        } catch (e) {\n",
       "            console.log(\n",
       "                \"No handler for the '\" + msg_type + \"' message type: \",\n",
       "                msg\n",
       "            );\n",
       "            return;\n",
       "        }\n",
       "\n",
       "        if (callback) {\n",
       "            try {\n",
       "                // console.log(\"Handling '\" + msg_type + \"' message: \", msg);\n",
       "                callback(fig, msg);\n",
       "            } catch (e) {\n",
       "                console.log(\n",
       "                    \"Exception inside the 'handler_\" + msg_type + \"' callback:\",\n",
       "                    e,\n",
       "                    e.stack,\n",
       "                    msg\n",
       "                );\n",
       "            }\n",
       "        }\n",
       "    };\n",
       "};\n",
       "\n",
       "// from http://stackoverflow.com/questions/1114465/getting-mouse-location-in-canvas\n",
       "mpl.findpos = function (e) {\n",
       "    //this section is from http://www.quirksmode.org/js/events_properties.html\n",
       "    var targ;\n",
       "    if (!e) {\n",
       "        e = window.event;\n",
       "    }\n",
       "    if (e.target) {\n",
       "        targ = e.target;\n",
       "    } else if (e.srcElement) {\n",
       "        targ = e.srcElement;\n",
       "    }\n",
       "    if (targ.nodeType === 3) {\n",
       "        // defeat Safari bug\n",
       "        targ = targ.parentNode;\n",
       "    }\n",
       "\n",
       "    // pageX,Y are the mouse positions relative to the document\n",
       "    var boundingRect = targ.getBoundingClientRect();\n",
       "    var x = e.pageX - (boundingRect.left + document.body.scrollLeft);\n",
       "    var y = e.pageY - (boundingRect.top + document.body.scrollTop);\n",
       "\n",
       "    return { x: x, y: y };\n",
       "};\n",
       "\n",
       "/*\n",
       " * return a copy of an object with only non-object keys\n",
       " * we need this to avoid circular references\n",
       " * http://stackoverflow.com/a/24161582/3208463\n",
       " */\n",
       "function simpleKeys(original) {\n",
       "    return Object.keys(original).reduce(function (obj, key) {\n",
       "        if (typeof original[key] !== 'object') {\n",
       "            obj[key] = original[key];\n",
       "        }\n",
       "        return obj;\n",
       "    }, {});\n",
       "}\n",
       "\n",
       "mpl.figure.prototype.mouse_event = function (event, name) {\n",
       "    var canvas_pos = mpl.findpos(event);\n",
       "\n",
       "    if (name === 'button_press') {\n",
       "        this.canvas.focus();\n",
       "        this.canvas_div.focus();\n",
       "    }\n",
       "\n",
       "    var x = canvas_pos.x * this.ratio;\n",
       "    var y = canvas_pos.y * this.ratio;\n",
       "\n",
       "    this.send_message(name, {\n",
       "        x: x,\n",
       "        y: y,\n",
       "        button: event.button,\n",
       "        step: event.step,\n",
       "        guiEvent: simpleKeys(event),\n",
       "    });\n",
       "\n",
       "    /* This prevents the web browser from automatically changing to\n",
       "     * the text insertion cursor when the button is pressed.  We want\n",
       "     * to control all of the cursor setting manually through the\n",
       "     * 'cursor' event from matplotlib */\n",
       "    event.preventDefault();\n",
       "    return false;\n",
       "};\n",
       "\n",
       "mpl.figure.prototype._key_event_extra = function (_event, _name) {\n",
       "    // Handle any extra behaviour associated with a key event\n",
       "};\n",
       "\n",
       "mpl.figure.prototype.key_event = function (event, name) {\n",
       "    // Prevent repeat events\n",
       "    if (name === 'key_press') {\n",
       "        if (event.which === this._key) {\n",
       "            return;\n",
       "        } else {\n",
       "            this._key = event.which;\n",
       "        }\n",
       "    }\n",
       "    if (name === 'key_release') {\n",
       "        this._key = null;\n",
       "    }\n",
       "\n",
       "    var value = '';\n",
       "    if (event.ctrlKey && event.which !== 17) {\n",
       "        value += 'ctrl+';\n",
       "    }\n",
       "    if (event.altKey && event.which !== 18) {\n",
       "        value += 'alt+';\n",
       "    }\n",
       "    if (event.shiftKey && event.which !== 16) {\n",
       "        value += 'shift+';\n",
       "    }\n",
       "\n",
       "    value += 'k';\n",
       "    value += event.which.toString();\n",
       "\n",
       "    this._key_event_extra(event, name);\n",
       "\n",
       "    this.send_message(name, { key: value, guiEvent: simpleKeys(event) });\n",
       "    return false;\n",
       "};\n",
       "\n",
       "mpl.figure.prototype.toolbar_button_onclick = function (name) {\n",
       "    if (name === 'download') {\n",
       "        this.handle_save(this, null);\n",
       "    } else {\n",
       "        this.send_message('toolbar_button', { name: name });\n",
       "    }\n",
       "};\n",
       "\n",
       "mpl.figure.prototype.toolbar_button_onmouseover = function (tooltip) {\n",
       "    this.message.textContent = tooltip;\n",
       "};\n",
       "mpl.toolbar_items = [[\"Home\", \"Reset original view\", \"fa fa-home icon-home\", \"home\"], [\"Back\", \"Back to previous view\", \"fa fa-arrow-left icon-arrow-left\", \"back\"], [\"Forward\", \"Forward to next view\", \"fa fa-arrow-right icon-arrow-right\", \"forward\"], [\"\", \"\", \"\", \"\"], [\"Pan\", \"Left button pans, Right button zooms\\nx/y fixes axis, CTRL fixes aspect\", \"fa fa-arrows icon-move\", \"pan\"], [\"Zoom\", \"Zoom to rectangle\\nx/y fixes axis, CTRL fixes aspect\", \"fa fa-square-o icon-check-empty\", \"zoom\"], [\"\", \"\", \"\", \"\"], [\"Download\", \"Download plot\", \"fa fa-floppy-o icon-save\", \"download\"]];\n",
       "\n",
       "mpl.extensions = [\"eps\", \"jpeg\", \"pdf\", \"png\", \"ps\", \"raw\", \"svg\", \"tif\"];\n",
       "\n",
       "mpl.default_extension = \"png\";/* global mpl */\n",
       "\n",
       "var comm_websocket_adapter = function (comm) {\n",
       "    // Create a \"websocket\"-like object which calls the given IPython comm\n",
       "    // object with the appropriate methods. Currently this is a non binary\n",
       "    // socket, so there is still some room for performance tuning.\n",
       "    var ws = {};\n",
       "\n",
       "    ws.close = function () {\n",
       "        comm.close();\n",
       "    };\n",
       "    ws.send = function (m) {\n",
       "        //console.log('sending', m);\n",
       "        comm.send(m);\n",
       "    };\n",
       "    // Register the callback with on_msg.\n",
       "    comm.on_msg(function (msg) {\n",
       "        //console.log('receiving', msg['content']['data'], msg);\n",
       "        // Pass the mpl event to the overridden (by mpl) onmessage function.\n",
       "        ws.onmessage(msg['content']['data']);\n",
       "    });\n",
       "    return ws;\n",
       "};\n",
       "\n",
       "mpl.mpl_figure_comm = function (comm, msg) {\n",
       "    // This is the function which gets called when the mpl process\n",
       "    // starts-up an IPython Comm through the \"matplotlib\" channel.\n",
       "\n",
       "    var id = msg.content.data.id;\n",
       "    // Get hold of the div created by the display call when the Comm\n",
       "    // socket was opened in Python.\n",
       "    var element = document.getElementById(id);\n",
       "    var ws_proxy = comm_websocket_adapter(comm);\n",
       "\n",
       "    function ondownload(figure, _format) {\n",
       "        window.open(figure.canvas.toDataURL());\n",
       "    }\n",
       "\n",
       "    var fig = new mpl.figure(id, ws_proxy, ondownload, element);\n",
       "\n",
       "    // Call onopen now - mpl needs it, as it is assuming we've passed it a real\n",
       "    // web socket which is closed, not our websocket->open comm proxy.\n",
       "    ws_proxy.onopen();\n",
       "\n",
       "    fig.parent_element = element;\n",
       "    fig.cell_info = mpl.find_output_cell(\"<div id='\" + id + \"'></div>\");\n",
       "    if (!fig.cell_info) {\n",
       "        console.error('Failed to find cell for figure', id, fig);\n",
       "        return;\n",
       "    }\n",
       "    fig.cell_info[0].output_area.element.one(\n",
       "        'cleared',\n",
       "        { fig: fig },\n",
       "        fig._remove_fig_handler\n",
       "    );\n",
       "};\n",
       "\n",
       "mpl.figure.prototype.handle_close = function (fig, msg) {\n",
       "    var width = fig.canvas.width / fig.ratio;\n",
       "    fig.cell_info[0].output_area.element.off(\n",
       "        'cleared',\n",
       "        fig._remove_fig_handler\n",
       "    );\n",
       "\n",
       "    // Update the output cell to use the data from the current canvas.\n",
       "    fig.push_to_output();\n",
       "    var dataURL = fig.canvas.toDataURL();\n",
       "    // Re-enable the keyboard manager in IPython - without this line, in FF,\n",
       "    // the notebook keyboard shortcuts fail.\n",
       "    IPython.keyboard_manager.enable();\n",
       "    fig.parent_element.innerHTML =\n",
       "        '<img src=\"' + dataURL + '\" width=\"' + width + '\">';\n",
       "    fig.close_ws(fig, msg);\n",
       "};\n",
       "\n",
       "mpl.figure.prototype.close_ws = function (fig, msg) {\n",
       "    fig.send_message('closing', msg);\n",
       "    // fig.ws.close()\n",
       "};\n",
       "\n",
       "mpl.figure.prototype.push_to_output = function (_remove_interactive) {\n",
       "    // Turn the data on the canvas into data in the output cell.\n",
       "    var width = this.canvas.width / this.ratio;\n",
       "    var dataURL = this.canvas.toDataURL();\n",
       "    this.cell_info[1]['text/html'] =\n",
       "        '<img src=\"' + dataURL + '\" width=\"' + width + '\">';\n",
       "};\n",
       "\n",
       "mpl.figure.prototype.updated_canvas_event = function () {\n",
       "    // Tell IPython that the notebook contents must change.\n",
       "    IPython.notebook.set_dirty(true);\n",
       "    this.send_message('ack', {});\n",
       "    var fig = this;\n",
       "    // Wait a second, then push the new image to the DOM so\n",
       "    // that it is saved nicely (might be nice to debounce this).\n",
       "    setTimeout(function () {\n",
       "        fig.push_to_output();\n",
       "    }, 1000);\n",
       "};\n",
       "\n",
       "mpl.figure.prototype._init_toolbar = function () {\n",
       "    var fig = this;\n",
       "\n",
       "    var toolbar = document.createElement('div');\n",
       "    toolbar.classList = 'btn-toolbar';\n",
       "    this.root.appendChild(toolbar);\n",
       "\n",
       "    function on_click_closure(name) {\n",
       "        return function (_event) {\n",
       "            return fig.toolbar_button_onclick(name);\n",
       "        };\n",
       "    }\n",
       "\n",
       "    function on_mouseover_closure(tooltip) {\n",
       "        return function (event) {\n",
       "            if (!event.currentTarget.disabled) {\n",
       "                return fig.toolbar_button_onmouseover(tooltip);\n",
       "            }\n",
       "        };\n",
       "    }\n",
       "\n",
       "    fig.buttons = {};\n",
       "    var buttonGroup = document.createElement('div');\n",
       "    buttonGroup.classList = 'btn-group';\n",
       "    var button;\n",
       "    for (var toolbar_ind in mpl.toolbar_items) {\n",
       "        var name = mpl.toolbar_items[toolbar_ind][0];\n",
       "        var tooltip = mpl.toolbar_items[toolbar_ind][1];\n",
       "        var image = mpl.toolbar_items[toolbar_ind][2];\n",
       "        var method_name = mpl.toolbar_items[toolbar_ind][3];\n",
       "\n",
       "        if (!name) {\n",
       "            /* Instead of a spacer, we start a new button group. */\n",
       "            if (buttonGroup.hasChildNodes()) {\n",
       "                toolbar.appendChild(buttonGroup);\n",
       "            }\n",
       "            buttonGroup = document.createElement('div');\n",
       "            buttonGroup.classList = 'btn-group';\n",
       "            continue;\n",
       "        }\n",
       "\n",
       "        button = fig.buttons[name] = document.createElement('button');\n",
       "        button.classList = 'btn btn-default';\n",
       "        button.href = '#';\n",
       "        button.title = name;\n",
       "        button.innerHTML = '<i class=\"fa ' + image + ' fa-lg\"></i>';\n",
       "        button.addEventListener('click', on_click_closure(method_name));\n",
       "        button.addEventListener('mouseover', on_mouseover_closure(tooltip));\n",
       "        buttonGroup.appendChild(button);\n",
       "    }\n",
       "\n",
       "    if (buttonGroup.hasChildNodes()) {\n",
       "        toolbar.appendChild(buttonGroup);\n",
       "    }\n",
       "\n",
       "    // Add the status bar.\n",
       "    var status_bar = document.createElement('span');\n",
       "    status_bar.classList = 'mpl-message pull-right';\n",
       "    toolbar.appendChild(status_bar);\n",
       "    this.message = status_bar;\n",
       "\n",
       "    // Add the close button to the window.\n",
       "    var buttongrp = document.createElement('div');\n",
       "    buttongrp.classList = 'btn-group inline pull-right';\n",
       "    button = document.createElement('button');\n",
       "    button.classList = 'btn btn-mini btn-primary';\n",
       "    button.href = '#';\n",
       "    button.title = 'Stop Interaction';\n",
       "    button.innerHTML = '<i class=\"fa fa-power-off icon-remove icon-large\"></i>';\n",
       "    button.addEventListener('click', function (_evt) {\n",
       "        fig.handle_close(fig, {});\n",
       "    });\n",
       "    button.addEventListener(\n",
       "        'mouseover',\n",
       "        on_mouseover_closure('Stop Interaction')\n",
       "    );\n",
       "    buttongrp.appendChild(button);\n",
       "    var titlebar = this.root.querySelector('.ui-dialog-titlebar');\n",
       "    titlebar.insertBefore(buttongrp, titlebar.firstChild);\n",
       "};\n",
       "\n",
       "mpl.figure.prototype._remove_fig_handler = function (event) {\n",
       "    var fig = event.data.fig;\n",
       "    fig.close_ws(fig, {});\n",
       "};\n",
       "\n",
       "mpl.figure.prototype._root_extra_style = function (el) {\n",
       "    el.style.boxSizing = 'content-box'; // override notebook setting of border-box.\n",
       "};\n",
       "\n",
       "mpl.figure.prototype._canvas_extra_style = function (el) {\n",
       "    // this is important to make the div 'focusable\n",
       "    el.setAttribute('tabindex', 0);\n",
       "    // reach out to IPython and tell the keyboard manager to turn it's self\n",
       "    // off when our div gets focus\n",
       "\n",
       "    // location in version 3\n",
       "    if (IPython.notebook.keyboard_manager) {\n",
       "        IPython.notebook.keyboard_manager.register_events(el);\n",
       "    } else {\n",
       "        // location in version 2\n",
       "        IPython.keyboard_manager.register_events(el);\n",
       "    }\n",
       "};\n",
       "\n",
       "mpl.figure.prototype._key_event_extra = function (event, _name) {\n",
       "    var manager = IPython.notebook.keyboard_manager;\n",
       "    if (!manager) {\n",
       "        manager = IPython.keyboard_manager;\n",
       "    }\n",
       "\n",
       "    // Check for shift+enter\n",
       "    if (event.shiftKey && event.which === 13) {\n",
       "        this.canvas_div.blur();\n",
       "        // select the cell after this one\n",
       "        var index = IPython.notebook.find_cell_index(this.cell_info[0]);\n",
       "        IPython.notebook.select(index + 1);\n",
       "    }\n",
       "};\n",
       "\n",
       "mpl.figure.prototype.handle_save = function (fig, _msg) {\n",
       "    fig.ondownload(fig, null);\n",
       "};\n",
       "\n",
       "mpl.find_output_cell = function (html_output) {\n",
       "    // Return the cell and output element which can be found *uniquely* in the notebook.\n",
       "    // Note - this is a bit hacky, but it is done because the \"notebook_saving.Notebook\"\n",
       "    // IPython event is triggered only after the cells have been serialised, which for\n",
       "    // our purposes (turning an active figure into a static one), is too late.\n",
       "    var cells = IPython.notebook.get_cells();\n",
       "    var ncells = cells.length;\n",
       "    for (var i = 0; i < ncells; i++) {\n",
       "        var cell = cells[i];\n",
       "        if (cell.cell_type === 'code') {\n",
       "            for (var j = 0; j < cell.output_area.outputs.length; j++) {\n",
       "                var data = cell.output_area.outputs[j];\n",
       "                if (data.data) {\n",
       "                    // IPython >= 3 moved mimebundle to data attribute of output\n",
       "                    data = data.data;\n",
       "                }\n",
       "                if (data['text/html'] === html_output) {\n",
       "                    return [cell, data, j];\n",
       "                }\n",
       "            }\n",
       "        }\n",
       "    }\n",
       "};\n",
       "\n",
       "// Register the function which deals with the matplotlib target/channel.\n",
       "// The kernel may be null if the page has been refreshed.\n",
       "if (IPython.notebook.kernel !== null) {\n",
       "    IPython.notebook.kernel.comm_manager.register_target(\n",
       "        'matplotlib',\n",
       "        mpl.mpl_figure_comm\n",
       "    );\n",
       "}\n"
      ],
      "text/plain": [
       "<IPython.core.display.Javascript object>"
      ]
     },
     "metadata": {},
     "output_type": "display_data"
    },
    {
     "data": {
      "text/html": [
       "<img src=\"data:image/png;base64,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\" width=\"500\">"
      ],
      "text/plain": [
       "<IPython.core.display.HTML object>"
      ]
     },
     "metadata": {},
     "output_type": "display_data"
    },
    {
     "name": "stdout",
     "output_type": "stream",
     "text": [
      "Starting stress = 0.5407706987850612 Processing...\n",
      "Solution stress = 0.1571035875523662 Done.\n"
     ]
    }
   ],
   "source": [
    "inverse = create_inverse_button()"
   ]
  },
  {
   "cell_type": "code",
   "execution_count": 21,
   "metadata": {},
   "outputs": [
    {
     "name": "stdout",
     "output_type": "stream",
     "text": [
      "rm: ./testTrainingData/.DS_Store: No such file or directory\r\n"
     ]
    }
   ],
   "source": [
    "! rm ./testTrainingData/.DS_Store"
   ]
  },
  {
   "cell_type": "code",
   "execution_count": null,
   "metadata": {},
   "outputs": [],
   "source": []
  },
  {
   "cell_type": "code",
   "execution_count": null,
   "metadata": {},
   "outputs": [],
   "source": []
  }
 ],
 "metadata": {
  "kernelspec": {
   "display_name": "Python 3",
   "language": "python",
   "name": "python3"
  },
  "language_info": {
   "codemirror_mode": {
    "name": "ipython",
    "version": 3
   },
   "file_extension": ".py",
   "mimetype": "text/x-python",
   "name": "python",
   "nbconvert_exporter": "python",
   "pygments_lexer": "ipython3",
   "version": "3.7.9"
  }
 },
 "nbformat": 4,
 "nbformat_minor": 1
}
