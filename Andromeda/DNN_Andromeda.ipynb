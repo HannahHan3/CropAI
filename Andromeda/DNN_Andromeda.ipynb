{
 "cells": [
  {
   "cell_type": "markdown",
   "metadata": {},
   "source": [
    "# Andromeda in Jupyter\n",
    "\n",
    "### Interactive Inverse Dimension Reduction \n",
    "\n",
    "This notebook implements interactive dimension reduction (DR) for exploratory analysis of high-dimensional data.\n",
    "It uses a Multi-Dimensional Scaling (MDS) algorithm with a weighted distance metric. It enables both forward and inverse DR interaction. \n",
    "\n",
    "**MDS** projects high-dimensional data to a 2D scatterplot. A **weighted distance function** with user-specified weights on each dimension enables alternative projections that emphasize different dimensions. An **Inverse-DR** algorithm learns distance function weights for  user-constructed layouts of the data points.\n",
    "\n",
    "### Instructions:\n",
    "\n",
    "1. Run All\n",
    "1. Proceed to the interactive plots near the bottom\n",
    "1. There are three kinds of interactions:\n",
    "    1. Select points in the DR plot and click Details to see data values.\n",
    "    1. **Parametric interaction:** Adjust the weight sliders and click Apply to alter the projection plot.\n",
    "    1. **Projection interaction:** Drag points in the projection plot, then click Learn to see learned weights, and click Copy to see the updated projection plot.\n",
    "1. Be patient, its interactive matplotlib in python and Jupyter!\n",
    "\n",
    "### Credits:\n",
    "\n",
    "Authors: Han Liu and Chris North, Dept of Computer Science, Virginia Tech.\n",
    "\n",
    "Based on: *Self JZ, Dowling M, Wenskovitch J, Crandell I, Wang M, House L, Leman S, North C. Observation-Level and Parametric Interaction for High-Dimensional Data Analysis. ACM Transactions on Interactive Intelligent Systems.  8(2), 2018.* https://infovis.cs.vt.edu/sites/default/files/observation-level-parametric_first_look_version.pdf\n"
   ]
  },
  {
   "cell_type": "code",
   "execution_count": 1,
   "metadata": {},
   "outputs": [],
   "source": [
    "%matplotlib notebook\n",
    "# interactive notebook format is required for the interactive plot\n",
    "\n",
    "import numpy as np\n",
    "import pandas as pd\n",
    "import math\n",
    "import random\n",
    "\n",
    "from sklearn.decomposition import PCA\n",
    "from sklearn.manifold import MDS\n",
    "import sklearn.metrics.pairwise\n",
    "\n",
    "import matplotlib\n",
    "import matplotlib.pyplot as plt\n",
    "import ipywidgets as widgets\n",
    "from IPython.display import display"
   ]
  },
  {
   "cell_type": "markdown",
   "metadata": {},
   "source": [
    "# Load and Pre-process Data\n",
    "\n",
    "Change the **filename** to load a dataset.  CSV data file is expected to have a first column 'Name' that is used as the index, and header row of column names.  Numeric columns are used for projection."
   ]
  },
  {
   "cell_type": "code",
   "execution_count": 2,
   "metadata": {},
   "outputs": [
    {
     "name": "stdout",
     "output_type": "stream",
     "text": [
      "ColorHist_Andromeda.ipynb     DNN_Andromeda.ipynb\r\n",
      "DNN_Andromeda-disease.ipynb   OppSift_Andromeda.ipynb\r\n",
      "DNN_Andromeda-lateReady.ipynb Sift_Andromeda.ipynb\r\n"
     ]
    }
   ],
   "source": [
    "! ls "
   ]
  },
  {
   "cell_type": "code",
   "execution_count": 3,
   "metadata": {},
   "outputs": [],
   "source": [
    "# filename = 'Animal_Data_Andromeda.csv'\n",
    "#filename = 'InfoVis_Fall_2015_Survey.csv'\n",
    "filename = '../csvFiles/DNNFeaturesBatch5.csv'\n",
    "df = pd.read_csv(filename)\n",
    "# df['Image'] = df['Image'].apply(lambda x: x.split('_')[2]+ x.split('_')[-2]+x.split('_')[-1])"
   ]
  },
  {
   "cell_type": "code",
   "execution_count": 4,
   "metadata": {},
   "outputs": [
    {
     "data": {
      "text/plain": [
       "(60, 129)"
      ]
     },
     "metadata": {},
     "output_type": "display_data"
    },
    {
     "data": {
      "text/html": [
       "<div>\n",
       "<style scoped>\n",
       "    .dataframe tbody tr th:only-of-type {\n",
       "        vertical-align: middle;\n",
       "    }\n",
       "\n",
       "    .dataframe tbody tr th {\n",
       "        vertical-align: top;\n",
       "    }\n",
       "\n",
       "    .dataframe thead th {\n",
       "        text-align: right;\n",
       "    }\n",
       "</style>\n",
       "<table border=\"1\" class=\"dataframe\">\n",
       "  <thead>\n",
       "    <tr style=\"text-align: right;\">\n",
       "      <th></th>\n",
       "      <th>Image</th>\n",
       "      <th>1</th>\n",
       "      <th>2</th>\n",
       "      <th>3</th>\n",
       "      <th>4</th>\n",
       "      <th>5</th>\n",
       "      <th>6</th>\n",
       "      <th>7</th>\n",
       "      <th>8</th>\n",
       "      <th>9</th>\n",
       "      <th>...</th>\n",
       "      <th>119</th>\n",
       "      <th>120</th>\n",
       "      <th>121</th>\n",
       "      <th>122</th>\n",
       "      <th>123</th>\n",
       "      <th>124</th>\n",
       "      <th>125</th>\n",
       "      <th>126</th>\n",
       "      <th>127</th>\n",
       "      <th>128</th>\n",
       "    </tr>\n",
       "  </thead>\n",
       "  <tbody>\n",
       "    <tr>\n",
       "      <th>0</th>\n",
       "      <td>2098late4</td>\n",
       "      <td>0.030844</td>\n",
       "      <td>0.133735</td>\n",
       "      <td>0.052363</td>\n",
       "      <td>0.049642</td>\n",
       "      <td>0.072211</td>\n",
       "      <td>0.045923</td>\n",
       "      <td>0.016011</td>\n",
       "      <td>0.119781</td>\n",
       "      <td>0.021569</td>\n",
       "      <td>...</td>\n",
       "      <td>0.029677</td>\n",
       "      <td>0.160822</td>\n",
       "      <td>0.075914</td>\n",
       "      <td>0.184908</td>\n",
       "      <td>0.057241</td>\n",
       "      <td>0.146210</td>\n",
       "      <td>0.023710</td>\n",
       "      <td>0.049373</td>\n",
       "      <td>0.250930</td>\n",
       "      <td>0.079271</td>\n",
       "    </tr>\n",
       "    <tr>\n",
       "      <th>1</th>\n",
       "      <td>2076late6</td>\n",
       "      <td>0.040259</td>\n",
       "      <td>0.143002</td>\n",
       "      <td>0.060883</td>\n",
       "      <td>0.038183</td>\n",
       "      <td>0.085723</td>\n",
       "      <td>0.047747</td>\n",
       "      <td>0.023201</td>\n",
       "      <td>0.133269</td>\n",
       "      <td>0.018690</td>\n",
       "      <td>...</td>\n",
       "      <td>0.040330</td>\n",
       "      <td>0.167372</td>\n",
       "      <td>0.079414</td>\n",
       "      <td>0.186105</td>\n",
       "      <td>0.079578</td>\n",
       "      <td>0.157315</td>\n",
       "      <td>0.035975</td>\n",
       "      <td>0.057112</td>\n",
       "      <td>0.269495</td>\n",
       "      <td>0.079454</td>\n",
       "    </tr>\n",
       "    <tr>\n",
       "      <th>2</th>\n",
       "      <td>2144disease7</td>\n",
       "      <td>0.057322</td>\n",
       "      <td>0.161397</td>\n",
       "      <td>0.079792</td>\n",
       "      <td>0.054603</td>\n",
       "      <td>0.114485</td>\n",
       "      <td>0.081115</td>\n",
       "      <td>0.026530</td>\n",
       "      <td>0.166136</td>\n",
       "      <td>0.031556</td>\n",
       "      <td>...</td>\n",
       "      <td>0.060003</td>\n",
       "      <td>0.164138</td>\n",
       "      <td>0.084579</td>\n",
       "      <td>0.185110</td>\n",
       "      <td>0.093487</td>\n",
       "      <td>0.165754</td>\n",
       "      <td>0.034145</td>\n",
       "      <td>0.058019</td>\n",
       "      <td>0.305003</td>\n",
       "      <td>0.073493</td>\n",
       "    </tr>\n",
       "    <tr>\n",
       "      <th>3</th>\n",
       "      <td>2076late5</td>\n",
       "      <td>0.040783</td>\n",
       "      <td>0.143724</td>\n",
       "      <td>0.063380</td>\n",
       "      <td>0.048648</td>\n",
       "      <td>0.099432</td>\n",
       "      <td>0.063069</td>\n",
       "      <td>0.020392</td>\n",
       "      <td>0.125229</td>\n",
       "      <td>0.026645</td>\n",
       "      <td>...</td>\n",
       "      <td>0.052404</td>\n",
       "      <td>0.167854</td>\n",
       "      <td>0.078477</td>\n",
       "      <td>0.187598</td>\n",
       "      <td>0.081385</td>\n",
       "      <td>0.168374</td>\n",
       "      <td>0.030402</td>\n",
       "      <td>0.063042</td>\n",
       "      <td>0.282550</td>\n",
       "      <td>0.068450</td>\n",
       "    </tr>\n",
       "    <tr>\n",
       "      <th>4</th>\n",
       "      <td>2044ready5</td>\n",
       "      <td>0.040391</td>\n",
       "      <td>0.120812</td>\n",
       "      <td>0.051403</td>\n",
       "      <td>0.032604</td>\n",
       "      <td>0.048513</td>\n",
       "      <td>0.042279</td>\n",
       "      <td>0.011615</td>\n",
       "      <td>0.115111</td>\n",
       "      <td>0.028775</td>\n",
       "      <td>...</td>\n",
       "      <td>0.029596</td>\n",
       "      <td>0.142507</td>\n",
       "      <td>0.056714</td>\n",
       "      <td>0.183422</td>\n",
       "      <td>0.044478</td>\n",
       "      <td>0.133525</td>\n",
       "      <td>0.018253</td>\n",
       "      <td>0.042973</td>\n",
       "      <td>0.237903</td>\n",
       "      <td>0.056498</td>\n",
       "    </tr>\n",
       "  </tbody>\n",
       "</table>\n",
       "<p>5 rows × 129 columns</p>\n",
       "</div>"
      ],
      "text/plain": [
       "          Image         1         2         3         4         5         6  \\\n",
       "0     2098late4  0.030844  0.133735  0.052363  0.049642  0.072211  0.045923   \n",
       "1     2076late6  0.040259  0.143002  0.060883  0.038183  0.085723  0.047747   \n",
       "2  2144disease7  0.057322  0.161397  0.079792  0.054603  0.114485  0.081115   \n",
       "3     2076late5  0.040783  0.143724  0.063380  0.048648  0.099432  0.063069   \n",
       "4    2044ready5  0.040391  0.120812  0.051403  0.032604  0.048513  0.042279   \n",
       "\n",
       "          7         8         9  ...       119       120       121       122  \\\n",
       "0  0.016011  0.119781  0.021569  ...  0.029677  0.160822  0.075914  0.184908   \n",
       "1  0.023201  0.133269  0.018690  ...  0.040330  0.167372  0.079414  0.186105   \n",
       "2  0.026530  0.166136  0.031556  ...  0.060003  0.164138  0.084579  0.185110   \n",
       "3  0.020392  0.125229  0.026645  ...  0.052404  0.167854  0.078477  0.187598   \n",
       "4  0.011615  0.115111  0.028775  ...  0.029596  0.142507  0.056714  0.183422   \n",
       "\n",
       "        123       124       125       126       127       128  \n",
       "0  0.057241  0.146210  0.023710  0.049373  0.250930  0.079271  \n",
       "1  0.079578  0.157315  0.035975  0.057112  0.269495  0.079454  \n",
       "2  0.093487  0.165754  0.034145  0.058019  0.305003  0.073493  \n",
       "3  0.081385  0.168374  0.030402  0.063042  0.282550  0.068450  \n",
       "4  0.044478  0.133525  0.018253  0.042973  0.237903  0.056498  \n",
       "\n",
       "[5 rows x 129 columns]"
      ]
     },
     "execution_count": 4,
     "metadata": {},
     "output_type": "execute_result"
    }
   ],
   "source": [
    "display(df.shape)\n",
    "df.head(5)"
   ]
  },
  {
   "cell_type": "code",
   "execution_count": 5,
   "metadata": {},
   "outputs": [
    {
     "name": "stdout",
     "output_type": "stream",
     "text": [
      "Data size (r,c) = (60, 128)\n"
     ]
    },
    {
     "data": {
      "text/html": [
       "<div>\n",
       "<style scoped>\n",
       "    .dataframe tbody tr th:only-of-type {\n",
       "        vertical-align: middle;\n",
       "    }\n",
       "\n",
       "    .dataframe tbody tr th {\n",
       "        vertical-align: top;\n",
       "    }\n",
       "\n",
       "    .dataframe thead th {\n",
       "        text-align: right;\n",
       "    }\n",
       "</style>\n",
       "<table border=\"1\" class=\"dataframe\">\n",
       "  <thead>\n",
       "    <tr style=\"text-align: right;\">\n",
       "      <th></th>\n",
       "      <th>1</th>\n",
       "      <th>2</th>\n",
       "      <th>3</th>\n",
       "      <th>4</th>\n",
       "      <th>5</th>\n",
       "      <th>6</th>\n",
       "      <th>7</th>\n",
       "      <th>8</th>\n",
       "      <th>9</th>\n",
       "      <th>10</th>\n",
       "      <th>...</th>\n",
       "      <th>119</th>\n",
       "      <th>120</th>\n",
       "      <th>121</th>\n",
       "      <th>122</th>\n",
       "      <th>123</th>\n",
       "      <th>124</th>\n",
       "      <th>125</th>\n",
       "      <th>126</th>\n",
       "      <th>127</th>\n",
       "      <th>128</th>\n",
       "    </tr>\n",
       "    <tr>\n",
       "      <th>Image</th>\n",
       "      <th></th>\n",
       "      <th></th>\n",
       "      <th></th>\n",
       "      <th></th>\n",
       "      <th></th>\n",
       "      <th></th>\n",
       "      <th></th>\n",
       "      <th></th>\n",
       "      <th></th>\n",
       "      <th></th>\n",
       "      <th></th>\n",
       "      <th></th>\n",
       "      <th></th>\n",
       "      <th></th>\n",
       "      <th></th>\n",
       "      <th></th>\n",
       "      <th></th>\n",
       "      <th></th>\n",
       "      <th></th>\n",
       "      <th></th>\n",
       "      <th></th>\n",
       "    </tr>\n",
       "  </thead>\n",
       "  <tbody>\n",
       "    <tr>\n",
       "      <th>2024ready2</th>\n",
       "      <td>0.035236</td>\n",
       "      <td>0.125886</td>\n",
       "      <td>0.056706</td>\n",
       "      <td>0.037924</td>\n",
       "      <td>0.045674</td>\n",
       "      <td>0.028703</td>\n",
       "      <td>0.008458</td>\n",
       "      <td>0.120127</td>\n",
       "      <td>0.021330</td>\n",
       "      <td>0.269351</td>\n",
       "      <td>...</td>\n",
       "      <td>0.018957</td>\n",
       "      <td>0.146273</td>\n",
       "      <td>0.060814</td>\n",
       "      <td>0.183246</td>\n",
       "      <td>0.053213</td>\n",
       "      <td>0.117422</td>\n",
       "      <td>0.027695</td>\n",
       "      <td>0.038183</td>\n",
       "      <td>0.242773</td>\n",
       "      <td>0.080700</td>\n",
       "    </tr>\n",
       "    <tr>\n",
       "      <th>2028ready4</th>\n",
       "      <td>0.038977</td>\n",
       "      <td>0.134185</td>\n",
       "      <td>0.047659</td>\n",
       "      <td>0.026891</td>\n",
       "      <td>0.054320</td>\n",
       "      <td>0.036904</td>\n",
       "      <td>0.016167</td>\n",
       "      <td>0.135720</td>\n",
       "      <td>0.021147</td>\n",
       "      <td>0.267925</td>\n",
       "      <td>...</td>\n",
       "      <td>0.039051</td>\n",
       "      <td>0.145076</td>\n",
       "      <td>0.069105</td>\n",
       "      <td>0.184414</td>\n",
       "      <td>0.056230</td>\n",
       "      <td>0.130793</td>\n",
       "      <td>0.029597</td>\n",
       "      <td>0.041515</td>\n",
       "      <td>0.243913</td>\n",
       "      <td>0.064728</td>\n",
       "    </tr>\n",
       "    <tr>\n",
       "      <th>2029ready20</th>\n",
       "      <td>0.039116</td>\n",
       "      <td>0.127264</td>\n",
       "      <td>0.051903</td>\n",
       "      <td>0.030043</td>\n",
       "      <td>0.051889</td>\n",
       "      <td>0.027721</td>\n",
       "      <td>0.014825</td>\n",
       "      <td>0.127365</td>\n",
       "      <td>0.017227</td>\n",
       "      <td>0.269422</td>\n",
       "      <td>...</td>\n",
       "      <td>0.030299</td>\n",
       "      <td>0.145912</td>\n",
       "      <td>0.063641</td>\n",
       "      <td>0.184050</td>\n",
       "      <td>0.056664</td>\n",
       "      <td>0.127903</td>\n",
       "      <td>0.028151</td>\n",
       "      <td>0.041135</td>\n",
       "      <td>0.244178</td>\n",
       "      <td>0.069297</td>\n",
       "    </tr>\n",
       "    <tr>\n",
       "      <th>2031ready1</th>\n",
       "      <td>0.038720</td>\n",
       "      <td>0.130160</td>\n",
       "      <td>0.053563</td>\n",
       "      <td>0.040239</td>\n",
       "      <td>0.067200</td>\n",
       "      <td>0.051887</td>\n",
       "      <td>0.012273</td>\n",
       "      <td>0.129801</td>\n",
       "      <td>0.027575</td>\n",
       "      <td>0.276546</td>\n",
       "      <td>...</td>\n",
       "      <td>0.038368</td>\n",
       "      <td>0.149302</td>\n",
       "      <td>0.065806</td>\n",
       "      <td>0.185284</td>\n",
       "      <td>0.057261</td>\n",
       "      <td>0.142543</td>\n",
       "      <td>0.023259</td>\n",
       "      <td>0.047070</td>\n",
       "      <td>0.257539</td>\n",
       "      <td>0.058444</td>\n",
       "    </tr>\n",
       "    <tr>\n",
       "      <th>2033ready9</th>\n",
       "      <td>0.048333</td>\n",
       "      <td>0.133284</td>\n",
       "      <td>0.054422</td>\n",
       "      <td>0.026131</td>\n",
       "      <td>0.050288</td>\n",
       "      <td>0.029758</td>\n",
       "      <td>0.013099</td>\n",
       "      <td>0.122441</td>\n",
       "      <td>0.020140</td>\n",
       "      <td>0.275733</td>\n",
       "      <td>...</td>\n",
       "      <td>0.026372</td>\n",
       "      <td>0.142250</td>\n",
       "      <td>0.064304</td>\n",
       "      <td>0.183500</td>\n",
       "      <td>0.051063</td>\n",
       "      <td>0.114364</td>\n",
       "      <td>0.024793</td>\n",
       "      <td>0.041119</td>\n",
       "      <td>0.244949</td>\n",
       "      <td>0.070624</td>\n",
       "    </tr>\n",
       "  </tbody>\n",
       "</table>\n",
       "<p>5 rows × 128 columns</p>\n",
       "</div>"
      ],
      "text/plain": [
       "                    1         2         3         4         5         6  \\\n",
       "Image                                                                     \n",
       "2024ready2   0.035236  0.125886  0.056706  0.037924  0.045674  0.028703   \n",
       "2028ready4   0.038977  0.134185  0.047659  0.026891  0.054320  0.036904   \n",
       "2029ready20  0.039116  0.127264  0.051903  0.030043  0.051889  0.027721   \n",
       "2031ready1   0.038720  0.130160  0.053563  0.040239  0.067200  0.051887   \n",
       "2033ready9   0.048333  0.133284  0.054422  0.026131  0.050288  0.029758   \n",
       "\n",
       "                    7         8         9        10  ...       119       120  \\\n",
       "Image                                                ...                       \n",
       "2024ready2   0.008458  0.120127  0.021330  0.269351  ...  0.018957  0.146273   \n",
       "2028ready4   0.016167  0.135720  0.021147  0.267925  ...  0.039051  0.145076   \n",
       "2029ready20  0.014825  0.127365  0.017227  0.269422  ...  0.030299  0.145912   \n",
       "2031ready1   0.012273  0.129801  0.027575  0.276546  ...  0.038368  0.149302   \n",
       "2033ready9   0.013099  0.122441  0.020140  0.275733  ...  0.026372  0.142250   \n",
       "\n",
       "                  121       122       123       124       125       126  \\\n",
       "Image                                                                     \n",
       "2024ready2   0.060814  0.183246  0.053213  0.117422  0.027695  0.038183   \n",
       "2028ready4   0.069105  0.184414  0.056230  0.130793  0.029597  0.041515   \n",
       "2029ready20  0.063641  0.184050  0.056664  0.127903  0.028151  0.041135   \n",
       "2031ready1   0.065806  0.185284  0.057261  0.142543  0.023259  0.047070   \n",
       "2033ready9   0.064304  0.183500  0.051063  0.114364  0.024793  0.041119   \n",
       "\n",
       "                  127       128  \n",
       "Image                            \n",
       "2024ready2   0.242773  0.080700  \n",
       "2028ready4   0.243913  0.064728  \n",
       "2029ready20  0.244178  0.069297  \n",
       "2031ready1   0.257539  0.058444  \n",
       "2033ready9   0.244949  0.070624  \n",
       "\n",
       "[5 rows x 128 columns]"
      ]
     },
     "execution_count": 5,
     "metadata": {},
     "output_type": "execute_result"
    }
   ],
   "source": [
    "# Use 'Name' column as index\n",
    "#df.rename(columns={df.columns[0]:'Name'}, inplace=True)\n",
    "df.set_index('Image', inplace=True)\n",
    "\n",
    "# Sort rows and columns\n",
    "# df.sort_index(axis=1, inplace=True)\n",
    "df.sort_index(inplace=True)\n",
    "\n",
    "df_numeric = df.select_dtypes(include='number')  #'int32' or 'int64' or 'float32' or 'float64'\n",
    "df_category = df.select_dtypes(exclude='number') #'object'\n",
    "\n",
    "# Z-score normalization\n",
    "# normalized_df = (df_numeric - df_numeric.mean()) / df_numeric.std()\n",
    "normalized_df = df_numeric  # do not normalize animal dataset, all columns are 0-100 scale\n",
    "\n",
    "print('Data size (r,c) =', df_numeric.shape)\n",
    "df_numeric.head(5)"
   ]
  },
  {
   "cell_type": "markdown",
   "metadata": {},
   "source": [
    "#  Dimension Reduction Model:  Weighted MDS\n",
    "\n",
    "For DR, we use the Multi-Dimensional Scaling (MDS) algorithm on a weighted data space. **Dimension weights** are applied to the high-dimensional (HD) data.  Weights are normalized to sum to 1, so as to normalize the HD distances to roughly constant size space independent of p.\n",
    "\n",
    "The **distance function for the high-dimensional (HD) data** is L1 manhattan distance. L1 is good for general purpose use with multi-dimensional quantitative datasets. \n",
    "\n",
    "The **distance function for the 2D projected points** is L2 Euclidean distance, which makes sense for human percpetion in the plot."
   ]
  },
  {
   "cell_type": "code",
   "execution_count": 6,
   "metadata": {},
   "outputs": [],
   "source": [
    "# Compute the distance matrix for the weighted high-dimensional data using L1 distance function.\n",
    "#  Input HD data should already be weighted.\n",
    "def distance_matrix_HD(dataHDw):  # dataHDw (pandas or numpy) -> distance matrix (numpy)\n",
    "    dist_matrix = sklearn.metrics.pairwise.manhattan_distances(dataHDw)\n",
    "    #m = pd.DataFrame(m, columns=dataHD.index, index=dataHD.index)  # keep as np array for performance\n",
    "    return dist_matrix\n",
    "\n",
    "\n",
    "# Compute the distance matrix for 2D projected data using L2 distance function.\n",
    "def distance_matrix_2D(data2D):  # data2d (pandas or numpy) -> distance matrix (numpy)\n",
    "    dist_matrix = sklearn.metrics.pairwise.euclidean_distances(data2D) \n",
    "    #m = pd.DataFrame(m, columns=data2D.index, index=data2D.index) # keep as np array for performance\n",
    "    return dist_matrix\n",
    "\n",
    "\n",
    "#def dist(x,y):\n",
    "#    return np.linalg.norm(x-y, ord=2)"
   ]
  },
  {
   "cell_type": "markdown",
   "metadata": {},
   "source": [
    "**MDS** projects the weighted high-dimensional data to 2D. Tune the algorithm's parameters for performance."
   ]
  },
  {
   "cell_type": "code",
   "execution_count": 7,
   "metadata": {},
   "outputs": [],
   "source": [
    "# Calculate the MDS stress metric between HD and 2D distances.  Uses numpy for efficiency.\n",
    "def stress(distHD, dist2D):  #  distHD, dist2D (numpy) -> stress (float)\n",
    "    #s = np.sqrt((distHD-dist2D).pow(2).sum().sum() / distHD.pow(2).sum().sum())  # pandas\n",
    "    #s = np.sqrt(((distHD-dist2D)**2).sum() / (distHD**2).sum())   # numpy\n",
    "    s = ((distHD-dist2D)**2).sum() / (distHD**2).sum()   # numpy, eliminate sqrt for efficiency\n",
    "    return s\n",
    "\n",
    "def compute_mds(dataHDw):  # dataHDw -> data2D (pandas)\n",
    "    distHD = distance_matrix_HD(dataHDw)\n",
    "    # Adjust these parameters for performance/accuracy tradeoff\n",
    "    mds = sklearn.manifold.MDS(n_components=2, dissimilarity='precomputed', n_init=10, max_iter=1000)\n",
    "    # Reduction algorithm happens here:  data2D is nx2 matrix\n",
    "    data2D = mds.fit_transform(distHD)\n",
    "    \n",
    "    # Rotate the resulting 2D projection to make it more consistent across multiple runs.\n",
    "    # Set the 1st PC to the y axis, plot looks better to spread data vertically with horizontal text labels\n",
    "    pca = sklearn.decomposition.PCA(n_components=2)\n",
    "    data2D = pca.fit_transform(data2D)\n",
    "    data2D = pd.DataFrame(data2D, columns=['y','x'], index=dataHDw.index)\n",
    "    \n",
    "    data2D.stress_value = stress(distHD, distance_matrix_2D(data2D))\n",
    "    return data2D\n",
    "\n",
    "def dimension_reduction(dataHD, wts): # dataHD, wts -> data2D (pandas)\n",
    "    # Normalize the weights to sum to 1\n",
    "    wts = wts/wts.sum()\n",
    "    \n",
    "    # Apply weights to the HD data \n",
    "    dataHDw = dataHD * wts\n",
    "    \n",
    "    # DR algorithm\n",
    "    data2D = compute_mds(dataHDw)\n",
    "\n",
    "    # Compute row relevances as:  data dot weights\n",
    "    # High relevance means large values in upweighted dimensions\n",
    "    data2D['relevance'] = dataHDw.sum(axis=1)\n",
    "    return data2D\n",
    "\n",
    "min_weight, max_weight = 0.00001, 0.9999\n",
    "init_weight = min_weight  # 1.0/len(normalized_df.columns) # initialize to min to make the sliders easier to use.\n",
    "weights = pd.Series(init_weight, index=normalized_df.columns, name=\"Weight\")  # the current weight list\n",
    "\n",
    "df_2D = dimension_reduction(normalized_df, weights)   # the current projected data"
   ]
  },
  {
   "cell_type": "code",
   "execution_count": 8,
   "metadata": {},
   "outputs": [
    {
     "data": {
      "text/plain": [
       "1    0.00001\n",
       "2    0.00001\n",
       "Name: Weight, dtype: float64"
      ]
     },
     "execution_count": 8,
     "metadata": {},
     "output_type": "execute_result"
    }
   ],
   "source": [
    "weights.head(2)"
   ]
  },
  {
   "cell_type": "code",
   "execution_count": 9,
   "metadata": {},
   "outputs": [
    {
     "data": {
      "text/html": [
       "<div>\n",
       "<style scoped>\n",
       "    .dataframe tbody tr th:only-of-type {\n",
       "        vertical-align: middle;\n",
       "    }\n",
       "\n",
       "    .dataframe tbody tr th {\n",
       "        vertical-align: top;\n",
       "    }\n",
       "\n",
       "    .dataframe thead th {\n",
       "        text-align: right;\n",
       "    }\n",
       "</style>\n",
       "<table border=\"1\" class=\"dataframe\">\n",
       "  <thead>\n",
       "    <tr style=\"text-align: right;\">\n",
       "      <th>Image</th>\n",
       "      <th>2024ready2</th>\n",
       "      <th>2028ready4</th>\n",
       "      <th>2029ready20</th>\n",
       "      <th>2031ready1</th>\n",
       "      <th>2033ready9</th>\n",
       "      <th>2034ready5</th>\n",
       "      <th>2036ready18</th>\n",
       "      <th>2038ready15</th>\n",
       "      <th>2038ready3</th>\n",
       "      <th>2039ready12</th>\n",
       "      <th>...</th>\n",
       "      <th>2147disease15</th>\n",
       "      <th>2147disease2</th>\n",
       "      <th>2147disease4</th>\n",
       "      <th>2147disease5</th>\n",
       "      <th>2147disease6</th>\n",
       "      <th>2147disease7</th>\n",
       "      <th>2148disease11</th>\n",
       "      <th>2148disease12</th>\n",
       "      <th>2148disease13</th>\n",
       "      <th>2148disease17</th>\n",
       "    </tr>\n",
       "    <tr>\n",
       "      <th>Image</th>\n",
       "      <th></th>\n",
       "      <th></th>\n",
       "      <th></th>\n",
       "      <th></th>\n",
       "      <th></th>\n",
       "      <th></th>\n",
       "      <th></th>\n",
       "      <th></th>\n",
       "      <th></th>\n",
       "      <th></th>\n",
       "      <th></th>\n",
       "      <th></th>\n",
       "      <th></th>\n",
       "      <th></th>\n",
       "      <th></th>\n",
       "      <th></th>\n",
       "      <th></th>\n",
       "      <th></th>\n",
       "      <th></th>\n",
       "      <th></th>\n",
       "      <th></th>\n",
       "    </tr>\n",
       "  </thead>\n",
       "  <tbody>\n",
       "    <tr>\n",
       "      <th>2024ready2</th>\n",
       "      <td>0.000000</td>\n",
       "      <td>0.005593</td>\n",
       "      <td>0.003474</td>\n",
       "      <td>0.007933</td>\n",
       "      <td>0.003163</td>\n",
       "      <td>0.010477</td>\n",
       "      <td>0.009634</td>\n",
       "      <td>0.010866</td>\n",
       "      <td>0.008085</td>\n",
       "      <td>0.010420</td>\n",
       "      <td>...</td>\n",
       "      <td>0.019911</td>\n",
       "      <td>0.016999</td>\n",
       "      <td>0.022739</td>\n",
       "      <td>0.018031</td>\n",
       "      <td>0.021902</td>\n",
       "      <td>0.030926</td>\n",
       "      <td>0.016935</td>\n",
       "      <td>0.022595</td>\n",
       "      <td>0.021361</td>\n",
       "      <td>0.024170</td>\n",
       "    </tr>\n",
       "    <tr>\n",
       "      <th>2028ready4</th>\n",
       "      <td>0.005593</td>\n",
       "      <td>0.000000</td>\n",
       "      <td>0.002759</td>\n",
       "      <td>0.005603</td>\n",
       "      <td>0.004783</td>\n",
       "      <td>0.007439</td>\n",
       "      <td>0.006180</td>\n",
       "      <td>0.007494</td>\n",
       "      <td>0.006647</td>\n",
       "      <td>0.006622</td>\n",
       "      <td>...</td>\n",
       "      <td>0.016684</td>\n",
       "      <td>0.013893</td>\n",
       "      <td>0.019139</td>\n",
       "      <td>0.014391</td>\n",
       "      <td>0.018230</td>\n",
       "      <td>0.027135</td>\n",
       "      <td>0.013837</td>\n",
       "      <td>0.018887</td>\n",
       "      <td>0.017799</td>\n",
       "      <td>0.020174</td>\n",
       "    </tr>\n",
       "  </tbody>\n",
       "</table>\n",
       "<p>2 rows × 60 columns</p>\n",
       "</div>"
      ],
      "text/plain": [
       "Image       2024ready2  2028ready4  2029ready20  2031ready1  2033ready9  \\\n",
       "Image                                                                     \n",
       "2024ready2    0.000000    0.005593     0.003474    0.007933    0.003163   \n",
       "2028ready4    0.005593    0.000000     0.002759    0.005603    0.004783   \n",
       "\n",
       "Image       2034ready5  2036ready18  2038ready15  2038ready3  2039ready12  \\\n",
       "Image                                                                       \n",
       "2024ready2    0.010477     0.009634     0.010866    0.008085     0.010420   \n",
       "2028ready4    0.007439     0.006180     0.007494    0.006647     0.006622   \n",
       "\n",
       "Image       ...  2147disease15  2147disease2  2147disease4  2147disease5  \\\n",
       "Image       ...                                                            \n",
       "2024ready2  ...       0.019911      0.016999      0.022739      0.018031   \n",
       "2028ready4  ...       0.016684      0.013893      0.019139      0.014391   \n",
       "\n",
       "Image       2147disease6  2147disease7  2148disease11  2148disease12  \\\n",
       "Image                                                                  \n",
       "2024ready2      0.021902      0.030926       0.016935       0.022595   \n",
       "2028ready4      0.018230      0.027135       0.013837       0.018887   \n",
       "\n",
       "Image       2148disease13  2148disease17  \n",
       "Image                                     \n",
       "2024ready2       0.021361       0.024170  \n",
       "2028ready4       0.017799       0.020174  \n",
       "\n",
       "[2 rows x 60 columns]"
      ]
     },
     "execution_count": 9,
     "metadata": {},
     "output_type": "execute_result"
    }
   ],
   "source": [
    "pd.DataFrame(distance_matrix_HD(normalized_df * (weights/weights.sum())), \n",
    "             columns=normalized_df.index, index=normalized_df.index).head(2)"
   ]
  },
  {
   "cell_type": "code",
   "execution_count": 10,
   "metadata": {},
   "outputs": [
    {
     "name": "stdout",
     "output_type": "stream",
     "text": [
      "0.013042976417828974\n"
     ]
    },
    {
     "data": {
      "text/html": [
       "<div>\n",
       "<style scoped>\n",
       "    .dataframe tbody tr th:only-of-type {\n",
       "        vertical-align: middle;\n",
       "    }\n",
       "\n",
       "    .dataframe tbody tr th {\n",
       "        vertical-align: top;\n",
       "    }\n",
       "\n",
       "    .dataframe thead th {\n",
       "        text-align: right;\n",
       "    }\n",
       "</style>\n",
       "<table border=\"1\" class=\"dataframe\">\n",
       "  <thead>\n",
       "    <tr style=\"text-align: right;\">\n",
       "      <th></th>\n",
       "      <th>y</th>\n",
       "      <th>x</th>\n",
       "      <th>relevance</th>\n",
       "    </tr>\n",
       "    <tr>\n",
       "      <th>Image</th>\n",
       "      <th></th>\n",
       "      <th></th>\n",
       "      <th></th>\n",
       "    </tr>\n",
       "  </thead>\n",
       "  <tbody>\n",
       "    <tr>\n",
       "      <th>2024ready2</th>\n",
       "      <td>-0.012299</td>\n",
       "      <td>-0.002694</td>\n",
       "      <td>0.093879</td>\n",
       "    </tr>\n",
       "    <tr>\n",
       "      <th>2028ready4</th>\n",
       "      <td>-0.008407</td>\n",
       "      <td>0.003378</td>\n",
       "      <td>0.097423</td>\n",
       "    </tr>\n",
       "    <tr>\n",
       "      <th>2029ready20</th>\n",
       "      <td>-0.010099</td>\n",
       "      <td>-0.002367</td>\n",
       "      <td>0.095648</td>\n",
       "    </tr>\n",
       "    <tr>\n",
       "      <th>2031ready1</th>\n",
       "      <td>-0.006136</td>\n",
       "      <td>-0.001401</td>\n",
       "      <td>0.099588</td>\n",
       "    </tr>\n",
       "    <tr>\n",
       "      <th>2033ready9</th>\n",
       "      <td>-0.011014</td>\n",
       "      <td>-0.003094</td>\n",
       "      <td>0.094334</td>\n",
       "    </tr>\n",
       "  </tbody>\n",
       "</table>\n",
       "</div>"
      ],
      "text/plain": [
       "                    y         x  relevance\n",
       "Image                                     \n",
       "2024ready2  -0.012299 -0.002694   0.093879\n",
       "2028ready4  -0.008407  0.003378   0.097423\n",
       "2029ready20 -0.010099 -0.002367   0.095648\n",
       "2031ready1  -0.006136 -0.001401   0.099588\n",
       "2033ready9  -0.011014 -0.003094   0.094334"
      ]
     },
     "execution_count": 10,
     "metadata": {},
     "output_type": "execute_result"
    }
   ],
   "source": [
    "print(df_2D.stress_value)\n",
    "df_2D.head(5)"
   ]
  },
  {
   "cell_type": "markdown",
   "metadata": {},
   "source": [
    "# Inverse Dimension-Reduction Learning Algorithm\n",
    "\n",
    "Computes the inverse-Dimension-Reduction: given input 2D points, compute new weights.\n",
    "Optimizes the MDS stress function that compares 2D pairwise distances (||$x_i-x_j||$) to weighted HD pairwise distances ($d_{ij}$):\n",
    "![Stress](https://wikimedia.org/api/rest_v1/media/math/render/svg/7989b3afc0d8795a78c1631c7e807f260d9cfe68)\n",
    "\n",
    "Technically, we compute the inverse weighted distance function. We shortcut the optimization by eliminating MDS from the process, and assume that the user input 2D distances are actually the desired HD distances, not the 2D distances after re-projection. Thus, given the input (HD) distances, we find weights that would produce these distances in the HD space."
   ]
  },
  {
   "cell_type": "code",
   "execution_count": 11,
   "metadata": {},
   "outputs": [],
   "source": [
    "# This method is used to propose a new weight for current column in a smart fashion\n",
    "def new_proposal(current, step, direction):\n",
    "    return np.clip(current + direction*step*random.random(), 0.00001, 0.9999)\n",
    "\n",
    "# Repeatedly tries to modify each dim weight to see if it improves the stress, thus\n",
    "# getting the weighted high-dim distances to more closely match the input 2D distances.\n",
    "#   dataHD = high-dim data, as pandas\n",
    "#   data2D = 2D data input, as pandas\n",
    "#   weights = as pandas series, or None for weights[i]=1/p\n",
    "def inverse_DR(dataHD, data2D, curWeights=None):  # -> new weights, as Series\n",
    "    dist2D = distance_matrix_2D(data2D)  # compute 2D distances only once\n",
    "    col_names = dataHD.columns\n",
    "    dataHD = dataHD.to_numpy()  # use numpy for efficiency\n",
    "    row, col = dataHD.shape\n",
    "    \n",
    "    if curWeights==None:\n",
    "        curWeights = np.array([1.0/col]*col)  # default weights = 1/p\n",
    "    else:\n",
    "        curWeights = curWeights.to_numpy()\n",
    "        curWeights = curWeights / curWeights.sum()  # Normalize weights to sum to 1\n",
    "    newWeights = curWeights.copy()  # re-use this array for efficiency\n",
    "    \n",
    "    # Initialize state\n",
    "    flag = [0]*col         # degree of success of a weight change\n",
    "    direction = [1]*col  # direction to move a weight, pos or neg\n",
    "    step = [1.0/col]*col   # how much to change each weight\n",
    "    \n",
    "    dataHDw = dataHD * curWeights   # weighted space, re-use this array for efficiency\n",
    "    distHD = distance_matrix_HD(dataHDw)\n",
    "    curStress = stress(distHD, dist2D)\n",
    "    print('Starting stress =', curStress, 'Processing...')\n",
    "\n",
    "    MAX = 500   # default setting of the number of iterations\n",
    "\n",
    "    # Try to minorly adjust each weight to see if it reduces stress\n",
    "    for i in range(MAX):\n",
    "        for dim in range(col):            \n",
    "            # Get a new weight for current column\n",
    "            nw = new_proposal(curWeights[dim], step[dim], direction[dim])\n",
    "            \n",
    "            # Scale the weight list such that it sums to 1\n",
    "            #newWeights = curWeights.copy()  # avoid extra copy op using math below\n",
    "            #newWeights[dim] = nw\n",
    "            #newWeights = newWeights / s\n",
    "            s = 1.0  + nw - curWeights[dim]   # 1.0 == curWeights.sum()\n",
    "            np.true_divide(curWeights, s, out=newWeights)  # transfers to other array, while doing /\n",
    "            newWeights[dim] = nw / s\n",
    "            \n",
    "            # Apply new weights to HD data\n",
    "            np.multiply(dataHD, newWeights, out=dataHDw)  # dataHDw = dataHD * newWeights; efficiently reuses dataHDw array\n",
    "            distHD = distance_matrix_HD(dataHDw)\n",
    "\n",
    "            # Get the new stress\n",
    "            newStress = stress(distHD, dist2D)\n",
    "            \n",
    "            # If new stress is lower, then update weights and flag this success\n",
    "            if newStress < curStress:\n",
    "                temp = curWeights\n",
    "                curWeights = newWeights\n",
    "                newWeights = temp   # reuse the old array next iteration\n",
    "                curStress = newStress\n",
    "                flag[dim] = flag[dim] + 1\n",
    "            else:\n",
    "                flag[dim] = flag[dim] - 1\n",
    "                direction[dim] = -direction[dim]  # Reverse course\n",
    "    \n",
    "            # If recent success, then speed up the step rate\n",
    "            if flag[dim] >= 5:\n",
    "                step[dim] = step[dim] * 2\n",
    "                flag[dim] = 0\n",
    "            elif flag[dim] <= -5:\n",
    "                step[dim] = step[dim] / 2\n",
    "                flag[dim] = 0\n",
    "                \n",
    "    print('Solution stress =', curStress, 'Done.')\n",
    "    #print(\"weight\", curWeights)\n",
    "    #print(\"flag\", flag)\n",
    "    #print(\"dir\", direction)\n",
    "    #print(\"step\", step)\n",
    "    return pd.Series(curWeights, index=col_names, name=\"Weight\")\n"
   ]
  },
  {
   "cell_type": "markdown",
   "metadata": {},
   "source": [
    "# Visualization and UI code\n",
    "\n",
    "Use these functions to create the GUI components in any cell."
   ]
  },
  {
   "cell_type": "markdown",
   "metadata": {},
   "source": [
    "## Sliders"
   ]
  },
  {
   "cell_type": "code",
   "execution_count": 12,
   "metadata": {},
   "outputs": [],
   "source": [
    "def create_sliders(wts):\n",
    "    # Create sliders, one for each dimension weight\n",
    "    sliders = [widgets.FloatSlider(min=min_weight, max=max_weight, step=0.01, value=value, \n",
    "                                       description=label, continuous_update=False, readout_format='.5f')\n",
    "                   for (label, value) in wts.iteritems()]\n",
    "    # Display sliders\n",
    "    for s in sliders:\n",
    "        #s.observe(sliderchange, names='value')\n",
    "        display(s)\n",
    "        \n",
    "    create_slider_buttons(sliders)\n",
    "    return sliders\n",
    "\n",
    "def create_slider_buttons(sliders):    \n",
    "    apply_button = widgets.Button(description='Apply Slider Weights')\n",
    "    reset_button = widgets.Button(description='Reset Plot')\n",
    "\n",
    "    # Callback functions\n",
    "    def apply_button_clicked(change):\n",
    "        # Use the slider values to re compute the DR and redraw the plot\n",
    "        global weights, df_2D   # Update weights and df_2D globals\n",
    "        weights = pd.Series([s.value for s in sliders], index=normalized_df.columns, name='Weight')\n",
    "        df_2D = dimension_reduction(normalized_df, weights)   \n",
    "        # Re-draw the plot\n",
    "        draw_plot(plot_ax, df_2D)\n",
    "    apply_button.on_click(apply_button_clicked)\n",
    "\n",
    "    def reset_button_clicked(change):\n",
    "        # Reset all sliders to initial value and re-compute DR and re-draw the plot\n",
    "        for s in sliders:\n",
    "            s.value = init_weight\n",
    "        apply_button_clicked(change)\n",
    "    reset_button.on_click(reset_button_clicked)\n",
    "    \n",
    "    # Display buttons\n",
    "    display(apply_button)\n",
    "    display(reset_button)\n",
    "    return apply_button, reset_button\n"
   ]
  },
  {
   "cell_type": "markdown",
   "metadata": {},
   "source": [
    "## Print Details Button"
   ]
  },
  {
   "cell_type": "code",
   "execution_count": 13,
   "metadata": {},
   "outputs": [],
   "source": [
    "def create_detail_display():\n",
    "    # Print selected points\n",
    "    print_button = widgets.Button(description='Print selected points')\n",
    "    print_output = widgets.Output()\n",
    "\n",
    "    def print_button_clicked(change):\n",
    "        print_output.clear_output()\n",
    "        # Get list of selected points and print their source data values\n",
    "        selset = [c.index for c in plot_ax.circles if c.selected]\n",
    "        with print_output:\n",
    "            if len(selset) > 0:\n",
    "                print(df.iloc[selset, :].transpose())\n",
    "                print(df.iloc[selset,:].index)\n",
    "            else:\n",
    "                print('Select points in the plot to see details here')\n",
    "    print_button.on_click(print_button_clicked)\n",
    "\n",
    "    display(print_button)\n",
    "    display(print_output)\n",
    "    return print_button, print_output\n",
    "\n",
    "\n",
    "def metric():\n",
    "    print(df)\n"
   ]
  },
  {
   "cell_type": "markdown",
   "metadata": {},
   "source": [
    "## Inverse DR Button and Plot"
   ]
  },
  {
   "cell_type": "code",
   "execution_count": 14,
   "metadata": {},
   "outputs": [],
   "source": [
    "def create_inverse_button():\n",
    "    inverse_button = widgets.Button(description='Learn New Weights')\n",
    "    copy_button = widgets.Button(description='Copy to Sliders')\n",
    "\n",
    "    def inverse_button_clicked(change):\n",
    "        ax.clear()\n",
    "\n",
    "        # Check minimum number of points moved\n",
    "        n = len([1 for c in plot_ax.circles if c.selected])\n",
    "        if n < 2:\n",
    "            print('Need to select or move at least 2 points in the plot first.')\n",
    "            return\n",
    "\n",
    "        # Get selected data points\n",
    "        data2Dnew = pd.DataFrame([c.center for c in plot_ax.circles if c.selected], columns=['x','y'], \n",
    "                                index=[c.label for c in plot_ax.circles if c.selected])\n",
    "#         print(data2Dnew)\n",
    "        dataHDpart = normalized_df.loc[data2Dnew.index]\n",
    "\n",
    "        # Learn new weights\n",
    "        global weights\n",
    "        weights = inverse_DR(dataHDpart, data2Dnew)\n",
    "        \n",
    "        # Display new weights as a bar chart\n",
    "        weights.sort_index(ascending=False).plot.barh(ax=ax)\n",
    "        ax.set_xlabel(\"Weight\")\n",
    "        fig.tight_layout()\n",
    "    inverse_button.on_click(inverse_button_clicked)\n",
    "\n",
    "    def copy_button_clicked(change):\n",
    "        # Set sliders to reflect the learned weights and update the DR and plot accordingly\n",
    "        global df_2D\n",
    "        for i,s in enumerate(sliders):\n",
    "            s.value = weights[i]\n",
    "        df_2D = dimension_reduction(normalized_df, weights)   \n",
    "        draw_plot(plot_ax, df_2D)\n",
    "    copy_button.on_click(copy_button_clicked)\n",
    "    display(inverse_button)\n",
    "    display(copy_button)\n",
    "    fig, ax = plt.subplots(figsize=(5,7))   # reserve a fig for the weights bar chart\n",
    "    return inverse_button, copy_button, ax\n"
   ]
  },
  {
   "cell_type": "markdown",
   "metadata": {},
   "source": [
    "## Draggable Dimension-Reduction 2D Plot"
   ]
  },
  {
   "cell_type": "code",
   "execution_count": 15,
   "metadata": {},
   "outputs": [],
   "source": [
    "# Handles mouse drag interaction events in the plot, users can select and drag points.\n",
    "class DraggablePoints(object):\n",
    "    def __init__(self, ax, artists):\n",
    "        self.ax = ax\n",
    "        self.artists = artists\n",
    "        self.current_artist = None\n",
    "        self.last_selected = None\n",
    "        ax.selected_text.set_text('Selected: none')\n",
    "        self.offset = (0, 0)\n",
    "        # Set up mouse listeners\n",
    "        ax.figure.canvas.mpl_connect('pick_event', self.on_pick)\n",
    "        ax.figure.canvas.mpl_connect('motion_notify_event', self.on_motion)\n",
    "        ax.figure.canvas.mpl_connect('button_release_event', self.on_release)\n",
    "\n",
    "    def on_pick(self, event):\n",
    "        # When point is clicked on (mouse down), select it and start the drag\n",
    "        if self.current_artist is None:  # clicking on overlapped points sends multiple events\n",
    "            self.last_selected = event.artist.index  # event.ind\n",
    "            self.current_artist = event.artist\n",
    "            event.artist.selected = True\n",
    "            event.artist.savecolor = event.artist.get_facecolor()\n",
    "            event.artist.set_facecolor('green')\n",
    "            #event.artist.set_alpha(1.0)\n",
    "            self.ax.selected_text.set_text(\"Selected: \" + event.artist.label)\n",
    "            x0, y0 = event.artist.center\n",
    "            self.offset = (x0 - event.mouseevent.xdata), (y0 - event.mouseevent.ydata)\n",
    "\n",
    "    def on_motion(self, event):\n",
    "        # When dragging, check if point is selected and valid mouse coordinates\n",
    "        if (self.current_artist is not None) and (event.xdata is not None) and (event.ydata is not None):\n",
    "            # Drag the point and its text label\n",
    "            dx, dy = self.offset\n",
    "            self.current_artist.center = x0, y0 = event.xdata + dx, event.ydata + dy\n",
    "            self.current_artist.text.set_position((x0 - self.current_artist.radius/2, \n",
    "                                                   y0 - self.current_artist.radius/2))\n",
    "            #self.ax.figure.canvas.draw()  # slow\n",
    "        \n",
    "    def on_release(self, event):\n",
    "        # When mouse is released, stop the drag\n",
    "        self.current_artist = None\n",
    "        #self.ax.figure.canvas.draw()"
   ]
  },
  {
   "cell_type": "code",
   "execution_count": 16,
   "metadata": {
    "scrolled": false
   },
   "outputs": [],
   "source": [
    "def create_plot(data2D):\n",
    "    # Initialize DR plot figure\n",
    "    fig, ax = plt.subplots(figsize= (8,7))\n",
    "    ax.selected_text = ax.figure.text(0,0.005, 'Selected: none', wrap=True, color='green')\n",
    "    fig.colorbar(plt.cm.ScalarMappable(norm=matplotlib.colors.Normalize(), cmap=plt.cm.plasma), ax=ax, label=\"Relevance\", ticks=[], shrink=0.5, aspect=40, fraction=0.05)\n",
    "    # ax = data2D.plot.scatter(x=\"x\", y=\"y\", alpha=0.5, c=\"relevance\", s=75, ax=ax\n",
    "    #                   colormap=plt.cm.plasma, sharex=False, figsize=(8, 6), picker=True)\n",
    "    # ax.collections[0].get_offsets());   set_offsets(data2D[['y','x']]);   .get_facecolors()\n",
    "    \n",
    "    # Clean up the plot\n",
    "    ax.set_xticks([])\n",
    "    ax.set_yticks([])\n",
    "    ax.figure.tight_layout()\n",
    "    #plt.show()\n",
    "    \n",
    "    # Store state data:\n",
    "    ax.circles = None\n",
    "    ax.dragpoint = None\n",
    "    \n",
    "    draw_plot(ax, data2D)\n",
    "#     print(data2D.index)\n",
    "    return ax\n",
    "\n",
    "def draw_plot(ax, data2D):\n",
    "    # Re-draws the DR plot in the axes with the updated data2D\n",
    "    ax.clear()\n",
    "    # Map data to circles, with x, y, and relevance->color\n",
    "    wid = max(data2D.x.max() - data2D.x.min(), data2D.y.max() - data2D.y.min())  # max range of x,y axes\n",
    "    cnorm = matplotlib.colors.Normalize(vmin=data2D.relevance.min(), vmax=data2D.relevance.max())\n",
    "    ax.circles = data2D.apply(axis=1, func=lambda row: \n",
    "        matplotlib.patches.Circle(xy=(row.x, row.y), radius=wid/70, alpha=0.5, \n",
    "                                  color=plt.cm.plasma(cnorm(row.relevance)), picker=True))\n",
    "    for i,c in enumerate(ax.circles):\n",
    "        # Store state data:\n",
    "        c.index, c.label, c.selected = i, data2D.index[i], False\n",
    "        # Draw circles and text labels in plot\n",
    "        ax.add_patch(c)\n",
    "        c.text = ax.text(c.center[0]-c.radius/2, c.center[1]-c.radius/2, c.label)\n",
    "    # Make plot circles draggable\n",
    "    ax.dragpoint = DraggablePoints(ax, ax.circles)\n",
    "    \n",
    "    # Clean up the plot\n",
    "    ax.set_xticks([])\n",
    "    ax.set_yticks([])\n",
    "    ax.axis('equal')    \n",
    "    #plt.show()\n"
   ]
  },
  {
   "cell_type": "markdown",
   "metadata": {},
   "source": [
    "# Interactive Visualization"
   ]
  },
  {
   "cell_type": "markdown",
   "metadata": {},
   "source": [
    "## Sliders\n",
    "Use the sliders to control the **dimension weights** for the input HD data. The weights indicate which dimensions are given more emphasis in the DR plot distances.  For computational reasons, weights cannot go to absolute zero. When used in DR, the weights are first normalized such that they sum to 1.\n",
    "\n",
    "After adjusting the sliders, click the **Apply** button to show the results in the DR plot.\n",
    "\n",
    "To reset the sliders to their default values, click the **Reset** button."
   ]
  },
  {
   "cell_type": "code",
   "execution_count": 17,
   "metadata": {
    "scrolled": true
   },
   "outputs": [
    {
     "data": {
      "application/vnd.jupyter.widget-view+json": {
       "model_id": "2d4503a894d0472e908cbe362a3323a8",
       "version_major": 2,
       "version_minor": 0
      },
      "text/plain": [
       "FloatSlider(value=1e-05, continuous_update=False, description='1', max=0.9999, min=1e-05, readout_format='.5f'…"
      ]
     },
     "metadata": {},
     "output_type": "display_data"
    },
    {
     "data": {
      "application/vnd.jupyter.widget-view+json": {
       "model_id": "175f916db7394210b3abca4d49f8ea15",
       "version_major": 2,
       "version_minor": 0
      },
      "text/plain": [
       "FloatSlider(value=1e-05, continuous_update=False, description='2', max=0.9999, min=1e-05, readout_format='.5f'…"
      ]
     },
     "metadata": {},
     "output_type": "display_data"
    },
    {
     "data": {
      "application/vnd.jupyter.widget-view+json": {
       "model_id": "fe8bd762c0d0407ebd708195de703b1d",
       "version_major": 2,
       "version_minor": 0
      },
      "text/plain": [
       "FloatSlider(value=1e-05, continuous_update=False, description='3', max=0.9999, min=1e-05, readout_format='.5f'…"
      ]
     },
     "metadata": {},
     "output_type": "display_data"
    },
    {
     "data": {
      "application/vnd.jupyter.widget-view+json": {
       "model_id": "0e03152c041541679fc5d65729c7ca52",
       "version_major": 2,
       "version_minor": 0
      },
      "text/plain": [
       "FloatSlider(value=1e-05, continuous_update=False, description='4', max=0.9999, min=1e-05, readout_format='.5f'…"
      ]
     },
     "metadata": {},
     "output_type": "display_data"
    },
    {
     "data": {
      "application/vnd.jupyter.widget-view+json": {
       "model_id": "3d3751cc380e4561911f352bfc74100f",
       "version_major": 2,
       "version_minor": 0
      },
      "text/plain": [
       "FloatSlider(value=1e-05, continuous_update=False, description='5', max=0.9999, min=1e-05, readout_format='.5f'…"
      ]
     },
     "metadata": {},
     "output_type": "display_data"
    },
    {
     "data": {
      "application/vnd.jupyter.widget-view+json": {
       "model_id": "4cba3073e647418693c87fd172db1769",
       "version_major": 2,
       "version_minor": 0
      },
      "text/plain": [
       "FloatSlider(value=1e-05, continuous_update=False, description='6', max=0.9999, min=1e-05, readout_format='.5f'…"
      ]
     },
     "metadata": {},
     "output_type": "display_data"
    },
    {
     "data": {
      "application/vnd.jupyter.widget-view+json": {
       "model_id": "c5c4f212166140d4bf7abab05b134460",
       "version_major": 2,
       "version_minor": 0
      },
      "text/plain": [
       "FloatSlider(value=1e-05, continuous_update=False, description='7', max=0.9999, min=1e-05, readout_format='.5f'…"
      ]
     },
     "metadata": {},
     "output_type": "display_data"
    },
    {
     "data": {
      "application/vnd.jupyter.widget-view+json": {
       "model_id": "db8c275404c34ebb8d9878e4fb6996ce",
       "version_major": 2,
       "version_minor": 0
      },
      "text/plain": [
       "FloatSlider(value=1e-05, continuous_update=False, description='8', max=0.9999, min=1e-05, readout_format='.5f'…"
      ]
     },
     "metadata": {},
     "output_type": "display_data"
    },
    {
     "data": {
      "application/vnd.jupyter.widget-view+json": {
       "model_id": "39bf0e14fdda4a21a590b5237ccf4522",
       "version_major": 2,
       "version_minor": 0
      },
      "text/plain": [
       "FloatSlider(value=1e-05, continuous_update=False, description='9', max=0.9999, min=1e-05, readout_format='.5f'…"
      ]
     },
     "metadata": {},
     "output_type": "display_data"
    },
    {
     "data": {
      "application/vnd.jupyter.widget-view+json": {
       "model_id": "d211d7be5f8a4c99b5d423759eb5a6f1",
       "version_major": 2,
       "version_minor": 0
      },
      "text/plain": [
       "FloatSlider(value=1e-05, continuous_update=False, description='10', max=0.9999, min=1e-05, readout_format='.5f…"
      ]
     },
     "metadata": {},
     "output_type": "display_data"
    },
    {
     "data": {
      "application/vnd.jupyter.widget-view+json": {
       "model_id": "e43894c1d6fe46cca650d433aafa21f5",
       "version_major": 2,
       "version_minor": 0
      },
      "text/plain": [
       "FloatSlider(value=1e-05, continuous_update=False, description='11', max=0.9999, min=1e-05, readout_format='.5f…"
      ]
     },
     "metadata": {},
     "output_type": "display_data"
    },
    {
     "data": {
      "application/vnd.jupyter.widget-view+json": {
       "model_id": "0f64118ef151414ba95d60e59088203a",
       "version_major": 2,
       "version_minor": 0
      },
      "text/plain": [
       "FloatSlider(value=1e-05, continuous_update=False, description='12', max=0.9999, min=1e-05, readout_format='.5f…"
      ]
     },
     "metadata": {},
     "output_type": "display_data"
    },
    {
     "data": {
      "application/vnd.jupyter.widget-view+json": {
       "model_id": "3e6ba618efe347448e60cccc010e05e9",
       "version_major": 2,
       "version_minor": 0
      },
      "text/plain": [
       "FloatSlider(value=1e-05, continuous_update=False, description='13', max=0.9999, min=1e-05, readout_format='.5f…"
      ]
     },
     "metadata": {},
     "output_type": "display_data"
    },
    {
     "data": {
      "application/vnd.jupyter.widget-view+json": {
       "model_id": "e31025a290c247d28a96bc99e3374257",
       "version_major": 2,
       "version_minor": 0
      },
      "text/plain": [
       "FloatSlider(value=1e-05, continuous_update=False, description='14', max=0.9999, min=1e-05, readout_format='.5f…"
      ]
     },
     "metadata": {},
     "output_type": "display_data"
    },
    {
     "data": {
      "application/vnd.jupyter.widget-view+json": {
       "model_id": "fc5bba97a0a642fca768e3e23ba8c2a8",
       "version_major": 2,
       "version_minor": 0
      },
      "text/plain": [
       "FloatSlider(value=1e-05, continuous_update=False, description='15', max=0.9999, min=1e-05, readout_format='.5f…"
      ]
     },
     "metadata": {},
     "output_type": "display_data"
    },
    {
     "data": {
      "application/vnd.jupyter.widget-view+json": {
       "model_id": "d20f347c9d074ec7834eb734d5bd8534",
       "version_major": 2,
       "version_minor": 0
      },
      "text/plain": [
       "FloatSlider(value=1e-05, continuous_update=False, description='16', max=0.9999, min=1e-05, readout_format='.5f…"
      ]
     },
     "metadata": {},
     "output_type": "display_data"
    },
    {
     "data": {
      "application/vnd.jupyter.widget-view+json": {
       "model_id": "bd40f60848f94b5aac3022d74832ea87",
       "version_major": 2,
       "version_minor": 0
      },
      "text/plain": [
       "FloatSlider(value=1e-05, continuous_update=False, description='17', max=0.9999, min=1e-05, readout_format='.5f…"
      ]
     },
     "metadata": {},
     "output_type": "display_data"
    },
    {
     "data": {
      "application/vnd.jupyter.widget-view+json": {
       "model_id": "b13e5eb57455449bb08b915f39c9a26b",
       "version_major": 2,
       "version_minor": 0
      },
      "text/plain": [
       "FloatSlider(value=1e-05, continuous_update=False, description='18', max=0.9999, min=1e-05, readout_format='.5f…"
      ]
     },
     "metadata": {},
     "output_type": "display_data"
    },
    {
     "data": {
      "application/vnd.jupyter.widget-view+json": {
       "model_id": "a9026ffea56b4d4f96320e35b6dd35a7",
       "version_major": 2,
       "version_minor": 0
      },
      "text/plain": [
       "FloatSlider(value=1e-05, continuous_update=False, description='19', max=0.9999, min=1e-05, readout_format='.5f…"
      ]
     },
     "metadata": {},
     "output_type": "display_data"
    },
    {
     "data": {
      "application/vnd.jupyter.widget-view+json": {
       "model_id": "07d1ac0b8b3d43adb493177934fd2561",
       "version_major": 2,
       "version_minor": 0
      },
      "text/plain": [
       "FloatSlider(value=1e-05, continuous_update=False, description='20', max=0.9999, min=1e-05, readout_format='.5f…"
      ]
     },
     "metadata": {},
     "output_type": "display_data"
    },
    {
     "data": {
      "application/vnd.jupyter.widget-view+json": {
       "model_id": "072a43d3ee414f34b503a36477856fc4",
       "version_major": 2,
       "version_minor": 0
      },
      "text/plain": [
       "FloatSlider(value=1e-05, continuous_update=False, description='21', max=0.9999, min=1e-05, readout_format='.5f…"
      ]
     },
     "metadata": {},
     "output_type": "display_data"
    },
    {
     "data": {
      "application/vnd.jupyter.widget-view+json": {
       "model_id": "3123dd3cd2274401a5207563a3ee1ba7",
       "version_major": 2,
       "version_minor": 0
      },
      "text/plain": [
       "FloatSlider(value=1e-05, continuous_update=False, description='22', max=0.9999, min=1e-05, readout_format='.5f…"
      ]
     },
     "metadata": {},
     "output_type": "display_data"
    },
    {
     "data": {
      "application/vnd.jupyter.widget-view+json": {
       "model_id": "81480067c8a1477784575dce986357a5",
       "version_major": 2,
       "version_minor": 0
      },
      "text/plain": [
       "FloatSlider(value=1e-05, continuous_update=False, description='23', max=0.9999, min=1e-05, readout_format='.5f…"
      ]
     },
     "metadata": {},
     "output_type": "display_data"
    },
    {
     "data": {
      "application/vnd.jupyter.widget-view+json": {
       "model_id": "04c21d89b72a451180bf29965a936ca7",
       "version_major": 2,
       "version_minor": 0
      },
      "text/plain": [
       "FloatSlider(value=1e-05, continuous_update=False, description='24', max=0.9999, min=1e-05, readout_format='.5f…"
      ]
     },
     "metadata": {},
     "output_type": "display_data"
    },
    {
     "data": {
      "application/vnd.jupyter.widget-view+json": {
       "model_id": "1803d5ae2d5a4bbcb8d76738cd98fae7",
       "version_major": 2,
       "version_minor": 0
      },
      "text/plain": [
       "FloatSlider(value=1e-05, continuous_update=False, description='25', max=0.9999, min=1e-05, readout_format='.5f…"
      ]
     },
     "metadata": {},
     "output_type": "display_data"
    },
    {
     "data": {
      "application/vnd.jupyter.widget-view+json": {
       "model_id": "cf8f7dc58f1244239461bc13f70350e4",
       "version_major": 2,
       "version_minor": 0
      },
      "text/plain": [
       "FloatSlider(value=1e-05, continuous_update=False, description='26', max=0.9999, min=1e-05, readout_format='.5f…"
      ]
     },
     "metadata": {},
     "output_type": "display_data"
    },
    {
     "data": {
      "application/vnd.jupyter.widget-view+json": {
       "model_id": "45ab5580beb747bbb112518b2b9f1336",
       "version_major": 2,
       "version_minor": 0
      },
      "text/plain": [
       "FloatSlider(value=1e-05, continuous_update=False, description='27', max=0.9999, min=1e-05, readout_format='.5f…"
      ]
     },
     "metadata": {},
     "output_type": "display_data"
    },
    {
     "data": {
      "application/vnd.jupyter.widget-view+json": {
       "model_id": "80d9c9e105014fe0b70891a2f0a56fc1",
       "version_major": 2,
       "version_minor": 0
      },
      "text/plain": [
       "FloatSlider(value=1e-05, continuous_update=False, description='28', max=0.9999, min=1e-05, readout_format='.5f…"
      ]
     },
     "metadata": {},
     "output_type": "display_data"
    },
    {
     "data": {
      "application/vnd.jupyter.widget-view+json": {
       "model_id": "0156366302194dd09b0c5704548b94ee",
       "version_major": 2,
       "version_minor": 0
      },
      "text/plain": [
       "FloatSlider(value=1e-05, continuous_update=False, description='29', max=0.9999, min=1e-05, readout_format='.5f…"
      ]
     },
     "metadata": {},
     "output_type": "display_data"
    },
    {
     "data": {
      "application/vnd.jupyter.widget-view+json": {
       "model_id": "99c8a8492dfe4ea2aaff4b40d60bdc5f",
       "version_major": 2,
       "version_minor": 0
      },
      "text/plain": [
       "FloatSlider(value=1e-05, continuous_update=False, description='30', max=0.9999, min=1e-05, readout_format='.5f…"
      ]
     },
     "metadata": {},
     "output_type": "display_data"
    },
    {
     "data": {
      "application/vnd.jupyter.widget-view+json": {
       "model_id": "5308af3cd25a443880448ed8a1d6fba1",
       "version_major": 2,
       "version_minor": 0
      },
      "text/plain": [
       "FloatSlider(value=1e-05, continuous_update=False, description='31', max=0.9999, min=1e-05, readout_format='.5f…"
      ]
     },
     "metadata": {},
     "output_type": "display_data"
    },
    {
     "data": {
      "application/vnd.jupyter.widget-view+json": {
       "model_id": "01c56dc9fb764ede856bbc6c513d5e62",
       "version_major": 2,
       "version_minor": 0
      },
      "text/plain": [
       "FloatSlider(value=1e-05, continuous_update=False, description='32', max=0.9999, min=1e-05, readout_format='.5f…"
      ]
     },
     "metadata": {},
     "output_type": "display_data"
    },
    {
     "data": {
      "application/vnd.jupyter.widget-view+json": {
       "model_id": "737c7ec82f56432bb4b624272658f96a",
       "version_major": 2,
       "version_minor": 0
      },
      "text/plain": [
       "FloatSlider(value=1e-05, continuous_update=False, description='33', max=0.9999, min=1e-05, readout_format='.5f…"
      ]
     },
     "metadata": {},
     "output_type": "display_data"
    },
    {
     "data": {
      "application/vnd.jupyter.widget-view+json": {
       "model_id": "dae0a0297c3b4d18b65f22c557f98dea",
       "version_major": 2,
       "version_minor": 0
      },
      "text/plain": [
       "FloatSlider(value=1e-05, continuous_update=False, description='34', max=0.9999, min=1e-05, readout_format='.5f…"
      ]
     },
     "metadata": {},
     "output_type": "display_data"
    },
    {
     "data": {
      "application/vnd.jupyter.widget-view+json": {
       "model_id": "805d0162aa26408fb252b588b8ea4c51",
       "version_major": 2,
       "version_minor": 0
      },
      "text/plain": [
       "FloatSlider(value=1e-05, continuous_update=False, description='35', max=0.9999, min=1e-05, readout_format='.5f…"
      ]
     },
     "metadata": {},
     "output_type": "display_data"
    },
    {
     "data": {
      "application/vnd.jupyter.widget-view+json": {
       "model_id": "3957da84c95742ad8e050db5e8a39c21",
       "version_major": 2,
       "version_minor": 0
      },
      "text/plain": [
       "FloatSlider(value=1e-05, continuous_update=False, description='36', max=0.9999, min=1e-05, readout_format='.5f…"
      ]
     },
     "metadata": {},
     "output_type": "display_data"
    },
    {
     "data": {
      "application/vnd.jupyter.widget-view+json": {
       "model_id": "a68cfef29829450a8027cf6049e0c668",
       "version_major": 2,
       "version_minor": 0
      },
      "text/plain": [
       "FloatSlider(value=1e-05, continuous_update=False, description='37', max=0.9999, min=1e-05, readout_format='.5f…"
      ]
     },
     "metadata": {},
     "output_type": "display_data"
    },
    {
     "data": {
      "application/vnd.jupyter.widget-view+json": {
       "model_id": "7c04b14e64bf4424a2a21d7d36537b30",
       "version_major": 2,
       "version_minor": 0
      },
      "text/plain": [
       "FloatSlider(value=1e-05, continuous_update=False, description='38', max=0.9999, min=1e-05, readout_format='.5f…"
      ]
     },
     "metadata": {},
     "output_type": "display_data"
    },
    {
     "data": {
      "application/vnd.jupyter.widget-view+json": {
       "model_id": "4bef1587dc2e468b8ba09ca4433bc1a7",
       "version_major": 2,
       "version_minor": 0
      },
      "text/plain": [
       "FloatSlider(value=1e-05, continuous_update=False, description='39', max=0.9999, min=1e-05, readout_format='.5f…"
      ]
     },
     "metadata": {},
     "output_type": "display_data"
    },
    {
     "data": {
      "application/vnd.jupyter.widget-view+json": {
       "model_id": "83405001e4784cad90abbdc6bc9576a8",
       "version_major": 2,
       "version_minor": 0
      },
      "text/plain": [
       "FloatSlider(value=1e-05, continuous_update=False, description='40', max=0.9999, min=1e-05, readout_format='.5f…"
      ]
     },
     "metadata": {},
     "output_type": "display_data"
    },
    {
     "data": {
      "application/vnd.jupyter.widget-view+json": {
       "model_id": "c5550359958f4c488870256ec68f720b",
       "version_major": 2,
       "version_minor": 0
      },
      "text/plain": [
       "FloatSlider(value=1e-05, continuous_update=False, description='41', max=0.9999, min=1e-05, readout_format='.5f…"
      ]
     },
     "metadata": {},
     "output_type": "display_data"
    },
    {
     "data": {
      "application/vnd.jupyter.widget-view+json": {
       "model_id": "1d803bab5a134b41a342078ae3c1c8e0",
       "version_major": 2,
       "version_minor": 0
      },
      "text/plain": [
       "FloatSlider(value=1e-05, continuous_update=False, description='42', max=0.9999, min=1e-05, readout_format='.5f…"
      ]
     },
     "metadata": {},
     "output_type": "display_data"
    },
    {
     "data": {
      "application/vnd.jupyter.widget-view+json": {
       "model_id": "404a36521bab49539891b7b486f20e28",
       "version_major": 2,
       "version_minor": 0
      },
      "text/plain": [
       "FloatSlider(value=1e-05, continuous_update=False, description='43', max=0.9999, min=1e-05, readout_format='.5f…"
      ]
     },
     "metadata": {},
     "output_type": "display_data"
    },
    {
     "data": {
      "application/vnd.jupyter.widget-view+json": {
       "model_id": "3a355417d4a24a578910dda52f7dee75",
       "version_major": 2,
       "version_minor": 0
      },
      "text/plain": [
       "FloatSlider(value=1e-05, continuous_update=False, description='44', max=0.9999, min=1e-05, readout_format='.5f…"
      ]
     },
     "metadata": {},
     "output_type": "display_data"
    },
    {
     "data": {
      "application/vnd.jupyter.widget-view+json": {
       "model_id": "5591f6dd53214287904c7db2a68f5499",
       "version_major": 2,
       "version_minor": 0
      },
      "text/plain": [
       "FloatSlider(value=1e-05, continuous_update=False, description='45', max=0.9999, min=1e-05, readout_format='.5f…"
      ]
     },
     "metadata": {},
     "output_type": "display_data"
    },
    {
     "data": {
      "application/vnd.jupyter.widget-view+json": {
       "model_id": "bb2c9ffc858b4cbf829b1a6645fa90d7",
       "version_major": 2,
       "version_minor": 0
      },
      "text/plain": [
       "FloatSlider(value=1e-05, continuous_update=False, description='46', max=0.9999, min=1e-05, readout_format='.5f…"
      ]
     },
     "metadata": {},
     "output_type": "display_data"
    },
    {
     "data": {
      "application/vnd.jupyter.widget-view+json": {
       "model_id": "8554d47575034e2598f5e88a8c46c40c",
       "version_major": 2,
       "version_minor": 0
      },
      "text/plain": [
       "FloatSlider(value=1e-05, continuous_update=False, description='47', max=0.9999, min=1e-05, readout_format='.5f…"
      ]
     },
     "metadata": {},
     "output_type": "display_data"
    },
    {
     "data": {
      "application/vnd.jupyter.widget-view+json": {
       "model_id": "326b6d5e634d42558730a7df0f3abd28",
       "version_major": 2,
       "version_minor": 0
      },
      "text/plain": [
       "FloatSlider(value=1e-05, continuous_update=False, description='48', max=0.9999, min=1e-05, readout_format='.5f…"
      ]
     },
     "metadata": {},
     "output_type": "display_data"
    },
    {
     "data": {
      "application/vnd.jupyter.widget-view+json": {
       "model_id": "180b176da846473ca2519ba1553b0664",
       "version_major": 2,
       "version_minor": 0
      },
      "text/plain": [
       "FloatSlider(value=1e-05, continuous_update=False, description='49', max=0.9999, min=1e-05, readout_format='.5f…"
      ]
     },
     "metadata": {},
     "output_type": "display_data"
    },
    {
     "data": {
      "application/vnd.jupyter.widget-view+json": {
       "model_id": "360ab62a06004555b0b891056847e47f",
       "version_major": 2,
       "version_minor": 0
      },
      "text/plain": [
       "FloatSlider(value=1e-05, continuous_update=False, description='50', max=0.9999, min=1e-05, readout_format='.5f…"
      ]
     },
     "metadata": {},
     "output_type": "display_data"
    },
    {
     "data": {
      "application/vnd.jupyter.widget-view+json": {
       "model_id": "c437e6854df84fe3adc4c41e8a04efbb",
       "version_major": 2,
       "version_minor": 0
      },
      "text/plain": [
       "FloatSlider(value=1e-05, continuous_update=False, description='51', max=0.9999, min=1e-05, readout_format='.5f…"
      ]
     },
     "metadata": {},
     "output_type": "display_data"
    },
    {
     "data": {
      "application/vnd.jupyter.widget-view+json": {
       "model_id": "59f0a94c2a5e457796c7c8196a34128b",
       "version_major": 2,
       "version_minor": 0
      },
      "text/plain": [
       "FloatSlider(value=1e-05, continuous_update=False, description='52', max=0.9999, min=1e-05, readout_format='.5f…"
      ]
     },
     "metadata": {},
     "output_type": "display_data"
    },
    {
     "data": {
      "application/vnd.jupyter.widget-view+json": {
       "model_id": "f2c8204139f94be8a06c6f93bd702873",
       "version_major": 2,
       "version_minor": 0
      },
      "text/plain": [
       "FloatSlider(value=1e-05, continuous_update=False, description='53', max=0.9999, min=1e-05, readout_format='.5f…"
      ]
     },
     "metadata": {},
     "output_type": "display_data"
    },
    {
     "data": {
      "application/vnd.jupyter.widget-view+json": {
       "model_id": "58e12870cc41472b83cbb8870895b87c",
       "version_major": 2,
       "version_minor": 0
      },
      "text/plain": [
       "FloatSlider(value=1e-05, continuous_update=False, description='54', max=0.9999, min=1e-05, readout_format='.5f…"
      ]
     },
     "metadata": {},
     "output_type": "display_data"
    },
    {
     "data": {
      "application/vnd.jupyter.widget-view+json": {
       "model_id": "e40d1bbec21f4bf2b0d6b7ea132e3906",
       "version_major": 2,
       "version_minor": 0
      },
      "text/plain": [
       "FloatSlider(value=1e-05, continuous_update=False, description='55', max=0.9999, min=1e-05, readout_format='.5f…"
      ]
     },
     "metadata": {},
     "output_type": "display_data"
    },
    {
     "data": {
      "application/vnd.jupyter.widget-view+json": {
       "model_id": "f90e9cf4801c4b30b4320cad41f5a4c2",
       "version_major": 2,
       "version_minor": 0
      },
      "text/plain": [
       "FloatSlider(value=1e-05, continuous_update=False, description='56', max=0.9999, min=1e-05, readout_format='.5f…"
      ]
     },
     "metadata": {},
     "output_type": "display_data"
    },
    {
     "data": {
      "application/vnd.jupyter.widget-view+json": {
       "model_id": "791a43800f6e4b0fac73d97819dc8855",
       "version_major": 2,
       "version_minor": 0
      },
      "text/plain": [
       "FloatSlider(value=1e-05, continuous_update=False, description='57', max=0.9999, min=1e-05, readout_format='.5f…"
      ]
     },
     "metadata": {},
     "output_type": "display_data"
    },
    {
     "data": {
      "application/vnd.jupyter.widget-view+json": {
       "model_id": "7335ebbdade14c37a698761269fa7c3d",
       "version_major": 2,
       "version_minor": 0
      },
      "text/plain": [
       "FloatSlider(value=1e-05, continuous_update=False, description='58', max=0.9999, min=1e-05, readout_format='.5f…"
      ]
     },
     "metadata": {},
     "output_type": "display_data"
    },
    {
     "data": {
      "application/vnd.jupyter.widget-view+json": {
       "model_id": "b2dd10b3a4bc48e697f2fef1f80788dc",
       "version_major": 2,
       "version_minor": 0
      },
      "text/plain": [
       "FloatSlider(value=1e-05, continuous_update=False, description='59', max=0.9999, min=1e-05, readout_format='.5f…"
      ]
     },
     "metadata": {},
     "output_type": "display_data"
    },
    {
     "data": {
      "application/vnd.jupyter.widget-view+json": {
       "model_id": "6bceb80ec84540a0aa1084ecc963dd24",
       "version_major": 2,
       "version_minor": 0
      },
      "text/plain": [
       "FloatSlider(value=1e-05, continuous_update=False, description='60', max=0.9999, min=1e-05, readout_format='.5f…"
      ]
     },
     "metadata": {},
     "output_type": "display_data"
    },
    {
     "data": {
      "application/vnd.jupyter.widget-view+json": {
       "model_id": "364d9c92084f426f8b8f8ba8a8563062",
       "version_major": 2,
       "version_minor": 0
      },
      "text/plain": [
       "FloatSlider(value=1e-05, continuous_update=False, description='61', max=0.9999, min=1e-05, readout_format='.5f…"
      ]
     },
     "metadata": {},
     "output_type": "display_data"
    },
    {
     "data": {
      "application/vnd.jupyter.widget-view+json": {
       "model_id": "010dd779018541af8187687110f8cac9",
       "version_major": 2,
       "version_minor": 0
      },
      "text/plain": [
       "FloatSlider(value=1e-05, continuous_update=False, description='62', max=0.9999, min=1e-05, readout_format='.5f…"
      ]
     },
     "metadata": {},
     "output_type": "display_data"
    },
    {
     "data": {
      "application/vnd.jupyter.widget-view+json": {
       "model_id": "1dc01701d47242589604d8833ae03f32",
       "version_major": 2,
       "version_minor": 0
      },
      "text/plain": [
       "FloatSlider(value=1e-05, continuous_update=False, description='63', max=0.9999, min=1e-05, readout_format='.5f…"
      ]
     },
     "metadata": {},
     "output_type": "display_data"
    },
    {
     "data": {
      "application/vnd.jupyter.widget-view+json": {
       "model_id": "a7a2886ecd2a479d8c3eb5507386ea1e",
       "version_major": 2,
       "version_minor": 0
      },
      "text/plain": [
       "FloatSlider(value=1e-05, continuous_update=False, description='64', max=0.9999, min=1e-05, readout_format='.5f…"
      ]
     },
     "metadata": {},
     "output_type": "display_data"
    },
    {
     "data": {
      "application/vnd.jupyter.widget-view+json": {
       "model_id": "8e833191e04747c2a5ae06c22c600cca",
       "version_major": 2,
       "version_minor": 0
      },
      "text/plain": [
       "FloatSlider(value=1e-05, continuous_update=False, description='65', max=0.9999, min=1e-05, readout_format='.5f…"
      ]
     },
     "metadata": {},
     "output_type": "display_data"
    },
    {
     "data": {
      "application/vnd.jupyter.widget-view+json": {
       "model_id": "ec1892f7445a48158a80c6a0fe5df612",
       "version_major": 2,
       "version_minor": 0
      },
      "text/plain": [
       "FloatSlider(value=1e-05, continuous_update=False, description='66', max=0.9999, min=1e-05, readout_format='.5f…"
      ]
     },
     "metadata": {},
     "output_type": "display_data"
    },
    {
     "data": {
      "application/vnd.jupyter.widget-view+json": {
       "model_id": "6a994ee83e4543a1b931cc885d99cb44",
       "version_major": 2,
       "version_minor": 0
      },
      "text/plain": [
       "FloatSlider(value=1e-05, continuous_update=False, description='67', max=0.9999, min=1e-05, readout_format='.5f…"
      ]
     },
     "metadata": {},
     "output_type": "display_data"
    },
    {
     "data": {
      "application/vnd.jupyter.widget-view+json": {
       "model_id": "a5519f8a0f3d4fbaa16590f8d2b0f1a3",
       "version_major": 2,
       "version_minor": 0
      },
      "text/plain": [
       "FloatSlider(value=1e-05, continuous_update=False, description='68', max=0.9999, min=1e-05, readout_format='.5f…"
      ]
     },
     "metadata": {},
     "output_type": "display_data"
    },
    {
     "data": {
      "application/vnd.jupyter.widget-view+json": {
       "model_id": "d73e7f06ef4b42f0a11e360febf7818f",
       "version_major": 2,
       "version_minor": 0
      },
      "text/plain": [
       "FloatSlider(value=1e-05, continuous_update=False, description='69', max=0.9999, min=1e-05, readout_format='.5f…"
      ]
     },
     "metadata": {},
     "output_type": "display_data"
    },
    {
     "data": {
      "application/vnd.jupyter.widget-view+json": {
       "model_id": "5d865621e72a4a78845d726db1430f49",
       "version_major": 2,
       "version_minor": 0
      },
      "text/plain": [
       "FloatSlider(value=1e-05, continuous_update=False, description='70', max=0.9999, min=1e-05, readout_format='.5f…"
      ]
     },
     "metadata": {},
     "output_type": "display_data"
    },
    {
     "data": {
      "application/vnd.jupyter.widget-view+json": {
       "model_id": "34152641f76746e492b32aacf65650f6",
       "version_major": 2,
       "version_minor": 0
      },
      "text/plain": [
       "FloatSlider(value=1e-05, continuous_update=False, description='71', max=0.9999, min=1e-05, readout_format='.5f…"
      ]
     },
     "metadata": {},
     "output_type": "display_data"
    },
    {
     "data": {
      "application/vnd.jupyter.widget-view+json": {
       "model_id": "07af9d3efdb34e6a81eb9c182f23b94c",
       "version_major": 2,
       "version_minor": 0
      },
      "text/plain": [
       "FloatSlider(value=1e-05, continuous_update=False, description='72', max=0.9999, min=1e-05, readout_format='.5f…"
      ]
     },
     "metadata": {},
     "output_type": "display_data"
    },
    {
     "data": {
      "application/vnd.jupyter.widget-view+json": {
       "model_id": "7268599d54724a509908f804f5d16059",
       "version_major": 2,
       "version_minor": 0
      },
      "text/plain": [
       "FloatSlider(value=1e-05, continuous_update=False, description='73', max=0.9999, min=1e-05, readout_format='.5f…"
      ]
     },
     "metadata": {},
     "output_type": "display_data"
    },
    {
     "data": {
      "application/vnd.jupyter.widget-view+json": {
       "model_id": "7005c66ba46d41c5a05faa235a80f143",
       "version_major": 2,
       "version_minor": 0
      },
      "text/plain": [
       "FloatSlider(value=1e-05, continuous_update=False, description='74', max=0.9999, min=1e-05, readout_format='.5f…"
      ]
     },
     "metadata": {},
     "output_type": "display_data"
    },
    {
     "data": {
      "application/vnd.jupyter.widget-view+json": {
       "model_id": "0665f929a9e04f9085a797cc40a87b4e",
       "version_major": 2,
       "version_minor": 0
      },
      "text/plain": [
       "FloatSlider(value=1e-05, continuous_update=False, description='75', max=0.9999, min=1e-05, readout_format='.5f…"
      ]
     },
     "metadata": {},
     "output_type": "display_data"
    },
    {
     "data": {
      "application/vnd.jupyter.widget-view+json": {
       "model_id": "61689498890249ad821c38547812d62b",
       "version_major": 2,
       "version_minor": 0
      },
      "text/plain": [
       "FloatSlider(value=1e-05, continuous_update=False, description='76', max=0.9999, min=1e-05, readout_format='.5f…"
      ]
     },
     "metadata": {},
     "output_type": "display_data"
    },
    {
     "data": {
      "application/vnd.jupyter.widget-view+json": {
       "model_id": "c494a064394f432783743f670b86eb07",
       "version_major": 2,
       "version_minor": 0
      },
      "text/plain": [
       "FloatSlider(value=1e-05, continuous_update=False, description='77', max=0.9999, min=1e-05, readout_format='.5f…"
      ]
     },
     "metadata": {},
     "output_type": "display_data"
    },
    {
     "data": {
      "application/vnd.jupyter.widget-view+json": {
       "model_id": "fadd23fb8e7543729b32225e0f1840c4",
       "version_major": 2,
       "version_minor": 0
      },
      "text/plain": [
       "FloatSlider(value=1e-05, continuous_update=False, description='78', max=0.9999, min=1e-05, readout_format='.5f…"
      ]
     },
     "metadata": {},
     "output_type": "display_data"
    },
    {
     "data": {
      "application/vnd.jupyter.widget-view+json": {
       "model_id": "3264e883e3f844a79b7248f02e6ad3cf",
       "version_major": 2,
       "version_minor": 0
      },
      "text/plain": [
       "FloatSlider(value=1e-05, continuous_update=False, description='79', max=0.9999, min=1e-05, readout_format='.5f…"
      ]
     },
     "metadata": {},
     "output_type": "display_data"
    },
    {
     "data": {
      "application/vnd.jupyter.widget-view+json": {
       "model_id": "81a88c47d181412ba7e88a94cdd13edb",
       "version_major": 2,
       "version_minor": 0
      },
      "text/plain": [
       "FloatSlider(value=1e-05, continuous_update=False, description='80', max=0.9999, min=1e-05, readout_format='.5f…"
      ]
     },
     "metadata": {},
     "output_type": "display_data"
    },
    {
     "data": {
      "application/vnd.jupyter.widget-view+json": {
       "model_id": "023808189fa048dca3dc56a32ab0b0a0",
       "version_major": 2,
       "version_minor": 0
      },
      "text/plain": [
       "FloatSlider(value=1e-05, continuous_update=False, description='81', max=0.9999, min=1e-05, readout_format='.5f…"
      ]
     },
     "metadata": {},
     "output_type": "display_data"
    },
    {
     "data": {
      "application/vnd.jupyter.widget-view+json": {
       "model_id": "746bce72ee0b49d5a0ceeab4a95136b9",
       "version_major": 2,
       "version_minor": 0
      },
      "text/plain": [
       "FloatSlider(value=1e-05, continuous_update=False, description='82', max=0.9999, min=1e-05, readout_format='.5f…"
      ]
     },
     "metadata": {},
     "output_type": "display_data"
    },
    {
     "data": {
      "application/vnd.jupyter.widget-view+json": {
       "model_id": "ed928223fc6947a6ab281c7735cc0a00",
       "version_major": 2,
       "version_minor": 0
      },
      "text/plain": [
       "FloatSlider(value=1e-05, continuous_update=False, description='83', max=0.9999, min=1e-05, readout_format='.5f…"
      ]
     },
     "metadata": {},
     "output_type": "display_data"
    },
    {
     "data": {
      "application/vnd.jupyter.widget-view+json": {
       "model_id": "aea12d26701747b887eadd962a6334e5",
       "version_major": 2,
       "version_minor": 0
      },
      "text/plain": [
       "FloatSlider(value=1e-05, continuous_update=False, description='84', max=0.9999, min=1e-05, readout_format='.5f…"
      ]
     },
     "metadata": {},
     "output_type": "display_data"
    },
    {
     "data": {
      "application/vnd.jupyter.widget-view+json": {
       "model_id": "737298df4e1c47219273cbd470d50291",
       "version_major": 2,
       "version_minor": 0
      },
      "text/plain": [
       "FloatSlider(value=1e-05, continuous_update=False, description='85', max=0.9999, min=1e-05, readout_format='.5f…"
      ]
     },
     "metadata": {},
     "output_type": "display_data"
    },
    {
     "data": {
      "application/vnd.jupyter.widget-view+json": {
       "model_id": "e8edf14305d84fed8ccc7d371956ed30",
       "version_major": 2,
       "version_minor": 0
      },
      "text/plain": [
       "FloatSlider(value=1e-05, continuous_update=False, description='86', max=0.9999, min=1e-05, readout_format='.5f…"
      ]
     },
     "metadata": {},
     "output_type": "display_data"
    },
    {
     "data": {
      "application/vnd.jupyter.widget-view+json": {
       "model_id": "0a6995d1ffd0412abba462dabfa820ea",
       "version_major": 2,
       "version_minor": 0
      },
      "text/plain": [
       "FloatSlider(value=1e-05, continuous_update=False, description='87', max=0.9999, min=1e-05, readout_format='.5f…"
      ]
     },
     "metadata": {},
     "output_type": "display_data"
    },
    {
     "data": {
      "application/vnd.jupyter.widget-view+json": {
       "model_id": "431f98f1eceb4c6ab3c03f18e51cda33",
       "version_major": 2,
       "version_minor": 0
      },
      "text/plain": [
       "FloatSlider(value=1e-05, continuous_update=False, description='88', max=0.9999, min=1e-05, readout_format='.5f…"
      ]
     },
     "metadata": {},
     "output_type": "display_data"
    },
    {
     "data": {
      "application/vnd.jupyter.widget-view+json": {
       "model_id": "0bd5308ce89a4368b338ff641465b532",
       "version_major": 2,
       "version_minor": 0
      },
      "text/plain": [
       "FloatSlider(value=1e-05, continuous_update=False, description='89', max=0.9999, min=1e-05, readout_format='.5f…"
      ]
     },
     "metadata": {},
     "output_type": "display_data"
    },
    {
     "data": {
      "application/vnd.jupyter.widget-view+json": {
       "model_id": "ca430ddcea8b49baa843e7bfb0394a75",
       "version_major": 2,
       "version_minor": 0
      },
      "text/plain": [
       "FloatSlider(value=1e-05, continuous_update=False, description='90', max=0.9999, min=1e-05, readout_format='.5f…"
      ]
     },
     "metadata": {},
     "output_type": "display_data"
    },
    {
     "data": {
      "application/vnd.jupyter.widget-view+json": {
       "model_id": "1324e37910564424a89d9910f23b3899",
       "version_major": 2,
       "version_minor": 0
      },
      "text/plain": [
       "FloatSlider(value=1e-05, continuous_update=False, description='91', max=0.9999, min=1e-05, readout_format='.5f…"
      ]
     },
     "metadata": {},
     "output_type": "display_data"
    },
    {
     "data": {
      "application/vnd.jupyter.widget-view+json": {
       "model_id": "267081789485497b8e7b11a377ec4ab4",
       "version_major": 2,
       "version_minor": 0
      },
      "text/plain": [
       "FloatSlider(value=1e-05, continuous_update=False, description='92', max=0.9999, min=1e-05, readout_format='.5f…"
      ]
     },
     "metadata": {},
     "output_type": "display_data"
    },
    {
     "data": {
      "application/vnd.jupyter.widget-view+json": {
       "model_id": "61a88a86af1b4f2989a125b7647bd679",
       "version_major": 2,
       "version_minor": 0
      },
      "text/plain": [
       "FloatSlider(value=1e-05, continuous_update=False, description='93', max=0.9999, min=1e-05, readout_format='.5f…"
      ]
     },
     "metadata": {},
     "output_type": "display_data"
    },
    {
     "data": {
      "application/vnd.jupyter.widget-view+json": {
       "model_id": "86ba280c603744678703d733fadb1654",
       "version_major": 2,
       "version_minor": 0
      },
      "text/plain": [
       "FloatSlider(value=1e-05, continuous_update=False, description='94', max=0.9999, min=1e-05, readout_format='.5f…"
      ]
     },
     "metadata": {},
     "output_type": "display_data"
    },
    {
     "data": {
      "application/vnd.jupyter.widget-view+json": {
       "model_id": "be5da67ff7744f81a4064b53a5adeab4",
       "version_major": 2,
       "version_minor": 0
      },
      "text/plain": [
       "FloatSlider(value=1e-05, continuous_update=False, description='95', max=0.9999, min=1e-05, readout_format='.5f…"
      ]
     },
     "metadata": {},
     "output_type": "display_data"
    },
    {
     "data": {
      "application/vnd.jupyter.widget-view+json": {
       "model_id": "0bbc4d6b5ee646e29b81662e315d5ea8",
       "version_major": 2,
       "version_minor": 0
      },
      "text/plain": [
       "FloatSlider(value=1e-05, continuous_update=False, description='96', max=0.9999, min=1e-05, readout_format='.5f…"
      ]
     },
     "metadata": {},
     "output_type": "display_data"
    },
    {
     "data": {
      "application/vnd.jupyter.widget-view+json": {
       "model_id": "0bfbe28210b7488c947097ef2398eb29",
       "version_major": 2,
       "version_minor": 0
      },
      "text/plain": [
       "FloatSlider(value=1e-05, continuous_update=False, description='97', max=0.9999, min=1e-05, readout_format='.5f…"
      ]
     },
     "metadata": {},
     "output_type": "display_data"
    },
    {
     "data": {
      "application/vnd.jupyter.widget-view+json": {
       "model_id": "4cc88b12de4a44359cf68dcacf4b3d94",
       "version_major": 2,
       "version_minor": 0
      },
      "text/plain": [
       "FloatSlider(value=1e-05, continuous_update=False, description='98', max=0.9999, min=1e-05, readout_format='.5f…"
      ]
     },
     "metadata": {},
     "output_type": "display_data"
    },
    {
     "data": {
      "application/vnd.jupyter.widget-view+json": {
       "model_id": "b290609871874fee8e516e84cfe1cbb9",
       "version_major": 2,
       "version_minor": 0
      },
      "text/plain": [
       "FloatSlider(value=1e-05, continuous_update=False, description='99', max=0.9999, min=1e-05, readout_format='.5f…"
      ]
     },
     "metadata": {},
     "output_type": "display_data"
    },
    {
     "data": {
      "application/vnd.jupyter.widget-view+json": {
       "model_id": "e793e863525947c1b111d24da67a1463",
       "version_major": 2,
       "version_minor": 0
      },
      "text/plain": [
       "FloatSlider(value=1e-05, continuous_update=False, description='100', max=0.9999, min=1e-05, readout_format='.5…"
      ]
     },
     "metadata": {},
     "output_type": "display_data"
    },
    {
     "data": {
      "application/vnd.jupyter.widget-view+json": {
       "model_id": "d39a52f594814a3bb4a84d0fc70eb8e8",
       "version_major": 2,
       "version_minor": 0
      },
      "text/plain": [
       "FloatSlider(value=1e-05, continuous_update=False, description='101', max=0.9999, min=1e-05, readout_format='.5…"
      ]
     },
     "metadata": {},
     "output_type": "display_data"
    },
    {
     "data": {
      "application/vnd.jupyter.widget-view+json": {
       "model_id": "5cda0defa54c4b72949686414618bb6e",
       "version_major": 2,
       "version_minor": 0
      },
      "text/plain": [
       "FloatSlider(value=1e-05, continuous_update=False, description='102', max=0.9999, min=1e-05, readout_format='.5…"
      ]
     },
     "metadata": {},
     "output_type": "display_data"
    },
    {
     "data": {
      "application/vnd.jupyter.widget-view+json": {
       "model_id": "2d84476f392441d685d65f1a926a8631",
       "version_major": 2,
       "version_minor": 0
      },
      "text/plain": [
       "FloatSlider(value=1e-05, continuous_update=False, description='103', max=0.9999, min=1e-05, readout_format='.5…"
      ]
     },
     "metadata": {},
     "output_type": "display_data"
    },
    {
     "data": {
      "application/vnd.jupyter.widget-view+json": {
       "model_id": "1402d19c53b14543b39ae60f22674aba",
       "version_major": 2,
       "version_minor": 0
      },
      "text/plain": [
       "FloatSlider(value=1e-05, continuous_update=False, description='104', max=0.9999, min=1e-05, readout_format='.5…"
      ]
     },
     "metadata": {},
     "output_type": "display_data"
    },
    {
     "data": {
      "application/vnd.jupyter.widget-view+json": {
       "model_id": "f620a5e68b5c4cdba18ee9080076d84c",
       "version_major": 2,
       "version_minor": 0
      },
      "text/plain": [
       "FloatSlider(value=1e-05, continuous_update=False, description='105', max=0.9999, min=1e-05, readout_format='.5…"
      ]
     },
     "metadata": {},
     "output_type": "display_data"
    },
    {
     "data": {
      "application/vnd.jupyter.widget-view+json": {
       "model_id": "aa9baf059f794e1eb2b5765bd1815500",
       "version_major": 2,
       "version_minor": 0
      },
      "text/plain": [
       "FloatSlider(value=1e-05, continuous_update=False, description='106', max=0.9999, min=1e-05, readout_format='.5…"
      ]
     },
     "metadata": {},
     "output_type": "display_data"
    },
    {
     "data": {
      "application/vnd.jupyter.widget-view+json": {
       "model_id": "d9ab0ac85da941528ef881794bc0c65b",
       "version_major": 2,
       "version_minor": 0
      },
      "text/plain": [
       "FloatSlider(value=1e-05, continuous_update=False, description='107', max=0.9999, min=1e-05, readout_format='.5…"
      ]
     },
     "metadata": {},
     "output_type": "display_data"
    },
    {
     "data": {
      "application/vnd.jupyter.widget-view+json": {
       "model_id": "fab8327b3a584224a248fca13fd16ba8",
       "version_major": 2,
       "version_minor": 0
      },
      "text/plain": [
       "FloatSlider(value=1e-05, continuous_update=False, description='108', max=0.9999, min=1e-05, readout_format='.5…"
      ]
     },
     "metadata": {},
     "output_type": "display_data"
    },
    {
     "data": {
      "application/vnd.jupyter.widget-view+json": {
       "model_id": "aa47f52556ac405d85a93815b783588a",
       "version_major": 2,
       "version_minor": 0
      },
      "text/plain": [
       "FloatSlider(value=1e-05, continuous_update=False, description='109', max=0.9999, min=1e-05, readout_format='.5…"
      ]
     },
     "metadata": {},
     "output_type": "display_data"
    },
    {
     "data": {
      "application/vnd.jupyter.widget-view+json": {
       "model_id": "d1bc94e8e7c0494fb3b5908231437cd7",
       "version_major": 2,
       "version_minor": 0
      },
      "text/plain": [
       "FloatSlider(value=1e-05, continuous_update=False, description='110', max=0.9999, min=1e-05, readout_format='.5…"
      ]
     },
     "metadata": {},
     "output_type": "display_data"
    },
    {
     "data": {
      "application/vnd.jupyter.widget-view+json": {
       "model_id": "256b5fcd79e64a85820433a2c439ae69",
       "version_major": 2,
       "version_minor": 0
      },
      "text/plain": [
       "FloatSlider(value=1e-05, continuous_update=False, description='111', max=0.9999, min=1e-05, readout_format='.5…"
      ]
     },
     "metadata": {},
     "output_type": "display_data"
    },
    {
     "data": {
      "application/vnd.jupyter.widget-view+json": {
       "model_id": "60373ef3e357479690423cc9c1f2aa23",
       "version_major": 2,
       "version_minor": 0
      },
      "text/plain": [
       "FloatSlider(value=1e-05, continuous_update=False, description='112', max=0.9999, min=1e-05, readout_format='.5…"
      ]
     },
     "metadata": {},
     "output_type": "display_data"
    },
    {
     "data": {
      "application/vnd.jupyter.widget-view+json": {
       "model_id": "a4dbb13849134566bdf7c35c936064dd",
       "version_major": 2,
       "version_minor": 0
      },
      "text/plain": [
       "FloatSlider(value=1e-05, continuous_update=False, description='113', max=0.9999, min=1e-05, readout_format='.5…"
      ]
     },
     "metadata": {},
     "output_type": "display_data"
    },
    {
     "data": {
      "application/vnd.jupyter.widget-view+json": {
       "model_id": "d312ef52918f4c4daf1557398e659ce4",
       "version_major": 2,
       "version_minor": 0
      },
      "text/plain": [
       "FloatSlider(value=1e-05, continuous_update=False, description='114', max=0.9999, min=1e-05, readout_format='.5…"
      ]
     },
     "metadata": {},
     "output_type": "display_data"
    },
    {
     "data": {
      "application/vnd.jupyter.widget-view+json": {
       "model_id": "70017e7f170a4d0babee8440b865cf4c",
       "version_major": 2,
       "version_minor": 0
      },
      "text/plain": [
       "FloatSlider(value=1e-05, continuous_update=False, description='115', max=0.9999, min=1e-05, readout_format='.5…"
      ]
     },
     "metadata": {},
     "output_type": "display_data"
    },
    {
     "data": {
      "application/vnd.jupyter.widget-view+json": {
       "model_id": "e47321d47b764747ae16f6e15b26d1c9",
       "version_major": 2,
       "version_minor": 0
      },
      "text/plain": [
       "FloatSlider(value=1e-05, continuous_update=False, description='116', max=0.9999, min=1e-05, readout_format='.5…"
      ]
     },
     "metadata": {},
     "output_type": "display_data"
    },
    {
     "data": {
      "application/vnd.jupyter.widget-view+json": {
       "model_id": "bcb1febfe5544f9b8b25da5e0292052c",
       "version_major": 2,
       "version_minor": 0
      },
      "text/plain": [
       "FloatSlider(value=1e-05, continuous_update=False, description='117', max=0.9999, min=1e-05, readout_format='.5…"
      ]
     },
     "metadata": {},
     "output_type": "display_data"
    },
    {
     "data": {
      "application/vnd.jupyter.widget-view+json": {
       "model_id": "36e872c41c8a4e4992ad38f862d65429",
       "version_major": 2,
       "version_minor": 0
      },
      "text/plain": [
       "FloatSlider(value=1e-05, continuous_update=False, description='118', max=0.9999, min=1e-05, readout_format='.5…"
      ]
     },
     "metadata": {},
     "output_type": "display_data"
    },
    {
     "data": {
      "application/vnd.jupyter.widget-view+json": {
       "model_id": "7571af35525748bca7fa66d4b43a22a4",
       "version_major": 2,
       "version_minor": 0
      },
      "text/plain": [
       "FloatSlider(value=1e-05, continuous_update=False, description='119', max=0.9999, min=1e-05, readout_format='.5…"
      ]
     },
     "metadata": {},
     "output_type": "display_data"
    },
    {
     "data": {
      "application/vnd.jupyter.widget-view+json": {
       "model_id": "7006a621fc9847d482ca1eccfa141b3f",
       "version_major": 2,
       "version_minor": 0
      },
      "text/plain": [
       "FloatSlider(value=1e-05, continuous_update=False, description='120', max=0.9999, min=1e-05, readout_format='.5…"
      ]
     },
     "metadata": {},
     "output_type": "display_data"
    },
    {
     "data": {
      "application/vnd.jupyter.widget-view+json": {
       "model_id": "8b6869fea9a44024994cbe001b16d5e6",
       "version_major": 2,
       "version_minor": 0
      },
      "text/plain": [
       "FloatSlider(value=1e-05, continuous_update=False, description='121', max=0.9999, min=1e-05, readout_format='.5…"
      ]
     },
     "metadata": {},
     "output_type": "display_data"
    },
    {
     "data": {
      "application/vnd.jupyter.widget-view+json": {
       "model_id": "efd359d61faf492bbe91d36cdb0df8be",
       "version_major": 2,
       "version_minor": 0
      },
      "text/plain": [
       "FloatSlider(value=1e-05, continuous_update=False, description='122', max=0.9999, min=1e-05, readout_format='.5…"
      ]
     },
     "metadata": {},
     "output_type": "display_data"
    },
    {
     "data": {
      "application/vnd.jupyter.widget-view+json": {
       "model_id": "adc77285b2354c4a9ae3c3aefaa778c5",
       "version_major": 2,
       "version_minor": 0
      },
      "text/plain": [
       "FloatSlider(value=1e-05, continuous_update=False, description='123', max=0.9999, min=1e-05, readout_format='.5…"
      ]
     },
     "metadata": {},
     "output_type": "display_data"
    },
    {
     "data": {
      "application/vnd.jupyter.widget-view+json": {
       "model_id": "f052ba54f6374148a9f3dade573f0268",
       "version_major": 2,
       "version_minor": 0
      },
      "text/plain": [
       "FloatSlider(value=1e-05, continuous_update=False, description='124', max=0.9999, min=1e-05, readout_format='.5…"
      ]
     },
     "metadata": {},
     "output_type": "display_data"
    },
    {
     "data": {
      "application/vnd.jupyter.widget-view+json": {
       "model_id": "d80c89591dd343ab8e67b72c4b1f3684",
       "version_major": 2,
       "version_minor": 0
      },
      "text/plain": [
       "FloatSlider(value=1e-05, continuous_update=False, description='125', max=0.9999, min=1e-05, readout_format='.5…"
      ]
     },
     "metadata": {},
     "output_type": "display_data"
    },
    {
     "data": {
      "application/vnd.jupyter.widget-view+json": {
       "model_id": "34f20e57462f460caac32d9488dce8d3",
       "version_major": 2,
       "version_minor": 0
      },
      "text/plain": [
       "FloatSlider(value=1e-05, continuous_update=False, description='126', max=0.9999, min=1e-05, readout_format='.5…"
      ]
     },
     "metadata": {},
     "output_type": "display_data"
    },
    {
     "data": {
      "application/vnd.jupyter.widget-view+json": {
       "model_id": "7b7175d0f59849cb86382786264ab5da",
       "version_major": 2,
       "version_minor": 0
      },
      "text/plain": [
       "FloatSlider(value=1e-05, continuous_update=False, description='127', max=0.9999, min=1e-05, readout_format='.5…"
      ]
     },
     "metadata": {},
     "output_type": "display_data"
    },
    {
     "data": {
      "application/vnd.jupyter.widget-view+json": {
       "model_id": "f51ef02b19a2487db777efe913ca62ab",
       "version_major": 2,
       "version_minor": 0
      },
      "text/plain": [
       "FloatSlider(value=1e-05, continuous_update=False, description='128', max=0.9999, min=1e-05, readout_format='.5…"
      ]
     },
     "metadata": {},
     "output_type": "display_data"
    },
    {
     "data": {
      "application/vnd.jupyter.widget-view+json": {
       "model_id": "8b90deb1c3324c858c3b8e6b86ce9f2d",
       "version_major": 2,
       "version_minor": 0
      },
      "text/plain": [
       "Button(description='Apply Slider Weights', style=ButtonStyle())"
      ]
     },
     "metadata": {},
     "output_type": "display_data"
    },
    {
     "data": {
      "application/vnd.jupyter.widget-view+json": {
       "model_id": "4d2306b8583e49eb810ebc688b8713b7",
       "version_major": 2,
       "version_minor": 0
      },
      "text/plain": [
       "Button(description='Reset Plot', style=ButtonStyle())"
      ]
     },
     "metadata": {},
     "output_type": "display_data"
    }
   ],
   "source": [
    "sliders = create_sliders(weights)"
   ]
  },
  {
   "cell_type": "markdown",
   "metadata": {},
   "source": [
    "## Dimension Reduction Plot\n",
    "This shows the HD data in 2D form, such that **proximity == similarity**, based on the current slider weights.  Distances between points in the plot approximately reflect their distances in the weighted HD data.  Thus points near each other have similar HD data values in the up-weighted dimensions, and points far away have very different HD data values in those dimensions.\n",
    "\n",
    "The color represents the **relevance** of each point to the current slider weights. Yellower points have larger values in up-weighted dimensions.\n",
    "\n",
    "Points can be **selected** to highlight in Green and view their details below.  Points can be **dragged** to specify a new projection for learning weights, see below. To reset the plot and clear the selections, click the **Reset** button above."
   ]
  },
  {
   "cell_type": "code",
   "execution_count": 18,
   "metadata": {
    "scrolled": false
   },
   "outputs": [
    {
     "data": {
      "application/javascript": [
       "/* Put everything inside the global mpl namespace */\n",
       "/* global mpl */\n",
       "window.mpl = {};\n",
       "\n",
       "mpl.get_websocket_type = function () {\n",
       "    if (typeof WebSocket !== 'undefined') {\n",
       "        return WebSocket;\n",
       "    } else if (typeof MozWebSocket !== 'undefined') {\n",
       "        return MozWebSocket;\n",
       "    } else {\n",
       "        alert(\n",
       "            'Your browser does not have WebSocket support. ' +\n",
       "                'Please try Chrome, Safari or Firefox ≥ 6. ' +\n",
       "                'Firefox 4 and 5 are also supported but you ' +\n",
       "                'have to enable WebSockets in about:config.'\n",
       "        );\n",
       "    }\n",
       "};\n",
       "\n",
       "mpl.figure = function (figure_id, websocket, ondownload, parent_element) {\n",
       "    this.id = figure_id;\n",
       "\n",
       "    this.ws = websocket;\n",
       "\n",
       "    this.supports_binary = this.ws.binaryType !== undefined;\n",
       "\n",
       "    if (!this.supports_binary) {\n",
       "        var warnings = document.getElementById('mpl-warnings');\n",
       "        if (warnings) {\n",
       "            warnings.style.display = 'block';\n",
       "            warnings.textContent =\n",
       "                'This browser does not support binary websocket messages. ' +\n",
       "                'Performance may be slow.';\n",
       "        }\n",
       "    }\n",
       "\n",
       "    this.imageObj = new Image();\n",
       "\n",
       "    this.context = undefined;\n",
       "    this.message = undefined;\n",
       "    this.canvas = undefined;\n",
       "    this.rubberband_canvas = undefined;\n",
       "    this.rubberband_context = undefined;\n",
       "    this.format_dropdown = undefined;\n",
       "\n",
       "    this.image_mode = 'full';\n",
       "\n",
       "    this.root = document.createElement('div');\n",
       "    this.root.setAttribute('style', 'display: inline-block');\n",
       "    this._root_extra_style(this.root);\n",
       "\n",
       "    parent_element.appendChild(this.root);\n",
       "\n",
       "    this._init_header(this);\n",
       "    this._init_canvas(this);\n",
       "    this._init_toolbar(this);\n",
       "\n",
       "    var fig = this;\n",
       "\n",
       "    this.waiting = false;\n",
       "\n",
       "    this.ws.onopen = function () {\n",
       "        fig.send_message('supports_binary', { value: fig.supports_binary });\n",
       "        fig.send_message('send_image_mode', {});\n",
       "        if (fig.ratio !== 1) {\n",
       "            fig.send_message('set_dpi_ratio', { dpi_ratio: fig.ratio });\n",
       "        }\n",
       "        fig.send_message('refresh', {});\n",
       "    };\n",
       "\n",
       "    this.imageObj.onload = function () {\n",
       "        if (fig.image_mode === 'full') {\n",
       "            // Full images could contain transparency (where diff images\n",
       "            // almost always do), so we need to clear the canvas so that\n",
       "            // there is no ghosting.\n",
       "            fig.context.clearRect(0, 0, fig.canvas.width, fig.canvas.height);\n",
       "        }\n",
       "        fig.context.drawImage(fig.imageObj, 0, 0);\n",
       "    };\n",
       "\n",
       "    this.imageObj.onunload = function () {\n",
       "        fig.ws.close();\n",
       "    };\n",
       "\n",
       "    this.ws.onmessage = this._make_on_message_function(this);\n",
       "\n",
       "    this.ondownload = ondownload;\n",
       "};\n",
       "\n",
       "mpl.figure.prototype._init_header = function () {\n",
       "    var titlebar = document.createElement('div');\n",
       "    titlebar.classList =\n",
       "        'ui-dialog-titlebar ui-widget-header ui-corner-all ui-helper-clearfix';\n",
       "    var titletext = document.createElement('div');\n",
       "    titletext.classList = 'ui-dialog-title';\n",
       "    titletext.setAttribute(\n",
       "        'style',\n",
       "        'width: 100%; text-align: center; padding: 3px;'\n",
       "    );\n",
       "    titlebar.appendChild(titletext);\n",
       "    this.root.appendChild(titlebar);\n",
       "    this.header = titletext;\n",
       "};\n",
       "\n",
       "mpl.figure.prototype._canvas_extra_style = function (_canvas_div) {};\n",
       "\n",
       "mpl.figure.prototype._root_extra_style = function (_canvas_div) {};\n",
       "\n",
       "mpl.figure.prototype._init_canvas = function () {\n",
       "    var fig = this;\n",
       "\n",
       "    var canvas_div = (this.canvas_div = document.createElement('div'));\n",
       "    canvas_div.setAttribute(\n",
       "        'style',\n",
       "        'border: 1px solid #ddd;' +\n",
       "            'box-sizing: content-box;' +\n",
       "            'clear: both;' +\n",
       "            'min-height: 1px;' +\n",
       "            'min-width: 1px;' +\n",
       "            'outline: 0;' +\n",
       "            'overflow: hidden;' +\n",
       "            'position: relative;' +\n",
       "            'resize: both;'\n",
       "    );\n",
       "\n",
       "    function on_keyboard_event_closure(name) {\n",
       "        return function (event) {\n",
       "            return fig.key_event(event, name);\n",
       "        };\n",
       "    }\n",
       "\n",
       "    canvas_div.addEventListener(\n",
       "        'keydown',\n",
       "        on_keyboard_event_closure('key_press')\n",
       "    );\n",
       "    canvas_div.addEventListener(\n",
       "        'keyup',\n",
       "        on_keyboard_event_closure('key_release')\n",
       "    );\n",
       "\n",
       "    this._canvas_extra_style(canvas_div);\n",
       "    this.root.appendChild(canvas_div);\n",
       "\n",
       "    var canvas = (this.canvas = document.createElement('canvas'));\n",
       "    canvas.classList.add('mpl-canvas');\n",
       "    canvas.setAttribute('style', 'box-sizing: content-box;');\n",
       "\n",
       "    this.context = canvas.getContext('2d');\n",
       "\n",
       "    var backingStore =\n",
       "        this.context.backingStorePixelRatio ||\n",
       "        this.context.webkitBackingStorePixelRatio ||\n",
       "        this.context.mozBackingStorePixelRatio ||\n",
       "        this.context.msBackingStorePixelRatio ||\n",
       "        this.context.oBackingStorePixelRatio ||\n",
       "        this.context.backingStorePixelRatio ||\n",
       "        1;\n",
       "\n",
       "    this.ratio = (window.devicePixelRatio || 1) / backingStore;\n",
       "    if (this.ratio !== 1) {\n",
       "        fig.send_message('set_dpi_ratio', { dpi_ratio: this.ratio });\n",
       "    }\n",
       "\n",
       "    var rubberband_canvas = (this.rubberband_canvas = document.createElement(\n",
       "        'canvas'\n",
       "    ));\n",
       "    rubberband_canvas.setAttribute(\n",
       "        'style',\n",
       "        'box-sizing: content-box; position: absolute; left: 0; top: 0; z-index: 1;'\n",
       "    );\n",
       "\n",
       "    var resizeObserver = new ResizeObserver(function (entries) {\n",
       "        var nentries = entries.length;\n",
       "        for (var i = 0; i < nentries; i++) {\n",
       "            var entry = entries[i];\n",
       "            var width, height;\n",
       "            if (entry.contentBoxSize) {\n",
       "                if (entry.contentBoxSize instanceof Array) {\n",
       "                    // Chrome 84 implements new version of spec.\n",
       "                    width = entry.contentBoxSize[0].inlineSize;\n",
       "                    height = entry.contentBoxSize[0].blockSize;\n",
       "                } else {\n",
       "                    // Firefox implements old version of spec.\n",
       "                    width = entry.contentBoxSize.inlineSize;\n",
       "                    height = entry.contentBoxSize.blockSize;\n",
       "                }\n",
       "            } else {\n",
       "                // Chrome <84 implements even older version of spec.\n",
       "                width = entry.contentRect.width;\n",
       "                height = entry.contentRect.height;\n",
       "            }\n",
       "\n",
       "            // Keep the size of the canvas and rubber band canvas in sync with\n",
       "            // the canvas container.\n",
       "            if (entry.devicePixelContentBoxSize) {\n",
       "                // Chrome 84 implements new version of spec.\n",
       "                canvas.setAttribute(\n",
       "                    'width',\n",
       "                    entry.devicePixelContentBoxSize[0].inlineSize\n",
       "                );\n",
       "                canvas.setAttribute(\n",
       "                    'height',\n",
       "                    entry.devicePixelContentBoxSize[0].blockSize\n",
       "                );\n",
       "            } else {\n",
       "                canvas.setAttribute('width', width * fig.ratio);\n",
       "                canvas.setAttribute('height', height * fig.ratio);\n",
       "            }\n",
       "            canvas.setAttribute(\n",
       "                'style',\n",
       "                'width: ' + width + 'px; height: ' + height + 'px;'\n",
       "            );\n",
       "\n",
       "            rubberband_canvas.setAttribute('width', width);\n",
       "            rubberband_canvas.setAttribute('height', height);\n",
       "\n",
       "            // And update the size in Python. We ignore the initial 0/0 size\n",
       "            // that occurs as the element is placed into the DOM, which should\n",
       "            // otherwise not happen due to the minimum size styling.\n",
       "            if (width != 0 && height != 0) {\n",
       "                fig.request_resize(width, height);\n",
       "            }\n",
       "        }\n",
       "    });\n",
       "    resizeObserver.observe(canvas_div);\n",
       "\n",
       "    function on_mouse_event_closure(name) {\n",
       "        return function (event) {\n",
       "            return fig.mouse_event(event, name);\n",
       "        };\n",
       "    }\n",
       "\n",
       "    rubberband_canvas.addEventListener(\n",
       "        'mousedown',\n",
       "        on_mouse_event_closure('button_press')\n",
       "    );\n",
       "    rubberband_canvas.addEventListener(\n",
       "        'mouseup',\n",
       "        on_mouse_event_closure('button_release')\n",
       "    );\n",
       "    // Throttle sequential mouse events to 1 every 20ms.\n",
       "    rubberband_canvas.addEventListener(\n",
       "        'mousemove',\n",
       "        on_mouse_event_closure('motion_notify')\n",
       "    );\n",
       "\n",
       "    rubberband_canvas.addEventListener(\n",
       "        'mouseenter',\n",
       "        on_mouse_event_closure('figure_enter')\n",
       "    );\n",
       "    rubberband_canvas.addEventListener(\n",
       "        'mouseleave',\n",
       "        on_mouse_event_closure('figure_leave')\n",
       "    );\n",
       "\n",
       "    canvas_div.addEventListener('wheel', function (event) {\n",
       "        if (event.deltaY < 0) {\n",
       "            event.step = 1;\n",
       "        } else {\n",
       "            event.step = -1;\n",
       "        }\n",
       "        on_mouse_event_closure('scroll')(event);\n",
       "    });\n",
       "\n",
       "    canvas_div.appendChild(canvas);\n",
       "    canvas_div.appendChild(rubberband_canvas);\n",
       "\n",
       "    this.rubberband_context = rubberband_canvas.getContext('2d');\n",
       "    this.rubberband_context.strokeStyle = '#000000';\n",
       "\n",
       "    this._resize_canvas = function (width, height, forward) {\n",
       "        if (forward) {\n",
       "            canvas_div.style.width = width + 'px';\n",
       "            canvas_div.style.height = height + 'px';\n",
       "        }\n",
       "    };\n",
       "\n",
       "    // Disable right mouse context menu.\n",
       "    this.rubberband_canvas.addEventListener('contextmenu', function (_e) {\n",
       "        event.preventDefault();\n",
       "        return false;\n",
       "    });\n",
       "\n",
       "    function set_focus() {\n",
       "        canvas.focus();\n",
       "        canvas_div.focus();\n",
       "    }\n",
       "\n",
       "    window.setTimeout(set_focus, 100);\n",
       "};\n",
       "\n",
       "mpl.figure.prototype._init_toolbar = function () {\n",
       "    var fig = this;\n",
       "\n",
       "    var toolbar = document.createElement('div');\n",
       "    toolbar.classList = 'mpl-toolbar';\n",
       "    this.root.appendChild(toolbar);\n",
       "\n",
       "    function on_click_closure(name) {\n",
       "        return function (_event) {\n",
       "            return fig.toolbar_button_onclick(name);\n",
       "        };\n",
       "    }\n",
       "\n",
       "    function on_mouseover_closure(tooltip) {\n",
       "        return function (event) {\n",
       "            if (!event.currentTarget.disabled) {\n",
       "                return fig.toolbar_button_onmouseover(tooltip);\n",
       "            }\n",
       "        };\n",
       "    }\n",
       "\n",
       "    fig.buttons = {};\n",
       "    var buttonGroup = document.createElement('div');\n",
       "    buttonGroup.classList = 'mpl-button-group';\n",
       "    for (var toolbar_ind in mpl.toolbar_items) {\n",
       "        var name = mpl.toolbar_items[toolbar_ind][0];\n",
       "        var tooltip = mpl.toolbar_items[toolbar_ind][1];\n",
       "        var image = mpl.toolbar_items[toolbar_ind][2];\n",
       "        var method_name = mpl.toolbar_items[toolbar_ind][3];\n",
       "\n",
       "        if (!name) {\n",
       "            /* Instead of a spacer, we start a new button group. */\n",
       "            if (buttonGroup.hasChildNodes()) {\n",
       "                toolbar.appendChild(buttonGroup);\n",
       "            }\n",
       "            buttonGroup = document.createElement('div');\n",
       "            buttonGroup.classList = 'mpl-button-group';\n",
       "            continue;\n",
       "        }\n",
       "\n",
       "        var button = (fig.buttons[name] = document.createElement('button'));\n",
       "        button.classList = 'mpl-widget';\n",
       "        button.setAttribute('role', 'button');\n",
       "        button.setAttribute('aria-disabled', 'false');\n",
       "        button.addEventListener('click', on_click_closure(method_name));\n",
       "        button.addEventListener('mouseover', on_mouseover_closure(tooltip));\n",
       "\n",
       "        var icon_img = document.createElement('img');\n",
       "        icon_img.src = '_images/' + image + '.png';\n",
       "        icon_img.srcset = '_images/' + image + '_large.png 2x';\n",
       "        icon_img.alt = tooltip;\n",
       "        button.appendChild(icon_img);\n",
       "\n",
       "        buttonGroup.appendChild(button);\n",
       "    }\n",
       "\n",
       "    if (buttonGroup.hasChildNodes()) {\n",
       "        toolbar.appendChild(buttonGroup);\n",
       "    }\n",
       "\n",
       "    var fmt_picker = document.createElement('select');\n",
       "    fmt_picker.classList = 'mpl-widget';\n",
       "    toolbar.appendChild(fmt_picker);\n",
       "    this.format_dropdown = fmt_picker;\n",
       "\n",
       "    for (var ind in mpl.extensions) {\n",
       "        var fmt = mpl.extensions[ind];\n",
       "        var option = document.createElement('option');\n",
       "        option.selected = fmt === mpl.default_extension;\n",
       "        option.innerHTML = fmt;\n",
       "        fmt_picker.appendChild(option);\n",
       "    }\n",
       "\n",
       "    var status_bar = document.createElement('span');\n",
       "    status_bar.classList = 'mpl-message';\n",
       "    toolbar.appendChild(status_bar);\n",
       "    this.message = status_bar;\n",
       "};\n",
       "\n",
       "mpl.figure.prototype.request_resize = function (x_pixels, y_pixels) {\n",
       "    // Request matplotlib to resize the figure. Matplotlib will then trigger a resize in the client,\n",
       "    // which will in turn request a refresh of the image.\n",
       "    this.send_message('resize', { width: x_pixels, height: y_pixels });\n",
       "};\n",
       "\n",
       "mpl.figure.prototype.send_message = function (type, properties) {\n",
       "    properties['type'] = type;\n",
       "    properties['figure_id'] = this.id;\n",
       "    this.ws.send(JSON.stringify(properties));\n",
       "};\n",
       "\n",
       "mpl.figure.prototype.send_draw_message = function () {\n",
       "    if (!this.waiting) {\n",
       "        this.waiting = true;\n",
       "        this.ws.send(JSON.stringify({ type: 'draw', figure_id: this.id }));\n",
       "    }\n",
       "};\n",
       "\n",
       "mpl.figure.prototype.handle_save = function (fig, _msg) {\n",
       "    var format_dropdown = fig.format_dropdown;\n",
       "    var format = format_dropdown.options[format_dropdown.selectedIndex].value;\n",
       "    fig.ondownload(fig, format);\n",
       "};\n",
       "\n",
       "mpl.figure.prototype.handle_resize = function (fig, msg) {\n",
       "    var size = msg['size'];\n",
       "    if (size[0] !== fig.canvas.width || size[1] !== fig.canvas.height) {\n",
       "        fig._resize_canvas(size[0], size[1], msg['forward']);\n",
       "        fig.send_message('refresh', {});\n",
       "    }\n",
       "};\n",
       "\n",
       "mpl.figure.prototype.handle_rubberband = function (fig, msg) {\n",
       "    var x0 = msg['x0'] / fig.ratio;\n",
       "    var y0 = (fig.canvas.height - msg['y0']) / fig.ratio;\n",
       "    var x1 = msg['x1'] / fig.ratio;\n",
       "    var y1 = (fig.canvas.height - msg['y1']) / fig.ratio;\n",
       "    x0 = Math.floor(x0) + 0.5;\n",
       "    y0 = Math.floor(y0) + 0.5;\n",
       "    x1 = Math.floor(x1) + 0.5;\n",
       "    y1 = Math.floor(y1) + 0.5;\n",
       "    var min_x = Math.min(x0, x1);\n",
       "    var min_y = Math.min(y0, y1);\n",
       "    var width = Math.abs(x1 - x0);\n",
       "    var height = Math.abs(y1 - y0);\n",
       "\n",
       "    fig.rubberband_context.clearRect(\n",
       "        0,\n",
       "        0,\n",
       "        fig.canvas.width / fig.ratio,\n",
       "        fig.canvas.height / fig.ratio\n",
       "    );\n",
       "\n",
       "    fig.rubberband_context.strokeRect(min_x, min_y, width, height);\n",
       "};\n",
       "\n",
       "mpl.figure.prototype.handle_figure_label = function (fig, msg) {\n",
       "    // Updates the figure title.\n",
       "    fig.header.textContent = msg['label'];\n",
       "};\n",
       "\n",
       "mpl.figure.prototype.handle_cursor = function (fig, msg) {\n",
       "    var cursor = msg['cursor'];\n",
       "    switch (cursor) {\n",
       "        case 0:\n",
       "            cursor = 'pointer';\n",
       "            break;\n",
       "        case 1:\n",
       "            cursor = 'default';\n",
       "            break;\n",
       "        case 2:\n",
       "            cursor = 'crosshair';\n",
       "            break;\n",
       "        case 3:\n",
       "            cursor = 'move';\n",
       "            break;\n",
       "    }\n",
       "    fig.rubberband_canvas.style.cursor = cursor;\n",
       "};\n",
       "\n",
       "mpl.figure.prototype.handle_message = function (fig, msg) {\n",
       "    fig.message.textContent = msg['message'];\n",
       "};\n",
       "\n",
       "mpl.figure.prototype.handle_draw = function (fig, _msg) {\n",
       "    // Request the server to send over a new figure.\n",
       "    fig.send_draw_message();\n",
       "};\n",
       "\n",
       "mpl.figure.prototype.handle_image_mode = function (fig, msg) {\n",
       "    fig.image_mode = msg['mode'];\n",
       "};\n",
       "\n",
       "mpl.figure.prototype.handle_history_buttons = function (fig, msg) {\n",
       "    for (var key in msg) {\n",
       "        if (!(key in fig.buttons)) {\n",
       "            continue;\n",
       "        }\n",
       "        fig.buttons[key].disabled = !msg[key];\n",
       "        fig.buttons[key].setAttribute('aria-disabled', !msg[key]);\n",
       "    }\n",
       "};\n",
       "\n",
       "mpl.figure.prototype.handle_navigate_mode = function (fig, msg) {\n",
       "    if (msg['mode'] === 'PAN') {\n",
       "        fig.buttons['Pan'].classList.add('active');\n",
       "        fig.buttons['Zoom'].classList.remove('active');\n",
       "    } else if (msg['mode'] === 'ZOOM') {\n",
       "        fig.buttons['Pan'].classList.remove('active');\n",
       "        fig.buttons['Zoom'].classList.add('active');\n",
       "    } else {\n",
       "        fig.buttons['Pan'].classList.remove('active');\n",
       "        fig.buttons['Zoom'].classList.remove('active');\n",
       "    }\n",
       "};\n",
       "\n",
       "mpl.figure.prototype.updated_canvas_event = function () {\n",
       "    // Called whenever the canvas gets updated.\n",
       "    this.send_message('ack', {});\n",
       "};\n",
       "\n",
       "// A function to construct a web socket function for onmessage handling.\n",
       "// Called in the figure constructor.\n",
       "mpl.figure.prototype._make_on_message_function = function (fig) {\n",
       "    return function socket_on_message(evt) {\n",
       "        if (evt.data instanceof Blob) {\n",
       "            /* FIXME: We get \"Resource interpreted as Image but\n",
       "             * transferred with MIME type text/plain:\" errors on\n",
       "             * Chrome.  But how to set the MIME type?  It doesn't seem\n",
       "             * to be part of the websocket stream */\n",
       "            evt.data.type = 'image/png';\n",
       "\n",
       "            /* Free the memory for the previous frames */\n",
       "            if (fig.imageObj.src) {\n",
       "                (window.URL || window.webkitURL).revokeObjectURL(\n",
       "                    fig.imageObj.src\n",
       "                );\n",
       "            }\n",
       "\n",
       "            fig.imageObj.src = (window.URL || window.webkitURL).createObjectURL(\n",
       "                evt.data\n",
       "            );\n",
       "            fig.updated_canvas_event();\n",
       "            fig.waiting = false;\n",
       "            return;\n",
       "        } else if (\n",
       "            typeof evt.data === 'string' &&\n",
       "            evt.data.slice(0, 21) === 'data:image/png;base64'\n",
       "        ) {\n",
       "            fig.imageObj.src = evt.data;\n",
       "            fig.updated_canvas_event();\n",
       "            fig.waiting = false;\n",
       "            return;\n",
       "        }\n",
       "\n",
       "        var msg = JSON.parse(evt.data);\n",
       "        var msg_type = msg['type'];\n",
       "\n",
       "        // Call the  \"handle_{type}\" callback, which takes\n",
       "        // the figure and JSON message as its only arguments.\n",
       "        try {\n",
       "            var callback = fig['handle_' + msg_type];\n",
       "        } catch (e) {\n",
       "            console.log(\n",
       "                \"No handler for the '\" + msg_type + \"' message type: \",\n",
       "                msg\n",
       "            );\n",
       "            return;\n",
       "        }\n",
       "\n",
       "        if (callback) {\n",
       "            try {\n",
       "                // console.log(\"Handling '\" + msg_type + \"' message: \", msg);\n",
       "                callback(fig, msg);\n",
       "            } catch (e) {\n",
       "                console.log(\n",
       "                    \"Exception inside the 'handler_\" + msg_type + \"' callback:\",\n",
       "                    e,\n",
       "                    e.stack,\n",
       "                    msg\n",
       "                );\n",
       "            }\n",
       "        }\n",
       "    };\n",
       "};\n",
       "\n",
       "// from http://stackoverflow.com/questions/1114465/getting-mouse-location-in-canvas\n",
       "mpl.findpos = function (e) {\n",
       "    //this section is from http://www.quirksmode.org/js/events_properties.html\n",
       "    var targ;\n",
       "    if (!e) {\n",
       "        e = window.event;\n",
       "    }\n",
       "    if (e.target) {\n",
       "        targ = e.target;\n",
       "    } else if (e.srcElement) {\n",
       "        targ = e.srcElement;\n",
       "    }\n",
       "    if (targ.nodeType === 3) {\n",
       "        // defeat Safari bug\n",
       "        targ = targ.parentNode;\n",
       "    }\n",
       "\n",
       "    // pageX,Y are the mouse positions relative to the document\n",
       "    var boundingRect = targ.getBoundingClientRect();\n",
       "    var x = e.pageX - (boundingRect.left + document.body.scrollLeft);\n",
       "    var y = e.pageY - (boundingRect.top + document.body.scrollTop);\n",
       "\n",
       "    return { x: x, y: y };\n",
       "};\n",
       "\n",
       "/*\n",
       " * return a copy of an object with only non-object keys\n",
       " * we need this to avoid circular references\n",
       " * http://stackoverflow.com/a/24161582/3208463\n",
       " */\n",
       "function simpleKeys(original) {\n",
       "    return Object.keys(original).reduce(function (obj, key) {\n",
       "        if (typeof original[key] !== 'object') {\n",
       "            obj[key] = original[key];\n",
       "        }\n",
       "        return obj;\n",
       "    }, {});\n",
       "}\n",
       "\n",
       "mpl.figure.prototype.mouse_event = function (event, name) {\n",
       "    var canvas_pos = mpl.findpos(event);\n",
       "\n",
       "    if (name === 'button_press') {\n",
       "        this.canvas.focus();\n",
       "        this.canvas_div.focus();\n",
       "    }\n",
       "\n",
       "    var x = canvas_pos.x * this.ratio;\n",
       "    var y = canvas_pos.y * this.ratio;\n",
       "\n",
       "    this.send_message(name, {\n",
       "        x: x,\n",
       "        y: y,\n",
       "        button: event.button,\n",
       "        step: event.step,\n",
       "        guiEvent: simpleKeys(event),\n",
       "    });\n",
       "\n",
       "    /* This prevents the web browser from automatically changing to\n",
       "     * the text insertion cursor when the button is pressed.  We want\n",
       "     * to control all of the cursor setting manually through the\n",
       "     * 'cursor' event from matplotlib */\n",
       "    event.preventDefault();\n",
       "    return false;\n",
       "};\n",
       "\n",
       "mpl.figure.prototype._key_event_extra = function (_event, _name) {\n",
       "    // Handle any extra behaviour associated with a key event\n",
       "};\n",
       "\n",
       "mpl.figure.prototype.key_event = function (event, name) {\n",
       "    // Prevent repeat events\n",
       "    if (name === 'key_press') {\n",
       "        if (event.which === this._key) {\n",
       "            return;\n",
       "        } else {\n",
       "            this._key = event.which;\n",
       "        }\n",
       "    }\n",
       "    if (name === 'key_release') {\n",
       "        this._key = null;\n",
       "    }\n",
       "\n",
       "    var value = '';\n",
       "    if (event.ctrlKey && event.which !== 17) {\n",
       "        value += 'ctrl+';\n",
       "    }\n",
       "    if (event.altKey && event.which !== 18) {\n",
       "        value += 'alt+';\n",
       "    }\n",
       "    if (event.shiftKey && event.which !== 16) {\n",
       "        value += 'shift+';\n",
       "    }\n",
       "\n",
       "    value += 'k';\n",
       "    value += event.which.toString();\n",
       "\n",
       "    this._key_event_extra(event, name);\n",
       "\n",
       "    this.send_message(name, { key: value, guiEvent: simpleKeys(event) });\n",
       "    return false;\n",
       "};\n",
       "\n",
       "mpl.figure.prototype.toolbar_button_onclick = function (name) {\n",
       "    if (name === 'download') {\n",
       "        this.handle_save(this, null);\n",
       "    } else {\n",
       "        this.send_message('toolbar_button', { name: name });\n",
       "    }\n",
       "};\n",
       "\n",
       "mpl.figure.prototype.toolbar_button_onmouseover = function (tooltip) {\n",
       "    this.message.textContent = tooltip;\n",
       "};\n",
       "mpl.toolbar_items = [[\"Home\", \"Reset original view\", \"fa fa-home icon-home\", \"home\"], [\"Back\", \"Back to previous view\", \"fa fa-arrow-left icon-arrow-left\", \"back\"], [\"Forward\", \"Forward to next view\", \"fa fa-arrow-right icon-arrow-right\", \"forward\"], [\"\", \"\", \"\", \"\"], [\"Pan\", \"Left button pans, Right button zooms\\nx/y fixes axis, CTRL fixes aspect\", \"fa fa-arrows icon-move\", \"pan\"], [\"Zoom\", \"Zoom to rectangle\\nx/y fixes axis, CTRL fixes aspect\", \"fa fa-square-o icon-check-empty\", \"zoom\"], [\"\", \"\", \"\", \"\"], [\"Download\", \"Download plot\", \"fa fa-floppy-o icon-save\", \"download\"]];\n",
       "\n",
       "mpl.extensions = [\"eps\", \"jpeg\", \"pdf\", \"png\", \"ps\", \"raw\", \"svg\", \"tif\"];\n",
       "\n",
       "mpl.default_extension = \"png\";/* global mpl */\n",
       "\n",
       "var comm_websocket_adapter = function (comm) {\n",
       "    // Create a \"websocket\"-like object which calls the given IPython comm\n",
       "    // object with the appropriate methods. Currently this is a non binary\n",
       "    // socket, so there is still some room for performance tuning.\n",
       "    var ws = {};\n",
       "\n",
       "    ws.close = function () {\n",
       "        comm.close();\n",
       "    };\n",
       "    ws.send = function (m) {\n",
       "        //console.log('sending', m);\n",
       "        comm.send(m);\n",
       "    };\n",
       "    // Register the callback with on_msg.\n",
       "    comm.on_msg(function (msg) {\n",
       "        //console.log('receiving', msg['content']['data'], msg);\n",
       "        // Pass the mpl event to the overridden (by mpl) onmessage function.\n",
       "        ws.onmessage(msg['content']['data']);\n",
       "    });\n",
       "    return ws;\n",
       "};\n",
       "\n",
       "mpl.mpl_figure_comm = function (comm, msg) {\n",
       "    // This is the function which gets called when the mpl process\n",
       "    // starts-up an IPython Comm through the \"matplotlib\" channel.\n",
       "\n",
       "    var id = msg.content.data.id;\n",
       "    // Get hold of the div created by the display call when the Comm\n",
       "    // socket was opened in Python.\n",
       "    var element = document.getElementById(id);\n",
       "    var ws_proxy = comm_websocket_adapter(comm);\n",
       "\n",
       "    function ondownload(figure, _format) {\n",
       "        window.open(figure.canvas.toDataURL());\n",
       "    }\n",
       "\n",
       "    var fig = new mpl.figure(id, ws_proxy, ondownload, element);\n",
       "\n",
       "    // Call onopen now - mpl needs it, as it is assuming we've passed it a real\n",
       "    // web socket which is closed, not our websocket->open comm proxy.\n",
       "    ws_proxy.onopen();\n",
       "\n",
       "    fig.parent_element = element;\n",
       "    fig.cell_info = mpl.find_output_cell(\"<div id='\" + id + \"'></div>\");\n",
       "    if (!fig.cell_info) {\n",
       "        console.error('Failed to find cell for figure', id, fig);\n",
       "        return;\n",
       "    }\n",
       "    fig.cell_info[0].output_area.element.one(\n",
       "        'cleared',\n",
       "        { fig: fig },\n",
       "        fig._remove_fig_handler\n",
       "    );\n",
       "};\n",
       "\n",
       "mpl.figure.prototype.handle_close = function (fig, msg) {\n",
       "    var width = fig.canvas.width / fig.ratio;\n",
       "    fig.cell_info[0].output_area.element.off(\n",
       "        'cleared',\n",
       "        fig._remove_fig_handler\n",
       "    );\n",
       "\n",
       "    // Update the output cell to use the data from the current canvas.\n",
       "    fig.push_to_output();\n",
       "    var dataURL = fig.canvas.toDataURL();\n",
       "    // Re-enable the keyboard manager in IPython - without this line, in FF,\n",
       "    // the notebook keyboard shortcuts fail.\n",
       "    IPython.keyboard_manager.enable();\n",
       "    fig.parent_element.innerHTML =\n",
       "        '<img src=\"' + dataURL + '\" width=\"' + width + '\">';\n",
       "    fig.close_ws(fig, msg);\n",
       "};\n",
       "\n",
       "mpl.figure.prototype.close_ws = function (fig, msg) {\n",
       "    fig.send_message('closing', msg);\n",
       "    // fig.ws.close()\n",
       "};\n",
       "\n",
       "mpl.figure.prototype.push_to_output = function (_remove_interactive) {\n",
       "    // Turn the data on the canvas into data in the output cell.\n",
       "    var width = this.canvas.width / this.ratio;\n",
       "    var dataURL = this.canvas.toDataURL();\n",
       "    this.cell_info[1]['text/html'] =\n",
       "        '<img src=\"' + dataURL + '\" width=\"' + width + '\">';\n",
       "};\n",
       "\n",
       "mpl.figure.prototype.updated_canvas_event = function () {\n",
       "    // Tell IPython that the notebook contents must change.\n",
       "    IPython.notebook.set_dirty(true);\n",
       "    this.send_message('ack', {});\n",
       "    var fig = this;\n",
       "    // Wait a second, then push the new image to the DOM so\n",
       "    // that it is saved nicely (might be nice to debounce this).\n",
       "    setTimeout(function () {\n",
       "        fig.push_to_output();\n",
       "    }, 1000);\n",
       "};\n",
       "\n",
       "mpl.figure.prototype._init_toolbar = function () {\n",
       "    var fig = this;\n",
       "\n",
       "    var toolbar = document.createElement('div');\n",
       "    toolbar.classList = 'btn-toolbar';\n",
       "    this.root.appendChild(toolbar);\n",
       "\n",
       "    function on_click_closure(name) {\n",
       "        return function (_event) {\n",
       "            return fig.toolbar_button_onclick(name);\n",
       "        };\n",
       "    }\n",
       "\n",
       "    function on_mouseover_closure(tooltip) {\n",
       "        return function (event) {\n",
       "            if (!event.currentTarget.disabled) {\n",
       "                return fig.toolbar_button_onmouseover(tooltip);\n",
       "            }\n",
       "        };\n",
       "    }\n",
       "\n",
       "    fig.buttons = {};\n",
       "    var buttonGroup = document.createElement('div');\n",
       "    buttonGroup.classList = 'btn-group';\n",
       "    var button;\n",
       "    for (var toolbar_ind in mpl.toolbar_items) {\n",
       "        var name = mpl.toolbar_items[toolbar_ind][0];\n",
       "        var tooltip = mpl.toolbar_items[toolbar_ind][1];\n",
       "        var image = mpl.toolbar_items[toolbar_ind][2];\n",
       "        var method_name = mpl.toolbar_items[toolbar_ind][3];\n",
       "\n",
       "        if (!name) {\n",
       "            /* Instead of a spacer, we start a new button group. */\n",
       "            if (buttonGroup.hasChildNodes()) {\n",
       "                toolbar.appendChild(buttonGroup);\n",
       "            }\n",
       "            buttonGroup = document.createElement('div');\n",
       "            buttonGroup.classList = 'btn-group';\n",
       "            continue;\n",
       "        }\n",
       "\n",
       "        button = fig.buttons[name] = document.createElement('button');\n",
       "        button.classList = 'btn btn-default';\n",
       "        button.href = '#';\n",
       "        button.title = name;\n",
       "        button.innerHTML = '<i class=\"fa ' + image + ' fa-lg\"></i>';\n",
       "        button.addEventListener('click', on_click_closure(method_name));\n",
       "        button.addEventListener('mouseover', on_mouseover_closure(tooltip));\n",
       "        buttonGroup.appendChild(button);\n",
       "    }\n",
       "\n",
       "    if (buttonGroup.hasChildNodes()) {\n",
       "        toolbar.appendChild(buttonGroup);\n",
       "    }\n",
       "\n",
       "    // Add the status bar.\n",
       "    var status_bar = document.createElement('span');\n",
       "    status_bar.classList = 'mpl-message pull-right';\n",
       "    toolbar.appendChild(status_bar);\n",
       "    this.message = status_bar;\n",
       "\n",
       "    // Add the close button to the window.\n",
       "    var buttongrp = document.createElement('div');\n",
       "    buttongrp.classList = 'btn-group inline pull-right';\n",
       "    button = document.createElement('button');\n",
       "    button.classList = 'btn btn-mini btn-primary';\n",
       "    button.href = '#';\n",
       "    button.title = 'Stop Interaction';\n",
       "    button.innerHTML = '<i class=\"fa fa-power-off icon-remove icon-large\"></i>';\n",
       "    button.addEventListener('click', function (_evt) {\n",
       "        fig.handle_close(fig, {});\n",
       "    });\n",
       "    button.addEventListener(\n",
       "        'mouseover',\n",
       "        on_mouseover_closure('Stop Interaction')\n",
       "    );\n",
       "    buttongrp.appendChild(button);\n",
       "    var titlebar = this.root.querySelector('.ui-dialog-titlebar');\n",
       "    titlebar.insertBefore(buttongrp, titlebar.firstChild);\n",
       "};\n",
       "\n",
       "mpl.figure.prototype._remove_fig_handler = function (event) {\n",
       "    var fig = event.data.fig;\n",
       "    fig.close_ws(fig, {});\n",
       "};\n",
       "\n",
       "mpl.figure.prototype._root_extra_style = function (el) {\n",
       "    el.style.boxSizing = 'content-box'; // override notebook setting of border-box.\n",
       "};\n",
       "\n",
       "mpl.figure.prototype._canvas_extra_style = function (el) {\n",
       "    // this is important to make the div 'focusable\n",
       "    el.setAttribute('tabindex', 0);\n",
       "    // reach out to IPython and tell the keyboard manager to turn it's self\n",
       "    // off when our div gets focus\n",
       "\n",
       "    // location in version 3\n",
       "    if (IPython.notebook.keyboard_manager) {\n",
       "        IPython.notebook.keyboard_manager.register_events(el);\n",
       "    } else {\n",
       "        // location in version 2\n",
       "        IPython.keyboard_manager.register_events(el);\n",
       "    }\n",
       "};\n",
       "\n",
       "mpl.figure.prototype._key_event_extra = function (event, _name) {\n",
       "    var manager = IPython.notebook.keyboard_manager;\n",
       "    if (!manager) {\n",
       "        manager = IPython.keyboard_manager;\n",
       "    }\n",
       "\n",
       "    // Check for shift+enter\n",
       "    if (event.shiftKey && event.which === 13) {\n",
       "        this.canvas_div.blur();\n",
       "        // select the cell after this one\n",
       "        var index = IPython.notebook.find_cell_index(this.cell_info[0]);\n",
       "        IPython.notebook.select(index + 1);\n",
       "    }\n",
       "};\n",
       "\n",
       "mpl.figure.prototype.handle_save = function (fig, _msg) {\n",
       "    fig.ondownload(fig, null);\n",
       "};\n",
       "\n",
       "mpl.find_output_cell = function (html_output) {\n",
       "    // Return the cell and output element which can be found *uniquely* in the notebook.\n",
       "    // Note - this is a bit hacky, but it is done because the \"notebook_saving.Notebook\"\n",
       "    // IPython event is triggered only after the cells have been serialised, which for\n",
       "    // our purposes (turning an active figure into a static one), is too late.\n",
       "    var cells = IPython.notebook.get_cells();\n",
       "    var ncells = cells.length;\n",
       "    for (var i = 0; i < ncells; i++) {\n",
       "        var cell = cells[i];\n",
       "        if (cell.cell_type === 'code') {\n",
       "            for (var j = 0; j < cell.output_area.outputs.length; j++) {\n",
       "                var data = cell.output_area.outputs[j];\n",
       "                if (data.data) {\n",
       "                    // IPython >= 3 moved mimebundle to data attribute of output\n",
       "                    data = data.data;\n",
       "                }\n",
       "                if (data['text/html'] === html_output) {\n",
       "                    return [cell, data, j];\n",
       "                }\n",
       "            }\n",
       "        }\n",
       "    }\n",
       "};\n",
       "\n",
       "// Register the function which deals with the matplotlib target/channel.\n",
       "// The kernel may be null if the page has been refreshed.\n",
       "if (IPython.notebook.kernel !== null) {\n",
       "    IPython.notebook.kernel.comm_manager.register_target(\n",
       "        'matplotlib',\n",
       "        mpl.mpl_figure_comm\n",
       "    );\n",
       "}\n"
      ],
      "text/plain": [
       "<IPython.core.display.Javascript object>"
      ]
     },
     "metadata": {},
     "output_type": "display_data"
    },
    {
     "data": {
      "text/html": [
       "<img src=\"data:image/png;base64,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\" width=\"800\">"
      ],
      "text/plain": [
       "<IPython.core.display.HTML object>"
      ]
     },
     "metadata": {},
     "output_type": "display_data"
    }
   ],
   "source": [
    "plot_ax = create_plot(df_2D)"
   ]
  },
  {
   "cell_type": "code",
   "execution_count": 19,
   "metadata": {},
   "outputs": [],
   "source": [
    "def centroid(df_2D,cat):\n",
    "    x_coords = df_2D[df_2D.label==cat].x.values\n",
    "    y_coords = df_2D[df_2D.label==cat].y.values\n",
    "    _len = len(df_2D)\n",
    "    centroid_x = sum(x_coords)/_len\n",
    "    centroid_y = sum(y_coords)/_len\n",
    "    return (centroid_x, centroid_y)\n",
    "\n",
    "def var(*centroids):\n",
    "    x = [c[0] for c in centroids]\n",
    "#     print(\"x: \",x)\n",
    "    y = [c[1] for c in centroids]\n",
    "    _len = len(centroids)\n",
    "#     print(_len)\n",
    "#     print(\"sum x: \",sum(x))\n",
    "    new_centroids_x = np.mean(x)\n",
    "#     print(new_centroids_x)\n",
    "    new_centroids_y = np.mean(y)\n",
    "    var = sum((x - new_centroids_x)) ** 2 + sum((y - new_centroids_y)) ** 2\n",
    "#     print(x - new_centroids_x)\n",
    "#     print(_len)\n",
    "    return var\n",
    "\n",
    "# labels_df = df_2D.index.str.extract(r'([a-z]+)')\n",
    "# labels_df.index = df_2D.index\n",
    "# df_2D['label'] = labels_df\n",
    "\n",
    "# ready_centroid = centroid(df_2D,'ready')\n",
    "# disease_centroid = centroid(df_2D,'disease')\n",
    "# late_centroid = centroid(df_2D,'late')\n",
    "\n",
    "# var(ready_centroid,disease_centroid,late_centroid)"
   ]
  },
  {
   "cell_type": "code",
   "execution_count": 20,
   "metadata": {},
   "outputs": [],
   "source": [
    "labels_df = df_2D.index.str.extract(r'([a-z]+)')\n",
    "labels_df.index = df_2D.index\n",
    "# cat = labels_df.apply(lambda col:pd.Categorical(col).codes)\n",
    "df_2D['label'] = labels_df"
   ]
  },
  {
   "cell_type": "code",
   "execution_count": 21,
   "metadata": {},
   "outputs": [
    {
     "data": {
      "text/html": [
       "<div>\n",
       "<style scoped>\n",
       "    .dataframe tbody tr th:only-of-type {\n",
       "        vertical-align: middle;\n",
       "    }\n",
       "\n",
       "    .dataframe tbody tr th {\n",
       "        vertical-align: top;\n",
       "    }\n",
       "\n",
       "    .dataframe thead th {\n",
       "        text-align: right;\n",
       "    }\n",
       "</style>\n",
       "<table border=\"1\" class=\"dataframe\">\n",
       "  <thead>\n",
       "    <tr style=\"text-align: right;\">\n",
       "      <th></th>\n",
       "      <th>y</th>\n",
       "      <th>x</th>\n",
       "      <th>relevance</th>\n",
       "      <th>label</th>\n",
       "    </tr>\n",
       "    <tr>\n",
       "      <th>Image</th>\n",
       "      <th></th>\n",
       "      <th></th>\n",
       "      <th></th>\n",
       "      <th></th>\n",
       "    </tr>\n",
       "  </thead>\n",
       "  <tbody>\n",
       "    <tr>\n",
       "      <th>2024ready2</th>\n",
       "      <td>-0.012299</td>\n",
       "      <td>-0.002694</td>\n",
       "      <td>0.093879</td>\n",
       "      <td>ready</td>\n",
       "    </tr>\n",
       "    <tr>\n",
       "      <th>2028ready4</th>\n",
       "      <td>-0.008407</td>\n",
       "      <td>0.003378</td>\n",
       "      <td>0.097423</td>\n",
       "      <td>ready</td>\n",
       "    </tr>\n",
       "    <tr>\n",
       "      <th>2029ready20</th>\n",
       "      <td>-0.010099</td>\n",
       "      <td>-0.002367</td>\n",
       "      <td>0.095648</td>\n",
       "      <td>ready</td>\n",
       "    </tr>\n",
       "    <tr>\n",
       "      <th>2031ready1</th>\n",
       "      <td>-0.006136</td>\n",
       "      <td>-0.001401</td>\n",
       "      <td>0.099588</td>\n",
       "      <td>ready</td>\n",
       "    </tr>\n",
       "    <tr>\n",
       "      <th>2033ready9</th>\n",
       "      <td>-0.011014</td>\n",
       "      <td>-0.003094</td>\n",
       "      <td>0.094334</td>\n",
       "      <td>ready</td>\n",
       "    </tr>\n",
       "  </tbody>\n",
       "</table>\n",
       "</div>"
      ],
      "text/plain": [
       "                    y         x  relevance  label\n",
       "Image                                            \n",
       "2024ready2  -0.012299 -0.002694   0.093879  ready\n",
       "2028ready4  -0.008407  0.003378   0.097423  ready\n",
       "2029ready20 -0.010099 -0.002367   0.095648  ready\n",
       "2031ready1  -0.006136 -0.001401   0.099588  ready\n",
       "2033ready9  -0.011014 -0.003094   0.094334  ready"
      ]
     },
     "execution_count": 21,
     "metadata": {},
     "output_type": "execute_result"
    }
   ],
   "source": [
    "test_df = df_2D.head(5)\n",
    "test_df"
   ]
  },
  {
   "cell_type": "code",
   "execution_count": 22,
   "metadata": {},
   "outputs": [
    {
     "name": "stdout",
     "output_type": "stream",
     "text": [
      "The sparsity of clusters is:  4.70197740328915e-38\n"
     ]
    }
   ],
   "source": [
    "labels_df = df_2D.index.str.extract(r'([a-z]+)')\n",
    "labels_df.index = df_2D.index\n",
    "df_2D['label'] = labels_df\n",
    "ready_centroid = centroid(df_2D,'ready')\n",
    "disease_centroid = centroid(df_2D,'disease')\n",
    "late_centroid = centroid(df_2D,'late')\n",
    "print(\"The sparsity of clusters is: \",var(ready_centroid,disease_centroid,late_centroid))"
   ]
  },
  {
   "cell_type": "markdown",
   "metadata": {},
   "source": [
    "##  Selected Points Details\n",
    "Click the **Print** button below to display detailed data values of the points selected in the DR plot.  The selected points are Green."
   ]
  },
  {
   "cell_type": "code",
   "execution_count": 23,
   "metadata": {
    "scrolled": false
   },
   "outputs": [
    {
     "data": {
      "application/vnd.jupyter.widget-view+json": {
       "model_id": "9ce3949688ea4520b760266e2faee9f6",
       "version_major": 2,
       "version_minor": 0
      },
      "text/plain": [
       "Button(description='Print selected points', style=ButtonStyle())"
      ]
     },
     "metadata": {},
     "output_type": "display_data"
    },
    {
     "data": {
      "application/vnd.jupyter.widget-view+json": {
       "model_id": "73d8bbcf98c84ab889974f52af2eee13",
       "version_major": 2,
       "version_minor": 0
      },
      "text/plain": [
       "Output()"
      ]
     },
     "metadata": {},
     "output_type": "display_data"
    }
   ],
   "source": [
    "dod = create_detail_display()"
   ]
  },
  {
   "cell_type": "markdown",
   "metadata": {},
   "source": [
    "## Inverse Dimension Reduction\n",
    "After selecting and/or dragging some points in the DR plot, click the **Learn** button to machine learn new dimension weights that would produce a plot with similar pairwise distances as your plot.  **Only the Green selected points** in the plot are considered when learning new weights. You must select or move at least two points to specify new desired distances. Use this to create your own clusters, and find out what makes some data points similar to or different from others.  The **learned weights** are shown in a bar chart below.\n",
    "\n",
    "To see the effects of the learned weights, click the **Copy** button to apply the learned weights to the sliders and  make a new DR plot above."
   ]
  },
  {
   "cell_type": "code",
   "execution_count": 24,
   "metadata": {
    "scrolled": false
   },
   "outputs": [
    {
     "data": {
      "application/vnd.jupyter.widget-view+json": {
       "model_id": "42d3671e125b4a87b4f34699b1e05605",
       "version_major": 2,
       "version_minor": 0
      },
      "text/plain": [
       "Button(description='Learn New Weights', style=ButtonStyle())"
      ]
     },
     "metadata": {},
     "output_type": "display_data"
    },
    {
     "data": {
      "application/vnd.jupyter.widget-view+json": {
       "model_id": "42be6bb55b6a46c39275878604ebff60",
       "version_major": 2,
       "version_minor": 0
      },
      "text/plain": [
       "Button(description='Copy to Sliders', style=ButtonStyle())"
      ]
     },
     "metadata": {},
     "output_type": "display_data"
    },
    {
     "data": {
      "application/javascript": [
       "/* Put everything inside the global mpl namespace */\n",
       "/* global mpl */\n",
       "window.mpl = {};\n",
       "\n",
       "mpl.get_websocket_type = function () {\n",
       "    if (typeof WebSocket !== 'undefined') {\n",
       "        return WebSocket;\n",
       "    } else if (typeof MozWebSocket !== 'undefined') {\n",
       "        return MozWebSocket;\n",
       "    } else {\n",
       "        alert(\n",
       "            'Your browser does not have WebSocket support. ' +\n",
       "                'Please try Chrome, Safari or Firefox ≥ 6. ' +\n",
       "                'Firefox 4 and 5 are also supported but you ' +\n",
       "                'have to enable WebSockets in about:config.'\n",
       "        );\n",
       "    }\n",
       "};\n",
       "\n",
       "mpl.figure = function (figure_id, websocket, ondownload, parent_element) {\n",
       "    this.id = figure_id;\n",
       "\n",
       "    this.ws = websocket;\n",
       "\n",
       "    this.supports_binary = this.ws.binaryType !== undefined;\n",
       "\n",
       "    if (!this.supports_binary) {\n",
       "        var warnings = document.getElementById('mpl-warnings');\n",
       "        if (warnings) {\n",
       "            warnings.style.display = 'block';\n",
       "            warnings.textContent =\n",
       "                'This browser does not support binary websocket messages. ' +\n",
       "                'Performance may be slow.';\n",
       "        }\n",
       "    }\n",
       "\n",
       "    this.imageObj = new Image();\n",
       "\n",
       "    this.context = undefined;\n",
       "    this.message = undefined;\n",
       "    this.canvas = undefined;\n",
       "    this.rubberband_canvas = undefined;\n",
       "    this.rubberband_context = undefined;\n",
       "    this.format_dropdown = undefined;\n",
       "\n",
       "    this.image_mode = 'full';\n",
       "\n",
       "    this.root = document.createElement('div');\n",
       "    this.root.setAttribute('style', 'display: inline-block');\n",
       "    this._root_extra_style(this.root);\n",
       "\n",
       "    parent_element.appendChild(this.root);\n",
       "\n",
       "    this._init_header(this);\n",
       "    this._init_canvas(this);\n",
       "    this._init_toolbar(this);\n",
       "\n",
       "    var fig = this;\n",
       "\n",
       "    this.waiting = false;\n",
       "\n",
       "    this.ws.onopen = function () {\n",
       "        fig.send_message('supports_binary', { value: fig.supports_binary });\n",
       "        fig.send_message('send_image_mode', {});\n",
       "        if (fig.ratio !== 1) {\n",
       "            fig.send_message('set_dpi_ratio', { dpi_ratio: fig.ratio });\n",
       "        }\n",
       "        fig.send_message('refresh', {});\n",
       "    };\n",
       "\n",
       "    this.imageObj.onload = function () {\n",
       "        if (fig.image_mode === 'full') {\n",
       "            // Full images could contain transparency (where diff images\n",
       "            // almost always do), so we need to clear the canvas so that\n",
       "            // there is no ghosting.\n",
       "            fig.context.clearRect(0, 0, fig.canvas.width, fig.canvas.height);\n",
       "        }\n",
       "        fig.context.drawImage(fig.imageObj, 0, 0);\n",
       "    };\n",
       "\n",
       "    this.imageObj.onunload = function () {\n",
       "        fig.ws.close();\n",
       "    };\n",
       "\n",
       "    this.ws.onmessage = this._make_on_message_function(this);\n",
       "\n",
       "    this.ondownload = ondownload;\n",
       "};\n",
       "\n",
       "mpl.figure.prototype._init_header = function () {\n",
       "    var titlebar = document.createElement('div');\n",
       "    titlebar.classList =\n",
       "        'ui-dialog-titlebar ui-widget-header ui-corner-all ui-helper-clearfix';\n",
       "    var titletext = document.createElement('div');\n",
       "    titletext.classList = 'ui-dialog-title';\n",
       "    titletext.setAttribute(\n",
       "        'style',\n",
       "        'width: 100%; text-align: center; padding: 3px;'\n",
       "    );\n",
       "    titlebar.appendChild(titletext);\n",
       "    this.root.appendChild(titlebar);\n",
       "    this.header = titletext;\n",
       "};\n",
       "\n",
       "mpl.figure.prototype._canvas_extra_style = function (_canvas_div) {};\n",
       "\n",
       "mpl.figure.prototype._root_extra_style = function (_canvas_div) {};\n",
       "\n",
       "mpl.figure.prototype._init_canvas = function () {\n",
       "    var fig = this;\n",
       "\n",
       "    var canvas_div = (this.canvas_div = document.createElement('div'));\n",
       "    canvas_div.setAttribute(\n",
       "        'style',\n",
       "        'border: 1px solid #ddd;' +\n",
       "            'box-sizing: content-box;' +\n",
       "            'clear: both;' +\n",
       "            'min-height: 1px;' +\n",
       "            'min-width: 1px;' +\n",
       "            'outline: 0;' +\n",
       "            'overflow: hidden;' +\n",
       "            'position: relative;' +\n",
       "            'resize: both;'\n",
       "    );\n",
       "\n",
       "    function on_keyboard_event_closure(name) {\n",
       "        return function (event) {\n",
       "            return fig.key_event(event, name);\n",
       "        };\n",
       "    }\n",
       "\n",
       "    canvas_div.addEventListener(\n",
       "        'keydown',\n",
       "        on_keyboard_event_closure('key_press')\n",
       "    );\n",
       "    canvas_div.addEventListener(\n",
       "        'keyup',\n",
       "        on_keyboard_event_closure('key_release')\n",
       "    );\n",
       "\n",
       "    this._canvas_extra_style(canvas_div);\n",
       "    this.root.appendChild(canvas_div);\n",
       "\n",
       "    var canvas = (this.canvas = document.createElement('canvas'));\n",
       "    canvas.classList.add('mpl-canvas');\n",
       "    canvas.setAttribute('style', 'box-sizing: content-box;');\n",
       "\n",
       "    this.context = canvas.getContext('2d');\n",
       "\n",
       "    var backingStore =\n",
       "        this.context.backingStorePixelRatio ||\n",
       "        this.context.webkitBackingStorePixelRatio ||\n",
       "        this.context.mozBackingStorePixelRatio ||\n",
       "        this.context.msBackingStorePixelRatio ||\n",
       "        this.context.oBackingStorePixelRatio ||\n",
       "        this.context.backingStorePixelRatio ||\n",
       "        1;\n",
       "\n",
       "    this.ratio = (window.devicePixelRatio || 1) / backingStore;\n",
       "    if (this.ratio !== 1) {\n",
       "        fig.send_message('set_dpi_ratio', { dpi_ratio: this.ratio });\n",
       "    }\n",
       "\n",
       "    var rubberband_canvas = (this.rubberband_canvas = document.createElement(\n",
       "        'canvas'\n",
       "    ));\n",
       "    rubberband_canvas.setAttribute(\n",
       "        'style',\n",
       "        'box-sizing: content-box; position: absolute; left: 0; top: 0; z-index: 1;'\n",
       "    );\n",
       "\n",
       "    var resizeObserver = new ResizeObserver(function (entries) {\n",
       "        var nentries = entries.length;\n",
       "        for (var i = 0; i < nentries; i++) {\n",
       "            var entry = entries[i];\n",
       "            var width, height;\n",
       "            if (entry.contentBoxSize) {\n",
       "                if (entry.contentBoxSize instanceof Array) {\n",
       "                    // Chrome 84 implements new version of spec.\n",
       "                    width = entry.contentBoxSize[0].inlineSize;\n",
       "                    height = entry.contentBoxSize[0].blockSize;\n",
       "                } else {\n",
       "                    // Firefox implements old version of spec.\n",
       "                    width = entry.contentBoxSize.inlineSize;\n",
       "                    height = entry.contentBoxSize.blockSize;\n",
       "                }\n",
       "            } else {\n",
       "                // Chrome <84 implements even older version of spec.\n",
       "                width = entry.contentRect.width;\n",
       "                height = entry.contentRect.height;\n",
       "            }\n",
       "\n",
       "            // Keep the size of the canvas and rubber band canvas in sync with\n",
       "            // the canvas container.\n",
       "            if (entry.devicePixelContentBoxSize) {\n",
       "                // Chrome 84 implements new version of spec.\n",
       "                canvas.setAttribute(\n",
       "                    'width',\n",
       "                    entry.devicePixelContentBoxSize[0].inlineSize\n",
       "                );\n",
       "                canvas.setAttribute(\n",
       "                    'height',\n",
       "                    entry.devicePixelContentBoxSize[0].blockSize\n",
       "                );\n",
       "            } else {\n",
       "                canvas.setAttribute('width', width * fig.ratio);\n",
       "                canvas.setAttribute('height', height * fig.ratio);\n",
       "            }\n",
       "            canvas.setAttribute(\n",
       "                'style',\n",
       "                'width: ' + width + 'px; height: ' + height + 'px;'\n",
       "            );\n",
       "\n",
       "            rubberband_canvas.setAttribute('width', width);\n",
       "            rubberband_canvas.setAttribute('height', height);\n",
       "\n",
       "            // And update the size in Python. We ignore the initial 0/0 size\n",
       "            // that occurs as the element is placed into the DOM, which should\n",
       "            // otherwise not happen due to the minimum size styling.\n",
       "            if (width != 0 && height != 0) {\n",
       "                fig.request_resize(width, height);\n",
       "            }\n",
       "        }\n",
       "    });\n",
       "    resizeObserver.observe(canvas_div);\n",
       "\n",
       "    function on_mouse_event_closure(name) {\n",
       "        return function (event) {\n",
       "            return fig.mouse_event(event, name);\n",
       "        };\n",
       "    }\n",
       "\n",
       "    rubberband_canvas.addEventListener(\n",
       "        'mousedown',\n",
       "        on_mouse_event_closure('button_press')\n",
       "    );\n",
       "    rubberband_canvas.addEventListener(\n",
       "        'mouseup',\n",
       "        on_mouse_event_closure('button_release')\n",
       "    );\n",
       "    // Throttle sequential mouse events to 1 every 20ms.\n",
       "    rubberband_canvas.addEventListener(\n",
       "        'mousemove',\n",
       "        on_mouse_event_closure('motion_notify')\n",
       "    );\n",
       "\n",
       "    rubberband_canvas.addEventListener(\n",
       "        'mouseenter',\n",
       "        on_mouse_event_closure('figure_enter')\n",
       "    );\n",
       "    rubberband_canvas.addEventListener(\n",
       "        'mouseleave',\n",
       "        on_mouse_event_closure('figure_leave')\n",
       "    );\n",
       "\n",
       "    canvas_div.addEventListener('wheel', function (event) {\n",
       "        if (event.deltaY < 0) {\n",
       "            event.step = 1;\n",
       "        } else {\n",
       "            event.step = -1;\n",
       "        }\n",
       "        on_mouse_event_closure('scroll')(event);\n",
       "    });\n",
       "\n",
       "    canvas_div.appendChild(canvas);\n",
       "    canvas_div.appendChild(rubberband_canvas);\n",
       "\n",
       "    this.rubberband_context = rubberband_canvas.getContext('2d');\n",
       "    this.rubberband_context.strokeStyle = '#000000';\n",
       "\n",
       "    this._resize_canvas = function (width, height, forward) {\n",
       "        if (forward) {\n",
       "            canvas_div.style.width = width + 'px';\n",
       "            canvas_div.style.height = height + 'px';\n",
       "        }\n",
       "    };\n",
       "\n",
       "    // Disable right mouse context menu.\n",
       "    this.rubberband_canvas.addEventListener('contextmenu', function (_e) {\n",
       "        event.preventDefault();\n",
       "        return false;\n",
       "    });\n",
       "\n",
       "    function set_focus() {\n",
       "        canvas.focus();\n",
       "        canvas_div.focus();\n",
       "    }\n",
       "\n",
       "    window.setTimeout(set_focus, 100);\n",
       "};\n",
       "\n",
       "mpl.figure.prototype._init_toolbar = function () {\n",
       "    var fig = this;\n",
       "\n",
       "    var toolbar = document.createElement('div');\n",
       "    toolbar.classList = 'mpl-toolbar';\n",
       "    this.root.appendChild(toolbar);\n",
       "\n",
       "    function on_click_closure(name) {\n",
       "        return function (_event) {\n",
       "            return fig.toolbar_button_onclick(name);\n",
       "        };\n",
       "    }\n",
       "\n",
       "    function on_mouseover_closure(tooltip) {\n",
       "        return function (event) {\n",
       "            if (!event.currentTarget.disabled) {\n",
       "                return fig.toolbar_button_onmouseover(tooltip);\n",
       "            }\n",
       "        };\n",
       "    }\n",
       "\n",
       "    fig.buttons = {};\n",
       "    var buttonGroup = document.createElement('div');\n",
       "    buttonGroup.classList = 'mpl-button-group';\n",
       "    for (var toolbar_ind in mpl.toolbar_items) {\n",
       "        var name = mpl.toolbar_items[toolbar_ind][0];\n",
       "        var tooltip = mpl.toolbar_items[toolbar_ind][1];\n",
       "        var image = mpl.toolbar_items[toolbar_ind][2];\n",
       "        var method_name = mpl.toolbar_items[toolbar_ind][3];\n",
       "\n",
       "        if (!name) {\n",
       "            /* Instead of a spacer, we start a new button group. */\n",
       "            if (buttonGroup.hasChildNodes()) {\n",
       "                toolbar.appendChild(buttonGroup);\n",
       "            }\n",
       "            buttonGroup = document.createElement('div');\n",
       "            buttonGroup.classList = 'mpl-button-group';\n",
       "            continue;\n",
       "        }\n",
       "\n",
       "        var button = (fig.buttons[name] = document.createElement('button'));\n",
       "        button.classList = 'mpl-widget';\n",
       "        button.setAttribute('role', 'button');\n",
       "        button.setAttribute('aria-disabled', 'false');\n",
       "        button.addEventListener('click', on_click_closure(method_name));\n",
       "        button.addEventListener('mouseover', on_mouseover_closure(tooltip));\n",
       "\n",
       "        var icon_img = document.createElement('img');\n",
       "        icon_img.src = '_images/' + image + '.png';\n",
       "        icon_img.srcset = '_images/' + image + '_large.png 2x';\n",
       "        icon_img.alt = tooltip;\n",
       "        button.appendChild(icon_img);\n",
       "\n",
       "        buttonGroup.appendChild(button);\n",
       "    }\n",
       "\n",
       "    if (buttonGroup.hasChildNodes()) {\n",
       "        toolbar.appendChild(buttonGroup);\n",
       "    }\n",
       "\n",
       "    var fmt_picker = document.createElement('select');\n",
       "    fmt_picker.classList = 'mpl-widget';\n",
       "    toolbar.appendChild(fmt_picker);\n",
       "    this.format_dropdown = fmt_picker;\n",
       "\n",
       "    for (var ind in mpl.extensions) {\n",
       "        var fmt = mpl.extensions[ind];\n",
       "        var option = document.createElement('option');\n",
       "        option.selected = fmt === mpl.default_extension;\n",
       "        option.innerHTML = fmt;\n",
       "        fmt_picker.appendChild(option);\n",
       "    }\n",
       "\n",
       "    var status_bar = document.createElement('span');\n",
       "    status_bar.classList = 'mpl-message';\n",
       "    toolbar.appendChild(status_bar);\n",
       "    this.message = status_bar;\n",
       "};\n",
       "\n",
       "mpl.figure.prototype.request_resize = function (x_pixels, y_pixels) {\n",
       "    // Request matplotlib to resize the figure. Matplotlib will then trigger a resize in the client,\n",
       "    // which will in turn request a refresh of the image.\n",
       "    this.send_message('resize', { width: x_pixels, height: y_pixels });\n",
       "};\n",
       "\n",
       "mpl.figure.prototype.send_message = function (type, properties) {\n",
       "    properties['type'] = type;\n",
       "    properties['figure_id'] = this.id;\n",
       "    this.ws.send(JSON.stringify(properties));\n",
       "};\n",
       "\n",
       "mpl.figure.prototype.send_draw_message = function () {\n",
       "    if (!this.waiting) {\n",
       "        this.waiting = true;\n",
       "        this.ws.send(JSON.stringify({ type: 'draw', figure_id: this.id }));\n",
       "    }\n",
       "};\n",
       "\n",
       "mpl.figure.prototype.handle_save = function (fig, _msg) {\n",
       "    var format_dropdown = fig.format_dropdown;\n",
       "    var format = format_dropdown.options[format_dropdown.selectedIndex].value;\n",
       "    fig.ondownload(fig, format);\n",
       "};\n",
       "\n",
       "mpl.figure.prototype.handle_resize = function (fig, msg) {\n",
       "    var size = msg['size'];\n",
       "    if (size[0] !== fig.canvas.width || size[1] !== fig.canvas.height) {\n",
       "        fig._resize_canvas(size[0], size[1], msg['forward']);\n",
       "        fig.send_message('refresh', {});\n",
       "    }\n",
       "};\n",
       "\n",
       "mpl.figure.prototype.handle_rubberband = function (fig, msg) {\n",
       "    var x0 = msg['x0'] / fig.ratio;\n",
       "    var y0 = (fig.canvas.height - msg['y0']) / fig.ratio;\n",
       "    var x1 = msg['x1'] / fig.ratio;\n",
       "    var y1 = (fig.canvas.height - msg['y1']) / fig.ratio;\n",
       "    x0 = Math.floor(x0) + 0.5;\n",
       "    y0 = Math.floor(y0) + 0.5;\n",
       "    x1 = Math.floor(x1) + 0.5;\n",
       "    y1 = Math.floor(y1) + 0.5;\n",
       "    var min_x = Math.min(x0, x1);\n",
       "    var min_y = Math.min(y0, y1);\n",
       "    var width = Math.abs(x1 - x0);\n",
       "    var height = Math.abs(y1 - y0);\n",
       "\n",
       "    fig.rubberband_context.clearRect(\n",
       "        0,\n",
       "        0,\n",
       "        fig.canvas.width / fig.ratio,\n",
       "        fig.canvas.height / fig.ratio\n",
       "    );\n",
       "\n",
       "    fig.rubberband_context.strokeRect(min_x, min_y, width, height);\n",
       "};\n",
       "\n",
       "mpl.figure.prototype.handle_figure_label = function (fig, msg) {\n",
       "    // Updates the figure title.\n",
       "    fig.header.textContent = msg['label'];\n",
       "};\n",
       "\n",
       "mpl.figure.prototype.handle_cursor = function (fig, msg) {\n",
       "    var cursor = msg['cursor'];\n",
       "    switch (cursor) {\n",
       "        case 0:\n",
       "            cursor = 'pointer';\n",
       "            break;\n",
       "        case 1:\n",
       "            cursor = 'default';\n",
       "            break;\n",
       "        case 2:\n",
       "            cursor = 'crosshair';\n",
       "            break;\n",
       "        case 3:\n",
       "            cursor = 'move';\n",
       "            break;\n",
       "    }\n",
       "    fig.rubberband_canvas.style.cursor = cursor;\n",
       "};\n",
       "\n",
       "mpl.figure.prototype.handle_message = function (fig, msg) {\n",
       "    fig.message.textContent = msg['message'];\n",
       "};\n",
       "\n",
       "mpl.figure.prototype.handle_draw = function (fig, _msg) {\n",
       "    // Request the server to send over a new figure.\n",
       "    fig.send_draw_message();\n",
       "};\n",
       "\n",
       "mpl.figure.prototype.handle_image_mode = function (fig, msg) {\n",
       "    fig.image_mode = msg['mode'];\n",
       "};\n",
       "\n",
       "mpl.figure.prototype.handle_history_buttons = function (fig, msg) {\n",
       "    for (var key in msg) {\n",
       "        if (!(key in fig.buttons)) {\n",
       "            continue;\n",
       "        }\n",
       "        fig.buttons[key].disabled = !msg[key];\n",
       "        fig.buttons[key].setAttribute('aria-disabled', !msg[key]);\n",
       "    }\n",
       "};\n",
       "\n",
       "mpl.figure.prototype.handle_navigate_mode = function (fig, msg) {\n",
       "    if (msg['mode'] === 'PAN') {\n",
       "        fig.buttons['Pan'].classList.add('active');\n",
       "        fig.buttons['Zoom'].classList.remove('active');\n",
       "    } else if (msg['mode'] === 'ZOOM') {\n",
       "        fig.buttons['Pan'].classList.remove('active');\n",
       "        fig.buttons['Zoom'].classList.add('active');\n",
       "    } else {\n",
       "        fig.buttons['Pan'].classList.remove('active');\n",
       "        fig.buttons['Zoom'].classList.remove('active');\n",
       "    }\n",
       "};\n",
       "\n",
       "mpl.figure.prototype.updated_canvas_event = function () {\n",
       "    // Called whenever the canvas gets updated.\n",
       "    this.send_message('ack', {});\n",
       "};\n",
       "\n",
       "// A function to construct a web socket function for onmessage handling.\n",
       "// Called in the figure constructor.\n",
       "mpl.figure.prototype._make_on_message_function = function (fig) {\n",
       "    return function socket_on_message(evt) {\n",
       "        if (evt.data instanceof Blob) {\n",
       "            /* FIXME: We get \"Resource interpreted as Image but\n",
       "             * transferred with MIME type text/plain:\" errors on\n",
       "             * Chrome.  But how to set the MIME type?  It doesn't seem\n",
       "             * to be part of the websocket stream */\n",
       "            evt.data.type = 'image/png';\n",
       "\n",
       "            /* Free the memory for the previous frames */\n",
       "            if (fig.imageObj.src) {\n",
       "                (window.URL || window.webkitURL).revokeObjectURL(\n",
       "                    fig.imageObj.src\n",
       "                );\n",
       "            }\n",
       "\n",
       "            fig.imageObj.src = (window.URL || window.webkitURL).createObjectURL(\n",
       "                evt.data\n",
       "            );\n",
       "            fig.updated_canvas_event();\n",
       "            fig.waiting = false;\n",
       "            return;\n",
       "        } else if (\n",
       "            typeof evt.data === 'string' &&\n",
       "            evt.data.slice(0, 21) === 'data:image/png;base64'\n",
       "        ) {\n",
       "            fig.imageObj.src = evt.data;\n",
       "            fig.updated_canvas_event();\n",
       "            fig.waiting = false;\n",
       "            return;\n",
       "        }\n",
       "\n",
       "        var msg = JSON.parse(evt.data);\n",
       "        var msg_type = msg['type'];\n",
       "\n",
       "        // Call the  \"handle_{type}\" callback, which takes\n",
       "        // the figure and JSON message as its only arguments.\n",
       "        try {\n",
       "            var callback = fig['handle_' + msg_type];\n",
       "        } catch (e) {\n",
       "            console.log(\n",
       "                \"No handler for the '\" + msg_type + \"' message type: \",\n",
       "                msg\n",
       "            );\n",
       "            return;\n",
       "        }\n",
       "\n",
       "        if (callback) {\n",
       "            try {\n",
       "                // console.log(\"Handling '\" + msg_type + \"' message: \", msg);\n",
       "                callback(fig, msg);\n",
       "            } catch (e) {\n",
       "                console.log(\n",
       "                    \"Exception inside the 'handler_\" + msg_type + \"' callback:\",\n",
       "                    e,\n",
       "                    e.stack,\n",
       "                    msg\n",
       "                );\n",
       "            }\n",
       "        }\n",
       "    };\n",
       "};\n",
       "\n",
       "// from http://stackoverflow.com/questions/1114465/getting-mouse-location-in-canvas\n",
       "mpl.findpos = function (e) {\n",
       "    //this section is from http://www.quirksmode.org/js/events_properties.html\n",
       "    var targ;\n",
       "    if (!e) {\n",
       "        e = window.event;\n",
       "    }\n",
       "    if (e.target) {\n",
       "        targ = e.target;\n",
       "    } else if (e.srcElement) {\n",
       "        targ = e.srcElement;\n",
       "    }\n",
       "    if (targ.nodeType === 3) {\n",
       "        // defeat Safari bug\n",
       "        targ = targ.parentNode;\n",
       "    }\n",
       "\n",
       "    // pageX,Y are the mouse positions relative to the document\n",
       "    var boundingRect = targ.getBoundingClientRect();\n",
       "    var x = e.pageX - (boundingRect.left + document.body.scrollLeft);\n",
       "    var y = e.pageY - (boundingRect.top + document.body.scrollTop);\n",
       "\n",
       "    return { x: x, y: y };\n",
       "};\n",
       "\n",
       "/*\n",
       " * return a copy of an object with only non-object keys\n",
       " * we need this to avoid circular references\n",
       " * http://stackoverflow.com/a/24161582/3208463\n",
       " */\n",
       "function simpleKeys(original) {\n",
       "    return Object.keys(original).reduce(function (obj, key) {\n",
       "        if (typeof original[key] !== 'object') {\n",
       "            obj[key] = original[key];\n",
       "        }\n",
       "        return obj;\n",
       "    }, {});\n",
       "}\n",
       "\n",
       "mpl.figure.prototype.mouse_event = function (event, name) {\n",
       "    var canvas_pos = mpl.findpos(event);\n",
       "\n",
       "    if (name === 'button_press') {\n",
       "        this.canvas.focus();\n",
       "        this.canvas_div.focus();\n",
       "    }\n",
       "\n",
       "    var x = canvas_pos.x * this.ratio;\n",
       "    var y = canvas_pos.y * this.ratio;\n",
       "\n",
       "    this.send_message(name, {\n",
       "        x: x,\n",
       "        y: y,\n",
       "        button: event.button,\n",
       "        step: event.step,\n",
       "        guiEvent: simpleKeys(event),\n",
       "    });\n",
       "\n",
       "    /* This prevents the web browser from automatically changing to\n",
       "     * the text insertion cursor when the button is pressed.  We want\n",
       "     * to control all of the cursor setting manually through the\n",
       "     * 'cursor' event from matplotlib */\n",
       "    event.preventDefault();\n",
       "    return false;\n",
       "};\n",
       "\n",
       "mpl.figure.prototype._key_event_extra = function (_event, _name) {\n",
       "    // Handle any extra behaviour associated with a key event\n",
       "};\n",
       "\n",
       "mpl.figure.prototype.key_event = function (event, name) {\n",
       "    // Prevent repeat events\n",
       "    if (name === 'key_press') {\n",
       "        if (event.which === this._key) {\n",
       "            return;\n",
       "        } else {\n",
       "            this._key = event.which;\n",
       "        }\n",
       "    }\n",
       "    if (name === 'key_release') {\n",
       "        this._key = null;\n",
       "    }\n",
       "\n",
       "    var value = '';\n",
       "    if (event.ctrlKey && event.which !== 17) {\n",
       "        value += 'ctrl+';\n",
       "    }\n",
       "    if (event.altKey && event.which !== 18) {\n",
       "        value += 'alt+';\n",
       "    }\n",
       "    if (event.shiftKey && event.which !== 16) {\n",
       "        value += 'shift+';\n",
       "    }\n",
       "\n",
       "    value += 'k';\n",
       "    value += event.which.toString();\n",
       "\n",
       "    this._key_event_extra(event, name);\n",
       "\n",
       "    this.send_message(name, { key: value, guiEvent: simpleKeys(event) });\n",
       "    return false;\n",
       "};\n",
       "\n",
       "mpl.figure.prototype.toolbar_button_onclick = function (name) {\n",
       "    if (name === 'download') {\n",
       "        this.handle_save(this, null);\n",
       "    } else {\n",
       "        this.send_message('toolbar_button', { name: name });\n",
       "    }\n",
       "};\n",
       "\n",
       "mpl.figure.prototype.toolbar_button_onmouseover = function (tooltip) {\n",
       "    this.message.textContent = tooltip;\n",
       "};\n",
       "mpl.toolbar_items = [[\"Home\", \"Reset original view\", \"fa fa-home icon-home\", \"home\"], [\"Back\", \"Back to previous view\", \"fa fa-arrow-left icon-arrow-left\", \"back\"], [\"Forward\", \"Forward to next view\", \"fa fa-arrow-right icon-arrow-right\", \"forward\"], [\"\", \"\", \"\", \"\"], [\"Pan\", \"Left button pans, Right button zooms\\nx/y fixes axis, CTRL fixes aspect\", \"fa fa-arrows icon-move\", \"pan\"], [\"Zoom\", \"Zoom to rectangle\\nx/y fixes axis, CTRL fixes aspect\", \"fa fa-square-o icon-check-empty\", \"zoom\"], [\"\", \"\", \"\", \"\"], [\"Download\", \"Download plot\", \"fa fa-floppy-o icon-save\", \"download\"]];\n",
       "\n",
       "mpl.extensions = [\"eps\", \"jpeg\", \"pdf\", \"png\", \"ps\", \"raw\", \"svg\", \"tif\"];\n",
       "\n",
       "mpl.default_extension = \"png\";/* global mpl */\n",
       "\n",
       "var comm_websocket_adapter = function (comm) {\n",
       "    // Create a \"websocket\"-like object which calls the given IPython comm\n",
       "    // object with the appropriate methods. Currently this is a non binary\n",
       "    // socket, so there is still some room for performance tuning.\n",
       "    var ws = {};\n",
       "\n",
       "    ws.close = function () {\n",
       "        comm.close();\n",
       "    };\n",
       "    ws.send = function (m) {\n",
       "        //console.log('sending', m);\n",
       "        comm.send(m);\n",
       "    };\n",
       "    // Register the callback with on_msg.\n",
       "    comm.on_msg(function (msg) {\n",
       "        //console.log('receiving', msg['content']['data'], msg);\n",
       "        // Pass the mpl event to the overridden (by mpl) onmessage function.\n",
       "        ws.onmessage(msg['content']['data']);\n",
       "    });\n",
       "    return ws;\n",
       "};\n",
       "\n",
       "mpl.mpl_figure_comm = function (comm, msg) {\n",
       "    // This is the function which gets called when the mpl process\n",
       "    // starts-up an IPython Comm through the \"matplotlib\" channel.\n",
       "\n",
       "    var id = msg.content.data.id;\n",
       "    // Get hold of the div created by the display call when the Comm\n",
       "    // socket was opened in Python.\n",
       "    var element = document.getElementById(id);\n",
       "    var ws_proxy = comm_websocket_adapter(comm);\n",
       "\n",
       "    function ondownload(figure, _format) {\n",
       "        window.open(figure.canvas.toDataURL());\n",
       "    }\n",
       "\n",
       "    var fig = new mpl.figure(id, ws_proxy, ondownload, element);\n",
       "\n",
       "    // Call onopen now - mpl needs it, as it is assuming we've passed it a real\n",
       "    // web socket which is closed, not our websocket->open comm proxy.\n",
       "    ws_proxy.onopen();\n",
       "\n",
       "    fig.parent_element = element;\n",
       "    fig.cell_info = mpl.find_output_cell(\"<div id='\" + id + \"'></div>\");\n",
       "    if (!fig.cell_info) {\n",
       "        console.error('Failed to find cell for figure', id, fig);\n",
       "        return;\n",
       "    }\n",
       "    fig.cell_info[0].output_area.element.one(\n",
       "        'cleared',\n",
       "        { fig: fig },\n",
       "        fig._remove_fig_handler\n",
       "    );\n",
       "};\n",
       "\n",
       "mpl.figure.prototype.handle_close = function (fig, msg) {\n",
       "    var width = fig.canvas.width / fig.ratio;\n",
       "    fig.cell_info[0].output_area.element.off(\n",
       "        'cleared',\n",
       "        fig._remove_fig_handler\n",
       "    );\n",
       "\n",
       "    // Update the output cell to use the data from the current canvas.\n",
       "    fig.push_to_output();\n",
       "    var dataURL = fig.canvas.toDataURL();\n",
       "    // Re-enable the keyboard manager in IPython - without this line, in FF,\n",
       "    // the notebook keyboard shortcuts fail.\n",
       "    IPython.keyboard_manager.enable();\n",
       "    fig.parent_element.innerHTML =\n",
       "        '<img src=\"' + dataURL + '\" width=\"' + width + '\">';\n",
       "    fig.close_ws(fig, msg);\n",
       "};\n",
       "\n",
       "mpl.figure.prototype.close_ws = function (fig, msg) {\n",
       "    fig.send_message('closing', msg);\n",
       "    // fig.ws.close()\n",
       "};\n",
       "\n",
       "mpl.figure.prototype.push_to_output = function (_remove_interactive) {\n",
       "    // Turn the data on the canvas into data in the output cell.\n",
       "    var width = this.canvas.width / this.ratio;\n",
       "    var dataURL = this.canvas.toDataURL();\n",
       "    this.cell_info[1]['text/html'] =\n",
       "        '<img src=\"' + dataURL + '\" width=\"' + width + '\">';\n",
       "};\n",
       "\n",
       "mpl.figure.prototype.updated_canvas_event = function () {\n",
       "    // Tell IPython that the notebook contents must change.\n",
       "    IPython.notebook.set_dirty(true);\n",
       "    this.send_message('ack', {});\n",
       "    var fig = this;\n",
       "    // Wait a second, then push the new image to the DOM so\n",
       "    // that it is saved nicely (might be nice to debounce this).\n",
       "    setTimeout(function () {\n",
       "        fig.push_to_output();\n",
       "    }, 1000);\n",
       "};\n",
       "\n",
       "mpl.figure.prototype._init_toolbar = function () {\n",
       "    var fig = this;\n",
       "\n",
       "    var toolbar = document.createElement('div');\n",
       "    toolbar.classList = 'btn-toolbar';\n",
       "    this.root.appendChild(toolbar);\n",
       "\n",
       "    function on_click_closure(name) {\n",
       "        return function (_event) {\n",
       "            return fig.toolbar_button_onclick(name);\n",
       "        };\n",
       "    }\n",
       "\n",
       "    function on_mouseover_closure(tooltip) {\n",
       "        return function (event) {\n",
       "            if (!event.currentTarget.disabled) {\n",
       "                return fig.toolbar_button_onmouseover(tooltip);\n",
       "            }\n",
       "        };\n",
       "    }\n",
       "\n",
       "    fig.buttons = {};\n",
       "    var buttonGroup = document.createElement('div');\n",
       "    buttonGroup.classList = 'btn-group';\n",
       "    var button;\n",
       "    for (var toolbar_ind in mpl.toolbar_items) {\n",
       "        var name = mpl.toolbar_items[toolbar_ind][0];\n",
       "        var tooltip = mpl.toolbar_items[toolbar_ind][1];\n",
       "        var image = mpl.toolbar_items[toolbar_ind][2];\n",
       "        var method_name = mpl.toolbar_items[toolbar_ind][3];\n",
       "\n",
       "        if (!name) {\n",
       "            /* Instead of a spacer, we start a new button group. */\n",
       "            if (buttonGroup.hasChildNodes()) {\n",
       "                toolbar.appendChild(buttonGroup);\n",
       "            }\n",
       "            buttonGroup = document.createElement('div');\n",
       "            buttonGroup.classList = 'btn-group';\n",
       "            continue;\n",
       "        }\n",
       "\n",
       "        button = fig.buttons[name] = document.createElement('button');\n",
       "        button.classList = 'btn btn-default';\n",
       "        button.href = '#';\n",
       "        button.title = name;\n",
       "        button.innerHTML = '<i class=\"fa ' + image + ' fa-lg\"></i>';\n",
       "        button.addEventListener('click', on_click_closure(method_name));\n",
       "        button.addEventListener('mouseover', on_mouseover_closure(tooltip));\n",
       "        buttonGroup.appendChild(button);\n",
       "    }\n",
       "\n",
       "    if (buttonGroup.hasChildNodes()) {\n",
       "        toolbar.appendChild(buttonGroup);\n",
       "    }\n",
       "\n",
       "    // Add the status bar.\n",
       "    var status_bar = document.createElement('span');\n",
       "    status_bar.classList = 'mpl-message pull-right';\n",
       "    toolbar.appendChild(status_bar);\n",
       "    this.message = status_bar;\n",
       "\n",
       "    // Add the close button to the window.\n",
       "    var buttongrp = document.createElement('div');\n",
       "    buttongrp.classList = 'btn-group inline pull-right';\n",
       "    button = document.createElement('button');\n",
       "    button.classList = 'btn btn-mini btn-primary';\n",
       "    button.href = '#';\n",
       "    button.title = 'Stop Interaction';\n",
       "    button.innerHTML = '<i class=\"fa fa-power-off icon-remove icon-large\"></i>';\n",
       "    button.addEventListener('click', function (_evt) {\n",
       "        fig.handle_close(fig, {});\n",
       "    });\n",
       "    button.addEventListener(\n",
       "        'mouseover',\n",
       "        on_mouseover_closure('Stop Interaction')\n",
       "    );\n",
       "    buttongrp.appendChild(button);\n",
       "    var titlebar = this.root.querySelector('.ui-dialog-titlebar');\n",
       "    titlebar.insertBefore(buttongrp, titlebar.firstChild);\n",
       "};\n",
       "\n",
       "mpl.figure.prototype._remove_fig_handler = function (event) {\n",
       "    var fig = event.data.fig;\n",
       "    fig.close_ws(fig, {});\n",
       "};\n",
       "\n",
       "mpl.figure.prototype._root_extra_style = function (el) {\n",
       "    el.style.boxSizing = 'content-box'; // override notebook setting of border-box.\n",
       "};\n",
       "\n",
       "mpl.figure.prototype._canvas_extra_style = function (el) {\n",
       "    // this is important to make the div 'focusable\n",
       "    el.setAttribute('tabindex', 0);\n",
       "    // reach out to IPython and tell the keyboard manager to turn it's self\n",
       "    // off when our div gets focus\n",
       "\n",
       "    // location in version 3\n",
       "    if (IPython.notebook.keyboard_manager) {\n",
       "        IPython.notebook.keyboard_manager.register_events(el);\n",
       "    } else {\n",
       "        // location in version 2\n",
       "        IPython.keyboard_manager.register_events(el);\n",
       "    }\n",
       "};\n",
       "\n",
       "mpl.figure.prototype._key_event_extra = function (event, _name) {\n",
       "    var manager = IPython.notebook.keyboard_manager;\n",
       "    if (!manager) {\n",
       "        manager = IPython.keyboard_manager;\n",
       "    }\n",
       "\n",
       "    // Check for shift+enter\n",
       "    if (event.shiftKey && event.which === 13) {\n",
       "        this.canvas_div.blur();\n",
       "        // select the cell after this one\n",
       "        var index = IPython.notebook.find_cell_index(this.cell_info[0]);\n",
       "        IPython.notebook.select(index + 1);\n",
       "    }\n",
       "};\n",
       "\n",
       "mpl.figure.prototype.handle_save = function (fig, _msg) {\n",
       "    fig.ondownload(fig, null);\n",
       "};\n",
       "\n",
       "mpl.find_output_cell = function (html_output) {\n",
       "    // Return the cell and output element which can be found *uniquely* in the notebook.\n",
       "    // Note - this is a bit hacky, but it is done because the \"notebook_saving.Notebook\"\n",
       "    // IPython event is triggered only after the cells have been serialised, which for\n",
       "    // our purposes (turning an active figure into a static one), is too late.\n",
       "    var cells = IPython.notebook.get_cells();\n",
       "    var ncells = cells.length;\n",
       "    for (var i = 0; i < ncells; i++) {\n",
       "        var cell = cells[i];\n",
       "        if (cell.cell_type === 'code') {\n",
       "            for (var j = 0; j < cell.output_area.outputs.length; j++) {\n",
       "                var data = cell.output_area.outputs[j];\n",
       "                if (data.data) {\n",
       "                    // IPython >= 3 moved mimebundle to data attribute of output\n",
       "                    data = data.data;\n",
       "                }\n",
       "                if (data['text/html'] === html_output) {\n",
       "                    return [cell, data, j];\n",
       "                }\n",
       "            }\n",
       "        }\n",
       "    }\n",
       "};\n",
       "\n",
       "// Register the function which deals with the matplotlib target/channel.\n",
       "// The kernel may be null if the page has been refreshed.\n",
       "if (IPython.notebook.kernel !== null) {\n",
       "    IPython.notebook.kernel.comm_manager.register_target(\n",
       "        'matplotlib',\n",
       "        mpl.mpl_figure_comm\n",
       "    );\n",
       "}\n"
      ],
      "text/plain": [
       "<IPython.core.display.Javascript object>"
      ]
     },
     "metadata": {},
     "output_type": "display_data"
    },
    {
     "data": {
      "text/html": [
       "<img src=\"data:image/png;base64,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\" width=\"500\">"
      ],
      "text/plain": [
       "<IPython.core.display.HTML object>"
      ]
     },
     "metadata": {},
     "output_type": "display_data"
    },
    {
     "name": "stdout",
     "output_type": "stream",
     "text": [
      "Need to select or move at least 2 points in the plot first.\n",
      "Starting stress = 0.0012160750927257442 Processing...\n",
      "Solution stress = 0.0 Done.\n"
     ]
    }
   ],
   "source": [
    "inverse = create_inverse_button()"
   ]
  },
  {
   "cell_type": "code",
   "execution_count": 25,
   "metadata": {},
   "outputs": [
    {
     "name": "stdout",
     "output_type": "stream",
     "text": [
      "rm: ./testTrainingData/.DS_Store: No such file or directory\r\n"
     ]
    }
   ],
   "source": [
    "! rm ./testTrainingData/.DS_Store"
   ]
  },
  {
   "cell_type": "code",
   "execution_count": 26,
   "metadata": {},
   "outputs": [
    {
     "data": {
      "text/html": [
       "<div>\n",
       "<style scoped>\n",
       "    .dataframe tbody tr th:only-of-type {\n",
       "        vertical-align: middle;\n",
       "    }\n",
       "\n",
       "    .dataframe tbody tr th {\n",
       "        vertical-align: top;\n",
       "    }\n",
       "\n",
       "    .dataframe thead th {\n",
       "        text-align: right;\n",
       "    }\n",
       "</style>\n",
       "<table border=\"1\" class=\"dataframe\">\n",
       "  <thead>\n",
       "    <tr style=\"text-align: right;\">\n",
       "      <th></th>\n",
       "      <th>y</th>\n",
       "      <th>x</th>\n",
       "      <th>relevance</th>\n",
       "      <th>label</th>\n",
       "    </tr>\n",
       "    <tr>\n",
       "      <th>Image</th>\n",
       "      <th></th>\n",
       "      <th></th>\n",
       "      <th></th>\n",
       "      <th></th>\n",
       "    </tr>\n",
       "  </thead>\n",
       "  <tbody>\n",
       "    <tr>\n",
       "      <th>2024ready2</th>\n",
       "      <td>-0.012299</td>\n",
       "      <td>-0.002694</td>\n",
       "      <td>0.093879</td>\n",
       "      <td>ready</td>\n",
       "    </tr>\n",
       "    <tr>\n",
       "      <th>2028ready4</th>\n",
       "      <td>-0.008407</td>\n",
       "      <td>0.003378</td>\n",
       "      <td>0.097423</td>\n",
       "      <td>ready</td>\n",
       "    </tr>\n",
       "    <tr>\n",
       "      <th>2029ready20</th>\n",
       "      <td>-0.010099</td>\n",
       "      <td>-0.002367</td>\n",
       "      <td>0.095648</td>\n",
       "      <td>ready</td>\n",
       "    </tr>\n",
       "    <tr>\n",
       "      <th>2031ready1</th>\n",
       "      <td>-0.006136</td>\n",
       "      <td>-0.001401</td>\n",
       "      <td>0.099588</td>\n",
       "      <td>ready</td>\n",
       "    </tr>\n",
       "    <tr>\n",
       "      <th>2033ready9</th>\n",
       "      <td>-0.011014</td>\n",
       "      <td>-0.003094</td>\n",
       "      <td>0.094334</td>\n",
       "      <td>ready</td>\n",
       "    </tr>\n",
       "    <tr>\n",
       "      <th>2034ready5</th>\n",
       "      <td>-0.002789</td>\n",
       "      <td>0.002070</td>\n",
       "      <td>0.102677</td>\n",
       "      <td>ready</td>\n",
       "    </tr>\n",
       "    <tr>\n",
       "      <th>2036ready18</th>\n",
       "      <td>-0.002915</td>\n",
       "      <td>-0.000672</td>\n",
       "      <td>0.103001</td>\n",
       "      <td>ready</td>\n",
       "    </tr>\n",
       "    <tr>\n",
       "      <th>2038ready15</th>\n",
       "      <td>-0.001763</td>\n",
       "      <td>-0.002733</td>\n",
       "      <td>0.104336</td>\n",
       "      <td>ready</td>\n",
       "    </tr>\n",
       "    <tr>\n",
       "      <th>2038ready3</th>\n",
       "      <td>-0.006463</td>\n",
       "      <td>0.002233</td>\n",
       "      <td>0.099351</td>\n",
       "      <td>ready</td>\n",
       "    </tr>\n",
       "    <tr>\n",
       "      <th>2039ready12</th>\n",
       "      <td>-0.002318</td>\n",
       "      <td>-0.001532</td>\n",
       "      <td>0.103438</td>\n",
       "      <td>ready</td>\n",
       "    </tr>\n",
       "    <tr>\n",
       "      <th>2039ready13</th>\n",
       "      <td>-0.008899</td>\n",
       "      <td>0.001969</td>\n",
       "      <td>0.097121</td>\n",
       "      <td>ready</td>\n",
       "    </tr>\n",
       "    <tr>\n",
       "      <th>2043ready9</th>\n",
       "      <td>-0.001093</td>\n",
       "      <td>-0.000743</td>\n",
       "      <td>0.104682</td>\n",
       "      <td>ready</td>\n",
       "    </tr>\n",
       "    <tr>\n",
       "      <th>2044ready5</th>\n",
       "      <td>-0.012238</td>\n",
       "      <td>0.006495</td>\n",
       "      <td>0.091672</td>\n",
       "      <td>ready</td>\n",
       "    </tr>\n",
       "    <tr>\n",
       "      <th>2049ready16</th>\n",
       "      <td>-0.013549</td>\n",
       "      <td>0.003220</td>\n",
       "      <td>0.092022</td>\n",
       "      <td>ready</td>\n",
       "    </tr>\n",
       "    <tr>\n",
       "      <th>2051ready7</th>\n",
       "      <td>-0.008237</td>\n",
       "      <td>0.000835</td>\n",
       "      <td>0.097692</td>\n",
       "      <td>ready</td>\n",
       "    </tr>\n",
       "    <tr>\n",
       "      <th>2058ready4</th>\n",
       "      <td>-0.009643</td>\n",
       "      <td>-0.001635</td>\n",
       "      <td>0.096330</td>\n",
       "      <td>ready</td>\n",
       "    </tr>\n",
       "    <tr>\n",
       "      <th>2059ready18</th>\n",
       "      <td>-0.003236</td>\n",
       "      <td>0.001852</td>\n",
       "      <td>0.102695</td>\n",
       "      <td>ready</td>\n",
       "    </tr>\n",
       "    <tr>\n",
       "      <th>2063ready6</th>\n",
       "      <td>-0.007740</td>\n",
       "      <td>0.001303</td>\n",
       "      <td>0.098132</td>\n",
       "      <td>ready</td>\n",
       "    </tr>\n",
       "    <tr>\n",
       "      <th>2066ready3</th>\n",
       "      <td>-0.011398</td>\n",
       "      <td>-0.000568</td>\n",
       "      <td>0.094455</td>\n",
       "      <td>ready</td>\n",
       "    </tr>\n",
       "    <tr>\n",
       "      <th>2071ready8</th>\n",
       "      <td>-0.012844</td>\n",
       "      <td>0.000200</td>\n",
       "      <td>0.093165</td>\n",
       "      <td>ready</td>\n",
       "    </tr>\n",
       "    <tr>\n",
       "      <th>2073late3</th>\n",
       "      <td>0.004103</td>\n",
       "      <td>-0.003983</td>\n",
       "      <td>0.109746</td>\n",
       "      <td>late</td>\n",
       "    </tr>\n",
       "    <tr>\n",
       "      <th>2075late8</th>\n",
       "      <td>0.004780</td>\n",
       "      <td>0.003275</td>\n",
       "      <td>0.110465</td>\n",
       "      <td>late</td>\n",
       "    </tr>\n",
       "    <tr>\n",
       "      <th>2076late5</th>\n",
       "      <td>0.005255</td>\n",
       "      <td>0.003618</td>\n",
       "      <td>0.110860</td>\n",
       "      <td>late</td>\n",
       "    </tr>\n",
       "    <tr>\n",
       "      <th>2076late6</th>\n",
       "      <td>0.002280</td>\n",
       "      <td>-0.001133</td>\n",
       "      <td>0.107896</td>\n",
       "      <td>late</td>\n",
       "    </tr>\n",
       "    <tr>\n",
       "      <th>2077late15</th>\n",
       "      <td>-0.000130</td>\n",
       "      <td>-0.002636</td>\n",
       "      <td>0.105184</td>\n",
       "      <td>late</td>\n",
       "    </tr>\n",
       "    <tr>\n",
       "      <th>2083late16</th>\n",
       "      <td>-0.005914</td>\n",
       "      <td>0.001456</td>\n",
       "      <td>0.099792</td>\n",
       "      <td>late</td>\n",
       "    </tr>\n",
       "    <tr>\n",
       "      <th>2084late5</th>\n",
       "      <td>-0.001700</td>\n",
       "      <td>0.002562</td>\n",
       "      <td>0.103877</td>\n",
       "      <td>late</td>\n",
       "    </tr>\n",
       "    <tr>\n",
       "      <th>2086late12</th>\n",
       "      <td>-0.007464</td>\n",
       "      <td>-0.002601</td>\n",
       "      <td>0.097756</td>\n",
       "      <td>late</td>\n",
       "    </tr>\n",
       "    <tr>\n",
       "      <th>2086late13</th>\n",
       "      <td>0.002096</td>\n",
       "      <td>0.001658</td>\n",
       "      <td>0.107628</td>\n",
       "      <td>late</td>\n",
       "    </tr>\n",
       "    <tr>\n",
       "      <th>2089late6</th>\n",
       "      <td>0.001123</td>\n",
       "      <td>-0.000587</td>\n",
       "      <td>0.106313</td>\n",
       "      <td>late</td>\n",
       "    </tr>\n",
       "    <tr>\n",
       "      <th>2090late2</th>\n",
       "      <td>-0.006812</td>\n",
       "      <td>0.004518</td>\n",
       "      <td>0.098260</td>\n",
       "      <td>late</td>\n",
       "    </tr>\n",
       "    <tr>\n",
       "      <th>2091late18</th>\n",
       "      <td>0.002699</td>\n",
       "      <td>0.002357</td>\n",
       "      <td>0.107835</td>\n",
       "      <td>late</td>\n",
       "    </tr>\n",
       "    <tr>\n",
       "      <th>2093late11</th>\n",
       "      <td>0.003092</td>\n",
       "      <td>0.001618</td>\n",
       "      <td>0.108435</td>\n",
       "      <td>late</td>\n",
       "    </tr>\n",
       "    <tr>\n",
       "      <th>2095late7</th>\n",
       "      <td>0.003061</td>\n",
       "      <td>0.003377</td>\n",
       "      <td>0.108908</td>\n",
       "      <td>late</td>\n",
       "    </tr>\n",
       "    <tr>\n",
       "      <th>2096late9</th>\n",
       "      <td>-0.010361</td>\n",
       "      <td>-0.004575</td>\n",
       "      <td>0.095258</td>\n",
       "      <td>late</td>\n",
       "    </tr>\n",
       "    <tr>\n",
       "      <th>2098late18</th>\n",
       "      <td>-0.008912</td>\n",
       "      <td>-0.003383</td>\n",
       "      <td>0.096420</td>\n",
       "      <td>late</td>\n",
       "    </tr>\n",
       "    <tr>\n",
       "      <th>2098late4</th>\n",
       "      <td>-0.007855</td>\n",
       "      <td>0.002909</td>\n",
       "      <td>0.097826</td>\n",
       "      <td>late</td>\n",
       "    </tr>\n",
       "    <tr>\n",
       "      <th>2100late15</th>\n",
       "      <td>-0.002134</td>\n",
       "      <td>-0.000396</td>\n",
       "      <td>0.103770</td>\n",
       "      <td>late</td>\n",
       "    </tr>\n",
       "    <tr>\n",
       "      <th>2100late17</th>\n",
       "      <td>-0.008792</td>\n",
       "      <td>-0.001108</td>\n",
       "      <td>0.096946</td>\n",
       "      <td>late</td>\n",
       "    </tr>\n",
       "    <tr>\n",
       "      <th>2100late6</th>\n",
       "      <td>-0.000084</td>\n",
       "      <td>-0.000144</td>\n",
       "      <td>0.105423</td>\n",
       "      <td>late</td>\n",
       "    </tr>\n",
       "    <tr>\n",
       "      <th>2144disease1</th>\n",
       "      <td>0.000386</td>\n",
       "      <td>-0.005395</td>\n",
       "      <td>0.105236</td>\n",
       "      <td>disease</td>\n",
       "    </tr>\n",
       "    <tr>\n",
       "      <th>2144disease2</th>\n",
       "      <td>0.010024</td>\n",
       "      <td>-0.004708</td>\n",
       "      <td>0.115352</td>\n",
       "      <td>disease</td>\n",
       "    </tr>\n",
       "    <tr>\n",
       "      <th>2144disease3</th>\n",
       "      <td>0.006076</td>\n",
       "      <td>-0.003284</td>\n",
       "      <td>0.110936</td>\n",
       "      <td>disease</td>\n",
       "    </tr>\n",
       "    <tr>\n",
       "      <th>2144disease7</th>\n",
       "      <td>0.012925</td>\n",
       "      <td>0.008034</td>\n",
       "      <td>0.120662</td>\n",
       "      <td>disease</td>\n",
       "    </tr>\n",
       "    <tr>\n",
       "      <th>2145disease9</th>\n",
       "      <td>0.016407</td>\n",
       "      <td>-0.000488</td>\n",
       "      <td>0.121775</td>\n",
       "      <td>disease</td>\n",
       "    </tr>\n",
       "    <tr>\n",
       "      <th>2147disease10</th>\n",
       "      <td>0.010298</td>\n",
       "      <td>0.005774</td>\n",
       "      <td>0.116715</td>\n",
       "      <td>disease</td>\n",
       "    </tr>\n",
       "    <tr>\n",
       "      <th>2147disease11</th>\n",
       "      <td>0.001284</td>\n",
       "      <td>-0.004122</td>\n",
       "      <td>0.106105</td>\n",
       "      <td>disease</td>\n",
       "    </tr>\n",
       "    <tr>\n",
       "      <th>2147disease12</th>\n",
       "      <td>0.008634</td>\n",
       "      <td>0.000937</td>\n",
       "      <td>0.113101</td>\n",
       "      <td>disease</td>\n",
       "    </tr>\n",
       "    <tr>\n",
       "      <th>2147disease13</th>\n",
       "      <td>0.011321</td>\n",
       "      <td>0.001634</td>\n",
       "      <td>0.115998</td>\n",
       "      <td>disease</td>\n",
       "    </tr>\n",
       "    <tr>\n",
       "      <th>2147disease14</th>\n",
       "      <td>0.008569</td>\n",
       "      <td>0.002426</td>\n",
       "      <td>0.113514</td>\n",
       "      <td>disease</td>\n",
       "    </tr>\n",
       "    <tr>\n",
       "      <th>2147disease15</th>\n",
       "      <td>0.008766</td>\n",
       "      <td>-0.002284</td>\n",
       "      <td>0.113467</td>\n",
       "      <td>disease</td>\n",
       "    </tr>\n",
       "    <tr>\n",
       "      <th>2147disease2</th>\n",
       "      <td>0.005350</td>\n",
       "      <td>-0.002152</td>\n",
       "      <td>0.110160</td>\n",
       "      <td>disease</td>\n",
       "    </tr>\n",
       "    <tr>\n",
       "      <th>2147disease4</th>\n",
       "      <td>0.011014</td>\n",
       "      <td>-0.003165</td>\n",
       "      <td>0.116251</td>\n",
       "      <td>disease</td>\n",
       "    </tr>\n",
       "    <tr>\n",
       "      <th>2147disease5</th>\n",
       "      <td>0.006888</td>\n",
       "      <td>-0.000126</td>\n",
       "      <td>0.111287</td>\n",
       "      <td>disease</td>\n",
       "    </tr>\n",
       "    <tr>\n",
       "      <th>2147disease6</th>\n",
       "      <td>0.009296</td>\n",
       "      <td>-0.005304</td>\n",
       "      <td>0.115400</td>\n",
       "      <td>disease</td>\n",
       "    </tr>\n",
       "    <tr>\n",
       "      <th>2147disease7</th>\n",
       "      <td>0.019187</td>\n",
       "      <td>-0.000236</td>\n",
       "      <td>0.124260</td>\n",
       "      <td>disease</td>\n",
       "    </tr>\n",
       "    <tr>\n",
       "      <th>2148disease11</th>\n",
       "      <td>0.005808</td>\n",
       "      <td>0.000952</td>\n",
       "      <td>0.110513</td>\n",
       "      <td>disease</td>\n",
       "    </tr>\n",
       "    <tr>\n",
       "      <th>2148disease12</th>\n",
       "      <td>0.010537</td>\n",
       "      <td>0.003452</td>\n",
       "      <td>0.115539</td>\n",
       "      <td>disease</td>\n",
       "    </tr>\n",
       "    <tr>\n",
       "      <th>2148disease13</th>\n",
       "      <td>0.009216</td>\n",
       "      <td>-0.003726</td>\n",
       "      <td>0.114914</td>\n",
       "      <td>disease</td>\n",
       "    </tr>\n",
       "    <tr>\n",
       "      <th>2148disease17</th>\n",
       "      <td>0.012764</td>\n",
       "      <td>-0.001137</td>\n",
       "      <td>0.117053</td>\n",
       "      <td>disease</td>\n",
       "    </tr>\n",
       "  </tbody>\n",
       "</table>\n",
       "</div>"
      ],
      "text/plain": [
       "                      y         x  relevance    label\n",
       "Image                                                \n",
       "2024ready2    -0.012299 -0.002694   0.093879    ready\n",
       "2028ready4    -0.008407  0.003378   0.097423    ready\n",
       "2029ready20   -0.010099 -0.002367   0.095648    ready\n",
       "2031ready1    -0.006136 -0.001401   0.099588    ready\n",
       "2033ready9    -0.011014 -0.003094   0.094334    ready\n",
       "2034ready5    -0.002789  0.002070   0.102677    ready\n",
       "2036ready18   -0.002915 -0.000672   0.103001    ready\n",
       "2038ready15   -0.001763 -0.002733   0.104336    ready\n",
       "2038ready3    -0.006463  0.002233   0.099351    ready\n",
       "2039ready12   -0.002318 -0.001532   0.103438    ready\n",
       "2039ready13   -0.008899  0.001969   0.097121    ready\n",
       "2043ready9    -0.001093 -0.000743   0.104682    ready\n",
       "2044ready5    -0.012238  0.006495   0.091672    ready\n",
       "2049ready16   -0.013549  0.003220   0.092022    ready\n",
       "2051ready7    -0.008237  0.000835   0.097692    ready\n",
       "2058ready4    -0.009643 -0.001635   0.096330    ready\n",
       "2059ready18   -0.003236  0.001852   0.102695    ready\n",
       "2063ready6    -0.007740  0.001303   0.098132    ready\n",
       "2066ready3    -0.011398 -0.000568   0.094455    ready\n",
       "2071ready8    -0.012844  0.000200   0.093165    ready\n",
       "2073late3      0.004103 -0.003983   0.109746     late\n",
       "2075late8      0.004780  0.003275   0.110465     late\n",
       "2076late5      0.005255  0.003618   0.110860     late\n",
       "2076late6      0.002280 -0.001133   0.107896     late\n",
       "2077late15    -0.000130 -0.002636   0.105184     late\n",
       "2083late16    -0.005914  0.001456   0.099792     late\n",
       "2084late5     -0.001700  0.002562   0.103877     late\n",
       "2086late12    -0.007464 -0.002601   0.097756     late\n",
       "2086late13     0.002096  0.001658   0.107628     late\n",
       "2089late6      0.001123 -0.000587   0.106313     late\n",
       "2090late2     -0.006812  0.004518   0.098260     late\n",
       "2091late18     0.002699  0.002357   0.107835     late\n",
       "2093late11     0.003092  0.001618   0.108435     late\n",
       "2095late7      0.003061  0.003377   0.108908     late\n",
       "2096late9     -0.010361 -0.004575   0.095258     late\n",
       "2098late18    -0.008912 -0.003383   0.096420     late\n",
       "2098late4     -0.007855  0.002909   0.097826     late\n",
       "2100late15    -0.002134 -0.000396   0.103770     late\n",
       "2100late17    -0.008792 -0.001108   0.096946     late\n",
       "2100late6     -0.000084 -0.000144   0.105423     late\n",
       "2144disease1   0.000386 -0.005395   0.105236  disease\n",
       "2144disease2   0.010024 -0.004708   0.115352  disease\n",
       "2144disease3   0.006076 -0.003284   0.110936  disease\n",
       "2144disease7   0.012925  0.008034   0.120662  disease\n",
       "2145disease9   0.016407 -0.000488   0.121775  disease\n",
       "2147disease10  0.010298  0.005774   0.116715  disease\n",
       "2147disease11  0.001284 -0.004122   0.106105  disease\n",
       "2147disease12  0.008634  0.000937   0.113101  disease\n",
       "2147disease13  0.011321  0.001634   0.115998  disease\n",
       "2147disease14  0.008569  0.002426   0.113514  disease\n",
       "2147disease15  0.008766 -0.002284   0.113467  disease\n",
       "2147disease2   0.005350 -0.002152   0.110160  disease\n",
       "2147disease4   0.011014 -0.003165   0.116251  disease\n",
       "2147disease5   0.006888 -0.000126   0.111287  disease\n",
       "2147disease6   0.009296 -0.005304   0.115400  disease\n",
       "2147disease7   0.019187 -0.000236   0.124260  disease\n",
       "2148disease11  0.005808  0.000952   0.110513  disease\n",
       "2148disease12  0.010537  0.003452   0.115539  disease\n",
       "2148disease13  0.009216 -0.003726   0.114914  disease\n",
       "2148disease17  0.012764 -0.001137   0.117053  disease"
      ]
     },
     "execution_count": 26,
     "metadata": {},
     "output_type": "execute_result"
    }
   ],
   "source": [
    "df_2D"
   ]
  },
  {
   "cell_type": "code",
   "execution_count": null,
   "metadata": {},
   "outputs": [],
   "source": []
  }
 ],
 "metadata": {
  "kernelspec": {
   "display_name": "Python 3",
   "language": "python",
   "name": "python3"
  },
  "language_info": {
   "codemirror_mode": {
    "name": "ipython",
    "version": 3
   },
   "file_extension": ".py",
   "mimetype": "text/x-python",
   "name": "python",
   "nbconvert_exporter": "python",
   "pygments_lexer": "ipython3",
   "version": "3.7.9"
  }
 },
 "nbformat": 4,
 "nbformat_minor": 1
}
