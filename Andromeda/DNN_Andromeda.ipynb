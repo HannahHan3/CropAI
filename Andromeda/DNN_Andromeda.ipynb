{
 "cells": [
  {
   "cell_type": "markdown",
   "metadata": {},
   "source": [
    "# Andromeda in Jupyter\n",
    "\n",
    "### Interactive Inverse Dimension Reduction \n",
    "\n",
    "This notebook implements interactive dimension reduction (DR) for exploratory analysis of high-dimensional data.\n",
    "It uses a Multi-Dimensional Scaling (MDS) algorithm with a weighted distance metric. It enables both forward and inverse DR interaction. \n",
    "\n",
    "**MDS** projects high-dimensional data to a 2D scatterplot. A **weighted distance function** with user-specified weights on each dimension enables alternative projections that emphasize different dimensions. An **Inverse-DR** algorithm learns distance function weights for  user-constructed layouts of the data points.\n",
    "\n",
    "### Instructions:\n",
    "\n",
    "1. Run All\n",
    "1. Proceed to the interactive plots near the bottom\n",
    "1. There are three kinds of interactions:\n",
    "    1. Select points in the DR plot and click Details to see data values.\n",
    "    1. **Parametric interaction:** Adjust the weight sliders and click Apply to alter the projection plot.\n",
    "    1. **Projection interaction:** Drag points in the projection plot, then click Learn to see learned weights, and click Copy to see the updated projection plot.\n",
    "1. Be patient, its interactive matplotlib in python and Jupyter!\n",
    "\n",
    "### Credits:\n",
    "\n",
    "Authors: Han Liu and Chris North, Dept of Computer Science, Virginia Tech.\n",
    "\n",
    "Based on: *Self JZ, Dowling M, Wenskovitch J, Crandell I, Wang M, House L, Leman S, North C. Observation-Level and Parametric Interaction for High-Dimensional Data Analysis. ACM Transactions on Interactive Intelligent Systems.  8(2), 2018.* https://infovis.cs.vt.edu/sites/default/files/observation-level-parametric_first_look_version.pdf\n"
   ]
  },
  {
   "cell_type": "code",
   "execution_count": 1,
   "metadata": {},
   "outputs": [],
   "source": [
    "%matplotlib notebook\n",
    "# interactive notebook format is required for the interactive plot\n",
    "\n",
    "import numpy as np\n",
    "import pandas as pd\n",
    "import math\n",
    "import random\n",
    "\n",
    "from sklearn.decomposition import PCA\n",
    "from sklearn.manifold import MDS\n",
    "import sklearn.metrics.pairwise\n",
    "\n",
    "import matplotlib\n",
    "import matplotlib.pyplot as plt\n",
    "import ipywidgets as widgets\n",
    "from IPython.display import display"
   ]
  },
  {
   "cell_type": "markdown",
   "metadata": {},
   "source": [
    "# Load and Pre-process Data\n",
    "\n",
    "Change the **filename** to load a dataset.  CSV data file is expected to have a first column 'Name' that is used as the index, and header row of column names.  Numeric columns are used for projection."
   ]
  },
  {
   "cell_type": "code",
   "execution_count": 2,
   "metadata": {},
   "outputs": [
    {
     "name": "stdout",
     "output_type": "stream",
     "text": [
      "ColorHist_Andromeda.ipynb     DNN_Andromeda.ipynb\r\n",
      "DNN_Andromeda-disease.ipynb   OppSift_Andromeda.ipynb\r\n",
      "DNN_Andromeda-lateReady.ipynb Sift_Andromeda.ipynb\r\n"
     ]
    }
   ],
   "source": [
    "! ls "
   ]
  },
  {
   "cell_type": "code",
   "execution_count": 3,
   "metadata": {},
   "outputs": [],
   "source": [
    "# filename = 'Animal_Data_Andromeda.csv'\n",
    "#filename = 'InfoVis_Fall_2015_Survey.csv'\n",
    "filename = '../csvFiles/DNNFeatures.csv'\n",
    "df = pd.read_csv(filename)\n",
    "\n",
    "# df['Image'] = df['Image'].apply(lambda x: x.split('_')[2]+ x.split('_')[-2]+x.split('_')[-1])"
   ]
  },
  {
   "cell_type": "code",
   "execution_count": 4,
   "metadata": {},
   "outputs": [
    {
     "data": {
      "text/plain": [
       "(67, 513)"
      ]
     },
     "metadata": {},
     "output_type": "display_data"
    },
    {
     "data": {
      "text/html": [
       "<div>\n",
       "<style scoped>\n",
       "    .dataframe tbody tr th:only-of-type {\n",
       "        vertical-align: middle;\n",
       "    }\n",
       "\n",
       "    .dataframe tbody tr th {\n",
       "        vertical-align: top;\n",
       "    }\n",
       "\n",
       "    .dataframe thead th {\n",
       "        text-align: right;\n",
       "    }\n",
       "</style>\n",
       "<table border=\"1\" class=\"dataframe\">\n",
       "  <thead>\n",
       "    <tr style=\"text-align: right;\">\n",
       "      <th></th>\n",
       "      <th>Image</th>\n",
       "      <th>1</th>\n",
       "      <th>2</th>\n",
       "      <th>3</th>\n",
       "      <th>4</th>\n",
       "      <th>5</th>\n",
       "      <th>6</th>\n",
       "      <th>7</th>\n",
       "      <th>8</th>\n",
       "      <th>9</th>\n",
       "      <th>...</th>\n",
       "      <th>503</th>\n",
       "      <th>504</th>\n",
       "      <th>505</th>\n",
       "      <th>506</th>\n",
       "      <th>507</th>\n",
       "      <th>508</th>\n",
       "      <th>509</th>\n",
       "      <th>510</th>\n",
       "      <th>511</th>\n",
       "      <th>512</th>\n",
       "    </tr>\n",
       "  </thead>\n",
       "  <tbody>\n",
       "    <tr>\n",
       "      <th>0</th>\n",
       "      <td>1802late79</td>\n",
       "      <td>0.721260</td>\n",
       "      <td>0.781018</td>\n",
       "      <td>0.858141</td>\n",
       "      <td>0.936066</td>\n",
       "      <td>0.717323</td>\n",
       "      <td>0.788855</td>\n",
       "      <td>0.851019</td>\n",
       "      <td>1.059480</td>\n",
       "      <td>0.852923</td>\n",
       "      <td>...</td>\n",
       "      <td>0.846781</td>\n",
       "      <td>0.830862</td>\n",
       "      <td>0.791039</td>\n",
       "      <td>0.812908</td>\n",
       "      <td>0.978469</td>\n",
       "      <td>0.873171</td>\n",
       "      <td>0.844469</td>\n",
       "      <td>0.815868</td>\n",
       "      <td>1.037395</td>\n",
       "      <td>0.845709</td>\n",
       "    </tr>\n",
       "    <tr>\n",
       "      <th>1</th>\n",
       "      <td>1802late92</td>\n",
       "      <td>0.801697</td>\n",
       "      <td>0.847757</td>\n",
       "      <td>0.851429</td>\n",
       "      <td>0.931481</td>\n",
       "      <td>0.778303</td>\n",
       "      <td>0.694437</td>\n",
       "      <td>0.825086</td>\n",
       "      <td>1.076441</td>\n",
       "      <td>0.851339</td>\n",
       "      <td>...</td>\n",
       "      <td>0.848833</td>\n",
       "      <td>0.862990</td>\n",
       "      <td>0.791256</td>\n",
       "      <td>0.857259</td>\n",
       "      <td>0.968042</td>\n",
       "      <td>0.933867</td>\n",
       "      <td>0.814267</td>\n",
       "      <td>0.812392</td>\n",
       "      <td>0.965288</td>\n",
       "      <td>0.805612</td>\n",
       "    </tr>\n",
       "    <tr>\n",
       "      <th>2</th>\n",
       "      <td>1802late86</td>\n",
       "      <td>0.769549</td>\n",
       "      <td>0.817992</td>\n",
       "      <td>0.870593</td>\n",
       "      <td>0.920729</td>\n",
       "      <td>0.785484</td>\n",
       "      <td>0.794782</td>\n",
       "      <td>0.797652</td>\n",
       "      <td>1.068676</td>\n",
       "      <td>0.803166</td>\n",
       "      <td>...</td>\n",
       "      <td>0.867259</td>\n",
       "      <td>0.856055</td>\n",
       "      <td>0.783028</td>\n",
       "      <td>0.826380</td>\n",
       "      <td>0.918823</td>\n",
       "      <td>0.927836</td>\n",
       "      <td>0.773936</td>\n",
       "      <td>0.758465</td>\n",
       "      <td>0.961327</td>\n",
       "      <td>0.841125</td>\n",
       "    </tr>\n",
       "    <tr>\n",
       "      <th>3</th>\n",
       "      <td>1802late87</td>\n",
       "      <td>0.836526</td>\n",
       "      <td>0.903847</td>\n",
       "      <td>0.877278</td>\n",
       "      <td>0.914625</td>\n",
       "      <td>0.761409</td>\n",
       "      <td>0.756433</td>\n",
       "      <td>0.798012</td>\n",
       "      <td>1.011864</td>\n",
       "      <td>0.791704</td>\n",
       "      <td>...</td>\n",
       "      <td>0.827440</td>\n",
       "      <td>0.878320</td>\n",
       "      <td>0.805233</td>\n",
       "      <td>0.854593</td>\n",
       "      <td>0.989676</td>\n",
       "      <td>0.926627</td>\n",
       "      <td>0.813297</td>\n",
       "      <td>0.799398</td>\n",
       "      <td>0.964873</td>\n",
       "      <td>0.788258</td>\n",
       "    </tr>\n",
       "    <tr>\n",
       "      <th>4</th>\n",
       "      <td>1802late93</td>\n",
       "      <td>0.807418</td>\n",
       "      <td>0.788803</td>\n",
       "      <td>0.846739</td>\n",
       "      <td>0.940578</td>\n",
       "      <td>0.762251</td>\n",
       "      <td>0.776574</td>\n",
       "      <td>0.823145</td>\n",
       "      <td>1.006979</td>\n",
       "      <td>0.836723</td>\n",
       "      <td>...</td>\n",
       "      <td>0.855729</td>\n",
       "      <td>0.858445</td>\n",
       "      <td>0.832115</td>\n",
       "      <td>0.841923</td>\n",
       "      <td>0.980860</td>\n",
       "      <td>0.876030</td>\n",
       "      <td>0.819843</td>\n",
       "      <td>0.828327</td>\n",
       "      <td>1.008247</td>\n",
       "      <td>0.842335</td>\n",
       "    </tr>\n",
       "  </tbody>\n",
       "</table>\n",
       "<p>5 rows × 513 columns</p>\n",
       "</div>"
      ],
      "text/plain": [
       "        Image         1         2         3         4         5         6  \\\n",
       "0  1802late79  0.721260  0.781018  0.858141  0.936066  0.717323  0.788855   \n",
       "1  1802late92  0.801697  0.847757  0.851429  0.931481  0.778303  0.694437   \n",
       "2  1802late86  0.769549  0.817992  0.870593  0.920729  0.785484  0.794782   \n",
       "3  1802late87  0.836526  0.903847  0.877278  0.914625  0.761409  0.756433   \n",
       "4  1802late93  0.807418  0.788803  0.846739  0.940578  0.762251  0.776574   \n",
       "\n",
       "          7         8         9  ...       503       504       505       506  \\\n",
       "0  0.851019  1.059480  0.852923  ...  0.846781  0.830862  0.791039  0.812908   \n",
       "1  0.825086  1.076441  0.851339  ...  0.848833  0.862990  0.791256  0.857259   \n",
       "2  0.797652  1.068676  0.803166  ...  0.867259  0.856055  0.783028  0.826380   \n",
       "3  0.798012  1.011864  0.791704  ...  0.827440  0.878320  0.805233  0.854593   \n",
       "4  0.823145  1.006979  0.836723  ...  0.855729  0.858445  0.832115  0.841923   \n",
       "\n",
       "        507       508       509       510       511       512  \n",
       "0  0.978469  0.873171  0.844469  0.815868  1.037395  0.845709  \n",
       "1  0.968042  0.933867  0.814267  0.812392  0.965288  0.805612  \n",
       "2  0.918823  0.927836  0.773936  0.758465  0.961327  0.841125  \n",
       "3  0.989676  0.926627  0.813297  0.799398  0.964873  0.788258  \n",
       "4  0.980860  0.876030  0.819843  0.828327  1.008247  0.842335  \n",
       "\n",
       "[5 rows x 513 columns]"
      ]
     },
     "execution_count": 4,
     "metadata": {},
     "output_type": "execute_result"
    }
   ],
   "source": [
    "display(df.shape)\n",
    "df.head(5)"
   ]
  },
  {
   "cell_type": "code",
   "execution_count": 5,
   "metadata": {},
   "outputs": [
    {
     "name": "stdout",
     "output_type": "stream",
     "text": [
      "Data size (r,c) = (67, 512)\n"
     ]
    },
    {
     "data": {
      "text/html": [
       "<div>\n",
       "<style scoped>\n",
       "    .dataframe tbody tr th:only-of-type {\n",
       "        vertical-align: middle;\n",
       "    }\n",
       "\n",
       "    .dataframe tbody tr th {\n",
       "        vertical-align: top;\n",
       "    }\n",
       "\n",
       "    .dataframe thead th {\n",
       "        text-align: right;\n",
       "    }\n",
       "</style>\n",
       "<table border=\"1\" class=\"dataframe\">\n",
       "  <thead>\n",
       "    <tr style=\"text-align: right;\">\n",
       "      <th></th>\n",
       "      <th>1</th>\n",
       "      <th>2</th>\n",
       "      <th>3</th>\n",
       "      <th>4</th>\n",
       "      <th>5</th>\n",
       "      <th>6</th>\n",
       "      <th>7</th>\n",
       "      <th>8</th>\n",
       "      <th>9</th>\n",
       "      <th>10</th>\n",
       "      <th>...</th>\n",
       "      <th>503</th>\n",
       "      <th>504</th>\n",
       "      <th>505</th>\n",
       "      <th>506</th>\n",
       "      <th>507</th>\n",
       "      <th>508</th>\n",
       "      <th>509</th>\n",
       "      <th>510</th>\n",
       "      <th>511</th>\n",
       "      <th>512</th>\n",
       "    </tr>\n",
       "    <tr>\n",
       "      <th>Image</th>\n",
       "      <th></th>\n",
       "      <th></th>\n",
       "      <th></th>\n",
       "      <th></th>\n",
       "      <th></th>\n",
       "      <th></th>\n",
       "      <th></th>\n",
       "      <th></th>\n",
       "      <th></th>\n",
       "      <th></th>\n",
       "      <th></th>\n",
       "      <th></th>\n",
       "      <th></th>\n",
       "      <th></th>\n",
       "      <th></th>\n",
       "      <th></th>\n",
       "      <th></th>\n",
       "      <th></th>\n",
       "      <th></th>\n",
       "      <th></th>\n",
       "      <th></th>\n",
       "    </tr>\n",
       "  </thead>\n",
       "  <tbody>\n",
       "    <tr>\n",
       "      <th>1793ready73</th>\n",
       "      <td>0.746529</td>\n",
       "      <td>0.836438</td>\n",
       "      <td>0.835817</td>\n",
       "      <td>0.948848</td>\n",
       "      <td>0.746172</td>\n",
       "      <td>0.796425</td>\n",
       "      <td>0.864469</td>\n",
       "      <td>1.136480</td>\n",
       "      <td>0.867228</td>\n",
       "      <td>0.793067</td>\n",
       "      <td>...</td>\n",
       "      <td>0.877673</td>\n",
       "      <td>0.845752</td>\n",
       "      <td>0.866297</td>\n",
       "      <td>0.852661</td>\n",
       "      <td>0.993039</td>\n",
       "      <td>0.925584</td>\n",
       "      <td>0.844590</td>\n",
       "      <td>0.784956</td>\n",
       "      <td>1.063715</td>\n",
       "      <td>0.867030</td>\n",
       "    </tr>\n",
       "    <tr>\n",
       "      <th>1793ready74</th>\n",
       "      <td>0.754769</td>\n",
       "      <td>0.808112</td>\n",
       "      <td>0.824338</td>\n",
       "      <td>0.909775</td>\n",
       "      <td>0.776860</td>\n",
       "      <td>0.785939</td>\n",
       "      <td>0.841241</td>\n",
       "      <td>1.060519</td>\n",
       "      <td>0.873092</td>\n",
       "      <td>0.813263</td>\n",
       "      <td>...</td>\n",
       "      <td>0.815574</td>\n",
       "      <td>0.855200</td>\n",
       "      <td>0.836623</td>\n",
       "      <td>0.774378</td>\n",
       "      <td>0.995911</td>\n",
       "      <td>0.963763</td>\n",
       "      <td>0.846201</td>\n",
       "      <td>0.815738</td>\n",
       "      <td>0.940511</td>\n",
       "      <td>0.827214</td>\n",
       "    </tr>\n",
       "    <tr>\n",
       "      <th>1793ready75</th>\n",
       "      <td>0.753013</td>\n",
       "      <td>0.876942</td>\n",
       "      <td>0.807644</td>\n",
       "      <td>0.929438</td>\n",
       "      <td>0.784085</td>\n",
       "      <td>0.765594</td>\n",
       "      <td>0.825645</td>\n",
       "      <td>1.076348</td>\n",
       "      <td>0.812127</td>\n",
       "      <td>0.853718</td>\n",
       "      <td>...</td>\n",
       "      <td>0.844510</td>\n",
       "      <td>0.880753</td>\n",
       "      <td>0.761073</td>\n",
       "      <td>0.813867</td>\n",
       "      <td>0.960704</td>\n",
       "      <td>0.943535</td>\n",
       "      <td>0.855517</td>\n",
       "      <td>0.833442</td>\n",
       "      <td>0.987932</td>\n",
       "      <td>0.844657</td>\n",
       "    </tr>\n",
       "    <tr>\n",
       "      <th>1793ready76</th>\n",
       "      <td>0.773492</td>\n",
       "      <td>0.758180</td>\n",
       "      <td>0.839604</td>\n",
       "      <td>0.916779</td>\n",
       "      <td>0.761624</td>\n",
       "      <td>0.797157</td>\n",
       "      <td>0.834117</td>\n",
       "      <td>1.103337</td>\n",
       "      <td>0.889199</td>\n",
       "      <td>0.832618</td>\n",
       "      <td>...</td>\n",
       "      <td>0.818566</td>\n",
       "      <td>0.840185</td>\n",
       "      <td>0.849975</td>\n",
       "      <td>0.805122</td>\n",
       "      <td>0.944763</td>\n",
       "      <td>0.964412</td>\n",
       "      <td>0.834321</td>\n",
       "      <td>0.811257</td>\n",
       "      <td>0.956952</td>\n",
       "      <td>0.798404</td>\n",
       "    </tr>\n",
       "    <tr>\n",
       "      <th>1793ready77</th>\n",
       "      <td>0.787104</td>\n",
       "      <td>0.846634</td>\n",
       "      <td>0.865023</td>\n",
       "      <td>0.928497</td>\n",
       "      <td>0.747622</td>\n",
       "      <td>0.758434</td>\n",
       "      <td>0.796196</td>\n",
       "      <td>1.101130</td>\n",
       "      <td>0.848414</td>\n",
       "      <td>0.855262</td>\n",
       "      <td>...</td>\n",
       "      <td>0.830303</td>\n",
       "      <td>0.867164</td>\n",
       "      <td>0.790808</td>\n",
       "      <td>0.842138</td>\n",
       "      <td>0.984745</td>\n",
       "      <td>0.936903</td>\n",
       "      <td>0.863464</td>\n",
       "      <td>0.768436</td>\n",
       "      <td>0.996662</td>\n",
       "      <td>0.813412</td>\n",
       "    </tr>\n",
       "  </tbody>\n",
       "</table>\n",
       "<p>5 rows × 512 columns</p>\n",
       "</div>"
      ],
      "text/plain": [
       "                    1         2         3         4         5         6  \\\n",
       "Image                                                                     \n",
       "1793ready73  0.746529  0.836438  0.835817  0.948848  0.746172  0.796425   \n",
       "1793ready74  0.754769  0.808112  0.824338  0.909775  0.776860  0.785939   \n",
       "1793ready75  0.753013  0.876942  0.807644  0.929438  0.784085  0.765594   \n",
       "1793ready76  0.773492  0.758180  0.839604  0.916779  0.761624  0.797157   \n",
       "1793ready77  0.787104  0.846634  0.865023  0.928497  0.747622  0.758434   \n",
       "\n",
       "                    7         8         9        10  ...       503       504  \\\n",
       "Image                                                ...                       \n",
       "1793ready73  0.864469  1.136480  0.867228  0.793067  ...  0.877673  0.845752   \n",
       "1793ready74  0.841241  1.060519  0.873092  0.813263  ...  0.815574  0.855200   \n",
       "1793ready75  0.825645  1.076348  0.812127  0.853718  ...  0.844510  0.880753   \n",
       "1793ready76  0.834117  1.103337  0.889199  0.832618  ...  0.818566  0.840185   \n",
       "1793ready77  0.796196  1.101130  0.848414  0.855262  ...  0.830303  0.867164   \n",
       "\n",
       "                  505       506       507       508       509       510  \\\n",
       "Image                                                                     \n",
       "1793ready73  0.866297  0.852661  0.993039  0.925584  0.844590  0.784956   \n",
       "1793ready74  0.836623  0.774378  0.995911  0.963763  0.846201  0.815738   \n",
       "1793ready75  0.761073  0.813867  0.960704  0.943535  0.855517  0.833442   \n",
       "1793ready76  0.849975  0.805122  0.944763  0.964412  0.834321  0.811257   \n",
       "1793ready77  0.790808  0.842138  0.984745  0.936903  0.863464  0.768436   \n",
       "\n",
       "                  511       512  \n",
       "Image                            \n",
       "1793ready73  1.063715  0.867030  \n",
       "1793ready74  0.940511  0.827214  \n",
       "1793ready75  0.987932  0.844657  \n",
       "1793ready76  0.956952  0.798404  \n",
       "1793ready77  0.996662  0.813412  \n",
       "\n",
       "[5 rows x 512 columns]"
      ]
     },
     "execution_count": 5,
     "metadata": {},
     "output_type": "execute_result"
    }
   ],
   "source": [
    "# Use 'Name' column as index\n",
    "#df.rename(columns={df.columns[0]:'Name'}, inplace=True)\n",
    "df.set_index('Image', inplace=True)\n",
    "\n",
    "# Sort rows and columns\n",
    "# df.sort_index(axis=1, inplace=True)\n",
    "df.sort_index(inplace=True)\n",
    "\n",
    "df_numeric = df.select_dtypes(include='number')  #'int32' or 'int64' or 'float32' or 'float64'\n",
    "df_category = df.select_dtypes(exclude='number') #'object'\n",
    "\n",
    "# Z-score normalization\n",
    "# normalized_df = (df_numeric - df_numeric.mean()) / df_numeric.std()\n",
    "normalized_df = df_numeric  # do not normalize animal dataset, all columns are 0-100 scale\n",
    "\n",
    "print('Data size (r,c) =', df_numeric.shape)\n",
    "df_numeric.head(5)"
   ]
  },
  {
   "cell_type": "markdown",
   "metadata": {},
   "source": [
    "#  Dimension Reduction Model:  Weighted MDS\n",
    "\n",
    "For DR, we use the Multi-Dimensional Scaling (MDS) algorithm on a weighted data space. **Dimension weights** are applied to the high-dimensional (HD) data.  Weights are normalized to sum to 1, so as to normalize the HD distances to roughly constant size space independent of p.\n",
    "\n",
    "The **distance function for the high-dimensional (HD) data** is L1 manhattan distance. L1 is good for general purpose use with multi-dimensional quantitative datasets. \n",
    "\n",
    "The **distance function for the 2D projected points** is L2 Euclidean distance, which makes sense for human percpetion in the plot."
   ]
  },
  {
   "cell_type": "code",
   "execution_count": 6,
   "metadata": {},
   "outputs": [],
   "source": [
    "# Compute the distance matrix for the weighted high-dimensional data using L1 distance function.\n",
    "#  Input HD data should already be weighted.\n",
    "def distance_matrix_HD(dataHDw):  # dataHDw (pandas or numpy) -> distance matrix (numpy)\n",
    "    dist_matrix = sklearn.metrics.pairwise.manhattan_distances(dataHDw)\n",
    "    #m = pd.DataFrame(m, columns=dataHD.index, index=dataHD.index)  # keep as np array for performance\n",
    "    return dist_matrix\n",
    "\n",
    "# Compute the distance matrix for 2D projected data using L2 distance function.\n",
    "def distance_matrix_2D(data2D):  # data2d (pandas or numpy) -> distance matrix (numpy)\n",
    "    dist_matrix = sklearn.metrics.pairwise.euclidean_distances(data2D) \n",
    "    #m = pd.DataFrame(m, columns=data2D.index, index=data2D.index) # keep as np array for performance\n",
    "    return dist_matrix\n",
    "\n",
    "#def dist(x,y):\n",
    "#    return np.linalg.norm(x-y, ord=2)"
   ]
  },
  {
   "cell_type": "markdown",
   "metadata": {},
   "source": [
    "**MDS** projects the weighted high-dimensional data to 2D. Tune the algorithm's parameters for performance."
   ]
  },
  {
   "cell_type": "code",
   "execution_count": 7,
   "metadata": {},
   "outputs": [],
   "source": [
    "# Calculate the MDS stress metric between HD and 2D distances.  Uses numpy for efficiency.\n",
    "def stress(distHD, dist2D):  #  distHD, dist2D (numpy) -> stress (float)\n",
    "    #s = np.sqrt((distHD-dist2D).pow(2).sum().sum() / distHD.pow(2).sum().sum())  # pandas\n",
    "    #s = np.sqrt(((distHD-dist2D)**2).sum() / (distHD**2).sum())   # numpy\n",
    "    s = ((distHD-dist2D)**2).sum() / (distHD**2).sum()   # numpy, eliminate sqrt for efficiency\n",
    "    return s\n",
    "\n",
    "def compute_mds(dataHDw):  # dataHDw -> data2D (pandas)\n",
    "    distHD = distance_matrix_HD(dataHDw)\n",
    "    # Adjust these parameters for performance/accuracy tradeoff\n",
    "    mds = sklearn.manifold.MDS(n_components=2, dissimilarity='precomputed', n_init=10, max_iter=1000)\n",
    "    # Reduction algorithm happens here:  data2D is nx2 matrix\n",
    "    data2D = mds.fit_transform(distHD)\n",
    "    \n",
    "    # Rotate the resulting 2D projection to make it more consistent across multiple runs.\n",
    "    # Set the 1st PC to the y axis, plot looks better to spread data vertically with horizontal text labels\n",
    "    pca = sklearn.decomposition.PCA(n_components=2)\n",
    "    data2D = pca.fit_transform(data2D)\n",
    "    data2D = pd.DataFrame(data2D, columns=['y','x'], index=dataHDw.index)\n",
    "    \n",
    "    data2D.stress_value = stress(distHD, distance_matrix_2D(data2D))\n",
    "    return data2D\n",
    "\n",
    "def dimension_reduction(dataHD, wts): # dataHD, wts -> data2D (pandas)\n",
    "    # Normalize the weights to sum to 1\n",
    "    wts = wts/wts.sum()\n",
    "    \n",
    "    # Apply weights to the HD data \n",
    "    dataHDw = dataHD * wts\n",
    "    \n",
    "    # DR algorithm\n",
    "    data2D = compute_mds(dataHDw)\n",
    "\n",
    "    # Compute row relevances as:  data dot weights\n",
    "    # High relevance means large values in upweighted dimensions\n",
    "    data2D['relevance'] = dataHDw.sum(axis=1)\n",
    "    return data2D\n",
    "\n",
    "\n",
    "min_weight, max_weight = 0.00001, 0.9999\n",
    "init_weight = min_weight  # 1.0/len(normalized_df.columns) # initialize to min to make the sliders easier to use.\n",
    "weights = pd.Series(init_weight, index=normalized_df.columns, name=\"Weight\")  # the current weight list\n",
    "\n",
    "df_2D = dimension_reduction(normalized_df, weights)   # the current projected data"
   ]
  },
  {
   "cell_type": "code",
   "execution_count": 8,
   "metadata": {},
   "outputs": [
    {
     "data": {
      "text/plain": [
       "1    0.00001\n",
       "2    0.00001\n",
       "Name: Weight, dtype: float64"
      ]
     },
     "execution_count": 8,
     "metadata": {},
     "output_type": "execute_result"
    }
   ],
   "source": [
    "weights.head(2)"
   ]
  },
  {
   "cell_type": "code",
   "execution_count": 9,
   "metadata": {},
   "outputs": [
    {
     "data": {
      "text/html": [
       "<div>\n",
       "<style scoped>\n",
       "    .dataframe tbody tr th:only-of-type {\n",
       "        vertical-align: middle;\n",
       "    }\n",
       "\n",
       "    .dataframe tbody tr th {\n",
       "        vertical-align: top;\n",
       "    }\n",
       "\n",
       "    .dataframe thead th {\n",
       "        text-align: right;\n",
       "    }\n",
       "</style>\n",
       "<table border=\"1\" class=\"dataframe\">\n",
       "  <thead>\n",
       "    <tr style=\"text-align: right;\">\n",
       "      <th>Image</th>\n",
       "      <th>1793ready73</th>\n",
       "      <th>1793ready74</th>\n",
       "      <th>1793ready75</th>\n",
       "      <th>1793ready76</th>\n",
       "      <th>1793ready77</th>\n",
       "      <th>1793ready78</th>\n",
       "      <th>1793ready80</th>\n",
       "      <th>1793ready81</th>\n",
       "      <th>1793ready82</th>\n",
       "      <th>1793ready83</th>\n",
       "      <th>...</th>\n",
       "      <th>1804lateDisease9</th>\n",
       "      <th>1808readyDisease1</th>\n",
       "      <th>1808readyDisease2</th>\n",
       "      <th>1808readyDisease3</th>\n",
       "      <th>1808readyDisease4</th>\n",
       "      <th>1808readyDisease5</th>\n",
       "      <th>1808readyDisease6</th>\n",
       "      <th>1808readyDisease7</th>\n",
       "      <th>1808readyDisease8</th>\n",
       "      <th>1808readyDisease9</th>\n",
       "    </tr>\n",
       "    <tr>\n",
       "      <th>Image</th>\n",
       "      <th></th>\n",
       "      <th></th>\n",
       "      <th></th>\n",
       "      <th></th>\n",
       "      <th></th>\n",
       "      <th></th>\n",
       "      <th></th>\n",
       "      <th></th>\n",
       "      <th></th>\n",
       "      <th></th>\n",
       "      <th></th>\n",
       "      <th></th>\n",
       "      <th></th>\n",
       "      <th></th>\n",
       "      <th></th>\n",
       "      <th></th>\n",
       "      <th></th>\n",
       "      <th></th>\n",
       "      <th></th>\n",
       "      <th></th>\n",
       "      <th></th>\n",
       "    </tr>\n",
       "  </thead>\n",
       "  <tbody>\n",
       "    <tr>\n",
       "      <th>1793ready73</th>\n",
       "      <td>0.000000</td>\n",
       "      <td>0.029639</td>\n",
       "      <td>0.029840</td>\n",
       "      <td>0.027807</td>\n",
       "      <td>0.031974</td>\n",
       "      <td>0.035072</td>\n",
       "      <td>0.031605</td>\n",
       "      <td>0.032993</td>\n",
       "      <td>0.030253</td>\n",
       "      <td>0.028579</td>\n",
       "      <td>...</td>\n",
       "      <td>0.050797</td>\n",
       "      <td>0.056380</td>\n",
       "      <td>0.053968</td>\n",
       "      <td>0.054151</td>\n",
       "      <td>0.053196</td>\n",
       "      <td>0.052040</td>\n",
       "      <td>0.053812</td>\n",
       "      <td>0.053981</td>\n",
       "      <td>0.060128</td>\n",
       "      <td>0.050253</td>\n",
       "    </tr>\n",
       "    <tr>\n",
       "      <th>1793ready74</th>\n",
       "      <td>0.029639</td>\n",
       "      <td>0.000000</td>\n",
       "      <td>0.030012</td>\n",
       "      <td>0.021544</td>\n",
       "      <td>0.032556</td>\n",
       "      <td>0.033324</td>\n",
       "      <td>0.029488</td>\n",
       "      <td>0.034068</td>\n",
       "      <td>0.028729</td>\n",
       "      <td>0.030595</td>\n",
       "      <td>...</td>\n",
       "      <td>0.051931</td>\n",
       "      <td>0.059557</td>\n",
       "      <td>0.055323</td>\n",
       "      <td>0.057638</td>\n",
       "      <td>0.056329</td>\n",
       "      <td>0.054491</td>\n",
       "      <td>0.057651</td>\n",
       "      <td>0.056234</td>\n",
       "      <td>0.064014</td>\n",
       "      <td>0.053981</td>\n",
       "    </tr>\n",
       "  </tbody>\n",
       "</table>\n",
       "<p>2 rows × 67 columns</p>\n",
       "</div>"
      ],
      "text/plain": [
       "Image        1793ready73  1793ready74  1793ready75  1793ready76  1793ready77  \\\n",
       "Image                                                                          \n",
       "1793ready73     0.000000     0.029639     0.029840     0.027807     0.031974   \n",
       "1793ready74     0.029639     0.000000     0.030012     0.021544     0.032556   \n",
       "\n",
       "Image        1793ready78  1793ready80  1793ready81  1793ready82  1793ready83  \\\n",
       "Image                                                                          \n",
       "1793ready73     0.035072     0.031605     0.032993     0.030253     0.028579   \n",
       "1793ready74     0.033324     0.029488     0.034068     0.028729     0.030595   \n",
       "\n",
       "Image        ...  1804lateDisease9  1808readyDisease1  1808readyDisease2  \\\n",
       "Image        ...                                                           \n",
       "1793ready73  ...          0.050797           0.056380           0.053968   \n",
       "1793ready74  ...          0.051931           0.059557           0.055323   \n",
       "\n",
       "Image        1808readyDisease3  1808readyDisease4  1808readyDisease5  \\\n",
       "Image                                                                  \n",
       "1793ready73           0.054151           0.053196           0.052040   \n",
       "1793ready74           0.057638           0.056329           0.054491   \n",
       "\n",
       "Image        1808readyDisease6  1808readyDisease7  1808readyDisease8  \\\n",
       "Image                                                                  \n",
       "1793ready73           0.053812           0.053981           0.060128   \n",
       "1793ready74           0.057651           0.056234           0.064014   \n",
       "\n",
       "Image        1808readyDisease9  \n",
       "Image                           \n",
       "1793ready73           0.050253  \n",
       "1793ready74           0.053981  \n",
       "\n",
       "[2 rows x 67 columns]"
      ]
     },
     "execution_count": 9,
     "metadata": {},
     "output_type": "execute_result"
    }
   ],
   "source": [
    "pd.DataFrame(distance_matrix_HD(normalized_df * (weights/weights.sum())), \n",
    "             columns=normalized_df.index, index=normalized_df.index).head(2)"
   ]
  },
  {
   "cell_type": "code",
   "execution_count": 10,
   "metadata": {},
   "outputs": [
    {
     "name": "stdout",
     "output_type": "stream",
     "text": [
      "0.06174889268939737\n"
     ]
    },
    {
     "data": {
      "text/html": [
       "<div>\n",
       "<style scoped>\n",
       "    .dataframe tbody tr th:only-of-type {\n",
       "        vertical-align: middle;\n",
       "    }\n",
       "\n",
       "    .dataframe tbody tr th {\n",
       "        vertical-align: top;\n",
       "    }\n",
       "\n",
       "    .dataframe thead th {\n",
       "        text-align: right;\n",
       "    }\n",
       "</style>\n",
       "<table border=\"1\" class=\"dataframe\">\n",
       "  <thead>\n",
       "    <tr style=\"text-align: right;\">\n",
       "      <th></th>\n",
       "      <th>y</th>\n",
       "      <th>x</th>\n",
       "      <th>relevance</th>\n",
       "    </tr>\n",
       "    <tr>\n",
       "      <th>Image</th>\n",
       "      <th></th>\n",
       "      <th></th>\n",
       "      <th></th>\n",
       "    </tr>\n",
       "  </thead>\n",
       "  <tbody>\n",
       "    <tr>\n",
       "      <th>1793ready73</th>\n",
       "      <td>-0.015833</td>\n",
       "      <td>-0.010734</td>\n",
       "      <td>0.843195</td>\n",
       "    </tr>\n",
       "    <tr>\n",
       "      <th>1793ready74</th>\n",
       "      <td>-0.025135</td>\n",
       "      <td>0.010030</td>\n",
       "      <td>0.833884</td>\n",
       "    </tr>\n",
       "  </tbody>\n",
       "</table>\n",
       "</div>"
      ],
      "text/plain": [
       "                    y         x  relevance\n",
       "Image                                     \n",
       "1793ready73 -0.015833 -0.010734   0.843195\n",
       "1793ready74 -0.025135  0.010030   0.833884"
      ]
     },
     "execution_count": 10,
     "metadata": {},
     "output_type": "execute_result"
    }
   ],
   "source": [
    "print(df_2D.stress_value)\n",
    "df_2D.head(2)"
   ]
  },
  {
   "cell_type": "markdown",
   "metadata": {},
   "source": [
    "# Inverse Dimension-Reduction Learning Algorithm\n",
    "\n",
    "Computes the inverse-Dimension-Reduction: given input 2D points, compute new weights.\n",
    "Optimizes the MDS stress function that compares 2D pairwise distances (||$x_i-x_j||$) to weighted HD pairwise distances ($d_{ij}$):\n",
    "![Stress](https://wikimedia.org/api/rest_v1/media/math/render/svg/7989b3afc0d8795a78c1631c7e807f260d9cfe68)\n",
    "\n",
    "Technically, we compute the inverse weighted distance function. We shortcut the optimization by eliminating MDS from the process, and assume that the user input 2D distances are actually the desired HD distances, not the 2D distances after re-projection. Thus, given the input (HD) distances, we find weights that would produce these distances in the HD space."
   ]
  },
  {
   "cell_type": "code",
   "execution_count": 11,
   "metadata": {},
   "outputs": [],
   "source": [
    "# This method is used to propose a new weight for current column in a smart fashion\n",
    "def new_proposal(current, step, direction):\n",
    "    return np.clip(current + direction*step*random.random(), 0.00001, 0.9999)\n",
    "\n",
    "# Repeatedly tries to modify each dim weight to see if it improves the stress, thus\n",
    "# getting the weighted high-dim distances to more closely match the input 2D distances.\n",
    "#   dataHD = high-dim data, as pandas\n",
    "#   data2D = 2D data input, as pandas\n",
    "#   weights = as pandas series, or None for weights[i]=1/p\n",
    "def inverse_DR(dataHD, data2D, curWeights=None):  # -> new weights, as Series\n",
    "    dist2D = distance_matrix_2D(data2D)  # compute 2D distances only once\n",
    "    col_names = dataHD.columns\n",
    "    dataHD = dataHD.to_numpy()  # use numpy for efficiency\n",
    "    row, col = dataHD.shape\n",
    "    \n",
    "    if curWeights==None:\n",
    "        curWeights = np.array([1.0/col]*col)  # default weights = 1/p\n",
    "    else:\n",
    "        curWeights = curWeights.to_numpy()\n",
    "        curWeights = curWeights / curWeights.sum()  # Normalize weights to sum to 1\n",
    "    newWeights = curWeights.copy()  # re-use this array for efficiency\n",
    "    \n",
    "    # Initialize state\n",
    "    flag = [0]*col         # degree of success of a weight change\n",
    "    direction = [1]*col  # direction to move a weight, pos or neg\n",
    "    step = [1.0/col]*col   # how much to change each weight\n",
    "    \n",
    "    dataHDw = dataHD * curWeights   # weighted space, re-use this array for efficiency\n",
    "    distHD = distance_matrix_HD(dataHDw)\n",
    "    curStress = stress(distHD, dist2D)\n",
    "    print('Starting stress =', curStress, 'Processing...')\n",
    "\n",
    "    MAX = 500   # default setting of the number of iterations\n",
    "\n",
    "    # Try to minorly adjust each weight to see if it reduces stress\n",
    "    for i in range(MAX):\n",
    "        for dim in range(col):            \n",
    "            # Get a new weight for current column\n",
    "            nw = new_proposal(curWeights[dim], step[dim], direction[dim])\n",
    "            \n",
    "            # Scale the weight list such that it sums to 1\n",
    "            #newWeights = curWeights.copy()  # avoid extra copy op using math below\n",
    "            #newWeights[dim] = nw\n",
    "            #newWeights = newWeights / s\n",
    "            s = 1.0  + nw - curWeights[dim]   # 1.0 == curWeights.sum()\n",
    "            np.true_divide(curWeights, s, out=newWeights)  # transfers to other array, while doing /\n",
    "            newWeights[dim] = nw / s\n",
    "            \n",
    "            # Apply new weights to HD data\n",
    "            np.multiply(dataHD, newWeights, out=dataHDw)  # dataHDw = dataHD * newWeights; efficiently reuses dataHDw array\n",
    "            distHD = distance_matrix_HD(dataHDw)\n",
    "\n",
    "            # Get the new stress\n",
    "            newStress = stress(distHD, dist2D)\n",
    "            \n",
    "            # If new stress is lower, then update weights and flag this success\n",
    "            if newStress < curStress:\n",
    "                temp = curWeights\n",
    "                curWeights = newWeights\n",
    "                newWeights = temp   # reuse the old array next iteration\n",
    "                curStress = newStress\n",
    "                flag[dim] = flag[dim] + 1\n",
    "            else:\n",
    "                flag[dim] = flag[dim] - 1\n",
    "                direction[dim] = -direction[dim]  # Reverse course\n",
    "    \n",
    "            # If recent success, then speed up the step rate\n",
    "            if flag[dim] >= 5:\n",
    "                step[dim] = step[dim] * 2\n",
    "                flag[dim] = 0\n",
    "            elif flag[dim] <= -5:\n",
    "                step[dim] = step[dim] / 2\n",
    "                flag[dim] = 0\n",
    "                \n",
    "    print('Solution stress =', curStress, 'Done.')\n",
    "    #print(\"weight\", curWeights)\n",
    "    #print(\"flag\", flag)\n",
    "    #print(\"dir\", direction)\n",
    "    #print(\"step\", step)\n",
    "    return pd.Series(curWeights, index=col_names, name=\"Weight\")\n"
   ]
  },
  {
   "cell_type": "markdown",
   "metadata": {},
   "source": [
    "# Visualization and UI code\n",
    "\n",
    "Use these functions to create the GUI components in any cell."
   ]
  },
  {
   "cell_type": "markdown",
   "metadata": {},
   "source": [
    "## Sliders"
   ]
  },
  {
   "cell_type": "code",
   "execution_count": 12,
   "metadata": {},
   "outputs": [],
   "source": [
    "def create_sliders(wts):\n",
    "    # Create sliders, one for each dimension weight\n",
    "    sliders = [widgets.FloatSlider(min=min_weight, max=max_weight, step=0.01, value=value, \n",
    "                                       description=label, continuous_update=False, readout_format='.5f')\n",
    "                   for (label, value) in wts.iteritems()]\n",
    "    # Display sliders\n",
    "    for s in sliders:\n",
    "        #s.observe(sliderchange, names='value')\n",
    "        display(s)\n",
    "        \n",
    "    create_slider_buttons(sliders)\n",
    "    return sliders\n",
    "\n",
    "def create_slider_buttons(sliders):    \n",
    "    apply_button = widgets.Button(description='Apply Slider Weights')\n",
    "    reset_button = widgets.Button(description='Reset Plot')\n",
    "\n",
    "    # Callback functions\n",
    "    def apply_button_clicked(change):\n",
    "        # Use the slider values to re compute the DR and redraw the plot\n",
    "        global weights, df_2D   # Update weights and df_2D globals\n",
    "        weights = pd.Series([s.value for s in sliders], index=normalized_df.columns, name='Weight')\n",
    "        df_2D = dimension_reduction(normalized_df, weights)   \n",
    "        \n",
    "        # Re-draw the plot\n",
    "        draw_plot(plot_ax, df_2D)\n",
    "    apply_button.on_click(apply_button_clicked)\n",
    "\n",
    "    def reset_button_clicked(change):\n",
    "        # Reset all sliders to initial value and re-compute DR and re-draw the plot\n",
    "        for s in sliders:\n",
    "            s.value = init_weight\n",
    "        apply_button_clicked(change)\n",
    "    reset_button.on_click(reset_button_clicked)\n",
    "    \n",
    "    # Display buttons\n",
    "    display(apply_button)\n",
    "    display(reset_button)\n",
    "    return apply_button, reset_button\n"
   ]
  },
  {
   "cell_type": "markdown",
   "metadata": {},
   "source": [
    "## Print Details Button"
   ]
  },
  {
   "cell_type": "code",
   "execution_count": 13,
   "metadata": {},
   "outputs": [],
   "source": [
    "def create_detail_display():\n",
    "    # Print selected points\n",
    "    print_button = widgets.Button(description='Print selected points')\n",
    "    print_output = widgets.Output()\n",
    "\n",
    "    def print_button_clicked(change):\n",
    "        print_output.clear_output()\n",
    "        # Get list of selected points and print their source data values\n",
    "        selset = [c.index for c in plot_ax.circles if c.selected]\n",
    "        with print_output:\n",
    "            if len(selset) > 0:\n",
    "                print(df.iloc[selset, :].transpose())\n",
    "            else:\n",
    "                print('Select points in the plot to see details here')\n",
    "    print_button.on_click(print_button_clicked)\n",
    "\n",
    "    display(print_button)\n",
    "    display(print_output)\n",
    "    return print_button, print_output\n"
   ]
  },
  {
   "cell_type": "markdown",
   "metadata": {},
   "source": [
    "## Inverse DR Button and Plot"
   ]
  },
  {
   "cell_type": "code",
   "execution_count": 14,
   "metadata": {},
   "outputs": [],
   "source": [
    "def create_inverse_button():\n",
    "    inverse_button = widgets.Button(description='Learn New Weights')\n",
    "    copy_button = widgets.Button(description='Copy to Sliders')\n",
    "\n",
    "    def inverse_button_clicked(change):\n",
    "        ax.clear()\n",
    "\n",
    "        # Check minimum number of points moved\n",
    "        n = len([1 for c in plot_ax.circles if c.selected])\n",
    "        if n < 2:\n",
    "            print('Need to select or move at least 2 points in the plot first.')\n",
    "            return\n",
    "\n",
    "        # Get selected data points\n",
    "        data2Dnew = pd.DataFrame([c.center for c in plot_ax.circles if c.selected], columns=['x','y'], \n",
    "                                index=[c.label for c in plot_ax.circles if c.selected])\n",
    "        dataHDpart = normalized_df.loc[data2Dnew.index]\n",
    "\n",
    "        # Learn new weights\n",
    "        global weights\n",
    "        weights = inverse_DR(dataHDpart, data2Dnew)\n",
    "        \n",
    "        # Display new weights as a bar chart\n",
    "        weights.sort_index(ascending=False).plot.barh(ax=ax)\n",
    "        ax.set_xlabel(\"Weight\")\n",
    "        fig.tight_layout()\n",
    "    inverse_button.on_click(inverse_button_clicked)\n",
    "\n",
    "    def copy_button_clicked(change):\n",
    "        # Set sliders to reflect the learned weights and update the DR and plot accordingly\n",
    "        global df_2D\n",
    "        for i,s in enumerate(sliders):\n",
    "            s.value = weights[i]\n",
    "        df_2D = dimension_reduction(normalized_df, weights)   \n",
    "        draw_plot(plot_ax, df_2D)\n",
    "    copy_button.on_click(copy_button_clicked)\n",
    "    display(inverse_button)\n",
    "    display(copy_button)\n",
    "    fig, ax = plt.subplots(figsize=(5,7))   # reserve a fig for the weights bar chart\n",
    "    return inverse_button, copy_button, ax\n"
   ]
  },
  {
   "cell_type": "markdown",
   "metadata": {},
   "source": [
    "## Draggable Dimension-Reduction 2D Plot"
   ]
  },
  {
   "cell_type": "code",
   "execution_count": 15,
   "metadata": {},
   "outputs": [],
   "source": [
    "# Handles mouse drag interaction events in the plot, users can select and drag points.\n",
    "class DraggablePoints(object):\n",
    "    def __init__(self, ax, artists):\n",
    "        self.ax = ax\n",
    "        self.artists = artists\n",
    "        self.current_artist = None\n",
    "        self.last_selected = None\n",
    "        ax.selected_text.set_text('Selected: none')\n",
    "        self.offset = (0, 0)\n",
    "        # Set up mouse listeners\n",
    "        ax.figure.canvas.mpl_connect('pick_event', self.on_pick)\n",
    "        ax.figure.canvas.mpl_connect('motion_notify_event', self.on_motion)\n",
    "        ax.figure.canvas.mpl_connect('button_release_event', self.on_release)\n",
    "\n",
    "    def on_pick(self, event):\n",
    "        # When point is clicked on (mouse down), select it and start the drag\n",
    "        if self.current_artist is None:  # clicking on overlapped points sends multiple events\n",
    "            self.last_selected = event.artist.index  # event.ind\n",
    "            self.current_artist = event.artist\n",
    "            event.artist.selected = True\n",
    "            event.artist.savecolor = event.artist.get_facecolor()\n",
    "            event.artist.set_facecolor('green')\n",
    "            #event.artist.set_alpha(1.0)\n",
    "            self.ax.selected_text.set_text(\"Selected: \" + event.artist.label)\n",
    "            x0, y0 = event.artist.center\n",
    "            self.offset = (x0 - event.mouseevent.xdata), (y0 - event.mouseevent.ydata)\n",
    "\n",
    "    def on_motion(self, event):\n",
    "        # When dragging, check if point is selected and valid mouse coordinates\n",
    "        if (self.current_artist is not None) and (event.xdata is not None) and (event.ydata is not None):\n",
    "            # Drag the point and its text label\n",
    "            dx, dy = self.offset\n",
    "            self.current_artist.center = x0, y0 = event.xdata + dx, event.ydata + dy\n",
    "            self.current_artist.text.set_position((x0 - self.current_artist.radius/2, \n",
    "                                                   y0 - self.current_artist.radius/2))\n",
    "            #self.ax.figure.canvas.draw()  # slow\n",
    "        \n",
    "    def on_release(self, event):\n",
    "        # When mouse is released, stop the drag\n",
    "        self.current_artist = None\n",
    "        #self.ax.figure.canvas.draw()"
   ]
  },
  {
   "cell_type": "code",
   "execution_count": 16,
   "metadata": {
    "scrolled": false
   },
   "outputs": [],
   "source": [
    "def create_plot(data2D):\n",
    "    # Initialize DR plot figure\n",
    "    fig, ax = plt.subplots(figsize= (8,7))\n",
    "    ax.selected_text = ax.figure.text(0,0.005, 'Selected: none', wrap=True, color='green')\n",
    "    fig.colorbar(plt.cm.ScalarMappable(norm=matplotlib.colors.Normalize(), cmap=plt.cm.plasma), ax=ax, label=\"Relevance\", ticks=[], shrink=0.5, aspect=40, fraction=0.05)\n",
    "    # ax = data2D.plot.scatter(x=\"x\", y=\"y\", alpha=0.5, c=\"relevance\", s=75, ax=ax\n",
    "    #                   colormap=plt.cm.plasma, sharex=False, figsize=(8, 6), picker=True)\n",
    "    # ax.collections[0].get_offsets());   set_offsets(data2D[['y','x']]);   .get_facecolors()\n",
    "    \n",
    "    # Clean up the plot\n",
    "    ax.set_xticks([])\n",
    "    ax.set_yticks([])\n",
    "    ax.figure.tight_layout()\n",
    "    #plt.show()\n",
    "    \n",
    "    # Store state data:\n",
    "    ax.circles = None\n",
    "    ax.dragpoint = None\n",
    "    \n",
    "    draw_plot(ax, data2D)\n",
    "    return ax\n",
    "\n",
    "def draw_plot(ax, data2D):\n",
    "    # Re-draws the DR plot in the axes with the updated data2D\n",
    "    ax.clear()\n",
    "    # Map data to circles, with x, y, and relevance->color\n",
    "    wid = max(data2D.x.max() - data2D.x.min(), data2D.y.max() - data2D.y.min())  # max range of x,y axes\n",
    "    cnorm = matplotlib.colors.Normalize(vmin=data2D.relevance.min(), vmax=data2D.relevance.max())\n",
    "    ax.circles = data2D.apply(axis=1, func=lambda row: \n",
    "        matplotlib.patches.Circle(xy=(row.x, row.y), radius=wid/70, alpha=0.5, \n",
    "                                  color=plt.cm.plasma(cnorm(row.relevance)), picker=True))\n",
    "    for i,c in enumerate(ax.circles):\n",
    "        # Store state data:\n",
    "        c.index, c.label, c.selected = i, data2D.index[i], False\n",
    "        # Draw circles and text labels in plot\n",
    "        ax.add_patch(c)\n",
    "        c.text = ax.text(c.center[0]-c.radius/2, c.center[1]-c.radius/2, c.label)\n",
    "    # Make plot circles draggable\n",
    "    ax.dragpoint = DraggablePoints(ax, ax.circles)\n",
    "    \n",
    "    # Clean up the plot\n",
    "    ax.set_xticks([])\n",
    "    ax.set_yticks([])\n",
    "    ax.axis('equal')\n",
    "    #plt.show()\n"
   ]
  },
  {
   "cell_type": "markdown",
   "metadata": {},
   "source": [
    "# Interactive Visualization"
   ]
  },
  {
   "cell_type": "markdown",
   "metadata": {},
   "source": [
    "## Sliders\n",
    "Use the sliders to control the **dimension weights** for the input HD data. The weights indicate which dimensions are given more emphasis in the DR plot distances.  For computational reasons, weights cannot go to absolute zero. When used in DR, the weights are first normalized such that they sum to 1.\n",
    "\n",
    "After adjusting the sliders, click the **Apply** button to show the results in the DR plot.\n",
    "\n",
    "To reset the sliders to their default values, click the **Reset** button."
   ]
  },
  {
   "cell_type": "code",
   "execution_count": 17,
   "metadata": {
    "scrolled": true
   },
   "outputs": [
    {
     "data": {
      "application/vnd.jupyter.widget-view+json": {
       "model_id": "710602f9e22041d1916ad2970d51d1c2",
       "version_major": 2,
       "version_minor": 0
      },
      "text/plain": [
       "FloatSlider(value=1e-05, continuous_update=False, description='1', max=0.9999, min=1e-05, readout_format='.5f'…"
      ]
     },
     "metadata": {},
     "output_type": "display_data"
    },
    {
     "data": {
      "application/vnd.jupyter.widget-view+json": {
       "model_id": "d1853a7eec3d44db9f8cdb39f874728c",
       "version_major": 2,
       "version_minor": 0
      },
      "text/plain": [
       "FloatSlider(value=1e-05, continuous_update=False, description='2', max=0.9999, min=1e-05, readout_format='.5f'…"
      ]
     },
     "metadata": {},
     "output_type": "display_data"
    },
    {
     "data": {
      "application/vnd.jupyter.widget-view+json": {
       "model_id": "2c702a41513d413f9ba3c1b595223035",
       "version_major": 2,
       "version_minor": 0
      },
      "text/plain": [
       "FloatSlider(value=1e-05, continuous_update=False, description='3', max=0.9999, min=1e-05, readout_format='.5f'…"
      ]
     },
     "metadata": {},
     "output_type": "display_data"
    },
    {
     "data": {
      "application/vnd.jupyter.widget-view+json": {
       "model_id": "d9e85f9effff41ba966eaf122e5c40b5",
       "version_major": 2,
       "version_minor": 0
      },
      "text/plain": [
       "FloatSlider(value=1e-05, continuous_update=False, description='4', max=0.9999, min=1e-05, readout_format='.5f'…"
      ]
     },
     "metadata": {},
     "output_type": "display_data"
    },
    {
     "data": {
      "application/vnd.jupyter.widget-view+json": {
       "model_id": "7031154b0fd34b3bb19b2b59d22a43a7",
       "version_major": 2,
       "version_minor": 0
      },
      "text/plain": [
       "FloatSlider(value=1e-05, continuous_update=False, description='5', max=0.9999, min=1e-05, readout_format='.5f'…"
      ]
     },
     "metadata": {},
     "output_type": "display_data"
    },
    {
     "data": {
      "application/vnd.jupyter.widget-view+json": {
       "model_id": "79f8a2e9f5c74eda8b28ca62e99323d3",
       "version_major": 2,
       "version_minor": 0
      },
      "text/plain": [
       "FloatSlider(value=1e-05, continuous_update=False, description='6', max=0.9999, min=1e-05, readout_format='.5f'…"
      ]
     },
     "metadata": {},
     "output_type": "display_data"
    },
    {
     "data": {
      "application/vnd.jupyter.widget-view+json": {
       "model_id": "4f20626541c1432b9ee6f5b6eea5f6e4",
       "version_major": 2,
       "version_minor": 0
      },
      "text/plain": [
       "FloatSlider(value=1e-05, continuous_update=False, description='7', max=0.9999, min=1e-05, readout_format='.5f'…"
      ]
     },
     "metadata": {},
     "output_type": "display_data"
    },
    {
     "data": {
      "application/vnd.jupyter.widget-view+json": {
       "model_id": "961bc7bd850448db963632d1e2e89c82",
       "version_major": 2,
       "version_minor": 0
      },
      "text/plain": [
       "FloatSlider(value=1e-05, continuous_update=False, description='8', max=0.9999, min=1e-05, readout_format='.5f'…"
      ]
     },
     "metadata": {},
     "output_type": "display_data"
    },
    {
     "data": {
      "application/vnd.jupyter.widget-view+json": {
       "model_id": "398af5a2cdfb4b19a5428ec62249357b",
       "version_major": 2,
       "version_minor": 0
      },
      "text/plain": [
       "FloatSlider(value=1e-05, continuous_update=False, description='9', max=0.9999, min=1e-05, readout_format='.5f'…"
      ]
     },
     "metadata": {},
     "output_type": "display_data"
    },
    {
     "data": {
      "application/vnd.jupyter.widget-view+json": {
       "model_id": "39fc272b47c14c10a8e2b578646e525a",
       "version_major": 2,
       "version_minor": 0
      },
      "text/plain": [
       "FloatSlider(value=1e-05, continuous_update=False, description='10', max=0.9999, min=1e-05, readout_format='.5f…"
      ]
     },
     "metadata": {},
     "output_type": "display_data"
    },
    {
     "data": {
      "application/vnd.jupyter.widget-view+json": {
       "model_id": "246229eed7d24d4ca6f39495ebd032bd",
       "version_major": 2,
       "version_minor": 0
      },
      "text/plain": [
       "FloatSlider(value=1e-05, continuous_update=False, description='11', max=0.9999, min=1e-05, readout_format='.5f…"
      ]
     },
     "metadata": {},
     "output_type": "display_data"
    },
    {
     "data": {
      "application/vnd.jupyter.widget-view+json": {
       "model_id": "725baecd20f14acf96d64fc950863a98",
       "version_major": 2,
       "version_minor": 0
      },
      "text/plain": [
       "FloatSlider(value=1e-05, continuous_update=False, description='12', max=0.9999, min=1e-05, readout_format='.5f…"
      ]
     },
     "metadata": {},
     "output_type": "display_data"
    },
    {
     "data": {
      "application/vnd.jupyter.widget-view+json": {
       "model_id": "73c9e108da474e998887868f241b7e6c",
       "version_major": 2,
       "version_minor": 0
      },
      "text/plain": [
       "FloatSlider(value=1e-05, continuous_update=False, description='13', max=0.9999, min=1e-05, readout_format='.5f…"
      ]
     },
     "metadata": {},
     "output_type": "display_data"
    },
    {
     "data": {
      "application/vnd.jupyter.widget-view+json": {
       "model_id": "8db347d31e8c45ba8160029c6f7cce92",
       "version_major": 2,
       "version_minor": 0
      },
      "text/plain": [
       "FloatSlider(value=1e-05, continuous_update=False, description='14', max=0.9999, min=1e-05, readout_format='.5f…"
      ]
     },
     "metadata": {},
     "output_type": "display_data"
    },
    {
     "data": {
      "application/vnd.jupyter.widget-view+json": {
       "model_id": "4c54a4beb5924d8cbcb0607efb294b1d",
       "version_major": 2,
       "version_minor": 0
      },
      "text/plain": [
       "FloatSlider(value=1e-05, continuous_update=False, description='15', max=0.9999, min=1e-05, readout_format='.5f…"
      ]
     },
     "metadata": {},
     "output_type": "display_data"
    },
    {
     "data": {
      "application/vnd.jupyter.widget-view+json": {
       "model_id": "0d707cfcf5744acfa510f2714707ef3c",
       "version_major": 2,
       "version_minor": 0
      },
      "text/plain": [
       "FloatSlider(value=1e-05, continuous_update=False, description='16', max=0.9999, min=1e-05, readout_format='.5f…"
      ]
     },
     "metadata": {},
     "output_type": "display_data"
    },
    {
     "data": {
      "application/vnd.jupyter.widget-view+json": {
       "model_id": "b8e12ed6cd634754afd01b31d2c89458",
       "version_major": 2,
       "version_minor": 0
      },
      "text/plain": [
       "FloatSlider(value=1e-05, continuous_update=False, description='17', max=0.9999, min=1e-05, readout_format='.5f…"
      ]
     },
     "metadata": {},
     "output_type": "display_data"
    },
    {
     "data": {
      "application/vnd.jupyter.widget-view+json": {
       "model_id": "64b449e5c6924b4f953f126ae101f103",
       "version_major": 2,
       "version_minor": 0
      },
      "text/plain": [
       "FloatSlider(value=1e-05, continuous_update=False, description='18', max=0.9999, min=1e-05, readout_format='.5f…"
      ]
     },
     "metadata": {},
     "output_type": "display_data"
    },
    {
     "data": {
      "application/vnd.jupyter.widget-view+json": {
       "model_id": "d32369b527674843b7236201076a0c27",
       "version_major": 2,
       "version_minor": 0
      },
      "text/plain": [
       "FloatSlider(value=1e-05, continuous_update=False, description='19', max=0.9999, min=1e-05, readout_format='.5f…"
      ]
     },
     "metadata": {},
     "output_type": "display_data"
    },
    {
     "data": {
      "application/vnd.jupyter.widget-view+json": {
       "model_id": "162ea988ffe042a9878ac98caf75cf35",
       "version_major": 2,
       "version_minor": 0
      },
      "text/plain": [
       "FloatSlider(value=1e-05, continuous_update=False, description='20', max=0.9999, min=1e-05, readout_format='.5f…"
      ]
     },
     "metadata": {},
     "output_type": "display_data"
    },
    {
     "data": {
      "application/vnd.jupyter.widget-view+json": {
       "model_id": "c81d35231af9467495e11ff806af8cc0",
       "version_major": 2,
       "version_minor": 0
      },
      "text/plain": [
       "FloatSlider(value=1e-05, continuous_update=False, description='21', max=0.9999, min=1e-05, readout_format='.5f…"
      ]
     },
     "metadata": {},
     "output_type": "display_data"
    },
    {
     "data": {
      "application/vnd.jupyter.widget-view+json": {
       "model_id": "fe1a61fe47d14da188dc9613a3e9c329",
       "version_major": 2,
       "version_minor": 0
      },
      "text/plain": [
       "FloatSlider(value=1e-05, continuous_update=False, description='22', max=0.9999, min=1e-05, readout_format='.5f…"
      ]
     },
     "metadata": {},
     "output_type": "display_data"
    },
    {
     "data": {
      "application/vnd.jupyter.widget-view+json": {
       "model_id": "0d515bc589cb44acb519d5a5e8292d0f",
       "version_major": 2,
       "version_minor": 0
      },
      "text/plain": [
       "FloatSlider(value=1e-05, continuous_update=False, description='23', max=0.9999, min=1e-05, readout_format='.5f…"
      ]
     },
     "metadata": {},
     "output_type": "display_data"
    },
    {
     "data": {
      "application/vnd.jupyter.widget-view+json": {
       "model_id": "4f16585ee7ea4f9d9bfe0bdf3d3e879b",
       "version_major": 2,
       "version_minor": 0
      },
      "text/plain": [
       "FloatSlider(value=1e-05, continuous_update=False, description='24', max=0.9999, min=1e-05, readout_format='.5f…"
      ]
     },
     "metadata": {},
     "output_type": "display_data"
    },
    {
     "data": {
      "application/vnd.jupyter.widget-view+json": {
       "model_id": "210bce9b41b44813b2fa73d4b6bed5fd",
       "version_major": 2,
       "version_minor": 0
      },
      "text/plain": [
       "FloatSlider(value=1e-05, continuous_update=False, description='25', max=0.9999, min=1e-05, readout_format='.5f…"
      ]
     },
     "metadata": {},
     "output_type": "display_data"
    },
    {
     "data": {
      "application/vnd.jupyter.widget-view+json": {
       "model_id": "1d2bdf1f82e9453e9493621d65fe0b76",
       "version_major": 2,
       "version_minor": 0
      },
      "text/plain": [
       "FloatSlider(value=1e-05, continuous_update=False, description='26', max=0.9999, min=1e-05, readout_format='.5f…"
      ]
     },
     "metadata": {},
     "output_type": "display_data"
    },
    {
     "data": {
      "application/vnd.jupyter.widget-view+json": {
       "model_id": "cf698f12ed9544a3bd790c4cd24027fc",
       "version_major": 2,
       "version_minor": 0
      },
      "text/plain": [
       "FloatSlider(value=1e-05, continuous_update=False, description='27', max=0.9999, min=1e-05, readout_format='.5f…"
      ]
     },
     "metadata": {},
     "output_type": "display_data"
    },
    {
     "data": {
      "application/vnd.jupyter.widget-view+json": {
       "model_id": "63a2a82a57aa42f7892c143cfe50c8ac",
       "version_major": 2,
       "version_minor": 0
      },
      "text/plain": [
       "FloatSlider(value=1e-05, continuous_update=False, description='28', max=0.9999, min=1e-05, readout_format='.5f…"
      ]
     },
     "metadata": {},
     "output_type": "display_data"
    },
    {
     "data": {
      "application/vnd.jupyter.widget-view+json": {
       "model_id": "d591778365bb4009b0dcba05d779a1aa",
       "version_major": 2,
       "version_minor": 0
      },
      "text/plain": [
       "FloatSlider(value=1e-05, continuous_update=False, description='29', max=0.9999, min=1e-05, readout_format='.5f…"
      ]
     },
     "metadata": {},
     "output_type": "display_data"
    },
    {
     "data": {
      "application/vnd.jupyter.widget-view+json": {
       "model_id": "eaa44a22f4a143089601df2edd13e382",
       "version_major": 2,
       "version_minor": 0
      },
      "text/plain": [
       "FloatSlider(value=1e-05, continuous_update=False, description='30', max=0.9999, min=1e-05, readout_format='.5f…"
      ]
     },
     "metadata": {},
     "output_type": "display_data"
    },
    {
     "data": {
      "application/vnd.jupyter.widget-view+json": {
       "model_id": "76ff41e2f7f148508cd35ca6589e4e95",
       "version_major": 2,
       "version_minor": 0
      },
      "text/plain": [
       "FloatSlider(value=1e-05, continuous_update=False, description='31', max=0.9999, min=1e-05, readout_format='.5f…"
      ]
     },
     "metadata": {},
     "output_type": "display_data"
    },
    {
     "data": {
      "application/vnd.jupyter.widget-view+json": {
       "model_id": "03778f5cf9824e928a2a05f2399d22ad",
       "version_major": 2,
       "version_minor": 0
      },
      "text/plain": [
       "FloatSlider(value=1e-05, continuous_update=False, description='32', max=0.9999, min=1e-05, readout_format='.5f…"
      ]
     },
     "metadata": {},
     "output_type": "display_data"
    },
    {
     "data": {
      "application/vnd.jupyter.widget-view+json": {
       "model_id": "1da5ea5b1f7b4767904fa86a74d8f26d",
       "version_major": 2,
       "version_minor": 0
      },
      "text/plain": [
       "FloatSlider(value=1e-05, continuous_update=False, description='33', max=0.9999, min=1e-05, readout_format='.5f…"
      ]
     },
     "metadata": {},
     "output_type": "display_data"
    },
    {
     "data": {
      "application/vnd.jupyter.widget-view+json": {
       "model_id": "80c3e05b860f413b92a53d038e11f2b0",
       "version_major": 2,
       "version_minor": 0
      },
      "text/plain": [
       "FloatSlider(value=1e-05, continuous_update=False, description='34', max=0.9999, min=1e-05, readout_format='.5f…"
      ]
     },
     "metadata": {},
     "output_type": "display_data"
    },
    {
     "data": {
      "application/vnd.jupyter.widget-view+json": {
       "model_id": "c95aa51014fb4f4291f18f013692705b",
       "version_major": 2,
       "version_minor": 0
      },
      "text/plain": [
       "FloatSlider(value=1e-05, continuous_update=False, description='35', max=0.9999, min=1e-05, readout_format='.5f…"
      ]
     },
     "metadata": {},
     "output_type": "display_data"
    },
    {
     "data": {
      "application/vnd.jupyter.widget-view+json": {
       "model_id": "7afccdd503934bcba916e613290ed256",
       "version_major": 2,
       "version_minor": 0
      },
      "text/plain": [
       "FloatSlider(value=1e-05, continuous_update=False, description='36', max=0.9999, min=1e-05, readout_format='.5f…"
      ]
     },
     "metadata": {},
     "output_type": "display_data"
    },
    {
     "data": {
      "application/vnd.jupyter.widget-view+json": {
       "model_id": "5de22dbdfde14f01825e8a519fc397a7",
       "version_major": 2,
       "version_minor": 0
      },
      "text/plain": [
       "FloatSlider(value=1e-05, continuous_update=False, description='37', max=0.9999, min=1e-05, readout_format='.5f…"
      ]
     },
     "metadata": {},
     "output_type": "display_data"
    },
    {
     "data": {
      "application/vnd.jupyter.widget-view+json": {
       "model_id": "a8ba669976a64e318e34f4204bb42865",
       "version_major": 2,
       "version_minor": 0
      },
      "text/plain": [
       "FloatSlider(value=1e-05, continuous_update=False, description='38', max=0.9999, min=1e-05, readout_format='.5f…"
      ]
     },
     "metadata": {},
     "output_type": "display_data"
    },
    {
     "data": {
      "application/vnd.jupyter.widget-view+json": {
       "model_id": "caf1b79acaa141f7872f2e56acbb339d",
       "version_major": 2,
       "version_minor": 0
      },
      "text/plain": [
       "FloatSlider(value=1e-05, continuous_update=False, description='39', max=0.9999, min=1e-05, readout_format='.5f…"
      ]
     },
     "metadata": {},
     "output_type": "display_data"
    },
    {
     "data": {
      "application/vnd.jupyter.widget-view+json": {
       "model_id": "7f283c01edcf4bb89aa7b4ae2c158985",
       "version_major": 2,
       "version_minor": 0
      },
      "text/plain": [
       "FloatSlider(value=1e-05, continuous_update=False, description='40', max=0.9999, min=1e-05, readout_format='.5f…"
      ]
     },
     "metadata": {},
     "output_type": "display_data"
    },
    {
     "data": {
      "application/vnd.jupyter.widget-view+json": {
       "model_id": "88862e57e95d4ab0a29909e190e77ba0",
       "version_major": 2,
       "version_minor": 0
      },
      "text/plain": [
       "FloatSlider(value=1e-05, continuous_update=False, description='41', max=0.9999, min=1e-05, readout_format='.5f…"
      ]
     },
     "metadata": {},
     "output_type": "display_data"
    },
    {
     "data": {
      "application/vnd.jupyter.widget-view+json": {
       "model_id": "9fa3b5d277254870be64797963dec6e6",
       "version_major": 2,
       "version_minor": 0
      },
      "text/plain": [
       "FloatSlider(value=1e-05, continuous_update=False, description='42', max=0.9999, min=1e-05, readout_format='.5f…"
      ]
     },
     "metadata": {},
     "output_type": "display_data"
    },
    {
     "data": {
      "application/vnd.jupyter.widget-view+json": {
       "model_id": "b748e6ec0e2c43e99c644b16d2bd8e15",
       "version_major": 2,
       "version_minor": 0
      },
      "text/plain": [
       "FloatSlider(value=1e-05, continuous_update=False, description='43', max=0.9999, min=1e-05, readout_format='.5f…"
      ]
     },
     "metadata": {},
     "output_type": "display_data"
    },
    {
     "data": {
      "application/vnd.jupyter.widget-view+json": {
       "model_id": "326521fe49f94826a92d08e2ce851fd4",
       "version_major": 2,
       "version_minor": 0
      },
      "text/plain": [
       "FloatSlider(value=1e-05, continuous_update=False, description='44', max=0.9999, min=1e-05, readout_format='.5f…"
      ]
     },
     "metadata": {},
     "output_type": "display_data"
    },
    {
     "data": {
      "application/vnd.jupyter.widget-view+json": {
       "model_id": "bb87c229a00745d7b38b8e34766bf92b",
       "version_major": 2,
       "version_minor": 0
      },
      "text/plain": [
       "FloatSlider(value=1e-05, continuous_update=False, description='45', max=0.9999, min=1e-05, readout_format='.5f…"
      ]
     },
     "metadata": {},
     "output_type": "display_data"
    },
    {
     "data": {
      "application/vnd.jupyter.widget-view+json": {
       "model_id": "3a33648c4d9a4b0b9642a50e04dc0a83",
       "version_major": 2,
       "version_minor": 0
      },
      "text/plain": [
       "FloatSlider(value=1e-05, continuous_update=False, description='46', max=0.9999, min=1e-05, readout_format='.5f…"
      ]
     },
     "metadata": {},
     "output_type": "display_data"
    },
    {
     "data": {
      "application/vnd.jupyter.widget-view+json": {
       "model_id": "089742caf6eb4574ba94e18d71f13508",
       "version_major": 2,
       "version_minor": 0
      },
      "text/plain": [
       "FloatSlider(value=1e-05, continuous_update=False, description='47', max=0.9999, min=1e-05, readout_format='.5f…"
      ]
     },
     "metadata": {},
     "output_type": "display_data"
    },
    {
     "data": {
      "application/vnd.jupyter.widget-view+json": {
       "model_id": "b1dc6d85d5c145c4b855b2b9b79f9cab",
       "version_major": 2,
       "version_minor": 0
      },
      "text/plain": [
       "FloatSlider(value=1e-05, continuous_update=False, description='48', max=0.9999, min=1e-05, readout_format='.5f…"
      ]
     },
     "metadata": {},
     "output_type": "display_data"
    },
    {
     "data": {
      "application/vnd.jupyter.widget-view+json": {
       "model_id": "ca6d76a8b3a14d71b9bfcea40cc6c65b",
       "version_major": 2,
       "version_minor": 0
      },
      "text/plain": [
       "FloatSlider(value=1e-05, continuous_update=False, description='49', max=0.9999, min=1e-05, readout_format='.5f…"
      ]
     },
     "metadata": {},
     "output_type": "display_data"
    },
    {
     "data": {
      "application/vnd.jupyter.widget-view+json": {
       "model_id": "af93da85a8ac4059a613e4c5e6984685",
       "version_major": 2,
       "version_minor": 0
      },
      "text/plain": [
       "FloatSlider(value=1e-05, continuous_update=False, description='50', max=0.9999, min=1e-05, readout_format='.5f…"
      ]
     },
     "metadata": {},
     "output_type": "display_data"
    },
    {
     "data": {
      "application/vnd.jupyter.widget-view+json": {
       "model_id": "46680e2423d54b29a3e9e8039355c10d",
       "version_major": 2,
       "version_minor": 0
      },
      "text/plain": [
       "FloatSlider(value=1e-05, continuous_update=False, description='51', max=0.9999, min=1e-05, readout_format='.5f…"
      ]
     },
     "metadata": {},
     "output_type": "display_data"
    },
    {
     "data": {
      "application/vnd.jupyter.widget-view+json": {
       "model_id": "a7d97b27ff8741fd89783e0d17c767da",
       "version_major": 2,
       "version_minor": 0
      },
      "text/plain": [
       "FloatSlider(value=1e-05, continuous_update=False, description='52', max=0.9999, min=1e-05, readout_format='.5f…"
      ]
     },
     "metadata": {},
     "output_type": "display_data"
    },
    {
     "data": {
      "application/vnd.jupyter.widget-view+json": {
       "model_id": "35b2409f44d3411db0a6e197baa6dd75",
       "version_major": 2,
       "version_minor": 0
      },
      "text/plain": [
       "FloatSlider(value=1e-05, continuous_update=False, description='53', max=0.9999, min=1e-05, readout_format='.5f…"
      ]
     },
     "metadata": {},
     "output_type": "display_data"
    },
    {
     "data": {
      "application/vnd.jupyter.widget-view+json": {
       "model_id": "28f8ca4f2d6a46fb97c7a0e8694a201a",
       "version_major": 2,
       "version_minor": 0
      },
      "text/plain": [
       "FloatSlider(value=1e-05, continuous_update=False, description='54', max=0.9999, min=1e-05, readout_format='.5f…"
      ]
     },
     "metadata": {},
     "output_type": "display_data"
    },
    {
     "data": {
      "application/vnd.jupyter.widget-view+json": {
       "model_id": "bff484dccc334da8a76e60e597661efe",
       "version_major": 2,
       "version_minor": 0
      },
      "text/plain": [
       "FloatSlider(value=1e-05, continuous_update=False, description='55', max=0.9999, min=1e-05, readout_format='.5f…"
      ]
     },
     "metadata": {},
     "output_type": "display_data"
    },
    {
     "data": {
      "application/vnd.jupyter.widget-view+json": {
       "model_id": "a410f44276894e23b89e3d2327dae6a4",
       "version_major": 2,
       "version_minor": 0
      },
      "text/plain": [
       "FloatSlider(value=1e-05, continuous_update=False, description='56', max=0.9999, min=1e-05, readout_format='.5f…"
      ]
     },
     "metadata": {},
     "output_type": "display_data"
    },
    {
     "data": {
      "application/vnd.jupyter.widget-view+json": {
       "model_id": "58cea1d3c3e847df8cf9e0c735403e8f",
       "version_major": 2,
       "version_minor": 0
      },
      "text/plain": [
       "FloatSlider(value=1e-05, continuous_update=False, description='57', max=0.9999, min=1e-05, readout_format='.5f…"
      ]
     },
     "metadata": {},
     "output_type": "display_data"
    },
    {
     "data": {
      "application/vnd.jupyter.widget-view+json": {
       "model_id": "c8f9c6754a7640fe906792b580663e6d",
       "version_major": 2,
       "version_minor": 0
      },
      "text/plain": [
       "FloatSlider(value=1e-05, continuous_update=False, description='58', max=0.9999, min=1e-05, readout_format='.5f…"
      ]
     },
     "metadata": {},
     "output_type": "display_data"
    },
    {
     "data": {
      "application/vnd.jupyter.widget-view+json": {
       "model_id": "4459859de5b5460394ab0a1294102923",
       "version_major": 2,
       "version_minor": 0
      },
      "text/plain": [
       "FloatSlider(value=1e-05, continuous_update=False, description='59', max=0.9999, min=1e-05, readout_format='.5f…"
      ]
     },
     "metadata": {},
     "output_type": "display_data"
    },
    {
     "data": {
      "application/vnd.jupyter.widget-view+json": {
       "model_id": "ff4f8448305a4fcfb3ee3696243bc0ab",
       "version_major": 2,
       "version_minor": 0
      },
      "text/plain": [
       "FloatSlider(value=1e-05, continuous_update=False, description='60', max=0.9999, min=1e-05, readout_format='.5f…"
      ]
     },
     "metadata": {},
     "output_type": "display_data"
    },
    {
     "data": {
      "application/vnd.jupyter.widget-view+json": {
       "model_id": "04558355aaa44271baac01c74df57ecf",
       "version_major": 2,
       "version_minor": 0
      },
      "text/plain": [
       "FloatSlider(value=1e-05, continuous_update=False, description='61', max=0.9999, min=1e-05, readout_format='.5f…"
      ]
     },
     "metadata": {},
     "output_type": "display_data"
    },
    {
     "data": {
      "application/vnd.jupyter.widget-view+json": {
       "model_id": "5158e279c64e47fda2b6bf5795bca286",
       "version_major": 2,
       "version_minor": 0
      },
      "text/plain": [
       "FloatSlider(value=1e-05, continuous_update=False, description='62', max=0.9999, min=1e-05, readout_format='.5f…"
      ]
     },
     "metadata": {},
     "output_type": "display_data"
    },
    {
     "data": {
      "application/vnd.jupyter.widget-view+json": {
       "model_id": "7c7a75d977544d86837e8e9fe546fb81",
       "version_major": 2,
       "version_minor": 0
      },
      "text/plain": [
       "FloatSlider(value=1e-05, continuous_update=False, description='63', max=0.9999, min=1e-05, readout_format='.5f…"
      ]
     },
     "metadata": {},
     "output_type": "display_data"
    },
    {
     "data": {
      "application/vnd.jupyter.widget-view+json": {
       "model_id": "86b2f450fbcf477d9294f834d4e2c7eb",
       "version_major": 2,
       "version_minor": 0
      },
      "text/plain": [
       "FloatSlider(value=1e-05, continuous_update=False, description='64', max=0.9999, min=1e-05, readout_format='.5f…"
      ]
     },
     "metadata": {},
     "output_type": "display_data"
    },
    {
     "data": {
      "application/vnd.jupyter.widget-view+json": {
       "model_id": "7099893eb19c45c8aae28bf616008afb",
       "version_major": 2,
       "version_minor": 0
      },
      "text/plain": [
       "FloatSlider(value=1e-05, continuous_update=False, description='65', max=0.9999, min=1e-05, readout_format='.5f…"
      ]
     },
     "metadata": {},
     "output_type": "display_data"
    },
    {
     "data": {
      "application/vnd.jupyter.widget-view+json": {
       "model_id": "ddf87307d4e64b33b150c8ef51104292",
       "version_major": 2,
       "version_minor": 0
      },
      "text/plain": [
       "FloatSlider(value=1e-05, continuous_update=False, description='66', max=0.9999, min=1e-05, readout_format='.5f…"
      ]
     },
     "metadata": {},
     "output_type": "display_data"
    },
    {
     "data": {
      "application/vnd.jupyter.widget-view+json": {
       "model_id": "65d94b9aa06a4c858749688010523858",
       "version_major": 2,
       "version_minor": 0
      },
      "text/plain": [
       "FloatSlider(value=1e-05, continuous_update=False, description='67', max=0.9999, min=1e-05, readout_format='.5f…"
      ]
     },
     "metadata": {},
     "output_type": "display_data"
    },
    {
     "data": {
      "application/vnd.jupyter.widget-view+json": {
       "model_id": "30108994e23e4d028e59447bd4e0d2b1",
       "version_major": 2,
       "version_minor": 0
      },
      "text/plain": [
       "FloatSlider(value=1e-05, continuous_update=False, description='68', max=0.9999, min=1e-05, readout_format='.5f…"
      ]
     },
     "metadata": {},
     "output_type": "display_data"
    },
    {
     "data": {
      "application/vnd.jupyter.widget-view+json": {
       "model_id": "3f192ea5530a4b80991ea8edc90e21bb",
       "version_major": 2,
       "version_minor": 0
      },
      "text/plain": [
       "FloatSlider(value=1e-05, continuous_update=False, description='69', max=0.9999, min=1e-05, readout_format='.5f…"
      ]
     },
     "metadata": {},
     "output_type": "display_data"
    },
    {
     "data": {
      "application/vnd.jupyter.widget-view+json": {
       "model_id": "e2b503c5e6e54bffb2607bd26502c829",
       "version_major": 2,
       "version_minor": 0
      },
      "text/plain": [
       "FloatSlider(value=1e-05, continuous_update=False, description='70', max=0.9999, min=1e-05, readout_format='.5f…"
      ]
     },
     "metadata": {},
     "output_type": "display_data"
    },
    {
     "data": {
      "application/vnd.jupyter.widget-view+json": {
       "model_id": "f248fa58aed14e0dae29c2034380ea96",
       "version_major": 2,
       "version_minor": 0
      },
      "text/plain": [
       "FloatSlider(value=1e-05, continuous_update=False, description='71', max=0.9999, min=1e-05, readout_format='.5f…"
      ]
     },
     "metadata": {},
     "output_type": "display_data"
    },
    {
     "data": {
      "application/vnd.jupyter.widget-view+json": {
       "model_id": "fce48f7f37d241118b73ca756ee72280",
       "version_major": 2,
       "version_minor": 0
      },
      "text/plain": [
       "FloatSlider(value=1e-05, continuous_update=False, description='72', max=0.9999, min=1e-05, readout_format='.5f…"
      ]
     },
     "metadata": {},
     "output_type": "display_data"
    },
    {
     "data": {
      "application/vnd.jupyter.widget-view+json": {
       "model_id": "c3539cb111ed408c998d06c4f1c81ec8",
       "version_major": 2,
       "version_minor": 0
      },
      "text/plain": [
       "FloatSlider(value=1e-05, continuous_update=False, description='73', max=0.9999, min=1e-05, readout_format='.5f…"
      ]
     },
     "metadata": {},
     "output_type": "display_data"
    },
    {
     "data": {
      "application/vnd.jupyter.widget-view+json": {
       "model_id": "1d29946fd1a442299624b2316b52a07a",
       "version_major": 2,
       "version_minor": 0
      },
      "text/plain": [
       "FloatSlider(value=1e-05, continuous_update=False, description='74', max=0.9999, min=1e-05, readout_format='.5f…"
      ]
     },
     "metadata": {},
     "output_type": "display_data"
    },
    {
     "data": {
      "application/vnd.jupyter.widget-view+json": {
       "model_id": "3f939283dc514db38c5a400c435ea2b4",
       "version_major": 2,
       "version_minor": 0
      },
      "text/plain": [
       "FloatSlider(value=1e-05, continuous_update=False, description='75', max=0.9999, min=1e-05, readout_format='.5f…"
      ]
     },
     "metadata": {},
     "output_type": "display_data"
    },
    {
     "data": {
      "application/vnd.jupyter.widget-view+json": {
       "model_id": "de8eec365a91411788ccbbca4d9c9dc8",
       "version_major": 2,
       "version_minor": 0
      },
      "text/plain": [
       "FloatSlider(value=1e-05, continuous_update=False, description='76', max=0.9999, min=1e-05, readout_format='.5f…"
      ]
     },
     "metadata": {},
     "output_type": "display_data"
    },
    {
     "data": {
      "application/vnd.jupyter.widget-view+json": {
       "model_id": "fededd3bf22940698840e6fa74cc6cfc",
       "version_major": 2,
       "version_minor": 0
      },
      "text/plain": [
       "FloatSlider(value=1e-05, continuous_update=False, description='77', max=0.9999, min=1e-05, readout_format='.5f…"
      ]
     },
     "metadata": {},
     "output_type": "display_data"
    },
    {
     "data": {
      "application/vnd.jupyter.widget-view+json": {
       "model_id": "d8c58d2c384a4445a6fed1a8a820684b",
       "version_major": 2,
       "version_minor": 0
      },
      "text/plain": [
       "FloatSlider(value=1e-05, continuous_update=False, description='78', max=0.9999, min=1e-05, readout_format='.5f…"
      ]
     },
     "metadata": {},
     "output_type": "display_data"
    },
    {
     "data": {
      "application/vnd.jupyter.widget-view+json": {
       "model_id": "1a94b6caa8364cdc9c4a403c7759321c",
       "version_major": 2,
       "version_minor": 0
      },
      "text/plain": [
       "FloatSlider(value=1e-05, continuous_update=False, description='79', max=0.9999, min=1e-05, readout_format='.5f…"
      ]
     },
     "metadata": {},
     "output_type": "display_data"
    },
    {
     "data": {
      "application/vnd.jupyter.widget-view+json": {
       "model_id": "15b35d1a6f0b4213a3560f495bc3c956",
       "version_major": 2,
       "version_minor": 0
      },
      "text/plain": [
       "FloatSlider(value=1e-05, continuous_update=False, description='80', max=0.9999, min=1e-05, readout_format='.5f…"
      ]
     },
     "metadata": {},
     "output_type": "display_data"
    },
    {
     "data": {
      "application/vnd.jupyter.widget-view+json": {
       "model_id": "1cca99c7619c407c9795b4741faabd41",
       "version_major": 2,
       "version_minor": 0
      },
      "text/plain": [
       "FloatSlider(value=1e-05, continuous_update=False, description='81', max=0.9999, min=1e-05, readout_format='.5f…"
      ]
     },
     "metadata": {},
     "output_type": "display_data"
    },
    {
     "data": {
      "application/vnd.jupyter.widget-view+json": {
       "model_id": "e6a967d3a0dc40df8284a6a3c6c5a3c0",
       "version_major": 2,
       "version_minor": 0
      },
      "text/plain": [
       "FloatSlider(value=1e-05, continuous_update=False, description='82', max=0.9999, min=1e-05, readout_format='.5f…"
      ]
     },
     "metadata": {},
     "output_type": "display_data"
    },
    {
     "data": {
      "application/vnd.jupyter.widget-view+json": {
       "model_id": "43f98e8448d7427586a15175a303cc22",
       "version_major": 2,
       "version_minor": 0
      },
      "text/plain": [
       "FloatSlider(value=1e-05, continuous_update=False, description='83', max=0.9999, min=1e-05, readout_format='.5f…"
      ]
     },
     "metadata": {},
     "output_type": "display_data"
    },
    {
     "data": {
      "application/vnd.jupyter.widget-view+json": {
       "model_id": "7c725aa1defe4842829cf7450ce68fcd",
       "version_major": 2,
       "version_minor": 0
      },
      "text/plain": [
       "FloatSlider(value=1e-05, continuous_update=False, description='84', max=0.9999, min=1e-05, readout_format='.5f…"
      ]
     },
     "metadata": {},
     "output_type": "display_data"
    },
    {
     "data": {
      "application/vnd.jupyter.widget-view+json": {
       "model_id": "9767644df8e547ca91e17303dd3b25d7",
       "version_major": 2,
       "version_minor": 0
      },
      "text/plain": [
       "FloatSlider(value=1e-05, continuous_update=False, description='85', max=0.9999, min=1e-05, readout_format='.5f…"
      ]
     },
     "metadata": {},
     "output_type": "display_data"
    },
    {
     "data": {
      "application/vnd.jupyter.widget-view+json": {
       "model_id": "b859481313bd413284ab3a5abc6fda33",
       "version_major": 2,
       "version_minor": 0
      },
      "text/plain": [
       "FloatSlider(value=1e-05, continuous_update=False, description='86', max=0.9999, min=1e-05, readout_format='.5f…"
      ]
     },
     "metadata": {},
     "output_type": "display_data"
    },
    {
     "data": {
      "application/vnd.jupyter.widget-view+json": {
       "model_id": "77e574c2a6704bab8df38959ed0149d7",
       "version_major": 2,
       "version_minor": 0
      },
      "text/plain": [
       "FloatSlider(value=1e-05, continuous_update=False, description='87', max=0.9999, min=1e-05, readout_format='.5f…"
      ]
     },
     "metadata": {},
     "output_type": "display_data"
    },
    {
     "data": {
      "application/vnd.jupyter.widget-view+json": {
       "model_id": "d8ad23997709405797ed5cd21be0dfe8",
       "version_major": 2,
       "version_minor": 0
      },
      "text/plain": [
       "FloatSlider(value=1e-05, continuous_update=False, description='88', max=0.9999, min=1e-05, readout_format='.5f…"
      ]
     },
     "metadata": {},
     "output_type": "display_data"
    },
    {
     "data": {
      "application/vnd.jupyter.widget-view+json": {
       "model_id": "455a7d0b573547f3bc2f5460e6bf85e3",
       "version_major": 2,
       "version_minor": 0
      },
      "text/plain": [
       "FloatSlider(value=1e-05, continuous_update=False, description='89', max=0.9999, min=1e-05, readout_format='.5f…"
      ]
     },
     "metadata": {},
     "output_type": "display_data"
    },
    {
     "data": {
      "application/vnd.jupyter.widget-view+json": {
       "model_id": "8b7d5583e5ed433bb24c85858a1ae2b5",
       "version_major": 2,
       "version_minor": 0
      },
      "text/plain": [
       "FloatSlider(value=1e-05, continuous_update=False, description='90', max=0.9999, min=1e-05, readout_format='.5f…"
      ]
     },
     "metadata": {},
     "output_type": "display_data"
    },
    {
     "data": {
      "application/vnd.jupyter.widget-view+json": {
       "model_id": "c3cae23f34234ea4b8f932f36104f544",
       "version_major": 2,
       "version_minor": 0
      },
      "text/plain": [
       "FloatSlider(value=1e-05, continuous_update=False, description='91', max=0.9999, min=1e-05, readout_format='.5f…"
      ]
     },
     "metadata": {},
     "output_type": "display_data"
    },
    {
     "data": {
      "application/vnd.jupyter.widget-view+json": {
       "model_id": "6c61c03ae5c240e48db22e07180bd3f2",
       "version_major": 2,
       "version_minor": 0
      },
      "text/plain": [
       "FloatSlider(value=1e-05, continuous_update=False, description='92', max=0.9999, min=1e-05, readout_format='.5f…"
      ]
     },
     "metadata": {},
     "output_type": "display_data"
    },
    {
     "data": {
      "application/vnd.jupyter.widget-view+json": {
       "model_id": "af25dbf01aa64af7a6375629c59b7b77",
       "version_major": 2,
       "version_minor": 0
      },
      "text/plain": [
       "FloatSlider(value=1e-05, continuous_update=False, description='93', max=0.9999, min=1e-05, readout_format='.5f…"
      ]
     },
     "metadata": {},
     "output_type": "display_data"
    },
    {
     "data": {
      "application/vnd.jupyter.widget-view+json": {
       "model_id": "271181237d2840f49da913e9b2006125",
       "version_major": 2,
       "version_minor": 0
      },
      "text/plain": [
       "FloatSlider(value=1e-05, continuous_update=False, description='94', max=0.9999, min=1e-05, readout_format='.5f…"
      ]
     },
     "metadata": {},
     "output_type": "display_data"
    },
    {
     "data": {
      "application/vnd.jupyter.widget-view+json": {
       "model_id": "1d1c07a70db34d92a27b1bf551402278",
       "version_major": 2,
       "version_minor": 0
      },
      "text/plain": [
       "FloatSlider(value=1e-05, continuous_update=False, description='95', max=0.9999, min=1e-05, readout_format='.5f…"
      ]
     },
     "metadata": {},
     "output_type": "display_data"
    },
    {
     "data": {
      "application/vnd.jupyter.widget-view+json": {
       "model_id": "483c78ef37ff441680d9040a805b48fd",
       "version_major": 2,
       "version_minor": 0
      },
      "text/plain": [
       "FloatSlider(value=1e-05, continuous_update=False, description='96', max=0.9999, min=1e-05, readout_format='.5f…"
      ]
     },
     "metadata": {},
     "output_type": "display_data"
    },
    {
     "data": {
      "application/vnd.jupyter.widget-view+json": {
       "model_id": "2f21c516023b41a79626005349731c3f",
       "version_major": 2,
       "version_minor": 0
      },
      "text/plain": [
       "FloatSlider(value=1e-05, continuous_update=False, description='97', max=0.9999, min=1e-05, readout_format='.5f…"
      ]
     },
     "metadata": {},
     "output_type": "display_data"
    },
    {
     "data": {
      "application/vnd.jupyter.widget-view+json": {
       "model_id": "2a0e0fa15488405ea351177276cb2cd5",
       "version_major": 2,
       "version_minor": 0
      },
      "text/plain": [
       "FloatSlider(value=1e-05, continuous_update=False, description='98', max=0.9999, min=1e-05, readout_format='.5f…"
      ]
     },
     "metadata": {},
     "output_type": "display_data"
    },
    {
     "data": {
      "application/vnd.jupyter.widget-view+json": {
       "model_id": "2d39d90c0db948ddb9f0c4e8eb8c96b1",
       "version_major": 2,
       "version_minor": 0
      },
      "text/plain": [
       "FloatSlider(value=1e-05, continuous_update=False, description='99', max=0.9999, min=1e-05, readout_format='.5f…"
      ]
     },
     "metadata": {},
     "output_type": "display_data"
    },
    {
     "data": {
      "application/vnd.jupyter.widget-view+json": {
       "model_id": "0e5355c705734e6fa1378630ea38dea2",
       "version_major": 2,
       "version_minor": 0
      },
      "text/plain": [
       "FloatSlider(value=1e-05, continuous_update=False, description='100', max=0.9999, min=1e-05, readout_format='.5…"
      ]
     },
     "metadata": {},
     "output_type": "display_data"
    },
    {
     "data": {
      "application/vnd.jupyter.widget-view+json": {
       "model_id": "5f5e1b3e004e4baea836bf1a3ba80ef6",
       "version_major": 2,
       "version_minor": 0
      },
      "text/plain": [
       "FloatSlider(value=1e-05, continuous_update=False, description='101', max=0.9999, min=1e-05, readout_format='.5…"
      ]
     },
     "metadata": {},
     "output_type": "display_data"
    },
    {
     "data": {
      "application/vnd.jupyter.widget-view+json": {
       "model_id": "b1127a2f71d44b82aed12b1521d2ddf4",
       "version_major": 2,
       "version_minor": 0
      },
      "text/plain": [
       "FloatSlider(value=1e-05, continuous_update=False, description='102', max=0.9999, min=1e-05, readout_format='.5…"
      ]
     },
     "metadata": {},
     "output_type": "display_data"
    },
    {
     "data": {
      "application/vnd.jupyter.widget-view+json": {
       "model_id": "e737184db14e4048b2373303fa23a695",
       "version_major": 2,
       "version_minor": 0
      },
      "text/plain": [
       "FloatSlider(value=1e-05, continuous_update=False, description='103', max=0.9999, min=1e-05, readout_format='.5…"
      ]
     },
     "metadata": {},
     "output_type": "display_data"
    },
    {
     "data": {
      "application/vnd.jupyter.widget-view+json": {
       "model_id": "f74c74926bac4aca9513631bf8a7bead",
       "version_major": 2,
       "version_minor": 0
      },
      "text/plain": [
       "FloatSlider(value=1e-05, continuous_update=False, description='104', max=0.9999, min=1e-05, readout_format='.5…"
      ]
     },
     "metadata": {},
     "output_type": "display_data"
    },
    {
     "data": {
      "application/vnd.jupyter.widget-view+json": {
       "model_id": "1c314a45bd9b470795f0af1378c0e6be",
       "version_major": 2,
       "version_minor": 0
      },
      "text/plain": [
       "FloatSlider(value=1e-05, continuous_update=False, description='105', max=0.9999, min=1e-05, readout_format='.5…"
      ]
     },
     "metadata": {},
     "output_type": "display_data"
    },
    {
     "data": {
      "application/vnd.jupyter.widget-view+json": {
       "model_id": "c954d0bc504b460cb948f557983dbdc2",
       "version_major": 2,
       "version_minor": 0
      },
      "text/plain": [
       "FloatSlider(value=1e-05, continuous_update=False, description='106', max=0.9999, min=1e-05, readout_format='.5…"
      ]
     },
     "metadata": {},
     "output_type": "display_data"
    },
    {
     "data": {
      "application/vnd.jupyter.widget-view+json": {
       "model_id": "b39710ede49f4d66accceeb00db87f12",
       "version_major": 2,
       "version_minor": 0
      },
      "text/plain": [
       "FloatSlider(value=1e-05, continuous_update=False, description='107', max=0.9999, min=1e-05, readout_format='.5…"
      ]
     },
     "metadata": {},
     "output_type": "display_data"
    },
    {
     "data": {
      "application/vnd.jupyter.widget-view+json": {
       "model_id": "89ea01203ad84ace885c507373c587cc",
       "version_major": 2,
       "version_minor": 0
      },
      "text/plain": [
       "FloatSlider(value=1e-05, continuous_update=False, description='108', max=0.9999, min=1e-05, readout_format='.5…"
      ]
     },
     "metadata": {},
     "output_type": "display_data"
    },
    {
     "data": {
      "application/vnd.jupyter.widget-view+json": {
       "model_id": "57406d3ea4174aa7a9acd59edbe860f6",
       "version_major": 2,
       "version_minor": 0
      },
      "text/plain": [
       "FloatSlider(value=1e-05, continuous_update=False, description='109', max=0.9999, min=1e-05, readout_format='.5…"
      ]
     },
     "metadata": {},
     "output_type": "display_data"
    },
    {
     "data": {
      "application/vnd.jupyter.widget-view+json": {
       "model_id": "1489dbbd409e40699aacd30783160b49",
       "version_major": 2,
       "version_minor": 0
      },
      "text/plain": [
       "FloatSlider(value=1e-05, continuous_update=False, description='110', max=0.9999, min=1e-05, readout_format='.5…"
      ]
     },
     "metadata": {},
     "output_type": "display_data"
    },
    {
     "data": {
      "application/vnd.jupyter.widget-view+json": {
       "model_id": "96bb4c717b8541629a33c35d63b66418",
       "version_major": 2,
       "version_minor": 0
      },
      "text/plain": [
       "FloatSlider(value=1e-05, continuous_update=False, description='111', max=0.9999, min=1e-05, readout_format='.5…"
      ]
     },
     "metadata": {},
     "output_type": "display_data"
    },
    {
     "data": {
      "application/vnd.jupyter.widget-view+json": {
       "model_id": "5f7060b982384f68afd9ca4e55e12e1d",
       "version_major": 2,
       "version_minor": 0
      },
      "text/plain": [
       "FloatSlider(value=1e-05, continuous_update=False, description='112', max=0.9999, min=1e-05, readout_format='.5…"
      ]
     },
     "metadata": {},
     "output_type": "display_data"
    },
    {
     "data": {
      "application/vnd.jupyter.widget-view+json": {
       "model_id": "e560e6a358c04cb894698452e9a532a7",
       "version_major": 2,
       "version_minor": 0
      },
      "text/plain": [
       "FloatSlider(value=1e-05, continuous_update=False, description='113', max=0.9999, min=1e-05, readout_format='.5…"
      ]
     },
     "metadata": {},
     "output_type": "display_data"
    },
    {
     "data": {
      "application/vnd.jupyter.widget-view+json": {
       "model_id": "327748686a50427b93651253a8617b3c",
       "version_major": 2,
       "version_minor": 0
      },
      "text/plain": [
       "FloatSlider(value=1e-05, continuous_update=False, description='114', max=0.9999, min=1e-05, readout_format='.5…"
      ]
     },
     "metadata": {},
     "output_type": "display_data"
    },
    {
     "data": {
      "application/vnd.jupyter.widget-view+json": {
       "model_id": "c7b862ea87ec418794a926a940414050",
       "version_major": 2,
       "version_minor": 0
      },
      "text/plain": [
       "FloatSlider(value=1e-05, continuous_update=False, description='115', max=0.9999, min=1e-05, readout_format='.5…"
      ]
     },
     "metadata": {},
     "output_type": "display_data"
    },
    {
     "data": {
      "application/vnd.jupyter.widget-view+json": {
       "model_id": "c995f19f0b4646e896aa1a3d4e345c07",
       "version_major": 2,
       "version_minor": 0
      },
      "text/plain": [
       "FloatSlider(value=1e-05, continuous_update=False, description='116', max=0.9999, min=1e-05, readout_format='.5…"
      ]
     },
     "metadata": {},
     "output_type": "display_data"
    },
    {
     "data": {
      "application/vnd.jupyter.widget-view+json": {
       "model_id": "68d6147356674700b1cd64ec61a54dff",
       "version_major": 2,
       "version_minor": 0
      },
      "text/plain": [
       "FloatSlider(value=1e-05, continuous_update=False, description='117', max=0.9999, min=1e-05, readout_format='.5…"
      ]
     },
     "metadata": {},
     "output_type": "display_data"
    },
    {
     "data": {
      "application/vnd.jupyter.widget-view+json": {
       "model_id": "51a62ef3b2054b23bd27b45349e71856",
       "version_major": 2,
       "version_minor": 0
      },
      "text/plain": [
       "FloatSlider(value=1e-05, continuous_update=False, description='118', max=0.9999, min=1e-05, readout_format='.5…"
      ]
     },
     "metadata": {},
     "output_type": "display_data"
    },
    {
     "data": {
      "application/vnd.jupyter.widget-view+json": {
       "model_id": "8fe0eed0c499489a89d7ad781978bb99",
       "version_major": 2,
       "version_minor": 0
      },
      "text/plain": [
       "FloatSlider(value=1e-05, continuous_update=False, description='119', max=0.9999, min=1e-05, readout_format='.5…"
      ]
     },
     "metadata": {},
     "output_type": "display_data"
    },
    {
     "data": {
      "application/vnd.jupyter.widget-view+json": {
       "model_id": "5a2fde3ceb454162884722df1e91fa11",
       "version_major": 2,
       "version_minor": 0
      },
      "text/plain": [
       "FloatSlider(value=1e-05, continuous_update=False, description='120', max=0.9999, min=1e-05, readout_format='.5…"
      ]
     },
     "metadata": {},
     "output_type": "display_data"
    },
    {
     "data": {
      "application/vnd.jupyter.widget-view+json": {
       "model_id": "fc4a69e567944a51841e7408b4a8270d",
       "version_major": 2,
       "version_minor": 0
      },
      "text/plain": [
       "FloatSlider(value=1e-05, continuous_update=False, description='121', max=0.9999, min=1e-05, readout_format='.5…"
      ]
     },
     "metadata": {},
     "output_type": "display_data"
    },
    {
     "data": {
      "application/vnd.jupyter.widget-view+json": {
       "model_id": "fa357f421c3e44b8a771d9c36e55cd75",
       "version_major": 2,
       "version_minor": 0
      },
      "text/plain": [
       "FloatSlider(value=1e-05, continuous_update=False, description='122', max=0.9999, min=1e-05, readout_format='.5…"
      ]
     },
     "metadata": {},
     "output_type": "display_data"
    },
    {
     "data": {
      "application/vnd.jupyter.widget-view+json": {
       "model_id": "c9a44c7cfb3840cfa838f2e2fa54f463",
       "version_major": 2,
       "version_minor": 0
      },
      "text/plain": [
       "FloatSlider(value=1e-05, continuous_update=False, description='123', max=0.9999, min=1e-05, readout_format='.5…"
      ]
     },
     "metadata": {},
     "output_type": "display_data"
    },
    {
     "data": {
      "application/vnd.jupyter.widget-view+json": {
       "model_id": "3cd45edd1f054ea592548e5e5e0ecbdf",
       "version_major": 2,
       "version_minor": 0
      },
      "text/plain": [
       "FloatSlider(value=1e-05, continuous_update=False, description='124', max=0.9999, min=1e-05, readout_format='.5…"
      ]
     },
     "metadata": {},
     "output_type": "display_data"
    },
    {
     "data": {
      "application/vnd.jupyter.widget-view+json": {
       "model_id": "4cddfba51c434129aa819b77d69c48b0",
       "version_major": 2,
       "version_minor": 0
      },
      "text/plain": [
       "FloatSlider(value=1e-05, continuous_update=False, description='125', max=0.9999, min=1e-05, readout_format='.5…"
      ]
     },
     "metadata": {},
     "output_type": "display_data"
    },
    {
     "data": {
      "application/vnd.jupyter.widget-view+json": {
       "model_id": "20a0742bad804b368e94d1c7efa2a7f3",
       "version_major": 2,
       "version_minor": 0
      },
      "text/plain": [
       "FloatSlider(value=1e-05, continuous_update=False, description='126', max=0.9999, min=1e-05, readout_format='.5…"
      ]
     },
     "metadata": {},
     "output_type": "display_data"
    },
    {
     "data": {
      "application/vnd.jupyter.widget-view+json": {
       "model_id": "c45d2e2dd314446ca6f6f51eb66d2485",
       "version_major": 2,
       "version_minor": 0
      },
      "text/plain": [
       "FloatSlider(value=1e-05, continuous_update=False, description='127', max=0.9999, min=1e-05, readout_format='.5…"
      ]
     },
     "metadata": {},
     "output_type": "display_data"
    },
    {
     "data": {
      "application/vnd.jupyter.widget-view+json": {
       "model_id": "f2eccbfb120e4142aa4b5c271f0cb0fa",
       "version_major": 2,
       "version_minor": 0
      },
      "text/plain": [
       "FloatSlider(value=1e-05, continuous_update=False, description='128', max=0.9999, min=1e-05, readout_format='.5…"
      ]
     },
     "metadata": {},
     "output_type": "display_data"
    },
    {
     "data": {
      "application/vnd.jupyter.widget-view+json": {
       "model_id": "4efbd274638f41a2a85e0e89ee8b265e",
       "version_major": 2,
       "version_minor": 0
      },
      "text/plain": [
       "FloatSlider(value=1e-05, continuous_update=False, description='129', max=0.9999, min=1e-05, readout_format='.5…"
      ]
     },
     "metadata": {},
     "output_type": "display_data"
    },
    {
     "data": {
      "application/vnd.jupyter.widget-view+json": {
       "model_id": "8ed5488a2d3d4ad7bf6c2156e9fef2d5",
       "version_major": 2,
       "version_minor": 0
      },
      "text/plain": [
       "FloatSlider(value=1e-05, continuous_update=False, description='130', max=0.9999, min=1e-05, readout_format='.5…"
      ]
     },
     "metadata": {},
     "output_type": "display_data"
    },
    {
     "data": {
      "application/vnd.jupyter.widget-view+json": {
       "model_id": "6fba75b576b14cae95bb3ea67574b099",
       "version_major": 2,
       "version_minor": 0
      },
      "text/plain": [
       "FloatSlider(value=1e-05, continuous_update=False, description='131', max=0.9999, min=1e-05, readout_format='.5…"
      ]
     },
     "metadata": {},
     "output_type": "display_data"
    },
    {
     "data": {
      "application/vnd.jupyter.widget-view+json": {
       "model_id": "5e5532f038f54cea95a2911738e9a0cd",
       "version_major": 2,
       "version_minor": 0
      },
      "text/plain": [
       "FloatSlider(value=1e-05, continuous_update=False, description='132', max=0.9999, min=1e-05, readout_format='.5…"
      ]
     },
     "metadata": {},
     "output_type": "display_data"
    },
    {
     "data": {
      "application/vnd.jupyter.widget-view+json": {
       "model_id": "1a9eec2b5796450fb12cde28abb93ea6",
       "version_major": 2,
       "version_minor": 0
      },
      "text/plain": [
       "FloatSlider(value=1e-05, continuous_update=False, description='133', max=0.9999, min=1e-05, readout_format='.5…"
      ]
     },
     "metadata": {},
     "output_type": "display_data"
    },
    {
     "data": {
      "application/vnd.jupyter.widget-view+json": {
       "model_id": "2d01fdd111494ed1a9e7578a54087b28",
       "version_major": 2,
       "version_minor": 0
      },
      "text/plain": [
       "FloatSlider(value=1e-05, continuous_update=False, description='134', max=0.9999, min=1e-05, readout_format='.5…"
      ]
     },
     "metadata": {},
     "output_type": "display_data"
    },
    {
     "data": {
      "application/vnd.jupyter.widget-view+json": {
       "model_id": "885d167c8d794cd58a56486734ba6650",
       "version_major": 2,
       "version_minor": 0
      },
      "text/plain": [
       "FloatSlider(value=1e-05, continuous_update=False, description='135', max=0.9999, min=1e-05, readout_format='.5…"
      ]
     },
     "metadata": {},
     "output_type": "display_data"
    },
    {
     "data": {
      "application/vnd.jupyter.widget-view+json": {
       "model_id": "5012cf9f21cf44d8b8b66b8a7ec97759",
       "version_major": 2,
       "version_minor": 0
      },
      "text/plain": [
       "FloatSlider(value=1e-05, continuous_update=False, description='136', max=0.9999, min=1e-05, readout_format='.5…"
      ]
     },
     "metadata": {},
     "output_type": "display_data"
    },
    {
     "data": {
      "application/vnd.jupyter.widget-view+json": {
       "model_id": "062d7bb54e47448193bc612304fbbba5",
       "version_major": 2,
       "version_minor": 0
      },
      "text/plain": [
       "FloatSlider(value=1e-05, continuous_update=False, description='137', max=0.9999, min=1e-05, readout_format='.5…"
      ]
     },
     "metadata": {},
     "output_type": "display_data"
    },
    {
     "data": {
      "application/vnd.jupyter.widget-view+json": {
       "model_id": "2a5215555a2d4e67939d91a1cedc1ccd",
       "version_major": 2,
       "version_minor": 0
      },
      "text/plain": [
       "FloatSlider(value=1e-05, continuous_update=False, description='138', max=0.9999, min=1e-05, readout_format='.5…"
      ]
     },
     "metadata": {},
     "output_type": "display_data"
    },
    {
     "data": {
      "application/vnd.jupyter.widget-view+json": {
       "model_id": "70f9685ada9b44fa8c3a54c49e5debc3",
       "version_major": 2,
       "version_minor": 0
      },
      "text/plain": [
       "FloatSlider(value=1e-05, continuous_update=False, description='139', max=0.9999, min=1e-05, readout_format='.5…"
      ]
     },
     "metadata": {},
     "output_type": "display_data"
    },
    {
     "data": {
      "application/vnd.jupyter.widget-view+json": {
       "model_id": "38d37b0e9057444cad823f0d5b348e6b",
       "version_major": 2,
       "version_minor": 0
      },
      "text/plain": [
       "FloatSlider(value=1e-05, continuous_update=False, description='140', max=0.9999, min=1e-05, readout_format='.5…"
      ]
     },
     "metadata": {},
     "output_type": "display_data"
    },
    {
     "data": {
      "application/vnd.jupyter.widget-view+json": {
       "model_id": "a8f97355b4d5488ca2ec13015ea1b686",
       "version_major": 2,
       "version_minor": 0
      },
      "text/plain": [
       "FloatSlider(value=1e-05, continuous_update=False, description='141', max=0.9999, min=1e-05, readout_format='.5…"
      ]
     },
     "metadata": {},
     "output_type": "display_data"
    },
    {
     "data": {
      "application/vnd.jupyter.widget-view+json": {
       "model_id": "5daeeae3cccc4067ba017fb377d9db21",
       "version_major": 2,
       "version_minor": 0
      },
      "text/plain": [
       "FloatSlider(value=1e-05, continuous_update=False, description='142', max=0.9999, min=1e-05, readout_format='.5…"
      ]
     },
     "metadata": {},
     "output_type": "display_data"
    },
    {
     "data": {
      "application/vnd.jupyter.widget-view+json": {
       "model_id": "efa8205aa0904b549fed5339db7716af",
       "version_major": 2,
       "version_minor": 0
      },
      "text/plain": [
       "FloatSlider(value=1e-05, continuous_update=False, description='143', max=0.9999, min=1e-05, readout_format='.5…"
      ]
     },
     "metadata": {},
     "output_type": "display_data"
    },
    {
     "data": {
      "application/vnd.jupyter.widget-view+json": {
       "model_id": "5cb07ae7e213426c8b1779eeca0662e1",
       "version_major": 2,
       "version_minor": 0
      },
      "text/plain": [
       "FloatSlider(value=1e-05, continuous_update=False, description='144', max=0.9999, min=1e-05, readout_format='.5…"
      ]
     },
     "metadata": {},
     "output_type": "display_data"
    },
    {
     "data": {
      "application/vnd.jupyter.widget-view+json": {
       "model_id": "719fa2e393bb49d885f2276dfb9c7da0",
       "version_major": 2,
       "version_minor": 0
      },
      "text/plain": [
       "FloatSlider(value=1e-05, continuous_update=False, description='145', max=0.9999, min=1e-05, readout_format='.5…"
      ]
     },
     "metadata": {},
     "output_type": "display_data"
    },
    {
     "data": {
      "application/vnd.jupyter.widget-view+json": {
       "model_id": "e8715a8d00d84ece95bf674d2a715b10",
       "version_major": 2,
       "version_minor": 0
      },
      "text/plain": [
       "FloatSlider(value=1e-05, continuous_update=False, description='146', max=0.9999, min=1e-05, readout_format='.5…"
      ]
     },
     "metadata": {},
     "output_type": "display_data"
    },
    {
     "data": {
      "application/vnd.jupyter.widget-view+json": {
       "model_id": "1c91c04403794515834f14f78615483f",
       "version_major": 2,
       "version_minor": 0
      },
      "text/plain": [
       "FloatSlider(value=1e-05, continuous_update=False, description='147', max=0.9999, min=1e-05, readout_format='.5…"
      ]
     },
     "metadata": {},
     "output_type": "display_data"
    },
    {
     "data": {
      "application/vnd.jupyter.widget-view+json": {
       "model_id": "6d2c35d270564b0fb0fde7061e05acfa",
       "version_major": 2,
       "version_minor": 0
      },
      "text/plain": [
       "FloatSlider(value=1e-05, continuous_update=False, description='148', max=0.9999, min=1e-05, readout_format='.5…"
      ]
     },
     "metadata": {},
     "output_type": "display_data"
    },
    {
     "data": {
      "application/vnd.jupyter.widget-view+json": {
       "model_id": "fafa75f9deee4b94bf3abcbf67c46189",
       "version_major": 2,
       "version_minor": 0
      },
      "text/plain": [
       "FloatSlider(value=1e-05, continuous_update=False, description='149', max=0.9999, min=1e-05, readout_format='.5…"
      ]
     },
     "metadata": {},
     "output_type": "display_data"
    },
    {
     "data": {
      "application/vnd.jupyter.widget-view+json": {
       "model_id": "21c6a689e4134fc49cebab4e506389a5",
       "version_major": 2,
       "version_minor": 0
      },
      "text/plain": [
       "FloatSlider(value=1e-05, continuous_update=False, description='150', max=0.9999, min=1e-05, readout_format='.5…"
      ]
     },
     "metadata": {},
     "output_type": "display_data"
    },
    {
     "data": {
      "application/vnd.jupyter.widget-view+json": {
       "model_id": "c7dcf3396fc24c03aa42c690b13d8eca",
       "version_major": 2,
       "version_minor": 0
      },
      "text/plain": [
       "FloatSlider(value=1e-05, continuous_update=False, description='151', max=0.9999, min=1e-05, readout_format='.5…"
      ]
     },
     "metadata": {},
     "output_type": "display_data"
    },
    {
     "data": {
      "application/vnd.jupyter.widget-view+json": {
       "model_id": "e3bf6c2370cd416999e10afc1792696b",
       "version_major": 2,
       "version_minor": 0
      },
      "text/plain": [
       "FloatSlider(value=1e-05, continuous_update=False, description='152', max=0.9999, min=1e-05, readout_format='.5…"
      ]
     },
     "metadata": {},
     "output_type": "display_data"
    },
    {
     "data": {
      "application/vnd.jupyter.widget-view+json": {
       "model_id": "8edd35d8d9e14ffa91b19c984560afcc",
       "version_major": 2,
       "version_minor": 0
      },
      "text/plain": [
       "FloatSlider(value=1e-05, continuous_update=False, description='153', max=0.9999, min=1e-05, readout_format='.5…"
      ]
     },
     "metadata": {},
     "output_type": "display_data"
    },
    {
     "data": {
      "application/vnd.jupyter.widget-view+json": {
       "model_id": "c945a015fb884bc29dc3f86ba01748ad",
       "version_major": 2,
       "version_minor": 0
      },
      "text/plain": [
       "FloatSlider(value=1e-05, continuous_update=False, description='154', max=0.9999, min=1e-05, readout_format='.5…"
      ]
     },
     "metadata": {},
     "output_type": "display_data"
    },
    {
     "data": {
      "application/vnd.jupyter.widget-view+json": {
       "model_id": "4bbe2ce741be4ec1ac5371418e0df271",
       "version_major": 2,
       "version_minor": 0
      },
      "text/plain": [
       "FloatSlider(value=1e-05, continuous_update=False, description='155', max=0.9999, min=1e-05, readout_format='.5…"
      ]
     },
     "metadata": {},
     "output_type": "display_data"
    },
    {
     "data": {
      "application/vnd.jupyter.widget-view+json": {
       "model_id": "b3e66516936e405f846381b9f9044f71",
       "version_major": 2,
       "version_minor": 0
      },
      "text/plain": [
       "FloatSlider(value=1e-05, continuous_update=False, description='156', max=0.9999, min=1e-05, readout_format='.5…"
      ]
     },
     "metadata": {},
     "output_type": "display_data"
    },
    {
     "data": {
      "application/vnd.jupyter.widget-view+json": {
       "model_id": "37d20f00d2d242f391055f4822db19bb",
       "version_major": 2,
       "version_minor": 0
      },
      "text/plain": [
       "FloatSlider(value=1e-05, continuous_update=False, description='157', max=0.9999, min=1e-05, readout_format='.5…"
      ]
     },
     "metadata": {},
     "output_type": "display_data"
    },
    {
     "data": {
      "application/vnd.jupyter.widget-view+json": {
       "model_id": "55fc69aedc0e4a8f95a7dc11ad1cc0e6",
       "version_major": 2,
       "version_minor": 0
      },
      "text/plain": [
       "FloatSlider(value=1e-05, continuous_update=False, description='158', max=0.9999, min=1e-05, readout_format='.5…"
      ]
     },
     "metadata": {},
     "output_type": "display_data"
    },
    {
     "data": {
      "application/vnd.jupyter.widget-view+json": {
       "model_id": "87133407380c49b0b644b0a8d15a8ae0",
       "version_major": 2,
       "version_minor": 0
      },
      "text/plain": [
       "FloatSlider(value=1e-05, continuous_update=False, description='159', max=0.9999, min=1e-05, readout_format='.5…"
      ]
     },
     "metadata": {},
     "output_type": "display_data"
    },
    {
     "data": {
      "application/vnd.jupyter.widget-view+json": {
       "model_id": "60842572a56748218cfa78e7d3952a0f",
       "version_major": 2,
       "version_minor": 0
      },
      "text/plain": [
       "FloatSlider(value=1e-05, continuous_update=False, description='160', max=0.9999, min=1e-05, readout_format='.5…"
      ]
     },
     "metadata": {},
     "output_type": "display_data"
    },
    {
     "data": {
      "application/vnd.jupyter.widget-view+json": {
       "model_id": "4ad31ca4e47e4ca5b72b010629f9a564",
       "version_major": 2,
       "version_minor": 0
      },
      "text/plain": [
       "FloatSlider(value=1e-05, continuous_update=False, description='161', max=0.9999, min=1e-05, readout_format='.5…"
      ]
     },
     "metadata": {},
     "output_type": "display_data"
    },
    {
     "data": {
      "application/vnd.jupyter.widget-view+json": {
       "model_id": "f38a73a412824f0bb0de208eba1069b6",
       "version_major": 2,
       "version_minor": 0
      },
      "text/plain": [
       "FloatSlider(value=1e-05, continuous_update=False, description='162', max=0.9999, min=1e-05, readout_format='.5…"
      ]
     },
     "metadata": {},
     "output_type": "display_data"
    },
    {
     "data": {
      "application/vnd.jupyter.widget-view+json": {
       "model_id": "a6f8edf1b05d496aa091c8fb3495d465",
       "version_major": 2,
       "version_minor": 0
      },
      "text/plain": [
       "FloatSlider(value=1e-05, continuous_update=False, description='163', max=0.9999, min=1e-05, readout_format='.5…"
      ]
     },
     "metadata": {},
     "output_type": "display_data"
    },
    {
     "data": {
      "application/vnd.jupyter.widget-view+json": {
       "model_id": "57813cc402454182850d5ad7bb1aae51",
       "version_major": 2,
       "version_minor": 0
      },
      "text/plain": [
       "FloatSlider(value=1e-05, continuous_update=False, description='164', max=0.9999, min=1e-05, readout_format='.5…"
      ]
     },
     "metadata": {},
     "output_type": "display_data"
    },
    {
     "data": {
      "application/vnd.jupyter.widget-view+json": {
       "model_id": "7b7efd619f8946a4aeeb30e56d739702",
       "version_major": 2,
       "version_minor": 0
      },
      "text/plain": [
       "FloatSlider(value=1e-05, continuous_update=False, description='165', max=0.9999, min=1e-05, readout_format='.5…"
      ]
     },
     "metadata": {},
     "output_type": "display_data"
    },
    {
     "data": {
      "application/vnd.jupyter.widget-view+json": {
       "model_id": "3c2ccc7cfae747aead8bd616a0ac8975",
       "version_major": 2,
       "version_minor": 0
      },
      "text/plain": [
       "FloatSlider(value=1e-05, continuous_update=False, description='166', max=0.9999, min=1e-05, readout_format='.5…"
      ]
     },
     "metadata": {},
     "output_type": "display_data"
    },
    {
     "data": {
      "application/vnd.jupyter.widget-view+json": {
       "model_id": "3b707376e9b349a8911344c2791f5cfe",
       "version_major": 2,
       "version_minor": 0
      },
      "text/plain": [
       "FloatSlider(value=1e-05, continuous_update=False, description='167', max=0.9999, min=1e-05, readout_format='.5…"
      ]
     },
     "metadata": {},
     "output_type": "display_data"
    },
    {
     "data": {
      "application/vnd.jupyter.widget-view+json": {
       "model_id": "6f325e553dad40c9a7d6ef9ea3955d38",
       "version_major": 2,
       "version_minor": 0
      },
      "text/plain": [
       "FloatSlider(value=1e-05, continuous_update=False, description='168', max=0.9999, min=1e-05, readout_format='.5…"
      ]
     },
     "metadata": {},
     "output_type": "display_data"
    },
    {
     "data": {
      "application/vnd.jupyter.widget-view+json": {
       "model_id": "38515d36e7c64ed998075296f21fefa7",
       "version_major": 2,
       "version_minor": 0
      },
      "text/plain": [
       "FloatSlider(value=1e-05, continuous_update=False, description='169', max=0.9999, min=1e-05, readout_format='.5…"
      ]
     },
     "metadata": {},
     "output_type": "display_data"
    },
    {
     "data": {
      "application/vnd.jupyter.widget-view+json": {
       "model_id": "7555becc06e04691aa692b1f484025e4",
       "version_major": 2,
       "version_minor": 0
      },
      "text/plain": [
       "FloatSlider(value=1e-05, continuous_update=False, description='170', max=0.9999, min=1e-05, readout_format='.5…"
      ]
     },
     "metadata": {},
     "output_type": "display_data"
    },
    {
     "data": {
      "application/vnd.jupyter.widget-view+json": {
       "model_id": "5634286f0c1d49c09ced06740c556086",
       "version_major": 2,
       "version_minor": 0
      },
      "text/plain": [
       "FloatSlider(value=1e-05, continuous_update=False, description='171', max=0.9999, min=1e-05, readout_format='.5…"
      ]
     },
     "metadata": {},
     "output_type": "display_data"
    },
    {
     "data": {
      "application/vnd.jupyter.widget-view+json": {
       "model_id": "48350209fd9e4c94bdc135757e4be519",
       "version_major": 2,
       "version_minor": 0
      },
      "text/plain": [
       "FloatSlider(value=1e-05, continuous_update=False, description='172', max=0.9999, min=1e-05, readout_format='.5…"
      ]
     },
     "metadata": {},
     "output_type": "display_data"
    },
    {
     "data": {
      "application/vnd.jupyter.widget-view+json": {
       "model_id": "4ddb20600d2345c3b0ced6ee540eaea1",
       "version_major": 2,
       "version_minor": 0
      },
      "text/plain": [
       "FloatSlider(value=1e-05, continuous_update=False, description='173', max=0.9999, min=1e-05, readout_format='.5…"
      ]
     },
     "metadata": {},
     "output_type": "display_data"
    },
    {
     "data": {
      "application/vnd.jupyter.widget-view+json": {
       "model_id": "1c778288e41e4409b6e3bea3c73663d8",
       "version_major": 2,
       "version_minor": 0
      },
      "text/plain": [
       "FloatSlider(value=1e-05, continuous_update=False, description='174', max=0.9999, min=1e-05, readout_format='.5…"
      ]
     },
     "metadata": {},
     "output_type": "display_data"
    },
    {
     "data": {
      "application/vnd.jupyter.widget-view+json": {
       "model_id": "0c2ad3ae27e843c7a5827b3dfc261a07",
       "version_major": 2,
       "version_minor": 0
      },
      "text/plain": [
       "FloatSlider(value=1e-05, continuous_update=False, description='175', max=0.9999, min=1e-05, readout_format='.5…"
      ]
     },
     "metadata": {},
     "output_type": "display_data"
    },
    {
     "data": {
      "application/vnd.jupyter.widget-view+json": {
       "model_id": "f90260f460024f79ab6fb4b2a0491f78",
       "version_major": 2,
       "version_minor": 0
      },
      "text/plain": [
       "FloatSlider(value=1e-05, continuous_update=False, description='176', max=0.9999, min=1e-05, readout_format='.5…"
      ]
     },
     "metadata": {},
     "output_type": "display_data"
    },
    {
     "data": {
      "application/vnd.jupyter.widget-view+json": {
       "model_id": "28908a7b765f4ef8b5fa66e0c437d56b",
       "version_major": 2,
       "version_minor": 0
      },
      "text/plain": [
       "FloatSlider(value=1e-05, continuous_update=False, description='177', max=0.9999, min=1e-05, readout_format='.5…"
      ]
     },
     "metadata": {},
     "output_type": "display_data"
    },
    {
     "data": {
      "application/vnd.jupyter.widget-view+json": {
       "model_id": "fb6229c35d99449d958425e1fb730c31",
       "version_major": 2,
       "version_minor": 0
      },
      "text/plain": [
       "FloatSlider(value=1e-05, continuous_update=False, description='178', max=0.9999, min=1e-05, readout_format='.5…"
      ]
     },
     "metadata": {},
     "output_type": "display_data"
    },
    {
     "data": {
      "application/vnd.jupyter.widget-view+json": {
       "model_id": "fbdbaff8fb484a87a33c7ba9f3572107",
       "version_major": 2,
       "version_minor": 0
      },
      "text/plain": [
       "FloatSlider(value=1e-05, continuous_update=False, description='179', max=0.9999, min=1e-05, readout_format='.5…"
      ]
     },
     "metadata": {},
     "output_type": "display_data"
    },
    {
     "data": {
      "application/vnd.jupyter.widget-view+json": {
       "model_id": "5ee9a72c60184143aab4e89676a526c5",
       "version_major": 2,
       "version_minor": 0
      },
      "text/plain": [
       "FloatSlider(value=1e-05, continuous_update=False, description='180', max=0.9999, min=1e-05, readout_format='.5…"
      ]
     },
     "metadata": {},
     "output_type": "display_data"
    },
    {
     "data": {
      "application/vnd.jupyter.widget-view+json": {
       "model_id": "fac5ae6c797c4af989696697d6349a82",
       "version_major": 2,
       "version_minor": 0
      },
      "text/plain": [
       "FloatSlider(value=1e-05, continuous_update=False, description='181', max=0.9999, min=1e-05, readout_format='.5…"
      ]
     },
     "metadata": {},
     "output_type": "display_data"
    },
    {
     "data": {
      "application/vnd.jupyter.widget-view+json": {
       "model_id": "aeb926b363bd45aea56233288def5bd4",
       "version_major": 2,
       "version_minor": 0
      },
      "text/plain": [
       "FloatSlider(value=1e-05, continuous_update=False, description='182', max=0.9999, min=1e-05, readout_format='.5…"
      ]
     },
     "metadata": {},
     "output_type": "display_data"
    },
    {
     "data": {
      "application/vnd.jupyter.widget-view+json": {
       "model_id": "7444c2b465dc4d10af63921ec01da41f",
       "version_major": 2,
       "version_minor": 0
      },
      "text/plain": [
       "FloatSlider(value=1e-05, continuous_update=False, description='183', max=0.9999, min=1e-05, readout_format='.5…"
      ]
     },
     "metadata": {},
     "output_type": "display_data"
    },
    {
     "data": {
      "application/vnd.jupyter.widget-view+json": {
       "model_id": "03067bf86afb4b11a76d2e4fc85965bf",
       "version_major": 2,
       "version_minor": 0
      },
      "text/plain": [
       "FloatSlider(value=1e-05, continuous_update=False, description='184', max=0.9999, min=1e-05, readout_format='.5…"
      ]
     },
     "metadata": {},
     "output_type": "display_data"
    },
    {
     "data": {
      "application/vnd.jupyter.widget-view+json": {
       "model_id": "9cbdd52ca6ce48d988c728314db51bd1",
       "version_major": 2,
       "version_minor": 0
      },
      "text/plain": [
       "FloatSlider(value=1e-05, continuous_update=False, description='185', max=0.9999, min=1e-05, readout_format='.5…"
      ]
     },
     "metadata": {},
     "output_type": "display_data"
    },
    {
     "data": {
      "application/vnd.jupyter.widget-view+json": {
       "model_id": "2f912113ab944bd0a5e70b60fa8d1e26",
       "version_major": 2,
       "version_minor": 0
      },
      "text/plain": [
       "FloatSlider(value=1e-05, continuous_update=False, description='186', max=0.9999, min=1e-05, readout_format='.5…"
      ]
     },
     "metadata": {},
     "output_type": "display_data"
    },
    {
     "data": {
      "application/vnd.jupyter.widget-view+json": {
       "model_id": "3efb81b7d97e4e59bae69ede132dacd3",
       "version_major": 2,
       "version_minor": 0
      },
      "text/plain": [
       "FloatSlider(value=1e-05, continuous_update=False, description='187', max=0.9999, min=1e-05, readout_format='.5…"
      ]
     },
     "metadata": {},
     "output_type": "display_data"
    },
    {
     "data": {
      "application/vnd.jupyter.widget-view+json": {
       "model_id": "d8b35cf1df254e93ae802198997a087d",
       "version_major": 2,
       "version_minor": 0
      },
      "text/plain": [
       "FloatSlider(value=1e-05, continuous_update=False, description='188', max=0.9999, min=1e-05, readout_format='.5…"
      ]
     },
     "metadata": {},
     "output_type": "display_data"
    },
    {
     "data": {
      "application/vnd.jupyter.widget-view+json": {
       "model_id": "71631f61bb4440a084f793674ae4ccba",
       "version_major": 2,
       "version_minor": 0
      },
      "text/plain": [
       "FloatSlider(value=1e-05, continuous_update=False, description='189', max=0.9999, min=1e-05, readout_format='.5…"
      ]
     },
     "metadata": {},
     "output_type": "display_data"
    },
    {
     "data": {
      "application/vnd.jupyter.widget-view+json": {
       "model_id": "ee4c834739994099a50c6ff41467aca3",
       "version_major": 2,
       "version_minor": 0
      },
      "text/plain": [
       "FloatSlider(value=1e-05, continuous_update=False, description='190', max=0.9999, min=1e-05, readout_format='.5…"
      ]
     },
     "metadata": {},
     "output_type": "display_data"
    },
    {
     "data": {
      "application/vnd.jupyter.widget-view+json": {
       "model_id": "647b26b5aed54464964d6824902c81bc",
       "version_major": 2,
       "version_minor": 0
      },
      "text/plain": [
       "FloatSlider(value=1e-05, continuous_update=False, description='191', max=0.9999, min=1e-05, readout_format='.5…"
      ]
     },
     "metadata": {},
     "output_type": "display_data"
    },
    {
     "data": {
      "application/vnd.jupyter.widget-view+json": {
       "model_id": "95a85f5b70ef4c54a58df55ca8ed4182",
       "version_major": 2,
       "version_minor": 0
      },
      "text/plain": [
       "FloatSlider(value=1e-05, continuous_update=False, description='192', max=0.9999, min=1e-05, readout_format='.5…"
      ]
     },
     "metadata": {},
     "output_type": "display_data"
    },
    {
     "data": {
      "application/vnd.jupyter.widget-view+json": {
       "model_id": "7e4daed846644c9593195a3c8ed7b980",
       "version_major": 2,
       "version_minor": 0
      },
      "text/plain": [
       "FloatSlider(value=1e-05, continuous_update=False, description='193', max=0.9999, min=1e-05, readout_format='.5…"
      ]
     },
     "metadata": {},
     "output_type": "display_data"
    },
    {
     "data": {
      "application/vnd.jupyter.widget-view+json": {
       "model_id": "8e4ea041154341acb4325e7209b73bf4",
       "version_major": 2,
       "version_minor": 0
      },
      "text/plain": [
       "FloatSlider(value=1e-05, continuous_update=False, description='194', max=0.9999, min=1e-05, readout_format='.5…"
      ]
     },
     "metadata": {},
     "output_type": "display_data"
    },
    {
     "data": {
      "application/vnd.jupyter.widget-view+json": {
       "model_id": "f91191f37e754ee5889bf928631a74c7",
       "version_major": 2,
       "version_minor": 0
      },
      "text/plain": [
       "FloatSlider(value=1e-05, continuous_update=False, description='195', max=0.9999, min=1e-05, readout_format='.5…"
      ]
     },
     "metadata": {},
     "output_type": "display_data"
    },
    {
     "data": {
      "application/vnd.jupyter.widget-view+json": {
       "model_id": "e8a2460142d74c2b935e06a9e6d7e550",
       "version_major": 2,
       "version_minor": 0
      },
      "text/plain": [
       "FloatSlider(value=1e-05, continuous_update=False, description='196', max=0.9999, min=1e-05, readout_format='.5…"
      ]
     },
     "metadata": {},
     "output_type": "display_data"
    },
    {
     "data": {
      "application/vnd.jupyter.widget-view+json": {
       "model_id": "4d6674d1a0a4426f95e4548cbd92e1a5",
       "version_major": 2,
       "version_minor": 0
      },
      "text/plain": [
       "FloatSlider(value=1e-05, continuous_update=False, description='197', max=0.9999, min=1e-05, readout_format='.5…"
      ]
     },
     "metadata": {},
     "output_type": "display_data"
    },
    {
     "data": {
      "application/vnd.jupyter.widget-view+json": {
       "model_id": "fcc1bc0c04c548a7a56c698bf3ff6829",
       "version_major": 2,
       "version_minor": 0
      },
      "text/plain": [
       "FloatSlider(value=1e-05, continuous_update=False, description='198', max=0.9999, min=1e-05, readout_format='.5…"
      ]
     },
     "metadata": {},
     "output_type": "display_data"
    },
    {
     "data": {
      "application/vnd.jupyter.widget-view+json": {
       "model_id": "cb195e288437447ca55031248c29ab2e",
       "version_major": 2,
       "version_minor": 0
      },
      "text/plain": [
       "FloatSlider(value=1e-05, continuous_update=False, description='199', max=0.9999, min=1e-05, readout_format='.5…"
      ]
     },
     "metadata": {},
     "output_type": "display_data"
    },
    {
     "data": {
      "application/vnd.jupyter.widget-view+json": {
       "model_id": "830b27e92c1d459391fff5172a74554d",
       "version_major": 2,
       "version_minor": 0
      },
      "text/plain": [
       "FloatSlider(value=1e-05, continuous_update=False, description='200', max=0.9999, min=1e-05, readout_format='.5…"
      ]
     },
     "metadata": {},
     "output_type": "display_data"
    },
    {
     "data": {
      "application/vnd.jupyter.widget-view+json": {
       "model_id": "f59940dea4dd4884b43636631b434ec1",
       "version_major": 2,
       "version_minor": 0
      },
      "text/plain": [
       "FloatSlider(value=1e-05, continuous_update=False, description='201', max=0.9999, min=1e-05, readout_format='.5…"
      ]
     },
     "metadata": {},
     "output_type": "display_data"
    },
    {
     "data": {
      "application/vnd.jupyter.widget-view+json": {
       "model_id": "06537bd55d9d496d81f4a705c7c618bc",
       "version_major": 2,
       "version_minor": 0
      },
      "text/plain": [
       "FloatSlider(value=1e-05, continuous_update=False, description='202', max=0.9999, min=1e-05, readout_format='.5…"
      ]
     },
     "metadata": {},
     "output_type": "display_data"
    },
    {
     "data": {
      "application/vnd.jupyter.widget-view+json": {
       "model_id": "089d5353c74d4eef82d4388a2bb65862",
       "version_major": 2,
       "version_minor": 0
      },
      "text/plain": [
       "FloatSlider(value=1e-05, continuous_update=False, description='203', max=0.9999, min=1e-05, readout_format='.5…"
      ]
     },
     "metadata": {},
     "output_type": "display_data"
    },
    {
     "data": {
      "application/vnd.jupyter.widget-view+json": {
       "model_id": "a3583d2c38b14b059f44019260bc2ff5",
       "version_major": 2,
       "version_minor": 0
      },
      "text/plain": [
       "FloatSlider(value=1e-05, continuous_update=False, description='204', max=0.9999, min=1e-05, readout_format='.5…"
      ]
     },
     "metadata": {},
     "output_type": "display_data"
    },
    {
     "data": {
      "application/vnd.jupyter.widget-view+json": {
       "model_id": "4bdb12f135f4404cb1268306f75cfb43",
       "version_major": 2,
       "version_minor": 0
      },
      "text/plain": [
       "FloatSlider(value=1e-05, continuous_update=False, description='205', max=0.9999, min=1e-05, readout_format='.5…"
      ]
     },
     "metadata": {},
     "output_type": "display_data"
    },
    {
     "data": {
      "application/vnd.jupyter.widget-view+json": {
       "model_id": "1b4bf686f9984c3a835d85d09cd34d18",
       "version_major": 2,
       "version_minor": 0
      },
      "text/plain": [
       "FloatSlider(value=1e-05, continuous_update=False, description='206', max=0.9999, min=1e-05, readout_format='.5…"
      ]
     },
     "metadata": {},
     "output_type": "display_data"
    },
    {
     "data": {
      "application/vnd.jupyter.widget-view+json": {
       "model_id": "cf3b3f569a9f47f69043230ef648bd8b",
       "version_major": 2,
       "version_minor": 0
      },
      "text/plain": [
       "FloatSlider(value=1e-05, continuous_update=False, description='207', max=0.9999, min=1e-05, readout_format='.5…"
      ]
     },
     "metadata": {},
     "output_type": "display_data"
    },
    {
     "data": {
      "application/vnd.jupyter.widget-view+json": {
       "model_id": "4eead195102c4a99a3babca87b47a042",
       "version_major": 2,
       "version_minor": 0
      },
      "text/plain": [
       "FloatSlider(value=1e-05, continuous_update=False, description='208', max=0.9999, min=1e-05, readout_format='.5…"
      ]
     },
     "metadata": {},
     "output_type": "display_data"
    },
    {
     "data": {
      "application/vnd.jupyter.widget-view+json": {
       "model_id": "5112ed8bbbdb45ecbacc7734e582f058",
       "version_major": 2,
       "version_minor": 0
      },
      "text/plain": [
       "FloatSlider(value=1e-05, continuous_update=False, description='209', max=0.9999, min=1e-05, readout_format='.5…"
      ]
     },
     "metadata": {},
     "output_type": "display_data"
    },
    {
     "data": {
      "application/vnd.jupyter.widget-view+json": {
       "model_id": "766d34904aae4cb7b0c4d19ae6528782",
       "version_major": 2,
       "version_minor": 0
      },
      "text/plain": [
       "FloatSlider(value=1e-05, continuous_update=False, description='210', max=0.9999, min=1e-05, readout_format='.5…"
      ]
     },
     "metadata": {},
     "output_type": "display_data"
    },
    {
     "data": {
      "application/vnd.jupyter.widget-view+json": {
       "model_id": "5da68e98acf148d1a5ceab5b78412d8d",
       "version_major": 2,
       "version_minor": 0
      },
      "text/plain": [
       "FloatSlider(value=1e-05, continuous_update=False, description='211', max=0.9999, min=1e-05, readout_format='.5…"
      ]
     },
     "metadata": {},
     "output_type": "display_data"
    },
    {
     "data": {
      "application/vnd.jupyter.widget-view+json": {
       "model_id": "9756aaace5e440f7a6864a7ca1d6d328",
       "version_major": 2,
       "version_minor": 0
      },
      "text/plain": [
       "FloatSlider(value=1e-05, continuous_update=False, description='212', max=0.9999, min=1e-05, readout_format='.5…"
      ]
     },
     "metadata": {},
     "output_type": "display_data"
    },
    {
     "data": {
      "application/vnd.jupyter.widget-view+json": {
       "model_id": "8959d283143d4c8bb07c9500fecea310",
       "version_major": 2,
       "version_minor": 0
      },
      "text/plain": [
       "FloatSlider(value=1e-05, continuous_update=False, description='213', max=0.9999, min=1e-05, readout_format='.5…"
      ]
     },
     "metadata": {},
     "output_type": "display_data"
    },
    {
     "data": {
      "application/vnd.jupyter.widget-view+json": {
       "model_id": "b9a37b3a60ef47bf9348ddaa7a1e4b7f",
       "version_major": 2,
       "version_minor": 0
      },
      "text/plain": [
       "FloatSlider(value=1e-05, continuous_update=False, description='214', max=0.9999, min=1e-05, readout_format='.5…"
      ]
     },
     "metadata": {},
     "output_type": "display_data"
    },
    {
     "data": {
      "application/vnd.jupyter.widget-view+json": {
       "model_id": "0a2127d52b7945fba608f172cfa6b406",
       "version_major": 2,
       "version_minor": 0
      },
      "text/plain": [
       "FloatSlider(value=1e-05, continuous_update=False, description='215', max=0.9999, min=1e-05, readout_format='.5…"
      ]
     },
     "metadata": {},
     "output_type": "display_data"
    },
    {
     "data": {
      "application/vnd.jupyter.widget-view+json": {
       "model_id": "70fc4f173b944670a34ebdef4e1305d6",
       "version_major": 2,
       "version_minor": 0
      },
      "text/plain": [
       "FloatSlider(value=1e-05, continuous_update=False, description='216', max=0.9999, min=1e-05, readout_format='.5…"
      ]
     },
     "metadata": {},
     "output_type": "display_data"
    },
    {
     "data": {
      "application/vnd.jupyter.widget-view+json": {
       "model_id": "5cfa432d1a1844689635fc7913694a91",
       "version_major": 2,
       "version_minor": 0
      },
      "text/plain": [
       "FloatSlider(value=1e-05, continuous_update=False, description='217', max=0.9999, min=1e-05, readout_format='.5…"
      ]
     },
     "metadata": {},
     "output_type": "display_data"
    },
    {
     "data": {
      "application/vnd.jupyter.widget-view+json": {
       "model_id": "7b29838ac22246af8729e2a511d2fb2c",
       "version_major": 2,
       "version_minor": 0
      },
      "text/plain": [
       "FloatSlider(value=1e-05, continuous_update=False, description='218', max=0.9999, min=1e-05, readout_format='.5…"
      ]
     },
     "metadata": {},
     "output_type": "display_data"
    },
    {
     "data": {
      "application/vnd.jupyter.widget-view+json": {
       "model_id": "3ffb3a8527a44141abec45e204ba87f2",
       "version_major": 2,
       "version_minor": 0
      },
      "text/plain": [
       "FloatSlider(value=1e-05, continuous_update=False, description='219', max=0.9999, min=1e-05, readout_format='.5…"
      ]
     },
     "metadata": {},
     "output_type": "display_data"
    },
    {
     "data": {
      "application/vnd.jupyter.widget-view+json": {
       "model_id": "2e5eceb32f584af888b5d6b300765f95",
       "version_major": 2,
       "version_minor": 0
      },
      "text/plain": [
       "FloatSlider(value=1e-05, continuous_update=False, description='220', max=0.9999, min=1e-05, readout_format='.5…"
      ]
     },
     "metadata": {},
     "output_type": "display_data"
    },
    {
     "data": {
      "application/vnd.jupyter.widget-view+json": {
       "model_id": "e285e7324a4b4c128985a77bb74b8358",
       "version_major": 2,
       "version_minor": 0
      },
      "text/plain": [
       "FloatSlider(value=1e-05, continuous_update=False, description='221', max=0.9999, min=1e-05, readout_format='.5…"
      ]
     },
     "metadata": {},
     "output_type": "display_data"
    },
    {
     "data": {
      "application/vnd.jupyter.widget-view+json": {
       "model_id": "e92a127453e448eebbc2928718712a7b",
       "version_major": 2,
       "version_minor": 0
      },
      "text/plain": [
       "FloatSlider(value=1e-05, continuous_update=False, description='222', max=0.9999, min=1e-05, readout_format='.5…"
      ]
     },
     "metadata": {},
     "output_type": "display_data"
    },
    {
     "data": {
      "application/vnd.jupyter.widget-view+json": {
       "model_id": "28700214f6a54287867305daec99119f",
       "version_major": 2,
       "version_minor": 0
      },
      "text/plain": [
       "FloatSlider(value=1e-05, continuous_update=False, description='223', max=0.9999, min=1e-05, readout_format='.5…"
      ]
     },
     "metadata": {},
     "output_type": "display_data"
    },
    {
     "data": {
      "application/vnd.jupyter.widget-view+json": {
       "model_id": "e40c667b8b7e41b2b8cc742be032a08b",
       "version_major": 2,
       "version_minor": 0
      },
      "text/plain": [
       "FloatSlider(value=1e-05, continuous_update=False, description='224', max=0.9999, min=1e-05, readout_format='.5…"
      ]
     },
     "metadata": {},
     "output_type": "display_data"
    },
    {
     "data": {
      "application/vnd.jupyter.widget-view+json": {
       "model_id": "768ed94c80ef47f1838ba6896575334c",
       "version_major": 2,
       "version_minor": 0
      },
      "text/plain": [
       "FloatSlider(value=1e-05, continuous_update=False, description='225', max=0.9999, min=1e-05, readout_format='.5…"
      ]
     },
     "metadata": {},
     "output_type": "display_data"
    },
    {
     "data": {
      "application/vnd.jupyter.widget-view+json": {
       "model_id": "fa7d0a993d6d4f829e1879e5531cdf9d",
       "version_major": 2,
       "version_minor": 0
      },
      "text/plain": [
       "FloatSlider(value=1e-05, continuous_update=False, description='226', max=0.9999, min=1e-05, readout_format='.5…"
      ]
     },
     "metadata": {},
     "output_type": "display_data"
    },
    {
     "data": {
      "application/vnd.jupyter.widget-view+json": {
       "model_id": "99cba1e925fd4e429fa6f2b04e138a82",
       "version_major": 2,
       "version_minor": 0
      },
      "text/plain": [
       "FloatSlider(value=1e-05, continuous_update=False, description='227', max=0.9999, min=1e-05, readout_format='.5…"
      ]
     },
     "metadata": {},
     "output_type": "display_data"
    },
    {
     "data": {
      "application/vnd.jupyter.widget-view+json": {
       "model_id": "d5c16dfea9c24465990d0db53a90f9e8",
       "version_major": 2,
       "version_minor": 0
      },
      "text/plain": [
       "FloatSlider(value=1e-05, continuous_update=False, description='228', max=0.9999, min=1e-05, readout_format='.5…"
      ]
     },
     "metadata": {},
     "output_type": "display_data"
    },
    {
     "data": {
      "application/vnd.jupyter.widget-view+json": {
       "model_id": "ae6f104ea6044e089923b0eca212cb7e",
       "version_major": 2,
       "version_minor": 0
      },
      "text/plain": [
       "FloatSlider(value=1e-05, continuous_update=False, description='229', max=0.9999, min=1e-05, readout_format='.5…"
      ]
     },
     "metadata": {},
     "output_type": "display_data"
    },
    {
     "data": {
      "application/vnd.jupyter.widget-view+json": {
       "model_id": "b00e86935e934857a03c1a2d14a96044",
       "version_major": 2,
       "version_minor": 0
      },
      "text/plain": [
       "FloatSlider(value=1e-05, continuous_update=False, description='230', max=0.9999, min=1e-05, readout_format='.5…"
      ]
     },
     "metadata": {},
     "output_type": "display_data"
    },
    {
     "data": {
      "application/vnd.jupyter.widget-view+json": {
       "model_id": "80e61b2402344ade8bf54bf8cfc4c8ec",
       "version_major": 2,
       "version_minor": 0
      },
      "text/plain": [
       "FloatSlider(value=1e-05, continuous_update=False, description='231', max=0.9999, min=1e-05, readout_format='.5…"
      ]
     },
     "metadata": {},
     "output_type": "display_data"
    },
    {
     "data": {
      "application/vnd.jupyter.widget-view+json": {
       "model_id": "a8932447ec8844ff87a720f019d30688",
       "version_major": 2,
       "version_minor": 0
      },
      "text/plain": [
       "FloatSlider(value=1e-05, continuous_update=False, description='232', max=0.9999, min=1e-05, readout_format='.5…"
      ]
     },
     "metadata": {},
     "output_type": "display_data"
    },
    {
     "data": {
      "application/vnd.jupyter.widget-view+json": {
       "model_id": "c5019e68a90347ea871a9f7027e94dcb",
       "version_major": 2,
       "version_minor": 0
      },
      "text/plain": [
       "FloatSlider(value=1e-05, continuous_update=False, description='233', max=0.9999, min=1e-05, readout_format='.5…"
      ]
     },
     "metadata": {},
     "output_type": "display_data"
    },
    {
     "data": {
      "application/vnd.jupyter.widget-view+json": {
       "model_id": "d7e867df8c304513a1a94e6017d3ee2c",
       "version_major": 2,
       "version_minor": 0
      },
      "text/plain": [
       "FloatSlider(value=1e-05, continuous_update=False, description='234', max=0.9999, min=1e-05, readout_format='.5…"
      ]
     },
     "metadata": {},
     "output_type": "display_data"
    },
    {
     "data": {
      "application/vnd.jupyter.widget-view+json": {
       "model_id": "db1160ae1a3d44b7a473a0e1b31473b2",
       "version_major": 2,
       "version_minor": 0
      },
      "text/plain": [
       "FloatSlider(value=1e-05, continuous_update=False, description='235', max=0.9999, min=1e-05, readout_format='.5…"
      ]
     },
     "metadata": {},
     "output_type": "display_data"
    },
    {
     "data": {
      "application/vnd.jupyter.widget-view+json": {
       "model_id": "525874344b184579b4e68f88241ac425",
       "version_major": 2,
       "version_minor": 0
      },
      "text/plain": [
       "FloatSlider(value=1e-05, continuous_update=False, description='236', max=0.9999, min=1e-05, readout_format='.5…"
      ]
     },
     "metadata": {},
     "output_type": "display_data"
    },
    {
     "data": {
      "application/vnd.jupyter.widget-view+json": {
       "model_id": "6c00843535924d3a8f1f387d72a0aa43",
       "version_major": 2,
       "version_minor": 0
      },
      "text/plain": [
       "FloatSlider(value=1e-05, continuous_update=False, description='237', max=0.9999, min=1e-05, readout_format='.5…"
      ]
     },
     "metadata": {},
     "output_type": "display_data"
    },
    {
     "data": {
      "application/vnd.jupyter.widget-view+json": {
       "model_id": "77ce6914cc2242debd5ad074aaf253eb",
       "version_major": 2,
       "version_minor": 0
      },
      "text/plain": [
       "FloatSlider(value=1e-05, continuous_update=False, description='238', max=0.9999, min=1e-05, readout_format='.5…"
      ]
     },
     "metadata": {},
     "output_type": "display_data"
    },
    {
     "data": {
      "application/vnd.jupyter.widget-view+json": {
       "model_id": "a5e9f1f0ede243aab26021cbde783c17",
       "version_major": 2,
       "version_minor": 0
      },
      "text/plain": [
       "FloatSlider(value=1e-05, continuous_update=False, description='239', max=0.9999, min=1e-05, readout_format='.5…"
      ]
     },
     "metadata": {},
     "output_type": "display_data"
    },
    {
     "data": {
      "application/vnd.jupyter.widget-view+json": {
       "model_id": "e3b4d0f30eaf443cb33bc6eac23aa4c2",
       "version_major": 2,
       "version_minor": 0
      },
      "text/plain": [
       "FloatSlider(value=1e-05, continuous_update=False, description='240', max=0.9999, min=1e-05, readout_format='.5…"
      ]
     },
     "metadata": {},
     "output_type": "display_data"
    },
    {
     "data": {
      "application/vnd.jupyter.widget-view+json": {
       "model_id": "82c45e5f35cc424590daebf359e50959",
       "version_major": 2,
       "version_minor": 0
      },
      "text/plain": [
       "FloatSlider(value=1e-05, continuous_update=False, description='241', max=0.9999, min=1e-05, readout_format='.5…"
      ]
     },
     "metadata": {},
     "output_type": "display_data"
    },
    {
     "data": {
      "application/vnd.jupyter.widget-view+json": {
       "model_id": "d476e9649667476f889f67e2963141ce",
       "version_major": 2,
       "version_minor": 0
      },
      "text/plain": [
       "FloatSlider(value=1e-05, continuous_update=False, description='242', max=0.9999, min=1e-05, readout_format='.5…"
      ]
     },
     "metadata": {},
     "output_type": "display_data"
    },
    {
     "data": {
      "application/vnd.jupyter.widget-view+json": {
       "model_id": "2d4af64ba95942529065c2f91e7a2ab7",
       "version_major": 2,
       "version_minor": 0
      },
      "text/plain": [
       "FloatSlider(value=1e-05, continuous_update=False, description='243', max=0.9999, min=1e-05, readout_format='.5…"
      ]
     },
     "metadata": {},
     "output_type": "display_data"
    },
    {
     "data": {
      "application/vnd.jupyter.widget-view+json": {
       "model_id": "3e5d2462ef7942e8b9506a7a6795898b",
       "version_major": 2,
       "version_minor": 0
      },
      "text/plain": [
       "FloatSlider(value=1e-05, continuous_update=False, description='244', max=0.9999, min=1e-05, readout_format='.5…"
      ]
     },
     "metadata": {},
     "output_type": "display_data"
    },
    {
     "data": {
      "application/vnd.jupyter.widget-view+json": {
       "model_id": "35e79c89f5cb4eea8f56a846bf19ae53",
       "version_major": 2,
       "version_minor": 0
      },
      "text/plain": [
       "FloatSlider(value=1e-05, continuous_update=False, description='245', max=0.9999, min=1e-05, readout_format='.5…"
      ]
     },
     "metadata": {},
     "output_type": "display_data"
    },
    {
     "data": {
      "application/vnd.jupyter.widget-view+json": {
       "model_id": "6fee087b07e64e30a5881bb826000aaf",
       "version_major": 2,
       "version_minor": 0
      },
      "text/plain": [
       "FloatSlider(value=1e-05, continuous_update=False, description='246', max=0.9999, min=1e-05, readout_format='.5…"
      ]
     },
     "metadata": {},
     "output_type": "display_data"
    },
    {
     "data": {
      "application/vnd.jupyter.widget-view+json": {
       "model_id": "5ff93d2704ef47f4a4a45c68fc8a65e3",
       "version_major": 2,
       "version_minor": 0
      },
      "text/plain": [
       "FloatSlider(value=1e-05, continuous_update=False, description='247', max=0.9999, min=1e-05, readout_format='.5…"
      ]
     },
     "metadata": {},
     "output_type": "display_data"
    },
    {
     "data": {
      "application/vnd.jupyter.widget-view+json": {
       "model_id": "219b9499b2c140618caaa6952b60898d",
       "version_major": 2,
       "version_minor": 0
      },
      "text/plain": [
       "FloatSlider(value=1e-05, continuous_update=False, description='248', max=0.9999, min=1e-05, readout_format='.5…"
      ]
     },
     "metadata": {},
     "output_type": "display_data"
    },
    {
     "data": {
      "application/vnd.jupyter.widget-view+json": {
       "model_id": "5282d49428d54e3da7ac079e0b03b35f",
       "version_major": 2,
       "version_minor": 0
      },
      "text/plain": [
       "FloatSlider(value=1e-05, continuous_update=False, description='249', max=0.9999, min=1e-05, readout_format='.5…"
      ]
     },
     "metadata": {},
     "output_type": "display_data"
    },
    {
     "data": {
      "application/vnd.jupyter.widget-view+json": {
       "model_id": "1749a51908ff4512a775c44de86329e4",
       "version_major": 2,
       "version_minor": 0
      },
      "text/plain": [
       "FloatSlider(value=1e-05, continuous_update=False, description='250', max=0.9999, min=1e-05, readout_format='.5…"
      ]
     },
     "metadata": {},
     "output_type": "display_data"
    },
    {
     "data": {
      "application/vnd.jupyter.widget-view+json": {
       "model_id": "6bce33c348fe41839000b7dd93c1daf8",
       "version_major": 2,
       "version_minor": 0
      },
      "text/plain": [
       "FloatSlider(value=1e-05, continuous_update=False, description='251', max=0.9999, min=1e-05, readout_format='.5…"
      ]
     },
     "metadata": {},
     "output_type": "display_data"
    },
    {
     "data": {
      "application/vnd.jupyter.widget-view+json": {
       "model_id": "20e260b695484f1588fce2086d2d2909",
       "version_major": 2,
       "version_minor": 0
      },
      "text/plain": [
       "FloatSlider(value=1e-05, continuous_update=False, description='252', max=0.9999, min=1e-05, readout_format='.5…"
      ]
     },
     "metadata": {},
     "output_type": "display_data"
    },
    {
     "data": {
      "application/vnd.jupyter.widget-view+json": {
       "model_id": "ac860c088e3f42fb98545ac61628d770",
       "version_major": 2,
       "version_minor": 0
      },
      "text/plain": [
       "FloatSlider(value=1e-05, continuous_update=False, description='253', max=0.9999, min=1e-05, readout_format='.5…"
      ]
     },
     "metadata": {},
     "output_type": "display_data"
    },
    {
     "data": {
      "application/vnd.jupyter.widget-view+json": {
       "model_id": "e8a1ca31ddf247de9a77b639ac8fb0f0",
       "version_major": 2,
       "version_minor": 0
      },
      "text/plain": [
       "FloatSlider(value=1e-05, continuous_update=False, description='254', max=0.9999, min=1e-05, readout_format='.5…"
      ]
     },
     "metadata": {},
     "output_type": "display_data"
    },
    {
     "data": {
      "application/vnd.jupyter.widget-view+json": {
       "model_id": "9a0532ac5cda497786949fd332987725",
       "version_major": 2,
       "version_minor": 0
      },
      "text/plain": [
       "FloatSlider(value=1e-05, continuous_update=False, description='255', max=0.9999, min=1e-05, readout_format='.5…"
      ]
     },
     "metadata": {},
     "output_type": "display_data"
    },
    {
     "data": {
      "application/vnd.jupyter.widget-view+json": {
       "model_id": "e939234b5bce46d28e7153c6a95f811a",
       "version_major": 2,
       "version_minor": 0
      },
      "text/plain": [
       "FloatSlider(value=1e-05, continuous_update=False, description='256', max=0.9999, min=1e-05, readout_format='.5…"
      ]
     },
     "metadata": {},
     "output_type": "display_data"
    },
    {
     "data": {
      "application/vnd.jupyter.widget-view+json": {
       "model_id": "9b903589decd4577a874fc9a672c8528",
       "version_major": 2,
       "version_minor": 0
      },
      "text/plain": [
       "FloatSlider(value=1e-05, continuous_update=False, description='257', max=0.9999, min=1e-05, readout_format='.5…"
      ]
     },
     "metadata": {},
     "output_type": "display_data"
    },
    {
     "data": {
      "application/vnd.jupyter.widget-view+json": {
       "model_id": "bf29ba96298f4eeeb615dc42392e3834",
       "version_major": 2,
       "version_minor": 0
      },
      "text/plain": [
       "FloatSlider(value=1e-05, continuous_update=False, description='258', max=0.9999, min=1e-05, readout_format='.5…"
      ]
     },
     "metadata": {},
     "output_type": "display_data"
    },
    {
     "data": {
      "application/vnd.jupyter.widget-view+json": {
       "model_id": "1a481afb8d4e4a1692718c3d8486a30f",
       "version_major": 2,
       "version_minor": 0
      },
      "text/plain": [
       "FloatSlider(value=1e-05, continuous_update=False, description='259', max=0.9999, min=1e-05, readout_format='.5…"
      ]
     },
     "metadata": {},
     "output_type": "display_data"
    },
    {
     "data": {
      "application/vnd.jupyter.widget-view+json": {
       "model_id": "033e1c2e0499418eb0174e4551ae2843",
       "version_major": 2,
       "version_minor": 0
      },
      "text/plain": [
       "FloatSlider(value=1e-05, continuous_update=False, description='260', max=0.9999, min=1e-05, readout_format='.5…"
      ]
     },
     "metadata": {},
     "output_type": "display_data"
    },
    {
     "data": {
      "application/vnd.jupyter.widget-view+json": {
       "model_id": "da4e8b47abfc449b8f0af637632afd90",
       "version_major": 2,
       "version_minor": 0
      },
      "text/plain": [
       "FloatSlider(value=1e-05, continuous_update=False, description='261', max=0.9999, min=1e-05, readout_format='.5…"
      ]
     },
     "metadata": {},
     "output_type": "display_data"
    },
    {
     "data": {
      "application/vnd.jupyter.widget-view+json": {
       "model_id": "c0ac0014439a415587d9648a9c21aa15",
       "version_major": 2,
       "version_minor": 0
      },
      "text/plain": [
       "FloatSlider(value=1e-05, continuous_update=False, description='262', max=0.9999, min=1e-05, readout_format='.5…"
      ]
     },
     "metadata": {},
     "output_type": "display_data"
    },
    {
     "data": {
      "application/vnd.jupyter.widget-view+json": {
       "model_id": "ac56de987e3647a1a115e6edeee1a16c",
       "version_major": 2,
       "version_minor": 0
      },
      "text/plain": [
       "FloatSlider(value=1e-05, continuous_update=False, description='263', max=0.9999, min=1e-05, readout_format='.5…"
      ]
     },
     "metadata": {},
     "output_type": "display_data"
    },
    {
     "data": {
      "application/vnd.jupyter.widget-view+json": {
       "model_id": "d1eec49a360f4c7c92e04a3e11146189",
       "version_major": 2,
       "version_minor": 0
      },
      "text/plain": [
       "FloatSlider(value=1e-05, continuous_update=False, description='264', max=0.9999, min=1e-05, readout_format='.5…"
      ]
     },
     "metadata": {},
     "output_type": "display_data"
    },
    {
     "data": {
      "application/vnd.jupyter.widget-view+json": {
       "model_id": "4a694a6b91f246fb9fc0caca0e814897",
       "version_major": 2,
       "version_minor": 0
      },
      "text/plain": [
       "FloatSlider(value=1e-05, continuous_update=False, description='265', max=0.9999, min=1e-05, readout_format='.5…"
      ]
     },
     "metadata": {},
     "output_type": "display_data"
    },
    {
     "data": {
      "application/vnd.jupyter.widget-view+json": {
       "model_id": "2736a2d57be24a3c98732dd729b6a2c6",
       "version_major": 2,
       "version_minor": 0
      },
      "text/plain": [
       "FloatSlider(value=1e-05, continuous_update=False, description='266', max=0.9999, min=1e-05, readout_format='.5…"
      ]
     },
     "metadata": {},
     "output_type": "display_data"
    },
    {
     "data": {
      "application/vnd.jupyter.widget-view+json": {
       "model_id": "6c72a6fe0b5c4728a08584a0a2c01e2f",
       "version_major": 2,
       "version_minor": 0
      },
      "text/plain": [
       "FloatSlider(value=1e-05, continuous_update=False, description='267', max=0.9999, min=1e-05, readout_format='.5…"
      ]
     },
     "metadata": {},
     "output_type": "display_data"
    },
    {
     "data": {
      "application/vnd.jupyter.widget-view+json": {
       "model_id": "6208344bd5ca42daa498091ef49edb01",
       "version_major": 2,
       "version_minor": 0
      },
      "text/plain": [
       "FloatSlider(value=1e-05, continuous_update=False, description='268', max=0.9999, min=1e-05, readout_format='.5…"
      ]
     },
     "metadata": {},
     "output_type": "display_data"
    },
    {
     "data": {
      "application/vnd.jupyter.widget-view+json": {
       "model_id": "075aa46ebe614765a38021c8359067eb",
       "version_major": 2,
       "version_minor": 0
      },
      "text/plain": [
       "FloatSlider(value=1e-05, continuous_update=False, description='269', max=0.9999, min=1e-05, readout_format='.5…"
      ]
     },
     "metadata": {},
     "output_type": "display_data"
    },
    {
     "data": {
      "application/vnd.jupyter.widget-view+json": {
       "model_id": "da743ade5ead4c25936f41a452b80208",
       "version_major": 2,
       "version_minor": 0
      },
      "text/plain": [
       "FloatSlider(value=1e-05, continuous_update=False, description='270', max=0.9999, min=1e-05, readout_format='.5…"
      ]
     },
     "metadata": {},
     "output_type": "display_data"
    },
    {
     "data": {
      "application/vnd.jupyter.widget-view+json": {
       "model_id": "e4f41945b75b49f580846f81ce9cf32d",
       "version_major": 2,
       "version_minor": 0
      },
      "text/plain": [
       "FloatSlider(value=1e-05, continuous_update=False, description='271', max=0.9999, min=1e-05, readout_format='.5…"
      ]
     },
     "metadata": {},
     "output_type": "display_data"
    },
    {
     "data": {
      "application/vnd.jupyter.widget-view+json": {
       "model_id": "7677505d9d104435bbe04f706ac058cb",
       "version_major": 2,
       "version_minor": 0
      },
      "text/plain": [
       "FloatSlider(value=1e-05, continuous_update=False, description='272', max=0.9999, min=1e-05, readout_format='.5…"
      ]
     },
     "metadata": {},
     "output_type": "display_data"
    },
    {
     "data": {
      "application/vnd.jupyter.widget-view+json": {
       "model_id": "7d0edba0c02b4e20945d39f725bf4b7b",
       "version_major": 2,
       "version_minor": 0
      },
      "text/plain": [
       "FloatSlider(value=1e-05, continuous_update=False, description='273', max=0.9999, min=1e-05, readout_format='.5…"
      ]
     },
     "metadata": {},
     "output_type": "display_data"
    },
    {
     "data": {
      "application/vnd.jupyter.widget-view+json": {
       "model_id": "777e72a9b13342e4ad3c44c0740983fa",
       "version_major": 2,
       "version_minor": 0
      },
      "text/plain": [
       "FloatSlider(value=1e-05, continuous_update=False, description='274', max=0.9999, min=1e-05, readout_format='.5…"
      ]
     },
     "metadata": {},
     "output_type": "display_data"
    },
    {
     "data": {
      "application/vnd.jupyter.widget-view+json": {
       "model_id": "6d094f01989149cdae481fa9c6457974",
       "version_major": 2,
       "version_minor": 0
      },
      "text/plain": [
       "FloatSlider(value=1e-05, continuous_update=False, description='275', max=0.9999, min=1e-05, readout_format='.5…"
      ]
     },
     "metadata": {},
     "output_type": "display_data"
    },
    {
     "data": {
      "application/vnd.jupyter.widget-view+json": {
       "model_id": "696cf1be4e664465b3204caa6ef1a81a",
       "version_major": 2,
       "version_minor": 0
      },
      "text/plain": [
       "FloatSlider(value=1e-05, continuous_update=False, description='276', max=0.9999, min=1e-05, readout_format='.5…"
      ]
     },
     "metadata": {},
     "output_type": "display_data"
    },
    {
     "data": {
      "application/vnd.jupyter.widget-view+json": {
       "model_id": "9e7bb9aa2c1746b2b761fa3b4582c205",
       "version_major": 2,
       "version_minor": 0
      },
      "text/plain": [
       "FloatSlider(value=1e-05, continuous_update=False, description='277', max=0.9999, min=1e-05, readout_format='.5…"
      ]
     },
     "metadata": {},
     "output_type": "display_data"
    },
    {
     "data": {
      "application/vnd.jupyter.widget-view+json": {
       "model_id": "3649400698d240b4b9b71394ad94c640",
       "version_major": 2,
       "version_minor": 0
      },
      "text/plain": [
       "FloatSlider(value=1e-05, continuous_update=False, description='278', max=0.9999, min=1e-05, readout_format='.5…"
      ]
     },
     "metadata": {},
     "output_type": "display_data"
    },
    {
     "data": {
      "application/vnd.jupyter.widget-view+json": {
       "model_id": "3e60cd5cdba14eb2b2e00850e4740251",
       "version_major": 2,
       "version_minor": 0
      },
      "text/plain": [
       "FloatSlider(value=1e-05, continuous_update=False, description='279', max=0.9999, min=1e-05, readout_format='.5…"
      ]
     },
     "metadata": {},
     "output_type": "display_data"
    },
    {
     "data": {
      "application/vnd.jupyter.widget-view+json": {
       "model_id": "2756bae4c705450283cdaee2d1b0d6e0",
       "version_major": 2,
       "version_minor": 0
      },
      "text/plain": [
       "FloatSlider(value=1e-05, continuous_update=False, description='280', max=0.9999, min=1e-05, readout_format='.5…"
      ]
     },
     "metadata": {},
     "output_type": "display_data"
    },
    {
     "data": {
      "application/vnd.jupyter.widget-view+json": {
       "model_id": "17a85041fb3e4f5a8ece960b951f3e7f",
       "version_major": 2,
       "version_minor": 0
      },
      "text/plain": [
       "FloatSlider(value=1e-05, continuous_update=False, description='281', max=0.9999, min=1e-05, readout_format='.5…"
      ]
     },
     "metadata": {},
     "output_type": "display_data"
    },
    {
     "data": {
      "application/vnd.jupyter.widget-view+json": {
       "model_id": "c9a9ce27436b4132885458280452bfa1",
       "version_major": 2,
       "version_minor": 0
      },
      "text/plain": [
       "FloatSlider(value=1e-05, continuous_update=False, description='282', max=0.9999, min=1e-05, readout_format='.5…"
      ]
     },
     "metadata": {},
     "output_type": "display_data"
    },
    {
     "data": {
      "application/vnd.jupyter.widget-view+json": {
       "model_id": "09d6be7d20fa4f01965e59e17310d205",
       "version_major": 2,
       "version_minor": 0
      },
      "text/plain": [
       "FloatSlider(value=1e-05, continuous_update=False, description='283', max=0.9999, min=1e-05, readout_format='.5…"
      ]
     },
     "metadata": {},
     "output_type": "display_data"
    },
    {
     "data": {
      "application/vnd.jupyter.widget-view+json": {
       "model_id": "9a4a52262108441fa9e376964887797a",
       "version_major": 2,
       "version_minor": 0
      },
      "text/plain": [
       "FloatSlider(value=1e-05, continuous_update=False, description='284', max=0.9999, min=1e-05, readout_format='.5…"
      ]
     },
     "metadata": {},
     "output_type": "display_data"
    },
    {
     "data": {
      "application/vnd.jupyter.widget-view+json": {
       "model_id": "478ebf2b5ad042409e2b5cc3ec806e66",
       "version_major": 2,
       "version_minor": 0
      },
      "text/plain": [
       "FloatSlider(value=1e-05, continuous_update=False, description='285', max=0.9999, min=1e-05, readout_format='.5…"
      ]
     },
     "metadata": {},
     "output_type": "display_data"
    },
    {
     "data": {
      "application/vnd.jupyter.widget-view+json": {
       "model_id": "22588e5dee644d9c97e4cb8850a9293d",
       "version_major": 2,
       "version_minor": 0
      },
      "text/plain": [
       "FloatSlider(value=1e-05, continuous_update=False, description='286', max=0.9999, min=1e-05, readout_format='.5…"
      ]
     },
     "metadata": {},
     "output_type": "display_data"
    },
    {
     "data": {
      "application/vnd.jupyter.widget-view+json": {
       "model_id": "0040b68b2fc54f1d93f8a4d25540beb4",
       "version_major": 2,
       "version_minor": 0
      },
      "text/plain": [
       "FloatSlider(value=1e-05, continuous_update=False, description='287', max=0.9999, min=1e-05, readout_format='.5…"
      ]
     },
     "metadata": {},
     "output_type": "display_data"
    },
    {
     "data": {
      "application/vnd.jupyter.widget-view+json": {
       "model_id": "d9173441ea8545c4afd5447169a5d664",
       "version_major": 2,
       "version_minor": 0
      },
      "text/plain": [
       "FloatSlider(value=1e-05, continuous_update=False, description='288', max=0.9999, min=1e-05, readout_format='.5…"
      ]
     },
     "metadata": {},
     "output_type": "display_data"
    },
    {
     "data": {
      "application/vnd.jupyter.widget-view+json": {
       "model_id": "9dbd334469db4bc9ad30ca5d77d29a4a",
       "version_major": 2,
       "version_minor": 0
      },
      "text/plain": [
       "FloatSlider(value=1e-05, continuous_update=False, description='289', max=0.9999, min=1e-05, readout_format='.5…"
      ]
     },
     "metadata": {},
     "output_type": "display_data"
    },
    {
     "data": {
      "application/vnd.jupyter.widget-view+json": {
       "model_id": "928dc10df358449eb435142d2dbaf915",
       "version_major": 2,
       "version_minor": 0
      },
      "text/plain": [
       "FloatSlider(value=1e-05, continuous_update=False, description='290', max=0.9999, min=1e-05, readout_format='.5…"
      ]
     },
     "metadata": {},
     "output_type": "display_data"
    },
    {
     "data": {
      "application/vnd.jupyter.widget-view+json": {
       "model_id": "6d5a1dcbfd7545739a6bb10b3cfc4a07",
       "version_major": 2,
       "version_minor": 0
      },
      "text/plain": [
       "FloatSlider(value=1e-05, continuous_update=False, description='291', max=0.9999, min=1e-05, readout_format='.5…"
      ]
     },
     "metadata": {},
     "output_type": "display_data"
    },
    {
     "data": {
      "application/vnd.jupyter.widget-view+json": {
       "model_id": "9ef90e3eb4b74718b1ac3d19e0fabce5",
       "version_major": 2,
       "version_minor": 0
      },
      "text/plain": [
       "FloatSlider(value=1e-05, continuous_update=False, description='292', max=0.9999, min=1e-05, readout_format='.5…"
      ]
     },
     "metadata": {},
     "output_type": "display_data"
    },
    {
     "data": {
      "application/vnd.jupyter.widget-view+json": {
       "model_id": "f55b4f9230954047b73e4d43418ee5d6",
       "version_major": 2,
       "version_minor": 0
      },
      "text/plain": [
       "FloatSlider(value=1e-05, continuous_update=False, description='293', max=0.9999, min=1e-05, readout_format='.5…"
      ]
     },
     "metadata": {},
     "output_type": "display_data"
    },
    {
     "data": {
      "application/vnd.jupyter.widget-view+json": {
       "model_id": "ef61d00cade4407bba4c5dfc7bbd6bd5",
       "version_major": 2,
       "version_minor": 0
      },
      "text/plain": [
       "FloatSlider(value=1e-05, continuous_update=False, description='294', max=0.9999, min=1e-05, readout_format='.5…"
      ]
     },
     "metadata": {},
     "output_type": "display_data"
    },
    {
     "data": {
      "application/vnd.jupyter.widget-view+json": {
       "model_id": "1d289f2c9d614a69a78683ef2b4a6b84",
       "version_major": 2,
       "version_minor": 0
      },
      "text/plain": [
       "FloatSlider(value=1e-05, continuous_update=False, description='295', max=0.9999, min=1e-05, readout_format='.5…"
      ]
     },
     "metadata": {},
     "output_type": "display_data"
    },
    {
     "data": {
      "application/vnd.jupyter.widget-view+json": {
       "model_id": "20d7d66f47cf4267b059c36fec6e351f",
       "version_major": 2,
       "version_minor": 0
      },
      "text/plain": [
       "FloatSlider(value=1e-05, continuous_update=False, description='296', max=0.9999, min=1e-05, readout_format='.5…"
      ]
     },
     "metadata": {},
     "output_type": "display_data"
    },
    {
     "data": {
      "application/vnd.jupyter.widget-view+json": {
       "model_id": "c35f9f0a7bfc46dcaf9902235cf7f2f4",
       "version_major": 2,
       "version_minor": 0
      },
      "text/plain": [
       "FloatSlider(value=1e-05, continuous_update=False, description='297', max=0.9999, min=1e-05, readout_format='.5…"
      ]
     },
     "metadata": {},
     "output_type": "display_data"
    },
    {
     "data": {
      "application/vnd.jupyter.widget-view+json": {
       "model_id": "8b7f572358ab44358e1798f0493de3d0",
       "version_major": 2,
       "version_minor": 0
      },
      "text/plain": [
       "FloatSlider(value=1e-05, continuous_update=False, description='298', max=0.9999, min=1e-05, readout_format='.5…"
      ]
     },
     "metadata": {},
     "output_type": "display_data"
    },
    {
     "data": {
      "application/vnd.jupyter.widget-view+json": {
       "model_id": "16c8dbd5b1d7470aa74a82c9f337aa9f",
       "version_major": 2,
       "version_minor": 0
      },
      "text/plain": [
       "FloatSlider(value=1e-05, continuous_update=False, description='299', max=0.9999, min=1e-05, readout_format='.5…"
      ]
     },
     "metadata": {},
     "output_type": "display_data"
    },
    {
     "data": {
      "application/vnd.jupyter.widget-view+json": {
       "model_id": "8cf37c41f1a14dd3b8ddf676ba43b3c0",
       "version_major": 2,
       "version_minor": 0
      },
      "text/plain": [
       "FloatSlider(value=1e-05, continuous_update=False, description='300', max=0.9999, min=1e-05, readout_format='.5…"
      ]
     },
     "metadata": {},
     "output_type": "display_data"
    },
    {
     "data": {
      "application/vnd.jupyter.widget-view+json": {
       "model_id": "8637ebe6357f480ca581c00fab52473f",
       "version_major": 2,
       "version_minor": 0
      },
      "text/plain": [
       "FloatSlider(value=1e-05, continuous_update=False, description='301', max=0.9999, min=1e-05, readout_format='.5…"
      ]
     },
     "metadata": {},
     "output_type": "display_data"
    },
    {
     "data": {
      "application/vnd.jupyter.widget-view+json": {
       "model_id": "c622eb9fc2b94856ae616bd90e163605",
       "version_major": 2,
       "version_minor": 0
      },
      "text/plain": [
       "FloatSlider(value=1e-05, continuous_update=False, description='302', max=0.9999, min=1e-05, readout_format='.5…"
      ]
     },
     "metadata": {},
     "output_type": "display_data"
    },
    {
     "data": {
      "application/vnd.jupyter.widget-view+json": {
       "model_id": "a2d6b6e2464f472faf81e0ea9c132db7",
       "version_major": 2,
       "version_minor": 0
      },
      "text/plain": [
       "FloatSlider(value=1e-05, continuous_update=False, description='303', max=0.9999, min=1e-05, readout_format='.5…"
      ]
     },
     "metadata": {},
     "output_type": "display_data"
    },
    {
     "data": {
      "application/vnd.jupyter.widget-view+json": {
       "model_id": "0908c9419ec94f19a7a25adea137f67a",
       "version_major": 2,
       "version_minor": 0
      },
      "text/plain": [
       "FloatSlider(value=1e-05, continuous_update=False, description='304', max=0.9999, min=1e-05, readout_format='.5…"
      ]
     },
     "metadata": {},
     "output_type": "display_data"
    },
    {
     "data": {
      "application/vnd.jupyter.widget-view+json": {
       "model_id": "d501faac881040a788be63cfc78f9a90",
       "version_major": 2,
       "version_minor": 0
      },
      "text/plain": [
       "FloatSlider(value=1e-05, continuous_update=False, description='305', max=0.9999, min=1e-05, readout_format='.5…"
      ]
     },
     "metadata": {},
     "output_type": "display_data"
    },
    {
     "data": {
      "application/vnd.jupyter.widget-view+json": {
       "model_id": "d5c5be25a9c34820b1aa97998281dfac",
       "version_major": 2,
       "version_minor": 0
      },
      "text/plain": [
       "FloatSlider(value=1e-05, continuous_update=False, description='306', max=0.9999, min=1e-05, readout_format='.5…"
      ]
     },
     "metadata": {},
     "output_type": "display_data"
    },
    {
     "data": {
      "application/vnd.jupyter.widget-view+json": {
       "model_id": "7df05a762f504ee5a655a73615842d80",
       "version_major": 2,
       "version_minor": 0
      },
      "text/plain": [
       "FloatSlider(value=1e-05, continuous_update=False, description='307', max=0.9999, min=1e-05, readout_format='.5…"
      ]
     },
     "metadata": {},
     "output_type": "display_data"
    },
    {
     "data": {
      "application/vnd.jupyter.widget-view+json": {
       "model_id": "fb43f32f31424f8fbe8e69ee4401ba06",
       "version_major": 2,
       "version_minor": 0
      },
      "text/plain": [
       "FloatSlider(value=1e-05, continuous_update=False, description='308', max=0.9999, min=1e-05, readout_format='.5…"
      ]
     },
     "metadata": {},
     "output_type": "display_data"
    },
    {
     "data": {
      "application/vnd.jupyter.widget-view+json": {
       "model_id": "fbf1b8c070944cd981e6c6ad53db954c",
       "version_major": 2,
       "version_minor": 0
      },
      "text/plain": [
       "FloatSlider(value=1e-05, continuous_update=False, description='309', max=0.9999, min=1e-05, readout_format='.5…"
      ]
     },
     "metadata": {},
     "output_type": "display_data"
    },
    {
     "data": {
      "application/vnd.jupyter.widget-view+json": {
       "model_id": "07f65d3d94c6499a9b49028b06509146",
       "version_major": 2,
       "version_minor": 0
      },
      "text/plain": [
       "FloatSlider(value=1e-05, continuous_update=False, description='310', max=0.9999, min=1e-05, readout_format='.5…"
      ]
     },
     "metadata": {},
     "output_type": "display_data"
    },
    {
     "data": {
      "application/vnd.jupyter.widget-view+json": {
       "model_id": "4dc7bcb6dde246e08d321db5e144dba5",
       "version_major": 2,
       "version_minor": 0
      },
      "text/plain": [
       "FloatSlider(value=1e-05, continuous_update=False, description='311', max=0.9999, min=1e-05, readout_format='.5…"
      ]
     },
     "metadata": {},
     "output_type": "display_data"
    },
    {
     "data": {
      "application/vnd.jupyter.widget-view+json": {
       "model_id": "02bc844abe944165ac2275425903b5e8",
       "version_major": 2,
       "version_minor": 0
      },
      "text/plain": [
       "FloatSlider(value=1e-05, continuous_update=False, description='312', max=0.9999, min=1e-05, readout_format='.5…"
      ]
     },
     "metadata": {},
     "output_type": "display_data"
    },
    {
     "data": {
      "application/vnd.jupyter.widget-view+json": {
       "model_id": "425022e0617b4d8f864fa9cb66ccd39a",
       "version_major": 2,
       "version_minor": 0
      },
      "text/plain": [
       "FloatSlider(value=1e-05, continuous_update=False, description='313', max=0.9999, min=1e-05, readout_format='.5…"
      ]
     },
     "metadata": {},
     "output_type": "display_data"
    },
    {
     "data": {
      "application/vnd.jupyter.widget-view+json": {
       "model_id": "510e2d3cb1cc4a038aac478f3ebe35c8",
       "version_major": 2,
       "version_minor": 0
      },
      "text/plain": [
       "FloatSlider(value=1e-05, continuous_update=False, description='314', max=0.9999, min=1e-05, readout_format='.5…"
      ]
     },
     "metadata": {},
     "output_type": "display_data"
    },
    {
     "data": {
      "application/vnd.jupyter.widget-view+json": {
       "model_id": "1a1eea2b5083426a8f68f042abb18d5c",
       "version_major": 2,
       "version_minor": 0
      },
      "text/plain": [
       "FloatSlider(value=1e-05, continuous_update=False, description='315', max=0.9999, min=1e-05, readout_format='.5…"
      ]
     },
     "metadata": {},
     "output_type": "display_data"
    },
    {
     "data": {
      "application/vnd.jupyter.widget-view+json": {
       "model_id": "5f03de63549649a3b3dc79238f2b1593",
       "version_major": 2,
       "version_minor": 0
      },
      "text/plain": [
       "FloatSlider(value=1e-05, continuous_update=False, description='316', max=0.9999, min=1e-05, readout_format='.5…"
      ]
     },
     "metadata": {},
     "output_type": "display_data"
    },
    {
     "data": {
      "application/vnd.jupyter.widget-view+json": {
       "model_id": "4f71195ef5f34101b04b7ded085f43ed",
       "version_major": 2,
       "version_minor": 0
      },
      "text/plain": [
       "FloatSlider(value=1e-05, continuous_update=False, description='317', max=0.9999, min=1e-05, readout_format='.5…"
      ]
     },
     "metadata": {},
     "output_type": "display_data"
    },
    {
     "data": {
      "application/vnd.jupyter.widget-view+json": {
       "model_id": "eec6cdb634864c4f8a3cb355068a8ea2",
       "version_major": 2,
       "version_minor": 0
      },
      "text/plain": [
       "FloatSlider(value=1e-05, continuous_update=False, description='318', max=0.9999, min=1e-05, readout_format='.5…"
      ]
     },
     "metadata": {},
     "output_type": "display_data"
    },
    {
     "data": {
      "application/vnd.jupyter.widget-view+json": {
       "model_id": "1d1941ddf00c4b72be7aaf374ce88db8",
       "version_major": 2,
       "version_minor": 0
      },
      "text/plain": [
       "FloatSlider(value=1e-05, continuous_update=False, description='319', max=0.9999, min=1e-05, readout_format='.5…"
      ]
     },
     "metadata": {},
     "output_type": "display_data"
    },
    {
     "data": {
      "application/vnd.jupyter.widget-view+json": {
       "model_id": "439740ea84bc427b965e0ced44458e73",
       "version_major": 2,
       "version_minor": 0
      },
      "text/plain": [
       "FloatSlider(value=1e-05, continuous_update=False, description='320', max=0.9999, min=1e-05, readout_format='.5…"
      ]
     },
     "metadata": {},
     "output_type": "display_data"
    },
    {
     "data": {
      "application/vnd.jupyter.widget-view+json": {
       "model_id": "f7e9d8374ef84398b1c3653d82aeb47c",
       "version_major": 2,
       "version_minor": 0
      },
      "text/plain": [
       "FloatSlider(value=1e-05, continuous_update=False, description='321', max=0.9999, min=1e-05, readout_format='.5…"
      ]
     },
     "metadata": {},
     "output_type": "display_data"
    },
    {
     "data": {
      "application/vnd.jupyter.widget-view+json": {
       "model_id": "76de6e88fc414063b82306bb8683d440",
       "version_major": 2,
       "version_minor": 0
      },
      "text/plain": [
       "FloatSlider(value=1e-05, continuous_update=False, description='322', max=0.9999, min=1e-05, readout_format='.5…"
      ]
     },
     "metadata": {},
     "output_type": "display_data"
    },
    {
     "data": {
      "application/vnd.jupyter.widget-view+json": {
       "model_id": "5c668d1135784ce8981df0329aa96d9a",
       "version_major": 2,
       "version_minor": 0
      },
      "text/plain": [
       "FloatSlider(value=1e-05, continuous_update=False, description='323', max=0.9999, min=1e-05, readout_format='.5…"
      ]
     },
     "metadata": {},
     "output_type": "display_data"
    },
    {
     "data": {
      "application/vnd.jupyter.widget-view+json": {
       "model_id": "34b8b27cc8914fbcb3838dbac0952013",
       "version_major": 2,
       "version_minor": 0
      },
      "text/plain": [
       "FloatSlider(value=1e-05, continuous_update=False, description='324', max=0.9999, min=1e-05, readout_format='.5…"
      ]
     },
     "metadata": {},
     "output_type": "display_data"
    },
    {
     "data": {
      "application/vnd.jupyter.widget-view+json": {
       "model_id": "606230e2fd4449d0aa514f92b500ab05",
       "version_major": 2,
       "version_minor": 0
      },
      "text/plain": [
       "FloatSlider(value=1e-05, continuous_update=False, description='325', max=0.9999, min=1e-05, readout_format='.5…"
      ]
     },
     "metadata": {},
     "output_type": "display_data"
    },
    {
     "data": {
      "application/vnd.jupyter.widget-view+json": {
       "model_id": "f65d53b5830b4c3a873b2fe21c25c8ec",
       "version_major": 2,
       "version_minor": 0
      },
      "text/plain": [
       "FloatSlider(value=1e-05, continuous_update=False, description='326', max=0.9999, min=1e-05, readout_format='.5…"
      ]
     },
     "metadata": {},
     "output_type": "display_data"
    },
    {
     "data": {
      "application/vnd.jupyter.widget-view+json": {
       "model_id": "fb98ef4269de4dfe98bab680f62bfb22",
       "version_major": 2,
       "version_minor": 0
      },
      "text/plain": [
       "FloatSlider(value=1e-05, continuous_update=False, description='327', max=0.9999, min=1e-05, readout_format='.5…"
      ]
     },
     "metadata": {},
     "output_type": "display_data"
    },
    {
     "data": {
      "application/vnd.jupyter.widget-view+json": {
       "model_id": "e314c039f76d436d88381158fba304ae",
       "version_major": 2,
       "version_minor": 0
      },
      "text/plain": [
       "FloatSlider(value=1e-05, continuous_update=False, description='328', max=0.9999, min=1e-05, readout_format='.5…"
      ]
     },
     "metadata": {},
     "output_type": "display_data"
    },
    {
     "data": {
      "application/vnd.jupyter.widget-view+json": {
       "model_id": "ee909b11c7ac4cf4bb4cf0162b4e9f7c",
       "version_major": 2,
       "version_minor": 0
      },
      "text/plain": [
       "FloatSlider(value=1e-05, continuous_update=False, description='329', max=0.9999, min=1e-05, readout_format='.5…"
      ]
     },
     "metadata": {},
     "output_type": "display_data"
    },
    {
     "data": {
      "application/vnd.jupyter.widget-view+json": {
       "model_id": "1a72d3185323480ebdd628335da3ff8b",
       "version_major": 2,
       "version_minor": 0
      },
      "text/plain": [
       "FloatSlider(value=1e-05, continuous_update=False, description='330', max=0.9999, min=1e-05, readout_format='.5…"
      ]
     },
     "metadata": {},
     "output_type": "display_data"
    },
    {
     "data": {
      "application/vnd.jupyter.widget-view+json": {
       "model_id": "8631f593996e471cae78988e86a9bde2",
       "version_major": 2,
       "version_minor": 0
      },
      "text/plain": [
       "FloatSlider(value=1e-05, continuous_update=False, description='331', max=0.9999, min=1e-05, readout_format='.5…"
      ]
     },
     "metadata": {},
     "output_type": "display_data"
    },
    {
     "data": {
      "application/vnd.jupyter.widget-view+json": {
       "model_id": "fc721a3b488149369411145dbab924fe",
       "version_major": 2,
       "version_minor": 0
      },
      "text/plain": [
       "FloatSlider(value=1e-05, continuous_update=False, description='332', max=0.9999, min=1e-05, readout_format='.5…"
      ]
     },
     "metadata": {},
     "output_type": "display_data"
    },
    {
     "data": {
      "application/vnd.jupyter.widget-view+json": {
       "model_id": "f36fb163c2f94a8ab9894722916d7b66",
       "version_major": 2,
       "version_minor": 0
      },
      "text/plain": [
       "FloatSlider(value=1e-05, continuous_update=False, description='333', max=0.9999, min=1e-05, readout_format='.5…"
      ]
     },
     "metadata": {},
     "output_type": "display_data"
    },
    {
     "data": {
      "application/vnd.jupyter.widget-view+json": {
       "model_id": "0e799b9858804145b078937ab57fc65f",
       "version_major": 2,
       "version_minor": 0
      },
      "text/plain": [
       "FloatSlider(value=1e-05, continuous_update=False, description='334', max=0.9999, min=1e-05, readout_format='.5…"
      ]
     },
     "metadata": {},
     "output_type": "display_data"
    },
    {
     "data": {
      "application/vnd.jupyter.widget-view+json": {
       "model_id": "8af7ed99a28b40d18679a152bb62b8f1",
       "version_major": 2,
       "version_minor": 0
      },
      "text/plain": [
       "FloatSlider(value=1e-05, continuous_update=False, description='335', max=0.9999, min=1e-05, readout_format='.5…"
      ]
     },
     "metadata": {},
     "output_type": "display_data"
    },
    {
     "data": {
      "application/vnd.jupyter.widget-view+json": {
       "model_id": "01b0519e67824fa28f1383c82e1fd3e1",
       "version_major": 2,
       "version_minor": 0
      },
      "text/plain": [
       "FloatSlider(value=1e-05, continuous_update=False, description='336', max=0.9999, min=1e-05, readout_format='.5…"
      ]
     },
     "metadata": {},
     "output_type": "display_data"
    },
    {
     "data": {
      "application/vnd.jupyter.widget-view+json": {
       "model_id": "035d418f3f59400ab3c9eb3f57289eb2",
       "version_major": 2,
       "version_minor": 0
      },
      "text/plain": [
       "FloatSlider(value=1e-05, continuous_update=False, description='337', max=0.9999, min=1e-05, readout_format='.5…"
      ]
     },
     "metadata": {},
     "output_type": "display_data"
    },
    {
     "data": {
      "application/vnd.jupyter.widget-view+json": {
       "model_id": "340c7a80bef44c6c8fbea47d70dc93a5",
       "version_major": 2,
       "version_minor": 0
      },
      "text/plain": [
       "FloatSlider(value=1e-05, continuous_update=False, description='338', max=0.9999, min=1e-05, readout_format='.5…"
      ]
     },
     "metadata": {},
     "output_type": "display_data"
    },
    {
     "data": {
      "application/vnd.jupyter.widget-view+json": {
       "model_id": "aefb3e50a76345bea99daa3620962fb1",
       "version_major": 2,
       "version_minor": 0
      },
      "text/plain": [
       "FloatSlider(value=1e-05, continuous_update=False, description='339', max=0.9999, min=1e-05, readout_format='.5…"
      ]
     },
     "metadata": {},
     "output_type": "display_data"
    },
    {
     "data": {
      "application/vnd.jupyter.widget-view+json": {
       "model_id": "8231efc18a7e41ca8de9e74922271f9d",
       "version_major": 2,
       "version_minor": 0
      },
      "text/plain": [
       "FloatSlider(value=1e-05, continuous_update=False, description='340', max=0.9999, min=1e-05, readout_format='.5…"
      ]
     },
     "metadata": {},
     "output_type": "display_data"
    },
    {
     "data": {
      "application/vnd.jupyter.widget-view+json": {
       "model_id": "647ef6e8093f45558800c79ab34401e6",
       "version_major": 2,
       "version_minor": 0
      },
      "text/plain": [
       "FloatSlider(value=1e-05, continuous_update=False, description='341', max=0.9999, min=1e-05, readout_format='.5…"
      ]
     },
     "metadata": {},
     "output_type": "display_data"
    },
    {
     "data": {
      "application/vnd.jupyter.widget-view+json": {
       "model_id": "57cb72c7ff4046f0a53ab75e213f8175",
       "version_major": 2,
       "version_minor": 0
      },
      "text/plain": [
       "FloatSlider(value=1e-05, continuous_update=False, description='342', max=0.9999, min=1e-05, readout_format='.5…"
      ]
     },
     "metadata": {},
     "output_type": "display_data"
    },
    {
     "data": {
      "application/vnd.jupyter.widget-view+json": {
       "model_id": "8eb0beba603a4aef848df6f004659cae",
       "version_major": 2,
       "version_minor": 0
      },
      "text/plain": [
       "FloatSlider(value=1e-05, continuous_update=False, description='343', max=0.9999, min=1e-05, readout_format='.5…"
      ]
     },
     "metadata": {},
     "output_type": "display_data"
    },
    {
     "data": {
      "application/vnd.jupyter.widget-view+json": {
       "model_id": "07bb274ed9ba4975a61031ecfb2059a3",
       "version_major": 2,
       "version_minor": 0
      },
      "text/plain": [
       "FloatSlider(value=1e-05, continuous_update=False, description='344', max=0.9999, min=1e-05, readout_format='.5…"
      ]
     },
     "metadata": {},
     "output_type": "display_data"
    },
    {
     "data": {
      "application/vnd.jupyter.widget-view+json": {
       "model_id": "31afe7eae79a46a1ab4f1d193d938540",
       "version_major": 2,
       "version_minor": 0
      },
      "text/plain": [
       "FloatSlider(value=1e-05, continuous_update=False, description='345', max=0.9999, min=1e-05, readout_format='.5…"
      ]
     },
     "metadata": {},
     "output_type": "display_data"
    },
    {
     "data": {
      "application/vnd.jupyter.widget-view+json": {
       "model_id": "73262a2f57bb42ccb3eb5a409570e2fb",
       "version_major": 2,
       "version_minor": 0
      },
      "text/plain": [
       "FloatSlider(value=1e-05, continuous_update=False, description='346', max=0.9999, min=1e-05, readout_format='.5…"
      ]
     },
     "metadata": {},
     "output_type": "display_data"
    },
    {
     "data": {
      "application/vnd.jupyter.widget-view+json": {
       "model_id": "ae4d0d5f533e4b27af7c2c2c28a9dd54",
       "version_major": 2,
       "version_minor": 0
      },
      "text/plain": [
       "FloatSlider(value=1e-05, continuous_update=False, description='347', max=0.9999, min=1e-05, readout_format='.5…"
      ]
     },
     "metadata": {},
     "output_type": "display_data"
    },
    {
     "data": {
      "application/vnd.jupyter.widget-view+json": {
       "model_id": "d5602cbe11294903b464c14560157d0f",
       "version_major": 2,
       "version_minor": 0
      },
      "text/plain": [
       "FloatSlider(value=1e-05, continuous_update=False, description='348', max=0.9999, min=1e-05, readout_format='.5…"
      ]
     },
     "metadata": {},
     "output_type": "display_data"
    },
    {
     "data": {
      "application/vnd.jupyter.widget-view+json": {
       "model_id": "8c846004719541e0ada4c4e2efce5cd2",
       "version_major": 2,
       "version_minor": 0
      },
      "text/plain": [
       "FloatSlider(value=1e-05, continuous_update=False, description='349', max=0.9999, min=1e-05, readout_format='.5…"
      ]
     },
     "metadata": {},
     "output_type": "display_data"
    },
    {
     "data": {
      "application/vnd.jupyter.widget-view+json": {
       "model_id": "1daaa8fa5011494bbe28693bd925e5be",
       "version_major": 2,
       "version_minor": 0
      },
      "text/plain": [
       "FloatSlider(value=1e-05, continuous_update=False, description='350', max=0.9999, min=1e-05, readout_format='.5…"
      ]
     },
     "metadata": {},
     "output_type": "display_data"
    },
    {
     "data": {
      "application/vnd.jupyter.widget-view+json": {
       "model_id": "a981e4150f244faebc9e40df05b86a0c",
       "version_major": 2,
       "version_minor": 0
      },
      "text/plain": [
       "FloatSlider(value=1e-05, continuous_update=False, description='351', max=0.9999, min=1e-05, readout_format='.5…"
      ]
     },
     "metadata": {},
     "output_type": "display_data"
    },
    {
     "data": {
      "application/vnd.jupyter.widget-view+json": {
       "model_id": "66fb97d0521a48c99175a15630e9b5b0",
       "version_major": 2,
       "version_minor": 0
      },
      "text/plain": [
       "FloatSlider(value=1e-05, continuous_update=False, description='352', max=0.9999, min=1e-05, readout_format='.5…"
      ]
     },
     "metadata": {},
     "output_type": "display_data"
    },
    {
     "data": {
      "application/vnd.jupyter.widget-view+json": {
       "model_id": "5b583ffeedc8476a96e3165825b6bd67",
       "version_major": 2,
       "version_minor": 0
      },
      "text/plain": [
       "FloatSlider(value=1e-05, continuous_update=False, description='353', max=0.9999, min=1e-05, readout_format='.5…"
      ]
     },
     "metadata": {},
     "output_type": "display_data"
    },
    {
     "data": {
      "application/vnd.jupyter.widget-view+json": {
       "model_id": "fb73cc1258804f8a95648cb383312d12",
       "version_major": 2,
       "version_minor": 0
      },
      "text/plain": [
       "FloatSlider(value=1e-05, continuous_update=False, description='354', max=0.9999, min=1e-05, readout_format='.5…"
      ]
     },
     "metadata": {},
     "output_type": "display_data"
    },
    {
     "data": {
      "application/vnd.jupyter.widget-view+json": {
       "model_id": "df714b9278ad4a61b06ed7e8dc09b392",
       "version_major": 2,
       "version_minor": 0
      },
      "text/plain": [
       "FloatSlider(value=1e-05, continuous_update=False, description='355', max=0.9999, min=1e-05, readout_format='.5…"
      ]
     },
     "metadata": {},
     "output_type": "display_data"
    },
    {
     "data": {
      "application/vnd.jupyter.widget-view+json": {
       "model_id": "ca161ffd66654494a8908aa79d821452",
       "version_major": 2,
       "version_minor": 0
      },
      "text/plain": [
       "FloatSlider(value=1e-05, continuous_update=False, description='356', max=0.9999, min=1e-05, readout_format='.5…"
      ]
     },
     "metadata": {},
     "output_type": "display_data"
    },
    {
     "data": {
      "application/vnd.jupyter.widget-view+json": {
       "model_id": "8731ca0af8c540ada2a515b81fe5721f",
       "version_major": 2,
       "version_minor": 0
      },
      "text/plain": [
       "FloatSlider(value=1e-05, continuous_update=False, description='357', max=0.9999, min=1e-05, readout_format='.5…"
      ]
     },
     "metadata": {},
     "output_type": "display_data"
    },
    {
     "data": {
      "application/vnd.jupyter.widget-view+json": {
       "model_id": "a0a507b120e7443b825612156a198359",
       "version_major": 2,
       "version_minor": 0
      },
      "text/plain": [
       "FloatSlider(value=1e-05, continuous_update=False, description='358', max=0.9999, min=1e-05, readout_format='.5…"
      ]
     },
     "metadata": {},
     "output_type": "display_data"
    },
    {
     "data": {
      "application/vnd.jupyter.widget-view+json": {
       "model_id": "fcd72bed2f124876a18863ee980ad039",
       "version_major": 2,
       "version_minor": 0
      },
      "text/plain": [
       "FloatSlider(value=1e-05, continuous_update=False, description='359', max=0.9999, min=1e-05, readout_format='.5…"
      ]
     },
     "metadata": {},
     "output_type": "display_data"
    },
    {
     "data": {
      "application/vnd.jupyter.widget-view+json": {
       "model_id": "f204a109ed2d44f19a6789975b6f427e",
       "version_major": 2,
       "version_minor": 0
      },
      "text/plain": [
       "FloatSlider(value=1e-05, continuous_update=False, description='360', max=0.9999, min=1e-05, readout_format='.5…"
      ]
     },
     "metadata": {},
     "output_type": "display_data"
    },
    {
     "data": {
      "application/vnd.jupyter.widget-view+json": {
       "model_id": "29f4a0065eab4bdd8c94e07488cff2a0",
       "version_major": 2,
       "version_minor": 0
      },
      "text/plain": [
       "FloatSlider(value=1e-05, continuous_update=False, description='361', max=0.9999, min=1e-05, readout_format='.5…"
      ]
     },
     "metadata": {},
     "output_type": "display_data"
    },
    {
     "data": {
      "application/vnd.jupyter.widget-view+json": {
       "model_id": "2377e09982bc491490e75749a8a24b61",
       "version_major": 2,
       "version_minor": 0
      },
      "text/plain": [
       "FloatSlider(value=1e-05, continuous_update=False, description='362', max=0.9999, min=1e-05, readout_format='.5…"
      ]
     },
     "metadata": {},
     "output_type": "display_data"
    },
    {
     "data": {
      "application/vnd.jupyter.widget-view+json": {
       "model_id": "024bcd1a6f424a3c93f874c9927e55cf",
       "version_major": 2,
       "version_minor": 0
      },
      "text/plain": [
       "FloatSlider(value=1e-05, continuous_update=False, description='363', max=0.9999, min=1e-05, readout_format='.5…"
      ]
     },
     "metadata": {},
     "output_type": "display_data"
    },
    {
     "data": {
      "application/vnd.jupyter.widget-view+json": {
       "model_id": "d0fc03533bc544829e41125605d810d6",
       "version_major": 2,
       "version_minor": 0
      },
      "text/plain": [
       "FloatSlider(value=1e-05, continuous_update=False, description='364', max=0.9999, min=1e-05, readout_format='.5…"
      ]
     },
     "metadata": {},
     "output_type": "display_data"
    },
    {
     "data": {
      "application/vnd.jupyter.widget-view+json": {
       "model_id": "aeadfe9168a543fa92dc061eb5cafeda",
       "version_major": 2,
       "version_minor": 0
      },
      "text/plain": [
       "FloatSlider(value=1e-05, continuous_update=False, description='365', max=0.9999, min=1e-05, readout_format='.5…"
      ]
     },
     "metadata": {},
     "output_type": "display_data"
    },
    {
     "data": {
      "application/vnd.jupyter.widget-view+json": {
       "model_id": "a1ac2bde063b4ac38d0ffe0a2cb838dd",
       "version_major": 2,
       "version_minor": 0
      },
      "text/plain": [
       "FloatSlider(value=1e-05, continuous_update=False, description='366', max=0.9999, min=1e-05, readout_format='.5…"
      ]
     },
     "metadata": {},
     "output_type": "display_data"
    },
    {
     "data": {
      "application/vnd.jupyter.widget-view+json": {
       "model_id": "0767d376a1864e05a5554bb092997758",
       "version_major": 2,
       "version_minor": 0
      },
      "text/plain": [
       "FloatSlider(value=1e-05, continuous_update=False, description='367', max=0.9999, min=1e-05, readout_format='.5…"
      ]
     },
     "metadata": {},
     "output_type": "display_data"
    },
    {
     "data": {
      "application/vnd.jupyter.widget-view+json": {
       "model_id": "9d1c7ac47efd4829ad7ee70064014069",
       "version_major": 2,
       "version_minor": 0
      },
      "text/plain": [
       "FloatSlider(value=1e-05, continuous_update=False, description='368', max=0.9999, min=1e-05, readout_format='.5…"
      ]
     },
     "metadata": {},
     "output_type": "display_data"
    },
    {
     "data": {
      "application/vnd.jupyter.widget-view+json": {
       "model_id": "4d713cb7cd8a439b9ca17c0b27440c1f",
       "version_major": 2,
       "version_minor": 0
      },
      "text/plain": [
       "FloatSlider(value=1e-05, continuous_update=False, description='369', max=0.9999, min=1e-05, readout_format='.5…"
      ]
     },
     "metadata": {},
     "output_type": "display_data"
    },
    {
     "data": {
      "application/vnd.jupyter.widget-view+json": {
       "model_id": "b1392429fe0d471f8fade2706457c984",
       "version_major": 2,
       "version_minor": 0
      },
      "text/plain": [
       "FloatSlider(value=1e-05, continuous_update=False, description='370', max=0.9999, min=1e-05, readout_format='.5…"
      ]
     },
     "metadata": {},
     "output_type": "display_data"
    },
    {
     "data": {
      "application/vnd.jupyter.widget-view+json": {
       "model_id": "d0b572cc08df428083252205fe2fabb8",
       "version_major": 2,
       "version_minor": 0
      },
      "text/plain": [
       "FloatSlider(value=1e-05, continuous_update=False, description='371', max=0.9999, min=1e-05, readout_format='.5…"
      ]
     },
     "metadata": {},
     "output_type": "display_data"
    },
    {
     "data": {
      "application/vnd.jupyter.widget-view+json": {
       "model_id": "d7458e459d534d5b816181f6b6898f2f",
       "version_major": 2,
       "version_minor": 0
      },
      "text/plain": [
       "FloatSlider(value=1e-05, continuous_update=False, description='372', max=0.9999, min=1e-05, readout_format='.5…"
      ]
     },
     "metadata": {},
     "output_type": "display_data"
    },
    {
     "data": {
      "application/vnd.jupyter.widget-view+json": {
       "model_id": "aee9d2e0864a4a2d93ff06b572f0a4f1",
       "version_major": 2,
       "version_minor": 0
      },
      "text/plain": [
       "FloatSlider(value=1e-05, continuous_update=False, description='373', max=0.9999, min=1e-05, readout_format='.5…"
      ]
     },
     "metadata": {},
     "output_type": "display_data"
    },
    {
     "data": {
      "application/vnd.jupyter.widget-view+json": {
       "model_id": "14ac732988a544ad959a06708bd15083",
       "version_major": 2,
       "version_minor": 0
      },
      "text/plain": [
       "FloatSlider(value=1e-05, continuous_update=False, description='374', max=0.9999, min=1e-05, readout_format='.5…"
      ]
     },
     "metadata": {},
     "output_type": "display_data"
    },
    {
     "data": {
      "application/vnd.jupyter.widget-view+json": {
       "model_id": "804e8b6f20be401ba0096953f51a90fa",
       "version_major": 2,
       "version_minor": 0
      },
      "text/plain": [
       "FloatSlider(value=1e-05, continuous_update=False, description='375', max=0.9999, min=1e-05, readout_format='.5…"
      ]
     },
     "metadata": {},
     "output_type": "display_data"
    },
    {
     "data": {
      "application/vnd.jupyter.widget-view+json": {
       "model_id": "7b575443b88c48c596265e5b24093864",
       "version_major": 2,
       "version_minor": 0
      },
      "text/plain": [
       "FloatSlider(value=1e-05, continuous_update=False, description='376', max=0.9999, min=1e-05, readout_format='.5…"
      ]
     },
     "metadata": {},
     "output_type": "display_data"
    },
    {
     "data": {
      "application/vnd.jupyter.widget-view+json": {
       "model_id": "852574bf81f34ecf943fb509bb059b8f",
       "version_major": 2,
       "version_minor": 0
      },
      "text/plain": [
       "FloatSlider(value=1e-05, continuous_update=False, description='377', max=0.9999, min=1e-05, readout_format='.5…"
      ]
     },
     "metadata": {},
     "output_type": "display_data"
    },
    {
     "data": {
      "application/vnd.jupyter.widget-view+json": {
       "model_id": "90b79d921fc545309220da77f0b04ede",
       "version_major": 2,
       "version_minor": 0
      },
      "text/plain": [
       "FloatSlider(value=1e-05, continuous_update=False, description='378', max=0.9999, min=1e-05, readout_format='.5…"
      ]
     },
     "metadata": {},
     "output_type": "display_data"
    },
    {
     "data": {
      "application/vnd.jupyter.widget-view+json": {
       "model_id": "1eb3810b2d0844fda5eec8c3064896cb",
       "version_major": 2,
       "version_minor": 0
      },
      "text/plain": [
       "FloatSlider(value=1e-05, continuous_update=False, description='379', max=0.9999, min=1e-05, readout_format='.5…"
      ]
     },
     "metadata": {},
     "output_type": "display_data"
    },
    {
     "data": {
      "application/vnd.jupyter.widget-view+json": {
       "model_id": "0a769ed7fc864b8c86e27c73cf63cdf8",
       "version_major": 2,
       "version_minor": 0
      },
      "text/plain": [
       "FloatSlider(value=1e-05, continuous_update=False, description='380', max=0.9999, min=1e-05, readout_format='.5…"
      ]
     },
     "metadata": {},
     "output_type": "display_data"
    },
    {
     "data": {
      "application/vnd.jupyter.widget-view+json": {
       "model_id": "65518480e88744bcbfb5f53fa4930da4",
       "version_major": 2,
       "version_minor": 0
      },
      "text/plain": [
       "FloatSlider(value=1e-05, continuous_update=False, description='381', max=0.9999, min=1e-05, readout_format='.5…"
      ]
     },
     "metadata": {},
     "output_type": "display_data"
    },
    {
     "data": {
      "application/vnd.jupyter.widget-view+json": {
       "model_id": "bd629c83a7f44771bbdf61b39efcffa5",
       "version_major": 2,
       "version_minor": 0
      },
      "text/plain": [
       "FloatSlider(value=1e-05, continuous_update=False, description='382', max=0.9999, min=1e-05, readout_format='.5…"
      ]
     },
     "metadata": {},
     "output_type": "display_data"
    },
    {
     "data": {
      "application/vnd.jupyter.widget-view+json": {
       "model_id": "a533102ea6eb492393233ce4c224eb14",
       "version_major": 2,
       "version_minor": 0
      },
      "text/plain": [
       "FloatSlider(value=1e-05, continuous_update=False, description='383', max=0.9999, min=1e-05, readout_format='.5…"
      ]
     },
     "metadata": {},
     "output_type": "display_data"
    },
    {
     "data": {
      "application/vnd.jupyter.widget-view+json": {
       "model_id": "f943201ecd3046ee887c8859426f3213",
       "version_major": 2,
       "version_minor": 0
      },
      "text/plain": [
       "FloatSlider(value=1e-05, continuous_update=False, description='384', max=0.9999, min=1e-05, readout_format='.5…"
      ]
     },
     "metadata": {},
     "output_type": "display_data"
    },
    {
     "data": {
      "application/vnd.jupyter.widget-view+json": {
       "model_id": "54244d6d3e574a66a89c2ad4eb67c2c0",
       "version_major": 2,
       "version_minor": 0
      },
      "text/plain": [
       "FloatSlider(value=1e-05, continuous_update=False, description='385', max=0.9999, min=1e-05, readout_format='.5…"
      ]
     },
     "metadata": {},
     "output_type": "display_data"
    },
    {
     "data": {
      "application/vnd.jupyter.widget-view+json": {
       "model_id": "0a334bec69cc48eb861e006f85c9563a",
       "version_major": 2,
       "version_minor": 0
      },
      "text/plain": [
       "FloatSlider(value=1e-05, continuous_update=False, description='386', max=0.9999, min=1e-05, readout_format='.5…"
      ]
     },
     "metadata": {},
     "output_type": "display_data"
    },
    {
     "data": {
      "application/vnd.jupyter.widget-view+json": {
       "model_id": "243b2a1aaa0442bc9f9754b69cb22815",
       "version_major": 2,
       "version_minor": 0
      },
      "text/plain": [
       "FloatSlider(value=1e-05, continuous_update=False, description='387', max=0.9999, min=1e-05, readout_format='.5…"
      ]
     },
     "metadata": {},
     "output_type": "display_data"
    },
    {
     "data": {
      "application/vnd.jupyter.widget-view+json": {
       "model_id": "5a60f8dca11141358a1eefc1053dbb87",
       "version_major": 2,
       "version_minor": 0
      },
      "text/plain": [
       "FloatSlider(value=1e-05, continuous_update=False, description='388', max=0.9999, min=1e-05, readout_format='.5…"
      ]
     },
     "metadata": {},
     "output_type": "display_data"
    },
    {
     "data": {
      "application/vnd.jupyter.widget-view+json": {
       "model_id": "7125ef7d8fdd462fa854e2863b427c69",
       "version_major": 2,
       "version_minor": 0
      },
      "text/plain": [
       "FloatSlider(value=1e-05, continuous_update=False, description='389', max=0.9999, min=1e-05, readout_format='.5…"
      ]
     },
     "metadata": {},
     "output_type": "display_data"
    },
    {
     "data": {
      "application/vnd.jupyter.widget-view+json": {
       "model_id": "5dd48835ca0941f8a9245db6269fabbb",
       "version_major": 2,
       "version_minor": 0
      },
      "text/plain": [
       "FloatSlider(value=1e-05, continuous_update=False, description='390', max=0.9999, min=1e-05, readout_format='.5…"
      ]
     },
     "metadata": {},
     "output_type": "display_data"
    },
    {
     "data": {
      "application/vnd.jupyter.widget-view+json": {
       "model_id": "4e657fdb4aed44aeb48d5499407def95",
       "version_major": 2,
       "version_minor": 0
      },
      "text/plain": [
       "FloatSlider(value=1e-05, continuous_update=False, description='391', max=0.9999, min=1e-05, readout_format='.5…"
      ]
     },
     "metadata": {},
     "output_type": "display_data"
    },
    {
     "data": {
      "application/vnd.jupyter.widget-view+json": {
       "model_id": "8cd445b7e45f49cd9997e6d3f4f6de2d",
       "version_major": 2,
       "version_minor": 0
      },
      "text/plain": [
       "FloatSlider(value=1e-05, continuous_update=False, description='392', max=0.9999, min=1e-05, readout_format='.5…"
      ]
     },
     "metadata": {},
     "output_type": "display_data"
    },
    {
     "data": {
      "application/vnd.jupyter.widget-view+json": {
       "model_id": "57beb403c3344feba082999bb2219041",
       "version_major": 2,
       "version_minor": 0
      },
      "text/plain": [
       "FloatSlider(value=1e-05, continuous_update=False, description='393', max=0.9999, min=1e-05, readout_format='.5…"
      ]
     },
     "metadata": {},
     "output_type": "display_data"
    },
    {
     "data": {
      "application/vnd.jupyter.widget-view+json": {
       "model_id": "36fb2464d76c4aeaa1b3d38d19e5bc72",
       "version_major": 2,
       "version_minor": 0
      },
      "text/plain": [
       "FloatSlider(value=1e-05, continuous_update=False, description='394', max=0.9999, min=1e-05, readout_format='.5…"
      ]
     },
     "metadata": {},
     "output_type": "display_data"
    },
    {
     "data": {
      "application/vnd.jupyter.widget-view+json": {
       "model_id": "d4e394c6347f4a1486b81553cd58eeb0",
       "version_major": 2,
       "version_minor": 0
      },
      "text/plain": [
       "FloatSlider(value=1e-05, continuous_update=False, description='395', max=0.9999, min=1e-05, readout_format='.5…"
      ]
     },
     "metadata": {},
     "output_type": "display_data"
    },
    {
     "data": {
      "application/vnd.jupyter.widget-view+json": {
       "model_id": "3680c9e4b2e94ec1b326a5c6d14d9b31",
       "version_major": 2,
       "version_minor": 0
      },
      "text/plain": [
       "FloatSlider(value=1e-05, continuous_update=False, description='396', max=0.9999, min=1e-05, readout_format='.5…"
      ]
     },
     "metadata": {},
     "output_type": "display_data"
    },
    {
     "data": {
      "application/vnd.jupyter.widget-view+json": {
       "model_id": "832e1b2eb7544d3ba5a0f045afc97f2d",
       "version_major": 2,
       "version_minor": 0
      },
      "text/plain": [
       "FloatSlider(value=1e-05, continuous_update=False, description='397', max=0.9999, min=1e-05, readout_format='.5…"
      ]
     },
     "metadata": {},
     "output_type": "display_data"
    },
    {
     "data": {
      "application/vnd.jupyter.widget-view+json": {
       "model_id": "575ebb63b14f4100ad2222292a278c98",
       "version_major": 2,
       "version_minor": 0
      },
      "text/plain": [
       "FloatSlider(value=1e-05, continuous_update=False, description='398', max=0.9999, min=1e-05, readout_format='.5…"
      ]
     },
     "metadata": {},
     "output_type": "display_data"
    },
    {
     "data": {
      "application/vnd.jupyter.widget-view+json": {
       "model_id": "ba38aae5f0624cf08dbb82511853a4c5",
       "version_major": 2,
       "version_minor": 0
      },
      "text/plain": [
       "FloatSlider(value=1e-05, continuous_update=False, description='399', max=0.9999, min=1e-05, readout_format='.5…"
      ]
     },
     "metadata": {},
     "output_type": "display_data"
    },
    {
     "data": {
      "application/vnd.jupyter.widget-view+json": {
       "model_id": "1071595bd28a476c8a130d60967b0354",
       "version_major": 2,
       "version_minor": 0
      },
      "text/plain": [
       "FloatSlider(value=1e-05, continuous_update=False, description='400', max=0.9999, min=1e-05, readout_format='.5…"
      ]
     },
     "metadata": {},
     "output_type": "display_data"
    },
    {
     "data": {
      "application/vnd.jupyter.widget-view+json": {
       "model_id": "b226ee14124d416d97b8563b1be35b7e",
       "version_major": 2,
       "version_minor": 0
      },
      "text/plain": [
       "FloatSlider(value=1e-05, continuous_update=False, description='401', max=0.9999, min=1e-05, readout_format='.5…"
      ]
     },
     "metadata": {},
     "output_type": "display_data"
    },
    {
     "data": {
      "application/vnd.jupyter.widget-view+json": {
       "model_id": "b04214bae2c2408abe3e99a617aba247",
       "version_major": 2,
       "version_minor": 0
      },
      "text/plain": [
       "FloatSlider(value=1e-05, continuous_update=False, description='402', max=0.9999, min=1e-05, readout_format='.5…"
      ]
     },
     "metadata": {},
     "output_type": "display_data"
    },
    {
     "data": {
      "application/vnd.jupyter.widget-view+json": {
       "model_id": "3a89235568e440398c51251054a6a3da",
       "version_major": 2,
       "version_minor": 0
      },
      "text/plain": [
       "FloatSlider(value=1e-05, continuous_update=False, description='403', max=0.9999, min=1e-05, readout_format='.5…"
      ]
     },
     "metadata": {},
     "output_type": "display_data"
    },
    {
     "data": {
      "application/vnd.jupyter.widget-view+json": {
       "model_id": "baaa958dfb6b41e7a77d4e2227bd6392",
       "version_major": 2,
       "version_minor": 0
      },
      "text/plain": [
       "FloatSlider(value=1e-05, continuous_update=False, description='404', max=0.9999, min=1e-05, readout_format='.5…"
      ]
     },
     "metadata": {},
     "output_type": "display_data"
    },
    {
     "data": {
      "application/vnd.jupyter.widget-view+json": {
       "model_id": "514c74ad04484857a1317310ba2c5a9a",
       "version_major": 2,
       "version_minor": 0
      },
      "text/plain": [
       "FloatSlider(value=1e-05, continuous_update=False, description='405', max=0.9999, min=1e-05, readout_format='.5…"
      ]
     },
     "metadata": {},
     "output_type": "display_data"
    },
    {
     "data": {
      "application/vnd.jupyter.widget-view+json": {
       "model_id": "6981c48044fe4d4297ef23465848d5a1",
       "version_major": 2,
       "version_minor": 0
      },
      "text/plain": [
       "FloatSlider(value=1e-05, continuous_update=False, description='406', max=0.9999, min=1e-05, readout_format='.5…"
      ]
     },
     "metadata": {},
     "output_type": "display_data"
    },
    {
     "data": {
      "application/vnd.jupyter.widget-view+json": {
       "model_id": "23ec65b6542745dea545b491bc829524",
       "version_major": 2,
       "version_minor": 0
      },
      "text/plain": [
       "FloatSlider(value=1e-05, continuous_update=False, description='407', max=0.9999, min=1e-05, readout_format='.5…"
      ]
     },
     "metadata": {},
     "output_type": "display_data"
    },
    {
     "data": {
      "application/vnd.jupyter.widget-view+json": {
       "model_id": "199597c3f43f481dbc58ddd229e6cf77",
       "version_major": 2,
       "version_minor": 0
      },
      "text/plain": [
       "FloatSlider(value=1e-05, continuous_update=False, description='408', max=0.9999, min=1e-05, readout_format='.5…"
      ]
     },
     "metadata": {},
     "output_type": "display_data"
    },
    {
     "data": {
      "application/vnd.jupyter.widget-view+json": {
       "model_id": "d5b8e7f9b6b04a6c80526972a84fcb16",
       "version_major": 2,
       "version_minor": 0
      },
      "text/plain": [
       "FloatSlider(value=1e-05, continuous_update=False, description='409', max=0.9999, min=1e-05, readout_format='.5…"
      ]
     },
     "metadata": {},
     "output_type": "display_data"
    },
    {
     "data": {
      "application/vnd.jupyter.widget-view+json": {
       "model_id": "d6ee0031c655443492f161ccddb0b115",
       "version_major": 2,
       "version_minor": 0
      },
      "text/plain": [
       "FloatSlider(value=1e-05, continuous_update=False, description='410', max=0.9999, min=1e-05, readout_format='.5…"
      ]
     },
     "metadata": {},
     "output_type": "display_data"
    },
    {
     "data": {
      "application/vnd.jupyter.widget-view+json": {
       "model_id": "868048327d994f5c944ecc98a7caed7c",
       "version_major": 2,
       "version_minor": 0
      },
      "text/plain": [
       "FloatSlider(value=1e-05, continuous_update=False, description='411', max=0.9999, min=1e-05, readout_format='.5…"
      ]
     },
     "metadata": {},
     "output_type": "display_data"
    },
    {
     "data": {
      "application/vnd.jupyter.widget-view+json": {
       "model_id": "63fec31aaa7a409f8b4e83c95094fa7b",
       "version_major": 2,
       "version_minor": 0
      },
      "text/plain": [
       "FloatSlider(value=1e-05, continuous_update=False, description='412', max=0.9999, min=1e-05, readout_format='.5…"
      ]
     },
     "metadata": {},
     "output_type": "display_data"
    },
    {
     "data": {
      "application/vnd.jupyter.widget-view+json": {
       "model_id": "d4b1208fcfb64937af90f05316eb152b",
       "version_major": 2,
       "version_minor": 0
      },
      "text/plain": [
       "FloatSlider(value=1e-05, continuous_update=False, description='413', max=0.9999, min=1e-05, readout_format='.5…"
      ]
     },
     "metadata": {},
     "output_type": "display_data"
    },
    {
     "data": {
      "application/vnd.jupyter.widget-view+json": {
       "model_id": "a1033829c7614b4bb6138b663fe2cf65",
       "version_major": 2,
       "version_minor": 0
      },
      "text/plain": [
       "FloatSlider(value=1e-05, continuous_update=False, description='414', max=0.9999, min=1e-05, readout_format='.5…"
      ]
     },
     "metadata": {},
     "output_type": "display_data"
    },
    {
     "data": {
      "application/vnd.jupyter.widget-view+json": {
       "model_id": "2d4137ca5c314999b195b87c47c84574",
       "version_major": 2,
       "version_minor": 0
      },
      "text/plain": [
       "FloatSlider(value=1e-05, continuous_update=False, description='415', max=0.9999, min=1e-05, readout_format='.5…"
      ]
     },
     "metadata": {},
     "output_type": "display_data"
    },
    {
     "data": {
      "application/vnd.jupyter.widget-view+json": {
       "model_id": "f1bf6fc4a56c41979816e50749b351b6",
       "version_major": 2,
       "version_minor": 0
      },
      "text/plain": [
       "FloatSlider(value=1e-05, continuous_update=False, description='416', max=0.9999, min=1e-05, readout_format='.5…"
      ]
     },
     "metadata": {},
     "output_type": "display_data"
    },
    {
     "data": {
      "application/vnd.jupyter.widget-view+json": {
       "model_id": "64bd3f40f29946c0881357d1517d04b7",
       "version_major": 2,
       "version_minor": 0
      },
      "text/plain": [
       "FloatSlider(value=1e-05, continuous_update=False, description='417', max=0.9999, min=1e-05, readout_format='.5…"
      ]
     },
     "metadata": {},
     "output_type": "display_data"
    },
    {
     "data": {
      "application/vnd.jupyter.widget-view+json": {
       "model_id": "fdf57adbf7dc45ebb119afda63bc511e",
       "version_major": 2,
       "version_minor": 0
      },
      "text/plain": [
       "FloatSlider(value=1e-05, continuous_update=False, description='418', max=0.9999, min=1e-05, readout_format='.5…"
      ]
     },
     "metadata": {},
     "output_type": "display_data"
    },
    {
     "data": {
      "application/vnd.jupyter.widget-view+json": {
       "model_id": "8c2baa2e6cb746459cc8658a9cb551f9",
       "version_major": 2,
       "version_minor": 0
      },
      "text/plain": [
       "FloatSlider(value=1e-05, continuous_update=False, description='419', max=0.9999, min=1e-05, readout_format='.5…"
      ]
     },
     "metadata": {},
     "output_type": "display_data"
    },
    {
     "data": {
      "application/vnd.jupyter.widget-view+json": {
       "model_id": "ab7de91cbe7a438bac3c84727fc35e9c",
       "version_major": 2,
       "version_minor": 0
      },
      "text/plain": [
       "FloatSlider(value=1e-05, continuous_update=False, description='420', max=0.9999, min=1e-05, readout_format='.5…"
      ]
     },
     "metadata": {},
     "output_type": "display_data"
    },
    {
     "data": {
      "application/vnd.jupyter.widget-view+json": {
       "model_id": "358157e91ad2405d98136e195420c478",
       "version_major": 2,
       "version_minor": 0
      },
      "text/plain": [
       "FloatSlider(value=1e-05, continuous_update=False, description='421', max=0.9999, min=1e-05, readout_format='.5…"
      ]
     },
     "metadata": {},
     "output_type": "display_data"
    },
    {
     "data": {
      "application/vnd.jupyter.widget-view+json": {
       "model_id": "4b2ee05b83634b9ab2456611ea270d7d",
       "version_major": 2,
       "version_minor": 0
      },
      "text/plain": [
       "FloatSlider(value=1e-05, continuous_update=False, description='422', max=0.9999, min=1e-05, readout_format='.5…"
      ]
     },
     "metadata": {},
     "output_type": "display_data"
    },
    {
     "data": {
      "application/vnd.jupyter.widget-view+json": {
       "model_id": "7debc9502f6c4b1d9c88c5885fce6af0",
       "version_major": 2,
       "version_minor": 0
      },
      "text/plain": [
       "FloatSlider(value=1e-05, continuous_update=False, description='423', max=0.9999, min=1e-05, readout_format='.5…"
      ]
     },
     "metadata": {},
     "output_type": "display_data"
    },
    {
     "data": {
      "application/vnd.jupyter.widget-view+json": {
       "model_id": "9897d8fa9bd64d749e323d12c2fe740e",
       "version_major": 2,
       "version_minor": 0
      },
      "text/plain": [
       "FloatSlider(value=1e-05, continuous_update=False, description='424', max=0.9999, min=1e-05, readout_format='.5…"
      ]
     },
     "metadata": {},
     "output_type": "display_data"
    },
    {
     "data": {
      "application/vnd.jupyter.widget-view+json": {
       "model_id": "afe31296dc834e6d9122f8fb5881d66d",
       "version_major": 2,
       "version_minor": 0
      },
      "text/plain": [
       "FloatSlider(value=1e-05, continuous_update=False, description='425', max=0.9999, min=1e-05, readout_format='.5…"
      ]
     },
     "metadata": {},
     "output_type": "display_data"
    },
    {
     "data": {
      "application/vnd.jupyter.widget-view+json": {
       "model_id": "ec7b3413eb374f7bbbd1d7b147d7a48f",
       "version_major": 2,
       "version_minor": 0
      },
      "text/plain": [
       "FloatSlider(value=1e-05, continuous_update=False, description='426', max=0.9999, min=1e-05, readout_format='.5…"
      ]
     },
     "metadata": {},
     "output_type": "display_data"
    },
    {
     "data": {
      "application/vnd.jupyter.widget-view+json": {
       "model_id": "5b4d509fcb6640d7b3aa8062b967d934",
       "version_major": 2,
       "version_minor": 0
      },
      "text/plain": [
       "FloatSlider(value=1e-05, continuous_update=False, description='427', max=0.9999, min=1e-05, readout_format='.5…"
      ]
     },
     "metadata": {},
     "output_type": "display_data"
    },
    {
     "data": {
      "application/vnd.jupyter.widget-view+json": {
       "model_id": "f7bb7f2bb8944ba694156178110796fe",
       "version_major": 2,
       "version_minor": 0
      },
      "text/plain": [
       "FloatSlider(value=1e-05, continuous_update=False, description='428', max=0.9999, min=1e-05, readout_format='.5…"
      ]
     },
     "metadata": {},
     "output_type": "display_data"
    },
    {
     "data": {
      "application/vnd.jupyter.widget-view+json": {
       "model_id": "85185d0320c445bf90b0ded79ab2a10c",
       "version_major": 2,
       "version_minor": 0
      },
      "text/plain": [
       "FloatSlider(value=1e-05, continuous_update=False, description='429', max=0.9999, min=1e-05, readout_format='.5…"
      ]
     },
     "metadata": {},
     "output_type": "display_data"
    },
    {
     "data": {
      "application/vnd.jupyter.widget-view+json": {
       "model_id": "fc619380372c4a1c9f444061ad020779",
       "version_major": 2,
       "version_minor": 0
      },
      "text/plain": [
       "FloatSlider(value=1e-05, continuous_update=False, description='430', max=0.9999, min=1e-05, readout_format='.5…"
      ]
     },
     "metadata": {},
     "output_type": "display_data"
    },
    {
     "data": {
      "application/vnd.jupyter.widget-view+json": {
       "model_id": "16c6b3f5fdb740e6b5ead47c52933107",
       "version_major": 2,
       "version_minor": 0
      },
      "text/plain": [
       "FloatSlider(value=1e-05, continuous_update=False, description='431', max=0.9999, min=1e-05, readout_format='.5…"
      ]
     },
     "metadata": {},
     "output_type": "display_data"
    },
    {
     "data": {
      "application/vnd.jupyter.widget-view+json": {
       "model_id": "671612a7c51a403c8c1176451d32d476",
       "version_major": 2,
       "version_minor": 0
      },
      "text/plain": [
       "FloatSlider(value=1e-05, continuous_update=False, description='432', max=0.9999, min=1e-05, readout_format='.5…"
      ]
     },
     "metadata": {},
     "output_type": "display_data"
    },
    {
     "data": {
      "application/vnd.jupyter.widget-view+json": {
       "model_id": "208031adfc9e46459376d09d72b38182",
       "version_major": 2,
       "version_minor": 0
      },
      "text/plain": [
       "FloatSlider(value=1e-05, continuous_update=False, description='433', max=0.9999, min=1e-05, readout_format='.5…"
      ]
     },
     "metadata": {},
     "output_type": "display_data"
    },
    {
     "data": {
      "application/vnd.jupyter.widget-view+json": {
       "model_id": "78c130837edc4dc9b9d642554cacd9b5",
       "version_major": 2,
       "version_minor": 0
      },
      "text/plain": [
       "FloatSlider(value=1e-05, continuous_update=False, description='434', max=0.9999, min=1e-05, readout_format='.5…"
      ]
     },
     "metadata": {},
     "output_type": "display_data"
    },
    {
     "data": {
      "application/vnd.jupyter.widget-view+json": {
       "model_id": "aaeb770e744d4cf186f0ee14486c4366",
       "version_major": 2,
       "version_minor": 0
      },
      "text/plain": [
       "FloatSlider(value=1e-05, continuous_update=False, description='435', max=0.9999, min=1e-05, readout_format='.5…"
      ]
     },
     "metadata": {},
     "output_type": "display_data"
    },
    {
     "data": {
      "application/vnd.jupyter.widget-view+json": {
       "model_id": "6b905aad09d049778837fa547c5633f0",
       "version_major": 2,
       "version_minor": 0
      },
      "text/plain": [
       "FloatSlider(value=1e-05, continuous_update=False, description='436', max=0.9999, min=1e-05, readout_format='.5…"
      ]
     },
     "metadata": {},
     "output_type": "display_data"
    },
    {
     "data": {
      "application/vnd.jupyter.widget-view+json": {
       "model_id": "5650ccc9c8aa40f3a16b7264eea467be",
       "version_major": 2,
       "version_minor": 0
      },
      "text/plain": [
       "FloatSlider(value=1e-05, continuous_update=False, description='437', max=0.9999, min=1e-05, readout_format='.5…"
      ]
     },
     "metadata": {},
     "output_type": "display_data"
    },
    {
     "data": {
      "application/vnd.jupyter.widget-view+json": {
       "model_id": "a95c5f3e8bf94bf582447a3bea1de567",
       "version_major": 2,
       "version_minor": 0
      },
      "text/plain": [
       "FloatSlider(value=1e-05, continuous_update=False, description='438', max=0.9999, min=1e-05, readout_format='.5…"
      ]
     },
     "metadata": {},
     "output_type": "display_data"
    },
    {
     "data": {
      "application/vnd.jupyter.widget-view+json": {
       "model_id": "9c8d87fd2268462a9d83844bd405a0b5",
       "version_major": 2,
       "version_minor": 0
      },
      "text/plain": [
       "FloatSlider(value=1e-05, continuous_update=False, description='439', max=0.9999, min=1e-05, readout_format='.5…"
      ]
     },
     "metadata": {},
     "output_type": "display_data"
    },
    {
     "data": {
      "application/vnd.jupyter.widget-view+json": {
       "model_id": "ae0ffa46e1c74eb7acc90d8c35a7f37d",
       "version_major": 2,
       "version_minor": 0
      },
      "text/plain": [
       "FloatSlider(value=1e-05, continuous_update=False, description='440', max=0.9999, min=1e-05, readout_format='.5…"
      ]
     },
     "metadata": {},
     "output_type": "display_data"
    },
    {
     "data": {
      "application/vnd.jupyter.widget-view+json": {
       "model_id": "095a188406ff4a34816ab8b2c80ac9c5",
       "version_major": 2,
       "version_minor": 0
      },
      "text/plain": [
       "FloatSlider(value=1e-05, continuous_update=False, description='441', max=0.9999, min=1e-05, readout_format='.5…"
      ]
     },
     "metadata": {},
     "output_type": "display_data"
    },
    {
     "data": {
      "application/vnd.jupyter.widget-view+json": {
       "model_id": "6eeefa95457445ec99da16230ff1dad5",
       "version_major": 2,
       "version_minor": 0
      },
      "text/plain": [
       "FloatSlider(value=1e-05, continuous_update=False, description='442', max=0.9999, min=1e-05, readout_format='.5…"
      ]
     },
     "metadata": {},
     "output_type": "display_data"
    },
    {
     "data": {
      "application/vnd.jupyter.widget-view+json": {
       "model_id": "6ce7c9d8b5c14088883c44cc66a7dca5",
       "version_major": 2,
       "version_minor": 0
      },
      "text/plain": [
       "FloatSlider(value=1e-05, continuous_update=False, description='443', max=0.9999, min=1e-05, readout_format='.5…"
      ]
     },
     "metadata": {},
     "output_type": "display_data"
    },
    {
     "data": {
      "application/vnd.jupyter.widget-view+json": {
       "model_id": "6e0d2ad5652a47c2a89d928830617be5",
       "version_major": 2,
       "version_minor": 0
      },
      "text/plain": [
       "FloatSlider(value=1e-05, continuous_update=False, description='444', max=0.9999, min=1e-05, readout_format='.5…"
      ]
     },
     "metadata": {},
     "output_type": "display_data"
    },
    {
     "data": {
      "application/vnd.jupyter.widget-view+json": {
       "model_id": "e958f18610d346e2939b932943de35a4",
       "version_major": 2,
       "version_minor": 0
      },
      "text/plain": [
       "FloatSlider(value=1e-05, continuous_update=False, description='445', max=0.9999, min=1e-05, readout_format='.5…"
      ]
     },
     "metadata": {},
     "output_type": "display_data"
    },
    {
     "data": {
      "application/vnd.jupyter.widget-view+json": {
       "model_id": "915d228f9b9a4c1492947ea0ee690f4d",
       "version_major": 2,
       "version_minor": 0
      },
      "text/plain": [
       "FloatSlider(value=1e-05, continuous_update=False, description='446', max=0.9999, min=1e-05, readout_format='.5…"
      ]
     },
     "metadata": {},
     "output_type": "display_data"
    },
    {
     "data": {
      "application/vnd.jupyter.widget-view+json": {
       "model_id": "5f915121561d4c9ea4815122f7143e5f",
       "version_major": 2,
       "version_minor": 0
      },
      "text/plain": [
       "FloatSlider(value=1e-05, continuous_update=False, description='447', max=0.9999, min=1e-05, readout_format='.5…"
      ]
     },
     "metadata": {},
     "output_type": "display_data"
    },
    {
     "data": {
      "application/vnd.jupyter.widget-view+json": {
       "model_id": "2d1f82ea01974c0d98599d7c7dadf9bd",
       "version_major": 2,
       "version_minor": 0
      },
      "text/plain": [
       "FloatSlider(value=1e-05, continuous_update=False, description='448', max=0.9999, min=1e-05, readout_format='.5…"
      ]
     },
     "metadata": {},
     "output_type": "display_data"
    },
    {
     "data": {
      "application/vnd.jupyter.widget-view+json": {
       "model_id": "ab0ce0dfd9b74f0e991069bf362ed429",
       "version_major": 2,
       "version_minor": 0
      },
      "text/plain": [
       "FloatSlider(value=1e-05, continuous_update=False, description='449', max=0.9999, min=1e-05, readout_format='.5…"
      ]
     },
     "metadata": {},
     "output_type": "display_data"
    },
    {
     "data": {
      "application/vnd.jupyter.widget-view+json": {
       "model_id": "fe10f46de3b341e8909864b73e76f5e4",
       "version_major": 2,
       "version_minor": 0
      },
      "text/plain": [
       "FloatSlider(value=1e-05, continuous_update=False, description='450', max=0.9999, min=1e-05, readout_format='.5…"
      ]
     },
     "metadata": {},
     "output_type": "display_data"
    },
    {
     "data": {
      "application/vnd.jupyter.widget-view+json": {
       "model_id": "fe51afa2cb444bcb8e4ebd9dfaed3039",
       "version_major": 2,
       "version_minor": 0
      },
      "text/plain": [
       "FloatSlider(value=1e-05, continuous_update=False, description='451', max=0.9999, min=1e-05, readout_format='.5…"
      ]
     },
     "metadata": {},
     "output_type": "display_data"
    },
    {
     "data": {
      "application/vnd.jupyter.widget-view+json": {
       "model_id": "103c6503be0f47548285753dd8d1b6b2",
       "version_major": 2,
       "version_minor": 0
      },
      "text/plain": [
       "FloatSlider(value=1e-05, continuous_update=False, description='452', max=0.9999, min=1e-05, readout_format='.5…"
      ]
     },
     "metadata": {},
     "output_type": "display_data"
    },
    {
     "data": {
      "application/vnd.jupyter.widget-view+json": {
       "model_id": "1ae8860a80634717a8f854bbf1ab22a3",
       "version_major": 2,
       "version_minor": 0
      },
      "text/plain": [
       "FloatSlider(value=1e-05, continuous_update=False, description='453', max=0.9999, min=1e-05, readout_format='.5…"
      ]
     },
     "metadata": {},
     "output_type": "display_data"
    },
    {
     "data": {
      "application/vnd.jupyter.widget-view+json": {
       "model_id": "9ea182e584d34d2a8e7081ab79bbd431",
       "version_major": 2,
       "version_minor": 0
      },
      "text/plain": [
       "FloatSlider(value=1e-05, continuous_update=False, description='454', max=0.9999, min=1e-05, readout_format='.5…"
      ]
     },
     "metadata": {},
     "output_type": "display_data"
    },
    {
     "data": {
      "application/vnd.jupyter.widget-view+json": {
       "model_id": "ff07d378fc1c4f34b4c63f6d5197e7b2",
       "version_major": 2,
       "version_minor": 0
      },
      "text/plain": [
       "FloatSlider(value=1e-05, continuous_update=False, description='455', max=0.9999, min=1e-05, readout_format='.5…"
      ]
     },
     "metadata": {},
     "output_type": "display_data"
    },
    {
     "data": {
      "application/vnd.jupyter.widget-view+json": {
       "model_id": "c4b8c9bcd52b4454b1ebcf1e9752c7a9",
       "version_major": 2,
       "version_minor": 0
      },
      "text/plain": [
       "FloatSlider(value=1e-05, continuous_update=False, description='456', max=0.9999, min=1e-05, readout_format='.5…"
      ]
     },
     "metadata": {},
     "output_type": "display_data"
    },
    {
     "data": {
      "application/vnd.jupyter.widget-view+json": {
       "model_id": "4cc44f570950489bb49c679c235c1542",
       "version_major": 2,
       "version_minor": 0
      },
      "text/plain": [
       "FloatSlider(value=1e-05, continuous_update=False, description='457', max=0.9999, min=1e-05, readout_format='.5…"
      ]
     },
     "metadata": {},
     "output_type": "display_data"
    },
    {
     "data": {
      "application/vnd.jupyter.widget-view+json": {
       "model_id": "959516b362a74db19af7801d96d93926",
       "version_major": 2,
       "version_minor": 0
      },
      "text/plain": [
       "FloatSlider(value=1e-05, continuous_update=False, description='458', max=0.9999, min=1e-05, readout_format='.5…"
      ]
     },
     "metadata": {},
     "output_type": "display_data"
    },
    {
     "data": {
      "application/vnd.jupyter.widget-view+json": {
       "model_id": "0d7f1589833047a3b5cc381f475b9054",
       "version_major": 2,
       "version_minor": 0
      },
      "text/plain": [
       "FloatSlider(value=1e-05, continuous_update=False, description='459', max=0.9999, min=1e-05, readout_format='.5…"
      ]
     },
     "metadata": {},
     "output_type": "display_data"
    },
    {
     "data": {
      "application/vnd.jupyter.widget-view+json": {
       "model_id": "b99012f840ae41409ad930bb16f343a1",
       "version_major": 2,
       "version_minor": 0
      },
      "text/plain": [
       "FloatSlider(value=1e-05, continuous_update=False, description='460', max=0.9999, min=1e-05, readout_format='.5…"
      ]
     },
     "metadata": {},
     "output_type": "display_data"
    },
    {
     "data": {
      "application/vnd.jupyter.widget-view+json": {
       "model_id": "e5396b305147431f934a7793bbbd8399",
       "version_major": 2,
       "version_minor": 0
      },
      "text/plain": [
       "FloatSlider(value=1e-05, continuous_update=False, description='461', max=0.9999, min=1e-05, readout_format='.5…"
      ]
     },
     "metadata": {},
     "output_type": "display_data"
    },
    {
     "data": {
      "application/vnd.jupyter.widget-view+json": {
       "model_id": "31f5486476a246008e5698bed2a15bcf",
       "version_major": 2,
       "version_minor": 0
      },
      "text/plain": [
       "FloatSlider(value=1e-05, continuous_update=False, description='462', max=0.9999, min=1e-05, readout_format='.5…"
      ]
     },
     "metadata": {},
     "output_type": "display_data"
    },
    {
     "data": {
      "application/vnd.jupyter.widget-view+json": {
       "model_id": "a755e7db699e432d9b6fa59785fa5710",
       "version_major": 2,
       "version_minor": 0
      },
      "text/plain": [
       "FloatSlider(value=1e-05, continuous_update=False, description='463', max=0.9999, min=1e-05, readout_format='.5…"
      ]
     },
     "metadata": {},
     "output_type": "display_data"
    },
    {
     "data": {
      "application/vnd.jupyter.widget-view+json": {
       "model_id": "3f4adfc9cf274d3783e0f985ed086c4c",
       "version_major": 2,
       "version_minor": 0
      },
      "text/plain": [
       "FloatSlider(value=1e-05, continuous_update=False, description='464', max=0.9999, min=1e-05, readout_format='.5…"
      ]
     },
     "metadata": {},
     "output_type": "display_data"
    },
    {
     "data": {
      "application/vnd.jupyter.widget-view+json": {
       "model_id": "67b9f970c0dd4246a19f799e268b357e",
       "version_major": 2,
       "version_minor": 0
      },
      "text/plain": [
       "FloatSlider(value=1e-05, continuous_update=False, description='465', max=0.9999, min=1e-05, readout_format='.5…"
      ]
     },
     "metadata": {},
     "output_type": "display_data"
    },
    {
     "data": {
      "application/vnd.jupyter.widget-view+json": {
       "model_id": "c28c552bb210462fa3ad7c19b135c4a1",
       "version_major": 2,
       "version_minor": 0
      },
      "text/plain": [
       "FloatSlider(value=1e-05, continuous_update=False, description='466', max=0.9999, min=1e-05, readout_format='.5…"
      ]
     },
     "metadata": {},
     "output_type": "display_data"
    },
    {
     "data": {
      "application/vnd.jupyter.widget-view+json": {
       "model_id": "9957f4ac05f342d4ace2dff5d1a0682e",
       "version_major": 2,
       "version_minor": 0
      },
      "text/plain": [
       "FloatSlider(value=1e-05, continuous_update=False, description='467', max=0.9999, min=1e-05, readout_format='.5…"
      ]
     },
     "metadata": {},
     "output_type": "display_data"
    },
    {
     "data": {
      "application/vnd.jupyter.widget-view+json": {
       "model_id": "789f94733da1471495f080e760c348a1",
       "version_major": 2,
       "version_minor": 0
      },
      "text/plain": [
       "FloatSlider(value=1e-05, continuous_update=False, description='468', max=0.9999, min=1e-05, readout_format='.5…"
      ]
     },
     "metadata": {},
     "output_type": "display_data"
    },
    {
     "data": {
      "application/vnd.jupyter.widget-view+json": {
       "model_id": "363764fb08b144ff93d73a7dfed8b42d",
       "version_major": 2,
       "version_minor": 0
      },
      "text/plain": [
       "FloatSlider(value=1e-05, continuous_update=False, description='469', max=0.9999, min=1e-05, readout_format='.5…"
      ]
     },
     "metadata": {},
     "output_type": "display_data"
    },
    {
     "data": {
      "application/vnd.jupyter.widget-view+json": {
       "model_id": "117f9e0ef81647c48e6d125976bcec60",
       "version_major": 2,
       "version_minor": 0
      },
      "text/plain": [
       "FloatSlider(value=1e-05, continuous_update=False, description='470', max=0.9999, min=1e-05, readout_format='.5…"
      ]
     },
     "metadata": {},
     "output_type": "display_data"
    },
    {
     "data": {
      "application/vnd.jupyter.widget-view+json": {
       "model_id": "92ff37eb28f94598862e5727571d2c6a",
       "version_major": 2,
       "version_minor": 0
      },
      "text/plain": [
       "FloatSlider(value=1e-05, continuous_update=False, description='471', max=0.9999, min=1e-05, readout_format='.5…"
      ]
     },
     "metadata": {},
     "output_type": "display_data"
    },
    {
     "data": {
      "application/vnd.jupyter.widget-view+json": {
       "model_id": "36f1907c8c384435802d72e7eb692dfa",
       "version_major": 2,
       "version_minor": 0
      },
      "text/plain": [
       "FloatSlider(value=1e-05, continuous_update=False, description='472', max=0.9999, min=1e-05, readout_format='.5…"
      ]
     },
     "metadata": {},
     "output_type": "display_data"
    },
    {
     "data": {
      "application/vnd.jupyter.widget-view+json": {
       "model_id": "a4536af2891e41c190021884652897f2",
       "version_major": 2,
       "version_minor": 0
      },
      "text/plain": [
       "FloatSlider(value=1e-05, continuous_update=False, description='473', max=0.9999, min=1e-05, readout_format='.5…"
      ]
     },
     "metadata": {},
     "output_type": "display_data"
    },
    {
     "data": {
      "application/vnd.jupyter.widget-view+json": {
       "model_id": "03493e6e3ab748a2a0f4a34562b6be49",
       "version_major": 2,
       "version_minor": 0
      },
      "text/plain": [
       "FloatSlider(value=1e-05, continuous_update=False, description='474', max=0.9999, min=1e-05, readout_format='.5…"
      ]
     },
     "metadata": {},
     "output_type": "display_data"
    },
    {
     "data": {
      "application/vnd.jupyter.widget-view+json": {
       "model_id": "3e2f82a329a647f0a1b2602a64bba1f6",
       "version_major": 2,
       "version_minor": 0
      },
      "text/plain": [
       "FloatSlider(value=1e-05, continuous_update=False, description='475', max=0.9999, min=1e-05, readout_format='.5…"
      ]
     },
     "metadata": {},
     "output_type": "display_data"
    },
    {
     "data": {
      "application/vnd.jupyter.widget-view+json": {
       "model_id": "416133728c414a67a295e394d3eb8af3",
       "version_major": 2,
       "version_minor": 0
      },
      "text/plain": [
       "FloatSlider(value=1e-05, continuous_update=False, description='476', max=0.9999, min=1e-05, readout_format='.5…"
      ]
     },
     "metadata": {},
     "output_type": "display_data"
    },
    {
     "data": {
      "application/vnd.jupyter.widget-view+json": {
       "model_id": "eaba4bbd9c594e299298f1f756ee70c2",
       "version_major": 2,
       "version_minor": 0
      },
      "text/plain": [
       "FloatSlider(value=1e-05, continuous_update=False, description='477', max=0.9999, min=1e-05, readout_format='.5…"
      ]
     },
     "metadata": {},
     "output_type": "display_data"
    },
    {
     "data": {
      "application/vnd.jupyter.widget-view+json": {
       "model_id": "1dda13d1eed14f08a581509a1e51ec3b",
       "version_major": 2,
       "version_minor": 0
      },
      "text/plain": [
       "FloatSlider(value=1e-05, continuous_update=False, description='478', max=0.9999, min=1e-05, readout_format='.5…"
      ]
     },
     "metadata": {},
     "output_type": "display_data"
    },
    {
     "data": {
      "application/vnd.jupyter.widget-view+json": {
       "model_id": "2d22cf2c7b1947c8969d4900e2aea53d",
       "version_major": 2,
       "version_minor": 0
      },
      "text/plain": [
       "FloatSlider(value=1e-05, continuous_update=False, description='479', max=0.9999, min=1e-05, readout_format='.5…"
      ]
     },
     "metadata": {},
     "output_type": "display_data"
    },
    {
     "data": {
      "application/vnd.jupyter.widget-view+json": {
       "model_id": "dc909a44cc374d10bc325cf20ecf6f7d",
       "version_major": 2,
       "version_minor": 0
      },
      "text/plain": [
       "FloatSlider(value=1e-05, continuous_update=False, description='480', max=0.9999, min=1e-05, readout_format='.5…"
      ]
     },
     "metadata": {},
     "output_type": "display_data"
    },
    {
     "data": {
      "application/vnd.jupyter.widget-view+json": {
       "model_id": "ab843d32cb2447d181ea0a056105cfb8",
       "version_major": 2,
       "version_minor": 0
      },
      "text/plain": [
       "FloatSlider(value=1e-05, continuous_update=False, description='481', max=0.9999, min=1e-05, readout_format='.5…"
      ]
     },
     "metadata": {},
     "output_type": "display_data"
    },
    {
     "data": {
      "application/vnd.jupyter.widget-view+json": {
       "model_id": "c335ea731c6e409388203885c90c543d",
       "version_major": 2,
       "version_minor": 0
      },
      "text/plain": [
       "FloatSlider(value=1e-05, continuous_update=False, description='482', max=0.9999, min=1e-05, readout_format='.5…"
      ]
     },
     "metadata": {},
     "output_type": "display_data"
    },
    {
     "data": {
      "application/vnd.jupyter.widget-view+json": {
       "model_id": "f402d755da0a454ca04954990dc5cc68",
       "version_major": 2,
       "version_minor": 0
      },
      "text/plain": [
       "FloatSlider(value=1e-05, continuous_update=False, description='483', max=0.9999, min=1e-05, readout_format='.5…"
      ]
     },
     "metadata": {},
     "output_type": "display_data"
    },
    {
     "data": {
      "application/vnd.jupyter.widget-view+json": {
       "model_id": "46b7111ea3ba42388b2b09be338eadb7",
       "version_major": 2,
       "version_minor": 0
      },
      "text/plain": [
       "FloatSlider(value=1e-05, continuous_update=False, description='484', max=0.9999, min=1e-05, readout_format='.5…"
      ]
     },
     "metadata": {},
     "output_type": "display_data"
    },
    {
     "data": {
      "application/vnd.jupyter.widget-view+json": {
       "model_id": "68308f3ef6d8400bb9c311723b1dec7d",
       "version_major": 2,
       "version_minor": 0
      },
      "text/plain": [
       "FloatSlider(value=1e-05, continuous_update=False, description='485', max=0.9999, min=1e-05, readout_format='.5…"
      ]
     },
     "metadata": {},
     "output_type": "display_data"
    },
    {
     "data": {
      "application/vnd.jupyter.widget-view+json": {
       "model_id": "204b7feec273478f94b491abb04f65ba",
       "version_major": 2,
       "version_minor": 0
      },
      "text/plain": [
       "FloatSlider(value=1e-05, continuous_update=False, description='486', max=0.9999, min=1e-05, readout_format='.5…"
      ]
     },
     "metadata": {},
     "output_type": "display_data"
    },
    {
     "data": {
      "application/vnd.jupyter.widget-view+json": {
       "model_id": "5ca73630aaa84e42aecbf40dd25c7d35",
       "version_major": 2,
       "version_minor": 0
      },
      "text/plain": [
       "FloatSlider(value=1e-05, continuous_update=False, description='487', max=0.9999, min=1e-05, readout_format='.5…"
      ]
     },
     "metadata": {},
     "output_type": "display_data"
    },
    {
     "data": {
      "application/vnd.jupyter.widget-view+json": {
       "model_id": "7ce00b42c95d4e389de58b8a8fd5f9fb",
       "version_major": 2,
       "version_minor": 0
      },
      "text/plain": [
       "FloatSlider(value=1e-05, continuous_update=False, description='488', max=0.9999, min=1e-05, readout_format='.5…"
      ]
     },
     "metadata": {},
     "output_type": "display_data"
    },
    {
     "data": {
      "application/vnd.jupyter.widget-view+json": {
       "model_id": "47d6174fe5f24956b38d7c242084e8b0",
       "version_major": 2,
       "version_minor": 0
      },
      "text/plain": [
       "FloatSlider(value=1e-05, continuous_update=False, description='489', max=0.9999, min=1e-05, readout_format='.5…"
      ]
     },
     "metadata": {},
     "output_type": "display_data"
    },
    {
     "data": {
      "application/vnd.jupyter.widget-view+json": {
       "model_id": "2a64c7666c124679a3561b5b7457fddf",
       "version_major": 2,
       "version_minor": 0
      },
      "text/plain": [
       "FloatSlider(value=1e-05, continuous_update=False, description='490', max=0.9999, min=1e-05, readout_format='.5…"
      ]
     },
     "metadata": {},
     "output_type": "display_data"
    },
    {
     "data": {
      "application/vnd.jupyter.widget-view+json": {
       "model_id": "11b33064a40a4a39837a195b40eebae9",
       "version_major": 2,
       "version_minor": 0
      },
      "text/plain": [
       "FloatSlider(value=1e-05, continuous_update=False, description='491', max=0.9999, min=1e-05, readout_format='.5…"
      ]
     },
     "metadata": {},
     "output_type": "display_data"
    },
    {
     "data": {
      "application/vnd.jupyter.widget-view+json": {
       "model_id": "310c44a9bd2c4662a10967623bcc2277",
       "version_major": 2,
       "version_minor": 0
      },
      "text/plain": [
       "FloatSlider(value=1e-05, continuous_update=False, description='492', max=0.9999, min=1e-05, readout_format='.5…"
      ]
     },
     "metadata": {},
     "output_type": "display_data"
    },
    {
     "data": {
      "application/vnd.jupyter.widget-view+json": {
       "model_id": "e7c2f6ce88e2490093801a22e0fa8469",
       "version_major": 2,
       "version_minor": 0
      },
      "text/plain": [
       "FloatSlider(value=1e-05, continuous_update=False, description='493', max=0.9999, min=1e-05, readout_format='.5…"
      ]
     },
     "metadata": {},
     "output_type": "display_data"
    },
    {
     "data": {
      "application/vnd.jupyter.widget-view+json": {
       "model_id": "2799c410ced54a88be3ce62a1aef3147",
       "version_major": 2,
       "version_minor": 0
      },
      "text/plain": [
       "FloatSlider(value=1e-05, continuous_update=False, description='494', max=0.9999, min=1e-05, readout_format='.5…"
      ]
     },
     "metadata": {},
     "output_type": "display_data"
    },
    {
     "data": {
      "application/vnd.jupyter.widget-view+json": {
       "model_id": "f583caf9aabb4304801951531b859830",
       "version_major": 2,
       "version_minor": 0
      },
      "text/plain": [
       "FloatSlider(value=1e-05, continuous_update=False, description='495', max=0.9999, min=1e-05, readout_format='.5…"
      ]
     },
     "metadata": {},
     "output_type": "display_data"
    },
    {
     "data": {
      "application/vnd.jupyter.widget-view+json": {
       "model_id": "0805a4e111e34b3ab2eb0886e3409ec1",
       "version_major": 2,
       "version_minor": 0
      },
      "text/plain": [
       "FloatSlider(value=1e-05, continuous_update=False, description='496', max=0.9999, min=1e-05, readout_format='.5…"
      ]
     },
     "metadata": {},
     "output_type": "display_data"
    },
    {
     "data": {
      "application/vnd.jupyter.widget-view+json": {
       "model_id": "e2c04ec3f130437fbf2d4583e6196508",
       "version_major": 2,
       "version_minor": 0
      },
      "text/plain": [
       "FloatSlider(value=1e-05, continuous_update=False, description='497', max=0.9999, min=1e-05, readout_format='.5…"
      ]
     },
     "metadata": {},
     "output_type": "display_data"
    },
    {
     "data": {
      "application/vnd.jupyter.widget-view+json": {
       "model_id": "50a3f1a39aef410bb0e30a33524b7d01",
       "version_major": 2,
       "version_minor": 0
      },
      "text/plain": [
       "FloatSlider(value=1e-05, continuous_update=False, description='498', max=0.9999, min=1e-05, readout_format='.5…"
      ]
     },
     "metadata": {},
     "output_type": "display_data"
    },
    {
     "data": {
      "application/vnd.jupyter.widget-view+json": {
       "model_id": "012f72f591ac430b8be67beeeaab14ec",
       "version_major": 2,
       "version_minor": 0
      },
      "text/plain": [
       "FloatSlider(value=1e-05, continuous_update=False, description='499', max=0.9999, min=1e-05, readout_format='.5…"
      ]
     },
     "metadata": {},
     "output_type": "display_data"
    },
    {
     "data": {
      "application/vnd.jupyter.widget-view+json": {
       "model_id": "6b8c25505f584b0da21786485346eb76",
       "version_major": 2,
       "version_minor": 0
      },
      "text/plain": [
       "FloatSlider(value=1e-05, continuous_update=False, description='500', max=0.9999, min=1e-05, readout_format='.5…"
      ]
     },
     "metadata": {},
     "output_type": "display_data"
    },
    {
     "data": {
      "application/vnd.jupyter.widget-view+json": {
       "model_id": "2a22c8322dbc4424aaa763132fa409a7",
       "version_major": 2,
       "version_minor": 0
      },
      "text/plain": [
       "FloatSlider(value=1e-05, continuous_update=False, description='501', max=0.9999, min=1e-05, readout_format='.5…"
      ]
     },
     "metadata": {},
     "output_type": "display_data"
    },
    {
     "data": {
      "application/vnd.jupyter.widget-view+json": {
       "model_id": "db14392f73ca4fcc8fde4a786ba5f7b4",
       "version_major": 2,
       "version_minor": 0
      },
      "text/plain": [
       "FloatSlider(value=1e-05, continuous_update=False, description='502', max=0.9999, min=1e-05, readout_format='.5…"
      ]
     },
     "metadata": {},
     "output_type": "display_data"
    },
    {
     "data": {
      "application/vnd.jupyter.widget-view+json": {
       "model_id": "ae6d7a45f1a8486ab243246f24a13f0e",
       "version_major": 2,
       "version_minor": 0
      },
      "text/plain": [
       "FloatSlider(value=1e-05, continuous_update=False, description='503', max=0.9999, min=1e-05, readout_format='.5…"
      ]
     },
     "metadata": {},
     "output_type": "display_data"
    },
    {
     "data": {
      "application/vnd.jupyter.widget-view+json": {
       "model_id": "bc71bb2fc44144bb8c356c9163a052fc",
       "version_major": 2,
       "version_minor": 0
      },
      "text/plain": [
       "FloatSlider(value=1e-05, continuous_update=False, description='504', max=0.9999, min=1e-05, readout_format='.5…"
      ]
     },
     "metadata": {},
     "output_type": "display_data"
    },
    {
     "data": {
      "application/vnd.jupyter.widget-view+json": {
       "model_id": "d7fb70e9c5c44c14991c02a7d843c4f7",
       "version_major": 2,
       "version_minor": 0
      },
      "text/plain": [
       "FloatSlider(value=1e-05, continuous_update=False, description='505', max=0.9999, min=1e-05, readout_format='.5…"
      ]
     },
     "metadata": {},
     "output_type": "display_data"
    },
    {
     "data": {
      "application/vnd.jupyter.widget-view+json": {
       "model_id": "a944b7f87307471caf246fba8747c7e8",
       "version_major": 2,
       "version_minor": 0
      },
      "text/plain": [
       "FloatSlider(value=1e-05, continuous_update=False, description='506', max=0.9999, min=1e-05, readout_format='.5…"
      ]
     },
     "metadata": {},
     "output_type": "display_data"
    },
    {
     "data": {
      "application/vnd.jupyter.widget-view+json": {
       "model_id": "ff01787a570f451dba40eb78c6ab8a95",
       "version_major": 2,
       "version_minor": 0
      },
      "text/plain": [
       "FloatSlider(value=1e-05, continuous_update=False, description='507', max=0.9999, min=1e-05, readout_format='.5…"
      ]
     },
     "metadata": {},
     "output_type": "display_data"
    },
    {
     "data": {
      "application/vnd.jupyter.widget-view+json": {
       "model_id": "d5aac7f208e64821b44f8bb53691ccb7",
       "version_major": 2,
       "version_minor": 0
      },
      "text/plain": [
       "FloatSlider(value=1e-05, continuous_update=False, description='508', max=0.9999, min=1e-05, readout_format='.5…"
      ]
     },
     "metadata": {},
     "output_type": "display_data"
    },
    {
     "data": {
      "application/vnd.jupyter.widget-view+json": {
       "model_id": "b46e76c68f7542599c718dce6e6049b5",
       "version_major": 2,
       "version_minor": 0
      },
      "text/plain": [
       "FloatSlider(value=1e-05, continuous_update=False, description='509', max=0.9999, min=1e-05, readout_format='.5…"
      ]
     },
     "metadata": {},
     "output_type": "display_data"
    },
    {
     "data": {
      "application/vnd.jupyter.widget-view+json": {
       "model_id": "2be6dfcd65e64a9eacd46e62cd57b02c",
       "version_major": 2,
       "version_minor": 0
      },
      "text/plain": [
       "FloatSlider(value=1e-05, continuous_update=False, description='510', max=0.9999, min=1e-05, readout_format='.5…"
      ]
     },
     "metadata": {},
     "output_type": "display_data"
    },
    {
     "data": {
      "application/vnd.jupyter.widget-view+json": {
       "model_id": "95158c01787d40b291b53bdc5a2b5d14",
       "version_major": 2,
       "version_minor": 0
      },
      "text/plain": [
       "FloatSlider(value=1e-05, continuous_update=False, description='511', max=0.9999, min=1e-05, readout_format='.5…"
      ]
     },
     "metadata": {},
     "output_type": "display_data"
    },
    {
     "data": {
      "application/vnd.jupyter.widget-view+json": {
       "model_id": "1386eeafe0594056a70b391f2772700a",
       "version_major": 2,
       "version_minor": 0
      },
      "text/plain": [
       "FloatSlider(value=1e-05, continuous_update=False, description='512', max=0.9999, min=1e-05, readout_format='.5…"
      ]
     },
     "metadata": {},
     "output_type": "display_data"
    },
    {
     "data": {
      "application/vnd.jupyter.widget-view+json": {
       "model_id": "173caa44394f42478d39bf08ca39b132",
       "version_major": 2,
       "version_minor": 0
      },
      "text/plain": [
       "Button(description='Apply Slider Weights', style=ButtonStyle())"
      ]
     },
     "metadata": {},
     "output_type": "display_data"
    },
    {
     "data": {
      "application/vnd.jupyter.widget-view+json": {
       "model_id": "84678c8359474e0b9d2ba766376ca997",
       "version_major": 2,
       "version_minor": 0
      },
      "text/plain": [
       "Button(description='Reset Plot', style=ButtonStyle())"
      ]
     },
     "metadata": {},
     "output_type": "display_data"
    }
   ],
   "source": [
    "sliders = create_sliders(weights)"
   ]
  },
  {
   "cell_type": "markdown",
   "metadata": {},
   "source": [
    "## Dimension Reduction Plot\n",
    "This shows the HD data in 2D form, such that **proximity == similarity**, based on the current slider weights.  Distances between points in the plot approximately reflect their distances in the weighted HD data.  Thus points near each other have similar HD data values in the up-weighted dimensions, and points far away have very different HD data values in those dimensions.\n",
    "\n",
    "The color represents the **relevance** of each point to the current slider weights. Yellower points have larger values in up-weighted dimensions.\n",
    "\n",
    "Points can be **selected** to highlight in Green and view their details below.  Points can be **dragged** to specify a new projection for learning weights, see below. To reset the plot and clear the selections, click the **Reset** button above."
   ]
  },
  {
   "cell_type": "code",
   "execution_count": null,
   "metadata": {},
   "outputs": [],
   "source": []
  },
  {
   "cell_type": "code",
   "execution_count": 18,
   "metadata": {
    "scrolled": false
   },
   "outputs": [
    {
     "data": {
      "application/javascript": [
       "/* Put everything inside the global mpl namespace */\n",
       "/* global mpl */\n",
       "window.mpl = {};\n",
       "\n",
       "mpl.get_websocket_type = function () {\n",
       "    if (typeof WebSocket !== 'undefined') {\n",
       "        return WebSocket;\n",
       "    } else if (typeof MozWebSocket !== 'undefined') {\n",
       "        return MozWebSocket;\n",
       "    } else {\n",
       "        alert(\n",
       "            'Your browser does not have WebSocket support. ' +\n",
       "                'Please try Chrome, Safari or Firefox ≥ 6. ' +\n",
       "                'Firefox 4 and 5 are also supported but you ' +\n",
       "                'have to enable WebSockets in about:config.'\n",
       "        );\n",
       "    }\n",
       "};\n",
       "\n",
       "mpl.figure = function (figure_id, websocket, ondownload, parent_element) {\n",
       "    this.id = figure_id;\n",
       "\n",
       "    this.ws = websocket;\n",
       "\n",
       "    this.supports_binary = this.ws.binaryType !== undefined;\n",
       "\n",
       "    if (!this.supports_binary) {\n",
       "        var warnings = document.getElementById('mpl-warnings');\n",
       "        if (warnings) {\n",
       "            warnings.style.display = 'block';\n",
       "            warnings.textContent =\n",
       "                'This browser does not support binary websocket messages. ' +\n",
       "                'Performance may be slow.';\n",
       "        }\n",
       "    }\n",
       "\n",
       "    this.imageObj = new Image();\n",
       "\n",
       "    this.context = undefined;\n",
       "    this.message = undefined;\n",
       "    this.canvas = undefined;\n",
       "    this.rubberband_canvas = undefined;\n",
       "    this.rubberband_context = undefined;\n",
       "    this.format_dropdown = undefined;\n",
       "\n",
       "    this.image_mode = 'full';\n",
       "\n",
       "    this.root = document.createElement('div');\n",
       "    this.root.setAttribute('style', 'display: inline-block');\n",
       "    this._root_extra_style(this.root);\n",
       "\n",
       "    parent_element.appendChild(this.root);\n",
       "\n",
       "    this._init_header(this);\n",
       "    this._init_canvas(this);\n",
       "    this._init_toolbar(this);\n",
       "\n",
       "    var fig = this;\n",
       "\n",
       "    this.waiting = false;\n",
       "\n",
       "    this.ws.onopen = function () {\n",
       "        fig.send_message('supports_binary', { value: fig.supports_binary });\n",
       "        fig.send_message('send_image_mode', {});\n",
       "        if (fig.ratio !== 1) {\n",
       "            fig.send_message('set_dpi_ratio', { dpi_ratio: fig.ratio });\n",
       "        }\n",
       "        fig.send_message('refresh', {});\n",
       "    };\n",
       "\n",
       "    this.imageObj.onload = function () {\n",
       "        if (fig.image_mode === 'full') {\n",
       "            // Full images could contain transparency (where diff images\n",
       "            // almost always do), so we need to clear the canvas so that\n",
       "            // there is no ghosting.\n",
       "            fig.context.clearRect(0, 0, fig.canvas.width, fig.canvas.height);\n",
       "        }\n",
       "        fig.context.drawImage(fig.imageObj, 0, 0);\n",
       "    };\n",
       "\n",
       "    this.imageObj.onunload = function () {\n",
       "        fig.ws.close();\n",
       "    };\n",
       "\n",
       "    this.ws.onmessage = this._make_on_message_function(this);\n",
       "\n",
       "    this.ondownload = ondownload;\n",
       "};\n",
       "\n",
       "mpl.figure.prototype._init_header = function () {\n",
       "    var titlebar = document.createElement('div');\n",
       "    titlebar.classList =\n",
       "        'ui-dialog-titlebar ui-widget-header ui-corner-all ui-helper-clearfix';\n",
       "    var titletext = document.createElement('div');\n",
       "    titletext.classList = 'ui-dialog-title';\n",
       "    titletext.setAttribute(\n",
       "        'style',\n",
       "        'width: 100%; text-align: center; padding: 3px;'\n",
       "    );\n",
       "    titlebar.appendChild(titletext);\n",
       "    this.root.appendChild(titlebar);\n",
       "    this.header = titletext;\n",
       "};\n",
       "\n",
       "mpl.figure.prototype._canvas_extra_style = function (_canvas_div) {};\n",
       "\n",
       "mpl.figure.prototype._root_extra_style = function (_canvas_div) {};\n",
       "\n",
       "mpl.figure.prototype._init_canvas = function () {\n",
       "    var fig = this;\n",
       "\n",
       "    var canvas_div = (this.canvas_div = document.createElement('div'));\n",
       "    canvas_div.setAttribute(\n",
       "        'style',\n",
       "        'border: 1px solid #ddd;' +\n",
       "            'box-sizing: content-box;' +\n",
       "            'clear: both;' +\n",
       "            'min-height: 1px;' +\n",
       "            'min-width: 1px;' +\n",
       "            'outline: 0;' +\n",
       "            'overflow: hidden;' +\n",
       "            'position: relative;' +\n",
       "            'resize: both;'\n",
       "    );\n",
       "\n",
       "    function on_keyboard_event_closure(name) {\n",
       "        return function (event) {\n",
       "            return fig.key_event(event, name);\n",
       "        };\n",
       "    }\n",
       "\n",
       "    canvas_div.addEventListener(\n",
       "        'keydown',\n",
       "        on_keyboard_event_closure('key_press')\n",
       "    );\n",
       "    canvas_div.addEventListener(\n",
       "        'keyup',\n",
       "        on_keyboard_event_closure('key_release')\n",
       "    );\n",
       "\n",
       "    this._canvas_extra_style(canvas_div);\n",
       "    this.root.appendChild(canvas_div);\n",
       "\n",
       "    var canvas = (this.canvas = document.createElement('canvas'));\n",
       "    canvas.classList.add('mpl-canvas');\n",
       "    canvas.setAttribute('style', 'box-sizing: content-box;');\n",
       "\n",
       "    this.context = canvas.getContext('2d');\n",
       "\n",
       "    var backingStore =\n",
       "        this.context.backingStorePixelRatio ||\n",
       "        this.context.webkitBackingStorePixelRatio ||\n",
       "        this.context.mozBackingStorePixelRatio ||\n",
       "        this.context.msBackingStorePixelRatio ||\n",
       "        this.context.oBackingStorePixelRatio ||\n",
       "        this.context.backingStorePixelRatio ||\n",
       "        1;\n",
       "\n",
       "    this.ratio = (window.devicePixelRatio || 1) / backingStore;\n",
       "    if (this.ratio !== 1) {\n",
       "        fig.send_message('set_dpi_ratio', { dpi_ratio: this.ratio });\n",
       "    }\n",
       "\n",
       "    var rubberband_canvas = (this.rubberband_canvas = document.createElement(\n",
       "        'canvas'\n",
       "    ));\n",
       "    rubberband_canvas.setAttribute(\n",
       "        'style',\n",
       "        'box-sizing: content-box; position: absolute; left: 0; top: 0; z-index: 1;'\n",
       "    );\n",
       "\n",
       "    var resizeObserver = new ResizeObserver(function (entries) {\n",
       "        var nentries = entries.length;\n",
       "        for (var i = 0; i < nentries; i++) {\n",
       "            var entry = entries[i];\n",
       "            var width, height;\n",
       "            if (entry.contentBoxSize) {\n",
       "                if (entry.contentBoxSize instanceof Array) {\n",
       "                    // Chrome 84 implements new version of spec.\n",
       "                    width = entry.contentBoxSize[0].inlineSize;\n",
       "                    height = entry.contentBoxSize[0].blockSize;\n",
       "                } else {\n",
       "                    // Firefox implements old version of spec.\n",
       "                    width = entry.contentBoxSize.inlineSize;\n",
       "                    height = entry.contentBoxSize.blockSize;\n",
       "                }\n",
       "            } else {\n",
       "                // Chrome <84 implements even older version of spec.\n",
       "                width = entry.contentRect.width;\n",
       "                height = entry.contentRect.height;\n",
       "            }\n",
       "\n",
       "            // Keep the size of the canvas and rubber band canvas in sync with\n",
       "            // the canvas container.\n",
       "            if (entry.devicePixelContentBoxSize) {\n",
       "                // Chrome 84 implements new version of spec.\n",
       "                canvas.setAttribute(\n",
       "                    'width',\n",
       "                    entry.devicePixelContentBoxSize[0].inlineSize\n",
       "                );\n",
       "                canvas.setAttribute(\n",
       "                    'height',\n",
       "                    entry.devicePixelContentBoxSize[0].blockSize\n",
       "                );\n",
       "            } else {\n",
       "                canvas.setAttribute('width', width * fig.ratio);\n",
       "                canvas.setAttribute('height', height * fig.ratio);\n",
       "            }\n",
       "            canvas.setAttribute(\n",
       "                'style',\n",
       "                'width: ' + width + 'px; height: ' + height + 'px;'\n",
       "            );\n",
       "\n",
       "            rubberband_canvas.setAttribute('width', width);\n",
       "            rubberband_canvas.setAttribute('height', height);\n",
       "\n",
       "            // And update the size in Python. We ignore the initial 0/0 size\n",
       "            // that occurs as the element is placed into the DOM, which should\n",
       "            // otherwise not happen due to the minimum size styling.\n",
       "            if (width != 0 && height != 0) {\n",
       "                fig.request_resize(width, height);\n",
       "            }\n",
       "        }\n",
       "    });\n",
       "    resizeObserver.observe(canvas_div);\n",
       "\n",
       "    function on_mouse_event_closure(name) {\n",
       "        return function (event) {\n",
       "            return fig.mouse_event(event, name);\n",
       "        };\n",
       "    }\n",
       "\n",
       "    rubberband_canvas.addEventListener(\n",
       "        'mousedown',\n",
       "        on_mouse_event_closure('button_press')\n",
       "    );\n",
       "    rubberband_canvas.addEventListener(\n",
       "        'mouseup',\n",
       "        on_mouse_event_closure('button_release')\n",
       "    );\n",
       "    // Throttle sequential mouse events to 1 every 20ms.\n",
       "    rubberband_canvas.addEventListener(\n",
       "        'mousemove',\n",
       "        on_mouse_event_closure('motion_notify')\n",
       "    );\n",
       "\n",
       "    rubberband_canvas.addEventListener(\n",
       "        'mouseenter',\n",
       "        on_mouse_event_closure('figure_enter')\n",
       "    );\n",
       "    rubberband_canvas.addEventListener(\n",
       "        'mouseleave',\n",
       "        on_mouse_event_closure('figure_leave')\n",
       "    );\n",
       "\n",
       "    canvas_div.addEventListener('wheel', function (event) {\n",
       "        if (event.deltaY < 0) {\n",
       "            event.step = 1;\n",
       "        } else {\n",
       "            event.step = -1;\n",
       "        }\n",
       "        on_mouse_event_closure('scroll')(event);\n",
       "    });\n",
       "\n",
       "    canvas_div.appendChild(canvas);\n",
       "    canvas_div.appendChild(rubberband_canvas);\n",
       "\n",
       "    this.rubberband_context = rubberband_canvas.getContext('2d');\n",
       "    this.rubberband_context.strokeStyle = '#000000';\n",
       "\n",
       "    this._resize_canvas = function (width, height, forward) {\n",
       "        if (forward) {\n",
       "            canvas_div.style.width = width + 'px';\n",
       "            canvas_div.style.height = height + 'px';\n",
       "        }\n",
       "    };\n",
       "\n",
       "    // Disable right mouse context menu.\n",
       "    this.rubberband_canvas.addEventListener('contextmenu', function (_e) {\n",
       "        event.preventDefault();\n",
       "        return false;\n",
       "    });\n",
       "\n",
       "    function set_focus() {\n",
       "        canvas.focus();\n",
       "        canvas_div.focus();\n",
       "    }\n",
       "\n",
       "    window.setTimeout(set_focus, 100);\n",
       "};\n",
       "\n",
       "mpl.figure.prototype._init_toolbar = function () {\n",
       "    var fig = this;\n",
       "\n",
       "    var toolbar = document.createElement('div');\n",
       "    toolbar.classList = 'mpl-toolbar';\n",
       "    this.root.appendChild(toolbar);\n",
       "\n",
       "    function on_click_closure(name) {\n",
       "        return function (_event) {\n",
       "            return fig.toolbar_button_onclick(name);\n",
       "        };\n",
       "    }\n",
       "\n",
       "    function on_mouseover_closure(tooltip) {\n",
       "        return function (event) {\n",
       "            if (!event.currentTarget.disabled) {\n",
       "                return fig.toolbar_button_onmouseover(tooltip);\n",
       "            }\n",
       "        };\n",
       "    }\n",
       "\n",
       "    fig.buttons = {};\n",
       "    var buttonGroup = document.createElement('div');\n",
       "    buttonGroup.classList = 'mpl-button-group';\n",
       "    for (var toolbar_ind in mpl.toolbar_items) {\n",
       "        var name = mpl.toolbar_items[toolbar_ind][0];\n",
       "        var tooltip = mpl.toolbar_items[toolbar_ind][1];\n",
       "        var image = mpl.toolbar_items[toolbar_ind][2];\n",
       "        var method_name = mpl.toolbar_items[toolbar_ind][3];\n",
       "\n",
       "        if (!name) {\n",
       "            /* Instead of a spacer, we start a new button group. */\n",
       "            if (buttonGroup.hasChildNodes()) {\n",
       "                toolbar.appendChild(buttonGroup);\n",
       "            }\n",
       "            buttonGroup = document.createElement('div');\n",
       "            buttonGroup.classList = 'mpl-button-group';\n",
       "            continue;\n",
       "        }\n",
       "\n",
       "        var button = (fig.buttons[name] = document.createElement('button'));\n",
       "        button.classList = 'mpl-widget';\n",
       "        button.setAttribute('role', 'button');\n",
       "        button.setAttribute('aria-disabled', 'false');\n",
       "        button.addEventListener('click', on_click_closure(method_name));\n",
       "        button.addEventListener('mouseover', on_mouseover_closure(tooltip));\n",
       "\n",
       "        var icon_img = document.createElement('img');\n",
       "        icon_img.src = '_images/' + image + '.png';\n",
       "        icon_img.srcset = '_images/' + image + '_large.png 2x';\n",
       "        icon_img.alt = tooltip;\n",
       "        button.appendChild(icon_img);\n",
       "\n",
       "        buttonGroup.appendChild(button);\n",
       "    }\n",
       "\n",
       "    if (buttonGroup.hasChildNodes()) {\n",
       "        toolbar.appendChild(buttonGroup);\n",
       "    }\n",
       "\n",
       "    var fmt_picker = document.createElement('select');\n",
       "    fmt_picker.classList = 'mpl-widget';\n",
       "    toolbar.appendChild(fmt_picker);\n",
       "    this.format_dropdown = fmt_picker;\n",
       "\n",
       "    for (var ind in mpl.extensions) {\n",
       "        var fmt = mpl.extensions[ind];\n",
       "        var option = document.createElement('option');\n",
       "        option.selected = fmt === mpl.default_extension;\n",
       "        option.innerHTML = fmt;\n",
       "        fmt_picker.appendChild(option);\n",
       "    }\n",
       "\n",
       "    var status_bar = document.createElement('span');\n",
       "    status_bar.classList = 'mpl-message';\n",
       "    toolbar.appendChild(status_bar);\n",
       "    this.message = status_bar;\n",
       "};\n",
       "\n",
       "mpl.figure.prototype.request_resize = function (x_pixels, y_pixels) {\n",
       "    // Request matplotlib to resize the figure. Matplotlib will then trigger a resize in the client,\n",
       "    // which will in turn request a refresh of the image.\n",
       "    this.send_message('resize', { width: x_pixels, height: y_pixels });\n",
       "};\n",
       "\n",
       "mpl.figure.prototype.send_message = function (type, properties) {\n",
       "    properties['type'] = type;\n",
       "    properties['figure_id'] = this.id;\n",
       "    this.ws.send(JSON.stringify(properties));\n",
       "};\n",
       "\n",
       "mpl.figure.prototype.send_draw_message = function () {\n",
       "    if (!this.waiting) {\n",
       "        this.waiting = true;\n",
       "        this.ws.send(JSON.stringify({ type: 'draw', figure_id: this.id }));\n",
       "    }\n",
       "};\n",
       "\n",
       "mpl.figure.prototype.handle_save = function (fig, _msg) {\n",
       "    var format_dropdown = fig.format_dropdown;\n",
       "    var format = format_dropdown.options[format_dropdown.selectedIndex].value;\n",
       "    fig.ondownload(fig, format);\n",
       "};\n",
       "\n",
       "mpl.figure.prototype.handle_resize = function (fig, msg) {\n",
       "    var size = msg['size'];\n",
       "    if (size[0] !== fig.canvas.width || size[1] !== fig.canvas.height) {\n",
       "        fig._resize_canvas(size[0], size[1], msg['forward']);\n",
       "        fig.send_message('refresh', {});\n",
       "    }\n",
       "};\n",
       "\n",
       "mpl.figure.prototype.handle_rubberband = function (fig, msg) {\n",
       "    var x0 = msg['x0'] / fig.ratio;\n",
       "    var y0 = (fig.canvas.height - msg['y0']) / fig.ratio;\n",
       "    var x1 = msg['x1'] / fig.ratio;\n",
       "    var y1 = (fig.canvas.height - msg['y1']) / fig.ratio;\n",
       "    x0 = Math.floor(x0) + 0.5;\n",
       "    y0 = Math.floor(y0) + 0.5;\n",
       "    x1 = Math.floor(x1) + 0.5;\n",
       "    y1 = Math.floor(y1) + 0.5;\n",
       "    var min_x = Math.min(x0, x1);\n",
       "    var min_y = Math.min(y0, y1);\n",
       "    var width = Math.abs(x1 - x0);\n",
       "    var height = Math.abs(y1 - y0);\n",
       "\n",
       "    fig.rubberband_context.clearRect(\n",
       "        0,\n",
       "        0,\n",
       "        fig.canvas.width / fig.ratio,\n",
       "        fig.canvas.height / fig.ratio\n",
       "    );\n",
       "\n",
       "    fig.rubberband_context.strokeRect(min_x, min_y, width, height);\n",
       "};\n",
       "\n",
       "mpl.figure.prototype.handle_figure_label = function (fig, msg) {\n",
       "    // Updates the figure title.\n",
       "    fig.header.textContent = msg['label'];\n",
       "};\n",
       "\n",
       "mpl.figure.prototype.handle_cursor = function (fig, msg) {\n",
       "    var cursor = msg['cursor'];\n",
       "    switch (cursor) {\n",
       "        case 0:\n",
       "            cursor = 'pointer';\n",
       "            break;\n",
       "        case 1:\n",
       "            cursor = 'default';\n",
       "            break;\n",
       "        case 2:\n",
       "            cursor = 'crosshair';\n",
       "            break;\n",
       "        case 3:\n",
       "            cursor = 'move';\n",
       "            break;\n",
       "    }\n",
       "    fig.rubberband_canvas.style.cursor = cursor;\n",
       "};\n",
       "\n",
       "mpl.figure.prototype.handle_message = function (fig, msg) {\n",
       "    fig.message.textContent = msg['message'];\n",
       "};\n",
       "\n",
       "mpl.figure.prototype.handle_draw = function (fig, _msg) {\n",
       "    // Request the server to send over a new figure.\n",
       "    fig.send_draw_message();\n",
       "};\n",
       "\n",
       "mpl.figure.prototype.handle_image_mode = function (fig, msg) {\n",
       "    fig.image_mode = msg['mode'];\n",
       "};\n",
       "\n",
       "mpl.figure.prototype.handle_history_buttons = function (fig, msg) {\n",
       "    for (var key in msg) {\n",
       "        if (!(key in fig.buttons)) {\n",
       "            continue;\n",
       "        }\n",
       "        fig.buttons[key].disabled = !msg[key];\n",
       "        fig.buttons[key].setAttribute('aria-disabled', !msg[key]);\n",
       "    }\n",
       "};\n",
       "\n",
       "mpl.figure.prototype.handle_navigate_mode = function (fig, msg) {\n",
       "    if (msg['mode'] === 'PAN') {\n",
       "        fig.buttons['Pan'].classList.add('active');\n",
       "        fig.buttons['Zoom'].classList.remove('active');\n",
       "    } else if (msg['mode'] === 'ZOOM') {\n",
       "        fig.buttons['Pan'].classList.remove('active');\n",
       "        fig.buttons['Zoom'].classList.add('active');\n",
       "    } else {\n",
       "        fig.buttons['Pan'].classList.remove('active');\n",
       "        fig.buttons['Zoom'].classList.remove('active');\n",
       "    }\n",
       "};\n",
       "\n",
       "mpl.figure.prototype.updated_canvas_event = function () {\n",
       "    // Called whenever the canvas gets updated.\n",
       "    this.send_message('ack', {});\n",
       "};\n",
       "\n",
       "// A function to construct a web socket function for onmessage handling.\n",
       "// Called in the figure constructor.\n",
       "mpl.figure.prototype._make_on_message_function = function (fig) {\n",
       "    return function socket_on_message(evt) {\n",
       "        if (evt.data instanceof Blob) {\n",
       "            /* FIXME: We get \"Resource interpreted as Image but\n",
       "             * transferred with MIME type text/plain:\" errors on\n",
       "             * Chrome.  But how to set the MIME type?  It doesn't seem\n",
       "             * to be part of the websocket stream */\n",
       "            evt.data.type = 'image/png';\n",
       "\n",
       "            /* Free the memory for the previous frames */\n",
       "            if (fig.imageObj.src) {\n",
       "                (window.URL || window.webkitURL).revokeObjectURL(\n",
       "                    fig.imageObj.src\n",
       "                );\n",
       "            }\n",
       "\n",
       "            fig.imageObj.src = (window.URL || window.webkitURL).createObjectURL(\n",
       "                evt.data\n",
       "            );\n",
       "            fig.updated_canvas_event();\n",
       "            fig.waiting = false;\n",
       "            return;\n",
       "        } else if (\n",
       "            typeof evt.data === 'string' &&\n",
       "            evt.data.slice(0, 21) === 'data:image/png;base64'\n",
       "        ) {\n",
       "            fig.imageObj.src = evt.data;\n",
       "            fig.updated_canvas_event();\n",
       "            fig.waiting = false;\n",
       "            return;\n",
       "        }\n",
       "\n",
       "        var msg = JSON.parse(evt.data);\n",
       "        var msg_type = msg['type'];\n",
       "\n",
       "        // Call the  \"handle_{type}\" callback, which takes\n",
       "        // the figure and JSON message as its only arguments.\n",
       "        try {\n",
       "            var callback = fig['handle_' + msg_type];\n",
       "        } catch (e) {\n",
       "            console.log(\n",
       "                \"No handler for the '\" + msg_type + \"' message type: \",\n",
       "                msg\n",
       "            );\n",
       "            return;\n",
       "        }\n",
       "\n",
       "        if (callback) {\n",
       "            try {\n",
       "                // console.log(\"Handling '\" + msg_type + \"' message: \", msg);\n",
       "                callback(fig, msg);\n",
       "            } catch (e) {\n",
       "                console.log(\n",
       "                    \"Exception inside the 'handler_\" + msg_type + \"' callback:\",\n",
       "                    e,\n",
       "                    e.stack,\n",
       "                    msg\n",
       "                );\n",
       "            }\n",
       "        }\n",
       "    };\n",
       "};\n",
       "\n",
       "// from http://stackoverflow.com/questions/1114465/getting-mouse-location-in-canvas\n",
       "mpl.findpos = function (e) {\n",
       "    //this section is from http://www.quirksmode.org/js/events_properties.html\n",
       "    var targ;\n",
       "    if (!e) {\n",
       "        e = window.event;\n",
       "    }\n",
       "    if (e.target) {\n",
       "        targ = e.target;\n",
       "    } else if (e.srcElement) {\n",
       "        targ = e.srcElement;\n",
       "    }\n",
       "    if (targ.nodeType === 3) {\n",
       "        // defeat Safari bug\n",
       "        targ = targ.parentNode;\n",
       "    }\n",
       "\n",
       "    // pageX,Y are the mouse positions relative to the document\n",
       "    var boundingRect = targ.getBoundingClientRect();\n",
       "    var x = e.pageX - (boundingRect.left + document.body.scrollLeft);\n",
       "    var y = e.pageY - (boundingRect.top + document.body.scrollTop);\n",
       "\n",
       "    return { x: x, y: y };\n",
       "};\n",
       "\n",
       "/*\n",
       " * return a copy of an object with only non-object keys\n",
       " * we need this to avoid circular references\n",
       " * http://stackoverflow.com/a/24161582/3208463\n",
       " */\n",
       "function simpleKeys(original) {\n",
       "    return Object.keys(original).reduce(function (obj, key) {\n",
       "        if (typeof original[key] !== 'object') {\n",
       "            obj[key] = original[key];\n",
       "        }\n",
       "        return obj;\n",
       "    }, {});\n",
       "}\n",
       "\n",
       "mpl.figure.prototype.mouse_event = function (event, name) {\n",
       "    var canvas_pos = mpl.findpos(event);\n",
       "\n",
       "    if (name === 'button_press') {\n",
       "        this.canvas.focus();\n",
       "        this.canvas_div.focus();\n",
       "    }\n",
       "\n",
       "    var x = canvas_pos.x * this.ratio;\n",
       "    var y = canvas_pos.y * this.ratio;\n",
       "\n",
       "    this.send_message(name, {\n",
       "        x: x,\n",
       "        y: y,\n",
       "        button: event.button,\n",
       "        step: event.step,\n",
       "        guiEvent: simpleKeys(event),\n",
       "    });\n",
       "\n",
       "    /* This prevents the web browser from automatically changing to\n",
       "     * the text insertion cursor when the button is pressed.  We want\n",
       "     * to control all of the cursor setting manually through the\n",
       "     * 'cursor' event from matplotlib */\n",
       "    event.preventDefault();\n",
       "    return false;\n",
       "};\n",
       "\n",
       "mpl.figure.prototype._key_event_extra = function (_event, _name) {\n",
       "    // Handle any extra behaviour associated with a key event\n",
       "};\n",
       "\n",
       "mpl.figure.prototype.key_event = function (event, name) {\n",
       "    // Prevent repeat events\n",
       "    if (name === 'key_press') {\n",
       "        if (event.which === this._key) {\n",
       "            return;\n",
       "        } else {\n",
       "            this._key = event.which;\n",
       "        }\n",
       "    }\n",
       "    if (name === 'key_release') {\n",
       "        this._key = null;\n",
       "    }\n",
       "\n",
       "    var value = '';\n",
       "    if (event.ctrlKey && event.which !== 17) {\n",
       "        value += 'ctrl+';\n",
       "    }\n",
       "    if (event.altKey && event.which !== 18) {\n",
       "        value += 'alt+';\n",
       "    }\n",
       "    if (event.shiftKey && event.which !== 16) {\n",
       "        value += 'shift+';\n",
       "    }\n",
       "\n",
       "    value += 'k';\n",
       "    value += event.which.toString();\n",
       "\n",
       "    this._key_event_extra(event, name);\n",
       "\n",
       "    this.send_message(name, { key: value, guiEvent: simpleKeys(event) });\n",
       "    return false;\n",
       "};\n",
       "\n",
       "mpl.figure.prototype.toolbar_button_onclick = function (name) {\n",
       "    if (name === 'download') {\n",
       "        this.handle_save(this, null);\n",
       "    } else {\n",
       "        this.send_message('toolbar_button', { name: name });\n",
       "    }\n",
       "};\n",
       "\n",
       "mpl.figure.prototype.toolbar_button_onmouseover = function (tooltip) {\n",
       "    this.message.textContent = tooltip;\n",
       "};\n",
       "mpl.toolbar_items = [[\"Home\", \"Reset original view\", \"fa fa-home icon-home\", \"home\"], [\"Back\", \"Back to previous view\", \"fa fa-arrow-left icon-arrow-left\", \"back\"], [\"Forward\", \"Forward to next view\", \"fa fa-arrow-right icon-arrow-right\", \"forward\"], [\"\", \"\", \"\", \"\"], [\"Pan\", \"Left button pans, Right button zooms\\nx/y fixes axis, CTRL fixes aspect\", \"fa fa-arrows icon-move\", \"pan\"], [\"Zoom\", \"Zoom to rectangle\\nx/y fixes axis, CTRL fixes aspect\", \"fa fa-square-o icon-check-empty\", \"zoom\"], [\"\", \"\", \"\", \"\"], [\"Download\", \"Download plot\", \"fa fa-floppy-o icon-save\", \"download\"]];\n",
       "\n",
       "mpl.extensions = [\"eps\", \"jpeg\", \"pdf\", \"png\", \"ps\", \"raw\", \"svg\", \"tif\"];\n",
       "\n",
       "mpl.default_extension = \"png\";/* global mpl */\n",
       "\n",
       "var comm_websocket_adapter = function (comm) {\n",
       "    // Create a \"websocket\"-like object which calls the given IPython comm\n",
       "    // object with the appropriate methods. Currently this is a non binary\n",
       "    // socket, so there is still some room for performance tuning.\n",
       "    var ws = {};\n",
       "\n",
       "    ws.close = function () {\n",
       "        comm.close();\n",
       "    };\n",
       "    ws.send = function (m) {\n",
       "        //console.log('sending', m);\n",
       "        comm.send(m);\n",
       "    };\n",
       "    // Register the callback with on_msg.\n",
       "    comm.on_msg(function (msg) {\n",
       "        //console.log('receiving', msg['content']['data'], msg);\n",
       "        // Pass the mpl event to the overridden (by mpl) onmessage function.\n",
       "        ws.onmessage(msg['content']['data']);\n",
       "    });\n",
       "    return ws;\n",
       "};\n",
       "\n",
       "mpl.mpl_figure_comm = function (comm, msg) {\n",
       "    // This is the function which gets called when the mpl process\n",
       "    // starts-up an IPython Comm through the \"matplotlib\" channel.\n",
       "\n",
       "    var id = msg.content.data.id;\n",
       "    // Get hold of the div created by the display call when the Comm\n",
       "    // socket was opened in Python.\n",
       "    var element = document.getElementById(id);\n",
       "    var ws_proxy = comm_websocket_adapter(comm);\n",
       "\n",
       "    function ondownload(figure, _format) {\n",
       "        window.open(figure.canvas.toDataURL());\n",
       "    }\n",
       "\n",
       "    var fig = new mpl.figure(id, ws_proxy, ondownload, element);\n",
       "\n",
       "    // Call onopen now - mpl needs it, as it is assuming we've passed it a real\n",
       "    // web socket which is closed, not our websocket->open comm proxy.\n",
       "    ws_proxy.onopen();\n",
       "\n",
       "    fig.parent_element = element;\n",
       "    fig.cell_info = mpl.find_output_cell(\"<div id='\" + id + \"'></div>\");\n",
       "    if (!fig.cell_info) {\n",
       "        console.error('Failed to find cell for figure', id, fig);\n",
       "        return;\n",
       "    }\n",
       "    fig.cell_info[0].output_area.element.one(\n",
       "        'cleared',\n",
       "        { fig: fig },\n",
       "        fig._remove_fig_handler\n",
       "    );\n",
       "};\n",
       "\n",
       "mpl.figure.prototype.handle_close = function (fig, msg) {\n",
       "    var width = fig.canvas.width / fig.ratio;\n",
       "    fig.cell_info[0].output_area.element.off(\n",
       "        'cleared',\n",
       "        fig._remove_fig_handler\n",
       "    );\n",
       "\n",
       "    // Update the output cell to use the data from the current canvas.\n",
       "    fig.push_to_output();\n",
       "    var dataURL = fig.canvas.toDataURL();\n",
       "    // Re-enable the keyboard manager in IPython - without this line, in FF,\n",
       "    // the notebook keyboard shortcuts fail.\n",
       "    IPython.keyboard_manager.enable();\n",
       "    fig.parent_element.innerHTML =\n",
       "        '<img src=\"' + dataURL + '\" width=\"' + width + '\">';\n",
       "    fig.close_ws(fig, msg);\n",
       "};\n",
       "\n",
       "mpl.figure.prototype.close_ws = function (fig, msg) {\n",
       "    fig.send_message('closing', msg);\n",
       "    // fig.ws.close()\n",
       "};\n",
       "\n",
       "mpl.figure.prototype.push_to_output = function (_remove_interactive) {\n",
       "    // Turn the data on the canvas into data in the output cell.\n",
       "    var width = this.canvas.width / this.ratio;\n",
       "    var dataURL = this.canvas.toDataURL();\n",
       "    this.cell_info[1]['text/html'] =\n",
       "        '<img src=\"' + dataURL + '\" width=\"' + width + '\">';\n",
       "};\n",
       "\n",
       "mpl.figure.prototype.updated_canvas_event = function () {\n",
       "    // Tell IPython that the notebook contents must change.\n",
       "    IPython.notebook.set_dirty(true);\n",
       "    this.send_message('ack', {});\n",
       "    var fig = this;\n",
       "    // Wait a second, then push the new image to the DOM so\n",
       "    // that it is saved nicely (might be nice to debounce this).\n",
       "    setTimeout(function () {\n",
       "        fig.push_to_output();\n",
       "    }, 1000);\n",
       "};\n",
       "\n",
       "mpl.figure.prototype._init_toolbar = function () {\n",
       "    var fig = this;\n",
       "\n",
       "    var toolbar = document.createElement('div');\n",
       "    toolbar.classList = 'btn-toolbar';\n",
       "    this.root.appendChild(toolbar);\n",
       "\n",
       "    function on_click_closure(name) {\n",
       "        return function (_event) {\n",
       "            return fig.toolbar_button_onclick(name);\n",
       "        };\n",
       "    }\n",
       "\n",
       "    function on_mouseover_closure(tooltip) {\n",
       "        return function (event) {\n",
       "            if (!event.currentTarget.disabled) {\n",
       "                return fig.toolbar_button_onmouseover(tooltip);\n",
       "            }\n",
       "        };\n",
       "    }\n",
       "\n",
       "    fig.buttons = {};\n",
       "    var buttonGroup = document.createElement('div');\n",
       "    buttonGroup.classList = 'btn-group';\n",
       "    var button;\n",
       "    for (var toolbar_ind in mpl.toolbar_items) {\n",
       "        var name = mpl.toolbar_items[toolbar_ind][0];\n",
       "        var tooltip = mpl.toolbar_items[toolbar_ind][1];\n",
       "        var image = mpl.toolbar_items[toolbar_ind][2];\n",
       "        var method_name = mpl.toolbar_items[toolbar_ind][3];\n",
       "\n",
       "        if (!name) {\n",
       "            /* Instead of a spacer, we start a new button group. */\n",
       "            if (buttonGroup.hasChildNodes()) {\n",
       "                toolbar.appendChild(buttonGroup);\n",
       "            }\n",
       "            buttonGroup = document.createElement('div');\n",
       "            buttonGroup.classList = 'btn-group';\n",
       "            continue;\n",
       "        }\n",
       "\n",
       "        button = fig.buttons[name] = document.createElement('button');\n",
       "        button.classList = 'btn btn-default';\n",
       "        button.href = '#';\n",
       "        button.title = name;\n",
       "        button.innerHTML = '<i class=\"fa ' + image + ' fa-lg\"></i>';\n",
       "        button.addEventListener('click', on_click_closure(method_name));\n",
       "        button.addEventListener('mouseover', on_mouseover_closure(tooltip));\n",
       "        buttonGroup.appendChild(button);\n",
       "    }\n",
       "\n",
       "    if (buttonGroup.hasChildNodes()) {\n",
       "        toolbar.appendChild(buttonGroup);\n",
       "    }\n",
       "\n",
       "    // Add the status bar.\n",
       "    var status_bar = document.createElement('span');\n",
       "    status_bar.classList = 'mpl-message pull-right';\n",
       "    toolbar.appendChild(status_bar);\n",
       "    this.message = status_bar;\n",
       "\n",
       "    // Add the close button to the window.\n",
       "    var buttongrp = document.createElement('div');\n",
       "    buttongrp.classList = 'btn-group inline pull-right';\n",
       "    button = document.createElement('button');\n",
       "    button.classList = 'btn btn-mini btn-primary';\n",
       "    button.href = '#';\n",
       "    button.title = 'Stop Interaction';\n",
       "    button.innerHTML = '<i class=\"fa fa-power-off icon-remove icon-large\"></i>';\n",
       "    button.addEventListener('click', function (_evt) {\n",
       "        fig.handle_close(fig, {});\n",
       "    });\n",
       "    button.addEventListener(\n",
       "        'mouseover',\n",
       "        on_mouseover_closure('Stop Interaction')\n",
       "    );\n",
       "    buttongrp.appendChild(button);\n",
       "    var titlebar = this.root.querySelector('.ui-dialog-titlebar');\n",
       "    titlebar.insertBefore(buttongrp, titlebar.firstChild);\n",
       "};\n",
       "\n",
       "mpl.figure.prototype._remove_fig_handler = function (event) {\n",
       "    var fig = event.data.fig;\n",
       "    fig.close_ws(fig, {});\n",
       "};\n",
       "\n",
       "mpl.figure.prototype._root_extra_style = function (el) {\n",
       "    el.style.boxSizing = 'content-box'; // override notebook setting of border-box.\n",
       "};\n",
       "\n",
       "mpl.figure.prototype._canvas_extra_style = function (el) {\n",
       "    // this is important to make the div 'focusable\n",
       "    el.setAttribute('tabindex', 0);\n",
       "    // reach out to IPython and tell the keyboard manager to turn it's self\n",
       "    // off when our div gets focus\n",
       "\n",
       "    // location in version 3\n",
       "    if (IPython.notebook.keyboard_manager) {\n",
       "        IPython.notebook.keyboard_manager.register_events(el);\n",
       "    } else {\n",
       "        // location in version 2\n",
       "        IPython.keyboard_manager.register_events(el);\n",
       "    }\n",
       "};\n",
       "\n",
       "mpl.figure.prototype._key_event_extra = function (event, _name) {\n",
       "    var manager = IPython.notebook.keyboard_manager;\n",
       "    if (!manager) {\n",
       "        manager = IPython.keyboard_manager;\n",
       "    }\n",
       "\n",
       "    // Check for shift+enter\n",
       "    if (event.shiftKey && event.which === 13) {\n",
       "        this.canvas_div.blur();\n",
       "        // select the cell after this one\n",
       "        var index = IPython.notebook.find_cell_index(this.cell_info[0]);\n",
       "        IPython.notebook.select(index + 1);\n",
       "    }\n",
       "};\n",
       "\n",
       "mpl.figure.prototype.handle_save = function (fig, _msg) {\n",
       "    fig.ondownload(fig, null);\n",
       "};\n",
       "\n",
       "mpl.find_output_cell = function (html_output) {\n",
       "    // Return the cell and output element which can be found *uniquely* in the notebook.\n",
       "    // Note - this is a bit hacky, but it is done because the \"notebook_saving.Notebook\"\n",
       "    // IPython event is triggered only after the cells have been serialised, which for\n",
       "    // our purposes (turning an active figure into a static one), is too late.\n",
       "    var cells = IPython.notebook.get_cells();\n",
       "    var ncells = cells.length;\n",
       "    for (var i = 0; i < ncells; i++) {\n",
       "        var cell = cells[i];\n",
       "        if (cell.cell_type === 'code') {\n",
       "            for (var j = 0; j < cell.output_area.outputs.length; j++) {\n",
       "                var data = cell.output_area.outputs[j];\n",
       "                if (data.data) {\n",
       "                    // IPython >= 3 moved mimebundle to data attribute of output\n",
       "                    data = data.data;\n",
       "                }\n",
       "                if (data['text/html'] === html_output) {\n",
       "                    return [cell, data, j];\n",
       "                }\n",
       "            }\n",
       "        }\n",
       "    }\n",
       "};\n",
       "\n",
       "// Register the function which deals with the matplotlib target/channel.\n",
       "// The kernel may be null if the page has been refreshed.\n",
       "if (IPython.notebook.kernel !== null) {\n",
       "    IPython.notebook.kernel.comm_manager.register_target(\n",
       "        'matplotlib',\n",
       "        mpl.mpl_figure_comm\n",
       "    );\n",
       "}\n"
      ],
      "text/plain": [
       "<IPython.core.display.Javascript object>"
      ]
     },
     "metadata": {},
     "output_type": "display_data"
    },
    {
     "data": {
      "text/html": [
       "<img src=\"data:image/png;base64,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\" width=\"800\">"
      ],
      "text/plain": [
       "<IPython.core.display.HTML object>"
      ]
     },
     "metadata": {},
     "output_type": "display_data"
    }
   ],
   "source": [
    "plot_ax = create_plot(df_2D)"
   ]
  },
  {
   "cell_type": "markdown",
   "metadata": {},
   "source": [
    "##  Selected Points Details\n",
    "Click the **Print** button below to display detailed data values of the points selected in the DR plot.  The selected points are Green."
   ]
  },
  {
   "cell_type": "code",
   "execution_count": 19,
   "metadata": {
    "scrolled": false
   },
   "outputs": [
    {
     "data": {
      "application/vnd.jupyter.widget-view+json": {
       "model_id": "a72746ece5b3435e823a84a3278db9b9",
       "version_major": 2,
       "version_minor": 0
      },
      "text/plain": [
       "Button(description='Print selected points', style=ButtonStyle())"
      ]
     },
     "metadata": {},
     "output_type": "display_data"
    },
    {
     "data": {
      "application/vnd.jupyter.widget-view+json": {
       "model_id": "e7acc119fc824daab0019d4d9700d350",
       "version_major": 2,
       "version_minor": 0
      },
      "text/plain": [
       "Output()"
      ]
     },
     "metadata": {},
     "output_type": "display_data"
    }
   ],
   "source": [
    "dod = create_detail_display()"
   ]
  },
  {
   "cell_type": "markdown",
   "metadata": {},
   "source": [
    "## Inverse Dimension Reduction\n",
    "After selecting and/or dragging some points in the DR plot, click the **Learn** button to machine learn new dimension weights that would produce a plot with similar pairwise distances as your plot.  **Only the Green selected points** in the plot are considered when learning new weights. You must select or move at least two points to specify new desired distances. Use this to create your own clusters, and find out what makes some data points similar to or different from others.  The **learned weights** are shown in a bar chart below.\n",
    "\n",
    "To see the effects of the learned weights, click the **Copy** button to apply the learned weights to the sliders and  make a new DR plot above."
   ]
  },
  {
   "cell_type": "code",
   "execution_count": 20,
   "metadata": {
    "scrolled": false
   },
   "outputs": [
    {
     "data": {
      "application/vnd.jupyter.widget-view+json": {
       "model_id": "2b29b33423704126a500fbfc887e7a7e",
       "version_major": 2,
       "version_minor": 0
      },
      "text/plain": [
       "Button(description='Learn New Weights', style=ButtonStyle())"
      ]
     },
     "metadata": {},
     "output_type": "display_data"
    },
    {
     "data": {
      "application/vnd.jupyter.widget-view+json": {
       "model_id": "0695df084e874a1fbfb0f11a2cb2cf2d",
       "version_major": 2,
       "version_minor": 0
      },
      "text/plain": [
       "Button(description='Copy to Sliders', style=ButtonStyle())"
      ]
     },
     "metadata": {},
     "output_type": "display_data"
    },
    {
     "data": {
      "application/javascript": [
       "/* Put everything inside the global mpl namespace */\n",
       "/* global mpl */\n",
       "window.mpl = {};\n",
       "\n",
       "mpl.get_websocket_type = function () {\n",
       "    if (typeof WebSocket !== 'undefined') {\n",
       "        return WebSocket;\n",
       "    } else if (typeof MozWebSocket !== 'undefined') {\n",
       "        return MozWebSocket;\n",
       "    } else {\n",
       "        alert(\n",
       "            'Your browser does not have WebSocket support. ' +\n",
       "                'Please try Chrome, Safari or Firefox ≥ 6. ' +\n",
       "                'Firefox 4 and 5 are also supported but you ' +\n",
       "                'have to enable WebSockets in about:config.'\n",
       "        );\n",
       "    }\n",
       "};\n",
       "\n",
       "mpl.figure = function (figure_id, websocket, ondownload, parent_element) {\n",
       "    this.id = figure_id;\n",
       "\n",
       "    this.ws = websocket;\n",
       "\n",
       "    this.supports_binary = this.ws.binaryType !== undefined;\n",
       "\n",
       "    if (!this.supports_binary) {\n",
       "        var warnings = document.getElementById('mpl-warnings');\n",
       "        if (warnings) {\n",
       "            warnings.style.display = 'block';\n",
       "            warnings.textContent =\n",
       "                'This browser does not support binary websocket messages. ' +\n",
       "                'Performance may be slow.';\n",
       "        }\n",
       "    }\n",
       "\n",
       "    this.imageObj = new Image();\n",
       "\n",
       "    this.context = undefined;\n",
       "    this.message = undefined;\n",
       "    this.canvas = undefined;\n",
       "    this.rubberband_canvas = undefined;\n",
       "    this.rubberband_context = undefined;\n",
       "    this.format_dropdown = undefined;\n",
       "\n",
       "    this.image_mode = 'full';\n",
       "\n",
       "    this.root = document.createElement('div');\n",
       "    this.root.setAttribute('style', 'display: inline-block');\n",
       "    this._root_extra_style(this.root);\n",
       "\n",
       "    parent_element.appendChild(this.root);\n",
       "\n",
       "    this._init_header(this);\n",
       "    this._init_canvas(this);\n",
       "    this._init_toolbar(this);\n",
       "\n",
       "    var fig = this;\n",
       "\n",
       "    this.waiting = false;\n",
       "\n",
       "    this.ws.onopen = function () {\n",
       "        fig.send_message('supports_binary', { value: fig.supports_binary });\n",
       "        fig.send_message('send_image_mode', {});\n",
       "        if (fig.ratio !== 1) {\n",
       "            fig.send_message('set_dpi_ratio', { dpi_ratio: fig.ratio });\n",
       "        }\n",
       "        fig.send_message('refresh', {});\n",
       "    };\n",
       "\n",
       "    this.imageObj.onload = function () {\n",
       "        if (fig.image_mode === 'full') {\n",
       "            // Full images could contain transparency (where diff images\n",
       "            // almost always do), so we need to clear the canvas so that\n",
       "            // there is no ghosting.\n",
       "            fig.context.clearRect(0, 0, fig.canvas.width, fig.canvas.height);\n",
       "        }\n",
       "        fig.context.drawImage(fig.imageObj, 0, 0);\n",
       "    };\n",
       "\n",
       "    this.imageObj.onunload = function () {\n",
       "        fig.ws.close();\n",
       "    };\n",
       "\n",
       "    this.ws.onmessage = this._make_on_message_function(this);\n",
       "\n",
       "    this.ondownload = ondownload;\n",
       "};\n",
       "\n",
       "mpl.figure.prototype._init_header = function () {\n",
       "    var titlebar = document.createElement('div');\n",
       "    titlebar.classList =\n",
       "        'ui-dialog-titlebar ui-widget-header ui-corner-all ui-helper-clearfix';\n",
       "    var titletext = document.createElement('div');\n",
       "    titletext.classList = 'ui-dialog-title';\n",
       "    titletext.setAttribute(\n",
       "        'style',\n",
       "        'width: 100%; text-align: center; padding: 3px;'\n",
       "    );\n",
       "    titlebar.appendChild(titletext);\n",
       "    this.root.appendChild(titlebar);\n",
       "    this.header = titletext;\n",
       "};\n",
       "\n",
       "mpl.figure.prototype._canvas_extra_style = function (_canvas_div) {};\n",
       "\n",
       "mpl.figure.prototype._root_extra_style = function (_canvas_div) {};\n",
       "\n",
       "mpl.figure.prototype._init_canvas = function () {\n",
       "    var fig = this;\n",
       "\n",
       "    var canvas_div = (this.canvas_div = document.createElement('div'));\n",
       "    canvas_div.setAttribute(\n",
       "        'style',\n",
       "        'border: 1px solid #ddd;' +\n",
       "            'box-sizing: content-box;' +\n",
       "            'clear: both;' +\n",
       "            'min-height: 1px;' +\n",
       "            'min-width: 1px;' +\n",
       "            'outline: 0;' +\n",
       "            'overflow: hidden;' +\n",
       "            'position: relative;' +\n",
       "            'resize: both;'\n",
       "    );\n",
       "\n",
       "    function on_keyboard_event_closure(name) {\n",
       "        return function (event) {\n",
       "            return fig.key_event(event, name);\n",
       "        };\n",
       "    }\n",
       "\n",
       "    canvas_div.addEventListener(\n",
       "        'keydown',\n",
       "        on_keyboard_event_closure('key_press')\n",
       "    );\n",
       "    canvas_div.addEventListener(\n",
       "        'keyup',\n",
       "        on_keyboard_event_closure('key_release')\n",
       "    );\n",
       "\n",
       "    this._canvas_extra_style(canvas_div);\n",
       "    this.root.appendChild(canvas_div);\n",
       "\n",
       "    var canvas = (this.canvas = document.createElement('canvas'));\n",
       "    canvas.classList.add('mpl-canvas');\n",
       "    canvas.setAttribute('style', 'box-sizing: content-box;');\n",
       "\n",
       "    this.context = canvas.getContext('2d');\n",
       "\n",
       "    var backingStore =\n",
       "        this.context.backingStorePixelRatio ||\n",
       "        this.context.webkitBackingStorePixelRatio ||\n",
       "        this.context.mozBackingStorePixelRatio ||\n",
       "        this.context.msBackingStorePixelRatio ||\n",
       "        this.context.oBackingStorePixelRatio ||\n",
       "        this.context.backingStorePixelRatio ||\n",
       "        1;\n",
       "\n",
       "    this.ratio = (window.devicePixelRatio || 1) / backingStore;\n",
       "    if (this.ratio !== 1) {\n",
       "        fig.send_message('set_dpi_ratio', { dpi_ratio: this.ratio });\n",
       "    }\n",
       "\n",
       "    var rubberband_canvas = (this.rubberband_canvas = document.createElement(\n",
       "        'canvas'\n",
       "    ));\n",
       "    rubberband_canvas.setAttribute(\n",
       "        'style',\n",
       "        'box-sizing: content-box; position: absolute; left: 0; top: 0; z-index: 1;'\n",
       "    );\n",
       "\n",
       "    var resizeObserver = new ResizeObserver(function (entries) {\n",
       "        var nentries = entries.length;\n",
       "        for (var i = 0; i < nentries; i++) {\n",
       "            var entry = entries[i];\n",
       "            var width, height;\n",
       "            if (entry.contentBoxSize) {\n",
       "                if (entry.contentBoxSize instanceof Array) {\n",
       "                    // Chrome 84 implements new version of spec.\n",
       "                    width = entry.contentBoxSize[0].inlineSize;\n",
       "                    height = entry.contentBoxSize[0].blockSize;\n",
       "                } else {\n",
       "                    // Firefox implements old version of spec.\n",
       "                    width = entry.contentBoxSize.inlineSize;\n",
       "                    height = entry.contentBoxSize.blockSize;\n",
       "                }\n",
       "            } else {\n",
       "                // Chrome <84 implements even older version of spec.\n",
       "                width = entry.contentRect.width;\n",
       "                height = entry.contentRect.height;\n",
       "            }\n",
       "\n",
       "            // Keep the size of the canvas and rubber band canvas in sync with\n",
       "            // the canvas container.\n",
       "            if (entry.devicePixelContentBoxSize) {\n",
       "                // Chrome 84 implements new version of spec.\n",
       "                canvas.setAttribute(\n",
       "                    'width',\n",
       "                    entry.devicePixelContentBoxSize[0].inlineSize\n",
       "                );\n",
       "                canvas.setAttribute(\n",
       "                    'height',\n",
       "                    entry.devicePixelContentBoxSize[0].blockSize\n",
       "                );\n",
       "            } else {\n",
       "                canvas.setAttribute('width', width * fig.ratio);\n",
       "                canvas.setAttribute('height', height * fig.ratio);\n",
       "            }\n",
       "            canvas.setAttribute(\n",
       "                'style',\n",
       "                'width: ' + width + 'px; height: ' + height + 'px;'\n",
       "            );\n",
       "\n",
       "            rubberband_canvas.setAttribute('width', width);\n",
       "            rubberband_canvas.setAttribute('height', height);\n",
       "\n",
       "            // And update the size in Python. We ignore the initial 0/0 size\n",
       "            // that occurs as the element is placed into the DOM, which should\n",
       "            // otherwise not happen due to the minimum size styling.\n",
       "            if (width != 0 && height != 0) {\n",
       "                fig.request_resize(width, height);\n",
       "            }\n",
       "        }\n",
       "    });\n",
       "    resizeObserver.observe(canvas_div);\n",
       "\n",
       "    function on_mouse_event_closure(name) {\n",
       "        return function (event) {\n",
       "            return fig.mouse_event(event, name);\n",
       "        };\n",
       "    }\n",
       "\n",
       "    rubberband_canvas.addEventListener(\n",
       "        'mousedown',\n",
       "        on_mouse_event_closure('button_press')\n",
       "    );\n",
       "    rubberband_canvas.addEventListener(\n",
       "        'mouseup',\n",
       "        on_mouse_event_closure('button_release')\n",
       "    );\n",
       "    // Throttle sequential mouse events to 1 every 20ms.\n",
       "    rubberband_canvas.addEventListener(\n",
       "        'mousemove',\n",
       "        on_mouse_event_closure('motion_notify')\n",
       "    );\n",
       "\n",
       "    rubberband_canvas.addEventListener(\n",
       "        'mouseenter',\n",
       "        on_mouse_event_closure('figure_enter')\n",
       "    );\n",
       "    rubberband_canvas.addEventListener(\n",
       "        'mouseleave',\n",
       "        on_mouse_event_closure('figure_leave')\n",
       "    );\n",
       "\n",
       "    canvas_div.addEventListener('wheel', function (event) {\n",
       "        if (event.deltaY < 0) {\n",
       "            event.step = 1;\n",
       "        } else {\n",
       "            event.step = -1;\n",
       "        }\n",
       "        on_mouse_event_closure('scroll')(event);\n",
       "    });\n",
       "\n",
       "    canvas_div.appendChild(canvas);\n",
       "    canvas_div.appendChild(rubberband_canvas);\n",
       "\n",
       "    this.rubberband_context = rubberband_canvas.getContext('2d');\n",
       "    this.rubberband_context.strokeStyle = '#000000';\n",
       "\n",
       "    this._resize_canvas = function (width, height, forward) {\n",
       "        if (forward) {\n",
       "            canvas_div.style.width = width + 'px';\n",
       "            canvas_div.style.height = height + 'px';\n",
       "        }\n",
       "    };\n",
       "\n",
       "    // Disable right mouse context menu.\n",
       "    this.rubberband_canvas.addEventListener('contextmenu', function (_e) {\n",
       "        event.preventDefault();\n",
       "        return false;\n",
       "    });\n",
       "\n",
       "    function set_focus() {\n",
       "        canvas.focus();\n",
       "        canvas_div.focus();\n",
       "    }\n",
       "\n",
       "    window.setTimeout(set_focus, 100);\n",
       "};\n",
       "\n",
       "mpl.figure.prototype._init_toolbar = function () {\n",
       "    var fig = this;\n",
       "\n",
       "    var toolbar = document.createElement('div');\n",
       "    toolbar.classList = 'mpl-toolbar';\n",
       "    this.root.appendChild(toolbar);\n",
       "\n",
       "    function on_click_closure(name) {\n",
       "        return function (_event) {\n",
       "            return fig.toolbar_button_onclick(name);\n",
       "        };\n",
       "    }\n",
       "\n",
       "    function on_mouseover_closure(tooltip) {\n",
       "        return function (event) {\n",
       "            if (!event.currentTarget.disabled) {\n",
       "                return fig.toolbar_button_onmouseover(tooltip);\n",
       "            }\n",
       "        };\n",
       "    }\n",
       "\n",
       "    fig.buttons = {};\n",
       "    var buttonGroup = document.createElement('div');\n",
       "    buttonGroup.classList = 'mpl-button-group';\n",
       "    for (var toolbar_ind in mpl.toolbar_items) {\n",
       "        var name = mpl.toolbar_items[toolbar_ind][0];\n",
       "        var tooltip = mpl.toolbar_items[toolbar_ind][1];\n",
       "        var image = mpl.toolbar_items[toolbar_ind][2];\n",
       "        var method_name = mpl.toolbar_items[toolbar_ind][3];\n",
       "\n",
       "        if (!name) {\n",
       "            /* Instead of a spacer, we start a new button group. */\n",
       "            if (buttonGroup.hasChildNodes()) {\n",
       "                toolbar.appendChild(buttonGroup);\n",
       "            }\n",
       "            buttonGroup = document.createElement('div');\n",
       "            buttonGroup.classList = 'mpl-button-group';\n",
       "            continue;\n",
       "        }\n",
       "\n",
       "        var button = (fig.buttons[name] = document.createElement('button'));\n",
       "        button.classList = 'mpl-widget';\n",
       "        button.setAttribute('role', 'button');\n",
       "        button.setAttribute('aria-disabled', 'false');\n",
       "        button.addEventListener('click', on_click_closure(method_name));\n",
       "        button.addEventListener('mouseover', on_mouseover_closure(tooltip));\n",
       "\n",
       "        var icon_img = document.createElement('img');\n",
       "        icon_img.src = '_images/' + image + '.png';\n",
       "        icon_img.srcset = '_images/' + image + '_large.png 2x';\n",
       "        icon_img.alt = tooltip;\n",
       "        button.appendChild(icon_img);\n",
       "\n",
       "        buttonGroup.appendChild(button);\n",
       "    }\n",
       "\n",
       "    if (buttonGroup.hasChildNodes()) {\n",
       "        toolbar.appendChild(buttonGroup);\n",
       "    }\n",
       "\n",
       "    var fmt_picker = document.createElement('select');\n",
       "    fmt_picker.classList = 'mpl-widget';\n",
       "    toolbar.appendChild(fmt_picker);\n",
       "    this.format_dropdown = fmt_picker;\n",
       "\n",
       "    for (var ind in mpl.extensions) {\n",
       "        var fmt = mpl.extensions[ind];\n",
       "        var option = document.createElement('option');\n",
       "        option.selected = fmt === mpl.default_extension;\n",
       "        option.innerHTML = fmt;\n",
       "        fmt_picker.appendChild(option);\n",
       "    }\n",
       "\n",
       "    var status_bar = document.createElement('span');\n",
       "    status_bar.classList = 'mpl-message';\n",
       "    toolbar.appendChild(status_bar);\n",
       "    this.message = status_bar;\n",
       "};\n",
       "\n",
       "mpl.figure.prototype.request_resize = function (x_pixels, y_pixels) {\n",
       "    // Request matplotlib to resize the figure. Matplotlib will then trigger a resize in the client,\n",
       "    // which will in turn request a refresh of the image.\n",
       "    this.send_message('resize', { width: x_pixels, height: y_pixels });\n",
       "};\n",
       "\n",
       "mpl.figure.prototype.send_message = function (type, properties) {\n",
       "    properties['type'] = type;\n",
       "    properties['figure_id'] = this.id;\n",
       "    this.ws.send(JSON.stringify(properties));\n",
       "};\n",
       "\n",
       "mpl.figure.prototype.send_draw_message = function () {\n",
       "    if (!this.waiting) {\n",
       "        this.waiting = true;\n",
       "        this.ws.send(JSON.stringify({ type: 'draw', figure_id: this.id }));\n",
       "    }\n",
       "};\n",
       "\n",
       "mpl.figure.prototype.handle_save = function (fig, _msg) {\n",
       "    var format_dropdown = fig.format_dropdown;\n",
       "    var format = format_dropdown.options[format_dropdown.selectedIndex].value;\n",
       "    fig.ondownload(fig, format);\n",
       "};\n",
       "\n",
       "mpl.figure.prototype.handle_resize = function (fig, msg) {\n",
       "    var size = msg['size'];\n",
       "    if (size[0] !== fig.canvas.width || size[1] !== fig.canvas.height) {\n",
       "        fig._resize_canvas(size[0], size[1], msg['forward']);\n",
       "        fig.send_message('refresh', {});\n",
       "    }\n",
       "};\n",
       "\n",
       "mpl.figure.prototype.handle_rubberband = function (fig, msg) {\n",
       "    var x0 = msg['x0'] / fig.ratio;\n",
       "    var y0 = (fig.canvas.height - msg['y0']) / fig.ratio;\n",
       "    var x1 = msg['x1'] / fig.ratio;\n",
       "    var y1 = (fig.canvas.height - msg['y1']) / fig.ratio;\n",
       "    x0 = Math.floor(x0) + 0.5;\n",
       "    y0 = Math.floor(y0) + 0.5;\n",
       "    x1 = Math.floor(x1) + 0.5;\n",
       "    y1 = Math.floor(y1) + 0.5;\n",
       "    var min_x = Math.min(x0, x1);\n",
       "    var min_y = Math.min(y0, y1);\n",
       "    var width = Math.abs(x1 - x0);\n",
       "    var height = Math.abs(y1 - y0);\n",
       "\n",
       "    fig.rubberband_context.clearRect(\n",
       "        0,\n",
       "        0,\n",
       "        fig.canvas.width / fig.ratio,\n",
       "        fig.canvas.height / fig.ratio\n",
       "    );\n",
       "\n",
       "    fig.rubberband_context.strokeRect(min_x, min_y, width, height);\n",
       "};\n",
       "\n",
       "mpl.figure.prototype.handle_figure_label = function (fig, msg) {\n",
       "    // Updates the figure title.\n",
       "    fig.header.textContent = msg['label'];\n",
       "};\n",
       "\n",
       "mpl.figure.prototype.handle_cursor = function (fig, msg) {\n",
       "    var cursor = msg['cursor'];\n",
       "    switch (cursor) {\n",
       "        case 0:\n",
       "            cursor = 'pointer';\n",
       "            break;\n",
       "        case 1:\n",
       "            cursor = 'default';\n",
       "            break;\n",
       "        case 2:\n",
       "            cursor = 'crosshair';\n",
       "            break;\n",
       "        case 3:\n",
       "            cursor = 'move';\n",
       "            break;\n",
       "    }\n",
       "    fig.rubberband_canvas.style.cursor = cursor;\n",
       "};\n",
       "\n",
       "mpl.figure.prototype.handle_message = function (fig, msg) {\n",
       "    fig.message.textContent = msg['message'];\n",
       "};\n",
       "\n",
       "mpl.figure.prototype.handle_draw = function (fig, _msg) {\n",
       "    // Request the server to send over a new figure.\n",
       "    fig.send_draw_message();\n",
       "};\n",
       "\n",
       "mpl.figure.prototype.handle_image_mode = function (fig, msg) {\n",
       "    fig.image_mode = msg['mode'];\n",
       "};\n",
       "\n",
       "mpl.figure.prototype.handle_history_buttons = function (fig, msg) {\n",
       "    for (var key in msg) {\n",
       "        if (!(key in fig.buttons)) {\n",
       "            continue;\n",
       "        }\n",
       "        fig.buttons[key].disabled = !msg[key];\n",
       "        fig.buttons[key].setAttribute('aria-disabled', !msg[key]);\n",
       "    }\n",
       "};\n",
       "\n",
       "mpl.figure.prototype.handle_navigate_mode = function (fig, msg) {\n",
       "    if (msg['mode'] === 'PAN') {\n",
       "        fig.buttons['Pan'].classList.add('active');\n",
       "        fig.buttons['Zoom'].classList.remove('active');\n",
       "    } else if (msg['mode'] === 'ZOOM') {\n",
       "        fig.buttons['Pan'].classList.remove('active');\n",
       "        fig.buttons['Zoom'].classList.add('active');\n",
       "    } else {\n",
       "        fig.buttons['Pan'].classList.remove('active');\n",
       "        fig.buttons['Zoom'].classList.remove('active');\n",
       "    }\n",
       "};\n",
       "\n",
       "mpl.figure.prototype.updated_canvas_event = function () {\n",
       "    // Called whenever the canvas gets updated.\n",
       "    this.send_message('ack', {});\n",
       "};\n",
       "\n",
       "// A function to construct a web socket function for onmessage handling.\n",
       "// Called in the figure constructor.\n",
       "mpl.figure.prototype._make_on_message_function = function (fig) {\n",
       "    return function socket_on_message(evt) {\n",
       "        if (evt.data instanceof Blob) {\n",
       "            /* FIXME: We get \"Resource interpreted as Image but\n",
       "             * transferred with MIME type text/plain:\" errors on\n",
       "             * Chrome.  But how to set the MIME type?  It doesn't seem\n",
       "             * to be part of the websocket stream */\n",
       "            evt.data.type = 'image/png';\n",
       "\n",
       "            /* Free the memory for the previous frames */\n",
       "            if (fig.imageObj.src) {\n",
       "                (window.URL || window.webkitURL).revokeObjectURL(\n",
       "                    fig.imageObj.src\n",
       "                );\n",
       "            }\n",
       "\n",
       "            fig.imageObj.src = (window.URL || window.webkitURL).createObjectURL(\n",
       "                evt.data\n",
       "            );\n",
       "            fig.updated_canvas_event();\n",
       "            fig.waiting = false;\n",
       "            return;\n",
       "        } else if (\n",
       "            typeof evt.data === 'string' &&\n",
       "            evt.data.slice(0, 21) === 'data:image/png;base64'\n",
       "        ) {\n",
       "            fig.imageObj.src = evt.data;\n",
       "            fig.updated_canvas_event();\n",
       "            fig.waiting = false;\n",
       "            return;\n",
       "        }\n",
       "\n",
       "        var msg = JSON.parse(evt.data);\n",
       "        var msg_type = msg['type'];\n",
       "\n",
       "        // Call the  \"handle_{type}\" callback, which takes\n",
       "        // the figure and JSON message as its only arguments.\n",
       "        try {\n",
       "            var callback = fig['handle_' + msg_type];\n",
       "        } catch (e) {\n",
       "            console.log(\n",
       "                \"No handler for the '\" + msg_type + \"' message type: \",\n",
       "                msg\n",
       "            );\n",
       "            return;\n",
       "        }\n",
       "\n",
       "        if (callback) {\n",
       "            try {\n",
       "                // console.log(\"Handling '\" + msg_type + \"' message: \", msg);\n",
       "                callback(fig, msg);\n",
       "            } catch (e) {\n",
       "                console.log(\n",
       "                    \"Exception inside the 'handler_\" + msg_type + \"' callback:\",\n",
       "                    e,\n",
       "                    e.stack,\n",
       "                    msg\n",
       "                );\n",
       "            }\n",
       "        }\n",
       "    };\n",
       "};\n",
       "\n",
       "// from http://stackoverflow.com/questions/1114465/getting-mouse-location-in-canvas\n",
       "mpl.findpos = function (e) {\n",
       "    //this section is from http://www.quirksmode.org/js/events_properties.html\n",
       "    var targ;\n",
       "    if (!e) {\n",
       "        e = window.event;\n",
       "    }\n",
       "    if (e.target) {\n",
       "        targ = e.target;\n",
       "    } else if (e.srcElement) {\n",
       "        targ = e.srcElement;\n",
       "    }\n",
       "    if (targ.nodeType === 3) {\n",
       "        // defeat Safari bug\n",
       "        targ = targ.parentNode;\n",
       "    }\n",
       "\n",
       "    // pageX,Y are the mouse positions relative to the document\n",
       "    var boundingRect = targ.getBoundingClientRect();\n",
       "    var x = e.pageX - (boundingRect.left + document.body.scrollLeft);\n",
       "    var y = e.pageY - (boundingRect.top + document.body.scrollTop);\n",
       "\n",
       "    return { x: x, y: y };\n",
       "};\n",
       "\n",
       "/*\n",
       " * return a copy of an object with only non-object keys\n",
       " * we need this to avoid circular references\n",
       " * http://stackoverflow.com/a/24161582/3208463\n",
       " */\n",
       "function simpleKeys(original) {\n",
       "    return Object.keys(original).reduce(function (obj, key) {\n",
       "        if (typeof original[key] !== 'object') {\n",
       "            obj[key] = original[key];\n",
       "        }\n",
       "        return obj;\n",
       "    }, {});\n",
       "}\n",
       "\n",
       "mpl.figure.prototype.mouse_event = function (event, name) {\n",
       "    var canvas_pos = mpl.findpos(event);\n",
       "\n",
       "    if (name === 'button_press') {\n",
       "        this.canvas.focus();\n",
       "        this.canvas_div.focus();\n",
       "    }\n",
       "\n",
       "    var x = canvas_pos.x * this.ratio;\n",
       "    var y = canvas_pos.y * this.ratio;\n",
       "\n",
       "    this.send_message(name, {\n",
       "        x: x,\n",
       "        y: y,\n",
       "        button: event.button,\n",
       "        step: event.step,\n",
       "        guiEvent: simpleKeys(event),\n",
       "    });\n",
       "\n",
       "    /* This prevents the web browser from automatically changing to\n",
       "     * the text insertion cursor when the button is pressed.  We want\n",
       "     * to control all of the cursor setting manually through the\n",
       "     * 'cursor' event from matplotlib */\n",
       "    event.preventDefault();\n",
       "    return false;\n",
       "};\n",
       "\n",
       "mpl.figure.prototype._key_event_extra = function (_event, _name) {\n",
       "    // Handle any extra behaviour associated with a key event\n",
       "};\n",
       "\n",
       "mpl.figure.prototype.key_event = function (event, name) {\n",
       "    // Prevent repeat events\n",
       "    if (name === 'key_press') {\n",
       "        if (event.which === this._key) {\n",
       "            return;\n",
       "        } else {\n",
       "            this._key = event.which;\n",
       "        }\n",
       "    }\n",
       "    if (name === 'key_release') {\n",
       "        this._key = null;\n",
       "    }\n",
       "\n",
       "    var value = '';\n",
       "    if (event.ctrlKey && event.which !== 17) {\n",
       "        value += 'ctrl+';\n",
       "    }\n",
       "    if (event.altKey && event.which !== 18) {\n",
       "        value += 'alt+';\n",
       "    }\n",
       "    if (event.shiftKey && event.which !== 16) {\n",
       "        value += 'shift+';\n",
       "    }\n",
       "\n",
       "    value += 'k';\n",
       "    value += event.which.toString();\n",
       "\n",
       "    this._key_event_extra(event, name);\n",
       "\n",
       "    this.send_message(name, { key: value, guiEvent: simpleKeys(event) });\n",
       "    return false;\n",
       "};\n",
       "\n",
       "mpl.figure.prototype.toolbar_button_onclick = function (name) {\n",
       "    if (name === 'download') {\n",
       "        this.handle_save(this, null);\n",
       "    } else {\n",
       "        this.send_message('toolbar_button', { name: name });\n",
       "    }\n",
       "};\n",
       "\n",
       "mpl.figure.prototype.toolbar_button_onmouseover = function (tooltip) {\n",
       "    this.message.textContent = tooltip;\n",
       "};\n",
       "mpl.toolbar_items = [[\"Home\", \"Reset original view\", \"fa fa-home icon-home\", \"home\"], [\"Back\", \"Back to previous view\", \"fa fa-arrow-left icon-arrow-left\", \"back\"], [\"Forward\", \"Forward to next view\", \"fa fa-arrow-right icon-arrow-right\", \"forward\"], [\"\", \"\", \"\", \"\"], [\"Pan\", \"Left button pans, Right button zooms\\nx/y fixes axis, CTRL fixes aspect\", \"fa fa-arrows icon-move\", \"pan\"], [\"Zoom\", \"Zoom to rectangle\\nx/y fixes axis, CTRL fixes aspect\", \"fa fa-square-o icon-check-empty\", \"zoom\"], [\"\", \"\", \"\", \"\"], [\"Download\", \"Download plot\", \"fa fa-floppy-o icon-save\", \"download\"]];\n",
       "\n",
       "mpl.extensions = [\"eps\", \"jpeg\", \"pdf\", \"png\", \"ps\", \"raw\", \"svg\", \"tif\"];\n",
       "\n",
       "mpl.default_extension = \"png\";/* global mpl */\n",
       "\n",
       "var comm_websocket_adapter = function (comm) {\n",
       "    // Create a \"websocket\"-like object which calls the given IPython comm\n",
       "    // object with the appropriate methods. Currently this is a non binary\n",
       "    // socket, so there is still some room for performance tuning.\n",
       "    var ws = {};\n",
       "\n",
       "    ws.close = function () {\n",
       "        comm.close();\n",
       "    };\n",
       "    ws.send = function (m) {\n",
       "        //console.log('sending', m);\n",
       "        comm.send(m);\n",
       "    };\n",
       "    // Register the callback with on_msg.\n",
       "    comm.on_msg(function (msg) {\n",
       "        //console.log('receiving', msg['content']['data'], msg);\n",
       "        // Pass the mpl event to the overridden (by mpl) onmessage function.\n",
       "        ws.onmessage(msg['content']['data']);\n",
       "    });\n",
       "    return ws;\n",
       "};\n",
       "\n",
       "mpl.mpl_figure_comm = function (comm, msg) {\n",
       "    // This is the function which gets called when the mpl process\n",
       "    // starts-up an IPython Comm through the \"matplotlib\" channel.\n",
       "\n",
       "    var id = msg.content.data.id;\n",
       "    // Get hold of the div created by the display call when the Comm\n",
       "    // socket was opened in Python.\n",
       "    var element = document.getElementById(id);\n",
       "    var ws_proxy = comm_websocket_adapter(comm);\n",
       "\n",
       "    function ondownload(figure, _format) {\n",
       "        window.open(figure.canvas.toDataURL());\n",
       "    }\n",
       "\n",
       "    var fig = new mpl.figure(id, ws_proxy, ondownload, element);\n",
       "\n",
       "    // Call onopen now - mpl needs it, as it is assuming we've passed it a real\n",
       "    // web socket which is closed, not our websocket->open comm proxy.\n",
       "    ws_proxy.onopen();\n",
       "\n",
       "    fig.parent_element = element;\n",
       "    fig.cell_info = mpl.find_output_cell(\"<div id='\" + id + \"'></div>\");\n",
       "    if (!fig.cell_info) {\n",
       "        console.error('Failed to find cell for figure', id, fig);\n",
       "        return;\n",
       "    }\n",
       "    fig.cell_info[0].output_area.element.one(\n",
       "        'cleared',\n",
       "        { fig: fig },\n",
       "        fig._remove_fig_handler\n",
       "    );\n",
       "};\n",
       "\n",
       "mpl.figure.prototype.handle_close = function (fig, msg) {\n",
       "    var width = fig.canvas.width / fig.ratio;\n",
       "    fig.cell_info[0].output_area.element.off(\n",
       "        'cleared',\n",
       "        fig._remove_fig_handler\n",
       "    );\n",
       "\n",
       "    // Update the output cell to use the data from the current canvas.\n",
       "    fig.push_to_output();\n",
       "    var dataURL = fig.canvas.toDataURL();\n",
       "    // Re-enable the keyboard manager in IPython - without this line, in FF,\n",
       "    // the notebook keyboard shortcuts fail.\n",
       "    IPython.keyboard_manager.enable();\n",
       "    fig.parent_element.innerHTML =\n",
       "        '<img src=\"' + dataURL + '\" width=\"' + width + '\">';\n",
       "    fig.close_ws(fig, msg);\n",
       "};\n",
       "\n",
       "mpl.figure.prototype.close_ws = function (fig, msg) {\n",
       "    fig.send_message('closing', msg);\n",
       "    // fig.ws.close()\n",
       "};\n",
       "\n",
       "mpl.figure.prototype.push_to_output = function (_remove_interactive) {\n",
       "    // Turn the data on the canvas into data in the output cell.\n",
       "    var width = this.canvas.width / this.ratio;\n",
       "    var dataURL = this.canvas.toDataURL();\n",
       "    this.cell_info[1]['text/html'] =\n",
       "        '<img src=\"' + dataURL + '\" width=\"' + width + '\">';\n",
       "};\n",
       "\n",
       "mpl.figure.prototype.updated_canvas_event = function () {\n",
       "    // Tell IPython that the notebook contents must change.\n",
       "    IPython.notebook.set_dirty(true);\n",
       "    this.send_message('ack', {});\n",
       "    var fig = this;\n",
       "    // Wait a second, then push the new image to the DOM so\n",
       "    // that it is saved nicely (might be nice to debounce this).\n",
       "    setTimeout(function () {\n",
       "        fig.push_to_output();\n",
       "    }, 1000);\n",
       "};\n",
       "\n",
       "mpl.figure.prototype._init_toolbar = function () {\n",
       "    var fig = this;\n",
       "\n",
       "    var toolbar = document.createElement('div');\n",
       "    toolbar.classList = 'btn-toolbar';\n",
       "    this.root.appendChild(toolbar);\n",
       "\n",
       "    function on_click_closure(name) {\n",
       "        return function (_event) {\n",
       "            return fig.toolbar_button_onclick(name);\n",
       "        };\n",
       "    }\n",
       "\n",
       "    function on_mouseover_closure(tooltip) {\n",
       "        return function (event) {\n",
       "            if (!event.currentTarget.disabled) {\n",
       "                return fig.toolbar_button_onmouseover(tooltip);\n",
       "            }\n",
       "        };\n",
       "    }\n",
       "\n",
       "    fig.buttons = {};\n",
       "    var buttonGroup = document.createElement('div');\n",
       "    buttonGroup.classList = 'btn-group';\n",
       "    var button;\n",
       "    for (var toolbar_ind in mpl.toolbar_items) {\n",
       "        var name = mpl.toolbar_items[toolbar_ind][0];\n",
       "        var tooltip = mpl.toolbar_items[toolbar_ind][1];\n",
       "        var image = mpl.toolbar_items[toolbar_ind][2];\n",
       "        var method_name = mpl.toolbar_items[toolbar_ind][3];\n",
       "\n",
       "        if (!name) {\n",
       "            /* Instead of a spacer, we start a new button group. */\n",
       "            if (buttonGroup.hasChildNodes()) {\n",
       "                toolbar.appendChild(buttonGroup);\n",
       "            }\n",
       "            buttonGroup = document.createElement('div');\n",
       "            buttonGroup.classList = 'btn-group';\n",
       "            continue;\n",
       "        }\n",
       "\n",
       "        button = fig.buttons[name] = document.createElement('button');\n",
       "        button.classList = 'btn btn-default';\n",
       "        button.href = '#';\n",
       "        button.title = name;\n",
       "        button.innerHTML = '<i class=\"fa ' + image + ' fa-lg\"></i>';\n",
       "        button.addEventListener('click', on_click_closure(method_name));\n",
       "        button.addEventListener('mouseover', on_mouseover_closure(tooltip));\n",
       "        buttonGroup.appendChild(button);\n",
       "    }\n",
       "\n",
       "    if (buttonGroup.hasChildNodes()) {\n",
       "        toolbar.appendChild(buttonGroup);\n",
       "    }\n",
       "\n",
       "    // Add the status bar.\n",
       "    var status_bar = document.createElement('span');\n",
       "    status_bar.classList = 'mpl-message pull-right';\n",
       "    toolbar.appendChild(status_bar);\n",
       "    this.message = status_bar;\n",
       "\n",
       "    // Add the close button to the window.\n",
       "    var buttongrp = document.createElement('div');\n",
       "    buttongrp.classList = 'btn-group inline pull-right';\n",
       "    button = document.createElement('button');\n",
       "    button.classList = 'btn btn-mini btn-primary';\n",
       "    button.href = '#';\n",
       "    button.title = 'Stop Interaction';\n",
       "    button.innerHTML = '<i class=\"fa fa-power-off icon-remove icon-large\"></i>';\n",
       "    button.addEventListener('click', function (_evt) {\n",
       "        fig.handle_close(fig, {});\n",
       "    });\n",
       "    button.addEventListener(\n",
       "        'mouseover',\n",
       "        on_mouseover_closure('Stop Interaction')\n",
       "    );\n",
       "    buttongrp.appendChild(button);\n",
       "    var titlebar = this.root.querySelector('.ui-dialog-titlebar');\n",
       "    titlebar.insertBefore(buttongrp, titlebar.firstChild);\n",
       "};\n",
       "\n",
       "mpl.figure.prototype._remove_fig_handler = function (event) {\n",
       "    var fig = event.data.fig;\n",
       "    fig.close_ws(fig, {});\n",
       "};\n",
       "\n",
       "mpl.figure.prototype._root_extra_style = function (el) {\n",
       "    el.style.boxSizing = 'content-box'; // override notebook setting of border-box.\n",
       "};\n",
       "\n",
       "mpl.figure.prototype._canvas_extra_style = function (el) {\n",
       "    // this is important to make the div 'focusable\n",
       "    el.setAttribute('tabindex', 0);\n",
       "    // reach out to IPython and tell the keyboard manager to turn it's self\n",
       "    // off when our div gets focus\n",
       "\n",
       "    // location in version 3\n",
       "    if (IPython.notebook.keyboard_manager) {\n",
       "        IPython.notebook.keyboard_manager.register_events(el);\n",
       "    } else {\n",
       "        // location in version 2\n",
       "        IPython.keyboard_manager.register_events(el);\n",
       "    }\n",
       "};\n",
       "\n",
       "mpl.figure.prototype._key_event_extra = function (event, _name) {\n",
       "    var manager = IPython.notebook.keyboard_manager;\n",
       "    if (!manager) {\n",
       "        manager = IPython.keyboard_manager;\n",
       "    }\n",
       "\n",
       "    // Check for shift+enter\n",
       "    if (event.shiftKey && event.which === 13) {\n",
       "        this.canvas_div.blur();\n",
       "        // select the cell after this one\n",
       "        var index = IPython.notebook.find_cell_index(this.cell_info[0]);\n",
       "        IPython.notebook.select(index + 1);\n",
       "    }\n",
       "};\n",
       "\n",
       "mpl.figure.prototype.handle_save = function (fig, _msg) {\n",
       "    fig.ondownload(fig, null);\n",
       "};\n",
       "\n",
       "mpl.find_output_cell = function (html_output) {\n",
       "    // Return the cell and output element which can be found *uniquely* in the notebook.\n",
       "    // Note - this is a bit hacky, but it is done because the \"notebook_saving.Notebook\"\n",
       "    // IPython event is triggered only after the cells have been serialised, which for\n",
       "    // our purposes (turning an active figure into a static one), is too late.\n",
       "    var cells = IPython.notebook.get_cells();\n",
       "    var ncells = cells.length;\n",
       "    for (var i = 0; i < ncells; i++) {\n",
       "        var cell = cells[i];\n",
       "        if (cell.cell_type === 'code') {\n",
       "            for (var j = 0; j < cell.output_area.outputs.length; j++) {\n",
       "                var data = cell.output_area.outputs[j];\n",
       "                if (data.data) {\n",
       "                    // IPython >= 3 moved mimebundle to data attribute of output\n",
       "                    data = data.data;\n",
       "                }\n",
       "                if (data['text/html'] === html_output) {\n",
       "                    return [cell, data, j];\n",
       "                }\n",
       "            }\n",
       "        }\n",
       "    }\n",
       "};\n",
       "\n",
       "// Register the function which deals with the matplotlib target/channel.\n",
       "// The kernel may be null if the page has been refreshed.\n",
       "if (IPython.notebook.kernel !== null) {\n",
       "    IPython.notebook.kernel.comm_manager.register_target(\n",
       "        'matplotlib',\n",
       "        mpl.mpl_figure_comm\n",
       "    );\n",
       "}\n"
      ],
      "text/plain": [
       "<IPython.core.display.Javascript object>"
      ]
     },
     "metadata": {},
     "output_type": "display_data"
    },
    {
     "data": {
      "text/html": [
       "<img src=\"data:image/png;base64,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\" width=\"500\">"
      ],
      "text/plain": [
       "<IPython.core.display.HTML object>"
      ]
     },
     "metadata": {},
     "output_type": "display_data"
    }
   ],
   "source": [
    "inverse = create_inverse_button()"
   ]
  },
  {
   "cell_type": "code",
   "execution_count": 21,
   "metadata": {},
   "outputs": [
    {
     "name": "stdout",
     "output_type": "stream",
     "text": [
      "rm: ./testTrainingData/.DS_Store: No such file or directory\r\n"
     ]
    }
   ],
   "source": [
    "! rm ./testTrainingData/.DS_Store"
   ]
  },
  {
   "cell_type": "code",
   "execution_count": null,
   "metadata": {},
   "outputs": [],
   "source": []
  },
  {
   "cell_type": "code",
   "execution_count": null,
   "metadata": {},
   "outputs": [],
   "source": []
  }
 ],
 "metadata": {
  "kernelspec": {
   "display_name": "Python 3",
   "language": "python",
   "name": "python3"
  },
  "language_info": {
   "codemirror_mode": {
    "name": "ipython",
    "version": 3
   },
   "file_extension": ".py",
   "mimetype": "text/x-python",
   "name": "python",
   "nbconvert_exporter": "python",
   "pygments_lexer": "ipython3",
   "version": "3.7.9"
  }
 },
 "nbformat": 4,
 "nbformat_minor": 1
}
