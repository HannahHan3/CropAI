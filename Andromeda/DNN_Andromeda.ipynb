{
 "cells": [
  {
   "cell_type": "markdown",
   "metadata": {},
   "source": [
    "# Andromeda in Jupyter\n",
    "\n",
    "### Interactive Inverse Dimension Reduction \n",
    "\n",
    "This notebook implements interactive dimension reduction (DR) for exploratory analysis of high-dimensional data.\n",
    "It uses a Multi-Dimensional Scaling (MDS) algorithm with a weighted distance metric. It enables both forward and inverse DR interaction. \n",
    "\n",
    "**MDS** projects high-dimensional data to a 2D scatterplot. A **weighted distance function** with user-specified weights on each dimension enables alternative projections that emphasize different dimensions. An **Inverse-DR** algorithm learns distance function weights for  user-constructed layouts of the data points.\n",
    "\n",
    "### Instructions:\n",
    "\n",
    "1. Run All\n",
    "1. Proceed to the interactive plots near the bottom\n",
    "1. There are three kinds of interactions:\n",
    "    1. Select points in the DR plot and click Details to see data values.\n",
    "    1. **Parametric interaction:** Adjust the weight sliders and click Apply to alter the projection plot.\n",
    "    1. **Projection interaction:** Drag points in the projection plot, then click Learn to see learned weights, and click Copy to see the updated projection plot.\n",
    "1. Be patient, its interactive matplotlib in python and Jupyter!\n",
    "\n",
    "### Credits:\n",
    "\n",
    "Authors: Han Liu and Chris North, Dept of Computer Science, Virginia Tech.\n",
    "\n",
    "Based on: *Self JZ, Dowling M, Wenskovitch J, Crandell I, Wang M, House L, Leman S, North C. Observation-Level and Parametric Interaction for High-Dimensional Data Analysis. ACM Transactions on Interactive Intelligent Systems.  8(2), 2018.* https://infovis.cs.vt.edu/sites/default/files/observation-level-parametric_first_look_version.pdf\n"
   ]
  },
  {
   "cell_type": "code",
   "execution_count": 1,
   "metadata": {},
   "outputs": [],
   "source": [
    "%matplotlib notebook\n",
    "# interactive notebook format is required for the interactive plot\n",
    "\n",
    "import numpy as np\n",
    "import pandas as pd\n",
    "import math\n",
    "import random\n",
    "\n",
    "from sklearn.decomposition import PCA\n",
    "from sklearn.manifold import MDS\n",
    "import sklearn.metrics.pairwise\n",
    "\n",
    "import matplotlib\n",
    "import matplotlib.pyplot as plt\n",
    "import ipywidgets as widgets\n",
    "from IPython.display import display"
   ]
  },
  {
   "cell_type": "markdown",
   "metadata": {},
   "source": [
    "# Load and Pre-process Data\n",
    "\n",
    "Change the **filename** to load a dataset.  CSV data file is expected to have a first column 'Name' that is used as the index, and header row of column names.  Numeric columns are used for projection."
   ]
  },
  {
   "cell_type": "code",
   "execution_count": 2,
   "metadata": {},
   "outputs": [
    {
     "name": "stdout",
     "output_type": "stream",
     "text": [
      "ColorHist_Andromeda.ipynb     DNN_Andromeda.ipynb\r\n",
      "DNN_Andromeda-disease.ipynb   OppSift_Andromeda.ipynb\r\n",
      "DNN_Andromeda-lateReady.ipynb Sift_Andromeda.ipynb\r\n"
     ]
    }
   ],
   "source": [
    "! ls "
   ]
  },
  {
   "cell_type": "code",
   "execution_count": 3,
   "metadata": {},
   "outputs": [],
   "source": [
    "# filename = 'Animal_Data_Andromeda.csv'\n",
    "#filename = 'InfoVis_Fall_2015_Survey.csv'\n",
    "filename = '../csvFiles/DNNFeaturesBatch5.csv'\n",
    "df = pd.read_csv(filename)\n",
    "# df['Image'] = df['Image'].apply(lambda x: x.split('_')[2]+ x.split('_')[-2]+x.split('_')[-1])"
   ]
  },
  {
   "cell_type": "code",
   "execution_count": 4,
   "metadata": {},
   "outputs": [
    {
     "data": {
      "text/plain": [
       "(60, 129)"
      ]
     },
     "metadata": {},
     "output_type": "display_data"
    },
    {
     "data": {
      "text/html": [
       "<div>\n",
       "<style scoped>\n",
       "    .dataframe tbody tr th:only-of-type {\n",
       "        vertical-align: middle;\n",
       "    }\n",
       "\n",
       "    .dataframe tbody tr th {\n",
       "        vertical-align: top;\n",
       "    }\n",
       "\n",
       "    .dataframe thead th {\n",
       "        text-align: right;\n",
       "    }\n",
       "</style>\n",
       "<table border=\"1\" class=\"dataframe\">\n",
       "  <thead>\n",
       "    <tr style=\"text-align: right;\">\n",
       "      <th></th>\n",
       "      <th>Image</th>\n",
       "      <th>1</th>\n",
       "      <th>2</th>\n",
       "      <th>3</th>\n",
       "      <th>4</th>\n",
       "      <th>5</th>\n",
       "      <th>6</th>\n",
       "      <th>7</th>\n",
       "      <th>8</th>\n",
       "      <th>9</th>\n",
       "      <th>...</th>\n",
       "      <th>119</th>\n",
       "      <th>120</th>\n",
       "      <th>121</th>\n",
       "      <th>122</th>\n",
       "      <th>123</th>\n",
       "      <th>124</th>\n",
       "      <th>125</th>\n",
       "      <th>126</th>\n",
       "      <th>127</th>\n",
       "      <th>128</th>\n",
       "    </tr>\n",
       "  </thead>\n",
       "  <tbody>\n",
       "    <tr>\n",
       "      <th>0</th>\n",
       "      <td>2098late4</td>\n",
       "      <td>0.030844</td>\n",
       "      <td>0.133735</td>\n",
       "      <td>0.052363</td>\n",
       "      <td>0.049642</td>\n",
       "      <td>0.072211</td>\n",
       "      <td>0.045923</td>\n",
       "      <td>0.016011</td>\n",
       "      <td>0.119781</td>\n",
       "      <td>0.021569</td>\n",
       "      <td>...</td>\n",
       "      <td>0.029677</td>\n",
       "      <td>0.160822</td>\n",
       "      <td>0.075914</td>\n",
       "      <td>0.184908</td>\n",
       "      <td>0.057241</td>\n",
       "      <td>0.146210</td>\n",
       "      <td>0.023710</td>\n",
       "      <td>0.049373</td>\n",
       "      <td>0.250930</td>\n",
       "      <td>0.079271</td>\n",
       "    </tr>\n",
       "    <tr>\n",
       "      <th>1</th>\n",
       "      <td>2076late6</td>\n",
       "      <td>0.040259</td>\n",
       "      <td>0.143002</td>\n",
       "      <td>0.060883</td>\n",
       "      <td>0.038183</td>\n",
       "      <td>0.085723</td>\n",
       "      <td>0.047747</td>\n",
       "      <td>0.023201</td>\n",
       "      <td>0.133269</td>\n",
       "      <td>0.018690</td>\n",
       "      <td>...</td>\n",
       "      <td>0.040330</td>\n",
       "      <td>0.167372</td>\n",
       "      <td>0.079414</td>\n",
       "      <td>0.186105</td>\n",
       "      <td>0.079578</td>\n",
       "      <td>0.157315</td>\n",
       "      <td>0.035975</td>\n",
       "      <td>0.057112</td>\n",
       "      <td>0.269495</td>\n",
       "      <td>0.079454</td>\n",
       "    </tr>\n",
       "    <tr>\n",
       "      <th>2</th>\n",
       "      <td>2144disease7</td>\n",
       "      <td>0.057322</td>\n",
       "      <td>0.161397</td>\n",
       "      <td>0.079792</td>\n",
       "      <td>0.054603</td>\n",
       "      <td>0.114485</td>\n",
       "      <td>0.081115</td>\n",
       "      <td>0.026530</td>\n",
       "      <td>0.166136</td>\n",
       "      <td>0.031556</td>\n",
       "      <td>...</td>\n",
       "      <td>0.060003</td>\n",
       "      <td>0.164138</td>\n",
       "      <td>0.084579</td>\n",
       "      <td>0.185110</td>\n",
       "      <td>0.093487</td>\n",
       "      <td>0.165754</td>\n",
       "      <td>0.034145</td>\n",
       "      <td>0.058019</td>\n",
       "      <td>0.305003</td>\n",
       "      <td>0.073493</td>\n",
       "    </tr>\n",
       "    <tr>\n",
       "      <th>3</th>\n",
       "      <td>2076late5</td>\n",
       "      <td>0.040783</td>\n",
       "      <td>0.143724</td>\n",
       "      <td>0.063380</td>\n",
       "      <td>0.048648</td>\n",
       "      <td>0.099432</td>\n",
       "      <td>0.063069</td>\n",
       "      <td>0.020392</td>\n",
       "      <td>0.125229</td>\n",
       "      <td>0.026645</td>\n",
       "      <td>...</td>\n",
       "      <td>0.052404</td>\n",
       "      <td>0.167854</td>\n",
       "      <td>0.078477</td>\n",
       "      <td>0.187598</td>\n",
       "      <td>0.081385</td>\n",
       "      <td>0.168374</td>\n",
       "      <td>0.030402</td>\n",
       "      <td>0.063042</td>\n",
       "      <td>0.282550</td>\n",
       "      <td>0.068450</td>\n",
       "    </tr>\n",
       "    <tr>\n",
       "      <th>4</th>\n",
       "      <td>2044ready5</td>\n",
       "      <td>0.040391</td>\n",
       "      <td>0.120812</td>\n",
       "      <td>0.051403</td>\n",
       "      <td>0.032604</td>\n",
       "      <td>0.048513</td>\n",
       "      <td>0.042279</td>\n",
       "      <td>0.011615</td>\n",
       "      <td>0.115111</td>\n",
       "      <td>0.028775</td>\n",
       "      <td>...</td>\n",
       "      <td>0.029596</td>\n",
       "      <td>0.142507</td>\n",
       "      <td>0.056714</td>\n",
       "      <td>0.183422</td>\n",
       "      <td>0.044478</td>\n",
       "      <td>0.133525</td>\n",
       "      <td>0.018253</td>\n",
       "      <td>0.042973</td>\n",
       "      <td>0.237903</td>\n",
       "      <td>0.056498</td>\n",
       "    </tr>\n",
       "  </tbody>\n",
       "</table>\n",
       "<p>5 rows × 129 columns</p>\n",
       "</div>"
      ],
      "text/plain": [
       "          Image         1         2         3         4         5         6  \\\n",
       "0     2098late4  0.030844  0.133735  0.052363  0.049642  0.072211  0.045923   \n",
       "1     2076late6  0.040259  0.143002  0.060883  0.038183  0.085723  0.047747   \n",
       "2  2144disease7  0.057322  0.161397  0.079792  0.054603  0.114485  0.081115   \n",
       "3     2076late5  0.040783  0.143724  0.063380  0.048648  0.099432  0.063069   \n",
       "4    2044ready5  0.040391  0.120812  0.051403  0.032604  0.048513  0.042279   \n",
       "\n",
       "          7         8         9  ...       119       120       121       122  \\\n",
       "0  0.016011  0.119781  0.021569  ...  0.029677  0.160822  0.075914  0.184908   \n",
       "1  0.023201  0.133269  0.018690  ...  0.040330  0.167372  0.079414  0.186105   \n",
       "2  0.026530  0.166136  0.031556  ...  0.060003  0.164138  0.084579  0.185110   \n",
       "3  0.020392  0.125229  0.026645  ...  0.052404  0.167854  0.078477  0.187598   \n",
       "4  0.011615  0.115111  0.028775  ...  0.029596  0.142507  0.056714  0.183422   \n",
       "\n",
       "        123       124       125       126       127       128  \n",
       "0  0.057241  0.146210  0.023710  0.049373  0.250930  0.079271  \n",
       "1  0.079578  0.157315  0.035975  0.057112  0.269495  0.079454  \n",
       "2  0.093487  0.165754  0.034145  0.058019  0.305003  0.073493  \n",
       "3  0.081385  0.168374  0.030402  0.063042  0.282550  0.068450  \n",
       "4  0.044478  0.133525  0.018253  0.042973  0.237903  0.056498  \n",
       "\n",
       "[5 rows x 129 columns]"
      ]
     },
     "execution_count": 4,
     "metadata": {},
     "output_type": "execute_result"
    }
   ],
   "source": [
    "display(df.shape)\n",
    "df.head(5)"
   ]
  },
  {
   "cell_type": "code",
   "execution_count": 5,
   "metadata": {},
   "outputs": [
    {
     "name": "stdout",
     "output_type": "stream",
     "text": [
      "Data size (r,c) = (60, 128)\n"
     ]
    },
    {
     "data": {
      "text/html": [
       "<div>\n",
       "<style scoped>\n",
       "    .dataframe tbody tr th:only-of-type {\n",
       "        vertical-align: middle;\n",
       "    }\n",
       "\n",
       "    .dataframe tbody tr th {\n",
       "        vertical-align: top;\n",
       "    }\n",
       "\n",
       "    .dataframe thead th {\n",
       "        text-align: right;\n",
       "    }\n",
       "</style>\n",
       "<table border=\"1\" class=\"dataframe\">\n",
       "  <thead>\n",
       "    <tr style=\"text-align: right;\">\n",
       "      <th></th>\n",
       "      <th>1</th>\n",
       "      <th>2</th>\n",
       "      <th>3</th>\n",
       "      <th>4</th>\n",
       "      <th>5</th>\n",
       "      <th>6</th>\n",
       "      <th>7</th>\n",
       "      <th>8</th>\n",
       "      <th>9</th>\n",
       "      <th>10</th>\n",
       "      <th>...</th>\n",
       "      <th>119</th>\n",
       "      <th>120</th>\n",
       "      <th>121</th>\n",
       "      <th>122</th>\n",
       "      <th>123</th>\n",
       "      <th>124</th>\n",
       "      <th>125</th>\n",
       "      <th>126</th>\n",
       "      <th>127</th>\n",
       "      <th>128</th>\n",
       "    </tr>\n",
       "    <tr>\n",
       "      <th>Image</th>\n",
       "      <th></th>\n",
       "      <th></th>\n",
       "      <th></th>\n",
       "      <th></th>\n",
       "      <th></th>\n",
       "      <th></th>\n",
       "      <th></th>\n",
       "      <th></th>\n",
       "      <th></th>\n",
       "      <th></th>\n",
       "      <th></th>\n",
       "      <th></th>\n",
       "      <th></th>\n",
       "      <th></th>\n",
       "      <th></th>\n",
       "      <th></th>\n",
       "      <th></th>\n",
       "      <th></th>\n",
       "      <th></th>\n",
       "      <th></th>\n",
       "      <th></th>\n",
       "    </tr>\n",
       "  </thead>\n",
       "  <tbody>\n",
       "    <tr>\n",
       "      <th>2024ready2</th>\n",
       "      <td>0.035236</td>\n",
       "      <td>0.125886</td>\n",
       "      <td>0.056706</td>\n",
       "      <td>0.037924</td>\n",
       "      <td>0.045674</td>\n",
       "      <td>0.028703</td>\n",
       "      <td>0.008458</td>\n",
       "      <td>0.120127</td>\n",
       "      <td>0.021330</td>\n",
       "      <td>0.269351</td>\n",
       "      <td>...</td>\n",
       "      <td>0.018957</td>\n",
       "      <td>0.146273</td>\n",
       "      <td>0.060814</td>\n",
       "      <td>0.183246</td>\n",
       "      <td>0.053213</td>\n",
       "      <td>0.117422</td>\n",
       "      <td>0.027695</td>\n",
       "      <td>0.038183</td>\n",
       "      <td>0.242773</td>\n",
       "      <td>0.080700</td>\n",
       "    </tr>\n",
       "    <tr>\n",
       "      <th>2028ready4</th>\n",
       "      <td>0.038977</td>\n",
       "      <td>0.134185</td>\n",
       "      <td>0.047659</td>\n",
       "      <td>0.026891</td>\n",
       "      <td>0.054320</td>\n",
       "      <td>0.036904</td>\n",
       "      <td>0.016167</td>\n",
       "      <td>0.135720</td>\n",
       "      <td>0.021147</td>\n",
       "      <td>0.267925</td>\n",
       "      <td>...</td>\n",
       "      <td>0.039051</td>\n",
       "      <td>0.145076</td>\n",
       "      <td>0.069105</td>\n",
       "      <td>0.184414</td>\n",
       "      <td>0.056230</td>\n",
       "      <td>0.130793</td>\n",
       "      <td>0.029597</td>\n",
       "      <td>0.041515</td>\n",
       "      <td>0.243913</td>\n",
       "      <td>0.064728</td>\n",
       "    </tr>\n",
       "    <tr>\n",
       "      <th>2029ready20</th>\n",
       "      <td>0.039116</td>\n",
       "      <td>0.127264</td>\n",
       "      <td>0.051903</td>\n",
       "      <td>0.030043</td>\n",
       "      <td>0.051889</td>\n",
       "      <td>0.027721</td>\n",
       "      <td>0.014825</td>\n",
       "      <td>0.127365</td>\n",
       "      <td>0.017227</td>\n",
       "      <td>0.269422</td>\n",
       "      <td>...</td>\n",
       "      <td>0.030299</td>\n",
       "      <td>0.145912</td>\n",
       "      <td>0.063641</td>\n",
       "      <td>0.184050</td>\n",
       "      <td>0.056664</td>\n",
       "      <td>0.127903</td>\n",
       "      <td>0.028151</td>\n",
       "      <td>0.041135</td>\n",
       "      <td>0.244178</td>\n",
       "      <td>0.069297</td>\n",
       "    </tr>\n",
       "    <tr>\n",
       "      <th>2031ready1</th>\n",
       "      <td>0.038720</td>\n",
       "      <td>0.130160</td>\n",
       "      <td>0.053563</td>\n",
       "      <td>0.040239</td>\n",
       "      <td>0.067200</td>\n",
       "      <td>0.051887</td>\n",
       "      <td>0.012273</td>\n",
       "      <td>0.129801</td>\n",
       "      <td>0.027575</td>\n",
       "      <td>0.276546</td>\n",
       "      <td>...</td>\n",
       "      <td>0.038368</td>\n",
       "      <td>0.149302</td>\n",
       "      <td>0.065806</td>\n",
       "      <td>0.185284</td>\n",
       "      <td>0.057261</td>\n",
       "      <td>0.142543</td>\n",
       "      <td>0.023259</td>\n",
       "      <td>0.047070</td>\n",
       "      <td>0.257539</td>\n",
       "      <td>0.058444</td>\n",
       "    </tr>\n",
       "    <tr>\n",
       "      <th>2033ready9</th>\n",
       "      <td>0.048333</td>\n",
       "      <td>0.133284</td>\n",
       "      <td>0.054422</td>\n",
       "      <td>0.026131</td>\n",
       "      <td>0.050288</td>\n",
       "      <td>0.029758</td>\n",
       "      <td>0.013099</td>\n",
       "      <td>0.122441</td>\n",
       "      <td>0.020140</td>\n",
       "      <td>0.275733</td>\n",
       "      <td>...</td>\n",
       "      <td>0.026372</td>\n",
       "      <td>0.142250</td>\n",
       "      <td>0.064304</td>\n",
       "      <td>0.183500</td>\n",
       "      <td>0.051063</td>\n",
       "      <td>0.114364</td>\n",
       "      <td>0.024793</td>\n",
       "      <td>0.041119</td>\n",
       "      <td>0.244949</td>\n",
       "      <td>0.070624</td>\n",
       "    </tr>\n",
       "  </tbody>\n",
       "</table>\n",
       "<p>5 rows × 128 columns</p>\n",
       "</div>"
      ],
      "text/plain": [
       "                    1         2         3         4         5         6  \\\n",
       "Image                                                                     \n",
       "2024ready2   0.035236  0.125886  0.056706  0.037924  0.045674  0.028703   \n",
       "2028ready4   0.038977  0.134185  0.047659  0.026891  0.054320  0.036904   \n",
       "2029ready20  0.039116  0.127264  0.051903  0.030043  0.051889  0.027721   \n",
       "2031ready1   0.038720  0.130160  0.053563  0.040239  0.067200  0.051887   \n",
       "2033ready9   0.048333  0.133284  0.054422  0.026131  0.050288  0.029758   \n",
       "\n",
       "                    7         8         9        10  ...       119       120  \\\n",
       "Image                                                ...                       \n",
       "2024ready2   0.008458  0.120127  0.021330  0.269351  ...  0.018957  0.146273   \n",
       "2028ready4   0.016167  0.135720  0.021147  0.267925  ...  0.039051  0.145076   \n",
       "2029ready20  0.014825  0.127365  0.017227  0.269422  ...  0.030299  0.145912   \n",
       "2031ready1   0.012273  0.129801  0.027575  0.276546  ...  0.038368  0.149302   \n",
       "2033ready9   0.013099  0.122441  0.020140  0.275733  ...  0.026372  0.142250   \n",
       "\n",
       "                  121       122       123       124       125       126  \\\n",
       "Image                                                                     \n",
       "2024ready2   0.060814  0.183246  0.053213  0.117422  0.027695  0.038183   \n",
       "2028ready4   0.069105  0.184414  0.056230  0.130793  0.029597  0.041515   \n",
       "2029ready20  0.063641  0.184050  0.056664  0.127903  0.028151  0.041135   \n",
       "2031ready1   0.065806  0.185284  0.057261  0.142543  0.023259  0.047070   \n",
       "2033ready9   0.064304  0.183500  0.051063  0.114364  0.024793  0.041119   \n",
       "\n",
       "                  127       128  \n",
       "Image                            \n",
       "2024ready2   0.242773  0.080700  \n",
       "2028ready4   0.243913  0.064728  \n",
       "2029ready20  0.244178  0.069297  \n",
       "2031ready1   0.257539  0.058444  \n",
       "2033ready9   0.244949  0.070624  \n",
       "\n",
       "[5 rows x 128 columns]"
      ]
     },
     "execution_count": 5,
     "metadata": {},
     "output_type": "execute_result"
    }
   ],
   "source": [
    "# Use 'Name' column as index\n",
    "#df.rename(columns={df.columns[0]:'Name'}, inplace=True)\n",
    "df.set_index('Image', inplace=True)\n",
    "\n",
    "# Sort rows and columns\n",
    "# df.sort_index(axis=1, inplace=True)\n",
    "df.sort_index(inplace=True)\n",
    "\n",
    "df_numeric = df.select_dtypes(include='number')  #'int32' or 'int64' or 'float32' or 'float64'\n",
    "df_category = df.select_dtypes(exclude='number') #'object'\n",
    "\n",
    "# Z-score normalization\n",
    "# normalized_df = (df_numeric - df_numeric.mean()) / df_numeric.std()\n",
    "normalized_df = df_numeric  # do not normalize animal dataset, all columns are 0-100 scale\n",
    "\n",
    "print('Data size (r,c) =', df_numeric.shape)\n",
    "df_numeric.head(5)"
   ]
  },
  {
   "cell_type": "markdown",
   "metadata": {},
   "source": [
    "#  Dimension Reduction Model:  Weighted MDS\n",
    "\n",
    "For DR, we use the Multi-Dimensional Scaling (MDS) algorithm on a weighted data space. **Dimension weights** are applied to the high-dimensional (HD) data.  Weights are normalized to sum to 1, so as to normalize the HD distances to roughly constant size space independent of p.\n",
    "\n",
    "The **distance function for the high-dimensional (HD) data** is L1 manhattan distance. L1 is good for general purpose use with multi-dimensional quantitative datasets. \n",
    "\n",
    "The **distance function for the 2D projected points** is L2 Euclidean distance, which makes sense for human percpetion in the plot."
   ]
  },
  {
   "cell_type": "code",
   "execution_count": 6,
   "metadata": {},
   "outputs": [],
   "source": [
    "# Compute the distance matrix for the weighted high-dimensional data using L1 distance function.\n",
    "#  Input HD data should already be weighted.\n",
    "def distance_matrix_HD(dataHDw):  # dataHDw (pandas or numpy) -> distance matrix (numpy)\n",
    "    dist_matrix = sklearn.metrics.pairwise.manhattan_distances(dataHDw)\n",
    "    #m = pd.DataFrame(m, columns=dataHD.index, index=dataHD.index)  # keep as np array for performance\n",
    "    return dist_matrix\n",
    "\n",
    "\n",
    "# Compute the distance matrix for 2D projected data using L2 distance function.\n",
    "def distance_matrix_2D(data2D):  # data2d (pandas or numpy) -> distance matrix (numpy)\n",
    "    dist_matrix = sklearn.metrics.pairwise.euclidean_distances(data2D) \n",
    "    #m = pd.DataFrame(m, columns=data2D.index, index=data2D.index) # keep as np array for performance\n",
    "    return dist_matrix\n",
    "\n",
    "\n",
    "#def dist(x,y):\n",
    "#    return np.linalg.norm(x-y, ord=2)"
   ]
  },
  {
   "cell_type": "markdown",
   "metadata": {},
   "source": [
    "**MDS** projects the weighted high-dimensional data to 2D. Tune the algorithm's parameters for performance."
   ]
  },
  {
   "cell_type": "code",
   "execution_count": 7,
   "metadata": {},
   "outputs": [],
   "source": [
    "# Calculate the MDS stress metric between HD and 2D distances.  Uses numpy for efficiency.\n",
    "def stress(distHD, dist2D):  #  distHD, dist2D (numpy) -> stress (float)\n",
    "    #s = np.sqrt((distHD-dist2D).pow(2).sum().sum() / distHD.pow(2).sum().sum())  # pandas\n",
    "    #s = np.sqrt(((distHD-dist2D)**2).sum() / (distHD**2).sum())   # numpy\n",
    "    s = ((distHD-dist2D)**2).sum() / (distHD**2).sum()   # numpy, eliminate sqrt for efficiency\n",
    "    return s\n",
    "\n",
    "def compute_mds(dataHDw):  # dataHDw -> data2D (pandas)\n",
    "    distHD = distance_matrix_HD(dataHDw)\n",
    "    # Adjust these parameters for performance/accuracy tradeoff\n",
    "    mds = sklearn.manifold.MDS(n_components=2, dissimilarity='precomputed', n_init=10, max_iter=1000)\n",
    "    # Reduction algorithm happens here:  data2D is nx2 matrix\n",
    "    data2D = mds.fit_transform(distHD)\n",
    "    \n",
    "    # Rotate the resulting 2D projection to make it more consistent across multiple runs.\n",
    "    # Set the 1st PC to the y axis, plot looks better to spread data vertically with horizontal text labels\n",
    "    pca = sklearn.decomposition.PCA(n_components=2)\n",
    "    data2D = pca.fit_transform(data2D)\n",
    "    data2D = pd.DataFrame(data2D, columns=['y','x'], index=dataHDw.index)\n",
    "    \n",
    "    data2D.stress_value = stress(distHD, distance_matrix_2D(data2D))\n",
    "    return data2D\n",
    "\n",
    "def dimension_reduction(dataHD, wts): # dataHD, wts -> data2D (pandas)\n",
    "    # Normalize the weights to sum to 1\n",
    "    wts = wts/wts.sum()\n",
    "    \n",
    "    # Apply weights to the HD data \n",
    "    dataHDw = dataHD * wts\n",
    "    \n",
    "    # DR algorithm\n",
    "    data2D = compute_mds(dataHDw)\n",
    "\n",
    "    # Compute row relevances as:  data dot weights\n",
    "    # High relevance means large values in upweighted dimensions\n",
    "    data2D['relevance'] = dataHDw.sum(axis=1)\n",
    "    return data2D\n",
    "\n",
    "min_weight, max_weight = 0.00001, 0.9999\n",
    "init_weight = min_weight  # 1.0/len(normalized_df.columns) # initialize to min to make the sliders easier to use.\n",
    "weights = pd.Series(init_weight, index=normalized_df.columns, name=\"Weight\")  # the current weight list\n",
    "\n",
    "df_2D = dimension_reduction(normalized_df, weights)   # the current projected data"
   ]
  },
  {
   "cell_type": "code",
   "execution_count": 8,
   "metadata": {},
   "outputs": [
    {
     "data": {
      "text/plain": [
       "1    0.00001\n",
       "2    0.00001\n",
       "Name: Weight, dtype: float64"
      ]
     },
     "execution_count": 8,
     "metadata": {},
     "output_type": "execute_result"
    }
   ],
   "source": [
    "weights.head(2)"
   ]
  },
  {
   "cell_type": "code",
   "execution_count": 9,
   "metadata": {},
   "outputs": [
    {
     "data": {
      "text/html": [
       "<div>\n",
       "<style scoped>\n",
       "    .dataframe tbody tr th:only-of-type {\n",
       "        vertical-align: middle;\n",
       "    }\n",
       "\n",
       "    .dataframe tbody tr th {\n",
       "        vertical-align: top;\n",
       "    }\n",
       "\n",
       "    .dataframe thead th {\n",
       "        text-align: right;\n",
       "    }\n",
       "</style>\n",
       "<table border=\"1\" class=\"dataframe\">\n",
       "  <thead>\n",
       "    <tr style=\"text-align: right;\">\n",
       "      <th>Image</th>\n",
       "      <th>2024ready2</th>\n",
       "      <th>2028ready4</th>\n",
       "      <th>2029ready20</th>\n",
       "      <th>2031ready1</th>\n",
       "      <th>2033ready9</th>\n",
       "      <th>2034ready5</th>\n",
       "      <th>2036ready18</th>\n",
       "      <th>2038ready15</th>\n",
       "      <th>2038ready3</th>\n",
       "      <th>2039ready12</th>\n",
       "      <th>...</th>\n",
       "      <th>2147disease15</th>\n",
       "      <th>2147disease2</th>\n",
       "      <th>2147disease4</th>\n",
       "      <th>2147disease5</th>\n",
       "      <th>2147disease6</th>\n",
       "      <th>2147disease7</th>\n",
       "      <th>2148disease11</th>\n",
       "      <th>2148disease12</th>\n",
       "      <th>2148disease13</th>\n",
       "      <th>2148disease17</th>\n",
       "    </tr>\n",
       "    <tr>\n",
       "      <th>Image</th>\n",
       "      <th></th>\n",
       "      <th></th>\n",
       "      <th></th>\n",
       "      <th></th>\n",
       "      <th></th>\n",
       "      <th></th>\n",
       "      <th></th>\n",
       "      <th></th>\n",
       "      <th></th>\n",
       "      <th></th>\n",
       "      <th></th>\n",
       "      <th></th>\n",
       "      <th></th>\n",
       "      <th></th>\n",
       "      <th></th>\n",
       "      <th></th>\n",
       "      <th></th>\n",
       "      <th></th>\n",
       "      <th></th>\n",
       "      <th></th>\n",
       "      <th></th>\n",
       "    </tr>\n",
       "  </thead>\n",
       "  <tbody>\n",
       "    <tr>\n",
       "      <th>2024ready2</th>\n",
       "      <td>0.000000</td>\n",
       "      <td>0.005593</td>\n",
       "      <td>0.003474</td>\n",
       "      <td>0.007933</td>\n",
       "      <td>0.003163</td>\n",
       "      <td>0.010477</td>\n",
       "      <td>0.009634</td>\n",
       "      <td>0.010866</td>\n",
       "      <td>0.008085</td>\n",
       "      <td>0.010420</td>\n",
       "      <td>...</td>\n",
       "      <td>0.019911</td>\n",
       "      <td>0.016999</td>\n",
       "      <td>0.022739</td>\n",
       "      <td>0.018031</td>\n",
       "      <td>0.021902</td>\n",
       "      <td>0.030926</td>\n",
       "      <td>0.016935</td>\n",
       "      <td>0.022595</td>\n",
       "      <td>0.021361</td>\n",
       "      <td>0.024170</td>\n",
       "    </tr>\n",
       "    <tr>\n",
       "      <th>2028ready4</th>\n",
       "      <td>0.005593</td>\n",
       "      <td>0.000000</td>\n",
       "      <td>0.002759</td>\n",
       "      <td>0.005603</td>\n",
       "      <td>0.004783</td>\n",
       "      <td>0.007439</td>\n",
       "      <td>0.006180</td>\n",
       "      <td>0.007494</td>\n",
       "      <td>0.006647</td>\n",
       "      <td>0.006622</td>\n",
       "      <td>...</td>\n",
       "      <td>0.016684</td>\n",
       "      <td>0.013893</td>\n",
       "      <td>0.019139</td>\n",
       "      <td>0.014391</td>\n",
       "      <td>0.018230</td>\n",
       "      <td>0.027135</td>\n",
       "      <td>0.013837</td>\n",
       "      <td>0.018887</td>\n",
       "      <td>0.017799</td>\n",
       "      <td>0.020174</td>\n",
       "    </tr>\n",
       "  </tbody>\n",
       "</table>\n",
       "<p>2 rows × 60 columns</p>\n",
       "</div>"
      ],
      "text/plain": [
       "Image       2024ready2  2028ready4  2029ready20  2031ready1  2033ready9  \\\n",
       "Image                                                                     \n",
       "2024ready2    0.000000    0.005593     0.003474    0.007933    0.003163   \n",
       "2028ready4    0.005593    0.000000     0.002759    0.005603    0.004783   \n",
       "\n",
       "Image       2034ready5  2036ready18  2038ready15  2038ready3  2039ready12  \\\n",
       "Image                                                                       \n",
       "2024ready2    0.010477     0.009634     0.010866    0.008085     0.010420   \n",
       "2028ready4    0.007439     0.006180     0.007494    0.006647     0.006622   \n",
       "\n",
       "Image       ...  2147disease15  2147disease2  2147disease4  2147disease5  \\\n",
       "Image       ...                                                            \n",
       "2024ready2  ...       0.019911      0.016999      0.022739      0.018031   \n",
       "2028ready4  ...       0.016684      0.013893      0.019139      0.014391   \n",
       "\n",
       "Image       2147disease6  2147disease7  2148disease11  2148disease12  \\\n",
       "Image                                                                  \n",
       "2024ready2      0.021902      0.030926       0.016935       0.022595   \n",
       "2028ready4      0.018230      0.027135       0.013837       0.018887   \n",
       "\n",
       "Image       2148disease13  2148disease17  \n",
       "Image                                     \n",
       "2024ready2       0.021361       0.024170  \n",
       "2028ready4       0.017799       0.020174  \n",
       "\n",
       "[2 rows x 60 columns]"
      ]
     },
     "execution_count": 9,
     "metadata": {},
     "output_type": "execute_result"
    }
   ],
   "source": [
    "pd.DataFrame(distance_matrix_HD(normalized_df * (weights/weights.sum())), \n",
    "             columns=normalized_df.index, index=normalized_df.index).head(2)"
   ]
  },
  {
   "cell_type": "code",
   "execution_count": 10,
   "metadata": {},
   "outputs": [],
   "source": [
    "labels_df = df_2D.index.str.extract(r'([a-z]+)')\n",
    "labels_df.index = df_2D.index\n",
    "# cat = labels_df.apply(lambda col:pd.Categorical(col).codes)\n",
    "df_2D['label'] = labels_df"
   ]
  },
  {
   "cell_type": "code",
   "execution_count": 11,
   "metadata": {},
   "outputs": [
    {
     "data": {
      "text/html": [
       "<div>\n",
       "<style scoped>\n",
       "    .dataframe tbody tr th:only-of-type {\n",
       "        vertical-align: middle;\n",
       "    }\n",
       "\n",
       "    .dataframe tbody tr th {\n",
       "        vertical-align: top;\n",
       "    }\n",
       "\n",
       "    .dataframe thead th {\n",
       "        text-align: right;\n",
       "    }\n",
       "</style>\n",
       "<table border=\"1\" class=\"dataframe\">\n",
       "  <thead>\n",
       "    <tr style=\"text-align: right;\">\n",
       "      <th></th>\n",
       "      <th>y</th>\n",
       "      <th>x</th>\n",
       "      <th>relevance</th>\n",
       "      <th>label</th>\n",
       "    </tr>\n",
       "    <tr>\n",
       "      <th>Image</th>\n",
       "      <th></th>\n",
       "      <th></th>\n",
       "      <th></th>\n",
       "      <th></th>\n",
       "    </tr>\n",
       "  </thead>\n",
       "  <tbody>\n",
       "    <tr>\n",
       "      <th>2024ready2</th>\n",
       "      <td>-0.012547</td>\n",
       "      <td>-0.001528</td>\n",
       "      <td>0.093879</td>\n",
       "      <td>ready</td>\n",
       "    </tr>\n",
       "    <tr>\n",
       "      <th>2028ready4</th>\n",
       "      <td>-0.008557</td>\n",
       "      <td>-0.003061</td>\n",
       "      <td>0.097423</td>\n",
       "      <td>ready</td>\n",
       "    </tr>\n",
       "    <tr>\n",
       "      <th>2029ready20</th>\n",
       "      <td>-0.010466</td>\n",
       "      <td>0.000193</td>\n",
       "      <td>0.095648</td>\n",
       "      <td>ready</td>\n",
       "    </tr>\n",
       "    <tr>\n",
       "      <th>2031ready1</th>\n",
       "      <td>-0.006052</td>\n",
       "      <td>0.001398</td>\n",
       "      <td>0.099588</td>\n",
       "      <td>ready</td>\n",
       "    </tr>\n",
       "    <tr>\n",
       "      <th>2033ready9</th>\n",
       "      <td>-0.011540</td>\n",
       "      <td>-0.000472</td>\n",
       "      <td>0.094334</td>\n",
       "      <td>ready</td>\n",
       "    </tr>\n",
       "  </tbody>\n",
       "</table>\n",
       "</div>"
      ],
      "text/plain": [
       "                    y         x  relevance  label\n",
       "Image                                            \n",
       "2024ready2  -0.012547 -0.001528   0.093879  ready\n",
       "2028ready4  -0.008557 -0.003061   0.097423  ready\n",
       "2029ready20 -0.010466  0.000193   0.095648  ready\n",
       "2031ready1  -0.006052  0.001398   0.099588  ready\n",
       "2033ready9  -0.011540 -0.000472   0.094334  ready"
      ]
     },
     "execution_count": 11,
     "metadata": {},
     "output_type": "execute_result"
    }
   ],
   "source": [
    "test_df = df_2D.head(5)\n",
    "test_df"
   ]
  },
  {
   "cell_type": "code",
   "execution_count": 12,
   "metadata": {},
   "outputs": [],
   "source": [
    "def centroid(df_2D,cat):\n",
    "    x_coords = df_2D[df_2D.label==cat].x.values\n",
    "    y_coords = df_2D[df_2D.label==cat].y.values\n",
    "    _len = len(df_2D)\n",
    "    centroid_x = sum(x_coords)/_len\n",
    "    centroid_y = sum(y_coords)/_len\n",
    "    return (centroid_x, centroid_y)\n",
    "\n",
    "def var(*centroids):\n",
    "    x = [c[0] for c in centroids]\n",
    "#     print(\"x: \",x)\n",
    "    y = [c[1] for c in centroids]\n",
    "    _len = len(centroids)\n",
    "#     print(_len)\n",
    "#     print(\"sum x: \",sum(x))\n",
    "    new_centroids_x = np.mean(x)\n",
    "#     print(new_centroids_x)\n",
    "    new_centroids_y = np.mean(y)\n",
    "    var = sum((x - new_centroids_x)) ** 2 + sum((y - new_centroids_y)) ** 2\n",
    "#     print(x - new_centroids_x)\n",
    "#     print(_len)\n",
    "    return var\n",
    "\n",
    "# labels_df = df_2D.index.str.extract(r'([a-z]+)')\n",
    "# labels_df.index = df_2D.index\n",
    "# df_2D['label'] = labels_df\n",
    "\n",
    "# ready_centroid = centroid(df_2D,'ready')\n",
    "# disease_centroid = centroid(df_2D,'disease')\n",
    "# late_centroid = centroid(df_2D,'late')\n",
    "\n",
    "# var(ready_centroid,disease_centroid,late_centroid)"
   ]
  },
  {
   "cell_type": "code",
   "execution_count": 13,
   "metadata": {},
   "outputs": [
    {
     "name": "stdout",
     "output_type": "stream",
     "text": [
      "0.014401379108443808\n"
     ]
    },
    {
     "data": {
      "text/html": [
       "<div>\n",
       "<style scoped>\n",
       "    .dataframe tbody tr th:only-of-type {\n",
       "        vertical-align: middle;\n",
       "    }\n",
       "\n",
       "    .dataframe tbody tr th {\n",
       "        vertical-align: top;\n",
       "    }\n",
       "\n",
       "    .dataframe thead th {\n",
       "        text-align: right;\n",
       "    }\n",
       "</style>\n",
       "<table border=\"1\" class=\"dataframe\">\n",
       "  <thead>\n",
       "    <tr style=\"text-align: right;\">\n",
       "      <th></th>\n",
       "      <th>y</th>\n",
       "      <th>x</th>\n",
       "      <th>relevance</th>\n",
       "      <th>label</th>\n",
       "    </tr>\n",
       "    <tr>\n",
       "      <th>Image</th>\n",
       "      <th></th>\n",
       "      <th></th>\n",
       "      <th></th>\n",
       "      <th></th>\n",
       "    </tr>\n",
       "  </thead>\n",
       "  <tbody>\n",
       "    <tr>\n",
       "      <th>2024ready2</th>\n",
       "      <td>-0.012547</td>\n",
       "      <td>-0.001528</td>\n",
       "      <td>0.093879</td>\n",
       "      <td>ready</td>\n",
       "    </tr>\n",
       "    <tr>\n",
       "      <th>2028ready4</th>\n",
       "      <td>-0.008557</td>\n",
       "      <td>-0.003061</td>\n",
       "      <td>0.097423</td>\n",
       "      <td>ready</td>\n",
       "    </tr>\n",
       "    <tr>\n",
       "      <th>2029ready20</th>\n",
       "      <td>-0.010466</td>\n",
       "      <td>0.000193</td>\n",
       "      <td>0.095648</td>\n",
       "      <td>ready</td>\n",
       "    </tr>\n",
       "    <tr>\n",
       "      <th>2031ready1</th>\n",
       "      <td>-0.006052</td>\n",
       "      <td>0.001398</td>\n",
       "      <td>0.099588</td>\n",
       "      <td>ready</td>\n",
       "    </tr>\n",
       "    <tr>\n",
       "      <th>2033ready9</th>\n",
       "      <td>-0.011540</td>\n",
       "      <td>-0.000472</td>\n",
       "      <td>0.094334</td>\n",
       "      <td>ready</td>\n",
       "    </tr>\n",
       "  </tbody>\n",
       "</table>\n",
       "</div>"
      ],
      "text/plain": [
       "                    y         x  relevance  label\n",
       "Image                                            \n",
       "2024ready2  -0.012547 -0.001528   0.093879  ready\n",
       "2028ready4  -0.008557 -0.003061   0.097423  ready\n",
       "2029ready20 -0.010466  0.000193   0.095648  ready\n",
       "2031ready1  -0.006052  0.001398   0.099588  ready\n",
       "2033ready9  -0.011540 -0.000472   0.094334  ready"
      ]
     },
     "execution_count": 13,
     "metadata": {},
     "output_type": "execute_result"
    }
   ],
   "source": [
    "print(df_2D.stress_value)\n",
    "df_2D.head(5)"
   ]
  },
  {
   "cell_type": "markdown",
   "metadata": {},
   "source": [
    "# Inverse Dimension-Reduction Learning Algorithm\n",
    "\n",
    "Computes the inverse-Dimension-Reduction: given input 2D points, compute new weights.\n",
    "Optimizes the MDS stress function that compares 2D pairwise distances (||$x_i-x_j||$) to weighted HD pairwise distances ($d_{ij}$):\n",
    "![Stress](https://wikimedia.org/api/rest_v1/media/math/render/svg/7989b3afc0d8795a78c1631c7e807f260d9cfe68)\n",
    "\n",
    "Technically, we compute the inverse weighted distance function. We shortcut the optimization by eliminating MDS from the process, and assume that the user input 2D distances are actually the desired HD distances, not the 2D distances after re-projection. Thus, given the input (HD) distances, we find weights that would produce these distances in the HD space."
   ]
  },
  {
   "cell_type": "code",
   "execution_count": 14,
   "metadata": {},
   "outputs": [],
   "source": [
    "# This method is used to propose a new weight for current column in a smart fashion\n",
    "def new_proposal(current, step, direction):\n",
    "    return np.clip(current + direction*step*random.random(), 0.00001, 0.9999)\n",
    "\n",
    "# Repeatedly tries to modify each dim weight to see if it improves the stress, thus\n",
    "# getting the weighted high-dim distances to more closely match the input 2D distances.\n",
    "#   dataHD = high-dim data, as pandas\n",
    "#   data2D = 2D data input, as pandas\n",
    "#   weights = as pandas series, or None for weights[i]=1/p\n",
    "def inverse_DR(dataHD, data2D, curWeights=None):  # -> new weights, as Series\n",
    "    dist2D = distance_matrix_2D(data2D)  # compute 2D distances only once\n",
    "    col_names = dataHD.columns\n",
    "    dataHD = dataHD.to_numpy()  # use numpy for efficiency\n",
    "    row, col = dataHD.shape\n",
    "    \n",
    "    if curWeights==None:\n",
    "        curWeights = np.array([1.0/col]*col)  # default weights = 1/p\n",
    "    else:\n",
    "        curWeights = curWeights.to_numpy()\n",
    "        curWeights = curWeights / curWeights.sum()  # Normalize weights to sum to 1\n",
    "    newWeights = curWeights.copy()  # re-use this array for efficiency\n",
    "    \n",
    "    # Initialize state\n",
    "    flag = [0]*col         # degree of success of a weight change\n",
    "    direction = [1]*col  # direction to move a weight, pos or neg\n",
    "    step = [1.0/col]*col   # how much to change each weight\n",
    "    \n",
    "    dataHDw = dataHD * curWeights   # weighted space, re-use this array for efficiency\n",
    "    distHD = distance_matrix_HD(dataHDw)\n",
    "    curStress = stress(distHD, dist2D)\n",
    "    print('Starting stress =', curStress, 'Processing...')\n",
    "\n",
    "    MAX = 500   # default setting of the number of iterations\n",
    "\n",
    "    # Try to minorly adjust each weight to see if it reduces stress\n",
    "    for i in range(MAX):\n",
    "        for dim in range(col):            \n",
    "            # Get a new weight for current column\n",
    "            nw = new_proposal(curWeights[dim], step[dim], direction[dim])\n",
    "            \n",
    "            # Scale the weight list such that it sums to 1\n",
    "            #newWeights = curWeights.copy()  # avoid extra copy op using math below\n",
    "            #newWeights[dim] = nw\n",
    "            #newWeights = newWeights / s\n",
    "            s = 1.0  + nw - curWeights[dim]   # 1.0 == curWeights.sum()\n",
    "            np.true_divide(curWeights, s, out=newWeights)  # transfers to other array, while doing /\n",
    "            newWeights[dim] = nw / s\n",
    "            \n",
    "            # Apply new weights to HD data\n",
    "            np.multiply(dataHD, newWeights, out=dataHDw)  # dataHDw = dataHD * newWeights; efficiently reuses dataHDw array\n",
    "            distHD = distance_matrix_HD(dataHDw)\n",
    "\n",
    "            # Get the new stress\n",
    "            newStress = stress(distHD, dist2D)\n",
    "            \n",
    "            # If new stress is lower, then update weights and flag this success\n",
    "            if newStress < curStress:\n",
    "                temp = curWeights\n",
    "                curWeights = newWeights\n",
    "                newWeights = temp   # reuse the old array next iteration\n",
    "                curStress = newStress\n",
    "                flag[dim] = flag[dim] + 1\n",
    "            else:\n",
    "                flag[dim] = flag[dim] - 1\n",
    "                direction[dim] = -direction[dim]  # Reverse course\n",
    "    \n",
    "            # If recent success, then speed up the step rate\n",
    "            if flag[dim] >= 5:\n",
    "                step[dim] = step[dim] * 2\n",
    "                flag[dim] = 0\n",
    "            elif flag[dim] <= -5:\n",
    "                step[dim] = step[dim] / 2\n",
    "                flag[dim] = 0\n",
    "                \n",
    "    print('Solution stress =', curStress, 'Done.')\n",
    "    #print(\"weight\", curWeights)\n",
    "    #print(\"flag\", flag)\n",
    "    #print(\"dir\", direction)\n",
    "    #print(\"step\", step)\n",
    "    return pd.Series(curWeights, index=col_names, name=\"Weight\")\n"
   ]
  },
  {
   "cell_type": "markdown",
   "metadata": {},
   "source": [
    "# Visualization and UI code\n",
    "\n",
    "Use these functions to create the GUI components in any cell."
   ]
  },
  {
   "cell_type": "markdown",
   "metadata": {},
   "source": [
    "## Sliders"
   ]
  },
  {
   "cell_type": "code",
   "execution_count": 15,
   "metadata": {},
   "outputs": [],
   "source": [
    "def create_sliders(wts):\n",
    "    # Create sliders, one for each dimension weight\n",
    "    sliders = [widgets.FloatSlider(min=min_weight, max=max_weight, step=0.01, value=value, \n",
    "                                       description=label, continuous_update=False, readout_format='.5f')\n",
    "                   for (label, value) in wts.iteritems()]\n",
    "    # Display sliders\n",
    "    for s in sliders:\n",
    "        #s.observe(sliderchange, names='value')\n",
    "        display(s)\n",
    "        \n",
    "    create_slider_buttons(sliders)\n",
    "    return sliders\n",
    "\n",
    "def create_slider_buttons(sliders):    \n",
    "    apply_button = widgets.Button(description='Apply Slider Weights')\n",
    "    reset_button = widgets.Button(description='Reset Plot')\n",
    "\n",
    "    # Callback functions\n",
    "    def apply_button_clicked(change):\n",
    "        # Use the slider values to re compute the DR and redraw the plot\n",
    "        global weights, df_2D   # Update weights and df_2D globals\n",
    "        weights = pd.Series([s.value for s in sliders], index=normalized_df.columns, name='Weight')\n",
    "        df_2D = dimension_reduction(normalized_df, weights)   \n",
    "\n",
    "        # Re-draw the plot\n",
    "        draw_plot(plot_ax, df_2D)\n",
    "    apply_button.on_click(apply_button_clicked)\n",
    "\n",
    "    def reset_button_clicked(change):\n",
    "        # Reset all sliders to initial value and re-compute DR and re-draw the plot\n",
    "        for s in sliders:\n",
    "            s.value = init_weight\n",
    "        apply_button_clicked(change)\n",
    "    reset_button.on_click(reset_button_clicked)\n",
    "    \n",
    "    # Display buttons\n",
    "    display(apply_button)\n",
    "    display(reset_button)\n",
    "    return apply_button, reset_button\n"
   ]
  },
  {
   "cell_type": "markdown",
   "metadata": {},
   "source": [
    "## Print Details Button"
   ]
  },
  {
   "cell_type": "code",
   "execution_count": 16,
   "metadata": {},
   "outputs": [],
   "source": [
    "def create_detail_display():\n",
    "    # Print selected points\n",
    "    print_button = widgets.Button(description='Print selected points')\n",
    "    print_output = widgets.Output()\n",
    "\n",
    "    def print_button_clicked(change):\n",
    "        print_output.clear_output()\n",
    "        # Get list of selected points and print their source data values\n",
    "        selset = [c.index for c in plot_ax.circles if c.selected]\n",
    "        with print_output:\n",
    "            if len(selset) > 0:\n",
    "                print(df.iloc[selset, :].transpose())\n",
    "                print(df.iloc[selset,:].index)\n",
    "            else:\n",
    "                print('Select points in the plot to see details here')\n",
    "    print_button.on_click(print_button_clicked)\n",
    "\n",
    "    display(print_button)\n",
    "    display(print_output)\n",
    "    return print_button, print_output\n",
    "\n",
    "\n",
    "def metric():\n",
    "    print(df)\n"
   ]
  },
  {
   "cell_type": "markdown",
   "metadata": {},
   "source": [
    "## Inverse DR Button and Plot"
   ]
  },
  {
   "cell_type": "code",
   "execution_count": 17,
   "metadata": {},
   "outputs": [],
   "source": [
    "def create_inverse_button():\n",
    "    inverse_button = widgets.Button(description='Learn New Weights')\n",
    "    copy_button = widgets.Button(description='Copy to Sliders')\n",
    "\n",
    "    def inverse_button_clicked(change):\n",
    "        ax.clear()\n",
    "\n",
    "        # Check minimum number of points moved\n",
    "        n = len([1 for c in plot_ax.circles if c.selected])\n",
    "        if n < 2:\n",
    "            print('Need to select or move at least 2 points in the plot first.')\n",
    "            return\n",
    "\n",
    "        # Get selected data points\n",
    "        data2Dnew = pd.DataFrame([c.center for c in plot_ax.circles if c.selected], columns=['x','y'], \n",
    "                                index=[c.label for c in plot_ax.circles if c.selected])\n",
    "        print(data2Dnew)\n",
    "        dataHDpart = normalized_df.loc[data2Dnew.index]\n",
    "\n",
    "        # Learn new weights\n",
    "        global weights\n",
    "        weights = inverse_DR(dataHDpart, data2Dnew)\n",
    "        \n",
    "        # Display new weights as a bar chart\n",
    "        weights.sort_index(ascending=False).plot.barh(ax=ax)\n",
    "        ax.set_xlabel(\"Weight\")\n",
    "        fig.tight_layout()\n",
    "    inverse_button.on_click(inverse_button_clicked)\n",
    "\n",
    "    def copy_button_clicked(change):\n",
    "        # Set sliders to reflect the learned weights and update the DR and plot accordingly\n",
    "        global df_2D\n",
    "        for i,s in enumerate(sliders):\n",
    "            s.value = weights[i]\n",
    "        df_2D = dimension_reduction(normalized_df, weights)   \n",
    "        draw_plot(plot_ax, df_2D)\n",
    "    copy_button.on_click(copy_button_clicked)\n",
    "    display(inverse_button)\n",
    "    display(copy_button)\n",
    "    fig, ax = plt.subplots(figsize=(5,7))   # reserve a fig for the weights bar chart\n",
    "    return inverse_button, copy_button, ax\n"
   ]
  },
  {
   "cell_type": "markdown",
   "metadata": {},
   "source": [
    "## Draggable Dimension-Reduction 2D Plot"
   ]
  },
  {
   "cell_type": "code",
   "execution_count": 18,
   "metadata": {},
   "outputs": [],
   "source": [
    "# Handles mouse drag interaction events in the plot, users can select and drag points.\n",
    "class DraggablePoints(object):\n",
    "    def __init__(self, ax, artists):\n",
    "        self.ax = ax\n",
    "        self.artists = artists\n",
    "        self.current_artist = None\n",
    "        self.last_selected = None\n",
    "        ax.selected_text.set_text('Selected: none')\n",
    "        self.offset = (0, 0)\n",
    "        # Set up mouse listeners\n",
    "        ax.figure.canvas.mpl_connect('pick_event', self.on_pick)\n",
    "        ax.figure.canvas.mpl_connect('motion_notify_event', self.on_motion)\n",
    "        ax.figure.canvas.mpl_connect('button_release_event', self.on_release)\n",
    "\n",
    "    def on_pick(self, event):\n",
    "        # When point is clicked on (mouse down), select it and start the drag\n",
    "        if self.current_artist is None:  # clicking on overlapped points sends multiple events\n",
    "            self.last_selected = event.artist.index  # event.ind\n",
    "            self.current_artist = event.artist\n",
    "            event.artist.selected = True\n",
    "            event.artist.savecolor = event.artist.get_facecolor()\n",
    "            event.artist.set_facecolor('green')\n",
    "            #event.artist.set_alpha(1.0)\n",
    "            self.ax.selected_text.set_text(\"Selected: \" + event.artist.label)\n",
    "            x0, y0 = event.artist.center\n",
    "            self.offset = (x0 - event.mouseevent.xdata), (y0 - event.mouseevent.ydata)\n",
    "\n",
    "    def on_motion(self, event):\n",
    "        # When dragging, check if point is selected and valid mouse coordinates\n",
    "        if (self.current_artist is not None) and (event.xdata is not None) and (event.ydata is not None):\n",
    "            # Drag the point and its text label\n",
    "            dx, dy = self.offset\n",
    "            self.current_artist.center = x0, y0 = event.xdata + dx, event.ydata + dy\n",
    "            self.current_artist.text.set_position((x0 - self.current_artist.radius/2, \n",
    "                                                   y0 - self.current_artist.radius/2))\n",
    "            #self.ax.figure.canvas.draw()  # slow\n",
    "        \n",
    "    def on_release(self, event):\n",
    "        # When mouse is released, stop the drag\n",
    "        self.current_artist = None\n",
    "        #self.ax.figure.canvas.draw()"
   ]
  },
  {
   "cell_type": "code",
   "execution_count": 19,
   "metadata": {
    "scrolled": false
   },
   "outputs": [],
   "source": [
    "def create_plot(data2D):\n",
    "    # Initialize DR plot figure\n",
    "    fig, ax = plt.subplots(figsize= (8,7))\n",
    "    ax.selected_text = ax.figure.text(0,0.005, 'Selected: none', wrap=True, color='green')\n",
    "    fig.colorbar(plt.cm.ScalarMappable(norm=matplotlib.colors.Normalize(), cmap=plt.cm.plasma), ax=ax, label=\"Relevance\", ticks=[], shrink=0.5, aspect=40, fraction=0.05)\n",
    "    # ax = data2D.plot.scatter(x=\"x\", y=\"y\", alpha=0.5, c=\"relevance\", s=75, ax=ax\n",
    "    #                   colormap=plt.cm.plasma, sharex=False, figsize=(8, 6), picker=True)\n",
    "    # ax.collections[0].get_offsets());   set_offsets(data2D[['y','x']]);   .get_facecolors()\n",
    "    \n",
    "    # Clean up the plot\n",
    "    ax.set_xticks([])\n",
    "    ax.set_yticks([])\n",
    "    ax.figure.tight_layout()\n",
    "    #plt.show()\n",
    "    \n",
    "    # Store state data:\n",
    "    ax.circles = None\n",
    "    ax.dragpoint = None\n",
    "    \n",
    "    draw_plot(ax, data2D)\n",
    "#     print(data2D.index)\n",
    "    return ax\n",
    "\n",
    "def draw_plot(ax, data2D):\n",
    "    # Re-draws the DR plot in the axes with the updated data2D\n",
    "    ax.clear()\n",
    "    # Map data to circles, with x, y, and relevance->color\n",
    "    wid = max(data2D.x.max() - data2D.x.min(), data2D.y.max() - data2D.y.min())  # max range of x,y axes\n",
    "    cnorm = matplotlib.colors.Normalize(vmin=data2D.relevance.min(), vmax=data2D.relevance.max())\n",
    "    ax.circles = data2D.apply(axis=1, func=lambda row: \n",
    "        matplotlib.patches.Circle(xy=(row.x, row.y), radius=wid/70, alpha=0.5, \n",
    "                                  color=plt.cm.plasma(cnorm(row.relevance)), picker=True))\n",
    "    for i,c in enumerate(ax.circles):\n",
    "        # Store state data:\n",
    "        c.index, c.label, c.selected = i, data2D.index[i], False\n",
    "        # Draw circles and text labels in plot\n",
    "        ax.add_patch(c)\n",
    "        c.text = ax.text(c.center[0]-c.radius/2, c.center[1]-c.radius/2, c.label)\n",
    "    # Make plot circles draggable\n",
    "    ax.dragpoint = DraggablePoints(ax, ax.circles)\n",
    "    \n",
    "    # Clean up the plot\n",
    "    ax.set_xticks([])\n",
    "    ax.set_yticks([])\n",
    "    ax.axis('equal')\n",
    "#     print(data2D.head(5))\n",
    "    labels_df = data2D.index.str.extract(r'([a-z]+)')\n",
    "    labels_df.index = data2D.index\n",
    "    data2D['label'] = labels_df\n",
    "\n",
    "    ready_centroid = centroid(data2D,'ready')\n",
    "    disease_centroid = centroid(data2D,'disease')\n",
    "    late_centroid = centroid(data2D,'late')\n",
    "\n",
    "    print(\"The sparsity of clusters is: \",var(ready_centroid,disease_centroid,late_centroid))\n",
    "\n",
    "    \n",
    "    #plt.show()\n"
   ]
  },
  {
   "cell_type": "markdown",
   "metadata": {},
   "source": [
    "# Interactive Visualization"
   ]
  },
  {
   "cell_type": "markdown",
   "metadata": {},
   "source": [
    "## Sliders\n",
    "Use the sliders to control the **dimension weights** for the input HD data. The weights indicate which dimensions are given more emphasis in the DR plot distances.  For computational reasons, weights cannot go to absolute zero. When used in DR, the weights are first normalized such that they sum to 1.\n",
    "\n",
    "After adjusting the sliders, click the **Apply** button to show the results in the DR plot.\n",
    "\n",
    "To reset the sliders to their default values, click the **Reset** button."
   ]
  },
  {
   "cell_type": "code",
   "execution_count": 20,
   "metadata": {
    "scrolled": true
   },
   "outputs": [
    {
     "data": {
      "application/vnd.jupyter.widget-view+json": {
       "model_id": "c2ae35667521450dbd07ea29f059961f",
       "version_major": 2,
       "version_minor": 0
      },
      "text/plain": [
       "FloatSlider(value=1e-05, continuous_update=False, description='1', max=0.9999, min=1e-05, readout_format='.5f'…"
      ]
     },
     "metadata": {},
     "output_type": "display_data"
    },
    {
     "data": {
      "application/vnd.jupyter.widget-view+json": {
       "model_id": "823f7c36b67e47aaa1a5c024dd5d51d8",
       "version_major": 2,
       "version_minor": 0
      },
      "text/plain": [
       "FloatSlider(value=1e-05, continuous_update=False, description='2', max=0.9999, min=1e-05, readout_format='.5f'…"
      ]
     },
     "metadata": {},
     "output_type": "display_data"
    },
    {
     "data": {
      "application/vnd.jupyter.widget-view+json": {
       "model_id": "c9178a23589d45749d04b17f0e48e1a7",
       "version_major": 2,
       "version_minor": 0
      },
      "text/plain": [
       "FloatSlider(value=1e-05, continuous_update=False, description='3', max=0.9999, min=1e-05, readout_format='.5f'…"
      ]
     },
     "metadata": {},
     "output_type": "display_data"
    },
    {
     "data": {
      "application/vnd.jupyter.widget-view+json": {
       "model_id": "50c96d248b1e4f82b56040bfb43cf3d2",
       "version_major": 2,
       "version_minor": 0
      },
      "text/plain": [
       "FloatSlider(value=1e-05, continuous_update=False, description='4', max=0.9999, min=1e-05, readout_format='.5f'…"
      ]
     },
     "metadata": {},
     "output_type": "display_data"
    },
    {
     "data": {
      "application/vnd.jupyter.widget-view+json": {
       "model_id": "e65c54b555f04b4e866046f325aa3eec",
       "version_major": 2,
       "version_minor": 0
      },
      "text/plain": [
       "FloatSlider(value=1e-05, continuous_update=False, description='5', max=0.9999, min=1e-05, readout_format='.5f'…"
      ]
     },
     "metadata": {},
     "output_type": "display_data"
    },
    {
     "data": {
      "application/vnd.jupyter.widget-view+json": {
       "model_id": "3a4740526db34d0692e093d232d7238e",
       "version_major": 2,
       "version_minor": 0
      },
      "text/plain": [
       "FloatSlider(value=1e-05, continuous_update=False, description='6', max=0.9999, min=1e-05, readout_format='.5f'…"
      ]
     },
     "metadata": {},
     "output_type": "display_data"
    },
    {
     "data": {
      "application/vnd.jupyter.widget-view+json": {
       "model_id": "e4b2158915aa49a7954cbbefad4d3e63",
       "version_major": 2,
       "version_minor": 0
      },
      "text/plain": [
       "FloatSlider(value=1e-05, continuous_update=False, description='7', max=0.9999, min=1e-05, readout_format='.5f'…"
      ]
     },
     "metadata": {},
     "output_type": "display_data"
    },
    {
     "data": {
      "application/vnd.jupyter.widget-view+json": {
       "model_id": "04dbfece0b3a4345b7b72a65561e7918",
       "version_major": 2,
       "version_minor": 0
      },
      "text/plain": [
       "FloatSlider(value=1e-05, continuous_update=False, description='8', max=0.9999, min=1e-05, readout_format='.5f'…"
      ]
     },
     "metadata": {},
     "output_type": "display_data"
    },
    {
     "data": {
      "application/vnd.jupyter.widget-view+json": {
       "model_id": "8210ef4ab8a84462ac1c4ec6f2b3c27f",
       "version_major": 2,
       "version_minor": 0
      },
      "text/plain": [
       "FloatSlider(value=1e-05, continuous_update=False, description='9', max=0.9999, min=1e-05, readout_format='.5f'…"
      ]
     },
     "metadata": {},
     "output_type": "display_data"
    },
    {
     "data": {
      "application/vnd.jupyter.widget-view+json": {
       "model_id": "5a25cccb7e8b4f038abdaaf63bbb28b4",
       "version_major": 2,
       "version_minor": 0
      },
      "text/plain": [
       "FloatSlider(value=1e-05, continuous_update=False, description='10', max=0.9999, min=1e-05, readout_format='.5f…"
      ]
     },
     "metadata": {},
     "output_type": "display_data"
    },
    {
     "data": {
      "application/vnd.jupyter.widget-view+json": {
       "model_id": "8acf010078324bee8a179e95bbdcc993",
       "version_major": 2,
       "version_minor": 0
      },
      "text/plain": [
       "FloatSlider(value=1e-05, continuous_update=False, description='11', max=0.9999, min=1e-05, readout_format='.5f…"
      ]
     },
     "metadata": {},
     "output_type": "display_data"
    },
    {
     "data": {
      "application/vnd.jupyter.widget-view+json": {
       "model_id": "06ed373189d9476e9a1157f70d11ff2b",
       "version_major": 2,
       "version_minor": 0
      },
      "text/plain": [
       "FloatSlider(value=1e-05, continuous_update=False, description='12', max=0.9999, min=1e-05, readout_format='.5f…"
      ]
     },
     "metadata": {},
     "output_type": "display_data"
    },
    {
     "data": {
      "application/vnd.jupyter.widget-view+json": {
       "model_id": "f6cd1d6e72304dbf9a30d76780016032",
       "version_major": 2,
       "version_minor": 0
      },
      "text/plain": [
       "FloatSlider(value=1e-05, continuous_update=False, description='13', max=0.9999, min=1e-05, readout_format='.5f…"
      ]
     },
     "metadata": {},
     "output_type": "display_data"
    },
    {
     "data": {
      "application/vnd.jupyter.widget-view+json": {
       "model_id": "b9bf0935d1834eefb1aadb349e15478c",
       "version_major": 2,
       "version_minor": 0
      },
      "text/plain": [
       "FloatSlider(value=1e-05, continuous_update=False, description='14', max=0.9999, min=1e-05, readout_format='.5f…"
      ]
     },
     "metadata": {},
     "output_type": "display_data"
    },
    {
     "data": {
      "application/vnd.jupyter.widget-view+json": {
       "model_id": "a1028ba4742649ecb1e5d05c3c99f0c7",
       "version_major": 2,
       "version_minor": 0
      },
      "text/plain": [
       "FloatSlider(value=1e-05, continuous_update=False, description='15', max=0.9999, min=1e-05, readout_format='.5f…"
      ]
     },
     "metadata": {},
     "output_type": "display_data"
    },
    {
     "data": {
      "application/vnd.jupyter.widget-view+json": {
       "model_id": "34144146d25e41068a11abdbecdbd2c4",
       "version_major": 2,
       "version_minor": 0
      },
      "text/plain": [
       "FloatSlider(value=1e-05, continuous_update=False, description='16', max=0.9999, min=1e-05, readout_format='.5f…"
      ]
     },
     "metadata": {},
     "output_type": "display_data"
    },
    {
     "data": {
      "application/vnd.jupyter.widget-view+json": {
       "model_id": "00e1ce31205e4f73ad91f6856ff18ebd",
       "version_major": 2,
       "version_minor": 0
      },
      "text/plain": [
       "FloatSlider(value=1e-05, continuous_update=False, description='17', max=0.9999, min=1e-05, readout_format='.5f…"
      ]
     },
     "metadata": {},
     "output_type": "display_data"
    },
    {
     "data": {
      "application/vnd.jupyter.widget-view+json": {
       "model_id": "67ef2ecec4ce40038ec95d182329df1f",
       "version_major": 2,
       "version_minor": 0
      },
      "text/plain": [
       "FloatSlider(value=1e-05, continuous_update=False, description='18', max=0.9999, min=1e-05, readout_format='.5f…"
      ]
     },
     "metadata": {},
     "output_type": "display_data"
    },
    {
     "data": {
      "application/vnd.jupyter.widget-view+json": {
       "model_id": "ee499b5631da45d283ca488e63a1d6bc",
       "version_major": 2,
       "version_minor": 0
      },
      "text/plain": [
       "FloatSlider(value=1e-05, continuous_update=False, description='19', max=0.9999, min=1e-05, readout_format='.5f…"
      ]
     },
     "metadata": {},
     "output_type": "display_data"
    },
    {
     "data": {
      "application/vnd.jupyter.widget-view+json": {
       "model_id": "954fab621f6741ebbe356fa3404c8102",
       "version_major": 2,
       "version_minor": 0
      },
      "text/plain": [
       "FloatSlider(value=1e-05, continuous_update=False, description='20', max=0.9999, min=1e-05, readout_format='.5f…"
      ]
     },
     "metadata": {},
     "output_type": "display_data"
    },
    {
     "data": {
      "application/vnd.jupyter.widget-view+json": {
       "model_id": "c19ebd487f9442d29edb65db05824d4a",
       "version_major": 2,
       "version_minor": 0
      },
      "text/plain": [
       "FloatSlider(value=1e-05, continuous_update=False, description='21', max=0.9999, min=1e-05, readout_format='.5f…"
      ]
     },
     "metadata": {},
     "output_type": "display_data"
    },
    {
     "data": {
      "application/vnd.jupyter.widget-view+json": {
       "model_id": "d80582b3488141ccb1ee230b0cc822d2",
       "version_major": 2,
       "version_minor": 0
      },
      "text/plain": [
       "FloatSlider(value=1e-05, continuous_update=False, description='22', max=0.9999, min=1e-05, readout_format='.5f…"
      ]
     },
     "metadata": {},
     "output_type": "display_data"
    },
    {
     "data": {
      "application/vnd.jupyter.widget-view+json": {
       "model_id": "a641b1dd4d1b47989cd58eddbc36424b",
       "version_major": 2,
       "version_minor": 0
      },
      "text/plain": [
       "FloatSlider(value=1e-05, continuous_update=False, description='23', max=0.9999, min=1e-05, readout_format='.5f…"
      ]
     },
     "metadata": {},
     "output_type": "display_data"
    },
    {
     "data": {
      "application/vnd.jupyter.widget-view+json": {
       "model_id": "b59d65f93fa341b7b4aa4d81d10c8bcb",
       "version_major": 2,
       "version_minor": 0
      },
      "text/plain": [
       "FloatSlider(value=1e-05, continuous_update=False, description='24', max=0.9999, min=1e-05, readout_format='.5f…"
      ]
     },
     "metadata": {},
     "output_type": "display_data"
    },
    {
     "data": {
      "application/vnd.jupyter.widget-view+json": {
       "model_id": "d05e2c3f99bf4f4eb53398953ead27bc",
       "version_major": 2,
       "version_minor": 0
      },
      "text/plain": [
       "FloatSlider(value=1e-05, continuous_update=False, description='25', max=0.9999, min=1e-05, readout_format='.5f…"
      ]
     },
     "metadata": {},
     "output_type": "display_data"
    },
    {
     "data": {
      "application/vnd.jupyter.widget-view+json": {
       "model_id": "3e0e56b6bc184a4d83e8722b153854db",
       "version_major": 2,
       "version_minor": 0
      },
      "text/plain": [
       "FloatSlider(value=1e-05, continuous_update=False, description='26', max=0.9999, min=1e-05, readout_format='.5f…"
      ]
     },
     "metadata": {},
     "output_type": "display_data"
    },
    {
     "data": {
      "application/vnd.jupyter.widget-view+json": {
       "model_id": "4ab40f6956764ebb8dfefb1cb48bee2f",
       "version_major": 2,
       "version_minor": 0
      },
      "text/plain": [
       "FloatSlider(value=1e-05, continuous_update=False, description='27', max=0.9999, min=1e-05, readout_format='.5f…"
      ]
     },
     "metadata": {},
     "output_type": "display_data"
    },
    {
     "data": {
      "application/vnd.jupyter.widget-view+json": {
       "model_id": "1f464195f37340cfac07c4eba5d55ef3",
       "version_major": 2,
       "version_minor": 0
      },
      "text/plain": [
       "FloatSlider(value=1e-05, continuous_update=False, description='28', max=0.9999, min=1e-05, readout_format='.5f…"
      ]
     },
     "metadata": {},
     "output_type": "display_data"
    },
    {
     "data": {
      "application/vnd.jupyter.widget-view+json": {
       "model_id": "4301ad6aa81a4ab490711e5f3e4920e5",
       "version_major": 2,
       "version_minor": 0
      },
      "text/plain": [
       "FloatSlider(value=1e-05, continuous_update=False, description='29', max=0.9999, min=1e-05, readout_format='.5f…"
      ]
     },
     "metadata": {},
     "output_type": "display_data"
    },
    {
     "data": {
      "application/vnd.jupyter.widget-view+json": {
       "model_id": "30d7d9d56efa4282ad170528f12fb996",
       "version_major": 2,
       "version_minor": 0
      },
      "text/plain": [
       "FloatSlider(value=1e-05, continuous_update=False, description='30', max=0.9999, min=1e-05, readout_format='.5f…"
      ]
     },
     "metadata": {},
     "output_type": "display_data"
    },
    {
     "data": {
      "application/vnd.jupyter.widget-view+json": {
       "model_id": "5f0d0606b55d4230acc6c5f52809de90",
       "version_major": 2,
       "version_minor": 0
      },
      "text/plain": [
       "FloatSlider(value=1e-05, continuous_update=False, description='31', max=0.9999, min=1e-05, readout_format='.5f…"
      ]
     },
     "metadata": {},
     "output_type": "display_data"
    },
    {
     "data": {
      "application/vnd.jupyter.widget-view+json": {
       "model_id": "563f2721d0774e0da9494a55634ecca8",
       "version_major": 2,
       "version_minor": 0
      },
      "text/plain": [
       "FloatSlider(value=1e-05, continuous_update=False, description='32', max=0.9999, min=1e-05, readout_format='.5f…"
      ]
     },
     "metadata": {},
     "output_type": "display_data"
    },
    {
     "data": {
      "application/vnd.jupyter.widget-view+json": {
       "model_id": "da67f1471e894b5f885e971a4689057a",
       "version_major": 2,
       "version_minor": 0
      },
      "text/plain": [
       "FloatSlider(value=1e-05, continuous_update=False, description='33', max=0.9999, min=1e-05, readout_format='.5f…"
      ]
     },
     "metadata": {},
     "output_type": "display_data"
    },
    {
     "data": {
      "application/vnd.jupyter.widget-view+json": {
       "model_id": "cf0992cf380148e7a79dfe54dd7840f8",
       "version_major": 2,
       "version_minor": 0
      },
      "text/plain": [
       "FloatSlider(value=1e-05, continuous_update=False, description='34', max=0.9999, min=1e-05, readout_format='.5f…"
      ]
     },
     "metadata": {},
     "output_type": "display_data"
    },
    {
     "data": {
      "application/vnd.jupyter.widget-view+json": {
       "model_id": "a257df3a4a344b789f13694e19ec93bf",
       "version_major": 2,
       "version_minor": 0
      },
      "text/plain": [
       "FloatSlider(value=1e-05, continuous_update=False, description='35', max=0.9999, min=1e-05, readout_format='.5f…"
      ]
     },
     "metadata": {},
     "output_type": "display_data"
    },
    {
     "data": {
      "application/vnd.jupyter.widget-view+json": {
       "model_id": "79cdecd8eecc498ea8f28fd69fec567f",
       "version_major": 2,
       "version_minor": 0
      },
      "text/plain": [
       "FloatSlider(value=1e-05, continuous_update=False, description='36', max=0.9999, min=1e-05, readout_format='.5f…"
      ]
     },
     "metadata": {},
     "output_type": "display_data"
    },
    {
     "data": {
      "application/vnd.jupyter.widget-view+json": {
       "model_id": "404773ce04a54f4091111ddba63ae7e1",
       "version_major": 2,
       "version_minor": 0
      },
      "text/plain": [
       "FloatSlider(value=1e-05, continuous_update=False, description='37', max=0.9999, min=1e-05, readout_format='.5f…"
      ]
     },
     "metadata": {},
     "output_type": "display_data"
    },
    {
     "data": {
      "application/vnd.jupyter.widget-view+json": {
       "model_id": "a7922877d434412eab2c6bf842c460d1",
       "version_major": 2,
       "version_minor": 0
      },
      "text/plain": [
       "FloatSlider(value=1e-05, continuous_update=False, description='38', max=0.9999, min=1e-05, readout_format='.5f…"
      ]
     },
     "metadata": {},
     "output_type": "display_data"
    },
    {
     "data": {
      "application/vnd.jupyter.widget-view+json": {
       "model_id": "e62f8c6e56b844f0a28dec28228dd18b",
       "version_major": 2,
       "version_minor": 0
      },
      "text/plain": [
       "FloatSlider(value=1e-05, continuous_update=False, description='39', max=0.9999, min=1e-05, readout_format='.5f…"
      ]
     },
     "metadata": {},
     "output_type": "display_data"
    },
    {
     "data": {
      "application/vnd.jupyter.widget-view+json": {
       "model_id": "baae33f4863741e999185dd7f549635d",
       "version_major": 2,
       "version_minor": 0
      },
      "text/plain": [
       "FloatSlider(value=1e-05, continuous_update=False, description='40', max=0.9999, min=1e-05, readout_format='.5f…"
      ]
     },
     "metadata": {},
     "output_type": "display_data"
    },
    {
     "data": {
      "application/vnd.jupyter.widget-view+json": {
       "model_id": "a2b9d33513bd40ee9016741c2bbcb91f",
       "version_major": 2,
       "version_minor": 0
      },
      "text/plain": [
       "FloatSlider(value=1e-05, continuous_update=False, description='41', max=0.9999, min=1e-05, readout_format='.5f…"
      ]
     },
     "metadata": {},
     "output_type": "display_data"
    },
    {
     "data": {
      "application/vnd.jupyter.widget-view+json": {
       "model_id": "e269fea9b47f4d69a340aca8c1f826f7",
       "version_major": 2,
       "version_minor": 0
      },
      "text/plain": [
       "FloatSlider(value=1e-05, continuous_update=False, description='42', max=0.9999, min=1e-05, readout_format='.5f…"
      ]
     },
     "metadata": {},
     "output_type": "display_data"
    },
    {
     "data": {
      "application/vnd.jupyter.widget-view+json": {
       "model_id": "4a6c80f8972d4f63af884f9d0c97146a",
       "version_major": 2,
       "version_minor": 0
      },
      "text/plain": [
       "FloatSlider(value=1e-05, continuous_update=False, description='43', max=0.9999, min=1e-05, readout_format='.5f…"
      ]
     },
     "metadata": {},
     "output_type": "display_data"
    },
    {
     "data": {
      "application/vnd.jupyter.widget-view+json": {
       "model_id": "a70776cdec9b409badbbc09aa813151b",
       "version_major": 2,
       "version_minor": 0
      },
      "text/plain": [
       "FloatSlider(value=1e-05, continuous_update=False, description='44', max=0.9999, min=1e-05, readout_format='.5f…"
      ]
     },
     "metadata": {},
     "output_type": "display_data"
    },
    {
     "data": {
      "application/vnd.jupyter.widget-view+json": {
       "model_id": "0e7c22a5df8a4fdfb7ab44e547209582",
       "version_major": 2,
       "version_minor": 0
      },
      "text/plain": [
       "FloatSlider(value=1e-05, continuous_update=False, description='45', max=0.9999, min=1e-05, readout_format='.5f…"
      ]
     },
     "metadata": {},
     "output_type": "display_data"
    },
    {
     "data": {
      "application/vnd.jupyter.widget-view+json": {
       "model_id": "1698fb2d79914d24818774d028fd1e12",
       "version_major": 2,
       "version_minor": 0
      },
      "text/plain": [
       "FloatSlider(value=1e-05, continuous_update=False, description='46', max=0.9999, min=1e-05, readout_format='.5f…"
      ]
     },
     "metadata": {},
     "output_type": "display_data"
    },
    {
     "data": {
      "application/vnd.jupyter.widget-view+json": {
       "model_id": "1253467509354da589b5790a815247c4",
       "version_major": 2,
       "version_minor": 0
      },
      "text/plain": [
       "FloatSlider(value=1e-05, continuous_update=False, description='47', max=0.9999, min=1e-05, readout_format='.5f…"
      ]
     },
     "metadata": {},
     "output_type": "display_data"
    },
    {
     "data": {
      "application/vnd.jupyter.widget-view+json": {
       "model_id": "136fae9f399140bcbb45d9933a554e16",
       "version_major": 2,
       "version_minor": 0
      },
      "text/plain": [
       "FloatSlider(value=1e-05, continuous_update=False, description='48', max=0.9999, min=1e-05, readout_format='.5f…"
      ]
     },
     "metadata": {},
     "output_type": "display_data"
    },
    {
     "data": {
      "application/vnd.jupyter.widget-view+json": {
       "model_id": "395ceed7f2a94cf19e3b8c13660855bb",
       "version_major": 2,
       "version_minor": 0
      },
      "text/plain": [
       "FloatSlider(value=1e-05, continuous_update=False, description='49', max=0.9999, min=1e-05, readout_format='.5f…"
      ]
     },
     "metadata": {},
     "output_type": "display_data"
    },
    {
     "data": {
      "application/vnd.jupyter.widget-view+json": {
       "model_id": "6dfea54322bf4a7dbe22e04d0a5b8a15",
       "version_major": 2,
       "version_minor": 0
      },
      "text/plain": [
       "FloatSlider(value=1e-05, continuous_update=False, description='50', max=0.9999, min=1e-05, readout_format='.5f…"
      ]
     },
     "metadata": {},
     "output_type": "display_data"
    },
    {
     "data": {
      "application/vnd.jupyter.widget-view+json": {
       "model_id": "40e3a8c04bed440b894a3540687589fc",
       "version_major": 2,
       "version_minor": 0
      },
      "text/plain": [
       "FloatSlider(value=1e-05, continuous_update=False, description='51', max=0.9999, min=1e-05, readout_format='.5f…"
      ]
     },
     "metadata": {},
     "output_type": "display_data"
    },
    {
     "data": {
      "application/vnd.jupyter.widget-view+json": {
       "model_id": "dc7f8cbf9f2a4dea90380093d4a71246",
       "version_major": 2,
       "version_minor": 0
      },
      "text/plain": [
       "FloatSlider(value=1e-05, continuous_update=False, description='52', max=0.9999, min=1e-05, readout_format='.5f…"
      ]
     },
     "metadata": {},
     "output_type": "display_data"
    },
    {
     "data": {
      "application/vnd.jupyter.widget-view+json": {
       "model_id": "5ee7603683d04e5e9b122389af588eb2",
       "version_major": 2,
       "version_minor": 0
      },
      "text/plain": [
       "FloatSlider(value=1e-05, continuous_update=False, description='53', max=0.9999, min=1e-05, readout_format='.5f…"
      ]
     },
     "metadata": {},
     "output_type": "display_data"
    },
    {
     "data": {
      "application/vnd.jupyter.widget-view+json": {
       "model_id": "24273e292c4a4a86a3274394c9ae6cba",
       "version_major": 2,
       "version_minor": 0
      },
      "text/plain": [
       "FloatSlider(value=1e-05, continuous_update=False, description='54', max=0.9999, min=1e-05, readout_format='.5f…"
      ]
     },
     "metadata": {},
     "output_type": "display_data"
    },
    {
     "data": {
      "application/vnd.jupyter.widget-view+json": {
       "model_id": "f4be0262affa441aa508225aae3d2974",
       "version_major": 2,
       "version_minor": 0
      },
      "text/plain": [
       "FloatSlider(value=1e-05, continuous_update=False, description='55', max=0.9999, min=1e-05, readout_format='.5f…"
      ]
     },
     "metadata": {},
     "output_type": "display_data"
    },
    {
     "data": {
      "application/vnd.jupyter.widget-view+json": {
       "model_id": "2fa698c13c0340ddbb698299e699f2f7",
       "version_major": 2,
       "version_minor": 0
      },
      "text/plain": [
       "FloatSlider(value=1e-05, continuous_update=False, description='56', max=0.9999, min=1e-05, readout_format='.5f…"
      ]
     },
     "metadata": {},
     "output_type": "display_data"
    },
    {
     "data": {
      "application/vnd.jupyter.widget-view+json": {
       "model_id": "e3a86dc1ee8a47f094cc8cd377696240",
       "version_major": 2,
       "version_minor": 0
      },
      "text/plain": [
       "FloatSlider(value=1e-05, continuous_update=False, description='57', max=0.9999, min=1e-05, readout_format='.5f…"
      ]
     },
     "metadata": {},
     "output_type": "display_data"
    },
    {
     "data": {
      "application/vnd.jupyter.widget-view+json": {
       "model_id": "3bde7df4414447219f45472f4f9ea246",
       "version_major": 2,
       "version_minor": 0
      },
      "text/plain": [
       "FloatSlider(value=1e-05, continuous_update=False, description='58', max=0.9999, min=1e-05, readout_format='.5f…"
      ]
     },
     "metadata": {},
     "output_type": "display_data"
    },
    {
     "data": {
      "application/vnd.jupyter.widget-view+json": {
       "model_id": "762f2ad1a24f42e2ac2b78564327ac8d",
       "version_major": 2,
       "version_minor": 0
      },
      "text/plain": [
       "FloatSlider(value=1e-05, continuous_update=False, description='59', max=0.9999, min=1e-05, readout_format='.5f…"
      ]
     },
     "metadata": {},
     "output_type": "display_data"
    },
    {
     "data": {
      "application/vnd.jupyter.widget-view+json": {
       "model_id": "4dc76e882db74032ba4e6ae5ebfb23bb",
       "version_major": 2,
       "version_minor": 0
      },
      "text/plain": [
       "FloatSlider(value=1e-05, continuous_update=False, description='60', max=0.9999, min=1e-05, readout_format='.5f…"
      ]
     },
     "metadata": {},
     "output_type": "display_data"
    },
    {
     "data": {
      "application/vnd.jupyter.widget-view+json": {
       "model_id": "c508afc8dda94cfea29f1066837962b6",
       "version_major": 2,
       "version_minor": 0
      },
      "text/plain": [
       "FloatSlider(value=1e-05, continuous_update=False, description='61', max=0.9999, min=1e-05, readout_format='.5f…"
      ]
     },
     "metadata": {},
     "output_type": "display_data"
    },
    {
     "data": {
      "application/vnd.jupyter.widget-view+json": {
       "model_id": "4d8beb53eea6452f8e2cf06d3de393d7",
       "version_major": 2,
       "version_minor": 0
      },
      "text/plain": [
       "FloatSlider(value=1e-05, continuous_update=False, description='62', max=0.9999, min=1e-05, readout_format='.5f…"
      ]
     },
     "metadata": {},
     "output_type": "display_data"
    },
    {
     "data": {
      "application/vnd.jupyter.widget-view+json": {
       "model_id": "be5115c6c329439a830344adbc9bb42e",
       "version_major": 2,
       "version_minor": 0
      },
      "text/plain": [
       "FloatSlider(value=1e-05, continuous_update=False, description='63', max=0.9999, min=1e-05, readout_format='.5f…"
      ]
     },
     "metadata": {},
     "output_type": "display_data"
    },
    {
     "data": {
      "application/vnd.jupyter.widget-view+json": {
       "model_id": "082e11e410554932a3231dde4ed91d90",
       "version_major": 2,
       "version_minor": 0
      },
      "text/plain": [
       "FloatSlider(value=1e-05, continuous_update=False, description='64', max=0.9999, min=1e-05, readout_format='.5f…"
      ]
     },
     "metadata": {},
     "output_type": "display_data"
    },
    {
     "data": {
      "application/vnd.jupyter.widget-view+json": {
       "model_id": "11207b44bb7a4e95a875238e3ea82ee5",
       "version_major": 2,
       "version_minor": 0
      },
      "text/plain": [
       "FloatSlider(value=1e-05, continuous_update=False, description='65', max=0.9999, min=1e-05, readout_format='.5f…"
      ]
     },
     "metadata": {},
     "output_type": "display_data"
    },
    {
     "data": {
      "application/vnd.jupyter.widget-view+json": {
       "model_id": "470a664870214924a48663e4aec17677",
       "version_major": 2,
       "version_minor": 0
      },
      "text/plain": [
       "FloatSlider(value=1e-05, continuous_update=False, description='66', max=0.9999, min=1e-05, readout_format='.5f…"
      ]
     },
     "metadata": {},
     "output_type": "display_data"
    },
    {
     "data": {
      "application/vnd.jupyter.widget-view+json": {
       "model_id": "f1f21bd9a8934dbcbf784084a2b6a2f3",
       "version_major": 2,
       "version_minor": 0
      },
      "text/plain": [
       "FloatSlider(value=1e-05, continuous_update=False, description='67', max=0.9999, min=1e-05, readout_format='.5f…"
      ]
     },
     "metadata": {},
     "output_type": "display_data"
    },
    {
     "data": {
      "application/vnd.jupyter.widget-view+json": {
       "model_id": "d21344659385460e98fc58b8e87331d8",
       "version_major": 2,
       "version_minor": 0
      },
      "text/plain": [
       "FloatSlider(value=1e-05, continuous_update=False, description='68', max=0.9999, min=1e-05, readout_format='.5f…"
      ]
     },
     "metadata": {},
     "output_type": "display_data"
    },
    {
     "data": {
      "application/vnd.jupyter.widget-view+json": {
       "model_id": "2d0a862857a24aed92ee6b009c5907a6",
       "version_major": 2,
       "version_minor": 0
      },
      "text/plain": [
       "FloatSlider(value=1e-05, continuous_update=False, description='69', max=0.9999, min=1e-05, readout_format='.5f…"
      ]
     },
     "metadata": {},
     "output_type": "display_data"
    },
    {
     "data": {
      "application/vnd.jupyter.widget-view+json": {
       "model_id": "c9cb7fce6aa34ad89b71e735d64f4883",
       "version_major": 2,
       "version_minor": 0
      },
      "text/plain": [
       "FloatSlider(value=1e-05, continuous_update=False, description='70', max=0.9999, min=1e-05, readout_format='.5f…"
      ]
     },
     "metadata": {},
     "output_type": "display_data"
    },
    {
     "data": {
      "application/vnd.jupyter.widget-view+json": {
       "model_id": "6a2f58e29e6a4e2d8247e633fad7e22d",
       "version_major": 2,
       "version_minor": 0
      },
      "text/plain": [
       "FloatSlider(value=1e-05, continuous_update=False, description='71', max=0.9999, min=1e-05, readout_format='.5f…"
      ]
     },
     "metadata": {},
     "output_type": "display_data"
    },
    {
     "data": {
      "application/vnd.jupyter.widget-view+json": {
       "model_id": "79657d7c15a9420a95ac280df22fa846",
       "version_major": 2,
       "version_minor": 0
      },
      "text/plain": [
       "FloatSlider(value=1e-05, continuous_update=False, description='72', max=0.9999, min=1e-05, readout_format='.5f…"
      ]
     },
     "metadata": {},
     "output_type": "display_data"
    },
    {
     "data": {
      "application/vnd.jupyter.widget-view+json": {
       "model_id": "3e5bbbb49a09444cab77b6823545ca16",
       "version_major": 2,
       "version_minor": 0
      },
      "text/plain": [
       "FloatSlider(value=1e-05, continuous_update=False, description='73', max=0.9999, min=1e-05, readout_format='.5f…"
      ]
     },
     "metadata": {},
     "output_type": "display_data"
    },
    {
     "data": {
      "application/vnd.jupyter.widget-view+json": {
       "model_id": "34555e3e63534db79e177d2c0ee3e92e",
       "version_major": 2,
       "version_minor": 0
      },
      "text/plain": [
       "FloatSlider(value=1e-05, continuous_update=False, description='74', max=0.9999, min=1e-05, readout_format='.5f…"
      ]
     },
     "metadata": {},
     "output_type": "display_data"
    },
    {
     "data": {
      "application/vnd.jupyter.widget-view+json": {
       "model_id": "4d2cfc74f88f40c0b1d04bf1399a17f7",
       "version_major": 2,
       "version_minor": 0
      },
      "text/plain": [
       "FloatSlider(value=1e-05, continuous_update=False, description='75', max=0.9999, min=1e-05, readout_format='.5f…"
      ]
     },
     "metadata": {},
     "output_type": "display_data"
    },
    {
     "data": {
      "application/vnd.jupyter.widget-view+json": {
       "model_id": "326c3f0fc4ed4b5aad839f0f618ebd9a",
       "version_major": 2,
       "version_minor": 0
      },
      "text/plain": [
       "FloatSlider(value=1e-05, continuous_update=False, description='76', max=0.9999, min=1e-05, readout_format='.5f…"
      ]
     },
     "metadata": {},
     "output_type": "display_data"
    },
    {
     "data": {
      "application/vnd.jupyter.widget-view+json": {
       "model_id": "c450e5a4b185416d94bca49db2efde92",
       "version_major": 2,
       "version_minor": 0
      },
      "text/plain": [
       "FloatSlider(value=1e-05, continuous_update=False, description='77', max=0.9999, min=1e-05, readout_format='.5f…"
      ]
     },
     "metadata": {},
     "output_type": "display_data"
    },
    {
     "data": {
      "application/vnd.jupyter.widget-view+json": {
       "model_id": "d2ba22c73b164f3e8801907772d3cf3c",
       "version_major": 2,
       "version_minor": 0
      },
      "text/plain": [
       "FloatSlider(value=1e-05, continuous_update=False, description='78', max=0.9999, min=1e-05, readout_format='.5f…"
      ]
     },
     "metadata": {},
     "output_type": "display_data"
    },
    {
     "data": {
      "application/vnd.jupyter.widget-view+json": {
       "model_id": "7c088fcd00ad4101bb72c61e548c0d70",
       "version_major": 2,
       "version_minor": 0
      },
      "text/plain": [
       "FloatSlider(value=1e-05, continuous_update=False, description='79', max=0.9999, min=1e-05, readout_format='.5f…"
      ]
     },
     "metadata": {},
     "output_type": "display_data"
    },
    {
     "data": {
      "application/vnd.jupyter.widget-view+json": {
       "model_id": "17d1f449f46945beaf2cbef0b42331c3",
       "version_major": 2,
       "version_minor": 0
      },
      "text/plain": [
       "FloatSlider(value=1e-05, continuous_update=False, description='80', max=0.9999, min=1e-05, readout_format='.5f…"
      ]
     },
     "metadata": {},
     "output_type": "display_data"
    },
    {
     "data": {
      "application/vnd.jupyter.widget-view+json": {
       "model_id": "f5dc545618ea457c922008ac7c2ed3d1",
       "version_major": 2,
       "version_minor": 0
      },
      "text/plain": [
       "FloatSlider(value=1e-05, continuous_update=False, description='81', max=0.9999, min=1e-05, readout_format='.5f…"
      ]
     },
     "metadata": {},
     "output_type": "display_data"
    },
    {
     "data": {
      "application/vnd.jupyter.widget-view+json": {
       "model_id": "124f332805f640cdbf3c2bf111f39713",
       "version_major": 2,
       "version_minor": 0
      },
      "text/plain": [
       "FloatSlider(value=1e-05, continuous_update=False, description='82', max=0.9999, min=1e-05, readout_format='.5f…"
      ]
     },
     "metadata": {},
     "output_type": "display_data"
    },
    {
     "data": {
      "application/vnd.jupyter.widget-view+json": {
       "model_id": "3449fec00b294ea6933af485494ceb3d",
       "version_major": 2,
       "version_minor": 0
      },
      "text/plain": [
       "FloatSlider(value=1e-05, continuous_update=False, description='83', max=0.9999, min=1e-05, readout_format='.5f…"
      ]
     },
     "metadata": {},
     "output_type": "display_data"
    },
    {
     "data": {
      "application/vnd.jupyter.widget-view+json": {
       "model_id": "00ee3267cc9e4363b82c2e33ad52762e",
       "version_major": 2,
       "version_minor": 0
      },
      "text/plain": [
       "FloatSlider(value=1e-05, continuous_update=False, description='84', max=0.9999, min=1e-05, readout_format='.5f…"
      ]
     },
     "metadata": {},
     "output_type": "display_data"
    },
    {
     "data": {
      "application/vnd.jupyter.widget-view+json": {
       "model_id": "95176c08586547ef9d1a5a41c4187194",
       "version_major": 2,
       "version_minor": 0
      },
      "text/plain": [
       "FloatSlider(value=1e-05, continuous_update=False, description='85', max=0.9999, min=1e-05, readout_format='.5f…"
      ]
     },
     "metadata": {},
     "output_type": "display_data"
    },
    {
     "data": {
      "application/vnd.jupyter.widget-view+json": {
       "model_id": "e1f50cb0efec46a78dcef3fcf05df183",
       "version_major": 2,
       "version_minor": 0
      },
      "text/plain": [
       "FloatSlider(value=1e-05, continuous_update=False, description='86', max=0.9999, min=1e-05, readout_format='.5f…"
      ]
     },
     "metadata": {},
     "output_type": "display_data"
    },
    {
     "data": {
      "application/vnd.jupyter.widget-view+json": {
       "model_id": "09ad15943f8741c0ba695c3e69caddd3",
       "version_major": 2,
       "version_minor": 0
      },
      "text/plain": [
       "FloatSlider(value=1e-05, continuous_update=False, description='87', max=0.9999, min=1e-05, readout_format='.5f…"
      ]
     },
     "metadata": {},
     "output_type": "display_data"
    },
    {
     "data": {
      "application/vnd.jupyter.widget-view+json": {
       "model_id": "e16d2f56818744aaa124706c966df39e",
       "version_major": 2,
       "version_minor": 0
      },
      "text/plain": [
       "FloatSlider(value=1e-05, continuous_update=False, description='88', max=0.9999, min=1e-05, readout_format='.5f…"
      ]
     },
     "metadata": {},
     "output_type": "display_data"
    },
    {
     "data": {
      "application/vnd.jupyter.widget-view+json": {
       "model_id": "48d6169812584f40bf9cbe7799691fe0",
       "version_major": 2,
       "version_minor": 0
      },
      "text/plain": [
       "FloatSlider(value=1e-05, continuous_update=False, description='89', max=0.9999, min=1e-05, readout_format='.5f…"
      ]
     },
     "metadata": {},
     "output_type": "display_data"
    },
    {
     "data": {
      "application/vnd.jupyter.widget-view+json": {
       "model_id": "ada9c88815e14082a3ea803e49a814fe",
       "version_major": 2,
       "version_minor": 0
      },
      "text/plain": [
       "FloatSlider(value=1e-05, continuous_update=False, description='90', max=0.9999, min=1e-05, readout_format='.5f…"
      ]
     },
     "metadata": {},
     "output_type": "display_data"
    },
    {
     "data": {
      "application/vnd.jupyter.widget-view+json": {
       "model_id": "6932c4e938314ded997688b75c4aa139",
       "version_major": 2,
       "version_minor": 0
      },
      "text/plain": [
       "FloatSlider(value=1e-05, continuous_update=False, description='91', max=0.9999, min=1e-05, readout_format='.5f…"
      ]
     },
     "metadata": {},
     "output_type": "display_data"
    },
    {
     "data": {
      "application/vnd.jupyter.widget-view+json": {
       "model_id": "45c5045d38c34c108e244c15c9be5506",
       "version_major": 2,
       "version_minor": 0
      },
      "text/plain": [
       "FloatSlider(value=1e-05, continuous_update=False, description='92', max=0.9999, min=1e-05, readout_format='.5f…"
      ]
     },
     "metadata": {},
     "output_type": "display_data"
    },
    {
     "data": {
      "application/vnd.jupyter.widget-view+json": {
       "model_id": "9e8cd3e0c51e463992b3a6cf09d62a69",
       "version_major": 2,
       "version_minor": 0
      },
      "text/plain": [
       "FloatSlider(value=1e-05, continuous_update=False, description='93', max=0.9999, min=1e-05, readout_format='.5f…"
      ]
     },
     "metadata": {},
     "output_type": "display_data"
    },
    {
     "data": {
      "application/vnd.jupyter.widget-view+json": {
       "model_id": "0ba31be2fddb4b9e82e6d70d813bfdf9",
       "version_major": 2,
       "version_minor": 0
      },
      "text/plain": [
       "FloatSlider(value=1e-05, continuous_update=False, description='94', max=0.9999, min=1e-05, readout_format='.5f…"
      ]
     },
     "metadata": {},
     "output_type": "display_data"
    },
    {
     "data": {
      "application/vnd.jupyter.widget-view+json": {
       "model_id": "9cc2e26eb32b4bce9ac6d521d213e72a",
       "version_major": 2,
       "version_minor": 0
      },
      "text/plain": [
       "FloatSlider(value=1e-05, continuous_update=False, description='95', max=0.9999, min=1e-05, readout_format='.5f…"
      ]
     },
     "metadata": {},
     "output_type": "display_data"
    },
    {
     "data": {
      "application/vnd.jupyter.widget-view+json": {
       "model_id": "e68ece8049804d3c802a78a762d87528",
       "version_major": 2,
       "version_minor": 0
      },
      "text/plain": [
       "FloatSlider(value=1e-05, continuous_update=False, description='96', max=0.9999, min=1e-05, readout_format='.5f…"
      ]
     },
     "metadata": {},
     "output_type": "display_data"
    },
    {
     "data": {
      "application/vnd.jupyter.widget-view+json": {
       "model_id": "4cf23615ae444af9967d1bc7b86a7958",
       "version_major": 2,
       "version_minor": 0
      },
      "text/plain": [
       "FloatSlider(value=1e-05, continuous_update=False, description='97', max=0.9999, min=1e-05, readout_format='.5f…"
      ]
     },
     "metadata": {},
     "output_type": "display_data"
    },
    {
     "data": {
      "application/vnd.jupyter.widget-view+json": {
       "model_id": "18165f3193d74eeaa20f3013c526deb6",
       "version_major": 2,
       "version_minor": 0
      },
      "text/plain": [
       "FloatSlider(value=1e-05, continuous_update=False, description='98', max=0.9999, min=1e-05, readout_format='.5f…"
      ]
     },
     "metadata": {},
     "output_type": "display_data"
    },
    {
     "data": {
      "application/vnd.jupyter.widget-view+json": {
       "model_id": "e491bed55b40426882349d1baa5766cf",
       "version_major": 2,
       "version_minor": 0
      },
      "text/plain": [
       "FloatSlider(value=1e-05, continuous_update=False, description='99', max=0.9999, min=1e-05, readout_format='.5f…"
      ]
     },
     "metadata": {},
     "output_type": "display_data"
    },
    {
     "data": {
      "application/vnd.jupyter.widget-view+json": {
       "model_id": "9c8568387a97485b85a315426a2f3c74",
       "version_major": 2,
       "version_minor": 0
      },
      "text/plain": [
       "FloatSlider(value=1e-05, continuous_update=False, description='100', max=0.9999, min=1e-05, readout_format='.5…"
      ]
     },
     "metadata": {},
     "output_type": "display_data"
    },
    {
     "data": {
      "application/vnd.jupyter.widget-view+json": {
       "model_id": "501c63f61a544810bc051e6ce92e8d48",
       "version_major": 2,
       "version_minor": 0
      },
      "text/plain": [
       "FloatSlider(value=1e-05, continuous_update=False, description='101', max=0.9999, min=1e-05, readout_format='.5…"
      ]
     },
     "metadata": {},
     "output_type": "display_data"
    },
    {
     "data": {
      "application/vnd.jupyter.widget-view+json": {
       "model_id": "b0f9a6201a4146e3aa16b6575bff1009",
       "version_major": 2,
       "version_minor": 0
      },
      "text/plain": [
       "FloatSlider(value=1e-05, continuous_update=False, description='102', max=0.9999, min=1e-05, readout_format='.5…"
      ]
     },
     "metadata": {},
     "output_type": "display_data"
    },
    {
     "data": {
      "application/vnd.jupyter.widget-view+json": {
       "model_id": "25f7fd220d0f43089d715025226747aa",
       "version_major": 2,
       "version_minor": 0
      },
      "text/plain": [
       "FloatSlider(value=1e-05, continuous_update=False, description='103', max=0.9999, min=1e-05, readout_format='.5…"
      ]
     },
     "metadata": {},
     "output_type": "display_data"
    },
    {
     "data": {
      "application/vnd.jupyter.widget-view+json": {
       "model_id": "701371329fee4ac0adc2b0a890ecaeb5",
       "version_major": 2,
       "version_minor": 0
      },
      "text/plain": [
       "FloatSlider(value=1e-05, continuous_update=False, description='104', max=0.9999, min=1e-05, readout_format='.5…"
      ]
     },
     "metadata": {},
     "output_type": "display_data"
    },
    {
     "data": {
      "application/vnd.jupyter.widget-view+json": {
       "model_id": "2a909591e79d4743af3f24c6fccc91f4",
       "version_major": 2,
       "version_minor": 0
      },
      "text/plain": [
       "FloatSlider(value=1e-05, continuous_update=False, description='105', max=0.9999, min=1e-05, readout_format='.5…"
      ]
     },
     "metadata": {},
     "output_type": "display_data"
    },
    {
     "data": {
      "application/vnd.jupyter.widget-view+json": {
       "model_id": "79837c5c93924ac6be1d956abb60c809",
       "version_major": 2,
       "version_minor": 0
      },
      "text/plain": [
       "FloatSlider(value=1e-05, continuous_update=False, description='106', max=0.9999, min=1e-05, readout_format='.5…"
      ]
     },
     "metadata": {},
     "output_type": "display_data"
    },
    {
     "data": {
      "application/vnd.jupyter.widget-view+json": {
       "model_id": "b789f3dd5b5448508743b886a2172e79",
       "version_major": 2,
       "version_minor": 0
      },
      "text/plain": [
       "FloatSlider(value=1e-05, continuous_update=False, description='107', max=0.9999, min=1e-05, readout_format='.5…"
      ]
     },
     "metadata": {},
     "output_type": "display_data"
    },
    {
     "data": {
      "application/vnd.jupyter.widget-view+json": {
       "model_id": "82d729e445e44ef8af176f7b4add3fc9",
       "version_major": 2,
       "version_minor": 0
      },
      "text/plain": [
       "FloatSlider(value=1e-05, continuous_update=False, description='108', max=0.9999, min=1e-05, readout_format='.5…"
      ]
     },
     "metadata": {},
     "output_type": "display_data"
    },
    {
     "data": {
      "application/vnd.jupyter.widget-view+json": {
       "model_id": "389d3a4e6e3d43ffa68be1c3fac15843",
       "version_major": 2,
       "version_minor": 0
      },
      "text/plain": [
       "FloatSlider(value=1e-05, continuous_update=False, description='109', max=0.9999, min=1e-05, readout_format='.5…"
      ]
     },
     "metadata": {},
     "output_type": "display_data"
    },
    {
     "data": {
      "application/vnd.jupyter.widget-view+json": {
       "model_id": "4e6b29950f5d444cab68b119f18931f7",
       "version_major": 2,
       "version_minor": 0
      },
      "text/plain": [
       "FloatSlider(value=1e-05, continuous_update=False, description='110', max=0.9999, min=1e-05, readout_format='.5…"
      ]
     },
     "metadata": {},
     "output_type": "display_data"
    },
    {
     "data": {
      "application/vnd.jupyter.widget-view+json": {
       "model_id": "d8028a08f30f414cb2608211c2c0d975",
       "version_major": 2,
       "version_minor": 0
      },
      "text/plain": [
       "FloatSlider(value=1e-05, continuous_update=False, description='111', max=0.9999, min=1e-05, readout_format='.5…"
      ]
     },
     "metadata": {},
     "output_type": "display_data"
    },
    {
     "data": {
      "application/vnd.jupyter.widget-view+json": {
       "model_id": "9bd16257f10d49ecb11cb52e09f5aa04",
       "version_major": 2,
       "version_minor": 0
      },
      "text/plain": [
       "FloatSlider(value=1e-05, continuous_update=False, description='112', max=0.9999, min=1e-05, readout_format='.5…"
      ]
     },
     "metadata": {},
     "output_type": "display_data"
    },
    {
     "data": {
      "application/vnd.jupyter.widget-view+json": {
       "model_id": "056765fd873f49c9ac6c2115e5ce67f1",
       "version_major": 2,
       "version_minor": 0
      },
      "text/plain": [
       "FloatSlider(value=1e-05, continuous_update=False, description='113', max=0.9999, min=1e-05, readout_format='.5…"
      ]
     },
     "metadata": {},
     "output_type": "display_data"
    },
    {
     "data": {
      "application/vnd.jupyter.widget-view+json": {
       "model_id": "70228e4f68d34d3e9bec6283daee5787",
       "version_major": 2,
       "version_minor": 0
      },
      "text/plain": [
       "FloatSlider(value=1e-05, continuous_update=False, description='114', max=0.9999, min=1e-05, readout_format='.5…"
      ]
     },
     "metadata": {},
     "output_type": "display_data"
    },
    {
     "data": {
      "application/vnd.jupyter.widget-view+json": {
       "model_id": "f81d13e07463492cb30885b7c6a035cc",
       "version_major": 2,
       "version_minor": 0
      },
      "text/plain": [
       "FloatSlider(value=1e-05, continuous_update=False, description='115', max=0.9999, min=1e-05, readout_format='.5…"
      ]
     },
     "metadata": {},
     "output_type": "display_data"
    },
    {
     "data": {
      "application/vnd.jupyter.widget-view+json": {
       "model_id": "2424339d2e1146bab098eda7c8ab59c3",
       "version_major": 2,
       "version_minor": 0
      },
      "text/plain": [
       "FloatSlider(value=1e-05, continuous_update=False, description='116', max=0.9999, min=1e-05, readout_format='.5…"
      ]
     },
     "metadata": {},
     "output_type": "display_data"
    },
    {
     "data": {
      "application/vnd.jupyter.widget-view+json": {
       "model_id": "f2525071bc564531ae86bbd2758406d5",
       "version_major": 2,
       "version_minor": 0
      },
      "text/plain": [
       "FloatSlider(value=1e-05, continuous_update=False, description='117', max=0.9999, min=1e-05, readout_format='.5…"
      ]
     },
     "metadata": {},
     "output_type": "display_data"
    },
    {
     "data": {
      "application/vnd.jupyter.widget-view+json": {
       "model_id": "66ebaa02d1f74e51a82af12f4712a3af",
       "version_major": 2,
       "version_minor": 0
      },
      "text/plain": [
       "FloatSlider(value=1e-05, continuous_update=False, description='118', max=0.9999, min=1e-05, readout_format='.5…"
      ]
     },
     "metadata": {},
     "output_type": "display_data"
    },
    {
     "data": {
      "application/vnd.jupyter.widget-view+json": {
       "model_id": "74ff75b5732d43aabd6cde952242a256",
       "version_major": 2,
       "version_minor": 0
      },
      "text/plain": [
       "FloatSlider(value=1e-05, continuous_update=False, description='119', max=0.9999, min=1e-05, readout_format='.5…"
      ]
     },
     "metadata": {},
     "output_type": "display_data"
    },
    {
     "data": {
      "application/vnd.jupyter.widget-view+json": {
       "model_id": "23c10a69c3eb4754b8ce7ec884b0bd1b",
       "version_major": 2,
       "version_minor": 0
      },
      "text/plain": [
       "FloatSlider(value=1e-05, continuous_update=False, description='120', max=0.9999, min=1e-05, readout_format='.5…"
      ]
     },
     "metadata": {},
     "output_type": "display_data"
    },
    {
     "data": {
      "application/vnd.jupyter.widget-view+json": {
       "model_id": "f68d375c9d9b4d1fb77521164c671e85",
       "version_major": 2,
       "version_minor": 0
      },
      "text/plain": [
       "FloatSlider(value=1e-05, continuous_update=False, description='121', max=0.9999, min=1e-05, readout_format='.5…"
      ]
     },
     "metadata": {},
     "output_type": "display_data"
    },
    {
     "data": {
      "application/vnd.jupyter.widget-view+json": {
       "model_id": "222e46e2eccc41edb85bd2f26ee27634",
       "version_major": 2,
       "version_minor": 0
      },
      "text/plain": [
       "FloatSlider(value=1e-05, continuous_update=False, description='122', max=0.9999, min=1e-05, readout_format='.5…"
      ]
     },
     "metadata": {},
     "output_type": "display_data"
    },
    {
     "data": {
      "application/vnd.jupyter.widget-view+json": {
       "model_id": "43b63c2ac38b48d49108de84092fd49f",
       "version_major": 2,
       "version_minor": 0
      },
      "text/plain": [
       "FloatSlider(value=1e-05, continuous_update=False, description='123', max=0.9999, min=1e-05, readout_format='.5…"
      ]
     },
     "metadata": {},
     "output_type": "display_data"
    },
    {
     "data": {
      "application/vnd.jupyter.widget-view+json": {
       "model_id": "4a824854fc8b4c69a10923386e9a2c79",
       "version_major": 2,
       "version_minor": 0
      },
      "text/plain": [
       "FloatSlider(value=1e-05, continuous_update=False, description='124', max=0.9999, min=1e-05, readout_format='.5…"
      ]
     },
     "metadata": {},
     "output_type": "display_data"
    },
    {
     "data": {
      "application/vnd.jupyter.widget-view+json": {
       "model_id": "d1c8ae75c642407c8c99cbac0c8b6c84",
       "version_major": 2,
       "version_minor": 0
      },
      "text/plain": [
       "FloatSlider(value=1e-05, continuous_update=False, description='125', max=0.9999, min=1e-05, readout_format='.5…"
      ]
     },
     "metadata": {},
     "output_type": "display_data"
    },
    {
     "data": {
      "application/vnd.jupyter.widget-view+json": {
       "model_id": "916dfffbf28d4cb2a98384bfb5bf9420",
       "version_major": 2,
       "version_minor": 0
      },
      "text/plain": [
       "FloatSlider(value=1e-05, continuous_update=False, description='126', max=0.9999, min=1e-05, readout_format='.5…"
      ]
     },
     "metadata": {},
     "output_type": "display_data"
    },
    {
     "data": {
      "application/vnd.jupyter.widget-view+json": {
       "model_id": "beb5f4ffb87a405aa092c9ef576c43ba",
       "version_major": 2,
       "version_minor": 0
      },
      "text/plain": [
       "FloatSlider(value=1e-05, continuous_update=False, description='127', max=0.9999, min=1e-05, readout_format='.5…"
      ]
     },
     "metadata": {},
     "output_type": "display_data"
    },
    {
     "data": {
      "application/vnd.jupyter.widget-view+json": {
       "model_id": "78b89362f5594ceb8651968d7b056661",
       "version_major": 2,
       "version_minor": 0
      },
      "text/plain": [
       "FloatSlider(value=1e-05, continuous_update=False, description='128', max=0.9999, min=1e-05, readout_format='.5…"
      ]
     },
     "metadata": {},
     "output_type": "display_data"
    },
    {
     "data": {
      "application/vnd.jupyter.widget-view+json": {
       "model_id": "3290420478044d3ab63860ec5aa199ea",
       "version_major": 2,
       "version_minor": 0
      },
      "text/plain": [
       "Button(description='Apply Slider Weights', style=ButtonStyle())"
      ]
     },
     "metadata": {},
     "output_type": "display_data"
    },
    {
     "data": {
      "application/vnd.jupyter.widget-view+json": {
       "model_id": "0229fc3291f2481a88d8a34e005f4a84",
       "version_major": 2,
       "version_minor": 0
      },
      "text/plain": [
       "Button(description='Reset Plot', style=ButtonStyle())"
      ]
     },
     "metadata": {},
     "output_type": "display_data"
    },
    {
     "name": "stdout",
     "output_type": "stream",
     "text": [
      "The sparsity of clusters is:  1.1754943508222875e-38\n",
      "The sparsity of clusters is:  4.995850990994722e-38\n"
     ]
    }
   ],
   "source": [
    "sliders = create_sliders(weights)"
   ]
  },
  {
   "cell_type": "markdown",
   "metadata": {},
   "source": [
    "## Dimension Reduction Plot\n",
    "This shows the HD data in 2D form, such that **proximity == similarity**, based on the current slider weights.  Distances between points in the plot approximately reflect their distances in the weighted HD data.  Thus points near each other have similar HD data values in the up-weighted dimensions, and points far away have very different HD data values in those dimensions.\n",
    "\n",
    "The color represents the **relevance** of each point to the current slider weights. Yellower points have larger values in up-weighted dimensions.\n",
    "\n",
    "Points can be **selected** to highlight in Green and view their details below.  Points can be **dragged** to specify a new projection for learning weights, see below. To reset the plot and clear the selections, click the **Reset** button above."
   ]
  },
  {
   "cell_type": "code",
   "execution_count": 21,
   "metadata": {
    "scrolled": false
   },
   "outputs": [
    {
     "data": {
      "application/javascript": [
       "/* Put everything inside the global mpl namespace */\n",
       "/* global mpl */\n",
       "window.mpl = {};\n",
       "\n",
       "mpl.get_websocket_type = function () {\n",
       "    if (typeof WebSocket !== 'undefined') {\n",
       "        return WebSocket;\n",
       "    } else if (typeof MozWebSocket !== 'undefined') {\n",
       "        return MozWebSocket;\n",
       "    } else {\n",
       "        alert(\n",
       "            'Your browser does not have WebSocket support. ' +\n",
       "                'Please try Chrome, Safari or Firefox ≥ 6. ' +\n",
       "                'Firefox 4 and 5 are also supported but you ' +\n",
       "                'have to enable WebSockets in about:config.'\n",
       "        );\n",
       "    }\n",
       "};\n",
       "\n",
       "mpl.figure = function (figure_id, websocket, ondownload, parent_element) {\n",
       "    this.id = figure_id;\n",
       "\n",
       "    this.ws = websocket;\n",
       "\n",
       "    this.supports_binary = this.ws.binaryType !== undefined;\n",
       "\n",
       "    if (!this.supports_binary) {\n",
       "        var warnings = document.getElementById('mpl-warnings');\n",
       "        if (warnings) {\n",
       "            warnings.style.display = 'block';\n",
       "            warnings.textContent =\n",
       "                'This browser does not support binary websocket messages. ' +\n",
       "                'Performance may be slow.';\n",
       "        }\n",
       "    }\n",
       "\n",
       "    this.imageObj = new Image();\n",
       "\n",
       "    this.context = undefined;\n",
       "    this.message = undefined;\n",
       "    this.canvas = undefined;\n",
       "    this.rubberband_canvas = undefined;\n",
       "    this.rubberband_context = undefined;\n",
       "    this.format_dropdown = undefined;\n",
       "\n",
       "    this.image_mode = 'full';\n",
       "\n",
       "    this.root = document.createElement('div');\n",
       "    this.root.setAttribute('style', 'display: inline-block');\n",
       "    this._root_extra_style(this.root);\n",
       "\n",
       "    parent_element.appendChild(this.root);\n",
       "\n",
       "    this._init_header(this);\n",
       "    this._init_canvas(this);\n",
       "    this._init_toolbar(this);\n",
       "\n",
       "    var fig = this;\n",
       "\n",
       "    this.waiting = false;\n",
       "\n",
       "    this.ws.onopen = function () {\n",
       "        fig.send_message('supports_binary', { value: fig.supports_binary });\n",
       "        fig.send_message('send_image_mode', {});\n",
       "        if (fig.ratio !== 1) {\n",
       "            fig.send_message('set_dpi_ratio', { dpi_ratio: fig.ratio });\n",
       "        }\n",
       "        fig.send_message('refresh', {});\n",
       "    };\n",
       "\n",
       "    this.imageObj.onload = function () {\n",
       "        if (fig.image_mode === 'full') {\n",
       "            // Full images could contain transparency (where diff images\n",
       "            // almost always do), so we need to clear the canvas so that\n",
       "            // there is no ghosting.\n",
       "            fig.context.clearRect(0, 0, fig.canvas.width, fig.canvas.height);\n",
       "        }\n",
       "        fig.context.drawImage(fig.imageObj, 0, 0);\n",
       "    };\n",
       "\n",
       "    this.imageObj.onunload = function () {\n",
       "        fig.ws.close();\n",
       "    };\n",
       "\n",
       "    this.ws.onmessage = this._make_on_message_function(this);\n",
       "\n",
       "    this.ondownload = ondownload;\n",
       "};\n",
       "\n",
       "mpl.figure.prototype._init_header = function () {\n",
       "    var titlebar = document.createElement('div');\n",
       "    titlebar.classList =\n",
       "        'ui-dialog-titlebar ui-widget-header ui-corner-all ui-helper-clearfix';\n",
       "    var titletext = document.createElement('div');\n",
       "    titletext.classList = 'ui-dialog-title';\n",
       "    titletext.setAttribute(\n",
       "        'style',\n",
       "        'width: 100%; text-align: center; padding: 3px;'\n",
       "    );\n",
       "    titlebar.appendChild(titletext);\n",
       "    this.root.appendChild(titlebar);\n",
       "    this.header = titletext;\n",
       "};\n",
       "\n",
       "mpl.figure.prototype._canvas_extra_style = function (_canvas_div) {};\n",
       "\n",
       "mpl.figure.prototype._root_extra_style = function (_canvas_div) {};\n",
       "\n",
       "mpl.figure.prototype._init_canvas = function () {\n",
       "    var fig = this;\n",
       "\n",
       "    var canvas_div = (this.canvas_div = document.createElement('div'));\n",
       "    canvas_div.setAttribute(\n",
       "        'style',\n",
       "        'border: 1px solid #ddd;' +\n",
       "            'box-sizing: content-box;' +\n",
       "            'clear: both;' +\n",
       "            'min-height: 1px;' +\n",
       "            'min-width: 1px;' +\n",
       "            'outline: 0;' +\n",
       "            'overflow: hidden;' +\n",
       "            'position: relative;' +\n",
       "            'resize: both;'\n",
       "    );\n",
       "\n",
       "    function on_keyboard_event_closure(name) {\n",
       "        return function (event) {\n",
       "            return fig.key_event(event, name);\n",
       "        };\n",
       "    }\n",
       "\n",
       "    canvas_div.addEventListener(\n",
       "        'keydown',\n",
       "        on_keyboard_event_closure('key_press')\n",
       "    );\n",
       "    canvas_div.addEventListener(\n",
       "        'keyup',\n",
       "        on_keyboard_event_closure('key_release')\n",
       "    );\n",
       "\n",
       "    this._canvas_extra_style(canvas_div);\n",
       "    this.root.appendChild(canvas_div);\n",
       "\n",
       "    var canvas = (this.canvas = document.createElement('canvas'));\n",
       "    canvas.classList.add('mpl-canvas');\n",
       "    canvas.setAttribute('style', 'box-sizing: content-box;');\n",
       "\n",
       "    this.context = canvas.getContext('2d');\n",
       "\n",
       "    var backingStore =\n",
       "        this.context.backingStorePixelRatio ||\n",
       "        this.context.webkitBackingStorePixelRatio ||\n",
       "        this.context.mozBackingStorePixelRatio ||\n",
       "        this.context.msBackingStorePixelRatio ||\n",
       "        this.context.oBackingStorePixelRatio ||\n",
       "        this.context.backingStorePixelRatio ||\n",
       "        1;\n",
       "\n",
       "    this.ratio = (window.devicePixelRatio || 1) / backingStore;\n",
       "    if (this.ratio !== 1) {\n",
       "        fig.send_message('set_dpi_ratio', { dpi_ratio: this.ratio });\n",
       "    }\n",
       "\n",
       "    var rubberband_canvas = (this.rubberband_canvas = document.createElement(\n",
       "        'canvas'\n",
       "    ));\n",
       "    rubberband_canvas.setAttribute(\n",
       "        'style',\n",
       "        'box-sizing: content-box; position: absolute; left: 0; top: 0; z-index: 1;'\n",
       "    );\n",
       "\n",
       "    var resizeObserver = new ResizeObserver(function (entries) {\n",
       "        var nentries = entries.length;\n",
       "        for (var i = 0; i < nentries; i++) {\n",
       "            var entry = entries[i];\n",
       "            var width, height;\n",
       "            if (entry.contentBoxSize) {\n",
       "                if (entry.contentBoxSize instanceof Array) {\n",
       "                    // Chrome 84 implements new version of spec.\n",
       "                    width = entry.contentBoxSize[0].inlineSize;\n",
       "                    height = entry.contentBoxSize[0].blockSize;\n",
       "                } else {\n",
       "                    // Firefox implements old version of spec.\n",
       "                    width = entry.contentBoxSize.inlineSize;\n",
       "                    height = entry.contentBoxSize.blockSize;\n",
       "                }\n",
       "            } else {\n",
       "                // Chrome <84 implements even older version of spec.\n",
       "                width = entry.contentRect.width;\n",
       "                height = entry.contentRect.height;\n",
       "            }\n",
       "\n",
       "            // Keep the size of the canvas and rubber band canvas in sync with\n",
       "            // the canvas container.\n",
       "            if (entry.devicePixelContentBoxSize) {\n",
       "                // Chrome 84 implements new version of spec.\n",
       "                canvas.setAttribute(\n",
       "                    'width',\n",
       "                    entry.devicePixelContentBoxSize[0].inlineSize\n",
       "                );\n",
       "                canvas.setAttribute(\n",
       "                    'height',\n",
       "                    entry.devicePixelContentBoxSize[0].blockSize\n",
       "                );\n",
       "            } else {\n",
       "                canvas.setAttribute('width', width * fig.ratio);\n",
       "                canvas.setAttribute('height', height * fig.ratio);\n",
       "            }\n",
       "            canvas.setAttribute(\n",
       "                'style',\n",
       "                'width: ' + width + 'px; height: ' + height + 'px;'\n",
       "            );\n",
       "\n",
       "            rubberband_canvas.setAttribute('width', width);\n",
       "            rubberband_canvas.setAttribute('height', height);\n",
       "\n",
       "            // And update the size in Python. We ignore the initial 0/0 size\n",
       "            // that occurs as the element is placed into the DOM, which should\n",
       "            // otherwise not happen due to the minimum size styling.\n",
       "            if (width != 0 && height != 0) {\n",
       "                fig.request_resize(width, height);\n",
       "            }\n",
       "        }\n",
       "    });\n",
       "    resizeObserver.observe(canvas_div);\n",
       "\n",
       "    function on_mouse_event_closure(name) {\n",
       "        return function (event) {\n",
       "            return fig.mouse_event(event, name);\n",
       "        };\n",
       "    }\n",
       "\n",
       "    rubberband_canvas.addEventListener(\n",
       "        'mousedown',\n",
       "        on_mouse_event_closure('button_press')\n",
       "    );\n",
       "    rubberband_canvas.addEventListener(\n",
       "        'mouseup',\n",
       "        on_mouse_event_closure('button_release')\n",
       "    );\n",
       "    // Throttle sequential mouse events to 1 every 20ms.\n",
       "    rubberband_canvas.addEventListener(\n",
       "        'mousemove',\n",
       "        on_mouse_event_closure('motion_notify')\n",
       "    );\n",
       "\n",
       "    rubberband_canvas.addEventListener(\n",
       "        'mouseenter',\n",
       "        on_mouse_event_closure('figure_enter')\n",
       "    );\n",
       "    rubberband_canvas.addEventListener(\n",
       "        'mouseleave',\n",
       "        on_mouse_event_closure('figure_leave')\n",
       "    );\n",
       "\n",
       "    canvas_div.addEventListener('wheel', function (event) {\n",
       "        if (event.deltaY < 0) {\n",
       "            event.step = 1;\n",
       "        } else {\n",
       "            event.step = -1;\n",
       "        }\n",
       "        on_mouse_event_closure('scroll')(event);\n",
       "    });\n",
       "\n",
       "    canvas_div.appendChild(canvas);\n",
       "    canvas_div.appendChild(rubberband_canvas);\n",
       "\n",
       "    this.rubberband_context = rubberband_canvas.getContext('2d');\n",
       "    this.rubberband_context.strokeStyle = '#000000';\n",
       "\n",
       "    this._resize_canvas = function (width, height, forward) {\n",
       "        if (forward) {\n",
       "            canvas_div.style.width = width + 'px';\n",
       "            canvas_div.style.height = height + 'px';\n",
       "        }\n",
       "    };\n",
       "\n",
       "    // Disable right mouse context menu.\n",
       "    this.rubberband_canvas.addEventListener('contextmenu', function (_e) {\n",
       "        event.preventDefault();\n",
       "        return false;\n",
       "    });\n",
       "\n",
       "    function set_focus() {\n",
       "        canvas.focus();\n",
       "        canvas_div.focus();\n",
       "    }\n",
       "\n",
       "    window.setTimeout(set_focus, 100);\n",
       "};\n",
       "\n",
       "mpl.figure.prototype._init_toolbar = function () {\n",
       "    var fig = this;\n",
       "\n",
       "    var toolbar = document.createElement('div');\n",
       "    toolbar.classList = 'mpl-toolbar';\n",
       "    this.root.appendChild(toolbar);\n",
       "\n",
       "    function on_click_closure(name) {\n",
       "        return function (_event) {\n",
       "            return fig.toolbar_button_onclick(name);\n",
       "        };\n",
       "    }\n",
       "\n",
       "    function on_mouseover_closure(tooltip) {\n",
       "        return function (event) {\n",
       "            if (!event.currentTarget.disabled) {\n",
       "                return fig.toolbar_button_onmouseover(tooltip);\n",
       "            }\n",
       "        };\n",
       "    }\n",
       "\n",
       "    fig.buttons = {};\n",
       "    var buttonGroup = document.createElement('div');\n",
       "    buttonGroup.classList = 'mpl-button-group';\n",
       "    for (var toolbar_ind in mpl.toolbar_items) {\n",
       "        var name = mpl.toolbar_items[toolbar_ind][0];\n",
       "        var tooltip = mpl.toolbar_items[toolbar_ind][1];\n",
       "        var image = mpl.toolbar_items[toolbar_ind][2];\n",
       "        var method_name = mpl.toolbar_items[toolbar_ind][3];\n",
       "\n",
       "        if (!name) {\n",
       "            /* Instead of a spacer, we start a new button group. */\n",
       "            if (buttonGroup.hasChildNodes()) {\n",
       "                toolbar.appendChild(buttonGroup);\n",
       "            }\n",
       "            buttonGroup = document.createElement('div');\n",
       "            buttonGroup.classList = 'mpl-button-group';\n",
       "            continue;\n",
       "        }\n",
       "\n",
       "        var button = (fig.buttons[name] = document.createElement('button'));\n",
       "        button.classList = 'mpl-widget';\n",
       "        button.setAttribute('role', 'button');\n",
       "        button.setAttribute('aria-disabled', 'false');\n",
       "        button.addEventListener('click', on_click_closure(method_name));\n",
       "        button.addEventListener('mouseover', on_mouseover_closure(tooltip));\n",
       "\n",
       "        var icon_img = document.createElement('img');\n",
       "        icon_img.src = '_images/' + image + '.png';\n",
       "        icon_img.srcset = '_images/' + image + '_large.png 2x';\n",
       "        icon_img.alt = tooltip;\n",
       "        button.appendChild(icon_img);\n",
       "\n",
       "        buttonGroup.appendChild(button);\n",
       "    }\n",
       "\n",
       "    if (buttonGroup.hasChildNodes()) {\n",
       "        toolbar.appendChild(buttonGroup);\n",
       "    }\n",
       "\n",
       "    var fmt_picker = document.createElement('select');\n",
       "    fmt_picker.classList = 'mpl-widget';\n",
       "    toolbar.appendChild(fmt_picker);\n",
       "    this.format_dropdown = fmt_picker;\n",
       "\n",
       "    for (var ind in mpl.extensions) {\n",
       "        var fmt = mpl.extensions[ind];\n",
       "        var option = document.createElement('option');\n",
       "        option.selected = fmt === mpl.default_extension;\n",
       "        option.innerHTML = fmt;\n",
       "        fmt_picker.appendChild(option);\n",
       "    }\n",
       "\n",
       "    var status_bar = document.createElement('span');\n",
       "    status_bar.classList = 'mpl-message';\n",
       "    toolbar.appendChild(status_bar);\n",
       "    this.message = status_bar;\n",
       "};\n",
       "\n",
       "mpl.figure.prototype.request_resize = function (x_pixels, y_pixels) {\n",
       "    // Request matplotlib to resize the figure. Matplotlib will then trigger a resize in the client,\n",
       "    // which will in turn request a refresh of the image.\n",
       "    this.send_message('resize', { width: x_pixels, height: y_pixels });\n",
       "};\n",
       "\n",
       "mpl.figure.prototype.send_message = function (type, properties) {\n",
       "    properties['type'] = type;\n",
       "    properties['figure_id'] = this.id;\n",
       "    this.ws.send(JSON.stringify(properties));\n",
       "};\n",
       "\n",
       "mpl.figure.prototype.send_draw_message = function () {\n",
       "    if (!this.waiting) {\n",
       "        this.waiting = true;\n",
       "        this.ws.send(JSON.stringify({ type: 'draw', figure_id: this.id }));\n",
       "    }\n",
       "};\n",
       "\n",
       "mpl.figure.prototype.handle_save = function (fig, _msg) {\n",
       "    var format_dropdown = fig.format_dropdown;\n",
       "    var format = format_dropdown.options[format_dropdown.selectedIndex].value;\n",
       "    fig.ondownload(fig, format);\n",
       "};\n",
       "\n",
       "mpl.figure.prototype.handle_resize = function (fig, msg) {\n",
       "    var size = msg['size'];\n",
       "    if (size[0] !== fig.canvas.width || size[1] !== fig.canvas.height) {\n",
       "        fig._resize_canvas(size[0], size[1], msg['forward']);\n",
       "        fig.send_message('refresh', {});\n",
       "    }\n",
       "};\n",
       "\n",
       "mpl.figure.prototype.handle_rubberband = function (fig, msg) {\n",
       "    var x0 = msg['x0'] / fig.ratio;\n",
       "    var y0 = (fig.canvas.height - msg['y0']) / fig.ratio;\n",
       "    var x1 = msg['x1'] / fig.ratio;\n",
       "    var y1 = (fig.canvas.height - msg['y1']) / fig.ratio;\n",
       "    x0 = Math.floor(x0) + 0.5;\n",
       "    y0 = Math.floor(y0) + 0.5;\n",
       "    x1 = Math.floor(x1) + 0.5;\n",
       "    y1 = Math.floor(y1) + 0.5;\n",
       "    var min_x = Math.min(x0, x1);\n",
       "    var min_y = Math.min(y0, y1);\n",
       "    var width = Math.abs(x1 - x0);\n",
       "    var height = Math.abs(y1 - y0);\n",
       "\n",
       "    fig.rubberband_context.clearRect(\n",
       "        0,\n",
       "        0,\n",
       "        fig.canvas.width / fig.ratio,\n",
       "        fig.canvas.height / fig.ratio\n",
       "    );\n",
       "\n",
       "    fig.rubberband_context.strokeRect(min_x, min_y, width, height);\n",
       "};\n",
       "\n",
       "mpl.figure.prototype.handle_figure_label = function (fig, msg) {\n",
       "    // Updates the figure title.\n",
       "    fig.header.textContent = msg['label'];\n",
       "};\n",
       "\n",
       "mpl.figure.prototype.handle_cursor = function (fig, msg) {\n",
       "    var cursor = msg['cursor'];\n",
       "    switch (cursor) {\n",
       "        case 0:\n",
       "            cursor = 'pointer';\n",
       "            break;\n",
       "        case 1:\n",
       "            cursor = 'default';\n",
       "            break;\n",
       "        case 2:\n",
       "            cursor = 'crosshair';\n",
       "            break;\n",
       "        case 3:\n",
       "            cursor = 'move';\n",
       "            break;\n",
       "    }\n",
       "    fig.rubberband_canvas.style.cursor = cursor;\n",
       "};\n",
       "\n",
       "mpl.figure.prototype.handle_message = function (fig, msg) {\n",
       "    fig.message.textContent = msg['message'];\n",
       "};\n",
       "\n",
       "mpl.figure.prototype.handle_draw = function (fig, _msg) {\n",
       "    // Request the server to send over a new figure.\n",
       "    fig.send_draw_message();\n",
       "};\n",
       "\n",
       "mpl.figure.prototype.handle_image_mode = function (fig, msg) {\n",
       "    fig.image_mode = msg['mode'];\n",
       "};\n",
       "\n",
       "mpl.figure.prototype.handle_history_buttons = function (fig, msg) {\n",
       "    for (var key in msg) {\n",
       "        if (!(key in fig.buttons)) {\n",
       "            continue;\n",
       "        }\n",
       "        fig.buttons[key].disabled = !msg[key];\n",
       "        fig.buttons[key].setAttribute('aria-disabled', !msg[key]);\n",
       "    }\n",
       "};\n",
       "\n",
       "mpl.figure.prototype.handle_navigate_mode = function (fig, msg) {\n",
       "    if (msg['mode'] === 'PAN') {\n",
       "        fig.buttons['Pan'].classList.add('active');\n",
       "        fig.buttons['Zoom'].classList.remove('active');\n",
       "    } else if (msg['mode'] === 'ZOOM') {\n",
       "        fig.buttons['Pan'].classList.remove('active');\n",
       "        fig.buttons['Zoom'].classList.add('active');\n",
       "    } else {\n",
       "        fig.buttons['Pan'].classList.remove('active');\n",
       "        fig.buttons['Zoom'].classList.remove('active');\n",
       "    }\n",
       "};\n",
       "\n",
       "mpl.figure.prototype.updated_canvas_event = function () {\n",
       "    // Called whenever the canvas gets updated.\n",
       "    this.send_message('ack', {});\n",
       "};\n",
       "\n",
       "// A function to construct a web socket function for onmessage handling.\n",
       "// Called in the figure constructor.\n",
       "mpl.figure.prototype._make_on_message_function = function (fig) {\n",
       "    return function socket_on_message(evt) {\n",
       "        if (evt.data instanceof Blob) {\n",
       "            /* FIXME: We get \"Resource interpreted as Image but\n",
       "             * transferred with MIME type text/plain:\" errors on\n",
       "             * Chrome.  But how to set the MIME type?  It doesn't seem\n",
       "             * to be part of the websocket stream */\n",
       "            evt.data.type = 'image/png';\n",
       "\n",
       "            /* Free the memory for the previous frames */\n",
       "            if (fig.imageObj.src) {\n",
       "                (window.URL || window.webkitURL).revokeObjectURL(\n",
       "                    fig.imageObj.src\n",
       "                );\n",
       "            }\n",
       "\n",
       "            fig.imageObj.src = (window.URL || window.webkitURL).createObjectURL(\n",
       "                evt.data\n",
       "            );\n",
       "            fig.updated_canvas_event();\n",
       "            fig.waiting = false;\n",
       "            return;\n",
       "        } else if (\n",
       "            typeof evt.data === 'string' &&\n",
       "            evt.data.slice(0, 21) === 'data:image/png;base64'\n",
       "        ) {\n",
       "            fig.imageObj.src = evt.data;\n",
       "            fig.updated_canvas_event();\n",
       "            fig.waiting = false;\n",
       "            return;\n",
       "        }\n",
       "\n",
       "        var msg = JSON.parse(evt.data);\n",
       "        var msg_type = msg['type'];\n",
       "\n",
       "        // Call the  \"handle_{type}\" callback, which takes\n",
       "        // the figure and JSON message as its only arguments.\n",
       "        try {\n",
       "            var callback = fig['handle_' + msg_type];\n",
       "        } catch (e) {\n",
       "            console.log(\n",
       "                \"No handler for the '\" + msg_type + \"' message type: \",\n",
       "                msg\n",
       "            );\n",
       "            return;\n",
       "        }\n",
       "\n",
       "        if (callback) {\n",
       "            try {\n",
       "                // console.log(\"Handling '\" + msg_type + \"' message: \", msg);\n",
       "                callback(fig, msg);\n",
       "            } catch (e) {\n",
       "                console.log(\n",
       "                    \"Exception inside the 'handler_\" + msg_type + \"' callback:\",\n",
       "                    e,\n",
       "                    e.stack,\n",
       "                    msg\n",
       "                );\n",
       "            }\n",
       "        }\n",
       "    };\n",
       "};\n",
       "\n",
       "// from http://stackoverflow.com/questions/1114465/getting-mouse-location-in-canvas\n",
       "mpl.findpos = function (e) {\n",
       "    //this section is from http://www.quirksmode.org/js/events_properties.html\n",
       "    var targ;\n",
       "    if (!e) {\n",
       "        e = window.event;\n",
       "    }\n",
       "    if (e.target) {\n",
       "        targ = e.target;\n",
       "    } else if (e.srcElement) {\n",
       "        targ = e.srcElement;\n",
       "    }\n",
       "    if (targ.nodeType === 3) {\n",
       "        // defeat Safari bug\n",
       "        targ = targ.parentNode;\n",
       "    }\n",
       "\n",
       "    // pageX,Y are the mouse positions relative to the document\n",
       "    var boundingRect = targ.getBoundingClientRect();\n",
       "    var x = e.pageX - (boundingRect.left + document.body.scrollLeft);\n",
       "    var y = e.pageY - (boundingRect.top + document.body.scrollTop);\n",
       "\n",
       "    return { x: x, y: y };\n",
       "};\n",
       "\n",
       "/*\n",
       " * return a copy of an object with only non-object keys\n",
       " * we need this to avoid circular references\n",
       " * http://stackoverflow.com/a/24161582/3208463\n",
       " */\n",
       "function simpleKeys(original) {\n",
       "    return Object.keys(original).reduce(function (obj, key) {\n",
       "        if (typeof original[key] !== 'object') {\n",
       "            obj[key] = original[key];\n",
       "        }\n",
       "        return obj;\n",
       "    }, {});\n",
       "}\n",
       "\n",
       "mpl.figure.prototype.mouse_event = function (event, name) {\n",
       "    var canvas_pos = mpl.findpos(event);\n",
       "\n",
       "    if (name === 'button_press') {\n",
       "        this.canvas.focus();\n",
       "        this.canvas_div.focus();\n",
       "    }\n",
       "\n",
       "    var x = canvas_pos.x * this.ratio;\n",
       "    var y = canvas_pos.y * this.ratio;\n",
       "\n",
       "    this.send_message(name, {\n",
       "        x: x,\n",
       "        y: y,\n",
       "        button: event.button,\n",
       "        step: event.step,\n",
       "        guiEvent: simpleKeys(event),\n",
       "    });\n",
       "\n",
       "    /* This prevents the web browser from automatically changing to\n",
       "     * the text insertion cursor when the button is pressed.  We want\n",
       "     * to control all of the cursor setting manually through the\n",
       "     * 'cursor' event from matplotlib */\n",
       "    event.preventDefault();\n",
       "    return false;\n",
       "};\n",
       "\n",
       "mpl.figure.prototype._key_event_extra = function (_event, _name) {\n",
       "    // Handle any extra behaviour associated with a key event\n",
       "};\n",
       "\n",
       "mpl.figure.prototype.key_event = function (event, name) {\n",
       "    // Prevent repeat events\n",
       "    if (name === 'key_press') {\n",
       "        if (event.which === this._key) {\n",
       "            return;\n",
       "        } else {\n",
       "            this._key = event.which;\n",
       "        }\n",
       "    }\n",
       "    if (name === 'key_release') {\n",
       "        this._key = null;\n",
       "    }\n",
       "\n",
       "    var value = '';\n",
       "    if (event.ctrlKey && event.which !== 17) {\n",
       "        value += 'ctrl+';\n",
       "    }\n",
       "    if (event.altKey && event.which !== 18) {\n",
       "        value += 'alt+';\n",
       "    }\n",
       "    if (event.shiftKey && event.which !== 16) {\n",
       "        value += 'shift+';\n",
       "    }\n",
       "\n",
       "    value += 'k';\n",
       "    value += event.which.toString();\n",
       "\n",
       "    this._key_event_extra(event, name);\n",
       "\n",
       "    this.send_message(name, { key: value, guiEvent: simpleKeys(event) });\n",
       "    return false;\n",
       "};\n",
       "\n",
       "mpl.figure.prototype.toolbar_button_onclick = function (name) {\n",
       "    if (name === 'download') {\n",
       "        this.handle_save(this, null);\n",
       "    } else {\n",
       "        this.send_message('toolbar_button', { name: name });\n",
       "    }\n",
       "};\n",
       "\n",
       "mpl.figure.prototype.toolbar_button_onmouseover = function (tooltip) {\n",
       "    this.message.textContent = tooltip;\n",
       "};\n",
       "mpl.toolbar_items = [[\"Home\", \"Reset original view\", \"fa fa-home icon-home\", \"home\"], [\"Back\", \"Back to previous view\", \"fa fa-arrow-left icon-arrow-left\", \"back\"], [\"Forward\", \"Forward to next view\", \"fa fa-arrow-right icon-arrow-right\", \"forward\"], [\"\", \"\", \"\", \"\"], [\"Pan\", \"Left button pans, Right button zooms\\nx/y fixes axis, CTRL fixes aspect\", \"fa fa-arrows icon-move\", \"pan\"], [\"Zoom\", \"Zoom to rectangle\\nx/y fixes axis, CTRL fixes aspect\", \"fa fa-square-o icon-check-empty\", \"zoom\"], [\"\", \"\", \"\", \"\"], [\"Download\", \"Download plot\", \"fa fa-floppy-o icon-save\", \"download\"]];\n",
       "\n",
       "mpl.extensions = [\"eps\", \"jpeg\", \"pdf\", \"png\", \"ps\", \"raw\", \"svg\", \"tif\"];\n",
       "\n",
       "mpl.default_extension = \"png\";/* global mpl */\n",
       "\n",
       "var comm_websocket_adapter = function (comm) {\n",
       "    // Create a \"websocket\"-like object which calls the given IPython comm\n",
       "    // object with the appropriate methods. Currently this is a non binary\n",
       "    // socket, so there is still some room for performance tuning.\n",
       "    var ws = {};\n",
       "\n",
       "    ws.close = function () {\n",
       "        comm.close();\n",
       "    };\n",
       "    ws.send = function (m) {\n",
       "        //console.log('sending', m);\n",
       "        comm.send(m);\n",
       "    };\n",
       "    // Register the callback with on_msg.\n",
       "    comm.on_msg(function (msg) {\n",
       "        //console.log('receiving', msg['content']['data'], msg);\n",
       "        // Pass the mpl event to the overridden (by mpl) onmessage function.\n",
       "        ws.onmessage(msg['content']['data']);\n",
       "    });\n",
       "    return ws;\n",
       "};\n",
       "\n",
       "mpl.mpl_figure_comm = function (comm, msg) {\n",
       "    // This is the function which gets called when the mpl process\n",
       "    // starts-up an IPython Comm through the \"matplotlib\" channel.\n",
       "\n",
       "    var id = msg.content.data.id;\n",
       "    // Get hold of the div created by the display call when the Comm\n",
       "    // socket was opened in Python.\n",
       "    var element = document.getElementById(id);\n",
       "    var ws_proxy = comm_websocket_adapter(comm);\n",
       "\n",
       "    function ondownload(figure, _format) {\n",
       "        window.open(figure.canvas.toDataURL());\n",
       "    }\n",
       "\n",
       "    var fig = new mpl.figure(id, ws_proxy, ondownload, element);\n",
       "\n",
       "    // Call onopen now - mpl needs it, as it is assuming we've passed it a real\n",
       "    // web socket which is closed, not our websocket->open comm proxy.\n",
       "    ws_proxy.onopen();\n",
       "\n",
       "    fig.parent_element = element;\n",
       "    fig.cell_info = mpl.find_output_cell(\"<div id='\" + id + \"'></div>\");\n",
       "    if (!fig.cell_info) {\n",
       "        console.error('Failed to find cell for figure', id, fig);\n",
       "        return;\n",
       "    }\n",
       "    fig.cell_info[0].output_area.element.one(\n",
       "        'cleared',\n",
       "        { fig: fig },\n",
       "        fig._remove_fig_handler\n",
       "    );\n",
       "};\n",
       "\n",
       "mpl.figure.prototype.handle_close = function (fig, msg) {\n",
       "    var width = fig.canvas.width / fig.ratio;\n",
       "    fig.cell_info[0].output_area.element.off(\n",
       "        'cleared',\n",
       "        fig._remove_fig_handler\n",
       "    );\n",
       "\n",
       "    // Update the output cell to use the data from the current canvas.\n",
       "    fig.push_to_output();\n",
       "    var dataURL = fig.canvas.toDataURL();\n",
       "    // Re-enable the keyboard manager in IPython - without this line, in FF,\n",
       "    // the notebook keyboard shortcuts fail.\n",
       "    IPython.keyboard_manager.enable();\n",
       "    fig.parent_element.innerHTML =\n",
       "        '<img src=\"' + dataURL + '\" width=\"' + width + '\">';\n",
       "    fig.close_ws(fig, msg);\n",
       "};\n",
       "\n",
       "mpl.figure.prototype.close_ws = function (fig, msg) {\n",
       "    fig.send_message('closing', msg);\n",
       "    // fig.ws.close()\n",
       "};\n",
       "\n",
       "mpl.figure.prototype.push_to_output = function (_remove_interactive) {\n",
       "    // Turn the data on the canvas into data in the output cell.\n",
       "    var width = this.canvas.width / this.ratio;\n",
       "    var dataURL = this.canvas.toDataURL();\n",
       "    this.cell_info[1]['text/html'] =\n",
       "        '<img src=\"' + dataURL + '\" width=\"' + width + '\">';\n",
       "};\n",
       "\n",
       "mpl.figure.prototype.updated_canvas_event = function () {\n",
       "    // Tell IPython that the notebook contents must change.\n",
       "    IPython.notebook.set_dirty(true);\n",
       "    this.send_message('ack', {});\n",
       "    var fig = this;\n",
       "    // Wait a second, then push the new image to the DOM so\n",
       "    // that it is saved nicely (might be nice to debounce this).\n",
       "    setTimeout(function () {\n",
       "        fig.push_to_output();\n",
       "    }, 1000);\n",
       "};\n",
       "\n",
       "mpl.figure.prototype._init_toolbar = function () {\n",
       "    var fig = this;\n",
       "\n",
       "    var toolbar = document.createElement('div');\n",
       "    toolbar.classList = 'btn-toolbar';\n",
       "    this.root.appendChild(toolbar);\n",
       "\n",
       "    function on_click_closure(name) {\n",
       "        return function (_event) {\n",
       "            return fig.toolbar_button_onclick(name);\n",
       "        };\n",
       "    }\n",
       "\n",
       "    function on_mouseover_closure(tooltip) {\n",
       "        return function (event) {\n",
       "            if (!event.currentTarget.disabled) {\n",
       "                return fig.toolbar_button_onmouseover(tooltip);\n",
       "            }\n",
       "        };\n",
       "    }\n",
       "\n",
       "    fig.buttons = {};\n",
       "    var buttonGroup = document.createElement('div');\n",
       "    buttonGroup.classList = 'btn-group';\n",
       "    var button;\n",
       "    for (var toolbar_ind in mpl.toolbar_items) {\n",
       "        var name = mpl.toolbar_items[toolbar_ind][0];\n",
       "        var tooltip = mpl.toolbar_items[toolbar_ind][1];\n",
       "        var image = mpl.toolbar_items[toolbar_ind][2];\n",
       "        var method_name = mpl.toolbar_items[toolbar_ind][3];\n",
       "\n",
       "        if (!name) {\n",
       "            /* Instead of a spacer, we start a new button group. */\n",
       "            if (buttonGroup.hasChildNodes()) {\n",
       "                toolbar.appendChild(buttonGroup);\n",
       "            }\n",
       "            buttonGroup = document.createElement('div');\n",
       "            buttonGroup.classList = 'btn-group';\n",
       "            continue;\n",
       "        }\n",
       "\n",
       "        button = fig.buttons[name] = document.createElement('button');\n",
       "        button.classList = 'btn btn-default';\n",
       "        button.href = '#';\n",
       "        button.title = name;\n",
       "        button.innerHTML = '<i class=\"fa ' + image + ' fa-lg\"></i>';\n",
       "        button.addEventListener('click', on_click_closure(method_name));\n",
       "        button.addEventListener('mouseover', on_mouseover_closure(tooltip));\n",
       "        buttonGroup.appendChild(button);\n",
       "    }\n",
       "\n",
       "    if (buttonGroup.hasChildNodes()) {\n",
       "        toolbar.appendChild(buttonGroup);\n",
       "    }\n",
       "\n",
       "    // Add the status bar.\n",
       "    var status_bar = document.createElement('span');\n",
       "    status_bar.classList = 'mpl-message pull-right';\n",
       "    toolbar.appendChild(status_bar);\n",
       "    this.message = status_bar;\n",
       "\n",
       "    // Add the close button to the window.\n",
       "    var buttongrp = document.createElement('div');\n",
       "    buttongrp.classList = 'btn-group inline pull-right';\n",
       "    button = document.createElement('button');\n",
       "    button.classList = 'btn btn-mini btn-primary';\n",
       "    button.href = '#';\n",
       "    button.title = 'Stop Interaction';\n",
       "    button.innerHTML = '<i class=\"fa fa-power-off icon-remove icon-large\"></i>';\n",
       "    button.addEventListener('click', function (_evt) {\n",
       "        fig.handle_close(fig, {});\n",
       "    });\n",
       "    button.addEventListener(\n",
       "        'mouseover',\n",
       "        on_mouseover_closure('Stop Interaction')\n",
       "    );\n",
       "    buttongrp.appendChild(button);\n",
       "    var titlebar = this.root.querySelector('.ui-dialog-titlebar');\n",
       "    titlebar.insertBefore(buttongrp, titlebar.firstChild);\n",
       "};\n",
       "\n",
       "mpl.figure.prototype._remove_fig_handler = function (event) {\n",
       "    var fig = event.data.fig;\n",
       "    fig.close_ws(fig, {});\n",
       "};\n",
       "\n",
       "mpl.figure.prototype._root_extra_style = function (el) {\n",
       "    el.style.boxSizing = 'content-box'; // override notebook setting of border-box.\n",
       "};\n",
       "\n",
       "mpl.figure.prototype._canvas_extra_style = function (el) {\n",
       "    // this is important to make the div 'focusable\n",
       "    el.setAttribute('tabindex', 0);\n",
       "    // reach out to IPython and tell the keyboard manager to turn it's self\n",
       "    // off when our div gets focus\n",
       "\n",
       "    // location in version 3\n",
       "    if (IPython.notebook.keyboard_manager) {\n",
       "        IPython.notebook.keyboard_manager.register_events(el);\n",
       "    } else {\n",
       "        // location in version 2\n",
       "        IPython.keyboard_manager.register_events(el);\n",
       "    }\n",
       "};\n",
       "\n",
       "mpl.figure.prototype._key_event_extra = function (event, _name) {\n",
       "    var manager = IPython.notebook.keyboard_manager;\n",
       "    if (!manager) {\n",
       "        manager = IPython.keyboard_manager;\n",
       "    }\n",
       "\n",
       "    // Check for shift+enter\n",
       "    if (event.shiftKey && event.which === 13) {\n",
       "        this.canvas_div.blur();\n",
       "        // select the cell after this one\n",
       "        var index = IPython.notebook.find_cell_index(this.cell_info[0]);\n",
       "        IPython.notebook.select(index + 1);\n",
       "    }\n",
       "};\n",
       "\n",
       "mpl.figure.prototype.handle_save = function (fig, _msg) {\n",
       "    fig.ondownload(fig, null);\n",
       "};\n",
       "\n",
       "mpl.find_output_cell = function (html_output) {\n",
       "    // Return the cell and output element which can be found *uniquely* in the notebook.\n",
       "    // Note - this is a bit hacky, but it is done because the \"notebook_saving.Notebook\"\n",
       "    // IPython event is triggered only after the cells have been serialised, which for\n",
       "    // our purposes (turning an active figure into a static one), is too late.\n",
       "    var cells = IPython.notebook.get_cells();\n",
       "    var ncells = cells.length;\n",
       "    for (var i = 0; i < ncells; i++) {\n",
       "        var cell = cells[i];\n",
       "        if (cell.cell_type === 'code') {\n",
       "            for (var j = 0; j < cell.output_area.outputs.length; j++) {\n",
       "                var data = cell.output_area.outputs[j];\n",
       "                if (data.data) {\n",
       "                    // IPython >= 3 moved mimebundle to data attribute of output\n",
       "                    data = data.data;\n",
       "                }\n",
       "                if (data['text/html'] === html_output) {\n",
       "                    return [cell, data, j];\n",
       "                }\n",
       "            }\n",
       "        }\n",
       "    }\n",
       "};\n",
       "\n",
       "// Register the function which deals with the matplotlib target/channel.\n",
       "// The kernel may be null if the page has been refreshed.\n",
       "if (IPython.notebook.kernel !== null) {\n",
       "    IPython.notebook.kernel.comm_manager.register_target(\n",
       "        'matplotlib',\n",
       "        mpl.mpl_figure_comm\n",
       "    );\n",
       "}\n"
      ],
      "text/plain": [
       "<IPython.core.display.Javascript object>"
      ]
     },
     "metadata": {},
     "output_type": "display_data"
    },
    {
     "data": {
      "text/html": [
       "<img src=\"data:image/png;base64,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\" width=\"800\">"
      ],
      "text/plain": [
       "<IPython.core.display.HTML object>"
      ]
     },
     "metadata": {},
     "output_type": "display_data"
    },
    {
     "name": "stdout",
     "output_type": "stream",
     "text": [
      "The sparsity of clusters is:  1.1754943508222875e-38\n"
     ]
    }
   ],
   "source": [
    "plot_ax = create_plot(df_2D)"
   ]
  },
  {
   "cell_type": "markdown",
   "metadata": {},
   "source": [
    "##  Selected Points Details\n",
    "Click the **Print** button below to display detailed data values of the points selected in the DR plot.  The selected points are Green."
   ]
  },
  {
   "cell_type": "code",
   "execution_count": 22,
   "metadata": {
    "scrolled": false
   },
   "outputs": [
    {
     "data": {
      "application/vnd.jupyter.widget-view+json": {
       "model_id": "d587c269a8a44c7ca0e0254d6ab35e60",
       "version_major": 2,
       "version_minor": 0
      },
      "text/plain": [
       "Button(description='Print selected points', style=ButtonStyle())"
      ]
     },
     "metadata": {},
     "output_type": "display_data"
    },
    {
     "data": {
      "application/vnd.jupyter.widget-view+json": {
       "model_id": "22a831b937844a47b83023a209510912",
       "version_major": 2,
       "version_minor": 0
      },
      "text/plain": [
       "Output()"
      ]
     },
     "metadata": {},
     "output_type": "display_data"
    }
   ],
   "source": [
    "dod = create_detail_display()"
   ]
  },
  {
   "cell_type": "markdown",
   "metadata": {},
   "source": [
    "## Inverse Dimension Reduction\n",
    "After selecting and/or dragging some points in the DR plot, click the **Learn** button to machine learn new dimension weights that would produce a plot with similar pairwise distances as your plot.  **Only the Green selected points** in the plot are considered when learning new weights. You must select or move at least two points to specify new desired distances. Use this to create your own clusters, and find out what makes some data points similar to or different from others.  The **learned weights** are shown in a bar chart below.\n",
    "\n",
    "To see the effects of the learned weights, click the **Copy** button to apply the learned weights to the sliders and  make a new DR plot above."
   ]
  },
  {
   "cell_type": "code",
   "execution_count": 23,
   "metadata": {
    "scrolled": false
   },
   "outputs": [
    {
     "data": {
      "application/vnd.jupyter.widget-view+json": {
       "model_id": "5c95688ec99548498ee3f99a387c86cf",
       "version_major": 2,
       "version_minor": 0
      },
      "text/plain": [
       "Button(description='Learn New Weights', style=ButtonStyle())"
      ]
     },
     "metadata": {},
     "output_type": "display_data"
    },
    {
     "data": {
      "application/vnd.jupyter.widget-view+json": {
       "model_id": "488e56969170441ba81ef54539d53976",
       "version_major": 2,
       "version_minor": 0
      },
      "text/plain": [
       "Button(description='Copy to Sliders', style=ButtonStyle())"
      ]
     },
     "metadata": {},
     "output_type": "display_data"
    },
    {
     "data": {
      "application/javascript": [
       "/* Put everything inside the global mpl namespace */\n",
       "/* global mpl */\n",
       "window.mpl = {};\n",
       "\n",
       "mpl.get_websocket_type = function () {\n",
       "    if (typeof WebSocket !== 'undefined') {\n",
       "        return WebSocket;\n",
       "    } else if (typeof MozWebSocket !== 'undefined') {\n",
       "        return MozWebSocket;\n",
       "    } else {\n",
       "        alert(\n",
       "            'Your browser does not have WebSocket support. ' +\n",
       "                'Please try Chrome, Safari or Firefox ≥ 6. ' +\n",
       "                'Firefox 4 and 5 are also supported but you ' +\n",
       "                'have to enable WebSockets in about:config.'\n",
       "        );\n",
       "    }\n",
       "};\n",
       "\n",
       "mpl.figure = function (figure_id, websocket, ondownload, parent_element) {\n",
       "    this.id = figure_id;\n",
       "\n",
       "    this.ws = websocket;\n",
       "\n",
       "    this.supports_binary = this.ws.binaryType !== undefined;\n",
       "\n",
       "    if (!this.supports_binary) {\n",
       "        var warnings = document.getElementById('mpl-warnings');\n",
       "        if (warnings) {\n",
       "            warnings.style.display = 'block';\n",
       "            warnings.textContent =\n",
       "                'This browser does not support binary websocket messages. ' +\n",
       "                'Performance may be slow.';\n",
       "        }\n",
       "    }\n",
       "\n",
       "    this.imageObj = new Image();\n",
       "\n",
       "    this.context = undefined;\n",
       "    this.message = undefined;\n",
       "    this.canvas = undefined;\n",
       "    this.rubberband_canvas = undefined;\n",
       "    this.rubberband_context = undefined;\n",
       "    this.format_dropdown = undefined;\n",
       "\n",
       "    this.image_mode = 'full';\n",
       "\n",
       "    this.root = document.createElement('div');\n",
       "    this.root.setAttribute('style', 'display: inline-block');\n",
       "    this._root_extra_style(this.root);\n",
       "\n",
       "    parent_element.appendChild(this.root);\n",
       "\n",
       "    this._init_header(this);\n",
       "    this._init_canvas(this);\n",
       "    this._init_toolbar(this);\n",
       "\n",
       "    var fig = this;\n",
       "\n",
       "    this.waiting = false;\n",
       "\n",
       "    this.ws.onopen = function () {\n",
       "        fig.send_message('supports_binary', { value: fig.supports_binary });\n",
       "        fig.send_message('send_image_mode', {});\n",
       "        if (fig.ratio !== 1) {\n",
       "            fig.send_message('set_dpi_ratio', { dpi_ratio: fig.ratio });\n",
       "        }\n",
       "        fig.send_message('refresh', {});\n",
       "    };\n",
       "\n",
       "    this.imageObj.onload = function () {\n",
       "        if (fig.image_mode === 'full') {\n",
       "            // Full images could contain transparency (where diff images\n",
       "            // almost always do), so we need to clear the canvas so that\n",
       "            // there is no ghosting.\n",
       "            fig.context.clearRect(0, 0, fig.canvas.width, fig.canvas.height);\n",
       "        }\n",
       "        fig.context.drawImage(fig.imageObj, 0, 0);\n",
       "    };\n",
       "\n",
       "    this.imageObj.onunload = function () {\n",
       "        fig.ws.close();\n",
       "    };\n",
       "\n",
       "    this.ws.onmessage = this._make_on_message_function(this);\n",
       "\n",
       "    this.ondownload = ondownload;\n",
       "};\n",
       "\n",
       "mpl.figure.prototype._init_header = function () {\n",
       "    var titlebar = document.createElement('div');\n",
       "    titlebar.classList =\n",
       "        'ui-dialog-titlebar ui-widget-header ui-corner-all ui-helper-clearfix';\n",
       "    var titletext = document.createElement('div');\n",
       "    titletext.classList = 'ui-dialog-title';\n",
       "    titletext.setAttribute(\n",
       "        'style',\n",
       "        'width: 100%; text-align: center; padding: 3px;'\n",
       "    );\n",
       "    titlebar.appendChild(titletext);\n",
       "    this.root.appendChild(titlebar);\n",
       "    this.header = titletext;\n",
       "};\n",
       "\n",
       "mpl.figure.prototype._canvas_extra_style = function (_canvas_div) {};\n",
       "\n",
       "mpl.figure.prototype._root_extra_style = function (_canvas_div) {};\n",
       "\n",
       "mpl.figure.prototype._init_canvas = function () {\n",
       "    var fig = this;\n",
       "\n",
       "    var canvas_div = (this.canvas_div = document.createElement('div'));\n",
       "    canvas_div.setAttribute(\n",
       "        'style',\n",
       "        'border: 1px solid #ddd;' +\n",
       "            'box-sizing: content-box;' +\n",
       "            'clear: both;' +\n",
       "            'min-height: 1px;' +\n",
       "            'min-width: 1px;' +\n",
       "            'outline: 0;' +\n",
       "            'overflow: hidden;' +\n",
       "            'position: relative;' +\n",
       "            'resize: both;'\n",
       "    );\n",
       "\n",
       "    function on_keyboard_event_closure(name) {\n",
       "        return function (event) {\n",
       "            return fig.key_event(event, name);\n",
       "        };\n",
       "    }\n",
       "\n",
       "    canvas_div.addEventListener(\n",
       "        'keydown',\n",
       "        on_keyboard_event_closure('key_press')\n",
       "    );\n",
       "    canvas_div.addEventListener(\n",
       "        'keyup',\n",
       "        on_keyboard_event_closure('key_release')\n",
       "    );\n",
       "\n",
       "    this._canvas_extra_style(canvas_div);\n",
       "    this.root.appendChild(canvas_div);\n",
       "\n",
       "    var canvas = (this.canvas = document.createElement('canvas'));\n",
       "    canvas.classList.add('mpl-canvas');\n",
       "    canvas.setAttribute('style', 'box-sizing: content-box;');\n",
       "\n",
       "    this.context = canvas.getContext('2d');\n",
       "\n",
       "    var backingStore =\n",
       "        this.context.backingStorePixelRatio ||\n",
       "        this.context.webkitBackingStorePixelRatio ||\n",
       "        this.context.mozBackingStorePixelRatio ||\n",
       "        this.context.msBackingStorePixelRatio ||\n",
       "        this.context.oBackingStorePixelRatio ||\n",
       "        this.context.backingStorePixelRatio ||\n",
       "        1;\n",
       "\n",
       "    this.ratio = (window.devicePixelRatio || 1) / backingStore;\n",
       "    if (this.ratio !== 1) {\n",
       "        fig.send_message('set_dpi_ratio', { dpi_ratio: this.ratio });\n",
       "    }\n",
       "\n",
       "    var rubberband_canvas = (this.rubberband_canvas = document.createElement(\n",
       "        'canvas'\n",
       "    ));\n",
       "    rubberband_canvas.setAttribute(\n",
       "        'style',\n",
       "        'box-sizing: content-box; position: absolute; left: 0; top: 0; z-index: 1;'\n",
       "    );\n",
       "\n",
       "    var resizeObserver = new ResizeObserver(function (entries) {\n",
       "        var nentries = entries.length;\n",
       "        for (var i = 0; i < nentries; i++) {\n",
       "            var entry = entries[i];\n",
       "            var width, height;\n",
       "            if (entry.contentBoxSize) {\n",
       "                if (entry.contentBoxSize instanceof Array) {\n",
       "                    // Chrome 84 implements new version of spec.\n",
       "                    width = entry.contentBoxSize[0].inlineSize;\n",
       "                    height = entry.contentBoxSize[0].blockSize;\n",
       "                } else {\n",
       "                    // Firefox implements old version of spec.\n",
       "                    width = entry.contentBoxSize.inlineSize;\n",
       "                    height = entry.contentBoxSize.blockSize;\n",
       "                }\n",
       "            } else {\n",
       "                // Chrome <84 implements even older version of spec.\n",
       "                width = entry.contentRect.width;\n",
       "                height = entry.contentRect.height;\n",
       "            }\n",
       "\n",
       "            // Keep the size of the canvas and rubber band canvas in sync with\n",
       "            // the canvas container.\n",
       "            if (entry.devicePixelContentBoxSize) {\n",
       "                // Chrome 84 implements new version of spec.\n",
       "                canvas.setAttribute(\n",
       "                    'width',\n",
       "                    entry.devicePixelContentBoxSize[0].inlineSize\n",
       "                );\n",
       "                canvas.setAttribute(\n",
       "                    'height',\n",
       "                    entry.devicePixelContentBoxSize[0].blockSize\n",
       "                );\n",
       "            } else {\n",
       "                canvas.setAttribute('width', width * fig.ratio);\n",
       "                canvas.setAttribute('height', height * fig.ratio);\n",
       "            }\n",
       "            canvas.setAttribute(\n",
       "                'style',\n",
       "                'width: ' + width + 'px; height: ' + height + 'px;'\n",
       "            );\n",
       "\n",
       "            rubberband_canvas.setAttribute('width', width);\n",
       "            rubberband_canvas.setAttribute('height', height);\n",
       "\n",
       "            // And update the size in Python. We ignore the initial 0/0 size\n",
       "            // that occurs as the element is placed into the DOM, which should\n",
       "            // otherwise not happen due to the minimum size styling.\n",
       "            if (width != 0 && height != 0) {\n",
       "                fig.request_resize(width, height);\n",
       "            }\n",
       "        }\n",
       "    });\n",
       "    resizeObserver.observe(canvas_div);\n",
       "\n",
       "    function on_mouse_event_closure(name) {\n",
       "        return function (event) {\n",
       "            return fig.mouse_event(event, name);\n",
       "        };\n",
       "    }\n",
       "\n",
       "    rubberband_canvas.addEventListener(\n",
       "        'mousedown',\n",
       "        on_mouse_event_closure('button_press')\n",
       "    );\n",
       "    rubberband_canvas.addEventListener(\n",
       "        'mouseup',\n",
       "        on_mouse_event_closure('button_release')\n",
       "    );\n",
       "    // Throttle sequential mouse events to 1 every 20ms.\n",
       "    rubberband_canvas.addEventListener(\n",
       "        'mousemove',\n",
       "        on_mouse_event_closure('motion_notify')\n",
       "    );\n",
       "\n",
       "    rubberband_canvas.addEventListener(\n",
       "        'mouseenter',\n",
       "        on_mouse_event_closure('figure_enter')\n",
       "    );\n",
       "    rubberband_canvas.addEventListener(\n",
       "        'mouseleave',\n",
       "        on_mouse_event_closure('figure_leave')\n",
       "    );\n",
       "\n",
       "    canvas_div.addEventListener('wheel', function (event) {\n",
       "        if (event.deltaY < 0) {\n",
       "            event.step = 1;\n",
       "        } else {\n",
       "            event.step = -1;\n",
       "        }\n",
       "        on_mouse_event_closure('scroll')(event);\n",
       "    });\n",
       "\n",
       "    canvas_div.appendChild(canvas);\n",
       "    canvas_div.appendChild(rubberband_canvas);\n",
       "\n",
       "    this.rubberband_context = rubberband_canvas.getContext('2d');\n",
       "    this.rubberband_context.strokeStyle = '#000000';\n",
       "\n",
       "    this._resize_canvas = function (width, height, forward) {\n",
       "        if (forward) {\n",
       "            canvas_div.style.width = width + 'px';\n",
       "            canvas_div.style.height = height + 'px';\n",
       "        }\n",
       "    };\n",
       "\n",
       "    // Disable right mouse context menu.\n",
       "    this.rubberband_canvas.addEventListener('contextmenu', function (_e) {\n",
       "        event.preventDefault();\n",
       "        return false;\n",
       "    });\n",
       "\n",
       "    function set_focus() {\n",
       "        canvas.focus();\n",
       "        canvas_div.focus();\n",
       "    }\n",
       "\n",
       "    window.setTimeout(set_focus, 100);\n",
       "};\n",
       "\n",
       "mpl.figure.prototype._init_toolbar = function () {\n",
       "    var fig = this;\n",
       "\n",
       "    var toolbar = document.createElement('div');\n",
       "    toolbar.classList = 'mpl-toolbar';\n",
       "    this.root.appendChild(toolbar);\n",
       "\n",
       "    function on_click_closure(name) {\n",
       "        return function (_event) {\n",
       "            return fig.toolbar_button_onclick(name);\n",
       "        };\n",
       "    }\n",
       "\n",
       "    function on_mouseover_closure(tooltip) {\n",
       "        return function (event) {\n",
       "            if (!event.currentTarget.disabled) {\n",
       "                return fig.toolbar_button_onmouseover(tooltip);\n",
       "            }\n",
       "        };\n",
       "    }\n",
       "\n",
       "    fig.buttons = {};\n",
       "    var buttonGroup = document.createElement('div');\n",
       "    buttonGroup.classList = 'mpl-button-group';\n",
       "    for (var toolbar_ind in mpl.toolbar_items) {\n",
       "        var name = mpl.toolbar_items[toolbar_ind][0];\n",
       "        var tooltip = mpl.toolbar_items[toolbar_ind][1];\n",
       "        var image = mpl.toolbar_items[toolbar_ind][2];\n",
       "        var method_name = mpl.toolbar_items[toolbar_ind][3];\n",
       "\n",
       "        if (!name) {\n",
       "            /* Instead of a spacer, we start a new button group. */\n",
       "            if (buttonGroup.hasChildNodes()) {\n",
       "                toolbar.appendChild(buttonGroup);\n",
       "            }\n",
       "            buttonGroup = document.createElement('div');\n",
       "            buttonGroup.classList = 'mpl-button-group';\n",
       "            continue;\n",
       "        }\n",
       "\n",
       "        var button = (fig.buttons[name] = document.createElement('button'));\n",
       "        button.classList = 'mpl-widget';\n",
       "        button.setAttribute('role', 'button');\n",
       "        button.setAttribute('aria-disabled', 'false');\n",
       "        button.addEventListener('click', on_click_closure(method_name));\n",
       "        button.addEventListener('mouseover', on_mouseover_closure(tooltip));\n",
       "\n",
       "        var icon_img = document.createElement('img');\n",
       "        icon_img.src = '_images/' + image + '.png';\n",
       "        icon_img.srcset = '_images/' + image + '_large.png 2x';\n",
       "        icon_img.alt = tooltip;\n",
       "        button.appendChild(icon_img);\n",
       "\n",
       "        buttonGroup.appendChild(button);\n",
       "    }\n",
       "\n",
       "    if (buttonGroup.hasChildNodes()) {\n",
       "        toolbar.appendChild(buttonGroup);\n",
       "    }\n",
       "\n",
       "    var fmt_picker = document.createElement('select');\n",
       "    fmt_picker.classList = 'mpl-widget';\n",
       "    toolbar.appendChild(fmt_picker);\n",
       "    this.format_dropdown = fmt_picker;\n",
       "\n",
       "    for (var ind in mpl.extensions) {\n",
       "        var fmt = mpl.extensions[ind];\n",
       "        var option = document.createElement('option');\n",
       "        option.selected = fmt === mpl.default_extension;\n",
       "        option.innerHTML = fmt;\n",
       "        fmt_picker.appendChild(option);\n",
       "    }\n",
       "\n",
       "    var status_bar = document.createElement('span');\n",
       "    status_bar.classList = 'mpl-message';\n",
       "    toolbar.appendChild(status_bar);\n",
       "    this.message = status_bar;\n",
       "};\n",
       "\n",
       "mpl.figure.prototype.request_resize = function (x_pixels, y_pixels) {\n",
       "    // Request matplotlib to resize the figure. Matplotlib will then trigger a resize in the client,\n",
       "    // which will in turn request a refresh of the image.\n",
       "    this.send_message('resize', { width: x_pixels, height: y_pixels });\n",
       "};\n",
       "\n",
       "mpl.figure.prototype.send_message = function (type, properties) {\n",
       "    properties['type'] = type;\n",
       "    properties['figure_id'] = this.id;\n",
       "    this.ws.send(JSON.stringify(properties));\n",
       "};\n",
       "\n",
       "mpl.figure.prototype.send_draw_message = function () {\n",
       "    if (!this.waiting) {\n",
       "        this.waiting = true;\n",
       "        this.ws.send(JSON.stringify({ type: 'draw', figure_id: this.id }));\n",
       "    }\n",
       "};\n",
       "\n",
       "mpl.figure.prototype.handle_save = function (fig, _msg) {\n",
       "    var format_dropdown = fig.format_dropdown;\n",
       "    var format = format_dropdown.options[format_dropdown.selectedIndex].value;\n",
       "    fig.ondownload(fig, format);\n",
       "};\n",
       "\n",
       "mpl.figure.prototype.handle_resize = function (fig, msg) {\n",
       "    var size = msg['size'];\n",
       "    if (size[0] !== fig.canvas.width || size[1] !== fig.canvas.height) {\n",
       "        fig._resize_canvas(size[0], size[1], msg['forward']);\n",
       "        fig.send_message('refresh', {});\n",
       "    }\n",
       "};\n",
       "\n",
       "mpl.figure.prototype.handle_rubberband = function (fig, msg) {\n",
       "    var x0 = msg['x0'] / fig.ratio;\n",
       "    var y0 = (fig.canvas.height - msg['y0']) / fig.ratio;\n",
       "    var x1 = msg['x1'] / fig.ratio;\n",
       "    var y1 = (fig.canvas.height - msg['y1']) / fig.ratio;\n",
       "    x0 = Math.floor(x0) + 0.5;\n",
       "    y0 = Math.floor(y0) + 0.5;\n",
       "    x1 = Math.floor(x1) + 0.5;\n",
       "    y1 = Math.floor(y1) + 0.5;\n",
       "    var min_x = Math.min(x0, x1);\n",
       "    var min_y = Math.min(y0, y1);\n",
       "    var width = Math.abs(x1 - x0);\n",
       "    var height = Math.abs(y1 - y0);\n",
       "\n",
       "    fig.rubberband_context.clearRect(\n",
       "        0,\n",
       "        0,\n",
       "        fig.canvas.width / fig.ratio,\n",
       "        fig.canvas.height / fig.ratio\n",
       "    );\n",
       "\n",
       "    fig.rubberband_context.strokeRect(min_x, min_y, width, height);\n",
       "};\n",
       "\n",
       "mpl.figure.prototype.handle_figure_label = function (fig, msg) {\n",
       "    // Updates the figure title.\n",
       "    fig.header.textContent = msg['label'];\n",
       "};\n",
       "\n",
       "mpl.figure.prototype.handle_cursor = function (fig, msg) {\n",
       "    var cursor = msg['cursor'];\n",
       "    switch (cursor) {\n",
       "        case 0:\n",
       "            cursor = 'pointer';\n",
       "            break;\n",
       "        case 1:\n",
       "            cursor = 'default';\n",
       "            break;\n",
       "        case 2:\n",
       "            cursor = 'crosshair';\n",
       "            break;\n",
       "        case 3:\n",
       "            cursor = 'move';\n",
       "            break;\n",
       "    }\n",
       "    fig.rubberband_canvas.style.cursor = cursor;\n",
       "};\n",
       "\n",
       "mpl.figure.prototype.handle_message = function (fig, msg) {\n",
       "    fig.message.textContent = msg['message'];\n",
       "};\n",
       "\n",
       "mpl.figure.prototype.handle_draw = function (fig, _msg) {\n",
       "    // Request the server to send over a new figure.\n",
       "    fig.send_draw_message();\n",
       "};\n",
       "\n",
       "mpl.figure.prototype.handle_image_mode = function (fig, msg) {\n",
       "    fig.image_mode = msg['mode'];\n",
       "};\n",
       "\n",
       "mpl.figure.prototype.handle_history_buttons = function (fig, msg) {\n",
       "    for (var key in msg) {\n",
       "        if (!(key in fig.buttons)) {\n",
       "            continue;\n",
       "        }\n",
       "        fig.buttons[key].disabled = !msg[key];\n",
       "        fig.buttons[key].setAttribute('aria-disabled', !msg[key]);\n",
       "    }\n",
       "};\n",
       "\n",
       "mpl.figure.prototype.handle_navigate_mode = function (fig, msg) {\n",
       "    if (msg['mode'] === 'PAN') {\n",
       "        fig.buttons['Pan'].classList.add('active');\n",
       "        fig.buttons['Zoom'].classList.remove('active');\n",
       "    } else if (msg['mode'] === 'ZOOM') {\n",
       "        fig.buttons['Pan'].classList.remove('active');\n",
       "        fig.buttons['Zoom'].classList.add('active');\n",
       "    } else {\n",
       "        fig.buttons['Pan'].classList.remove('active');\n",
       "        fig.buttons['Zoom'].classList.remove('active');\n",
       "    }\n",
       "};\n",
       "\n",
       "mpl.figure.prototype.updated_canvas_event = function () {\n",
       "    // Called whenever the canvas gets updated.\n",
       "    this.send_message('ack', {});\n",
       "};\n",
       "\n",
       "// A function to construct a web socket function for onmessage handling.\n",
       "// Called in the figure constructor.\n",
       "mpl.figure.prototype._make_on_message_function = function (fig) {\n",
       "    return function socket_on_message(evt) {\n",
       "        if (evt.data instanceof Blob) {\n",
       "            /* FIXME: We get \"Resource interpreted as Image but\n",
       "             * transferred with MIME type text/plain:\" errors on\n",
       "             * Chrome.  But how to set the MIME type?  It doesn't seem\n",
       "             * to be part of the websocket stream */\n",
       "            evt.data.type = 'image/png';\n",
       "\n",
       "            /* Free the memory for the previous frames */\n",
       "            if (fig.imageObj.src) {\n",
       "                (window.URL || window.webkitURL).revokeObjectURL(\n",
       "                    fig.imageObj.src\n",
       "                );\n",
       "            }\n",
       "\n",
       "            fig.imageObj.src = (window.URL || window.webkitURL).createObjectURL(\n",
       "                evt.data\n",
       "            );\n",
       "            fig.updated_canvas_event();\n",
       "            fig.waiting = false;\n",
       "            return;\n",
       "        } else if (\n",
       "            typeof evt.data === 'string' &&\n",
       "            evt.data.slice(0, 21) === 'data:image/png;base64'\n",
       "        ) {\n",
       "            fig.imageObj.src = evt.data;\n",
       "            fig.updated_canvas_event();\n",
       "            fig.waiting = false;\n",
       "            return;\n",
       "        }\n",
       "\n",
       "        var msg = JSON.parse(evt.data);\n",
       "        var msg_type = msg['type'];\n",
       "\n",
       "        // Call the  \"handle_{type}\" callback, which takes\n",
       "        // the figure and JSON message as its only arguments.\n",
       "        try {\n",
       "            var callback = fig['handle_' + msg_type];\n",
       "        } catch (e) {\n",
       "            console.log(\n",
       "                \"No handler for the '\" + msg_type + \"' message type: \",\n",
       "                msg\n",
       "            );\n",
       "            return;\n",
       "        }\n",
       "\n",
       "        if (callback) {\n",
       "            try {\n",
       "                // console.log(\"Handling '\" + msg_type + \"' message: \", msg);\n",
       "                callback(fig, msg);\n",
       "            } catch (e) {\n",
       "                console.log(\n",
       "                    \"Exception inside the 'handler_\" + msg_type + \"' callback:\",\n",
       "                    e,\n",
       "                    e.stack,\n",
       "                    msg\n",
       "                );\n",
       "            }\n",
       "        }\n",
       "    };\n",
       "};\n",
       "\n",
       "// from http://stackoverflow.com/questions/1114465/getting-mouse-location-in-canvas\n",
       "mpl.findpos = function (e) {\n",
       "    //this section is from http://www.quirksmode.org/js/events_properties.html\n",
       "    var targ;\n",
       "    if (!e) {\n",
       "        e = window.event;\n",
       "    }\n",
       "    if (e.target) {\n",
       "        targ = e.target;\n",
       "    } else if (e.srcElement) {\n",
       "        targ = e.srcElement;\n",
       "    }\n",
       "    if (targ.nodeType === 3) {\n",
       "        // defeat Safari bug\n",
       "        targ = targ.parentNode;\n",
       "    }\n",
       "\n",
       "    // pageX,Y are the mouse positions relative to the document\n",
       "    var boundingRect = targ.getBoundingClientRect();\n",
       "    var x = e.pageX - (boundingRect.left + document.body.scrollLeft);\n",
       "    var y = e.pageY - (boundingRect.top + document.body.scrollTop);\n",
       "\n",
       "    return { x: x, y: y };\n",
       "};\n",
       "\n",
       "/*\n",
       " * return a copy of an object with only non-object keys\n",
       " * we need this to avoid circular references\n",
       " * http://stackoverflow.com/a/24161582/3208463\n",
       " */\n",
       "function simpleKeys(original) {\n",
       "    return Object.keys(original).reduce(function (obj, key) {\n",
       "        if (typeof original[key] !== 'object') {\n",
       "            obj[key] = original[key];\n",
       "        }\n",
       "        return obj;\n",
       "    }, {});\n",
       "}\n",
       "\n",
       "mpl.figure.prototype.mouse_event = function (event, name) {\n",
       "    var canvas_pos = mpl.findpos(event);\n",
       "\n",
       "    if (name === 'button_press') {\n",
       "        this.canvas.focus();\n",
       "        this.canvas_div.focus();\n",
       "    }\n",
       "\n",
       "    var x = canvas_pos.x * this.ratio;\n",
       "    var y = canvas_pos.y * this.ratio;\n",
       "\n",
       "    this.send_message(name, {\n",
       "        x: x,\n",
       "        y: y,\n",
       "        button: event.button,\n",
       "        step: event.step,\n",
       "        guiEvent: simpleKeys(event),\n",
       "    });\n",
       "\n",
       "    /* This prevents the web browser from automatically changing to\n",
       "     * the text insertion cursor when the button is pressed.  We want\n",
       "     * to control all of the cursor setting manually through the\n",
       "     * 'cursor' event from matplotlib */\n",
       "    event.preventDefault();\n",
       "    return false;\n",
       "};\n",
       "\n",
       "mpl.figure.prototype._key_event_extra = function (_event, _name) {\n",
       "    // Handle any extra behaviour associated with a key event\n",
       "};\n",
       "\n",
       "mpl.figure.prototype.key_event = function (event, name) {\n",
       "    // Prevent repeat events\n",
       "    if (name === 'key_press') {\n",
       "        if (event.which === this._key) {\n",
       "            return;\n",
       "        } else {\n",
       "            this._key = event.which;\n",
       "        }\n",
       "    }\n",
       "    if (name === 'key_release') {\n",
       "        this._key = null;\n",
       "    }\n",
       "\n",
       "    var value = '';\n",
       "    if (event.ctrlKey && event.which !== 17) {\n",
       "        value += 'ctrl+';\n",
       "    }\n",
       "    if (event.altKey && event.which !== 18) {\n",
       "        value += 'alt+';\n",
       "    }\n",
       "    if (event.shiftKey && event.which !== 16) {\n",
       "        value += 'shift+';\n",
       "    }\n",
       "\n",
       "    value += 'k';\n",
       "    value += event.which.toString();\n",
       "\n",
       "    this._key_event_extra(event, name);\n",
       "\n",
       "    this.send_message(name, { key: value, guiEvent: simpleKeys(event) });\n",
       "    return false;\n",
       "};\n",
       "\n",
       "mpl.figure.prototype.toolbar_button_onclick = function (name) {\n",
       "    if (name === 'download') {\n",
       "        this.handle_save(this, null);\n",
       "    } else {\n",
       "        this.send_message('toolbar_button', { name: name });\n",
       "    }\n",
       "};\n",
       "\n",
       "mpl.figure.prototype.toolbar_button_onmouseover = function (tooltip) {\n",
       "    this.message.textContent = tooltip;\n",
       "};\n",
       "mpl.toolbar_items = [[\"Home\", \"Reset original view\", \"fa fa-home icon-home\", \"home\"], [\"Back\", \"Back to previous view\", \"fa fa-arrow-left icon-arrow-left\", \"back\"], [\"Forward\", \"Forward to next view\", \"fa fa-arrow-right icon-arrow-right\", \"forward\"], [\"\", \"\", \"\", \"\"], [\"Pan\", \"Left button pans, Right button zooms\\nx/y fixes axis, CTRL fixes aspect\", \"fa fa-arrows icon-move\", \"pan\"], [\"Zoom\", \"Zoom to rectangle\\nx/y fixes axis, CTRL fixes aspect\", \"fa fa-square-o icon-check-empty\", \"zoom\"], [\"\", \"\", \"\", \"\"], [\"Download\", \"Download plot\", \"fa fa-floppy-o icon-save\", \"download\"]];\n",
       "\n",
       "mpl.extensions = [\"eps\", \"jpeg\", \"pdf\", \"png\", \"ps\", \"raw\", \"svg\", \"tif\"];\n",
       "\n",
       "mpl.default_extension = \"png\";/* global mpl */\n",
       "\n",
       "var comm_websocket_adapter = function (comm) {\n",
       "    // Create a \"websocket\"-like object which calls the given IPython comm\n",
       "    // object with the appropriate methods. Currently this is a non binary\n",
       "    // socket, so there is still some room for performance tuning.\n",
       "    var ws = {};\n",
       "\n",
       "    ws.close = function () {\n",
       "        comm.close();\n",
       "    };\n",
       "    ws.send = function (m) {\n",
       "        //console.log('sending', m);\n",
       "        comm.send(m);\n",
       "    };\n",
       "    // Register the callback with on_msg.\n",
       "    comm.on_msg(function (msg) {\n",
       "        //console.log('receiving', msg['content']['data'], msg);\n",
       "        // Pass the mpl event to the overridden (by mpl) onmessage function.\n",
       "        ws.onmessage(msg['content']['data']);\n",
       "    });\n",
       "    return ws;\n",
       "};\n",
       "\n",
       "mpl.mpl_figure_comm = function (comm, msg) {\n",
       "    // This is the function which gets called when the mpl process\n",
       "    // starts-up an IPython Comm through the \"matplotlib\" channel.\n",
       "\n",
       "    var id = msg.content.data.id;\n",
       "    // Get hold of the div created by the display call when the Comm\n",
       "    // socket was opened in Python.\n",
       "    var element = document.getElementById(id);\n",
       "    var ws_proxy = comm_websocket_adapter(comm);\n",
       "\n",
       "    function ondownload(figure, _format) {\n",
       "        window.open(figure.canvas.toDataURL());\n",
       "    }\n",
       "\n",
       "    var fig = new mpl.figure(id, ws_proxy, ondownload, element);\n",
       "\n",
       "    // Call onopen now - mpl needs it, as it is assuming we've passed it a real\n",
       "    // web socket which is closed, not our websocket->open comm proxy.\n",
       "    ws_proxy.onopen();\n",
       "\n",
       "    fig.parent_element = element;\n",
       "    fig.cell_info = mpl.find_output_cell(\"<div id='\" + id + \"'></div>\");\n",
       "    if (!fig.cell_info) {\n",
       "        console.error('Failed to find cell for figure', id, fig);\n",
       "        return;\n",
       "    }\n",
       "    fig.cell_info[0].output_area.element.one(\n",
       "        'cleared',\n",
       "        { fig: fig },\n",
       "        fig._remove_fig_handler\n",
       "    );\n",
       "};\n",
       "\n",
       "mpl.figure.prototype.handle_close = function (fig, msg) {\n",
       "    var width = fig.canvas.width / fig.ratio;\n",
       "    fig.cell_info[0].output_area.element.off(\n",
       "        'cleared',\n",
       "        fig._remove_fig_handler\n",
       "    );\n",
       "\n",
       "    // Update the output cell to use the data from the current canvas.\n",
       "    fig.push_to_output();\n",
       "    var dataURL = fig.canvas.toDataURL();\n",
       "    // Re-enable the keyboard manager in IPython - without this line, in FF,\n",
       "    // the notebook keyboard shortcuts fail.\n",
       "    IPython.keyboard_manager.enable();\n",
       "    fig.parent_element.innerHTML =\n",
       "        '<img src=\"' + dataURL + '\" width=\"' + width + '\">';\n",
       "    fig.close_ws(fig, msg);\n",
       "};\n",
       "\n",
       "mpl.figure.prototype.close_ws = function (fig, msg) {\n",
       "    fig.send_message('closing', msg);\n",
       "    // fig.ws.close()\n",
       "};\n",
       "\n",
       "mpl.figure.prototype.push_to_output = function (_remove_interactive) {\n",
       "    // Turn the data on the canvas into data in the output cell.\n",
       "    var width = this.canvas.width / this.ratio;\n",
       "    var dataURL = this.canvas.toDataURL();\n",
       "    this.cell_info[1]['text/html'] =\n",
       "        '<img src=\"' + dataURL + '\" width=\"' + width + '\">';\n",
       "};\n",
       "\n",
       "mpl.figure.prototype.updated_canvas_event = function () {\n",
       "    // Tell IPython that the notebook contents must change.\n",
       "    IPython.notebook.set_dirty(true);\n",
       "    this.send_message('ack', {});\n",
       "    var fig = this;\n",
       "    // Wait a second, then push the new image to the DOM so\n",
       "    // that it is saved nicely (might be nice to debounce this).\n",
       "    setTimeout(function () {\n",
       "        fig.push_to_output();\n",
       "    }, 1000);\n",
       "};\n",
       "\n",
       "mpl.figure.prototype._init_toolbar = function () {\n",
       "    var fig = this;\n",
       "\n",
       "    var toolbar = document.createElement('div');\n",
       "    toolbar.classList = 'btn-toolbar';\n",
       "    this.root.appendChild(toolbar);\n",
       "\n",
       "    function on_click_closure(name) {\n",
       "        return function (_event) {\n",
       "            return fig.toolbar_button_onclick(name);\n",
       "        };\n",
       "    }\n",
       "\n",
       "    function on_mouseover_closure(tooltip) {\n",
       "        return function (event) {\n",
       "            if (!event.currentTarget.disabled) {\n",
       "                return fig.toolbar_button_onmouseover(tooltip);\n",
       "            }\n",
       "        };\n",
       "    }\n",
       "\n",
       "    fig.buttons = {};\n",
       "    var buttonGroup = document.createElement('div');\n",
       "    buttonGroup.classList = 'btn-group';\n",
       "    var button;\n",
       "    for (var toolbar_ind in mpl.toolbar_items) {\n",
       "        var name = mpl.toolbar_items[toolbar_ind][0];\n",
       "        var tooltip = mpl.toolbar_items[toolbar_ind][1];\n",
       "        var image = mpl.toolbar_items[toolbar_ind][2];\n",
       "        var method_name = mpl.toolbar_items[toolbar_ind][3];\n",
       "\n",
       "        if (!name) {\n",
       "            /* Instead of a spacer, we start a new button group. */\n",
       "            if (buttonGroup.hasChildNodes()) {\n",
       "                toolbar.appendChild(buttonGroup);\n",
       "            }\n",
       "            buttonGroup = document.createElement('div');\n",
       "            buttonGroup.classList = 'btn-group';\n",
       "            continue;\n",
       "        }\n",
       "\n",
       "        button = fig.buttons[name] = document.createElement('button');\n",
       "        button.classList = 'btn btn-default';\n",
       "        button.href = '#';\n",
       "        button.title = name;\n",
       "        button.innerHTML = '<i class=\"fa ' + image + ' fa-lg\"></i>';\n",
       "        button.addEventListener('click', on_click_closure(method_name));\n",
       "        button.addEventListener('mouseover', on_mouseover_closure(tooltip));\n",
       "        buttonGroup.appendChild(button);\n",
       "    }\n",
       "\n",
       "    if (buttonGroup.hasChildNodes()) {\n",
       "        toolbar.appendChild(buttonGroup);\n",
       "    }\n",
       "\n",
       "    // Add the status bar.\n",
       "    var status_bar = document.createElement('span');\n",
       "    status_bar.classList = 'mpl-message pull-right';\n",
       "    toolbar.appendChild(status_bar);\n",
       "    this.message = status_bar;\n",
       "\n",
       "    // Add the close button to the window.\n",
       "    var buttongrp = document.createElement('div');\n",
       "    buttongrp.classList = 'btn-group inline pull-right';\n",
       "    button = document.createElement('button');\n",
       "    button.classList = 'btn btn-mini btn-primary';\n",
       "    button.href = '#';\n",
       "    button.title = 'Stop Interaction';\n",
       "    button.innerHTML = '<i class=\"fa fa-power-off icon-remove icon-large\"></i>';\n",
       "    button.addEventListener('click', function (_evt) {\n",
       "        fig.handle_close(fig, {});\n",
       "    });\n",
       "    button.addEventListener(\n",
       "        'mouseover',\n",
       "        on_mouseover_closure('Stop Interaction')\n",
       "    );\n",
       "    buttongrp.appendChild(button);\n",
       "    var titlebar = this.root.querySelector('.ui-dialog-titlebar');\n",
       "    titlebar.insertBefore(buttongrp, titlebar.firstChild);\n",
       "};\n",
       "\n",
       "mpl.figure.prototype._remove_fig_handler = function (event) {\n",
       "    var fig = event.data.fig;\n",
       "    fig.close_ws(fig, {});\n",
       "};\n",
       "\n",
       "mpl.figure.prototype._root_extra_style = function (el) {\n",
       "    el.style.boxSizing = 'content-box'; // override notebook setting of border-box.\n",
       "};\n",
       "\n",
       "mpl.figure.prototype._canvas_extra_style = function (el) {\n",
       "    // this is important to make the div 'focusable\n",
       "    el.setAttribute('tabindex', 0);\n",
       "    // reach out to IPython and tell the keyboard manager to turn it's self\n",
       "    // off when our div gets focus\n",
       "\n",
       "    // location in version 3\n",
       "    if (IPython.notebook.keyboard_manager) {\n",
       "        IPython.notebook.keyboard_manager.register_events(el);\n",
       "    } else {\n",
       "        // location in version 2\n",
       "        IPython.keyboard_manager.register_events(el);\n",
       "    }\n",
       "};\n",
       "\n",
       "mpl.figure.prototype._key_event_extra = function (event, _name) {\n",
       "    var manager = IPython.notebook.keyboard_manager;\n",
       "    if (!manager) {\n",
       "        manager = IPython.keyboard_manager;\n",
       "    }\n",
       "\n",
       "    // Check for shift+enter\n",
       "    if (event.shiftKey && event.which === 13) {\n",
       "        this.canvas_div.blur();\n",
       "        // select the cell after this one\n",
       "        var index = IPython.notebook.find_cell_index(this.cell_info[0]);\n",
       "        IPython.notebook.select(index + 1);\n",
       "    }\n",
       "};\n",
       "\n",
       "mpl.figure.prototype.handle_save = function (fig, _msg) {\n",
       "    fig.ondownload(fig, null);\n",
       "};\n",
       "\n",
       "mpl.find_output_cell = function (html_output) {\n",
       "    // Return the cell and output element which can be found *uniquely* in the notebook.\n",
       "    // Note - this is a bit hacky, but it is done because the \"notebook_saving.Notebook\"\n",
       "    // IPython event is triggered only after the cells have been serialised, which for\n",
       "    // our purposes (turning an active figure into a static one), is too late.\n",
       "    var cells = IPython.notebook.get_cells();\n",
       "    var ncells = cells.length;\n",
       "    for (var i = 0; i < ncells; i++) {\n",
       "        var cell = cells[i];\n",
       "        if (cell.cell_type === 'code') {\n",
       "            for (var j = 0; j < cell.output_area.outputs.length; j++) {\n",
       "                var data = cell.output_area.outputs[j];\n",
       "                if (data.data) {\n",
       "                    // IPython >= 3 moved mimebundle to data attribute of output\n",
       "                    data = data.data;\n",
       "                }\n",
       "                if (data['text/html'] === html_output) {\n",
       "                    return [cell, data, j];\n",
       "                }\n",
       "            }\n",
       "        }\n",
       "    }\n",
       "};\n",
       "\n",
       "// Register the function which deals with the matplotlib target/channel.\n",
       "// The kernel may be null if the page has been refreshed.\n",
       "if (IPython.notebook.kernel !== null) {\n",
       "    IPython.notebook.kernel.comm_manager.register_target(\n",
       "        'matplotlib',\n",
       "        mpl.mpl_figure_comm\n",
       "    );\n",
       "}\n"
      ],
      "text/plain": [
       "<IPython.core.display.Javascript object>"
      ]
     },
     "metadata": {},
     "output_type": "display_data"
    },
    {
     "data": {
      "text/html": [
       "<img src=\"data:image/png;base64,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\" width=\"500\">"
      ],
      "text/plain": [
       "<IPython.core.display.HTML object>"
      ]
     },
     "metadata": {},
     "output_type": "display_data"
    }
   ],
   "source": [
    "inverse = create_inverse_button()"
   ]
  },
  {
   "cell_type": "code",
   "execution_count": 24,
   "metadata": {},
   "outputs": [
    {
     "name": "stdout",
     "output_type": "stream",
     "text": [
      "rm: ./testTrainingData/.DS_Store: No such file or directory\r\n"
     ]
    }
   ],
   "source": [
    "! rm ./testTrainingData/.DS_Store"
   ]
  },
  {
   "cell_type": "code",
   "execution_count": null,
   "metadata": {},
   "outputs": [],
   "source": []
  }
 ],
 "metadata": {
  "kernelspec": {
   "display_name": "Python 3",
   "language": "python",
   "name": "python3"
  },
  "language_info": {
   "codemirror_mode": {
    "name": "ipython",
    "version": 3
   },
   "file_extension": ".py",
   "mimetype": "text/x-python",
   "name": "python",
   "nbconvert_exporter": "python",
   "pygments_lexer": "ipython3",
   "version": "3.7.9"
  }
 },
 "nbformat": 4,
 "nbformat_minor": 1
}
