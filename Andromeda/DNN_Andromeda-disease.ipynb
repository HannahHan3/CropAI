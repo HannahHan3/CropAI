{
 "cells": [
  {
   "cell_type": "markdown",
   "metadata": {},
   "source": [
    "# Andromeda in Jupyter\n",
    "\n",
    "### Interactive Inverse Dimension Reduction \n",
    "\n",
    "This notebook implements interactive dimension reduction (DR) for exploratory analysis of high-dimensional data.\n",
    "It uses a Multi-Dimensional Scaling (MDS) algorithm with a weighted distance metric. It enables both forward and inverse DR interaction. \n",
    "\n",
    "**MDS** projects high-dimensional data to a 2D scatterplot. A **weighted distance function** with user-specified weights on each dimension enables alternative projections that emphasize different dimensions. An **Inverse-DR** algorithm learns distance function weights for  user-constructed layouts of the data points.\n",
    "\n",
    "### Instructions:\n",
    "\n",
    "1. Run All\n",
    "1. Proceed to the interactive plots near the bottom\n",
    "1. There are three kinds of interactions:\n",
    "    1. Select points in the DR plot and click Details to see data values.\n",
    "    1. **Parametric interaction:** Adjust the weight sliders and click Apply to alter the projection plot.\n",
    "    1. **Projection interaction:** Drag points in the projection plot, then click Learn to see learned weights, and click Copy to see the updated projection plot.\n",
    "1. Be patient, its interactive matplotlib in python and Jupyter!\n",
    "\n",
    "### Credits:\n",
    "\n",
    "Authors: Han Liu and Chris North, Dept of Computer Science, Virginia Tech.\n",
    "\n",
    "Based on: *Self JZ, Dowling M, Wenskovitch J, Crandell I, Wang M, House L, Leman S, North C. Observation-Level and Parametric Interaction for High-Dimensional Data Analysis. ACM Transactions on Interactive Intelligent Systems.  8(2), 2018.* https://infovis.cs.vt.edu/sites/default/files/observation-level-parametric_first_look_version.pdf\n"
   ]
  },
  {
   "cell_type": "code",
   "execution_count": 1,
   "metadata": {},
   "outputs": [],
   "source": [
    "%matplotlib notebook\n",
    "# interactive notebook format is required for the interactive plot\n",
    "\n",
    "import numpy as np\n",
    "import pandas as pd\n",
    "import math\n",
    "import random\n",
    "\n",
    "from sklearn.decomposition import PCA\n",
    "from sklearn.manifold import MDS\n",
    "import sklearn.metrics.pairwise\n",
    "\n",
    "import matplotlib\n",
    "import matplotlib.pyplot as plt\n",
    "import ipywidgets as widgets\n",
    "from IPython.display import display"
   ]
  },
  {
   "cell_type": "markdown",
   "metadata": {},
   "source": [
    "# Load and Pre-process Data\n",
    "\n",
    "Change the **filename** to load a dataset.  CSV data file is expected to have a first column 'Name' that is used as the index, and header row of column names.  Numeric columns are used for projection."
   ]
  },
  {
   "cell_type": "code",
   "execution_count": 2,
   "metadata": {},
   "outputs": [
    {
     "name": "stdout",
     "output_type": "stream",
     "text": [
      "ColorHist_Andromeda.ipynb     DNN_Andromeda.ipynb\r\n",
      "DNN_Andromeda-disease.ipynb   OppSift_Andromeda.ipynb\r\n",
      "DNN_Andromeda-lateReady.ipynb Sift_Andromeda.ipynb\r\n"
     ]
    }
   ],
   "source": [
    "! ls "
   ]
  },
  {
   "cell_type": "code",
   "execution_count": 3,
   "metadata": {},
   "outputs": [],
   "source": [
    "# filename = 'Animal_Data_Andromeda.csv'\n",
    "#filename = 'InfoVis_Fall_2015_Survey.csv'\n",
    "filename = '../csvFiles/DNNFeaturesLayer2.csv'\n",
    "df = pd.read_csv(filename)\n",
    "\n",
    "# df['Image'] = df['Image'].apply(lambda x: x.split('_')[2]+ x.split('_')[-2]+x.split('_')[-1])"
   ]
  },
  {
   "cell_type": "code",
   "execution_count": 4,
   "metadata": {},
   "outputs": [
    {
     "data": {
      "text/plain": [
       "(67, 129)"
      ]
     },
     "metadata": {},
     "output_type": "display_data"
    },
    {
     "data": {
      "text/html": [
       "<div>\n",
       "<style scoped>\n",
       "    .dataframe tbody tr th:only-of-type {\n",
       "        vertical-align: middle;\n",
       "    }\n",
       "\n",
       "    .dataframe tbody tr th {\n",
       "        vertical-align: top;\n",
       "    }\n",
       "\n",
       "    .dataframe thead th {\n",
       "        text-align: right;\n",
       "    }\n",
       "</style>\n",
       "<table border=\"1\" class=\"dataframe\">\n",
       "  <thead>\n",
       "    <tr style=\"text-align: right;\">\n",
       "      <th></th>\n",
       "      <th>Image</th>\n",
       "      <th>1</th>\n",
       "      <th>2</th>\n",
       "      <th>3</th>\n",
       "      <th>4</th>\n",
       "      <th>5</th>\n",
       "      <th>6</th>\n",
       "      <th>7</th>\n",
       "      <th>8</th>\n",
       "      <th>9</th>\n",
       "      <th>...</th>\n",
       "      <th>119</th>\n",
       "      <th>120</th>\n",
       "      <th>121</th>\n",
       "      <th>122</th>\n",
       "      <th>123</th>\n",
       "      <th>124</th>\n",
       "      <th>125</th>\n",
       "      <th>126</th>\n",
       "      <th>127</th>\n",
       "      <th>128</th>\n",
       "    </tr>\n",
       "  </thead>\n",
       "  <tbody>\n",
       "    <tr>\n",
       "      <th>0</th>\n",
       "      <td>1802late79</td>\n",
       "      <td>0.068275</td>\n",
       "      <td>0.157592</td>\n",
       "      <td>0.082554</td>\n",
       "      <td>0.064972</td>\n",
       "      <td>0.120839</td>\n",
       "      <td>0.090099</td>\n",
       "      <td>0.026834</td>\n",
       "      <td>0.171146</td>\n",
       "      <td>0.034943</td>\n",
       "      <td>...</td>\n",
       "      <td>0.053138</td>\n",
       "      <td>0.180098</td>\n",
       "      <td>0.093527</td>\n",
       "      <td>0.189275</td>\n",
       "      <td>0.105053</td>\n",
       "      <td>0.173725</td>\n",
       "      <td>0.043706</td>\n",
       "      <td>0.054691</td>\n",
       "      <td>0.308349</td>\n",
       "      <td>0.070121</td>\n",
       "    </tr>\n",
       "    <tr>\n",
       "      <th>1</th>\n",
       "      <td>1802late92</td>\n",
       "      <td>0.049229</td>\n",
       "      <td>0.156108</td>\n",
       "      <td>0.081191</td>\n",
       "      <td>0.055901</td>\n",
       "      <td>0.119174</td>\n",
       "      <td>0.091269</td>\n",
       "      <td>0.021899</td>\n",
       "      <td>0.161272</td>\n",
       "      <td>0.026484</td>\n",
       "      <td>...</td>\n",
       "      <td>0.047123</td>\n",
       "      <td>0.170871</td>\n",
       "      <td>0.095923</td>\n",
       "      <td>0.187704</td>\n",
       "      <td>0.101171</td>\n",
       "      <td>0.174721</td>\n",
       "      <td>0.034620</td>\n",
       "      <td>0.047797</td>\n",
       "      <td>0.303087</td>\n",
       "      <td>0.067094</td>\n",
       "    </tr>\n",
       "    <tr>\n",
       "      <th>2</th>\n",
       "      <td>1802late86</td>\n",
       "      <td>0.048557</td>\n",
       "      <td>0.160526</td>\n",
       "      <td>0.085549</td>\n",
       "      <td>0.061356</td>\n",
       "      <td>0.122491</td>\n",
       "      <td>0.088698</td>\n",
       "      <td>0.026238</td>\n",
       "      <td>0.155925</td>\n",
       "      <td>0.029371</td>\n",
       "      <td>...</td>\n",
       "      <td>0.050919</td>\n",
       "      <td>0.181880</td>\n",
       "      <td>0.092090</td>\n",
       "      <td>0.188571</td>\n",
       "      <td>0.108156</td>\n",
       "      <td>0.173544</td>\n",
       "      <td>0.038042</td>\n",
       "      <td>0.048806</td>\n",
       "      <td>0.307608</td>\n",
       "      <td>0.072931</td>\n",
       "    </tr>\n",
       "    <tr>\n",
       "      <th>3</th>\n",
       "      <td>1802late87</td>\n",
       "      <td>0.055396</td>\n",
       "      <td>0.158305</td>\n",
       "      <td>0.085610</td>\n",
       "      <td>0.059512</td>\n",
       "      <td>0.131009</td>\n",
       "      <td>0.095288</td>\n",
       "      <td>0.025966</td>\n",
       "      <td>0.154091</td>\n",
       "      <td>0.034035</td>\n",
       "      <td>...</td>\n",
       "      <td>0.054305</td>\n",
       "      <td>0.182068</td>\n",
       "      <td>0.101867</td>\n",
       "      <td>0.188572</td>\n",
       "      <td>0.110286</td>\n",
       "      <td>0.174302</td>\n",
       "      <td>0.039759</td>\n",
       "      <td>0.051314</td>\n",
       "      <td>0.311195</td>\n",
       "      <td>0.074897</td>\n",
       "    </tr>\n",
       "    <tr>\n",
       "      <th>4</th>\n",
       "      <td>1802late93</td>\n",
       "      <td>0.061678</td>\n",
       "      <td>0.156793</td>\n",
       "      <td>0.084858</td>\n",
       "      <td>0.061389</td>\n",
       "      <td>0.126731</td>\n",
       "      <td>0.091486</td>\n",
       "      <td>0.025799</td>\n",
       "      <td>0.169657</td>\n",
       "      <td>0.031777</td>\n",
       "      <td>...</td>\n",
       "      <td>0.054623</td>\n",
       "      <td>0.178723</td>\n",
       "      <td>0.099569</td>\n",
       "      <td>0.189647</td>\n",
       "      <td>0.107624</td>\n",
       "      <td>0.173605</td>\n",
       "      <td>0.041325</td>\n",
       "      <td>0.050713</td>\n",
       "      <td>0.314434</td>\n",
       "      <td>0.068230</td>\n",
       "    </tr>\n",
       "  </tbody>\n",
       "</table>\n",
       "<p>5 rows × 129 columns</p>\n",
       "</div>"
      ],
      "text/plain": [
       "        Image         1         2         3         4         5         6  \\\n",
       "0  1802late79  0.068275  0.157592  0.082554  0.064972  0.120839  0.090099   \n",
       "1  1802late92  0.049229  0.156108  0.081191  0.055901  0.119174  0.091269   \n",
       "2  1802late86  0.048557  0.160526  0.085549  0.061356  0.122491  0.088698   \n",
       "3  1802late87  0.055396  0.158305  0.085610  0.059512  0.131009  0.095288   \n",
       "4  1802late93  0.061678  0.156793  0.084858  0.061389  0.126731  0.091486   \n",
       "\n",
       "          7         8         9  ...       119       120       121       122  \\\n",
       "0  0.026834  0.171146  0.034943  ...  0.053138  0.180098  0.093527  0.189275   \n",
       "1  0.021899  0.161272  0.026484  ...  0.047123  0.170871  0.095923  0.187704   \n",
       "2  0.026238  0.155925  0.029371  ...  0.050919  0.181880  0.092090  0.188571   \n",
       "3  0.025966  0.154091  0.034035  ...  0.054305  0.182068  0.101867  0.188572   \n",
       "4  0.025799  0.169657  0.031777  ...  0.054623  0.178723  0.099569  0.189647   \n",
       "\n",
       "        123       124       125       126       127       128  \n",
       "0  0.105053  0.173725  0.043706  0.054691  0.308349  0.070121  \n",
       "1  0.101171  0.174721  0.034620  0.047797  0.303087  0.067094  \n",
       "2  0.108156  0.173544  0.038042  0.048806  0.307608  0.072931  \n",
       "3  0.110286  0.174302  0.039759  0.051314  0.311195  0.074897  \n",
       "4  0.107624  0.173605  0.041325  0.050713  0.314434  0.068230  \n",
       "\n",
       "[5 rows x 129 columns]"
      ]
     },
     "execution_count": 4,
     "metadata": {},
     "output_type": "execute_result"
    }
   ],
   "source": [
    "display(df.shape)\n",
    "df.head(5)"
   ]
  },
  {
   "cell_type": "code",
   "execution_count": 5,
   "metadata": {},
   "outputs": [
    {
     "name": "stdout",
     "output_type": "stream",
     "text": [
      "Data size (r,c) = (67, 128)\n"
     ]
    },
    {
     "data": {
      "text/html": [
       "<div>\n",
       "<style scoped>\n",
       "    .dataframe tbody tr th:only-of-type {\n",
       "        vertical-align: middle;\n",
       "    }\n",
       "\n",
       "    .dataframe tbody tr th {\n",
       "        vertical-align: top;\n",
       "    }\n",
       "\n",
       "    .dataframe thead th {\n",
       "        text-align: right;\n",
       "    }\n",
       "</style>\n",
       "<table border=\"1\" class=\"dataframe\">\n",
       "  <thead>\n",
       "    <tr style=\"text-align: right;\">\n",
       "      <th></th>\n",
       "      <th>1</th>\n",
       "      <th>2</th>\n",
       "      <th>3</th>\n",
       "      <th>4</th>\n",
       "      <th>5</th>\n",
       "      <th>6</th>\n",
       "      <th>7</th>\n",
       "      <th>8</th>\n",
       "      <th>9</th>\n",
       "      <th>10</th>\n",
       "      <th>...</th>\n",
       "      <th>119</th>\n",
       "      <th>120</th>\n",
       "      <th>121</th>\n",
       "      <th>122</th>\n",
       "      <th>123</th>\n",
       "      <th>124</th>\n",
       "      <th>125</th>\n",
       "      <th>126</th>\n",
       "      <th>127</th>\n",
       "      <th>128</th>\n",
       "    </tr>\n",
       "    <tr>\n",
       "      <th>Image</th>\n",
       "      <th></th>\n",
       "      <th></th>\n",
       "      <th></th>\n",
       "      <th></th>\n",
       "      <th></th>\n",
       "      <th></th>\n",
       "      <th></th>\n",
       "      <th></th>\n",
       "      <th></th>\n",
       "      <th></th>\n",
       "      <th></th>\n",
       "      <th></th>\n",
       "      <th></th>\n",
       "      <th></th>\n",
       "      <th></th>\n",
       "      <th></th>\n",
       "      <th></th>\n",
       "      <th></th>\n",
       "      <th></th>\n",
       "      <th></th>\n",
       "      <th></th>\n",
       "    </tr>\n",
       "  </thead>\n",
       "  <tbody>\n",
       "    <tr>\n",
       "      <th>1793ready73</th>\n",
       "      <td>0.055965</td>\n",
       "      <td>0.167902</td>\n",
       "      <td>0.081489</td>\n",
       "      <td>0.055452</td>\n",
       "      <td>0.126133</td>\n",
       "      <td>0.087354</td>\n",
       "      <td>0.023680</td>\n",
       "      <td>0.163683</td>\n",
       "      <td>0.032830</td>\n",
       "      <td>0.297115</td>\n",
       "      <td>...</td>\n",
       "      <td>0.056302</td>\n",
       "      <td>0.172341</td>\n",
       "      <td>0.100577</td>\n",
       "      <td>0.187738</td>\n",
       "      <td>0.110944</td>\n",
       "      <td>0.161266</td>\n",
       "      <td>0.048347</td>\n",
       "      <td>0.055950</td>\n",
       "      <td>0.301119</td>\n",
       "      <td>0.071750</td>\n",
       "    </tr>\n",
       "    <tr>\n",
       "      <th>1793ready74</th>\n",
       "      <td>0.059150</td>\n",
       "      <td>0.168314</td>\n",
       "      <td>0.080772</td>\n",
       "      <td>0.051795</td>\n",
       "      <td>0.130392</td>\n",
       "      <td>0.093909</td>\n",
       "      <td>0.023834</td>\n",
       "      <td>0.165169</td>\n",
       "      <td>0.032559</td>\n",
       "      <td>0.298672</td>\n",
       "      <td>...</td>\n",
       "      <td>0.057915</td>\n",
       "      <td>0.173019</td>\n",
       "      <td>0.100754</td>\n",
       "      <td>0.189541</td>\n",
       "      <td>0.113338</td>\n",
       "      <td>0.168697</td>\n",
       "      <td>0.041676</td>\n",
       "      <td>0.058595</td>\n",
       "      <td>0.306763</td>\n",
       "      <td>0.072741</td>\n",
       "    </tr>\n",
       "    <tr>\n",
       "      <th>1793ready75</th>\n",
       "      <td>0.063940</td>\n",
       "      <td>0.167771</td>\n",
       "      <td>0.084106</td>\n",
       "      <td>0.065108</td>\n",
       "      <td>0.127765</td>\n",
       "      <td>0.087153</td>\n",
       "      <td>0.026984</td>\n",
       "      <td>0.173542</td>\n",
       "      <td>0.039482</td>\n",
       "      <td>0.300659</td>\n",
       "      <td>...</td>\n",
       "      <td>0.056664</td>\n",
       "      <td>0.171838</td>\n",
       "      <td>0.102857</td>\n",
       "      <td>0.189396</td>\n",
       "      <td>0.112245</td>\n",
       "      <td>0.165072</td>\n",
       "      <td>0.046100</td>\n",
       "      <td>0.055882</td>\n",
       "      <td>0.314828</td>\n",
       "      <td>0.067931</td>\n",
       "    </tr>\n",
       "    <tr>\n",
       "      <th>1793ready76</th>\n",
       "      <td>0.058782</td>\n",
       "      <td>0.168896</td>\n",
       "      <td>0.082089</td>\n",
       "      <td>0.051422</td>\n",
       "      <td>0.131545</td>\n",
       "      <td>0.092058</td>\n",
       "      <td>0.021598</td>\n",
       "      <td>0.163690</td>\n",
       "      <td>0.032915</td>\n",
       "      <td>0.300387</td>\n",
       "      <td>...</td>\n",
       "      <td>0.057929</td>\n",
       "      <td>0.172377</td>\n",
       "      <td>0.104372</td>\n",
       "      <td>0.189018</td>\n",
       "      <td>0.113043</td>\n",
       "      <td>0.167692</td>\n",
       "      <td>0.042648</td>\n",
       "      <td>0.057378</td>\n",
       "      <td>0.303701</td>\n",
       "      <td>0.068746</td>\n",
       "    </tr>\n",
       "    <tr>\n",
       "      <th>1793ready77</th>\n",
       "      <td>0.067556</td>\n",
       "      <td>0.167239</td>\n",
       "      <td>0.087494</td>\n",
       "      <td>0.060726</td>\n",
       "      <td>0.130719</td>\n",
       "      <td>0.088041</td>\n",
       "      <td>0.026429</td>\n",
       "      <td>0.170784</td>\n",
       "      <td>0.038147</td>\n",
       "      <td>0.303425</td>\n",
       "      <td>...</td>\n",
       "      <td>0.057660</td>\n",
       "      <td>0.173856</td>\n",
       "      <td>0.102264</td>\n",
       "      <td>0.190925</td>\n",
       "      <td>0.114854</td>\n",
       "      <td>0.176321</td>\n",
       "      <td>0.041078</td>\n",
       "      <td>0.058308</td>\n",
       "      <td>0.320287</td>\n",
       "      <td>0.071322</td>\n",
       "    </tr>\n",
       "  </tbody>\n",
       "</table>\n",
       "<p>5 rows × 128 columns</p>\n",
       "</div>"
      ],
      "text/plain": [
       "                    1         2         3         4         5         6  \\\n",
       "Image                                                                     \n",
       "1793ready73  0.055965  0.167902  0.081489  0.055452  0.126133  0.087354   \n",
       "1793ready74  0.059150  0.168314  0.080772  0.051795  0.130392  0.093909   \n",
       "1793ready75  0.063940  0.167771  0.084106  0.065108  0.127765  0.087153   \n",
       "1793ready76  0.058782  0.168896  0.082089  0.051422  0.131545  0.092058   \n",
       "1793ready77  0.067556  0.167239  0.087494  0.060726  0.130719  0.088041   \n",
       "\n",
       "                    7         8         9        10  ...       119       120  \\\n",
       "Image                                                ...                       \n",
       "1793ready73  0.023680  0.163683  0.032830  0.297115  ...  0.056302  0.172341   \n",
       "1793ready74  0.023834  0.165169  0.032559  0.298672  ...  0.057915  0.173019   \n",
       "1793ready75  0.026984  0.173542  0.039482  0.300659  ...  0.056664  0.171838   \n",
       "1793ready76  0.021598  0.163690  0.032915  0.300387  ...  0.057929  0.172377   \n",
       "1793ready77  0.026429  0.170784  0.038147  0.303425  ...  0.057660  0.173856   \n",
       "\n",
       "                  121       122       123       124       125       126  \\\n",
       "Image                                                                     \n",
       "1793ready73  0.100577  0.187738  0.110944  0.161266  0.048347  0.055950   \n",
       "1793ready74  0.100754  0.189541  0.113338  0.168697  0.041676  0.058595   \n",
       "1793ready75  0.102857  0.189396  0.112245  0.165072  0.046100  0.055882   \n",
       "1793ready76  0.104372  0.189018  0.113043  0.167692  0.042648  0.057378   \n",
       "1793ready77  0.102264  0.190925  0.114854  0.176321  0.041078  0.058308   \n",
       "\n",
       "                  127       128  \n",
       "Image                            \n",
       "1793ready73  0.301119  0.071750  \n",
       "1793ready74  0.306763  0.072741  \n",
       "1793ready75  0.314828  0.067931  \n",
       "1793ready76  0.303701  0.068746  \n",
       "1793ready77  0.320287  0.071322  \n",
       "\n",
       "[5 rows x 128 columns]"
      ]
     },
     "execution_count": 5,
     "metadata": {},
     "output_type": "execute_result"
    }
   ],
   "source": [
    "# Use 'Name' column as index\n",
    "#df.rename(columns={df.columns[0]:'Name'}, inplace=True)\n",
    "df.set_index('Image', inplace=True)\n",
    "\n",
    "# Sort rows and columns\n",
    "# df.sort_index(axis=1, inplace=True)\n",
    "df.sort_index(inplace=True)\n",
    "\n",
    "df_numeric = df.select_dtypes(include='number')  #'int32' or 'int64' or 'float32' or 'float64'\n",
    "df_category = df.select_dtypes(exclude='number') #'object'\n",
    "\n",
    "# Z-score normalization\n",
    "# normalized_df = (df_numeric - df_numeric.mean()) / df_numeric.std()\n",
    "normalized_df = df_numeric  # do not normalize animal dataset, all columns are 0-100 scale\n",
    "\n",
    "print('Data size (r,c) =', df_numeric.shape)\n",
    "df_numeric.head(5)"
   ]
  },
  {
   "cell_type": "markdown",
   "metadata": {},
   "source": [
    "#  Dimension Reduction Model:  Weighted MDS\n",
    "\n",
    "For DR, we use the Multi-Dimensional Scaling (MDS) algorithm on a weighted data space. **Dimension weights** are applied to the high-dimensional (HD) data.  Weights are normalized to sum to 1, so as to normalize the HD distances to roughly constant size space independent of p.\n",
    "\n",
    "The **distance function for the high-dimensional (HD) data** is L1 manhattan distance. L1 is good for general purpose use with multi-dimensional quantitative datasets. \n",
    "\n",
    "The **distance function for the 2D projected points** is L2 Euclidean distance, which makes sense for human percpetion in the plot."
   ]
  },
  {
   "cell_type": "code",
   "execution_count": 6,
   "metadata": {},
   "outputs": [],
   "source": [
    "# Compute the distance matrix for the weighted high-dimensional data using L1 distance function.\n",
    "#  Input HD data should already be weighted.\n",
    "def distance_matrix_HD(dataHDw):  # dataHDw (pandas or numpy) -> distance matrix (numpy)\n",
    "    dist_matrix = sklearn.metrics.pairwise.manhattan_distances(dataHDw)\n",
    "    #m = pd.DataFrame(m, columns=dataHD.index, index=dataHD.index)  # keep as np array for performance\n",
    "    return dist_matrix\n",
    "\n",
    "# Compute the distance matrix for 2D projected data using L2 distance function.\n",
    "def distance_matrix_2D(data2D):  # data2d (pandas or numpy) -> distance matrix (numpy)\n",
    "    dist_matrix = sklearn.metrics.pairwise.euclidean_distances(data2D) \n",
    "    #m = pd.DataFrame(m, columns=data2D.index, index=data2D.index) # keep as np array for performance\n",
    "    return dist_matrix\n",
    "\n",
    "#def dist(x,y):\n",
    "#    return np.linalg.norm(x-y, ord=2)"
   ]
  },
  {
   "cell_type": "markdown",
   "metadata": {},
   "source": [
    "**MDS** projects the weighted high-dimensional data to 2D. Tune the algorithm's parameters for performance."
   ]
  },
  {
   "cell_type": "code",
   "execution_count": 7,
   "metadata": {},
   "outputs": [],
   "source": [
    "# Calculate the MDS stress metric between HD and 2D distances.  Uses numpy for efficiency.\n",
    "def stress(distHD, dist2D):  #  distHD, dist2D (numpy) -> stress (float)\n",
    "    #s = np.sqrt((distHD-dist2D).pow(2).sum().sum() / distHD.pow(2).sum().sum())  # pandas\n",
    "    #s = np.sqrt(((distHD-dist2D)**2).sum() / (distHD**2).sum())   # numpy\n",
    "    s = ((distHD-dist2D)**2).sum() / (distHD**2).sum()   # numpy, eliminate sqrt for efficiency\n",
    "    return s\n",
    "\n",
    "def compute_mds(dataHDw):  # dataHDw -> data2D (pandas)\n",
    "    distHD = distance_matrix_HD(dataHDw)\n",
    "    # Adjust these parameters for performance/accuracy tradeoff\n",
    "    mds = sklearn.manifold.MDS(n_components=2, dissimilarity='precomputed', n_init=10, max_iter=1000)\n",
    "    # Reduction algorithm happens here:  data2D is nx2 matrix\n",
    "    data2D = mds.fit_transform(distHD)\n",
    "    \n",
    "    # Rotate the resulting 2D projection to make it more consistent across multiple runs.\n",
    "    # Set the 1st PC to the y axis, plot looks better to spread data vertically with horizontal text labels\n",
    "    pca = sklearn.decomposition.PCA(n_components=2)\n",
    "    data2D = pca.fit_transform(data2D)\n",
    "    data2D = pd.DataFrame(data2D, columns=['y','x'], index=dataHDw.index)\n",
    "    \n",
    "    data2D.stress_value = stress(distHD, distance_matrix_2D(data2D))\n",
    "    return data2D\n",
    "\n",
    "def dimension_reduction(dataHD, wts): # dataHD, wts -> data2D (pandas)\n",
    "    # Normalize the weights to sum to 1\n",
    "    wts = wts/wts.sum()\n",
    "    \n",
    "    # Apply weights to the HD data \n",
    "    dataHDw = dataHD * wts\n",
    "    \n",
    "    # DR algorithm\n",
    "    data2D = compute_mds(dataHDw)\n",
    "\n",
    "    # Compute row relevances as:  data dot weights\n",
    "    # High relevance means large values in upweighted dimensions\n",
    "    data2D['relevance'] = dataHDw.sum(axis=1)\n",
    "    return data2D\n",
    "\n",
    "\n",
    "min_weight, max_weight = 0.00001, 0.9999\n",
    "init_weight = min_weight  # 1.0/len(normalized_df.columns) # initialize to min to make the sliders easier to use.\n",
    "weights = pd.Series(init_weight, index=normalized_df.columns, name=\"Weight\")  # the current weight list\n",
    "\n",
    "df_2D = dimension_reduction(normalized_df, weights)   # the current projected data"
   ]
  },
  {
   "cell_type": "code",
   "execution_count": 8,
   "metadata": {},
   "outputs": [
    {
     "data": {
      "text/plain": [
       "1    0.00001\n",
       "2    0.00001\n",
       "Name: Weight, dtype: float64"
      ]
     },
     "execution_count": 8,
     "metadata": {},
     "output_type": "execute_result"
    }
   ],
   "source": [
    "weights.head(2)"
   ]
  },
  {
   "cell_type": "code",
   "execution_count": 9,
   "metadata": {},
   "outputs": [
    {
     "data": {
      "text/html": [
       "<div>\n",
       "<style scoped>\n",
       "    .dataframe tbody tr th:only-of-type {\n",
       "        vertical-align: middle;\n",
       "    }\n",
       "\n",
       "    .dataframe tbody tr th {\n",
       "        vertical-align: top;\n",
       "    }\n",
       "\n",
       "    .dataframe thead th {\n",
       "        text-align: right;\n",
       "    }\n",
       "</style>\n",
       "<table border=\"1\" class=\"dataframe\">\n",
       "  <thead>\n",
       "    <tr style=\"text-align: right;\">\n",
       "      <th>Image</th>\n",
       "      <th>1793ready73</th>\n",
       "      <th>1793ready74</th>\n",
       "      <th>1793ready75</th>\n",
       "      <th>1793ready76</th>\n",
       "      <th>1793ready77</th>\n",
       "      <th>1793ready78</th>\n",
       "      <th>1793ready80</th>\n",
       "      <th>1793ready81</th>\n",
       "      <th>1793ready82</th>\n",
       "      <th>1793ready83</th>\n",
       "      <th>...</th>\n",
       "      <th>1804lateDisease9</th>\n",
       "      <th>1808readyDisease1</th>\n",
       "      <th>1808readyDisease2</th>\n",
       "      <th>1808readyDisease3</th>\n",
       "      <th>1808readyDisease4</th>\n",
       "      <th>1808readyDisease5</th>\n",
       "      <th>1808readyDisease6</th>\n",
       "      <th>1808readyDisease7</th>\n",
       "      <th>1808readyDisease8</th>\n",
       "      <th>1808readyDisease9</th>\n",
       "    </tr>\n",
       "    <tr>\n",
       "      <th>Image</th>\n",
       "      <th></th>\n",
       "      <th></th>\n",
       "      <th></th>\n",
       "      <th></th>\n",
       "      <th></th>\n",
       "      <th></th>\n",
       "      <th></th>\n",
       "      <th></th>\n",
       "      <th></th>\n",
       "      <th></th>\n",
       "      <th></th>\n",
       "      <th></th>\n",
       "      <th></th>\n",
       "      <th></th>\n",
       "      <th></th>\n",
       "      <th></th>\n",
       "      <th></th>\n",
       "      <th></th>\n",
       "      <th></th>\n",
       "      <th></th>\n",
       "      <th></th>\n",
       "    </tr>\n",
       "  </thead>\n",
       "  <tbody>\n",
       "    <tr>\n",
       "      <th>1793ready73</th>\n",
       "      <td>0.000000</td>\n",
       "      <td>0.003371</td>\n",
       "      <td>0.004513</td>\n",
       "      <td>0.002764</td>\n",
       "      <td>0.006456</td>\n",
       "      <td>0.005451</td>\n",
       "      <td>0.003267</td>\n",
       "      <td>0.003889</td>\n",
       "      <td>0.003237</td>\n",
       "      <td>0.003021</td>\n",
       "      <td>...</td>\n",
       "      <td>0.009118</td>\n",
       "      <td>0.010070</td>\n",
       "      <td>0.009234</td>\n",
       "      <td>0.011999</td>\n",
       "      <td>0.009969</td>\n",
       "      <td>0.010757</td>\n",
       "      <td>0.011810</td>\n",
       "      <td>0.009523</td>\n",
       "      <td>0.013598</td>\n",
       "      <td>0.009790</td>\n",
       "    </tr>\n",
       "    <tr>\n",
       "      <th>1793ready74</th>\n",
       "      <td>0.003371</td>\n",
       "      <td>0.000000</td>\n",
       "      <td>0.004188</td>\n",
       "      <td>0.002054</td>\n",
       "      <td>0.005523</td>\n",
       "      <td>0.004157</td>\n",
       "      <td>0.002801</td>\n",
       "      <td>0.004069</td>\n",
       "      <td>0.002158</td>\n",
       "      <td>0.004083</td>\n",
       "      <td>...</td>\n",
       "      <td>0.008129</td>\n",
       "      <td>0.008385</td>\n",
       "      <td>0.008204</td>\n",
       "      <td>0.010148</td>\n",
       "      <td>0.008728</td>\n",
       "      <td>0.008837</td>\n",
       "      <td>0.010052</td>\n",
       "      <td>0.008312</td>\n",
       "      <td>0.011682</td>\n",
       "      <td>0.008539</td>\n",
       "    </tr>\n",
       "  </tbody>\n",
       "</table>\n",
       "<p>2 rows × 67 columns</p>\n",
       "</div>"
      ],
      "text/plain": [
       "Image        1793ready73  1793ready74  1793ready75  1793ready76  1793ready77  \\\n",
       "Image                                                                          \n",
       "1793ready73     0.000000     0.003371     0.004513     0.002764     0.006456   \n",
       "1793ready74     0.003371     0.000000     0.004188     0.002054     0.005523   \n",
       "\n",
       "Image        1793ready78  1793ready80  1793ready81  1793ready82  1793ready83  \\\n",
       "Image                                                                          \n",
       "1793ready73     0.005451     0.003267     0.003889     0.003237     0.003021   \n",
       "1793ready74     0.004157     0.002801     0.004069     0.002158     0.004083   \n",
       "\n",
       "Image        ...  1804lateDisease9  1808readyDisease1  1808readyDisease2  \\\n",
       "Image        ...                                                           \n",
       "1793ready73  ...          0.009118           0.010070           0.009234   \n",
       "1793ready74  ...          0.008129           0.008385           0.008204   \n",
       "\n",
       "Image        1808readyDisease3  1808readyDisease4  1808readyDisease5  \\\n",
       "Image                                                                  \n",
       "1793ready73           0.011999           0.009969           0.010757   \n",
       "1793ready74           0.010148           0.008728           0.008837   \n",
       "\n",
       "Image        1808readyDisease6  1808readyDisease7  1808readyDisease8  \\\n",
       "Image                                                                  \n",
       "1793ready73           0.011810           0.009523           0.013598   \n",
       "1793ready74           0.010052           0.008312           0.011682   \n",
       "\n",
       "Image        1808readyDisease9  \n",
       "Image                           \n",
       "1793ready73           0.009790  \n",
       "1793ready74           0.008539  \n",
       "\n",
       "[2 rows x 67 columns]"
      ]
     },
     "execution_count": 9,
     "metadata": {},
     "output_type": "execute_result"
    }
   ],
   "source": [
    "pd.DataFrame(distance_matrix_HD(normalized_df * (weights/weights.sum())), \n",
    "             columns=normalized_df.index, index=normalized_df.index).head(2)"
   ]
  },
  {
   "cell_type": "code",
   "execution_count": 10,
   "metadata": {},
   "outputs": [
    {
     "name": "stdout",
     "output_type": "stream",
     "text": [
      "0.03252424187378339\n"
     ]
    },
    {
     "data": {
      "text/html": [
       "<div>\n",
       "<style scoped>\n",
       "    .dataframe tbody tr th:only-of-type {\n",
       "        vertical-align: middle;\n",
       "    }\n",
       "\n",
       "    .dataframe tbody tr th {\n",
       "        vertical-align: top;\n",
       "    }\n",
       "\n",
       "    .dataframe thead th {\n",
       "        text-align: right;\n",
       "    }\n",
       "</style>\n",
       "<table border=\"1\" class=\"dataframe\">\n",
       "  <thead>\n",
       "    <tr style=\"text-align: right;\">\n",
       "      <th></th>\n",
       "      <th>y</th>\n",
       "      <th>x</th>\n",
       "      <th>relevance</th>\n",
       "    </tr>\n",
       "    <tr>\n",
       "      <th>Image</th>\n",
       "      <th></th>\n",
       "      <th></th>\n",
       "      <th></th>\n",
       "    </tr>\n",
       "  </thead>\n",
       "  <tbody>\n",
       "    <tr>\n",
       "      <th>1793ready73</th>\n",
       "      <td>0.004760</td>\n",
       "      <td>0.000112</td>\n",
       "      <td>0.124917</td>\n",
       "    </tr>\n",
       "    <tr>\n",
       "      <th>1793ready74</th>\n",
       "      <td>0.002292</td>\n",
       "      <td>0.001780</td>\n",
       "      <td>0.126965</td>\n",
       "    </tr>\n",
       "  </tbody>\n",
       "</table>\n",
       "</div>"
      ],
      "text/plain": [
       "                    y         x  relevance\n",
       "Image                                     \n",
       "1793ready73  0.004760  0.000112   0.124917\n",
       "1793ready74  0.002292  0.001780   0.126965"
      ]
     },
     "execution_count": 10,
     "metadata": {},
     "output_type": "execute_result"
    }
   ],
   "source": [
    "print(df_2D.stress_value)\n",
    "df_2D.head(2)"
   ]
  },
  {
   "cell_type": "markdown",
   "metadata": {},
   "source": [
    "# Inverse Dimension-Reduction Learning Algorithm\n",
    "\n",
    "Computes the inverse-Dimension-Reduction: given input 2D points, compute new weights.\n",
    "Optimizes the MDS stress function that compares 2D pairwise distances (||$x_i-x_j||$) to weighted HD pairwise distances ($d_{ij}$):\n",
    "![Stress](https://wikimedia.org/api/rest_v1/media/math/render/svg/7989b3afc0d8795a78c1631c7e807f260d9cfe68)\n",
    "\n",
    "Technically, we compute the inverse weighted distance function. We shortcut the optimization by eliminating MDS from the process, and assume that the user input 2D distances are actually the desired HD distances, not the 2D distances after re-projection. Thus, given the input (HD) distances, we find weights that would produce these distances in the HD space."
   ]
  },
  {
   "cell_type": "code",
   "execution_count": 11,
   "metadata": {},
   "outputs": [],
   "source": [
    "# This method is used to propose a new weight for current column in a smart fashion\n",
    "def new_proposal(current, step, direction):\n",
    "    return np.clip(current + direction*step*random.random(), 0.00001, 0.9999)\n",
    "\n",
    "# Repeatedly tries to modify each dim weight to see if it improves the stress, thus\n",
    "# getting the weighted high-dim distances to more closely match the input 2D distances.\n",
    "#   dataHD = high-dim data, as pandas\n",
    "#   data2D = 2D data input, as pandas\n",
    "#   weights = as pandas series, or None for weights[i]=1/p\n",
    "def inverse_DR(dataHD, data2D, curWeights=None):  # -> new weights, as Series\n",
    "    dist2D = distance_matrix_2D(data2D)  # compute 2D distances only once\n",
    "    col_names = dataHD.columns\n",
    "    dataHD = dataHD.to_numpy()  # use numpy for efficiency\n",
    "    row, col = dataHD.shape\n",
    "    \n",
    "    if curWeights==None:\n",
    "        curWeights = np.array([1.0/col]*col)  # default weights = 1/p\n",
    "    else:\n",
    "        curWeights = curWeights.to_numpy()\n",
    "        curWeights = curWeights / curWeights.sum()  # Normalize weights to sum to 1\n",
    "    newWeights = curWeights.copy()  # re-use this array for efficiency\n",
    "    \n",
    "    # Initialize state\n",
    "    flag = [0]*col         # degree of success of a weight change\n",
    "    direction = [1]*col  # direction to move a weight, pos or neg\n",
    "    step = [1.0/col]*col   # how much to change each weight\n",
    "    \n",
    "    dataHDw = dataHD * curWeights   # weighted space, re-use this array for efficiency\n",
    "    distHD = distance_matrix_HD(dataHDw)\n",
    "    curStress = stress(distHD, dist2D)\n",
    "    print('Starting stress =', curStress, 'Processing...')\n",
    "\n",
    "    MAX = 500   # default setting of the number of iterations\n",
    "\n",
    "    # Try to minorly adjust each weight to see if it reduces stress\n",
    "    for i in range(MAX):\n",
    "        for dim in range(col):            \n",
    "            # Get a new weight for current column\n",
    "            nw = new_proposal(curWeights[dim], step[dim], direction[dim])\n",
    "            \n",
    "            # Scale the weight list such that it sums to 1\n",
    "            #newWeights = curWeights.copy()  # avoid extra copy op using math below\n",
    "            #newWeights[dim] = nw\n",
    "            #newWeights = newWeights / s\n",
    "            s = 1.0  + nw - curWeights[dim]   # 1.0 == curWeights.sum()\n",
    "            np.true_divide(curWeights, s, out=newWeights)  # transfers to other array, while doing /\n",
    "            newWeights[dim] = nw / s\n",
    "            \n",
    "            # Apply new weights to HD data\n",
    "            np.multiply(dataHD, newWeights, out=dataHDw)  # dataHDw = dataHD * newWeights; efficiently reuses dataHDw array\n",
    "            distHD = distance_matrix_HD(dataHDw)\n",
    "\n",
    "            # Get the new stress\n",
    "            newStress = stress(distHD, dist2D)\n",
    "            \n",
    "            # If new stress is lower, then update weights and flag this success\n",
    "            if newStress < curStress:\n",
    "                temp = curWeights\n",
    "                curWeights = newWeights\n",
    "                newWeights = temp   # reuse the old array next iteration\n",
    "                curStress = newStress\n",
    "                flag[dim] = flag[dim] + 1\n",
    "            else:\n",
    "                flag[dim] = flag[dim] - 1\n",
    "                direction[dim] = -direction[dim]  # Reverse course\n",
    "    \n",
    "            # If recent success, then speed up the step rate\n",
    "            if flag[dim] >= 5:\n",
    "                step[dim] = step[dim] * 2\n",
    "                flag[dim] = 0\n",
    "            elif flag[dim] <= -5:\n",
    "                step[dim] = step[dim] / 2\n",
    "                flag[dim] = 0\n",
    "                \n",
    "    print('Solution stress =', curStress, 'Done.')\n",
    "    #print(\"weight\", curWeights)\n",
    "    #print(\"flag\", flag)\n",
    "    #print(\"dir\", direction)\n",
    "    #print(\"step\", step)\n",
    "    return pd.Series(curWeights, index=col_names, name=\"Weight\")\n"
   ]
  },
  {
   "cell_type": "markdown",
   "metadata": {},
   "source": [
    "# Visualization and UI code\n",
    "\n",
    "Use these functions to create the GUI components in any cell."
   ]
  },
  {
   "cell_type": "markdown",
   "metadata": {},
   "source": [
    "## Sliders"
   ]
  },
  {
   "cell_type": "code",
   "execution_count": 12,
   "metadata": {},
   "outputs": [],
   "source": [
    "def create_sliders(wts):\n",
    "    # Create sliders, one for each dimension weight\n",
    "    sliders = [widgets.FloatSlider(min=min_weight, max=max_weight, step=0.01, value=value, \n",
    "                                       description=label, continuous_update=False, readout_format='.5f')\n",
    "                   for (label, value) in wts.iteritems()]\n",
    "    # Display sliders\n",
    "    for s in sliders:\n",
    "        #s.observe(sliderchange, names='value')\n",
    "        display(s)\n",
    "        \n",
    "    create_slider_buttons(sliders)\n",
    "    return sliders\n",
    "\n",
    "def create_slider_buttons(sliders):    \n",
    "    apply_button = widgets.Button(description='Apply Slider Weights')\n",
    "    reset_button = widgets.Button(description='Reset Plot')\n",
    "\n",
    "    # Callback functions\n",
    "    def apply_button_clicked(change):\n",
    "        # Use the slider values to re compute the DR and redraw the plot\n",
    "        global weights, df_2D   # Update weights and df_2D globals\n",
    "        weights = pd.Series([s.value for s in sliders], index=normalized_df.columns, name='Weight')\n",
    "        df_2D = dimension_reduction(normalized_df, weights)   \n",
    "        \n",
    "        # Re-draw the plot\n",
    "        draw_plot(plot_ax, df_2D)\n",
    "    apply_button.on_click(apply_button_clicked)\n",
    "\n",
    "    def reset_button_clicked(change):\n",
    "        # Reset all sliders to initial value and re-compute DR and re-draw the plot\n",
    "        for s in sliders:\n",
    "            s.value = init_weight\n",
    "        apply_button_clicked(change)\n",
    "    reset_button.on_click(reset_button_clicked)\n",
    "    \n",
    "    # Display buttons\n",
    "    display(apply_button)\n",
    "    display(reset_button)\n",
    "    return apply_button, reset_button\n"
   ]
  },
  {
   "cell_type": "markdown",
   "metadata": {},
   "source": [
    "## Print Details Button"
   ]
  },
  {
   "cell_type": "code",
   "execution_count": 13,
   "metadata": {},
   "outputs": [],
   "source": [
    "def create_detail_display():\n",
    "    # Print selected points\n",
    "    print_button = widgets.Button(description='Print selected points')\n",
    "    print_output = widgets.Output()\n",
    "\n",
    "    def print_button_clicked(change):\n",
    "        print_output.clear_output()\n",
    "        # Get list of selected points and print their source data values\n",
    "        selset = [c.index for c in plot_ax.circles if c.selected]\n",
    "        with print_output:\n",
    "            if len(selset) > 0:\n",
    "                print(df.iloc[selset, :].transpose())\n",
    "            else:\n",
    "                print('Select points in the plot to see details here')\n",
    "    print_button.on_click(print_button_clicked)\n",
    "\n",
    "    display(print_button)\n",
    "    display(print_output)\n",
    "    return print_button, print_output\n"
   ]
  },
  {
   "cell_type": "markdown",
   "metadata": {},
   "source": [
    "## Inverse DR Button and Plot"
   ]
  },
  {
   "cell_type": "code",
   "execution_count": 14,
   "metadata": {},
   "outputs": [],
   "source": [
    "def create_inverse_button():\n",
    "    inverse_button = widgets.Button(description='Learn New Weights')\n",
    "    copy_button = widgets.Button(description='Copy to Sliders')\n",
    "\n",
    "    def inverse_button_clicked(change):\n",
    "        ax.clear()\n",
    "\n",
    "        # Check minimum number of points moved\n",
    "        n = len([1 for c in plot_ax.circles if c.selected])\n",
    "        if n < 2:\n",
    "            print('Need to select or move at least 2 points in the plot first.')\n",
    "            return\n",
    "\n",
    "        # Get selected data points\n",
    "        data2Dnew = pd.DataFrame([c.center for c in plot_ax.circles if c.selected], columns=['x','y'], \n",
    "                                index=[c.label for c in plot_ax.circles if c.selected])\n",
    "        dataHDpart = normalized_df.loc[data2Dnew.index]\n",
    "\n",
    "        # Learn new weights\n",
    "        global weights\n",
    "        weights = inverse_DR(dataHDpart, data2Dnew)\n",
    "        \n",
    "        # Display new weights as a bar chart\n",
    "        weights.sort_index(ascending=False).plot.barh(ax=ax)\n",
    "        ax.set_xlabel(\"Weight\")\n",
    "        fig.tight_layout()\n",
    "    inverse_button.on_click(inverse_button_clicked)\n",
    "\n",
    "    def copy_button_clicked(change):\n",
    "        # Set sliders to reflect the learned weights and update the DR and plot accordingly\n",
    "        global df_2D\n",
    "        for i,s in enumerate(sliders):\n",
    "            s.value = weights[i]\n",
    "        df_2D = dimension_reduction(normalized_df, weights)   \n",
    "        draw_plot(plot_ax, df_2D)\n",
    "    copy_button.on_click(copy_button_clicked)\n",
    "    display(inverse_button)\n",
    "    display(copy_button)\n",
    "    fig, ax = plt.subplots(figsize=(5,7))   # reserve a fig for the weights bar chart\n",
    "    return inverse_button, copy_button, ax\n"
   ]
  },
  {
   "cell_type": "markdown",
   "metadata": {},
   "source": [
    "## Draggable Dimension-Reduction 2D Plot"
   ]
  },
  {
   "cell_type": "code",
   "execution_count": 15,
   "metadata": {},
   "outputs": [],
   "source": [
    "# Handles mouse drag interaction events in the plot, users can select and drag points.\n",
    "class DraggablePoints(object):\n",
    "    def __init__(self, ax, artists):\n",
    "        self.ax = ax\n",
    "        self.artists = artists\n",
    "        self.current_artist = None\n",
    "        self.last_selected = None\n",
    "        ax.selected_text.set_text('Selected: none')\n",
    "        self.offset = (0, 0)\n",
    "        # Set up mouse listeners\n",
    "        ax.figure.canvas.mpl_connect('pick_event', self.on_pick)\n",
    "        ax.figure.canvas.mpl_connect('motion_notify_event', self.on_motion)\n",
    "        ax.figure.canvas.mpl_connect('button_release_event', self.on_release)\n",
    "\n",
    "    def on_pick(self, event):\n",
    "        # When point is clicked on (mouse down), select it and start the drag\n",
    "        if self.current_artist is None:  # clicking on overlapped points sends multiple events\n",
    "            self.last_selected = event.artist.index  # event.ind\n",
    "            self.current_artist = event.artist\n",
    "            event.artist.selected = True\n",
    "            event.artist.savecolor = event.artist.get_facecolor()\n",
    "            event.artist.set_facecolor('green')\n",
    "            #event.artist.set_alpha(1.0)\n",
    "            self.ax.selected_text.set_text(\"Selected: \" + event.artist.label)\n",
    "            x0, y0 = event.artist.center\n",
    "            self.offset = (x0 - event.mouseevent.xdata), (y0 - event.mouseevent.ydata)\n",
    "\n",
    "    def on_motion(self, event):\n",
    "        # When dragging, check if point is selected and valid mouse coordinates\n",
    "        if (self.current_artist is not None) and (event.xdata is not None) and (event.ydata is not None):\n",
    "            # Drag the point and its text label\n",
    "            dx, dy = self.offset\n",
    "            self.current_artist.center = x0, y0 = event.xdata + dx, event.ydata + dy\n",
    "            self.current_artist.text.set_position((x0 - self.current_artist.radius/2, \n",
    "                                                   y0 - self.current_artist.radius/2))\n",
    "            #self.ax.figure.canvas.draw()  # slow\n",
    "        \n",
    "    def on_release(self, event):\n",
    "        # When mouse is released, stop the drag\n",
    "        self.current_artist = None\n",
    "        #self.ax.figure.canvas.draw()"
   ]
  },
  {
   "cell_type": "code",
   "execution_count": 16,
   "metadata": {
    "scrolled": false
   },
   "outputs": [],
   "source": [
    "def create_plot(data2D):\n",
    "    # Initialize DR plot figure\n",
    "    fig, ax = plt.subplots(figsize= (8,7))\n",
    "    ax.selected_text = ax.figure.text(0,0.005, 'Selected: none', wrap=True, color='green')\n",
    "    fig.colorbar(plt.cm.ScalarMappable(norm=matplotlib.colors.Normalize(), cmap=plt.cm.plasma), ax=ax, label=\"Relevance\", ticks=[], shrink=0.5, aspect=40, fraction=0.05)\n",
    "    # ax = data2D.plot.scatter(x=\"x\", y=\"y\", alpha=0.5, c=\"relevance\", s=75, ax=ax\n",
    "    #                   colormap=plt.cm.plasma, sharex=False, figsize=(8, 6), picker=True)\n",
    "    # ax.collections[0].get_offsets());   set_offsets(data2D[['y','x']]);   .get_facecolors()\n",
    "    \n",
    "    # Clean up the plot\n",
    "    ax.set_xticks([])\n",
    "    ax.set_yticks([])\n",
    "    ax.figure.tight_layout()\n",
    "    #plt.show()\n",
    "    \n",
    "    # Store state data:\n",
    "    ax.circles = None\n",
    "    ax.dragpoint = None\n",
    "    \n",
    "    draw_plot(ax, data2D)\n",
    "    return ax\n",
    "\n",
    "def draw_plot(ax, data2D):\n",
    "    # Re-draws the DR plot in the axes with the updated data2D\n",
    "    ax.clear()\n",
    "    # Map data to circles, with x, y, and relevance->color\n",
    "    wid = max(data2D.x.max() - data2D.x.min(), data2D.y.max() - data2D.y.min())  # max range of x,y axes\n",
    "    cnorm = matplotlib.colors.Normalize(vmin=data2D.relevance.min(), vmax=data2D.relevance.max())\n",
    "    ax.circles = data2D.apply(axis=1, func=lambda row: \n",
    "        matplotlib.patches.Circle(xy=(row.x, row.y), radius=wid/70, alpha=0.5, \n",
    "                                  color=plt.cm.plasma(cnorm(row.relevance)), picker=True))\n",
    "    for i,c in enumerate(ax.circles):\n",
    "        # Store state data:\n",
    "        c.index, c.label, c.selected = i, data2D.index[i], False\n",
    "        # Draw circles and text labels in plot\n",
    "        ax.add_patch(c)\n",
    "        c.text = ax.text(c.center[0]-c.radius/2, c.center[1]-c.radius/2, c.label)\n",
    "    # Make plot circles draggable\n",
    "    ax.dragpoint = DraggablePoints(ax, ax.circles)\n",
    "    \n",
    "    # Clean up the plot\n",
    "    ax.set_xticks([])\n",
    "    ax.set_yticks([])\n",
    "    ax.axis('equal')\n",
    "    #plt.show()\n"
   ]
  },
  {
   "cell_type": "markdown",
   "metadata": {},
   "source": [
    "# Interactive Visualization"
   ]
  },
  {
   "cell_type": "markdown",
   "metadata": {},
   "source": [
    "## Sliders\n",
    "Use the sliders to control the **dimension weights** for the input HD data. The weights indicate which dimensions are given more emphasis in the DR plot distances.  For computational reasons, weights cannot go to absolute zero. When used in DR, the weights are first normalized such that they sum to 1.\n",
    "\n",
    "After adjusting the sliders, click the **Apply** button to show the results in the DR plot.\n",
    "\n",
    "To reset the sliders to their default values, click the **Reset** button."
   ]
  },
  {
   "cell_type": "code",
   "execution_count": 17,
   "metadata": {
    "scrolled": true
   },
   "outputs": [
    {
     "data": {
      "application/vnd.jupyter.widget-view+json": {
       "model_id": "95c9e6ca219848c7a4bfa14f38e82b45",
       "version_major": 2,
       "version_minor": 0
      },
      "text/plain": [
       "FloatSlider(value=1e-05, continuous_update=False, description='1', max=0.9999, min=1e-05, readout_format='.5f'…"
      ]
     },
     "metadata": {},
     "output_type": "display_data"
    },
    {
     "data": {
      "application/vnd.jupyter.widget-view+json": {
       "model_id": "a907cd3316cc4b7692b7434275986781",
       "version_major": 2,
       "version_minor": 0
      },
      "text/plain": [
       "FloatSlider(value=1e-05, continuous_update=False, description='2', max=0.9999, min=1e-05, readout_format='.5f'…"
      ]
     },
     "metadata": {},
     "output_type": "display_data"
    },
    {
     "data": {
      "application/vnd.jupyter.widget-view+json": {
       "model_id": "37037326fb454f1aa77e603da7f5a6e3",
       "version_major": 2,
       "version_minor": 0
      },
      "text/plain": [
       "FloatSlider(value=1e-05, continuous_update=False, description='3', max=0.9999, min=1e-05, readout_format='.5f'…"
      ]
     },
     "metadata": {},
     "output_type": "display_data"
    },
    {
     "data": {
      "application/vnd.jupyter.widget-view+json": {
       "model_id": "60ea3dc74a4a45c89650302c115a4848",
       "version_major": 2,
       "version_minor": 0
      },
      "text/plain": [
       "FloatSlider(value=1e-05, continuous_update=False, description='4', max=0.9999, min=1e-05, readout_format='.5f'…"
      ]
     },
     "metadata": {},
     "output_type": "display_data"
    },
    {
     "data": {
      "application/vnd.jupyter.widget-view+json": {
       "model_id": "bd5e7f160a464d23b9b767d7b754c934",
       "version_major": 2,
       "version_minor": 0
      },
      "text/plain": [
       "FloatSlider(value=1e-05, continuous_update=False, description='5', max=0.9999, min=1e-05, readout_format='.5f'…"
      ]
     },
     "metadata": {},
     "output_type": "display_data"
    },
    {
     "data": {
      "application/vnd.jupyter.widget-view+json": {
       "model_id": "dae41995ea0f435882d20d36e1c93e60",
       "version_major": 2,
       "version_minor": 0
      },
      "text/plain": [
       "FloatSlider(value=1e-05, continuous_update=False, description='6', max=0.9999, min=1e-05, readout_format='.5f'…"
      ]
     },
     "metadata": {},
     "output_type": "display_data"
    },
    {
     "data": {
      "application/vnd.jupyter.widget-view+json": {
       "model_id": "72c669cd02394760adc5e04e173ee950",
       "version_major": 2,
       "version_minor": 0
      },
      "text/plain": [
       "FloatSlider(value=1e-05, continuous_update=False, description='7', max=0.9999, min=1e-05, readout_format='.5f'…"
      ]
     },
     "metadata": {},
     "output_type": "display_data"
    },
    {
     "data": {
      "application/vnd.jupyter.widget-view+json": {
       "model_id": "48a1ef1e5bda408e88c88ca404fc25fc",
       "version_major": 2,
       "version_minor": 0
      },
      "text/plain": [
       "FloatSlider(value=1e-05, continuous_update=False, description='8', max=0.9999, min=1e-05, readout_format='.5f'…"
      ]
     },
     "metadata": {},
     "output_type": "display_data"
    },
    {
     "data": {
      "application/vnd.jupyter.widget-view+json": {
       "model_id": "503835b11b874f73b427506d7ccfcbb8",
       "version_major": 2,
       "version_minor": 0
      },
      "text/plain": [
       "FloatSlider(value=1e-05, continuous_update=False, description='9', max=0.9999, min=1e-05, readout_format='.5f'…"
      ]
     },
     "metadata": {},
     "output_type": "display_data"
    },
    {
     "data": {
      "application/vnd.jupyter.widget-view+json": {
       "model_id": "6e1368a1b686469eb51a26b0f7940445",
       "version_major": 2,
       "version_minor": 0
      },
      "text/plain": [
       "FloatSlider(value=1e-05, continuous_update=False, description='10', max=0.9999, min=1e-05, readout_format='.5f…"
      ]
     },
     "metadata": {},
     "output_type": "display_data"
    },
    {
     "data": {
      "application/vnd.jupyter.widget-view+json": {
       "model_id": "cb76c4547b404823ad3341be81214008",
       "version_major": 2,
       "version_minor": 0
      },
      "text/plain": [
       "FloatSlider(value=1e-05, continuous_update=False, description='11', max=0.9999, min=1e-05, readout_format='.5f…"
      ]
     },
     "metadata": {},
     "output_type": "display_data"
    },
    {
     "data": {
      "application/vnd.jupyter.widget-view+json": {
       "model_id": "041dcd472fc748daa6af1ec95eb4eeca",
       "version_major": 2,
       "version_minor": 0
      },
      "text/plain": [
       "FloatSlider(value=1e-05, continuous_update=False, description='12', max=0.9999, min=1e-05, readout_format='.5f…"
      ]
     },
     "metadata": {},
     "output_type": "display_data"
    },
    {
     "data": {
      "application/vnd.jupyter.widget-view+json": {
       "model_id": "cc8651f6cabd4a01bdcbd821aa85eaf5",
       "version_major": 2,
       "version_minor": 0
      },
      "text/plain": [
       "FloatSlider(value=1e-05, continuous_update=False, description='13', max=0.9999, min=1e-05, readout_format='.5f…"
      ]
     },
     "metadata": {},
     "output_type": "display_data"
    },
    {
     "data": {
      "application/vnd.jupyter.widget-view+json": {
       "model_id": "49c0b5661a004742823a8f0fe6251d50",
       "version_major": 2,
       "version_minor": 0
      },
      "text/plain": [
       "FloatSlider(value=1e-05, continuous_update=False, description='14', max=0.9999, min=1e-05, readout_format='.5f…"
      ]
     },
     "metadata": {},
     "output_type": "display_data"
    },
    {
     "data": {
      "application/vnd.jupyter.widget-view+json": {
       "model_id": "aa978734795942d5ad08459aa195e50b",
       "version_major": 2,
       "version_minor": 0
      },
      "text/plain": [
       "FloatSlider(value=1e-05, continuous_update=False, description='15', max=0.9999, min=1e-05, readout_format='.5f…"
      ]
     },
     "metadata": {},
     "output_type": "display_data"
    },
    {
     "data": {
      "application/vnd.jupyter.widget-view+json": {
       "model_id": "d0ee73cf9fde47ad9f99dee20bb323d3",
       "version_major": 2,
       "version_minor": 0
      },
      "text/plain": [
       "FloatSlider(value=1e-05, continuous_update=False, description='16', max=0.9999, min=1e-05, readout_format='.5f…"
      ]
     },
     "metadata": {},
     "output_type": "display_data"
    },
    {
     "data": {
      "application/vnd.jupyter.widget-view+json": {
       "model_id": "771542164a6b4fa09cab02429bf24175",
       "version_major": 2,
       "version_minor": 0
      },
      "text/plain": [
       "FloatSlider(value=1e-05, continuous_update=False, description='17', max=0.9999, min=1e-05, readout_format='.5f…"
      ]
     },
     "metadata": {},
     "output_type": "display_data"
    },
    {
     "data": {
      "application/vnd.jupyter.widget-view+json": {
       "model_id": "783e855ea99b4870a90acd1be56c3875",
       "version_major": 2,
       "version_minor": 0
      },
      "text/plain": [
       "FloatSlider(value=1e-05, continuous_update=False, description='18', max=0.9999, min=1e-05, readout_format='.5f…"
      ]
     },
     "metadata": {},
     "output_type": "display_data"
    },
    {
     "data": {
      "application/vnd.jupyter.widget-view+json": {
       "model_id": "d8ebcba4f0cf4c378757be0f4877d0a8",
       "version_major": 2,
       "version_minor": 0
      },
      "text/plain": [
       "FloatSlider(value=1e-05, continuous_update=False, description='19', max=0.9999, min=1e-05, readout_format='.5f…"
      ]
     },
     "metadata": {},
     "output_type": "display_data"
    },
    {
     "data": {
      "application/vnd.jupyter.widget-view+json": {
       "model_id": "6aae7fbaae3346d4a7dd5e500b681bb4",
       "version_major": 2,
       "version_minor": 0
      },
      "text/plain": [
       "FloatSlider(value=1e-05, continuous_update=False, description='20', max=0.9999, min=1e-05, readout_format='.5f…"
      ]
     },
     "metadata": {},
     "output_type": "display_data"
    },
    {
     "data": {
      "application/vnd.jupyter.widget-view+json": {
       "model_id": "458e4230a6a240f2903f11c3b9327671",
       "version_major": 2,
       "version_minor": 0
      },
      "text/plain": [
       "FloatSlider(value=1e-05, continuous_update=False, description='21', max=0.9999, min=1e-05, readout_format='.5f…"
      ]
     },
     "metadata": {},
     "output_type": "display_data"
    },
    {
     "data": {
      "application/vnd.jupyter.widget-view+json": {
       "model_id": "218d0c3e7a6942a1a88ff5ad077de9c9",
       "version_major": 2,
       "version_minor": 0
      },
      "text/plain": [
       "FloatSlider(value=1e-05, continuous_update=False, description='22', max=0.9999, min=1e-05, readout_format='.5f…"
      ]
     },
     "metadata": {},
     "output_type": "display_data"
    },
    {
     "data": {
      "application/vnd.jupyter.widget-view+json": {
       "model_id": "808fcc57aec043bdbae5bb9e768c5e28",
       "version_major": 2,
       "version_minor": 0
      },
      "text/plain": [
       "FloatSlider(value=1e-05, continuous_update=False, description='23', max=0.9999, min=1e-05, readout_format='.5f…"
      ]
     },
     "metadata": {},
     "output_type": "display_data"
    },
    {
     "data": {
      "application/vnd.jupyter.widget-view+json": {
       "model_id": "fde9095bb4be4bc9ab61729cf877cc24",
       "version_major": 2,
       "version_minor": 0
      },
      "text/plain": [
       "FloatSlider(value=1e-05, continuous_update=False, description='24', max=0.9999, min=1e-05, readout_format='.5f…"
      ]
     },
     "metadata": {},
     "output_type": "display_data"
    },
    {
     "data": {
      "application/vnd.jupyter.widget-view+json": {
       "model_id": "cec9900a78f54cb8b0515682adeac95a",
       "version_major": 2,
       "version_minor": 0
      },
      "text/plain": [
       "FloatSlider(value=1e-05, continuous_update=False, description='25', max=0.9999, min=1e-05, readout_format='.5f…"
      ]
     },
     "metadata": {},
     "output_type": "display_data"
    },
    {
     "data": {
      "application/vnd.jupyter.widget-view+json": {
       "model_id": "1e8a0d70c0c34d7898c529433da19843",
       "version_major": 2,
       "version_minor": 0
      },
      "text/plain": [
       "FloatSlider(value=1e-05, continuous_update=False, description='26', max=0.9999, min=1e-05, readout_format='.5f…"
      ]
     },
     "metadata": {},
     "output_type": "display_data"
    },
    {
     "data": {
      "application/vnd.jupyter.widget-view+json": {
       "model_id": "163d3ef1b4dc4c92afcf3b453abb5329",
       "version_major": 2,
       "version_minor": 0
      },
      "text/plain": [
       "FloatSlider(value=1e-05, continuous_update=False, description='27', max=0.9999, min=1e-05, readout_format='.5f…"
      ]
     },
     "metadata": {},
     "output_type": "display_data"
    },
    {
     "data": {
      "application/vnd.jupyter.widget-view+json": {
       "model_id": "7735b8177dec401680d63d6d264c45bc",
       "version_major": 2,
       "version_minor": 0
      },
      "text/plain": [
       "FloatSlider(value=1e-05, continuous_update=False, description='28', max=0.9999, min=1e-05, readout_format='.5f…"
      ]
     },
     "metadata": {},
     "output_type": "display_data"
    },
    {
     "data": {
      "application/vnd.jupyter.widget-view+json": {
       "model_id": "245853616bbd49269130863b6b9b0ca2",
       "version_major": 2,
       "version_minor": 0
      },
      "text/plain": [
       "FloatSlider(value=1e-05, continuous_update=False, description='29', max=0.9999, min=1e-05, readout_format='.5f…"
      ]
     },
     "metadata": {},
     "output_type": "display_data"
    },
    {
     "data": {
      "application/vnd.jupyter.widget-view+json": {
       "model_id": "26968b4507294567b93fe4def4c7391b",
       "version_major": 2,
       "version_minor": 0
      },
      "text/plain": [
       "FloatSlider(value=1e-05, continuous_update=False, description='30', max=0.9999, min=1e-05, readout_format='.5f…"
      ]
     },
     "metadata": {},
     "output_type": "display_data"
    },
    {
     "data": {
      "application/vnd.jupyter.widget-view+json": {
       "model_id": "2f6f58823b2348cd986d4b2c3168ef90",
       "version_major": 2,
       "version_minor": 0
      },
      "text/plain": [
       "FloatSlider(value=1e-05, continuous_update=False, description='31', max=0.9999, min=1e-05, readout_format='.5f…"
      ]
     },
     "metadata": {},
     "output_type": "display_data"
    },
    {
     "data": {
      "application/vnd.jupyter.widget-view+json": {
       "model_id": "e7fbc05b9e5642418a307ed8ef3663e5",
       "version_major": 2,
       "version_minor": 0
      },
      "text/plain": [
       "FloatSlider(value=1e-05, continuous_update=False, description='32', max=0.9999, min=1e-05, readout_format='.5f…"
      ]
     },
     "metadata": {},
     "output_type": "display_data"
    },
    {
     "data": {
      "application/vnd.jupyter.widget-view+json": {
       "model_id": "1d2f2354c6104fa8987ecb5aae7ba5a2",
       "version_major": 2,
       "version_minor": 0
      },
      "text/plain": [
       "FloatSlider(value=1e-05, continuous_update=False, description='33', max=0.9999, min=1e-05, readout_format='.5f…"
      ]
     },
     "metadata": {},
     "output_type": "display_data"
    },
    {
     "data": {
      "application/vnd.jupyter.widget-view+json": {
       "model_id": "203fb9e6c6f045ab9a33c600652f7e48",
       "version_major": 2,
       "version_minor": 0
      },
      "text/plain": [
       "FloatSlider(value=1e-05, continuous_update=False, description='34', max=0.9999, min=1e-05, readout_format='.5f…"
      ]
     },
     "metadata": {},
     "output_type": "display_data"
    },
    {
     "data": {
      "application/vnd.jupyter.widget-view+json": {
       "model_id": "9d32cddd109e402687163433ee5aea3b",
       "version_major": 2,
       "version_minor": 0
      },
      "text/plain": [
       "FloatSlider(value=1e-05, continuous_update=False, description='35', max=0.9999, min=1e-05, readout_format='.5f…"
      ]
     },
     "metadata": {},
     "output_type": "display_data"
    },
    {
     "data": {
      "application/vnd.jupyter.widget-view+json": {
       "model_id": "ae275ff7b5cf4e8e8fe6317e1c40aa7e",
       "version_major": 2,
       "version_minor": 0
      },
      "text/plain": [
       "FloatSlider(value=1e-05, continuous_update=False, description='36', max=0.9999, min=1e-05, readout_format='.5f…"
      ]
     },
     "metadata": {},
     "output_type": "display_data"
    },
    {
     "data": {
      "application/vnd.jupyter.widget-view+json": {
       "model_id": "f808e7e319c64e41abef4e7276e876ac",
       "version_major": 2,
       "version_minor": 0
      },
      "text/plain": [
       "FloatSlider(value=1e-05, continuous_update=False, description='37', max=0.9999, min=1e-05, readout_format='.5f…"
      ]
     },
     "metadata": {},
     "output_type": "display_data"
    },
    {
     "data": {
      "application/vnd.jupyter.widget-view+json": {
       "model_id": "ca0205f9d9394a849a7b3ef3df2de2e9",
       "version_major": 2,
       "version_minor": 0
      },
      "text/plain": [
       "FloatSlider(value=1e-05, continuous_update=False, description='38', max=0.9999, min=1e-05, readout_format='.5f…"
      ]
     },
     "metadata": {},
     "output_type": "display_data"
    },
    {
     "data": {
      "application/vnd.jupyter.widget-view+json": {
       "model_id": "b90fd5651ea14791a3182af3a30dfe18",
       "version_major": 2,
       "version_minor": 0
      },
      "text/plain": [
       "FloatSlider(value=1e-05, continuous_update=False, description='39', max=0.9999, min=1e-05, readout_format='.5f…"
      ]
     },
     "metadata": {},
     "output_type": "display_data"
    },
    {
     "data": {
      "application/vnd.jupyter.widget-view+json": {
       "model_id": "4dcecc7956eb448aa41c2e703bdb0f78",
       "version_major": 2,
       "version_minor": 0
      },
      "text/plain": [
       "FloatSlider(value=1e-05, continuous_update=False, description='40', max=0.9999, min=1e-05, readout_format='.5f…"
      ]
     },
     "metadata": {},
     "output_type": "display_data"
    },
    {
     "data": {
      "application/vnd.jupyter.widget-view+json": {
       "model_id": "2d0ea665b0ab4170a420c4469dab5fe1",
       "version_major": 2,
       "version_minor": 0
      },
      "text/plain": [
       "FloatSlider(value=1e-05, continuous_update=False, description='41', max=0.9999, min=1e-05, readout_format='.5f…"
      ]
     },
     "metadata": {},
     "output_type": "display_data"
    },
    {
     "data": {
      "application/vnd.jupyter.widget-view+json": {
       "model_id": "51438299bb17431fa124e9eca4f16674",
       "version_major": 2,
       "version_minor": 0
      },
      "text/plain": [
       "FloatSlider(value=1e-05, continuous_update=False, description='42', max=0.9999, min=1e-05, readout_format='.5f…"
      ]
     },
     "metadata": {},
     "output_type": "display_data"
    },
    {
     "data": {
      "application/vnd.jupyter.widget-view+json": {
       "model_id": "f0ba0f1595f24f7eab9b93340260f71c",
       "version_major": 2,
       "version_minor": 0
      },
      "text/plain": [
       "FloatSlider(value=1e-05, continuous_update=False, description='43', max=0.9999, min=1e-05, readout_format='.5f…"
      ]
     },
     "metadata": {},
     "output_type": "display_data"
    },
    {
     "data": {
      "application/vnd.jupyter.widget-view+json": {
       "model_id": "6281ca7b0a4d44e3bea9da8940b52b52",
       "version_major": 2,
       "version_minor": 0
      },
      "text/plain": [
       "FloatSlider(value=1e-05, continuous_update=False, description='44', max=0.9999, min=1e-05, readout_format='.5f…"
      ]
     },
     "metadata": {},
     "output_type": "display_data"
    },
    {
     "data": {
      "application/vnd.jupyter.widget-view+json": {
       "model_id": "4f7aeacdccdf40f4a60cefe84db7b2df",
       "version_major": 2,
       "version_minor": 0
      },
      "text/plain": [
       "FloatSlider(value=1e-05, continuous_update=False, description='45', max=0.9999, min=1e-05, readout_format='.5f…"
      ]
     },
     "metadata": {},
     "output_type": "display_data"
    },
    {
     "data": {
      "application/vnd.jupyter.widget-view+json": {
       "model_id": "9a68c112ab834d7694aaca104c223658",
       "version_major": 2,
       "version_minor": 0
      },
      "text/plain": [
       "FloatSlider(value=1e-05, continuous_update=False, description='46', max=0.9999, min=1e-05, readout_format='.5f…"
      ]
     },
     "metadata": {},
     "output_type": "display_data"
    },
    {
     "data": {
      "application/vnd.jupyter.widget-view+json": {
       "model_id": "5682455004104b3ebbda09845b156bf8",
       "version_major": 2,
       "version_minor": 0
      },
      "text/plain": [
       "FloatSlider(value=1e-05, continuous_update=False, description='47', max=0.9999, min=1e-05, readout_format='.5f…"
      ]
     },
     "metadata": {},
     "output_type": "display_data"
    },
    {
     "data": {
      "application/vnd.jupyter.widget-view+json": {
       "model_id": "5eff17f716034f388480cb09e43a4426",
       "version_major": 2,
       "version_minor": 0
      },
      "text/plain": [
       "FloatSlider(value=1e-05, continuous_update=False, description='48', max=0.9999, min=1e-05, readout_format='.5f…"
      ]
     },
     "metadata": {},
     "output_type": "display_data"
    },
    {
     "data": {
      "application/vnd.jupyter.widget-view+json": {
       "model_id": "8188a6527b6c4efc8c7f195808775fcf",
       "version_major": 2,
       "version_minor": 0
      },
      "text/plain": [
       "FloatSlider(value=1e-05, continuous_update=False, description='49', max=0.9999, min=1e-05, readout_format='.5f…"
      ]
     },
     "metadata": {},
     "output_type": "display_data"
    },
    {
     "data": {
      "application/vnd.jupyter.widget-view+json": {
       "model_id": "b217d7de705e4b69a6086662354d475b",
       "version_major": 2,
       "version_minor": 0
      },
      "text/plain": [
       "FloatSlider(value=1e-05, continuous_update=False, description='50', max=0.9999, min=1e-05, readout_format='.5f…"
      ]
     },
     "metadata": {},
     "output_type": "display_data"
    },
    {
     "data": {
      "application/vnd.jupyter.widget-view+json": {
       "model_id": "cffc3429913b4c67b4024092287f6147",
       "version_major": 2,
       "version_minor": 0
      },
      "text/plain": [
       "FloatSlider(value=1e-05, continuous_update=False, description='51', max=0.9999, min=1e-05, readout_format='.5f…"
      ]
     },
     "metadata": {},
     "output_type": "display_data"
    },
    {
     "data": {
      "application/vnd.jupyter.widget-view+json": {
       "model_id": "963f4314de8e4fdebfddfaee4d3215d8",
       "version_major": 2,
       "version_minor": 0
      },
      "text/plain": [
       "FloatSlider(value=1e-05, continuous_update=False, description='52', max=0.9999, min=1e-05, readout_format='.5f…"
      ]
     },
     "metadata": {},
     "output_type": "display_data"
    },
    {
     "data": {
      "application/vnd.jupyter.widget-view+json": {
       "model_id": "02db1993bac34d56b7b18d1fbc8a50e9",
       "version_major": 2,
       "version_minor": 0
      },
      "text/plain": [
       "FloatSlider(value=1e-05, continuous_update=False, description='53', max=0.9999, min=1e-05, readout_format='.5f…"
      ]
     },
     "metadata": {},
     "output_type": "display_data"
    },
    {
     "data": {
      "application/vnd.jupyter.widget-view+json": {
       "model_id": "d8b684efb5b448299ac389a5f6f54142",
       "version_major": 2,
       "version_minor": 0
      },
      "text/plain": [
       "FloatSlider(value=1e-05, continuous_update=False, description='54', max=0.9999, min=1e-05, readout_format='.5f…"
      ]
     },
     "metadata": {},
     "output_type": "display_data"
    },
    {
     "data": {
      "application/vnd.jupyter.widget-view+json": {
       "model_id": "4f84523e188d478dbb153d07dea3c9d8",
       "version_major": 2,
       "version_minor": 0
      },
      "text/plain": [
       "FloatSlider(value=1e-05, continuous_update=False, description='55', max=0.9999, min=1e-05, readout_format='.5f…"
      ]
     },
     "metadata": {},
     "output_type": "display_data"
    },
    {
     "data": {
      "application/vnd.jupyter.widget-view+json": {
       "model_id": "3b616b46ec9341ce9a7691d98ec3040d",
       "version_major": 2,
       "version_minor": 0
      },
      "text/plain": [
       "FloatSlider(value=1e-05, continuous_update=False, description='56', max=0.9999, min=1e-05, readout_format='.5f…"
      ]
     },
     "metadata": {},
     "output_type": "display_data"
    },
    {
     "data": {
      "application/vnd.jupyter.widget-view+json": {
       "model_id": "eb506b7a2a4a4a2b96ce6fc3d6d14b00",
       "version_major": 2,
       "version_minor": 0
      },
      "text/plain": [
       "FloatSlider(value=1e-05, continuous_update=False, description='57', max=0.9999, min=1e-05, readout_format='.5f…"
      ]
     },
     "metadata": {},
     "output_type": "display_data"
    },
    {
     "data": {
      "application/vnd.jupyter.widget-view+json": {
       "model_id": "e26741ecaf404420964766cce780f953",
       "version_major": 2,
       "version_minor": 0
      },
      "text/plain": [
       "FloatSlider(value=1e-05, continuous_update=False, description='58', max=0.9999, min=1e-05, readout_format='.5f…"
      ]
     },
     "metadata": {},
     "output_type": "display_data"
    },
    {
     "data": {
      "application/vnd.jupyter.widget-view+json": {
       "model_id": "8b5a213c28644dee9e5b6cdcd7a42b36",
       "version_major": 2,
       "version_minor": 0
      },
      "text/plain": [
       "FloatSlider(value=1e-05, continuous_update=False, description='59', max=0.9999, min=1e-05, readout_format='.5f…"
      ]
     },
     "metadata": {},
     "output_type": "display_data"
    },
    {
     "data": {
      "application/vnd.jupyter.widget-view+json": {
       "model_id": "2165f49ff03a48d2bc1d850ecb99364b",
       "version_major": 2,
       "version_minor": 0
      },
      "text/plain": [
       "FloatSlider(value=1e-05, continuous_update=False, description='60', max=0.9999, min=1e-05, readout_format='.5f…"
      ]
     },
     "metadata": {},
     "output_type": "display_data"
    },
    {
     "data": {
      "application/vnd.jupyter.widget-view+json": {
       "model_id": "2ce2dc7bd7a740c7863c4ada7029cd10",
       "version_major": 2,
       "version_minor": 0
      },
      "text/plain": [
       "FloatSlider(value=1e-05, continuous_update=False, description='61', max=0.9999, min=1e-05, readout_format='.5f…"
      ]
     },
     "metadata": {},
     "output_type": "display_data"
    },
    {
     "data": {
      "application/vnd.jupyter.widget-view+json": {
       "model_id": "509e3e1d9b8245f19dfddb0b19c9dfa6",
       "version_major": 2,
       "version_minor": 0
      },
      "text/plain": [
       "FloatSlider(value=1e-05, continuous_update=False, description='62', max=0.9999, min=1e-05, readout_format='.5f…"
      ]
     },
     "metadata": {},
     "output_type": "display_data"
    },
    {
     "data": {
      "application/vnd.jupyter.widget-view+json": {
       "model_id": "509bf99da17440a096977729c2e2ed6e",
       "version_major": 2,
       "version_minor": 0
      },
      "text/plain": [
       "FloatSlider(value=1e-05, continuous_update=False, description='63', max=0.9999, min=1e-05, readout_format='.5f…"
      ]
     },
     "metadata": {},
     "output_type": "display_data"
    },
    {
     "data": {
      "application/vnd.jupyter.widget-view+json": {
       "model_id": "a84ee3742d4d4c57ab8d8509be7765c1",
       "version_major": 2,
       "version_minor": 0
      },
      "text/plain": [
       "FloatSlider(value=1e-05, continuous_update=False, description='64', max=0.9999, min=1e-05, readout_format='.5f…"
      ]
     },
     "metadata": {},
     "output_type": "display_data"
    },
    {
     "data": {
      "application/vnd.jupyter.widget-view+json": {
       "model_id": "7b6ff5ed26f34b9bacaed9beb8b42ada",
       "version_major": 2,
       "version_minor": 0
      },
      "text/plain": [
       "FloatSlider(value=1e-05, continuous_update=False, description='65', max=0.9999, min=1e-05, readout_format='.5f…"
      ]
     },
     "metadata": {},
     "output_type": "display_data"
    },
    {
     "data": {
      "application/vnd.jupyter.widget-view+json": {
       "model_id": "6f922e81fbf54580ba3fb6b308aab802",
       "version_major": 2,
       "version_minor": 0
      },
      "text/plain": [
       "FloatSlider(value=1e-05, continuous_update=False, description='66', max=0.9999, min=1e-05, readout_format='.5f…"
      ]
     },
     "metadata": {},
     "output_type": "display_data"
    },
    {
     "data": {
      "application/vnd.jupyter.widget-view+json": {
       "model_id": "2229e149e15044a0bac9d5250de0fb0c",
       "version_major": 2,
       "version_minor": 0
      },
      "text/plain": [
       "FloatSlider(value=1e-05, continuous_update=False, description='67', max=0.9999, min=1e-05, readout_format='.5f…"
      ]
     },
     "metadata": {},
     "output_type": "display_data"
    },
    {
     "data": {
      "application/vnd.jupyter.widget-view+json": {
       "model_id": "ab42fd4f44d34b9e9d7da15c801c552c",
       "version_major": 2,
       "version_minor": 0
      },
      "text/plain": [
       "FloatSlider(value=1e-05, continuous_update=False, description='68', max=0.9999, min=1e-05, readout_format='.5f…"
      ]
     },
     "metadata": {},
     "output_type": "display_data"
    },
    {
     "data": {
      "application/vnd.jupyter.widget-view+json": {
       "model_id": "d7f700fded554ccda50a2a43ad67d756",
       "version_major": 2,
       "version_minor": 0
      },
      "text/plain": [
       "FloatSlider(value=1e-05, continuous_update=False, description='69', max=0.9999, min=1e-05, readout_format='.5f…"
      ]
     },
     "metadata": {},
     "output_type": "display_data"
    },
    {
     "data": {
      "application/vnd.jupyter.widget-view+json": {
       "model_id": "1040d6c7d53f46a698eb9aa9f72bbc68",
       "version_major": 2,
       "version_minor": 0
      },
      "text/plain": [
       "FloatSlider(value=1e-05, continuous_update=False, description='70', max=0.9999, min=1e-05, readout_format='.5f…"
      ]
     },
     "metadata": {},
     "output_type": "display_data"
    },
    {
     "data": {
      "application/vnd.jupyter.widget-view+json": {
       "model_id": "0f70989b904449cc88e653f05264ce2e",
       "version_major": 2,
       "version_minor": 0
      },
      "text/plain": [
       "FloatSlider(value=1e-05, continuous_update=False, description='71', max=0.9999, min=1e-05, readout_format='.5f…"
      ]
     },
     "metadata": {},
     "output_type": "display_data"
    },
    {
     "data": {
      "application/vnd.jupyter.widget-view+json": {
       "model_id": "6f24aa397b84470c966970e9d15db7ab",
       "version_major": 2,
       "version_minor": 0
      },
      "text/plain": [
       "FloatSlider(value=1e-05, continuous_update=False, description='72', max=0.9999, min=1e-05, readout_format='.5f…"
      ]
     },
     "metadata": {},
     "output_type": "display_data"
    },
    {
     "data": {
      "application/vnd.jupyter.widget-view+json": {
       "model_id": "8cc84682131c4886942e18d34400dc14",
       "version_major": 2,
       "version_minor": 0
      },
      "text/plain": [
       "FloatSlider(value=1e-05, continuous_update=False, description='73', max=0.9999, min=1e-05, readout_format='.5f…"
      ]
     },
     "metadata": {},
     "output_type": "display_data"
    },
    {
     "data": {
      "application/vnd.jupyter.widget-view+json": {
       "model_id": "70dadd363a5a4d18b14d4e9f403ce709",
       "version_major": 2,
       "version_minor": 0
      },
      "text/plain": [
       "FloatSlider(value=1e-05, continuous_update=False, description='74', max=0.9999, min=1e-05, readout_format='.5f…"
      ]
     },
     "metadata": {},
     "output_type": "display_data"
    },
    {
     "data": {
      "application/vnd.jupyter.widget-view+json": {
       "model_id": "cb73239de9064b4eaf566ac78dbb219e",
       "version_major": 2,
       "version_minor": 0
      },
      "text/plain": [
       "FloatSlider(value=1e-05, continuous_update=False, description='75', max=0.9999, min=1e-05, readout_format='.5f…"
      ]
     },
     "metadata": {},
     "output_type": "display_data"
    },
    {
     "data": {
      "application/vnd.jupyter.widget-view+json": {
       "model_id": "92e05601cb7e464fbb4686cb9126918a",
       "version_major": 2,
       "version_minor": 0
      },
      "text/plain": [
       "FloatSlider(value=1e-05, continuous_update=False, description='76', max=0.9999, min=1e-05, readout_format='.5f…"
      ]
     },
     "metadata": {},
     "output_type": "display_data"
    },
    {
     "data": {
      "application/vnd.jupyter.widget-view+json": {
       "model_id": "4c8dbeb3a3c54ce4886e4970e5472b76",
       "version_major": 2,
       "version_minor": 0
      },
      "text/plain": [
       "FloatSlider(value=1e-05, continuous_update=False, description='77', max=0.9999, min=1e-05, readout_format='.5f…"
      ]
     },
     "metadata": {},
     "output_type": "display_data"
    },
    {
     "data": {
      "application/vnd.jupyter.widget-view+json": {
       "model_id": "71b5811a151e4596be580587d537ec64",
       "version_major": 2,
       "version_minor": 0
      },
      "text/plain": [
       "FloatSlider(value=1e-05, continuous_update=False, description='78', max=0.9999, min=1e-05, readout_format='.5f…"
      ]
     },
     "metadata": {},
     "output_type": "display_data"
    },
    {
     "data": {
      "application/vnd.jupyter.widget-view+json": {
       "model_id": "84edaa94c2804a5ca5f518f5b8cf111a",
       "version_major": 2,
       "version_minor": 0
      },
      "text/plain": [
       "FloatSlider(value=1e-05, continuous_update=False, description='79', max=0.9999, min=1e-05, readout_format='.5f…"
      ]
     },
     "metadata": {},
     "output_type": "display_data"
    },
    {
     "data": {
      "application/vnd.jupyter.widget-view+json": {
       "model_id": "142b669edb084db79ac1f88debad30b9",
       "version_major": 2,
       "version_minor": 0
      },
      "text/plain": [
       "FloatSlider(value=1e-05, continuous_update=False, description='80', max=0.9999, min=1e-05, readout_format='.5f…"
      ]
     },
     "metadata": {},
     "output_type": "display_data"
    },
    {
     "data": {
      "application/vnd.jupyter.widget-view+json": {
       "model_id": "acd35ccd816d4faab3a18267f0ba8cff",
       "version_major": 2,
       "version_minor": 0
      },
      "text/plain": [
       "FloatSlider(value=1e-05, continuous_update=False, description='81', max=0.9999, min=1e-05, readout_format='.5f…"
      ]
     },
     "metadata": {},
     "output_type": "display_data"
    },
    {
     "data": {
      "application/vnd.jupyter.widget-view+json": {
       "model_id": "001847da2f8a4f188d367f17af70e208",
       "version_major": 2,
       "version_minor": 0
      },
      "text/plain": [
       "FloatSlider(value=1e-05, continuous_update=False, description='82', max=0.9999, min=1e-05, readout_format='.5f…"
      ]
     },
     "metadata": {},
     "output_type": "display_data"
    },
    {
     "data": {
      "application/vnd.jupyter.widget-view+json": {
       "model_id": "ae934b62ab2845a499f567710993dcd1",
       "version_major": 2,
       "version_minor": 0
      },
      "text/plain": [
       "FloatSlider(value=1e-05, continuous_update=False, description='83', max=0.9999, min=1e-05, readout_format='.5f…"
      ]
     },
     "metadata": {},
     "output_type": "display_data"
    },
    {
     "data": {
      "application/vnd.jupyter.widget-view+json": {
       "model_id": "5ab7016c85454c489f41957f6d9675e5",
       "version_major": 2,
       "version_minor": 0
      },
      "text/plain": [
       "FloatSlider(value=1e-05, continuous_update=False, description='84', max=0.9999, min=1e-05, readout_format='.5f…"
      ]
     },
     "metadata": {},
     "output_type": "display_data"
    },
    {
     "data": {
      "application/vnd.jupyter.widget-view+json": {
       "model_id": "a4952f42e0bf43a0887a37242da3959c",
       "version_major": 2,
       "version_minor": 0
      },
      "text/plain": [
       "FloatSlider(value=1e-05, continuous_update=False, description='85', max=0.9999, min=1e-05, readout_format='.5f…"
      ]
     },
     "metadata": {},
     "output_type": "display_data"
    },
    {
     "data": {
      "application/vnd.jupyter.widget-view+json": {
       "model_id": "0a9c7f6c549847dbb24ca348598b41c4",
       "version_major": 2,
       "version_minor": 0
      },
      "text/plain": [
       "FloatSlider(value=1e-05, continuous_update=False, description='86', max=0.9999, min=1e-05, readout_format='.5f…"
      ]
     },
     "metadata": {},
     "output_type": "display_data"
    },
    {
     "data": {
      "application/vnd.jupyter.widget-view+json": {
       "model_id": "50ed626b7ff440f5a3ed3657e026f638",
       "version_major": 2,
       "version_minor": 0
      },
      "text/plain": [
       "FloatSlider(value=1e-05, continuous_update=False, description='87', max=0.9999, min=1e-05, readout_format='.5f…"
      ]
     },
     "metadata": {},
     "output_type": "display_data"
    },
    {
     "data": {
      "application/vnd.jupyter.widget-view+json": {
       "model_id": "e4493aa6b3df4d089162718fbf35196d",
       "version_major": 2,
       "version_minor": 0
      },
      "text/plain": [
       "FloatSlider(value=1e-05, continuous_update=False, description='88', max=0.9999, min=1e-05, readout_format='.5f…"
      ]
     },
     "metadata": {},
     "output_type": "display_data"
    },
    {
     "data": {
      "application/vnd.jupyter.widget-view+json": {
       "model_id": "aaeb90bbec004e9ea90ae6ba9d800d26",
       "version_major": 2,
       "version_minor": 0
      },
      "text/plain": [
       "FloatSlider(value=1e-05, continuous_update=False, description='89', max=0.9999, min=1e-05, readout_format='.5f…"
      ]
     },
     "metadata": {},
     "output_type": "display_data"
    },
    {
     "data": {
      "application/vnd.jupyter.widget-view+json": {
       "model_id": "eda94e46546047409fab734299fbe018",
       "version_major": 2,
       "version_minor": 0
      },
      "text/plain": [
       "FloatSlider(value=1e-05, continuous_update=False, description='90', max=0.9999, min=1e-05, readout_format='.5f…"
      ]
     },
     "metadata": {},
     "output_type": "display_data"
    },
    {
     "data": {
      "application/vnd.jupyter.widget-view+json": {
       "model_id": "78faf23ed88c4eebbbe1f31c6ec61e1a",
       "version_major": 2,
       "version_minor": 0
      },
      "text/plain": [
       "FloatSlider(value=1e-05, continuous_update=False, description='91', max=0.9999, min=1e-05, readout_format='.5f…"
      ]
     },
     "metadata": {},
     "output_type": "display_data"
    },
    {
     "data": {
      "application/vnd.jupyter.widget-view+json": {
       "model_id": "baafddc47de64d30b2fa438af9701c98",
       "version_major": 2,
       "version_minor": 0
      },
      "text/plain": [
       "FloatSlider(value=1e-05, continuous_update=False, description='92', max=0.9999, min=1e-05, readout_format='.5f…"
      ]
     },
     "metadata": {},
     "output_type": "display_data"
    },
    {
     "data": {
      "application/vnd.jupyter.widget-view+json": {
       "model_id": "b42d1d39d5714a75ab386bce613fe2f1",
       "version_major": 2,
       "version_minor": 0
      },
      "text/plain": [
       "FloatSlider(value=1e-05, continuous_update=False, description='93', max=0.9999, min=1e-05, readout_format='.5f…"
      ]
     },
     "metadata": {},
     "output_type": "display_data"
    },
    {
     "data": {
      "application/vnd.jupyter.widget-view+json": {
       "model_id": "72ef6fb5a86140b5b8388db2ca1f9626",
       "version_major": 2,
       "version_minor": 0
      },
      "text/plain": [
       "FloatSlider(value=1e-05, continuous_update=False, description='94', max=0.9999, min=1e-05, readout_format='.5f…"
      ]
     },
     "metadata": {},
     "output_type": "display_data"
    },
    {
     "data": {
      "application/vnd.jupyter.widget-view+json": {
       "model_id": "289d6a28f9594532b84372a0e42a23a5",
       "version_major": 2,
       "version_minor": 0
      },
      "text/plain": [
       "FloatSlider(value=1e-05, continuous_update=False, description='95', max=0.9999, min=1e-05, readout_format='.5f…"
      ]
     },
     "metadata": {},
     "output_type": "display_data"
    },
    {
     "data": {
      "application/vnd.jupyter.widget-view+json": {
       "model_id": "90679c909e13452490c6cdf68feb008a",
       "version_major": 2,
       "version_minor": 0
      },
      "text/plain": [
       "FloatSlider(value=1e-05, continuous_update=False, description='96', max=0.9999, min=1e-05, readout_format='.5f…"
      ]
     },
     "metadata": {},
     "output_type": "display_data"
    },
    {
     "data": {
      "application/vnd.jupyter.widget-view+json": {
       "model_id": "1bf5204001184c109b048d82dce8bea6",
       "version_major": 2,
       "version_minor": 0
      },
      "text/plain": [
       "FloatSlider(value=1e-05, continuous_update=False, description='97', max=0.9999, min=1e-05, readout_format='.5f…"
      ]
     },
     "metadata": {},
     "output_type": "display_data"
    },
    {
     "data": {
      "application/vnd.jupyter.widget-view+json": {
       "model_id": "b379fedefbb44ca7a5d905e2aff5ad83",
       "version_major": 2,
       "version_minor": 0
      },
      "text/plain": [
       "FloatSlider(value=1e-05, continuous_update=False, description='98', max=0.9999, min=1e-05, readout_format='.5f…"
      ]
     },
     "metadata": {},
     "output_type": "display_data"
    },
    {
     "data": {
      "application/vnd.jupyter.widget-view+json": {
       "model_id": "d1b6d17afe9047f48e18dadc43ca5db2",
       "version_major": 2,
       "version_minor": 0
      },
      "text/plain": [
       "FloatSlider(value=1e-05, continuous_update=False, description='99', max=0.9999, min=1e-05, readout_format='.5f…"
      ]
     },
     "metadata": {},
     "output_type": "display_data"
    },
    {
     "data": {
      "application/vnd.jupyter.widget-view+json": {
       "model_id": "75176d14ca6e4716ba481a52ed374738",
       "version_major": 2,
       "version_minor": 0
      },
      "text/plain": [
       "FloatSlider(value=1e-05, continuous_update=False, description='100', max=0.9999, min=1e-05, readout_format='.5…"
      ]
     },
     "metadata": {},
     "output_type": "display_data"
    },
    {
     "data": {
      "application/vnd.jupyter.widget-view+json": {
       "model_id": "a155e757578d4aa59e2fcd149a6c85a4",
       "version_major": 2,
       "version_minor": 0
      },
      "text/plain": [
       "FloatSlider(value=1e-05, continuous_update=False, description='101', max=0.9999, min=1e-05, readout_format='.5…"
      ]
     },
     "metadata": {},
     "output_type": "display_data"
    },
    {
     "data": {
      "application/vnd.jupyter.widget-view+json": {
       "model_id": "4353193540f64cbb9b2a9a3f864e158b",
       "version_major": 2,
       "version_minor": 0
      },
      "text/plain": [
       "FloatSlider(value=1e-05, continuous_update=False, description='102', max=0.9999, min=1e-05, readout_format='.5…"
      ]
     },
     "metadata": {},
     "output_type": "display_data"
    },
    {
     "data": {
      "application/vnd.jupyter.widget-view+json": {
       "model_id": "a4775282072f43a2b496660dacb2df46",
       "version_major": 2,
       "version_minor": 0
      },
      "text/plain": [
       "FloatSlider(value=1e-05, continuous_update=False, description='103', max=0.9999, min=1e-05, readout_format='.5…"
      ]
     },
     "metadata": {},
     "output_type": "display_data"
    },
    {
     "data": {
      "application/vnd.jupyter.widget-view+json": {
       "model_id": "815fc723db944afba3f1b0ae6d0eaa1d",
       "version_major": 2,
       "version_minor": 0
      },
      "text/plain": [
       "FloatSlider(value=1e-05, continuous_update=False, description='104', max=0.9999, min=1e-05, readout_format='.5…"
      ]
     },
     "metadata": {},
     "output_type": "display_data"
    },
    {
     "data": {
      "application/vnd.jupyter.widget-view+json": {
       "model_id": "3f110889eb554c8f98a6d5a7bbdd8808",
       "version_major": 2,
       "version_minor": 0
      },
      "text/plain": [
       "FloatSlider(value=1e-05, continuous_update=False, description='105', max=0.9999, min=1e-05, readout_format='.5…"
      ]
     },
     "metadata": {},
     "output_type": "display_data"
    },
    {
     "data": {
      "application/vnd.jupyter.widget-view+json": {
       "model_id": "23977e41a1394c2597812d6625f40507",
       "version_major": 2,
       "version_minor": 0
      },
      "text/plain": [
       "FloatSlider(value=1e-05, continuous_update=False, description='106', max=0.9999, min=1e-05, readout_format='.5…"
      ]
     },
     "metadata": {},
     "output_type": "display_data"
    },
    {
     "data": {
      "application/vnd.jupyter.widget-view+json": {
       "model_id": "3355d221b95949318d83dc6ae6c6353a",
       "version_major": 2,
       "version_minor": 0
      },
      "text/plain": [
       "FloatSlider(value=1e-05, continuous_update=False, description='107', max=0.9999, min=1e-05, readout_format='.5…"
      ]
     },
     "metadata": {},
     "output_type": "display_data"
    },
    {
     "data": {
      "application/vnd.jupyter.widget-view+json": {
       "model_id": "365d6d00e9c44422b354918a6e7dd3b9",
       "version_major": 2,
       "version_minor": 0
      },
      "text/plain": [
       "FloatSlider(value=1e-05, continuous_update=False, description='108', max=0.9999, min=1e-05, readout_format='.5…"
      ]
     },
     "metadata": {},
     "output_type": "display_data"
    },
    {
     "data": {
      "application/vnd.jupyter.widget-view+json": {
       "model_id": "0d6fe7d5b69b49988de38fcc1d6a6243",
       "version_major": 2,
       "version_minor": 0
      },
      "text/plain": [
       "FloatSlider(value=1e-05, continuous_update=False, description='109', max=0.9999, min=1e-05, readout_format='.5…"
      ]
     },
     "metadata": {},
     "output_type": "display_data"
    },
    {
     "data": {
      "application/vnd.jupyter.widget-view+json": {
       "model_id": "f9055f93102b450d8a398487b3c58509",
       "version_major": 2,
       "version_minor": 0
      },
      "text/plain": [
       "FloatSlider(value=1e-05, continuous_update=False, description='110', max=0.9999, min=1e-05, readout_format='.5…"
      ]
     },
     "metadata": {},
     "output_type": "display_data"
    },
    {
     "data": {
      "application/vnd.jupyter.widget-view+json": {
       "model_id": "f07061c7a51e4dfbbcb1d8a35cbea859",
       "version_major": 2,
       "version_minor": 0
      },
      "text/plain": [
       "FloatSlider(value=1e-05, continuous_update=False, description='111', max=0.9999, min=1e-05, readout_format='.5…"
      ]
     },
     "metadata": {},
     "output_type": "display_data"
    },
    {
     "data": {
      "application/vnd.jupyter.widget-view+json": {
       "model_id": "f69f9461c1164dab919bfb438eefdda3",
       "version_major": 2,
       "version_minor": 0
      },
      "text/plain": [
       "FloatSlider(value=1e-05, continuous_update=False, description='112', max=0.9999, min=1e-05, readout_format='.5…"
      ]
     },
     "metadata": {},
     "output_type": "display_data"
    },
    {
     "data": {
      "application/vnd.jupyter.widget-view+json": {
       "model_id": "cb230cdaab1b4d2da92b64cecf66cb52",
       "version_major": 2,
       "version_minor": 0
      },
      "text/plain": [
       "FloatSlider(value=1e-05, continuous_update=False, description='113', max=0.9999, min=1e-05, readout_format='.5…"
      ]
     },
     "metadata": {},
     "output_type": "display_data"
    },
    {
     "data": {
      "application/vnd.jupyter.widget-view+json": {
       "model_id": "d69e5ac3008d4a19a3234c56192c87aa",
       "version_major": 2,
       "version_minor": 0
      },
      "text/plain": [
       "FloatSlider(value=1e-05, continuous_update=False, description='114', max=0.9999, min=1e-05, readout_format='.5…"
      ]
     },
     "metadata": {},
     "output_type": "display_data"
    },
    {
     "data": {
      "application/vnd.jupyter.widget-view+json": {
       "model_id": "e54f7580ef91471f85fc752da330e17d",
       "version_major": 2,
       "version_minor": 0
      },
      "text/plain": [
       "FloatSlider(value=1e-05, continuous_update=False, description='115', max=0.9999, min=1e-05, readout_format='.5…"
      ]
     },
     "metadata": {},
     "output_type": "display_data"
    },
    {
     "data": {
      "application/vnd.jupyter.widget-view+json": {
       "model_id": "123e2bd38e0e45a6a987f1ea958d6c1e",
       "version_major": 2,
       "version_minor": 0
      },
      "text/plain": [
       "FloatSlider(value=1e-05, continuous_update=False, description='116', max=0.9999, min=1e-05, readout_format='.5…"
      ]
     },
     "metadata": {},
     "output_type": "display_data"
    },
    {
     "data": {
      "application/vnd.jupyter.widget-view+json": {
       "model_id": "7de48d2dd30b489f966a83c95c601b10",
       "version_major": 2,
       "version_minor": 0
      },
      "text/plain": [
       "FloatSlider(value=1e-05, continuous_update=False, description='117', max=0.9999, min=1e-05, readout_format='.5…"
      ]
     },
     "metadata": {},
     "output_type": "display_data"
    },
    {
     "data": {
      "application/vnd.jupyter.widget-view+json": {
       "model_id": "cf90d06bb0154e7d8d56d2291a257d8c",
       "version_major": 2,
       "version_minor": 0
      },
      "text/plain": [
       "FloatSlider(value=1e-05, continuous_update=False, description='118', max=0.9999, min=1e-05, readout_format='.5…"
      ]
     },
     "metadata": {},
     "output_type": "display_data"
    },
    {
     "data": {
      "application/vnd.jupyter.widget-view+json": {
       "model_id": "feef85e53092487dbfcead8496c44e69",
       "version_major": 2,
       "version_minor": 0
      },
      "text/plain": [
       "FloatSlider(value=1e-05, continuous_update=False, description='119', max=0.9999, min=1e-05, readout_format='.5…"
      ]
     },
     "metadata": {},
     "output_type": "display_data"
    },
    {
     "data": {
      "application/vnd.jupyter.widget-view+json": {
       "model_id": "48337943773448c09eb93ebf3827e4aa",
       "version_major": 2,
       "version_minor": 0
      },
      "text/plain": [
       "FloatSlider(value=1e-05, continuous_update=False, description='120', max=0.9999, min=1e-05, readout_format='.5…"
      ]
     },
     "metadata": {},
     "output_type": "display_data"
    },
    {
     "data": {
      "application/vnd.jupyter.widget-view+json": {
       "model_id": "39eb6c2fcf9649f280940f86a2ee687f",
       "version_major": 2,
       "version_minor": 0
      },
      "text/plain": [
       "FloatSlider(value=1e-05, continuous_update=False, description='121', max=0.9999, min=1e-05, readout_format='.5…"
      ]
     },
     "metadata": {},
     "output_type": "display_data"
    },
    {
     "data": {
      "application/vnd.jupyter.widget-view+json": {
       "model_id": "51f5b77733fe4bd18e5ba581b227ca39",
       "version_major": 2,
       "version_minor": 0
      },
      "text/plain": [
       "FloatSlider(value=1e-05, continuous_update=False, description='122', max=0.9999, min=1e-05, readout_format='.5…"
      ]
     },
     "metadata": {},
     "output_type": "display_data"
    },
    {
     "data": {
      "application/vnd.jupyter.widget-view+json": {
       "model_id": "3a8a4eb115934e0eb6a42e4b824263d0",
       "version_major": 2,
       "version_minor": 0
      },
      "text/plain": [
       "FloatSlider(value=1e-05, continuous_update=False, description='123', max=0.9999, min=1e-05, readout_format='.5…"
      ]
     },
     "metadata": {},
     "output_type": "display_data"
    },
    {
     "data": {
      "application/vnd.jupyter.widget-view+json": {
       "model_id": "b6d7ddebbe2b4e6c9cdf6353ce2e07ec",
       "version_major": 2,
       "version_minor": 0
      },
      "text/plain": [
       "FloatSlider(value=1e-05, continuous_update=False, description='124', max=0.9999, min=1e-05, readout_format='.5…"
      ]
     },
     "metadata": {},
     "output_type": "display_data"
    },
    {
     "data": {
      "application/vnd.jupyter.widget-view+json": {
       "model_id": "4d6907820df14cacb4024aee7654fb37",
       "version_major": 2,
       "version_minor": 0
      },
      "text/plain": [
       "FloatSlider(value=1e-05, continuous_update=False, description='125', max=0.9999, min=1e-05, readout_format='.5…"
      ]
     },
     "metadata": {},
     "output_type": "display_data"
    },
    {
     "data": {
      "application/vnd.jupyter.widget-view+json": {
       "model_id": "3ff2df7536034db595023f8ca2792b9b",
       "version_major": 2,
       "version_minor": 0
      },
      "text/plain": [
       "FloatSlider(value=1e-05, continuous_update=False, description='126', max=0.9999, min=1e-05, readout_format='.5…"
      ]
     },
     "metadata": {},
     "output_type": "display_data"
    },
    {
     "data": {
      "application/vnd.jupyter.widget-view+json": {
       "model_id": "ab4fb4d362094750bb1c19aa4f5ede7d",
       "version_major": 2,
       "version_minor": 0
      },
      "text/plain": [
       "FloatSlider(value=1e-05, continuous_update=False, description='127', max=0.9999, min=1e-05, readout_format='.5…"
      ]
     },
     "metadata": {},
     "output_type": "display_data"
    },
    {
     "data": {
      "application/vnd.jupyter.widget-view+json": {
       "model_id": "15c5424102624a3f8f47ee6ff0426058",
       "version_major": 2,
       "version_minor": 0
      },
      "text/plain": [
       "FloatSlider(value=1e-05, continuous_update=False, description='128', max=0.9999, min=1e-05, readout_format='.5…"
      ]
     },
     "metadata": {},
     "output_type": "display_data"
    },
    {
     "data": {
      "application/vnd.jupyter.widget-view+json": {
       "model_id": "4b540254d4be4cdb895de942bb1875d7",
       "version_major": 2,
       "version_minor": 0
      },
      "text/plain": [
       "Button(description='Apply Slider Weights', style=ButtonStyle())"
      ]
     },
     "metadata": {},
     "output_type": "display_data"
    },
    {
     "data": {
      "application/vnd.jupyter.widget-view+json": {
       "model_id": "8373df815260438f8e3a94a849604c03",
       "version_major": 2,
       "version_minor": 0
      },
      "text/plain": [
       "Button(description='Reset Plot', style=ButtonStyle())"
      ]
     },
     "metadata": {},
     "output_type": "display_data"
    }
   ],
   "source": [
    "sliders = create_sliders(weights)"
   ]
  },
  {
   "cell_type": "markdown",
   "metadata": {},
   "source": [
    "## Dimension Reduction Plot\n",
    "This shows the HD data in 2D form, such that **proximity == similarity**, based on the current slider weights.  Distances between points in the plot approximately reflect their distances in the weighted HD data.  Thus points near each other have similar HD data values in the up-weighted dimensions, and points far away have very different HD data values in those dimensions.\n",
    "\n",
    "The color represents the **relevance** of each point to the current slider weights. Yellower points have larger values in up-weighted dimensions.\n",
    "\n",
    "Points can be **selected** to highlight in Green and view their details below.  Points can be **dragged** to specify a new projection for learning weights, see below. To reset the plot and clear the selections, click the **Reset** button above."
   ]
  },
  {
   "cell_type": "code",
   "execution_count": null,
   "metadata": {},
   "outputs": [],
   "source": []
  },
  {
   "cell_type": "code",
   "execution_count": 18,
   "metadata": {
    "scrolled": false
   },
   "outputs": [
    {
     "data": {
      "application/javascript": [
       "/* Put everything inside the global mpl namespace */\n",
       "/* global mpl */\n",
       "window.mpl = {};\n",
       "\n",
       "mpl.get_websocket_type = function () {\n",
       "    if (typeof WebSocket !== 'undefined') {\n",
       "        return WebSocket;\n",
       "    } else if (typeof MozWebSocket !== 'undefined') {\n",
       "        return MozWebSocket;\n",
       "    } else {\n",
       "        alert(\n",
       "            'Your browser does not have WebSocket support. ' +\n",
       "                'Please try Chrome, Safari or Firefox ≥ 6. ' +\n",
       "                'Firefox 4 and 5 are also supported but you ' +\n",
       "                'have to enable WebSockets in about:config.'\n",
       "        );\n",
       "    }\n",
       "};\n",
       "\n",
       "mpl.figure = function (figure_id, websocket, ondownload, parent_element) {\n",
       "    this.id = figure_id;\n",
       "\n",
       "    this.ws = websocket;\n",
       "\n",
       "    this.supports_binary = this.ws.binaryType !== undefined;\n",
       "\n",
       "    if (!this.supports_binary) {\n",
       "        var warnings = document.getElementById('mpl-warnings');\n",
       "        if (warnings) {\n",
       "            warnings.style.display = 'block';\n",
       "            warnings.textContent =\n",
       "                'This browser does not support binary websocket messages. ' +\n",
       "                'Performance may be slow.';\n",
       "        }\n",
       "    }\n",
       "\n",
       "    this.imageObj = new Image();\n",
       "\n",
       "    this.context = undefined;\n",
       "    this.message = undefined;\n",
       "    this.canvas = undefined;\n",
       "    this.rubberband_canvas = undefined;\n",
       "    this.rubberband_context = undefined;\n",
       "    this.format_dropdown = undefined;\n",
       "\n",
       "    this.image_mode = 'full';\n",
       "\n",
       "    this.root = document.createElement('div');\n",
       "    this.root.setAttribute('style', 'display: inline-block');\n",
       "    this._root_extra_style(this.root);\n",
       "\n",
       "    parent_element.appendChild(this.root);\n",
       "\n",
       "    this._init_header(this);\n",
       "    this._init_canvas(this);\n",
       "    this._init_toolbar(this);\n",
       "\n",
       "    var fig = this;\n",
       "\n",
       "    this.waiting = false;\n",
       "\n",
       "    this.ws.onopen = function () {\n",
       "        fig.send_message('supports_binary', { value: fig.supports_binary });\n",
       "        fig.send_message('send_image_mode', {});\n",
       "        if (fig.ratio !== 1) {\n",
       "            fig.send_message('set_dpi_ratio', { dpi_ratio: fig.ratio });\n",
       "        }\n",
       "        fig.send_message('refresh', {});\n",
       "    };\n",
       "\n",
       "    this.imageObj.onload = function () {\n",
       "        if (fig.image_mode === 'full') {\n",
       "            // Full images could contain transparency (where diff images\n",
       "            // almost always do), so we need to clear the canvas so that\n",
       "            // there is no ghosting.\n",
       "            fig.context.clearRect(0, 0, fig.canvas.width, fig.canvas.height);\n",
       "        }\n",
       "        fig.context.drawImage(fig.imageObj, 0, 0);\n",
       "    };\n",
       "\n",
       "    this.imageObj.onunload = function () {\n",
       "        fig.ws.close();\n",
       "    };\n",
       "\n",
       "    this.ws.onmessage = this._make_on_message_function(this);\n",
       "\n",
       "    this.ondownload = ondownload;\n",
       "};\n",
       "\n",
       "mpl.figure.prototype._init_header = function () {\n",
       "    var titlebar = document.createElement('div');\n",
       "    titlebar.classList =\n",
       "        'ui-dialog-titlebar ui-widget-header ui-corner-all ui-helper-clearfix';\n",
       "    var titletext = document.createElement('div');\n",
       "    titletext.classList = 'ui-dialog-title';\n",
       "    titletext.setAttribute(\n",
       "        'style',\n",
       "        'width: 100%; text-align: center; padding: 3px;'\n",
       "    );\n",
       "    titlebar.appendChild(titletext);\n",
       "    this.root.appendChild(titlebar);\n",
       "    this.header = titletext;\n",
       "};\n",
       "\n",
       "mpl.figure.prototype._canvas_extra_style = function (_canvas_div) {};\n",
       "\n",
       "mpl.figure.prototype._root_extra_style = function (_canvas_div) {};\n",
       "\n",
       "mpl.figure.prototype._init_canvas = function () {\n",
       "    var fig = this;\n",
       "\n",
       "    var canvas_div = (this.canvas_div = document.createElement('div'));\n",
       "    canvas_div.setAttribute(\n",
       "        'style',\n",
       "        'border: 1px solid #ddd;' +\n",
       "            'box-sizing: content-box;' +\n",
       "            'clear: both;' +\n",
       "            'min-height: 1px;' +\n",
       "            'min-width: 1px;' +\n",
       "            'outline: 0;' +\n",
       "            'overflow: hidden;' +\n",
       "            'position: relative;' +\n",
       "            'resize: both;'\n",
       "    );\n",
       "\n",
       "    function on_keyboard_event_closure(name) {\n",
       "        return function (event) {\n",
       "            return fig.key_event(event, name);\n",
       "        };\n",
       "    }\n",
       "\n",
       "    canvas_div.addEventListener(\n",
       "        'keydown',\n",
       "        on_keyboard_event_closure('key_press')\n",
       "    );\n",
       "    canvas_div.addEventListener(\n",
       "        'keyup',\n",
       "        on_keyboard_event_closure('key_release')\n",
       "    );\n",
       "\n",
       "    this._canvas_extra_style(canvas_div);\n",
       "    this.root.appendChild(canvas_div);\n",
       "\n",
       "    var canvas = (this.canvas = document.createElement('canvas'));\n",
       "    canvas.classList.add('mpl-canvas');\n",
       "    canvas.setAttribute('style', 'box-sizing: content-box;');\n",
       "\n",
       "    this.context = canvas.getContext('2d');\n",
       "\n",
       "    var backingStore =\n",
       "        this.context.backingStorePixelRatio ||\n",
       "        this.context.webkitBackingStorePixelRatio ||\n",
       "        this.context.mozBackingStorePixelRatio ||\n",
       "        this.context.msBackingStorePixelRatio ||\n",
       "        this.context.oBackingStorePixelRatio ||\n",
       "        this.context.backingStorePixelRatio ||\n",
       "        1;\n",
       "\n",
       "    this.ratio = (window.devicePixelRatio || 1) / backingStore;\n",
       "    if (this.ratio !== 1) {\n",
       "        fig.send_message('set_dpi_ratio', { dpi_ratio: this.ratio });\n",
       "    }\n",
       "\n",
       "    var rubberband_canvas = (this.rubberband_canvas = document.createElement(\n",
       "        'canvas'\n",
       "    ));\n",
       "    rubberband_canvas.setAttribute(\n",
       "        'style',\n",
       "        'box-sizing: content-box; position: absolute; left: 0; top: 0; z-index: 1;'\n",
       "    );\n",
       "\n",
       "    var resizeObserver = new ResizeObserver(function (entries) {\n",
       "        var nentries = entries.length;\n",
       "        for (var i = 0; i < nentries; i++) {\n",
       "            var entry = entries[i];\n",
       "            var width, height;\n",
       "            if (entry.contentBoxSize) {\n",
       "                if (entry.contentBoxSize instanceof Array) {\n",
       "                    // Chrome 84 implements new version of spec.\n",
       "                    width = entry.contentBoxSize[0].inlineSize;\n",
       "                    height = entry.contentBoxSize[0].blockSize;\n",
       "                } else {\n",
       "                    // Firefox implements old version of spec.\n",
       "                    width = entry.contentBoxSize.inlineSize;\n",
       "                    height = entry.contentBoxSize.blockSize;\n",
       "                }\n",
       "            } else {\n",
       "                // Chrome <84 implements even older version of spec.\n",
       "                width = entry.contentRect.width;\n",
       "                height = entry.contentRect.height;\n",
       "            }\n",
       "\n",
       "            // Keep the size of the canvas and rubber band canvas in sync with\n",
       "            // the canvas container.\n",
       "            if (entry.devicePixelContentBoxSize) {\n",
       "                // Chrome 84 implements new version of spec.\n",
       "                canvas.setAttribute(\n",
       "                    'width',\n",
       "                    entry.devicePixelContentBoxSize[0].inlineSize\n",
       "                );\n",
       "                canvas.setAttribute(\n",
       "                    'height',\n",
       "                    entry.devicePixelContentBoxSize[0].blockSize\n",
       "                );\n",
       "            } else {\n",
       "                canvas.setAttribute('width', width * fig.ratio);\n",
       "                canvas.setAttribute('height', height * fig.ratio);\n",
       "            }\n",
       "            canvas.setAttribute(\n",
       "                'style',\n",
       "                'width: ' + width + 'px; height: ' + height + 'px;'\n",
       "            );\n",
       "\n",
       "            rubberband_canvas.setAttribute('width', width);\n",
       "            rubberband_canvas.setAttribute('height', height);\n",
       "\n",
       "            // And update the size in Python. We ignore the initial 0/0 size\n",
       "            // that occurs as the element is placed into the DOM, which should\n",
       "            // otherwise not happen due to the minimum size styling.\n",
       "            if (width != 0 && height != 0) {\n",
       "                fig.request_resize(width, height);\n",
       "            }\n",
       "        }\n",
       "    });\n",
       "    resizeObserver.observe(canvas_div);\n",
       "\n",
       "    function on_mouse_event_closure(name) {\n",
       "        return function (event) {\n",
       "            return fig.mouse_event(event, name);\n",
       "        };\n",
       "    }\n",
       "\n",
       "    rubberband_canvas.addEventListener(\n",
       "        'mousedown',\n",
       "        on_mouse_event_closure('button_press')\n",
       "    );\n",
       "    rubberband_canvas.addEventListener(\n",
       "        'mouseup',\n",
       "        on_mouse_event_closure('button_release')\n",
       "    );\n",
       "    // Throttle sequential mouse events to 1 every 20ms.\n",
       "    rubberband_canvas.addEventListener(\n",
       "        'mousemove',\n",
       "        on_mouse_event_closure('motion_notify')\n",
       "    );\n",
       "\n",
       "    rubberband_canvas.addEventListener(\n",
       "        'mouseenter',\n",
       "        on_mouse_event_closure('figure_enter')\n",
       "    );\n",
       "    rubberband_canvas.addEventListener(\n",
       "        'mouseleave',\n",
       "        on_mouse_event_closure('figure_leave')\n",
       "    );\n",
       "\n",
       "    canvas_div.addEventListener('wheel', function (event) {\n",
       "        if (event.deltaY < 0) {\n",
       "            event.step = 1;\n",
       "        } else {\n",
       "            event.step = -1;\n",
       "        }\n",
       "        on_mouse_event_closure('scroll')(event);\n",
       "    });\n",
       "\n",
       "    canvas_div.appendChild(canvas);\n",
       "    canvas_div.appendChild(rubberband_canvas);\n",
       "\n",
       "    this.rubberband_context = rubberband_canvas.getContext('2d');\n",
       "    this.rubberband_context.strokeStyle = '#000000';\n",
       "\n",
       "    this._resize_canvas = function (width, height, forward) {\n",
       "        if (forward) {\n",
       "            canvas_div.style.width = width + 'px';\n",
       "            canvas_div.style.height = height + 'px';\n",
       "        }\n",
       "    };\n",
       "\n",
       "    // Disable right mouse context menu.\n",
       "    this.rubberband_canvas.addEventListener('contextmenu', function (_e) {\n",
       "        event.preventDefault();\n",
       "        return false;\n",
       "    });\n",
       "\n",
       "    function set_focus() {\n",
       "        canvas.focus();\n",
       "        canvas_div.focus();\n",
       "    }\n",
       "\n",
       "    window.setTimeout(set_focus, 100);\n",
       "};\n",
       "\n",
       "mpl.figure.prototype._init_toolbar = function () {\n",
       "    var fig = this;\n",
       "\n",
       "    var toolbar = document.createElement('div');\n",
       "    toolbar.classList = 'mpl-toolbar';\n",
       "    this.root.appendChild(toolbar);\n",
       "\n",
       "    function on_click_closure(name) {\n",
       "        return function (_event) {\n",
       "            return fig.toolbar_button_onclick(name);\n",
       "        };\n",
       "    }\n",
       "\n",
       "    function on_mouseover_closure(tooltip) {\n",
       "        return function (event) {\n",
       "            if (!event.currentTarget.disabled) {\n",
       "                return fig.toolbar_button_onmouseover(tooltip);\n",
       "            }\n",
       "        };\n",
       "    }\n",
       "\n",
       "    fig.buttons = {};\n",
       "    var buttonGroup = document.createElement('div');\n",
       "    buttonGroup.classList = 'mpl-button-group';\n",
       "    for (var toolbar_ind in mpl.toolbar_items) {\n",
       "        var name = mpl.toolbar_items[toolbar_ind][0];\n",
       "        var tooltip = mpl.toolbar_items[toolbar_ind][1];\n",
       "        var image = mpl.toolbar_items[toolbar_ind][2];\n",
       "        var method_name = mpl.toolbar_items[toolbar_ind][3];\n",
       "\n",
       "        if (!name) {\n",
       "            /* Instead of a spacer, we start a new button group. */\n",
       "            if (buttonGroup.hasChildNodes()) {\n",
       "                toolbar.appendChild(buttonGroup);\n",
       "            }\n",
       "            buttonGroup = document.createElement('div');\n",
       "            buttonGroup.classList = 'mpl-button-group';\n",
       "            continue;\n",
       "        }\n",
       "\n",
       "        var button = (fig.buttons[name] = document.createElement('button'));\n",
       "        button.classList = 'mpl-widget';\n",
       "        button.setAttribute('role', 'button');\n",
       "        button.setAttribute('aria-disabled', 'false');\n",
       "        button.addEventListener('click', on_click_closure(method_name));\n",
       "        button.addEventListener('mouseover', on_mouseover_closure(tooltip));\n",
       "\n",
       "        var icon_img = document.createElement('img');\n",
       "        icon_img.src = '_images/' + image + '.png';\n",
       "        icon_img.srcset = '_images/' + image + '_large.png 2x';\n",
       "        icon_img.alt = tooltip;\n",
       "        button.appendChild(icon_img);\n",
       "\n",
       "        buttonGroup.appendChild(button);\n",
       "    }\n",
       "\n",
       "    if (buttonGroup.hasChildNodes()) {\n",
       "        toolbar.appendChild(buttonGroup);\n",
       "    }\n",
       "\n",
       "    var fmt_picker = document.createElement('select');\n",
       "    fmt_picker.classList = 'mpl-widget';\n",
       "    toolbar.appendChild(fmt_picker);\n",
       "    this.format_dropdown = fmt_picker;\n",
       "\n",
       "    for (var ind in mpl.extensions) {\n",
       "        var fmt = mpl.extensions[ind];\n",
       "        var option = document.createElement('option');\n",
       "        option.selected = fmt === mpl.default_extension;\n",
       "        option.innerHTML = fmt;\n",
       "        fmt_picker.appendChild(option);\n",
       "    }\n",
       "\n",
       "    var status_bar = document.createElement('span');\n",
       "    status_bar.classList = 'mpl-message';\n",
       "    toolbar.appendChild(status_bar);\n",
       "    this.message = status_bar;\n",
       "};\n",
       "\n",
       "mpl.figure.prototype.request_resize = function (x_pixels, y_pixels) {\n",
       "    // Request matplotlib to resize the figure. Matplotlib will then trigger a resize in the client,\n",
       "    // which will in turn request a refresh of the image.\n",
       "    this.send_message('resize', { width: x_pixels, height: y_pixels });\n",
       "};\n",
       "\n",
       "mpl.figure.prototype.send_message = function (type, properties) {\n",
       "    properties['type'] = type;\n",
       "    properties['figure_id'] = this.id;\n",
       "    this.ws.send(JSON.stringify(properties));\n",
       "};\n",
       "\n",
       "mpl.figure.prototype.send_draw_message = function () {\n",
       "    if (!this.waiting) {\n",
       "        this.waiting = true;\n",
       "        this.ws.send(JSON.stringify({ type: 'draw', figure_id: this.id }));\n",
       "    }\n",
       "};\n",
       "\n",
       "mpl.figure.prototype.handle_save = function (fig, _msg) {\n",
       "    var format_dropdown = fig.format_dropdown;\n",
       "    var format = format_dropdown.options[format_dropdown.selectedIndex].value;\n",
       "    fig.ondownload(fig, format);\n",
       "};\n",
       "\n",
       "mpl.figure.prototype.handle_resize = function (fig, msg) {\n",
       "    var size = msg['size'];\n",
       "    if (size[0] !== fig.canvas.width || size[1] !== fig.canvas.height) {\n",
       "        fig._resize_canvas(size[0], size[1], msg['forward']);\n",
       "        fig.send_message('refresh', {});\n",
       "    }\n",
       "};\n",
       "\n",
       "mpl.figure.prototype.handle_rubberband = function (fig, msg) {\n",
       "    var x0 = msg['x0'] / fig.ratio;\n",
       "    var y0 = (fig.canvas.height - msg['y0']) / fig.ratio;\n",
       "    var x1 = msg['x1'] / fig.ratio;\n",
       "    var y1 = (fig.canvas.height - msg['y1']) / fig.ratio;\n",
       "    x0 = Math.floor(x0) + 0.5;\n",
       "    y0 = Math.floor(y0) + 0.5;\n",
       "    x1 = Math.floor(x1) + 0.5;\n",
       "    y1 = Math.floor(y1) + 0.5;\n",
       "    var min_x = Math.min(x0, x1);\n",
       "    var min_y = Math.min(y0, y1);\n",
       "    var width = Math.abs(x1 - x0);\n",
       "    var height = Math.abs(y1 - y0);\n",
       "\n",
       "    fig.rubberband_context.clearRect(\n",
       "        0,\n",
       "        0,\n",
       "        fig.canvas.width / fig.ratio,\n",
       "        fig.canvas.height / fig.ratio\n",
       "    );\n",
       "\n",
       "    fig.rubberband_context.strokeRect(min_x, min_y, width, height);\n",
       "};\n",
       "\n",
       "mpl.figure.prototype.handle_figure_label = function (fig, msg) {\n",
       "    // Updates the figure title.\n",
       "    fig.header.textContent = msg['label'];\n",
       "};\n",
       "\n",
       "mpl.figure.prototype.handle_cursor = function (fig, msg) {\n",
       "    var cursor = msg['cursor'];\n",
       "    switch (cursor) {\n",
       "        case 0:\n",
       "            cursor = 'pointer';\n",
       "            break;\n",
       "        case 1:\n",
       "            cursor = 'default';\n",
       "            break;\n",
       "        case 2:\n",
       "            cursor = 'crosshair';\n",
       "            break;\n",
       "        case 3:\n",
       "            cursor = 'move';\n",
       "            break;\n",
       "    }\n",
       "    fig.rubberband_canvas.style.cursor = cursor;\n",
       "};\n",
       "\n",
       "mpl.figure.prototype.handle_message = function (fig, msg) {\n",
       "    fig.message.textContent = msg['message'];\n",
       "};\n",
       "\n",
       "mpl.figure.prototype.handle_draw = function (fig, _msg) {\n",
       "    // Request the server to send over a new figure.\n",
       "    fig.send_draw_message();\n",
       "};\n",
       "\n",
       "mpl.figure.prototype.handle_image_mode = function (fig, msg) {\n",
       "    fig.image_mode = msg['mode'];\n",
       "};\n",
       "\n",
       "mpl.figure.prototype.handle_history_buttons = function (fig, msg) {\n",
       "    for (var key in msg) {\n",
       "        if (!(key in fig.buttons)) {\n",
       "            continue;\n",
       "        }\n",
       "        fig.buttons[key].disabled = !msg[key];\n",
       "        fig.buttons[key].setAttribute('aria-disabled', !msg[key]);\n",
       "    }\n",
       "};\n",
       "\n",
       "mpl.figure.prototype.handle_navigate_mode = function (fig, msg) {\n",
       "    if (msg['mode'] === 'PAN') {\n",
       "        fig.buttons['Pan'].classList.add('active');\n",
       "        fig.buttons['Zoom'].classList.remove('active');\n",
       "    } else if (msg['mode'] === 'ZOOM') {\n",
       "        fig.buttons['Pan'].classList.remove('active');\n",
       "        fig.buttons['Zoom'].classList.add('active');\n",
       "    } else {\n",
       "        fig.buttons['Pan'].classList.remove('active');\n",
       "        fig.buttons['Zoom'].classList.remove('active');\n",
       "    }\n",
       "};\n",
       "\n",
       "mpl.figure.prototype.updated_canvas_event = function () {\n",
       "    // Called whenever the canvas gets updated.\n",
       "    this.send_message('ack', {});\n",
       "};\n",
       "\n",
       "// A function to construct a web socket function for onmessage handling.\n",
       "// Called in the figure constructor.\n",
       "mpl.figure.prototype._make_on_message_function = function (fig) {\n",
       "    return function socket_on_message(evt) {\n",
       "        if (evt.data instanceof Blob) {\n",
       "            /* FIXME: We get \"Resource interpreted as Image but\n",
       "             * transferred with MIME type text/plain:\" errors on\n",
       "             * Chrome.  But how to set the MIME type?  It doesn't seem\n",
       "             * to be part of the websocket stream */\n",
       "            evt.data.type = 'image/png';\n",
       "\n",
       "            /* Free the memory for the previous frames */\n",
       "            if (fig.imageObj.src) {\n",
       "                (window.URL || window.webkitURL).revokeObjectURL(\n",
       "                    fig.imageObj.src\n",
       "                );\n",
       "            }\n",
       "\n",
       "            fig.imageObj.src = (window.URL || window.webkitURL).createObjectURL(\n",
       "                evt.data\n",
       "            );\n",
       "            fig.updated_canvas_event();\n",
       "            fig.waiting = false;\n",
       "            return;\n",
       "        } else if (\n",
       "            typeof evt.data === 'string' &&\n",
       "            evt.data.slice(0, 21) === 'data:image/png;base64'\n",
       "        ) {\n",
       "            fig.imageObj.src = evt.data;\n",
       "            fig.updated_canvas_event();\n",
       "            fig.waiting = false;\n",
       "            return;\n",
       "        }\n",
       "\n",
       "        var msg = JSON.parse(evt.data);\n",
       "        var msg_type = msg['type'];\n",
       "\n",
       "        // Call the  \"handle_{type}\" callback, which takes\n",
       "        // the figure and JSON message as its only arguments.\n",
       "        try {\n",
       "            var callback = fig['handle_' + msg_type];\n",
       "        } catch (e) {\n",
       "            console.log(\n",
       "                \"No handler for the '\" + msg_type + \"' message type: \",\n",
       "                msg\n",
       "            );\n",
       "            return;\n",
       "        }\n",
       "\n",
       "        if (callback) {\n",
       "            try {\n",
       "                // console.log(\"Handling '\" + msg_type + \"' message: \", msg);\n",
       "                callback(fig, msg);\n",
       "            } catch (e) {\n",
       "                console.log(\n",
       "                    \"Exception inside the 'handler_\" + msg_type + \"' callback:\",\n",
       "                    e,\n",
       "                    e.stack,\n",
       "                    msg\n",
       "                );\n",
       "            }\n",
       "        }\n",
       "    };\n",
       "};\n",
       "\n",
       "// from http://stackoverflow.com/questions/1114465/getting-mouse-location-in-canvas\n",
       "mpl.findpos = function (e) {\n",
       "    //this section is from http://www.quirksmode.org/js/events_properties.html\n",
       "    var targ;\n",
       "    if (!e) {\n",
       "        e = window.event;\n",
       "    }\n",
       "    if (e.target) {\n",
       "        targ = e.target;\n",
       "    } else if (e.srcElement) {\n",
       "        targ = e.srcElement;\n",
       "    }\n",
       "    if (targ.nodeType === 3) {\n",
       "        // defeat Safari bug\n",
       "        targ = targ.parentNode;\n",
       "    }\n",
       "\n",
       "    // pageX,Y are the mouse positions relative to the document\n",
       "    var boundingRect = targ.getBoundingClientRect();\n",
       "    var x = e.pageX - (boundingRect.left + document.body.scrollLeft);\n",
       "    var y = e.pageY - (boundingRect.top + document.body.scrollTop);\n",
       "\n",
       "    return { x: x, y: y };\n",
       "};\n",
       "\n",
       "/*\n",
       " * return a copy of an object with only non-object keys\n",
       " * we need this to avoid circular references\n",
       " * http://stackoverflow.com/a/24161582/3208463\n",
       " */\n",
       "function simpleKeys(original) {\n",
       "    return Object.keys(original).reduce(function (obj, key) {\n",
       "        if (typeof original[key] !== 'object') {\n",
       "            obj[key] = original[key];\n",
       "        }\n",
       "        return obj;\n",
       "    }, {});\n",
       "}\n",
       "\n",
       "mpl.figure.prototype.mouse_event = function (event, name) {\n",
       "    var canvas_pos = mpl.findpos(event);\n",
       "\n",
       "    if (name === 'button_press') {\n",
       "        this.canvas.focus();\n",
       "        this.canvas_div.focus();\n",
       "    }\n",
       "\n",
       "    var x = canvas_pos.x * this.ratio;\n",
       "    var y = canvas_pos.y * this.ratio;\n",
       "\n",
       "    this.send_message(name, {\n",
       "        x: x,\n",
       "        y: y,\n",
       "        button: event.button,\n",
       "        step: event.step,\n",
       "        guiEvent: simpleKeys(event),\n",
       "    });\n",
       "\n",
       "    /* This prevents the web browser from automatically changing to\n",
       "     * the text insertion cursor when the button is pressed.  We want\n",
       "     * to control all of the cursor setting manually through the\n",
       "     * 'cursor' event from matplotlib */\n",
       "    event.preventDefault();\n",
       "    return false;\n",
       "};\n",
       "\n",
       "mpl.figure.prototype._key_event_extra = function (_event, _name) {\n",
       "    // Handle any extra behaviour associated with a key event\n",
       "};\n",
       "\n",
       "mpl.figure.prototype.key_event = function (event, name) {\n",
       "    // Prevent repeat events\n",
       "    if (name === 'key_press') {\n",
       "        if (event.which === this._key) {\n",
       "            return;\n",
       "        } else {\n",
       "            this._key = event.which;\n",
       "        }\n",
       "    }\n",
       "    if (name === 'key_release') {\n",
       "        this._key = null;\n",
       "    }\n",
       "\n",
       "    var value = '';\n",
       "    if (event.ctrlKey && event.which !== 17) {\n",
       "        value += 'ctrl+';\n",
       "    }\n",
       "    if (event.altKey && event.which !== 18) {\n",
       "        value += 'alt+';\n",
       "    }\n",
       "    if (event.shiftKey && event.which !== 16) {\n",
       "        value += 'shift+';\n",
       "    }\n",
       "\n",
       "    value += 'k';\n",
       "    value += event.which.toString();\n",
       "\n",
       "    this._key_event_extra(event, name);\n",
       "\n",
       "    this.send_message(name, { key: value, guiEvent: simpleKeys(event) });\n",
       "    return false;\n",
       "};\n",
       "\n",
       "mpl.figure.prototype.toolbar_button_onclick = function (name) {\n",
       "    if (name === 'download') {\n",
       "        this.handle_save(this, null);\n",
       "    } else {\n",
       "        this.send_message('toolbar_button', { name: name });\n",
       "    }\n",
       "};\n",
       "\n",
       "mpl.figure.prototype.toolbar_button_onmouseover = function (tooltip) {\n",
       "    this.message.textContent = tooltip;\n",
       "};\n",
       "mpl.toolbar_items = [[\"Home\", \"Reset original view\", \"fa fa-home icon-home\", \"home\"], [\"Back\", \"Back to previous view\", \"fa fa-arrow-left icon-arrow-left\", \"back\"], [\"Forward\", \"Forward to next view\", \"fa fa-arrow-right icon-arrow-right\", \"forward\"], [\"\", \"\", \"\", \"\"], [\"Pan\", \"Left button pans, Right button zooms\\nx/y fixes axis, CTRL fixes aspect\", \"fa fa-arrows icon-move\", \"pan\"], [\"Zoom\", \"Zoom to rectangle\\nx/y fixes axis, CTRL fixes aspect\", \"fa fa-square-o icon-check-empty\", \"zoom\"], [\"\", \"\", \"\", \"\"], [\"Download\", \"Download plot\", \"fa fa-floppy-o icon-save\", \"download\"]];\n",
       "\n",
       "mpl.extensions = [\"eps\", \"jpeg\", \"pdf\", \"png\", \"ps\", \"raw\", \"svg\", \"tif\"];\n",
       "\n",
       "mpl.default_extension = \"png\";/* global mpl */\n",
       "\n",
       "var comm_websocket_adapter = function (comm) {\n",
       "    // Create a \"websocket\"-like object which calls the given IPython comm\n",
       "    // object with the appropriate methods. Currently this is a non binary\n",
       "    // socket, so there is still some room for performance tuning.\n",
       "    var ws = {};\n",
       "\n",
       "    ws.close = function () {\n",
       "        comm.close();\n",
       "    };\n",
       "    ws.send = function (m) {\n",
       "        //console.log('sending', m);\n",
       "        comm.send(m);\n",
       "    };\n",
       "    // Register the callback with on_msg.\n",
       "    comm.on_msg(function (msg) {\n",
       "        //console.log('receiving', msg['content']['data'], msg);\n",
       "        // Pass the mpl event to the overridden (by mpl) onmessage function.\n",
       "        ws.onmessage(msg['content']['data']);\n",
       "    });\n",
       "    return ws;\n",
       "};\n",
       "\n",
       "mpl.mpl_figure_comm = function (comm, msg) {\n",
       "    // This is the function which gets called when the mpl process\n",
       "    // starts-up an IPython Comm through the \"matplotlib\" channel.\n",
       "\n",
       "    var id = msg.content.data.id;\n",
       "    // Get hold of the div created by the display call when the Comm\n",
       "    // socket was opened in Python.\n",
       "    var element = document.getElementById(id);\n",
       "    var ws_proxy = comm_websocket_adapter(comm);\n",
       "\n",
       "    function ondownload(figure, _format) {\n",
       "        window.open(figure.canvas.toDataURL());\n",
       "    }\n",
       "\n",
       "    var fig = new mpl.figure(id, ws_proxy, ondownload, element);\n",
       "\n",
       "    // Call onopen now - mpl needs it, as it is assuming we've passed it a real\n",
       "    // web socket which is closed, not our websocket->open comm proxy.\n",
       "    ws_proxy.onopen();\n",
       "\n",
       "    fig.parent_element = element;\n",
       "    fig.cell_info = mpl.find_output_cell(\"<div id='\" + id + \"'></div>\");\n",
       "    if (!fig.cell_info) {\n",
       "        console.error('Failed to find cell for figure', id, fig);\n",
       "        return;\n",
       "    }\n",
       "    fig.cell_info[0].output_area.element.one(\n",
       "        'cleared',\n",
       "        { fig: fig },\n",
       "        fig._remove_fig_handler\n",
       "    );\n",
       "};\n",
       "\n",
       "mpl.figure.prototype.handle_close = function (fig, msg) {\n",
       "    var width = fig.canvas.width / fig.ratio;\n",
       "    fig.cell_info[0].output_area.element.off(\n",
       "        'cleared',\n",
       "        fig._remove_fig_handler\n",
       "    );\n",
       "\n",
       "    // Update the output cell to use the data from the current canvas.\n",
       "    fig.push_to_output();\n",
       "    var dataURL = fig.canvas.toDataURL();\n",
       "    // Re-enable the keyboard manager in IPython - without this line, in FF,\n",
       "    // the notebook keyboard shortcuts fail.\n",
       "    IPython.keyboard_manager.enable();\n",
       "    fig.parent_element.innerHTML =\n",
       "        '<img src=\"' + dataURL + '\" width=\"' + width + '\">';\n",
       "    fig.close_ws(fig, msg);\n",
       "};\n",
       "\n",
       "mpl.figure.prototype.close_ws = function (fig, msg) {\n",
       "    fig.send_message('closing', msg);\n",
       "    // fig.ws.close()\n",
       "};\n",
       "\n",
       "mpl.figure.prototype.push_to_output = function (_remove_interactive) {\n",
       "    // Turn the data on the canvas into data in the output cell.\n",
       "    var width = this.canvas.width / this.ratio;\n",
       "    var dataURL = this.canvas.toDataURL();\n",
       "    this.cell_info[1]['text/html'] =\n",
       "        '<img src=\"' + dataURL + '\" width=\"' + width + '\">';\n",
       "};\n",
       "\n",
       "mpl.figure.prototype.updated_canvas_event = function () {\n",
       "    // Tell IPython that the notebook contents must change.\n",
       "    IPython.notebook.set_dirty(true);\n",
       "    this.send_message('ack', {});\n",
       "    var fig = this;\n",
       "    // Wait a second, then push the new image to the DOM so\n",
       "    // that it is saved nicely (might be nice to debounce this).\n",
       "    setTimeout(function () {\n",
       "        fig.push_to_output();\n",
       "    }, 1000);\n",
       "};\n",
       "\n",
       "mpl.figure.prototype._init_toolbar = function () {\n",
       "    var fig = this;\n",
       "\n",
       "    var toolbar = document.createElement('div');\n",
       "    toolbar.classList = 'btn-toolbar';\n",
       "    this.root.appendChild(toolbar);\n",
       "\n",
       "    function on_click_closure(name) {\n",
       "        return function (_event) {\n",
       "            return fig.toolbar_button_onclick(name);\n",
       "        };\n",
       "    }\n",
       "\n",
       "    function on_mouseover_closure(tooltip) {\n",
       "        return function (event) {\n",
       "            if (!event.currentTarget.disabled) {\n",
       "                return fig.toolbar_button_onmouseover(tooltip);\n",
       "            }\n",
       "        };\n",
       "    }\n",
       "\n",
       "    fig.buttons = {};\n",
       "    var buttonGroup = document.createElement('div');\n",
       "    buttonGroup.classList = 'btn-group';\n",
       "    var button;\n",
       "    for (var toolbar_ind in mpl.toolbar_items) {\n",
       "        var name = mpl.toolbar_items[toolbar_ind][0];\n",
       "        var tooltip = mpl.toolbar_items[toolbar_ind][1];\n",
       "        var image = mpl.toolbar_items[toolbar_ind][2];\n",
       "        var method_name = mpl.toolbar_items[toolbar_ind][3];\n",
       "\n",
       "        if (!name) {\n",
       "            /* Instead of a spacer, we start a new button group. */\n",
       "            if (buttonGroup.hasChildNodes()) {\n",
       "                toolbar.appendChild(buttonGroup);\n",
       "            }\n",
       "            buttonGroup = document.createElement('div');\n",
       "            buttonGroup.classList = 'btn-group';\n",
       "            continue;\n",
       "        }\n",
       "\n",
       "        button = fig.buttons[name] = document.createElement('button');\n",
       "        button.classList = 'btn btn-default';\n",
       "        button.href = '#';\n",
       "        button.title = name;\n",
       "        button.innerHTML = '<i class=\"fa ' + image + ' fa-lg\"></i>';\n",
       "        button.addEventListener('click', on_click_closure(method_name));\n",
       "        button.addEventListener('mouseover', on_mouseover_closure(tooltip));\n",
       "        buttonGroup.appendChild(button);\n",
       "    }\n",
       "\n",
       "    if (buttonGroup.hasChildNodes()) {\n",
       "        toolbar.appendChild(buttonGroup);\n",
       "    }\n",
       "\n",
       "    // Add the status bar.\n",
       "    var status_bar = document.createElement('span');\n",
       "    status_bar.classList = 'mpl-message pull-right';\n",
       "    toolbar.appendChild(status_bar);\n",
       "    this.message = status_bar;\n",
       "\n",
       "    // Add the close button to the window.\n",
       "    var buttongrp = document.createElement('div');\n",
       "    buttongrp.classList = 'btn-group inline pull-right';\n",
       "    button = document.createElement('button');\n",
       "    button.classList = 'btn btn-mini btn-primary';\n",
       "    button.href = '#';\n",
       "    button.title = 'Stop Interaction';\n",
       "    button.innerHTML = '<i class=\"fa fa-power-off icon-remove icon-large\"></i>';\n",
       "    button.addEventListener('click', function (_evt) {\n",
       "        fig.handle_close(fig, {});\n",
       "    });\n",
       "    button.addEventListener(\n",
       "        'mouseover',\n",
       "        on_mouseover_closure('Stop Interaction')\n",
       "    );\n",
       "    buttongrp.appendChild(button);\n",
       "    var titlebar = this.root.querySelector('.ui-dialog-titlebar');\n",
       "    titlebar.insertBefore(buttongrp, titlebar.firstChild);\n",
       "};\n",
       "\n",
       "mpl.figure.prototype._remove_fig_handler = function (event) {\n",
       "    var fig = event.data.fig;\n",
       "    fig.close_ws(fig, {});\n",
       "};\n",
       "\n",
       "mpl.figure.prototype._root_extra_style = function (el) {\n",
       "    el.style.boxSizing = 'content-box'; // override notebook setting of border-box.\n",
       "};\n",
       "\n",
       "mpl.figure.prototype._canvas_extra_style = function (el) {\n",
       "    // this is important to make the div 'focusable\n",
       "    el.setAttribute('tabindex', 0);\n",
       "    // reach out to IPython and tell the keyboard manager to turn it's self\n",
       "    // off when our div gets focus\n",
       "\n",
       "    // location in version 3\n",
       "    if (IPython.notebook.keyboard_manager) {\n",
       "        IPython.notebook.keyboard_manager.register_events(el);\n",
       "    } else {\n",
       "        // location in version 2\n",
       "        IPython.keyboard_manager.register_events(el);\n",
       "    }\n",
       "};\n",
       "\n",
       "mpl.figure.prototype._key_event_extra = function (event, _name) {\n",
       "    var manager = IPython.notebook.keyboard_manager;\n",
       "    if (!manager) {\n",
       "        manager = IPython.keyboard_manager;\n",
       "    }\n",
       "\n",
       "    // Check for shift+enter\n",
       "    if (event.shiftKey && event.which === 13) {\n",
       "        this.canvas_div.blur();\n",
       "        // select the cell after this one\n",
       "        var index = IPython.notebook.find_cell_index(this.cell_info[0]);\n",
       "        IPython.notebook.select(index + 1);\n",
       "    }\n",
       "};\n",
       "\n",
       "mpl.figure.prototype.handle_save = function (fig, _msg) {\n",
       "    fig.ondownload(fig, null);\n",
       "};\n",
       "\n",
       "mpl.find_output_cell = function (html_output) {\n",
       "    // Return the cell and output element which can be found *uniquely* in the notebook.\n",
       "    // Note - this is a bit hacky, but it is done because the \"notebook_saving.Notebook\"\n",
       "    // IPython event is triggered only after the cells have been serialised, which for\n",
       "    // our purposes (turning an active figure into a static one), is too late.\n",
       "    var cells = IPython.notebook.get_cells();\n",
       "    var ncells = cells.length;\n",
       "    for (var i = 0; i < ncells; i++) {\n",
       "        var cell = cells[i];\n",
       "        if (cell.cell_type === 'code') {\n",
       "            for (var j = 0; j < cell.output_area.outputs.length; j++) {\n",
       "                var data = cell.output_area.outputs[j];\n",
       "                if (data.data) {\n",
       "                    // IPython >= 3 moved mimebundle to data attribute of output\n",
       "                    data = data.data;\n",
       "                }\n",
       "                if (data['text/html'] === html_output) {\n",
       "                    return [cell, data, j];\n",
       "                }\n",
       "            }\n",
       "        }\n",
       "    }\n",
       "};\n",
       "\n",
       "// Register the function which deals with the matplotlib target/channel.\n",
       "// The kernel may be null if the page has been refreshed.\n",
       "if (IPython.notebook.kernel !== null) {\n",
       "    IPython.notebook.kernel.comm_manager.register_target(\n",
       "        'matplotlib',\n",
       "        mpl.mpl_figure_comm\n",
       "    );\n",
       "}\n"
      ],
      "text/plain": [
       "<IPython.core.display.Javascript object>"
      ]
     },
     "metadata": {},
     "output_type": "display_data"
    },
    {
     "data": {
      "text/html": [
       "<img src=\"data:image/png;base64,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\" width=\"1000\">"
      ],
      "text/plain": [
       "<IPython.core.display.HTML object>"
      ]
     },
     "metadata": {},
     "output_type": "display_data"
    }
   ],
   "source": [
    "plot_ax = create_plot(df_2D)"
   ]
  },
  {
   "cell_type": "markdown",
   "metadata": {},
   "source": [
    "##  Selected Points Details\n",
    "Click the **Print** button below to display detailed data values of the points selected in the DR plot.  The selected points are Green."
   ]
  },
  {
   "cell_type": "code",
   "execution_count": 19,
   "metadata": {
    "scrolled": false
   },
   "outputs": [
    {
     "data": {
      "application/vnd.jupyter.widget-view+json": {
       "model_id": "fad2b23456eb4cae870967dda5d89176",
       "version_major": 2,
       "version_minor": 0
      },
      "text/plain": [
       "Button(description='Print selected points', style=ButtonStyle())"
      ]
     },
     "metadata": {},
     "output_type": "display_data"
    },
    {
     "data": {
      "application/vnd.jupyter.widget-view+json": {
       "model_id": "279e0eec8a3a452f9bd5b02fa6cc422a",
       "version_major": 2,
       "version_minor": 0
      },
      "text/plain": [
       "Output()"
      ]
     },
     "metadata": {},
     "output_type": "display_data"
    }
   ],
   "source": [
    "dod = create_detail_display()"
   ]
  },
  {
   "cell_type": "markdown",
   "metadata": {},
   "source": [
    "## Inverse Dimension Reduction\n",
    "After selecting and/or dragging some points in the DR plot, click the **Learn** button to machine learn new dimension weights that would produce a plot with similar pairwise distances as your plot.  **Only the Green selected points** in the plot are considered when learning new weights. You must select or move at least two points to specify new desired distances. Use this to create your own clusters, and find out what makes some data points similar to or different from others.  The **learned weights** are shown in a bar chart below.\n",
    "\n",
    "To see the effects of the learned weights, click the **Copy** button to apply the learned weights to the sliders and  make a new DR plot above."
   ]
  },
  {
   "cell_type": "code",
   "execution_count": 20,
   "metadata": {
    "scrolled": false
   },
   "outputs": [
    {
     "data": {
      "application/vnd.jupyter.widget-view+json": {
       "model_id": "2290c40d44f74f34b889287fa468e8d2",
       "version_major": 2,
       "version_minor": 0
      },
      "text/plain": [
       "Button(description='Learn New Weights', style=ButtonStyle())"
      ]
     },
     "metadata": {},
     "output_type": "display_data"
    },
    {
     "data": {
      "application/vnd.jupyter.widget-view+json": {
       "model_id": "fe3aef6823e645c6a4064f4eec913c96",
       "version_major": 2,
       "version_minor": 0
      },
      "text/plain": [
       "Button(description='Copy to Sliders', style=ButtonStyle())"
      ]
     },
     "metadata": {},
     "output_type": "display_data"
    },
    {
     "data": {
      "application/javascript": [
       "/* Put everything inside the global mpl namespace */\n",
       "/* global mpl */\n",
       "window.mpl = {};\n",
       "\n",
       "mpl.get_websocket_type = function () {\n",
       "    if (typeof WebSocket !== 'undefined') {\n",
       "        return WebSocket;\n",
       "    } else if (typeof MozWebSocket !== 'undefined') {\n",
       "        return MozWebSocket;\n",
       "    } else {\n",
       "        alert(\n",
       "            'Your browser does not have WebSocket support. ' +\n",
       "                'Please try Chrome, Safari or Firefox ≥ 6. ' +\n",
       "                'Firefox 4 and 5 are also supported but you ' +\n",
       "                'have to enable WebSockets in about:config.'\n",
       "        );\n",
       "    }\n",
       "};\n",
       "\n",
       "mpl.figure = function (figure_id, websocket, ondownload, parent_element) {\n",
       "    this.id = figure_id;\n",
       "\n",
       "    this.ws = websocket;\n",
       "\n",
       "    this.supports_binary = this.ws.binaryType !== undefined;\n",
       "\n",
       "    if (!this.supports_binary) {\n",
       "        var warnings = document.getElementById('mpl-warnings');\n",
       "        if (warnings) {\n",
       "            warnings.style.display = 'block';\n",
       "            warnings.textContent =\n",
       "                'This browser does not support binary websocket messages. ' +\n",
       "                'Performance may be slow.';\n",
       "        }\n",
       "    }\n",
       "\n",
       "    this.imageObj = new Image();\n",
       "\n",
       "    this.context = undefined;\n",
       "    this.message = undefined;\n",
       "    this.canvas = undefined;\n",
       "    this.rubberband_canvas = undefined;\n",
       "    this.rubberband_context = undefined;\n",
       "    this.format_dropdown = undefined;\n",
       "\n",
       "    this.image_mode = 'full';\n",
       "\n",
       "    this.root = document.createElement('div');\n",
       "    this.root.setAttribute('style', 'display: inline-block');\n",
       "    this._root_extra_style(this.root);\n",
       "\n",
       "    parent_element.appendChild(this.root);\n",
       "\n",
       "    this._init_header(this);\n",
       "    this._init_canvas(this);\n",
       "    this._init_toolbar(this);\n",
       "\n",
       "    var fig = this;\n",
       "\n",
       "    this.waiting = false;\n",
       "\n",
       "    this.ws.onopen = function () {\n",
       "        fig.send_message('supports_binary', { value: fig.supports_binary });\n",
       "        fig.send_message('send_image_mode', {});\n",
       "        if (fig.ratio !== 1) {\n",
       "            fig.send_message('set_dpi_ratio', { dpi_ratio: fig.ratio });\n",
       "        }\n",
       "        fig.send_message('refresh', {});\n",
       "    };\n",
       "\n",
       "    this.imageObj.onload = function () {\n",
       "        if (fig.image_mode === 'full') {\n",
       "            // Full images could contain transparency (where diff images\n",
       "            // almost always do), so we need to clear the canvas so that\n",
       "            // there is no ghosting.\n",
       "            fig.context.clearRect(0, 0, fig.canvas.width, fig.canvas.height);\n",
       "        }\n",
       "        fig.context.drawImage(fig.imageObj, 0, 0);\n",
       "    };\n",
       "\n",
       "    this.imageObj.onunload = function () {\n",
       "        fig.ws.close();\n",
       "    };\n",
       "\n",
       "    this.ws.onmessage = this._make_on_message_function(this);\n",
       "\n",
       "    this.ondownload = ondownload;\n",
       "};\n",
       "\n",
       "mpl.figure.prototype._init_header = function () {\n",
       "    var titlebar = document.createElement('div');\n",
       "    titlebar.classList =\n",
       "        'ui-dialog-titlebar ui-widget-header ui-corner-all ui-helper-clearfix';\n",
       "    var titletext = document.createElement('div');\n",
       "    titletext.classList = 'ui-dialog-title';\n",
       "    titletext.setAttribute(\n",
       "        'style',\n",
       "        'width: 100%; text-align: center; padding: 3px;'\n",
       "    );\n",
       "    titlebar.appendChild(titletext);\n",
       "    this.root.appendChild(titlebar);\n",
       "    this.header = titletext;\n",
       "};\n",
       "\n",
       "mpl.figure.prototype._canvas_extra_style = function (_canvas_div) {};\n",
       "\n",
       "mpl.figure.prototype._root_extra_style = function (_canvas_div) {};\n",
       "\n",
       "mpl.figure.prototype._init_canvas = function () {\n",
       "    var fig = this;\n",
       "\n",
       "    var canvas_div = (this.canvas_div = document.createElement('div'));\n",
       "    canvas_div.setAttribute(\n",
       "        'style',\n",
       "        'border: 1px solid #ddd;' +\n",
       "            'box-sizing: content-box;' +\n",
       "            'clear: both;' +\n",
       "            'min-height: 1px;' +\n",
       "            'min-width: 1px;' +\n",
       "            'outline: 0;' +\n",
       "            'overflow: hidden;' +\n",
       "            'position: relative;' +\n",
       "            'resize: both;'\n",
       "    );\n",
       "\n",
       "    function on_keyboard_event_closure(name) {\n",
       "        return function (event) {\n",
       "            return fig.key_event(event, name);\n",
       "        };\n",
       "    }\n",
       "\n",
       "    canvas_div.addEventListener(\n",
       "        'keydown',\n",
       "        on_keyboard_event_closure('key_press')\n",
       "    );\n",
       "    canvas_div.addEventListener(\n",
       "        'keyup',\n",
       "        on_keyboard_event_closure('key_release')\n",
       "    );\n",
       "\n",
       "    this._canvas_extra_style(canvas_div);\n",
       "    this.root.appendChild(canvas_div);\n",
       "\n",
       "    var canvas = (this.canvas = document.createElement('canvas'));\n",
       "    canvas.classList.add('mpl-canvas');\n",
       "    canvas.setAttribute('style', 'box-sizing: content-box;');\n",
       "\n",
       "    this.context = canvas.getContext('2d');\n",
       "\n",
       "    var backingStore =\n",
       "        this.context.backingStorePixelRatio ||\n",
       "        this.context.webkitBackingStorePixelRatio ||\n",
       "        this.context.mozBackingStorePixelRatio ||\n",
       "        this.context.msBackingStorePixelRatio ||\n",
       "        this.context.oBackingStorePixelRatio ||\n",
       "        this.context.backingStorePixelRatio ||\n",
       "        1;\n",
       "\n",
       "    this.ratio = (window.devicePixelRatio || 1) / backingStore;\n",
       "    if (this.ratio !== 1) {\n",
       "        fig.send_message('set_dpi_ratio', { dpi_ratio: this.ratio });\n",
       "    }\n",
       "\n",
       "    var rubberband_canvas = (this.rubberband_canvas = document.createElement(\n",
       "        'canvas'\n",
       "    ));\n",
       "    rubberband_canvas.setAttribute(\n",
       "        'style',\n",
       "        'box-sizing: content-box; position: absolute; left: 0; top: 0; z-index: 1;'\n",
       "    );\n",
       "\n",
       "    var resizeObserver = new ResizeObserver(function (entries) {\n",
       "        var nentries = entries.length;\n",
       "        for (var i = 0; i < nentries; i++) {\n",
       "            var entry = entries[i];\n",
       "            var width, height;\n",
       "            if (entry.contentBoxSize) {\n",
       "                if (entry.contentBoxSize instanceof Array) {\n",
       "                    // Chrome 84 implements new version of spec.\n",
       "                    width = entry.contentBoxSize[0].inlineSize;\n",
       "                    height = entry.contentBoxSize[0].blockSize;\n",
       "                } else {\n",
       "                    // Firefox implements old version of spec.\n",
       "                    width = entry.contentBoxSize.inlineSize;\n",
       "                    height = entry.contentBoxSize.blockSize;\n",
       "                }\n",
       "            } else {\n",
       "                // Chrome <84 implements even older version of spec.\n",
       "                width = entry.contentRect.width;\n",
       "                height = entry.contentRect.height;\n",
       "            }\n",
       "\n",
       "            // Keep the size of the canvas and rubber band canvas in sync with\n",
       "            // the canvas container.\n",
       "            if (entry.devicePixelContentBoxSize) {\n",
       "                // Chrome 84 implements new version of spec.\n",
       "                canvas.setAttribute(\n",
       "                    'width',\n",
       "                    entry.devicePixelContentBoxSize[0].inlineSize\n",
       "                );\n",
       "                canvas.setAttribute(\n",
       "                    'height',\n",
       "                    entry.devicePixelContentBoxSize[0].blockSize\n",
       "                );\n",
       "            } else {\n",
       "                canvas.setAttribute('width', width * fig.ratio);\n",
       "                canvas.setAttribute('height', height * fig.ratio);\n",
       "            }\n",
       "            canvas.setAttribute(\n",
       "                'style',\n",
       "                'width: ' + width + 'px; height: ' + height + 'px;'\n",
       "            );\n",
       "\n",
       "            rubberband_canvas.setAttribute('width', width);\n",
       "            rubberband_canvas.setAttribute('height', height);\n",
       "\n",
       "            // And update the size in Python. We ignore the initial 0/0 size\n",
       "            // that occurs as the element is placed into the DOM, which should\n",
       "            // otherwise not happen due to the minimum size styling.\n",
       "            if (width != 0 && height != 0) {\n",
       "                fig.request_resize(width, height);\n",
       "            }\n",
       "        }\n",
       "    });\n",
       "    resizeObserver.observe(canvas_div);\n",
       "\n",
       "    function on_mouse_event_closure(name) {\n",
       "        return function (event) {\n",
       "            return fig.mouse_event(event, name);\n",
       "        };\n",
       "    }\n",
       "\n",
       "    rubberband_canvas.addEventListener(\n",
       "        'mousedown',\n",
       "        on_mouse_event_closure('button_press')\n",
       "    );\n",
       "    rubberband_canvas.addEventListener(\n",
       "        'mouseup',\n",
       "        on_mouse_event_closure('button_release')\n",
       "    );\n",
       "    // Throttle sequential mouse events to 1 every 20ms.\n",
       "    rubberband_canvas.addEventListener(\n",
       "        'mousemove',\n",
       "        on_mouse_event_closure('motion_notify')\n",
       "    );\n",
       "\n",
       "    rubberband_canvas.addEventListener(\n",
       "        'mouseenter',\n",
       "        on_mouse_event_closure('figure_enter')\n",
       "    );\n",
       "    rubberband_canvas.addEventListener(\n",
       "        'mouseleave',\n",
       "        on_mouse_event_closure('figure_leave')\n",
       "    );\n",
       "\n",
       "    canvas_div.addEventListener('wheel', function (event) {\n",
       "        if (event.deltaY < 0) {\n",
       "            event.step = 1;\n",
       "        } else {\n",
       "            event.step = -1;\n",
       "        }\n",
       "        on_mouse_event_closure('scroll')(event);\n",
       "    });\n",
       "\n",
       "    canvas_div.appendChild(canvas);\n",
       "    canvas_div.appendChild(rubberband_canvas);\n",
       "\n",
       "    this.rubberband_context = rubberband_canvas.getContext('2d');\n",
       "    this.rubberband_context.strokeStyle = '#000000';\n",
       "\n",
       "    this._resize_canvas = function (width, height, forward) {\n",
       "        if (forward) {\n",
       "            canvas_div.style.width = width + 'px';\n",
       "            canvas_div.style.height = height + 'px';\n",
       "        }\n",
       "    };\n",
       "\n",
       "    // Disable right mouse context menu.\n",
       "    this.rubberband_canvas.addEventListener('contextmenu', function (_e) {\n",
       "        event.preventDefault();\n",
       "        return false;\n",
       "    });\n",
       "\n",
       "    function set_focus() {\n",
       "        canvas.focus();\n",
       "        canvas_div.focus();\n",
       "    }\n",
       "\n",
       "    window.setTimeout(set_focus, 100);\n",
       "};\n",
       "\n",
       "mpl.figure.prototype._init_toolbar = function () {\n",
       "    var fig = this;\n",
       "\n",
       "    var toolbar = document.createElement('div');\n",
       "    toolbar.classList = 'mpl-toolbar';\n",
       "    this.root.appendChild(toolbar);\n",
       "\n",
       "    function on_click_closure(name) {\n",
       "        return function (_event) {\n",
       "            return fig.toolbar_button_onclick(name);\n",
       "        };\n",
       "    }\n",
       "\n",
       "    function on_mouseover_closure(tooltip) {\n",
       "        return function (event) {\n",
       "            if (!event.currentTarget.disabled) {\n",
       "                return fig.toolbar_button_onmouseover(tooltip);\n",
       "            }\n",
       "        };\n",
       "    }\n",
       "\n",
       "    fig.buttons = {};\n",
       "    var buttonGroup = document.createElement('div');\n",
       "    buttonGroup.classList = 'mpl-button-group';\n",
       "    for (var toolbar_ind in mpl.toolbar_items) {\n",
       "        var name = mpl.toolbar_items[toolbar_ind][0];\n",
       "        var tooltip = mpl.toolbar_items[toolbar_ind][1];\n",
       "        var image = mpl.toolbar_items[toolbar_ind][2];\n",
       "        var method_name = mpl.toolbar_items[toolbar_ind][3];\n",
       "\n",
       "        if (!name) {\n",
       "            /* Instead of a spacer, we start a new button group. */\n",
       "            if (buttonGroup.hasChildNodes()) {\n",
       "                toolbar.appendChild(buttonGroup);\n",
       "            }\n",
       "            buttonGroup = document.createElement('div');\n",
       "            buttonGroup.classList = 'mpl-button-group';\n",
       "            continue;\n",
       "        }\n",
       "\n",
       "        var button = (fig.buttons[name] = document.createElement('button'));\n",
       "        button.classList = 'mpl-widget';\n",
       "        button.setAttribute('role', 'button');\n",
       "        button.setAttribute('aria-disabled', 'false');\n",
       "        button.addEventListener('click', on_click_closure(method_name));\n",
       "        button.addEventListener('mouseover', on_mouseover_closure(tooltip));\n",
       "\n",
       "        var icon_img = document.createElement('img');\n",
       "        icon_img.src = '_images/' + image + '.png';\n",
       "        icon_img.srcset = '_images/' + image + '_large.png 2x';\n",
       "        icon_img.alt = tooltip;\n",
       "        button.appendChild(icon_img);\n",
       "\n",
       "        buttonGroup.appendChild(button);\n",
       "    }\n",
       "\n",
       "    if (buttonGroup.hasChildNodes()) {\n",
       "        toolbar.appendChild(buttonGroup);\n",
       "    }\n",
       "\n",
       "    var fmt_picker = document.createElement('select');\n",
       "    fmt_picker.classList = 'mpl-widget';\n",
       "    toolbar.appendChild(fmt_picker);\n",
       "    this.format_dropdown = fmt_picker;\n",
       "\n",
       "    for (var ind in mpl.extensions) {\n",
       "        var fmt = mpl.extensions[ind];\n",
       "        var option = document.createElement('option');\n",
       "        option.selected = fmt === mpl.default_extension;\n",
       "        option.innerHTML = fmt;\n",
       "        fmt_picker.appendChild(option);\n",
       "    }\n",
       "\n",
       "    var status_bar = document.createElement('span');\n",
       "    status_bar.classList = 'mpl-message';\n",
       "    toolbar.appendChild(status_bar);\n",
       "    this.message = status_bar;\n",
       "};\n",
       "\n",
       "mpl.figure.prototype.request_resize = function (x_pixels, y_pixels) {\n",
       "    // Request matplotlib to resize the figure. Matplotlib will then trigger a resize in the client,\n",
       "    // which will in turn request a refresh of the image.\n",
       "    this.send_message('resize', { width: x_pixels, height: y_pixels });\n",
       "};\n",
       "\n",
       "mpl.figure.prototype.send_message = function (type, properties) {\n",
       "    properties['type'] = type;\n",
       "    properties['figure_id'] = this.id;\n",
       "    this.ws.send(JSON.stringify(properties));\n",
       "};\n",
       "\n",
       "mpl.figure.prototype.send_draw_message = function () {\n",
       "    if (!this.waiting) {\n",
       "        this.waiting = true;\n",
       "        this.ws.send(JSON.stringify({ type: 'draw', figure_id: this.id }));\n",
       "    }\n",
       "};\n",
       "\n",
       "mpl.figure.prototype.handle_save = function (fig, _msg) {\n",
       "    var format_dropdown = fig.format_dropdown;\n",
       "    var format = format_dropdown.options[format_dropdown.selectedIndex].value;\n",
       "    fig.ondownload(fig, format);\n",
       "};\n",
       "\n",
       "mpl.figure.prototype.handle_resize = function (fig, msg) {\n",
       "    var size = msg['size'];\n",
       "    if (size[0] !== fig.canvas.width || size[1] !== fig.canvas.height) {\n",
       "        fig._resize_canvas(size[0], size[1], msg['forward']);\n",
       "        fig.send_message('refresh', {});\n",
       "    }\n",
       "};\n",
       "\n",
       "mpl.figure.prototype.handle_rubberband = function (fig, msg) {\n",
       "    var x0 = msg['x0'] / fig.ratio;\n",
       "    var y0 = (fig.canvas.height - msg['y0']) / fig.ratio;\n",
       "    var x1 = msg['x1'] / fig.ratio;\n",
       "    var y1 = (fig.canvas.height - msg['y1']) / fig.ratio;\n",
       "    x0 = Math.floor(x0) + 0.5;\n",
       "    y0 = Math.floor(y0) + 0.5;\n",
       "    x1 = Math.floor(x1) + 0.5;\n",
       "    y1 = Math.floor(y1) + 0.5;\n",
       "    var min_x = Math.min(x0, x1);\n",
       "    var min_y = Math.min(y0, y1);\n",
       "    var width = Math.abs(x1 - x0);\n",
       "    var height = Math.abs(y1 - y0);\n",
       "\n",
       "    fig.rubberband_context.clearRect(\n",
       "        0,\n",
       "        0,\n",
       "        fig.canvas.width / fig.ratio,\n",
       "        fig.canvas.height / fig.ratio\n",
       "    );\n",
       "\n",
       "    fig.rubberband_context.strokeRect(min_x, min_y, width, height);\n",
       "};\n",
       "\n",
       "mpl.figure.prototype.handle_figure_label = function (fig, msg) {\n",
       "    // Updates the figure title.\n",
       "    fig.header.textContent = msg['label'];\n",
       "};\n",
       "\n",
       "mpl.figure.prototype.handle_cursor = function (fig, msg) {\n",
       "    var cursor = msg['cursor'];\n",
       "    switch (cursor) {\n",
       "        case 0:\n",
       "            cursor = 'pointer';\n",
       "            break;\n",
       "        case 1:\n",
       "            cursor = 'default';\n",
       "            break;\n",
       "        case 2:\n",
       "            cursor = 'crosshair';\n",
       "            break;\n",
       "        case 3:\n",
       "            cursor = 'move';\n",
       "            break;\n",
       "    }\n",
       "    fig.rubberband_canvas.style.cursor = cursor;\n",
       "};\n",
       "\n",
       "mpl.figure.prototype.handle_message = function (fig, msg) {\n",
       "    fig.message.textContent = msg['message'];\n",
       "};\n",
       "\n",
       "mpl.figure.prototype.handle_draw = function (fig, _msg) {\n",
       "    // Request the server to send over a new figure.\n",
       "    fig.send_draw_message();\n",
       "};\n",
       "\n",
       "mpl.figure.prototype.handle_image_mode = function (fig, msg) {\n",
       "    fig.image_mode = msg['mode'];\n",
       "};\n",
       "\n",
       "mpl.figure.prototype.handle_history_buttons = function (fig, msg) {\n",
       "    for (var key in msg) {\n",
       "        if (!(key in fig.buttons)) {\n",
       "            continue;\n",
       "        }\n",
       "        fig.buttons[key].disabled = !msg[key];\n",
       "        fig.buttons[key].setAttribute('aria-disabled', !msg[key]);\n",
       "    }\n",
       "};\n",
       "\n",
       "mpl.figure.prototype.handle_navigate_mode = function (fig, msg) {\n",
       "    if (msg['mode'] === 'PAN') {\n",
       "        fig.buttons['Pan'].classList.add('active');\n",
       "        fig.buttons['Zoom'].classList.remove('active');\n",
       "    } else if (msg['mode'] === 'ZOOM') {\n",
       "        fig.buttons['Pan'].classList.remove('active');\n",
       "        fig.buttons['Zoom'].classList.add('active');\n",
       "    } else {\n",
       "        fig.buttons['Pan'].classList.remove('active');\n",
       "        fig.buttons['Zoom'].classList.remove('active');\n",
       "    }\n",
       "};\n",
       "\n",
       "mpl.figure.prototype.updated_canvas_event = function () {\n",
       "    // Called whenever the canvas gets updated.\n",
       "    this.send_message('ack', {});\n",
       "};\n",
       "\n",
       "// A function to construct a web socket function for onmessage handling.\n",
       "// Called in the figure constructor.\n",
       "mpl.figure.prototype._make_on_message_function = function (fig) {\n",
       "    return function socket_on_message(evt) {\n",
       "        if (evt.data instanceof Blob) {\n",
       "            /* FIXME: We get \"Resource interpreted as Image but\n",
       "             * transferred with MIME type text/plain:\" errors on\n",
       "             * Chrome.  But how to set the MIME type?  It doesn't seem\n",
       "             * to be part of the websocket stream */\n",
       "            evt.data.type = 'image/png';\n",
       "\n",
       "            /* Free the memory for the previous frames */\n",
       "            if (fig.imageObj.src) {\n",
       "                (window.URL || window.webkitURL).revokeObjectURL(\n",
       "                    fig.imageObj.src\n",
       "                );\n",
       "            }\n",
       "\n",
       "            fig.imageObj.src = (window.URL || window.webkitURL).createObjectURL(\n",
       "                evt.data\n",
       "            );\n",
       "            fig.updated_canvas_event();\n",
       "            fig.waiting = false;\n",
       "            return;\n",
       "        } else if (\n",
       "            typeof evt.data === 'string' &&\n",
       "            evt.data.slice(0, 21) === 'data:image/png;base64'\n",
       "        ) {\n",
       "            fig.imageObj.src = evt.data;\n",
       "            fig.updated_canvas_event();\n",
       "            fig.waiting = false;\n",
       "            return;\n",
       "        }\n",
       "\n",
       "        var msg = JSON.parse(evt.data);\n",
       "        var msg_type = msg['type'];\n",
       "\n",
       "        // Call the  \"handle_{type}\" callback, which takes\n",
       "        // the figure and JSON message as its only arguments.\n",
       "        try {\n",
       "            var callback = fig['handle_' + msg_type];\n",
       "        } catch (e) {\n",
       "            console.log(\n",
       "                \"No handler for the '\" + msg_type + \"' message type: \",\n",
       "                msg\n",
       "            );\n",
       "            return;\n",
       "        }\n",
       "\n",
       "        if (callback) {\n",
       "            try {\n",
       "                // console.log(\"Handling '\" + msg_type + \"' message: \", msg);\n",
       "                callback(fig, msg);\n",
       "            } catch (e) {\n",
       "                console.log(\n",
       "                    \"Exception inside the 'handler_\" + msg_type + \"' callback:\",\n",
       "                    e,\n",
       "                    e.stack,\n",
       "                    msg\n",
       "                );\n",
       "            }\n",
       "        }\n",
       "    };\n",
       "};\n",
       "\n",
       "// from http://stackoverflow.com/questions/1114465/getting-mouse-location-in-canvas\n",
       "mpl.findpos = function (e) {\n",
       "    //this section is from http://www.quirksmode.org/js/events_properties.html\n",
       "    var targ;\n",
       "    if (!e) {\n",
       "        e = window.event;\n",
       "    }\n",
       "    if (e.target) {\n",
       "        targ = e.target;\n",
       "    } else if (e.srcElement) {\n",
       "        targ = e.srcElement;\n",
       "    }\n",
       "    if (targ.nodeType === 3) {\n",
       "        // defeat Safari bug\n",
       "        targ = targ.parentNode;\n",
       "    }\n",
       "\n",
       "    // pageX,Y are the mouse positions relative to the document\n",
       "    var boundingRect = targ.getBoundingClientRect();\n",
       "    var x = e.pageX - (boundingRect.left + document.body.scrollLeft);\n",
       "    var y = e.pageY - (boundingRect.top + document.body.scrollTop);\n",
       "\n",
       "    return { x: x, y: y };\n",
       "};\n",
       "\n",
       "/*\n",
       " * return a copy of an object with only non-object keys\n",
       " * we need this to avoid circular references\n",
       " * http://stackoverflow.com/a/24161582/3208463\n",
       " */\n",
       "function simpleKeys(original) {\n",
       "    return Object.keys(original).reduce(function (obj, key) {\n",
       "        if (typeof original[key] !== 'object') {\n",
       "            obj[key] = original[key];\n",
       "        }\n",
       "        return obj;\n",
       "    }, {});\n",
       "}\n",
       "\n",
       "mpl.figure.prototype.mouse_event = function (event, name) {\n",
       "    var canvas_pos = mpl.findpos(event);\n",
       "\n",
       "    if (name === 'button_press') {\n",
       "        this.canvas.focus();\n",
       "        this.canvas_div.focus();\n",
       "    }\n",
       "\n",
       "    var x = canvas_pos.x * this.ratio;\n",
       "    var y = canvas_pos.y * this.ratio;\n",
       "\n",
       "    this.send_message(name, {\n",
       "        x: x,\n",
       "        y: y,\n",
       "        button: event.button,\n",
       "        step: event.step,\n",
       "        guiEvent: simpleKeys(event),\n",
       "    });\n",
       "\n",
       "    /* This prevents the web browser from automatically changing to\n",
       "     * the text insertion cursor when the button is pressed.  We want\n",
       "     * to control all of the cursor setting manually through the\n",
       "     * 'cursor' event from matplotlib */\n",
       "    event.preventDefault();\n",
       "    return false;\n",
       "};\n",
       "\n",
       "mpl.figure.prototype._key_event_extra = function (_event, _name) {\n",
       "    // Handle any extra behaviour associated with a key event\n",
       "};\n",
       "\n",
       "mpl.figure.prototype.key_event = function (event, name) {\n",
       "    // Prevent repeat events\n",
       "    if (name === 'key_press') {\n",
       "        if (event.which === this._key) {\n",
       "            return;\n",
       "        } else {\n",
       "            this._key = event.which;\n",
       "        }\n",
       "    }\n",
       "    if (name === 'key_release') {\n",
       "        this._key = null;\n",
       "    }\n",
       "\n",
       "    var value = '';\n",
       "    if (event.ctrlKey && event.which !== 17) {\n",
       "        value += 'ctrl+';\n",
       "    }\n",
       "    if (event.altKey && event.which !== 18) {\n",
       "        value += 'alt+';\n",
       "    }\n",
       "    if (event.shiftKey && event.which !== 16) {\n",
       "        value += 'shift+';\n",
       "    }\n",
       "\n",
       "    value += 'k';\n",
       "    value += event.which.toString();\n",
       "\n",
       "    this._key_event_extra(event, name);\n",
       "\n",
       "    this.send_message(name, { key: value, guiEvent: simpleKeys(event) });\n",
       "    return false;\n",
       "};\n",
       "\n",
       "mpl.figure.prototype.toolbar_button_onclick = function (name) {\n",
       "    if (name === 'download') {\n",
       "        this.handle_save(this, null);\n",
       "    } else {\n",
       "        this.send_message('toolbar_button', { name: name });\n",
       "    }\n",
       "};\n",
       "\n",
       "mpl.figure.prototype.toolbar_button_onmouseover = function (tooltip) {\n",
       "    this.message.textContent = tooltip;\n",
       "};\n",
       "mpl.toolbar_items = [[\"Home\", \"Reset original view\", \"fa fa-home icon-home\", \"home\"], [\"Back\", \"Back to previous view\", \"fa fa-arrow-left icon-arrow-left\", \"back\"], [\"Forward\", \"Forward to next view\", \"fa fa-arrow-right icon-arrow-right\", \"forward\"], [\"\", \"\", \"\", \"\"], [\"Pan\", \"Left button pans, Right button zooms\\nx/y fixes axis, CTRL fixes aspect\", \"fa fa-arrows icon-move\", \"pan\"], [\"Zoom\", \"Zoom to rectangle\\nx/y fixes axis, CTRL fixes aspect\", \"fa fa-square-o icon-check-empty\", \"zoom\"], [\"\", \"\", \"\", \"\"], [\"Download\", \"Download plot\", \"fa fa-floppy-o icon-save\", \"download\"]];\n",
       "\n",
       "mpl.extensions = [\"eps\", \"jpeg\", \"pdf\", \"png\", \"ps\", \"raw\", \"svg\", \"tif\"];\n",
       "\n",
       "mpl.default_extension = \"png\";/* global mpl */\n",
       "\n",
       "var comm_websocket_adapter = function (comm) {\n",
       "    // Create a \"websocket\"-like object which calls the given IPython comm\n",
       "    // object with the appropriate methods. Currently this is a non binary\n",
       "    // socket, so there is still some room for performance tuning.\n",
       "    var ws = {};\n",
       "\n",
       "    ws.close = function () {\n",
       "        comm.close();\n",
       "    };\n",
       "    ws.send = function (m) {\n",
       "        //console.log('sending', m);\n",
       "        comm.send(m);\n",
       "    };\n",
       "    // Register the callback with on_msg.\n",
       "    comm.on_msg(function (msg) {\n",
       "        //console.log('receiving', msg['content']['data'], msg);\n",
       "        // Pass the mpl event to the overridden (by mpl) onmessage function.\n",
       "        ws.onmessage(msg['content']['data']);\n",
       "    });\n",
       "    return ws;\n",
       "};\n",
       "\n",
       "mpl.mpl_figure_comm = function (comm, msg) {\n",
       "    // This is the function which gets called when the mpl process\n",
       "    // starts-up an IPython Comm through the \"matplotlib\" channel.\n",
       "\n",
       "    var id = msg.content.data.id;\n",
       "    // Get hold of the div created by the display call when the Comm\n",
       "    // socket was opened in Python.\n",
       "    var element = document.getElementById(id);\n",
       "    var ws_proxy = comm_websocket_adapter(comm);\n",
       "\n",
       "    function ondownload(figure, _format) {\n",
       "        window.open(figure.canvas.toDataURL());\n",
       "    }\n",
       "\n",
       "    var fig = new mpl.figure(id, ws_proxy, ondownload, element);\n",
       "\n",
       "    // Call onopen now - mpl needs it, as it is assuming we've passed it a real\n",
       "    // web socket which is closed, not our websocket->open comm proxy.\n",
       "    ws_proxy.onopen();\n",
       "\n",
       "    fig.parent_element = element;\n",
       "    fig.cell_info = mpl.find_output_cell(\"<div id='\" + id + \"'></div>\");\n",
       "    if (!fig.cell_info) {\n",
       "        console.error('Failed to find cell for figure', id, fig);\n",
       "        return;\n",
       "    }\n",
       "    fig.cell_info[0].output_area.element.one(\n",
       "        'cleared',\n",
       "        { fig: fig },\n",
       "        fig._remove_fig_handler\n",
       "    );\n",
       "};\n",
       "\n",
       "mpl.figure.prototype.handle_close = function (fig, msg) {\n",
       "    var width = fig.canvas.width / fig.ratio;\n",
       "    fig.cell_info[0].output_area.element.off(\n",
       "        'cleared',\n",
       "        fig._remove_fig_handler\n",
       "    );\n",
       "\n",
       "    // Update the output cell to use the data from the current canvas.\n",
       "    fig.push_to_output();\n",
       "    var dataURL = fig.canvas.toDataURL();\n",
       "    // Re-enable the keyboard manager in IPython - without this line, in FF,\n",
       "    // the notebook keyboard shortcuts fail.\n",
       "    IPython.keyboard_manager.enable();\n",
       "    fig.parent_element.innerHTML =\n",
       "        '<img src=\"' + dataURL + '\" width=\"' + width + '\">';\n",
       "    fig.close_ws(fig, msg);\n",
       "};\n",
       "\n",
       "mpl.figure.prototype.close_ws = function (fig, msg) {\n",
       "    fig.send_message('closing', msg);\n",
       "    // fig.ws.close()\n",
       "};\n",
       "\n",
       "mpl.figure.prototype.push_to_output = function (_remove_interactive) {\n",
       "    // Turn the data on the canvas into data in the output cell.\n",
       "    var width = this.canvas.width / this.ratio;\n",
       "    var dataURL = this.canvas.toDataURL();\n",
       "    this.cell_info[1]['text/html'] =\n",
       "        '<img src=\"' + dataURL + '\" width=\"' + width + '\">';\n",
       "};\n",
       "\n",
       "mpl.figure.prototype.updated_canvas_event = function () {\n",
       "    // Tell IPython that the notebook contents must change.\n",
       "    IPython.notebook.set_dirty(true);\n",
       "    this.send_message('ack', {});\n",
       "    var fig = this;\n",
       "    // Wait a second, then push the new image to the DOM so\n",
       "    // that it is saved nicely (might be nice to debounce this).\n",
       "    setTimeout(function () {\n",
       "        fig.push_to_output();\n",
       "    }, 1000);\n",
       "};\n",
       "\n",
       "mpl.figure.prototype._init_toolbar = function () {\n",
       "    var fig = this;\n",
       "\n",
       "    var toolbar = document.createElement('div');\n",
       "    toolbar.classList = 'btn-toolbar';\n",
       "    this.root.appendChild(toolbar);\n",
       "\n",
       "    function on_click_closure(name) {\n",
       "        return function (_event) {\n",
       "            return fig.toolbar_button_onclick(name);\n",
       "        };\n",
       "    }\n",
       "\n",
       "    function on_mouseover_closure(tooltip) {\n",
       "        return function (event) {\n",
       "            if (!event.currentTarget.disabled) {\n",
       "                return fig.toolbar_button_onmouseover(tooltip);\n",
       "            }\n",
       "        };\n",
       "    }\n",
       "\n",
       "    fig.buttons = {};\n",
       "    var buttonGroup = document.createElement('div');\n",
       "    buttonGroup.classList = 'btn-group';\n",
       "    var button;\n",
       "    for (var toolbar_ind in mpl.toolbar_items) {\n",
       "        var name = mpl.toolbar_items[toolbar_ind][0];\n",
       "        var tooltip = mpl.toolbar_items[toolbar_ind][1];\n",
       "        var image = mpl.toolbar_items[toolbar_ind][2];\n",
       "        var method_name = mpl.toolbar_items[toolbar_ind][3];\n",
       "\n",
       "        if (!name) {\n",
       "            /* Instead of a spacer, we start a new button group. */\n",
       "            if (buttonGroup.hasChildNodes()) {\n",
       "                toolbar.appendChild(buttonGroup);\n",
       "            }\n",
       "            buttonGroup = document.createElement('div');\n",
       "            buttonGroup.classList = 'btn-group';\n",
       "            continue;\n",
       "        }\n",
       "\n",
       "        button = fig.buttons[name] = document.createElement('button');\n",
       "        button.classList = 'btn btn-default';\n",
       "        button.href = '#';\n",
       "        button.title = name;\n",
       "        button.innerHTML = '<i class=\"fa ' + image + ' fa-lg\"></i>';\n",
       "        button.addEventListener('click', on_click_closure(method_name));\n",
       "        button.addEventListener('mouseover', on_mouseover_closure(tooltip));\n",
       "        buttonGroup.appendChild(button);\n",
       "    }\n",
       "\n",
       "    if (buttonGroup.hasChildNodes()) {\n",
       "        toolbar.appendChild(buttonGroup);\n",
       "    }\n",
       "\n",
       "    // Add the status bar.\n",
       "    var status_bar = document.createElement('span');\n",
       "    status_bar.classList = 'mpl-message pull-right';\n",
       "    toolbar.appendChild(status_bar);\n",
       "    this.message = status_bar;\n",
       "\n",
       "    // Add the close button to the window.\n",
       "    var buttongrp = document.createElement('div');\n",
       "    buttongrp.classList = 'btn-group inline pull-right';\n",
       "    button = document.createElement('button');\n",
       "    button.classList = 'btn btn-mini btn-primary';\n",
       "    button.href = '#';\n",
       "    button.title = 'Stop Interaction';\n",
       "    button.innerHTML = '<i class=\"fa fa-power-off icon-remove icon-large\"></i>';\n",
       "    button.addEventListener('click', function (_evt) {\n",
       "        fig.handle_close(fig, {});\n",
       "    });\n",
       "    button.addEventListener(\n",
       "        'mouseover',\n",
       "        on_mouseover_closure('Stop Interaction')\n",
       "    );\n",
       "    buttongrp.appendChild(button);\n",
       "    var titlebar = this.root.querySelector('.ui-dialog-titlebar');\n",
       "    titlebar.insertBefore(buttongrp, titlebar.firstChild);\n",
       "};\n",
       "\n",
       "mpl.figure.prototype._remove_fig_handler = function (event) {\n",
       "    var fig = event.data.fig;\n",
       "    fig.close_ws(fig, {});\n",
       "};\n",
       "\n",
       "mpl.figure.prototype._root_extra_style = function (el) {\n",
       "    el.style.boxSizing = 'content-box'; // override notebook setting of border-box.\n",
       "};\n",
       "\n",
       "mpl.figure.prototype._canvas_extra_style = function (el) {\n",
       "    // this is important to make the div 'focusable\n",
       "    el.setAttribute('tabindex', 0);\n",
       "    // reach out to IPython and tell the keyboard manager to turn it's self\n",
       "    // off when our div gets focus\n",
       "\n",
       "    // location in version 3\n",
       "    if (IPython.notebook.keyboard_manager) {\n",
       "        IPython.notebook.keyboard_manager.register_events(el);\n",
       "    } else {\n",
       "        // location in version 2\n",
       "        IPython.keyboard_manager.register_events(el);\n",
       "    }\n",
       "};\n",
       "\n",
       "mpl.figure.prototype._key_event_extra = function (event, _name) {\n",
       "    var manager = IPython.notebook.keyboard_manager;\n",
       "    if (!manager) {\n",
       "        manager = IPython.keyboard_manager;\n",
       "    }\n",
       "\n",
       "    // Check for shift+enter\n",
       "    if (event.shiftKey && event.which === 13) {\n",
       "        this.canvas_div.blur();\n",
       "        // select the cell after this one\n",
       "        var index = IPython.notebook.find_cell_index(this.cell_info[0]);\n",
       "        IPython.notebook.select(index + 1);\n",
       "    }\n",
       "};\n",
       "\n",
       "mpl.figure.prototype.handle_save = function (fig, _msg) {\n",
       "    fig.ondownload(fig, null);\n",
       "};\n",
       "\n",
       "mpl.find_output_cell = function (html_output) {\n",
       "    // Return the cell and output element which can be found *uniquely* in the notebook.\n",
       "    // Note - this is a bit hacky, but it is done because the \"notebook_saving.Notebook\"\n",
       "    // IPython event is triggered only after the cells have been serialised, which for\n",
       "    // our purposes (turning an active figure into a static one), is too late.\n",
       "    var cells = IPython.notebook.get_cells();\n",
       "    var ncells = cells.length;\n",
       "    for (var i = 0; i < ncells; i++) {\n",
       "        var cell = cells[i];\n",
       "        if (cell.cell_type === 'code') {\n",
       "            for (var j = 0; j < cell.output_area.outputs.length; j++) {\n",
       "                var data = cell.output_area.outputs[j];\n",
       "                if (data.data) {\n",
       "                    // IPython >= 3 moved mimebundle to data attribute of output\n",
       "                    data = data.data;\n",
       "                }\n",
       "                if (data['text/html'] === html_output) {\n",
       "                    return [cell, data, j];\n",
       "                }\n",
       "            }\n",
       "        }\n",
       "    }\n",
       "};\n",
       "\n",
       "// Register the function which deals with the matplotlib target/channel.\n",
       "// The kernel may be null if the page has been refreshed.\n",
       "if (IPython.notebook.kernel !== null) {\n",
       "    IPython.notebook.kernel.comm_manager.register_target(\n",
       "        'matplotlib',\n",
       "        mpl.mpl_figure_comm\n",
       "    );\n",
       "}\n"
      ],
      "text/plain": [
       "<IPython.core.display.Javascript object>"
      ]
     },
     "metadata": {},
     "output_type": "display_data"
    },
    {
     "data": {
      "text/html": [
       "<img src=\"data:image/png;base64,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\" width=\"500\">"
      ],
      "text/plain": [
       "<IPython.core.display.HTML object>"
      ]
     },
     "metadata": {},
     "output_type": "display_data"
    },
    {
     "name": "stdout",
     "output_type": "stream",
     "text": [
      "Starting stress = 0.40609918354208635 Processing...\n",
      "Solution stress = 0.0012821125729462833 Done.\n"
     ]
    }
   ],
   "source": [
    "inverse = create_inverse_button()"
   ]
  },
  {
   "cell_type": "code",
   "execution_count": 21,
   "metadata": {},
   "outputs": [
    {
     "name": "stdout",
     "output_type": "stream",
     "text": [
      "rm: ./testTrainingData/.DS_Store: No such file or directory\r\n"
     ]
    }
   ],
   "source": [
    "! rm ./testTrainingData/.DS_Store"
   ]
  },
  {
   "cell_type": "code",
   "execution_count": null,
   "metadata": {},
   "outputs": [],
   "source": []
  },
  {
   "cell_type": "code",
   "execution_count": null,
   "metadata": {},
   "outputs": [],
   "source": []
  }
 ],
 "metadata": {
  "kernelspec": {
   "display_name": "Python 3",
   "language": "python",
   "name": "python3"
  },
  "language_info": {
   "codemirror_mode": {
    "name": "ipython",
    "version": 3
   },
   "file_extension": ".py",
   "mimetype": "text/x-python",
   "name": "python",
   "nbconvert_exporter": "python",
   "pygments_lexer": "ipython3",
   "version": "3.7.9"
  }
 },
 "nbformat": 4,
 "nbformat_minor": 1
}
